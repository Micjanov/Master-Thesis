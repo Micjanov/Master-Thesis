{
 "cells": [
  {
   "cell_type": "code",
   "execution_count": 3,
   "metadata": {},
   "outputs": [
    {
     "name": "stderr",
     "output_type": "stream",
     "text": [
      "┌ Warning: type InlineStrings.String15 not present in workspace; reconstructing\n",
      "└ @ JLD /home/mfat/.julia/packages/JLD/S6t6A/src/jld_types.jl:697\n",
      "┌ Warning: type InlineStrings.String31 not present in workspace; reconstructing\n",
      "└ @ JLD /home/mfat/.julia/packages/JLD/S6t6A/src/jld_types.jl:697\n"
     ]
    },
    {
     "name": "stderr",
     "output_type": "stream",
     "text": [
      "┌ Warning: type InlineStrings.String31 not present in workspace; reconstructing\n",
      "└ @ JLD /home/mfat/.julia/packages/JLD/S6t6A/src/jld_types.jl:697\n"
     ]
    },
    {
     "data": {
      "text/plain": [
       "Dict{Any, Any} with 11549 entries:\n",
       "  \"UPI000178DD30\" => Bool[0, 1, 0, 0, 0, 0, 0, 1, 1, 1  …  0, 0, 1, 1, 0, 0, 0,…\n",
       "  \"UPI0013EFDC93\" => Bool[1, 1, 1, 0, 1, 0, 0, 0, 0, 0  …  0, 0, 0, 0, 1, 1, 0,…\n",
       "  \"UPI000172D062\" => Bool[1, 0, 0, 0, 0, 1, 1, 0, 1, 1  …  0, 1, 1, 0, 1, 0, 0,…\n",
       "  \"UPI001463ABBB\" => Bool[0, 0, 0, 0, 1, 0, 1, 1, 1, 0  …  1, 0, 1, 0, 1, 1, 1,…\n",
       "  \"UPI000232F56D\" => Bool[0, 0, 1, 0, 0, 0, 1, 0, 1, 0  …  1, 0, 0, 1, 0, 0, 0,…\n",
       "  \"UPI0011625D30\" => Bool[0, 0, 1, 0, 0, 1, 0, 0, 1, 1  …  0, 1, 0, 0, 1, 1, 1,…\n",
       "  \"UPI0009882324\" => Bool[1, 1, 0, 1, 0, 0, 0, 0, 1, 0  …  1, 0, 0, 0, 1, 0, 1,…\n",
       "  \"UPI000CA1D611\" => Bool[1, 0, 1, 0, 0, 0, 1, 0, 0, 0  …  1, 0, 0, 1, 0, 0, 0,…\n",
       "  \"UPI0006BC2F8A\" => Bool[0, 1, 1, 1, 1, 1, 1, 0, 0, 0  …  0, 0, 1, 1, 1, 0, 0,…\n",
       "  \"UPI000BBF7878\" => Bool[0, 1, 1, 1, 0, 1, 1, 1, 1, 1  …  1, 1, 0, 1, 1, 1, 1,…\n",
       "  \"UPI00138B2696\" => Bool[0, 1, 1, 0, 0, 0, 0, 0, 0, 1  …  0, 0, 1, 1, 1, 1, 0,…\n",
       "  \"UPI00025D6AED\" => Bool[1, 0, 0, 0, 0, 0, 0, 1, 0, 0  …  1, 1, 0, 1, 1, 1, 0,…\n",
       "  \"UPI00022BD3A3\" => Bool[1, 0, 1, 0, 0, 0, 0, 0, 1, 1  …  0, 1, 0, 1, 1, 0, 1,…\n",
       "  \"UPI000D22144F\" => Bool[0, 0, 1, 0, 1, 0, 1, 0, 1, 0  …  0, 0, 1, 1, 0, 0, 0,…\n",
       "  \"UPI0010C2D3EE\" => Bool[0, 1, 1, 0, 1, 1, 0, 1, 0, 0  …  0, 0, 1, 0, 1, 1, 1,…\n",
       "  \"UPI0018623B24\" => Bool[0, 1, 0, 0, 1, 0, 1, 1, 1, 0  …  0, 1, 1, 0, 0, 0, 0,…\n",
       "  \"UPI00080F0655\" => Bool[1, 0, 1, 0, 0, 0, 1, 1, 1, 1  …  0, 1, 1, 1, 0, 1, 1,…\n",
       "  \"UPI0008093543\" => Bool[0, 0, 1, 0, 0, 0, 1, 1, 1, 1  …  1, 1, 1, 1, 1, 0, 0,…\n",
       "  \"UPI0014638858\" => Bool[0, 1, 1, 0, 0, 0, 0, 0, 0, 0  …  1, 1, 1, 1, 1, 1, 0,…\n",
       "  ⋮               => ⋮"
      ]
     },
     "metadata": {},
     "output_type": "display_data"
    }
   ],
   "source": [
    "include(\"../src/HDC.jl\")\n",
    "include(\"../src/math.jl\")\n",
    "include(\"../src/experimental.jl\")\n",
    "using JLD\n",
    "\n",
    "phalp_bow_esm = load(\"../data/phalp_bow_esm.jld\")[\"embedded_bow_esm\"]\n",
    "phalp_bow_rand = load(\"../data/phalp_bow_rand.jld\")[\"embedded_rand_bow\"]\n",
    "phalp_cnn_esm = load(\"../data/phalp_CNN_esm.jld\")[\"embedded_CNN_esm\"]\n",
    "upi2doms = load(\"../data/phalp_upi2doms.jld\")[\"upi2doms\"]\n",
    "up2type = load(\"../data/phalp_UP2type.jld\")[\"UP2type\"]\n",
    "domacc2domname = load(\"../data/phalp_domacc2domname.jld\")[\"domacc2domname\"]\n",
    "phalp_cnn_rand = load(\"../data/phalp_cnn_rand.jld\")[\"embedded_rand_CNN\"]\n"
   ]
  },
  {
   "attachments": {},
   "cell_type": "markdown",
   "metadata": {},
   "source": [
    "# Type classifier"
   ]
  },
  {
   "cell_type": "code",
   "execution_count": 4,
   "metadata": {},
   "outputs": [
    {
     "data": {
      "text/plain": [
       "simp_trainer (generic function with 1 method)"
      ]
     },
     "metadata": {},
     "output_type": "display_data"
    }
   ],
   "source": [
    "function simp_trainer(seq_dict, feature_dict)\n",
    "\"\"\"\n",
    "input: dict(names, sequences) and dict(names, class)\n",
    "\"\"\"\n",
    "\n",
    "    inv_fd = Dict()\n",
    "    for k in keys(feature_dict)\n",
    "        if feature_dict[k] in keys(inv_fd)\n",
    "            push!(inv_fd[feature_dict[k]],k)\n",
    "        else\n",
    "            inv_fd[feature_dict[k]] = [k]\n",
    "        end\n",
    "    end\n",
    "\n",
    "    types = collect(keys(inv_fd))\n",
    "\n",
    "    class_hdvs = Dict()\n",
    "    for i in types\n",
    "        names_intr = inv_fd[i]\n",
    "        seq = [seq_dict[n] for n in names_intr]\n",
    "        class_hdvs[i] = bitadd(hcat(seq)...)\n",
    "    end\n",
    "\n",
    "    return class_hdvs\n",
    "end\n"
   ]
  },
  {
   "cell_type": "code",
   "execution_count": 5,
   "metadata": {},
   "outputs": [
    {
     "data": {
      "text/plain": [
       "simp_train2test (generic function with 1 method)"
      ]
     },
     "metadata": {},
     "output_type": "display_data"
    }
   ],
   "source": [
    "function simp_train2test(seq, feature)\n",
    "    \"\"\"\n",
    "    input: dict(names, sequences) and dict(names, class)\n",
    "    \"\"\"\n",
    "        class_hdvs = Dict()\n",
    "        Threads.@threads for i in 1:length(feature)\n",
    "            if feature[i] in keys(class_hdvs)\n",
    "                class_hdvs[feature[i]] = bitadd(class_hdvs[feature[i]], seq[i])\n",
    "            else\n",
    "                class_hdvs[feature[i]] = seq[i]\n",
    "            end\n",
    "        end\n",
    "    \n",
    "        return class_hdvs\n",
    "    end\n",
    "    "
   ]
  },
  {
   "cell_type": "code",
   "execution_count": 6,
   "metadata": {},
   "outputs": [
    {
     "data": {
      "text/plain": [
       "simp_test (generic function with 1 method)"
      ]
     },
     "metadata": {},
     "output_type": "display_data"
    }
   ],
   "source": [
    "using MLDataPattern\n",
    "function simp_test(seq_dict, feature_dict)\n",
    "\"\"\"\n",
    "input: dict(names, sequences) and dict(names, class), output simp_trainer\n",
    "\"\"\"\n",
    "    Keys = [key for (key, val) in feature_dict]\n",
    "    key_seq = [seq_dict[i] for i in Keys]\n",
    "    Values = [val for (key, val) in feature_dict]\n",
    "\n",
    "    (X_train,y_train), (X_test,y_test) = stratifiedobs((key_seq, Values), p = 0.8)\n",
    "    classes = collect(Set(y_test))\n",
    "    n = length(classes)\n",
    "\n",
    "    class_ind = Dict()\n",
    "    Threads.@threads for i in 1:n\n",
    "        class_ind[classes[i]] = i\n",
    "    end\n",
    "\n",
    "    confusion_matrix = zeros(n,n)\n",
    "\n",
    "    class_hdv = simp_train2test(X_train, y_train)\n",
    "\n",
    "    Threads.@threads for i in 1:length(X_test)\n",
    "        for j in classes\n",
    "            simil = 0\n",
    "            new_simil = hamming(X_test[i], class_hdv[j])\n",
    "            if new_simil > simil\n",
    "                simil = new_simil\n",
    "                pred = j\n",
    "            end\n",
    "        confusion_matrix[class_ind[y_test[i]], class_ind[j]] += 1\n",
    "        end\n",
    "    end\n",
    "    return confusion_matrix\n",
    "end"
   ]
  },
  {
   "cell_type": "code",
   "execution_count": 7,
   "metadata": {},
   "outputs": [
    {
     "data": {
      "text/plain": [
       "2×2 Matrix{Float64}:\n",
       " 1581.0  1594.0\n",
       "  672.0   675.0"
      ]
     },
     "metadata": {},
     "output_type": "display_data"
    }
   ],
   "source": [
    "simp_test(phalp_bow_rand, up2type)"
   ]
  },
  {
   "attachments": {},
   "cell_type": "markdown",
   "metadata": {},
   "source": [
    "oof"
   ]
  }
 ],
 "metadata": {
  "kernelspec": {
   "display_name": "Julia 1.8.0",
   "language": "julia",
   "name": "julia-1.8"
  },
  "language_info": {
   "file_extension": ".jl",
   "mimetype": "application/julia",
   "name": "julia",
   "version": "1.8.0"
  },
  "orig_nbformat": 4
 },
 "nbformat": 4,
 "nbformat_minor": 2
}

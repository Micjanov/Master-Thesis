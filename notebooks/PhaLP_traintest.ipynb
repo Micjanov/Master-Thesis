{
 "cells": [
  {
   "cell_type": "code",
   "execution_count": 1,
   "metadata": {},
   "outputs": [
    {
     "name": "stderr",
     "output_type": "stream",
     "text": [
      "┌ Warning: type InlineStrings.String31 not present in workspace; reconstructing\n",
      "└ @ JLD /home/mfat/.julia/packages/JLD/S6t6A/src/jld_types.jl:697\n"
     ]
    },
    {
     "data": {
      "text/plain": [
       "Dict{String, Union{Missing, String}} with 11549 entries:\n",
       "  \"UPI000178DD30\" => \"endolysin\"\n",
       "  \"UPI0013EFDC93\" => \"endolysin\"\n",
       "  \"UPI000172D062\" => \"VAL\"\n",
       "  \"UPI001463ABBB\" => \"endolysin\"\n",
       "  \"UPI000232F56D\" => \"endolysin\"\n",
       "  \"UPI0011625D30\" => \"VAL\"\n",
       "  \"UPI0009882324\" => \"endolysin\"\n",
       "  \"UPI000CA1D611\" => \"VAL\"\n",
       "  \"UPI0006BC2F8A\" => \"endolysin\"\n",
       "  \"UPI000BBF7878\" => \"endolysin\"\n",
       "  \"UPI00138B2696\" => \"endolysin\"\n",
       "  \"UPI00025D6AED\" => \"endolysin\"\n",
       "  \"UPI0010C2D3EE\" => \"endolysin\"\n",
       "  \"UPI000D22144F\" => \"VAL\"\n",
       "  \"UPI0018623B24\" => \"endolysin\"\n",
       "  \"UPI00080F0655\" => \"endolysin\"\n",
       "  \"UPI00022BD3A3\" => \"endolysin\"\n",
       "  \"UPI0008093543\" => \"endolysin\"\n",
       "  \"UPI001463E938\" => \"VAL\"\n",
       "  ⋮               => ⋮"
      ]
     },
     "metadata": {},
     "output_type": "display_data"
    }
   ],
   "source": [
    "include(\"../src/HDC.jl\")\n",
    "include(\"../src/math.jl\")\n",
    "include(\"../src/experimental.jl\")\n",
    "using JLD\n",
    "\n",
    "phalp_bow_esm = load(\"../data/phalp_bow_esm.jld\")[\"embedded_bow_esm\"]\n",
    "phalp_bow_rand = load(\"../data/phalp_bow_rand.jld\")[\"embedded_rand_bow\"]\n",
    "phalp_cnn_esm = load(\"../data/phalp_CNN_esm.jld\")[\"embedded_CNN_esm\"]\n",
    "upi2doms = load(\"../data/phalp_upi2doms.jld\")[\"upi2doms\"]\n",
    "domacc2domname = load(\"../data/phalp_domacc2domname.jld\")[\"domacc2domname\"]\n",
    "phalp_cnn_rand = load(\"../data/phalp_cnn_rand.jld\")[\"embedded_rand_CNN\"]\n",
    "non_ml = load(\"../data/phalp_non_ml.jld\")[\"up_evd_type\"]\n",
    "ml_pred = load(\"../data/phalp_ml.jld\")[\"up_evd_type_ML\"]\n",
    "up2type = load(\"../data/phalp_type.jld\")[\"up2type\"]\n"
   ]
  },
  {
   "cell_type": "code",
   "execution_count": 2,
   "metadata": {},
   "outputs": [
    {
     "data": {
      "text/plain": [
       "Dict{String, Union{Missing, String}} with 2803 entries:\n",
       "  \"UPI000178DD30\" => \"endolysin\"\n",
       "  \"UPI0012B4B15F\" => \"endolysin\"\n",
       "  \"UPI0013EFDC93\" => \"endolysin\"\n",
       "  \"UPI000201BE9F\" => \"endolysin\"\n",
       "  \"UPI000232F56D\" => \"endolysin\"\n",
       "  \"UPI000DF0A1E1\" => \"endolysin\"\n",
       "  \"UPI00138B2696\" => \"endolysin\"\n",
       "  \"UPI000012EA4B\" => \"endolysin\"\n",
       "  \"UPI000178C353\" => \"endolysin\"\n",
       "  \"UPI001436E76F\" => \"endolysin\"\n",
       "  \"UPI000F6BA7D8\" => \"endolysin\"\n",
       "  \"UPI00001A38F6\" => \"endolysin\"\n",
       "  \"UPI00001A9BAB\" => \"endolysin\"\n",
       "  \"UPI001435C02C\" => \"endolysin\"\n",
       "  \"UPI0010B96635\" => \"endolysin\"\n",
       "  \"UPI0015F22725\" => \"endolysin\"\n",
       "  \"UPI000D7DCFA8\" => \"endolysin\"\n",
       "  \"UPI0010B8D78B\" => \"endolysin\"\n",
       "  \"UPI000EB70E47\" => \"endolysin\"\n",
       "  ⋮               => ⋮"
      ]
     },
     "metadata": {},
     "output_type": "display_data"
    }
   ],
   "source": [
    "new = filter(x -> (first(x) in collect(keys(non_ml))), up2type)\n",
    "val = filter(x -> (last(x) == \"VAL\"), new)\n",
    "endo = filter(x -> (last(x) == \"endolysin\"), new)"
   ]
  },
  {
   "attachments": {},
   "cell_type": "markdown",
   "metadata": {},
   "source": [
    "# Type classifier"
   ]
  },
  {
   "attachments": {},
   "cell_type": "markdown",
   "metadata": {},
   "source": [
    "## Purely hyperdimensional\n",
    "\n",
    "Bad... convolutional embeddings of random hdvs seem to perform even worse weirdly enough"
   ]
  },
  {
   "cell_type": "code",
   "execution_count": 3,
   "metadata": {},
   "outputs": [
    {
     "data": {
      "text/plain": [
       "type_classifier (generic function with 1 method)"
      ]
     },
     "metadata": {},
     "output_type": "display_data"
    }
   ],
   "source": [
    "using MLDataPattern\n",
    "using DataFrames\n",
    "\n",
    "function type_classifier(embeddings)\n",
    "    f1 = 0\n",
    "    Threads.@threads for i in 1:50\n",
    "        Keys = [key for (key, val) in new]\n",
    "        key_seq = [embeddings[i] for i in Keys] # change mebeddings here\n",
    "        Values = [val for (key, val) in new]\n",
    "\n",
    "        (X_train, y_train), (X_test, y_test)  = stratifiedobs((key_seq, Values))\n",
    "\n",
    "        train = DataFrame(hdv = X_train, type = y_train)\n",
    "        test = DataFrame(hdv = X_test, type = y_test)\n",
    "\n",
    "        val_hdv = bitadd(train[train.type .== \"VAL\", \"hdv\"]...)\n",
    "        endo_hdv = bitadd(train[train.type .== \"endolysin\", \"hdv\"]...)\n",
    "\n",
    "        confusion_matrix = zeros(2,2) # columns = real endo and real VAL, rows = predicted endo and predicted VAL\n",
    "\n",
    "        Threads.@threads for i in 1:length(y_test)\n",
    "            endo_sim = hamming(test.hdv[i], endo_hdv)\n",
    "            val_sim = hamming(test.hdv[i], val_hdv)\n",
    "            if endo_sim > val_sim\n",
    "                if test.type[i] == \"endolysin\"\n",
    "                    confusion_matrix[1,1] += 1\n",
    "                else\n",
    "                    confusion_matrix[2,1] += 1\n",
    "                end\n",
    "            else\n",
    "                if test.type[i] == \"VAL\"\n",
    "                    confusion_matrix[2,2] += 1\n",
    "                else\n",
    "                    confusion_matrix[1,2] += 1\n",
    "                end\n",
    "            end\n",
    "        end\n",
    "\n",
    "        prec = confusion_matrix[1,1]/(confusion_matrix[1,1] + confusion_matrix[1,2])\n",
    "        recall = confusion_matrix[1,1]/(confusion_matrix[1,1] + confusion_matrix[2,1])\n",
    "\n",
    "        f1 += 2 * (prec*recall)/(prec+recall)\n",
    "    end\n",
    "\n",
    "    return f1/50\n",
    "end"
   ]
  },
  {
   "cell_type": "code",
   "execution_count": 4,
   "metadata": {},
   "outputs": [
    {
     "name": "stdout",
     "output_type": "stream",
     "text": [
      "0.13902353532694728\n"
     ]
    },
    {
     "name": "stdout",
     "output_type": "stream",
     "text": [
      "0.1525937736396466\n"
     ]
    },
    {
     "name": "stdout",
     "output_type": "stream",
     "text": [
      "0.09598247702826664\n"
     ]
    },
    {
     "name": "stdout",
     "output_type": "stream",
     "text": [
      "0.14971362988002368\n"
     ]
    }
   ],
   "source": [
    "println(type_classifier(phalp_bow_rand))\n",
    "println(type_classifier(phalp_bow_esm))\n",
    "println(type_classifier(phalp_cnn_rand))\n",
    "println(type_classifier(phalp_cnn_esm))"
   ]
  },
  {
   "attachments": {},
   "cell_type": "markdown",
   "metadata": {},
   "source": [
    "## XGBoost with hdv embeddings"
   ]
  },
  {
   "cell_type": "code",
   "execution_count": 51,
   "metadata": {},
   "outputs": [
    {
     "name": "stdout",
     "output_type": "stream",
     "text": [
      "import MLJDecisionTreeInterface ✔\n"
     ]
    },
    {
     "name": "stderr",
     "output_type": "stream",
     "text": [
      "┌ Info: For silent loading, specify `verbosity=0`. \n",
      "└ @ Main /home/mfat/.julia/packages/MLJModels/OJDDo/src/loading.jl:159\n"
     ]
    },
    {
     "name": "stderr",
     "output_type": "stream",
     "text": [
      "┌ Warning: The number and/or types of data arguments do not match what the specified model\n",
      "│ supports. Suppress this type check by specifying `scitype_check_level=0`.\n",
      "│ \n",
      "│ Run `@doc DecisionTree.DecisionTreeClassifier` to learn more about your model's requirements.\n",
      "│ \n",
      "│ Commonly, but non exclusively, supervised models are constructed using the syntax\n",
      "│ `machine(model, X, y)` or `machine(model, X, y, w)` while most other models are\n",
      "│ constructed with `machine(model, X)`.  Here `X` are features, `y` a target, and `w`\n",
      "│ sample or class weights.\n",
      "│ \n",
      "│ In general, data in `machine(model, data...)` is expected to satisfy\n",
      "│ \n",
      "│     scitype(data) <: MLJ.fit_data_scitype(model)\n",
      "│ \n",
      "│ In the present case:\n",
      "│ \n",
      "│ scitype(data) = Tuple{Table{AbstractVector{Count}}, AbstractVector{Count}}\n",
      "│ \n",
      "│ fit_data_scitype(model) = Tuple{Table{<:Union{AbstractVector{<:Continuous}, AbstractVector{<:Count}, AbstractVector{<:OrderedFactor}}}, AbstractVector{<:Finite}}\n",
      "└ @ MLJBase /home/mfat/.julia/packages/MLJBase/WKVEo/src/machines.jl:230\n"
     ]
    },
    {
     "data": {
      "text/plain": [
       "untrained Machine; caches model-specific representations of data\n",
       "  model: DecisionTreeClassifier(max_depth = -1, …)\n",
       "  args: \n",
       "    1:\tSource @813 ⏎ Table{AbstractVector{Count}}\n",
       "    2:\tSource @979 ⏎ AbstractVector{Count}\n"
      ]
     },
     "metadata": {},
     "output_type": "display_data"
    }
   ],
   "source": [
    "using MLJ\n",
    "using MLDataPattern\n",
    "using DataFrames\n",
    "using MLJXGBoostInterface\n",
    "\n",
    "function xgbooster(embeddings)\n",
    "    Keys = [key for (key, val) in new]\n",
    "    key_seq = nested_arrays2mat([embeddings[i] for i in Keys], true) # change emebeddings here\n",
    "    Values = [val for (key, val) in new]\n",
    "    Values = [i == \"VAL\" ? 0 : 1 for i in Values]\n",
    "\n",
    "    data = DataFrame(Int.(key_seq), :auto)\n",
    "    data = insertcols!(data, 1, :type => Values) \n",
    "\n",
    "    y, X = unpack(data, ==(:type))\n",
    "\n",
    "    train, test = partition(eachindex(y), 0.8, shuffle=true)\n",
    "    Tree = MLJ.@load XGBoostClassifier\n",
    "    tree = Tree()\n",
    "    mach = machine(tree, X, y, scitype_check_level=0)\n",
    "\n",
    "\n",
    "end\n",
    "\n",
    "xgbooster(phalp_bow_rand)"
   ]
  },
  {
   "cell_type": "code",
   "execution_count": 46,
   "metadata": {},
   "outputs": [
    {
     "data": {
      "text/plain": [
       "┌───────┬──────────┬────────┐\n",
       "│\u001b[22m names \u001b[0m│\u001b[22m scitypes \u001b[0m│\u001b[22m types  \u001b[0m│\n",
       "├───────┼──────────┼────────┤\n",
       "│ type  │ Textual  │ String │\n",
       "│ x1    │ Count    │ Int64  │\n",
       "│ x2    │ Count    │ Int64  │\n",
       "│ x3    │ Count    │ Int64  │\n",
       "│ x4    │ Count    │ Int64  │\n",
       "│ x5    │ Count    │ Int64  │\n",
       "│ x6    │ Count    │ Int64  │\n",
       "│ x7    │ Count    │ Int64  │\n",
       "│ x8    │ Count    │ Int64  │\n",
       "│ x9    │ Count    │ Int64  │\n",
       "│ x10   │ Count    │ Int64  │\n",
       "│ x11   │ Count    │ Int64  │\n",
       "│ x12   │ Count    │ Int64  │\n",
       "│ x13   │ Count    │ Int64  │\n",
       "│ x14   │ Count    │ Int64  │\n",
       "│ x15   │ Count    │ Int64  │\n",
       "│   ⋮   │    ⋮     │   ⋮    │\n",
       "└───────┴──────────┴────────┘\n",
       "\u001b[36m            9985 rows omitted\u001b[0m\n"
      ]
     },
     "metadata": {},
     "output_type": "display_data"
    }
   ],
   "source": [
    "Keys = [key for (key, val) in new]\n",
    "key_seq = nested_arrays2mat([phalp_bow_rand[i] for i in Keys], true) # change emebeddings here\n",
    "Values = [val for (key, val) in new]\n",
    "data = DataFrame(Int.(key_seq), :auto)\n",
    "data = insertcols!(data, 1, :type => Values)\n",
    "\n",
    "y, X = unpack(data, ==(:type), colname -> true)\n",
    "\n",
    "MLJ.schema(data)\n"
   ]
  },
  {
   "attachments": {},
   "cell_type": "markdown",
   "metadata": {},
   "source": [
    "# Domain classifier"
   ]
  }
 ],
 "metadata": {
  "kernelspec": {
   "display_name": "Julia 1.8.0",
   "language": "julia",
   "name": "julia-1.8"
  },
  "language_info": {
   "file_extension": ".jl",
   "mimetype": "application/julia",
   "name": "julia",
   "version": "1.8.0"
  },
  "orig_nbformat": 4
 },
 "nbformat": 4,
 "nbformat_minor": 2
}

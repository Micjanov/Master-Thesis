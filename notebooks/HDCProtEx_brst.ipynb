{
 "cells": [
  {
   "cell_type": "markdown",
   "metadata": {},
   "source": [
    "https://www.kaggle.com/datasets/anuragupadhyaya/anticancer-peptides-data-set"
   ]
  },
  {
   "cell_type": "code",
   "execution_count": 118,
   "metadata": {},
   "outputs": [
    {
     "data": {
      "text/plain": [
       "hamming"
      ]
     },
     "execution_count": 118,
     "metadata": {},
     "output_type": "execute_result"
    }
   ],
   "source": [
    "using Random\n",
    "\n",
    "\"\"\"\n",
    "Construct a binary vector. By default 10000 elements long.\n",
    "\"\"\"\n",
    "bitHDV(N::Int=10000) = bitrand(N)\n",
    "\n",
    "\n",
    "\"\"\"\n",
    "Bundles binary hyperdimensional vectors based on the element-wise majority rule.\n",
    "\"\"\"\n",
    "function bitadd(vectors::BitVector ...)\n",
    "    v = reduce(.+, vectors)\n",
    "    n = length(vectors) / 2\n",
    "    x = [i > n ? 1 : i < n ? 0 : rand(0:1) for i in v]\n",
    "    return convert(BitVector, x)\n",
    "end\n",
    "\n",
    "\n",
    "\"\"\"\n",
    "Binds binary hyperdimensional vectors based on an element-wise XOR gate.\n",
    "\"\"\"\n",
    "bitbind(vectors::BitVector ...) =  reduce(.⊻, vectors)\n",
    "\n",
    "\n",
    "\"\"\"\n",
    "Permutes a binary hyperdimensional vector by an adjustable circular shift.\n",
    "\"\"\"\n",
    "bitperm(vector::BitVector, k::Int=1) = circshift(vector, k)\n",
    "\n",
    "\n",
    "\"\"\"\n",
    "Calculates the Hamming distance between two binary vectors.\n",
    "\"\"\"\n",
    "hamming(x::BitVector, y::BitVector) = sum(x .!= y)/length(x)"
   ]
  },
  {
   "cell_type": "markdown",
   "metadata": {},
   "source": [
    "Data contains sequences of four classes: very active in anticancer acitivity, moderately active, inactive (exp) and inactive (virtual) (difference?)"
   ]
  },
  {
   "cell_type": "code",
   "execution_count": 119,
   "metadata": {},
   "outputs": [
    {
     "data": {
      "text/html": [
       "<div class=\"data-frame\"><p>947 rows × 3 columns</p><table class=\"data-frame\"><thead><tr><th></th><th>ID</th><th>sequence</th><th>class</th></tr><tr><th></th><th title=\"Int64\">Int64</th><th title=\"String\">String</th><th title=\"String31\">String31</th></tr></thead><tbody><tr><th>1</th><td>1</td><td>AAWKWAWAKKWAKAKKWAKAA</td><td>mod. active</td></tr><tr><th>2</th><td>2</td><td>AIGKFLHSAKKFGKAFVGEIMNS</td><td>mod. active</td></tr><tr><th>3</th><td>3</td><td>AWKKWAKAWKWAKAKWWAKAA</td><td>mod. active</td></tr><tr><th>4</th><td>4</td><td>ESFSDWWKLLAE</td><td>mod. active</td></tr><tr><th>5</th><td>5</td><td>ETFADWWKLLAE</td><td>mod. active</td></tr><tr><th>6</th><td>6</td><td>ETFSDWWKLLAE</td><td>mod. active</td></tr><tr><th>7</th><td>7</td><td>FAKALAKLAKKLL</td><td>mod. active</td></tr><tr><th>8</th><td>8</td><td>FAKALKALLKALKAL</td><td>inactive - exp</td></tr><tr><th>9</th><td>9</td><td>FAKFLAKFLKKAL</td><td>mod. active</td></tr><tr><th>10</th><td>10</td><td>FAKIIAKIAKIAKKIL</td><td>inactive - exp</td></tr><tr><th>11</th><td>11</td><td>FAKKALKALKKL</td><td>inactive - exp</td></tr><tr><th>12</th><td>12</td><td>FAKKFAKKFKKFAKKFAKFAFAF</td><td>mod. active</td></tr><tr><th>13</th><td>13</td><td>FAKKLAKKLAKAAL</td><td>inactive - exp</td></tr><tr><th>14</th><td>14</td><td>FAKKLAKKLAKAL</td><td>inactive - exp</td></tr><tr><th>15</th><td>15</td><td>FAKKLAKKLAKLAL</td><td>inactive - exp</td></tr><tr><th>16</th><td>16</td><td>FAKKLAKKLAKLL</td><td>mod. active</td></tr><tr><th>17</th><td>17</td><td>FAKKLAKKLKKLAKKLAK</td><td>inactive - exp</td></tr><tr><th>18</th><td>18</td><td>FAKKLAKKLKKLAKKLAKKWKL</td><td>mod. active</td></tr><tr><th>19</th><td>19</td><td>FAKKLAKKLKKLAKKLAKLAKKL</td><td>mod. active</td></tr><tr><th>20</th><td>20</td><td>FAKKLAKKLKKLAKKLAKLALALKALALKAL</td><td>mod. active</td></tr><tr><th>21</th><td>21</td><td>FAKKLAKKLKKLAKKLIGAVLKV</td><td>mod. active</td></tr><tr><th>22</th><td>22</td><td>FAKKLAKKLKKLAKLALAK</td><td>mod. active</td></tr><tr><th>23</th><td>23</td><td>FAKKLAKKLKKLAKLALAL</td><td>inactive - exp</td></tr><tr><th>24</th><td>24</td><td>FAKKLAKKLL</td><td>mod. active</td></tr><tr><th>25</th><td>25</td><td>FAKKLAKLAKKALAL</td><td>inactive - exp</td></tr><tr><th>26</th><td>26</td><td>FAKKLAKLAKKL</td><td>inactive - exp</td></tr><tr><th>27</th><td>27</td><td>FAKKLAKLAKKLAKLAL</td><td>very active</td></tr><tr><th>28</th><td>28</td><td>FAKKLAKLAKKLAKLALAL</td><td>very active</td></tr><tr><th>29</th><td>29</td><td>FAKKLAKLAKKLLAL</td><td>mod. active</td></tr><tr><th>30</th><td>30</td><td>FAKKLAKLALKLAKL</td><td>inactive - exp</td></tr><tr><th>&vellip;</th><td>&vellip;</td><td>&vellip;</td><td>&vellip;</td></tr></tbody></table></div>"
      ],
      "text/latex": [
       "\\begin{tabular}{r|ccc}\n",
       "\t& ID & sequence & class\\\\\n",
       "\t\\hline\n",
       "\t& Int64 & String & String31\\\\\n",
       "\t\\hline\n",
       "\t1 & 1 & AAWKWAWAKKWAKAKKWAKAA & mod. active \\\\\n",
       "\t2 & 2 & AIGKFLHSAKKFGKAFVGEIMNS & mod. active \\\\\n",
       "\t3 & 3 & AWKKWAKAWKWAKAKWWAKAA & mod. active \\\\\n",
       "\t4 & 4 & ESFSDWWKLLAE & mod. active \\\\\n",
       "\t5 & 5 & ETFADWWKLLAE & mod. active \\\\\n",
       "\t6 & 6 & ETFSDWWKLLAE & mod. active \\\\\n",
       "\t7 & 7 & FAKALAKLAKKLL & mod. active \\\\\n",
       "\t8 & 8 & FAKALKALLKALKAL & inactive - exp \\\\\n",
       "\t9 & 9 & FAKFLAKFLKKAL & mod. active \\\\\n",
       "\t10 & 10 & FAKIIAKIAKIAKKIL & inactive - exp \\\\\n",
       "\t11 & 11 & FAKKALKALKKL & inactive - exp \\\\\n",
       "\t12 & 12 & FAKKFAKKFKKFAKKFAKFAFAF & mod. active \\\\\n",
       "\t13 & 13 & FAKKLAKKLAKAAL & inactive - exp \\\\\n",
       "\t14 & 14 & FAKKLAKKLAKAL & inactive - exp \\\\\n",
       "\t15 & 15 & FAKKLAKKLAKLAL & inactive - exp \\\\\n",
       "\t16 & 16 & FAKKLAKKLAKLL & mod. active \\\\\n",
       "\t17 & 17 & FAKKLAKKLKKLAKKLAK & inactive - exp \\\\\n",
       "\t18 & 18 & FAKKLAKKLKKLAKKLAKKWKL & mod. active \\\\\n",
       "\t19 & 19 & FAKKLAKKLKKLAKKLAKLAKKL & mod. active \\\\\n",
       "\t20 & 20 & FAKKLAKKLKKLAKKLAKLALALKALALKAL & mod. active \\\\\n",
       "\t21 & 21 & FAKKLAKKLKKLAKKLIGAVLKV & mod. active \\\\\n",
       "\t22 & 22 & FAKKLAKKLKKLAKLALAK & mod. active \\\\\n",
       "\t23 & 23 & FAKKLAKKLKKLAKLALAL & inactive - exp \\\\\n",
       "\t24 & 24 & FAKKLAKKLL & mod. active \\\\\n",
       "\t25 & 25 & FAKKLAKLAKKALAL & inactive - exp \\\\\n",
       "\t26 & 26 & FAKKLAKLAKKL & inactive - exp \\\\\n",
       "\t27 & 27 & FAKKLAKLAKKLAKLAL & very active \\\\\n",
       "\t28 & 28 & FAKKLAKLAKKLAKLALAL & very active \\\\\n",
       "\t29 & 29 & FAKKLAKLAKKLLAL & mod. active \\\\\n",
       "\t30 & 30 & FAKKLAKLALKLAKL & inactive - exp \\\\\n",
       "\t$\\dots$ & $\\dots$ & $\\dots$ & $\\dots$ \\\\\n",
       "\\end{tabular}\n"
      ],
      "text/plain": [
       "\u001b[1m947×3 DataFrame\u001b[0m\n",
       "\u001b[1m Row \u001b[0m│\u001b[1m ID    \u001b[0m\u001b[1m sequence                 \u001b[0m\u001b[1m class              \u001b[0m\n",
       "\u001b[1m     \u001b[0m│\u001b[90m Int64 \u001b[0m\u001b[90m String                   \u001b[0m\u001b[90m String31           \u001b[0m\n",
       "─────┼─────────────────────────────────────────────────────\n",
       "   1 │     1  AAWKWAWAKKWAKAKKWAKAA     mod. active\n",
       "   2 │     2  AIGKFLHSAKKFGKAFVGEIMNS   mod. active\n",
       "   3 │     3  AWKKWAKAWKWAKAKWWAKAA     mod. active\n",
       "   4 │     4  ESFSDWWKLLAE              mod. active\n",
       "   5 │     5  ETFADWWKLLAE              mod. active\n",
       "   6 │     6  ETFSDWWKLLAE              mod. active\n",
       "   7 │     7  FAKALAKLAKKLL             mod. active\n",
       "   8 │     8  FAKALKALLKALKAL           inactive - exp\n",
       "   9 │     9  FAKFLAKFLKKAL             mod. active\n",
       "  10 │    10  FAKIIAKIAKIAKKIL          inactive - exp\n",
       "  11 │    11  FAKKALKALKKL              inactive - exp\n",
       "  ⋮  │   ⋮               ⋮                      ⋮\n",
       " 938 │   940  YFSKGIPNVLRR              inactive - virtual\n",
       " 939 │   941  YGSIGLTNFGYLDKE           inactive - virtual\n",
       " 940 │   942  YKEPLKAVVKKLLEKE          inactive - virtual\n",
       " 941 │   943  YKKFRQLIQVN               inactive - virtual\n",
       " 942 │   944  YLADLFLAPQIHGAINRFQ       inactive - virtual\n",
       " 943 │   945  YLDKEVKLIKKMGNHLTNLRRVA   inactive - virtual\n",
       " 944 │   946  YLSESVETIKKLGDHITSLKKLW   inactive - virtual\n",
       " 945 │   947  YPIVDAAMRQLTETG           inactive - virtual\n",
       " 946 │   948  YQNIVKAVQYAARKLQ          inactive - virtual\n",
       " 947 │   949  YQQQKKYLGRMTE             inactive - virtual\n",
       "\u001b[36m                                           926 rows omitted\u001b[0m"
      ]
     },
     "execution_count": 119,
     "metadata": {},
     "output_type": "execute_result"
    }
   ],
   "source": [
    "using DataFrames, CSV\n",
    "data = CSV.read(\"ProtExdata/ACPs_Breast_cancer.csv\", DataFrame)"
   ]
  },
  {
   "cell_type": "code",
   "execution_count": 120,
   "metadata": {},
   "outputs": [
    {
     "data": {
      "text/html": [
       "<div class=\"data-frame\"><p>5 rows × 4 columns</p><table class=\"data-frame\"><thead><tr><th></th><th>ID</th><th>sequence</th><th>class</th><th>class_num</th></tr><tr><th></th><th title=\"Int64\">Int64</th><th title=\"String\">String</th><th title=\"String31\">String31</th><th title=\"Int64\">Int64</th></tr></thead><tbody><tr><th>1</th><td>1</td><td>AAWKWAWAKKWAKAKKWAKAA</td><td>mod. active</td><td>2</td></tr><tr><th>2</th><td>2</td><td>AIGKFLHSAKKFGKAFVGEIMNS</td><td>mod. active</td><td>2</td></tr><tr><th>3</th><td>3</td><td>AWKKWAKAWKWAKAKWWAKAA</td><td>mod. active</td><td>2</td></tr><tr><th>4</th><td>4</td><td>ESFSDWWKLLAE</td><td>mod. active</td><td>2</td></tr><tr><th>5</th><td>5</td><td>ETFADWWKLLAE</td><td>mod. active</td><td>2</td></tr></tbody></table></div>"
      ],
      "text/latex": [
       "\\begin{tabular}{r|cccc}\n",
       "\t& ID & sequence & class & class\\_num\\\\\n",
       "\t\\hline\n",
       "\t& Int64 & String & String31 & Int64\\\\\n",
       "\t\\hline\n",
       "\t1 & 1 & AAWKWAWAKKWAKAKKWAKAA & mod. active & 2 \\\\\n",
       "\t2 & 2 & AIGKFLHSAKKFGKAFVGEIMNS & mod. active & 2 \\\\\n",
       "\t3 & 3 & AWKKWAKAWKWAKAKWWAKAA & mod. active & 2 \\\\\n",
       "\t4 & 4 & ESFSDWWKLLAE & mod. active & 2 \\\\\n",
       "\t5 & 5 & ETFADWWKLLAE & mod. active & 2 \\\\\n",
       "\\end{tabular}\n"
      ],
      "text/plain": [
       "\u001b[1m5×4 DataFrame\u001b[0m\n",
       "\u001b[1m Row \u001b[0m│\u001b[1m ID    \u001b[0m\u001b[1m sequence                \u001b[0m\u001b[1m class       \u001b[0m\u001b[1m class_num \u001b[0m\n",
       "\u001b[1m     \u001b[0m│\u001b[90m Int64 \u001b[0m\u001b[90m String                  \u001b[0m\u001b[90m String31    \u001b[0m\u001b[90m Int64     \u001b[0m\n",
       "─────┼────────────────────────────────────────────────────────\n",
       "   1 │     1  AAWKWAWAKKWAKAKKWAKAA    mod. active          2\n",
       "   2 │     2  AIGKFLHSAKKFGKAFVGEIMNS  mod. active          2\n",
       "   3 │     3  AWKKWAKAWKWAKAKWWAKAA    mod. active          2\n",
       "   4 │     4  ESFSDWWKLLAE             mod. active          2\n",
       "   5 │     5  ETFADWWKLLAE             mod. active          2"
      ]
     },
     "execution_count": 120,
     "metadata": {},
     "output_type": "execute_result"
    }
   ],
   "source": [
    "unique(data.class)\n",
    "class_num = [i == \"very active\" ? 1 : i == \"mod. active\" ? 2 : i == \"inactive - exp\" ? 3 : 4 for i in data.class]\n",
    "data[!, :class_num] = class_num\n",
    "data = data[data.class_num .!= 4, :]\n",
    "first(data, 5)"
   ]
  },
  {
   "cell_type": "markdown",
   "metadata": {},
   "source": [
    "Attach to each amino acid a random hdv (improvement should be seen in more realistic representations, hdvs from embeddings)"
   ]
  },
  {
   "cell_type": "code",
   "execution_count": 121,
   "metadata": {},
   "outputs": [
    {
     "data": {
      "text/plain": [
       "Dict{Char, BitVector} with 26 entries:\n",
       "  'E' => [1, 1, 1, 1, 0, 1, 0, 0, 1, 0  …  1, 0, 1, 0, 1, 1, 0, 1, 0, 1]\n",
       "  'Z' => [1, 0, 0, 1, 0, 0, 1, 1, 0, 1  …  0, 1, 0, 0, 0, 1, 0, 1, 0, 0]\n",
       "  'X' => [0, 1, 0, 0, 1, 1, 1, 1, 1, 1  …  0, 0, 0, 0, 0, 0, 1, 1, 1, 1]\n",
       "  'C' => [1, 1, 0, 1, 0, 1, 1, 0, 0, 0  …  0, 0, 0, 0, 1, 1, 0, 0, 1, 0]\n",
       "  'B' => [1, 0, 0, 0, 0, 1, 0, 1, 1, 1  …  0, 0, 1, 0, 1, 1, 1, 1, 0, 0]\n",
       "  'D' => [0, 0, 1, 1, 0, 1, 0, 1, 0, 0  …  1, 1, 0, 1, 0, 1, 0, 0, 0, 1]\n",
       "  'A' => [0, 1, 0, 0, 0, 1, 1, 0, 0, 1  …  1, 1, 1, 0, 1, 1, 1, 0, 1, 0]\n",
       "  'R' => [1, 1, 0, 0, 1, 1, 0, 1, 1, 0  …  1, 1, 0, 1, 1, 1, 0, 0, 0, 0]\n",
       "  'G' => [1, 1, 1, 0, 0, 1, 1, 0, 1, 1  …  1, 0, 1, 1, 1, 1, 1, 0, 0, 0]\n",
       "  'N' => [0, 1, 0, 1, 1, 1, 0, 0, 1, 1  …  0, 0, 1, 0, 1, 1, 1, 1, 0, 1]\n",
       "  'Q' => [1, 1, 0, 0, 1, 1, 1, 1, 0, 1  …  1, 1, 0, 1, 1, 0, 1, 0, 0, 1]\n",
       "  'M' => [0, 1, 1, 1, 1, 1, 1, 0, 1, 0  …  1, 1, 1, 0, 1, 0, 1, 1, 0, 1]\n",
       "  'K' => [1, 0, 0, 1, 1, 0, 1, 1, 1, 1  …  1, 1, 1, 1, 1, 1, 0, 1, 1, 0]\n",
       "  'F' => [1, 1, 0, 0, 1, 0, 0, 0, 0, 0  …  1, 0, 1, 0, 0, 0, 0, 0, 1, 0]\n",
       "  'P' => [0, 1, 1, 0, 0, 1, 1, 1, 0, 0  …  1, 0, 0, 1, 0, 1, 0, 1, 1, 0]\n",
       "  'I' => [1, 1, 1, 0, 0, 1, 1, 1, 1, 1  …  0, 0, 0, 0, 1, 0, 1, 1, 0, 0]\n",
       "  'O' => [1, 0, 1, 1, 1, 1, 1, 1, 0, 0  …  1, 0, 0, 0, 0, 1, 0, 1, 0, 0]\n",
       "  'H' => [0, 0, 1, 1, 0, 0, 1, 1, 0, 0  …  0, 1, 0, 1, 0, 0, 0, 1, 1, 0]\n",
       "  'J' => [0, 0, 1, 0, 1, 1, 1, 1, 0, 1  …  1, 0, 1, 1, 0, 1, 0, 0, 0, 1]\n",
       "  'W' => [0, 1, 0, 1, 0, 1, 1, 1, 0, 1  …  0, 1, 1, 0, 1, 1, 0, 0, 0, 1]\n",
       "  'S' => [1, 0, 1, 0, 1, 1, 0, 0, 0, 0  …  1, 0, 0, 1, 0, 1, 1, 0, 0, 1]\n",
       "  'T' => [1, 0, 0, 1, 1, 0, 1, 1, 1, 0  …  0, 1, 0, 0, 0, 1, 1, 1, 1, 1]\n",
       "  'U' => [0, 1, 0, 0, 0, 0, 0, 1, 0, 1  …  1, 1, 0, 1, 0, 0, 1, 0, 1, 1]\n",
       "  'L' => [1, 0, 1, 0, 1, 1, 1, 0, 0, 1  …  0, 0, 0, 1, 1, 1, 0, 0, 1, 0]\n",
       "  'Y' => [0, 0, 1, 1, 1, 0, 0, 0, 0, 0  …  0, 0, 1, 0, 1, 0, 0, 1, 1, 1]\n",
       "  'V' => [0, 1, 0, 0, 0, 1, 1, 0, 1, 0  …  1, 0, 0, 0, 1, 1, 1, 1, 0, 0]"
      ]
     },
     "execution_count": 121,
     "metadata": {},
     "output_type": "execute_result"
    }
   ],
   "source": [
    "AA_list = ['A', 'R', 'N', 'D', 'C', 'Q', 'E', 'G', 'H', 'I', 'L', 'K', 'M', 'F', 'P', 'S', 'T', 'W', 'Y', 'V', 'O', 'U', 'B', 'J', 'Z', 'X']\n",
    "AA_hdv = [bitHDV() for i in AA_list]\n",
    "AA_dict = Dict(zip(AA_list, AA_hdv))"
   ]
  },
  {
   "cell_type": "markdown",
   "metadata": {},
   "source": [
    "Make list of every possible comibination of trimer. Trimer hdv is made by binding the three hdvs and applying bitperm to include sequence info"
   ]
  },
  {
   "cell_type": "code",
   "execution_count": 122,
   "metadata": {},
   "outputs": [
    {
     "data": {
      "text/plain": [
       "Dict{String, BitVector} with 17576 entries:\n",
       "  \"HTY\" => [0, 0, 1, 1, 0, 0, 0, 0, 1, 1  …  0, 0, 1, 1, 1, 0, 0, 0, 0, 0]\n",
       "  \"HBJ\" => [0, 0, 1, 1, 1, 0, 1, 0, 0, 0  …  0, 0, 1, 0, 1, 0, 1, 1, 0, 0]\n",
       "  \"MSW\" => [1, 1, 1, 1, 1, 1, 0, 1, 0, 1  …  1, 1, 1, 1, 1, 0, 1, 1, 0, 1]\n",
       "  \"BKI\" => [1, 1, 1, 1, 0, 0, 0, 1, 1, 1  …  1, 1, 0, 1, 0, 0, 1, 1, 0, 0]\n",
       "  \"ETI\" => [0, 0, 0, 0, 0, 0, 0, 0, 1, 0  …  0, 0, 0, 0, 1, 1, 0, 0, 0, 1]\n",
       "  \"OLQ\" => [1, 0, 0, 1, 1, 0, 1, 1, 1, 1  …  1, 1, 1, 1, 1, 1, 0, 1, 1, 1]\n",
       "  \"NMD\" => [1, 0, 1, 0, 1, 1, 1, 0, 1, 1  …  1, 1, 1, 0, 1, 1, 1, 1, 1, 1]\n",
       "  \"YVC\" => [1, 0, 1, 0, 1, 1, 1, 0, 1, 1  …  1, 1, 1, 0, 1, 1, 0, 1, 0, 1]\n",
       "  \"QPE\" => [1, 0, 0, 0, 0, 0, 0, 1, 1, 1  …  1, 0, 1, 1, 1, 0, 1, 1, 1, 1]\n",
       "  \"KIW\" => [1, 0, 1, 1, 1, 1, 0, 1, 1, 1  …  1, 0, 1, 0, 0, 0, 1, 1, 0, 0]\n",
       "  \"BPX\" => [0, 1, 1, 0, 0, 1, 0, 1, 1, 0  …  0, 1, 1, 0, 0, 1, 0, 1, 0, 0]\n",
       "  \"NLG\" => [0, 0, 1, 1, 0, 0, 1, 0, 0, 1  …  0, 1, 0, 0, 1, 1, 1, 0, 1, 0]\n",
       "  \"YWG\" => [1, 0, 1, 0, 1, 0, 1, 0, 0, 0  …  1, 1, 1, 1, 0, 0, 0, 0, 0, 1]\n",
       "  \"XAB\" => [0, 1, 0, 0, 1, 1, 0, 1, 1, 0  …  1, 1, 1, 1, 1, 1, 1, 1, 0, 1]\n",
       "  \"KHW\" => [1, 1, 0, 1, 0, 1, 1, 1, 1, 0  …  0, 0, 0, 0, 1, 1, 1, 0, 0, 1]\n",
       "  \"YNB\" => [1, 0, 1, 1, 0, 1, 1, 1, 0, 0  …  0, 0, 1, 1, 0, 1, 0, 1, 1, 0]\n",
       "  \"CSW\" => [0, 1, 0, 1, 0, 1, 0, 1, 1, 1  …  0, 0, 0, 1, 1, 1, 0, 0, 1, 0]\n",
       "  \"HID\" => [0, 0, 0, 0, 1, 1, 0, 1, 1, 0  …  0, 1, 1, 0, 0, 0, 0, 1, 0, 0]\n",
       "  \"MIH\" => [1, 0, 0, 0, 0, 0, 0, 1, 1, 0  …  1, 0, 1, 1, 1, 0, 1, 0, 1, 0]\n",
       "  \"ZWA\" => [1, 0, 1, 0, 1, 0, 0, 1, 0, 1  …  0, 1, 0, 0, 1, 0, 0, 0, 1, 0]\n",
       "  \"XOI\" => [0, 0, 1, 0, 1, 0, 0, 1, 1, 0  …  0, 1, 0, 0, 0, 0, 1, 1, 1, 0]\n",
       "  \"EVV\" => [1, 1, 0, 0, 0, 1, 1, 0, 0, 1  …  0, 0, 0, 0, 1, 0, 0, 1, 0, 0]\n",
       "  \"LHM\" => [1, 1, 1, 0, 1, 0, 0, 0, 0, 1  …  0, 1, 0, 0, 1, 1, 1, 0, 1, 0]\n",
       "  \"AVA\" => [1, 1, 1, 1, 0, 1, 0, 0, 1, 0  …  1, 0, 0, 1, 0, 0, 1, 0, 1, 0]\n",
       "  \"JBU\" => [1, 0, 1, 1, 1, 1, 0, 1, 1, 1  …  0, 0, 0, 1, 0, 1, 1, 1, 0, 1]\n",
       "  ⋮     => ⋮"
      ]
     },
     "execution_count": 122,
     "metadata": {},
     "output_type": "execute_result"
    }
   ],
   "source": [
    "trimer_hdvs = Dict(aa1 * aa2 * aa3 => \n",
    "bitbind(AA_dict[aa1], bitperm(AA_dict[aa2]), bitperm(AA_dict[aa3], 2)) \n",
    "for aa1 in AA_list for aa2 in AA_list for aa3 in AA_list)"
   ]
  },
  {
   "cell_type": "markdown",
   "metadata": {},
   "source": [
    "Bundle every possible trimer into a hdv to represent a full sequence"
   ]
  },
  {
   "cell_type": "code",
   "execution_count": 123,
   "metadata": {},
   "outputs": [
    {
     "data": {
      "text/plain": [
       "embedder (generic function with 1 method)"
      ]
     },
     "execution_count": 123,
     "metadata": {},
     "output_type": "execute_result"
    }
   ],
   "source": [
    "function embedder(sequence)\n",
    "    l = [trimer_hdvs[sequence[i:i+2]] for i in 1:length(sequence)-2]\n",
    "    v = bitadd(hcat(l)...)\n",
    "    return v\n",
    "end"
   ]
  },
  {
   "cell_type": "code",
   "execution_count": 124,
   "metadata": {},
   "outputs": [
    {
     "data": {
      "text/plain": [
       "197-element Vector{BitVector}:\n",
       " [1, 0, 0, 0, 0, 0, 1, 1, 1, 1  …  1, 1, 1, 0, 0, 0, 0, 0, 0, 1]\n",
       " [0, 0, 0, 1, 1, 0, 0, 0, 1, 1  …  1, 0, 1, 0, 1, 0, 1, 0, 0, 1]\n",
       " [1, 1, 0, 0, 1, 0, 1, 1, 0, 0  …  1, 1, 1, 0, 0, 0, 0, 1, 1, 1]\n",
       " [1, 1, 1, 1, 0, 0, 1, 1, 0, 1  …  0, 0, 1, 0, 0, 1, 0, 1, 1, 1]\n",
       " [1, 1, 1, 0, 1, 0, 1, 0, 0, 1  …  0, 0, 1, 0, 0, 1, 0, 1, 1, 0]\n",
       " [1, 1, 0, 1, 0, 0, 1, 1, 0, 1  …  0, 0, 1, 0, 0, 1, 0, 1, 0, 0]\n",
       " [0, 0, 1, 0, 1, 0, 0, 1, 0, 1  …  1, 0, 0, 0, 1, 1, 0, 0, 1, 1]\n",
       " [0, 0, 0, 1, 0, 0, 1, 1, 0, 0  …  0, 0, 0, 0, 1, 1, 0, 1, 1, 1]\n",
       " [0, 0, 0, 1, 1, 1, 0, 1, 1, 1  …  0, 0, 1, 1, 1, 0, 0, 0, 1, 1]\n",
       " [0, 1, 1, 0, 0, 0, 1, 1, 1, 1  …  0, 0, 0, 0, 0, 0, 1, 1, 1, 0]\n",
       " [0, 0, 1, 1, 0, 1, 1, 1, 0, 0  …  0, 0, 0, 0, 1, 1, 0, 1, 1, 0]\n",
       " [0, 1, 1, 0, 1, 1, 0, 1, 0, 1  …  0, 0, 1, 0, 1, 0, 1, 1, 0, 1]\n",
       " [0, 1, 1, 0, 1, 1, 0, 1, 1, 1  …  1, 0, 0, 0, 1, 1, 0, 0, 0, 1]\n",
       " ⋮\n",
       " [0, 1, 1, 0, 1, 0, 0, 1, 0, 1  …  1, 0, 0, 1, 0, 1, 0, 0, 0, 1]\n",
       " [0, 0, 1, 0, 0, 0, 1, 1, 0, 0  …  1, 0, 0, 1, 0, 1, 0, 1, 0, 0]\n",
       " [0, 1, 0, 0, 0, 1, 1, 1, 0, 0  …  0, 0, 0, 1, 1, 1, 0, 1, 1, 1]\n",
       " [0, 0, 1, 1, 0, 1, 1, 1, 1, 0  …  0, 0, 0, 1, 1, 1, 0, 1, 1, 1]\n",
       " [0, 1, 1, 0, 1, 1, 1, 1, 0, 0  …  0, 0, 0, 0, 1, 1, 0, 1, 0, 1]\n",
       " [1, 0, 1, 1, 1, 0, 0, 1, 0, 1  …  1, 0, 0, 1, 1, 0, 0, 1, 0, 0]\n",
       " [1, 0, 0, 0, 0, 1, 1, 0, 1, 1  …  1, 1, 0, 1, 1, 1, 0, 0, 0, 1]\n",
       " [0, 0, 1, 1, 0, 1, 0, 1, 1, 1  …  1, 0, 1, 0, 0, 0, 1, 1, 0, 1]\n",
       " [0, 1, 0, 1, 0, 1, 0, 1, 1, 1  …  1, 0, 1, 0, 1, 0, 1, 1, 0, 1]\n",
       " [0, 1, 1, 1, 0, 1, 0, 1, 1, 1  …  1, 1, 1, 0, 1, 0, 1, 1, 1, 1]\n",
       " [0, 1, 0, 1, 1, 1, 0, 0, 1, 1  …  1, 0, 1, 0, 1, 0, 1, 1, 1, 1]\n",
       " [0, 1, 1, 1, 0, 1, 0, 1, 1, 1  …  1, 0, 1, 1, 0, 0, 1, 1, 1, 0]"
      ]
     },
     "execution_count": 124,
     "metadata": {},
     "output_type": "execute_result"
    }
   ],
   "source": [
    "l = BitVector[]\n",
    "for i in data.sequence\n",
    "    push!(l, embedder(i))\n",
    "end\n",
    "data[!, :hdv] = l"
   ]
  },
  {
   "cell_type": "markdown",
   "metadata": {},
   "source": [
    "Bundle every sequence for each class"
   ]
  },
  {
   "cell_type": "code",
   "execution_count": 125,
   "metadata": {},
   "outputs": [
    {
     "data": {
      "text/plain": [
       "10000-element BitVector:\n",
       " 0\n",
       " 1\n",
       " 1\n",
       " 0\n",
       " 1\n",
       " 1\n",
       " 0\n",
       " 1\n",
       " 1\n",
       " 1\n",
       " 1\n",
       " 0\n",
       " 0\n",
       " ⋮\n",
       " 0\n",
       " 0\n",
       " 1\n",
       " 0\n",
       " 0\n",
       " 0\n",
       " 1\n",
       " 1\n",
       " 0\n",
       " 1\n",
       " 1\n",
       " 1"
      ]
     },
     "execution_count": 125,
     "metadata": {},
     "output_type": "execute_result"
    }
   ],
   "source": [
    "active_hdv = bitadd(hcat([i for i in data[data.class_num .== 1, :hdv]])...)\n",
    "modactive_hdv = bitadd(hcat([i for i in data[data.class_num .== 2, :hdv]])...)\n",
    "notactive_exp_hdv = bitadd(hcat([i for i in data[data.class_num .== 3, :hdv]])...)"
   ]
  },
  {
   "cell_type": "code",
   "execution_count": 126,
   "metadata": {},
   "outputs": [
    {
     "name": "stdout",
     "output_type": "stream",
     "text": [
      "0.3077\n",
      "0.36\n",
      "0.3801\n"
     ]
    }
   ],
   "source": [
    "# A random active peptide\n",
    "println(hamming(data[data.sequence .== \"KWKLFKKILKFLHLAKKF\", :hdv]..., active_hdv))\n",
    "println(hamming(data[data.sequence .== \"KWKLFKKILKFLHLAKKF\", :hdv]..., modactive_hdv))\n",
    "println(hamming(data[data.sequence .== \"KWKLFKKILKFLHLAKKF\", :hdv]..., notactive_exp_hdv))"
   ]
  },
  {
   "cell_type": "code",
   "execution_count": 127,
   "metadata": {},
   "outputs": [
    {
     "name": "stdout",
     "output_type": "stream",
     "text": [
      "0.5018\n",
      "0.4897\n",
      "0.504\n"
     ]
    }
   ],
   "source": [
    "# A random mod. active peptide\n",
    "println(hamming(data[data.sequence .== \"LLGDFFRKSKEKIGKEFKRIVQRIKDFLRNLVPRTES\", :hdv]..., active_hdv))\n",
    "println(hamming(data[data.sequence .== \"LLGDFFRKSKEKIGKEFKRIVQRIKDFLRNLVPRTES\", :hdv]..., modactive_hdv))\n",
    "println(hamming(data[data.sequence .== \"LLGDFFRKSKEKIGKEFKRIVQRIKDFLRNLVPRTES\", :hdv]..., notactive_exp_hdv))"
   ]
  },
  {
   "cell_type": "code",
   "execution_count": 128,
   "metadata": {},
   "outputs": [
    {
     "name": "stdout",
     "output_type": "stream",
     "text": [
      "0.4822\n",
      "0.4625\n",
      "0.4456\n"
     ]
    }
   ],
   "source": [
    "# A random inactive (exp?) peptide\n",
    "println(hamming(data[data.sequence .== \"FAKIIAKIAKIAKKIL\", :hdv]..., active_hdv))\n",
    "println(hamming(data[data.sequence .== \"FAKIIAKIAKIAKKIL\", :hdv]..., modactive_hdv))\n",
    "println(hamming(data[data.sequence .== \"FAKIIAKIAKIAKKIL\", :hdv]..., notactive_exp_hdv))"
   ]
  },
  {
   "cell_type": "markdown",
   "metadata": {},
   "source": [
    "Very low variance explained, 2D PCA plots will probably look nonsensical"
   ]
  },
  {
   "cell_type": "code",
   "execution_count": 147,
   "metadata": {},
   "outputs": [
    {
     "data": {
      "text/plain": [
       "PCA(indim = 197, outdim = 2, principalratio = 0.2165388948988325)\n",
       "\n",
       "Pattern matrix (unstandardized loadings):\n",
       "───────────────────────────────\n",
       "              PC1           PC2\n",
       "───────────────────────────────\n",
       "1     0.0491753    -0.0161828\n",
       "2     0.0486087    -0.0346906\n",
       "3     0.00668142    0.0232965\n",
       "4     0.0364191    -0.00632583\n",
       "5     0.0472411    -0.0109542\n",
       "6     0.0473993    -0.0109012\n",
       "7     0.380491     -0.0526307\n",
       "8     0.127802      0.28775\n",
       "9     0.118238      0.0627357\n",
       "10    0.0482385    -0.0330873\n",
       "11    0.18483       0.299502\n",
       "12    0.125273     -0.0493893\n",
       "13    0.348298     -0.111326\n",
       "14    0.367613     -0.0757986\n",
       "15    0.376088     -0.104129\n",
       "16    0.395615     -0.140959\n",
       "17    0.344364     -0.0854503\n",
       "18    0.346269     -0.0897595\n",
       "19    0.370066     -0.105932\n",
       "20    0.358116      0.0569742\n",
       "21    0.30749      -0.0599164\n",
       "22    0.387395     -0.0572702\n",
       "23    0.365517     -0.0085955\n",
       "24    0.32235      -0.115979\n",
       "25    0.38082      -0.0315385\n",
       "26    0.378887     -0.127367\n",
       "27    0.374779     -0.132773\n",
       "28    0.36604      -0.0938583\n",
       "29    0.397054     -0.0964718\n",
       "30    0.344158     -0.0868211\n",
       "31    0.298247     -0.0436334\n",
       "32    0.36666      -0.0973188\n",
       "33    0.279268      0.0899815\n",
       "34    0.225608     -0.0788068\n",
       "35    0.354459     -0.0447863\n",
       "36    0.230595     -0.0945627\n",
       "37    0.202719      0.0620743\n",
       "38    0.258784      0.222305\n",
       "39    0.217257      0.131045\n",
       "40    0.256516      0.119826\n",
       "41    0.277025      0.136785\n",
       "42    0.268462      0.11587\n",
       "43    0.229014      0.0875861\n",
       "44    0.223916      0.087161\n",
       "45    0.301823     -0.0893012\n",
       "46    0.278893     -0.0610602\n",
       "47    0.355124     -0.0401623\n",
       "48    0.305163     -0.0985371\n",
       "49    0.325395     -0.105165\n",
       "50    0.328486     -0.108552\n",
       "51    0.361162     -0.109907\n",
       "52    0.357527     -0.11695\n",
       "53    0.3253       -0.0996103\n",
       "54    0.320104     -0.106992\n",
       "55    0.254443     -0.07415\n",
       "56    0.104394      0.142041\n",
       "57    0.181754      0.229516\n",
       "58    0.256419     -0.0645859\n",
       "59    0.145076     -0.0398474\n",
       "60    0.281331     -0.101484\n",
       "61    0.301837      0.108927\n",
       "62    0.174698      0.226755\n",
       "63    0.260383      0.169821\n",
       "64    0.0717473     0.202811\n",
       "65    0.112345      0.330728\n",
       "66    0.139514      0.390293\n",
       "67    0.173242      0.407977\n",
       "68    0.163228      0.338287\n",
       "69    0.312292      0.184833\n",
       "70    0.173242      0.407977\n",
       "71    0.234939      0.305305\n",
       "72    0.143861      0.39951\n",
       "73    0.236542      0.184067\n",
       "74    0.294342      0.07507\n",
       "75    0.109845      0.207504\n",
       "76    0.115913      0.35212\n",
       "77    0.123322      0.365939\n",
       "78    0.125495      0.313605\n",
       "79    0.063164      0.208974\n",
       "80   -0.016731      0.0637188\n",
       "81    0.0458509     0.0702923\n",
       "82    0.172157     -0.0653643\n",
       "83    0.126342     -0.145906\n",
       "84    0.089513     -0.0394931\n",
       "85   -0.00393952   -0.00564003\n",
       "86    0.0536696     0.0580699\n",
       "87    0.00147152   -0.00756708\n",
       "88    0.0265278     0.00373511\n",
       "89    0.0455491     0.00273102\n",
       "90    0.0994765     0.0220382\n",
       "91    0.184892      0.0365592\n",
       "92    0.0122606    -0.0196008\n",
       "93    0.00206153    0.000837326\n",
       "94    0.0656178    -0.0263362\n",
       "95    0.0719162    -0.0322198\n",
       "96    0.0754858     0.0532677\n",
       "97    0.0384551    -0.00114197\n",
       "98    0.00382773   -0.00219119\n",
       "99    0.0346917    -0.00193497\n",
       "100   0.0071261    -0.00125\n",
       "101   0.00400444   -0.00259674\n",
       "102   0.0379139    -0.00111438\n",
       "103   0.0387071    -0.0189075\n",
       "104   0.0130686    -0.0275173\n",
       "105   0.00791232   -0.0220636\n",
       "106   0.0148768    -0.0179229\n",
       "107   0.0149996    -0.0164652\n",
       "108  -0.0015278    -0.00744188\n",
       "109   0.0330964    -0.00321921\n",
       "110   0.00719282    0.00124005\n",
       "111  -7.86988e-6   -0.00936829\n",
       "112   0.00175201   -0.00609786\n",
       "113  -6.20176e-5    0.00514256\n",
       "114   0.032373      0.0010972\n",
       "115   0.0338423    -0.00591875\n",
       "116   0.00613375   -0.0103158\n",
       "117  -0.00691804    0.00923573\n",
       "118  -0.000822501   0.00880734\n",
       "119   0.0133184     0.0223994\n",
       "120   0.0614394     0.00953463\n",
       "121   0.0278294     0.0346058\n",
       "122   0.073433      0.0102017\n",
       "123   0.0649617    -0.00541367\n",
       "124   0.0409478     0.0323081\n",
       "125   0.0743523    -0.00818427\n",
       "126  -0.00139985   -0.0314647\n",
       "127  -0.00254174   -0.0262227\n",
       "128  -0.0180806    -0.0262594\n",
       "129  -0.002413     -0.00237077\n",
       "130   0.360047     -0.0974414\n",
       "131   0.212302      0.145188\n",
       "132   0.0656568     0.0281712\n",
       "133   0.315355     -0.0816778\n",
       "134   0.127848     -0.118927\n",
       "135   0.133487     -0.125293\n",
       "136   0.221052      0.0558272\n",
       "137   0.0339138    -0.0506892\n",
       "138   0.126517      0.282694\n",
       "139   0.0309058    -0.0461632\n",
       "140   0.0781892    -0.0749274\n",
       "141   0.0874389    -0.0924439\n",
       "142   0.131902     -0.122496\n",
       "143   0.1414       -0.13492\n",
       "144   0.14448      -0.130071\n",
       "145   0.0437926    -0.0984293\n",
       "146   0.0474053    -0.0975528\n",
       "147   0.0528305    -0.112817\n",
       "148   0.100045     -0.129007\n",
       "149   0.137513     -0.14681\n",
       "150   0.0837217    -0.10379\n",
       "151   0.136684     -0.119298\n",
       "152   0.128564     -0.128638\n",
       "153   0.0569473    -0.0436432\n",
       "154   0.135149     -0.124414\n",
       "155   0.193875     -0.112183\n",
       "156   0.0784231     0.0468021\n",
       "157   0.0473835     0.00278244\n",
       "158   0.0650047     0.0525407\n",
       "159   0.0453667     0.014774\n",
       "160   0.0431389     0.0925638\n",
       "161   0.0284442     0.059074\n",
       "162   0.0232244     0.0566809\n",
       "163   0.0343889     0.021382\n",
       "164  -0.0128534     0.00803181\n",
       "165   0.033581      0.0153965\n",
       "166   0.272254      0.147568\n",
       "167   0.292617      0.000418041\n",
       "168  -0.00100396   -0.00361701\n",
       "169   0.0324898     0.0239745\n",
       "170   0.0415482    -0.0121797\n",
       "171   0.0293275     0.0211614\n",
       "172  -0.000618116  -0.00600331\n",
       "173   0.00822049   -0.0116375\n",
       "174   0.00536335   -0.0201225\n",
       "175   0.00260644   -0.0101939\n",
       "176  -0.00137396   -0.00194656\n",
       "177   0.00289279    0.00219133\n",
       "178   0.000313092   0.00108275\n",
       "179   0.00607083   -0.00740901\n",
       "180   0.104643      0.0788513\n",
       "181   0.125545     -0.0556994\n",
       "182   0.361081     -0.118739\n",
       "183   0.349083     -0.0914048\n",
       "184   0.375052     -0.0955116\n",
       "185   0.23632       0.125715\n",
       "186   0.331209     -0.10418\n",
       "187   0.2995       -0.0999538\n",
       "188   0.169657      0.392438\n",
       "189   0.164472      0.3091\n",
       "190   0.306775      0.163991\n",
       "191   0.001792      0.0105028\n",
       "192   0.0458477     0.0984475\n",
       "193   0.137659     -0.126376\n",
       "194   0.0545802    -0.0364151\n",
       "195   0.142366     -0.121449\n",
       "196   0.0541815    -0.0291591\n",
       "197   0.140444     -0.153393\n",
       "───────────────────────────────\n",
       "\n",
       "Importance of components:\n",
       "──────────────────────────────────────────────\n",
       "                                PC1        PC2\n",
       "──────────────────────────────────────────────\n",
       "SS Loadings (Eigenvalues)  7.47094   3.19382\n",
       "Variance explained         0.151691  0.0648478\n",
       "Cumulative variance        0.151691  0.216539\n",
       "Proportion explained       0.700526  0.299474\n",
       "Cumulative proportion      0.700526  1.0\n",
       "──────────────────────────────────────────────"
      ]
     },
     "execution_count": 147,
     "metadata": {},
     "output_type": "execute_result"
    }
   ],
   "source": [
    "using MultivariateStats\n",
    "\n",
    "matrix_all = permutedims(hcat(data.hdv...))\n",
    "\n",
    "S = fit(PCA, matrix_all; maxoutdim=2)\n",
    "projS = projection(S)\n",
    "S"
   ]
  },
  {
   "cell_type": "code",
   "execution_count": 130,
   "metadata": {},
   "outputs": [
    {
     "data": {
      "text/plain": [
       "3-element Vector{Vector{Int64}}:\n",
       " [27, 28, 69, 86, 88, 91, 92, 93, 100, 127, 128, 138, 142, 154, 160, 177, 194, 196]\n",
       " [1, 2, 3, 4, 5, 6, 7, 9, 12, 16  …  174, 176, 178, 179, 182, 185, 186, 190, 193, 197]\n",
       " [8, 10, 11, 13, 14, 15, 17, 23, 25, 26  …  180, 181, 183, 184, 187, 188, 189, 191, 192, 195]"
      ]
     },
     "execution_count": 130,
     "metadata": {},
     "output_type": "execute_result"
    }
   ],
   "source": [
    "indices = [[i for i in 1:nrow(data) if data.class_num[i] == j] for j in 1:3]"
   ]
  },
  {
   "cell_type": "code",
   "execution_count": 131,
   "metadata": {},
   "outputs": [
    {
     "data": {
      "image/svg+xml": "<?xml version=\"1.0\" encoding=\"utf-8\"?>\n<svg xmlns=\"http://www.w3.org/2000/svg\" xmlns:xlink=\"http://www.w3.org/1999/xlink\" width=\"600\" height=\"400\" viewBox=\"0 0 2400 1600\">\n<defs>\n  <clipPath id=\"clip170\">\n    <rect x=\"0\" y=\"0\" width=\"2400\" height=\"1600\"/>\n  </clipPath>\n</defs>\n<path clip-path=\"url(#clip170)\" d=\"\nM0 1600 L2400 1600 L2400 0 L0 0  Z\n  \" fill=\"#ffffff\" fill-rule=\"evenodd\" fill-opacity=\"1\"/>\n<defs>\n  <clipPath id=\"clip171\">\n    <rect x=\"480\" y=\"0\" width=\"1681\" height=\"1600\"/>\n  </clipPath>\n</defs>\n<path clip-path=\"url(#clip170)\" d=\"\nM223.103 1486.45 L2352.76 1486.45 L2352.76 47.2441 L223.103 47.2441  Z\n  \" fill=\"#ffffff\" fill-rule=\"evenodd\" fill-opacity=\"1\"/>\n<defs>\n  <clipPath id=\"clip172\">\n    <rect x=\"223\" y=\"47\" width=\"2131\" height=\"1440\"/>\n  </clipPath>\n</defs>\n<polyline clip-path=\"url(#clip172)\" style=\"stroke:#000000; stroke-linecap:round; stroke-linejoin:round; stroke-width:2; stroke-opacity:0.1; fill:none\" points=\"\n  370.88,1486.45 370.88,47.2441 \n  \"/>\n<polyline clip-path=\"url(#clip172)\" style=\"stroke:#000000; stroke-linecap:round; stroke-linejoin:round; stroke-width:2; stroke-opacity:0.1; fill:none\" points=\"\n  767.726,1486.45 767.726,47.2441 \n  \"/>\n<polyline clip-path=\"url(#clip172)\" style=\"stroke:#000000; stroke-linecap:round; stroke-linejoin:round; stroke-width:2; stroke-opacity:0.1; fill:none\" points=\"\n  1164.57,1486.45 1164.57,47.2441 \n  \"/>\n<polyline clip-path=\"url(#clip172)\" style=\"stroke:#000000; stroke-linecap:round; stroke-linejoin:round; stroke-width:2; stroke-opacity:0.1; fill:none\" points=\"\n  1561.42,1486.45 1561.42,47.2441 \n  \"/>\n<polyline clip-path=\"url(#clip172)\" style=\"stroke:#000000; stroke-linecap:round; stroke-linejoin:round; stroke-width:2; stroke-opacity:0.1; fill:none\" points=\"\n  1958.27,1486.45 1958.27,47.2441 \n  \"/>\n<polyline clip-path=\"url(#clip170)\" style=\"stroke:#000000; stroke-linecap:round; stroke-linejoin:round; stroke-width:4; stroke-opacity:1; fill:none\" points=\"\n  223.103,1486.45 2352.76,1486.45 \n  \"/>\n<polyline clip-path=\"url(#clip170)\" style=\"stroke:#000000; stroke-linecap:round; stroke-linejoin:round; stroke-width:4; stroke-opacity:1; fill:none\" points=\"\n  370.88,1486.45 370.88,1467.55 \n  \"/>\n<polyline clip-path=\"url(#clip170)\" style=\"stroke:#000000; stroke-linecap:round; stroke-linejoin:round; stroke-width:4; stroke-opacity:1; fill:none\" points=\"\n  767.726,1486.45 767.726,1467.55 \n  \"/>\n<polyline clip-path=\"url(#clip170)\" style=\"stroke:#000000; stroke-linecap:round; stroke-linejoin:round; stroke-width:4; stroke-opacity:1; fill:none\" points=\"\n  1164.57,1486.45 1164.57,1467.55 \n  \"/>\n<polyline clip-path=\"url(#clip170)\" style=\"stroke:#000000; stroke-linecap:round; stroke-linejoin:round; stroke-width:4; stroke-opacity:1; fill:none\" points=\"\n  1561.42,1486.45 1561.42,1467.55 \n  \"/>\n<polyline clip-path=\"url(#clip170)\" style=\"stroke:#000000; stroke-linecap:round; stroke-linejoin:round; stroke-width:4; stroke-opacity:1; fill:none\" points=\"\n  1958.27,1486.45 1958.27,1467.55 \n  \"/>\n<path clip-path=\"url(#clip170)\" d=\"M333.183 1517.37 Q329.572 1517.37 327.743 1520.93 Q325.938 1524.47 325.938 1531.6 Q325.938 1538.71 327.743 1542.27 Q329.572 1545.82 333.183 1545.82 Q336.817 1545.82 338.623 1542.27 Q340.452 1538.71 340.452 1531.6 Q340.452 1524.47 338.623 1520.93 Q336.817 1517.37 333.183 1517.37 M333.183 1513.66 Q338.993 1513.66 342.049 1518.27 Q345.128 1522.85 345.128 1531.6 Q345.128 1540.33 342.049 1544.94 Q338.993 1549.52 333.183 1549.52 Q327.373 1549.52 324.294 1544.94 Q321.239 1540.33 321.239 1531.6 Q321.239 1522.85 324.294 1518.27 Q327.373 1513.66 333.183 1513.66 Z\" fill=\"#000000\" fill-rule=\"evenodd\" fill-opacity=\"1\" /><path clip-path=\"url(#clip170)\" d=\"M353.345 1542.97 L358.229 1542.97 L358.229 1548.85 L353.345 1548.85 L353.345 1542.97 Z\" fill=\"#000000\" fill-rule=\"evenodd\" fill-opacity=\"1\" /><path clip-path=\"url(#clip170)\" d=\"M378.414 1517.37 Q374.803 1517.37 372.975 1520.93 Q371.169 1524.47 371.169 1531.6 Q371.169 1538.71 372.975 1542.27 Q374.803 1545.82 378.414 1545.82 Q382.049 1545.82 383.854 1542.27 Q385.683 1538.71 385.683 1531.6 Q385.683 1524.47 383.854 1520.93 Q382.049 1517.37 378.414 1517.37 M378.414 1513.66 Q384.225 1513.66 387.28 1518.27 Q390.359 1522.85 390.359 1531.6 Q390.359 1540.33 387.28 1544.94 Q384.225 1549.52 378.414 1549.52 Q372.604 1549.52 369.526 1544.94 Q366.47 1540.33 366.47 1531.6 Q366.47 1522.85 369.526 1518.27 Q372.604 1513.66 378.414 1513.66 Z\" fill=\"#000000\" fill-rule=\"evenodd\" fill-opacity=\"1\" /><path clip-path=\"url(#clip170)\" d=\"M408.576 1517.37 Q404.965 1517.37 403.136 1520.93 Q401.331 1524.47 401.331 1531.6 Q401.331 1538.71 403.136 1542.27 Q404.965 1545.82 408.576 1545.82 Q412.211 1545.82 414.016 1542.27 Q415.845 1538.71 415.845 1531.6 Q415.845 1524.47 414.016 1520.93 Q412.211 1517.37 408.576 1517.37 M408.576 1513.66 Q414.386 1513.66 417.442 1518.27 Q420.521 1522.85 420.521 1531.6 Q420.521 1540.33 417.442 1544.94 Q414.386 1549.52 408.576 1549.52 Q402.766 1549.52 399.687 1544.94 Q396.632 1540.33 396.632 1531.6 Q396.632 1522.85 399.687 1518.27 Q402.766 1513.66 408.576 1513.66 Z\" fill=\"#000000\" fill-rule=\"evenodd\" fill-opacity=\"1\" /><path clip-path=\"url(#clip170)\" d=\"M730.354 1517.37 Q726.743 1517.37 724.914 1520.93 Q723.109 1524.47 723.109 1531.6 Q723.109 1538.71 724.914 1542.27 Q726.743 1545.82 730.354 1545.82 Q733.988 1545.82 735.794 1542.27 Q737.622 1538.71 737.622 1531.6 Q737.622 1524.47 735.794 1520.93 Q733.988 1517.37 730.354 1517.37 M730.354 1513.66 Q736.164 1513.66 739.22 1518.27 Q742.298 1522.85 742.298 1531.6 Q742.298 1540.33 739.22 1544.94 Q736.164 1549.52 730.354 1549.52 Q724.544 1549.52 721.465 1544.94 Q718.41 1540.33 718.41 1531.6 Q718.41 1522.85 721.465 1518.27 Q724.544 1513.66 730.354 1513.66 Z\" fill=\"#000000\" fill-rule=\"evenodd\" fill-opacity=\"1\" /><path clip-path=\"url(#clip170)\" d=\"M750.516 1542.97 L755.4 1542.97 L755.4 1548.85 L750.516 1548.85 L750.516 1542.97 Z\" fill=\"#000000\" fill-rule=\"evenodd\" fill-opacity=\"1\" /><path clip-path=\"url(#clip170)\" d=\"M775.585 1517.37 Q771.974 1517.37 770.145 1520.93 Q768.34 1524.47 768.34 1531.6 Q768.34 1538.71 770.145 1542.27 Q771.974 1545.82 775.585 1545.82 Q779.219 1545.82 781.025 1542.27 Q782.854 1538.71 782.854 1531.6 Q782.854 1524.47 781.025 1520.93 Q779.219 1517.37 775.585 1517.37 M775.585 1513.66 Q781.395 1513.66 784.451 1518.27 Q787.53 1522.85 787.53 1531.6 Q787.53 1540.33 784.451 1544.94 Q781.395 1549.52 775.585 1549.52 Q769.775 1549.52 766.696 1544.94 Q763.641 1540.33 763.641 1531.6 Q763.641 1522.85 766.696 1518.27 Q769.775 1513.66 775.585 1513.66 Z\" fill=\"#000000\" fill-rule=\"evenodd\" fill-opacity=\"1\" /><path clip-path=\"url(#clip170)\" d=\"M809.914 1530.21 Q813.27 1530.93 815.145 1533.2 Q817.043 1535.47 817.043 1538.8 Q817.043 1543.92 813.525 1546.72 Q810.006 1549.52 803.525 1549.52 Q801.349 1549.52 799.034 1549.08 Q796.743 1548.66 794.289 1547.81 L794.289 1543.29 Q796.233 1544.43 798.548 1545.01 Q800.863 1545.58 803.386 1545.58 Q807.784 1545.58 810.076 1543.85 Q812.391 1542.11 812.391 1538.8 Q812.391 1535.75 810.238 1534.03 Q808.108 1532.3 804.289 1532.3 L800.261 1532.3 L800.261 1528.45 L804.474 1528.45 Q807.923 1528.45 809.752 1527.09 Q811.58 1525.7 811.58 1523.11 Q811.58 1520.45 809.682 1519.03 Q807.807 1517.6 804.289 1517.6 Q802.368 1517.6 800.168 1518.01 Q797.969 1518.43 795.331 1519.31 L795.331 1515.14 Q797.993 1514.4 800.307 1514.03 Q802.645 1513.66 804.705 1513.66 Q810.03 1513.66 813.131 1516.09 Q816.233 1518.5 816.233 1522.62 Q816.233 1525.49 814.59 1527.48 Q812.946 1529.45 809.914 1530.21 Z\" fill=\"#000000\" fill-rule=\"evenodd\" fill-opacity=\"1\" /><path clip-path=\"url(#clip170)\" d=\"M1126.8 1517.37 Q1123.18 1517.37 1121.36 1520.93 Q1119.55 1524.47 1119.55 1531.6 Q1119.55 1538.71 1121.36 1542.27 Q1123.18 1545.82 1126.8 1545.82 Q1130.43 1545.82 1132.24 1542.27 Q1134.06 1538.71 1134.06 1531.6 Q1134.06 1524.47 1132.24 1520.93 Q1130.43 1517.37 1126.8 1517.37 M1126.8 1513.66 Q1132.61 1513.66 1135.66 1518.27 Q1138.74 1522.85 1138.74 1531.6 Q1138.74 1540.33 1135.66 1544.94 Q1132.61 1549.52 1126.8 1549.52 Q1120.99 1549.52 1117.91 1544.94 Q1114.85 1540.33 1114.85 1531.6 Q1114.85 1522.85 1117.91 1518.27 Q1120.99 1513.66 1126.8 1513.66 Z\" fill=\"#000000\" fill-rule=\"evenodd\" fill-opacity=\"1\" /><path clip-path=\"url(#clip170)\" d=\"M1146.96 1542.97 L1151.84 1542.97 L1151.84 1548.85 L1146.96 1548.85 L1146.96 1542.97 Z\" fill=\"#000000\" fill-rule=\"evenodd\" fill-opacity=\"1\" /><path clip-path=\"url(#clip170)\" d=\"M1172.03 1517.37 Q1168.42 1517.37 1166.59 1520.93 Q1164.78 1524.47 1164.78 1531.6 Q1164.78 1538.71 1166.59 1542.27 Q1168.42 1545.82 1172.03 1545.82 Q1175.66 1545.82 1177.47 1542.27 Q1179.3 1538.71 1179.3 1531.6 Q1179.3 1524.47 1177.47 1520.93 Q1175.66 1517.37 1172.03 1517.37 M1172.03 1513.66 Q1177.84 1513.66 1180.89 1518.27 Q1183.97 1522.85 1183.97 1531.6 Q1183.97 1540.33 1180.89 1544.94 Q1177.84 1549.52 1172.03 1549.52 Q1166.22 1549.52 1163.14 1544.94 Q1160.08 1540.33 1160.08 1531.6 Q1160.08 1522.85 1163.14 1518.27 Q1166.22 1513.66 1172.03 1513.66 Z\" fill=\"#000000\" fill-rule=\"evenodd\" fill-opacity=\"1\" /><path clip-path=\"url(#clip170)\" d=\"M1202.77 1529.7 Q1199.62 1529.7 1197.77 1531.86 Q1195.94 1534.01 1195.94 1537.76 Q1195.94 1541.49 1197.77 1543.66 Q1199.62 1545.82 1202.77 1545.82 Q1205.92 1545.82 1207.74 1543.66 Q1209.6 1541.49 1209.6 1537.76 Q1209.6 1534.01 1207.74 1531.86 Q1205.92 1529.7 1202.77 1529.7 M1212.05 1515.05 L1212.05 1519.31 Q1210.29 1518.48 1208.49 1518.04 Q1206.7 1517.6 1204.94 1517.6 Q1200.31 1517.6 1197.86 1520.72 Q1195.43 1523.85 1195.08 1530.17 Q1196.45 1528.15 1198.51 1527.09 Q1200.57 1526 1203.05 1526 Q1208.25 1526 1211.26 1529.17 Q1214.3 1532.32 1214.3 1537.76 Q1214.3 1543.08 1211.15 1546.3 Q1208 1549.52 1202.77 1549.52 Q1196.77 1549.52 1193.6 1544.94 Q1190.43 1540.33 1190.43 1531.6 Q1190.43 1523.41 1194.32 1518.55 Q1198.21 1513.66 1204.76 1513.66 Q1206.52 1513.66 1208.3 1514.01 Q1210.11 1514.36 1212.05 1515.05 Z\" fill=\"#000000\" fill-rule=\"evenodd\" fill-opacity=\"1\" /><path clip-path=\"url(#clip170)\" d=\"M1523.82 1517.37 Q1520.2 1517.37 1518.38 1520.93 Q1516.57 1524.47 1516.57 1531.6 Q1516.57 1538.71 1518.38 1542.27 Q1520.2 1545.82 1523.82 1545.82 Q1527.45 1545.82 1529.26 1542.27 Q1531.08 1538.71 1531.08 1531.6 Q1531.08 1524.47 1529.26 1520.93 Q1527.45 1517.37 1523.82 1517.37 M1523.82 1513.66 Q1529.63 1513.66 1532.68 1518.27 Q1535.76 1522.85 1535.76 1531.6 Q1535.76 1540.33 1532.68 1544.94 Q1529.63 1549.52 1523.82 1549.52 Q1518.01 1549.52 1514.93 1544.94 Q1511.87 1540.33 1511.87 1531.6 Q1511.87 1522.85 1514.93 1518.27 Q1518.01 1513.66 1523.82 1513.66 Z\" fill=\"#000000\" fill-rule=\"evenodd\" fill-opacity=\"1\" /><path clip-path=\"url(#clip170)\" d=\"M1543.98 1542.97 L1548.86 1542.97 L1548.86 1548.85 L1543.98 1548.85 L1543.98 1542.97 Z\" fill=\"#000000\" fill-rule=\"evenodd\" fill-opacity=\"1\" /><path clip-path=\"url(#clip170)\" d=\"M1569.05 1517.37 Q1565.44 1517.37 1563.61 1520.93 Q1561.8 1524.47 1561.8 1531.6 Q1561.8 1538.71 1563.61 1542.27 Q1565.44 1545.82 1569.05 1545.82 Q1572.68 1545.82 1574.49 1542.27 Q1576.32 1538.71 1576.32 1531.6 Q1576.32 1524.47 1574.49 1520.93 Q1572.68 1517.37 1569.05 1517.37 M1569.05 1513.66 Q1574.86 1513.66 1577.91 1518.27 Q1580.99 1522.85 1580.99 1531.6 Q1580.99 1540.33 1577.91 1544.94 Q1574.86 1549.52 1569.05 1549.52 Q1563.24 1549.52 1560.16 1544.94 Q1557.1 1540.33 1557.1 1531.6 Q1557.1 1522.85 1560.16 1518.27 Q1563.24 1513.66 1569.05 1513.66 Z\" fill=\"#000000\" fill-rule=\"evenodd\" fill-opacity=\"1\" /><path clip-path=\"url(#clip170)\" d=\"M1589.35 1548.13 L1589.35 1543.87 Q1591.11 1544.7 1592.91 1545.14 Q1594.72 1545.58 1596.45 1545.58 Q1601.08 1545.58 1603.51 1542.48 Q1605.97 1539.36 1606.32 1533.01 Q1604.97 1535.01 1602.91 1536.07 Q1600.85 1537.13 1598.35 1537.13 Q1593.17 1537.13 1590.14 1534.01 Q1587.13 1530.86 1587.13 1525.42 Q1587.13 1520.1 1590.27 1516.88 Q1593.42 1513.66 1598.65 1513.66 Q1604.65 1513.66 1607.8 1518.27 Q1610.97 1522.85 1610.97 1531.6 Q1610.97 1539.77 1607.08 1544.66 Q1603.21 1549.52 1596.66 1549.52 Q1594.9 1549.52 1593.1 1549.17 Q1591.29 1548.82 1589.35 1548.13 M1598.65 1533.48 Q1601.8 1533.48 1603.63 1531.32 Q1605.48 1529.17 1605.48 1525.42 Q1605.48 1521.7 1603.63 1519.54 Q1601.8 1517.37 1598.65 1517.37 Q1595.51 1517.37 1593.65 1519.54 Q1591.82 1521.7 1591.82 1525.42 Q1591.82 1529.17 1593.65 1531.32 Q1595.51 1533.48 1598.65 1533.48 Z\" fill=\"#000000\" fill-rule=\"evenodd\" fill-opacity=\"1\" /><path clip-path=\"url(#clip170)\" d=\"M1921.37 1517.37 Q1917.76 1517.37 1915.93 1520.93 Q1914.12 1524.47 1914.12 1531.6 Q1914.12 1538.71 1915.93 1542.27 Q1917.76 1545.82 1921.37 1545.82 Q1925 1545.82 1926.81 1542.27 Q1928.64 1538.71 1928.64 1531.6 Q1928.64 1524.47 1926.81 1520.93 Q1925 1517.37 1921.37 1517.37 M1921.37 1513.66 Q1927.18 1513.66 1930.23 1518.27 Q1933.31 1522.85 1933.31 1531.6 Q1933.31 1540.33 1930.23 1544.94 Q1927.18 1549.52 1921.37 1549.52 Q1915.56 1549.52 1912.48 1544.94 Q1909.42 1540.33 1909.42 1531.6 Q1909.42 1522.85 1912.48 1518.27 Q1915.56 1513.66 1921.37 1513.66 Z\" fill=\"#000000\" fill-rule=\"evenodd\" fill-opacity=\"1\" /><path clip-path=\"url(#clip170)\" d=\"M1941.53 1542.97 L1946.42 1542.97 L1946.42 1548.85 L1941.53 1548.85 L1941.53 1542.97 Z\" fill=\"#000000\" fill-rule=\"evenodd\" fill-opacity=\"1\" /><path clip-path=\"url(#clip170)\" d=\"M1957.41 1544.91 L1965.05 1544.91 L1965.05 1518.55 L1956.74 1520.21 L1956.74 1515.95 L1965 1514.29 L1969.68 1514.29 L1969.68 1544.91 L1977.32 1544.91 L1977.32 1548.85 L1957.41 1548.85 L1957.41 1544.91 Z\" fill=\"#000000\" fill-rule=\"evenodd\" fill-opacity=\"1\" /><path clip-path=\"url(#clip170)\" d=\"M1990.79 1544.91 L2007.11 1544.91 L2007.11 1548.85 L1985.16 1548.85 L1985.16 1544.91 Q1987.83 1542.16 1992.41 1537.53 Q1997.02 1532.88 1998.2 1531.53 Q2000.44 1529.01 2001.32 1527.27 Q2002.22 1525.51 2002.22 1523.82 Q2002.22 1521.07 2000.28 1519.33 Q1998.36 1517.6 1995.26 1517.6 Q1993.06 1517.6 1990.6 1518.36 Q1988.17 1519.13 1985.4 1520.68 L1985.4 1515.95 Q1988.22 1514.82 1990.67 1514.24 Q1993.13 1513.66 1995.16 1513.66 Q2000.54 1513.66 2003.73 1516.35 Q2006.92 1519.03 2006.92 1523.52 Q2006.92 1525.65 2006.11 1527.57 Q2005.33 1529.47 2003.22 1532.07 Q2002.64 1532.74 1999.54 1535.95 Q1996.44 1539.15 1990.79 1544.91 Z\" fill=\"#000000\" fill-rule=\"evenodd\" fill-opacity=\"1\" /><polyline clip-path=\"url(#clip172)\" style=\"stroke:#000000; stroke-linecap:round; stroke-linejoin:round; stroke-width:2; stroke-opacity:0.1; fill:none\" points=\"\n  223.103,1290.84 2352.76,1290.84 \n  \"/>\n<polyline clip-path=\"url(#clip172)\" style=\"stroke:#000000; stroke-linecap:round; stroke-linejoin:round; stroke-width:2; stroke-opacity:0.1; fill:none\" points=\"\n  223.103,1074.72 2352.76,1074.72 \n  \"/>\n<polyline clip-path=\"url(#clip172)\" style=\"stroke:#000000; stroke-linecap:round; stroke-linejoin:round; stroke-width:2; stroke-opacity:0.1; fill:none\" points=\"\n  223.103,858.599 2352.76,858.599 \n  \"/>\n<polyline clip-path=\"url(#clip172)\" style=\"stroke:#000000; stroke-linecap:round; stroke-linejoin:round; stroke-width:2; stroke-opacity:0.1; fill:none\" points=\"\n  223.103,642.48 2352.76,642.48 \n  \"/>\n<polyline clip-path=\"url(#clip172)\" style=\"stroke:#000000; stroke-linecap:round; stroke-linejoin:round; stroke-width:2; stroke-opacity:0.1; fill:none\" points=\"\n  223.103,426.361 2352.76,426.361 \n  \"/>\n<polyline clip-path=\"url(#clip172)\" style=\"stroke:#000000; stroke-linecap:round; stroke-linejoin:round; stroke-width:2; stroke-opacity:0.1; fill:none\" points=\"\n  223.103,210.243 2352.76,210.243 \n  \"/>\n<polyline clip-path=\"url(#clip170)\" style=\"stroke:#000000; stroke-linecap:round; stroke-linejoin:round; stroke-width:4; stroke-opacity:1; fill:none\" points=\"\n  223.103,1486.45 223.103,47.2441 \n  \"/>\n<polyline clip-path=\"url(#clip170)\" style=\"stroke:#000000; stroke-linecap:round; stroke-linejoin:round; stroke-width:4; stroke-opacity:1; fill:none\" points=\"\n  223.103,1290.84 242,1290.84 \n  \"/>\n<polyline clip-path=\"url(#clip170)\" style=\"stroke:#000000; stroke-linecap:round; stroke-linejoin:round; stroke-width:4; stroke-opacity:1; fill:none\" points=\"\n  223.103,1074.72 242,1074.72 \n  \"/>\n<polyline clip-path=\"url(#clip170)\" style=\"stroke:#000000; stroke-linecap:round; stroke-linejoin:round; stroke-width:4; stroke-opacity:1; fill:none\" points=\"\n  223.103,858.599 242,858.599 \n  \"/>\n<polyline clip-path=\"url(#clip170)\" style=\"stroke:#000000; stroke-linecap:round; stroke-linejoin:round; stroke-width:4; stroke-opacity:1; fill:none\" points=\"\n  223.103,642.48 242,642.48 \n  \"/>\n<polyline clip-path=\"url(#clip170)\" style=\"stroke:#000000; stroke-linecap:round; stroke-linejoin:round; stroke-width:4; stroke-opacity:1; fill:none\" points=\"\n  223.103,426.361 242,426.361 \n  \"/>\n<polyline clip-path=\"url(#clip170)\" style=\"stroke:#000000; stroke-linecap:round; stroke-linejoin:round; stroke-width:4; stroke-opacity:1; fill:none\" points=\"\n  223.103,210.243 242,210.243 \n  \"/>\n<path clip-path=\"url(#clip170)\" d=\"M50.9921 1291.29 L80.6679 1291.29 L80.6679 1295.22 L50.9921 1295.22 L50.9921 1291.29 Z\" fill=\"#000000\" fill-rule=\"evenodd\" fill-opacity=\"1\" /><path clip-path=\"url(#clip170)\" d=\"M100.76 1276.63 Q97.1493 1276.63 95.3206 1280.2 Q93.515 1283.74 93.515 1290.87 Q93.515 1297.98 95.3206 1301.54 Q97.1493 1305.08 100.76 1305.08 Q104.395 1305.08 106.2 1301.54 Q108.029 1297.98 108.029 1290.87 Q108.029 1283.74 106.2 1280.2 Q104.395 1276.63 100.76 1276.63 M100.76 1272.93 Q106.571 1272.93 109.626 1277.54 Q112.705 1282.12 112.705 1290.87 Q112.705 1299.6 109.626 1304.2 Q106.571 1308.79 100.76 1308.79 Q94.9502 1308.79 91.8715 1304.2 Q88.816 1299.6 88.816 1290.87 Q88.816 1282.12 91.8715 1277.54 Q94.9502 1272.93 100.76 1272.93 Z\" fill=\"#000000\" fill-rule=\"evenodd\" fill-opacity=\"1\" /><path clip-path=\"url(#clip170)\" d=\"M120.922 1302.24 L125.807 1302.24 L125.807 1308.12 L120.922 1308.12 L120.922 1302.24 Z\" fill=\"#000000\" fill-rule=\"evenodd\" fill-opacity=\"1\" /><path clip-path=\"url(#clip170)\" d=\"M145.992 1276.63 Q142.381 1276.63 140.552 1280.2 Q138.746 1283.74 138.746 1290.87 Q138.746 1297.98 140.552 1301.54 Q142.381 1305.08 145.992 1305.08 Q149.626 1305.08 151.431 1301.54 Q153.26 1297.98 153.26 1290.87 Q153.26 1283.74 151.431 1280.2 Q149.626 1276.63 145.992 1276.63 M145.992 1272.93 Q151.802 1272.93 154.857 1277.54 Q157.936 1282.12 157.936 1290.87 Q157.936 1299.6 154.857 1304.2 Q151.802 1308.79 145.992 1308.79 Q140.181 1308.79 137.103 1304.2 Q134.047 1299.6 134.047 1290.87 Q134.047 1282.12 137.103 1277.54 Q140.181 1272.93 145.992 1272.93 Z\" fill=\"#000000\" fill-rule=\"evenodd\" fill-opacity=\"1\" /><path clip-path=\"url(#clip170)\" d=\"M166.2 1273.56 L184.556 1273.56 L184.556 1277.49 L170.482 1277.49 L170.482 1285.96 Q171.501 1285.62 172.519 1285.45 Q173.538 1285.27 174.556 1285.27 Q180.343 1285.27 183.723 1288.44 Q187.103 1291.61 187.103 1297.03 Q187.103 1302.61 183.63 1305.71 Q180.158 1308.79 173.839 1308.79 Q171.663 1308.79 169.394 1308.42 Q167.149 1308.05 164.742 1307.31 L164.742 1302.61 Q166.825 1303.74 169.047 1304.3 Q171.269 1304.85 173.746 1304.85 Q177.751 1304.85 180.089 1302.75 Q182.427 1300.64 182.427 1297.03 Q182.427 1293.42 180.089 1291.31 Q177.751 1289.2 173.746 1289.2 Q171.871 1289.2 169.996 1289.62 Q168.144 1290.04 166.2 1290.92 L166.2 1273.56 Z\" fill=\"#000000\" fill-rule=\"evenodd\" fill-opacity=\"1\" /><path clip-path=\"url(#clip170)\" d=\"M99.765 1060.52 Q96.1539 1060.52 94.3252 1064.08 Q92.5197 1067.62 92.5197 1074.75 Q92.5197 1081.86 94.3252 1085.42 Q96.1539 1088.97 99.765 1088.97 Q103.399 1088.97 105.205 1085.42 Q107.033 1081.86 107.033 1074.75 Q107.033 1067.62 105.205 1064.08 Q103.399 1060.52 99.765 1060.52 M99.765 1056.81 Q105.575 1056.81 108.631 1061.42 Q111.709 1066 111.709 1074.75 Q111.709 1083.48 108.631 1088.09 Q105.575 1092.67 99.765 1092.67 Q93.9549 1092.67 90.8762 1088.09 Q87.8206 1083.48 87.8206 1074.75 Q87.8206 1066 90.8762 1061.42 Q93.9549 1056.81 99.765 1056.81 Z\" fill=\"#000000\" fill-rule=\"evenodd\" fill-opacity=\"1\" /><path clip-path=\"url(#clip170)\" d=\"M119.927 1086.12 L124.811 1086.12 L124.811 1092 L119.927 1092 L119.927 1086.12 Z\" fill=\"#000000\" fill-rule=\"evenodd\" fill-opacity=\"1\" /><path clip-path=\"url(#clip170)\" d=\"M144.996 1060.52 Q141.385 1060.52 139.556 1064.08 Q137.751 1067.62 137.751 1074.75 Q137.751 1081.86 139.556 1085.42 Q141.385 1088.97 144.996 1088.97 Q148.63 1088.97 150.436 1085.42 Q152.265 1081.86 152.265 1074.75 Q152.265 1067.62 150.436 1064.08 Q148.63 1060.52 144.996 1060.52 M144.996 1056.81 Q150.806 1056.81 153.862 1061.42 Q156.941 1066 156.941 1074.75 Q156.941 1083.48 153.862 1088.09 Q150.806 1092.67 144.996 1092.67 Q139.186 1092.67 136.107 1088.09 Q133.052 1083.48 133.052 1074.75 Q133.052 1066 136.107 1061.42 Q139.186 1056.81 144.996 1056.81 Z\" fill=\"#000000\" fill-rule=\"evenodd\" fill-opacity=\"1\" /><path clip-path=\"url(#clip170)\" d=\"M175.158 1060.52 Q171.547 1060.52 169.718 1064.08 Q167.913 1067.62 167.913 1074.75 Q167.913 1081.86 169.718 1085.42 Q171.547 1088.97 175.158 1088.97 Q178.792 1088.97 180.598 1085.42 Q182.427 1081.86 182.427 1074.75 Q182.427 1067.62 180.598 1064.08 Q178.792 1060.52 175.158 1060.52 M175.158 1056.81 Q180.968 1056.81 184.024 1061.42 Q187.103 1066 187.103 1074.75 Q187.103 1083.48 184.024 1088.09 Q180.968 1092.67 175.158 1092.67 Q169.348 1092.67 166.269 1088.09 Q163.214 1083.48 163.214 1074.75 Q163.214 1066 166.269 1061.42 Q169.348 1056.81 175.158 1056.81 Z\" fill=\"#000000\" fill-rule=\"evenodd\" fill-opacity=\"1\" /><path clip-path=\"url(#clip170)\" d=\"M100.76 844.397 Q97.1493 844.397 95.3206 847.962 Q93.515 851.504 93.515 858.633 Q93.515 865.74 95.3206 869.305 Q97.1493 872.846 100.76 872.846 Q104.395 872.846 106.2 869.305 Q108.029 865.74 108.029 858.633 Q108.029 851.504 106.2 847.962 Q104.395 844.397 100.76 844.397 M100.76 840.694 Q106.571 840.694 109.626 845.3 Q112.705 849.883 112.705 858.633 Q112.705 867.36 109.626 871.967 Q106.571 876.55 100.76 876.55 Q94.9502 876.55 91.8715 871.967 Q88.816 867.36 88.816 858.633 Q88.816 849.883 91.8715 845.3 Q94.9502 840.694 100.76 840.694 Z\" fill=\"#000000\" fill-rule=\"evenodd\" fill-opacity=\"1\" /><path clip-path=\"url(#clip170)\" d=\"M120.922 869.999 L125.807 869.999 L125.807 875.879 L120.922 875.879 L120.922 869.999 Z\" fill=\"#000000\" fill-rule=\"evenodd\" fill-opacity=\"1\" /><path clip-path=\"url(#clip170)\" d=\"M145.992 844.397 Q142.381 844.397 140.552 847.962 Q138.746 851.504 138.746 858.633 Q138.746 865.74 140.552 869.305 Q142.381 872.846 145.992 872.846 Q149.626 872.846 151.431 869.305 Q153.26 865.74 153.26 858.633 Q153.26 851.504 151.431 847.962 Q149.626 844.397 145.992 844.397 M145.992 840.694 Q151.802 840.694 154.857 845.3 Q157.936 849.883 157.936 858.633 Q157.936 867.36 154.857 871.967 Q151.802 876.55 145.992 876.55 Q140.181 876.55 137.103 871.967 Q134.047 867.36 134.047 858.633 Q134.047 849.883 137.103 845.3 Q140.181 840.694 145.992 840.694 Z\" fill=\"#000000\" fill-rule=\"evenodd\" fill-opacity=\"1\" /><path clip-path=\"url(#clip170)\" d=\"M166.2 841.319 L184.556 841.319 L184.556 845.254 L170.482 845.254 L170.482 853.726 Q171.501 853.379 172.519 853.217 Q173.538 853.032 174.556 853.032 Q180.343 853.032 183.723 856.203 Q187.103 859.374 187.103 864.791 Q187.103 870.369 183.63 873.471 Q180.158 876.55 173.839 876.55 Q171.663 876.55 169.394 876.18 Q167.149 875.809 164.742 875.069 L164.742 870.369 Q166.825 871.504 169.047 872.059 Q171.269 872.615 173.746 872.615 Q177.751 872.615 180.089 870.508 Q182.427 868.402 182.427 864.791 Q182.427 861.18 180.089 859.073 Q177.751 856.967 173.746 856.967 Q171.871 856.967 169.996 857.383 Q168.144 857.8 166.2 858.68 L166.2 841.319 Z\" fill=\"#000000\" fill-rule=\"evenodd\" fill-opacity=\"1\" /><path clip-path=\"url(#clip170)\" d=\"M99.765 628.279 Q96.1539 628.279 94.3252 631.843 Q92.5197 635.385 92.5197 642.515 Q92.5197 649.621 94.3252 653.186 Q96.1539 656.728 99.765 656.728 Q103.399 656.728 105.205 653.186 Q107.033 649.621 107.033 642.515 Q107.033 635.385 105.205 631.843 Q103.399 628.279 99.765 628.279 M99.765 624.575 Q105.575 624.575 108.631 629.181 Q111.709 633.765 111.709 642.515 Q111.709 651.242 108.631 655.848 Q105.575 660.431 99.765 660.431 Q93.9549 660.431 90.8762 655.848 Q87.8206 651.242 87.8206 642.515 Q87.8206 633.765 90.8762 629.181 Q93.9549 624.575 99.765 624.575 Z\" fill=\"#000000\" fill-rule=\"evenodd\" fill-opacity=\"1\" /><path clip-path=\"url(#clip170)\" d=\"M119.927 653.88 L124.811 653.88 L124.811 659.76 L119.927 659.76 L119.927 653.88 Z\" fill=\"#000000\" fill-rule=\"evenodd\" fill-opacity=\"1\" /><path clip-path=\"url(#clip170)\" d=\"M135.806 655.825 L143.445 655.825 L143.445 629.459 L135.135 631.126 L135.135 626.867 L143.399 625.2 L148.075 625.2 L148.075 655.825 L155.714 655.825 L155.714 659.76 L135.806 659.76 L135.806 655.825 Z\" fill=\"#000000\" fill-rule=\"evenodd\" fill-opacity=\"1\" /><path clip-path=\"url(#clip170)\" d=\"M175.158 628.279 Q171.547 628.279 169.718 631.843 Q167.913 635.385 167.913 642.515 Q167.913 649.621 169.718 653.186 Q171.547 656.728 175.158 656.728 Q178.792 656.728 180.598 653.186 Q182.427 649.621 182.427 642.515 Q182.427 635.385 180.598 631.843 Q178.792 628.279 175.158 628.279 M175.158 624.575 Q180.968 624.575 184.024 629.181 Q187.103 633.765 187.103 642.515 Q187.103 651.242 184.024 655.848 Q180.968 660.431 175.158 660.431 Q169.348 660.431 166.269 655.848 Q163.214 651.242 163.214 642.515 Q163.214 633.765 166.269 629.181 Q169.348 624.575 175.158 624.575 Z\" fill=\"#000000\" fill-rule=\"evenodd\" fill-opacity=\"1\" /><path clip-path=\"url(#clip170)\" d=\"M100.76 412.16 Q97.1493 412.16 95.3206 415.725 Q93.515 419.266 93.515 426.396 Q93.515 433.502 95.3206 437.067 Q97.1493 440.609 100.76 440.609 Q104.395 440.609 106.2 437.067 Q108.029 433.502 108.029 426.396 Q108.029 419.266 106.2 415.725 Q104.395 412.16 100.76 412.16 M100.76 408.456 Q106.571 408.456 109.626 413.063 Q112.705 417.646 112.705 426.396 Q112.705 435.123 109.626 439.729 Q106.571 444.313 100.76 444.313 Q94.9502 444.313 91.8715 439.729 Q88.816 435.123 88.816 426.396 Q88.816 417.646 91.8715 413.063 Q94.9502 408.456 100.76 408.456 Z\" fill=\"#000000\" fill-rule=\"evenodd\" fill-opacity=\"1\" /><path clip-path=\"url(#clip170)\" d=\"M120.922 437.762 L125.807 437.762 L125.807 443.641 L120.922 443.641 L120.922 437.762 Z\" fill=\"#000000\" fill-rule=\"evenodd\" fill-opacity=\"1\" /><path clip-path=\"url(#clip170)\" d=\"M136.802 439.706 L144.441 439.706 L144.441 413.341 L136.131 415.007 L136.131 410.748 L144.394 409.081 L149.07 409.081 L149.07 439.706 L156.709 439.706 L156.709 443.641 L136.802 443.641 L136.802 439.706 Z\" fill=\"#000000\" fill-rule=\"evenodd\" fill-opacity=\"1\" /><path clip-path=\"url(#clip170)\" d=\"M166.2 409.081 L184.556 409.081 L184.556 413.016 L170.482 413.016 L170.482 421.489 Q171.501 421.141 172.519 420.979 Q173.538 420.794 174.556 420.794 Q180.343 420.794 183.723 423.965 Q187.103 427.137 187.103 432.553 Q187.103 438.132 183.63 441.234 Q180.158 444.313 173.839 444.313 Q171.663 444.313 169.394 443.942 Q167.149 443.572 164.742 442.831 L164.742 438.132 Q166.825 439.266 169.047 439.822 Q171.269 440.377 173.746 440.377 Q177.751 440.377 180.089 438.271 Q182.427 436.164 182.427 432.553 Q182.427 428.942 180.089 426.836 Q177.751 424.729 173.746 424.729 Q171.871 424.729 169.996 425.146 Q168.144 425.563 166.2 426.442 L166.2 409.081 Z\" fill=\"#000000\" fill-rule=\"evenodd\" fill-opacity=\"1\" /><path clip-path=\"url(#clip170)\" d=\"M99.765 196.041 Q96.1539 196.041 94.3252 199.606 Q92.5197 203.148 92.5197 210.277 Q92.5197 217.384 94.3252 220.949 Q96.1539 224.49 99.765 224.49 Q103.399 224.49 105.205 220.949 Q107.033 217.384 107.033 210.277 Q107.033 203.148 105.205 199.606 Q103.399 196.041 99.765 196.041 M99.765 192.338 Q105.575 192.338 108.631 196.944 Q111.709 201.527 111.709 210.277 Q111.709 219.004 108.631 223.611 Q105.575 228.194 99.765 228.194 Q93.9549 228.194 90.8762 223.611 Q87.8206 219.004 87.8206 210.277 Q87.8206 201.527 90.8762 196.944 Q93.9549 192.338 99.765 192.338 Z\" fill=\"#000000\" fill-rule=\"evenodd\" fill-opacity=\"1\" /><path clip-path=\"url(#clip170)\" d=\"M119.927 221.643 L124.811 221.643 L124.811 227.523 L119.927 227.523 L119.927 221.643 Z\" fill=\"#000000\" fill-rule=\"evenodd\" fill-opacity=\"1\" /><path clip-path=\"url(#clip170)\" d=\"M139.024 223.587 L155.343 223.587 L155.343 227.523 L133.399 227.523 L133.399 223.587 Q136.061 220.833 140.644 216.203 Q145.251 211.55 146.431 210.208 Q148.677 207.685 149.556 205.949 Q150.459 204.189 150.459 202.5 Q150.459 199.745 148.515 198.009 Q146.593 196.273 143.492 196.273 Q141.293 196.273 138.839 197.037 Q136.408 197.801 133.631 199.351 L133.631 194.629 Q136.455 193.495 138.908 192.916 Q141.362 192.338 143.399 192.338 Q148.769 192.338 151.964 195.023 Q155.158 197.708 155.158 202.199 Q155.158 204.328 154.348 206.25 Q153.561 208.148 151.455 210.74 Q150.876 211.412 147.774 214.629 Q144.672 217.824 139.024 223.587 Z\" fill=\"#000000\" fill-rule=\"evenodd\" fill-opacity=\"1\" /><path clip-path=\"url(#clip170)\" d=\"M175.158 196.041 Q171.547 196.041 169.718 199.606 Q167.913 203.148 167.913 210.277 Q167.913 217.384 169.718 220.949 Q171.547 224.49 175.158 224.49 Q178.792 224.49 180.598 220.949 Q182.427 217.384 182.427 210.277 Q182.427 203.148 180.598 199.606 Q178.792 196.041 175.158 196.041 M175.158 192.338 Q180.968 192.338 184.024 196.944 Q187.103 201.527 187.103 210.277 Q187.103 219.004 184.024 223.611 Q180.968 228.194 175.158 228.194 Q169.348 228.194 166.269 223.611 Q163.214 219.004 163.214 210.277 Q163.214 201.527 166.269 196.944 Q169.348 192.338 175.158 192.338 Z\" fill=\"#000000\" fill-rule=\"evenodd\" fill-opacity=\"1\" /><circle clip-path=\"url(#clip172)\" cx=\"2184.68\" cy=\"1395.85\" r=\"14.4\" fill=\"#008000\" fill-rule=\"evenodd\" fill-opacity=\"1\" stroke=\"#000000\" stroke-opacity=\"1\" stroke-width=\"3.2\"/>\n<circle clip-path=\"url(#clip172)\" cx=\"2142.38\" cy=\"1301.72\" r=\"14.4\" fill=\"#008000\" fill-rule=\"evenodd\" fill-opacity=\"1\" stroke=\"#000000\" stroke-opacity=\"1\" stroke-width=\"3.2\"/>\n<circle clip-path=\"url(#clip172)\" cx=\"1882.27\" cy=\"627.676\" r=\"14.4\" fill=\"#008000\" fill-rule=\"evenodd\" fill-opacity=\"1\" stroke=\"#000000\" stroke-opacity=\"1\" stroke-width=\"3.2\"/>\n<circle clip-path=\"url(#clip172)\" cx=\"630.622\" cy=\"934.269\" r=\"14.4\" fill=\"#008000\" fill-rule=\"evenodd\" fill-opacity=\"1\" stroke=\"#000000\" stroke-opacity=\"1\" stroke-width=\"3.2\"/>\n<circle clip-path=\"url(#clip172)\" cx=\"499.265\" cy=\"1065.68\" r=\"14.4\" fill=\"#008000\" fill-rule=\"evenodd\" fill-opacity=\"1\" stroke=\"#000000\" stroke-opacity=\"1\" stroke-width=\"3.2\"/>\n<circle clip-path=\"url(#clip172)\" cx=\"1265.69\" cy=\"986.295\" r=\"14.4\" fill=\"#008000\" fill-rule=\"evenodd\" fill-opacity=\"1\" stroke=\"#000000\" stroke-opacity=\"1\" stroke-width=\"3.2\"/>\n<circle clip-path=\"url(#clip172)\" cx=\"430.217\" cy=\"1122.12\" r=\"14.4\" fill=\"#008000\" fill-rule=\"evenodd\" fill-opacity=\"1\" stroke=\"#000000\" stroke-opacity=\"1\" stroke-width=\"3.2\"/>\n<circle clip-path=\"url(#clip172)\" cx=\"380.857\" cy=\"1072.69\" r=\"14.4\" fill=\"#008000\" fill-rule=\"evenodd\" fill-opacity=\"1\" stroke=\"#000000\" stroke-opacity=\"1\" stroke-width=\"3.2\"/>\n<circle clip-path=\"url(#clip172)\" cx=\"405.368\" cy=\"1077.74\" r=\"14.4\" fill=\"#008000\" fill-rule=\"evenodd\" fill-opacity=\"1\" stroke=\"#000000\" stroke-opacity=\"1\" stroke-width=\"3.2\"/>\n<circle clip-path=\"url(#clip172)\" cx=\"358.579\" cy=\"1138.14\" r=\"14.4\" fill=\"#008000\" fill-rule=\"evenodd\" fill-opacity=\"1\" stroke=\"#000000\" stroke-opacity=\"1\" stroke-width=\"3.2\"/>\n<circle clip-path=\"url(#clip172)\" cx=\"283.376\" cy=\"1138.23\" r=\"14.4\" fill=\"#008000\" fill-rule=\"evenodd\" fill-opacity=\"1\" stroke=\"#000000\" stroke-opacity=\"1\" stroke-width=\"3.2\"/>\n<circle clip-path=\"url(#clip172)\" cx=\"983.177\" cy=\"390.987\" r=\"14.4\" fill=\"#008000\" fill-rule=\"evenodd\" fill-opacity=\"1\" stroke=\"#000000\" stroke-opacity=\"1\" stroke-width=\"3.2\"/>\n<circle clip-path=\"url(#clip172)\" cx=\"1009.24\" cy=\"1370.99\" r=\"14.4\" fill=\"#008000\" fill-rule=\"evenodd\" fill-opacity=\"1\" stroke=\"#000000\" stroke-opacity=\"1\" stroke-width=\"3.2\"/>\n<circle clip-path=\"url(#clip172)\" cx=\"1024.95\" cy=\"1375.63\" r=\"14.4\" fill=\"#008000\" fill-rule=\"evenodd\" fill-opacity=\"1\" stroke=\"#000000\" stroke-opacity=\"1\" stroke-width=\"3.2\"/>\n<circle clip-path=\"url(#clip172)\" cx=\"579.657\" cy=\"850.841\" r=\"14.4\" fill=\"#008000\" fill-rule=\"evenodd\" fill-opacity=\"1\" stroke=\"#000000\" stroke-opacity=\"1\" stroke-width=\"3.2\"/>\n<circle clip-path=\"url(#clip172)\" cx=\"384.88\" cy=\"1069.42\" r=\"14.4\" fill=\"#008000\" fill-rule=\"evenodd\" fill-opacity=\"1\" stroke=\"#000000\" stroke-opacity=\"1\" stroke-width=\"3.2\"/>\n<circle clip-path=\"url(#clip172)\" cx=\"635.029\" cy=\"1162.79\" r=\"14.4\" fill=\"#008000\" fill-rule=\"evenodd\" fill-opacity=\"1\" stroke=\"#000000\" stroke-opacity=\"1\" stroke-width=\"3.2\"/>\n<circle clip-path=\"url(#clip172)\" cx=\"633.099\" cy=\"1145.24\" r=\"14.4\" fill=\"#008000\" fill-rule=\"evenodd\" fill-opacity=\"1\" stroke=\"#000000\" stroke-opacity=\"1\" stroke-width=\"3.2\"/>\n<circle clip-path=\"url(#clip172)\" cx=\"608.871\" cy=\"1113.86\" r=\"14.4\" fill=\"#ff0000\" fill-rule=\"evenodd\" fill-opacity=\"1\" stroke=\"#000000\" stroke-opacity=\"1\" stroke-width=\"3.2\"/>\n<circle clip-path=\"url(#clip172)\" cx=\"606.129\" cy=\"1158.62\" r=\"14.4\" fill=\"#ff0000\" fill-rule=\"evenodd\" fill-opacity=\"1\" stroke=\"#000000\" stroke-opacity=\"1\" stroke-width=\"3.2\"/>\n<circle clip-path=\"url(#clip172)\" cx=\"403.215\" cy=\"1018.37\" r=\"14.4\" fill=\"#ff0000\" fill-rule=\"evenodd\" fill-opacity=\"1\" stroke=\"#000000\" stroke-opacity=\"1\" stroke-width=\"3.2\"/>\n<circle clip-path=\"url(#clip172)\" cx=\"547.135\" cy=\"1090.02\" r=\"14.4\" fill=\"#ff0000\" fill-rule=\"evenodd\" fill-opacity=\"1\" stroke=\"#000000\" stroke-opacity=\"1\" stroke-width=\"3.2\"/>\n<circle clip-path=\"url(#clip172)\" cx=\"599.51\" cy=\"1101.21\" r=\"14.4\" fill=\"#ff0000\" fill-rule=\"evenodd\" fill-opacity=\"1\" stroke=\"#000000\" stroke-opacity=\"1\" stroke-width=\"3.2\"/>\n<circle clip-path=\"url(#clip172)\" cx=\"600.276\" cy=\"1101.08\" r=\"14.4\" fill=\"#ff0000\" fill-rule=\"evenodd\" fill-opacity=\"1\" stroke=\"#000000\" stroke-opacity=\"1\" stroke-width=\"3.2\"/>\n<circle clip-path=\"url(#clip172)\" cx=\"2212.32\" cy=\"1202.01\" r=\"14.4\" fill=\"#ff0000\" fill-rule=\"evenodd\" fill-opacity=\"1\" stroke=\"#000000\" stroke-opacity=\"1\" stroke-width=\"3.2\"/>\n<circle clip-path=\"url(#clip172)\" cx=\"943.111\" cy=\"922.984\" r=\"14.4\" fill=\"#ff0000\" fill-rule=\"evenodd\" fill-opacity=\"1\" stroke=\"#000000\" stroke-opacity=\"1\" stroke-width=\"3.2\"/>\n<circle clip-path=\"url(#clip172)\" cx=\"977.157\" cy=\"1194.17\" r=\"14.4\" fill=\"#ff0000\" fill-rule=\"evenodd\" fill-opacity=\"1\" stroke=\"#000000\" stroke-opacity=\"1\" stroke-width=\"3.2\"/>\n<circle clip-path=\"url(#clip172)\" cx=\"2285.52\" cy=\"1415.64\" r=\"14.4\" fill=\"#ff0000\" fill-rule=\"evenodd\" fill-opacity=\"1\" stroke=\"#000000\" stroke-opacity=\"1\" stroke-width=\"3.2\"/>\n<circle clip-path=\"url(#clip172)\" cx=\"2046.7\" cy=\"1291.81\" r=\"14.4\" fill=\"#ff0000\" fill-rule=\"evenodd\" fill-opacity=\"1\" stroke=\"#000000\" stroke-opacity=\"1\" stroke-width=\"3.2\"/>\n<circle clip-path=\"url(#clip172)\" cx=\"2161.87\" cy=\"1330.93\" r=\"14.4\" fill=\"#ff0000\" fill-rule=\"evenodd\" fill-opacity=\"1\" stroke=\"#000000\" stroke-opacity=\"1\" stroke-width=\"3.2\"/>\n<circle clip-path=\"url(#clip172)\" cx=\"2104.04\" cy=\"936.919\" r=\"14.4\" fill=\"#ff0000\" fill-rule=\"evenodd\" fill-opacity=\"1\" stroke=\"#000000\" stroke-opacity=\"1\" stroke-width=\"3.2\"/>\n<circle clip-path=\"url(#clip172)\" cx=\"1859.02\" cy=\"1219.63\" r=\"14.4\" fill=\"#ff0000\" fill-rule=\"evenodd\" fill-opacity=\"1\" stroke=\"#000000\" stroke-opacity=\"1\" stroke-width=\"3.2\"/>\n<circle clip-path=\"url(#clip172)\" cx=\"2245.74\" cy=\"1213.23\" r=\"14.4\" fill=\"#ff0000\" fill-rule=\"evenodd\" fill-opacity=\"1\" stroke=\"#000000\" stroke-opacity=\"1\" stroke-width=\"3.2\"/>\n<circle clip-path=\"url(#clip172)\" cx=\"1930.94\" cy=\"1355.23\" r=\"14.4\" fill=\"#ff0000\" fill-rule=\"evenodd\" fill-opacity=\"1\" stroke=\"#000000\" stroke-opacity=\"1\" stroke-width=\"3.2\"/>\n<circle clip-path=\"url(#clip172)\" cx=\"2292.48\" cy=\"1308.05\" r=\"14.4\" fill=\"#ff0000\" fill-rule=\"evenodd\" fill-opacity=\"1\" stroke=\"#000000\" stroke-opacity=\"1\" stroke-width=\"3.2\"/>\n<circle clip-path=\"url(#clip172)\" cx=\"1623.31\" cy=\"537.047\" r=\"14.4\" fill=\"#ff0000\" fill-rule=\"evenodd\" fill-opacity=\"1\" stroke=\"#000000\" stroke-opacity=\"1\" stroke-width=\"3.2\"/>\n<circle clip-path=\"url(#clip172)\" cx=\"1422.33\" cy=\"757.77\" r=\"14.4\" fill=\"#ff0000\" fill-rule=\"evenodd\" fill-opacity=\"1\" stroke=\"#000000\" stroke-opacity=\"1\" stroke-width=\"3.2\"/>\n<circle clip-path=\"url(#clip172)\" cx=\"1612.33\" cy=\"784.903\" r=\"14.4\" fill=\"#ff0000\" fill-rule=\"evenodd\" fill-opacity=\"1\" stroke=\"#000000\" stroke-opacity=\"1\" stroke-width=\"3.2\"/>\n<circle clip-path=\"url(#clip172)\" cx=\"1711.58\" cy=\"743.888\" r=\"14.4\" fill=\"#ff0000\" fill-rule=\"evenodd\" fill-opacity=\"1\" stroke=\"#000000\" stroke-opacity=\"1\" stroke-width=\"3.2\"/>\n<circle clip-path=\"url(#clip172)\" cx=\"1670.14\" cy=\"794.473\" r=\"14.4\" fill=\"#ff0000\" fill-rule=\"evenodd\" fill-opacity=\"1\" stroke=\"#000000\" stroke-opacity=\"1\" stroke-width=\"3.2\"/>\n<circle clip-path=\"url(#clip172)\" cx=\"2089.56\" cy=\"1171.85\" r=\"14.4\" fill=\"#ff0000\" fill-rule=\"evenodd\" fill-opacity=\"1\" stroke=\"#000000\" stroke-opacity=\"1\" stroke-width=\"3.2\"/>\n<circle clip-path=\"url(#clip172)\" cx=\"2118.78\" cy=\"1340.54\" r=\"14.4\" fill=\"#ff0000\" fill-rule=\"evenodd\" fill-opacity=\"1\" stroke=\"#000000\" stroke-opacity=\"1\" stroke-width=\"3.2\"/>\n<circle clip-path=\"url(#clip172)\" cx=\"2101.19\" cy=\"1357.57\" r=\"14.4\" fill=\"#ff0000\" fill-rule=\"evenodd\" fill-opacity=\"1\" stroke=\"#000000\" stroke-opacity=\"1\" stroke-width=\"3.2\"/>\n<circle clip-path=\"url(#clip172)\" cx=\"1920.07\" cy=\"1333.49\" r=\"14.4\" fill=\"#ff0000\" fill-rule=\"evenodd\" fill-opacity=\"1\" stroke=\"#000000\" stroke-opacity=\"1\" stroke-width=\"3.2\"/>\n<circle clip-path=\"url(#clip172)\" cx=\"876.109\" cy=\"731.174\" r=\"14.4\" fill=\"#ff0000\" fill-rule=\"evenodd\" fill-opacity=\"1\" stroke=\"#000000\" stroke-opacity=\"1\" stroke-width=\"3.2\"/>\n<circle clip-path=\"url(#clip172)\" cx=\"1073\" cy=\"1171.09\" r=\"14.4\" fill=\"#ff0000\" fill-rule=\"evenodd\" fill-opacity=\"1\" stroke=\"#000000\" stroke-opacity=\"1\" stroke-width=\"3.2\"/>\n<circle clip-path=\"url(#clip172)\" cx=\"1831.67\" cy=\"811.263\" r=\"14.4\" fill=\"#ff0000\" fill-rule=\"evenodd\" fill-opacity=\"1\" stroke=\"#000000\" stroke-opacity=\"1\" stroke-width=\"3.2\"/>\n<circle clip-path=\"url(#clip172)\" cx=\"1631.04\" cy=\"663.986\" r=\"14.4\" fill=\"#ff0000\" fill-rule=\"evenodd\" fill-opacity=\"1\" stroke=\"#000000\" stroke-opacity=\"1\" stroke-width=\"3.2\"/>\n<circle clip-path=\"url(#clip172)\" cx=\"1209.31\" cy=\"87.9763\" r=\"14.4\" fill=\"#ff0000\" fill-rule=\"evenodd\" fill-opacity=\"1\" stroke=\"#000000\" stroke-opacity=\"1\" stroke-width=\"3.2\"/>\n<circle clip-path=\"url(#clip172)\" cx=\"1209.31\" cy=\"87.9763\" r=\"14.4\" fill=\"#ff0000\" fill-rule=\"evenodd\" fill-opacity=\"1\" stroke=\"#000000\" stroke-opacity=\"1\" stroke-width=\"3.2\"/>\n<circle clip-path=\"url(#clip172)\" cx=\"1507.9\" cy=\"336.3\" r=\"14.4\" fill=\"#ff0000\" fill-rule=\"evenodd\" fill-opacity=\"1\" stroke=\"#000000\" stroke-opacity=\"1\" stroke-width=\"3.2\"/>\n<circle clip-path=\"url(#clip172)\" cx=\"1067.12\" cy=\"108.455\" r=\"14.4\" fill=\"#ff0000\" fill-rule=\"evenodd\" fill-opacity=\"1\" stroke=\"#000000\" stroke-opacity=\"1\" stroke-width=\"3.2\"/>\n<circle clip-path=\"url(#clip172)\" cx=\"967.715\" cy=\"189.65\" r=\"14.4\" fill=\"#ff0000\" fill-rule=\"evenodd\" fill-opacity=\"1\" stroke=\"#000000\" stroke-opacity=\"1\" stroke-width=\"3.2\"/>\n<circle clip-path=\"url(#clip172)\" cx=\"982.331\" cy=\"1427.61\" r=\"14.4\" fill=\"#ff0000\" fill-rule=\"evenodd\" fill-opacity=\"1\" stroke=\"#000000\" stroke-opacity=\"1\" stroke-width=\"3.2\"/>\n<circle clip-path=\"url(#clip172)\" cx=\"378.001\" cy=\"1093.02\" r=\"14.4\" fill=\"#ff0000\" fill-rule=\"evenodd\" fill-opacity=\"1\" stroke=\"#000000\" stroke-opacity=\"1\" stroke-width=\"3.2\"/>\n<circle clip-path=\"url(#clip172)\" cx=\"591.322\" cy=\"1068.11\" r=\"14.4\" fill=\"#ff0000\" fill-rule=\"evenodd\" fill-opacity=\"1\" stroke=\"#000000\" stroke-opacity=\"1\" stroke-width=\"3.2\"/>\n<circle clip-path=\"url(#clip172)\" cx=\"852.312\" cy=\"1021.42\" r=\"14.4\" fill=\"#ff0000\" fill-rule=\"evenodd\" fill-opacity=\"1\" stroke=\"#000000\" stroke-opacity=\"1\" stroke-width=\"3.2\"/>\n<circle clip-path=\"url(#clip172)\" cx=\"688.447\" cy=\"1138.41\" r=\"14.4\" fill=\"#ff0000\" fill-rule=\"evenodd\" fill-opacity=\"1\" stroke=\"#000000\" stroke-opacity=\"1\" stroke-width=\"3.2\"/>\n<circle clip-path=\"url(#clip172)\" cx=\"718.929\" cy=\"1152.64\" r=\"14.4\" fill=\"#ff0000\" fill-rule=\"evenodd\" fill-opacity=\"1\" stroke=\"#000000\" stroke-opacity=\"1\" stroke-width=\"3.2\"/>\n<circle clip-path=\"url(#clip172)\" cx=\"736.205\" cy=\"945.883\" r=\"14.4\" fill=\"#ff0000\" fill-rule=\"evenodd\" fill-opacity=\"1\" stroke=\"#000000\" stroke-opacity=\"1\" stroke-width=\"3.2\"/>\n<circle clip-path=\"url(#clip172)\" cx=\"556.989\" cy=\"1077.48\" r=\"14.4\" fill=\"#ff0000\" fill-rule=\"evenodd\" fill-opacity=\"1\" stroke=\"#000000\" stroke-opacity=\"1\" stroke-width=\"3.2\"/>\n<circle clip-path=\"url(#clip172)\" cx=\"389.405\" cy=\"1080.02\" r=\"14.4\" fill=\"#ff0000\" fill-rule=\"evenodd\" fill-opacity=\"1\" stroke=\"#000000\" stroke-opacity=\"1\" stroke-width=\"3.2\"/>\n<circle clip-path=\"url(#clip172)\" cx=\"538.775\" cy=\"1079.4\" r=\"14.4\" fill=\"#ff0000\" fill-rule=\"evenodd\" fill-opacity=\"1\" stroke=\"#000000\" stroke-opacity=\"1\" stroke-width=\"3.2\"/>\n<circle clip-path=\"url(#clip172)\" cx=\"390.26\" cy=\"1081\" r=\"14.4\" fill=\"#ff0000\" fill-rule=\"evenodd\" fill-opacity=\"1\" stroke=\"#000000\" stroke-opacity=\"1\" stroke-width=\"3.2\"/>\n<circle clip-path=\"url(#clip172)\" cx=\"554.37\" cy=\"1077.41\" r=\"14.4\" fill=\"#ff0000\" fill-rule=\"evenodd\" fill-opacity=\"1\" stroke=\"#000000\" stroke-opacity=\"1\" stroke-width=\"3.2\"/>\n<circle clip-path=\"url(#clip172)\" cx=\"558.208\" cy=\"1120.45\" r=\"14.4\" fill=\"#ff0000\" fill-rule=\"evenodd\" fill-opacity=\"1\" stroke=\"#000000\" stroke-opacity=\"1\" stroke-width=\"3.2\"/>\n<circle clip-path=\"url(#clip172)\" cx=\"434.127\" cy=\"1141.27\" r=\"14.4\" fill=\"#ff0000\" fill-rule=\"evenodd\" fill-opacity=\"1\" stroke=\"#000000\" stroke-opacity=\"1\" stroke-width=\"3.2\"/>\n<circle clip-path=\"url(#clip172)\" cx=\"442.878\" cy=\"1118.07\" r=\"14.4\" fill=\"#ff0000\" fill-rule=\"evenodd\" fill-opacity=\"1\" stroke=\"#000000\" stroke-opacity=\"1\" stroke-width=\"3.2\"/>\n<circle clip-path=\"url(#clip172)\" cx=\"443.472\" cy=\"1114.54\" r=\"14.4\" fill=\"#ff0000\" fill-rule=\"evenodd\" fill-opacity=\"1\" stroke=\"#000000\" stroke-opacity=\"1\" stroke-width=\"3.2\"/>\n<circle clip-path=\"url(#clip172)\" cx=\"363.486\" cy=\"1092.72\" r=\"14.4\" fill=\"#ff0000\" fill-rule=\"evenodd\" fill-opacity=\"1\" stroke=\"#000000\" stroke-opacity=\"1\" stroke-width=\"3.2\"/>\n<circle clip-path=\"url(#clip172)\" cx=\"531.055\" cy=\"1082.5\" r=\"14.4\" fill=\"#ff0000\" fill-rule=\"evenodd\" fill-opacity=\"1\" stroke=\"#000000\" stroke-opacity=\"1\" stroke-width=\"3.2\"/>\n<circle clip-path=\"url(#clip172)\" cx=\"405.69\" cy=\"1071.72\" r=\"14.4\" fill=\"#ff0000\" fill-rule=\"evenodd\" fill-opacity=\"1\" stroke=\"#000000\" stroke-opacity=\"1\" stroke-width=\"3.2\"/>\n<circle clip-path=\"url(#clip172)\" cx=\"370.842\" cy=\"1097.38\" r=\"14.4\" fill=\"#ff0000\" fill-rule=\"evenodd\" fill-opacity=\"1\" stroke=\"#000000\" stroke-opacity=\"1\" stroke-width=\"3.2\"/>\n<circle clip-path=\"url(#clip172)\" cx=\"379.359\" cy=\"1089.47\" r=\"14.4\" fill=\"#ff0000\" fill-rule=\"evenodd\" fill-opacity=\"1\" stroke=\"#000000\" stroke-opacity=\"1\" stroke-width=\"3.2\"/>\n<circle clip-path=\"url(#clip172)\" cx=\"370.58\" cy=\"1062.28\" r=\"14.4\" fill=\"#ff0000\" fill-rule=\"evenodd\" fill-opacity=\"1\" stroke=\"#000000\" stroke-opacity=\"1\" stroke-width=\"3.2\"/>\n<circle clip-path=\"url(#clip172)\" cx=\"527.554\" cy=\"1072.06\" r=\"14.4\" fill=\"#ff0000\" fill-rule=\"evenodd\" fill-opacity=\"1\" stroke=\"#000000\" stroke-opacity=\"1\" stroke-width=\"3.2\"/>\n<circle clip-path=\"url(#clip172)\" cx=\"534.665\" cy=\"1089.03\" r=\"14.4\" fill=\"#ff0000\" fill-rule=\"evenodd\" fill-opacity=\"1\" stroke=\"#000000\" stroke-opacity=\"1\" stroke-width=\"3.2\"/>\n<circle clip-path=\"url(#clip172)\" cx=\"400.565\" cy=\"1099.67\" r=\"14.4\" fill=\"#ff0000\" fill-rule=\"evenodd\" fill-opacity=\"1\" stroke=\"#000000\" stroke-opacity=\"1\" stroke-width=\"3.2\"/>\n<circle clip-path=\"url(#clip172)\" cx=\"337.399\" cy=\"1052.38\" r=\"14.4\" fill=\"#ff0000\" fill-rule=\"evenodd\" fill-opacity=\"1\" stroke=\"#000000\" stroke-opacity=\"1\" stroke-width=\"3.2\"/>\n<circle clip-path=\"url(#clip172)\" cx=\"366.899\" cy=\"1053.42\" r=\"14.4\" fill=\"#ff0000\" fill-rule=\"evenodd\" fill-opacity=\"1\" stroke=\"#000000\" stroke-opacity=\"1\" stroke-width=\"3.2\"/>\n<circle clip-path=\"url(#clip172)\" cx=\"668.225\" cy=\"1051.66\" r=\"14.4\" fill=\"#ff0000\" fill-rule=\"evenodd\" fill-opacity=\"1\" stroke=\"#000000\" stroke-opacity=\"1\" stroke-width=\"3.2\"/>\n<circle clip-path=\"url(#clip172)\" cx=\"726.27\" cy=\"1050.04\" r=\"14.4\" fill=\"#ff0000\" fill-rule=\"evenodd\" fill-opacity=\"1\" stroke=\"#000000\" stroke-opacity=\"1\" stroke-width=\"3.2\"/>\n<circle clip-path=\"url(#clip172)\" cx=\"364.105\" cy=\"1150.82\" r=\"14.4\" fill=\"#ff0000\" fill-rule=\"evenodd\" fill-opacity=\"1\" stroke=\"#000000\" stroke-opacity=\"1\" stroke-width=\"3.2\"/>\n<circle clip-path=\"url(#clip172)\" cx=\"2113.38\" cy=\"1310.39\" r=\"14.4\" fill=\"#ff0000\" fill-rule=\"evenodd\" fill-opacity=\"1\" stroke=\"#000000\" stroke-opacity=\"1\" stroke-width=\"3.2\"/>\n<circle clip-path=\"url(#clip172)\" cx=\"1897.09\" cy=\"1272.26\" r=\"14.4\" fill=\"#ff0000\" fill-rule=\"evenodd\" fill-opacity=\"1\" stroke=\"#000000\" stroke-opacity=\"1\" stroke-width=\"3.2\"/>\n<circle clip-path=\"url(#clip172)\" cx=\"989.62\" cy=\"1362.36\" r=\"14.4\" fill=\"#ff0000\" fill-rule=\"evenodd\" fill-opacity=\"1\" stroke=\"#000000\" stroke-opacity=\"1\" stroke-width=\"3.2\"/>\n<circle clip-path=\"url(#clip172)\" cx=\"1016.91\" cy=\"1377.75\" r=\"14.4\" fill=\"#ff0000\" fill-rule=\"evenodd\" fill-opacity=\"1\" stroke=\"#000000\" stroke-opacity=\"1\" stroke-width=\"3.2\"/>\n<circle clip-path=\"url(#clip172)\" cx=\"1440.69\" cy=\"939.693\" r=\"14.4\" fill=\"#ff0000\" fill-rule=\"evenodd\" fill-opacity=\"1\" stroke=\"#000000\" stroke-opacity=\"1\" stroke-width=\"3.2\"/>\n<circle clip-path=\"url(#clip172)\" cx=\"520.453\" cy=\"1186.37\" r=\"14.4\" fill=\"#ff0000\" fill-rule=\"evenodd\" fill-opacity=\"1\" stroke=\"#000000\" stroke-opacity=\"1\" stroke-width=\"3.2\"/>\n<circle clip-path=\"url(#clip172)\" cx=\"749.288\" cy=\"1255.94\" r=\"14.4\" fill=\"#ff0000\" fill-rule=\"evenodd\" fill-opacity=\"1\" stroke=\"#000000\" stroke-opacity=\"1\" stroke-width=\"3.2\"/>\n<circle clip-path=\"url(#clip172)\" cx=\"1055.21\" cy=\"1401.04\" r=\"14.4\" fill=\"#ff0000\" fill-rule=\"evenodd\" fill-opacity=\"1\" stroke=\"#000000\" stroke-opacity=\"1\" stroke-width=\"3.2\"/>\n<circle clip-path=\"url(#clip172)\" cx=\"626.561\" cy=\"1347.58\" r=\"14.4\" fill=\"#ff0000\" fill-rule=\"evenodd\" fill-opacity=\"1\" stroke=\"#000000\" stroke-opacity=\"1\" stroke-width=\"3.2\"/>\n<circle clip-path=\"url(#clip172)\" cx=\"1036.39\" cy=\"1429.79\" r=\"14.4\" fill=\"#ff0000\" fill-rule=\"evenodd\" fill-opacity=\"1\" stroke=\"#000000\" stroke-opacity=\"1\" stroke-width=\"3.2\"/>\n<circle clip-path=\"url(#clip172)\" cx=\"776.064\" cy=\"1325.74\" r=\"14.4\" fill=\"#ff0000\" fill-rule=\"evenodd\" fill-opacity=\"1\" stroke=\"#000000\" stroke-opacity=\"1\" stroke-width=\"3.2\"/>\n<circle clip-path=\"url(#clip172)\" cx=\"685.48\" cy=\"947.641\" r=\"14.4\" fill=\"#ff0000\" fill-rule=\"evenodd\" fill-opacity=\"1\" stroke=\"#000000\" stroke-opacity=\"1\" stroke-width=\"3.2\"/>\n<circle clip-path=\"url(#clip172)\" cx=\"590.439\" cy=\"1038.98\" r=\"14.4\" fill=\"#ff0000\" fill-rule=\"evenodd\" fill-opacity=\"1\" stroke=\"#000000\" stroke-opacity=\"1\" stroke-width=\"3.2\"/>\n<circle clip-path=\"url(#clip172)\" cx=\"508.54\" cy=\"931.84\" r=\"14.4\" fill=\"#ff0000\" fill-rule=\"evenodd\" fill-opacity=\"1\" stroke=\"#000000\" stroke-opacity=\"1\" stroke-width=\"3.2\"/>\n<circle clip-path=\"url(#clip172)\" cx=\"483.278\" cy=\"937.628\" r=\"14.4\" fill=\"#ff0000\" fill-rule=\"evenodd\" fill-opacity=\"1\" stroke=\"#000000\" stroke-opacity=\"1\" stroke-width=\"3.2\"/>\n<circle clip-path=\"url(#clip172)\" cx=\"537.31\" cy=\"1023\" r=\"14.4\" fill=\"#ff0000\" fill-rule=\"evenodd\" fill-opacity=\"1\" stroke=\"#000000\" stroke-opacity=\"1\" stroke-width=\"3.2\"/>\n<circle clip-path=\"url(#clip172)\" cx=\"533.4\" cy=\"1037.48\" r=\"14.4\" fill=\"#ff0000\" fill-rule=\"evenodd\" fill-opacity=\"1\" stroke=\"#000000\" stroke-opacity=\"1\" stroke-width=\"3.2\"/>\n<circle clip-path=\"url(#clip172)\" cx=\"366.021\" cy=\"1083.47\" r=\"14.4\" fill=\"#ff0000\" fill-rule=\"evenodd\" fill-opacity=\"1\" stroke=\"#000000\" stroke-opacity=\"1\" stroke-width=\"3.2\"/>\n<circle clip-path=\"url(#clip172)\" cx=\"528.119\" cy=\"1016.73\" r=\"14.4\" fill=\"#ff0000\" fill-rule=\"evenodd\" fill-opacity=\"1\" stroke=\"#000000\" stroke-opacity=\"1\" stroke-width=\"3.2\"/>\n<circle clip-path=\"url(#clip172)\" cx=\"571.959\" cy=\"1104.18\" r=\"14.4\" fill=\"#ff0000\" fill-rule=\"evenodd\" fill-opacity=\"1\" stroke=\"#000000\" stroke-opacity=\"1\" stroke-width=\"3.2\"/>\n<circle clip-path=\"url(#clip172)\" cx=\"410.664\" cy=\"1102.86\" r=\"14.4\" fill=\"#ff0000\" fill-rule=\"evenodd\" fill-opacity=\"1\" stroke=\"#000000\" stroke-opacity=\"1\" stroke-width=\"3.2\"/>\n<circle clip-path=\"url(#clip172)\" cx=\"396.836\" cy=\"1123.39\" r=\"14.4\" fill=\"#ff0000\" fill-rule=\"evenodd\" fill-opacity=\"1\" stroke=\"#000000\" stroke-opacity=\"1\" stroke-width=\"3.2\"/>\n<circle clip-path=\"url(#clip172)\" cx=\"364.23\" cy=\"1079.43\" r=\"14.4\" fill=\"#ff0000\" fill-rule=\"evenodd\" fill-opacity=\"1\" stroke=\"#000000\" stroke-opacity=\"1\" stroke-width=\"3.2\"/>\n<circle clip-path=\"url(#clip172)\" cx=\"372.395\" cy=\"1072.1\" r=\"14.4\" fill=\"#ff0000\" fill-rule=\"evenodd\" fill-opacity=\"1\" stroke=\"#000000\" stroke-opacity=\"1\" stroke-width=\"3.2\"/>\n<circle clip-path=\"url(#clip172)\" cx=\"400.26\" cy=\"1092.64\" r=\"14.4\" fill=\"#ff0000\" fill-rule=\"evenodd\" fill-opacity=\"1\" stroke=\"#000000\" stroke-opacity=\"1\" stroke-width=\"3.2\"/>\n<circle clip-path=\"url(#clip172)\" cx=\"2118.38\" cy=\"1361.9\" r=\"14.4\" fill=\"#ff0000\" fill-rule=\"evenodd\" fill-opacity=\"1\" stroke=\"#000000\" stroke-opacity=\"1\" stroke-width=\"3.2\"/>\n<circle clip-path=\"url(#clip172)\" cx=\"1514.59\" cy=\"770.66\" r=\"14.4\" fill=\"#ff0000\" fill-rule=\"evenodd\" fill-opacity=\"1\" stroke=\"#000000\" stroke-opacity=\"1\" stroke-width=\"3.2\"/>\n<circle clip-path=\"url(#clip172)\" cx=\"1973.81\" cy=\"1326.69\" r=\"14.4\" fill=\"#ff0000\" fill-rule=\"evenodd\" fill-opacity=\"1\" stroke=\"#000000\" stroke-opacity=\"1\" stroke-width=\"3.2\"/>\n<circle clip-path=\"url(#clip172)\" cx=\"1855.56\" cy=\"678.087\" r=\"14.4\" fill=\"#ff0000\" fill-rule=\"evenodd\" fill-opacity=\"1\" stroke=\"#000000\" stroke-opacity=\"1\" stroke-width=\"3.2\"/>\n<circle clip-path=\"url(#clip172)\" cx=\"1037.1\" cy=\"1380.37\" r=\"14.4\" fill=\"#ff0000\" fill-rule=\"evenodd\" fill-opacity=\"1\" stroke=\"#000000\" stroke-opacity=\"1\" stroke-width=\"3.2\"/>\n<circle clip-path=\"url(#clip172)\" cx=\"1050.58\" cy=\"1445.72\" r=\"14.4\" fill=\"#ff0000\" fill-rule=\"evenodd\" fill-opacity=\"1\" stroke=\"#000000\" stroke-opacity=\"1\" stroke-width=\"3.2\"/>\n<circle clip-path=\"url(#clip172)\" cx=\"989.398\" cy=\"378.761\" r=\"14.4\" fill=\"#0000ff\" fill-rule=\"evenodd\" fill-opacity=\"1\" stroke=\"#000000\" stroke-opacity=\"1\" stroke-width=\"3.2\"/>\n<circle clip-path=\"url(#clip172)\" cx=\"604.337\" cy=\"1154.74\" r=\"14.4\" fill=\"#0000ff\" fill-rule=\"evenodd\" fill-opacity=\"1\" stroke=\"#000000\" stroke-opacity=\"1\" stroke-width=\"3.2\"/>\n<circle clip-path=\"url(#clip172)\" cx=\"1265.39\" cy=\"350.337\" r=\"14.4\" fill=\"#0000ff\" fill-rule=\"evenodd\" fill-opacity=\"1\" stroke=\"#000000\" stroke-opacity=\"1\" stroke-width=\"3.2\"/>\n<circle clip-path=\"url(#clip172)\" cx=\"2056.52\" cy=\"1343.97\" r=\"14.4\" fill=\"#0000ff\" fill-rule=\"evenodd\" fill-opacity=\"1\" stroke=\"#000000\" stroke-opacity=\"1\" stroke-width=\"3.2\"/>\n<circle clip-path=\"url(#clip172)\" cx=\"2150\" cy=\"1258.05\" r=\"14.4\" fill=\"#0000ff\" fill-rule=\"evenodd\" fill-opacity=\"1\" stroke=\"#000000\" stroke-opacity=\"1\" stroke-width=\"3.2\"/>\n<circle clip-path=\"url(#clip172)\" cx=\"2191.01\" cy=\"1326.57\" r=\"14.4\" fill=\"#0000ff\" fill-rule=\"evenodd\" fill-opacity=\"1\" stroke=\"#000000\" stroke-opacity=\"1\" stroke-width=\"3.2\"/>\n<circle clip-path=\"url(#clip172)\" cx=\"2037.48\" cy=\"1281.39\" r=\"14.4\" fill=\"#0000ff\" fill-rule=\"evenodd\" fill-opacity=\"1\" stroke=\"#000000\" stroke-opacity=\"1\" stroke-width=\"3.2\"/>\n<circle clip-path=\"url(#clip172)\" cx=\"2139.85\" cy=\"1095.51\" r=\"14.4\" fill=\"#0000ff\" fill-rule=\"evenodd\" fill-opacity=\"1\" stroke=\"#000000\" stroke-opacity=\"1\" stroke-width=\"3.2\"/>\n<circle clip-path=\"url(#clip172)\" cx=\"2213.92\" cy=\"1151\" r=\"14.4\" fill=\"#0000ff\" fill-rule=\"evenodd\" fill-opacity=\"1\" stroke=\"#000000\" stroke-opacity=\"1\" stroke-width=\"3.2\"/>\n<circle clip-path=\"url(#clip172)\" cx=\"2204.56\" cy=\"1382.77\" r=\"14.4\" fill=\"#0000ff\" fill-rule=\"evenodd\" fill-opacity=\"1\" stroke=\"#000000\" stroke-opacity=\"1\" stroke-width=\"3.2\"/>\n<circle clip-path=\"url(#clip172)\" cx=\"2036.48\" cy=\"1284.7\" r=\"14.4\" fill=\"#0000ff\" fill-rule=\"evenodd\" fill-opacity=\"1\" stroke=\"#000000\" stroke-opacity=\"1\" stroke-width=\"3.2\"/>\n<circle clip-path=\"url(#clip172)\" cx=\"1814.29\" cy=\"1180.25\" r=\"14.4\" fill=\"#0000ff\" fill-rule=\"evenodd\" fill-opacity=\"1\" stroke=\"#000000\" stroke-opacity=\"1\" stroke-width=\"3.2\"/>\n<circle clip-path=\"url(#clip172)\" cx=\"2145.39\" cy=\"1310.09\" r=\"14.4\" fill=\"#0000ff\" fill-rule=\"evenodd\" fill-opacity=\"1\" stroke=\"#000000\" stroke-opacity=\"1\" stroke-width=\"3.2\"/>\n<circle clip-path=\"url(#clip172)\" cx=\"1722.44\" cy=\"857.086\" r=\"14.4\" fill=\"#0000ff\" fill-rule=\"evenodd\" fill-opacity=\"1\" stroke=\"#000000\" stroke-opacity=\"1\" stroke-width=\"3.2\"/>\n<circle clip-path=\"url(#clip172)\" cx=\"1462.74\" cy=\"1265.32\" r=\"14.4\" fill=\"#0000ff\" fill-rule=\"evenodd\" fill-opacity=\"1\" stroke=\"#000000\" stroke-opacity=\"1\" stroke-width=\"3.2\"/>\n<circle clip-path=\"url(#clip172)\" cx=\"2086.34\" cy=\"1183.04\" r=\"14.4\" fill=\"#0000ff\" fill-rule=\"evenodd\" fill-opacity=\"1\" stroke=\"#000000\" stroke-opacity=\"1\" stroke-width=\"3.2\"/>\n<circle clip-path=\"url(#clip172)\" cx=\"1486.88\" cy=\"1303.43\" r=\"14.4\" fill=\"#0000ff\" fill-rule=\"evenodd\" fill-opacity=\"1\" stroke=\"#000000\" stroke-opacity=\"1\" stroke-width=\"3.2\"/>\n<circle clip-path=\"url(#clip172)\" cx=\"1351.97\" cy=\"924.583\" r=\"14.4\" fill=\"#0000ff\" fill-rule=\"evenodd\" fill-opacity=\"1\" stroke=\"#000000\" stroke-opacity=\"1\" stroke-width=\"3.2\"/>\n<circle clip-path=\"url(#clip172)\" cx=\"1479.23\" cy=\"862.88\" r=\"14.4\" fill=\"#0000ff\" fill-rule=\"evenodd\" fill-opacity=\"1\" stroke=\"#000000\" stroke-opacity=\"1\" stroke-width=\"3.2\"/>\n<circle clip-path=\"url(#clip172)\" cx=\"1454.56\" cy=\"863.908\" r=\"14.4\" fill=\"#0000ff\" fill-rule=\"evenodd\" fill-opacity=\"1\" stroke=\"#000000\" stroke-opacity=\"1\" stroke-width=\"3.2\"/>\n<circle clip-path=\"url(#clip172)\" cx=\"1831.6\" cy=\"1290.7\" r=\"14.4\" fill=\"#0000ff\" fill-rule=\"evenodd\" fill-opacity=\"1\" stroke=\"#000000\" stroke-opacity=\"1\" stroke-width=\"3.2\"/>\n<circle clip-path=\"url(#clip172)\" cx=\"1720.63\" cy=\"1222.4\" r=\"14.4\" fill=\"#0000ff\" fill-rule=\"evenodd\" fill-opacity=\"1\" stroke=\"#000000\" stroke-opacity=\"1\" stroke-width=\"3.2\"/>\n<circle clip-path=\"url(#clip172)\" cx=\"1847.76\" cy=\"1313.04\" r=\"14.4\" fill=\"#0000ff\" fill-rule=\"evenodd\" fill-opacity=\"1\" stroke=\"#000000\" stroke-opacity=\"1\" stroke-width=\"3.2\"/>\n<circle clip-path=\"url(#clip172)\" cx=\"1945.68\" cy=\"1329.07\" r=\"14.4\" fill=\"#0000ff\" fill-rule=\"evenodd\" fill-opacity=\"1\" stroke=\"#000000\" stroke-opacity=\"1\" stroke-width=\"3.2\"/>\n<circle clip-path=\"url(#clip172)\" cx=\"1960.64\" cy=\"1337.26\" r=\"14.4\" fill=\"#0000ff\" fill-rule=\"evenodd\" fill-opacity=\"1\" stroke=\"#000000\" stroke-opacity=\"1\" stroke-width=\"3.2\"/>\n<circle clip-path=\"url(#clip172)\" cx=\"1945.22\" cy=\"1315.64\" r=\"14.4\" fill=\"#0000ff\" fill-rule=\"evenodd\" fill-opacity=\"1\" stroke=\"#000000\" stroke-opacity=\"1\" stroke-width=\"3.2\"/>\n<circle clip-path=\"url(#clip172)\" cx=\"1602.29\" cy=\"1254.06\" r=\"14.4\" fill=\"#0000ff\" fill-rule=\"evenodd\" fill-opacity=\"1\" stroke=\"#000000\" stroke-opacity=\"1\" stroke-width=\"3.2\"/>\n<circle clip-path=\"url(#clip172)\" cx=\"1250.51\" cy=\"519.607\" r=\"14.4\" fill=\"#0000ff\" fill-rule=\"evenodd\" fill-opacity=\"1\" stroke=\"#000000\" stroke-opacity=\"1\" stroke-width=\"3.2\"/>\n<circle clip-path=\"url(#clip172)\" cx=\"1611.86\" cy=\"1230.93\" r=\"14.4\" fill=\"#0000ff\" fill-rule=\"evenodd\" fill-opacity=\"1\" stroke=\"#000000\" stroke-opacity=\"1\" stroke-width=\"3.2\"/>\n<circle clip-path=\"url(#clip172)\" cx=\"1732.43\" cy=\"1320.17\" r=\"14.4\" fill=\"#0000ff\" fill-rule=\"evenodd\" fill-opacity=\"1\" stroke=\"#000000\" stroke-opacity=\"1\" stroke-width=\"3.2\"/>\n<circle clip-path=\"url(#clip172)\" cx=\"1216.36\" cy=\"526.282\" r=\"14.4\" fill=\"#0000ff\" fill-rule=\"evenodd\" fill-opacity=\"1\" stroke=\"#000000\" stroke-opacity=\"1\" stroke-width=\"3.2\"/>\n<circle clip-path=\"url(#clip172)\" cx=\"718.112\" cy=\"584.194\" r=\"14.4\" fill=\"#0000ff\" fill-rule=\"evenodd\" fill-opacity=\"1\" stroke=\"#000000\" stroke-opacity=\"1\" stroke-width=\"3.2\"/>\n<circle clip-path=\"url(#clip172)\" cx=\"914.591\" cy=\"274.812\" r=\"14.4\" fill=\"#0000ff\" fill-rule=\"evenodd\" fill-opacity=\"1\" stroke=\"#000000\" stroke-opacity=\"1\" stroke-width=\"3.2\"/>\n<circle clip-path=\"url(#clip172)\" cx=\"1046.08\" cy=\"130.748\" r=\"14.4\" fill=\"#0000ff\" fill-rule=\"evenodd\" fill-opacity=\"1\" stroke=\"#000000\" stroke-opacity=\"1\" stroke-width=\"3.2\"/>\n<circle clip-path=\"url(#clip172)\" cx=\"1160.84\" cy=\"256.53\" r=\"14.4\" fill=\"#0000ff\" fill-rule=\"evenodd\" fill-opacity=\"1\" stroke=\"#000000\" stroke-opacity=\"1\" stroke-width=\"3.2\"/>\n<circle clip-path=\"url(#clip172)\" cx=\"1515.66\" cy=\"629.529\" r=\"14.4\" fill=\"#0000ff\" fill-rule=\"evenodd\" fill-opacity=\"1\" stroke=\"#000000\" stroke-opacity=\"1\" stroke-width=\"3.2\"/>\n<circle clip-path=\"url(#clip172)\" cx=\"1795.39\" cy=\"893.152\" r=\"14.4\" fill=\"#0000ff\" fill-rule=\"evenodd\" fill-opacity=\"1\" stroke=\"#000000\" stroke-opacity=\"1\" stroke-width=\"3.2\"/>\n<circle clip-path=\"url(#clip172)\" cx=\"902.491\" cy=\"572.843\" r=\"14.4\" fill=\"#0000ff\" fill-rule=\"evenodd\" fill-opacity=\"1\" stroke=\"#000000\" stroke-opacity=\"1\" stroke-width=\"3.2\"/>\n<circle clip-path=\"url(#clip172)\" cx=\"931.86\" cy=\"223.072\" r=\"14.4\" fill=\"#0000ff\" fill-rule=\"evenodd\" fill-opacity=\"1\" stroke=\"#000000\" stroke-opacity=\"1\" stroke-width=\"3.2\"/>\n<circle clip-path=\"url(#clip172)\" cx=\"978.231\" cy=\"316.227\" r=\"14.4\" fill=\"#0000ff\" fill-rule=\"evenodd\" fill-opacity=\"1\" stroke=\"#000000\" stroke-opacity=\"1\" stroke-width=\"3.2\"/>\n<circle clip-path=\"url(#clip172)\" cx=\"676.571\" cy=\"569.288\" r=\"14.4\" fill=\"#0000ff\" fill-rule=\"evenodd\" fill-opacity=\"1\" stroke=\"#000000\" stroke-opacity=\"1\" stroke-width=\"3.2\"/>\n<circle clip-path=\"url(#clip172)\" cx=\"289.907\" cy=\"920.606\" r=\"14.4\" fill=\"#0000ff\" fill-rule=\"evenodd\" fill-opacity=\"1\" stroke=\"#000000\" stroke-opacity=\"1\" stroke-width=\"3.2\"/>\n<circle clip-path=\"url(#clip172)\" cx=\"592.782\" cy=\"904.707\" r=\"14.4\" fill=\"#0000ff\" fill-rule=\"evenodd\" fill-opacity=\"1\" stroke=\"#000000\" stroke-opacity=\"1\" stroke-width=\"3.2\"/>\n<circle clip-path=\"url(#clip172)\" cx=\"1204.06\" cy=\"1232.81\" r=\"14.4\" fill=\"#0000ff\" fill-rule=\"evenodd\" fill-opacity=\"1\" stroke=\"#000000\" stroke-opacity=\"1\" stroke-width=\"3.2\"/>\n<circle clip-path=\"url(#clip172)\" cx=\"804.092\" cy=\"1170.24\" r=\"14.4\" fill=\"#0000ff\" fill-rule=\"evenodd\" fill-opacity=\"1\" stroke=\"#000000\" stroke-opacity=\"1\" stroke-width=\"3.2\"/>\n<circle clip-path=\"url(#clip172)\" cx=\"351.814\" cy=\"1088.36\" r=\"14.4\" fill=\"#0000ff\" fill-rule=\"evenodd\" fill-opacity=\"1\" stroke=\"#000000\" stroke-opacity=\"1\" stroke-width=\"3.2\"/>\n<circle clip-path=\"url(#clip172)\" cx=\"409.173\" cy=\"1128.08\" r=\"14.4\" fill=\"#0000ff\" fill-rule=\"evenodd\" fill-opacity=\"1\" stroke=\"#000000\" stroke-opacity=\"1\" stroke-width=\"3.2\"/>\n<circle clip-path=\"url(#clip172)\" cx=\"435.336\" cy=\"1020.54\" r=\"14.4\" fill=\"#0000ff\" fill-rule=\"evenodd\" fill-opacity=\"1\" stroke=\"#000000\" stroke-opacity=\"1\" stroke-width=\"3.2\"/>\n<circle clip-path=\"url(#clip172)\" cx=\"505.564\" cy=\"991.019\" r=\"14.4\" fill=\"#0000ff\" fill-rule=\"evenodd\" fill-opacity=\"1\" stroke=\"#000000\" stroke-opacity=\"1\" stroke-width=\"3.2\"/>\n<circle clip-path=\"url(#clip172)\" cx=\"685.272\" cy=\"1087.81\" r=\"14.4\" fill=\"#0000ff\" fill-rule=\"evenodd\" fill-opacity=\"1\" stroke=\"#000000\" stroke-opacity=\"1\" stroke-width=\"3.2\"/>\n<circle clip-path=\"url(#clip172)\" cx=\"569.053\" cy=\"996.576\" r=\"14.4\" fill=\"#0000ff\" fill-rule=\"evenodd\" fill-opacity=\"1\" stroke=\"#000000\" stroke-opacity=\"1\" stroke-width=\"3.2\"/>\n<circle clip-path=\"url(#clip172)\" cx=\"730.719\" cy=\"1094.51\" r=\"14.4\" fill=\"#0000ff\" fill-rule=\"evenodd\" fill-opacity=\"1\" stroke=\"#000000\" stroke-opacity=\"1\" stroke-width=\"3.2\"/>\n<circle clip-path=\"url(#clip172)\" cx=\"359.202\" cy=\"1080.45\" r=\"14.4\" fill=\"#0000ff\" fill-rule=\"evenodd\" fill-opacity=\"1\" stroke=\"#000000\" stroke-opacity=\"1\" stroke-width=\"3.2\"/>\n<circle clip-path=\"url(#clip172)\" cx=\"1398.35\" cy=\"723.564\" r=\"14.4\" fill=\"#0000ff\" fill-rule=\"evenodd\" fill-opacity=\"1\" stroke=\"#000000\" stroke-opacity=\"1\" stroke-width=\"3.2\"/>\n<circle clip-path=\"url(#clip172)\" cx=\"688.636\" cy=\"1006.58\" r=\"14.4\" fill=\"#0000ff\" fill-rule=\"evenodd\" fill-opacity=\"1\" stroke=\"#000000\" stroke-opacity=\"1\" stroke-width=\"3.2\"/>\n<circle clip-path=\"url(#clip172)\" cx=\"535.011\" cy=\"1197.32\" r=\"14.4\" fill=\"#0000ff\" fill-rule=\"evenodd\" fill-opacity=\"1\" stroke=\"#000000\" stroke-opacity=\"1\" stroke-width=\"3.2\"/>\n<circle clip-path=\"url(#clip172)\" cx=\"794.054\" cy=\"1298.3\" r=\"14.4\" fill=\"#0000ff\" fill-rule=\"evenodd\" fill-opacity=\"1\" stroke=\"#000000\" stroke-opacity=\"1\" stroke-width=\"3.2\"/>\n<circle clip-path=\"url(#clip172)\" cx=\"1070.11\" cy=\"1389.31\" r=\"14.4\" fill=\"#0000ff\" fill-rule=\"evenodd\" fill-opacity=\"1\" stroke=\"#000000\" stroke-opacity=\"1\" stroke-width=\"3.2\"/>\n<circle clip-path=\"url(#clip172)\" cx=\"582.821\" cy=\"1312.78\" r=\"14.4\" fill=\"#0000ff\" fill-rule=\"evenodd\" fill-opacity=\"1\" stroke=\"#000000\" stroke-opacity=\"1\" stroke-width=\"3.2\"/>\n<circle clip-path=\"url(#clip172)\" cx=\"600.305\" cy=\"1310.66\" r=\"14.4\" fill=\"#0000ff\" fill-rule=\"evenodd\" fill-opacity=\"1\" stroke=\"#000000\" stroke-opacity=\"1\" stroke-width=\"3.2\"/>\n<circle clip-path=\"url(#clip172)\" cx=\"855.061\" cy=\"1386.74\" r=\"14.4\" fill=\"#0000ff\" fill-rule=\"evenodd\" fill-opacity=\"1\" stroke=\"#000000\" stroke-opacity=\"1\" stroke-width=\"3.2\"/>\n<circle clip-path=\"url(#clip172)\" cx=\"1032.38\" cy=\"1363.25\" r=\"14.4\" fill=\"#0000ff\" fill-rule=\"evenodd\" fill-opacity=\"1\" stroke=\"#000000\" stroke-opacity=\"1\" stroke-width=\"3.2\"/>\n<circle clip-path=\"url(#clip172)\" cx=\"993.083\" cy=\"1385.84\" r=\"14.4\" fill=\"#0000ff\" fill-rule=\"evenodd\" fill-opacity=\"1\" stroke=\"#000000\" stroke-opacity=\"1\" stroke-width=\"3.2\"/>\n<circle clip-path=\"url(#clip172)\" cx=\"646.485\" cy=\"1180.27\" r=\"14.4\" fill=\"#0000ff\" fill-rule=\"evenodd\" fill-opacity=\"1\" stroke=\"#000000\" stroke-opacity=\"1\" stroke-width=\"3.2\"/>\n<circle clip-path=\"url(#clip172)\" cx=\"1309.17\" cy=\"1346.05\" r=\"14.4\" fill=\"#0000ff\" fill-rule=\"evenodd\" fill-opacity=\"1\" stroke=\"#000000\" stroke-opacity=\"1\" stroke-width=\"3.2\"/>\n<circle clip-path=\"url(#clip172)\" cx=\"750.42\" cy=\"961.521\" r=\"14.4\" fill=\"#0000ff\" fill-rule=\"evenodd\" fill-opacity=\"1\" stroke=\"#000000\" stroke-opacity=\"1\" stroke-width=\"3.2\"/>\n<circle clip-path=\"url(#clip172)\" cx=\"600.199\" cy=\"1067.99\" r=\"14.4\" fill=\"#0000ff\" fill-rule=\"evenodd\" fill-opacity=\"1\" stroke=\"#000000\" stroke-opacity=\"1\" stroke-width=\"3.2\"/>\n<circle clip-path=\"url(#clip172)\" cx=\"308.674\" cy=\"1055.29\" r=\"14.4\" fill=\"#0000ff\" fill-rule=\"evenodd\" fill-opacity=\"1\" stroke=\"#000000\" stroke-opacity=\"1\" stroke-width=\"3.2\"/>\n<circle clip-path=\"url(#clip172)\" cx=\"1688.49\" cy=\"717.808\" r=\"14.4\" fill=\"#0000ff\" fill-rule=\"evenodd\" fill-opacity=\"1\" stroke=\"#000000\" stroke-opacity=\"1\" stroke-width=\"3.2\"/>\n<circle clip-path=\"url(#clip172)\" cx=\"1787.04\" cy=\"1073.71\" r=\"14.4\" fill=\"#0000ff\" fill-rule=\"evenodd\" fill-opacity=\"1\" stroke=\"#000000\" stroke-opacity=\"1\" stroke-width=\"3.2\"/>\n<circle clip-path=\"url(#clip172)\" cx=\"512.815\" cy=\"1023.54\" r=\"14.4\" fill=\"#0000ff\" fill-rule=\"evenodd\" fill-opacity=\"1\" stroke=\"#000000\" stroke-opacity=\"1\" stroke-width=\"3.2\"/>\n<circle clip-path=\"url(#clip172)\" cx=\"367.888\" cy=\"1089.24\" r=\"14.4\" fill=\"#0000ff\" fill-rule=\"evenodd\" fill-opacity=\"1\" stroke=\"#000000\" stroke-opacity=\"1\" stroke-width=\"3.2\"/>\n<circle clip-path=\"url(#clip172)\" cx=\"383.494\" cy=\"1099.37\" r=\"14.4\" fill=\"#0000ff\" fill-rule=\"evenodd\" fill-opacity=\"1\" stroke=\"#000000\" stroke-opacity=\"1\" stroke-width=\"3.2\"/>\n<circle clip-path=\"url(#clip172)\" cx=\"877.315\" cy=\"884.006\" r=\"14.4\" fill=\"#0000ff\" fill-rule=\"evenodd\" fill-opacity=\"1\" stroke=\"#000000\" stroke-opacity=\"1\" stroke-width=\"3.2\"/>\n<circle clip-path=\"url(#clip172)\" cx=\"978.473\" cy=\"1209.43\" r=\"14.4\" fill=\"#0000ff\" fill-rule=\"evenodd\" fill-opacity=\"1\" stroke=\"#000000\" stroke-opacity=\"1\" stroke-width=\"3.2\"/>\n<circle clip-path=\"url(#clip172)\" cx=\"2060.32\" cy=\"1295.79\" r=\"14.4\" fill=\"#0000ff\" fill-rule=\"evenodd\" fill-opacity=\"1\" stroke=\"#000000\" stroke-opacity=\"1\" stroke-width=\"3.2\"/>\n<circle clip-path=\"url(#clip172)\" cx=\"2186\" cy=\"1305.72\" r=\"14.4\" fill=\"#0000ff\" fill-rule=\"evenodd\" fill-opacity=\"1\" stroke=\"#000000\" stroke-opacity=\"1\" stroke-width=\"3.2\"/>\n<circle clip-path=\"url(#clip172)\" cx=\"1820.36\" cy=\"1316.47\" r=\"14.4\" fill=\"#0000ff\" fill-rule=\"evenodd\" fill-opacity=\"1\" stroke=\"#000000\" stroke-opacity=\"1\" stroke-width=\"3.2\"/>\n<circle clip-path=\"url(#clip172)\" cx=\"1191.96\" cy=\"125.559\" r=\"14.4\" fill=\"#0000ff\" fill-rule=\"evenodd\" fill-opacity=\"1\" stroke=\"#000000\" stroke-opacity=\"1\" stroke-width=\"3.2\"/>\n<circle clip-path=\"url(#clip172)\" cx=\"1166.86\" cy=\"327.123\" r=\"14.4\" fill=\"#0000ff\" fill-rule=\"evenodd\" fill-opacity=\"1\" stroke=\"#000000\" stroke-opacity=\"1\" stroke-width=\"3.2\"/>\n<circle clip-path=\"url(#clip172)\" cx=\"379.552\" cy=\"1049.32\" r=\"14.4\" fill=\"#0000ff\" fill-rule=\"evenodd\" fill-opacity=\"1\" stroke=\"#000000\" stroke-opacity=\"1\" stroke-width=\"3.2\"/>\n<circle clip-path=\"url(#clip172)\" cx=\"592.767\" cy=\"836.61\" r=\"14.4\" fill=\"#0000ff\" fill-rule=\"evenodd\" fill-opacity=\"1\" stroke=\"#000000\" stroke-opacity=\"1\" stroke-width=\"3.2\"/>\n<circle clip-path=\"url(#clip172)\" cx=\"1059.88\" cy=\"1368.46\" r=\"14.4\" fill=\"#0000ff\" fill-rule=\"evenodd\" fill-opacity=\"1\" stroke=\"#000000\" stroke-opacity=\"1\" stroke-width=\"3.2\"/>\n<path clip-path=\"url(#clip170)\" d=\"\nM1727.83 302.578 L2281.77 302.578 L2281.77 95.2176 L1727.83 95.2176  Z\n  \" fill=\"#ffffff\" fill-rule=\"evenodd\" fill-opacity=\"1\"/>\n<polyline clip-path=\"url(#clip170)\" style=\"stroke:#000000; stroke-linecap:round; stroke-linejoin:round; stroke-width:4; stroke-opacity:1; fill:none\" points=\"\n  1727.83,302.578 2281.77,302.578 2281.77,95.2176 1727.83,95.2176 1727.83,302.578 \n  \"/>\n<circle clip-path=\"url(#clip170)\" cx=\"1822.48\" cy=\"147.058\" r=\"23.04\" fill=\"#008000\" fill-rule=\"evenodd\" fill-opacity=\"1\" stroke=\"#000000\" stroke-opacity=\"1\" stroke-width=\"5.12\"/>\n<path clip-path=\"url(#clip170)\" d=\"M1930.53 151.305 Q1925.37 151.305 1923.38 152.486 Q1921.39 153.666 1921.39 156.514 Q1921.39 158.782 1922.87 160.125 Q1924.37 161.444 1926.94 161.444 Q1930.49 161.444 1932.61 158.944 Q1934.77 156.421 1934.77 152.254 L1934.77 151.305 L1930.53 151.305 M1939.03 149.546 L1939.03 164.338 L1934.77 164.338 L1934.77 160.402 Q1933.31 162.763 1931.13 163.898 Q1928.96 165.009 1925.81 165.009 Q1921.83 165.009 1919.47 162.787 Q1917.13 160.541 1917.13 156.791 Q1917.13 152.416 1920.05 150.194 Q1922.99 147.972 1928.8 147.972 L1934.77 147.972 L1934.77 147.555 Q1934.77 144.615 1932.82 143.018 Q1930.9 141.398 1927.41 141.398 Q1925.18 141.398 1923.08 141.93 Q1920.97 142.463 1919.03 143.527 L1919.03 139.592 Q1921.36 138.69 1923.56 138.25 Q1925.76 137.787 1927.85 137.787 Q1933.47 137.787 1936.25 140.703 Q1939.03 143.62 1939.03 149.546 Z\" fill=\"#000000\" fill-rule=\"evenodd\" fill-opacity=\"1\" /><path clip-path=\"url(#clip170)\" d=\"M1966.46 139.407 L1966.46 143.389 Q1964.65 142.393 1962.82 141.907 Q1961.02 141.398 1959.17 141.398 Q1955.02 141.398 1952.73 144.037 Q1950.44 146.652 1950.44 151.398 Q1950.44 156.143 1952.73 158.782 Q1955.02 161.398 1959.17 161.398 Q1961.02 161.398 1962.82 160.912 Q1964.65 160.402 1966.46 159.407 L1966.46 163.342 Q1964.67 164.176 1962.75 164.592 Q1960.86 165.009 1958.7 165.009 Q1952.85 165.009 1949.4 161.328 Q1945.95 157.648 1945.95 151.398 Q1945.95 145.055 1949.42 141.421 Q1952.92 137.787 1958.98 137.787 Q1960.95 137.787 1962.82 138.203 Q1964.7 138.597 1966.46 139.407 Z\" fill=\"#000000\" fill-rule=\"evenodd\" fill-opacity=\"1\" /><path clip-path=\"url(#clip170)\" d=\"M1978.08 131.051 L1978.08 138.412 L1986.85 138.412 L1986.85 141.722 L1978.08 141.722 L1978.08 155.796 Q1978.08 158.967 1978.93 159.87 Q1979.81 160.773 1982.48 160.773 L1986.85 160.773 L1986.85 164.338 L1982.48 164.338 Q1977.55 164.338 1975.67 162.509 Q1973.8 160.657 1973.8 155.796 L1973.8 141.722 L1970.67 141.722 L1970.67 138.412 L1973.8 138.412 L1973.8 131.051 L1978.08 131.051 Z\" fill=\"#000000\" fill-rule=\"evenodd\" fill-opacity=\"1\" /><path clip-path=\"url(#clip170)\" d=\"M1992.45 138.412 L1996.71 138.412 L1996.71 164.338 L1992.45 164.338 L1992.45 138.412 M1992.45 128.319 L1996.71 128.319 L1996.71 133.713 L1992.45 133.713 L1992.45 128.319 Z\" fill=\"#000000\" fill-rule=\"evenodd\" fill-opacity=\"1\" /><path clip-path=\"url(#clip170)\" d=\"M2002.57 138.412 L2007.08 138.412 L2015.18 160.171 L2023.29 138.412 L2027.8 138.412 L2018.08 164.338 L2012.29 164.338 L2002.57 138.412 Z\" fill=\"#000000\" fill-rule=\"evenodd\" fill-opacity=\"1\" /><path clip-path=\"url(#clip170)\" d=\"M2055.85 150.31 L2055.85 152.393 L2036.27 152.393 Q2036.55 156.791 2038.91 159.106 Q2041.29 161.398 2045.53 161.398 Q2047.98 161.398 2050.28 160.796 Q2052.59 160.194 2054.86 158.99 L2054.86 163.018 Q2052.57 163.99 2050.16 164.5 Q2047.75 165.009 2045.28 165.009 Q2039.07 165.009 2035.44 161.398 Q2031.83 157.787 2031.83 151.629 Q2031.83 145.264 2035.25 141.537 Q2038.7 137.787 2044.54 137.787 Q2049.77 137.787 2052.8 141.166 Q2055.85 144.523 2055.85 150.31 M2051.6 149.06 Q2051.55 145.565 2049.63 143.481 Q2047.73 141.398 2044.58 141.398 Q2041.02 141.398 2038.86 143.412 Q2036.73 145.426 2036.41 149.083 L2051.6 149.06 Z\" fill=\"#000000\" fill-rule=\"evenodd\" fill-opacity=\"1\" /><circle clip-path=\"url(#clip170)\" cx=\"1822.48\" cy=\"198.898\" r=\"23.04\" fill=\"#ff0000\" fill-rule=\"evenodd\" fill-opacity=\"1\" stroke=\"#000000\" stroke-opacity=\"1\" stroke-width=\"5.12\"/>\n<path clip-path=\"url(#clip170)\" d=\"M1937.48 195.229 Q1939.07 192.358 1941.3 190.993 Q1943.52 189.627 1946.53 189.627 Q1950.58 189.627 1952.78 192.474 Q1954.98 195.298 1954.98 200.529 L1954.98 216.178 L1950.69 216.178 L1950.69 200.668 Q1950.69 196.942 1949.37 195.136 Q1948.05 193.33 1945.35 193.33 Q1942.04 193.33 1940.11 195.53 Q1938.19 197.729 1938.19 201.525 L1938.19 216.178 L1933.91 216.178 L1933.91 200.668 Q1933.91 196.918 1932.59 195.136 Q1931.27 193.33 1928.52 193.33 Q1925.25 193.33 1923.33 195.553 Q1921.41 197.752 1921.41 201.525 L1921.41 216.178 L1917.13 216.178 L1917.13 190.252 L1921.41 190.252 L1921.41 194.28 Q1922.87 191.895 1924.91 190.761 Q1926.94 189.627 1929.74 189.627 Q1932.57 189.627 1934.54 191.062 Q1936.53 192.497 1937.48 195.229 Z\" fill=\"#000000\" fill-rule=\"evenodd\" fill-opacity=\"1\" /><path clip-path=\"url(#clip170)\" d=\"M1973.52 193.238 Q1970.09 193.238 1968.1 195.923 Q1966.11 198.585 1966.11 203.238 Q1966.11 207.891 1968.08 210.576 Q1970.07 213.238 1973.52 213.238 Q1976.92 213.238 1978.91 210.553 Q1980.9 207.867 1980.9 203.238 Q1980.9 198.631 1978.91 195.946 Q1976.92 193.238 1973.52 193.238 M1973.52 189.627 Q1979.07 189.627 1982.24 193.238 Q1985.42 196.849 1985.42 203.238 Q1985.42 209.604 1982.24 213.238 Q1979.07 216.849 1973.52 216.849 Q1967.94 216.849 1964.77 213.238 Q1961.62 209.604 1961.62 203.238 Q1961.62 196.849 1964.77 193.238 Q1967.94 189.627 1973.52 189.627 Z\" fill=\"#000000\" fill-rule=\"evenodd\" fill-opacity=\"1\" /><path clip-path=\"url(#clip170)\" d=\"M2009.54 194.187 L2009.54 180.159 L2013.79 180.159 L2013.79 216.178 L2009.54 216.178 L2009.54 212.289 Q2008.19 214.603 2006.13 215.738 Q2004.1 216.849 2001.23 216.849 Q1996.53 216.849 1993.56 213.099 Q1990.62 209.349 1990.62 203.238 Q1990.62 197.127 1993.56 193.377 Q1996.53 189.627 2001.23 189.627 Q2004.1 189.627 2006.13 190.761 Q2008.19 191.872 2009.54 194.187 M1995.02 203.238 Q1995.02 207.937 1996.94 210.622 Q1998.89 213.284 2002.27 213.284 Q2005.65 213.284 2007.59 210.622 Q2009.54 207.937 2009.54 203.238 Q2009.54 198.539 2007.59 195.877 Q2005.65 193.192 2002.27 193.192 Q1998.89 193.192 1996.94 195.877 Q1995.02 198.539 1995.02 203.238 Z\" fill=\"#000000\" fill-rule=\"evenodd\" fill-opacity=\"1\" /><path clip-path=\"url(#clip170)\" d=\"M2023.17 210.298 L2028.05 210.298 L2028.05 216.178 L2023.17 216.178 L2023.17 210.298 Z\" fill=\"#000000\" fill-rule=\"evenodd\" fill-opacity=\"1\" /><path clip-path=\"url(#clip170)\" d=\"M2064.49 203.145 Q2059.33 203.145 2057.34 204.326 Q2055.35 205.506 2055.35 208.354 Q2055.35 210.622 2056.83 211.965 Q2058.33 213.284 2060.9 213.284 Q2064.44 213.284 2066.57 210.784 Q2068.73 208.261 2068.73 204.094 L2068.73 203.145 L2064.49 203.145 M2072.98 201.386 L2072.98 216.178 L2068.73 216.178 L2068.73 212.242 Q2067.27 214.603 2065.09 215.738 Q2062.91 216.849 2059.77 216.849 Q2055.79 216.849 2053.42 214.627 Q2051.09 212.381 2051.09 208.631 Q2051.09 204.256 2054 202.034 Q2056.94 199.812 2062.75 199.812 L2068.73 199.812 L2068.73 199.395 Q2068.73 196.455 2066.78 194.858 Q2064.86 193.238 2061.36 193.238 Q2059.14 193.238 2057.04 193.77 Q2054.93 194.303 2052.98 195.367 L2052.98 191.432 Q2055.32 190.53 2057.52 190.09 Q2059.72 189.627 2061.8 189.627 Q2067.43 189.627 2070.21 192.543 Q2072.98 195.46 2072.98 201.386 Z\" fill=\"#000000\" fill-rule=\"evenodd\" fill-opacity=\"1\" /><path clip-path=\"url(#clip170)\" d=\"M2100.41 191.247 L2100.41 195.229 Q2098.61 194.233 2096.78 193.747 Q2094.97 193.238 2093.12 193.238 Q2088.98 193.238 2086.69 195.877 Q2084.4 198.492 2084.4 203.238 Q2084.4 207.983 2086.69 210.622 Q2088.98 213.238 2093.12 213.238 Q2094.97 213.238 2096.78 212.752 Q2098.61 212.242 2100.41 211.247 L2100.41 215.182 Q2098.63 216.016 2096.71 216.432 Q2094.81 216.849 2092.66 216.849 Q2086.8 216.849 2083.35 213.168 Q2079.91 209.488 2079.91 203.238 Q2079.91 196.895 2083.38 193.261 Q2086.87 189.627 2092.94 189.627 Q2094.91 189.627 2096.78 190.043 Q2098.66 190.437 2100.41 191.247 Z\" fill=\"#000000\" fill-rule=\"evenodd\" fill-opacity=\"1\" /><path clip-path=\"url(#clip170)\" d=\"M2112.04 182.891 L2112.04 190.252 L2120.81 190.252 L2120.81 193.562 L2112.04 193.562 L2112.04 207.636 Q2112.04 210.807 2112.89 211.71 Q2113.77 212.613 2116.43 212.613 L2120.81 212.613 L2120.81 216.178 L2116.43 216.178 Q2111.5 216.178 2109.63 214.349 Q2107.75 212.497 2107.75 207.636 L2107.75 193.562 L2104.63 193.562 L2104.63 190.252 L2107.75 190.252 L2107.75 182.891 L2112.04 182.891 Z\" fill=\"#000000\" fill-rule=\"evenodd\" fill-opacity=\"1\" /><path clip-path=\"url(#clip170)\" d=\"M2126.41 190.252 L2130.67 190.252 L2130.67 216.178 L2126.41 216.178 L2126.41 190.252 M2126.41 180.159 L2130.67 180.159 L2130.67 185.553 L2126.41 185.553 L2126.41 180.159 Z\" fill=\"#000000\" fill-rule=\"evenodd\" fill-opacity=\"1\" /><path clip-path=\"url(#clip170)\" d=\"M2136.53 190.252 L2141.04 190.252 L2149.14 212.011 L2157.24 190.252 L2161.76 190.252 L2152.03 216.178 L2146.25 216.178 L2136.53 190.252 Z\" fill=\"#000000\" fill-rule=\"evenodd\" fill-opacity=\"1\" /><path clip-path=\"url(#clip170)\" d=\"M2189.81 202.15 L2189.81 204.233 L2170.23 204.233 Q2170.51 208.631 2172.87 210.946 Q2175.25 213.238 2179.49 213.238 Q2181.94 213.238 2184.23 212.636 Q2186.55 212.034 2188.82 210.83 L2188.82 214.858 Q2186.53 215.83 2184.12 216.34 Q2181.71 216.849 2179.23 216.849 Q2173.03 216.849 2169.4 213.238 Q2165.78 209.627 2165.78 203.469 Q2165.78 197.104 2169.21 193.377 Q2172.66 189.627 2178.49 189.627 Q2183.72 189.627 2186.76 193.006 Q2189.81 196.363 2189.81 202.15 M2185.55 200.9 Q2185.51 197.405 2183.59 195.321 Q2181.69 193.238 2178.54 193.238 Q2174.97 193.238 2172.82 195.252 Q2170.69 197.266 2170.37 200.923 L2185.55 200.9 Z\" fill=\"#000000\" fill-rule=\"evenodd\" fill-opacity=\"1\" /><circle clip-path=\"url(#clip170)\" cx=\"1822.48\" cy=\"250.738\" r=\"23.04\" fill=\"#0000ff\" fill-rule=\"evenodd\" fill-opacity=\"1\" stroke=\"#000000\" stroke-opacity=\"1\" stroke-width=\"5.12\"/>\n<path clip-path=\"url(#clip170)\" d=\"M1917.13 242.092 L1921.39 242.092 L1921.39 268.018 L1917.13 268.018 L1917.13 242.092 M1917.13 231.999 L1921.39 231.999 L1921.39 237.393 L1917.13 237.393 L1917.13 231.999 Z\" fill=\"#000000\" fill-rule=\"evenodd\" fill-opacity=\"1\" /><path clip-path=\"url(#clip170)\" d=\"M1951.85 252.369 L1951.85 268.018 L1947.59 268.018 L1947.59 252.508 Q1947.59 248.828 1946.16 246.999 Q1944.72 245.17 1941.85 245.17 Q1938.4 245.17 1936.41 247.37 Q1934.42 249.569 1934.42 253.365 L1934.42 268.018 L1930.14 268.018 L1930.14 242.092 L1934.42 242.092 L1934.42 246.12 Q1935.95 243.782 1938.01 242.624 Q1940.09 241.467 1942.8 241.467 Q1947.27 241.467 1949.56 244.245 Q1951.85 246.999 1951.85 252.369 Z\" fill=\"#000000\" fill-rule=\"evenodd\" fill-opacity=\"1\" /><path clip-path=\"url(#clip170)\" d=\"M1972.13 254.985 Q1966.97 254.985 1964.98 256.166 Q1962.98 257.346 1962.98 260.194 Q1962.98 262.462 1964.47 263.805 Q1965.97 265.124 1968.54 265.124 Q1972.08 265.124 1974.21 262.624 Q1976.36 260.101 1976.36 255.934 L1976.36 254.985 L1972.13 254.985 M1980.62 253.226 L1980.62 268.018 L1976.36 268.018 L1976.36 264.082 Q1974.91 266.443 1972.73 267.578 Q1970.55 268.689 1967.41 268.689 Q1963.42 268.689 1961.06 266.467 Q1958.73 264.221 1958.73 260.471 Q1958.73 256.096 1961.64 253.874 Q1964.58 251.652 1970.39 251.652 L1976.36 251.652 L1976.36 251.235 Q1976.36 248.295 1974.42 246.698 Q1972.5 245.078 1969 245.078 Q1966.78 245.078 1964.67 245.61 Q1962.57 246.143 1960.62 247.207 L1960.62 243.272 Q1962.96 242.37 1965.16 241.93 Q1967.36 241.467 1969.44 241.467 Q1975.07 241.467 1977.85 244.383 Q1980.62 247.3 1980.62 253.226 Z\" fill=\"#000000\" fill-rule=\"evenodd\" fill-opacity=\"1\" /><path clip-path=\"url(#clip170)\" d=\"M2008.05 243.087 L2008.05 247.069 Q2006.25 246.073 2004.42 245.587 Q2002.61 245.078 2000.76 245.078 Q1996.62 245.078 1994.33 247.717 Q1992.04 250.332 1992.04 255.078 Q1992.04 259.823 1994.33 262.462 Q1996.62 265.078 2000.76 265.078 Q2002.61 265.078 2004.42 264.592 Q2006.25 264.082 2008.05 263.087 L2008.05 267.022 Q2006.27 267.856 2004.35 268.272 Q2002.45 268.689 2000.3 268.689 Q1994.44 268.689 1990.99 265.008 Q1987.55 261.328 1987.55 255.078 Q1987.55 248.735 1991.02 245.101 Q1994.51 241.467 2000.58 241.467 Q2002.54 241.467 2004.42 241.883 Q2006.29 242.277 2008.05 243.087 Z\" fill=\"#000000\" fill-rule=\"evenodd\" fill-opacity=\"1\" /><path clip-path=\"url(#clip170)\" d=\"M2019.67 234.731 L2019.67 242.092 L2028.45 242.092 L2028.45 245.402 L2019.67 245.402 L2019.67 259.476 Q2019.67 262.647 2020.53 263.55 Q2021.41 264.453 2024.07 264.453 L2028.45 264.453 L2028.45 268.018 L2024.07 268.018 Q2019.14 268.018 2017.27 266.189 Q2015.39 264.337 2015.39 259.476 L2015.39 245.402 L2012.27 245.402 L2012.27 242.092 L2015.39 242.092 L2015.39 234.731 L2019.67 234.731 Z\" fill=\"#000000\" fill-rule=\"evenodd\" fill-opacity=\"1\" /><path clip-path=\"url(#clip170)\" d=\"M2034.05 242.092 L2038.31 242.092 L2038.31 268.018 L2034.05 268.018 L2034.05 242.092 M2034.05 231.999 L2038.31 231.999 L2038.31 237.393 L2034.05 237.393 L2034.05 231.999 Z\" fill=\"#000000\" fill-rule=\"evenodd\" fill-opacity=\"1\" /><path clip-path=\"url(#clip170)\" d=\"M2044.17 242.092 L2048.68 242.092 L2056.78 263.851 L2064.88 242.092 L2069.4 242.092 L2059.67 268.018 L2053.89 268.018 L2044.17 242.092 Z\" fill=\"#000000\" fill-rule=\"evenodd\" fill-opacity=\"1\" /><path clip-path=\"url(#clip170)\" d=\"M2097.45 253.99 L2097.45 256.073 L2077.87 256.073 Q2078.15 260.471 2080.51 262.786 Q2082.89 265.078 2087.13 265.078 Q2089.58 265.078 2091.87 264.476 Q2094.19 263.874 2096.46 262.67 L2096.46 266.698 Q2094.16 267.67 2091.76 268.18 Q2089.35 268.689 2086.87 268.689 Q2080.67 268.689 2077.04 265.078 Q2073.42 261.467 2073.42 255.309 Q2073.42 248.944 2076.85 245.217 Q2080.3 241.467 2086.13 241.467 Q2091.36 241.467 2094.4 244.846 Q2097.45 248.203 2097.45 253.99 M2093.19 252.74 Q2093.15 249.245 2091.23 247.161 Q2089.33 245.078 2086.18 245.078 Q2082.61 245.078 2080.46 247.092 Q2078.33 249.106 2078.01 252.763 L2093.19 252.74 Z\" fill=\"#000000\" fill-rule=\"evenodd\" fill-opacity=\"1\" /><path clip-path=\"url(#clip170)\" d=\"M2129.74 232.046 Q2126.64 237.37 2125.14 242.578 Q2123.63 247.786 2123.63 253.133 Q2123.63 258.481 2125.14 263.735 Q2126.66 268.967 2129.74 274.268 L2126.04 274.268 Q2122.57 268.828 2120.83 263.573 Q2119.12 258.319 2119.12 253.133 Q2119.12 247.971 2120.83 242.74 Q2122.54 237.508 2126.04 232.046 L2129.74 232.046 Z\" fill=\"#000000\" fill-rule=\"evenodd\" fill-opacity=\"1\" /><path clip-path=\"url(#clip170)\" d=\"M2160.18 253.99 L2160.18 256.073 L2140.6 256.073 Q2140.88 260.471 2143.24 262.786 Q2145.62 265.078 2149.86 265.078 Q2152.31 265.078 2154.6 264.476 Q2156.92 263.874 2159.19 262.67 L2159.19 266.698 Q2156.9 267.67 2154.49 268.18 Q2152.08 268.689 2149.6 268.689 Q2143.4 268.689 2139.77 265.078 Q2136.16 261.467 2136.16 255.309 Q2136.16 248.944 2139.58 245.217 Q2143.03 241.467 2148.86 241.467 Q2154.1 241.467 2157.13 244.846 Q2160.18 248.203 2160.18 253.99 M2155.92 252.74 Q2155.88 249.245 2153.96 247.161 Q2152.06 245.078 2148.91 245.078 Q2145.35 245.078 2143.19 247.092 Q2141.06 249.106 2140.74 252.763 L2155.92 252.74 Z\" fill=\"#000000\" fill-rule=\"evenodd\" fill-opacity=\"1\" /><path clip-path=\"url(#clip170)\" d=\"M2187.89 242.092 L2178.52 254.707 L2188.38 268.018 L2183.35 268.018 L2175.81 257.832 L2168.26 268.018 L2163.24 268.018 L2173.31 254.453 L2164.09 242.092 L2169.12 242.092 L2175.99 251.328 L2182.87 242.092 L2187.89 242.092 Z\" fill=\"#000000\" fill-rule=\"evenodd\" fill-opacity=\"1\" /><path clip-path=\"url(#clip170)\" d=\"M2198.52 264.129 L2198.52 277.879 L2194.23 277.879 L2194.23 242.092 L2198.52 242.092 L2198.52 246.027 Q2199.86 243.712 2201.9 242.601 Q2203.96 241.467 2206.8 241.467 Q2211.53 241.467 2214.47 245.217 Q2217.43 248.967 2217.43 255.078 Q2217.43 261.189 2214.47 264.939 Q2211.53 268.689 2206.8 268.689 Q2203.96 268.689 2201.9 267.578 Q2199.86 266.443 2198.52 264.129 M2213.01 255.078 Q2213.01 250.379 2211.06 247.717 Q2209.14 245.032 2205.76 245.032 Q2202.38 245.032 2200.44 247.717 Q2198.52 250.379 2198.52 255.078 Q2198.52 259.777 2200.44 262.462 Q2202.38 265.124 2205.76 265.124 Q2209.14 265.124 2211.06 262.462 Q2213.01 259.777 2213.01 255.078 Z\" fill=\"#000000\" fill-rule=\"evenodd\" fill-opacity=\"1\" /><path clip-path=\"url(#clip170)\" d=\"M2223.82 232.046 L2227.52 232.046 Q2230.99 237.508 2232.71 242.74 Q2234.44 247.971 2234.44 253.133 Q2234.44 258.319 2232.71 263.573 Q2230.99 268.828 2227.52 274.268 L2223.82 274.268 Q2226.9 268.967 2228.4 263.735 Q2229.93 258.481 2229.93 253.133 Q2229.93 247.786 2228.4 242.578 Q2226.9 237.37 2223.82 232.046 Z\" fill=\"#000000\" fill-rule=\"evenodd\" fill-opacity=\"1\" /></svg>\n"
     },
     "execution_count": 131,
     "metadata": {},
     "output_type": "execute_result"
    }
   ],
   "source": [
    "using Plots\n",
    "\n",
    "function plotter()\n",
    "    colors = [:green, :red, :blue]\n",
    "    labels = [\"active\", \"mod. active\", \"inactive (exp)\"]\n",
    "    fig = Plots.plot()\n",
    "\n",
    "    for i in 1:3\n",
    "        scatter!(fig, (projS[indices[i], 1], projS[indices[i], 2]), label=labels[i], mc = colors[i])\n",
    "    end\n",
    "    return fig\n",
    "end\n",
    "\n",
    "plotter()"
   ]
  },
  {
   "cell_type": "markdown",
   "metadata": {},
   "source": [
    "PCA cant explain these vectors well enough in 2 dimensions! (highest explaind variance 3%...)\n",
    "Let's build a simple classifier and test this. We will compare a test sequence to the 4 class hdvs and assume the lowest hamming distance to be the class"
   ]
  },
  {
   "cell_type": "code",
   "execution_count": 132,
   "metadata": {},
   "outputs": [
    {
     "data": {
      "text/plain": [
       "10000-element BitVector:\n",
       " 0\n",
       " 1\n",
       " 1\n",
       " 0\n",
       " 1\n",
       " 1\n",
       " 1\n",
       " 1\n",
       " 0\n",
       " 0\n",
       " 1\n",
       " 0\n",
       " 0\n",
       " ⋮\n",
       " 0\n",
       " 0\n",
       " 0\n",
       " 0\n",
       " 0\n",
       " 0\n",
       " 1\n",
       " 1\n",
       " 0\n",
       " 1\n",
       " 1\n",
       " 1"
      ]
     },
     "execution_count": 132,
     "metadata": {},
     "output_type": "execute_result"
    }
   ],
   "source": [
    "n = nrow(data)\n",
    "\n",
    "train = rand(n) .< 0.8\n",
    "test = train = .! train\n",
    "\n",
    "train_df = data[[i for i in 1:n if train[i] == 1], :]\n",
    "test_df = data[[i for i in 1:n if test[i] == 1], :]\n",
    "\n",
    "active_hdv_t = bitadd(hcat([i for i in train_df[train_df.class_num .== 1, :hdv]])...)\n",
    "modactive_hdv_t = bitadd(hcat([i for i in train_df[train_df.class_num .== 2, :hdv]])...)\n",
    "notactive_exp_hdv_t = bitadd(hcat([i for i in train_df[train_df.class_num .== 3, :hdv]])...)"
   ]
  },
  {
   "cell_type": "code",
   "execution_count": 133,
   "metadata": {},
   "outputs": [
    {
     "data": {
      "text/plain": [
       "predict (generic function with 1 method)"
      ]
     },
     "execution_count": 133,
     "metadata": {},
     "output_type": "execute_result"
    }
   ],
   "source": [
    "function predict(seq)\n",
    "    y = [hamming(active_hdv_t, seq), hamming(modactive_hdv_t, seq), hamming(notactive_exp_hdv_t, seq), hamming(notactive_virt_hdv_t, seq)]\n",
    "    return findmin(y)[2]\n",
    "end"
   ]
  },
  {
   "cell_type": "code",
   "execution_count": 134,
   "metadata": {},
   "outputs": [
    {
     "data": {
      "text/plain": [
       "0.9210526315789473"
      ]
     },
     "execution_count": 134,
     "metadata": {},
     "output_type": "execute_result"
    }
   ],
   "source": [
    "using StatsBase\n",
    "pred = [predict(i) for i in test_df.hdv]\n",
    "mean(test_df.class_num .== pred)"
   ]
  },
  {
   "cell_type": "markdown",
   "metadata": {},
   "source": [
    "Classifier seems to work great"
   ]
  },
  {
   "cell_type": "code",
   "execution_count": 145,
   "metadata": {},
   "outputs": [
    {
     "data": {
      "text/plain": [
       "0.8463521183899458"
      ]
     },
     "execution_count": 145,
     "metadata": {},
     "output_type": "execute_result"
    }
   ],
   "source": [
    "data2 = data[data.class_num .!= 4, :]\n",
    "n = nrow(data2)\n",
    "using StatsBase\n",
    "\n",
    "v = []\n",
    "\n",
    "for i in 1:100\n",
    "    train = rand(n) .< 0.8\n",
    "    test = train = .! train\n",
    "\n",
    "    train_df = data[[i for i in 1:n if train[i] == 1], :]\n",
    "    test_df = data[[i for i in 1:n if test[i] == 1], :]\n",
    "\n",
    "    active_hdv_t = bitadd(hcat([i for i in train_df[train_df.class_num .== 1, :hdv]])...)\n",
    "    modactive_hdv_t = bitadd(hcat([i for i in train_df[train_df.class_num .== 2, :hdv]])...)\n",
    "    notactive_exp_hdv_t = bitadd(hcat([i for i in train_df[train_df.class_num .== 3, :hdv]])...)\n",
    "\n",
    "    pred = [predict(i) for i in test_df.hdv]\n",
    "    push!(v, mean(test_df.class_num .== pred))\n",
    "end\n",
    "\n",
    "mean(v)\n"
   ]
  }
 ],
 "metadata": {
  "kernelspec": {
   "display_name": "Julia 1.7.3",
   "language": "julia",
   "name": "julia-1.7"
  },
  "language_info": {
   "file_extension": ".jl",
   "mimetype": "application/julia",
   "name": "julia",
   "version": "1.7.3"
  },
  "orig_nbformat": 4
 },
 "nbformat": 4,
 "nbformat_minor": 2
}

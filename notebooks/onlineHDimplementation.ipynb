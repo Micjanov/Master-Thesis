{
 "cells": [
  {
   "cell_type": "code",
   "execution_count": 39,
   "metadata": {},
   "outputs": [],
   "source": [
    "include(\"../src/HDC.jl\")\n",
    "include(\"../src/math.jl\")\n",
    "include(\"../src/experimental.jl\")\n",
    "using DataFrames\n",
    "using CSV\n",
    "using JLD\n",
    "using MySQL\n",
    "using Distributions"
   ]
  },
  {
   "attachments": {},
   "cell_type": "markdown",
   "metadata": {},
   "source": [
    "# Create real valued embeddings\n",
    "Start values between -1 and 1"
   ]
  },
  {
   "attachments": {},
   "cell_type": "markdown",
   "metadata": {},
   "source": [
    "## esm bow"
   ]
  },
  {
   "cell_type": "code",
   "execution_count": 40,
   "metadata": {},
   "outputs": [
    {
     "data": {
      "text/plain": [
       "Dict{Char, Vector{Float64}} with 21 entries:\n",
       "  'P' => [-0.272507, 0.950455, 0.20641, 0.483569, 0.716822, -0.253062, 0.340019…\n",
       "  'K' => [-0.357308, 0.047448, -0.658337, 0.311858, 0.358922, -1.0, 0.129834, 0…\n",
       "  'M' => [0.812483, -0.0859642, -0.108308, -0.11587, -0.327918, 0.310134, -0.02…\n",
       "  'F' => [-1.0, -0.396097, 1.0, -0.532459, 0.897286, 0.948265, 1.0, -0.0201386,…\n",
       "  'I' => [0.584924, 0.051929, 0.0845688, 0.417464, 0.300493, 0.137673, 0.27791,…\n",
       "  'H' => [1.0, 0.451451, 0.279083, -0.692371, 0.264824, -0.621991, 0.186978, -0…\n",
       "  'E' => [0.385735, 0.0601354, -0.0297331, -0.0229051, 0.201929, 1.0, -0.747033…\n",
       "  'W' => [0.854542, -0.243544, -0.897689, -0.200075, 0.265161, 0.235478, -0.314…\n",
       "  'S' => [0.559583, 0.908844, -1.0, 0.740205, 0.204389, 0.709706, -0.98632, -0.…\n",
       "  'T' => [0.198339, 0.186578, -0.682256, 0.0652621, 0.210939, 0.888251, -0.4633…\n",
       "  'C' => [0.701152, -1.0, -0.557424, -1.0, 0.151787, -0.109081, 0.934042, 0.658…\n",
       "  'X' => [0.312685, 0.243418, 0.206159, -0.0661614, 0.953024, 0.358155, -0.5106…\n",
       "  'D' => [0.592884, 0.316068, 0.499365, 0.0804051, 0.213084, 0.265916, 0.388095…\n",
       "  'A' => [0.79989, 1.0, 0.540981, -0.658029, -0.198224, -0.392034, 0.908355, -0…\n",
       "  'L' => [-0.319646, -0.0877571, -0.768997, 1.0, 0.849248, -0.545488, -1.0, -0.…\n",
       "  'Y' => [-0.170438, 0.235768, 0.796757, -0.940941, 0.208583, 0.620609, 0.81009…\n",
       "  'V' => [0.553011, 0.895366, 0.468479, -0.374786, -1.0, -0.508823, 0.790243, 0…\n",
       "  'R' => [0.184118, -0.193059, -0.550392, 0.0179405, 0.326027, -0.325674, -0.76…\n",
       "  'G' => [-0.260363, -0.282547, 0.479164, -0.629032, 1.0, -0.468701, -0.353891,…\n",
       "  ⋮   => ⋮"
      ]
     },
     "metadata": {},
     "output_type": "display_data"
    }
   ],
   "source": [
    "aa_embeddings = DataFrame(CSV.File(\"../data/amino_acid_embeddings.csv\"))\n",
    "amino_acids_esm = [only(i) for i in aa_embeddings.protein_ID]\n",
    "aa_emb = Matrix(aa_embeddings[:, 2:end])\n",
    "# Create HDVs\n",
    "HDV_mat_bit = nested_arrays2mat([hdv() for i in 1:size(aa_emb)[2]], true)\n",
    "# Extend embeddings into hyperdimensional space\n",
    "AA_bit_esm = permutedims(mat_scaler(aa_emb * HDV_mat_bit, -1, 1, 2))\n",
    "\n",
    "AA_dict = Dict(zip(amino_acids_esm, [AA_bit_esm[:, i] for i in 1:21]))"
   ]
  },
  {
   "cell_type": "code",
   "execution_count": 41,
   "metadata": {},
   "outputs": [
    {
     "data": {
      "text/plain": [
       "Dict{String, Vector{Float64}} with 9261 entries:\n",
       "  \"HTY\" => [-0.0779406, -0.0287617, -0.00887482, 0.111371, 0.0137703, 0.123453,…\n",
       "  \"DRR\" => [-0.117537, -0.0230643, -0.0177502, 0.00854369, -0.00210406, 0.00155…\n",
       "  \"QAM\" => [0.30966, 0.00406682, -0.279273, -0.0154775, 0.0670787, -0.003303, -…\n",
       "  \"WNG\" => [0.250638, 0.00385776, 0.0544533, -0.0385286, 0.0280065, -0.0871316,…\n",
       "  \"PPV\" => [0.0132416, -0.174302, 0.108492, 0.0893698, 0.16239, 0.0679863, 0.08…\n",
       "  \"WMA\" => [-0.0901473, -0.197876, 0.0617268, 0.0216697, -0.0166212, 0.0508113,…\n",
       "  \"TKL\" => [0.076832, 0.0267949, 0.0103475, 0.00377044, -0.0505869, 0.318812, 0…\n",
       "  \"MSW\" => [-0.000141897, 7.45551e-7, -0.0841169, -0.0282195, 0.217893, -0.0126…\n",
       "  \"XTY\" => [-0.0243709, -0.0155081, -0.00655585, 0.0106423, 0.0495554, -0.07108…\n",
       "  \"ETI\" => [-0.00719311, 0.00159071, -0.0032449, 0.000811501, 0.00111447, 0.088…\n",
       "  \"KLF\" => [-0.0701141, 0.00278033, -0.0577738, 0.0949911, 0.358922, 0.45219, -…\n",
       "  \"AGI\" => [-0.0257842, -0.0347241, -0.0894071, -0.0163734, 0.0105449, -0.16366…\n",
       "  \"NMD\" => [-0.00337123, -0.0385155, 0.0347367, -0.00754581, -0.0340363, 0.0156…\n",
       "  \"YMQ\" => [-0.00306837, 0.00382282, -0.0263224, -0.00491166, 0.0083074, -0.067…\n",
       "  \"XAX\" => [-0.0797874, 0.0232, 0.0644627, -0.00871243, -0.129286, 0.00469713, …\n",
       "  \"ETP\" => [0.00260643, 0.00232678, 0.00151175, 0.0148529, 0.00272014, 0.102004…\n",
       "  \"FMK\" => [-0.035055, 0.321822, 0.0307157, 0.0027363, 0.0684463, -0.0969732, 0…\n",
       "  \"IMW\" => [0.00061617, -6.53911e-7, -0.00621243, 0.0110118, 0.0312559, 0.00903…\n",
       "  \"PRD\" => [-0.0293572, -0.0356065, -0.0236261, -0.0841224, 0.0064219, -0.00663…\n",
       "  ⋮     => ⋮"
      ]
     },
     "metadata": {},
     "output_type": "display_data"
    }
   ],
   "source": [
    "trimer_hdvs = Dict(aa1 * aa2 * aa3 => \n",
    "AA_dict[aa1] .* circshift(AA_dict[aa2], 1) .* circshift(AA_dict[aa3], 2)\n",
    "for aa1 in amino_acids_esm for aa2 in amino_acids_esm  for aa3 in amino_acids_esm)"
   ]
  },
  {
   "cell_type": "code",
   "execution_count": 42,
   "metadata": {},
   "outputs": [
    {
     "data": {
      "text/plain": [
       "bow_embedder (generic function with 1 method)"
      ]
     },
     "metadata": {},
     "output_type": "display_data"
    }
   ],
   "source": [
    "function bow_embedder(sequence)\n",
    "    l = [trimer_hdvs[sequence[i:i+2]] for i in 1:length(sequence)-2]\n",
    "    v = reduce(.+, l)\n",
    "    return v\n",
    "end"
   ]
  },
  {
   "cell_type": "code",
   "execution_count": 43,
   "metadata": {},
   "outputs": [
    {
     "data": {
      "text/plain": [
       "Dict{String, Vector{UInt8}} with 11549 entries:\n",
       "  \"UPI000178DD30\" => [0x4d, 0x41, 0x4b, 0x56, 0x51, 0x46, 0x54, 0x4b, 0x52, 0x5…\n",
       "  \"UPI0013EFDC93\" => [0x4d, 0x47, 0x59, 0x4d, 0x59, 0x50, 0x56, 0x50, 0x4b, 0x4…\n",
       "  \"UPI000172D062\" => [0x4d, 0x56, 0x49, 0x4d, 0x53, 0x45, 0x46, 0x56, 0x57, 0x4…\n",
       "  \"UPI001463ABBB\" => [0x4d, 0x4e, 0x4c, 0x53, 0x41, 0x4e, 0x46, 0x53, 0x4c, 0x4…\n",
       "  \"UPI000232F56D\" => [0x4d, 0x41, 0x4c, 0x47, 0x41, 0x50, 0x4d, 0x45, 0x4e, 0x4…\n",
       "  \"UPI0011625D30\" => [0x4d, 0x45, 0x47, 0x47, 0x44, 0x4b, 0x4c, 0x51, 0x47, 0x4…\n",
       "  \"UPI0009882324\" => [0x4d, 0x44, 0x49, 0x44, 0x52, 0x4e, 0x52, 0x4c, 0x52, 0x5…\n",
       "  \"UPI000CA1D611\" => [0x4d, 0x4b, 0x51, 0x41, 0x41, 0x59, 0x47, 0x53, 0x4c, 0x5…\n",
       "  \"UPI0006BC2F8A\" => [0x4d, 0x53, 0x46, 0x4b, 0x4d, 0x4b, 0x59, 0x50, 0x49, 0x4…\n",
       "  \"UPI000BBF7878\" => [0x4d, 0x54, 0x45, 0x52, 0x56, 0x4c, 0x52, 0x59, 0x44, 0x4…\n",
       "  \"UPI00138B2696\" => [0x4d, 0x51, 0x4c, 0x53, 0x52, 0x4b, 0x47, 0x4c, 0x44, 0x4…\n",
       "  \"UPI00025D6AED\" => [0x4d, 0x53, 0x4e, 0x52, 0x4e, 0x49, 0x53, 0x4e, 0x4e, 0x4…\n",
       "  \"UPI00022BD3A3\" => [0x4d, 0x54, 0x4c, 0x50, 0x56, 0x41, 0x4c, 0x54, 0x56, 0x5…\n",
       "  \"UPI000D22144F\" => [0x4d, 0x41, 0x4b, 0x49, 0x51, 0x41, 0x54, 0x4d, 0x53, 0x5…\n",
       "  \"UPI0010C2D3EE\" => [0x4d, 0x45, 0x56, 0x41, 0x47, 0x53, 0x50, 0x59, 0x47, 0x4…\n",
       "  \"UPI00080F0655\" => [0x4d, 0x47, 0x48, 0x49, 0x56, 0x44, 0x49, 0x53, 0x4b, 0x5…\n",
       "  \"UPI0018623B24\" => [0x4d, 0x47, 0x4b, 0x48, 0x4c, 0x56, 0x49, 0x43, 0x47, 0x4…\n",
       "  \"UPI0008093543\" => [0x4d, 0x50, 0x53, 0x49, 0x45, 0x4e, 0x4d, 0x49, 0x41, 0x5…\n",
       "  \"UPI0014638858\" => [0x4d, 0x4b, 0x50, 0x41, 0x53, 0x41, 0x59, 0x47, 0x44, 0x4…\n",
       "  ⋮               => ⋮"
      ]
     },
     "metadata": {},
     "output_type": "display_data"
    }
   ],
   "source": [
    "non_ml = JLD.load(\"../data/phalp_non_ml.jld\")[\"up_evd_type\"]\n",
    "conn = DBInterface.connect(MySQL.Connection, \"127.0.0.1\", \"root\", \"DB_Pw123\", db = \"PhaLP\")\n",
    "data = DataFrame(DBInterface.execute(conn,\"SELECT * FROM PhaLP.UniParc;\"))\n",
    "seq = Dict(zip(data[:, 1],data[:,2]))"
   ]
  },
  {
   "cell_type": "code",
   "execution_count": 44,
   "metadata": {},
   "outputs": [],
   "source": [
    "embedded_bow_esm = Dict()\n",
    "non_ml_seq = collect(keys(non_ml))\n",
    "\n",
    "for i in non_ml_seq\n",
    "    new_seq = bow_embedder(String(seq[i]))\n",
    "    embedded_bow_esm[i] = new_seq\n",
    "end\n",
    "@save \"../data/phalp_bow_esm_real.jld\" embedded_bow_esm"
   ]
  },
  {
   "attachments": {},
   "cell_type": "markdown",
   "metadata": {},
   "source": [
    "## ESM convolutional"
   ]
  },
  {
   "cell_type": "code",
   "execution_count": 45,
   "metadata": {},
   "outputs": [],
   "source": [
    "data = DataFrame(DBInterface.execute(conn,\"SELECT * FROM PhaLP.UniParc;\"))\n",
    "seq = Dict(zip(data[:, 1],data[:,2]))\n",
    "\n",
    "function convolved_embedding(sequence, tokens, k=3)\n",
    "    # layer 1\n",
    "    kmer_hdvs = []\n",
    "    for i in 1:length(sequence)-k+1\n",
    "        kmer = sequence[i:i+k-1]\n",
    "        aa_hdvs = [circshift(tokens[aa], k-l) for (l, aa) in enumerate(kmer)]\n",
    "        push!(kmer_hdvs, reduce(.*, aa_hdvs))\n",
    "    end\n",
    "    \n",
    "    # layer 2\n",
    "    conv_kmer_hdvs = []\n",
    "    for i in 1:length(kmer_hdvs)-k+1\n",
    "        convolved_kmers = kmer_hdvs[i:i+k-1]\n",
    "        conv_hdvs = [circshift(convolved_kmers[l], k-l) for (l, km) in enumerate(convolved_kmers)]\n",
    "        push!(conv_kmer_hdvs, reduce(.*, conv_hdvs))\n",
    "    end\n",
    "    \n",
    "    return reduce(.+, conv_kmer_hdvs)\n",
    "end\n",
    "\n",
    "embedded_CNN_esm = Dict()\n",
    "non_ml_seq = collect(keys(non_ml))\n",
    "for i in non_ml_seq\n",
    "    sequence = String(seq[i])\n",
    "    new_seq = convolved_embedding(sequence, AA_dict)\n",
    "    embedded_CNN_esm[i] = new_seq\n",
    "end"
   ]
  },
  {
   "cell_type": "code",
   "execution_count": 46,
   "metadata": {},
   "outputs": [],
   "source": [
    "@save \"../data/phalp_cnn_esm_real.jld\" embedded_CNN_esm"
   ]
  },
  {
   "attachments": {},
   "cell_type": "markdown",
   "metadata": {},
   "source": [
    "## Random real bow"
   ]
  },
  {
   "cell_type": "code",
   "execution_count": 35,
   "metadata": {},
   "outputs": [
    {
     "data": {
      "text/plain": [
       "Dict{Char, Vector{Float64}} with 21 entries:\n",
       "  'M' => [0.438716, 0.152832, 0.0110771, 0.00677782, 0.971969, -0.135213, -0.48…\n",
       "  'K' => [-0.488423, -0.450633, -0.334681, -0.708983, 0.544928, 0.537998, -0.15…\n",
       "  'P' => [-0.7464, 0.330163, -0.467727, 0.448434, -0.581428, 0.461746, -0.84186…\n",
       "  'Q' => [-0.660554, -0.35179, 0.132468, -0.197248, 0.661514, 0.994665, -0.6012…\n",
       "  'I' => [0.291717, 0.976697, 0.102317, -0.314818, 0.821215, -0.151135, 0.16365…\n",
       "  'H' => [0.664631, 0.999789, 0.442368, 0.215911, -0.395218, -0.513158, -0.5227…\n",
       "  'E' => [-0.194628, -0.69415, 0.878643, -0.358664, 0.355544, -0.189454, -0.581…\n",
       "  'W' => [0.562192, 0.0114708, -0.937221, -0.881339, -0.572418, -0.877474, 0.91…\n",
       "  'S' => [-0.0828748, -0.425852, -0.685893, 0.437952, 0.958066, 0.712524, 0.331…\n",
       "  'T' => [0.9324, -0.0392689, -0.0112462, 0.906185, -0.776391, -0.0548371, -0.8…\n",
       "  'C' => [-0.49666, -0.208356, -0.193512, 0.471485, 0.906146, -0.951737, 0.7862…\n",
       "  'X' => [0.333813, 0.168534, -0.189265, 0.866808, -0.380929, 0.463246, -0.6114…\n",
       "  'D' => [0.131602, 0.686953, -0.264174, -0.401813, -0.0637248, 0.631814, -0.33…\n",
       "  'A' => [-0.739764, 0.736564, -0.488383, -0.385216, -0.903853, 0.25525, -0.594…\n",
       "  'L' => [0.831821, 0.700215, -0.779978, -0.138776, 0.402992, 0.751184, -0.9956…\n",
       "  'Y' => [0.827353, -0.40346, 0.702128, -0.800392, 0.950437, 0.919549, 0.833926…\n",
       "  'V' => [-0.343501, -0.657926, 0.488527, 0.45077, 0.330136, -0.186881, 0.82258…\n",
       "  'R' => [-0.799716, 0.0923322, -0.736767, -0.829891, -0.248446, -0.205665, -0.…\n",
       "  'G' => [-0.536003, 0.921174, -0.934598, 0.578531, 0.049373, 0.992395, 0.83770…\n",
       "  ⋮   => ⋮"
      ]
     },
     "metadata": {},
     "output_type": "display_data"
    }
   ],
   "source": [
    "data = DataFrame(DBInterface.execute(conn,\"SELECT * FROM PhaLP.UniParc;\"))\n",
    "seq = Dict(zip(data[:, 1],data[:,2]))\n",
    "AA_list = ['A','C','D','E','F','G','H','I','K','L','M','N','P','Q','R','S','T','V','W','Y', 'X']\n",
    "\n",
    "AA_dict = Dict(zip(AA_list, [rand(Uniform(-1,1),10000) for i in AA_list]))"
   ]
  },
  {
   "cell_type": "code",
   "execution_count": 36,
   "metadata": {},
   "outputs": [
    {
     "data": {
      "text/plain": [
       "bow_embedder (generic function with 1 method)"
      ]
     },
     "metadata": {},
     "output_type": "display_data"
    }
   ],
   "source": [
    "trimer_hdvs = Dict(aa1 * aa2 * aa3 => \n",
    "AA_dict[aa1] .* circshift(AA_dict[aa2], 1) .* circshift(AA_dict[aa3], 2)\n",
    "for aa1 in AA_list for aa2 in AA_list  for aa3 in AA_list)\n",
    "\n",
    "\n",
    "function bow_embedder(sequence)\n",
    "    l = [trimer_hdvs[sequence[i:i+2]] for i in 1:length(sequence)-2]\n",
    "    v = reduce(.+, l)\n",
    "    return v\n",
    "end"
   ]
  },
  {
   "cell_type": "code",
   "execution_count": 37,
   "metadata": {},
   "outputs": [],
   "source": [
    "embedded_bow_rand = Dict()\n",
    "non_ml_seq = collect(keys(non_ml))\n",
    "\n",
    "for i in non_ml_seq\n",
    "    new_seq = bow_embedder(String(seq[i]))\n",
    "    embedded_bow_rand[i] = new_seq\n",
    "end\n",
    "@save \"../data/phalp_bow_rand_real.jld\" embedded_bow_rand"
   ]
  },
  {
   "attachments": {},
   "cell_type": "markdown",
   "metadata": {},
   "source": [
    "## Random real cnn\n"
   ]
  },
  {
   "cell_type": "code",
   "execution_count": 38,
   "metadata": {},
   "outputs": [],
   "source": [
    "data = DataFrame(DBInterface.execute(conn,\"SELECT * FROM PhaLP.UniParc;\"))\n",
    "seq = Dict(zip(data[:, 1],data[:,2]))\n",
    "\n",
    "embedded_CNN_rand = Dict()\n",
    "non_ml_seq = collect(keys(non_ml))\n",
    "for i in non_ml_seq\n",
    "    sequence = String(seq[i])\n",
    "    new_seq = convolved_embedding(sequence, AA_dict)\n",
    "    embedded_CNN_rand[i] = new_seq\n",
    "end\n",
    "\n",
    "@save \"../data/phalp_cnn_rand_real.jld\" embedded_CNN_rand"
   ]
  }
 ],
 "metadata": {
  "kernelspec": {
   "display_name": "Julia 1.8.5",
   "language": "julia",
   "name": "julia-1.8"
  },
  "language_info": {
   "file_extension": ".jl",
   "mimetype": "application/julia",
   "name": "julia",
   "version": "1.8.5"
  },
  "orig_nbformat": 4
 },
 "nbformat": 4,
 "nbformat_minor": 2
}

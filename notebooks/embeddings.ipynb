{
 "cells": [
  {
   "cell_type": "code",
   "execution_count": 76,
   "metadata": {},
   "outputs": [
    {
     "data": {
      "text/plain": [
       "cosine"
      ]
     },
     "metadata": {},
     "output_type": "display_data"
    }
   ],
   "source": [
    "using Random\n",
    "using LinearAlgebra\n",
    "\"\"\"\n",
    "Construct a bipolar vector. By default 10000 elements long.\n",
    "\"\"\"\n",
    "hdv(N::Int=10000) = vec(rand((-1,1), 1, N))\n",
    "\n",
    "\n",
    "\"\"\"\n",
    "Bundles bipolar hyperdimensional vectors.\n",
    "\"\"\"\n",
    "add(vectors::Vector{Int}...) = reduce(.+, vectors) .|> sign\n",
    "\n",
    "\n",
    "\"\"\"\n",
    "Binds binpolar hyperdimensional vectors.\n",
    "\"\"\"\n",
    "multiply(vectors::Vector{Int}...) = reduce(.*, vectors)\n",
    "\n",
    "\n",
    "\"\"\"\n",
    "Permutes a bipolar hyperdimensional vector by an adjustable circular shift.\n",
    "\"\"\"\n",
    "perm(vector::Vector, k::Int=1) = circshift(vector, (0, k))\n",
    "\n",
    "\n",
    "\"\"\"\n",
    "Calculates the cosine similarity between two bipolar vectors.\n",
    "\"\"\"\n",
    "cosine(x, y) = dot(x, y) / (norm(x) * norm(y))"
   ]
  },
  {
   "cell_type": "code",
   "execution_count": 77,
   "metadata": {},
   "outputs": [
    {
     "data": {
      "text/plain": [
       "hamming"
      ]
     },
     "metadata": {},
     "output_type": "display_data"
    }
   ],
   "source": [
    "\"\"\"\n",
    "Construct a binary vector. By default 10000 elements long.\n",
    "\"\"\"\n",
    "bithdv(N::Int=10000) = bitrand(N)\n",
    "\n",
    "\n",
    "\"\"\"\n",
    "Bundles binary hyperdimensional vectors based on the element-wise majority rule.\n",
    "\"\"\"\n",
    "function bitadd(vectors::BitVector ...)\n",
    "    v = reduce(.+, vectors)\n",
    "    n = length(vectors) / 2\n",
    "    x = [i > n ? 1 : i < n ? 0 : rand(0:1) for i in v]\n",
    "    return convert(BitVector, x)\n",
    "end\n",
    "\n",
    "\n",
    "\"\"\"\n",
    "Binds binary hyperdimensional vectors based on an element-wise XOR gate.\n",
    "\"\"\"\n",
    "bitbind(vectors::BitVector ...) =  reduce(.⊻, vectors)\n",
    "\n",
    "\n",
    "\"\"\"\n",
    "Permutes a hyperdimensional vector by an adjustable circular shift.\n",
    "\"\"\"\n",
    "bitperm(vector::BitVector, k::Int=1) = circshift(vector, k)\n",
    "\n",
    "\n",
    "\"\"\"\n",
    "Calculates the Hamming distance between two binary vectors.\n",
    "\"\"\"\n",
    "hamming(x::BitVector, y::BitVector) = sum(x .!= y)/length(x)"
   ]
  },
  {
   "cell_type": "code",
   "execution_count": 78,
   "metadata": {},
   "outputs": [
    {
     "data": {
      "text/html": [
       "<div class=\"data-frame\"><p>5 rows × 4 columns</p><table class=\"data-frame\"><thead><tr><th></th><th>ID</th><th>sequence</th><th>class</th><th>class_num</th></tr><tr><th></th><th title=\"Int64\">Int64</th><th title=\"String\">String</th><th title=\"String31\">String31</th><th title=\"Int64\">Int64</th></tr></thead><tbody><tr><th>1</th><td>1</td><td>AAWKWAWAKKWAKAKKWAKAA</td><td>mod. active</td><td>2</td></tr><tr><th>2</th><td>2</td><td>AIGKFLHSAKKFGKAFVGEIMNS</td><td>mod. active</td><td>2</td></tr><tr><th>3</th><td>3</td><td>AWKKWAKAWKWAKAKWWAKAA</td><td>mod. active</td><td>2</td></tr><tr><th>4</th><td>4</td><td>ESFSDWWKLLAE</td><td>mod. active</td><td>2</td></tr><tr><th>5</th><td>5</td><td>ETFADWWKLLAE</td><td>mod. active</td><td>2</td></tr></tbody></table></div>"
      ],
      "text/latex": [
       "\\begin{tabular}{r|cccc}\n",
       "\t& ID & sequence & class & class\\_num\\\\\n",
       "\t\\hline\n",
       "\t& Int64 & String & String31 & Int64\\\\\n",
       "\t\\hline\n",
       "\t1 & 1 & AAWKWAWAKKWAKAKKWAKAA & mod. active & 2 \\\\\n",
       "\t2 & 2 & AIGKFLHSAKKFGKAFVGEIMNS & mod. active & 2 \\\\\n",
       "\t3 & 3 & AWKKWAKAWKWAKAKWWAKAA & mod. active & 2 \\\\\n",
       "\t4 & 4 & ESFSDWWKLLAE & mod. active & 2 \\\\\n",
       "\t5 & 5 & ETFADWWKLLAE & mod. active & 2 \\\\\n",
       "\\end{tabular}\n"
      ],
      "text/plain": [
       "\u001b[1m5×4 DataFrame\u001b[0m\n",
       "\u001b[1m Row \u001b[0m│\u001b[1m ID    \u001b[0m\u001b[1m sequence                \u001b[0m\u001b[1m class       \u001b[0m\u001b[1m class_num \u001b[0m\n",
       "\u001b[1m     \u001b[0m│\u001b[90m Int64 \u001b[0m\u001b[90m String                  \u001b[0m\u001b[90m String31    \u001b[0m\u001b[90m Int64     \u001b[0m\n",
       "─────┼────────────────────────────────────────────────────────\n",
       "   1 │     1  AAWKWAWAKKWAKAKKWAKAA    mod. active          2\n",
       "   2 │     2  AIGKFLHSAKKFGKAFVGEIMNS  mod. active          2\n",
       "   3 │     3  AWKKWAKAWKWAKAKWWAKAA    mod. active          2\n",
       "   4 │     4  ESFSDWWKLLAE             mod. active          2\n",
       "   5 │     5  ETFADWWKLLAE             mod. active          2"
      ]
     },
     "metadata": {},
     "output_type": "display_data"
    }
   ],
   "source": [
    "using DataFrames, CSV\n",
    "data = CSV.read(\"ProtExdata/ACPs_Breast_cancer.csv\", DataFrame)\n",
    "unique(data.class)\n",
    "class_num = [i == \"very active\" ? 1 : i == \"mod. active\" ? 2 : i == \"inactive - exp\" ? 3 : 4 for i in data.class]\n",
    "data[!, :class_num] = class_num\n",
    "data = data[data.class_num .!= 4, :]\n",
    "first(data, 5)"
   ]
  },
  {
   "cell_type": "code",
   "execution_count": 110,
   "metadata": {},
   "outputs": [
    {
     "data": {
      "text/plain": [
       "Dict{String, Vector{Char}} with 4 entries:\n",
       "  \"non-polar\" => ['G', 'A', 'V', 'C', 'P', 'L', 'I', 'M', 'W', 'F']\n",
       "  \"polar\"     => ['S', 'T', 'Y', 'N', 'Q']\n",
       "  \"pos+\"      => ['L', 'R', 'H']\n",
       "  \"neg-\"      => ['D', 'E']"
      ]
     },
     "metadata": {},
     "output_type": "display_data"
    }
   ],
   "source": [
    "\n",
    "AA_list = ['A','C','D','E','F','G','H','I','K','L','M','N','P','Q','R','S','T','V','W','Y']\n",
    "groups = Dict(\"polar\" => ['S', 'T', 'Y', 'N', 'Q'], \"non-polar\" => ['G', 'A', 'V', 'C', 'P', 'L', 'I', 'M', 'W', 'F'], \n",
    "         \"pos+\" => ['L', 'R', 'H'], \"neg-\" => ['D', 'E'])"
   ]
  },
  {
   "cell_type": "code",
   "execution_count": 85,
   "metadata": {},
   "outputs": [
    {
     "data": {
      "text/plain": [
       "AA_dist_calc (generic function with 2 methods)"
      ]
     },
     "metadata": {},
     "output_type": "display_data"
    }
   ],
   "source": [
    "sorted_list = [i for (k,v) in groups for i in v]\n",
    "\n",
    "function AA_dist_calc(x, cos=true)\n",
    "    df = DataFrame([[] for i in 1:20], string.(sorted_list), makeunique=true)\n",
    "    for i in sorted_list\n",
    "        r = []\n",
    "        for j in sorted_list\n",
    "            if cos == true\n",
    "                push!(r, cosine(x[i], x[j]))\n",
    "            else\n",
    "                push!(r, hamming(x[i], x[j]))\n",
    "            end\n",
    "        end\n",
    "        push!(df, r)\n",
    "    end\n",
    "    insertcols!(df, 1, :coef => sorted_list)\n",
    "    return df\n",
    "end\n",
    "    "
   ]
  },
  {
   "cell_type": "code",
   "execution_count": null,
   "metadata": {},
   "outputs": [],
   "source": [
    "function scaler()\n",
    "    \n",
    "end"
   ]
  },
  {
   "cell_type": "code",
   "execution_count": 120,
   "metadata": {},
   "outputs": [
    {
     "data": {
      "text/plain": [
       "Dict{Char, Vector{Float32}} with 20 entries:\n",
       "  'M' => [-1.0, 1.0, 1.0, -1.0, 1.0, -1.0, -1.0, -1.0, -1.0, 1.0  …  1.0, 1.0, …\n",
       "  'K' => [-1.0, 1.0, 1.0, -1.0, 1.0, -1.0, -1.0, -1.0, -1.0, 1.0  …  1.0, 1.0, …\n",
       "  'P' => [-1.0, 1.0, 1.0, -1.0, 1.0, -1.0, -1.0, -1.0, -1.0, 1.0  …  1.0, 1.0, …\n",
       "  'Q' => [-1.0, 1.0, 1.0, -1.0, 1.0, -1.0, -1.0, -1.0, -1.0, 1.0  …  1.0, 1.0, …\n",
       "  'I' => [-1.0, 1.0, 1.0, -1.0, 1.0, -1.0, -1.0, -1.0, -1.0, 1.0  …  1.0, 1.0, …\n",
       "  'H' => [-1.0, 1.0, 1.0, -1.0, 1.0, -1.0, -1.0, -1.0, -1.0, 1.0  …  1.0, 1.0, …\n",
       "  'E' => [-1.0, 1.0, 1.0, -1.0, 1.0, -1.0, -1.0, -1.0, -1.0, 1.0  …  1.0, 1.0, …\n",
       "  'W' => [-1.0, 1.0, 1.0, -1.0, 1.0, -1.0, -1.0, -1.0, -1.0, 1.0  …  1.0, 1.0, …\n",
       "  'S' => [-1.0, 1.0, 1.0, -1.0, 1.0, -1.0, -1.0, -1.0, -1.0, 1.0  …  1.0, 1.0, …\n",
       "  'T' => [-1.0, 1.0, 1.0, -1.0, 1.0, -1.0, -1.0, -1.0, -1.0, 1.0  …  1.0, 1.0, …\n",
       "  'C' => [-1.0, 1.0, 1.0, -1.0, 1.0, -1.0, -1.0, -1.0, -1.0, 1.0  …  1.0, 1.0, …\n",
       "  'D' => [-1.0, 1.0, 1.0, -1.0, 1.0, -1.0, -1.0, -1.0, -1.0, 1.0  …  1.0, 1.0, …\n",
       "  'A' => [-1.0, 1.0, 1.0, -1.0, 1.0, -1.0, -1.0, -1.0, -1.0, 1.0  …  1.0, 1.0, …\n",
       "  'L' => [-1.0, 1.0, 1.0, -1.0, 1.0, -1.0, -1.0, -1.0, -1.0, 1.0  …  1.0, 1.0, …\n",
       "  'Y' => [-1.0, 1.0, 1.0, -1.0, 1.0, -1.0, -1.0, -1.0, -1.0, 1.0  …  1.0, 1.0, …\n",
       "  'V' => [-1.0, 1.0, 1.0, -1.0, 1.0, -1.0, -1.0, -1.0, -1.0, 1.0  …  1.0, 1.0, …\n",
       "  'R' => [-1.0, 1.0, 1.0, -1.0, 1.0, -1.0, -1.0, -1.0, -1.0, 1.0  …  1.0, 1.0, …\n",
       "  'G' => [-1.0, 1.0, 1.0, -1.0, 1.0, -1.0, -1.0, -1.0, -1.0, 1.0  …  1.0, 1.0, …\n",
       "  'F' => [-1.0, 1.0, 1.0, -1.0, 1.0, -1.0, -1.0, -1.0, -1.0, 1.0  …  1.0, 1.0, …\n",
       "  'N' => [-1.0, 1.0, 1.0, -1.0, 1.0, -1.0, -1.0, -1.0, -1.0, 1.0  …  1.0, 1.0, …"
      ]
     },
     "metadata": {},
     "output_type": "display_data"
    }
   ],
   "source": [
    "using PyCall\n",
    "using StatsBase\n",
    "py\"\"\"\n",
    "import pickle\n",
    "infile = open(\"/home/mfat/Unief/Thesis/ThesisFatjanov/data/aa_embeddings\",'rb')\n",
    "embeddings_trans = pickle.load(infile)\n",
    "infile.close()\n",
    "\"\"\"\n",
    "embeddings_trans = PyArray(py\"embeddings_trans\"o)\n",
    "\n",
    "random_hdv_bin = permutedims(hcat([bithdv() for i in 1:1024]...))\n",
    "random_hdv_bip = permutedims(hcat([hdv() for i in 1:1024]...))\n",
    "\n",
    "embeddings_trans_hdv = embeddings_trans*random_hdv_bin\n",
    "hdvs_trans = [embeddings_trans_hdv[i, :] for i in 1:20]\n",
    "AA_dict_trans = Dict(zip(AA_list, hdvs_trans))\n",
    "dt = fit(UnitRangeTransform, embeddings_trans_hdv, dims = 1)\n",
    "embeddings_trans_hdv = StatsBase.transform(dt, embeddings_trans_hdv)\n",
    "\n",
    "embeddings_trans_hdv_bin = round.(embeddings_trans_hdv)\n",
    "hdvs_trans_bin = [convert(BitVector, embeddings_trans_hdv_bin[i, :]) for i in 1:20]\n",
    "AA_dict_trans_bin = Dict(zip(AA_list, hdvs_trans_bin))\n",
    "\n",
    "embeddings_trans_hdv_bip = embeddings_trans*random_hdv_bip\n",
    "hdvs_trans_bip = [embeddings_trans_hdv_bip[i, :] .|> sign for i in 1:20]\n",
    "AA_dict_trans_bip = Dict(zip(AA_list, hdvs_trans_bip))"
   ]
  },
  {
   "cell_type": "code",
   "execution_count": 124,
   "metadata": {},
   "outputs": [
    {
     "ename": "ArgumentError",
     "evalue": "ArgumentError: Package JuliaML not found in current path:\n- Run `import Pkg; Pkg.add(\"JuliaML\")` to install the JuliaML package.\n",
     "output_type": "error",
     "traceback": [
      "ArgumentError: Package JuliaML not found in current path:\n",
      "- Run `import Pkg; Pkg.add(\"JuliaML\")` to install the JuliaML package.\n",
      "\n",
      "\n",
      "Stacktrace:\n",
      "  [1] require(into::Module, mod::Symbol)\n",
      "    @ Base ./loading.jl:967\n",
      "  [2] eval\n",
      "    @ ./boot.jl:373 [inlined]\n",
      "  [3] include_string(mapexpr::typeof(REPL.softscope), mod::Module, code::String, filename::String)\n",
      "    @ Base ./loading.jl:1196\n",
      "  [4] #invokelatest#2\n",
      "    @ ./essentials.jl:716 [inlined]\n",
      "  [5] invokelatest\n",
      "    @ ./essentials.jl:714 [inlined]\n",
      "  [6] (::VSCodeServer.var\"#198#199\"{VSCodeServer.NotebookRunCellArguments, String})()\n",
      "    @ VSCodeServer ~/.vscode/extensions/julialang.language-julia-1.38.2/scripts/packages/VSCodeServer/src/serve_notebook.jl:19\n",
      "  [7] withpath(f::VSCodeServer.var\"#198#199\"{VSCodeServer.NotebookRunCellArguments, String}, path::String)\n",
      "    @ VSCodeServer ~/.vscode/extensions/julialang.language-julia-1.38.2/scripts/packages/VSCodeServer/src/repl.jl:249\n",
      "  [8] notebook_runcell_request(conn::VSCodeServer.JSONRPC.JSONRPCEndpoint{Base.PipeEndpoint, Base.PipeEndpoint}, params::VSCodeServer.NotebookRunCellArguments)\n",
      "    @ VSCodeServer ~/.vscode/extensions/julialang.language-julia-1.38.2/scripts/packages/VSCodeServer/src/serve_notebook.jl:13\n",
      "  [9] dispatch_msg(x::VSCodeServer.JSONRPC.JSONRPCEndpoint{Base.PipeEndpoint, Base.PipeEndpoint}, dispatcher::VSCodeServer.JSONRPC.MsgDispatcher, msg::Dict{String, Any})\n",
      "    @ VSCodeServer.JSONRPC ~/.vscode/extensions/julialang.language-julia-1.38.2/scripts/packages/JSONRPC/src/typed.jl:67\n",
      " [10] serve_notebook(pipename::String, outputchannel_logger::Base.CoreLogging.SimpleLogger; crashreporting_pipename::String)\n",
      "    @ VSCodeServer ~/.vscode/extensions/julialang.language-julia-1.38.2/scripts/packages/VSCodeServer/src/serve_notebook.jl:139\n",
      " [11] top-level scope\n",
      "    @ ~/.vscode/extensions/julialang.language-julia-1.38.2/scripts/notebook/notebook.jl:32"
     ]
    }
   ],
   "source": [
    "using PyCall\n",
    "using TableTransforms\n",
    "py\"\"\"\n",
    "import pickle\n",
    "infile = open(\"/home/mfat/Unief/Thesis/ThesisFatjanov/data/aa_embeddings\",'rb')\n",
    "embeddings_trans = pickle.load(infile)\n",
    "infile.close()\n",
    "\"\"\"\n",
    "embeddings_trans = PyArray(py\"embeddings_trans\"o)\n",
    "\n",
    "random_hdv_bin = permutedims(hcat([bithdv() for i in 1:1024]...))\n",
    "random_hdv_bip = permutedims(hcat([hdv() for i in 1:1024]...))\n",
    "\n",
    "embeddings_trans_hdv = embeddings_trans*random_hdv_bip\n",
    "scaler = fit(FixedRangeScaler, embeddings_trans_hdv, -1, 1; obsdim=1)\n",
    "transform!(embeddings_trans_hdv, scaler)\n",
    "hdvs_trans = [embeddings_trans_hdv[i, :] for i in 1:20]\n",
    "AA_dict_trans = Dict(zip(AA_list, hdvs_trans))\n",
    "\n",
    "embeddings_trans_hdv_bin = embeddings_trans*random_hdv_bin\n",
    "scaler = JuliaML.fit(FixedRangeScaler, embeddings_trans_hdv_bin, 0, 1; obsdim=1)\n",
    "transform!(embeddings_trans_hdv_bin, scaler)\n",
    "hdvs_trans_bin = [round.(embeddings_trans_hdv_bin[i, :]) for i in 1:20]\n",
    "AA_dict_trans_bin = Dict(zip(AA_list, hdvs_trans_bin))\n",
    "\n",
    "embeddings_trans_hdv_bip = embeddings_trans*random_hdv_bip\n",
    "scaler = fit(FixedRangeScaler, embeddings_trans_hdv_bip, -1, 1; obsdim=1)\n",
    "transform!(embeddings_trans_hdv_bip, scaler)\n",
    "hdvs_trans_bip = [embeddings_trans_hdv_bip[i, :] .|> sign for i in 1:20]\n",
    "AA_dict_trans_bip = Dict(zip(AA_list, hdvs_trans_bip))"
   ]
  },
  {
   "cell_type": "code",
   "execution_count": 121,
   "metadata": {},
   "outputs": [
    {
     "data": {
      "text/html": [
       "<div class=\"data-frame\"><p>20 rows × 21 columns (omitted printing of 10 columns)</p><table class=\"data-frame\"><thead><tr><th></th><th>coef</th><th>G</th><th>A</th><th>V</th><th>C</th><th>P</th><th>L</th><th>I</th><th>M</th><th>W</th><th>F</th></tr><tr><th></th><th title=\"Char\">Char</th><th title=\"Any\">Any</th><th title=\"Any\">Any</th><th title=\"Any\">Any</th><th title=\"Any\">Any</th><th title=\"Any\">Any</th><th title=\"Any\">Any</th><th title=\"Any\">Any</th><th title=\"Any\">Any</th><th title=\"Any\">Any</th><th title=\"Any\">Any</th></tr></thead><tbody><tr><th>1</th><td>G</td><td>0.0</td><td>0.0222</td><td>0.8359</td><td>0.6464</td><td>0.3024</td><td>0.7856</td><td>0.0826</td><td>0.1193</td><td>0.2478</td><td>0.4394</td></tr><tr><th>2</th><td>A</td><td>0.0222</td><td>0.0</td><td>0.8401</td><td>0.6322</td><td>0.3076</td><td>0.7884</td><td>0.0976</td><td>0.1353</td><td>0.2626</td><td>0.4244</td></tr><tr><th>3</th><td>V</td><td>0.8359</td><td>0.8401</td><td>0.0</td><td>0.4939</td><td>0.7709</td><td>0.0609</td><td>0.8373</td><td>0.7658</td><td>0.7305</td><td>0.6971</td></tr><tr><th>4</th><td>C</td><td>0.6464</td><td>0.6322</td><td>0.4939</td><td>0.0</td><td>0.417</td><td>0.5406</td><td>0.6318</td><td>0.6895</td><td>0.5314</td><td>0.2132</td></tr><tr><th>5</th><td>P</td><td>0.3024</td><td>0.3076</td><td>0.7709</td><td>0.417</td><td>0.0</td><td>0.7844</td><td>0.2374</td><td>0.2967</td><td>0.148</td><td>0.2434</td></tr><tr><th>6</th><td>L</td><td>0.7856</td><td>0.7884</td><td>0.0609</td><td>0.5406</td><td>0.7844</td><td>0.0</td><td>0.7958</td><td>0.7175</td><td>0.715</td><td>0.7376</td></tr><tr><th>7</th><td>I</td><td>0.0826</td><td>0.0976</td><td>0.8373</td><td>0.6318</td><td>0.2374</td><td>0.7958</td><td>0.0</td><td>0.0881</td><td>0.1656</td><td>0.4332</td></tr><tr><th>8</th><td>M</td><td>0.1193</td><td>0.1353</td><td>0.7658</td><td>0.6895</td><td>0.2967</td><td>0.7175</td><td>0.0881</td><td>0.0</td><td>0.1865</td><td>0.5041</td></tr><tr><th>9</th><td>W</td><td>0.2478</td><td>0.2626</td><td>0.7305</td><td>0.5314</td><td>0.148</td><td>0.715</td><td>0.1656</td><td>0.1865</td><td>0.0</td><td>0.3782</td></tr><tr><th>10</th><td>F</td><td>0.4394</td><td>0.4244</td><td>0.6971</td><td>0.2132</td><td>0.2434</td><td>0.7376</td><td>0.4332</td><td>0.5041</td><td>0.3782</td><td>0.0</td></tr><tr><th>11</th><td>S</td><td>0.0434</td><td>0.0502</td><td>0.7995</td><td>0.6782</td><td>0.3384</td><td>0.746</td><td>0.1072</td><td>0.1045</td><td>0.265</td><td>0.4728</td></tr><tr><th>12</th><td>T</td><td>0.0621</td><td>0.0719</td><td>0.7852</td><td>0.6953</td><td>0.3445</td><td>0.7307</td><td>0.1079</td><td>0.086</td><td>0.2593</td><td>0.4913</td></tr><tr><th>13</th><td>Y</td><td>0.5198</td><td>0.5042</td><td>0.6113</td><td>0.132</td><td>0.3312</td><td>0.6558</td><td>0.5254</td><td>0.5911</td><td>0.4624</td><td>0.0956</td></tr><tr><th>14</th><td>N</td><td>0.0106</td><td>0.0234</td><td>0.8291</td><td>0.6516</td><td>0.3102</td><td>0.7774</td><td>0.0852</td><td>0.1137</td><td>0.25</td><td>0.4442</td></tr><tr><th>15</th><td>Q</td><td>0.0585</td><td>0.0711</td><td>0.79</td><td>0.6955</td><td>0.3377</td><td>0.7369</td><td>0.1011</td><td>0.0818</td><td>0.2527</td><td>0.4909</td></tr><tr><th>16</th><td>L</td><td>0.7856</td><td>0.7884</td><td>0.0609</td><td>0.5406</td><td>0.7844</td><td>0.0</td><td>0.7958</td><td>0.7175</td><td>0.715</td><td>0.7376</td></tr><tr><th>17</th><td>R</td><td>0.1016</td><td>0.1106</td><td>0.8513</td><td>0.6006</td><td>0.2068</td><td>0.8156</td><td>0.0344</td><td>0.1207</td><td>0.1596</td><td>0.4004</td></tr><tr><th>18</th><td>H</td><td>0.0123</td><td>0.0251</td><td>0.8348</td><td>0.6489</td><td>0.3027</td><td>0.7825</td><td>0.0769</td><td>0.1122</td><td>0.2421</td><td>0.4405</td></tr><tr><th>19</th><td>D</td><td>0.0439</td><td>0.0635</td><td>0.8384</td><td>0.6571</td><td>0.2745</td><td>0.7931</td><td>0.0445</td><td>0.0958</td><td>0.2059</td><td>0.4541</td></tr><tr><th>20</th><td>E</td><td>0.2352</td><td>0.2292</td><td>0.8341</td><td>0.43</td><td>0.1226</td><td>0.8326</td><td>0.2122</td><td>0.2881</td><td>0.2104</td><td>0.2226</td></tr></tbody></table></div>"
      ],
      "text/latex": [
       "\\begin{tabular}{r|cccccccccccc}\n",
       "\t& coef & G & A & V & C & P & L & I & M & W & F & \\\\\n",
       "\t\\hline\n",
       "\t& Char & Any & Any & Any & Any & Any & Any & Any & Any & Any & Any & \\\\\n",
       "\t\\hline\n",
       "\t1 & G & 0.0 & 0.0222 & 0.8359 & 0.6464 & 0.3024 & 0.7856 & 0.0826 & 0.1193 & 0.2478 & 0.4394 & $\\dots$ \\\\\n",
       "\t2 & A & 0.0222 & 0.0 & 0.8401 & 0.6322 & 0.3076 & 0.7884 & 0.0976 & 0.1353 & 0.2626 & 0.4244 & $\\dots$ \\\\\n",
       "\t3 & V & 0.8359 & 0.8401 & 0.0 & 0.4939 & 0.7709 & 0.0609 & 0.8373 & 0.7658 & 0.7305 & 0.6971 & $\\dots$ \\\\\n",
       "\t4 & C & 0.6464 & 0.6322 & 0.4939 & 0.0 & 0.417 & 0.5406 & 0.6318 & 0.6895 & 0.5314 & 0.2132 & $\\dots$ \\\\\n",
       "\t5 & P & 0.3024 & 0.3076 & 0.7709 & 0.417 & 0.0 & 0.7844 & 0.2374 & 0.2967 & 0.148 & 0.2434 & $\\dots$ \\\\\n",
       "\t6 & L & 0.7856 & 0.7884 & 0.0609 & 0.5406 & 0.7844 & 0.0 & 0.7958 & 0.7175 & 0.715 & 0.7376 & $\\dots$ \\\\\n",
       "\t7 & I & 0.0826 & 0.0976 & 0.8373 & 0.6318 & 0.2374 & 0.7958 & 0.0 & 0.0881 & 0.1656 & 0.4332 & $\\dots$ \\\\\n",
       "\t8 & M & 0.1193 & 0.1353 & 0.7658 & 0.6895 & 0.2967 & 0.7175 & 0.0881 & 0.0 & 0.1865 & 0.5041 & $\\dots$ \\\\\n",
       "\t9 & W & 0.2478 & 0.2626 & 0.7305 & 0.5314 & 0.148 & 0.715 & 0.1656 & 0.1865 & 0.0 & 0.3782 & $\\dots$ \\\\\n",
       "\t10 & F & 0.4394 & 0.4244 & 0.6971 & 0.2132 & 0.2434 & 0.7376 & 0.4332 & 0.5041 & 0.3782 & 0.0 & $\\dots$ \\\\\n",
       "\t11 & S & 0.0434 & 0.0502 & 0.7995 & 0.6782 & 0.3384 & 0.746 & 0.1072 & 0.1045 & 0.265 & 0.4728 & $\\dots$ \\\\\n",
       "\t12 & T & 0.0621 & 0.0719 & 0.7852 & 0.6953 & 0.3445 & 0.7307 & 0.1079 & 0.086 & 0.2593 & 0.4913 & $\\dots$ \\\\\n",
       "\t13 & Y & 0.5198 & 0.5042 & 0.6113 & 0.132 & 0.3312 & 0.6558 & 0.5254 & 0.5911 & 0.4624 & 0.0956 & $\\dots$ \\\\\n",
       "\t14 & N & 0.0106 & 0.0234 & 0.8291 & 0.6516 & 0.3102 & 0.7774 & 0.0852 & 0.1137 & 0.25 & 0.4442 & $\\dots$ \\\\\n",
       "\t15 & Q & 0.0585 & 0.0711 & 0.79 & 0.6955 & 0.3377 & 0.7369 & 0.1011 & 0.0818 & 0.2527 & 0.4909 & $\\dots$ \\\\\n",
       "\t16 & L & 0.7856 & 0.7884 & 0.0609 & 0.5406 & 0.7844 & 0.0 & 0.7958 & 0.7175 & 0.715 & 0.7376 & $\\dots$ \\\\\n",
       "\t17 & R & 0.1016 & 0.1106 & 0.8513 & 0.6006 & 0.2068 & 0.8156 & 0.0344 & 0.1207 & 0.1596 & 0.4004 & $\\dots$ \\\\\n",
       "\t18 & H & 0.0123 & 0.0251 & 0.8348 & 0.6489 & 0.3027 & 0.7825 & 0.0769 & 0.1122 & 0.2421 & 0.4405 & $\\dots$ \\\\\n",
       "\t19 & D & 0.0439 & 0.0635 & 0.8384 & 0.6571 & 0.2745 & 0.7931 & 0.0445 & 0.0958 & 0.2059 & 0.4541 & $\\dots$ \\\\\n",
       "\t20 & E & 0.2352 & 0.2292 & 0.8341 & 0.43 & 0.1226 & 0.8326 & 0.2122 & 0.2881 & 0.2104 & 0.2226 & $\\dots$ \\\\\n",
       "\\end{tabular}\n"
      ],
      "text/plain": [
       "\u001b[1m20×21 DataFrame\u001b[0m\n",
       "\u001b[1m Row \u001b[0m│\u001b[1m coef \u001b[0m\u001b[1m G      \u001b[0m\u001b[1m A      \u001b[0m\u001b[1m V      \u001b[0m\u001b[1m C      \u001b[0m\u001b[1m P      \u001b[0m\u001b[1m L      \u001b[0m\u001b[1m I      \u001b[0m\u001b[1m M      \u001b[0m\u001b[1m W\u001b[0m ⋯\n",
       "\u001b[1m     \u001b[0m│\u001b[90m Char \u001b[0m\u001b[90m Any    \u001b[0m\u001b[90m Any    \u001b[0m\u001b[90m Any    \u001b[0m\u001b[90m Any    \u001b[0m\u001b[90m Any    \u001b[0m\u001b[90m Any    \u001b[0m\u001b[90m Any    \u001b[0m\u001b[90m Any    \u001b[0m\u001b[90m A\u001b[0m ⋯\n",
       "─────┼──────────────────────────────────────────────────────────────────────────\n",
       "   1 │ G     0.0     0.0222  0.8359  0.6464  0.3024  0.7856  0.0826  0.1193  0 ⋯\n",
       "   2 │ A     0.0222  0.0     0.8401  0.6322  0.3076  0.7884  0.0976  0.1353  0\n",
       "   3 │ V     0.8359  0.8401  0.0     0.4939  0.7709  0.0609  0.8373  0.7658  0\n",
       "   4 │ C     0.6464  0.6322  0.4939  0.0     0.417   0.5406  0.6318  0.6895  0\n",
       "   5 │ P     0.3024  0.3076  0.7709  0.417   0.0     0.7844  0.2374  0.2967  0 ⋯\n",
       "   6 │ L     0.7856  0.7884  0.0609  0.5406  0.7844  0.0     0.7958  0.7175  0\n",
       "   7 │ I     0.0826  0.0976  0.8373  0.6318  0.2374  0.7958  0.0     0.0881  0\n",
       "   8 │ M     0.1193  0.1353  0.7658  0.6895  0.2967  0.7175  0.0881  0.0     0\n",
       "  ⋮  │  ⋮      ⋮       ⋮       ⋮       ⋮       ⋮       ⋮       ⋮       ⋮       ⋱\n",
       "  14 │ N     0.0106  0.0234  0.8291  0.6516  0.3102  0.7774  0.0852  0.1137  0 ⋯\n",
       "  15 │ Q     0.0585  0.0711  0.79    0.6955  0.3377  0.7369  0.1011  0.0818  0\n",
       "  16 │ L     0.7856  0.7884  0.0609  0.5406  0.7844  0.0     0.7958  0.7175  0\n",
       "  17 │ R     0.1016  0.1106  0.8513  0.6006  0.2068  0.8156  0.0344  0.1207  0\n",
       "  18 │ H     0.0123  0.0251  0.8348  0.6489  0.3027  0.7825  0.0769  0.1122  0 ⋯\n",
       "  19 │ D     0.0439  0.0635  0.8384  0.6571  0.2745  0.7931  0.0445  0.0958  0\n",
       "  20 │ E     0.2352  0.2292  0.8341  0.43    0.1226  0.8326  0.2122  0.2881  0\n",
       "\u001b[36m                                                   12 columns and 5 rows omitted\u001b[0m"
      ]
     },
     "metadata": {},
     "output_type": "display_data"
    }
   ],
   "source": [
    "df_trans = AA_dist_calc(AA_dict_trans)\n",
    "df_trans_bip = AA_dist_calc(AA_dict_trans_bip)\n",
    "df_trans_bin = AA_dist_calc(AA_dict_trans_bin, false)"
   ]
  },
  {
   "cell_type": "code",
   "execution_count": 84,
   "metadata": {},
   "outputs": [
    {
     "data": {
      "text/plain": [
       "convolved_embedding (generic function with 2 methods)"
      ]
     },
     "metadata": {},
     "output_type": "display_data"
    }
   ],
   "source": [
    "function convolved_embedding(sequence, tokens, k=3)\n",
    "    \"\"\"\n",
    "    Simple 2-layer convolved embedding in hyperdimensional space\n",
    "    \"\"\"\n",
    "    # layer 1\n",
    "    kmer_hdvs = []\n",
    "    for i in 1:length(sequence)-k+1\n",
    "        kmer = sequence[i:i+k-1]\n",
    "        aa_hdvs = [circshift(tokens[aa], k-l) for (l, aa) in enumerate(kmer)]\n",
    "        push!(kmer_hdvs, bitbind(aa_hdvs))\n",
    "    end\n",
    "    \n",
    "    # layer 2\n",
    "    conv_kmer_hdvs = []\n",
    "    for i in 1:length(kmer_hdvs)-k+1\n",
    "        convolved_kmers = kmer_hdvs[i:i+k-1]\n",
    "        conv_hdvs = [circshift(convolved_kmers[l], k-l) for (l, km) in enumerate(convolved_kmers)]\n",
    "        push!(conv_kmer_hdvs, bitbind(conv_hdvs))\n",
    "    end\n",
    "    \n",
    "    return bitadd(conv_kmer_hdvs)\n",
    "end"
   ]
  }
 ],
 "metadata": {
  "kernelspec": {
   "display_name": "Julia 1.7.3",
   "language": "julia",
   "name": "julia-1.7"
  },
  "language_info": {
   "file_extension": ".jl",
   "mimetype": "application/julia",
   "name": "julia",
   "version": "1.7.3"
  },
  "orig_nbformat": 4
 },
 "nbformat": 4,
 "nbformat_minor": 2
}

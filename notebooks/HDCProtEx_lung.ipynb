{
 "cells": [
  {
   "cell_type": "markdown",
   "metadata": {},
   "source": [
    "https://www.kaggle.com/datasets/anuragupadhyaya/anticancer-peptides-data-set"
   ]
  },
  {
   "cell_type": "code",
   "execution_count": 2,
   "metadata": {},
   "outputs": [
    {
     "data": {
      "text/plain": [
       "hamming"
      ]
     },
     "execution_count": 2,
     "metadata": {},
     "output_type": "execute_result"
    }
   ],
   "source": [
    "using Random\n",
    "\n",
    "\"\"\"\n",
    "Construct a binary vector. By default 10000 elements long.\n",
    "\"\"\"\n",
    "bitHDV(N::Int=10000) = bitrand(N)\n",
    "\n",
    "\n",
    "\"\"\"\n",
    "Bundles binary hyperdimensional vectors based on the element-wise majority rule.\n",
    "\"\"\"\n",
    "function bitadd(vectors::BitVector ...)\n",
    "    v = reduce(.+, vectors)\n",
    "    n = length(vectors) / 2\n",
    "    x = [i > n ? 1 : i < n ? 0 : rand(0:1) for i in v]\n",
    "    return convert(BitVector, x)\n",
    "end\n",
    "\n",
    "\n",
    "\"\"\"\n",
    "Binds binary hyperdimensional vectors based on an element-wise XOR gate.\n",
    "\"\"\"\n",
    "bitbind(vectors::BitVector ...) =  reduce(.⊻, vectors)\n",
    "\n",
    "\n",
    "\"\"\"\n",
    "Permutes a binary hyperdimensional vector by an adjustable circular shift.\n",
    "\"\"\"\n",
    "bitperm(vector::BitVector, k::Int=1) = circshift(vector, k)\n",
    "\n",
    "\n",
    "\"\"\"\n",
    "Calculates the Hamming distance between two binary vectors.\n",
    "\"\"\"\n",
    "hamming(x::BitVector, y::BitVector) = sum(x .!= y)/length(x)"
   ]
  },
  {
   "cell_type": "code",
   "execution_count": 3,
   "metadata": {},
   "outputs": [
    {
     "data": {
      "text/html": [
       "<div class=\"data-frame\"><p>901 rows × 3 columns</p><table class=\"data-frame\"><thead><tr><th></th><th>ID</th><th>sequence</th><th>class</th></tr><tr><th></th><th title=\"Int64\">Int64</th><th title=\"String\">String</th><th title=\"String31\">String31</th></tr></thead><tbody><tr><th>1</th><td>1</td><td>AIGKFLHSAKKFGKAFVGEIMNS</td><td>mod. active</td></tr><tr><th>2</th><td>2</td><td>FAKALAKLAKKLL</td><td>mod. active</td></tr><tr><th>3</th><td>3</td><td>FAKALKALLKALKAL</td><td>mod. active</td></tr><tr><th>4</th><td>4</td><td>FAKFLAKFLKKAL</td><td>mod. active</td></tr><tr><th>5</th><td>5</td><td>FAKIIAKIAKIAKKIL</td><td>inactive - exp</td></tr><tr><th>6</th><td>6</td><td>FAKKFAKKFKKFAKKFAKFAFAF</td><td>mod. active</td></tr><tr><th>7</th><td>7</td><td>FAKKLAKKLAKAAL</td><td>inactive - exp</td></tr><tr><th>8</th><td>8</td><td>FAKKLAKKLAKAL</td><td>inactive - exp</td></tr><tr><th>9</th><td>9</td><td>FAKKLAKKLAKLAL</td><td>inactive - exp</td></tr><tr><th>10</th><td>10</td><td>FAKKLAKKLAKLL</td><td>inactive - exp</td></tr><tr><th>11</th><td>11</td><td>FAKKLAKKLKKLAKKLAK</td><td>inactive - exp</td></tr><tr><th>12</th><td>12</td><td>FAKKLAKKLKKLAKKLAKKWKL</td><td>mod. active</td></tr><tr><th>13</th><td>13</td><td>FAKKLAKKLKKLAKKLAKLAKKL</td><td>inactive - exp</td></tr><tr><th>14</th><td>14</td><td>FAKKLAKKLKKLAKKLAKLALALKALALKAL</td><td>mod. active</td></tr><tr><th>15</th><td>15</td><td>FAKKLAKKLKKLAKKLIGAVLKV</td><td>mod. active</td></tr><tr><th>16</th><td>16</td><td>FAKKLAKKLKKLAKLALAK</td><td>inactive - exp</td></tr><tr><th>17</th><td>17</td><td>FAKKLAKKLKKLAKLALAL</td><td>inactive - exp</td></tr><tr><th>18</th><td>18</td><td>FAKKLAKKLL</td><td>inactive - exp</td></tr><tr><th>19</th><td>19</td><td>FAKKLAKLAKKALAL</td><td>inactive - exp</td></tr><tr><th>20</th><td>20</td><td>FAKKLAKLAKKL</td><td>inactive - exp</td></tr><tr><th>21</th><td>21</td><td>FAKKLAKLAKKLAKLAL</td><td>mod. active</td></tr><tr><th>22</th><td>22</td><td>FAKKLAKLAKKLAKLALAL</td><td>mod. active</td></tr><tr><th>23</th><td>23</td><td>FAKKLAKLAKKLLAL</td><td>mod. active</td></tr><tr><th>24</th><td>24</td><td>FAKKLAKLALKLAKL</td><td>mod. active</td></tr><tr><th>25</th><td>25</td><td>FAKKLKKLAKLAKKL</td><td>inactive - exp</td></tr><tr><th>26</th><td>26</td><td>FAKKLLAKALKL</td><td>inactive - exp</td></tr><tr><th>27</th><td>27</td><td>FAKLAKKALAKLL</td><td>inactive - exp</td></tr><tr><th>28</th><td>28</td><td>FAKLF</td><td>inactive - exp</td></tr><tr><th>29</th><td>29</td><td>FAKLFAKLAKKFAL</td><td>inactive - exp</td></tr><tr><th>30</th><td>30</td><td>FAKLLAKALKKAL</td><td>mod. active</td></tr><tr><th>&vellip;</th><td>&vellip;</td><td>&vellip;</td><td>&vellip;</td></tr></tbody></table></div>"
      ],
      "text/latex": [
       "\\begin{tabular}{r|ccc}\n",
       "\t& ID & sequence & class\\\\\n",
       "\t\\hline\n",
       "\t& Int64 & String & String31\\\\\n",
       "\t\\hline\n",
       "\t1 & 1 & AIGKFLHSAKKFGKAFVGEIMNS & mod. active \\\\\n",
       "\t2 & 2 & FAKALAKLAKKLL & mod. active \\\\\n",
       "\t3 & 3 & FAKALKALLKALKAL & mod. active \\\\\n",
       "\t4 & 4 & FAKFLAKFLKKAL & mod. active \\\\\n",
       "\t5 & 5 & FAKIIAKIAKIAKKIL & inactive - exp \\\\\n",
       "\t6 & 6 & FAKKFAKKFKKFAKKFAKFAFAF & mod. active \\\\\n",
       "\t7 & 7 & FAKKLAKKLAKAAL & inactive - exp \\\\\n",
       "\t8 & 8 & FAKKLAKKLAKAL & inactive - exp \\\\\n",
       "\t9 & 9 & FAKKLAKKLAKLAL & inactive - exp \\\\\n",
       "\t10 & 10 & FAKKLAKKLAKLL & inactive - exp \\\\\n",
       "\t11 & 11 & FAKKLAKKLKKLAKKLAK & inactive - exp \\\\\n",
       "\t12 & 12 & FAKKLAKKLKKLAKKLAKKWKL & mod. active \\\\\n",
       "\t13 & 13 & FAKKLAKKLKKLAKKLAKLAKKL & inactive - exp \\\\\n",
       "\t14 & 14 & FAKKLAKKLKKLAKKLAKLALALKALALKAL & mod. active \\\\\n",
       "\t15 & 15 & FAKKLAKKLKKLAKKLIGAVLKV & mod. active \\\\\n",
       "\t16 & 16 & FAKKLAKKLKKLAKLALAK & inactive - exp \\\\\n",
       "\t17 & 17 & FAKKLAKKLKKLAKLALAL & inactive - exp \\\\\n",
       "\t18 & 18 & FAKKLAKKLL & inactive - exp \\\\\n",
       "\t19 & 19 & FAKKLAKLAKKALAL & inactive - exp \\\\\n",
       "\t20 & 20 & FAKKLAKLAKKL & inactive - exp \\\\\n",
       "\t21 & 21 & FAKKLAKLAKKLAKLAL & mod. active \\\\\n",
       "\t22 & 22 & FAKKLAKLAKKLAKLALAL & mod. active \\\\\n",
       "\t23 & 23 & FAKKLAKLAKKLLAL & mod. active \\\\\n",
       "\t24 & 24 & FAKKLAKLALKLAKL & mod. active \\\\\n",
       "\t25 & 25 & FAKKLKKLAKLAKKL & inactive - exp \\\\\n",
       "\t26 & 26 & FAKKLLAKALKL & inactive - exp \\\\\n",
       "\t27 & 27 & FAKLAKKALAKLL & inactive - exp \\\\\n",
       "\t28 & 28 & FAKLF & inactive - exp \\\\\n",
       "\t29 & 29 & FAKLFAKLAKKFAL & inactive - exp \\\\\n",
       "\t30 & 30 & FAKLLAKALKKAL & mod. active \\\\\n",
       "\t$\\dots$ & $\\dots$ & $\\dots$ & $\\dots$ \\\\\n",
       "\\end{tabular}\n"
      ],
      "text/plain": [
       "\u001b[1m901×3 DataFrame\u001b[0m\n",
       "\u001b[1m Row \u001b[0m│\u001b[1m ID    \u001b[0m\u001b[1m sequence                        \u001b[0m\u001b[1m class              \u001b[0m\n",
       "\u001b[1m     \u001b[0m│\u001b[90m Int64 \u001b[0m\u001b[90m String                          \u001b[0m\u001b[90m String31           \u001b[0m\n",
       "─────┼────────────────────────────────────────────────────────────\n",
       "   1 │     1  AIGKFLHSAKKFGKAFVGEIMNS          mod. active\n",
       "   2 │     2  FAKALAKLAKKLL                    mod. active\n",
       "   3 │     3  FAKALKALLKALKAL                  mod. active\n",
       "   4 │     4  FAKFLAKFLKKAL                    mod. active\n",
       "   5 │     5  FAKIIAKIAKIAKKIL                 inactive - exp\n",
       "   6 │     6  FAKKFAKKFKKFAKKFAKFAFAF          mod. active\n",
       "   7 │     7  FAKKLAKKLAKAAL                   inactive - exp\n",
       "   8 │     8  FAKKLAKKLAKAL                    inactive - exp\n",
       "   9 │     9  FAKKLAKKLAKLAL                   inactive - exp\n",
       "  10 │    10  FAKKLAKKLAKLL                    inactive - exp\n",
       "  11 │    11  FAKKLAKKLKKLAKKLAK               inactive - exp\n",
       "  ⋮  │   ⋮                   ⋮                         ⋮\n",
       " 892 │   892  YFSKGIPNVLRR                     inactive - virtual\n",
       " 893 │   893  YGSIGLTNFGYLDKE                  inactive - virtual\n",
       " 894 │   894  YKEPLKAVVKKLLEKE                 inactive - virtual\n",
       " 895 │   895  YKKFRQLIQVN                      inactive - virtual\n",
       " 896 │   896  YLADLFLAPQIHGAINRFQ              inactive - virtual\n",
       " 897 │   897  YLDKEVKLIKKMGNHLTNLRRVA          inactive - virtual\n",
       " 898 │   898  YLSESVETIKKLGDHITSLKKLW          inactive - virtual\n",
       " 899 │   899  YPIVDAAMRQLTETG                  inactive - virtual\n",
       " 900 │   900  YQNIVKAVQYAARKLQ                 inactive - virtual\n",
       " 901 │   901  YQQQKKYLGRMTE                    inactive - virtual\n",
       "\u001b[36m                                                  880 rows omitted\u001b[0m"
      ]
     },
     "execution_count": 3,
     "metadata": {},
     "output_type": "execute_result"
    }
   ],
   "source": [
    "using DataFrames, CSV\n",
    "data = CSV.read(\"ProtExdata/ACPs_Lung_cancer.csv\", DataFrame)"
   ]
  },
  {
   "cell_type": "code",
   "execution_count": 4,
   "metadata": {},
   "outputs": [
    {
     "data": {
      "text/html": [
       "<div class=\"data-frame\"><p>5 rows × 4 columns</p><table class=\"data-frame\"><thead><tr><th></th><th>ID</th><th>sequence</th><th>class</th><th>class_num</th></tr><tr><th></th><th title=\"Int64\">Int64</th><th title=\"String\">String</th><th title=\"String31\">String31</th><th title=\"Int64\">Int64</th></tr></thead><tbody><tr><th>1</th><td>1</td><td>AIGKFLHSAKKFGKAFVGEIMNS</td><td>mod. active</td><td>2</td></tr><tr><th>2</th><td>2</td><td>FAKALAKLAKKLL</td><td>mod. active</td><td>2</td></tr><tr><th>3</th><td>3</td><td>FAKALKALLKALKAL</td><td>mod. active</td><td>2</td></tr><tr><th>4</th><td>4</td><td>FAKFLAKFLKKAL</td><td>mod. active</td><td>2</td></tr><tr><th>5</th><td>5</td><td>FAKIIAKIAKIAKKIL</td><td>inactive - exp</td><td>3</td></tr></tbody></table></div>"
      ],
      "text/latex": [
       "\\begin{tabular}{r|cccc}\n",
       "\t& ID & sequence & class & class\\_num\\\\\n",
       "\t\\hline\n",
       "\t& Int64 & String & String31 & Int64\\\\\n",
       "\t\\hline\n",
       "\t1 & 1 & AIGKFLHSAKKFGKAFVGEIMNS & mod. active & 2 \\\\\n",
       "\t2 & 2 & FAKALAKLAKKLL & mod. active & 2 \\\\\n",
       "\t3 & 3 & FAKALKALLKALKAL & mod. active & 2 \\\\\n",
       "\t4 & 4 & FAKFLAKFLKKAL & mod. active & 2 \\\\\n",
       "\t5 & 5 & FAKIIAKIAKIAKKIL & inactive - exp & 3 \\\\\n",
       "\\end{tabular}\n"
      ],
      "text/plain": [
       "\u001b[1m5×4 DataFrame\u001b[0m\n",
       "\u001b[1m Row \u001b[0m│\u001b[1m ID    \u001b[0m\u001b[1m sequence                \u001b[0m\u001b[1m class          \u001b[0m\u001b[1m class_num \u001b[0m\n",
       "\u001b[1m     \u001b[0m│\u001b[90m Int64 \u001b[0m\u001b[90m String                  \u001b[0m\u001b[90m String31       \u001b[0m\u001b[90m Int64     \u001b[0m\n",
       "─────┼───────────────────────────────────────────────────────────\n",
       "   1 │     1  AIGKFLHSAKKFGKAFVGEIMNS  mod. active             2\n",
       "   2 │     2  FAKALAKLAKKLL            mod. active             2\n",
       "   3 │     3  FAKALKALLKALKAL          mod. active             2\n",
       "   4 │     4  FAKFLAKFLKKAL            mod. active             2\n",
       "   5 │     5  FAKIIAKIAKIAKKIL         inactive - exp          3"
      ]
     },
     "execution_count": 4,
     "metadata": {},
     "output_type": "execute_result"
    }
   ],
   "source": [
    "unique(data.class)\n",
    "class_num = [i == \"very active\" ? 1 : i == \"mod. active\" ? 2 : i == \"inactive - exp\" ? 3 : 4 for i in data.class]\n",
    "data[!, :class_num] = class_num\n",
    "first(data, 5)"
   ]
  },
  {
   "cell_type": "code",
   "execution_count": 6,
   "metadata": {},
   "outputs": [
    {
     "data": {
      "text/plain": [
       "Dict{Char, BitVector} with 26 entries:\n",
       "  'E' => [0, 0, 0, 1, 0, 0, 1, 1, 1, 1  …  0, 1, 0, 1, 0, 0, 0, 1, 1, 1]\n",
       "  'Z' => [0, 1, 1, 1, 0, 0, 0, 1, 1, 1  …  1, 0, 0, 1, 0, 0, 0, 1, 1, 1]\n",
       "  'X' => [1, 1, 0, 1, 0, 1, 0, 1, 1, 1  …  1, 0, 1, 1, 0, 1, 1, 0, 0, 1]\n",
       "  'C' => [1, 0, 0, 0, 0, 1, 1, 0, 0, 0  …  0, 1, 1, 0, 0, 0, 0, 1, 0, 0]\n",
       "  'B' => [0, 1, 0, 0, 1, 1, 1, 1, 1, 1  …  1, 0, 0, 0, 0, 0, 1, 0, 0, 0]\n",
       "  'D' => [1, 0, 0, 1, 1, 1, 0, 0, 0, 0  …  0, 0, 0, 1, 0, 0, 0, 0, 1, 1]\n",
       "  'A' => [1, 1, 1, 0, 0, 1, 0, 1, 1, 1  …  0, 1, 0, 0, 1, 0, 1, 1, 1, 0]\n",
       "  'R' => [0, 0, 1, 0, 1, 1, 0, 1, 0, 1  …  1, 0, 1, 0, 0, 1, 1, 0, 1, 0]\n",
       "  'G' => [1, 0, 0, 0, 0, 0, 1, 1, 0, 1  …  0, 1, 1, 0, 0, 0, 1, 1, 0, 1]\n",
       "  'N' => [0, 1, 1, 1, 1, 1, 1, 0, 0, 1  …  1, 1, 1, 1, 1, 0, 0, 1, 0, 1]\n",
       "  'Q' => [1, 0, 1, 1, 0, 0, 0, 1, 1, 1  …  1, 1, 1, 0, 1, 0, 1, 0, 1, 0]\n",
       "  'M' => [1, 1, 1, 1, 1, 1, 0, 0, 1, 0  …  1, 1, 0, 0, 1, 0, 0, 1, 0, 0]\n",
       "  'K' => [1, 0, 1, 0, 0, 0, 0, 1, 0, 0  …  1, 0, 0, 0, 1, 0, 1, 1, 1, 0]\n",
       "  'F' => [1, 1, 1, 0, 0, 1, 1, 0, 1, 1  …  0, 1, 0, 0, 1, 1, 1, 1, 0, 0]\n",
       "  'P' => [1, 1, 0, 0, 0, 0, 0, 1, 1, 1  …  0, 1, 0, 0, 0, 1, 1, 1, 1, 1]\n",
       "  'I' => [0, 1, 0, 1, 0, 0, 1, 0, 0, 1  …  0, 0, 0, 1, 0, 1, 0, 0, 1, 1]\n",
       "  'O' => [0, 0, 0, 1, 1, 0, 1, 1, 0, 1  …  1, 0, 0, 1, 1, 1, 1, 1, 1, 1]\n",
       "  'H' => [1, 0, 0, 1, 1, 1, 1, 1, 0, 1  …  1, 1, 1, 0, 1, 0, 0, 0, 1, 1]\n",
       "  'J' => [0, 0, 0, 1, 1, 1, 0, 1, 0, 1  …  1, 0, 0, 1, 1, 0, 1, 0, 1, 1]\n",
       "  'W' => [0, 1, 1, 1, 1, 0, 0, 1, 0, 1  …  0, 0, 1, 0, 1, 1, 0, 0, 0, 0]\n",
       "  'S' => [1, 0, 0, 1, 0, 1, 0, 1, 1, 1  …  1, 1, 0, 1, 1, 0, 1, 0, 1, 0]\n",
       "  'T' => [0, 0, 1, 0, 1, 1, 0, 1, 0, 1  …  1, 0, 1, 1, 0, 1, 1, 1, 1, 0]\n",
       "  'U' => [0, 1, 0, 0, 1, 0, 1, 1, 0, 1  …  1, 0, 0, 0, 0, 0, 1, 0, 0, 1]\n",
       "  'L' => [0, 0, 1, 0, 1, 0, 0, 0, 1, 0  …  1, 1, 1, 1, 1, 1, 0, 0, 0, 0]\n",
       "  'Y' => [0, 0, 1, 1, 1, 0, 1, 0, 1, 1  …  1, 0, 0, 0, 1, 0, 0, 0, 1, 0]\n",
       "  'V' => [1, 0, 0, 0, 0, 1, 0, 0, 0, 0  …  0, 0, 0, 1, 0, 0, 1, 0, 0, 1]"
      ]
     },
     "execution_count": 6,
     "metadata": {},
     "output_type": "execute_result"
    }
   ],
   "source": [
    "AA_list = ['A', 'R', 'N', 'D', 'C', 'Q', 'E', 'G', 'H', 'I', 'L', 'K', 'M', 'F', 'P', 'S', 'T', 'W', 'Y', 'V', 'O', 'U', 'B', 'J', 'Z', 'X']\n",
    "AA_hdv = [bitHDV() for i in AA_list]\n",
    "AA_dict = Dict(zip(AA_list, AA_hdv))"
   ]
  },
  {
   "cell_type": "code",
   "execution_count": 7,
   "metadata": {},
   "outputs": [
    {
     "data": {
      "text/plain": [
       "Dict{String, BitVector} with 17576 entries:\n",
       "  \"HTY\" => [0, 0, 0, 0, 0, 1, 1, 1, 0, 1  …  1, 1, 0, 1, 0, 0, 0, 1, 0, 0]\n",
       "  \"HBJ\" => [0, 1, 1, 1, 1, 1, 1, 1, 1, 1  …  0, 1, 0, 0, 1, 1, 1, 1, 0, 1]\n",
       "  \"MSW\" => [1, 0, 1, 0, 1, 0, 0, 0, 0, 0  …  0, 1, 1, 0, 1, 1, 1, 1, 0, 1]\n",
       "  \"BKI\" => [1, 1, 0, 0, 1, 0, 1, 1, 1, 1  …  0, 0, 0, 0, 0, 0, 1, 0, 1, 1]\n",
       "  \"ETI\" => [1, 1, 0, 1, 0, 0, 0, 1, 1, 1  …  0, 1, 0, 0, 1, 1, 1, 1, 0, 0]\n",
       "  \"OLQ\" => [1, 0, 1, 0, 0, 0, 1, 1, 0, 1  …  1, 1, 0, 1, 1, 0, 1, 1, 0, 1]\n",
       "  \"NMD\" => [1, 1, 1, 0, 0, 1, 1, 1, 0, 0  …  0, 1, 0, 1, 1, 0, 0, 1, 1, 1]\n",
       "  \"YVC\" => [1, 1, 0, 1, 1, 0, 0, 1, 0, 1  …  0, 0, 0, 1, 1, 0, 0, 1, 1, 1]\n",
       "  \"QPE\" => [1, 0, 0, 1, 0, 1, 0, 1, 1, 1  …  0, 1, 0, 1, 1, 1, 0, 1, 0, 0]\n",
       "  \"KIW\" => [0, 0, 0, 1, 0, 1, 1, 0, 0, 1  …  1, 1, 0, 0, 1, 0, 1, 0, 1, 1]\n",
       "  \"BPX\" => [1, 1, 0, 1, 1, 0, 1, 0, 0, 1  …  1, 0, 0, 0, 1, 1, 0, 0, 0, 1]\n",
       "  \"NLG\" => [0, 0, 0, 0, 1, 0, 1, 0, 1, 1  …  1, 0, 0, 1, 1, 1, 1, 1, 1, 0]\n",
       "  \"YWG\" => [0, 1, 1, 0, 0, 1, 1, 0, 1, 0  …  1, 0, 0, 0, 0, 1, 1, 0, 0, 1]\n",
       "  \"XAB\" => [1, 0, 1, 1, 0, 1, 0, 0, 1, 1  …  1, 0, 1, 1, 0, 0, 1, 1, 0, 0]\n",
       "  \"KHW\" => [0, 1, 1, 1, 0, 0, 0, 0, 1, 1  …  0, 0, 1, 1, 0, 1, 0, 0, 1, 1]\n",
       "  \"YNB\" => [1, 0, 0, 1, 0, 1, 1, 0, 0, 0  …  0, 1, 0, 1, 0, 1, 0, 0, 1, 0]\n",
       "  \"CSW\" => [1, 1, 0, 1, 0, 0, 1, 0, 1, 0  …  1, 1, 0, 0, 0, 1, 1, 1, 0, 1]\n",
       "  \"HID\" => [1, 1, 0, 1, 0, 0, 0, 1, 0, 1  …  1, 0, 1, 0, 0, 1, 1, 0, 1, 0]\n",
       "  \"MIH\" => [1, 0, 1, 1, 0, 0, 1, 0, 0, 1  …  1, 1, 1, 1, 1, 0, 0, 1, 0, 1]\n",
       "  \"ZWA\" => [1, 1, 1, 1, 0, 1, 0, 0, 0, 0  …  0, 1, 0, 1, 0, 1, 0, 1, 0, 0]\n",
       "  \"XOI\" => [1, 0, 0, 0, 1, 1, 0, 0, 1, 1  …  1, 0, 1, 1, 1, 1, 0, 0, 1, 0]\n",
       "  \"EVV\" => [1, 0, 1, 1, 0, 0, 0, 0, 1, 1  …  0, 1, 0, 1, 1, 1, 0, 0, 0, 1]\n",
       "  \"LHM\" => [1, 1, 0, 1, 1, 0, 0, 0, 0, 0  …  1, 0, 1, 1, 1, 0, 1, 0, 0, 0]\n",
       "  \"AVA\" => [1, 0, 0, 1, 1, 1, 1, 0, 1, 0  …  0, 0, 0, 1, 0, 0, 0, 0, 0, 1]\n",
       "  \"JBU\" => [0, 1, 1, 0, 1, 0, 0, 0, 0, 1  …  0, 0, 1, 1, 1, 0, 1, 1, 0, 1]\n",
       "  ⋮     => ⋮"
      ]
     },
     "execution_count": 7,
     "metadata": {},
     "output_type": "execute_result"
    }
   ],
   "source": [
    "trimer_hdvs = Dict(aa1 * aa2 * aa3 => \n",
    "bitbind(AA_dict[aa1], bitperm(AA_dict[aa2]), bitperm(AA_dict[aa3], 2)) \n",
    "for aa1 in AA_list for aa2 in AA_list for aa3 in AA_list)"
   ]
  },
  {
   "cell_type": "code",
   "execution_count": 8,
   "metadata": {},
   "outputs": [
    {
     "data": {
      "text/plain": [
       "embedder (generic function with 1 method)"
      ]
     },
     "execution_count": 8,
     "metadata": {},
     "output_type": "execute_result"
    }
   ],
   "source": [
    "function embedder(sequence)\n",
    "    l = [trimer_hdvs[sequence[i:i+2]] for i in 1:length(sequence)-2]\n",
    "    v = bitadd(hcat(l)...)\n",
    "    return v\n",
    "end"
   ]
  },
  {
   "cell_type": "code",
   "execution_count": 9,
   "metadata": {},
   "outputs": [
    {
     "data": {
      "text/plain": [
       "901-element Vector{BitVector}:\n",
       " [1, 1, 0, 0, 1, 1, 1, 0, 0, 0  …  1, 1, 0, 1, 1, 1, 0, 1, 1, 0]\n",
       " [1, 0, 1, 1, 1, 1, 0, 0, 0, 0  …  1, 1, 1, 1, 1, 0, 0, 1, 0, 0]\n",
       " [1, 1, 0, 1, 1, 0, 0, 1, 1, 1  …  1, 1, 0, 1, 0, 0, 0, 1, 0, 1]\n",
       " [1, 1, 0, 1, 1, 0, 0, 0, 1, 1  …  1, 1, 0, 1, 1, 0, 1, 1, 0, 0]\n",
       " [0, 0, 0, 0, 0, 0, 0, 0, 1, 1  …  0, 1, 0, 0, 1, 0, 1, 1, 0, 1]\n",
       " [0, 0, 1, 0, 1, 1, 0, 0, 0, 0  …  0, 1, 1, 1, 1, 1, 0, 0, 1, 0]\n",
       " [0, 0, 1, 1, 1, 1, 0, 0, 0, 0  …  0, 0, 1, 1, 1, 1, 0, 1, 0, 0]\n",
       " [0, 0, 0, 1, 1, 1, 0, 0, 0, 0  …  0, 0, 1, 1, 1, 0, 0, 1, 0, 0]\n",
       " [0, 0, 1, 1, 1, 1, 0, 0, 0, 0  …  1, 0, 1, 0, 0, 0, 1, 1, 0, 1]\n",
       " [1, 0, 1, 1, 1, 1, 1, 1, 0, 0  …  1, 0, 1, 0, 1, 0, 0, 1, 0, 0]\n",
       " [0, 1, 0, 1, 1, 0, 0, 1, 0, 0  …  0, 0, 1, 1, 1, 0, 0, 1, 0, 1]\n",
       " [0, 0, 1, 1, 1, 1, 0, 1, 0, 0  …  0, 0, 1, 1, 1, 1, 1, 1, 0, 1]\n",
       " [1, 0, 1, 1, 1, 1, 0, 1, 0, 0  …  0, 0, 1, 1, 0, 0, 0, 1, 0, 1]\n",
       " ⋮\n",
       " [1, 1, 0, 1, 0, 0, 0, 1, 1, 0  …  0, 1, 0, 0, 1, 1, 1, 1, 1, 1]\n",
       " [0, 0, 0, 0, 0, 1, 0, 0, 1, 1  …  0, 1, 0, 0, 1, 0, 0, 1, 1, 0]\n",
       " [1, 0, 1, 1, 0, 1, 0, 1, 0, 1  …  0, 0, 0, 0, 1, 1, 1, 1, 1, 1]\n",
       " [0, 0, 0, 0, 1, 1, 0, 1, 1, 1  …  1, 1, 0, 1, 1, 0, 0, 0, 1, 0]\n",
       " [1, 1, 1, 1, 1, 0, 0, 0, 1, 1  …  0, 0, 1, 1, 1, 0, 1, 1, 0, 0]\n",
       " [0, 1, 1, 0, 1, 0, 0, 1, 0, 0  …  0, 1, 0, 0, 1, 1, 0, 1, 1, 0]\n",
       " [1, 1, 1, 1, 0, 0, 0, 1, 0, 1  …  1, 1, 1, 1, 1, 0, 0, 1, 1, 1]\n",
       " [0, 1, 0, 0, 1, 0, 0, 1, 1, 1  …  1, 1, 1, 1, 0, 1, 1, 0, 1, 0]\n",
       " [1, 0, 1, 0, 1, 0, 1, 1, 1, 0  …  0, 0, 0, 0, 0, 1, 0, 1, 0, 0]\n",
       " [0, 1, 1, 0, 1, 1, 1, 1, 1, 1  …  1, 1, 1, 0, 1, 0, 0, 0, 1, 1]\n",
       " [0, 0, 1, 1, 1, 0, 0, 1, 0, 1  …  0, 1, 1, 1, 1, 1, 1, 1, 0, 0]\n",
       " [0, 1, 0, 0, 1, 1, 1, 0, 0, 1  …  0, 0, 1, 0, 0, 1, 0, 0, 0, 1]"
      ]
     },
     "execution_count": 9,
     "metadata": {},
     "output_type": "execute_result"
    }
   ],
   "source": [
    "l = BitVector[]\n",
    "for i in data.sequence\n",
    "    push!(l, embedder(i))\n",
    "end\n",
    "data[!, :hdv] = l"
   ]
  },
  {
   "cell_type": "code",
   "execution_count": 10,
   "metadata": {},
   "outputs": [
    {
     "data": {
      "text/plain": [
       "10000-element BitVector:\n",
       " 0\n",
       " 1\n",
       " 0\n",
       " 1\n",
       " 1\n",
       " 0\n",
       " 0\n",
       " 1\n",
       " 0\n",
       " 1\n",
       " 1\n",
       " 0\n",
       " 0\n",
       " ⋮\n",
       " 1\n",
       " 1\n",
       " 1\n",
       " 1\n",
       " 0\n",
       " 1\n",
       " 0\n",
       " 1\n",
       " 0\n",
       " 1\n",
       " 0\n",
       " 1"
      ]
     },
     "execution_count": 10,
     "metadata": {},
     "output_type": "execute_result"
    }
   ],
   "source": [
    "active_hdv = bitadd(hcat([i for i in data[data.class_num .== 1, :hdv]])...)\n",
    "modactive_hdv = bitadd(hcat([i for i in data[data.class_num .== 2, :hdv]])...)\n",
    "notactive_hdv = bitadd(hcat([i for i in data[data.class_num .> 2, :hdv]])...)"
   ]
  },
  {
   "cell_type": "code",
   "execution_count": 11,
   "metadata": {},
   "outputs": [
    {
     "name": "stdout",
     "output_type": "stream",
     "text": [
      "0.4117\n",
      "0.4348\n",
      "0.4504\n"
     ]
    }
   ],
   "source": [
    "println(hamming(data[data.sequence .== \"FLKLLKKLAAKFLPTIICKISYKC\", :hdv]..., active_hdv))\n",
    "println(hamming(data[data.sequence .== \"FLKLLKKLAAKFLPTIICKISYKC\", :hdv]..., modactive_hdv))\n",
    "println(hamming(data[data.sequence .== \"FLKLLKKLAAKFLPTIICKISYKC\", :hdv]..., notactive_hdv))"
   ]
  },
  {
   "cell_type": "code",
   "execution_count": 12,
   "metadata": {},
   "outputs": [
    {
     "name": "stderr",
     "output_type": "stream",
     "text": [
      "WARNING: using StatsBase.predict in module Main conflicts with an existing identifier.\n"
     ]
    },
    {
     "data": {
      "text/plain": [
       "0.9523809523809523"
      ]
     },
     "execution_count": 12,
     "metadata": {},
     "output_type": "execute_result"
    }
   ],
   "source": [
    "n = nrow(data)\n",
    "\n",
    "train = rand(n) .< 0.8\n",
    "test = train = .! train\n",
    "\n",
    "train_df = data[[i for i in 1:n if train[i] == 1], :]\n",
    "test_df = data[[i for i in 1:n if test[i] == 1], :]\n",
    "\n",
    "active_hdv_t = bitadd(hcat([i for i in train_df[train_df.class_num .== 1, :hdv]])...)\n",
    "modactive_hdv_t = bitadd(hcat([i for i in train_df[train_df.class_num .== 2, :hdv]])...)\n",
    "notactive_exp_hdv_t = bitadd(hcat([i for i in train_df[train_df.class_num .== 3, :hdv]])...)\n",
    "notactive_virt_hdv_t = bitadd(hcat([i for i in train_df[train_df.class_num .== 4, :hdv]])...)\n",
    "\n",
    "function predict(seq)\n",
    "    y = [hamming(active_hdv_t, seq), hamming(modactive_hdv_t, seq), hamming(notactive_exp_hdv_t, seq), hamming(notactive_virt_hdv_t, seq)]\n",
    "    return findmin(y)[2]\n",
    "end\n",
    "\n",
    "using StatsBase\n",
    "pred = [predict(i) for i in test_df.hdv]\n",
    "mean(test_df.class_num .== pred)"
   ]
  }
 ],
 "metadata": {
  "kernelspec": {
   "display_name": "Julia 1.7.3",
   "language": "julia",
   "name": "julia-1.7"
  },
  "language_info": {
   "file_extension": ".jl",
   "mimetype": "application/julia",
   "name": "julia",
   "version": "1.7.3"
  },
  "orig_nbformat": 4
 },
 "nbformat": 4,
 "nbformat_minor": 2
}

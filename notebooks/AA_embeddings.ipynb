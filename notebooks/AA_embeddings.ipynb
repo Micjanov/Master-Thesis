{
 "cells": [
  {
   "attachments": {},
   "cell_type": "markdown",
   "metadata": {},
   "source": [
    "# How to include biological information into hyperdimensional vectors and is this useful?"
   ]
  },
  {
   "cell_type": "code",
   "execution_count": 1,
   "metadata": {},
   "outputs": [],
   "source": [
    "include(\"../src/HDC.jl\")\n",
    "include(\"../src/math.jl\")\n",
    "using DataFrames\n",
    "using CSV"
   ]
  },
  {
   "attachments": {},
   "cell_type": "markdown",
   "metadata": {},
   "source": [
    "## Method 1: Via embeddings (ESM-2)"
   ]
  },
  {
   "cell_type": "code",
   "execution_count": 2,
   "metadata": {},
   "outputs": [
    {
     "data": {
      "text/plain": [
       "21×10000 Matrix{Float64}:\n",
       " 0.0  1.0  0.0  1.0  1.0  1.0  1.0  0.0  …  0.0  0.0  0.0  0.0  0.0  1.0  0.0\n",
       " 0.0  0.0  0.0  1.0  1.0  1.0  0.0  0.0     0.0  0.0  1.0  0.0  1.0  0.0  1.0\n",
       " 0.0  0.0  0.0  1.0  1.0  0.0  1.0  1.0     1.0  0.0  1.0  0.0  1.0  0.0  0.0\n",
       " 1.0  0.0  0.0  1.0  1.0  1.0  1.0  1.0     0.0  1.0  1.0  0.0  1.0  0.0  0.0\n",
       " 1.0  1.0  0.0  0.0  0.0  1.0  0.0  1.0     0.0  1.0  1.0  0.0  1.0  0.0  0.0\n",
       " 1.0  0.0  0.0  0.0  1.0  1.0  0.0  1.0  …  0.0  0.0  1.0  0.0  1.0  0.0  0.0\n",
       " 1.0  0.0  1.0  0.0  0.0  1.0  0.0  1.0     0.0  1.0  0.0  0.0  1.0  0.0  0.0\n",
       " 0.0  0.0  1.0  0.0  1.0  0.0  1.0  1.0     1.0  0.0  1.0  0.0  0.0  0.0  0.0\n",
       " 0.0  0.0  1.0  1.0  1.0  1.0  1.0  0.0     0.0  0.0  0.0  0.0  1.0  0.0  0.0\n",
       " 0.0  1.0  0.0  0.0  0.0  1.0  1.0  0.0     0.0  1.0  0.0  1.0  0.0  1.0  0.0\n",
       " ⋮                        ⋮              ⋱            ⋮                   \n",
       " 1.0  0.0  1.0  1.0  0.0  0.0  0.0  0.0     0.0  1.0  1.0  1.0  1.0  1.0  1.0\n",
       " 0.0  1.0  1.0  1.0  0.0  1.0  0.0  0.0     0.0  1.0  1.0  1.0  1.0  1.0  1.0\n",
       " 0.0  1.0  0.0  0.0  0.0  0.0  0.0  1.0     1.0  0.0  1.0  0.0  1.0  0.0  0.0\n",
       " 0.0  0.0  0.0  1.0  1.0  0.0  1.0  0.0  …  1.0  0.0  0.0  0.0  1.0  0.0  1.0\n",
       " 0.0  0.0  0.0  1.0  1.0  1.0  0.0  0.0     0.0  0.0  1.0  0.0  1.0  1.0  1.0\n",
       " 0.0  1.0  1.0  0.0  0.0  1.0  1.0  1.0     1.0  0.0  0.0  1.0  0.0  0.0  1.0\n",
       " 0.0  1.0  1.0  0.0  1.0  0.0  0.0  1.0     0.0  1.0  0.0  0.0  0.0  0.0  1.0\n",
       " 0.0  1.0  0.0  0.0  1.0  1.0  1.0  0.0     0.0  0.0  1.0  0.0  1.0  0.0  0.0\n",
       " 0.0  0.0  1.0  0.0  1.0  1.0  0.0  1.0  …  0.0  0.0  1.0  0.0  1.0  0.0  1.0"
      ]
     },
     "metadata": {},
     "output_type": "display_data"
    }
   ],
   "source": [
    "#Load embeddings from last hidden layer of ESM-2 model (21x1280)\n",
    "aa_embeddings = DataFrame(CSV.File(\"../data/amino_acid_embeddings.csv\"))\n",
    "amino_acids_esm = aa_embeddings.protein_ID\n",
    "aa_emb = Matrix(aa_embeddings[:, 2:end])\n",
    "\n",
    "# Create HDVs\n",
    "HDV_mat_bit = nested_arrays2mat([bithdv() for i in 1:size(aa_emb)[2]])\n",
    "HDV_mat_bip = nested_arrays2mat([hdv() for i in 1:size(aa_emb)[2]])\n",
    "\n",
    "# Extend embeddings into hyperdimensional space\n",
    "AA_bip_esm = aa_emb * permutedims(HDV_mat_bip) .|> sign\n",
    "AA_bit_esm = mat_scaler(aa_emb * permutedims(HDV_mat_bit), 0, 1, 2) .|> round"
   ]
  },
  {
   "attachments": {},
   "cell_type": "markdown",
   "metadata": {},
   "source": [
    "## Method 2: A bit more true to HDC framework but naive without proper training"
   ]
  },
  {
   "cell_type": "code",
   "execution_count": 13,
   "metadata": {},
   "outputs": [],
   "source": [
    "## Initiate random HDVs for every AA\n",
    "AA_list = ['A','C','D','E','F','G','H','I','K','L','M','N','P','Q','R','S','T','V','W','Y']\n",
    "groups = Dict(\"polar\" => ['S', 'T', 'Y', 'N', 'Q'], \"non-polar\" => ['G', 'A', 'V', 'C', 'P', 'L', 'I', 'M', 'W', 'F'], \n",
    "         \"pos+\" => ['L', 'R', 'H'], \"neg-\" => ['D', 'E'])\n",
    "\n",
    "aa_bithdv = [bithdv() for i in 1:length(AA_list)]\n",
    "aa_biphdv = [hdv() for i in 1:length(AA_list)]\n",
    "\n",
    "aa_bithdv = Dict(zip(AA_list, aa_bithdv))\n",
    "aa_biphdv = Dict(zip(AA_list, aa_biphdv))\n",
    "\n",
    "# Make an HDV for every class\n",
    "polar_hdv_bip = add([aa_biphdv[i] for i in groups[\"polar\"]]...)\n",
    "polar_hdv_bit = bitadd([aa_bithdv[i] for i in groups[\"polar\"]]...)\n",
    "\n",
    "nonpolar_hdv_bip = add([aa_biphdv[i] for i in groups[\"non-polar\"]]...)\n",
    "nonpolar_hdv_bit = bitadd([aa_bithdv[i] for i in groups[\"non-polar\"]]...)\n",
    "\n",
    "pos_hdv_bip = add([aa_biphdv[i] for i in groups[\"pos+\"]]...)\n",
    "pos_hdv_bit = bitadd([aa_bithdv[i] for i in groups[\"pos+\"]]...)\n",
    "\n",
    "neg_hdv_bip = add([aa_biphdv[i] for i in groups[\"neg-\"]]...)\n",
    "neg_hdv_bit = bitadd([aa_bithdv[i] for i in groups[\"neg-\"]]...)\n",
    "\n",
    "group_hdv_bip = Dict(\"polar\"=>polar_hdv_bip, \"non-polar\" => nonpolar_hdv_bip, \"pos+\" => pos_hdv_bip, \"neg-\" => neg_hdv_bip)\n",
    "group_hdv_bit = Dict(\"polar\"=>polar_hdv_bit, \"non-polar\" => nonpolar_hdv_bit, \"pos+\" => pos_hdv_bit, \"neg-\" => neg_hdv_bit)\n",
    "\n",
    "# Add random AA HDV to its class HDV to introduce similarity\n",
    "for i in keys(groups)\n",
    "    for j in groups[i]\n",
    "        aa_biphdv[j] = add(aa_biphdv[j], group_hdv_bip[i])\n",
    "    end\n",
    "end\n",
    "\n",
    "for i in keys(groups)\n",
    "    for j in groups[i]\n",
    "        aa_bithdv[j] = bitadd(aa_bithdv[j], group_hdv_bit[i])\n",
    "    end\n",
    "end"
   ]
  }
 ],
 "metadata": {
  "kernelspec": {
   "display_name": "Julia 1.8.0",
   "language": "julia",
   "name": "julia-1.8"
  },
  "language_info": {
   "file_extension": ".jl",
   "mimetype": "application/julia",
   "name": "julia",
   "version": "1.8.0"
  },
  "orig_nbformat": 4
 },
 "nbformat": 4,
 "nbformat_minor": 2
}

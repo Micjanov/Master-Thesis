{
 "cells": [
  {
   "attachments": {},
   "cell_type": "markdown",
   "metadata": {},
   "source": [
    "# How to include biological information into hyperdimensional vectors and is this useful?"
   ]
  },
  {
   "cell_type": "code",
   "execution_count": 11,
   "metadata": {},
   "outputs": [],
   "source": [
    "include(\"../src/HDC.jl\")\n",
    "include(\"../src/math.jl\")\n",
    "include(\"../src/experimental.jl\")\n",
    "using DataFrames\n",
    "using CSV"
   ]
  },
  {
   "attachments": {},
   "cell_type": "markdown",
   "metadata": {},
   "source": [
    "## Method 1: Via embeddings (ESM-2)"
   ]
  },
  {
   "cell_type": "code",
   "execution_count": 12,
   "metadata": {},
   "outputs": [
    {
     "ename": "InterruptException",
     "evalue": "InterruptException:",
     "output_type": "error",
     "traceback": [
      "InterruptException:\n",
      "\n",
      "Stacktrace:\n",
      " [1] top-level scope\n",
      "   @ ~/Master-Thesis/notebooks/AA_embeddings.ipynb:2"
     ]
    }
   ],
   "source": [
    "#Load embeddings from last hidden layer of ESM-2 model (21x1280)\n",
    "aa_embeddings = DataFrame(CSV.File(\"../data/amino_acid_embeddings.csv\"))\n",
    "amino_acids_esm = aa_embeddings.protein_ID\n",
    "aa_emb = Matrix(aa_embeddings[:, 2:end])\n",
    "# Create HDVs\n",
    "HDV_mat_bit = nested_arrays2mat([bithdv() for i in 1:size(aa_emb)[2]], true)\n",
    "HDV_mat_bip = nested_arrays2mat([hdv() for i in 1:size(aa_emb)[2]], true)\n",
    "\n",
    "# Extend embeddings into hyperdimensional space\n",
    "AA_bip_esm = permutedims(aa_emb * HDV_mat_bip .|> sign)\n",
    "AA_bit_esm = permutedims(mat_scaler(aa_emb * HDV_mat_bit, 0, 1, 2) .|> round)"
   ]
  },
  {
   "attachments": {},
   "cell_type": "markdown",
   "metadata": {},
   "source": [
    "## Method 2: A bit more true to HDC framework but naive without proper training"
   ]
  },
  {
   "cell_type": "code",
   "execution_count": 13,
   "metadata": {},
   "outputs": [
    {
     "ename": "InterruptException",
     "evalue": "InterruptException:",
     "output_type": "error",
     "traceback": [
      "InterruptException:\n",
      "\n",
      "Stacktrace:\n",
      " [1] top-level scope\n",
      "   @ ~/Master-Thesis/notebooks/AA_embeddings.ipynb:3"
     ]
    }
   ],
   "source": [
    "## Initiate random HDVs for every AA\n",
    "AA_list = ['A','C','D','E','F','G','H','I','K','L','M','N','P','Q','R','S','T','V','W','Y']\n",
    "groups = Dict(\"polar\" => ['S', 'T', 'Y', 'N', 'Q'], \"non-polar\" => ['G', 'A', 'V', 'C', 'P', 'L', 'I', 'M', 'W', 'F'], \n",
    "         \"pos+\" => ['L', 'R', 'H'], \"neg-\" => ['D', 'E'])\n",
    "\n",
    "aa_bithdv = [bithdv() for i in 1:length(AA_list)]\n",
    "aa_biphdv = [hdv() for i in 1:length(AA_list)]\n",
    "\n",
    "aa_bithdv = Dict(zip(AA_list, aa_bithdv))\n",
    "aa_biphdv = Dict(zip(AA_list, aa_biphdv))\n",
    "\n",
    "# Make an HDV for every class\n",
    "polar_hdv_bip = add([aa_biphdv[i] for i in groups[\"polar\"]]...)\n",
    "polar_hdv_bit = bitadd([aa_bithdv[i] for i in groups[\"polar\"]]...)\n",
    "\n",
    "nonpolar_hdv_bip = add([aa_biphdv[i] for i in groups[\"non-polar\"]]...)\n",
    "nonpolar_hdv_bit = bitadd([aa_bithdv[i] for i in groups[\"non-polar\"]]...)\n",
    "\n",
    "pos_hdv_bip = add([aa_biphdv[i] for i in groups[\"pos+\"]]...)\n",
    "pos_hdv_bit = bitadd([aa_bithdv[i] for i in groups[\"pos+\"]]...)\n",
    "\n",
    "neg_hdv_bip = add([aa_biphdv[i] for i in groups[\"neg-\"]]...)\n",
    "neg_hdv_bit = bitadd([aa_bithdv[i] for i in groups[\"neg-\"]]...)\n",
    "\n",
    "group_hdv_bip = Dict(\"polar\"=>polar_hdv_bip, \"non-polar\" => nonpolar_hdv_bip, \"pos+\" => pos_hdv_bip, \"neg-\" => neg_hdv_bip)\n",
    "group_hdv_bit = Dict(\"polar\"=>polar_hdv_bit, \"non-polar\" => nonpolar_hdv_bit, \"pos+\" => pos_hdv_bit, \"neg-\" => neg_hdv_bit)\n",
    "\n",
    "# Add random AA HDV to its class HDV to introduce similarity\n",
    "for i in keys(groups)\n",
    "    for j in groups[i]\n",
    "        aa_biphdv[j] = add(aa_biphdv[j], group_hdv_bip[i])\n",
    "    end\n",
    "end\n",
    "\n",
    "for i in keys(groups)\n",
    "    for j in groups[i]\n",
    "        aa_bithdv[j] = bitadd(aa_bithdv[j], group_hdv_bit[i])\n",
    "    end\n",
    "end\n",
    "\n",
    "naive_bit = nested_arrays2mat([aa_bithdv[i] for i in AA_list])\n",
    "naive_bip = nested_arrays2mat([aa_biphdv[i] for i in AA_list])"
   ]
  },
  {
   "attachments": {},
   "cell_type": "markdown",
   "metadata": {},
   "source": [
    "## Baseline random HDVs"
   ]
  },
  {
   "cell_type": "code",
   "execution_count": 14,
   "metadata": {},
   "outputs": [
    {
     "data": {
      "text/plain": [
       "10000×20 Matrix{Float64}:\n",
       " -1.0  -1.0  -1.0  -1.0  -1.0   1.0  …   1.0   1.0  -1.0  -1.0   1.0   1.0\n",
       "  1.0  -1.0  -1.0   1.0   1.0  -1.0     -1.0   1.0   1.0   1.0  -1.0   1.0\n",
       "  1.0   1.0  -1.0   1.0   1.0  -1.0     -1.0   1.0  -1.0  -1.0  -1.0  -1.0\n",
       " -1.0   1.0  -1.0  -1.0  -1.0   1.0      1.0   1.0   1.0   1.0   1.0   1.0\n",
       "  1.0   1.0  -1.0  -1.0  -1.0  -1.0      1.0   1.0   1.0  -1.0   1.0  -1.0\n",
       "  1.0  -1.0   1.0   1.0  -1.0  -1.0  …  -1.0  -1.0  -1.0   1.0  -1.0   1.0\n",
       "  1.0   1.0   1.0  -1.0   1.0  -1.0     -1.0   1.0   1.0  -1.0   1.0  -1.0\n",
       "  1.0  -1.0   1.0  -1.0  -1.0  -1.0      1.0  -1.0  -1.0   1.0   1.0   1.0\n",
       "  1.0   1.0   1.0  -1.0  -1.0  -1.0      1.0   1.0  -1.0  -1.0   1.0  -1.0\n",
       "  1.0  -1.0  -1.0   1.0  -1.0  -1.0     -1.0   1.0   1.0  -1.0   1.0   1.0\n",
       "  ⋮                             ⋮    ⋱         ⋮                      \n",
       "  1.0  -1.0  -1.0  -1.0   1.0  -1.0      1.0  -1.0  -1.0  -1.0  -1.0  -1.0\n",
       "  1.0   1.0  -1.0   1.0   1.0  -1.0     -1.0   1.0  -1.0  -1.0  -1.0  -1.0\n",
       "  1.0   1.0   1.0   1.0   1.0   1.0      1.0   1.0  -1.0  -1.0   1.0  -1.0\n",
       " -1.0   1.0   1.0  -1.0  -1.0  -1.0     -1.0  -1.0   1.0  -1.0   1.0  -1.0\n",
       "  1.0  -1.0  -1.0  -1.0   1.0   1.0  …  -1.0   1.0   1.0  -1.0   1.0   1.0\n",
       " -1.0  -1.0  -1.0   1.0  -1.0   1.0      1.0  -1.0  -1.0  -1.0  -1.0  -1.0\n",
       " -1.0  -1.0   1.0   1.0   1.0   1.0     -1.0  -1.0   1.0  -1.0   1.0  -1.0\n",
       " -1.0  -1.0  -1.0   1.0  -1.0   1.0     -1.0   1.0  -1.0  -1.0   1.0   1.0\n",
       " -1.0   1.0  -1.0  -1.0  -1.0   1.0      1.0   1.0   1.0   1.0   1.0  -1.0"
      ]
     },
     "metadata": {},
     "output_type": "display_data"
    }
   ],
   "source": [
    "rand_bit = nested_arrays2mat([bithdv() for i in 1:20])\n",
    "rand_bip = nested_arrays2mat([hdv() for i in 1:20])"
   ]
  },
  {
   "attachments": {},
   "cell_type": "markdown",
   "metadata": {},
   "source": [
    "## PCA plots: is the physicochemical and biological information encoded into the HDVs?\n",
    "### Binary HDVs"
   ]
  },
  {
   "cell_type": "code",
   "execution_count": 15,
   "metadata": {},
   "outputs": [],
   "source": [
    "using MultivariateStats\n",
    "\n",
    "PCA_rand_bit = fit(PCA, rand_bit; maxoutdim=2)\n",
    "proj_rand_bit = projection(PCA_rand_bit)\n",
    "\n",
    "PCA_ESM_bit = fit(PCA, AA_bit_esm; maxoutdim=2)\n",
    "proj_ESM_bit = projection(PCA_ESM_bit)\n",
    "\n",
    "PCA_naive_bit = fit(PCA, naive_bit; maxoutdim=2)\n",
    "proj_naive_bit = projection(PCA_naive_bit)"
   ]
  },
  {
   "attachments": {},
   "cell_type": "markdown",
   "metadata": {},
   "source": [
    "#### Random binary HDVs"
   ]
  },
  {
   "cell_type": "code",
   "execution_count": null,
   "metadata": {},
   "outputs": [],
   "source": [
    "using Plots\n",
    "\n",
    "key = collect(keys(groups))\n",
    "indices = [[i for i in 1:length(AA_list) if AA_list[i] in groups[j]] for j in key]\n",
    "\n",
    "colors = [:green, :red, :blue, :yellow]\n",
    "fig = Plots.plot()\n",
    "\n",
    "for i in 1:4\n",
    "    scatter!(fig, (proj_rand_bit[indices[i], 1], proj_rand_bit[indices[i], 2]), label=key[i], mc = colors[i])\n",
    "end\n",
    "\n",
    "fig"
   ]
  },
  {
   "attachments": {},
   "cell_type": "markdown",
   "metadata": {},
   "source": [
    "#### ESM embedded HDVs"
   ]
  },
  {
   "cell_type": "code",
   "execution_count": null,
   "metadata": {},
   "outputs": [],
   "source": [
    "indices = [[i for i in 1:length(amino_acids_esm) if only(amino_acids_esm[i]) in groups[j]] for j in key]\n",
    "\n",
    "colors = [:green, :red, :blue, :yellow]\n",
    "fig = Plots.plot()\n",
    "\n",
    "for i in 1:4\n",
    "    scatter!(fig, (proj_ESM_bit[indices[i], 1], proj_ESM_bit[indices[i], 2]), label=key[i], mc = colors[i])\n",
    "end\n",
    "scatter!(fig, (proj_ESM_bit[21, 1], proj_ESM_bit[21, 2]), label=\"X\", mc = :black)\n",
    "\n",
    "fig"
   ]
  },
  {
   "cell_type": "code",
   "execution_count": null,
   "metadata": {},
   "outputs": [],
   "source": [
    "indices = [[i for i in 1:length(AA_list) if AA_list[i] in groups[j]] for j in key]\n",
    "\n",
    "colors = [:green, :red, :blue, :yellow]\n",
    "fig = Plots.plot()\n",
    "\n",
    "for i in 1:4\n",
    "    scatter!(fig, (proj_naive_bit[indices[i], 1], proj_naive_bit[indices[i], 2]), label=key[i], mc = colors[i])\n",
    "end\n",
    "\n",
    "fig"
   ]
  },
  {
   "attachments": {},
   "cell_type": "markdown",
   "metadata": {},
   "source": [
    "# Uniref embeddings"
   ]
  },
  {
   "cell_type": "code",
   "execution_count": null,
   "metadata": {},
   "outputs": [],
   "source": [
    "aa_embeddings = DataFrame(CSV.File(\"../data/amino_acid_embeddings.csv\"))\n",
    "amino_acids_esm = [only(i) for i in aa_embeddings.protein_ID]\n",
    "aa_emb = Matrix(aa_embeddings[:, 2:end])\n",
    "# Create HDVs\n",
    "HDV_mat_bit = nested_arrays2mat([bithdv() for i in 1:size(aa_emb)[2]], true)\n",
    "\n",
    "# Extend embeddings into hyperdimensional space\n",
    "AA_bit_esm = permutedims(mat_scaler(aa_emb * HDV_mat_bit, 0, 1, 2) .|> round)\n",
    "\n",
    "AA_dict = Dict(zip(amino_acids_esm, [convert(BitVector,AA_bit_esm[:, i]) for i in 1:21]))"
   ]
  },
  {
   "cell_type": "code",
   "execution_count": null,
   "metadata": {},
   "outputs": [],
   "source": [
    "using FastaIO\n",
    "using ProgressMeter\n",
    "\n",
    "dict4 = Dict()\n",
    "dictk = Dict()\n",
    "\n",
    "p = Progress(20591)\n",
    "\n",
    "for (name,seq) in FastaReader(\"../data/UP000005640_9606.fasta\")\n",
    "    seq = String(seq)\n",
    "    dict4[seq] = encodeAA(AA_dict, seq)\n",
    "    dictk[seq] = encodeAA(AA_dict, seq, length(seq))\n",
    "    next!(p)\n",
    "    end\n",
    "end\n"
   ]
  }
 ],
 "metadata": {
  "kernelspec": {
   "display_name": "Julia 1.8.5",
   "language": "julia",
   "name": "julia-1.8"
  },
  "language_info": {
   "file_extension": ".jl",
   "mimetype": "application/julia",
   "name": "julia",
   "version": "1.8.5"
  },
  "orig_nbformat": 4
 },
 "nbformat": 4,
 "nbformat_minor": 2
}

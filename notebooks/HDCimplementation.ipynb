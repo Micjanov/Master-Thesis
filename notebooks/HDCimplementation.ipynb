{
 "cells": [
  {
   "cell_type": "code",
   "execution_count": 2,
   "metadata": {},
   "outputs": [
    {
     "data": {
      "text/plain": [
       "hamming (generic function with 1 method)"
      ]
     },
     "execution_count": 2,
     "metadata": {},
     "output_type": "execute_result"
    }
   ],
   "source": [
    "using Random\n",
    "\n",
    "bitHDV(N::Int=10000) = bitrand(N)\n",
    "\n",
    "function bitadd(vectors::BitVector ...)\n",
    "    v = reduce(.+, vectors)\n",
    "    n = length(vectors) / 2\n",
    "    x = [i > n ? 1 : i < n ? 0 : rand(0:1) for i in v]\n",
    "    return convert(BitVector, x)\n",
    "end\n",
    "\n",
    "bitbind(vectors::BitVector ...) =  reduce(.⊻, vectors)\n",
    "\n",
    "bitperm(vector::BitVector, k::Int=1) = circshift(vector, k)\n",
    "\n",
    "hamming(x::BitVector, y::BitVector) = sum(x .!= y)/length(x)"
   ]
  },
  {
   "cell_type": "code",
   "execution_count": 3,
   "metadata": {},
   "outputs": [],
   "source": [
    "using DataFrames, CSV"
   ]
  },
  {
   "cell_type": "code",
   "execution_count": 4,
   "metadata": {},
   "outputs": [
    {
     "data": {
      "text/html": [
       "<div class=\"data-frame\"><p>101 rows × 18 columns (omitted printing of 9 columns)</p><table class=\"data-frame\"><thead><tr><th></th><th>animal_name</th><th>hair</th><th>feathers</th><th>eggs</th><th>milk</th><th>airborne</th><th>aquatic</th><th>predator</th><th>toothed</th></tr><tr><th></th><th title=\"String15\">String15</th><th title=\"Int64\">Int64</th><th title=\"Int64\">Int64</th><th title=\"Int64\">Int64</th><th title=\"Int64\">Int64</th><th title=\"Int64\">Int64</th><th title=\"Int64\">Int64</th><th title=\"Int64\">Int64</th><th title=\"Int64\">Int64</th></tr></thead><tbody><tr><th>1</th><td>aardvark</td><td>1</td><td>0</td><td>0</td><td>1</td><td>0</td><td>0</td><td>1</td><td>1</td></tr><tr><th>2</th><td>antelope</td><td>1</td><td>0</td><td>0</td><td>1</td><td>0</td><td>0</td><td>0</td><td>1</td></tr><tr><th>3</th><td>bass</td><td>0</td><td>0</td><td>1</td><td>0</td><td>0</td><td>1</td><td>1</td><td>1</td></tr><tr><th>4</th><td>bear</td><td>1</td><td>0</td><td>0</td><td>1</td><td>0</td><td>0</td><td>1</td><td>1</td></tr><tr><th>5</th><td>boar</td><td>1</td><td>0</td><td>0</td><td>1</td><td>0</td><td>0</td><td>1</td><td>1</td></tr><tr><th>6</th><td>buffalo</td><td>1</td><td>0</td><td>0</td><td>1</td><td>0</td><td>0</td><td>0</td><td>1</td></tr><tr><th>7</th><td>calf</td><td>1</td><td>0</td><td>0</td><td>1</td><td>0</td><td>0</td><td>0</td><td>1</td></tr><tr><th>8</th><td>carp</td><td>0</td><td>0</td><td>1</td><td>0</td><td>0</td><td>1</td><td>0</td><td>1</td></tr><tr><th>9</th><td>catfish</td><td>0</td><td>0</td><td>1</td><td>0</td><td>0</td><td>1</td><td>1</td><td>1</td></tr><tr><th>10</th><td>cavy</td><td>1</td><td>0</td><td>0</td><td>1</td><td>0</td><td>0</td><td>0</td><td>1</td></tr><tr><th>11</th><td>cheetah</td><td>1</td><td>0</td><td>0</td><td>1</td><td>0</td><td>0</td><td>1</td><td>1</td></tr><tr><th>12</th><td>chicken</td><td>0</td><td>1</td><td>1</td><td>0</td><td>1</td><td>0</td><td>0</td><td>0</td></tr><tr><th>13</th><td>chub</td><td>0</td><td>0</td><td>1</td><td>0</td><td>0</td><td>1</td><td>1</td><td>1</td></tr><tr><th>14</th><td>clam</td><td>0</td><td>0</td><td>1</td><td>0</td><td>0</td><td>0</td><td>1</td><td>0</td></tr><tr><th>15</th><td>crab</td><td>0</td><td>0</td><td>1</td><td>0</td><td>0</td><td>1</td><td>1</td><td>0</td></tr><tr><th>16</th><td>crayfish</td><td>0</td><td>0</td><td>1</td><td>0</td><td>0</td><td>1</td><td>1</td><td>0</td></tr><tr><th>17</th><td>crow</td><td>0</td><td>1</td><td>1</td><td>0</td><td>1</td><td>0</td><td>1</td><td>0</td></tr><tr><th>18</th><td>deer</td><td>1</td><td>0</td><td>0</td><td>1</td><td>0</td><td>0</td><td>0</td><td>1</td></tr><tr><th>19</th><td>dogfish</td><td>0</td><td>0</td><td>1</td><td>0</td><td>0</td><td>1</td><td>1</td><td>1</td></tr><tr><th>20</th><td>dolphin</td><td>0</td><td>0</td><td>0</td><td>1</td><td>0</td><td>1</td><td>1</td><td>1</td></tr><tr><th>21</th><td>dove</td><td>0</td><td>1</td><td>1</td><td>0</td><td>1</td><td>0</td><td>0</td><td>0</td></tr><tr><th>22</th><td>duck</td><td>0</td><td>1</td><td>1</td><td>0</td><td>1</td><td>1</td><td>0</td><td>0</td></tr><tr><th>23</th><td>elephant</td><td>1</td><td>0</td><td>0</td><td>1</td><td>0</td><td>0</td><td>0</td><td>1</td></tr><tr><th>24</th><td>flamingo</td><td>0</td><td>1</td><td>1</td><td>0</td><td>1</td><td>0</td><td>0</td><td>0</td></tr><tr><th>25</th><td>flea</td><td>0</td><td>0</td><td>1</td><td>0</td><td>0</td><td>0</td><td>0</td><td>0</td></tr><tr><th>26</th><td>frog</td><td>0</td><td>0</td><td>1</td><td>0</td><td>0</td><td>1</td><td>1</td><td>1</td></tr><tr><th>27</th><td>frog</td><td>0</td><td>0</td><td>1</td><td>0</td><td>0</td><td>1</td><td>1</td><td>1</td></tr><tr><th>28</th><td>fruitbat</td><td>1</td><td>0</td><td>0</td><td>1</td><td>1</td><td>0</td><td>0</td><td>1</td></tr><tr><th>29</th><td>giraffe</td><td>1</td><td>0</td><td>0</td><td>1</td><td>0</td><td>0</td><td>0</td><td>1</td></tr><tr><th>30</th><td>girl</td><td>1</td><td>0</td><td>0</td><td>1</td><td>0</td><td>0</td><td>1</td><td>1</td></tr><tr><th>&vellip;</th><td>&vellip;</td><td>&vellip;</td><td>&vellip;</td><td>&vellip;</td><td>&vellip;</td><td>&vellip;</td><td>&vellip;</td><td>&vellip;</td><td>&vellip;</td></tr></tbody></table></div>"
      ],
      "text/latex": [
       "\\begin{tabular}{r|cccccccccc}\n",
       "\t& animal\\_name & hair & feathers & eggs & milk & airborne & aquatic & predator & toothed & \\\\\n",
       "\t\\hline\n",
       "\t& String15 & Int64 & Int64 & Int64 & Int64 & Int64 & Int64 & Int64 & Int64 & \\\\\n",
       "\t\\hline\n",
       "\t1 & aardvark & 1 & 0 & 0 & 1 & 0 & 0 & 1 & 1 & $\\dots$ \\\\\n",
       "\t2 & antelope & 1 & 0 & 0 & 1 & 0 & 0 & 0 & 1 & $\\dots$ \\\\\n",
       "\t3 & bass & 0 & 0 & 1 & 0 & 0 & 1 & 1 & 1 & $\\dots$ \\\\\n",
       "\t4 & bear & 1 & 0 & 0 & 1 & 0 & 0 & 1 & 1 & $\\dots$ \\\\\n",
       "\t5 & boar & 1 & 0 & 0 & 1 & 0 & 0 & 1 & 1 & $\\dots$ \\\\\n",
       "\t6 & buffalo & 1 & 0 & 0 & 1 & 0 & 0 & 0 & 1 & $\\dots$ \\\\\n",
       "\t7 & calf & 1 & 0 & 0 & 1 & 0 & 0 & 0 & 1 & $\\dots$ \\\\\n",
       "\t8 & carp & 0 & 0 & 1 & 0 & 0 & 1 & 0 & 1 & $\\dots$ \\\\\n",
       "\t9 & catfish & 0 & 0 & 1 & 0 & 0 & 1 & 1 & 1 & $\\dots$ \\\\\n",
       "\t10 & cavy & 1 & 0 & 0 & 1 & 0 & 0 & 0 & 1 & $\\dots$ \\\\\n",
       "\t11 & cheetah & 1 & 0 & 0 & 1 & 0 & 0 & 1 & 1 & $\\dots$ \\\\\n",
       "\t12 & chicken & 0 & 1 & 1 & 0 & 1 & 0 & 0 & 0 & $\\dots$ \\\\\n",
       "\t13 & chub & 0 & 0 & 1 & 0 & 0 & 1 & 1 & 1 & $\\dots$ \\\\\n",
       "\t14 & clam & 0 & 0 & 1 & 0 & 0 & 0 & 1 & 0 & $\\dots$ \\\\\n",
       "\t15 & crab & 0 & 0 & 1 & 0 & 0 & 1 & 1 & 0 & $\\dots$ \\\\\n",
       "\t16 & crayfish & 0 & 0 & 1 & 0 & 0 & 1 & 1 & 0 & $\\dots$ \\\\\n",
       "\t17 & crow & 0 & 1 & 1 & 0 & 1 & 0 & 1 & 0 & $\\dots$ \\\\\n",
       "\t18 & deer & 1 & 0 & 0 & 1 & 0 & 0 & 0 & 1 & $\\dots$ \\\\\n",
       "\t19 & dogfish & 0 & 0 & 1 & 0 & 0 & 1 & 1 & 1 & $\\dots$ \\\\\n",
       "\t20 & dolphin & 0 & 0 & 0 & 1 & 0 & 1 & 1 & 1 & $\\dots$ \\\\\n",
       "\t21 & dove & 0 & 1 & 1 & 0 & 1 & 0 & 0 & 0 & $\\dots$ \\\\\n",
       "\t22 & duck & 0 & 1 & 1 & 0 & 1 & 1 & 0 & 0 & $\\dots$ \\\\\n",
       "\t23 & elephant & 1 & 0 & 0 & 1 & 0 & 0 & 0 & 1 & $\\dots$ \\\\\n",
       "\t24 & flamingo & 0 & 1 & 1 & 0 & 1 & 0 & 0 & 0 & $\\dots$ \\\\\n",
       "\t25 & flea & 0 & 0 & 1 & 0 & 0 & 0 & 0 & 0 & $\\dots$ \\\\\n",
       "\t26 & frog & 0 & 0 & 1 & 0 & 0 & 1 & 1 & 1 & $\\dots$ \\\\\n",
       "\t27 & frog & 0 & 0 & 1 & 0 & 0 & 1 & 1 & 1 & $\\dots$ \\\\\n",
       "\t28 & fruitbat & 1 & 0 & 0 & 1 & 1 & 0 & 0 & 1 & $\\dots$ \\\\\n",
       "\t29 & giraffe & 1 & 0 & 0 & 1 & 0 & 0 & 0 & 1 & $\\dots$ \\\\\n",
       "\t30 & girl & 1 & 0 & 0 & 1 & 0 & 0 & 1 & 1 & $\\dots$ \\\\\n",
       "\t$\\dots$ & $\\dots$ & $\\dots$ & $\\dots$ & $\\dots$ & $\\dots$ & $\\dots$ & $\\dots$ & $\\dots$ & $\\dots$ &  \\\\\n",
       "\\end{tabular}\n"
      ],
      "text/plain": [
       "\u001b[1m101×18 DataFrame\u001b[0m\n",
       "\u001b[1m Row \u001b[0m│\u001b[1m animal_name \u001b[0m\u001b[1m hair  \u001b[0m\u001b[1m feathers \u001b[0m\u001b[1m eggs  \u001b[0m\u001b[1m milk  \u001b[0m\u001b[1m airborne \u001b[0m\u001b[1m aquatic \u001b[0m\u001b[1m predator\u001b[0m ⋯\n",
       "\u001b[1m     \u001b[0m│\u001b[90m String15    \u001b[0m\u001b[90m Int64 \u001b[0m\u001b[90m Int64    \u001b[0m\u001b[90m Int64 \u001b[0m\u001b[90m Int64 \u001b[0m\u001b[90m Int64    \u001b[0m\u001b[90m Int64   \u001b[0m\u001b[90m Int64   \u001b[0m ⋯\n",
       "─────┼──────────────────────────────────────────────────────────────────────────\n",
       "   1 │ aardvark         1         0      0      1         0        0         1 ⋯\n",
       "   2 │ antelope         1         0      0      1         0        0         0\n",
       "   3 │ bass             0         0      1      0         0        1         1\n",
       "   4 │ bear             1         0      0      1         0        0         1\n",
       "   5 │ boar             1         0      0      1         0        0         1 ⋯\n",
       "   6 │ buffalo          1         0      0      1         0        0         0\n",
       "   7 │ calf             1         0      0      1         0        0         0\n",
       "   8 │ carp             0         0      1      0         0        1         0\n",
       "   9 │ catfish          0         0      1      0         0        1         1 ⋯\n",
       "  10 │ cavy             1         0      0      1         0        0         0\n",
       "  11 │ cheetah          1         0      0      1         0        0         1\n",
       "  ⋮  │      ⋮         ⋮       ⋮        ⋮      ⋮       ⋮         ⋮        ⋮     ⋱\n",
       "  92 │ tuatara          0         0      1      0         0        0         1\n",
       "  93 │ tuna             0         0      1      0         0        1         1 ⋯\n",
       "  94 │ vampire          1         0      0      1         1        0         0\n",
       "  95 │ vole             1         0      0      1         0        0         0\n",
       "  96 │ vulture          0         1      1      0         1        0         1\n",
       "  97 │ wallaby          1         0      0      1         0        0         0 ⋯\n",
       "  98 │ wasp             1         0      1      0         1        0         0\n",
       "  99 │ wolf             1         0      0      1         0        0         1\n",
       " 100 │ worm             0         0      1      0         0        0         0\n",
       " 101 │ wren             0         1      1      0         1        0         0 ⋯\n",
       "\u001b[36m                                                  10 columns and 80 rows omitted\u001b[0m"
      ]
     },
     "execution_count": 4,
     "metadata": {},
     "output_type": "execute_result"
    }
   ],
   "source": [
    "data = CSV.read(\"zoo.csv\", DataFrame)"
   ]
  },
  {
   "cell_type": "code",
   "execution_count": 8,
   "metadata": {},
   "outputs": [
    {
     "data": {
      "text/html": [
       "<div class=\"data-frame\"><p>7 rows × 4 columns</p><table class=\"data-frame\"><thead><tr><th></th><th>Class_Number</th><th>Number_Of_Animal_Species_In_Class</th><th>Class_Type</th><th>Animal_Names</th></tr><tr><th></th><th title=\"Int64\">Int64</th><th title=\"Int64\">Int64</th><th title=\"String15\">String15</th><th title=\"String\">String</th></tr></thead><tbody><tr><th>1</th><td>1</td><td>41</td><td>Mammal</td><td>aardvark, antelope, bear, boar, buffalo, calf, cavy, cheetah, deer, dolphin, elephant, fruitbat, giraffe, girl, goat, gorilla, hamster, hare, leopard, lion, lynx, mink, mole, mongoose, opossum, oryx, platypus, polecat, pony, porpoise, puma, pussycat, raccoon, reindeer, seal, sealion, squirrel, vampire, vole, wallaby, wolf</td></tr><tr><th>2</th><td>2</td><td>20</td><td>Bird</td><td>chicken, crow, dove, duck, flamingo, gull, hawk, kiwi, lark, ostrich, parakeet, penguin, pheasant, rhea, skimmer, skua, sparrow, swan, vulture, wren</td></tr><tr><th>3</th><td>3</td><td>5</td><td>Reptile</td><td>pitviper, seasnake, slowworm, tortoise, tuatara</td></tr><tr><th>4</th><td>4</td><td>13</td><td>Fish</td><td>bass, carp, catfish, chub, dogfish, haddock, herring, pike, piranha, seahorse, sole, stingray, tuna</td></tr><tr><th>5</th><td>5</td><td>4</td><td>Amphibian</td><td>frog, frog, newt, toad</td></tr><tr><th>6</th><td>6</td><td>8</td><td>Bug</td><td>flea, gnat, honeybee, housefly, ladybird, moth, termite, wasp</td></tr><tr><th>7</th><td>7</td><td>10</td><td>Invertebrate</td><td>clam, crab, crayfish, lobster, octopus, scorpion, seawasp, slug, starfish, worm</td></tr></tbody></table></div>"
      ],
      "text/latex": [
       "\\begin{tabular}{r|cccc}\n",
       "\t& Class\\_Number & Number\\_Of\\_Animal\\_Species\\_In\\_Class & Class\\_Type & Animal\\_Names\\\\\n",
       "\t\\hline\n",
       "\t& Int64 & Int64 & String15 & String\\\\\n",
       "\t\\hline\n",
       "\t1 & 1 & 41 & Mammal & aardvark, antelope, bear, boar, buffalo, calf, cavy, cheetah, deer, dolphin, elephant, fruitbat, giraffe, girl, goat, gorilla, hamster, hare, leopard, lion, lynx, mink, mole, mongoose, opossum, oryx, platypus, polecat, pony, porpoise, puma, pussycat, raccoon, reindeer, seal, sealion, squirrel, vampire, vole, wallaby, wolf \\\\\n",
       "\t2 & 2 & 20 & Bird & chicken, crow, dove, duck, flamingo, gull, hawk, kiwi, lark, ostrich, parakeet, penguin, pheasant, rhea, skimmer, skua, sparrow, swan, vulture, wren \\\\\n",
       "\t3 & 3 & 5 & Reptile & pitviper, seasnake, slowworm, tortoise, tuatara \\\\\n",
       "\t4 & 4 & 13 & Fish & bass, carp, catfish, chub, dogfish, haddock, herring, pike, piranha, seahorse, sole, stingray, tuna \\\\\n",
       "\t5 & 5 & 4 & Amphibian & frog, frog, newt, toad \\\\\n",
       "\t6 & 6 & 8 & Bug & flea, gnat, honeybee, housefly, ladybird, moth, termite, wasp \\\\\n",
       "\t7 & 7 & 10 & Invertebrate & clam, crab, crayfish, lobster, octopus, scorpion, seawasp, slug, starfish, worm \\\\\n",
       "\\end{tabular}\n"
      ],
      "text/plain": [
       "\u001b[1m7×4 DataFrame\u001b[0m\n",
       "\u001b[1m Row \u001b[0m│\u001b[1m Class_Number \u001b[0m\u001b[1m Number_Of_Animal_Species_In_Class \u001b[0m\u001b[1m Class_Type   \u001b[0m\u001b[1m Animal_N\u001b[0m ⋯\n",
       "\u001b[1m     \u001b[0m│\u001b[90m Int64        \u001b[0m\u001b[90m Int64                             \u001b[0m\u001b[90m String15     \u001b[0m\u001b[90m String  \u001b[0m ⋯\n",
       "─────┼──────────────────────────────────────────────────────────────────────────\n",
       "   1 │            1                                 41  Mammal        aardvark ⋯\n",
       "   2 │            2                                 20  Bird          chicken,\n",
       "   3 │            3                                  5  Reptile       pitviper\n",
       "   4 │            4                                 13  Fish          bass, ca\n",
       "   5 │            5                                  4  Amphibian     frog, fr ⋯\n",
       "   6 │            6                                  8  Bug           flea, gn\n",
       "   7 │            7                                 10  Invertebrate  clam, cr\n",
       "\u001b[36m                                                                1 column omitted\u001b[0m"
      ]
     },
     "execution_count": 8,
     "metadata": {},
     "output_type": "execute_result"
    }
   ],
   "source": [
    "class_data = CSV.read(\"class.csv\", DataFrame)"
   ]
  },
  {
   "cell_type": "code",
   "execution_count": 6,
   "metadata": {},
   "outputs": [
    {
     "data": {
      "text/plain": [
       "17-element Vector{BitVector}:\n",
       " [1, 0, 0, 1, 1, 1, 0, 1, 1, 1  …  1, 0, 1, 0, 1, 1, 1, 0, 0, 1]\n",
       " [0, 1, 1, 1, 1, 0, 0, 1, 0, 0  …  1, 1, 0, 0, 1, 1, 1, 0, 0, 0]\n",
       " [0, 0, 1, 0, 1, 1, 0, 1, 1, 1  …  1, 1, 1, 1, 0, 0, 0, 1, 0, 0]\n",
       " [1, 0, 0, 0, 1, 0, 1, 0, 1, 0  …  1, 1, 1, 1, 1, 0, 1, 0, 0, 0]\n",
       " [1, 1, 0, 1, 1, 1, 0, 0, 0, 1  …  1, 0, 1, 1, 1, 0, 1, 1, 0, 0]\n",
       " [0, 1, 1, 1, 1, 1, 0, 1, 1, 1  …  1, 1, 1, 1, 0, 1, 0, 0, 0, 0]\n",
       " [0, 0, 1, 0, 0, 1, 0, 0, 0, 1  …  0, 0, 1, 1, 1, 0, 1, 1, 1, 1]\n",
       " [0, 1, 0, 0, 1, 0, 0, 1, 1, 0  …  0, 1, 1, 1, 0, 1, 0, 0, 1, 0]\n",
       " [0, 0, 0, 0, 1, 0, 0, 0, 0, 1  …  1, 1, 1, 0, 0, 0, 1, 1, 0, 0]\n",
       " [1, 1, 1, 0, 1, 0, 1, 0, 1, 1  …  1, 1, 1, 1, 0, 0, 0, 1, 1, 0]\n",
       " [0, 1, 1, 1, 1, 1, 1, 0, 1, 1  …  1, 1, 0, 0, 0, 0, 1, 1, 0, 1]\n",
       " [1, 0, 1, 0, 0, 1, 1, 1, 1, 1  …  1, 1, 0, 0, 1, 1, 0, 0, 0, 1]\n",
       " [0, 0, 1, 1, 1, 1, 0, 0, 0, 0  …  1, 0, 1, 1, 1, 0, 0, 1, 1, 0]\n",
       " [0, 0, 1, 0, 1, 0, 1, 1, 1, 1  …  0, 0, 0, 0, 0, 1, 0, 0, 0, 1]\n",
       " [1, 1, 0, 1, 0, 1, 1, 0, 1, 0  …  1, 1, 0, 1, 0, 0, 1, 0, 0, 0]\n",
       " [1, 1, 1, 1, 1, 0, 1, 1, 1, 1  …  1, 0, 1, 0, 0, 1, 0, 1, 0, 0]\n",
       " [1, 0, 0, 1, 1, 0, 0, 1, 0, 0  …  1, 0, 0, 1, 0, 1, 1, 0, 0, 0]"
      ]
     },
     "execution_count": 6,
     "metadata": {},
     "output_type": "execute_result"
    }
   ],
   "source": [
    "feature_hdv=[bitHDV() for i in 1:17]"
   ]
  }
 ],
 "metadata": {
  "kernelspec": {
   "display_name": "Julia 1.7.3",
   "language": "julia",
   "name": "julia-1.7"
  },
  "language_info": {
   "file_extension": ".jl",
   "mimetype": "application/julia",
   "name": "julia",
   "version": "1.7.3"
  },
  "orig_nbformat": 4,
  "vscode": {
   "interpreter": {
    "hash": "916dbcbb3f70747c44a77c7bcd40155683ae19c65e1c03b4aa3499c5328201f1"
   }
  }
 },
 "nbformat": 4,
 "nbformat_minor": 2
}

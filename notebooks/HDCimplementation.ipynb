{
 "cells": [
  {
   "cell_type": "markdown",
   "metadata": {},
   "source": [
    "This example shows the simplicity and strengths of HDC on a simple [toy dataset](https://www.kaggle.com/datasets/uciml/zoo-animal-classification). The data contains 101 different animals with each 17 features such as if they are airborne, their amount of legs etc. We will demonstrate the power of HDC by making a simple classifier for this dataset.\n",
    "\n",
    "Let us first define the aforementioned operations that we can do with HDVs."
   ]
  },
  {
   "cell_type": "code",
   "execution_count": 88,
   "metadata": {},
   "outputs": [
    {
     "data": {
      "text/plain": [
       "hamming"
      ]
     },
     "execution_count": 88,
     "metadata": {},
     "output_type": "execute_result"
    }
   ],
   "source": [
    "using Random\n",
    "\n",
    "\"\"\"\n",
    "Construct a binary vector. By default 10000 elements long.\n",
    "\"\"\"\n",
    "bitHDV(N::Int=10000) = bitrand(N)\n",
    "\n",
    "\n",
    "\"\"\"\n",
    "Bundles binary hyperdimensional vectors based on the element-wise majority rule.\n",
    "\"\"\"\n",
    "function bitadd(vectors::BitVector ...)\n",
    "    v = reduce(.+, vectors)\n",
    "    n = length(vectors) / 2\n",
    "    x = [i > n ? 1 : i < n ? 0 : rand(0:1) for i in v]\n",
    "    return convert(BitVector, x)\n",
    "end\n",
    "\n",
    "\n",
    "\"\"\"\n",
    "Binds binary hyperdimensional vectors based on an element-wise XOR gate.\n",
    "\"\"\"\n",
    "bitbind(vectors::BitVector ...) =  reduce(.⊻, vectors)\n",
    "\n",
    "\n",
    "\"\"\"\n",
    "Permutes a binary hyperdimensional vector by an adjustable circular shift.\n",
    "\"\"\"\n",
    "bitperm(vector::BitVector, k::Int=1) = circshift(vector, k)\n",
    "\n",
    "\n",
    "\"\"\"\n",
    "Calculates the Hamming distance between two binary vectors.\n",
    "\"\"\"\n",
    "hamming(x::BitVector, y::BitVector) = sum(x .!= y)/length(x)"
   ]
  },
  {
   "cell_type": "markdown",
   "metadata": {},
   "source": [
    "Here we see the dataset."
   ]
  },
  {
   "cell_type": "code",
   "execution_count": 89,
   "metadata": {},
   "outputs": [
    {
     "data": {
      "text/html": [
       "<div class=\"data-frame\"><p>101 rows × 18 columns (omitted printing of 9 columns)</p><table class=\"data-frame\"><thead><tr><th></th><th>animal_name</th><th>hair</th><th>feathers</th><th>eggs</th><th>milk</th><th>airborne</th><th>aquatic</th><th>predator</th><th>toothed</th></tr><tr><th></th><th title=\"String15\">String15</th><th title=\"Int64\">Int64</th><th title=\"Int64\">Int64</th><th title=\"Int64\">Int64</th><th title=\"Int64\">Int64</th><th title=\"Int64\">Int64</th><th title=\"Int64\">Int64</th><th title=\"Int64\">Int64</th><th title=\"Int64\">Int64</th></tr></thead><tbody><tr><th>1</th><td>aardvark</td><td>1</td><td>0</td><td>0</td><td>1</td><td>0</td><td>0</td><td>1</td><td>1</td></tr><tr><th>2</th><td>antelope</td><td>1</td><td>0</td><td>0</td><td>1</td><td>0</td><td>0</td><td>0</td><td>1</td></tr><tr><th>3</th><td>bass</td><td>0</td><td>0</td><td>1</td><td>0</td><td>0</td><td>1</td><td>1</td><td>1</td></tr><tr><th>4</th><td>bear</td><td>1</td><td>0</td><td>0</td><td>1</td><td>0</td><td>0</td><td>1</td><td>1</td></tr><tr><th>5</th><td>boar</td><td>1</td><td>0</td><td>0</td><td>1</td><td>0</td><td>0</td><td>1</td><td>1</td></tr><tr><th>6</th><td>buffalo</td><td>1</td><td>0</td><td>0</td><td>1</td><td>0</td><td>0</td><td>0</td><td>1</td></tr><tr><th>7</th><td>calf</td><td>1</td><td>0</td><td>0</td><td>1</td><td>0</td><td>0</td><td>0</td><td>1</td></tr><tr><th>8</th><td>carp</td><td>0</td><td>0</td><td>1</td><td>0</td><td>0</td><td>1</td><td>0</td><td>1</td></tr><tr><th>9</th><td>catfish</td><td>0</td><td>0</td><td>1</td><td>0</td><td>0</td><td>1</td><td>1</td><td>1</td></tr><tr><th>10</th><td>cavy</td><td>1</td><td>0</td><td>0</td><td>1</td><td>0</td><td>0</td><td>0</td><td>1</td></tr><tr><th>11</th><td>cheetah</td><td>1</td><td>0</td><td>0</td><td>1</td><td>0</td><td>0</td><td>1</td><td>1</td></tr><tr><th>12</th><td>chicken</td><td>0</td><td>1</td><td>1</td><td>0</td><td>1</td><td>0</td><td>0</td><td>0</td></tr><tr><th>13</th><td>chub</td><td>0</td><td>0</td><td>1</td><td>0</td><td>0</td><td>1</td><td>1</td><td>1</td></tr><tr><th>14</th><td>clam</td><td>0</td><td>0</td><td>1</td><td>0</td><td>0</td><td>0</td><td>1</td><td>0</td></tr><tr><th>15</th><td>crab</td><td>0</td><td>0</td><td>1</td><td>0</td><td>0</td><td>1</td><td>1</td><td>0</td></tr><tr><th>16</th><td>crayfish</td><td>0</td><td>0</td><td>1</td><td>0</td><td>0</td><td>1</td><td>1</td><td>0</td></tr><tr><th>17</th><td>crow</td><td>0</td><td>1</td><td>1</td><td>0</td><td>1</td><td>0</td><td>1</td><td>0</td></tr><tr><th>18</th><td>deer</td><td>1</td><td>0</td><td>0</td><td>1</td><td>0</td><td>0</td><td>0</td><td>1</td></tr><tr><th>19</th><td>dogfish</td><td>0</td><td>0</td><td>1</td><td>0</td><td>0</td><td>1</td><td>1</td><td>1</td></tr><tr><th>20</th><td>dolphin</td><td>0</td><td>0</td><td>0</td><td>1</td><td>0</td><td>1</td><td>1</td><td>1</td></tr><tr><th>21</th><td>dove</td><td>0</td><td>1</td><td>1</td><td>0</td><td>1</td><td>0</td><td>0</td><td>0</td></tr><tr><th>22</th><td>duck</td><td>0</td><td>1</td><td>1</td><td>0</td><td>1</td><td>1</td><td>0</td><td>0</td></tr><tr><th>23</th><td>elephant</td><td>1</td><td>0</td><td>0</td><td>1</td><td>0</td><td>0</td><td>0</td><td>1</td></tr><tr><th>24</th><td>flamingo</td><td>0</td><td>1</td><td>1</td><td>0</td><td>1</td><td>0</td><td>0</td><td>0</td></tr><tr><th>25</th><td>flea</td><td>0</td><td>0</td><td>1</td><td>0</td><td>0</td><td>0</td><td>0</td><td>0</td></tr><tr><th>26</th><td>frog</td><td>0</td><td>0</td><td>1</td><td>0</td><td>0</td><td>1</td><td>1</td><td>1</td></tr><tr><th>27</th><td>frog</td><td>0</td><td>0</td><td>1</td><td>0</td><td>0</td><td>1</td><td>1</td><td>1</td></tr><tr><th>28</th><td>fruitbat</td><td>1</td><td>0</td><td>0</td><td>1</td><td>1</td><td>0</td><td>0</td><td>1</td></tr><tr><th>29</th><td>giraffe</td><td>1</td><td>0</td><td>0</td><td>1</td><td>0</td><td>0</td><td>0</td><td>1</td></tr><tr><th>30</th><td>girl</td><td>1</td><td>0</td><td>0</td><td>1</td><td>0</td><td>0</td><td>1</td><td>1</td></tr><tr><th>&vellip;</th><td>&vellip;</td><td>&vellip;</td><td>&vellip;</td><td>&vellip;</td><td>&vellip;</td><td>&vellip;</td><td>&vellip;</td><td>&vellip;</td><td>&vellip;</td></tr></tbody></table></div>"
      ],
      "text/latex": [
       "\\begin{tabular}{r|cccccccccc}\n",
       "\t& animal\\_name & hair & feathers & eggs & milk & airborne & aquatic & predator & toothed & \\\\\n",
       "\t\\hline\n",
       "\t& String15 & Int64 & Int64 & Int64 & Int64 & Int64 & Int64 & Int64 & Int64 & \\\\\n",
       "\t\\hline\n",
       "\t1 & aardvark & 1 & 0 & 0 & 1 & 0 & 0 & 1 & 1 & $\\dots$ \\\\\n",
       "\t2 & antelope & 1 & 0 & 0 & 1 & 0 & 0 & 0 & 1 & $\\dots$ \\\\\n",
       "\t3 & bass & 0 & 0 & 1 & 0 & 0 & 1 & 1 & 1 & $\\dots$ \\\\\n",
       "\t4 & bear & 1 & 0 & 0 & 1 & 0 & 0 & 1 & 1 & $\\dots$ \\\\\n",
       "\t5 & boar & 1 & 0 & 0 & 1 & 0 & 0 & 1 & 1 & $\\dots$ \\\\\n",
       "\t6 & buffalo & 1 & 0 & 0 & 1 & 0 & 0 & 0 & 1 & $\\dots$ \\\\\n",
       "\t7 & calf & 1 & 0 & 0 & 1 & 0 & 0 & 0 & 1 & $\\dots$ \\\\\n",
       "\t8 & carp & 0 & 0 & 1 & 0 & 0 & 1 & 0 & 1 & $\\dots$ \\\\\n",
       "\t9 & catfish & 0 & 0 & 1 & 0 & 0 & 1 & 1 & 1 & $\\dots$ \\\\\n",
       "\t10 & cavy & 1 & 0 & 0 & 1 & 0 & 0 & 0 & 1 & $\\dots$ \\\\\n",
       "\t11 & cheetah & 1 & 0 & 0 & 1 & 0 & 0 & 1 & 1 & $\\dots$ \\\\\n",
       "\t12 & chicken & 0 & 1 & 1 & 0 & 1 & 0 & 0 & 0 & $\\dots$ \\\\\n",
       "\t13 & chub & 0 & 0 & 1 & 0 & 0 & 1 & 1 & 1 & $\\dots$ \\\\\n",
       "\t14 & clam & 0 & 0 & 1 & 0 & 0 & 0 & 1 & 0 & $\\dots$ \\\\\n",
       "\t15 & crab & 0 & 0 & 1 & 0 & 0 & 1 & 1 & 0 & $\\dots$ \\\\\n",
       "\t16 & crayfish & 0 & 0 & 1 & 0 & 0 & 1 & 1 & 0 & $\\dots$ \\\\\n",
       "\t17 & crow & 0 & 1 & 1 & 0 & 1 & 0 & 1 & 0 & $\\dots$ \\\\\n",
       "\t18 & deer & 1 & 0 & 0 & 1 & 0 & 0 & 0 & 1 & $\\dots$ \\\\\n",
       "\t19 & dogfish & 0 & 0 & 1 & 0 & 0 & 1 & 1 & 1 & $\\dots$ \\\\\n",
       "\t20 & dolphin & 0 & 0 & 0 & 1 & 0 & 1 & 1 & 1 & $\\dots$ \\\\\n",
       "\t21 & dove & 0 & 1 & 1 & 0 & 1 & 0 & 0 & 0 & $\\dots$ \\\\\n",
       "\t22 & duck & 0 & 1 & 1 & 0 & 1 & 1 & 0 & 0 & $\\dots$ \\\\\n",
       "\t23 & elephant & 1 & 0 & 0 & 1 & 0 & 0 & 0 & 1 & $\\dots$ \\\\\n",
       "\t24 & flamingo & 0 & 1 & 1 & 0 & 1 & 0 & 0 & 0 & $\\dots$ \\\\\n",
       "\t25 & flea & 0 & 0 & 1 & 0 & 0 & 0 & 0 & 0 & $\\dots$ \\\\\n",
       "\t26 & frog & 0 & 0 & 1 & 0 & 0 & 1 & 1 & 1 & $\\dots$ \\\\\n",
       "\t27 & frog & 0 & 0 & 1 & 0 & 0 & 1 & 1 & 1 & $\\dots$ \\\\\n",
       "\t28 & fruitbat & 1 & 0 & 0 & 1 & 1 & 0 & 0 & 1 & $\\dots$ \\\\\n",
       "\t29 & giraffe & 1 & 0 & 0 & 1 & 0 & 0 & 0 & 1 & $\\dots$ \\\\\n",
       "\t30 & girl & 1 & 0 & 0 & 1 & 0 & 0 & 1 & 1 & $\\dots$ \\\\\n",
       "\t$\\dots$ & $\\dots$ & $\\dots$ & $\\dots$ & $\\dots$ & $\\dots$ & $\\dots$ & $\\dots$ & $\\dots$ & $\\dots$ &  \\\\\n",
       "\\end{tabular}\n"
      ],
      "text/plain": [
       "\u001b[1m101×18 DataFrame\u001b[0m\n",
       "\u001b[1m Row \u001b[0m│\u001b[1m animal_name \u001b[0m\u001b[1m hair  \u001b[0m\u001b[1m feathers \u001b[0m\u001b[1m eggs  \u001b[0m\u001b[1m milk  \u001b[0m\u001b[1m airborne \u001b[0m\u001b[1m aquatic \u001b[0m\u001b[1m predator\u001b[0m ⋯\n",
       "\u001b[1m     \u001b[0m│\u001b[90m String15    \u001b[0m\u001b[90m Int64 \u001b[0m\u001b[90m Int64    \u001b[0m\u001b[90m Int64 \u001b[0m\u001b[90m Int64 \u001b[0m\u001b[90m Int64    \u001b[0m\u001b[90m Int64   \u001b[0m\u001b[90m Int64   \u001b[0m ⋯\n",
       "─────┼──────────────────────────────────────────────────────────────────────────\n",
       "   1 │ aardvark         1         0      0      1         0        0         1 ⋯\n",
       "   2 │ antelope         1         0      0      1         0        0         0\n",
       "   3 │ bass             0         0      1      0         0        1         1\n",
       "   4 │ bear             1         0      0      1         0        0         1\n",
       "   5 │ boar             1         0      0      1         0        0         1 ⋯\n",
       "   6 │ buffalo          1         0      0      1         0        0         0\n",
       "   7 │ calf             1         0      0      1         0        0         0\n",
       "   8 │ carp             0         0      1      0         0        1         0\n",
       "   9 │ catfish          0         0      1      0         0        1         1 ⋯\n",
       "  10 │ cavy             1         0      0      1         0        0         0\n",
       "  11 │ cheetah          1         0      0      1         0        0         1\n",
       "  ⋮  │      ⋮         ⋮       ⋮        ⋮      ⋮       ⋮         ⋮        ⋮     ⋱\n",
       "  92 │ tuatara          0         0      1      0         0        0         1\n",
       "  93 │ tuna             0         0      1      0         0        1         1 ⋯\n",
       "  94 │ vampire          1         0      0      1         1        0         0\n",
       "  95 │ vole             1         0      0      1         0        0         0\n",
       "  96 │ vulture          0         1      1      0         1        0         1\n",
       "  97 │ wallaby          1         0      0      1         0        0         0 ⋯\n",
       "  98 │ wasp             1         0      1      0         1        0         0\n",
       "  99 │ wolf             1         0      0      1         0        0         1\n",
       " 100 │ worm             0         0      1      0         0        0         0\n",
       " 101 │ wren             0         1      1      0         1        0         0 ⋯\n",
       "\u001b[36m                                                  10 columns and 80 rows omitted\u001b[0m"
      ]
     },
     "execution_count": 89,
     "metadata": {},
     "output_type": "execute_result"
    }
   ],
   "source": [
    "using DataFrames, CSV\n",
    "data = CSV.read(\"zoo.csv\", DataFrame)"
   ]
  },
  {
   "cell_type": "markdown",
   "metadata": {},
   "source": [
    "Let us extract the class type of every animal. The class of an animal can be mammal, bird, reptile, fish, amphibian, bug or invertebrate."
   ]
  },
  {
   "cell_type": "code",
   "execution_count": 90,
   "metadata": {},
   "outputs": [
    {
     "data": {
      "text/plain": [
       "101-element Vector{Int64}:\n",
       " 1\n",
       " 1\n",
       " 4\n",
       " 1\n",
       " 1\n",
       " 1\n",
       " 1\n",
       " 4\n",
       " 4\n",
       " 1\n",
       " 1\n",
       " 2\n",
       " 4\n",
       " ⋮\n",
       " 5\n",
       " 3\n",
       " 3\n",
       " 4\n",
       " 1\n",
       " 1\n",
       " 2\n",
       " 1\n",
       " 6\n",
       " 1\n",
       " 7\n",
       " 2"
      ]
     },
     "execution_count": 90,
     "metadata": {},
     "output_type": "execute_result"
    }
   ],
   "source": [
    "classls = data.class_type"
   ]
  },
  {
   "cell_type": "markdown",
   "metadata": {},
   "source": [
    "Here we collect the index of every animal in the dataset and store them seperated by class type to easily retreive them later."
   ]
  },
  {
   "cell_type": "code",
   "execution_count": 91,
   "metadata": {},
   "outputs": [
    {
     "data": {
      "text/plain": [
       "7-element Vector{Vector{Int64}}:\n",
       " [1, 2, 4, 5, 6, 7, 10, 11, 18, 20  …  69, 70, 71, 75, 76, 85, 94, 95, 97, 99]\n",
       " [12, 17, 21, 22, 24, 34, 38, 42, 44, 57, 58, 59, 60, 72, 79, 80, 84, 88, 96, 101]\n",
       " [63, 77, 81, 91, 92]\n",
       " [3, 8, 9, 13, 19, 35, 39, 61, 62, 74, 83, 87, 93]\n",
       " [26, 27, 53, 90]\n",
       " [25, 31, 40, 41, 43, 52, 89, 98]\n",
       " [14, 15, 16, 47, 54, 73, 78, 82, 86, 100]"
      ]
     },
     "execution_count": 91,
     "metadata": {},
     "output_type": "execute_result"
    }
   ],
   "source": [
    "mammal_idx = [i for i in 1:101 if data.class_type[i] == 1]\n",
    "bird_idx = [i for i in 1:101 if data.class_type[i] == 2]\n",
    "reptile_idx = [i for i in 1:101 if data.class_type[i] == 3]\n",
    "fish_idx = [i for i in 1:101 if data.class_type[i] == 4]\n",
    "amphibian_idx = [i for i in 1:101 if data.class_type[i] == 5]\n",
    "bug_idx = [i for i in 1:101 if data.class_type[i] == 6]\n",
    "invertebrate_idx = [i for i in 1:101 if data.class_type[i] == 7]\n",
    "\n",
    "indices = [mammal_idx, bird_idx, reptile_idx, fish_idx, amphibian_idx, bug_idx, invertebrate_idx]"
   ]
  },
  {
   "cell_type": "markdown",
   "metadata": {},
   "source": [
    "Because every feature is binary except for the amount of legs, we will rearrange the dataset to be easily manipulated later on."
   ]
  },
  {
   "cell_type": "code",
   "execution_count": 92,
   "metadata": {},
   "outputs": [
    {
     "data": {
      "text/plain": [
       "101-element Vector{Int64}:\n",
       " 0\n",
       " 0\n",
       " 0\n",
       " 0\n",
       " 0\n",
       " 0\n",
       " 0\n",
       " 0\n",
       " 0\n",
       " 0\n",
       " 0\n",
       " 0\n",
       " 0\n",
       " ⋮\n",
       " 0\n",
       " 0\n",
       " 0\n",
       " 0\n",
       " 0\n",
       " 0\n",
       " 0\n",
       " 0\n",
       " 0\n",
       " 0\n",
       " 0\n",
       " 0"
      ]
     },
     "execution_count": 92,
     "metadata": {},
     "output_type": "execute_result"
    }
   ],
   "source": [
    "legs0 = [i == 0 ? 1 : 0 for i in data.legs]\n",
    "legs2 = [i == 2 ? 1 : 0 for i in data.legs]\n",
    "legs4 = [i == 4 ? 1 : 0 for i in data.legs]\n",
    "legs5 = [i == 5 ? 1 : 0 for i in data.legs]\n",
    "legs6 = [i == 6 ? 1 : 0 for i in data.legs]\n",
    "legs8 = [i == 8 ? 1 : 0 for i in data.legs]\n",
    "\n",
    "select!(data, Not(:class_type))\n",
    "select!(data, Not(:legs))\n",
    "\n",
    "data[!, :legs0] = legs0\n",
    "data[!, :legs2] = legs2\n",
    "data[!, :legs4] = legs4\n",
    "data[!, :legs5] = legs5\n",
    "data[!, :legs6] = legs6\n",
    "data[!, :legs8] = legs8"
   ]
  },
  {
   "cell_type": "markdown",
   "metadata": {},
   "source": [
    "Representing a range of numbers by hyperdimensional vectors is also simple. We construct a random hyperdimensional vector representing the lower bound of the interval. Next, we replace a fraction of the vector by random bits which must represent the number in the next step. This assures us in this case that having 2 legs is more similar to having 4 legs than 8 legs.\n",
    "\n",
    "We also create random hyperdimensional vectors for every other feature and throw them together in a list."
   ]
  },
  {
   "cell_type": "code",
   "execution_count": 93,
   "metadata": {},
   "outputs": [
    {
     "data": {
      "text/plain": [
       "21-element Vector{BitVector}:\n",
       " [0, 1, 0, 0, 1, 0, 0, 0, 0, 0  …  1, 0, 0, 0, 0, 0, 1, 1, 0, 1]\n",
       " [1, 0, 0, 0, 1, 1, 0, 1, 0, 0  …  1, 1, 0, 1, 0, 0, 1, 0, 0, 0]\n",
       " [0, 0, 1, 0, 1, 0, 0, 1, 0, 1  …  0, 0, 0, 0, 0, 0, 0, 0, 0, 0]\n",
       " [1, 1, 0, 1, 0, 0, 0, 0, 1, 0  …  0, 1, 0, 0, 0, 0, 0, 0, 0, 0]\n",
       " [0, 0, 1, 1, 0, 1, 1, 1, 0, 1  …  1, 0, 1, 0, 1, 0, 0, 0, 1, 0]\n",
       " [1, 0, 1, 0, 0, 1, 1, 0, 1, 1  …  1, 1, 1, 0, 0, 0, 1, 1, 0, 1]\n",
       " [0, 0, 0, 1, 1, 0, 1, 0, 1, 1  …  0, 0, 0, 1, 0, 1, 1, 0, 1, 1]\n",
       " [0, 1, 1, 0, 1, 0, 0, 1, 1, 1  …  1, 1, 0, 0, 1, 1, 0, 1, 1, 0]\n",
       " [1, 1, 1, 1, 1, 1, 1, 1, 1, 0  …  0, 1, 0, 1, 1, 0, 0, 0, 1, 0]\n",
       " [1, 0, 0, 0, 1, 0, 1, 1, 0, 1  …  1, 1, 0, 0, 1, 1, 0, 0, 0, 1]\n",
       " [0, 1, 0, 1, 0, 0, 1, 0, 0, 1  …  1, 0, 0, 1, 1, 0, 0, 1, 0, 0]\n",
       " [1, 0, 1, 1, 0, 1, 1, 1, 1, 0  …  1, 1, 0, 1, 0, 1, 1, 0, 0, 0]\n",
       " [0, 1, 0, 0, 0, 0, 1, 1, 0, 1  …  1, 0, 1, 0, 0, 1, 1, 0, 0, 0]\n",
       " [1, 1, 0, 0, 0, 1, 1, 1, 0, 0  …  0, 0, 0, 1, 1, 0, 1, 0, 0, 0]\n",
       " [0, 1, 1, 0, 1, 0, 0, 1, 0, 0  …  1, 1, 1, 1, 1, 1, 1, 1, 1, 0]\n",
       " [1, 1, 0, 0, 0, 0, 0, 0, 1, 0  …  1, 0, 0, 0, 0, 1, 0, 0, 0, 1]\n",
       " [1, 0, 0, 1, 1, 0, 0, 1, 1, 0  …  0, 0, 1, 1, 0, 0, 0, 1, 0, 0]\n",
       " [0, 1, 0, 0, 1, 1, 0, 1, 1, 0  …  0, 0, 0, 1, 0, 1, 1, 0, 0, 1]\n",
       " [1, 1, 1, 0, 1, 0, 0, 0, 1, 0  …  0, 0, 0, 0, 1, 1, 0, 1, 0, 1]\n",
       " [1, 0, 0, 0, 1, 0, 1, 1, 0, 1  …  0, 1, 0, 0, 0, 1, 1, 0, 0, 0]\n",
       " [1, 0, 0, 1, 1, 0, 0, 1, 1, 1  …  0, 0, 0, 1, 1, 1, 1, 1, 1, 1]"
      ]
     },
     "execution_count": 93,
     "metadata": {},
     "output_type": "execute_result"
    }
   ],
   "source": [
    "\"\"\"\n",
    "Creates a list of binary hyperdimensional vectors representing an interval of numbers by constructing a random HDV representing the lower bound of the interval and replacing a fraction of the vector with random bits.\n",
    "\"\"\"\n",
    "function range_hdvs(steps)\n",
    "\tk = length(steps) - 1\n",
    "\tV = [bitHDV() for i in 1:k+1]\n",
    "\tfor i in 2:k+1\n",
    "\t\tfor j in 1:10000\n",
    "\t\t\tV[i][j] = rand(0:1)\n",
    "\t\tend\n",
    "\tend\n",
    "\treturn V\n",
    "end\n",
    "\n",
    "legs_steps = 0:1:8\n",
    "legs_hdvs = range_hdvs(legs_steps)\n",
    "\n",
    "feature_hdv=[bitHDV() for i in 1:15]\n",
    "append!(feature_hdv, [legs_hdvs[1], legs_hdvs[3], legs_hdvs[5], legs_hdvs[6], legs_hdvs[7], legs_hdvs[9]])"
   ]
  },
  {
   "cell_type": "markdown",
   "metadata": {},
   "source": [
    "To demonstrate the binding of HDVs, we can encode the types of feature into our feature set. For example, the 'milk, and 'egg' feature gives us information about the growth of the animal, so we will bind these features to an other vector representing the growth feature to obtain a more expanded model. This is also done for the skin protection features and for all the features considering the limbs."
   ]
  },
  {
   "cell_type": "code",
   "execution_count": 94,
   "metadata": {},
   "outputs": [],
   "source": [
    "growth_hdv = bitHDV()\n",
    "skin_protection = bitHDV()\n",
    "limbs = bitHDV()\n",
    "\n",
    "for i in 1:2\n",
    "    feature_hdv = replace!(feature_hdv, feature_hdv[i] => bitbind(feature_hdv[i], skin_protection))\n",
    "end\n",
    "\n",
    "for i in 3:4\n",
    "    feature_hdv = replace!(feature_hdv, feature_hdv[i] => bitbind(feature_hdv[i], growth_hdv))\n",
    "end\n",
    "\n",
    "for i in 13;16:21\n",
    "    feature_hdv = replace!(feature_hdv, feature_hdv[i] => bitbind(feature_hdv[i], limbs))\n",
    "end"
   ]
  },
  {
   "cell_type": "code",
   "execution_count": 95,
   "metadata": {},
   "outputs": [
    {
     "data": {
      "text/plain": [
       "10-element Vector{SubString{String}}:\n",
       " \"clam\"\n",
       " \"crab\"\n",
       " \"crayfish\"\n",
       " \"lobster\"\n",
       " \"octopus\"\n",
       " \"scorpion\"\n",
       " \"seawasp\"\n",
       " \"slug\"\n",
       " \"starfish\"\n",
       " \"worm\""
      ]
     },
     "execution_count": 95,
     "metadata": {},
     "output_type": "execute_result"
    }
   ],
   "source": [
    "Mammal = split(class_data.Animal_Names[1], \", \")\n",
    "Bird = split(class_data.Animal_Names[2], \", \")\n",
    "Reptile = split(class_data.Animal_Names[3], \", \")\n",
    "Fish = split(class_data.Animal_Names[4], \", \")\n",
    "Amphibian = split(class_data.Animal_Names[5], \", \")\n",
    "Bug = split(class_data.Animal_Names[6], \", \")\n",
    "Invertebrate = split(class_data.Animal_Names[7], \", \")"
   ]
  },
  {
   "cell_type": "markdown",
   "metadata": {},
   "source": [
    "Now we can bundle every feature for an animal to obtain a hyperdimensional vectors representing the animal."
   ]
  },
  {
   "cell_type": "code",
   "execution_count": 96,
   "metadata": {},
   "outputs": [
    {
     "data": {
      "text/plain": [
       "101-element Vector{BitVector}:\n",
       " [1, 1, 0, 0, 1, 0, 1, 1, 1, 0  …  0, 0, 0, 1, 1, 1, 1, 0, 1, 0]\n",
       " [0, 1, 1, 0, 1, 1, 1, 1, 0, 0  …  0, 0, 0, 1, 1, 1, 0, 0, 1, 0]\n",
       " [0, 1, 1, 0, 1, 1, 1, 1, 1, 0  …  1, 1, 0, 1, 0, 1, 1, 0, 0, 0]\n",
       " [1, 1, 0, 1, 1, 0, 1, 1, 1, 1  …  0, 1, 0, 1, 1, 1, 1, 0, 1, 0]\n",
       " [0, 1, 1, 0, 1, 0, 1, 1, 1, 0  …  0, 0, 0, 1, 1, 1, 1, 0, 1, 0]\n",
       " [0, 1, 1, 0, 1, 0, 0, 1, 0, 0  …  0, 1, 0, 1, 1, 1, 1, 0, 1, 0]\n",
       " [1, 1, 1, 0, 1, 1, 1, 1, 0, 0  …  0, 0, 0, 1, 1, 1, 1, 0, 1, 0]\n",
       " [1, 1, 1, 0, 0, 1, 1, 1, 1, 0  …  1, 1, 0, 1, 0, 1, 1, 0, 0, 0]\n",
       " [0, 1, 1, 0, 0, 0, 1, 1, 1, 0  …  1, 1, 0, 1, 0, 1, 0, 0, 0, 0]\n",
       " [1, 1, 0, 0, 1, 1, 1, 1, 1, 0  …  0, 0, 0, 1, 1, 0, 0, 0, 1, 0]\n",
       " [0, 1, 1, 0, 1, 0, 1, 1, 1, 0  …  0, 0, 0, 1, 1, 1, 1, 0, 1, 0]\n",
       " [0, 0, 0, 0, 1, 1, 1, 1, 1, 0  …  0, 1, 1, 1, 1, 0, 0, 0, 0, 0]\n",
       " [1, 1, 1, 0, 0, 1, 1, 0, 1, 0  …  1, 1, 0, 1, 0, 1, 1, 0, 0, 1]\n",
       " ⋮\n",
       " [1, 1, 1, 0, 1, 0, 1, 1, 1, 1  …  1, 1, 0, 1, 1, 0, 0, 0, 0, 1]\n",
       " [0, 1, 0, 0, 1, 0, 0, 1, 0, 0  …  0, 1, 0, 1, 0, 1, 0, 0, 1, 1]\n",
       " [0, 1, 0, 0, 1, 0, 1, 1, 1, 0  …  0, 1, 0, 1, 0, 1, 0, 0, 1, 1]\n",
       " [0, 1, 1, 0, 1, 0, 1, 1, 1, 0  …  1, 1, 0, 1, 0, 1, 1, 0, 1, 0]\n",
       " [1, 0, 1, 1, 1, 0, 1, 1, 1, 1  …  0, 0, 1, 1, 1, 0, 0, 0, 1, 0]\n",
       " [1, 1, 1, 0, 1, 1, 1, 1, 1, 0  …  0, 0, 0, 1, 1, 1, 0, 0, 1, 0]\n",
       " [0, 0, 0, 1, 1, 0, 1, 1, 1, 0  …  0, 1, 1, 1, 1, 0, 0, 0, 1, 0]\n",
       " [1, 1, 1, 1, 1, 0, 0, 1, 1, 0  …  1, 1, 1, 1, 1, 1, 0, 1, 1, 0]\n",
       " [0, 0, 0, 0, 1, 0, 1, 1, 0, 1  …  1, 0, 0, 1, 1, 0, 0, 0, 0, 0]\n",
       " [0, 1, 1, 0, 1, 0, 1, 1, 1, 0  …  0, 0, 0, 1, 1, 1, 1, 0, 1, 0]\n",
       " [1, 1, 0, 0, 1, 0, 1, 0, 1, 0  …  1, 1, 0, 0, 0, 1, 0, 0, 0, 1]\n",
       " [0, 0, 0, 1, 1, 0, 1, 1, 1, 0  …  0, 1, 1, 1, 1, 0, 0, 0, 1, 0]"
      ]
     },
     "execution_count": 96,
     "metadata": {},
     "output_type": "execute_result"
    }
   ],
   "source": [
    "hdv = BitVector[]\n",
    "for i in 1:101\n",
    "    v = BitVector[]\n",
    "    for j in 2:22\n",
    "        if data[!, j][i] == 1\n",
    "            push!(v, feature_hdv[j-1])\n",
    "        end\n",
    "    end\n",
    "    x = bitadd(v...)\n",
    "    push!(hdv, x)\n",
    "end\n",
    "\n",
    "data[!, :species_hdv] = hdv\n"
   ]
  },
  {
   "cell_type": "markdown",
   "metadata": {},
   "source": [
    "Let's bundle all animals of a class into a HDV representing the class."
   ]
  },
  {
   "cell_type": "code",
   "execution_count": 97,
   "metadata": {},
   "outputs": [
    {
     "data": {
      "text/plain": [
       "grouper (generic function with 2 methods)"
      ]
     },
     "execution_count": 97,
     "metadata": {},
     "output_type": "execute_result"
    }
   ],
   "source": [
    "function grouper(group::Int)\n",
    "    v = BitVector[]\n",
    "    for i in 1:length(indices[group])\n",
    "        push!(v, data.species_hdv[indices[group][i]])\n",
    "    end\n",
    "    x = bitadd(v...)\n",
    "    return x\n",
    "end\n",
    "\n",
    "mammal_hdv = grouper(1)\n",
    "bird_hdv = grouper(2)\n",
    "reptile_hdv = grouper(3)\n",
    "fish_hdv = grouper(4)\n",
    "amphibian_hdv = grouper(5)\n",
    "bug_hdv = grouper(6)\n",
    "invertebrate_hdv = grouper(7)"
   ]
  },
  {
   "cell_type": "markdown",
   "metadata": {},
   "source": [
    "Here we construct one large matrix containing the HDV of every class. This will be needed later for an PCA analysis."
   ]
  },
  {
   "cell_type": "code",
   "execution_count": 98,
   "metadata": {},
   "outputs": [
    {
     "data": {
      "text/plain": [
       "7×10000 BitMatrix:\n",
       " 1  1  1  0  1  0  1  1  1  0  1  0  0  …  0  0  0  0  0  1  1  1  1  0  1  0\n",
       " 0  0  0  1  1  0  1  1  1  0  1  1  1     1  1  0  1  1  1  1  0  0  0  1  0\n",
       " 0  1  0  0  1  0  1  1  1  0  1  1  1     0  1  1  1  0  1  0  1  0  0  1  1\n",
       " 0  1  1  0  1  1  1  1  1  0  1  0  0     1  1  1  1  0  1  0  1  1  0  0  0\n",
       " 0  1  0  0  1  0  1  1  1  1  1  0  1     0  1  0  1  0  1  1  1  0  0  0  1\n",
       " 1  0  0  0  1  0  1  1  0  1  0  1  1  …  0  1  0  1  0  0  1  0  0  0  0  0\n",
       " 1  1  0  0  1  0  1  0  1  1  0  1  1     0  1  0  1  0  1  0  1  0  0  0  1"
      ]
     },
     "execution_count": 98,
     "metadata": {},
     "output_type": "execute_result"
    }
   ],
   "source": [
    "list_group_hdvs = [mammal_hdv, bird_hdv, reptile_hdv, fish_hdv, amphibian_hdv, bug_hdv, invertebrate_hdv]\n",
    "matrix_groups = permutedims(hcat(list_group_hdvs...))"
   ]
  },
  {
   "cell_type": "markdown",
   "metadata": {},
   "source": [
    "Let's compare the HDV of the flamingo to the HDVs of every animal class to see which class it resembles the most by calculating the Hamming between the HDV of flamingo and the class in question."
   ]
  },
  {
   "cell_type": "code",
   "execution_count": 99,
   "metadata": {},
   "outputs": [
    {
     "name": "stdout",
     "output_type": "stream",
     "text": [
      "mammal 0.3452\n",
      "bird 0.1315\n",
      "reptile 0.3176\n",
      "amphibian 0.3666\n",
      "bug 0.3512\n",
      "fish 0.3652\n",
      "invertebrate 0.3983\n"
     ]
    }
   ],
   "source": [
    "println(\"mammal \",string(hamming(data.species_hdv[24], mammal_hdv)))\n",
    "println(\"bird \",string(hamming(data.species_hdv[24], bird_hdv)))\n",
    "println(\"reptile \",string(hamming(data.species_hdv[24], reptile_hdv)))\n",
    "println(\"amphibian \",string(hamming(data.species_hdv[24], amphibian_hdv)))\n",
    "println(\"bug \",string(hamming(data.species_hdv[24], bug_hdv)))\n",
    "println(\"fish \",string(hamming(data.species_hdv[24], fish_hdv)))\n",
    "println(\"invertebrate \",string(hamming(data.species_hdv[24], invertebrate_hdv)))"
   ]
  },
  {
   "cell_type": "markdown",
   "metadata": {},
   "source": [
    "Like expected, the flamingo shows most similarity to the bird group! Let's try the animal vampire since I'm not sure what's ment by this..."
   ]
  },
  {
   "cell_type": "code",
   "execution_count": 100,
   "metadata": {},
   "outputs": [
    {
     "name": "stdout",
     "output_type": "stream",
     "text": [
      "mammal 0.2481\n",
      "bird 0.289\n",
      "reptile 0.3245\n",
      "amphibian 0.3611\n",
      "bug 0.3687\n",
      "fish 0.3817\n",
      "invertebrate 0.481\n"
     ]
    }
   ],
   "source": [
    "println(\"mammal \",string(hamming(data.species_hdv[94], mammal_hdv)))\n",
    "println(\"bird \",string(hamming(data.species_hdv[94], bird_hdv)))\n",
    "println(\"reptile \",string(hamming(data.species_hdv[94], reptile_hdv)))\n",
    "println(\"amphibian \",string(hamming(data.species_hdv[94], amphibian_hdv)))\n",
    "println(\"bug \",string(hamming(data.species_hdv[94], bug_hdv)))\n",
    "println(\"fish \",string(hamming(data.species_hdv[94], fish_hdv)))\n",
    "println(\"invertebrate \",string(hamming(data.species_hdv[94], invertebrate_hdv)))"
   ]
  },
  {
   "cell_type": "markdown",
   "metadata": {},
   "source": [
    "Let's try to determine the class of an animal not present in the dataset, such as the axolotl. First we have to define the features of the axolotl."
   ]
  },
  {
   "cell_type": "code",
   "execution_count": 101,
   "metadata": {},
   "outputs": [
    {
     "data": {
      "text/plain": [
       "21-element Vector{Int64}:\n",
       " 0\n",
       " 0\n",
       " 1\n",
       " 0\n",
       " 0\n",
       " 1\n",
       " 0\n",
       " 1\n",
       " 1\n",
       " 1\n",
       " 0\n",
       " 0\n",
       " 1\n",
       " 0\n",
       " 0\n",
       " 0\n",
       " 0\n",
       " 1\n",
       " 0\n",
       " 0\n",
       " 0"
      ]
     },
     "execution_count": 101,
     "metadata": {},
     "output_type": "execute_result"
    }
   ],
   "source": [
    "axolotl_features = [0, 0, 1, 0, 0, 1, 0, 1, 1, 1, 0, 0, 1, 0, 0, 0, 0, 1, 0, 0, 0]"
   ]
  },
  {
   "cell_type": "markdown",
   "metadata": {},
   "source": [
    "Let's construct the total HDV representing the axolotl"
   ]
  },
  {
   "cell_type": "code",
   "execution_count": 102,
   "metadata": {},
   "outputs": [
    {
     "data": {
      "text/plain": [
       "10000-element BitVector:\n",
       " 1\n",
       " 1\n",
       " 1\n",
       " 0\n",
       " 1\n",
       " 1\n",
       " 1\n",
       " 1\n",
       " 1\n",
       " 1\n",
       " 1\n",
       " 0\n",
       " 1\n",
       " ⋮\n",
       " 1\n",
       " 1\n",
       " 1\n",
       " 1\n",
       " 0\n",
       " 1\n",
       " 1\n",
       " 0\n",
       " 0\n",
       " 0\n",
       " 0\n",
       " 0"
      ]
     },
     "execution_count": 102,
     "metadata": {},
     "output_type": "execute_result"
    }
   ],
   "source": [
    "v = BitVector[]\n",
    "    for j in 1:16\n",
    "        if axolotl_features[j] == 1\n",
    "            push!(v, feature_hdv[j])\n",
    "        end\n",
    "    end\n",
    "    axolotl_hdv = bitadd(v...)"
   ]
  },
  {
   "cell_type": "markdown",
   "metadata": {},
   "source": [
    "Let's find out what kind of aninal an axolotl is..."
   ]
  },
  {
   "cell_type": "code",
   "execution_count": 103,
   "metadata": {},
   "outputs": [
    {
     "name": "stdout",
     "output_type": "stream",
     "text": [
      "mammal 0.3122\n",
      "bird 0.2851\n",
      "reptile 0.2248\n",
      "amphibian 0.2194\n",
      "bug 0.3766\n",
      "fish 0.2604\n",
      "invertebrate 0.3525\n"
     ]
    }
   ],
   "source": [
    "println(\"mammal \",string(hamming(axolotl_hdv, mammal_hdv)))\n",
    "println(\"bird \",string(hamming(axolotl_hdv, bird_hdv)))\n",
    "println(\"reptile \",string(hamming(axolotl_hdv, reptile_hdv)))\n",
    "println(\"amphibian \",string(hamming(axolotl_hdv, amphibian_hdv)))\n",
    "println(\"bug \",string(hamming(axolotl_hdv, bug_hdv)))\n",
    "println(\"fish \",string(hamming(axolotl_hdv, fish_hdv)))\n",
    "println(\"invertebrate \",string(hamming(axolotl_hdv, invertebrate_hdv)))"
   ]
  },
  {
   "cell_type": "markdown",
   "metadata": {},
   "source": [
    "It seems to have a lot of similarities to fish, reptiles and amphibians due to it's unusual features but we're pretty close to amphibian considering the simplicity of this classifier!"
   ]
  },
  {
   "cell_type": "markdown",
   "metadata": {},
   "source": [
    "Now we will show how the HDVs of every class are seperated via an PCA analysis."
   ]
  },
  {
   "cell_type": "code",
   "execution_count": 114,
   "metadata": {},
   "outputs": [
    {
     "data": {
      "text/plain": [
       "PCA(indim = 7, outdim = 2, principalratio = 0.5968009996323267)\n",
       "\n",
       "Pattern matrix (unstandardized loadings):\n",
       "───────────────────────\n",
       "        PC1         PC2\n",
       "───────────────────────\n",
       "1  0.324267  -0.159305\n",
       "2  0.315624   0.100741\n",
       "3  0.414133  -0.0978392\n",
       "4  0.342863  -0.173927\n",
       "5  0.385074  -0.0463133\n",
       "6  0.237939   0.381029\n",
       "7  0.317426   0.148648\n",
       "───────────────────────\n",
       "\n",
       "Importance of components:\n",
       "─────────────────────────────────────────────\n",
       "                                PC1       PC2\n",
       "─────────────────────────────────────────────\n",
       "SS Loadings (Eigenvalues)  0.799485  0.244774\n",
       "Variance explained         0.456911  0.13989\n",
       "Cumulative variance        0.456911  0.596801\n",
       "Proportion explained       0.7656    0.2344\n",
       "Cumulative proportion      0.7656    1.0\n",
       "─────────────────────────────────────────────"
      ]
     },
     "execution_count": 114,
     "metadata": {},
     "output_type": "execute_result"
    }
   ],
   "source": [
    "using MultivariateStats\n",
    "\n",
    "M = fit(PCA, matrix_groups ; maxoutdim=2)\n",
    "proj = projection(M)\n",
    "M"
   ]
  },
  {
   "cell_type": "code",
   "execution_count": 116,
   "metadata": {},
   "outputs": [
    {
     "data": {
      "image/svg+xml": "<?xml version=\"1.0\" encoding=\"utf-8\"?>\n<svg xmlns=\"http://www.w3.org/2000/svg\" xmlns:xlink=\"http://www.w3.org/1999/xlink\" width=\"600\" height=\"400\" viewBox=\"0 0 2400 1600\">\n<defs>\n  <clipPath id=\"clip310\">\n    <rect x=\"0\" y=\"0\" width=\"2400\" height=\"1600\"/>\n  </clipPath>\n</defs>\n<path clip-path=\"url(#clip310)\" d=\"\nM0 1600 L2400 1600 L2400 0 L0 0  Z\n  \" fill=\"#ffffff\" fill-rule=\"evenodd\" fill-opacity=\"1\"/>\n<defs>\n  <clipPath id=\"clip311\">\n    <rect x=\"480\" y=\"0\" width=\"1681\" height=\"1600\"/>\n  </clipPath>\n</defs>\n<path clip-path=\"url(#clip310)\" d=\"\nM223.103 1486.45 L2352.76 1486.45 L2352.76 47.2441 L223.103 47.2441  Z\n  \" fill=\"#ffffff\" fill-rule=\"evenodd\" fill-opacity=\"1\"/>\n<defs>\n  <clipPath id=\"clip312\">\n    <rect x=\"223\" y=\"47\" width=\"2131\" height=\"1440\"/>\n  </clipPath>\n</defs>\n<polyline clip-path=\"url(#clip312)\" style=\"stroke:#000000; stroke-linecap:round; stroke-linejoin:round; stroke-width:2; stroke-opacity:0.1; fill:none\" points=\"\n  417.594,1486.45 417.594,47.2441 \n  \"/>\n<polyline clip-path=\"url(#clip312)\" style=\"stroke:#000000; stroke-linecap:round; stroke-linejoin:round; stroke-width:2; stroke-opacity:0.1; fill:none\" points=\"\n  927.379,1486.45 927.379,47.2441 \n  \"/>\n<polyline clip-path=\"url(#clip312)\" style=\"stroke:#000000; stroke-linecap:round; stroke-linejoin:round; stroke-width:2; stroke-opacity:0.1; fill:none\" points=\"\n  1437.16,1486.45 1437.16,47.2441 \n  \"/>\n<polyline clip-path=\"url(#clip312)\" style=\"stroke:#000000; stroke-linecap:round; stroke-linejoin:round; stroke-width:2; stroke-opacity:0.1; fill:none\" points=\"\n  1946.95,1486.45 1946.95,47.2441 \n  \"/>\n<polyline clip-path=\"url(#clip310)\" style=\"stroke:#000000; stroke-linecap:round; stroke-linejoin:round; stroke-width:4; stroke-opacity:1; fill:none\" points=\"\n  223.103,1486.45 2352.76,1486.45 \n  \"/>\n<polyline clip-path=\"url(#clip310)\" style=\"stroke:#000000; stroke-linecap:round; stroke-linejoin:round; stroke-width:4; stroke-opacity:1; fill:none\" points=\"\n  417.594,1486.45 417.594,1467.55 \n  \"/>\n<polyline clip-path=\"url(#clip310)\" style=\"stroke:#000000; stroke-linecap:round; stroke-linejoin:round; stroke-width:4; stroke-opacity:1; fill:none\" points=\"\n  927.379,1486.45 927.379,1467.55 \n  \"/>\n<polyline clip-path=\"url(#clip310)\" style=\"stroke:#000000; stroke-linecap:round; stroke-linejoin:round; stroke-width:4; stroke-opacity:1; fill:none\" points=\"\n  1437.16,1486.45 1437.16,1467.55 \n  \"/>\n<polyline clip-path=\"url(#clip310)\" style=\"stroke:#000000; stroke-linecap:round; stroke-linejoin:round; stroke-width:4; stroke-opacity:1; fill:none\" points=\"\n  1946.95,1486.45 1946.95,1467.55 \n  \"/>\n<path clip-path=\"url(#clip310)\" d=\"M349.539 1532.02 L379.215 1532.02 L379.215 1535.95 L349.539 1535.95 L349.539 1532.02 Z\" fill=\"#000000\" fill-rule=\"evenodd\" fill-opacity=\"1\" /><path clip-path=\"url(#clip310)\" d=\"M399.307 1517.37 Q395.696 1517.37 393.868 1520.93 Q392.062 1524.47 392.062 1531.6 Q392.062 1538.71 393.868 1542.27 Q395.696 1545.82 399.307 1545.82 Q402.942 1545.82 404.747 1542.27 Q406.576 1538.71 406.576 1531.6 Q406.576 1524.47 404.747 1520.93 Q402.942 1517.37 399.307 1517.37 M399.307 1513.66 Q405.118 1513.66 408.173 1518.27 Q411.252 1522.85 411.252 1531.6 Q411.252 1540.33 408.173 1544.94 Q405.118 1549.52 399.307 1549.52 Q393.497 1549.52 390.419 1544.94 Q387.363 1540.33 387.363 1531.6 Q387.363 1522.85 390.419 1518.27 Q393.497 1513.66 399.307 1513.66 Z\" fill=\"#000000\" fill-rule=\"evenodd\" fill-opacity=\"1\" /><path clip-path=\"url(#clip310)\" d=\"M419.469 1542.97 L424.354 1542.97 L424.354 1548.85 L419.469 1548.85 L419.469 1542.97 Z\" fill=\"#000000\" fill-rule=\"evenodd\" fill-opacity=\"1\" /><path clip-path=\"url(#clip310)\" d=\"M447.386 1518.36 L435.58 1536.81 L447.386 1536.81 L447.386 1518.36 M446.159 1514.29 L452.039 1514.29 L452.039 1536.81 L456.969 1536.81 L456.969 1540.7 L452.039 1540.7 L452.039 1548.85 L447.386 1548.85 L447.386 1540.7 L431.784 1540.7 L431.784 1536.19 L446.159 1514.29 Z\" fill=\"#000000\" fill-rule=\"evenodd\" fill-opacity=\"1\" /><path clip-path=\"url(#clip310)\" d=\"M464.747 1514.29 L483.103 1514.29 L483.103 1518.22 L469.029 1518.22 L469.029 1526.7 Q470.048 1526.35 471.066 1526.19 Q472.085 1526 473.103 1526 Q478.89 1526 482.27 1529.17 Q485.65 1532.34 485.65 1537.76 Q485.65 1543.34 482.177 1546.44 Q478.705 1549.52 472.386 1549.52 Q470.21 1549.52 467.941 1549.15 Q465.696 1548.78 463.289 1548.04 L463.289 1543.34 Q465.372 1544.47 467.594 1545.03 Q469.816 1545.58 472.293 1545.58 Q476.298 1545.58 478.636 1543.48 Q480.974 1541.37 480.974 1537.76 Q480.974 1534.15 478.636 1532.04 Q476.298 1529.94 472.293 1529.94 Q470.418 1529.94 468.543 1530.35 Q466.691 1530.77 464.747 1531.65 L464.747 1514.29 Z\" fill=\"#000000\" fill-rule=\"evenodd\" fill-opacity=\"1\" /><path clip-path=\"url(#clip310)\" d=\"M858.826 1532.02 L888.502 1532.02 L888.502 1535.95 L858.826 1535.95 L858.826 1532.02 Z\" fill=\"#000000\" fill-rule=\"evenodd\" fill-opacity=\"1\" /><path clip-path=\"url(#clip310)\" d=\"M908.594 1517.37 Q904.983 1517.37 903.155 1520.93 Q901.349 1524.47 901.349 1531.6 Q901.349 1538.71 903.155 1542.27 Q904.983 1545.82 908.594 1545.82 Q912.229 1545.82 914.034 1542.27 Q915.863 1538.71 915.863 1531.6 Q915.863 1524.47 914.034 1520.93 Q912.229 1517.37 908.594 1517.37 M908.594 1513.66 Q914.405 1513.66 917.46 1518.27 Q920.539 1522.85 920.539 1531.6 Q920.539 1540.33 917.46 1544.94 Q914.405 1549.52 908.594 1549.52 Q902.784 1549.52 899.706 1544.94 Q896.65 1540.33 896.65 1531.6 Q896.65 1522.85 899.706 1518.27 Q902.784 1513.66 908.594 1513.66 Z\" fill=\"#000000\" fill-rule=\"evenodd\" fill-opacity=\"1\" /><path clip-path=\"url(#clip310)\" d=\"M928.756 1542.97 L933.641 1542.97 L933.641 1548.85 L928.756 1548.85 L928.756 1542.97 Z\" fill=\"#000000\" fill-rule=\"evenodd\" fill-opacity=\"1\" /><path clip-path=\"url(#clip310)\" d=\"M956.673 1518.36 L944.867 1536.81 L956.673 1536.81 L956.673 1518.36 M955.446 1514.29 L961.326 1514.29 L961.326 1536.81 L966.256 1536.81 L966.256 1540.7 L961.326 1540.7 L961.326 1548.85 L956.673 1548.85 L956.673 1540.7 L941.071 1540.7 L941.071 1536.19 L955.446 1514.29 Z\" fill=\"#000000\" fill-rule=\"evenodd\" fill-opacity=\"1\" /><path clip-path=\"url(#clip310)\" d=\"M983.988 1517.37 Q980.377 1517.37 978.548 1520.93 Q976.742 1524.47 976.742 1531.6 Q976.742 1538.71 978.548 1542.27 Q980.377 1545.82 983.988 1545.82 Q987.622 1545.82 989.427 1542.27 Q991.256 1538.71 991.256 1531.6 Q991.256 1524.47 989.427 1520.93 Q987.622 1517.37 983.988 1517.37 M983.988 1513.66 Q989.798 1513.66 992.853 1518.27 Q995.932 1522.85 995.932 1531.6 Q995.932 1540.33 992.853 1544.94 Q989.798 1549.52 983.988 1549.52 Q978.177 1549.52 975.099 1544.94 Q972.043 1540.33 972.043 1531.6 Q972.043 1522.85 975.099 1518.27 Q978.177 1513.66 983.988 1513.66 Z\" fill=\"#000000\" fill-rule=\"evenodd\" fill-opacity=\"1\" /><path clip-path=\"url(#clip310)\" d=\"M1369.11 1532.02 L1398.78 1532.02 L1398.78 1535.95 L1369.11 1535.95 L1369.11 1532.02 Z\" fill=\"#000000\" fill-rule=\"evenodd\" fill-opacity=\"1\" /><path clip-path=\"url(#clip310)\" d=\"M1418.88 1517.37 Q1415.27 1517.37 1413.44 1520.93 Q1411.63 1524.47 1411.63 1531.6 Q1411.63 1538.71 1413.44 1542.27 Q1415.27 1545.82 1418.88 1545.82 Q1422.51 1545.82 1424.32 1542.27 Q1426.15 1538.71 1426.15 1531.6 Q1426.15 1524.47 1424.32 1520.93 Q1422.51 1517.37 1418.88 1517.37 M1418.88 1513.66 Q1424.69 1513.66 1427.74 1518.27 Q1430.82 1522.85 1430.82 1531.6 Q1430.82 1540.33 1427.74 1544.94 Q1424.69 1549.52 1418.88 1549.52 Q1413.07 1549.52 1409.99 1544.94 Q1406.93 1540.33 1406.93 1531.6 Q1406.93 1522.85 1409.99 1518.27 Q1413.07 1513.66 1418.88 1513.66 Z\" fill=\"#000000\" fill-rule=\"evenodd\" fill-opacity=\"1\" /><path clip-path=\"url(#clip310)\" d=\"M1439.04 1542.97 L1443.92 1542.97 L1443.92 1548.85 L1439.04 1548.85 L1439.04 1542.97 Z\" fill=\"#000000\" fill-rule=\"evenodd\" fill-opacity=\"1\" /><path clip-path=\"url(#clip310)\" d=\"M1468.27 1530.21 Q1471.63 1530.93 1473.51 1533.2 Q1475.4 1535.47 1475.4 1538.8 Q1475.4 1543.92 1471.89 1546.72 Q1468.37 1549.52 1461.89 1549.52 Q1459.71 1549.52 1457.4 1549.08 Q1455.1 1548.66 1452.65 1547.81 L1452.65 1543.29 Q1454.59 1544.43 1456.91 1545.01 Q1459.22 1545.58 1461.75 1545.58 Q1466.15 1545.58 1468.44 1543.85 Q1470.75 1542.11 1470.75 1538.8 Q1470.75 1535.75 1468.6 1534.03 Q1466.47 1532.3 1462.65 1532.3 L1458.62 1532.3 L1458.62 1528.45 L1462.84 1528.45 Q1466.28 1528.45 1468.11 1527.09 Q1469.94 1525.7 1469.94 1523.11 Q1469.94 1520.45 1468.04 1519.03 Q1466.17 1517.6 1462.65 1517.6 Q1460.73 1517.6 1458.53 1518.01 Q1456.33 1518.43 1453.69 1519.31 L1453.69 1515.14 Q1456.35 1514.4 1458.67 1514.03 Q1461.01 1513.66 1463.07 1513.66 Q1468.39 1513.66 1471.49 1516.09 Q1474.59 1518.5 1474.59 1522.62 Q1474.59 1525.49 1472.95 1527.48 Q1471.31 1529.45 1468.27 1530.21 Z\" fill=\"#000000\" fill-rule=\"evenodd\" fill-opacity=\"1\" /><path clip-path=\"url(#clip310)\" d=\"M1484.32 1514.29 L1502.67 1514.29 L1502.67 1518.22 L1488.6 1518.22 L1488.6 1526.7 Q1489.62 1526.35 1490.64 1526.19 Q1491.65 1526 1492.67 1526 Q1498.46 1526 1501.84 1529.17 Q1505.22 1532.34 1505.22 1537.76 Q1505.22 1543.34 1501.75 1546.44 Q1498.27 1549.52 1491.96 1549.52 Q1489.78 1549.52 1487.51 1549.15 Q1485.27 1548.78 1482.86 1548.04 L1482.86 1543.34 Q1484.94 1544.47 1487.16 1545.03 Q1489.39 1545.58 1491.86 1545.58 Q1495.87 1545.58 1498.21 1543.48 Q1500.54 1541.37 1500.54 1537.76 Q1500.54 1534.15 1498.21 1532.04 Q1495.87 1529.94 1491.86 1529.94 Q1489.99 1529.94 1488.11 1530.35 Q1486.26 1530.77 1484.32 1531.65 L1484.32 1514.29 Z\" fill=\"#000000\" fill-rule=\"evenodd\" fill-opacity=\"1\" /><path clip-path=\"url(#clip310)\" d=\"M1878.4 1532.02 L1908.07 1532.02 L1908.07 1535.95 L1878.4 1535.95 L1878.4 1532.02 Z\" fill=\"#000000\" fill-rule=\"evenodd\" fill-opacity=\"1\" /><path clip-path=\"url(#clip310)\" d=\"M1928.16 1517.37 Q1924.55 1517.37 1922.72 1520.93 Q1920.92 1524.47 1920.92 1531.6 Q1920.92 1538.71 1922.72 1542.27 Q1924.55 1545.82 1928.16 1545.82 Q1931.8 1545.82 1933.6 1542.27 Q1935.43 1538.71 1935.43 1531.6 Q1935.43 1524.47 1933.6 1520.93 Q1931.8 1517.37 1928.16 1517.37 M1928.16 1513.66 Q1933.97 1513.66 1937.03 1518.27 Q1940.11 1522.85 1940.11 1531.6 Q1940.11 1540.33 1937.03 1544.94 Q1933.97 1549.52 1928.16 1549.52 Q1922.35 1549.52 1919.28 1544.94 Q1916.22 1540.33 1916.22 1531.6 Q1916.22 1522.85 1919.28 1518.27 Q1922.35 1513.66 1928.16 1513.66 Z\" fill=\"#000000\" fill-rule=\"evenodd\" fill-opacity=\"1\" /><path clip-path=\"url(#clip310)\" d=\"M1948.33 1542.97 L1953.21 1542.97 L1953.21 1548.85 L1948.33 1548.85 L1948.33 1542.97 Z\" fill=\"#000000\" fill-rule=\"evenodd\" fill-opacity=\"1\" /><path clip-path=\"url(#clip310)\" d=\"M1977.56 1530.21 Q1980.92 1530.93 1982.79 1533.2 Q1984.69 1535.47 1984.69 1538.8 Q1984.69 1543.92 1981.17 1546.72 Q1977.65 1549.52 1971.17 1549.52 Q1969 1549.52 1966.68 1549.08 Q1964.39 1548.66 1961.94 1547.81 L1961.94 1543.29 Q1963.88 1544.43 1966.2 1545.01 Q1968.51 1545.58 1971.03 1545.58 Q1975.43 1545.58 1977.72 1543.85 Q1980.04 1542.11 1980.04 1538.8 Q1980.04 1535.75 1977.89 1534.03 Q1975.76 1532.3 1971.94 1532.3 L1967.91 1532.3 L1967.91 1528.45 L1972.12 1528.45 Q1975.57 1528.45 1977.4 1527.09 Q1979.23 1525.7 1979.23 1523.11 Q1979.23 1520.45 1977.33 1519.03 Q1975.46 1517.6 1971.94 1517.6 Q1970.02 1517.6 1967.82 1518.01 Q1965.62 1518.43 1962.98 1519.31 L1962.98 1515.14 Q1965.64 1514.4 1967.96 1514.03 Q1970.29 1513.66 1972.35 1513.66 Q1977.68 1513.66 1980.78 1516.09 Q1983.88 1518.5 1983.88 1522.62 Q1983.88 1525.49 1982.24 1527.48 Q1980.59 1529.45 1977.56 1530.21 Z\" fill=\"#000000\" fill-rule=\"evenodd\" fill-opacity=\"1\" /><path clip-path=\"url(#clip310)\" d=\"M2003.56 1517.37 Q1999.95 1517.37 1998.12 1520.93 Q1996.31 1524.47 1996.31 1531.6 Q1996.31 1538.71 1998.12 1542.27 Q1999.95 1545.82 2003.56 1545.82 Q2007.19 1545.82 2009 1542.27 Q2010.83 1538.71 2010.83 1531.6 Q2010.83 1524.47 2009 1520.93 Q2007.19 1517.37 2003.56 1517.37 M2003.56 1513.66 Q2009.37 1513.66 2012.42 1518.27 Q2015.5 1522.85 2015.5 1531.6 Q2015.5 1540.33 2012.42 1544.94 Q2009.37 1549.52 2003.56 1549.52 Q1997.75 1549.52 1994.67 1544.94 Q1991.61 1540.33 1991.61 1531.6 Q1991.61 1522.85 1994.67 1518.27 Q1997.75 1513.66 2003.56 1513.66 Z\" fill=\"#000000\" fill-rule=\"evenodd\" fill-opacity=\"1\" /><polyline clip-path=\"url(#clip312)\" style=\"stroke:#000000; stroke-linecap:round; stroke-linejoin:round; stroke-width:2; stroke-opacity:0.1; fill:none\" points=\"\n  223.103,1322.8 2352.76,1322.8 \n  \"/>\n<polyline clip-path=\"url(#clip312)\" style=\"stroke:#000000; stroke-linecap:round; stroke-linejoin:round; stroke-width:2; stroke-opacity:0.1; fill:none\" points=\"\n  223.103,1020.19 2352.76,1020.19 \n  \"/>\n<polyline clip-path=\"url(#clip312)\" style=\"stroke:#000000; stroke-linecap:round; stroke-linejoin:round; stroke-width:2; stroke-opacity:0.1; fill:none\" points=\"\n  223.103,717.583 2352.76,717.583 \n  \"/>\n<polyline clip-path=\"url(#clip312)\" style=\"stroke:#000000; stroke-linecap:round; stroke-linejoin:round; stroke-width:2; stroke-opacity:0.1; fill:none\" points=\"\n  223.103,414.975 2352.76,414.975 \n  \"/>\n<polyline clip-path=\"url(#clip312)\" style=\"stroke:#000000; stroke-linecap:round; stroke-linejoin:round; stroke-width:2; stroke-opacity:0.1; fill:none\" points=\"\n  223.103,112.367 2352.76,112.367 \n  \"/>\n<polyline clip-path=\"url(#clip310)\" style=\"stroke:#000000; stroke-linecap:round; stroke-linejoin:round; stroke-width:4; stroke-opacity:1; fill:none\" points=\"\n  223.103,1486.45 223.103,47.2441 \n  \"/>\n<polyline clip-path=\"url(#clip310)\" style=\"stroke:#000000; stroke-linecap:round; stroke-linejoin:round; stroke-width:4; stroke-opacity:1; fill:none\" points=\"\n  223.103,1322.8 242,1322.8 \n  \"/>\n<polyline clip-path=\"url(#clip310)\" style=\"stroke:#000000; stroke-linecap:round; stroke-linejoin:round; stroke-width:4; stroke-opacity:1; fill:none\" points=\"\n  223.103,1020.19 242,1020.19 \n  \"/>\n<polyline clip-path=\"url(#clip310)\" style=\"stroke:#000000; stroke-linecap:round; stroke-linejoin:round; stroke-width:4; stroke-opacity:1; fill:none\" points=\"\n  223.103,717.583 242,717.583 \n  \"/>\n<polyline clip-path=\"url(#clip310)\" style=\"stroke:#000000; stroke-linecap:round; stroke-linejoin:round; stroke-width:4; stroke-opacity:1; fill:none\" points=\"\n  223.103,414.975 242,414.975 \n  \"/>\n<polyline clip-path=\"url(#clip310)\" style=\"stroke:#000000; stroke-linecap:round; stroke-linejoin:round; stroke-width:4; stroke-opacity:1; fill:none\" points=\"\n  223.103,112.367 242,112.367 \n  \"/>\n<path clip-path=\"url(#clip310)\" d=\"M50.9921 1323.25 L80.6679 1323.25 L80.6679 1327.19 L50.9921 1327.19 L50.9921 1323.25 Z\" fill=\"#000000\" fill-rule=\"evenodd\" fill-opacity=\"1\" /><path clip-path=\"url(#clip310)\" d=\"M100.76 1308.6 Q97.1493 1308.6 95.3206 1312.16 Q93.515 1315.71 93.515 1322.83 Q93.515 1329.94 95.3206 1333.51 Q97.1493 1337.05 100.76 1337.05 Q104.395 1337.05 106.2 1333.51 Q108.029 1329.94 108.029 1322.83 Q108.029 1315.71 106.2 1312.16 Q104.395 1308.6 100.76 1308.6 M100.76 1304.89 Q106.571 1304.89 109.626 1309.5 Q112.705 1314.08 112.705 1322.83 Q112.705 1331.56 109.626 1336.17 Q106.571 1340.75 100.76 1340.75 Q94.9502 1340.75 91.8715 1336.17 Q88.816 1331.56 88.816 1322.83 Q88.816 1314.08 91.8715 1309.5 Q94.9502 1304.89 100.76 1304.89 Z\" fill=\"#000000\" fill-rule=\"evenodd\" fill-opacity=\"1\" /><path clip-path=\"url(#clip310)\" d=\"M120.922 1334.2 L125.807 1334.2 L125.807 1340.08 L120.922 1340.08 L120.922 1334.2 Z\" fill=\"#000000\" fill-rule=\"evenodd\" fill-opacity=\"1\" /><path clip-path=\"url(#clip310)\" d=\"M140.019 1336.14 L156.339 1336.14 L156.339 1340.08 L134.394 1340.08 L134.394 1336.14 Q137.056 1333.39 141.64 1328.76 Q146.246 1324.11 147.427 1322.77 Q149.672 1320.24 150.552 1318.51 Q151.455 1316.75 151.455 1315.06 Q151.455 1312.3 149.51 1310.57 Q147.589 1308.83 144.487 1308.83 Q142.288 1308.83 139.834 1309.59 Q137.404 1310.36 134.626 1311.91 L134.626 1307.19 Q137.45 1306.05 139.904 1305.47 Q142.357 1304.89 144.394 1304.89 Q149.765 1304.89 152.959 1307.58 Q156.154 1310.27 156.154 1314.76 Q156.154 1316.89 155.343 1318.81 Q154.556 1320.71 152.45 1323.3 Q151.871 1323.97 148.769 1327.19 Q145.668 1330.38 140.019 1336.14 Z\" fill=\"#000000\" fill-rule=\"evenodd\" fill-opacity=\"1\" /><path clip-path=\"url(#clip310)\" d=\"M166.2 1305.52 L184.556 1305.52 L184.556 1309.46 L170.482 1309.46 L170.482 1317.93 Q171.501 1317.58 172.519 1317.42 Q173.538 1317.23 174.556 1317.23 Q180.343 1317.23 183.723 1320.4 Q187.103 1323.58 187.103 1328.99 Q187.103 1334.57 183.63 1337.67 Q180.158 1340.75 173.839 1340.75 Q171.663 1340.75 169.394 1340.38 Q167.149 1340.01 164.742 1339.27 L164.742 1334.57 Q166.825 1335.7 169.047 1336.26 Q171.269 1336.82 173.746 1336.82 Q177.751 1336.82 180.089 1334.71 Q182.427 1332.6 182.427 1328.99 Q182.427 1325.38 180.089 1323.27 Q177.751 1321.17 173.746 1321.17 Q171.871 1321.17 169.996 1321.58 Q168.144 1322 166.2 1322.88 L166.2 1305.52 Z\" fill=\"#000000\" fill-rule=\"evenodd\" fill-opacity=\"1\" /><path clip-path=\"url(#clip310)\" d=\"M99.765 1005.99 Q96.1539 1005.99 94.3252 1009.56 Q92.5197 1013.1 92.5197 1020.23 Q92.5197 1027.33 94.3252 1030.9 Q96.1539 1034.44 99.765 1034.44 Q103.399 1034.44 105.205 1030.9 Q107.033 1027.33 107.033 1020.23 Q107.033 1013.1 105.205 1009.56 Q103.399 1005.99 99.765 1005.99 M99.765 1002.29 Q105.575 1002.29 108.631 1006.89 Q111.709 1011.48 111.709 1020.23 Q111.709 1028.95 108.631 1033.56 Q105.575 1038.14 99.765 1038.14 Q93.9549 1038.14 90.8762 1033.56 Q87.8206 1028.95 87.8206 1020.23 Q87.8206 1011.48 90.8762 1006.89 Q93.9549 1002.29 99.765 1002.29 Z\" fill=\"#000000\" fill-rule=\"evenodd\" fill-opacity=\"1\" /><path clip-path=\"url(#clip310)\" d=\"M119.927 1031.59 L124.811 1031.59 L124.811 1037.47 L119.927 1037.47 L119.927 1031.59 Z\" fill=\"#000000\" fill-rule=\"evenodd\" fill-opacity=\"1\" /><path clip-path=\"url(#clip310)\" d=\"M144.996 1005.99 Q141.385 1005.99 139.556 1009.56 Q137.751 1013.1 137.751 1020.23 Q137.751 1027.33 139.556 1030.9 Q141.385 1034.44 144.996 1034.44 Q148.63 1034.44 150.436 1030.9 Q152.265 1027.33 152.265 1020.23 Q152.265 1013.1 150.436 1009.56 Q148.63 1005.99 144.996 1005.99 M144.996 1002.29 Q150.806 1002.29 153.862 1006.89 Q156.941 1011.48 156.941 1020.23 Q156.941 1028.95 153.862 1033.56 Q150.806 1038.14 144.996 1038.14 Q139.186 1038.14 136.107 1033.56 Q133.052 1028.95 133.052 1020.23 Q133.052 1011.48 136.107 1006.89 Q139.186 1002.29 144.996 1002.29 Z\" fill=\"#000000\" fill-rule=\"evenodd\" fill-opacity=\"1\" /><path clip-path=\"url(#clip310)\" d=\"M175.158 1005.99 Q171.547 1005.99 169.718 1009.56 Q167.913 1013.1 167.913 1020.23 Q167.913 1027.33 169.718 1030.9 Q171.547 1034.44 175.158 1034.44 Q178.792 1034.44 180.598 1030.9 Q182.427 1027.33 182.427 1020.23 Q182.427 1013.1 180.598 1009.56 Q178.792 1005.99 175.158 1005.99 M175.158 1002.29 Q180.968 1002.29 184.024 1006.89 Q187.103 1011.48 187.103 1020.23 Q187.103 1028.95 184.024 1033.56 Q180.968 1038.14 175.158 1038.14 Q169.348 1038.14 166.269 1033.56 Q163.214 1028.95 163.214 1020.23 Q163.214 1011.48 166.269 1006.89 Q169.348 1002.29 175.158 1002.29 Z\" fill=\"#000000\" fill-rule=\"evenodd\" fill-opacity=\"1\" /><path clip-path=\"url(#clip310)\" d=\"M100.76 703.382 Q97.1493 703.382 95.3206 706.947 Q93.515 710.488 93.515 717.618 Q93.515 724.725 95.3206 728.289 Q97.1493 731.831 100.76 731.831 Q104.395 731.831 106.2 728.289 Q108.029 724.725 108.029 717.618 Q108.029 710.488 106.2 706.947 Q104.395 703.382 100.76 703.382 M100.76 699.678 Q106.571 699.678 109.626 704.285 Q112.705 708.868 112.705 717.618 Q112.705 726.345 109.626 730.951 Q106.571 735.535 100.76 735.535 Q94.9502 735.535 91.8715 730.951 Q88.816 726.345 88.816 717.618 Q88.816 708.868 91.8715 704.285 Q94.9502 699.678 100.76 699.678 Z\" fill=\"#000000\" fill-rule=\"evenodd\" fill-opacity=\"1\" /><path clip-path=\"url(#clip310)\" d=\"M120.922 728.984 L125.807 728.984 L125.807 734.863 L120.922 734.863 L120.922 728.984 Z\" fill=\"#000000\" fill-rule=\"evenodd\" fill-opacity=\"1\" /><path clip-path=\"url(#clip310)\" d=\"M140.019 730.928 L156.339 730.928 L156.339 734.863 L134.394 734.863 L134.394 730.928 Q137.056 728.174 141.64 723.544 Q146.246 718.891 147.427 717.549 Q149.672 715.025 150.552 713.289 Q151.455 711.53 151.455 709.84 Q151.455 707.086 149.51 705.35 Q147.589 703.614 144.487 703.614 Q142.288 703.614 139.834 704.377 Q137.404 705.141 134.626 706.692 L134.626 701.97 Q137.45 700.836 139.904 700.257 Q142.357 699.678 144.394 699.678 Q149.765 699.678 152.959 702.364 Q156.154 705.049 156.154 709.539 Q156.154 711.669 155.343 713.59 Q154.556 715.488 152.45 718.081 Q151.871 718.752 148.769 721.97 Q145.668 725.164 140.019 730.928 Z\" fill=\"#000000\" fill-rule=\"evenodd\" fill-opacity=\"1\" /><path clip-path=\"url(#clip310)\" d=\"M166.2 700.303 L184.556 700.303 L184.556 704.239 L170.482 704.239 L170.482 712.711 Q171.501 712.363 172.519 712.201 Q173.538 712.016 174.556 712.016 Q180.343 712.016 183.723 715.188 Q187.103 718.359 187.103 723.775 Q187.103 729.354 183.63 732.456 Q180.158 735.535 173.839 735.535 Q171.663 735.535 169.394 735.164 Q167.149 734.794 164.742 734.053 L164.742 729.354 Q166.825 730.488 169.047 731.044 Q171.269 731.599 173.746 731.599 Q177.751 731.599 180.089 729.493 Q182.427 727.387 182.427 723.775 Q182.427 720.164 180.089 718.058 Q177.751 715.951 173.746 715.951 Q171.871 715.951 169.996 716.368 Q168.144 716.785 166.2 717.664 L166.2 700.303 Z\" fill=\"#000000\" fill-rule=\"evenodd\" fill-opacity=\"1\" /><path clip-path=\"url(#clip310)\" d=\"M99.765 400.774 Q96.1539 400.774 94.3252 404.339 Q92.5197 407.88 92.5197 415.01 Q92.5197 422.116 94.3252 425.681 Q96.1539 429.223 99.765 429.223 Q103.399 429.223 105.205 425.681 Q107.033 422.116 107.033 415.01 Q107.033 407.88 105.205 404.339 Q103.399 400.774 99.765 400.774 M99.765 397.07 Q105.575 397.07 108.631 401.677 Q111.709 406.26 111.709 415.01 Q111.709 423.737 108.631 428.343 Q105.575 432.926 99.765 432.926 Q93.9549 432.926 90.8762 428.343 Q87.8206 423.737 87.8206 415.01 Q87.8206 406.26 90.8762 401.677 Q93.9549 397.07 99.765 397.07 Z\" fill=\"#000000\" fill-rule=\"evenodd\" fill-opacity=\"1\" /><path clip-path=\"url(#clip310)\" d=\"M119.927 426.375 L124.811 426.375 L124.811 432.255 L119.927 432.255 L119.927 426.375 Z\" fill=\"#000000\" fill-rule=\"evenodd\" fill-opacity=\"1\" /><path clip-path=\"url(#clip310)\" d=\"M135.043 397.695 L153.399 397.695 L153.399 401.63 L139.325 401.63 L139.325 410.102 Q140.343 409.755 141.362 409.593 Q142.381 409.408 143.399 409.408 Q149.186 409.408 152.566 412.579 Q155.945 415.751 155.945 421.167 Q155.945 426.746 152.473 429.848 Q149.001 432.926 142.681 432.926 Q140.506 432.926 138.237 432.556 Q135.992 432.186 133.584 431.445 L133.584 426.746 Q135.668 427.88 137.89 428.436 Q140.112 428.991 142.589 428.991 Q146.593 428.991 148.931 426.885 Q151.269 424.778 151.269 421.167 Q151.269 417.556 148.931 415.45 Q146.593 413.343 142.589 413.343 Q140.714 413.343 138.839 413.76 Q136.987 414.176 135.043 415.056 L135.043 397.695 Z\" fill=\"#000000\" fill-rule=\"evenodd\" fill-opacity=\"1\" /><path clip-path=\"url(#clip310)\" d=\"M175.158 400.774 Q171.547 400.774 169.718 404.339 Q167.913 407.88 167.913 415.01 Q167.913 422.116 169.718 425.681 Q171.547 429.223 175.158 429.223 Q178.792 429.223 180.598 425.681 Q182.427 422.116 182.427 415.01 Q182.427 407.88 180.598 404.339 Q178.792 400.774 175.158 400.774 M175.158 397.07 Q180.968 397.07 184.024 401.677 Q187.103 406.26 187.103 415.01 Q187.103 423.737 184.024 428.343 Q180.968 432.926 175.158 432.926 Q169.348 432.926 166.269 428.343 Q163.214 423.737 163.214 415.01 Q163.214 406.26 166.269 401.677 Q169.348 397.07 175.158 397.07 Z\" fill=\"#000000\" fill-rule=\"evenodd\" fill-opacity=\"1\" /><path clip-path=\"url(#clip310)\" d=\"M100.76 98.1654 Q97.1493 98.1654 95.3206 101.73 Q93.515 105.272 93.515 112.401 Q93.515 119.508 95.3206 123.073 Q97.1493 126.614 100.76 126.614 Q104.395 126.614 106.2 123.073 Q108.029 119.508 108.029 112.401 Q108.029 105.272 106.2 101.73 Q104.395 98.1654 100.76 98.1654 M100.76 94.4618 Q106.571 94.4618 109.626 99.0682 Q112.705 103.652 112.705 112.401 Q112.705 121.128 109.626 125.735 Q106.571 130.318 100.76 130.318 Q94.9502 130.318 91.8715 125.735 Q88.816 121.128 88.816 112.401 Q88.816 103.652 91.8715 99.0682 Q94.9502 94.4618 100.76 94.4618 Z\" fill=\"#000000\" fill-rule=\"evenodd\" fill-opacity=\"1\" /><path clip-path=\"url(#clip310)\" d=\"M120.922 123.767 L125.807 123.767 L125.807 129.647 L120.922 129.647 L120.922 123.767 Z\" fill=\"#000000\" fill-rule=\"evenodd\" fill-opacity=\"1\" /><path clip-path=\"url(#clip310)\" d=\"M134.811 95.0868 L157.033 95.0868 L157.033 97.0775 L144.487 129.647 L139.603 129.647 L151.408 99.0219 L134.811 99.0219 L134.811 95.0868 Z\" fill=\"#000000\" fill-rule=\"evenodd\" fill-opacity=\"1\" /><path clip-path=\"url(#clip310)\" d=\"M166.2 95.0868 L184.556 95.0868 L184.556 99.0219 L170.482 99.0219 L170.482 107.494 Q171.501 107.147 172.519 106.985 Q173.538 106.8 174.556 106.8 Q180.343 106.8 183.723 109.971 Q187.103 113.142 187.103 118.559 Q187.103 124.138 183.63 127.239 Q180.158 130.318 173.839 130.318 Q171.663 130.318 169.394 129.948 Q167.149 129.577 164.742 128.837 L164.742 124.138 Q166.825 125.272 169.047 125.827 Q171.269 126.383 173.746 126.383 Q177.751 126.383 180.089 124.276 Q182.427 122.17 182.427 118.559 Q182.427 114.948 180.089 112.841 Q177.751 110.735 173.746 110.735 Q171.871 110.735 169.996 111.151 Q168.144 111.568 166.2 112.448 L166.2 95.0868 Z\" fill=\"#000000\" fill-rule=\"evenodd\" fill-opacity=\"1\" /><circle clip-path=\"url(#clip312)\" cx=\"1308.1\" cy=\"1409.94\" r=\"14.4\" fill=\"#008000\" fill-rule=\"evenodd\" fill-opacity=\"1\" stroke=\"#000000\" stroke-opacity=\"1\" stroke-width=\"3.2\"/>\n<circle clip-path=\"url(#clip312)\" cx=\"1406.65\" cy=\"773.722\" r=\"14.4\" fill=\"#ffa500\" fill-rule=\"evenodd\" fill-opacity=\"1\" stroke=\"#000000\" stroke-opacity=\"1\" stroke-width=\"3.2\"/>\n<circle clip-path=\"url(#clip312)\" cx=\"283.376\" cy=\"1259.56\" r=\"14.4\" fill=\"#0000ff\" fill-rule=\"evenodd\" fill-opacity=\"1\" stroke=\"#000000\" stroke-opacity=\"1\" stroke-width=\"3.2\"/>\n<circle clip-path=\"url(#clip312)\" cx=\"1096.06\" cy=\"1445.72\" r=\"14.4\" fill=\"#ff0000\" fill-rule=\"evenodd\" fill-opacity=\"1\" stroke=\"#000000\" stroke-opacity=\"1\" stroke-width=\"3.2\"/>\n<circle clip-path=\"url(#clip312)\" cx=\"614.738\" cy=\"1133.5\" r=\"14.4\" fill=\"#ffff00\" fill-rule=\"evenodd\" fill-opacity=\"1\" stroke=\"#000000\" stroke-opacity=\"1\" stroke-width=\"3.2\"/>\n<circle clip-path=\"url(#clip312)\" cx=\"2292.48\" cy=\"87.9763\" r=\"14.4\" fill=\"#800080\" fill-rule=\"evenodd\" fill-opacity=\"1\" stroke=\"#000000\" stroke-opacity=\"1\" stroke-width=\"3.2\"/>\n<circle clip-path=\"url(#clip312)\" cx=\"1386.11\" cy=\"656.513\" r=\"14.4\" fill=\"#000000\" fill-rule=\"evenodd\" fill-opacity=\"1\" stroke=\"none\"/>\n<path clip-path=\"url(#clip310)\" d=\"\nM1758.06 509.938 L2281.77 509.938 L2281.77 95.2176 L1758.06 95.2176  Z\n  \" fill=\"#ffffff\" fill-rule=\"evenodd\" fill-opacity=\"1\"/>\n<polyline clip-path=\"url(#clip310)\" style=\"stroke:#000000; stroke-linecap:round; stroke-linejoin:round; stroke-width:4; stroke-opacity:1; fill:none\" points=\"\n  1758.06,509.938 2281.77,509.938 2281.77,95.2176 1758.06,95.2176 1758.06,509.938 \n  \"/>\n<circle clip-path=\"url(#clip310)\" cx=\"1852.71\" cy=\"147.058\" r=\"23.04\" fill=\"#008000\" fill-rule=\"evenodd\" fill-opacity=\"1\" stroke=\"#000000\" stroke-opacity=\"1\" stroke-width=\"5.12\"/>\n<path clip-path=\"url(#clip310)\" d=\"M1967.71 143.389 Q1969.3 140.518 1971.53 139.153 Q1973.75 137.787 1976.76 137.787 Q1980.81 137.787 1983.01 140.634 Q1985.21 143.458 1985.21 148.689 L1985.21 164.338 L1980.92 164.338 L1980.92 148.828 Q1980.92 145.102 1979.61 143.296 Q1978.29 141.49 1975.58 141.49 Q1972.27 141.49 1970.35 143.69 Q1968.42 145.889 1968.42 149.685 L1968.42 164.338 L1964.14 164.338 L1964.14 148.828 Q1964.14 145.078 1962.82 143.296 Q1961.5 141.49 1958.75 141.49 Q1955.48 141.49 1953.56 143.713 Q1951.64 145.912 1951.64 149.685 L1951.64 164.338 L1947.36 164.338 L1947.36 138.412 L1951.64 138.412 L1951.64 142.44 Q1953.1 140.055 1955.14 138.921 Q1957.17 137.787 1959.98 137.787 Q1962.8 137.787 1964.77 139.222 Q1966.76 140.657 1967.71 143.389 Z\" fill=\"#000000\" fill-rule=\"evenodd\" fill-opacity=\"1\" /><path clip-path=\"url(#clip310)\" d=\"M2005.48 151.305 Q2000.32 151.305 1998.33 152.486 Q1996.34 153.666 1996.34 156.514 Q1996.34 158.782 1997.82 160.125 Q1999.33 161.444 2001.9 161.444 Q2005.44 161.444 2007.57 158.944 Q2009.72 156.421 2009.72 152.254 L2009.72 151.305 L2005.48 151.305 M2013.98 149.546 L2013.98 164.338 L2009.72 164.338 L2009.72 160.402 Q2008.26 162.763 2006.09 163.898 Q2003.91 165.009 2000.76 165.009 Q1996.78 165.009 1994.42 162.787 Q1992.08 160.541 1992.08 156.791 Q1992.08 152.416 1995 150.194 Q1997.94 147.972 2003.75 147.972 L2009.72 147.972 L2009.72 147.555 Q2009.72 144.615 2007.78 143.018 Q2005.86 141.398 2002.36 141.398 Q2000.14 141.398 1998.03 141.93 Q1995.92 142.463 1993.98 143.527 L1993.98 139.592 Q1996.32 138.69 1998.52 138.25 Q2000.72 137.787 2002.8 137.787 Q2008.42 137.787 2011.2 140.703 Q2013.98 143.62 2013.98 149.546 Z\" fill=\"#000000\" fill-rule=\"evenodd\" fill-opacity=\"1\" /><path clip-path=\"url(#clip310)\" d=\"M2042.94 143.389 Q2044.54 140.518 2046.76 139.153 Q2048.98 137.787 2051.99 137.787 Q2056.04 137.787 2058.24 140.634 Q2060.44 143.458 2060.44 148.689 L2060.44 164.338 L2056.16 164.338 L2056.16 148.828 Q2056.16 145.102 2054.84 143.296 Q2053.52 141.49 2050.81 141.49 Q2047.5 141.49 2045.58 143.69 Q2043.66 145.889 2043.66 149.685 L2043.66 164.338 L2039.37 164.338 L2039.37 148.828 Q2039.37 145.078 2038.05 143.296 Q2036.73 141.49 2033.98 141.49 Q2030.72 141.49 2028.79 143.713 Q2026.87 145.912 2026.87 149.685 L2026.87 164.338 L2022.59 164.338 L2022.59 138.412 L2026.87 138.412 L2026.87 142.44 Q2028.33 140.055 2030.37 138.921 Q2032.41 137.787 2035.21 137.787 Q2038.03 137.787 2040 139.222 Q2041.99 140.657 2042.94 143.389 Z\" fill=\"#000000\" fill-rule=\"evenodd\" fill-opacity=\"1\" /><path clip-path=\"url(#clip310)\" d=\"M2089.12 143.389 Q2090.72 140.518 2092.94 139.153 Q2095.16 137.787 2098.17 137.787 Q2102.22 137.787 2104.42 140.634 Q2106.62 143.458 2106.62 148.689 L2106.62 164.338 L2102.34 164.338 L2102.34 148.828 Q2102.34 145.102 2101.02 143.296 Q2099.7 141.49 2096.99 141.49 Q2093.68 141.49 2091.76 143.69 Q2089.84 145.889 2089.84 149.685 L2089.84 164.338 L2085.55 164.338 L2085.55 148.828 Q2085.55 145.078 2084.23 143.296 Q2082.91 141.49 2080.16 141.49 Q2076.9 141.49 2074.98 143.713 Q2073.05 145.912 2073.05 149.685 L2073.05 164.338 L2068.77 164.338 L2068.77 138.412 L2073.05 138.412 L2073.05 142.44 Q2074.51 140.055 2076.55 138.921 Q2078.59 137.787 2081.39 137.787 Q2084.21 137.787 2086.18 139.222 Q2088.17 140.657 2089.12 143.389 Z\" fill=\"#000000\" fill-rule=\"evenodd\" fill-opacity=\"1\" /><path clip-path=\"url(#clip310)\" d=\"M2126.9 151.305 Q2121.73 151.305 2119.74 152.486 Q2117.75 153.666 2117.75 156.514 Q2117.75 158.782 2119.23 160.125 Q2120.74 161.444 2123.31 161.444 Q2126.85 161.444 2128.98 158.944 Q2131.13 156.421 2131.13 152.254 L2131.13 151.305 L2126.9 151.305 M2135.39 149.546 L2135.39 164.338 L2131.13 164.338 L2131.13 160.402 Q2129.67 162.763 2127.5 163.898 Q2125.32 165.009 2122.17 165.009 Q2118.19 165.009 2115.83 162.787 Q2113.49 160.541 2113.49 156.791 Q2113.49 152.416 2116.41 150.194 Q2119.35 147.972 2125.16 147.972 L2131.13 147.972 L2131.13 147.555 Q2131.13 144.615 2129.19 143.018 Q2127.27 141.398 2123.77 141.398 Q2121.55 141.398 2119.44 141.93 Q2117.34 142.463 2115.39 143.527 L2115.39 139.592 Q2117.73 138.69 2119.93 138.25 Q2122.13 137.787 2124.21 137.787 Q2129.84 137.787 2132.61 140.703 Q2135.39 143.62 2135.39 149.546 Z\" fill=\"#000000\" fill-rule=\"evenodd\" fill-opacity=\"1\" /><path clip-path=\"url(#clip310)\" d=\"M2144.16 128.319 L2148.42 128.319 L2148.42 164.338 L2144.16 164.338 L2144.16 128.319 Z\" fill=\"#000000\" fill-rule=\"evenodd\" fill-opacity=\"1\" /><circle clip-path=\"url(#clip310)\" cx=\"1852.71\" cy=\"198.898\" r=\"23.04\" fill=\"#ffa500\" fill-rule=\"evenodd\" fill-opacity=\"1\" stroke=\"#000000\" stroke-opacity=\"1\" stroke-width=\"5.12\"/>\n<path clip-path=\"url(#clip310)\" d=\"M1966.13 203.238 Q1966.13 198.539 1964.19 195.877 Q1962.27 193.192 1958.89 193.192 Q1955.51 193.192 1953.56 195.877 Q1951.64 198.539 1951.64 203.238 Q1951.64 207.937 1953.56 210.622 Q1955.51 213.284 1958.89 213.284 Q1962.27 213.284 1964.19 210.622 Q1966.13 207.937 1966.13 203.238 M1951.64 194.187 Q1952.99 191.872 1955.02 190.761 Q1957.08 189.627 1959.93 189.627 Q1964.65 189.627 1967.59 193.377 Q1970.55 197.127 1970.55 203.238 Q1970.55 209.349 1967.59 213.099 Q1964.65 216.849 1959.93 216.849 Q1957.08 216.849 1955.02 215.738 Q1952.99 214.603 1951.64 212.289 L1951.64 216.178 L1947.36 216.178 L1947.36 180.159 L1951.64 180.159 L1951.64 194.187 Z\" fill=\"#000000\" fill-rule=\"evenodd\" fill-opacity=\"1\" /><path clip-path=\"url(#clip310)\" d=\"M1977.61 190.252 L1981.87 190.252 L1981.87 216.178 L1977.61 216.178 L1977.61 190.252 M1977.61 180.159 L1981.87 180.159 L1981.87 185.553 L1977.61 185.553 L1977.61 180.159 Z\" fill=\"#000000\" fill-rule=\"evenodd\" fill-opacity=\"1\" /><path clip-path=\"url(#clip310)\" d=\"M2005.81 194.233 Q2005.09 193.817 2004.23 193.631 Q2003.4 193.423 2002.38 193.423 Q1998.77 193.423 1996.83 195.784 Q1994.91 198.122 1994.91 202.52 L1994.91 216.178 L1990.62 216.178 L1990.62 190.252 L1994.91 190.252 L1994.91 194.28 Q1996.25 191.918 1998.4 190.784 Q2000.55 189.627 2003.63 189.627 Q2004.07 189.627 2004.61 189.696 Q2005.14 189.743 2005.79 189.858 L2005.81 194.233 Z\" fill=\"#000000\" fill-rule=\"evenodd\" fill-opacity=\"1\" /><path clip-path=\"url(#clip310)\" d=\"M2026.5 194.187 L2026.5 180.159 L2030.76 180.159 L2030.76 216.178 L2026.5 216.178 L2026.5 212.289 Q2025.16 214.603 2023.1 215.738 Q2021.06 216.849 2018.19 216.849 Q2013.49 216.849 2010.53 213.099 Q2007.59 209.349 2007.59 203.238 Q2007.59 197.127 2010.53 193.377 Q2013.49 189.627 2018.19 189.627 Q2021.06 189.627 2023.1 190.761 Q2025.16 191.872 2026.5 194.187 M2011.99 203.238 Q2011.99 207.937 2013.91 210.622 Q2015.86 213.284 2019.23 213.284 Q2022.61 213.284 2024.56 210.622 Q2026.5 207.937 2026.5 203.238 Q2026.5 198.539 2024.56 195.877 Q2022.61 193.192 2019.23 193.192 Q2015.86 193.192 2013.91 195.877 Q2011.99 198.539 2011.99 203.238 Z\" fill=\"#000000\" fill-rule=\"evenodd\" fill-opacity=\"1\" /><circle clip-path=\"url(#clip310)\" cx=\"1852.71\" cy=\"250.738\" r=\"23.04\" fill=\"#0000ff\" fill-rule=\"evenodd\" fill-opacity=\"1\" stroke=\"#000000\" stroke-opacity=\"1\" stroke-width=\"5.12\"/>\n<path clip-path=\"url(#clip310)\" d=\"M1962.55 246.073 Q1961.83 245.657 1960.97 245.471 Q1960.14 245.263 1959.12 245.263 Q1955.51 245.263 1953.56 247.624 Q1951.64 249.962 1951.64 254.36 L1951.64 268.018 L1947.36 268.018 L1947.36 242.092 L1951.64 242.092 L1951.64 246.12 Q1952.99 243.758 1955.14 242.624 Q1957.29 241.467 1960.37 241.467 Q1960.81 241.467 1961.34 241.536 Q1961.87 241.583 1962.52 241.698 L1962.55 246.073 Z\" fill=\"#000000\" fill-rule=\"evenodd\" fill-opacity=\"1\" /><path clip-path=\"url(#clip310)\" d=\"M1988.15 253.99 L1988.15 256.073 L1968.56 256.073 Q1968.84 260.471 1971.2 262.786 Q1973.59 265.078 1977.82 265.078 Q1980.28 265.078 1982.57 264.476 Q1984.88 263.874 1987.15 262.67 L1987.15 266.698 Q1984.86 267.67 1982.45 268.18 Q1980.05 268.689 1977.57 268.689 Q1971.36 268.689 1967.73 265.078 Q1964.12 261.467 1964.12 255.309 Q1964.12 248.944 1967.55 245.217 Q1970.99 241.467 1976.83 241.467 Q1982.06 241.467 1985.09 244.846 Q1988.15 248.203 1988.15 253.99 M1983.89 252.74 Q1983.84 249.245 1981.92 247.161 Q1980.02 245.078 1976.87 245.078 Q1973.31 245.078 1971.16 247.092 Q1969.03 249.106 1968.7 252.763 L1983.89 252.74 Z\" fill=\"#000000\" fill-rule=\"evenodd\" fill-opacity=\"1\" /><path clip-path=\"url(#clip310)\" d=\"M1999.26 264.129 L1999.26 277.879 L1994.98 277.879 L1994.98 242.092 L1999.26 242.092 L1999.26 246.027 Q2000.6 243.712 2002.64 242.601 Q2004.7 241.467 2007.54 241.467 Q2012.27 241.467 2015.21 245.217 Q2018.17 248.967 2018.17 255.078 Q2018.17 261.189 2015.21 264.939 Q2012.27 268.689 2007.54 268.689 Q2004.7 268.689 2002.64 267.578 Q2000.6 266.443 1999.26 264.129 M2013.75 255.078 Q2013.75 250.379 2011.8 247.717 Q2009.88 245.032 2006.5 245.032 Q2003.12 245.032 2001.18 247.717 Q1999.26 250.379 1999.26 255.078 Q1999.26 259.777 2001.18 262.462 Q2003.12 265.124 2006.5 265.124 Q2009.88 265.124 2011.8 262.462 Q2013.75 259.777 2013.75 255.078 Z\" fill=\"#000000\" fill-rule=\"evenodd\" fill-opacity=\"1\" /><path clip-path=\"url(#clip310)\" d=\"M2029.44 234.731 L2029.44 242.092 L2038.22 242.092 L2038.22 245.402 L2029.44 245.402 L2029.44 259.476 Q2029.44 262.647 2030.3 263.55 Q2031.18 264.453 2033.84 264.453 L2038.22 264.453 L2038.22 268.018 L2033.84 268.018 Q2028.91 268.018 2027.04 266.189 Q2025.16 264.337 2025.16 259.476 L2025.16 245.402 L2022.04 245.402 L2022.04 242.092 L2025.16 242.092 L2025.16 234.731 L2029.44 234.731 Z\" fill=\"#000000\" fill-rule=\"evenodd\" fill-opacity=\"1\" /><path clip-path=\"url(#clip310)\" d=\"M2043.82 242.092 L2048.08 242.092 L2048.08 268.018 L2043.82 268.018 L2043.82 242.092 M2043.82 231.999 L2048.08 231.999 L2048.08 237.393 L2043.82 237.393 L2043.82 231.999 Z\" fill=\"#000000\" fill-rule=\"evenodd\" fill-opacity=\"1\" /><path clip-path=\"url(#clip310)\" d=\"M2056.99 231.999 L2061.25 231.999 L2061.25 268.018 L2056.99 268.018 L2056.99 231.999 Z\" fill=\"#000000\" fill-rule=\"evenodd\" fill-opacity=\"1\" /><path clip-path=\"url(#clip310)\" d=\"M2092.34 253.99 L2092.34 256.073 L2072.75 256.073 Q2073.03 260.471 2075.39 262.786 Q2077.78 265.078 2082.01 265.078 Q2084.47 265.078 2086.76 264.476 Q2089.07 263.874 2091.34 262.67 L2091.34 266.698 Q2089.05 267.67 2086.64 268.18 Q2084.23 268.689 2081.76 268.689 Q2075.55 268.689 2071.92 265.078 Q2068.31 261.467 2068.31 255.309 Q2068.31 248.944 2071.73 245.217 Q2075.18 241.467 2081.02 241.467 Q2086.25 241.467 2089.28 244.846 Q2092.34 248.203 2092.34 253.99 M2088.08 252.74 Q2088.03 249.245 2086.11 247.161 Q2084.21 245.078 2081.06 245.078 Q2077.5 245.078 2075.35 247.092 Q2073.22 249.106 2072.89 252.763 L2088.08 252.74 Z\" fill=\"#000000\" fill-rule=\"evenodd\" fill-opacity=\"1\" /><circle clip-path=\"url(#clip310)\" cx=\"1852.71\" cy=\"302.578\" r=\"23.04\" fill=\"#ff0000\" fill-rule=\"evenodd\" fill-opacity=\"1\" stroke=\"#000000\" stroke-opacity=\"1\" stroke-width=\"5.12\"/>\n<path clip-path=\"url(#clip310)\" d=\"M1963.86 283.839 L1963.86 287.381 L1959.79 287.381 Q1957.5 287.381 1956.6 288.307 Q1955.72 289.233 1955.72 291.64 L1955.72 293.932 L1962.73 293.932 L1962.73 297.242 L1955.72 297.242 L1955.72 319.858 L1951.43 319.858 L1951.43 297.242 L1947.36 297.242 L1947.36 293.932 L1951.43 293.932 L1951.43 292.126 Q1951.43 287.798 1953.45 285.83 Q1955.46 283.839 1959.84 283.839 L1963.86 283.839 Z\" fill=\"#000000\" fill-rule=\"evenodd\" fill-opacity=\"1\" /><path clip-path=\"url(#clip310)\" d=\"M1967.43 293.932 L1971.69 293.932 L1971.69 319.858 L1967.43 319.858 L1967.43 293.932 M1967.43 283.839 L1971.69 283.839 L1971.69 289.233 L1967.43 289.233 L1967.43 283.839 Z\" fill=\"#000000\" fill-rule=\"evenodd\" fill-opacity=\"1\" /><path clip-path=\"url(#clip310)\" d=\"M1997.13 294.696 L1997.13 298.723 Q1995.32 297.797 1993.38 297.335 Q1991.43 296.872 1989.35 296.872 Q1986.18 296.872 1984.58 297.844 Q1983.01 298.816 1983.01 300.76 Q1983.01 302.242 1984.14 303.098 Q1985.28 303.932 1988.7 304.696 L1990.16 305.02 Q1994.7 305.992 1996.6 307.774 Q1998.52 309.534 1998.52 312.705 Q1998.52 316.316 1995.65 318.422 Q1992.8 320.529 1987.8 320.529 Q1985.72 320.529 1983.45 320.112 Q1981.2 319.719 1978.7 318.908 L1978.7 314.51 Q1981.06 315.737 1983.36 316.362 Q1985.65 316.964 1987.89 316.964 Q1990.9 316.964 1992.52 315.946 Q1994.14 314.904 1994.14 313.029 Q1994.14 311.293 1992.96 310.367 Q1991.8 309.441 1987.85 308.584 L1986.36 308.237 Q1982.41 307.404 1980.65 305.691 Q1978.89 303.955 1978.89 300.946 Q1978.89 297.288 1981.48 295.298 Q1984.07 293.307 1988.84 293.307 Q1991.2 293.307 1993.29 293.654 Q1995.37 294.001 1997.13 294.696 Z\" fill=\"#000000\" fill-rule=\"evenodd\" fill-opacity=\"1\" /><path clip-path=\"url(#clip310)\" d=\"M2026.85 304.209 L2026.85 319.858 L2022.59 319.858 L2022.59 304.348 Q2022.59 300.668 2021.16 298.839 Q2019.72 297.01 2016.85 297.01 Q2013.4 297.01 2011.41 299.21 Q2009.42 301.409 2009.42 305.205 L2009.42 319.858 L2005.14 319.858 L2005.14 283.839 L2009.42 283.839 L2009.42 297.96 Q2010.95 295.622 2013.01 294.464 Q2015.09 293.307 2017.8 293.307 Q2022.27 293.307 2024.56 296.085 Q2026.85 298.839 2026.85 304.209 Z\" fill=\"#000000\" fill-rule=\"evenodd\" fill-opacity=\"1\" /><circle clip-path=\"url(#clip310)\" cx=\"1852.71\" cy=\"354.418\" r=\"23.04\" fill=\"#ffff00\" fill-rule=\"evenodd\" fill-opacity=\"1\" stroke=\"#000000\" stroke-opacity=\"1\" stroke-width=\"5.12\"/>\n<path clip-path=\"url(#clip310)\" d=\"M1960.76 358.665 Q1955.6 358.665 1953.61 359.846 Q1951.62 361.026 1951.62 363.874 Q1951.62 366.142 1953.1 367.485 Q1954.61 368.804 1957.17 368.804 Q1960.72 368.804 1962.85 366.304 Q1965 363.781 1965 359.614 L1965 358.665 L1960.76 358.665 M1969.26 356.906 L1969.26 371.698 L1965 371.698 L1965 367.762 Q1963.54 370.123 1961.36 371.258 Q1959.19 372.369 1956.04 372.369 Q1952.06 372.369 1949.7 370.147 Q1947.36 367.901 1947.36 364.151 Q1947.36 359.776 1950.28 357.554 Q1953.22 355.332 1959.03 355.332 L1965 355.332 L1965 354.915 Q1965 351.975 1963.05 350.378 Q1961.13 348.758 1957.64 348.758 Q1955.42 348.758 1953.31 349.29 Q1951.2 349.823 1949.26 350.887 L1949.26 346.952 Q1951.6 346.05 1953.8 345.61 Q1955.99 345.147 1958.08 345.147 Q1963.7 345.147 1966.48 348.063 Q1969.26 350.98 1969.26 356.906 Z\" fill=\"#000000\" fill-rule=\"evenodd\" fill-opacity=\"1\" /><path clip-path=\"url(#clip310)\" d=\"M1998.22 350.749 Q1999.81 347.878 2002.04 346.513 Q2004.26 345.147 2007.27 345.147 Q2011.32 345.147 2013.52 347.994 Q2015.72 350.818 2015.72 356.049 L2015.72 371.698 L2011.43 371.698 L2011.43 356.188 Q2011.43 352.462 2010.11 350.656 Q2008.79 348.85 2006.09 348.85 Q2002.78 348.85 2000.86 351.05 Q1998.93 353.249 1998.93 357.045 L1998.93 371.698 L1994.65 371.698 L1994.65 356.188 Q1994.65 352.438 1993.33 350.656 Q1992.01 348.85 1989.26 348.85 Q1985.99 348.85 1984.07 351.073 Q1982.15 353.272 1982.15 357.045 L1982.15 371.698 L1977.87 371.698 L1977.87 345.772 L1982.15 345.772 L1982.15 349.8 Q1983.61 347.415 1985.65 346.281 Q1987.68 345.147 1990.48 345.147 Q1993.31 345.147 1995.28 346.582 Q1997.27 348.017 1998.22 350.749 Z\" fill=\"#000000\" fill-rule=\"evenodd\" fill-opacity=\"1\" /><path clip-path=\"url(#clip310)\" d=\"M2028.33 367.809 L2028.33 381.559 L2024.05 381.559 L2024.05 345.772 L2028.33 345.772 L2028.33 349.707 Q2029.67 347.392 2031.71 346.281 Q2033.77 345.147 2036.62 345.147 Q2041.34 345.147 2044.28 348.897 Q2047.24 352.647 2047.24 358.758 Q2047.24 364.869 2044.28 368.619 Q2041.34 372.369 2036.62 372.369 Q2033.77 372.369 2031.71 371.258 Q2029.67 370.123 2028.33 367.809 M2042.82 358.758 Q2042.82 354.059 2040.88 351.397 Q2038.96 348.712 2035.58 348.712 Q2032.2 348.712 2030.25 351.397 Q2028.33 354.059 2028.33 358.758 Q2028.33 363.457 2030.25 366.142 Q2032.2 368.804 2035.58 368.804 Q2038.96 368.804 2040.88 366.142 Q2042.82 363.457 2042.82 358.758 Z\" fill=\"#000000\" fill-rule=\"evenodd\" fill-opacity=\"1\" /><path clip-path=\"url(#clip310)\" d=\"M2075.85 356.049 L2075.85 371.698 L2071.6 371.698 L2071.6 356.188 Q2071.6 352.508 2070.16 350.679 Q2068.73 348.85 2065.85 348.85 Q2062.41 348.85 2060.41 351.05 Q2058.42 353.249 2058.42 357.045 L2058.42 371.698 L2054.14 371.698 L2054.14 335.679 L2058.42 335.679 L2058.42 349.8 Q2059.95 347.462 2062.01 346.304 Q2064.1 345.147 2066.8 345.147 Q2071.27 345.147 2073.56 347.925 Q2075.85 350.679 2075.85 356.049 Z\" fill=\"#000000\" fill-rule=\"evenodd\" fill-opacity=\"1\" /><path clip-path=\"url(#clip310)\" d=\"M2084.35 345.772 L2088.61 345.772 L2088.61 371.698 L2084.35 371.698 L2084.35 345.772 M2084.35 335.679 L2088.61 335.679 L2088.61 341.073 L2084.35 341.073 L2084.35 335.679 Z\" fill=\"#000000\" fill-rule=\"evenodd\" fill-opacity=\"1\" /><path clip-path=\"url(#clip310)\" d=\"M2116.13 358.758 Q2116.13 354.059 2114.19 351.397 Q2112.27 348.712 2108.89 348.712 Q2105.51 348.712 2103.56 351.397 Q2101.64 354.059 2101.64 358.758 Q2101.64 363.457 2103.56 366.142 Q2105.51 368.804 2108.89 368.804 Q2112.27 368.804 2114.19 366.142 Q2116.13 363.457 2116.13 358.758 M2101.64 349.707 Q2102.98 347.392 2105.02 346.281 Q2107.08 345.147 2109.93 345.147 Q2114.65 345.147 2117.59 348.897 Q2120.55 352.647 2120.55 358.758 Q2120.55 364.869 2117.59 368.619 Q2114.65 372.369 2109.93 372.369 Q2107.08 372.369 2105.02 371.258 Q2102.98 370.123 2101.64 367.809 L2101.64 371.698 L2097.36 371.698 L2097.36 335.679 L2101.64 335.679 L2101.64 349.707 Z\" fill=\"#000000\" fill-rule=\"evenodd\" fill-opacity=\"1\" /><path clip-path=\"url(#clip310)\" d=\"M2127.61 345.772 L2131.87 345.772 L2131.87 371.698 L2127.61 371.698 L2127.61 345.772 M2127.61 335.679 L2131.87 335.679 L2131.87 341.073 L2127.61 341.073 L2127.61 335.679 Z\" fill=\"#000000\" fill-rule=\"evenodd\" fill-opacity=\"1\" /><path clip-path=\"url(#clip310)\" d=\"M2152.57 358.665 Q2147.41 358.665 2145.41 359.846 Q2143.42 361.026 2143.42 363.874 Q2143.42 366.142 2144.91 367.485 Q2146.41 368.804 2148.98 368.804 Q2152.52 368.804 2154.65 366.304 Q2156.8 363.781 2156.8 359.614 L2156.8 358.665 L2152.57 358.665 M2161.06 356.906 L2161.06 371.698 L2156.8 371.698 L2156.8 367.762 Q2155.35 370.123 2153.17 371.258 Q2150.99 372.369 2147.85 372.369 Q2143.86 372.369 2141.5 370.147 Q2139.16 367.901 2139.16 364.151 Q2139.16 359.776 2142.08 357.554 Q2145.02 355.332 2150.83 355.332 L2156.8 355.332 L2156.8 354.915 Q2156.8 351.975 2154.86 350.378 Q2152.94 348.758 2149.44 348.758 Q2147.22 348.758 2145.11 349.29 Q2143.01 349.823 2141.06 350.887 L2141.06 346.952 Q2143.4 346.05 2145.6 345.61 Q2147.8 345.147 2149.88 345.147 Q2155.51 345.147 2158.28 348.063 Q2161.06 350.98 2161.06 356.906 Z\" fill=\"#000000\" fill-rule=\"evenodd\" fill-opacity=\"1\" /><path clip-path=\"url(#clip310)\" d=\"M2191.39 356.049 L2191.39 371.698 L2187.13 371.698 L2187.13 356.188 Q2187.13 352.508 2185.69 350.679 Q2184.26 348.85 2181.39 348.85 Q2177.94 348.85 2175.95 351.05 Q2173.96 353.249 2173.96 357.045 L2173.96 371.698 L2169.67 371.698 L2169.67 345.772 L2173.96 345.772 L2173.96 349.8 Q2175.48 347.462 2177.54 346.304 Q2179.63 345.147 2182.34 345.147 Q2186.8 345.147 2189.09 347.925 Q2191.39 350.679 2191.39 356.049 Z\" fill=\"#000000\" fill-rule=\"evenodd\" fill-opacity=\"1\" /><circle clip-path=\"url(#clip310)\" cx=\"1852.71\" cy=\"406.258\" r=\"23.04\" fill=\"#800080\" fill-rule=\"evenodd\" fill-opacity=\"1\" stroke=\"#000000\" stroke-opacity=\"1\" stroke-width=\"5.12\"/>\n<path clip-path=\"url(#clip310)\" d=\"M1966.13 410.598 Q1966.13 405.899 1964.19 403.237 Q1962.27 400.552 1958.89 400.552 Q1955.51 400.552 1953.56 403.237 Q1951.64 405.899 1951.64 410.598 Q1951.64 415.297 1953.56 417.982 Q1955.51 420.644 1958.89 420.644 Q1962.27 420.644 1964.19 417.982 Q1966.13 415.297 1966.13 410.598 M1951.64 401.547 Q1952.99 399.232 1955.02 398.121 Q1957.08 396.987 1959.93 396.987 Q1964.65 396.987 1967.59 400.737 Q1970.55 404.487 1970.55 410.598 Q1970.55 416.709 1967.59 420.459 Q1964.65 424.209 1959.93 424.209 Q1957.08 424.209 1955.02 423.098 Q1952.99 421.963 1951.64 419.649 L1951.64 423.538 L1947.36 423.538 L1947.36 387.519 L1951.64 387.519 L1951.64 401.547 Z\" fill=\"#000000\" fill-rule=\"evenodd\" fill-opacity=\"1\" /><path clip-path=\"url(#clip310)\" d=\"M1977.17 413.306 L1977.17 397.612 L1981.43 397.612 L1981.43 413.144 Q1981.43 416.825 1982.87 418.676 Q1984.3 420.505 1987.17 420.505 Q1990.62 420.505 1992.61 418.306 Q1994.63 416.107 1994.63 412.311 L1994.63 397.612 L1998.89 397.612 L1998.89 423.538 L1994.63 423.538 L1994.63 419.556 Q1993.08 421.917 1991.02 423.075 Q1988.98 424.209 1986.27 424.209 Q1981.8 424.209 1979.49 421.431 Q1977.17 418.653 1977.17 413.306 M1987.89 396.987 L1987.89 396.987 Z\" fill=\"#000000\" fill-rule=\"evenodd\" fill-opacity=\"1\" /><path clip-path=\"url(#clip310)\" d=\"M2024.72 410.274 Q2024.72 405.644 2022.8 403.098 Q2020.9 400.552 2017.45 400.552 Q2014.03 400.552 2012.11 403.098 Q2010.21 405.644 2010.21 410.274 Q2010.21 414.88 2012.11 417.426 Q2014.03 419.973 2017.45 419.973 Q2020.9 419.973 2022.8 417.426 Q2024.72 414.88 2024.72 410.274 M2028.98 420.32 Q2028.98 426.94 2026.04 430.158 Q2023.1 433.399 2017.04 433.399 Q2014.79 433.399 2012.8 433.051 Q2010.81 432.727 2008.93 432.033 L2008.93 427.889 Q2010.81 428.908 2012.64 429.394 Q2014.47 429.88 2016.36 429.88 Q2020.55 429.88 2022.64 427.681 Q2024.72 425.505 2024.72 421.084 L2024.72 418.977 Q2023.4 421.269 2021.34 422.403 Q2019.28 423.538 2016.41 423.538 Q2011.64 423.538 2008.73 419.903 Q2005.81 416.269 2005.81 410.274 Q2005.81 404.255 2008.73 400.621 Q2011.64 396.987 2016.41 396.987 Q2019.28 396.987 2021.34 398.121 Q2023.4 399.255 2024.72 401.547 L2024.72 397.612 L2028.98 397.612 L2028.98 420.32 Z\" fill=\"#000000\" fill-rule=\"evenodd\" fill-opacity=\"1\" /><circle clip-path=\"url(#clip310)\" cx=\"1852.71\" cy=\"458.098\" r=\"23.04\" fill=\"#000000\" fill-rule=\"evenodd\" fill-opacity=\"1\" stroke=\"none\"/>\n<path clip-path=\"url(#clip310)\" d=\"M1947.36 449.452 L1951.62 449.452 L1951.62 475.378 L1947.36 475.378 L1947.36 449.452 M1947.36 439.359 L1951.62 439.359 L1951.62 444.753 L1947.36 444.753 L1947.36 439.359 Z\" fill=\"#000000\" fill-rule=\"evenodd\" fill-opacity=\"1\" /><path clip-path=\"url(#clip310)\" d=\"M1982.08 459.729 L1982.08 475.378 L1977.82 475.378 L1977.82 459.868 Q1977.82 456.188 1976.39 454.359 Q1974.95 452.53 1972.08 452.53 Q1968.63 452.53 1966.64 454.73 Q1964.65 456.929 1964.65 460.725 L1964.65 475.378 L1960.37 475.378 L1960.37 449.452 L1964.65 449.452 L1964.65 453.48 Q1966.18 451.142 1968.24 449.984 Q1970.32 448.827 1973.03 448.827 Q1977.5 448.827 1979.79 451.605 Q1982.08 454.359 1982.08 459.729 Z\" fill=\"#000000\" fill-rule=\"evenodd\" fill-opacity=\"1\" /><path clip-path=\"url(#clip310)\" d=\"M1987.52 449.452 L1992.04 449.452 L2000.14 471.211 L2008.24 449.452 L2012.75 449.452 L2003.03 475.378 L1997.24 475.378 L1987.52 449.452 Z\" fill=\"#000000\" fill-rule=\"evenodd\" fill-opacity=\"1\" /><path clip-path=\"url(#clip310)\" d=\"M2040.81 461.35 L2040.81 463.433 L2021.23 463.433 Q2021.5 467.831 2023.86 470.146 Q2026.25 472.438 2030.48 472.438 Q2032.94 472.438 2035.23 471.836 Q2037.54 471.234 2039.81 470.03 L2039.81 474.058 Q2037.52 475.03 2035.11 475.54 Q2032.71 476.049 2030.23 476.049 Q2024.03 476.049 2020.39 472.438 Q2016.78 468.827 2016.78 462.669 Q2016.78 456.304 2020.21 452.577 Q2023.66 448.827 2029.49 448.827 Q2034.72 448.827 2037.75 452.206 Q2040.81 455.563 2040.81 461.35 M2036.55 460.1 Q2036.5 456.605 2034.58 454.521 Q2032.68 452.438 2029.54 452.438 Q2025.97 452.438 2023.82 454.452 Q2021.69 456.466 2021.36 460.123 L2036.55 460.1 Z\" fill=\"#000000\" fill-rule=\"evenodd\" fill-opacity=\"1\" /><path clip-path=\"url(#clip310)\" d=\"M2062.82 453.433 Q2062.1 453.017 2061.25 452.831 Q2060.41 452.623 2059.4 452.623 Q2055.79 452.623 2053.84 454.984 Q2051.92 457.322 2051.92 461.72 L2051.92 475.378 L2047.64 475.378 L2047.64 449.452 L2051.92 449.452 L2051.92 453.48 Q2053.26 451.118 2055.42 449.984 Q2057.57 448.827 2060.65 448.827 Q2061.09 448.827 2061.62 448.896 Q2062.15 448.943 2062.8 449.058 L2062.82 453.433 Z\" fill=\"#000000\" fill-rule=\"evenodd\" fill-opacity=\"1\" /><path clip-path=\"url(#clip310)\" d=\"M2071.5 442.091 L2071.5 449.452 L2080.28 449.452 L2080.28 452.762 L2071.5 452.762 L2071.5 466.836 Q2071.5 470.007 2072.36 470.91 Q2073.24 471.813 2075.9 471.813 L2080.28 471.813 L2080.28 475.378 L2075.9 475.378 Q2070.97 475.378 2069.1 473.549 Q2067.22 471.697 2067.22 466.836 L2067.22 452.762 L2064.1 452.762 L2064.1 449.452 L2067.22 449.452 L2067.22 442.091 L2071.5 442.091 Z\" fill=\"#000000\" fill-rule=\"evenodd\" fill-opacity=\"1\" /><path clip-path=\"url(#clip310)\" d=\"M2108.05 461.35 L2108.05 463.433 L2088.47 463.433 Q2088.75 467.831 2091.11 470.146 Q2093.49 472.438 2097.73 472.438 Q2100.18 472.438 2102.47 471.836 Q2104.79 471.234 2107.06 470.03 L2107.06 474.058 Q2104.77 475.03 2102.36 475.54 Q2099.95 476.049 2097.47 476.049 Q2091.27 476.049 2087.64 472.438 Q2084.03 468.827 2084.03 462.669 Q2084.03 456.304 2087.45 452.577 Q2090.9 448.827 2096.73 448.827 Q2101.97 448.827 2105 452.206 Q2108.05 455.563 2108.05 461.35 M2103.79 460.1 Q2103.75 456.605 2101.83 454.521 Q2099.93 452.438 2096.78 452.438 Q2093.22 452.438 2091.06 454.452 Q2088.93 456.466 2088.61 460.123 L2103.79 460.1 Z\" fill=\"#000000\" fill-rule=\"evenodd\" fill-opacity=\"1\" /><path clip-path=\"url(#clip310)\" d=\"M2133.66 462.438 Q2133.66 457.739 2131.71 455.077 Q2129.79 452.392 2126.41 452.392 Q2123.03 452.392 2121.09 455.077 Q2119.16 457.739 2119.16 462.438 Q2119.16 467.137 2121.09 469.822 Q2123.03 472.484 2126.41 472.484 Q2129.79 472.484 2131.71 469.822 Q2133.66 467.137 2133.66 462.438 M2119.16 453.387 Q2120.51 451.072 2122.54 449.961 Q2124.6 448.827 2127.45 448.827 Q2132.17 448.827 2135.11 452.577 Q2138.08 456.327 2138.08 462.438 Q2138.08 468.549 2135.11 472.299 Q2132.17 476.049 2127.45 476.049 Q2124.6 476.049 2122.54 474.938 Q2120.51 473.803 2119.16 471.489 L2119.16 475.378 L2114.88 475.378 L2114.88 439.359 L2119.16 439.359 L2119.16 453.387 Z\" fill=\"#000000\" fill-rule=\"evenodd\" fill-opacity=\"1\" /><path clip-path=\"url(#clip310)\" d=\"M2160.16 453.433 Q2159.44 453.017 2158.59 452.831 Q2157.75 452.623 2156.73 452.623 Q2153.12 452.623 2151.18 454.984 Q2149.26 457.322 2149.26 461.72 L2149.26 475.378 L2144.97 475.378 L2144.97 449.452 L2149.26 449.452 L2149.26 453.48 Q2150.6 451.118 2152.75 449.984 Q2154.91 448.827 2157.98 448.827 Q2158.42 448.827 2158.96 448.896 Q2159.49 448.943 2160.14 449.058 L2160.16 453.433 Z\" fill=\"#000000\" fill-rule=\"evenodd\" fill-opacity=\"1\" /><path clip-path=\"url(#clip310)\" d=\"M2176.41 462.345 Q2171.25 462.345 2169.26 463.526 Q2167.27 464.706 2167.27 467.554 Q2167.27 469.822 2168.75 471.165 Q2170.25 472.484 2172.82 472.484 Q2176.36 472.484 2178.49 469.984 Q2180.65 467.461 2180.65 463.294 L2180.65 462.345 L2176.41 462.345 M2184.91 460.586 L2184.91 475.378 L2180.65 475.378 L2180.65 471.442 Q2179.19 473.803 2177.01 474.938 Q2174.84 476.049 2171.69 476.049 Q2167.71 476.049 2165.34 473.827 Q2163.01 471.581 2163.01 467.831 Q2163.01 463.456 2165.92 461.234 Q2168.86 459.012 2174.67 459.012 L2180.65 459.012 L2180.65 458.595 Q2180.65 455.655 2178.7 454.058 Q2176.78 452.438 2173.28 452.438 Q2171.06 452.438 2168.96 452.97 Q2166.85 453.503 2164.91 454.567 L2164.91 450.632 Q2167.24 449.73 2169.44 449.29 Q2171.64 448.827 2173.72 448.827 Q2179.35 448.827 2182.13 451.743 Q2184.91 454.66 2184.91 460.586 Z\" fill=\"#000000\" fill-rule=\"evenodd\" fill-opacity=\"1\" /><path clip-path=\"url(#clip310)\" d=\"M2197.89 442.091 L2197.89 449.452 L2206.66 449.452 L2206.66 452.762 L2197.89 452.762 L2197.89 466.836 Q2197.89 470.007 2198.75 470.91 Q2199.63 471.813 2202.29 471.813 L2206.66 471.813 L2206.66 475.378 L2202.29 475.378 Q2197.36 475.378 2195.48 473.549 Q2193.61 471.697 2193.61 466.836 L2193.61 452.762 L2190.48 452.762 L2190.48 449.452 L2193.61 449.452 L2193.61 442.091 L2197.89 442.091 Z\" fill=\"#000000\" fill-rule=\"evenodd\" fill-opacity=\"1\" /><path clip-path=\"url(#clip310)\" d=\"M2234.44 461.35 L2234.44 463.433 L2214.86 463.433 Q2215.14 467.831 2217.5 470.146 Q2219.88 472.438 2224.12 472.438 Q2226.57 472.438 2228.86 471.836 Q2231.18 471.234 2233.45 470.03 L2233.45 474.058 Q2231.15 475.03 2228.75 475.54 Q2226.34 476.049 2223.86 476.049 Q2217.66 476.049 2214.03 472.438 Q2210.41 468.827 2210.41 462.669 Q2210.41 456.304 2213.84 452.577 Q2217.29 448.827 2223.12 448.827 Q2228.35 448.827 2231.39 452.206 Q2234.44 455.563 2234.44 461.35 M2230.18 460.1 Q2230.14 456.605 2228.22 454.521 Q2226.32 452.438 2223.17 452.438 Q2219.6 452.438 2217.45 454.452 Q2215.32 456.466 2215 460.123 L2230.18 460.1 Z\" fill=\"#000000\" fill-rule=\"evenodd\" fill-opacity=\"1\" /></svg>\n"
     },
     "execution_count": 116,
     "metadata": {},
     "output_type": "execute_result"
    }
   ],
   "source": [
    "using Plots\n",
    "\n",
    "function plotter()\n",
    "    colors = [:green, :orange, :blue, :red, :yellow, :purple, :black]\n",
    "    labels = [\"mammal\", \"bird\", \"reptile\", \"fish\", \"amphibian\", \"bug\", \"invertebrate\"]\n",
    "    fig = Plots.plot()\n",
    "\n",
    "    for i in 1:7\n",
    "        scatter!(fig, (proj[i, 1], proj[i, 2]), label=labels[i], mc = colors[i])\n",
    "    end\n",
    "    return fig\n",
    "end\n",
    "\n",
    "plotter()"
   ]
  },
  {
   "cell_type": "markdown",
   "metadata": {},
   "source": [
    "This doesn't seem to make much sense at first. Mammals are apparently very similar to fish and birds to invertebrate. On top of that, only roughly 60 % of the variance in the data is explained by the two first principle components. Although it makes sense that reptiles and amphibians are relatively similar from an evolutionary standpoint. It is very likely however that this plot would look much better after implementing a higher variety of features into the data."
   ]
  },
  {
   "cell_type": "markdown",
   "metadata": {},
   "source": [
    "Now we will do an PCA analysis considering every animal seperately."
   ]
  },
  {
   "cell_type": "code",
   "execution_count": 115,
   "metadata": {},
   "outputs": [
    {
     "data": {
      "text/plain": [
       "PCA(indim = 101, outdim = 2, principalratio = 0.49872045814946014)\n",
       "\n",
       "Pattern matrix (unstandardized loadings):\n",
       "──────────────────────────\n",
       "          PC1          PC2\n",
       "──────────────────────────\n",
       "1    0.331013  -0.178924\n",
       "2    0.354288  -0.200972\n",
       "3    0.277149   0.147539\n",
       "4    0.327484  -0.179602\n",
       "5    0.418202  -0.21432\n",
       "6    0.353123  -0.204429\n",
       "7    0.370123  -0.218437\n",
       "8    0.247061   0.118633\n",
       "9    0.277322   0.142732\n",
       "10   0.304062  -0.18742\n",
       "11   0.418202  -0.21432\n",
       "12   0.257165   0.208365\n",
       "13   0.27373    0.148889\n",
       "14   0.149348   0.203299\n",
       "15   0.163483   0.116758\n",
       "16   0.121401   0.188434\n",
       "17   0.284867   0.233636\n",
       "18   0.358729  -0.198326\n",
       "19   0.31544    0.126624\n",
       "20   0.321868  -0.00939503\n",
       "21   0.253858   0.204404\n",
       "22   0.267328   0.243428\n",
       "23   0.357796  -0.203726\n",
       "24   0.276846   0.18768\n",
       "25   0.164869   0.170155\n",
       "26   0.319766   0.075991\n",
       "27   0.285555   0.0693302\n",
       "28   0.299238  -0.0478797\n",
       "29   0.356999  -0.201574\n",
       "30   0.318556  -0.101667\n",
       "31   0.144898   0.175136\n",
       "32   0.370123  -0.218437\n",
       "33   0.314112  -0.131094\n",
       "34   0.309617   0.273879\n",
       "35   0.275258   0.1476\n",
       "36   0.322871  -0.168158\n",
       "37   0.3692    -0.201578\n",
       "38   0.287499   0.22617\n",
       "39   0.276563   0.145223\n",
       "40   0.165981   0.102651\n",
       "41   0.187255   0.121646\n",
       "42   0.312576   0.216206\n",
       "43   0.19241    0.20306\n",
       "44   0.289308   0.254468\n",
       "45   0.418202  -0.21432\n",
       "46   0.418202  -0.21432\n",
       "47   0.123516   0.19143\n",
       "48   0.418202  -0.21432\n",
       "49   0.37595   -0.1344\n",
       "50   0.356214  -0.15041\n",
       "51   0.418202  -0.21432\n",
       "52   0.187255   0.121646\n",
       "53   0.337933   0.0764798\n",
       "54   0.161055   0.138629\n",
       "55   0.357028  -0.150479\n",
       "56   0.355078  -0.200622\n",
       "57   0.304946   0.162093\n",
       "58   0.254404   0.201166\n",
       "59   0.32547    0.198871\n",
       "60   0.289308   0.254468\n",
       "61   0.31544    0.126624\n",
       "62   0.272979   0.147471\n",
       "63   0.301096   0.10114\n",
       "64   0.354769  -0.0158933\n",
       "65   0.418202  -0.21432\n",
       "66   0.370123  -0.218437\n",
       "67   0.324246  -0.00799906\n",
       "68   0.418202  -0.21432\n",
       "69   0.363202  -0.174181\n",
       "70   0.418202  -0.21432\n",
       "71   0.370123  -0.218437\n",
       "72   0.298126   0.162288\n",
       "73   0.199569   0.0555325\n",
       "74   0.275258   0.1476\n",
       "75   0.300972  -0.0512798\n",
       "76   0.362591  -0.0473639\n",
       "77   0.257647   0.0673716\n",
       "78   0.146888   0.200219\n",
       "79   0.309617   0.273879\n",
       "80   0.309617   0.273879\n",
       "81   0.341364   0.117512\n",
       "82   0.182745   0.17656\n",
       "83   0.275258   0.1476\n",
       "84   0.289308   0.254468\n",
       "85   0.336103  -0.0948721\n",
       "86   0.124659   0.168962\n",
       "87   0.281619   0.110396\n",
       "88   0.300122   0.218968\n",
       "89   0.164869   0.170155\n",
       "90   0.271519   0.0517763\n",
       "91   0.299765   0.0243571\n",
       "92   0.364201   0.0479585\n",
       "93   0.31544    0.126624\n",
       "94   0.300655  -0.0403888\n",
       "95   0.3692    -0.201578\n",
       "96   0.320667   0.212193\n",
       "97   0.332017  -0.112138\n",
       "98   0.158213   0.10486\n",
       "99   0.418202  -0.21432\n",
       "100  0.182745   0.17656\n",
       "101  0.289308   0.254468\n",
       "──────────────────────────\n",
       "\n",
       "Importance of components:\n",
       "─────────────────────────────────────────────\n",
       "                                PC1       PC2\n",
       "─────────────────────────────────────────────\n",
       "SS Loadings (Eigenvalues)  9.5364    3.0556\n",
       "Variance explained         0.3777    0.12102\n",
       "Cumulative variance        0.3777    0.49872\n",
       "Proportion explained       0.757338  0.242662\n",
       "Cumulative proportion      0.757338  1.0\n",
       "─────────────────────────────────────────────"
      ]
     },
     "execution_count": 115,
     "metadata": {},
     "output_type": "execute_result"
    }
   ],
   "source": [
    "matrix_species = permutedims(hcat(hdv...))\n",
    "\n",
    "S = fit(PCA, matrix_species ; maxoutdim=2)\n",
    "projS = projection(S)\n",
    "S"
   ]
  },
  {
   "cell_type": "code",
   "execution_count": 107,
   "metadata": {},
   "outputs": [
    {
     "data": {
      "image/svg+xml": "<?xml version=\"1.0\" encoding=\"utf-8\"?>\n<svg xmlns=\"http://www.w3.org/2000/svg\" xmlns:xlink=\"http://www.w3.org/1999/xlink\" width=\"600\" height=\"400\" viewBox=\"0 0 2400 1600\">\n<defs>\n  <clipPath id=\"clip150\">\n    <rect x=\"0\" y=\"0\" width=\"2400\" height=\"1600\"/>\n  </clipPath>\n</defs>\n<path clip-path=\"url(#clip150)\" d=\"\nM0 1600 L2400 1600 L2400 0 L0 0  Z\n  \" fill=\"#ffffff\" fill-rule=\"evenodd\" fill-opacity=\"1\"/>\n<defs>\n  <clipPath id=\"clip151\">\n    <rect x=\"480\" y=\"0\" width=\"1681\" height=\"1600\"/>\n  </clipPath>\n</defs>\n<path clip-path=\"url(#clip150)\" d=\"\nM224.098 1486.45 L2352.76 1486.45 L2352.76 47.2441 L224.098 47.2441  Z\n  \" fill=\"#ffffff\" fill-rule=\"evenodd\" fill-opacity=\"1\"/>\n<defs>\n  <clipPath id=\"clip152\">\n    <rect x=\"224\" y=\"47\" width=\"2130\" height=\"1440\"/>\n  </clipPath>\n</defs>\n<polyline clip-path=\"url(#clip152)\" style=\"stroke:#000000; stroke-linecap:round; stroke-linejoin:round; stroke-width:2; stroke-opacity:0.1; fill:none\" points=\"\n  606.604,1486.45 606.604,47.2441 \n  \"/>\n<polyline clip-path=\"url(#clip152)\" style=\"stroke:#000000; stroke-linecap:round; stroke-linejoin:round; stroke-width:2; stroke-opacity:0.1; fill:none\" points=\"\n  1024.49,1486.45 1024.49,47.2441 \n  \"/>\n<polyline clip-path=\"url(#clip152)\" style=\"stroke:#000000; stroke-linecap:round; stroke-linejoin:round; stroke-width:2; stroke-opacity:0.1; fill:none\" points=\"\n  1442.38,1486.45 1442.38,47.2441 \n  \"/>\n<polyline clip-path=\"url(#clip152)\" style=\"stroke:#000000; stroke-linecap:round; stroke-linejoin:round; stroke-width:2; stroke-opacity:0.1; fill:none\" points=\"\n  1860.26,1486.45 1860.26,47.2441 \n  \"/>\n<polyline clip-path=\"url(#clip152)\" style=\"stroke:#000000; stroke-linecap:round; stroke-linejoin:round; stroke-width:2; stroke-opacity:0.1; fill:none\" points=\"\n  2278.15,1486.45 2278.15,47.2441 \n  \"/>\n<polyline clip-path=\"url(#clip150)\" style=\"stroke:#000000; stroke-linecap:round; stroke-linejoin:round; stroke-width:4; stroke-opacity:1; fill:none\" points=\"\n  224.098,1486.45 2352.76,1486.45 \n  \"/>\n<polyline clip-path=\"url(#clip150)\" style=\"stroke:#000000; stroke-linecap:round; stroke-linejoin:round; stroke-width:4; stroke-opacity:1; fill:none\" points=\"\n  606.604,1486.45 606.604,1467.55 \n  \"/>\n<polyline clip-path=\"url(#clip150)\" style=\"stroke:#000000; stroke-linecap:round; stroke-linejoin:round; stroke-width:4; stroke-opacity:1; fill:none\" points=\"\n  1024.49,1486.45 1024.49,1467.55 \n  \"/>\n<polyline clip-path=\"url(#clip150)\" style=\"stroke:#000000; stroke-linecap:round; stroke-linejoin:round; stroke-width:4; stroke-opacity:1; fill:none\" points=\"\n  1442.38,1486.45 1442.38,1467.55 \n  \"/>\n<polyline clip-path=\"url(#clip150)\" style=\"stroke:#000000; stroke-linecap:round; stroke-linejoin:round; stroke-width:4; stroke-opacity:1; fill:none\" points=\"\n  1860.26,1486.45 1860.26,1467.55 \n  \"/>\n<polyline clip-path=\"url(#clip150)\" style=\"stroke:#000000; stroke-linecap:round; stroke-linejoin:round; stroke-width:4; stroke-opacity:1; fill:none\" points=\"\n  2278.15,1486.45 2278.15,1467.55 \n  \"/>\n<path clip-path=\"url(#clip150)\" d=\"M538.85 1532.02 L568.526 1532.02 L568.526 1535.95 L538.85 1535.95 L538.85 1532.02 Z\" fill=\"#000000\" fill-rule=\"evenodd\" fill-opacity=\"1\" /><path clip-path=\"url(#clip150)\" d=\"M588.618 1517.37 Q585.007 1517.37 583.178 1520.93 Q581.373 1524.47 581.373 1531.6 Q581.373 1538.71 583.178 1542.27 Q585.007 1545.82 588.618 1545.82 Q592.252 1545.82 594.058 1542.27 Q595.887 1538.71 595.887 1531.6 Q595.887 1524.47 594.058 1520.93 Q592.252 1517.37 588.618 1517.37 M588.618 1513.66 Q594.428 1513.66 597.484 1518.27 Q600.563 1522.85 600.563 1531.6 Q600.563 1540.33 597.484 1544.94 Q594.428 1549.52 588.618 1549.52 Q582.808 1549.52 579.729 1544.94 Q576.674 1540.33 576.674 1531.6 Q576.674 1522.85 579.729 1518.27 Q582.808 1513.66 588.618 1513.66 Z\" fill=\"#000000\" fill-rule=\"evenodd\" fill-opacity=\"1\" /><path clip-path=\"url(#clip150)\" d=\"M608.78 1542.97 L613.664 1542.97 L613.664 1548.85 L608.78 1548.85 L608.78 1542.97 Z\" fill=\"#000000\" fill-rule=\"evenodd\" fill-opacity=\"1\" /><path clip-path=\"url(#clip150)\" d=\"M624.66 1544.91 L632.298 1544.91 L632.298 1518.55 L623.988 1520.21 L623.988 1515.95 L632.252 1514.29 L636.928 1514.29 L636.928 1544.91 L644.567 1544.91 L644.567 1548.85 L624.66 1548.85 L624.66 1544.91 Z\" fill=\"#000000\" fill-rule=\"evenodd\" fill-opacity=\"1\" /><path clip-path=\"url(#clip150)\" d=\"M658.039 1544.91 L674.358 1544.91 L674.358 1548.85 L652.414 1548.85 L652.414 1544.91 Q655.076 1542.16 659.659 1537.53 Q664.266 1532.88 665.446 1531.53 Q667.692 1529.01 668.571 1527.27 Q669.474 1525.51 669.474 1523.82 Q669.474 1521.07 667.53 1519.33 Q665.608 1517.6 662.507 1517.6 Q660.308 1517.6 657.854 1518.36 Q655.423 1519.13 652.646 1520.68 L652.646 1515.95 Q655.47 1514.82 657.923 1514.24 Q660.377 1513.66 662.414 1513.66 Q667.784 1513.66 670.979 1516.35 Q674.173 1519.03 674.173 1523.52 Q674.173 1525.65 673.363 1527.57 Q672.576 1529.47 670.47 1532.07 Q669.891 1532.74 666.789 1535.95 Q663.687 1539.15 658.039 1544.91 Z\" fill=\"#000000\" fill-rule=\"evenodd\" fill-opacity=\"1\" /><path clip-path=\"url(#clip150)\" d=\"M955.937 1532.02 L985.613 1532.02 L985.613 1535.95 L955.937 1535.95 L955.937 1532.02 Z\" fill=\"#000000\" fill-rule=\"evenodd\" fill-opacity=\"1\" /><path clip-path=\"url(#clip150)\" d=\"M1005.71 1517.37 Q1002.09 1517.37 1000.27 1520.93 Q998.46 1524.47 998.46 1531.6 Q998.46 1538.71 1000.27 1542.27 Q1002.09 1545.82 1005.71 1545.82 Q1009.34 1545.82 1011.15 1542.27 Q1012.97 1538.71 1012.97 1531.6 Q1012.97 1524.47 1011.15 1520.93 Q1009.34 1517.37 1005.71 1517.37 M1005.71 1513.66 Q1011.52 1513.66 1014.57 1518.27 Q1017.65 1522.85 1017.65 1531.6 Q1017.65 1540.33 1014.57 1544.94 Q1011.52 1549.52 1005.71 1549.52 Q999.895 1549.52 996.817 1544.94 Q993.761 1540.33 993.761 1531.6 Q993.761 1522.85 996.817 1518.27 Q999.895 1513.66 1005.71 1513.66 Z\" fill=\"#000000\" fill-rule=\"evenodd\" fill-opacity=\"1\" /><path clip-path=\"url(#clip150)\" d=\"M1025.87 1542.97 L1030.75 1542.97 L1030.75 1548.85 L1025.87 1548.85 L1025.87 1542.97 Z\" fill=\"#000000\" fill-rule=\"evenodd\" fill-opacity=\"1\" /><path clip-path=\"url(#clip150)\" d=\"M1041.75 1544.91 L1049.39 1544.91 L1049.39 1518.55 L1041.08 1520.21 L1041.08 1515.95 L1049.34 1514.29 L1054.02 1514.29 L1054.02 1544.91 L1061.65 1544.91 L1061.65 1548.85 L1041.75 1548.85 L1041.75 1544.91 Z\" fill=\"#000000\" fill-rule=\"evenodd\" fill-opacity=\"1\" /><path clip-path=\"url(#clip150)\" d=\"M1081.1 1517.37 Q1077.49 1517.37 1075.66 1520.93 Q1073.85 1524.47 1073.85 1531.6 Q1073.85 1538.71 1075.66 1542.27 Q1077.49 1545.82 1081.1 1545.82 Q1084.73 1545.82 1086.54 1542.27 Q1088.37 1538.71 1088.37 1531.6 Q1088.37 1524.47 1086.54 1520.93 Q1084.73 1517.37 1081.1 1517.37 M1081.1 1513.66 Q1086.91 1513.66 1089.96 1518.27 Q1093.04 1522.85 1093.04 1531.6 Q1093.04 1540.33 1089.96 1544.94 Q1086.91 1549.52 1081.1 1549.52 Q1075.29 1549.52 1072.21 1544.94 Q1069.15 1540.33 1069.15 1531.6 Q1069.15 1522.85 1072.21 1518.27 Q1075.29 1513.66 1081.1 1513.66 Z\" fill=\"#000000\" fill-rule=\"evenodd\" fill-opacity=\"1\" /><path clip-path=\"url(#clip150)\" d=\"M1373.87 1532.02 L1403.54 1532.02 L1403.54 1535.95 L1373.87 1535.95 L1373.87 1532.02 Z\" fill=\"#000000\" fill-rule=\"evenodd\" fill-opacity=\"1\" /><path clip-path=\"url(#clip150)\" d=\"M1423.64 1517.37 Q1420.03 1517.37 1418.2 1520.93 Q1416.39 1524.47 1416.39 1531.6 Q1416.39 1538.71 1418.2 1542.27 Q1420.03 1545.82 1423.64 1545.82 Q1427.27 1545.82 1429.08 1542.27 Q1430.91 1538.71 1430.91 1531.6 Q1430.91 1524.47 1429.08 1520.93 Q1427.27 1517.37 1423.64 1517.37 M1423.64 1513.66 Q1429.45 1513.66 1432.5 1518.27 Q1435.58 1522.85 1435.58 1531.6 Q1435.58 1540.33 1432.5 1544.94 Q1429.45 1549.52 1423.64 1549.52 Q1417.83 1549.52 1414.75 1544.94 Q1411.69 1540.33 1411.69 1531.6 Q1411.69 1522.85 1414.75 1518.27 Q1417.83 1513.66 1423.64 1513.66 Z\" fill=\"#000000\" fill-rule=\"evenodd\" fill-opacity=\"1\" /><path clip-path=\"url(#clip150)\" d=\"M1443.8 1542.97 L1448.68 1542.97 L1448.68 1548.85 L1443.8 1548.85 L1443.8 1542.97 Z\" fill=\"#000000\" fill-rule=\"evenodd\" fill-opacity=\"1\" /><path clip-path=\"url(#clip150)\" d=\"M1468.87 1517.37 Q1465.26 1517.37 1463.43 1520.93 Q1461.62 1524.47 1461.62 1531.6 Q1461.62 1538.71 1463.43 1542.27 Q1465.26 1545.82 1468.87 1545.82 Q1472.5 1545.82 1474.31 1542.27 Q1476.14 1538.71 1476.14 1531.6 Q1476.14 1524.47 1474.31 1520.93 Q1472.5 1517.37 1468.87 1517.37 M1468.87 1513.66 Q1474.68 1513.66 1477.73 1518.27 Q1480.81 1522.85 1480.81 1531.6 Q1480.81 1540.33 1477.73 1544.94 Q1474.68 1549.52 1468.87 1549.52 Q1463.06 1549.52 1459.98 1544.94 Q1456.92 1540.33 1456.92 1531.6 Q1456.92 1522.85 1459.98 1518.27 Q1463.06 1513.66 1468.87 1513.66 Z\" fill=\"#000000\" fill-rule=\"evenodd\" fill-opacity=\"1\" /><path clip-path=\"url(#clip150)\" d=\"M1499.03 1532.44 Q1495.7 1532.44 1493.78 1534.22 Q1491.88 1536 1491.88 1539.13 Q1491.88 1542.25 1493.78 1544.03 Q1495.7 1545.82 1499.03 1545.82 Q1502.36 1545.82 1504.29 1544.03 Q1506.21 1542.23 1506.21 1539.13 Q1506.21 1536 1504.29 1534.22 Q1502.39 1532.44 1499.03 1532.44 M1494.35 1530.45 Q1491.35 1529.7 1489.66 1527.64 Q1487.99 1525.58 1487.99 1522.62 Q1487.99 1518.48 1490.93 1516.07 Q1493.89 1513.66 1499.03 1513.66 Q1504.19 1513.66 1507.13 1516.07 Q1510.07 1518.48 1510.07 1522.62 Q1510.07 1525.58 1508.38 1527.64 Q1506.72 1529.7 1503.73 1530.45 Q1507.11 1531.23 1508.98 1533.52 Q1510.88 1535.82 1510.88 1539.13 Q1510.88 1544.15 1507.8 1546.83 Q1504.75 1549.52 1499.03 1549.52 Q1493.31 1549.52 1490.23 1546.83 Q1487.18 1544.15 1487.18 1539.13 Q1487.18 1535.82 1489.08 1533.52 Q1490.98 1531.23 1494.35 1530.45 M1492.64 1523.06 Q1492.64 1525.75 1494.31 1527.25 Q1496 1528.76 1499.03 1528.76 Q1502.04 1528.76 1503.73 1527.25 Q1505.44 1525.75 1505.44 1523.06 Q1505.44 1520.38 1503.73 1518.87 Q1502.04 1517.37 1499.03 1517.37 Q1496 1517.37 1494.31 1518.87 Q1492.64 1520.38 1492.64 1523.06 Z\" fill=\"#000000\" fill-rule=\"evenodd\" fill-opacity=\"1\" /><path clip-path=\"url(#clip150)\" d=\"M1791.63 1532.02 L1821.3 1532.02 L1821.3 1535.95 L1791.63 1535.95 L1791.63 1532.02 Z\" fill=\"#000000\" fill-rule=\"evenodd\" fill-opacity=\"1\" /><path clip-path=\"url(#clip150)\" d=\"M1841.4 1517.37 Q1837.78 1517.37 1835.96 1520.93 Q1834.15 1524.47 1834.15 1531.6 Q1834.15 1538.71 1835.96 1542.27 Q1837.78 1545.82 1841.4 1545.82 Q1845.03 1545.82 1846.84 1542.27 Q1848.66 1538.71 1848.66 1531.6 Q1848.66 1524.47 1846.84 1520.93 Q1845.03 1517.37 1841.4 1517.37 M1841.4 1513.66 Q1847.21 1513.66 1850.26 1518.27 Q1853.34 1522.85 1853.34 1531.6 Q1853.34 1540.33 1850.26 1544.94 Q1847.21 1549.52 1841.4 1549.52 Q1835.59 1549.52 1832.51 1544.94 Q1829.45 1540.33 1829.45 1531.6 Q1829.45 1522.85 1832.51 1518.27 Q1835.59 1513.66 1841.4 1513.66 Z\" fill=\"#000000\" fill-rule=\"evenodd\" fill-opacity=\"1\" /><path clip-path=\"url(#clip150)\" d=\"M1861.56 1542.97 L1866.44 1542.97 L1866.44 1548.85 L1861.56 1548.85 L1861.56 1542.97 Z\" fill=\"#000000\" fill-rule=\"evenodd\" fill-opacity=\"1\" /><path clip-path=\"url(#clip150)\" d=\"M1886.63 1517.37 Q1883.02 1517.37 1881.19 1520.93 Q1879.38 1524.47 1879.38 1531.6 Q1879.38 1538.71 1881.19 1542.27 Q1883.02 1545.82 1886.63 1545.82 Q1890.26 1545.82 1892.07 1542.27 Q1893.9 1538.71 1893.9 1531.6 Q1893.9 1524.47 1892.07 1520.93 Q1890.26 1517.37 1886.63 1517.37 M1886.63 1513.66 Q1892.44 1513.66 1895.49 1518.27 Q1898.57 1522.85 1898.57 1531.6 Q1898.57 1540.33 1895.49 1544.94 Q1892.44 1549.52 1886.63 1549.52 Q1880.82 1549.52 1877.74 1544.94 Q1874.68 1540.33 1874.68 1531.6 Q1874.68 1522.85 1877.74 1518.27 Q1880.82 1513.66 1886.63 1513.66 Z\" fill=\"#000000\" fill-rule=\"evenodd\" fill-opacity=\"1\" /><path clip-path=\"url(#clip150)\" d=\"M1917.37 1529.7 Q1914.22 1529.7 1912.37 1531.86 Q1910.54 1534.01 1910.54 1537.76 Q1910.54 1541.49 1912.37 1543.66 Q1914.22 1545.82 1917.37 1545.82 Q1920.52 1545.82 1922.34 1543.66 Q1924.2 1541.49 1924.2 1537.76 Q1924.2 1534.01 1922.34 1531.86 Q1920.52 1529.7 1917.37 1529.7 M1926.65 1515.05 L1926.65 1519.31 Q1924.89 1518.48 1923.09 1518.04 Q1921.3 1517.6 1919.54 1517.6 Q1914.91 1517.6 1912.46 1520.72 Q1910.03 1523.85 1909.68 1530.17 Q1911.05 1528.15 1913.11 1527.09 Q1915.17 1526 1917.65 1526 Q1922.85 1526 1925.86 1529.17 Q1928.9 1532.32 1928.9 1537.76 Q1928.9 1543.08 1925.75 1546.3 Q1922.6 1549.52 1917.37 1549.52 Q1911.37 1549.52 1908.2 1544.94 Q1905.03 1540.33 1905.03 1531.6 Q1905.03 1523.41 1908.92 1518.55 Q1912.81 1513.66 1919.36 1513.66 Q1921.12 1513.66 1922.9 1514.01 Q1924.71 1514.36 1926.65 1515.05 Z\" fill=\"#000000\" fill-rule=\"evenodd\" fill-opacity=\"1\" /><path clip-path=\"url(#clip150)\" d=\"M2209.35 1532.02 L2239.03 1532.02 L2239.03 1535.95 L2209.35 1535.95 L2209.35 1532.02 Z\" fill=\"#000000\" fill-rule=\"evenodd\" fill-opacity=\"1\" /><path clip-path=\"url(#clip150)\" d=\"M2259.12 1517.37 Q2255.51 1517.37 2253.68 1520.93 Q2251.87 1524.47 2251.87 1531.6 Q2251.87 1538.71 2253.68 1542.27 Q2255.51 1545.82 2259.12 1545.82 Q2262.75 1545.82 2264.56 1542.27 Q2266.39 1538.71 2266.39 1531.6 Q2266.39 1524.47 2264.56 1520.93 Q2262.75 1517.37 2259.12 1517.37 M2259.12 1513.66 Q2264.93 1513.66 2267.99 1518.27 Q2271.06 1522.85 2271.06 1531.6 Q2271.06 1540.33 2267.99 1544.94 Q2264.93 1549.52 2259.12 1549.52 Q2253.31 1549.52 2250.23 1544.94 Q2247.18 1540.33 2247.18 1531.6 Q2247.18 1522.85 2250.23 1518.27 Q2253.31 1513.66 2259.12 1513.66 Z\" fill=\"#000000\" fill-rule=\"evenodd\" fill-opacity=\"1\" /><path clip-path=\"url(#clip150)\" d=\"M2279.28 1542.97 L2284.17 1542.97 L2284.17 1548.85 L2279.28 1548.85 L2279.28 1542.97 Z\" fill=\"#000000\" fill-rule=\"evenodd\" fill-opacity=\"1\" /><path clip-path=\"url(#clip150)\" d=\"M2304.35 1517.37 Q2300.74 1517.37 2298.91 1520.93 Q2297.11 1524.47 2297.11 1531.6 Q2297.11 1538.71 2298.91 1542.27 Q2300.74 1545.82 2304.35 1545.82 Q2307.99 1545.82 2309.79 1542.27 Q2311.62 1538.71 2311.62 1531.6 Q2311.62 1524.47 2309.79 1520.93 Q2307.99 1517.37 2304.35 1517.37 M2304.35 1513.66 Q2310.16 1513.66 2313.22 1518.27 Q2316.3 1522.85 2316.3 1531.6 Q2316.3 1540.33 2313.22 1544.94 Q2310.16 1549.52 2304.35 1549.52 Q2298.54 1549.52 2295.46 1544.94 Q2292.41 1540.33 2292.41 1531.6 Q2292.41 1522.85 2295.46 1518.27 Q2298.54 1513.66 2304.35 1513.66 Z\" fill=\"#000000\" fill-rule=\"evenodd\" fill-opacity=\"1\" /><path clip-path=\"url(#clip150)\" d=\"M2337.36 1518.36 L2325.55 1536.81 L2337.36 1536.81 L2337.36 1518.36 M2336.13 1514.29 L2342.01 1514.29 L2342.01 1536.81 L2346.94 1536.81 L2346.94 1540.7 L2342.01 1540.7 L2342.01 1548.85 L2337.36 1548.85 L2337.36 1540.7 L2321.76 1540.7 L2321.76 1536.19 L2336.13 1514.29 Z\" fill=\"#000000\" fill-rule=\"evenodd\" fill-opacity=\"1\" /><polyline clip-path=\"url(#clip152)\" style=\"stroke:#000000; stroke-linecap:round; stroke-linejoin:round; stroke-width:2; stroke-opacity:0.1; fill:none\" points=\"\n  224.098,1413.52 2352.76,1413.52 \n  \"/>\n<polyline clip-path=\"url(#clip152)\" style=\"stroke:#000000; stroke-linecap:round; stroke-linejoin:round; stroke-width:2; stroke-opacity:0.1; fill:none\" points=\"\n  224.098,1172.48 2352.76,1172.48 \n  \"/>\n<polyline clip-path=\"url(#clip152)\" style=\"stroke:#000000; stroke-linecap:round; stroke-linejoin:round; stroke-width:2; stroke-opacity:0.1; fill:none\" points=\"\n  224.098,931.435 2352.76,931.435 \n  \"/>\n<polyline clip-path=\"url(#clip152)\" style=\"stroke:#000000; stroke-linecap:round; stroke-linejoin:round; stroke-width:2; stroke-opacity:0.1; fill:none\" points=\"\n  224.098,690.395 2352.76,690.395 \n  \"/>\n<polyline clip-path=\"url(#clip152)\" style=\"stroke:#000000; stroke-linecap:round; stroke-linejoin:round; stroke-width:2; stroke-opacity:0.1; fill:none\" points=\"\n  224.098,449.354 2352.76,449.354 \n  \"/>\n<polyline clip-path=\"url(#clip152)\" style=\"stroke:#000000; stroke-linecap:round; stroke-linejoin:round; stroke-width:2; stroke-opacity:0.1; fill:none\" points=\"\n  224.098,208.313 2352.76,208.313 \n  \"/>\n<polyline clip-path=\"url(#clip150)\" style=\"stroke:#000000; stroke-linecap:round; stroke-linejoin:round; stroke-width:4; stroke-opacity:1; fill:none\" points=\"\n  224.098,1486.45 224.098,47.2441 \n  \"/>\n<polyline clip-path=\"url(#clip150)\" style=\"stroke:#000000; stroke-linecap:round; stroke-linejoin:round; stroke-width:4; stroke-opacity:1; fill:none\" points=\"\n  224.098,1413.52 242.996,1413.52 \n  \"/>\n<polyline clip-path=\"url(#clip150)\" style=\"stroke:#000000; stroke-linecap:round; stroke-linejoin:round; stroke-width:4; stroke-opacity:1; fill:none\" points=\"\n  224.098,1172.48 242.996,1172.48 \n  \"/>\n<polyline clip-path=\"url(#clip150)\" style=\"stroke:#000000; stroke-linecap:round; stroke-linejoin:round; stroke-width:4; stroke-opacity:1; fill:none\" points=\"\n  224.098,931.435 242.996,931.435 \n  \"/>\n<polyline clip-path=\"url(#clip150)\" style=\"stroke:#000000; stroke-linecap:round; stroke-linejoin:round; stroke-width:4; stroke-opacity:1; fill:none\" points=\"\n  224.098,690.395 242.996,690.395 \n  \"/>\n<polyline clip-path=\"url(#clip150)\" style=\"stroke:#000000; stroke-linecap:round; stroke-linejoin:round; stroke-width:4; stroke-opacity:1; fill:none\" points=\"\n  224.098,449.354 242.996,449.354 \n  \"/>\n<polyline clip-path=\"url(#clip150)\" style=\"stroke:#000000; stroke-linecap:round; stroke-linejoin:round; stroke-width:4; stroke-opacity:1; fill:none\" points=\"\n  224.098,208.313 242.996,208.313 \n  \"/>\n<path clip-path=\"url(#clip150)\" d=\"M51.9875 1413.97 L81.6633 1413.97 L81.6633 1417.9 L51.9875 1417.9 L51.9875 1413.97 Z\" fill=\"#000000\" fill-rule=\"evenodd\" fill-opacity=\"1\" /><path clip-path=\"url(#clip150)\" d=\"M101.756 1399.31 Q98.1447 1399.31 96.316 1402.88 Q94.5104 1406.42 94.5104 1413.55 Q94.5104 1420.66 96.316 1424.22 Q98.1447 1427.76 101.756 1427.76 Q105.39 1427.76 107.196 1424.22 Q109.024 1420.66 109.024 1413.55 Q109.024 1406.42 107.196 1402.88 Q105.39 1399.31 101.756 1399.31 M101.756 1395.61 Q107.566 1395.61 110.621 1400.22 Q113.7 1404.8 113.7 1413.55 Q113.7 1422.28 110.621 1426.88 Q107.566 1431.47 101.756 1431.47 Q95.9456 1431.47 92.8669 1426.88 Q89.8114 1422.28 89.8114 1413.55 Q89.8114 1404.8 92.8669 1400.22 Q95.9456 1395.61 101.756 1395.61 Z\" fill=\"#000000\" fill-rule=\"evenodd\" fill-opacity=\"1\" /><path clip-path=\"url(#clip150)\" d=\"M121.918 1424.92 L126.802 1424.92 L126.802 1430.8 L121.918 1430.8 L121.918 1424.92 Z\" fill=\"#000000\" fill-rule=\"evenodd\" fill-opacity=\"1\" /><path clip-path=\"url(#clip150)\" d=\"M137.797 1426.86 L145.436 1426.86 L145.436 1400.5 L137.126 1402.16 L137.126 1397.9 L145.39 1396.24 L150.066 1396.24 L150.066 1426.86 L157.705 1426.86 L157.705 1430.8 L137.797 1430.8 L137.797 1426.86 Z\" fill=\"#000000\" fill-rule=\"evenodd\" fill-opacity=\"1\" /><path clip-path=\"url(#clip150)\" d=\"M167.195 1396.24 L185.552 1396.24 L185.552 1400.17 L171.478 1400.17 L171.478 1408.64 Q172.496 1408.3 173.515 1408.13 Q174.533 1407.95 175.552 1407.95 Q181.339 1407.95 184.718 1411.12 Q188.098 1414.29 188.098 1419.71 Q188.098 1425.29 184.626 1428.39 Q181.153 1431.47 174.834 1431.47 Q172.658 1431.47 170.39 1431.1 Q168.144 1430.73 165.737 1429.99 L165.737 1425.29 Q167.82 1426.42 170.042 1426.98 Q172.265 1427.53 174.741 1427.53 Q178.746 1427.53 181.084 1425.43 Q183.422 1423.32 183.422 1419.71 Q183.422 1416.1 181.084 1413.99 Q178.746 1411.88 174.741 1411.88 Q172.866 1411.88 170.991 1412.3 Q169.14 1412.72 167.195 1413.6 L167.195 1396.24 Z\" fill=\"#000000\" fill-rule=\"evenodd\" fill-opacity=\"1\" /><path clip-path=\"url(#clip150)\" d=\"M50.9921 1172.93 L80.6679 1172.93 L80.6679 1176.86 L50.9921 1176.86 L50.9921 1172.93 Z\" fill=\"#000000\" fill-rule=\"evenodd\" fill-opacity=\"1\" /><path clip-path=\"url(#clip150)\" d=\"M100.76 1158.27 Q97.1493 1158.27 95.3206 1161.84 Q93.515 1165.38 93.515 1172.51 Q93.515 1179.62 95.3206 1183.18 Q97.1493 1186.72 100.76 1186.72 Q104.395 1186.72 106.2 1183.18 Q108.029 1179.62 108.029 1172.51 Q108.029 1165.38 106.2 1161.84 Q104.395 1158.27 100.76 1158.27 M100.76 1154.57 Q106.571 1154.57 109.626 1159.18 Q112.705 1163.76 112.705 1172.51 Q112.705 1181.24 109.626 1185.84 Q106.571 1190.43 100.76 1190.43 Q94.9502 1190.43 91.8715 1185.84 Q88.816 1181.24 88.816 1172.51 Q88.816 1163.76 91.8715 1159.18 Q94.9502 1154.57 100.76 1154.57 Z\" fill=\"#000000\" fill-rule=\"evenodd\" fill-opacity=\"1\" /><path clip-path=\"url(#clip150)\" d=\"M120.922 1183.88 L125.807 1183.88 L125.807 1189.76 L120.922 1189.76 L120.922 1183.88 Z\" fill=\"#000000\" fill-rule=\"evenodd\" fill-opacity=\"1\" /><path clip-path=\"url(#clip150)\" d=\"M136.802 1185.82 L144.441 1185.82 L144.441 1159.45 L136.131 1161.12 L136.131 1156.86 L144.394 1155.2 L149.07 1155.2 L149.07 1185.82 L156.709 1185.82 L156.709 1189.76 L136.802 1189.76 L136.802 1185.82 Z\" fill=\"#000000\" fill-rule=\"evenodd\" fill-opacity=\"1\" /><path clip-path=\"url(#clip150)\" d=\"M176.153 1158.27 Q172.542 1158.27 170.714 1161.84 Q168.908 1165.38 168.908 1172.51 Q168.908 1179.62 170.714 1183.18 Q172.542 1186.72 176.153 1186.72 Q179.788 1186.72 181.593 1183.18 Q183.422 1179.62 183.422 1172.51 Q183.422 1165.38 181.593 1161.84 Q179.788 1158.27 176.153 1158.27 M176.153 1154.57 Q181.964 1154.57 185.019 1159.18 Q188.098 1163.76 188.098 1172.51 Q188.098 1181.24 185.019 1185.84 Q181.964 1190.43 176.153 1190.43 Q170.343 1190.43 167.265 1185.84 Q164.209 1181.24 164.209 1172.51 Q164.209 1163.76 167.265 1159.18 Q170.343 1154.57 176.153 1154.57 Z\" fill=\"#000000\" fill-rule=\"evenodd\" fill-opacity=\"1\" /><path clip-path=\"url(#clip150)\" d=\"M51.9875 931.887 L81.6633 931.887 L81.6633 935.822 L51.9875 935.822 L51.9875 931.887 Z\" fill=\"#000000\" fill-rule=\"evenodd\" fill-opacity=\"1\" /><path clip-path=\"url(#clip150)\" d=\"M101.756 917.234 Q98.1447 917.234 96.316 920.799 Q94.5104 924.34 94.5104 931.47 Q94.5104 938.576 96.316 942.141 Q98.1447 945.683 101.756 945.683 Q105.39 945.683 107.196 942.141 Q109.024 938.576 109.024 931.47 Q109.024 924.34 107.196 920.799 Q105.39 917.234 101.756 917.234 M101.756 913.53 Q107.566 913.53 110.621 918.137 Q113.7 922.72 113.7 931.47 Q113.7 940.197 110.621 944.803 Q107.566 949.386 101.756 949.386 Q95.9456 949.386 92.8669 944.803 Q89.8114 940.197 89.8114 931.47 Q89.8114 922.72 92.8669 918.137 Q95.9456 913.53 101.756 913.53 Z\" fill=\"#000000\" fill-rule=\"evenodd\" fill-opacity=\"1\" /><path clip-path=\"url(#clip150)\" d=\"M121.918 942.836 L126.802 942.836 L126.802 948.715 L121.918 948.715 L121.918 942.836 Z\" fill=\"#000000\" fill-rule=\"evenodd\" fill-opacity=\"1\" /><path clip-path=\"url(#clip150)\" d=\"M146.987 917.234 Q143.376 917.234 141.547 920.799 Q139.742 924.34 139.742 931.47 Q139.742 938.576 141.547 942.141 Q143.376 945.683 146.987 945.683 Q150.621 945.683 152.427 942.141 Q154.255 938.576 154.255 931.47 Q154.255 924.34 152.427 920.799 Q150.621 917.234 146.987 917.234 M146.987 913.53 Q152.797 913.53 155.853 918.137 Q158.931 922.72 158.931 931.47 Q158.931 940.197 155.853 944.803 Q152.797 949.386 146.987 949.386 Q141.177 949.386 138.098 944.803 Q135.043 940.197 135.043 931.47 Q135.043 922.72 138.098 918.137 Q141.177 913.53 146.987 913.53 Z\" fill=\"#000000\" fill-rule=\"evenodd\" fill-opacity=\"1\" /><path clip-path=\"url(#clip150)\" d=\"M167.195 914.155 L185.552 914.155 L185.552 918.09 L171.478 918.09 L171.478 926.562 Q172.496 926.215 173.515 926.053 Q174.533 925.868 175.552 925.868 Q181.339 925.868 184.718 929.039 Q188.098 932.211 188.098 937.627 Q188.098 943.206 184.626 946.308 Q181.153 949.386 174.834 949.386 Q172.658 949.386 170.39 949.016 Q168.144 948.646 165.737 947.905 L165.737 943.206 Q167.82 944.34 170.042 944.896 Q172.265 945.451 174.741 945.451 Q178.746 945.451 181.084 943.345 Q183.422 941.238 183.422 937.627 Q183.422 934.016 181.084 931.91 Q178.746 929.803 174.741 929.803 Q172.866 929.803 170.991 930.22 Q169.14 930.637 167.195 931.516 L167.195 914.155 Z\" fill=\"#000000\" fill-rule=\"evenodd\" fill-opacity=\"1\" /><path clip-path=\"url(#clip150)\" d=\"M100.76 676.193 Q97.1493 676.193 95.3206 679.758 Q93.515 683.3 93.515 690.429 Q93.515 697.536 95.3206 701.101 Q97.1493 704.642 100.76 704.642 Q104.395 704.642 106.2 701.101 Q108.029 697.536 108.029 690.429 Q108.029 683.3 106.2 679.758 Q104.395 676.193 100.76 676.193 M100.76 672.49 Q106.571 672.49 109.626 677.096 Q112.705 681.679 112.705 690.429 Q112.705 699.156 109.626 703.763 Q106.571 708.346 100.76 708.346 Q94.9502 708.346 91.8715 703.763 Q88.816 699.156 88.816 690.429 Q88.816 681.679 91.8715 677.096 Q94.9502 672.49 100.76 672.49 Z\" fill=\"#000000\" fill-rule=\"evenodd\" fill-opacity=\"1\" /><path clip-path=\"url(#clip150)\" d=\"M120.922 701.795 L125.807 701.795 L125.807 707.675 L120.922 707.675 L120.922 701.795 Z\" fill=\"#000000\" fill-rule=\"evenodd\" fill-opacity=\"1\" /><path clip-path=\"url(#clip150)\" d=\"M145.992 676.193 Q142.381 676.193 140.552 679.758 Q138.746 683.3 138.746 690.429 Q138.746 697.536 140.552 701.101 Q142.381 704.642 145.992 704.642 Q149.626 704.642 151.431 701.101 Q153.26 697.536 153.26 690.429 Q153.26 683.3 151.431 679.758 Q149.626 676.193 145.992 676.193 M145.992 672.49 Q151.802 672.49 154.857 677.096 Q157.936 681.679 157.936 690.429 Q157.936 699.156 154.857 703.763 Q151.802 708.346 145.992 708.346 Q140.181 708.346 137.103 703.763 Q134.047 699.156 134.047 690.429 Q134.047 681.679 137.103 677.096 Q140.181 672.49 145.992 672.49 Z\" fill=\"#000000\" fill-rule=\"evenodd\" fill-opacity=\"1\" /><path clip-path=\"url(#clip150)\" d=\"M176.153 676.193 Q172.542 676.193 170.714 679.758 Q168.908 683.3 168.908 690.429 Q168.908 697.536 170.714 701.101 Q172.542 704.642 176.153 704.642 Q179.788 704.642 181.593 701.101 Q183.422 697.536 183.422 690.429 Q183.422 683.3 181.593 679.758 Q179.788 676.193 176.153 676.193 M176.153 672.49 Q181.964 672.49 185.019 677.096 Q188.098 681.679 188.098 690.429 Q188.098 699.156 185.019 703.763 Q181.964 708.346 176.153 708.346 Q170.343 708.346 167.265 703.763 Q164.209 699.156 164.209 690.429 Q164.209 681.679 167.265 677.096 Q170.343 672.49 176.153 672.49 Z\" fill=\"#000000\" fill-rule=\"evenodd\" fill-opacity=\"1\" /><path clip-path=\"url(#clip150)\" d=\"M101.756 435.153 Q98.1447 435.153 96.316 438.717 Q94.5104 442.259 94.5104 449.389 Q94.5104 456.495 96.316 460.06 Q98.1447 463.602 101.756 463.602 Q105.39 463.602 107.196 460.06 Q109.024 456.495 109.024 449.389 Q109.024 442.259 107.196 438.717 Q105.39 435.153 101.756 435.153 M101.756 431.449 Q107.566 431.449 110.621 436.055 Q113.7 440.639 113.7 449.389 Q113.7 458.116 110.621 462.722 Q107.566 467.305 101.756 467.305 Q95.9456 467.305 92.8669 462.722 Q89.8114 458.116 89.8114 449.389 Q89.8114 440.639 92.8669 436.055 Q95.9456 431.449 101.756 431.449 Z\" fill=\"#000000\" fill-rule=\"evenodd\" fill-opacity=\"1\" /><path clip-path=\"url(#clip150)\" d=\"M121.918 460.754 L126.802 460.754 L126.802 466.634 L121.918 466.634 L121.918 460.754 Z\" fill=\"#000000\" fill-rule=\"evenodd\" fill-opacity=\"1\" /><path clip-path=\"url(#clip150)\" d=\"M146.987 435.153 Q143.376 435.153 141.547 438.717 Q139.742 442.259 139.742 449.389 Q139.742 456.495 141.547 460.06 Q143.376 463.602 146.987 463.602 Q150.621 463.602 152.427 460.06 Q154.255 456.495 154.255 449.389 Q154.255 442.259 152.427 438.717 Q150.621 435.153 146.987 435.153 M146.987 431.449 Q152.797 431.449 155.853 436.055 Q158.931 440.639 158.931 449.389 Q158.931 458.116 155.853 462.722 Q152.797 467.305 146.987 467.305 Q141.177 467.305 138.098 462.722 Q135.043 458.116 135.043 449.389 Q135.043 440.639 138.098 436.055 Q141.177 431.449 146.987 431.449 Z\" fill=\"#000000\" fill-rule=\"evenodd\" fill-opacity=\"1\" /><path clip-path=\"url(#clip150)\" d=\"M167.195 432.074 L185.552 432.074 L185.552 436.009 L171.478 436.009 L171.478 444.481 Q172.496 444.134 173.515 443.972 Q174.533 443.787 175.552 443.787 Q181.339 443.787 184.718 446.958 Q188.098 450.129 188.098 455.546 Q188.098 461.125 184.626 464.227 Q181.153 467.305 174.834 467.305 Q172.658 467.305 170.39 466.935 Q168.144 466.565 165.737 465.824 L165.737 461.125 Q167.82 462.259 170.042 462.815 Q172.265 463.37 174.741 463.37 Q178.746 463.37 181.084 461.264 Q183.422 459.157 183.422 455.546 Q183.422 451.935 181.084 449.829 Q178.746 447.722 174.741 447.722 Q172.866 447.722 170.991 448.139 Q169.14 448.555 167.195 449.435 L167.195 432.074 Z\" fill=\"#000000\" fill-rule=\"evenodd\" fill-opacity=\"1\" /><path clip-path=\"url(#clip150)\" d=\"M100.76 194.112 Q97.1493 194.112 95.3206 197.677 Q93.515 201.219 93.515 208.348 Q93.515 215.455 95.3206 219.019 Q97.1493 222.561 100.76 222.561 Q104.395 222.561 106.2 219.019 Q108.029 215.455 108.029 208.348 Q108.029 201.219 106.2 197.677 Q104.395 194.112 100.76 194.112 M100.76 190.408 Q106.571 190.408 109.626 195.015 Q112.705 199.598 112.705 208.348 Q112.705 217.075 109.626 221.681 Q106.571 226.265 100.76 226.265 Q94.9502 226.265 91.8715 221.681 Q88.816 217.075 88.816 208.348 Q88.816 199.598 91.8715 195.015 Q94.9502 190.408 100.76 190.408 Z\" fill=\"#000000\" fill-rule=\"evenodd\" fill-opacity=\"1\" /><path clip-path=\"url(#clip150)\" d=\"M120.922 219.714 L125.807 219.714 L125.807 225.593 L120.922 225.593 L120.922 219.714 Z\" fill=\"#000000\" fill-rule=\"evenodd\" fill-opacity=\"1\" /><path clip-path=\"url(#clip150)\" d=\"M136.802 221.658 L144.441 221.658 L144.441 195.293 L136.131 196.959 L136.131 192.7 L144.394 191.033 L149.07 191.033 L149.07 221.658 L156.709 221.658 L156.709 225.593 L136.802 225.593 L136.802 221.658 Z\" fill=\"#000000\" fill-rule=\"evenodd\" fill-opacity=\"1\" /><path clip-path=\"url(#clip150)\" d=\"M176.153 194.112 Q172.542 194.112 170.714 197.677 Q168.908 201.219 168.908 208.348 Q168.908 215.455 170.714 219.019 Q172.542 222.561 176.153 222.561 Q179.788 222.561 181.593 219.019 Q183.422 215.455 183.422 208.348 Q183.422 201.219 181.593 197.677 Q179.788 194.112 176.153 194.112 M176.153 190.408 Q181.964 190.408 185.019 195.015 Q188.098 199.598 188.098 208.348 Q188.098 217.075 185.019 221.681 Q181.964 226.265 176.153 226.265 Q170.343 226.265 167.265 221.681 Q164.209 217.075 164.209 208.348 Q164.209 199.598 167.265 195.015 Q170.343 190.408 176.153 190.408 Z\" fill=\"#000000\" fill-rule=\"evenodd\" fill-opacity=\"1\" /><circle clip-path=\"url(#clip152)\" cx=\"874.266\" cy=\"196.948\" r=\"14.4\" fill=\"#008000\" fill-rule=\"evenodd\" fill-opacity=\"1\" stroke=\"#000000\" stroke-opacity=\"1\" stroke-width=\"3.2\"/>\n<circle clip-path=\"url(#clip152)\" cx=\"716.791\" cy=\"136.141\" r=\"14.4\" fill=\"#008000\" fill-rule=\"evenodd\" fill-opacity=\"1\" stroke=\"#000000\" stroke-opacity=\"1\" stroke-width=\"3.2\"/>\n<circle clip-path=\"url(#clip152)\" cx=\"898.143\" cy=\"195.076\" r=\"14.4\" fill=\"#008000\" fill-rule=\"evenodd\" fill-opacity=\"1\" stroke=\"#000000\" stroke-opacity=\"1\" stroke-width=\"3.2\"/>\n<circle clip-path=\"url(#clip152)\" cx=\"284.343\" cy=\"99.3294\" r=\"14.4\" fill=\"#008000\" fill-rule=\"evenodd\" fill-opacity=\"1\" stroke=\"#000000\" stroke-opacity=\"1\" stroke-width=\"3.2\"/>\n<circle clip-path=\"url(#clip152)\" cx=\"724.668\" cy=\"126.609\" r=\"14.4\" fill=\"#008000\" fill-rule=\"evenodd\" fill-opacity=\"1\" stroke=\"#000000\" stroke-opacity=\"1\" stroke-width=\"3.2\"/>\n<circle clip-path=\"url(#clip152)\" cx=\"609.648\" cy=\"87.9763\" r=\"14.4\" fill=\"#008000\" fill-rule=\"evenodd\" fill-opacity=\"1\" stroke=\"#000000\" stroke-opacity=\"1\" stroke-width=\"3.2\"/>\n<circle clip-path=\"url(#clip152)\" cx=\"1056.62\" cy=\"173.515\" r=\"14.4\" fill=\"#008000\" fill-rule=\"evenodd\" fill-opacity=\"1\" stroke=\"#000000\" stroke-opacity=\"1\" stroke-width=\"3.2\"/>\n<circle clip-path=\"url(#clip152)\" cx=\"284.343\" cy=\"99.3294\" r=\"14.4\" fill=\"#008000\" fill-rule=\"evenodd\" fill-opacity=\"1\" stroke=\"#000000\" stroke-opacity=\"1\" stroke-width=\"3.2\"/>\n<circle clip-path=\"url(#clip152)\" cx=\"686.742\" cy=\"143.438\" r=\"14.4\" fill=\"#008000\" fill-rule=\"evenodd\" fill-opacity=\"1\" stroke=\"#000000\" stroke-opacity=\"1\" stroke-width=\"3.2\"/>\n<circle clip-path=\"url(#clip152)\" cx=\"936.141\" cy=\"664.484\" r=\"14.4\" fill=\"#008000\" fill-rule=\"evenodd\" fill-opacity=\"1\" stroke=\"#000000\" stroke-opacity=\"1\" stroke-width=\"3.2\"/>\n<circle clip-path=\"url(#clip152)\" cx=\"693.055\" cy=\"128.548\" r=\"14.4\" fill=\"#008000\" fill-rule=\"evenodd\" fill-opacity=\"1\" stroke=\"#000000\" stroke-opacity=\"1\" stroke-width=\"3.2\"/>\n<circle clip-path=\"url(#clip152)\" cx=\"1089.26\" cy=\"558.349\" r=\"14.4\" fill=\"#008000\" fill-rule=\"evenodd\" fill-opacity=\"1\" stroke=\"#000000\" stroke-opacity=\"1\" stroke-width=\"3.2\"/>\n<circle clip-path=\"url(#clip152)\" cx=\"698.446\" cy=\"134.482\" r=\"14.4\" fill=\"#008000\" fill-rule=\"evenodd\" fill-opacity=\"1\" stroke=\"#000000\" stroke-opacity=\"1\" stroke-width=\"3.2\"/>\n<circle clip-path=\"url(#clip152)\" cx=\"958.553\" cy=\"410.011\" r=\"14.4\" fill=\"#008000\" fill-rule=\"evenodd\" fill-opacity=\"1\" stroke=\"#000000\" stroke-opacity=\"1\" stroke-width=\"3.2\"/>\n<circle clip-path=\"url(#clip152)\" cx=\"609.648\" cy=\"87.9763\" r=\"14.4\" fill=\"#008000\" fill-rule=\"evenodd\" fill-opacity=\"1\" stroke=\"#000000\" stroke-opacity=\"1\" stroke-width=\"3.2\"/>\n<circle clip-path=\"url(#clip152)\" cx=\"988.619\" cy=\"328.856\" r=\"14.4\" fill=\"#008000\" fill-rule=\"evenodd\" fill-opacity=\"1\" stroke=\"#000000\" stroke-opacity=\"1\" stroke-width=\"3.2\"/>\n<circle clip-path=\"url(#clip152)\" cx=\"929.359\" cy=\"226.639\" r=\"14.4\" fill=\"#008000\" fill-rule=\"evenodd\" fill-opacity=\"1\" stroke=\"#000000\" stroke-opacity=\"1\" stroke-width=\"3.2\"/>\n<circle clip-path=\"url(#clip152)\" cx=\"615.892\" cy=\"134.472\" r=\"14.4\" fill=\"#008000\" fill-rule=\"evenodd\" fill-opacity=\"1\" stroke=\"#000000\" stroke-opacity=\"1\" stroke-width=\"3.2\"/>\n<circle clip-path=\"url(#clip152)\" cx=\"284.343\" cy=\"99.3294\" r=\"14.4\" fill=\"#008000\" fill-rule=\"evenodd\" fill-opacity=\"1\" stroke=\"#000000\" stroke-opacity=\"1\" stroke-width=\"3.2\"/>\n<circle clip-path=\"url(#clip152)\" cx=\"284.343\" cy=\"99.3294\" r=\"14.4\" fill=\"#008000\" fill-rule=\"evenodd\" fill-opacity=\"1\" stroke=\"#000000\" stroke-opacity=\"1\" stroke-width=\"3.2\"/>\n<circle clip-path=\"url(#clip152)\" cx=\"284.343\" cy=\"99.3294\" r=\"14.4\" fill=\"#008000\" fill-rule=\"evenodd\" fill-opacity=\"1\" stroke=\"#000000\" stroke-opacity=\"1\" stroke-width=\"3.2\"/>\n<circle clip-path=\"url(#clip152)\" cx=\"570.219\" cy=\"319.739\" r=\"14.4\" fill=\"#008000\" fill-rule=\"evenodd\" fill-opacity=\"1\" stroke=\"#000000\" stroke-opacity=\"1\" stroke-width=\"3.2\"/>\n<circle clip-path=\"url(#clip152)\" cx=\"703.758\" cy=\"275.585\" r=\"14.4\" fill=\"#008000\" fill-rule=\"evenodd\" fill-opacity=\"1\" stroke=\"#000000\" stroke-opacity=\"1\" stroke-width=\"3.2\"/>\n<circle clip-path=\"url(#clip152)\" cx=\"284.343\" cy=\"99.3294\" r=\"14.4\" fill=\"#008000\" fill-rule=\"evenodd\" fill-opacity=\"1\" stroke=\"#000000\" stroke-opacity=\"1\" stroke-width=\"3.2\"/>\n<circle clip-path=\"url(#clip152)\" cx=\"698.247\" cy=\"275.396\" r=\"14.4\" fill=\"#008000\" fill-rule=\"evenodd\" fill-opacity=\"1\" stroke=\"#000000\" stroke-opacity=\"1\" stroke-width=\"3.2\"/>\n<circle clip-path=\"url(#clip152)\" cx=\"711.445\" cy=\"137.107\" r=\"14.4\" fill=\"#008000\" fill-rule=\"evenodd\" fill-opacity=\"1\" stroke=\"#000000\" stroke-opacity=\"1\" stroke-width=\"3.2\"/>\n<circle clip-path=\"url(#clip152)\" cx=\"713.535\" cy=\"646.563\" r=\"14.4\" fill=\"#008000\" fill-rule=\"evenodd\" fill-opacity=\"1\" stroke=\"#000000\" stroke-opacity=\"1\" stroke-width=\"3.2\"/>\n<circle clip-path=\"url(#clip152)\" cx=\"284.343\" cy=\"99.3294\" r=\"14.4\" fill=\"#008000\" fill-rule=\"evenodd\" fill-opacity=\"1\" stroke=\"#000000\" stroke-opacity=\"1\" stroke-width=\"3.2\"/>\n<circle clip-path=\"url(#clip152)\" cx=\"609.648\" cy=\"87.9763\" r=\"14.4\" fill=\"#008000\" fill-rule=\"evenodd\" fill-opacity=\"1\" stroke=\"#000000\" stroke-opacity=\"1\" stroke-width=\"3.2\"/>\n<circle clip-path=\"url(#clip152)\" cx=\"920.057\" cy=\"668.334\" r=\"14.4\" fill=\"#008000\" fill-rule=\"evenodd\" fill-opacity=\"1\" stroke=\"#000000\" stroke-opacity=\"1\" stroke-width=\"3.2\"/>\n<circle clip-path=\"url(#clip152)\" cx=\"284.343\" cy=\"99.3294\" r=\"14.4\" fill=\"#008000\" fill-rule=\"evenodd\" fill-opacity=\"1\" stroke=\"#000000\" stroke-opacity=\"1\" stroke-width=\"3.2\"/>\n<circle clip-path=\"url(#clip152)\" cx=\"656.476\" cy=\"210.029\" r=\"14.4\" fill=\"#008000\" fill-rule=\"evenodd\" fill-opacity=\"1\" stroke=\"#000000\" stroke-opacity=\"1\" stroke-width=\"3.2\"/>\n<circle clip-path=\"url(#clip152)\" cx=\"284.343\" cy=\"99.3294\" r=\"14.4\" fill=\"#008000\" fill-rule=\"evenodd\" fill-opacity=\"1\" stroke=\"#000000\" stroke-opacity=\"1\" stroke-width=\"3.2\"/>\n<circle clip-path=\"url(#clip152)\" cx=\"609.648\" cy=\"87.9763\" r=\"14.4\" fill=\"#008000\" fill-rule=\"evenodd\" fill-opacity=\"1\" stroke=\"#000000\" stroke-opacity=\"1\" stroke-width=\"3.2\"/>\n<circle clip-path=\"url(#clip152)\" cx=\"1077.53\" cy=\"548.972\" r=\"14.4\" fill=\"#008000\" fill-rule=\"evenodd\" fill-opacity=\"1\" stroke=\"#000000\" stroke-opacity=\"1\" stroke-width=\"3.2\"/>\n<circle clip-path=\"url(#clip152)\" cx=\"660.612\" cy=\"559.771\" r=\"14.4\" fill=\"#008000\" fill-rule=\"evenodd\" fill-opacity=\"1\" stroke=\"#000000\" stroke-opacity=\"1\" stroke-width=\"3.2\"/>\n<circle clip-path=\"url(#clip152)\" cx=\"839.83\" cy=\"428.751\" r=\"14.4\" fill=\"#008000\" fill-rule=\"evenodd\" fill-opacity=\"1\" stroke=\"#000000\" stroke-opacity=\"1\" stroke-width=\"3.2\"/>\n<circle clip-path=\"url(#clip152)\" cx=\"1079.67\" cy=\"579.008\" r=\"14.4\" fill=\"#008000\" fill-rule=\"evenodd\" fill-opacity=\"1\" stroke=\"#000000\" stroke-opacity=\"1\" stroke-width=\"3.2\"/>\n<circle clip-path=\"url(#clip152)\" cx=\"615.892\" cy=\"134.472\" r=\"14.4\" fill=\"#008000\" fill-rule=\"evenodd\" fill-opacity=\"1\" stroke=\"#000000\" stroke-opacity=\"1\" stroke-width=\"3.2\"/>\n<circle clip-path=\"url(#clip152)\" cx=\"867.477\" cy=\"381.133\" r=\"14.4\" fill=\"#008000\" fill-rule=\"evenodd\" fill-opacity=\"1\" stroke=\"#000000\" stroke-opacity=\"1\" stroke-width=\"3.2\"/>\n<circle clip-path=\"url(#clip152)\" cx=\"284.343\" cy=\"99.3294\" r=\"14.4\" fill=\"#008000\" fill-rule=\"evenodd\" fill-opacity=\"1\" stroke=\"#000000\" stroke-opacity=\"1\" stroke-width=\"3.2\"/>\n<circle clip-path=\"url(#clip152)\" cx=\"1373.93\" cy=\"1265.04\" r=\"14.4\" fill=\"#ffa500\" fill-rule=\"evenodd\" fill-opacity=\"1\" stroke=\"#000000\" stroke-opacity=\"1\" stroke-width=\"3.2\"/>\n<circle clip-path=\"url(#clip152)\" cx=\"1186.49\" cy=\"1334.73\" r=\"14.4\" fill=\"#ffa500\" fill-rule=\"evenodd\" fill-opacity=\"1\" stroke=\"#000000\" stroke-opacity=\"1\" stroke-width=\"3.2\"/>\n<circle clip-path=\"url(#clip152)\" cx=\"1396.3\" cy=\"1254.11\" r=\"14.4\" fill=\"#ffa500\" fill-rule=\"evenodd\" fill-opacity=\"1\" stroke=\"#000000\" stroke-opacity=\"1\" stroke-width=\"3.2\"/>\n<circle clip-path=\"url(#clip152)\" cx=\"1305.16\" cy=\"1361.73\" r=\"14.4\" fill=\"#ffa500\" fill-rule=\"evenodd\" fill-opacity=\"1\" stroke=\"#000000\" stroke-opacity=\"1\" stroke-width=\"3.2\"/>\n<circle clip-path=\"url(#clip152)\" cx=\"1240.76\" cy=\"1207.99\" r=\"14.4\" fill=\"#ffa500\" fill-rule=\"evenodd\" fill-opacity=\"1\" stroke=\"#000000\" stroke-opacity=\"1\" stroke-width=\"3.2\"/>\n<circle clip-path=\"url(#clip152)\" cx=\"1019.03\" cy=\"1445.72\" r=\"14.4\" fill=\"#ffa500\" fill-rule=\"evenodd\" fill-opacity=\"1\" stroke=\"#000000\" stroke-opacity=\"1\" stroke-width=\"3.2\"/>\n<circle clip-path=\"url(#clip152)\" cx=\"1168.68\" cy=\"1314.14\" r=\"14.4\" fill=\"#ffa500\" fill-rule=\"evenodd\" fill-opacity=\"1\" stroke=\"#000000\" stroke-opacity=\"1\" stroke-width=\"3.2\"/>\n<circle clip-path=\"url(#clip152)\" cx=\"999.016\" cy=\"1286.66\" r=\"14.4\" fill=\"#ffa500\" fill-rule=\"evenodd\" fill-opacity=\"1\" stroke=\"#000000\" stroke-opacity=\"1\" stroke-width=\"3.2\"/>\n<circle clip-path=\"url(#clip152)\" cx=\"1156.45\" cy=\"1392.18\" r=\"14.4\" fill=\"#ffa500\" fill-rule=\"evenodd\" fill-opacity=\"1\" stroke=\"#000000\" stroke-opacity=\"1\" stroke-width=\"3.2\"/>\n<circle clip-path=\"url(#clip152)\" cx=\"1050.64\" cy=\"1137.42\" r=\"14.4\" fill=\"#ffa500\" fill-rule=\"evenodd\" fill-opacity=\"1\" stroke=\"#000000\" stroke-opacity=\"1\" stroke-width=\"3.2\"/>\n<circle clip-path=\"url(#clip152)\" cx=\"1392.61\" cy=\"1245.18\" r=\"14.4\" fill=\"#ffa500\" fill-rule=\"evenodd\" fill-opacity=\"1\" stroke=\"#000000\" stroke-opacity=\"1\" stroke-width=\"3.2\"/>\n<circle clip-path=\"url(#clip152)\" cx=\"911.774\" cy=\"1238.85\" r=\"14.4\" fill=\"#ffa500\" fill-rule=\"evenodd\" fill-opacity=\"1\" stroke=\"#000000\" stroke-opacity=\"1\" stroke-width=\"3.2\"/>\n<circle clip-path=\"url(#clip152)\" cx=\"1156.45\" cy=\"1392.18\" r=\"14.4\" fill=\"#ffa500\" fill-rule=\"evenodd\" fill-opacity=\"1\" stroke=\"#000000\" stroke-opacity=\"1\" stroke-width=\"3.2\"/>\n<circle clip-path=\"url(#clip152)\" cx=\"1096.78\" cy=\"1137.96\" r=\"14.4\" fill=\"#ffa500\" fill-rule=\"evenodd\" fill-opacity=\"1\" stroke=\"#000000\" stroke-opacity=\"1\" stroke-width=\"3.2\"/>\n<circle clip-path=\"url(#clip152)\" cx=\"1019.03\" cy=\"1445.72\" r=\"14.4\" fill=\"#ffa500\" fill-rule=\"evenodd\" fill-opacity=\"1\" stroke=\"#000000\" stroke-opacity=\"1\" stroke-width=\"3.2\"/>\n<circle clip-path=\"url(#clip152)\" cx=\"1019.03\" cy=\"1445.72\" r=\"14.4\" fill=\"#ffa500\" fill-rule=\"evenodd\" fill-opacity=\"1\" stroke=\"#000000\" stroke-opacity=\"1\" stroke-width=\"3.2\"/>\n<circle clip-path=\"url(#clip152)\" cx=\"1156.45\" cy=\"1392.18\" r=\"14.4\" fill=\"#ffa500\" fill-rule=\"evenodd\" fill-opacity=\"1\" stroke=\"#000000\" stroke-opacity=\"1\" stroke-width=\"3.2\"/>\n<circle clip-path=\"url(#clip152)\" cx=\"1083.28\" cy=\"1294.28\" r=\"14.4\" fill=\"#ffa500\" fill-rule=\"evenodd\" fill-opacity=\"1\" stroke=\"#000000\" stroke-opacity=\"1\" stroke-width=\"3.2\"/>\n<circle clip-path=\"url(#clip152)\" cx=\"944.272\" cy=\"1275.59\" r=\"14.4\" fill=\"#ffa500\" fill-rule=\"evenodd\" fill-opacity=\"1\" stroke=\"#000000\" stroke-opacity=\"1\" stroke-width=\"3.2\"/>\n<circle clip-path=\"url(#clip152)\" cx=\"1156.45\" cy=\"1392.18\" r=\"14.4\" fill=\"#ffa500\" fill-rule=\"evenodd\" fill-opacity=\"1\" stroke=\"#000000\" stroke-opacity=\"1\" stroke-width=\"3.2\"/>\n<circle clip-path=\"url(#clip152)\" cx=\"1076.69\" cy=\"969.324\" r=\"14.4\" fill=\"#0000ff\" fill-rule=\"evenodd\" fill-opacity=\"1\" stroke=\"#000000\" stroke-opacity=\"1\" stroke-width=\"3.2\"/>\n<circle clip-path=\"url(#clip152)\" cx=\"1370.66\" cy=\"876.196\" r=\"14.4\" fill=\"#0000ff\" fill-rule=\"evenodd\" fill-opacity=\"1\" stroke=\"#000000\" stroke-opacity=\"1\" stroke-width=\"3.2\"/>\n<circle clip-path=\"url(#clip152)\" cx=\"804.229\" cy=\"1014.48\" r=\"14.4\" fill=\"#0000ff\" fill-rule=\"evenodd\" fill-opacity=\"1\" stroke=\"#000000\" stroke-opacity=\"1\" stroke-width=\"3.2\"/>\n<circle clip-path=\"url(#clip152)\" cx=\"1085.7\" cy=\"757.568\" r=\"14.4\" fill=\"#0000ff\" fill-rule=\"evenodd\" fill-opacity=\"1\" stroke=\"#000000\" stroke-opacity=\"1\" stroke-width=\"3.2\"/>\n<circle clip-path=\"url(#clip152)\" cx=\"649.719\" cy=\"822.657\" r=\"14.4\" fill=\"#0000ff\" fill-rule=\"evenodd\" fill-opacity=\"1\" stroke=\"#000000\" stroke-opacity=\"1\" stroke-width=\"3.2\"/>\n<circle clip-path=\"url(#clip152)\" cx=\"1238.72\" cy=\"1097.29\" r=\"14.4\" fill=\"#ff0000\" fill-rule=\"evenodd\" fill-opacity=\"1\" stroke=\"#000000\" stroke-opacity=\"1\" stroke-width=\"3.2\"/>\n<circle clip-path=\"url(#clip152)\" cx=\"1442.29\" cy=\"1017.57\" r=\"14.4\" fill=\"#ff0000\" fill-rule=\"evenodd\" fill-opacity=\"1\" stroke=\"#000000\" stroke-opacity=\"1\" stroke-width=\"3.2\"/>\n<circle clip-path=\"url(#clip152)\" cx=\"1237.54\" cy=\"1084.03\" r=\"14.4\" fill=\"#ff0000\" fill-rule=\"evenodd\" fill-opacity=\"1\" stroke=\"#000000\" stroke-opacity=\"1\" stroke-width=\"3.2\"/>\n<circle clip-path=\"url(#clip152)\" cx=\"1261.85\" cy=\"1101.01\" r=\"14.4\" fill=\"#ff0000\" fill-rule=\"evenodd\" fill-opacity=\"1\" stroke=\"#000000\" stroke-opacity=\"1\" stroke-width=\"3.2\"/>\n<circle clip-path=\"url(#clip152)\" cx=\"979.637\" cy=\"1039.61\" r=\"14.4\" fill=\"#ff0000\" fill-rule=\"evenodd\" fill-opacity=\"1\" stroke=\"#000000\" stroke-opacity=\"1\" stroke-width=\"3.2\"/>\n<circle clip-path=\"url(#clip152)\" cx=\"1251.51\" cy=\"1097.46\" r=\"14.4\" fill=\"#ff0000\" fill-rule=\"evenodd\" fill-opacity=\"1\" stroke=\"#000000\" stroke-opacity=\"1\" stroke-width=\"3.2\"/>\n<circle clip-path=\"url(#clip152)\" cx=\"1242.68\" cy=\"1090.9\" r=\"14.4\" fill=\"#ff0000\" fill-rule=\"evenodd\" fill-opacity=\"1\" stroke=\"#000000\" stroke-opacity=\"1\" stroke-width=\"3.2\"/>\n<circle clip-path=\"url(#clip152)\" cx=\"979.637\" cy=\"1039.61\" r=\"14.4\" fill=\"#ff0000\" fill-rule=\"evenodd\" fill-opacity=\"1\" stroke=\"#000000\" stroke-opacity=\"1\" stroke-width=\"3.2\"/>\n<circle clip-path=\"url(#clip152)\" cx=\"1266.93\" cy=\"1097.1\" r=\"14.4\" fill=\"#ff0000\" fill-rule=\"evenodd\" fill-opacity=\"1\" stroke=\"#000000\" stroke-opacity=\"1\" stroke-width=\"3.2\"/>\n<circle clip-path=\"url(#clip152)\" cx=\"1251.51\" cy=\"1097.46\" r=\"14.4\" fill=\"#ff0000\" fill-rule=\"evenodd\" fill-opacity=\"1\" stroke=\"#000000\" stroke-opacity=\"1\" stroke-width=\"3.2\"/>\n<circle clip-path=\"url(#clip152)\" cx=\"1251.51\" cy=\"1097.46\" r=\"14.4\" fill=\"#ff0000\" fill-rule=\"evenodd\" fill-opacity=\"1\" stroke=\"#000000\" stroke-opacity=\"1\" stroke-width=\"3.2\"/>\n<circle clip-path=\"url(#clip152)\" cx=\"1208.47\" cy=\"994.852\" r=\"14.4\" fill=\"#ff0000\" fill-rule=\"evenodd\" fill-opacity=\"1\" stroke=\"#000000\" stroke-opacity=\"1\" stroke-width=\"3.2\"/>\n<circle clip-path=\"url(#clip152)\" cx=\"979.637\" cy=\"1039.61\" r=\"14.4\" fill=\"#ff0000\" fill-rule=\"evenodd\" fill-opacity=\"1\" stroke=\"#000000\" stroke-opacity=\"1\" stroke-width=\"3.2\"/>\n<circle clip-path=\"url(#clip152)\" cx=\"950.369\" cy=\"899.967\" r=\"14.4\" fill=\"#ffff00\" fill-rule=\"evenodd\" fill-opacity=\"1\" stroke=\"#000000\" stroke-opacity=\"1\" stroke-width=\"3.2\"/>\n<circle clip-path=\"url(#clip152)\" cx=\"1181.84\" cy=\"881.598\" r=\"14.4\" fill=\"#ffff00\" fill-rule=\"evenodd\" fill-opacity=\"1\" stroke=\"#000000\" stroke-opacity=\"1\" stroke-width=\"3.2\"/>\n<circle clip-path=\"url(#clip152)\" cx=\"827.447\" cy=\"901.315\" r=\"14.4\" fill=\"#ffff00\" fill-rule=\"evenodd\" fill-opacity=\"1\" stroke=\"#000000\" stroke-opacity=\"1\" stroke-width=\"3.2\"/>\n<circle clip-path=\"url(#clip152)\" cx=\"1276.81\" cy=\"833.186\" r=\"14.4\" fill=\"#ffff00\" fill-rule=\"evenodd\" fill-opacity=\"1\" stroke=\"#000000\" stroke-opacity=\"1\" stroke-width=\"3.2\"/>\n<circle clip-path=\"url(#clip152)\" cx=\"1998.41\" cy=\"1159.66\" r=\"14.4\" fill=\"#800080\" fill-rule=\"evenodd\" fill-opacity=\"1\" stroke=\"#000000\" stroke-opacity=\"1\" stroke-width=\"3.2\"/>\n<circle clip-path=\"url(#clip152)\" cx=\"2133.53\" cy=\"1173.4\" r=\"14.4\" fill=\"#800080\" fill-rule=\"evenodd\" fill-opacity=\"1\" stroke=\"#000000\" stroke-opacity=\"1\" stroke-width=\"3.2\"/>\n<circle clip-path=\"url(#clip152)\" cx=\"1990.88\" cy=\"973.492\" r=\"14.4\" fill=\"#800080\" fill-rule=\"evenodd\" fill-opacity=\"1\" stroke=\"#000000\" stroke-opacity=\"1\" stroke-width=\"3.2\"/>\n<circle clip-path=\"url(#clip152)\" cx=\"1846.94\" cy=\"1025.88\" r=\"14.4\" fill=\"#800080\" fill-rule=\"evenodd\" fill-opacity=\"1\" stroke=\"#000000\" stroke-opacity=\"1\" stroke-width=\"3.2\"/>\n<circle clip-path=\"url(#clip152)\" cx=\"1812.06\" cy=\"1250.41\" r=\"14.4\" fill=\"#800080\" fill-rule=\"evenodd\" fill-opacity=\"1\" stroke=\"#000000\" stroke-opacity=\"1\" stroke-width=\"3.2\"/>\n<circle clip-path=\"url(#clip152)\" cx=\"1846.94\" cy=\"1025.88\" r=\"14.4\" fill=\"#800080\" fill-rule=\"evenodd\" fill-opacity=\"1\" stroke=\"#000000\" stroke-opacity=\"1\" stroke-width=\"3.2\"/>\n<circle clip-path=\"url(#clip152)\" cx=\"1998.41\" cy=\"1159.66\" r=\"14.4\" fill=\"#800080\" fill-rule=\"evenodd\" fill-opacity=\"1\" stroke=\"#000000\" stroke-opacity=\"1\" stroke-width=\"3.2\"/>\n<circle clip-path=\"url(#clip152)\" cx=\"2043.44\" cy=\"979.584\" r=\"14.4\" fill=\"#800080\" fill-rule=\"evenodd\" fill-opacity=\"1\" stroke=\"#000000\" stroke-opacity=\"1\" stroke-width=\"3.2\"/>\n<circle clip-path=\"url(#clip152)\" cx=\"2103.42\" cy=\"1251.06\" r=\"14.4\" fill=\"#000000\" fill-rule=\"evenodd\" fill-opacity=\"1\" stroke=\"none\"/>\n<circle clip-path=\"url(#clip152)\" cx=\"2007.79\" cy=\"1012.4\" r=\"14.4\" fill=\"#000000\" fill-rule=\"evenodd\" fill-opacity=\"1\" stroke=\"none\"/>\n<circle clip-path=\"url(#clip152)\" cx=\"2292.51\" cy=\"1210.07\" r=\"14.4\" fill=\"#000000\" fill-rule=\"evenodd\" fill-opacity=\"1\" stroke=\"none\"/>\n<circle clip-path=\"url(#clip152)\" cx=\"2278.2\" cy=\"1218.33\" r=\"14.4\" fill=\"#000000\" fill-rule=\"evenodd\" fill-opacity=\"1\" stroke=\"none\"/>\n<circle clip-path=\"url(#clip152)\" cx=\"2024.21\" cy=\"1072.72\" r=\"14.4\" fill=\"#000000\" fill-rule=\"evenodd\" fill-opacity=\"1\" stroke=\"none\"/>\n<circle clip-path=\"url(#clip152)\" cx=\"1763.62\" cy=\"843.545\" r=\"14.4\" fill=\"#000000\" fill-rule=\"evenodd\" fill-opacity=\"1\" stroke=\"none\"/>\n<circle clip-path=\"url(#clip152)\" cx=\"2120.07\" cy=\"1242.57\" r=\"14.4\" fill=\"#000000\" fill-rule=\"evenodd\" fill-opacity=\"1\" stroke=\"none\"/>\n<circle clip-path=\"url(#clip152)\" cx=\"1877.46\" cy=\"1177.32\" r=\"14.4\" fill=\"#000000\" fill-rule=\"evenodd\" fill-opacity=\"1\" stroke=\"none\"/>\n<circle clip-path=\"url(#clip152)\" cx=\"2270.47\" cy=\"1156.37\" r=\"14.4\" fill=\"#000000\" fill-rule=\"evenodd\" fill-opacity=\"1\" stroke=\"none\"/>\n<circle clip-path=\"url(#clip152)\" cx=\"1877.46\" cy=\"1177.32\" r=\"14.4\" fill=\"#000000\" fill-rule=\"evenodd\" fill-opacity=\"1\" stroke=\"none\"/>\n<path clip-path=\"url(#clip150)\" d=\"\nM1758.2 509.938 L2281.8 509.938 L2281.8 95.2176 L1758.2 95.2176  Z\n  \" fill=\"#ffffff\" fill-rule=\"evenodd\" fill-opacity=\"1\"/>\n<polyline clip-path=\"url(#clip150)\" style=\"stroke:#000000; stroke-linecap:round; stroke-linejoin:round; stroke-width:4; stroke-opacity:1; fill:none\" points=\"\n  1758.2,509.938 2281.8,509.938 2281.8,95.2176 1758.2,95.2176 1758.2,509.938 \n  \"/>\n<circle clip-path=\"url(#clip150)\" cx=\"1852.81\" cy=\"147.058\" r=\"23.04\" fill=\"#008000\" fill-rule=\"evenodd\" fill-opacity=\"1\" stroke=\"#000000\" stroke-opacity=\"1\" stroke-width=\"5.12\"/>\n<path clip-path=\"url(#clip150)\" d=\"M1967.76 143.389 Q1969.36 140.518 1971.58 139.153 Q1973.8 137.787 1976.81 137.787 Q1980.86 137.787 1983.06 140.634 Q1985.26 143.458 1985.26 148.689 L1985.26 164.338 L1980.98 164.338 L1980.98 148.828 Q1980.98 145.102 1979.66 143.296 Q1978.34 141.49 1975.63 141.49 Q1972.32 141.49 1970.4 143.69 Q1968.48 145.889 1968.48 149.685 L1968.48 164.338 L1964.2 164.338 L1964.2 148.828 Q1964.2 145.078 1962.88 143.296 Q1961.56 141.49 1958.8 141.49 Q1955.54 141.49 1953.62 143.713 Q1951.7 145.912 1951.7 149.685 L1951.7 164.338 L1947.42 164.338 L1947.42 138.412 L1951.7 138.412 L1951.7 142.44 Q1953.16 140.055 1955.19 138.921 Q1957.23 137.787 1960.03 137.787 Q1962.86 137.787 1964.82 139.222 Q1966.81 140.657 1967.76 143.389 Z\" fill=\"#000000\" fill-rule=\"evenodd\" fill-opacity=\"1\" /><path clip-path=\"url(#clip150)\" d=\"M2005.54 151.305 Q2000.38 151.305 1998.39 152.486 Q1996.4 153.666 1996.4 156.514 Q1996.4 158.782 1997.88 160.125 Q1999.38 161.444 2001.95 161.444 Q2005.49 161.444 2007.62 158.944 Q2009.78 156.421 2009.78 152.254 L2009.78 151.305 L2005.54 151.305 M2014.04 149.546 L2014.04 164.338 L2009.78 164.338 L2009.78 160.402 Q2008.32 162.763 2006.14 163.898 Q2003.97 165.009 2000.82 165.009 Q1996.84 165.009 1994.48 162.787 Q1992.14 160.541 1992.14 156.791 Q1992.14 152.416 1995.05 150.194 Q1997.99 147.972 2003.8 147.972 L2009.78 147.972 L2009.78 147.555 Q2009.78 144.615 2007.83 143.018 Q2005.91 141.398 2002.42 141.398 Q2000.19 141.398 1998.09 141.93 Q1995.98 142.463 1994.04 143.527 L1994.04 139.592 Q1996.37 138.69 1998.57 138.25 Q2000.77 137.787 2002.85 137.787 Q2008.48 137.787 2011.26 140.703 Q2014.04 143.62 2014.04 149.546 Z\" fill=\"#000000\" fill-rule=\"evenodd\" fill-opacity=\"1\" /><path clip-path=\"url(#clip150)\" d=\"M2042.99 143.389 Q2044.59 140.518 2046.81 139.153 Q2049.04 137.787 2052.04 137.787 Q2056.1 137.787 2058.29 140.634 Q2060.49 143.458 2060.49 148.689 L2060.49 164.338 L2056.21 164.338 L2056.21 148.828 Q2056.21 145.102 2054.89 143.296 Q2053.57 141.49 2050.86 141.49 Q2047.55 141.49 2045.63 143.69 Q2043.71 145.889 2043.71 149.685 L2043.71 164.338 L2039.43 164.338 L2039.43 148.828 Q2039.43 145.078 2038.11 143.296 Q2036.79 141.49 2034.04 141.49 Q2030.77 141.49 2028.85 143.713 Q2026.93 145.912 2026.93 149.685 L2026.93 164.338 L2022.65 164.338 L2022.65 138.412 L2026.93 138.412 L2026.93 142.44 Q2028.39 140.055 2030.42 138.921 Q2032.46 137.787 2035.26 137.787 Q2038.09 137.787 2040.05 139.222 Q2042.04 140.657 2042.99 143.389 Z\" fill=\"#000000\" fill-rule=\"evenodd\" fill-opacity=\"1\" /><path clip-path=\"url(#clip150)\" d=\"M2089.17 143.389 Q2090.77 140.518 2092.99 139.153 Q2095.22 137.787 2098.22 137.787 Q2102.28 137.787 2104.47 140.634 Q2106.67 143.458 2106.67 148.689 L2106.67 164.338 L2102.39 164.338 L2102.39 148.828 Q2102.39 145.102 2101.07 143.296 Q2099.75 141.49 2097.04 141.49 Q2093.73 141.49 2091.81 143.69 Q2089.89 145.889 2089.89 149.685 L2089.89 164.338 L2085.61 164.338 L2085.61 148.828 Q2085.61 145.078 2084.29 143.296 Q2082.97 141.49 2080.22 141.49 Q2076.95 141.49 2075.03 143.713 Q2073.11 145.912 2073.11 149.685 L2073.11 164.338 L2068.83 164.338 L2068.83 138.412 L2073.11 138.412 L2073.11 142.44 Q2074.57 140.055 2076.6 138.921 Q2078.64 137.787 2081.44 137.787 Q2084.27 137.787 2086.23 139.222 Q2088.22 140.657 2089.17 143.389 Z\" fill=\"#000000\" fill-rule=\"evenodd\" fill-opacity=\"1\" /><path clip-path=\"url(#clip150)\" d=\"M2126.95 151.305 Q2121.79 151.305 2119.8 152.486 Q2117.81 153.666 2117.81 156.514 Q2117.81 158.782 2119.29 160.125 Q2120.79 161.444 2123.36 161.444 Q2126.91 161.444 2129.03 158.944 Q2131.19 156.421 2131.19 152.254 L2131.19 151.305 L2126.95 151.305 M2135.45 149.546 L2135.45 164.338 L2131.19 164.338 L2131.19 160.402 Q2129.73 162.763 2127.55 163.898 Q2125.38 165.009 2122.23 165.009 Q2118.25 165.009 2115.89 162.787 Q2113.55 160.541 2113.55 156.791 Q2113.55 152.416 2116.47 150.194 Q2119.41 147.972 2125.22 147.972 L2131.19 147.972 L2131.19 147.555 Q2131.19 144.615 2129.24 143.018 Q2127.32 141.398 2123.83 141.398 Q2121.6 141.398 2119.5 141.93 Q2117.39 142.463 2115.45 143.527 L2115.45 139.592 Q2117.78 138.69 2119.98 138.25 Q2122.18 137.787 2124.27 137.787 Q2129.89 137.787 2132.67 140.703 Q2135.45 143.62 2135.45 149.546 Z\" fill=\"#000000\" fill-rule=\"evenodd\" fill-opacity=\"1\" /><path clip-path=\"url(#clip150)\" d=\"M2144.22 128.319 L2148.48 128.319 L2148.48 164.338 L2144.22 164.338 L2144.22 128.319 Z\" fill=\"#000000\" fill-rule=\"evenodd\" fill-opacity=\"1\" /><circle clip-path=\"url(#clip150)\" cx=\"1852.81\" cy=\"198.898\" r=\"23.04\" fill=\"#ffa500\" fill-rule=\"evenodd\" fill-opacity=\"1\" stroke=\"#000000\" stroke-opacity=\"1\" stroke-width=\"5.12\"/>\n<path clip-path=\"url(#clip150)\" d=\"M1966.19 203.238 Q1966.19 198.539 1964.24 195.877 Q1962.32 193.192 1958.94 193.192 Q1955.56 193.192 1953.62 195.877 Q1951.7 198.539 1951.7 203.238 Q1951.7 207.937 1953.62 210.622 Q1955.56 213.284 1958.94 213.284 Q1962.32 213.284 1964.24 210.622 Q1966.19 207.937 1966.19 203.238 M1951.7 194.187 Q1953.04 191.872 1955.08 190.761 Q1957.14 189.627 1959.98 189.627 Q1964.71 189.627 1967.65 193.377 Q1970.61 197.127 1970.61 203.238 Q1970.61 209.349 1967.65 213.099 Q1964.71 216.849 1959.98 216.849 Q1957.14 216.849 1955.08 215.738 Q1953.04 214.603 1951.7 212.289 L1951.7 216.178 L1947.42 216.178 L1947.42 180.159 L1951.7 180.159 L1951.7 194.187 Z\" fill=\"#000000\" fill-rule=\"evenodd\" fill-opacity=\"1\" /><path clip-path=\"url(#clip150)\" d=\"M1977.67 190.252 L1981.93 190.252 L1981.93 216.178 L1977.67 216.178 L1977.67 190.252 M1977.67 180.159 L1981.93 180.159 L1981.93 185.553 L1977.67 185.553 L1977.67 180.159 Z\" fill=\"#000000\" fill-rule=\"evenodd\" fill-opacity=\"1\" /><path clip-path=\"url(#clip150)\" d=\"M2005.86 194.233 Q2005.15 193.817 2004.29 193.631 Q2003.46 193.423 2002.44 193.423 Q1998.83 193.423 1996.88 195.784 Q1994.96 198.122 1994.96 202.52 L1994.96 216.178 L1990.68 216.178 L1990.68 190.252 L1994.96 190.252 L1994.96 194.28 Q1996.3 191.918 1998.46 190.784 Q2000.61 189.627 2003.69 189.627 Q2004.13 189.627 2004.66 189.696 Q2005.19 189.743 2005.84 189.858 L2005.86 194.233 Z\" fill=\"#000000\" fill-rule=\"evenodd\" fill-opacity=\"1\" /><path clip-path=\"url(#clip150)\" d=\"M2026.56 194.187 L2026.56 180.159 L2030.82 180.159 L2030.82 216.178 L2026.56 216.178 L2026.56 212.289 Q2025.22 214.603 2023.16 215.738 Q2021.12 216.849 2018.25 216.849 Q2013.55 216.849 2010.59 213.099 Q2007.65 209.349 2007.65 203.238 Q2007.65 197.127 2010.59 193.377 Q2013.55 189.627 2018.25 189.627 Q2021.12 189.627 2023.16 190.761 Q2025.22 191.872 2026.56 194.187 M2012.04 203.238 Q2012.04 207.937 2013.97 210.622 Q2015.91 213.284 2019.29 213.284 Q2022.67 213.284 2024.61 210.622 Q2026.56 207.937 2026.56 203.238 Q2026.56 198.539 2024.61 195.877 Q2022.67 193.192 2019.29 193.192 Q2015.91 193.192 2013.97 195.877 Q2012.04 198.539 2012.04 203.238 Z\" fill=\"#000000\" fill-rule=\"evenodd\" fill-opacity=\"1\" /><circle clip-path=\"url(#clip150)\" cx=\"1852.81\" cy=\"250.738\" r=\"23.04\" fill=\"#0000ff\" fill-rule=\"evenodd\" fill-opacity=\"1\" stroke=\"#000000\" stroke-opacity=\"1\" stroke-width=\"5.12\"/>\n<path clip-path=\"url(#clip150)\" d=\"M1962.6 246.073 Q1961.88 245.657 1961.03 245.471 Q1960.19 245.263 1959.17 245.263 Q1955.56 245.263 1953.62 247.624 Q1951.7 249.962 1951.7 254.36 L1951.7 268.018 L1947.42 268.018 L1947.42 242.092 L1951.7 242.092 L1951.7 246.12 Q1953.04 243.758 1955.19 242.624 Q1957.35 241.467 1960.42 241.467 Q1960.86 241.467 1961.4 241.536 Q1961.93 241.583 1962.58 241.698 L1962.6 246.073 Z\" fill=\"#000000\" fill-rule=\"evenodd\" fill-opacity=\"1\" /><path clip-path=\"url(#clip150)\" d=\"M1988.2 253.99 L1988.2 256.073 L1968.62 256.073 Q1968.9 260.471 1971.26 262.786 Q1973.64 265.078 1977.88 265.078 Q1980.33 265.078 1982.62 264.476 Q1984.94 263.874 1987.21 262.67 L1987.21 266.698 Q1984.92 267.67 1982.51 268.18 Q1980.1 268.689 1977.62 268.689 Q1971.42 268.689 1967.79 265.078 Q1964.17 261.467 1964.17 255.309 Q1964.17 248.944 1967.6 245.217 Q1971.05 241.467 1976.88 241.467 Q1982.11 241.467 1985.15 244.846 Q1988.2 248.203 1988.2 253.99 M1983.94 252.74 Q1983.9 249.245 1981.98 247.161 Q1980.08 245.078 1976.93 245.078 Q1973.36 245.078 1971.21 247.092 Q1969.08 249.106 1968.76 252.763 L1983.94 252.74 Z\" fill=\"#000000\" fill-rule=\"evenodd\" fill-opacity=\"1\" /><path clip-path=\"url(#clip150)\" d=\"M1999.31 264.129 L1999.31 277.879 L1995.03 277.879 L1995.03 242.092 L1999.31 242.092 L1999.31 246.027 Q2000.66 243.712 2002.69 242.601 Q2004.75 241.467 2007.6 241.467 Q2012.32 241.467 2015.26 245.217 Q2018.23 248.967 2018.23 255.078 Q2018.23 261.189 2015.26 264.939 Q2012.32 268.689 2007.6 268.689 Q2004.75 268.689 2002.69 267.578 Q2000.66 266.443 1999.31 264.129 M2013.8 255.078 Q2013.8 250.379 2011.86 247.717 Q2009.94 245.032 2006.56 245.032 Q2003.18 245.032 2001.23 247.717 Q1999.31 250.379 1999.31 255.078 Q1999.31 259.777 2001.23 262.462 Q2003.18 265.124 2006.56 265.124 Q2009.94 265.124 2011.86 262.462 Q2013.8 259.777 2013.8 255.078 Z\" fill=\"#000000\" fill-rule=\"evenodd\" fill-opacity=\"1\" /><path clip-path=\"url(#clip150)\" d=\"M2029.5 234.731 L2029.5 242.092 L2038.27 242.092 L2038.27 245.402 L2029.5 245.402 L2029.5 259.476 Q2029.5 262.647 2030.35 263.55 Q2031.23 264.453 2033.9 264.453 L2038.27 264.453 L2038.27 268.018 L2033.9 268.018 Q2028.97 268.018 2027.09 266.189 Q2025.22 264.337 2025.22 259.476 L2025.22 245.402 L2022.09 245.402 L2022.09 242.092 L2025.22 242.092 L2025.22 234.731 L2029.5 234.731 Z\" fill=\"#000000\" fill-rule=\"evenodd\" fill-opacity=\"1\" /><path clip-path=\"url(#clip150)\" d=\"M2043.87 242.092 L2048.13 242.092 L2048.13 268.018 L2043.87 268.018 L2043.87 242.092 M2043.87 231.999 L2048.13 231.999 L2048.13 237.393 L2043.87 237.393 L2043.87 231.999 Z\" fill=\"#000000\" fill-rule=\"evenodd\" fill-opacity=\"1\" /><path clip-path=\"url(#clip150)\" d=\"M2057.04 231.999 L2061.3 231.999 L2061.3 268.018 L2057.04 268.018 L2057.04 231.999 Z\" fill=\"#000000\" fill-rule=\"evenodd\" fill-opacity=\"1\" /><path clip-path=\"url(#clip150)\" d=\"M2092.39 253.99 L2092.39 256.073 L2072.81 256.073 Q2073.09 260.471 2075.45 262.786 Q2077.83 265.078 2082.07 265.078 Q2084.52 265.078 2086.81 264.476 Q2089.13 263.874 2091.4 262.67 L2091.4 266.698 Q2089.1 267.67 2086.7 268.18 Q2084.29 268.689 2081.81 268.689 Q2075.61 268.689 2071.97 265.078 Q2068.36 261.467 2068.36 255.309 Q2068.36 248.944 2071.79 245.217 Q2075.24 241.467 2081.07 241.467 Q2086.3 241.467 2089.34 244.846 Q2092.39 248.203 2092.39 253.99 M2088.13 252.74 Q2088.09 249.245 2086.16 247.161 Q2084.27 245.078 2081.12 245.078 Q2077.55 245.078 2075.4 247.092 Q2073.27 249.106 2072.95 252.763 L2088.13 252.74 Z\" fill=\"#000000\" fill-rule=\"evenodd\" fill-opacity=\"1\" /><circle clip-path=\"url(#clip150)\" cx=\"1852.81\" cy=\"302.578\" r=\"23.04\" fill=\"#ff0000\" fill-rule=\"evenodd\" fill-opacity=\"1\" stroke=\"#000000\" stroke-opacity=\"1\" stroke-width=\"5.12\"/>\n<path clip-path=\"url(#clip150)\" d=\"M1963.92 283.839 L1963.92 287.381 L1959.85 287.381 Q1957.55 287.381 1956.65 288.307 Q1955.77 289.233 1955.77 291.64 L1955.77 293.932 L1962.79 293.932 L1962.79 297.242 L1955.77 297.242 L1955.77 319.858 L1951.49 319.858 L1951.49 297.242 L1947.42 297.242 L1947.42 293.932 L1951.49 293.932 L1951.49 292.126 Q1951.49 287.798 1953.5 285.83 Q1955.52 283.839 1959.89 283.839 L1963.92 283.839 Z\" fill=\"#000000\" fill-rule=\"evenodd\" fill-opacity=\"1\" /><path clip-path=\"url(#clip150)\" d=\"M1967.48 293.932 L1971.74 293.932 L1971.74 319.858 L1967.48 319.858 L1967.48 293.932 M1967.48 283.839 L1971.74 283.839 L1971.74 289.233 L1967.48 289.233 L1967.48 283.839 Z\" fill=\"#000000\" fill-rule=\"evenodd\" fill-opacity=\"1\" /><path clip-path=\"url(#clip150)\" d=\"M1997.18 294.696 L1997.18 298.723 Q1995.38 297.797 1993.43 297.335 Q1991.49 296.872 1989.41 296.872 Q1986.23 296.872 1984.64 297.844 Q1983.06 298.816 1983.06 300.76 Q1983.06 302.242 1984.2 303.098 Q1985.33 303.932 1988.76 304.696 L1990.22 305.02 Q1994.75 305.992 1996.65 307.774 Q1998.57 309.534 1998.57 312.705 Q1998.57 316.316 1995.7 318.422 Q1992.85 320.529 1987.85 320.529 Q1985.77 320.529 1983.5 320.112 Q1981.26 319.719 1978.76 318.908 L1978.76 314.51 Q1981.12 315.737 1983.41 316.362 Q1985.7 316.964 1987.95 316.964 Q1990.96 316.964 1992.58 315.946 Q1994.2 314.904 1994.2 313.029 Q1994.2 311.293 1993.02 310.367 Q1991.86 309.441 1987.9 308.584 L1986.42 308.237 Q1982.46 307.404 1980.7 305.691 Q1978.94 303.955 1978.94 300.946 Q1978.94 297.288 1981.54 295.298 Q1984.13 293.307 1988.9 293.307 Q1991.26 293.307 1993.34 293.654 Q1995.42 294.001 1997.18 294.696 Z\" fill=\"#000000\" fill-rule=\"evenodd\" fill-opacity=\"1\" /><path clip-path=\"url(#clip150)\" d=\"M2026.91 304.209 L2026.91 319.858 L2022.65 319.858 L2022.65 304.348 Q2022.65 300.668 2021.21 298.839 Q2019.78 297.01 2016.91 297.01 Q2013.46 297.01 2011.47 299.21 Q2009.48 301.409 2009.48 305.205 L2009.48 319.858 L2005.19 319.858 L2005.19 283.839 L2009.48 283.839 L2009.48 297.96 Q2011 295.622 2013.06 294.464 Q2015.15 293.307 2017.85 293.307 Q2022.32 293.307 2024.61 296.085 Q2026.91 298.839 2026.91 304.209 Z\" fill=\"#000000\" fill-rule=\"evenodd\" fill-opacity=\"1\" /><circle clip-path=\"url(#clip150)\" cx=\"1852.81\" cy=\"354.418\" r=\"23.04\" fill=\"#ffff00\" fill-rule=\"evenodd\" fill-opacity=\"1\" stroke=\"#000000\" stroke-opacity=\"1\" stroke-width=\"5.12\"/>\n<path clip-path=\"url(#clip150)\" d=\"M1960.82 358.665 Q1955.66 358.665 1953.67 359.846 Q1951.67 361.026 1951.67 363.874 Q1951.67 366.142 1953.16 367.485 Q1954.66 368.804 1957.23 368.804 Q1960.77 368.804 1962.9 366.304 Q1965.05 363.781 1965.05 359.614 L1965.05 358.665 L1960.82 358.665 M1969.31 356.906 L1969.31 371.698 L1965.05 371.698 L1965.05 367.762 Q1963.6 370.123 1961.42 371.258 Q1959.24 372.369 1956.1 372.369 Q1952.11 372.369 1949.75 370.147 Q1947.42 367.901 1947.42 364.151 Q1947.42 359.776 1950.33 357.554 Q1953.27 355.332 1959.08 355.332 L1965.05 355.332 L1965.05 354.915 Q1965.05 351.975 1963.11 350.378 Q1961.19 348.758 1957.69 348.758 Q1955.47 348.758 1953.36 349.29 Q1951.26 349.823 1949.31 350.887 L1949.31 346.952 Q1951.65 346.05 1953.85 345.61 Q1956.05 345.147 1958.13 345.147 Q1963.76 345.147 1966.54 348.063 Q1969.31 350.98 1969.31 356.906 Z\" fill=\"#000000\" fill-rule=\"evenodd\" fill-opacity=\"1\" /><path clip-path=\"url(#clip150)\" d=\"M1998.27 350.749 Q1999.87 347.878 2002.09 346.513 Q2004.31 345.147 2007.32 345.147 Q2011.37 345.147 2013.57 347.994 Q2015.77 350.818 2015.77 356.049 L2015.77 371.698 L2011.49 371.698 L2011.49 356.188 Q2011.49 352.462 2010.17 350.656 Q2008.85 348.85 2006.14 348.85 Q2002.83 348.85 2000.91 351.05 Q1998.99 353.249 1998.99 357.045 L1998.99 371.698 L1994.71 371.698 L1994.71 356.188 Q1994.71 352.438 1993.39 350.656 Q1992.07 348.85 1989.31 348.85 Q1986.05 348.85 1984.13 351.073 Q1982.21 353.272 1982.21 357.045 L1982.21 371.698 L1977.92 371.698 L1977.92 345.772 L1982.21 345.772 L1982.21 349.8 Q1983.67 347.415 1985.7 346.281 Q1987.74 345.147 1990.54 345.147 Q1993.36 345.147 1995.33 346.582 Q1997.32 348.017 1998.27 350.749 Z\" fill=\"#000000\" fill-rule=\"evenodd\" fill-opacity=\"1\" /><path clip-path=\"url(#clip150)\" d=\"M2028.39 367.809 L2028.39 381.559 L2024.1 381.559 L2024.1 345.772 L2028.39 345.772 L2028.39 349.707 Q2029.73 347.392 2031.77 346.281 Q2033.83 345.147 2036.67 345.147 Q2041.4 345.147 2044.34 348.897 Q2047.3 352.647 2047.3 358.758 Q2047.3 364.869 2044.34 368.619 Q2041.4 372.369 2036.67 372.369 Q2033.83 372.369 2031.77 371.258 Q2029.73 370.123 2028.39 367.809 M2042.88 358.758 Q2042.88 354.059 2040.93 351.397 Q2039.01 348.712 2035.63 348.712 Q2032.25 348.712 2030.31 351.397 Q2028.39 354.059 2028.39 358.758 Q2028.39 363.457 2030.31 366.142 Q2032.25 368.804 2035.63 368.804 Q2039.01 368.804 2040.93 366.142 Q2042.88 363.457 2042.88 358.758 Z\" fill=\"#000000\" fill-rule=\"evenodd\" fill-opacity=\"1\" /><path clip-path=\"url(#clip150)\" d=\"M2075.91 356.049 L2075.91 371.698 L2071.65 371.698 L2071.65 356.188 Q2071.65 352.508 2070.22 350.679 Q2068.78 348.85 2065.91 348.85 Q2062.46 348.85 2060.47 351.05 Q2058.48 353.249 2058.48 357.045 L2058.48 371.698 L2054.2 371.698 L2054.2 335.679 L2058.48 335.679 L2058.48 349.8 Q2060.01 347.462 2062.07 346.304 Q2064.15 345.147 2066.86 345.147 Q2071.33 345.147 2073.62 347.925 Q2075.91 350.679 2075.91 356.049 Z\" fill=\"#000000\" fill-rule=\"evenodd\" fill-opacity=\"1\" /><path clip-path=\"url(#clip150)\" d=\"M2084.41 345.772 L2088.66 345.772 L2088.66 371.698 L2084.41 371.698 L2084.41 345.772 M2084.41 335.679 L2088.66 335.679 L2088.66 341.073 L2084.41 341.073 L2084.41 335.679 Z\" fill=\"#000000\" fill-rule=\"evenodd\" fill-opacity=\"1\" /><path clip-path=\"url(#clip150)\" d=\"M2116.19 358.758 Q2116.19 354.059 2114.24 351.397 Q2112.32 348.712 2108.94 348.712 Q2105.56 348.712 2103.62 351.397 Q2101.7 354.059 2101.7 358.758 Q2101.7 363.457 2103.62 366.142 Q2105.56 368.804 2108.94 368.804 Q2112.32 368.804 2114.24 366.142 Q2116.19 363.457 2116.19 358.758 M2101.7 349.707 Q2103.04 347.392 2105.08 346.281 Q2107.14 345.147 2109.98 345.147 Q2114.71 345.147 2117.65 348.897 Q2120.61 352.647 2120.61 358.758 Q2120.61 364.869 2117.65 368.619 Q2114.71 372.369 2109.98 372.369 Q2107.14 372.369 2105.08 371.258 Q2103.04 370.123 2101.7 367.809 L2101.7 371.698 L2097.41 371.698 L2097.41 335.679 L2101.7 335.679 L2101.7 349.707 Z\" fill=\"#000000\" fill-rule=\"evenodd\" fill-opacity=\"1\" /><path clip-path=\"url(#clip150)\" d=\"M2127.67 345.772 L2131.93 345.772 L2131.93 371.698 L2127.67 371.698 L2127.67 345.772 M2127.67 335.679 L2131.93 335.679 L2131.93 341.073 L2127.67 341.073 L2127.67 335.679 Z\" fill=\"#000000\" fill-rule=\"evenodd\" fill-opacity=\"1\" /><path clip-path=\"url(#clip150)\" d=\"M2152.62 358.665 Q2147.46 358.665 2145.47 359.846 Q2143.48 361.026 2143.48 363.874 Q2143.48 366.142 2144.96 367.485 Q2146.47 368.804 2149.03 368.804 Q2152.58 368.804 2154.71 366.304 Q2156.86 363.781 2156.86 359.614 L2156.86 358.665 L2152.62 358.665 M2161.12 356.906 L2161.12 371.698 L2156.86 371.698 L2156.86 367.762 Q2155.4 370.123 2153.22 371.258 Q2151.05 372.369 2147.9 372.369 Q2143.92 372.369 2141.56 370.147 Q2139.22 367.901 2139.22 364.151 Q2139.22 359.776 2142.14 357.554 Q2145.08 355.332 2150.89 355.332 L2156.86 355.332 L2156.86 354.915 Q2156.86 351.975 2154.91 350.378 Q2152.99 348.758 2149.5 348.758 Q2147.28 348.758 2145.17 349.29 Q2143.06 349.823 2141.12 350.887 L2141.12 346.952 Q2143.46 346.05 2145.66 345.61 Q2147.85 345.147 2149.94 345.147 Q2155.56 345.147 2158.34 348.063 Q2161.12 350.98 2161.12 356.906 Z\" fill=\"#000000\" fill-rule=\"evenodd\" fill-opacity=\"1\" /><path clip-path=\"url(#clip150)\" d=\"M2191.44 356.049 L2191.44 371.698 L2187.18 371.698 L2187.18 356.188 Q2187.18 352.508 2185.75 350.679 Q2184.31 348.85 2181.44 348.85 Q2177.99 348.85 2176 351.05 Q2174.01 353.249 2174.01 357.045 L2174.01 371.698 L2169.73 371.698 L2169.73 345.772 L2174.01 345.772 L2174.01 349.8 Q2175.54 347.462 2177.6 346.304 Q2179.68 345.147 2182.39 345.147 Q2186.86 345.147 2189.15 347.925 Q2191.44 350.679 2191.44 356.049 Z\" fill=\"#000000\" fill-rule=\"evenodd\" fill-opacity=\"1\" /><circle clip-path=\"url(#clip150)\" cx=\"1852.81\" cy=\"406.258\" r=\"23.04\" fill=\"#800080\" fill-rule=\"evenodd\" fill-opacity=\"1\" stroke=\"#000000\" stroke-opacity=\"1\" stroke-width=\"5.12\"/>\n<path clip-path=\"url(#clip150)\" d=\"M1966.19 410.598 Q1966.19 405.899 1964.24 403.237 Q1962.32 400.552 1958.94 400.552 Q1955.56 400.552 1953.62 403.237 Q1951.7 405.899 1951.7 410.598 Q1951.7 415.297 1953.62 417.982 Q1955.56 420.644 1958.94 420.644 Q1962.32 420.644 1964.24 417.982 Q1966.19 415.297 1966.19 410.598 M1951.7 401.547 Q1953.04 399.232 1955.08 398.121 Q1957.14 396.987 1959.98 396.987 Q1964.71 396.987 1967.65 400.737 Q1970.61 404.487 1970.61 410.598 Q1970.61 416.709 1967.65 420.459 Q1964.71 424.209 1959.98 424.209 Q1957.14 424.209 1955.08 423.098 Q1953.04 421.963 1951.7 419.649 L1951.7 423.538 L1947.42 423.538 L1947.42 387.519 L1951.7 387.519 L1951.7 401.547 Z\" fill=\"#000000\" fill-rule=\"evenodd\" fill-opacity=\"1\" /><path clip-path=\"url(#clip150)\" d=\"M1977.23 413.306 L1977.23 397.612 L1981.49 397.612 L1981.49 413.144 Q1981.49 416.825 1982.92 418.676 Q1984.36 420.505 1987.23 420.505 Q1990.68 420.505 1992.67 418.306 Q1994.68 416.107 1994.68 412.311 L1994.68 397.612 L1998.94 397.612 L1998.94 423.538 L1994.68 423.538 L1994.68 419.556 Q1993.13 421.917 1991.07 423.075 Q1989.04 424.209 1986.33 424.209 Q1981.86 424.209 1979.54 421.431 Q1977.23 418.653 1977.23 413.306 M1987.95 396.987 L1987.95 396.987 Z\" fill=\"#000000\" fill-rule=\"evenodd\" fill-opacity=\"1\" /><path clip-path=\"url(#clip150)\" d=\"M2024.78 410.274 Q2024.78 405.644 2022.85 403.098 Q2020.96 400.552 2017.51 400.552 Q2014.08 400.552 2012.16 403.098 Q2010.26 405.644 2010.26 410.274 Q2010.26 414.88 2012.16 417.426 Q2014.08 419.973 2017.51 419.973 Q2020.96 419.973 2022.85 417.426 Q2024.78 414.88 2024.78 410.274 M2029.04 420.32 Q2029.04 426.94 2026.1 430.158 Q2023.16 433.399 2017.09 433.399 Q2014.85 433.399 2012.85 433.051 Q2010.86 432.727 2008.99 432.033 L2008.99 427.889 Q2010.86 428.908 2012.69 429.394 Q2014.52 429.88 2016.42 429.88 Q2020.61 429.88 2022.69 427.681 Q2024.78 425.505 2024.78 421.084 L2024.78 418.977 Q2023.46 421.269 2021.4 422.403 Q2019.34 423.538 2016.47 423.538 Q2011.7 423.538 2008.78 419.903 Q2005.86 416.269 2005.86 410.274 Q2005.86 404.255 2008.78 400.621 Q2011.7 396.987 2016.47 396.987 Q2019.34 396.987 2021.4 398.121 Q2023.46 399.255 2024.78 401.547 L2024.78 397.612 L2029.04 397.612 L2029.04 420.32 Z\" fill=\"#000000\" fill-rule=\"evenodd\" fill-opacity=\"1\" /><circle clip-path=\"url(#clip150)\" cx=\"1852.81\" cy=\"458.098\" r=\"23.04\" fill=\"#000000\" fill-rule=\"evenodd\" fill-opacity=\"1\" stroke=\"none\"/>\n<path clip-path=\"url(#clip150)\" d=\"M1947.42 449.452 L1951.67 449.452 L1951.67 475.378 L1947.42 475.378 L1947.42 449.452 M1947.42 439.359 L1951.67 439.359 L1951.67 444.753 L1947.42 444.753 L1947.42 439.359 Z\" fill=\"#000000\" fill-rule=\"evenodd\" fill-opacity=\"1\" /><path clip-path=\"url(#clip150)\" d=\"M1982.14 459.729 L1982.14 475.378 L1977.88 475.378 L1977.88 459.868 Q1977.88 456.188 1976.44 454.359 Q1975.01 452.53 1972.14 452.53 Q1968.69 452.53 1966.7 454.73 Q1964.71 456.929 1964.71 460.725 L1964.71 475.378 L1960.42 475.378 L1960.42 449.452 L1964.71 449.452 L1964.71 453.48 Q1966.23 451.142 1968.29 449.984 Q1970.38 448.827 1973.09 448.827 Q1977.55 448.827 1979.85 451.605 Q1982.14 454.359 1982.14 459.729 Z\" fill=\"#000000\" fill-rule=\"evenodd\" fill-opacity=\"1\" /><path clip-path=\"url(#clip150)\" d=\"M1987.58 449.452 L1992.09 449.452 L2000.19 471.211 L2008.29 449.452 L2012.81 449.452 L2003.09 475.378 L1997.3 475.378 L1987.58 449.452 Z\" fill=\"#000000\" fill-rule=\"evenodd\" fill-opacity=\"1\" /><path clip-path=\"url(#clip150)\" d=\"M2040.86 461.35 L2040.86 463.433 L2021.28 463.433 Q2021.56 467.831 2023.92 470.146 Q2026.3 472.438 2030.54 472.438 Q2032.99 472.438 2035.29 471.836 Q2037.6 471.234 2039.87 470.03 L2039.87 474.058 Q2037.58 475.03 2035.17 475.54 Q2032.76 476.049 2030.29 476.049 Q2024.08 476.049 2020.45 472.438 Q2016.84 468.827 2016.84 462.669 Q2016.84 456.304 2020.26 452.577 Q2023.71 448.827 2029.54 448.827 Q2034.78 448.827 2037.81 452.206 Q2040.86 455.563 2040.86 461.35 M2036.6 460.1 Q2036.56 456.605 2034.64 454.521 Q2032.74 452.438 2029.59 452.438 Q2026.03 452.438 2023.87 454.452 Q2021.74 456.466 2021.42 460.123 L2036.6 460.1 Z\" fill=\"#000000\" fill-rule=\"evenodd\" fill-opacity=\"1\" /><path clip-path=\"url(#clip150)\" d=\"M2062.88 453.433 Q2062.16 453.017 2061.3 452.831 Q2060.47 452.623 2059.45 452.623 Q2055.84 452.623 2053.9 454.984 Q2051.97 457.322 2051.97 461.72 L2051.97 475.378 L2047.69 475.378 L2047.69 449.452 L2051.97 449.452 L2051.97 453.48 Q2053.32 451.118 2055.47 449.984 Q2057.62 448.827 2060.7 448.827 Q2061.14 448.827 2061.67 448.896 Q2062.21 448.943 2062.85 449.058 L2062.88 453.433 Z\" fill=\"#000000\" fill-rule=\"evenodd\" fill-opacity=\"1\" /><path clip-path=\"url(#clip150)\" d=\"M2071.56 442.091 L2071.56 449.452 L2080.33 449.452 L2080.33 452.762 L2071.56 452.762 L2071.56 466.836 Q2071.56 470.007 2072.41 470.91 Q2073.29 471.813 2075.96 471.813 L2080.33 471.813 L2080.33 475.378 L2075.96 475.378 Q2071.03 475.378 2069.15 473.549 Q2067.28 471.697 2067.28 466.836 L2067.28 452.762 L2064.15 452.762 L2064.15 449.452 L2067.28 449.452 L2067.28 442.091 L2071.56 442.091 Z\" fill=\"#000000\" fill-rule=\"evenodd\" fill-opacity=\"1\" /><path clip-path=\"url(#clip150)\" d=\"M2108.11 461.35 L2108.11 463.433 L2088.53 463.433 Q2088.8 467.831 2091.16 470.146 Q2093.55 472.438 2097.78 472.438 Q2100.24 472.438 2102.53 471.836 Q2104.85 471.234 2107.11 470.03 L2107.11 474.058 Q2104.82 475.03 2102.41 475.54 Q2100.01 476.049 2097.53 476.049 Q2091.33 476.049 2087.69 472.438 Q2084.08 468.827 2084.08 462.669 Q2084.08 456.304 2087.51 452.577 Q2090.96 448.827 2096.79 448.827 Q2102.02 448.827 2105.05 452.206 Q2108.11 455.563 2108.11 461.35 M2103.85 460.1 Q2103.8 456.605 2101.88 454.521 Q2099.98 452.438 2096.84 452.438 Q2093.27 452.438 2091.12 454.452 Q2088.99 456.466 2088.66 460.123 L2103.85 460.1 Z\" fill=\"#000000\" fill-rule=\"evenodd\" fill-opacity=\"1\" /><path clip-path=\"url(#clip150)\" d=\"M2133.71 462.438 Q2133.71 457.739 2131.77 455.077 Q2129.84 452.392 2126.47 452.392 Q2123.09 452.392 2121.14 455.077 Q2119.22 457.739 2119.22 462.438 Q2119.22 467.137 2121.14 469.822 Q2123.09 472.484 2126.47 472.484 Q2129.84 472.484 2131.77 469.822 Q2133.71 467.137 2133.71 462.438 M2119.22 453.387 Q2120.56 451.072 2122.6 449.961 Q2124.66 448.827 2127.51 448.827 Q2132.23 448.827 2135.17 452.577 Q2138.13 456.327 2138.13 462.438 Q2138.13 468.549 2135.17 472.299 Q2132.23 476.049 2127.51 476.049 Q2124.66 476.049 2122.6 474.938 Q2120.56 473.803 2119.22 471.489 L2119.22 475.378 L2114.94 475.378 L2114.94 439.359 L2119.22 439.359 L2119.22 453.387 Z\" fill=\"#000000\" fill-rule=\"evenodd\" fill-opacity=\"1\" /><path clip-path=\"url(#clip150)\" d=\"M2160.22 453.433 Q2159.5 453.017 2158.64 452.831 Q2157.81 452.623 2156.79 452.623 Q2153.18 452.623 2151.23 454.984 Q2149.31 457.322 2149.31 461.72 L2149.31 475.378 L2145.03 475.378 L2145.03 449.452 L2149.31 449.452 L2149.31 453.48 Q2150.65 451.118 2152.81 449.984 Q2154.96 448.827 2158.04 448.827 Q2158.48 448.827 2159.01 448.896 Q2159.54 448.943 2160.19 449.058 L2160.22 453.433 Z\" fill=\"#000000\" fill-rule=\"evenodd\" fill-opacity=\"1\" /><path clip-path=\"url(#clip150)\" d=\"M2176.47 462.345 Q2171.3 462.345 2169.31 463.526 Q2167.32 464.706 2167.32 467.554 Q2167.32 469.822 2168.8 471.165 Q2170.31 472.484 2172.88 472.484 Q2176.42 472.484 2178.55 469.984 Q2180.7 467.461 2180.7 463.294 L2180.7 462.345 L2176.47 462.345 M2184.96 460.586 L2184.96 475.378 L2180.7 475.378 L2180.7 471.442 Q2179.24 473.803 2177.07 474.938 Q2174.89 476.049 2171.74 476.049 Q2167.76 476.049 2165.4 473.827 Q2163.06 471.581 2163.06 467.831 Q2163.06 463.456 2165.98 461.234 Q2168.92 459.012 2174.73 459.012 L2180.7 459.012 L2180.7 458.595 Q2180.7 455.655 2178.76 454.058 Q2176.84 452.438 2173.34 452.438 Q2171.12 452.438 2169.01 452.97 Q2166.9 453.503 2164.96 454.567 L2164.96 450.632 Q2167.3 449.73 2169.5 449.29 Q2171.7 448.827 2173.78 448.827 Q2179.4 448.827 2182.18 451.743 Q2184.96 454.66 2184.96 460.586 Z\" fill=\"#000000\" fill-rule=\"evenodd\" fill-opacity=\"1\" /><path clip-path=\"url(#clip150)\" d=\"M2197.95 442.091 L2197.95 449.452 L2206.72 449.452 L2206.72 452.762 L2197.95 452.762 L2197.95 466.836 Q2197.95 470.007 2198.8 470.91 Q2199.68 471.813 2202.34 471.813 L2206.72 471.813 L2206.72 475.378 L2202.34 475.378 Q2197.41 475.378 2195.54 473.549 Q2193.66 471.697 2193.66 466.836 L2193.66 452.762 L2190.54 452.762 L2190.54 449.452 L2193.66 449.452 L2193.66 442.091 L2197.95 442.091 Z\" fill=\"#000000\" fill-rule=\"evenodd\" fill-opacity=\"1\" /><path clip-path=\"url(#clip150)\" d=\"M2234.5 461.35 L2234.5 463.433 L2214.91 463.433 Q2215.19 467.831 2217.55 470.146 Q2219.94 472.438 2224.17 472.438 Q2226.63 472.438 2228.92 471.836 Q2231.23 471.234 2233.5 470.03 L2233.5 474.058 Q2231.21 475.03 2228.8 475.54 Q2226.4 476.049 2223.92 476.049 Q2217.71 476.049 2214.08 472.438 Q2210.47 468.827 2210.47 462.669 Q2210.47 456.304 2213.9 452.577 Q2217.34 448.827 2223.18 448.827 Q2228.41 448.827 2231.44 452.206 Q2234.5 455.563 2234.5 461.35 M2230.24 460.1 Q2230.19 456.605 2228.27 454.521 Q2226.37 452.438 2223.22 452.438 Q2219.66 452.438 2217.51 454.452 Q2215.38 456.466 2215.05 460.123 L2230.24 460.1 Z\" fill=\"#000000\" fill-rule=\"evenodd\" fill-opacity=\"1\" /></svg>\n"
     },
     "execution_count": 107,
     "metadata": {},
     "output_type": "execute_result"
    }
   ],
   "source": [
    "using Plots\n",
    "\n",
    "function plotter()\n",
    "    colors = [:green, :orange, :blue, :red, :yellow, :purple, :black]\n",
    "    labels = [\"mammal\", \"bird\", \"reptile\", \"fish\", \"amphibian\", \"bug\", \"invertebrate\"]\n",
    "    fig = Plots.plot()\n",
    "\n",
    "    for i in 1:7\n",
    "        scatter!(fig, projS[indices[i], 1], projS[indices[i], 2], mc = colors[i], label=labels[i])\n",
    "    end\n",
    "    return fig\n",
    "end\n",
    "\n",
    "plotter()\n"
   ]
  },
  {
   "cell_type": "markdown",
   "metadata": {},
   "source": [
    "Even though only roughly half of the variance in the data is explained by the two first principle components, we have obtained a nicely clustered scatter plot considering the simplicity of our data set. It makes much sense on how the animals are seperated. With an higher variety of features, we could also improve the distinction between reptiles and amphibian and that of between bugs and invertebrate."
   ]
  }
 ],
 "metadata": {
  "kernelspec": {
   "display_name": "Julia 1.7.3",
   "language": "julia",
   "name": "julia-1.7"
  },
  "language_info": {
   "file_extension": ".jl",
   "mimetype": "application/julia",
   "name": "julia",
   "version": "1.7.3"
  },
  "orig_nbformat": 4,
  "vscode": {
   "interpreter": {
    "hash": "916dbcbb3f70747c44a77c7bcd40155683ae19c65e1c03b4aa3499c5328201f1"
   }
  }
 },
 "nbformat": 4,
 "nbformat_minor": 2
}

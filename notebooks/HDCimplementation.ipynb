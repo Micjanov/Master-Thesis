{
 "cells": [
  {
   "cell_type": "markdown",
   "metadata": {},
   "source": [
    "This example shows the simplicity and strengths of HDC on a simple [toy dataset](https://www.kaggle.com/datasets/uciml/zoo-animal-classification). The data contains 101 different animals with each 17 features such as if they are airborne, their amount of legs etc. We will demonstrate the power of HDC by making a simple classifier for this dataset.\n",
    "\n",
    "Let us first define the aforementioned operations that we can do with HDVs."
   ]
  },
  {
   "cell_type": "code",
   "execution_count": 1,
   "metadata": {},
   "outputs": [
    {
     "data": {
      "text/plain": [
       "hamming"
      ]
     },
     "execution_count": 1,
     "metadata": {},
     "output_type": "execute_result"
    }
   ],
   "source": [
    "using Random\n",
    "\n",
    "\"\"\"\n",
    "Construct a binary vector. By default 10000 elements long.\n",
    "\"\"\"\n",
    "bitHDV(N::Int=10000) = bitrand(N)\n",
    "\n",
    "\n",
    "\"\"\"\n",
    "Bundles binary hyperdimensional vectors based on the element-wise majority rule.\n",
    "\"\"\"\n",
    "function bitadd(vectors::BitVector ...)\n",
    "    v = reduce(.+, vectors)\n",
    "    n = length(vectors) / 2\n",
    "    x = [i > n ? 1 : i < n ? 0 : rand(0:1) for i in v]\n",
    "    return convert(BitVector, x)\n",
    "end\n",
    "\n",
    "\n",
    "\"\"\"\n",
    "Binds binary hyperdimensional vectors based on an element-wise XOR gate.\n",
    "\"\"\"\n",
    "bitbind(vectors::BitVector ...) =  reduce(.⊻, vectors)\n",
    "\n",
    "\n",
    "\"\"\"\n",
    "Permutes a binary hyperdimensional vector by an adjustable circular shift.\n",
    "\"\"\"\n",
    "bitperm(vector::BitVector, k::Int=1) = circshift(vector, k)\n",
    "\n",
    "\n",
    "\"\"\"\n",
    "Calculates the Hamming distance between two binary vectors.\n",
    "\"\"\"\n",
    "hamming(x::BitVector, y::BitVector) = sum(x .!= y)/length(x)"
   ]
  },
  {
   "cell_type": "markdown",
   "metadata": {},
   "source": [
    "Here we see the dataset."
   ]
  },
  {
   "cell_type": "code",
   "execution_count": 2,
   "metadata": {},
   "outputs": [
    {
     "data": {
      "text/html": [
       "<div class=\"data-frame\"><p>101 rows × 18 columns (omitted printing of 9 columns)</p><table class=\"data-frame\"><thead><tr><th></th><th>animal_name</th><th>hair</th><th>feathers</th><th>eggs</th><th>milk</th><th>airborne</th><th>aquatic</th><th>predator</th><th>toothed</th></tr><tr><th></th><th title=\"String15\">String15</th><th title=\"Int64\">Int64</th><th title=\"Int64\">Int64</th><th title=\"Int64\">Int64</th><th title=\"Int64\">Int64</th><th title=\"Int64\">Int64</th><th title=\"Int64\">Int64</th><th title=\"Int64\">Int64</th><th title=\"Int64\">Int64</th></tr></thead><tbody><tr><th>1</th><td>aardvark</td><td>1</td><td>0</td><td>0</td><td>1</td><td>0</td><td>0</td><td>1</td><td>1</td></tr><tr><th>2</th><td>antelope</td><td>1</td><td>0</td><td>0</td><td>1</td><td>0</td><td>0</td><td>0</td><td>1</td></tr><tr><th>3</th><td>bass</td><td>0</td><td>0</td><td>1</td><td>0</td><td>0</td><td>1</td><td>1</td><td>1</td></tr><tr><th>4</th><td>bear</td><td>1</td><td>0</td><td>0</td><td>1</td><td>0</td><td>0</td><td>1</td><td>1</td></tr><tr><th>5</th><td>boar</td><td>1</td><td>0</td><td>0</td><td>1</td><td>0</td><td>0</td><td>1</td><td>1</td></tr><tr><th>6</th><td>buffalo</td><td>1</td><td>0</td><td>0</td><td>1</td><td>0</td><td>0</td><td>0</td><td>1</td></tr><tr><th>7</th><td>calf</td><td>1</td><td>0</td><td>0</td><td>1</td><td>0</td><td>0</td><td>0</td><td>1</td></tr><tr><th>8</th><td>carp</td><td>0</td><td>0</td><td>1</td><td>0</td><td>0</td><td>1</td><td>0</td><td>1</td></tr><tr><th>9</th><td>catfish</td><td>0</td><td>0</td><td>1</td><td>0</td><td>0</td><td>1</td><td>1</td><td>1</td></tr><tr><th>10</th><td>cavy</td><td>1</td><td>0</td><td>0</td><td>1</td><td>0</td><td>0</td><td>0</td><td>1</td></tr><tr><th>11</th><td>cheetah</td><td>1</td><td>0</td><td>0</td><td>1</td><td>0</td><td>0</td><td>1</td><td>1</td></tr><tr><th>12</th><td>chicken</td><td>0</td><td>1</td><td>1</td><td>0</td><td>1</td><td>0</td><td>0</td><td>0</td></tr><tr><th>13</th><td>chub</td><td>0</td><td>0</td><td>1</td><td>0</td><td>0</td><td>1</td><td>1</td><td>1</td></tr><tr><th>14</th><td>clam</td><td>0</td><td>0</td><td>1</td><td>0</td><td>0</td><td>0</td><td>1</td><td>0</td></tr><tr><th>15</th><td>crab</td><td>0</td><td>0</td><td>1</td><td>0</td><td>0</td><td>1</td><td>1</td><td>0</td></tr><tr><th>16</th><td>crayfish</td><td>0</td><td>0</td><td>1</td><td>0</td><td>0</td><td>1</td><td>1</td><td>0</td></tr><tr><th>17</th><td>crow</td><td>0</td><td>1</td><td>1</td><td>0</td><td>1</td><td>0</td><td>1</td><td>0</td></tr><tr><th>18</th><td>deer</td><td>1</td><td>0</td><td>0</td><td>1</td><td>0</td><td>0</td><td>0</td><td>1</td></tr><tr><th>19</th><td>dogfish</td><td>0</td><td>0</td><td>1</td><td>0</td><td>0</td><td>1</td><td>1</td><td>1</td></tr><tr><th>20</th><td>dolphin</td><td>0</td><td>0</td><td>0</td><td>1</td><td>0</td><td>1</td><td>1</td><td>1</td></tr><tr><th>21</th><td>dove</td><td>0</td><td>1</td><td>1</td><td>0</td><td>1</td><td>0</td><td>0</td><td>0</td></tr><tr><th>22</th><td>duck</td><td>0</td><td>1</td><td>1</td><td>0</td><td>1</td><td>1</td><td>0</td><td>0</td></tr><tr><th>23</th><td>elephant</td><td>1</td><td>0</td><td>0</td><td>1</td><td>0</td><td>0</td><td>0</td><td>1</td></tr><tr><th>24</th><td>flamingo</td><td>0</td><td>1</td><td>1</td><td>0</td><td>1</td><td>0</td><td>0</td><td>0</td></tr><tr><th>25</th><td>flea</td><td>0</td><td>0</td><td>1</td><td>0</td><td>0</td><td>0</td><td>0</td><td>0</td></tr><tr><th>26</th><td>frog</td><td>0</td><td>0</td><td>1</td><td>0</td><td>0</td><td>1</td><td>1</td><td>1</td></tr><tr><th>27</th><td>frog</td><td>0</td><td>0</td><td>1</td><td>0</td><td>0</td><td>1</td><td>1</td><td>1</td></tr><tr><th>28</th><td>fruitbat</td><td>1</td><td>0</td><td>0</td><td>1</td><td>1</td><td>0</td><td>0</td><td>1</td></tr><tr><th>29</th><td>giraffe</td><td>1</td><td>0</td><td>0</td><td>1</td><td>0</td><td>0</td><td>0</td><td>1</td></tr><tr><th>30</th><td>girl</td><td>1</td><td>0</td><td>0</td><td>1</td><td>0</td><td>0</td><td>1</td><td>1</td></tr><tr><th>&vellip;</th><td>&vellip;</td><td>&vellip;</td><td>&vellip;</td><td>&vellip;</td><td>&vellip;</td><td>&vellip;</td><td>&vellip;</td><td>&vellip;</td><td>&vellip;</td></tr></tbody></table></div>"
      ],
      "text/latex": [
       "\\begin{tabular}{r|cccccccccc}\n",
       "\t& animal\\_name & hair & feathers & eggs & milk & airborne & aquatic & predator & toothed & \\\\\n",
       "\t\\hline\n",
       "\t& String15 & Int64 & Int64 & Int64 & Int64 & Int64 & Int64 & Int64 & Int64 & \\\\\n",
       "\t\\hline\n",
       "\t1 & aardvark & 1 & 0 & 0 & 1 & 0 & 0 & 1 & 1 & $\\dots$ \\\\\n",
       "\t2 & antelope & 1 & 0 & 0 & 1 & 0 & 0 & 0 & 1 & $\\dots$ \\\\\n",
       "\t3 & bass & 0 & 0 & 1 & 0 & 0 & 1 & 1 & 1 & $\\dots$ \\\\\n",
       "\t4 & bear & 1 & 0 & 0 & 1 & 0 & 0 & 1 & 1 & $\\dots$ \\\\\n",
       "\t5 & boar & 1 & 0 & 0 & 1 & 0 & 0 & 1 & 1 & $\\dots$ \\\\\n",
       "\t6 & buffalo & 1 & 0 & 0 & 1 & 0 & 0 & 0 & 1 & $\\dots$ \\\\\n",
       "\t7 & calf & 1 & 0 & 0 & 1 & 0 & 0 & 0 & 1 & $\\dots$ \\\\\n",
       "\t8 & carp & 0 & 0 & 1 & 0 & 0 & 1 & 0 & 1 & $\\dots$ \\\\\n",
       "\t9 & catfish & 0 & 0 & 1 & 0 & 0 & 1 & 1 & 1 & $\\dots$ \\\\\n",
       "\t10 & cavy & 1 & 0 & 0 & 1 & 0 & 0 & 0 & 1 & $\\dots$ \\\\\n",
       "\t11 & cheetah & 1 & 0 & 0 & 1 & 0 & 0 & 1 & 1 & $\\dots$ \\\\\n",
       "\t12 & chicken & 0 & 1 & 1 & 0 & 1 & 0 & 0 & 0 & $\\dots$ \\\\\n",
       "\t13 & chub & 0 & 0 & 1 & 0 & 0 & 1 & 1 & 1 & $\\dots$ \\\\\n",
       "\t14 & clam & 0 & 0 & 1 & 0 & 0 & 0 & 1 & 0 & $\\dots$ \\\\\n",
       "\t15 & crab & 0 & 0 & 1 & 0 & 0 & 1 & 1 & 0 & $\\dots$ \\\\\n",
       "\t16 & crayfish & 0 & 0 & 1 & 0 & 0 & 1 & 1 & 0 & $\\dots$ \\\\\n",
       "\t17 & crow & 0 & 1 & 1 & 0 & 1 & 0 & 1 & 0 & $\\dots$ \\\\\n",
       "\t18 & deer & 1 & 0 & 0 & 1 & 0 & 0 & 0 & 1 & $\\dots$ \\\\\n",
       "\t19 & dogfish & 0 & 0 & 1 & 0 & 0 & 1 & 1 & 1 & $\\dots$ \\\\\n",
       "\t20 & dolphin & 0 & 0 & 0 & 1 & 0 & 1 & 1 & 1 & $\\dots$ \\\\\n",
       "\t21 & dove & 0 & 1 & 1 & 0 & 1 & 0 & 0 & 0 & $\\dots$ \\\\\n",
       "\t22 & duck & 0 & 1 & 1 & 0 & 1 & 1 & 0 & 0 & $\\dots$ \\\\\n",
       "\t23 & elephant & 1 & 0 & 0 & 1 & 0 & 0 & 0 & 1 & $\\dots$ \\\\\n",
       "\t24 & flamingo & 0 & 1 & 1 & 0 & 1 & 0 & 0 & 0 & $\\dots$ \\\\\n",
       "\t25 & flea & 0 & 0 & 1 & 0 & 0 & 0 & 0 & 0 & $\\dots$ \\\\\n",
       "\t26 & frog & 0 & 0 & 1 & 0 & 0 & 1 & 1 & 1 & $\\dots$ \\\\\n",
       "\t27 & frog & 0 & 0 & 1 & 0 & 0 & 1 & 1 & 1 & $\\dots$ \\\\\n",
       "\t28 & fruitbat & 1 & 0 & 0 & 1 & 1 & 0 & 0 & 1 & $\\dots$ \\\\\n",
       "\t29 & giraffe & 1 & 0 & 0 & 1 & 0 & 0 & 0 & 1 & $\\dots$ \\\\\n",
       "\t30 & girl & 1 & 0 & 0 & 1 & 0 & 0 & 1 & 1 & $\\dots$ \\\\\n",
       "\t$\\dots$ & $\\dots$ & $\\dots$ & $\\dots$ & $\\dots$ & $\\dots$ & $\\dots$ & $\\dots$ & $\\dots$ & $\\dots$ &  \\\\\n",
       "\\end{tabular}\n"
      ],
      "text/plain": [
       "\u001b[1m101×18 DataFrame\u001b[0m\n",
       "\u001b[1m Row \u001b[0m│\u001b[1m animal_name \u001b[0m\u001b[1m hair  \u001b[0m\u001b[1m feathers \u001b[0m\u001b[1m eggs  \u001b[0m\u001b[1m milk  \u001b[0m\u001b[1m airborne \u001b[0m\u001b[1m aquatic \u001b[0m\u001b[1m predator\u001b[0m ⋯\n",
       "\u001b[1m     \u001b[0m│\u001b[90m String15    \u001b[0m\u001b[90m Int64 \u001b[0m\u001b[90m Int64    \u001b[0m\u001b[90m Int64 \u001b[0m\u001b[90m Int64 \u001b[0m\u001b[90m Int64    \u001b[0m\u001b[90m Int64   \u001b[0m\u001b[90m Int64   \u001b[0m ⋯\n",
       "─────┼──────────────────────────────────────────────────────────────────────────\n",
       "   1 │ aardvark         1         0      0      1         0        0         1 ⋯\n",
       "   2 │ antelope         1         0      0      1         0        0         0\n",
       "   3 │ bass             0         0      1      0         0        1         1\n",
       "   4 │ bear             1         0      0      1         0        0         1\n",
       "   5 │ boar             1         0      0      1         0        0         1 ⋯\n",
       "   6 │ buffalo          1         0      0      1         0        0         0\n",
       "   7 │ calf             1         0      0      1         0        0         0\n",
       "   8 │ carp             0         0      1      0         0        1         0\n",
       "   9 │ catfish          0         0      1      0         0        1         1 ⋯\n",
       "  10 │ cavy             1         0      0      1         0        0         0\n",
       "  11 │ cheetah          1         0      0      1         0        0         1\n",
       "  ⋮  │      ⋮         ⋮       ⋮        ⋮      ⋮       ⋮         ⋮        ⋮     ⋱\n",
       "  92 │ tuatara          0         0      1      0         0        0         1\n",
       "  93 │ tuna             0         0      1      0         0        1         1 ⋯\n",
       "  94 │ vampire          1         0      0      1         1        0         0\n",
       "  95 │ vole             1         0      0      1         0        0         0\n",
       "  96 │ vulture          0         1      1      0         1        0         1\n",
       "  97 │ wallaby          1         0      0      1         0        0         0 ⋯\n",
       "  98 │ wasp             1         0      1      0         1        0         0\n",
       "  99 │ wolf             1         0      0      1         0        0         1\n",
       " 100 │ worm             0         0      1      0         0        0         0\n",
       " 101 │ wren             0         1      1      0         1        0         0 ⋯\n",
       "\u001b[36m                                                  10 columns and 80 rows omitted\u001b[0m"
      ]
     },
     "execution_count": 2,
     "metadata": {},
     "output_type": "execute_result"
    }
   ],
   "source": [
    "using DataFrames, CSV\n",
    "data = CSV.read(\"zoodata/zoo.csv\", DataFrame)"
   ]
  },
  {
   "cell_type": "markdown",
   "metadata": {},
   "source": [
    "Let us extract the class type of every animal. The class of an animal can be mammal, bird, reptile, fish, amphibian, bug or invertebrate."
   ]
  },
  {
   "cell_type": "code",
   "execution_count": 3,
   "metadata": {},
   "outputs": [
    {
     "data": {
      "text/plain": [
       "101-element Vector{Int64}:\n",
       " 1\n",
       " 1\n",
       " 4\n",
       " 1\n",
       " 1\n",
       " 1\n",
       " 1\n",
       " 4\n",
       " 4\n",
       " 1\n",
       " 1\n",
       " 2\n",
       " 4\n",
       " ⋮\n",
       " 5\n",
       " 3\n",
       " 3\n",
       " 4\n",
       " 1\n",
       " 1\n",
       " 2\n",
       " 1\n",
       " 6\n",
       " 1\n",
       " 7\n",
       " 2"
      ]
     },
     "execution_count": 3,
     "metadata": {},
     "output_type": "execute_result"
    }
   ],
   "source": [
    "classls = data.class_type"
   ]
  },
  {
   "cell_type": "markdown",
   "metadata": {},
   "source": [
    "Here we collect the index of every animal in the dataset and store them seperated by class type to easily retreive them later."
   ]
  },
  {
   "cell_type": "code",
   "execution_count": 5,
   "metadata": {},
   "outputs": [
    {
     "data": {
      "text/plain": [
       "7-element Vector{Vector{Int64}}:\n",
       " [1, 2, 4, 5, 6, 7, 10, 11, 18, 20  …  69, 70, 71, 75, 76, 85, 94, 95, 97, 99]\n",
       " [12, 17, 21, 22, 24, 34, 38, 42, 44, 57, 58, 59, 60, 72, 79, 80, 84, 88, 96, 101]\n",
       " [63, 77, 81, 91, 92]\n",
       " [3, 8, 9, 13, 19, 35, 39, 61, 62, 74, 83, 87, 93]\n",
       " [26, 27, 53, 90]\n",
       " [25, 31, 40, 41, 43, 52, 89, 98]\n",
       " [14, 15, 16, 47, 54, 73, 78, 82, 86, 100]"
      ]
     },
     "execution_count": 5,
     "metadata": {},
     "output_type": "execute_result"
    }
   ],
   "source": [
    "mammal_idx = [i for i in 1:101 if data.class_type[i] == 1]\n",
    "bird_idx = [i for i in 1:101 if data.class_type[i] == 2]\n",
    "reptile_idx = [i for i in 1:101 if data.class_type[i] == 3]\n",
    "fish_idx = [i for i in 1:101 if data.class_type[i] == 4]\n",
    "amphibian_idx = [i for i in 1:101 if data.class_type[i] == 5]\n",
    "bug_idx = [i for i in 1:101 if data.class_type[i] == 6]\n",
    "invertebrate_idx = [i for i in 1:101 if data.class_type[i] == 7]\n",
    "\n",
    "indices = [mammal_idx, bird_idx, reptile_idx, fish_idx, amphibian_idx, bug_idx, invertebrate_idx]"
   ]
  },
  {
   "cell_type": "markdown",
   "metadata": {},
   "source": [
    "Because every feature is binary except for the amount of legs, we will rearrange the dataset to be easily manipulated later on."
   ]
  },
  {
   "cell_type": "code",
   "execution_count": 6,
   "metadata": {},
   "outputs": [
    {
     "data": {
      "text/plain": [
       "101-element Vector{Int64}:\n",
       " 0\n",
       " 0\n",
       " 0\n",
       " 0\n",
       " 0\n",
       " 0\n",
       " 0\n",
       " 0\n",
       " 0\n",
       " 0\n",
       " 0\n",
       " 0\n",
       " 0\n",
       " ⋮\n",
       " 0\n",
       " 0\n",
       " 0\n",
       " 0\n",
       " 0\n",
       " 0\n",
       " 0\n",
       " 0\n",
       " 0\n",
       " 0\n",
       " 0\n",
       " 0"
      ]
     },
     "execution_count": 6,
     "metadata": {},
     "output_type": "execute_result"
    }
   ],
   "source": [
    "legs0 = [i == 0 ? 1 : 0 for i in data.legs]\n",
    "legs2 = [i == 2 ? 1 : 0 for i in data.legs]\n",
    "legs4 = [i == 4 ? 1 : 0 for i in data.legs]\n",
    "legs5 = [i == 5 ? 1 : 0 for i in data.legs]\n",
    "legs6 = [i == 6 ? 1 : 0 for i in data.legs]\n",
    "legs8 = [i == 8 ? 1 : 0 for i in data.legs]\n",
    "\n",
    "select!(data, Not(:legs))\n",
    "\n",
    "data[!, :legs0] = legs0\n",
    "data[!, :legs2] = legs2\n",
    "data[!, :legs4] = legs4\n",
    "data[!, :legs5] = legs5\n",
    "data[!, :legs6] = legs6\n",
    "data[!, :legs8] = legs8"
   ]
  },
  {
   "cell_type": "markdown",
   "metadata": {},
   "source": [
    "Representing a range of numbers by hyperdimensional vectors is also simple. We construct a random hyperdimensional vector representing the lower bound of the interval. Next, we replace a fraction of the vector by random bits which must represent the number in the next step. This assures us in this case that having 2 legs is more similar to having 4 legs than 8 legs.\n",
    "\n",
    "We also create random hyperdimensional vectors for every other feature and throw them together in a list."
   ]
  },
  {
   "cell_type": "code",
   "execution_count": 7,
   "metadata": {},
   "outputs": [
    {
     "data": {
      "text/plain": [
       "21-element Vector{BitVector}:\n",
       " [1, 0, 1, 0, 0, 0, 0, 1, 0, 0  …  1, 1, 1, 1, 1, 1, 1, 0, 1, 1]\n",
       " [1, 0, 0, 0, 0, 0, 1, 0, 1, 1  …  1, 0, 1, 0, 0, 0, 0, 0, 1, 0]\n",
       " [0, 1, 1, 1, 0, 0, 1, 0, 1, 0  …  0, 1, 1, 0, 0, 1, 0, 0, 0, 1]\n",
       " [1, 0, 0, 1, 1, 0, 1, 0, 0, 1  …  0, 1, 1, 0, 1, 0, 0, 0, 0, 1]\n",
       " [0, 1, 1, 1, 0, 1, 1, 1, 0, 0  …  0, 0, 0, 0, 1, 1, 1, 1, 1, 1]\n",
       " [0, 1, 1, 1, 0, 1, 0, 0, 1, 1  …  1, 0, 1, 0, 1, 0, 0, 0, 1, 1]\n",
       " [1, 0, 1, 0, 0, 0, 0, 1, 0, 1  …  0, 1, 0, 1, 1, 1, 1, 1, 0, 1]\n",
       " [0, 0, 1, 0, 1, 1, 1, 0, 1, 0  …  0, 1, 0, 1, 1, 1, 1, 0, 0, 1]\n",
       " [0, 1, 1, 0, 0, 0, 0, 1, 1, 0  …  1, 1, 1, 1, 1, 0, 0, 0, 1, 0]\n",
       " [0, 0, 1, 1, 0, 1, 0, 1, 1, 1  …  1, 0, 0, 1, 0, 0, 1, 0, 1, 0]\n",
       " [0, 0, 0, 0, 0, 1, 0, 0, 0, 0  …  0, 0, 0, 0, 1, 1, 0, 0, 1, 1]\n",
       " [0, 1, 0, 0, 1, 0, 1, 0, 1, 1  …  0, 1, 1, 1, 0, 1, 0, 1, 1, 1]\n",
       " [1, 1, 1, 0, 0, 1, 0, 0, 0, 1  …  0, 1, 0, 0, 0, 1, 0, 1, 1, 1]\n",
       " [1, 0, 0, 0, 1, 1, 0, 1, 1, 0  …  0, 0, 0, 0, 0, 1, 1, 0, 0, 0]\n",
       " [1, 0, 1, 0, 1, 1, 0, 0, 0, 1  …  1, 0, 1, 1, 1, 0, 1, 1, 1, 0]\n",
       " [1, 0, 1, 0, 0, 0, 1, 1, 1, 0  …  0, 0, 0, 0, 1, 0, 0, 0, 0, 0]\n",
       " [1, 1, 0, 1, 1, 0, 1, 0, 1, 1  …  1, 0, 1, 1, 0, 0, 0, 1, 1, 1]\n",
       " [0, 0, 0, 1, 0, 0, 1, 1, 0, 0  …  0, 1, 0, 1, 0, 1, 0, 1, 0, 1]\n",
       " [0, 0, 0, 0, 1, 0, 1, 0, 1, 0  …  0, 1, 0, 0, 0, 1, 0, 0, 0, 0]\n",
       " [1, 1, 1, 1, 0, 1, 1, 0, 0, 1  …  1, 1, 0, 1, 1, 0, 1, 1, 1, 0]\n",
       " [0, 1, 1, 0, 1, 0, 0, 0, 0, 0  …  0, 0, 0, 0, 0, 1, 0, 0, 1, 1]"
      ]
     },
     "execution_count": 7,
     "metadata": {},
     "output_type": "execute_result"
    }
   ],
   "source": [
    "\"\"\"\n",
    "Creates a list of binary hyperdimensional vectors representing an interval of numbers by constructing a random HDV representing the lower bound of the interval and replacing a fraction of the vector with random bits.\n",
    "\"\"\"\n",
    "function range_hdvs(steps)\n",
    "\tk = length(steps) - 1\n",
    "\tV = [bitHDV() for i in 1:k+1]\n",
    "\tfor i in 2:k+1\n",
    "\t\tfor j in 1:10000\n",
    "\t\t\tV[i][j] = rand(0:1)\n",
    "\t\tend\n",
    "\tend\n",
    "\treturn V\n",
    "end\n",
    "legs_steps = 0:1:8\n",
    "legs_hdvs = range_hdvs(legs_steps)\n",
    "\n",
    "feature_hdv=[bitHDV() for i in 1:15]\n",
    "append!(feature_hdv, [legs_hdvs[1], legs_hdvs[3], legs_hdvs[5], legs_hdvs[6], legs_hdvs[7], legs_hdvs[9]])"
   ]
  },
  {
   "cell_type": "markdown",
   "metadata": {},
   "source": [
    "To demonstrate the binding of HDVs, we can encode the types of feature into our feature set. For example, the 'milk, and 'egg' feature gives us information about the growth of the animal, so we will bind these features to an other vector representing the growth feature to obtain a more expanded model. This is also done for the skin protection features and for all the features considering the limbs."
   ]
  },
  {
   "cell_type": "code",
   "execution_count": 8,
   "metadata": {},
   "outputs": [],
   "source": [
    "growth_hdv = bitHDV()\n",
    "skin_protection = bitHDV()\n",
    "limbs = bitHDV()\n",
    "\n",
    "for i in 1:2\n",
    "    feature_hdv = replace!(feature_hdv, feature_hdv[i] => bitbind(feature_hdv[i], skin_protection))\n",
    "end\n",
    "\n",
    "for i in 3:4\n",
    "    feature_hdv = replace!(feature_hdv, feature_hdv[i] => bitbind(feature_hdv[i], growth_hdv))\n",
    "end\n",
    "\n",
    "for i in 12:13;16:21\n",
    "    feature_hdv = replace!(feature_hdv, feature_hdv[i] => bitbind(feature_hdv[i], limbs))\n",
    "end"
   ]
  },
  {
   "cell_type": "markdown",
   "metadata": {},
   "source": [
    "Now we can bundle every feature for an animal to obtain a hyperdimensional vectors representing the animal."
   ]
  },
  {
   "cell_type": "code",
   "execution_count": 9,
   "metadata": {},
   "outputs": [
    {
     "data": {
      "text/plain": [
       "101-element Vector{BitVector}:\n",
       " [1, 0, 1, 0, 0, 0, 0, 1, 1, 1  …  1, 1, 0, 1, 1, 1, 1, 1, 1, 0]\n",
       " [1, 0, 1, 0, 0, 1, 0, 0, 1, 0  …  1, 1, 0, 1, 0, 1, 1, 1, 1, 0]\n",
       " [0, 0, 1, 0, 0, 0, 0, 0, 1, 0  …  1, 1, 0, 1, 1, 1, 1, 1, 1, 0]\n",
       " [1, 0, 1, 0, 0, 0, 0, 1, 1, 1  …  1, 1, 0, 1, 1, 1, 1, 1, 1, 0]\n",
       " [1, 0, 1, 0, 0, 0, 0, 0, 1, 0  …  1, 1, 0, 1, 1, 1, 1, 1, 1, 0]\n",
       " [1, 0, 1, 0, 0, 1, 0, 0, 1, 0  …  1, 1, 0, 1, 0, 1, 1, 1, 1, 0]\n",
       " [1, 0, 1, 0, 0, 1, 0, 1, 1, 0  …  1, 0, 0, 1, 0, 1, 1, 1, 1, 0]\n",
       " [0, 0, 1, 0, 1, 1, 0, 0, 1, 0  …  1, 0, 0, 1, 1, 1, 1, 0, 1, 0]\n",
       " [0, 0, 1, 0, 0, 0, 0, 0, 1, 0  …  1, 1, 0, 1, 1, 1, 1, 1, 1, 0]\n",
       " [0, 0, 1, 0, 0, 0, 1, 1, 1, 0  …  1, 1, 0, 1, 0, 1, 1, 0, 1, 0]\n",
       " [1, 0, 1, 0, 0, 0, 0, 1, 1, 0  …  1, 1, 0, 1, 1, 1, 1, 1, 1, 0]\n",
       " [0, 0, 0, 1, 0, 1, 0, 1, 1, 0  …  1, 0, 0, 0, 1, 0, 1, 1, 1, 0]\n",
       " [0, 0, 1, 0, 0, 0, 0, 0, 1, 0  …  1, 1, 0, 1, 1, 1, 1, 1, 1, 0]\n",
       " ⋮\n",
       " [0, 0, 1, 0, 0, 1, 0, 1, 1, 0  …  1, 1, 0, 1, 1, 0, 1, 0, 1, 0]\n",
       " [0, 0, 1, 0, 1, 1, 0, 1, 1, 0  …  1, 0, 0, 1, 1, 0, 1, 1, 1, 0]\n",
       " [0, 0, 1, 0, 1, 1, 0, 1, 1, 0  …  1, 1, 0, 1, 1, 1, 1, 1, 1, 0]\n",
       " [0, 0, 1, 0, 0, 0, 0, 0, 1, 0  …  1, 0, 1, 1, 1, 1, 1, 1, 1, 0]\n",
       " [0, 0, 1, 1, 0, 1, 1, 1, 1, 0  …  1, 1, 0, 1, 0, 1, 1, 1, 1, 0]\n",
       " [1, 0, 1, 1, 0, 1, 0, 0, 1, 0  …  1, 1, 0, 1, 0, 1, 1, 1, 1, 0]\n",
       " [0, 0, 1, 1, 0, 1, 0, 1, 0, 1  …  1, 0, 0, 1, 1, 0, 1, 1, 1, 0]\n",
       " [1, 0, 1, 0, 0, 1, 0, 0, 1, 0  …  1, 1, 0, 1, 0, 1, 1, 1, 1, 0]\n",
       " [0, 0, 1, 1, 0, 1, 1, 1, 0, 0  …  0, 0, 0, 1, 1, 1, 1, 1, 1, 1]\n",
       " [1, 0, 1, 0, 0, 1, 0, 1, 1, 0  …  1, 1, 0, 1, 0, 1, 1, 1, 1, 0]\n",
       " [0, 0, 1, 1, 0, 1, 0, 1, 1, 0  …  1, 0, 0, 1, 0, 0, 1, 1, 1, 0]\n",
       " [0, 0, 0, 1, 0, 0, 0, 1, 0, 0  …  1, 0, 0, 1, 1, 0, 1, 1, 1, 0]"
      ]
     },
     "execution_count": 9,
     "metadata": {},
     "output_type": "execute_result"
    }
   ],
   "source": [
    "hdv = BitVector[]\n",
    "for i in 1:101\n",
    "    v = BitVector[]\n",
    "    for j in 2:16;18:23\n",
    "        if data[!, j][i] == 1\n",
    "            if j < 18\n",
    "                push!(v, feature_hdv[j-1])\n",
    "            end\n",
    "            if j > 17\n",
    "                push!(v, feature_hdv[j-2])\n",
    "            end\n",
    "        end\n",
    "    end\n",
    "    x = bitadd(v...)\n",
    "    push!(hdv, x)\n",
    "end\n",
    "\n",
    "data[!, :species_hdv] = hdv\n"
   ]
  },
  {
   "cell_type": "markdown",
   "metadata": {},
   "source": [
    "Let's bundle all animals of a class into a HDV representing the class."
   ]
  },
  {
   "cell_type": "code",
   "execution_count": 10,
   "metadata": {},
   "outputs": [
    {
     "data": {
      "text/plain": [
       "10000-element BitVector:\n",
       " 0\n",
       " 0\n",
       " 1\n",
       " 0\n",
       " 0\n",
       " 0\n",
       " 0\n",
       " 1\n",
       " 0\n",
       " 1\n",
       " 1\n",
       " 0\n",
       " 1\n",
       " ⋮\n",
       " 1\n",
       " 1\n",
       " 0\n",
       " 0\n",
       " 0\n",
       " 1\n",
       " 1\n",
       " 0\n",
       " 1\n",
       " 1\n",
       " 1\n",
       " 1"
      ]
     },
     "execution_count": 10,
     "metadata": {},
     "output_type": "execute_result"
    }
   ],
   "source": [
    "function grouper(group::Int)\n",
    "    v = BitVector[]\n",
    "    for i in 1:length(indices[group])\n",
    "        push!(v, data.species_hdv[indices[group][i]])\n",
    "    end\n",
    "    x = bitadd(v...)\n",
    "    return x\n",
    "end\n",
    "\n",
    "mammal_hdv = grouper(1)\n",
    "bird_hdv = grouper(2)\n",
    "reptile_hdv = grouper(3)\n",
    "fish_hdv = grouper(4)\n",
    "amphibian_hdv = grouper(5)\n",
    "bug_hdv = grouper(6)\n",
    "invertebrate_hdv = grouper(7)"
   ]
  },
  {
   "cell_type": "markdown",
   "metadata": {},
   "source": [
    "Here we construct one large matrix containing the HDV of every class. This will be needed later for an PCA analysis."
   ]
  },
  {
   "cell_type": "code",
   "execution_count": 11,
   "metadata": {},
   "outputs": [
    {
     "data": {
      "text/plain": [
       "7×10000 BitMatrix:\n",
       " 1  0  1  0  0  1  0  1  1  0  1  0  1  …  0  1  1  1  0  1  0  1  1  1  1  0\n",
       " 0  0  1  1  0  1  0  1  0  0  0  0  1     0  1  1  0  0  1  1  0  1  1  1  0\n",
       " 0  0  1  0  1  1  0  1  1  0  1  0  0     0  1  1  1  0  1  1  1  1  0  1  0\n",
       " 0  0  1  0  0  0  0  0  1  0  1  0  1     1  1  1  1  0  1  1  1  1  1  1  0\n",
       " 0  0  1  0  0  1  0  1  1  0  0  0  1     0  1  1  1  0  1  1  0  1  0  1  0\n",
       " 0  0  1  1  0  0  1  1  0  0  0  0  0  …  0  0  0  0  0  1  1  1  1  1  1  0\n",
       " 0  0  1  0  0  0  0  1  0  1  1  0  1     1  1  0  0  0  1  1  0  1  1  1  1"
      ]
     },
     "execution_count": 11,
     "metadata": {},
     "output_type": "execute_result"
    }
   ],
   "source": [
    "list_group_hdvs = [mammal_hdv, bird_hdv, reptile_hdv, fish_hdv, amphibian_hdv, bug_hdv, invertebrate_hdv]\n",
    "matrix_groups = permutedims(hcat(list_group_hdvs...))"
   ]
  },
  {
   "cell_type": "markdown",
   "metadata": {},
   "source": [
    "Let's compare the HDV of the flamingo to the HDVs of every animal class to see which class it resembles the most by calculating the Hamming between the HDV of flamingo and the class in question."
   ]
  },
  {
   "cell_type": "code",
   "execution_count": 12,
   "metadata": {},
   "outputs": [
    {
     "name": "stdout",
     "output_type": "stream",
     "text": [
      "mammal 0.2996\n",
      "bird 0.1069\n",
      "reptile 0.265\n",
      "amphibian 0.3159\n",
      "bug 0.2815\n",
      "fish 0.3507\n",
      "invertebrate 0.4067\n"
     ]
    }
   ],
   "source": [
    "println(\"mammal \",string(hamming(data.species_hdv[24], mammal_hdv)))\n",
    "println(\"bird \",string(hamming(data.species_hdv[24], bird_hdv)))\n",
    "println(\"reptile \",string(hamming(data.species_hdv[24], reptile_hdv)))\n",
    "println(\"amphibian \",string(hamming(data.species_hdv[24], amphibian_hdv)))\n",
    "println(\"bug \",string(hamming(data.species_hdv[24], bug_hdv)))\n",
    "println(\"fish \",string(hamming(data.species_hdv[24], fish_hdv)))\n",
    "println(\"invertebrate \",string(hamming(data.species_hdv[24], invertebrate_hdv)))"
   ]
  },
  {
   "cell_type": "markdown",
   "metadata": {},
   "source": [
    "Like expected, the flamingo shows most similarity to the bird group! Let's try the animal vampire since I'm not sure what's ment by this..."
   ]
  },
  {
   "cell_type": "code",
   "execution_count": 13,
   "metadata": {},
   "outputs": [
    {
     "name": "stdout",
     "output_type": "stream",
     "text": [
      "Similarity to mammal = 0.1487\n",
      "Similarity to bird =0.2964\n",
      "Similarity to reptile =0.2991\n",
      "Similarity to amphibian =0.3258\n",
      "Similarity to bug =0.3406\n",
      "Similarity to fish =0.3582\n",
      "Similarity to invertebrate =0.4938\n"
     ]
    }
   ],
   "source": [
    "println(\"Similarity to mammal = \",string(hamming(data.species_hdv[94], mammal_hdv)))\n",
    "println(\"Similarity to bird =\",string(hamming(data.species_hdv[94], bird_hdv)))\n",
    "println(\"Similarity to reptile =\",string(hamming(data.species_hdv[94], reptile_hdv)))\n",
    "println(\"Similarity to amphibian =\",string(hamming(data.species_hdv[94], amphibian_hdv)))\n",
    "println(\"Similarity to bug =\",string(hamming(data.species_hdv[94], bug_hdv)))\n",
    "println(\"Similarity to fish =\",string(hamming(data.species_hdv[94], fish_hdv)))\n",
    "println(\"Similarity to invertebrate =\",string(hamming(data.species_hdv[94], invertebrate_hdv)))"
   ]
  },
  {
   "cell_type": "markdown",
   "metadata": {},
   "source": [
    "Let's try to determine the class of an animal not present in the dataset, such as the axolotl. First we have to define the features of the axolotl."
   ]
  },
  {
   "cell_type": "code",
   "execution_count": 14,
   "metadata": {},
   "outputs": [
    {
     "data": {
      "text/plain": [
       "21-element Vector{Int64}:\n",
       " 0\n",
       " 0\n",
       " 1\n",
       " 0\n",
       " 0\n",
       " 1\n",
       " 0\n",
       " 1\n",
       " 1\n",
       " 1\n",
       " 0\n",
       " 0\n",
       " 1\n",
       " 0\n",
       " 0\n",
       " 0\n",
       " 0\n",
       " 1\n",
       " 0\n",
       " 0\n",
       " 0"
      ]
     },
     "execution_count": 14,
     "metadata": {},
     "output_type": "execute_result"
    }
   ],
   "source": [
    "axolotl_features = [0, 0, 1, 0, 0, 1, 0, 1, 1, 1, 0, 0, 1, 0, 0, 0, 0, 1, 0, 0, 0]"
   ]
  },
  {
   "cell_type": "markdown",
   "metadata": {},
   "source": [
    "Let's construct the total HDV representing the axolotl"
   ]
  },
  {
   "cell_type": "code",
   "execution_count": 15,
   "metadata": {},
   "outputs": [
    {
     "data": {
      "text/plain": [
       "10000-element BitVector:\n",
       " 0\n",
       " 0\n",
       " 1\n",
       " 0\n",
       " 1\n",
       " 1\n",
       " 0\n",
       " 0\n",
       " 1\n",
       " 0\n",
       " 0\n",
       " 0\n",
       " 1\n",
       " ⋮\n",
       " 0\n",
       " 1\n",
       " 1\n",
       " 1\n",
       " 0\n",
       " 1\n",
       " 1\n",
       " 0\n",
       " 1\n",
       " 0\n",
       " 1\n",
       " 0"
      ]
     },
     "execution_count": 15,
     "metadata": {},
     "output_type": "execute_result"
    }
   ],
   "source": [
    "v = BitVector[]\n",
    "    for j in 1:16\n",
    "        if axolotl_features[j] == 1\n",
    "            push!(v, feature_hdv[j])\n",
    "        end\n",
    "    end\n",
    "    axolotl_hdv = bitadd(v...)"
   ]
  },
  {
   "cell_type": "markdown",
   "metadata": {},
   "source": [
    "Let's find out what kind of aninal an axolotl is..."
   ]
  },
  {
   "cell_type": "code",
   "execution_count": 16,
   "metadata": {},
   "outputs": [
    {
     "name": "stdout",
     "output_type": "stream",
     "text": [
      "mammal 0.2944\n",
      "bird 0.2629\n",
      "reptile 0.2108\n",
      "amphibian 0.1751\n",
      "bug 0.3519\n",
      "fish 0.2371\n",
      "invertebrate 0.3407\n"
     ]
    }
   ],
   "source": [
    "println(\"mammal \",string(hamming(axolotl_hdv, mammal_hdv)))\n",
    "println(\"bird \",string(hamming(axolotl_hdv, bird_hdv)))\n",
    "println(\"reptile \",string(hamming(axolotl_hdv, reptile_hdv)))\n",
    "println(\"amphibian \",string(hamming(axolotl_hdv, amphibian_hdv)))\n",
    "println(\"bug \",string(hamming(axolotl_hdv, bug_hdv)))\n",
    "println(\"fish \",string(hamming(axolotl_hdv, fish_hdv)))\n",
    "println(\"invertebrate \",string(hamming(axolotl_hdv, invertebrate_hdv)))"
   ]
  },
  {
   "cell_type": "markdown",
   "metadata": {},
   "source": [
    "It seems to have a lot of similarities to fish, reptiles and amphibians due to it's unusual features but we're pretty close to amphibian considering the simplicity of this classifier!"
   ]
  },
  {
   "cell_type": "markdown",
   "metadata": {},
   "source": [
    "Now we will show how the HDVs of every class are seperated via an PCA analysis."
   ]
  },
  {
   "cell_type": "code",
   "execution_count": 17,
   "metadata": {},
   "outputs": [
    {
     "data": {
      "text/plain": [
       "PCA(indim = 7, outdim = 2, principalratio = 0.6278043851346511)\n",
       "\n",
       "Pattern matrix (unstandardized loadings):\n",
       "───────────────────────\n",
       "        PC1         PC2\n",
       "───────────────────────\n",
       "1  0.285754   0.299959\n",
       "2  0.367369   0.112739\n",
       "3  0.410404   0.0447951\n",
       "4  0.376524  -0.148593\n",
       "5  0.409737  -0.047532\n",
       "6  0.263302   0.103497\n",
       "7  0.304028  -0.320176\n",
       "───────────────────────\n",
       "\n",
       "Importance of components:\n",
       "─────────────────────────────────────────────\n",
       "                                PC1       PC2\n",
       "─────────────────────────────────────────────\n",
       "SS Loadings (Eigenvalues)  0.856463  0.242256\n",
       "Variance explained         0.48938   0.138424\n",
       "Cumulative variance        0.48938   0.627804\n",
       "Proportion explained       0.779511  0.220489\n",
       "Cumulative proportion      0.779511  1.0\n",
       "─────────────────────────────────────────────"
      ]
     },
     "execution_count": 17,
     "metadata": {},
     "output_type": "execute_result"
    }
   ],
   "source": [
    "using MultivariateStats\n",
    "\n",
    "M = fit(PCA, matrix_groups ; maxoutdim=2)\n",
    "proj = projection(M)\n",
    "M"
   ]
  },
  {
   "cell_type": "code",
   "execution_count": 18,
   "metadata": {},
   "outputs": [
    {
     "data": {
      "image/svg+xml": "<?xml version=\"1.0\" encoding=\"utf-8\"?>\n<svg xmlns=\"http://www.w3.org/2000/svg\" xmlns:xlink=\"http://www.w3.org/1999/xlink\" width=\"600\" height=\"400\" viewBox=\"0 0 2400 1600\">\n<defs>\n  <clipPath id=\"clip460\">\n    <rect x=\"0\" y=\"0\" width=\"2400\" height=\"1600\"/>\n  </clipPath>\n</defs>\n<path clip-path=\"url(#clip460)\" d=\"\nM0 1600 L2400 1600 L2400 0 L0 0  Z\n  \" fill=\"#ffffff\" fill-rule=\"evenodd\" fill-opacity=\"1\"/>\n<defs>\n  <clipPath id=\"clip461\">\n    <rect x=\"480\" y=\"0\" width=\"1681\" height=\"1600\"/>\n  </clipPath>\n</defs>\n<path clip-path=\"url(#clip460)\" d=\"\nM224.098 1486.45 L2352.76 1486.45 L2352.76 47.2441 L224.098 47.2441  Z\n  \" fill=\"#ffffff\" fill-rule=\"evenodd\" fill-opacity=\"1\"/>\n<defs>\n  <clipPath id=\"clip462\">\n    <rect x=\"224\" y=\"47\" width=\"2130\" height=\"1440\"/>\n  </clipPath>\n</defs>\n<polyline clip-path=\"url(#clip462)\" style=\"stroke:#000000; stroke-linecap:round; stroke-linejoin:round; stroke-width:2; stroke-opacity:0.1; fill:none\" points=\"\n  580.768,1486.45 580.768,47.2441 \n  \"/>\n<polyline clip-path=\"url(#clip462)\" style=\"stroke:#000000; stroke-linecap:round; stroke-linejoin:round; stroke-width:2; stroke-opacity:0.1; fill:none\" points=\"\n  959.784,1486.45 959.784,47.2441 \n  \"/>\n<polyline clip-path=\"url(#clip462)\" style=\"stroke:#000000; stroke-linecap:round; stroke-linejoin:round; stroke-width:2; stroke-opacity:0.1; fill:none\" points=\"\n  1338.8,1486.45 1338.8,47.2441 \n  \"/>\n<polyline clip-path=\"url(#clip462)\" style=\"stroke:#000000; stroke-linecap:round; stroke-linejoin:round; stroke-width:2; stroke-opacity:0.1; fill:none\" points=\"\n  1717.82,1486.45 1717.82,47.2441 \n  \"/>\n<polyline clip-path=\"url(#clip462)\" style=\"stroke:#000000; stroke-linecap:round; stroke-linejoin:round; stroke-width:2; stroke-opacity:0.1; fill:none\" points=\"\n  2096.83,1486.45 2096.83,47.2441 \n  \"/>\n<polyline clip-path=\"url(#clip460)\" style=\"stroke:#000000; stroke-linecap:round; stroke-linejoin:round; stroke-width:4; stroke-opacity:1; fill:none\" points=\"\n  224.098,1486.45 2352.76,1486.45 \n  \"/>\n<polyline clip-path=\"url(#clip460)\" style=\"stroke:#000000; stroke-linecap:round; stroke-linejoin:round; stroke-width:4; stroke-opacity:1; fill:none\" points=\"\n  580.768,1486.45 580.768,1467.55 \n  \"/>\n<polyline clip-path=\"url(#clip460)\" style=\"stroke:#000000; stroke-linecap:round; stroke-linejoin:round; stroke-width:4; stroke-opacity:1; fill:none\" points=\"\n  959.784,1486.45 959.784,1467.55 \n  \"/>\n<polyline clip-path=\"url(#clip460)\" style=\"stroke:#000000; stroke-linecap:round; stroke-linejoin:round; stroke-width:4; stroke-opacity:1; fill:none\" points=\"\n  1338.8,1486.45 1338.8,1467.55 \n  \"/>\n<polyline clip-path=\"url(#clip460)\" style=\"stroke:#000000; stroke-linecap:round; stroke-linejoin:round; stroke-width:4; stroke-opacity:1; fill:none\" points=\"\n  1717.82,1486.45 1717.82,1467.55 \n  \"/>\n<polyline clip-path=\"url(#clip460)\" style=\"stroke:#000000; stroke-linecap:round; stroke-linejoin:round; stroke-width:4; stroke-opacity:1; fill:none\" points=\"\n  2096.83,1486.45 2096.83,1467.55 \n  \"/>\n<path clip-path=\"url(#clip460)\" d=\"M513.014 1532.02 L542.69 1532.02 L542.69 1535.95 L513.014 1535.95 L513.014 1532.02 Z\" fill=\"#000000\" fill-rule=\"evenodd\" fill-opacity=\"1\" /><path clip-path=\"url(#clip460)\" d=\"M562.782 1517.37 Q559.171 1517.37 557.342 1520.93 Q555.537 1524.47 555.537 1531.6 Q555.537 1538.71 557.342 1542.27 Q559.171 1545.82 562.782 1545.82 Q566.417 1545.82 568.222 1542.27 Q570.051 1538.71 570.051 1531.6 Q570.051 1524.47 568.222 1520.93 Q566.417 1517.37 562.782 1517.37 M562.782 1513.66 Q568.592 1513.66 571.648 1518.27 Q574.727 1522.85 574.727 1531.6 Q574.727 1540.33 571.648 1544.94 Q568.592 1549.52 562.782 1549.52 Q556.972 1549.52 553.893 1544.94 Q550.838 1540.33 550.838 1531.6 Q550.838 1522.85 553.893 1518.27 Q556.972 1513.66 562.782 1513.66 Z\" fill=\"#000000\" fill-rule=\"evenodd\" fill-opacity=\"1\" /><path clip-path=\"url(#clip460)\" d=\"M582.944 1542.97 L587.828 1542.97 L587.828 1548.85 L582.944 1548.85 L582.944 1542.97 Z\" fill=\"#000000\" fill-rule=\"evenodd\" fill-opacity=\"1\" /><path clip-path=\"url(#clip460)\" d=\"M610.861 1518.36 L599.055 1536.81 L610.861 1536.81 L610.861 1518.36 M609.634 1514.29 L615.513 1514.29 L615.513 1536.81 L620.444 1536.81 L620.444 1540.7 L615.513 1540.7 L615.513 1548.85 L610.861 1548.85 L610.861 1540.7 L595.259 1540.7 L595.259 1536.19 L609.634 1514.29 Z\" fill=\"#000000\" fill-rule=\"evenodd\" fill-opacity=\"1\" /><path clip-path=\"url(#clip460)\" d=\"M632.203 1544.91 L648.523 1544.91 L648.523 1548.85 L626.578 1548.85 L626.578 1544.91 Q629.24 1542.16 633.824 1537.53 Q638.43 1532.88 639.611 1531.53 Q641.856 1529.01 642.736 1527.27 Q643.638 1525.51 643.638 1523.82 Q643.638 1521.07 641.694 1519.33 Q639.773 1517.6 636.671 1517.6 Q634.472 1517.6 632.018 1518.36 Q629.587 1519.13 626.81 1520.68 L626.81 1515.95 Q629.634 1514.82 632.087 1514.24 Q634.541 1513.66 636.578 1513.66 Q641.949 1513.66 645.143 1516.35 Q648.337 1519.03 648.337 1523.52 Q648.337 1525.65 647.527 1527.57 Q646.74 1529.47 644.634 1532.07 Q644.055 1532.74 640.953 1535.95 Q637.851 1539.15 632.203 1544.91 Z\" fill=\"#000000\" fill-rule=\"evenodd\" fill-opacity=\"1\" /><path clip-path=\"url(#clip460)\" d=\"M891.324 1532.02 L921 1532.02 L921 1535.95 L891.324 1535.95 L891.324 1532.02 Z\" fill=\"#000000\" fill-rule=\"evenodd\" fill-opacity=\"1\" /><path clip-path=\"url(#clip460)\" d=\"M941.092 1517.37 Q937.481 1517.37 935.652 1520.93 Q933.847 1524.47 933.847 1531.6 Q933.847 1538.71 935.652 1542.27 Q937.481 1545.82 941.092 1545.82 Q944.726 1545.82 946.532 1542.27 Q948.361 1538.71 948.361 1531.6 Q948.361 1524.47 946.532 1520.93 Q944.726 1517.37 941.092 1517.37 M941.092 1513.66 Q946.902 1513.66 949.958 1518.27 Q953.036 1522.85 953.036 1531.6 Q953.036 1540.33 949.958 1544.94 Q946.902 1549.52 941.092 1549.52 Q935.282 1549.52 932.203 1544.94 Q929.148 1540.33 929.148 1531.6 Q929.148 1522.85 932.203 1518.27 Q935.282 1513.66 941.092 1513.66 Z\" fill=\"#000000\" fill-rule=\"evenodd\" fill-opacity=\"1\" /><path clip-path=\"url(#clip460)\" d=\"M961.254 1542.97 L966.138 1542.97 L966.138 1548.85 L961.254 1548.85 L961.254 1542.97 Z\" fill=\"#000000\" fill-rule=\"evenodd\" fill-opacity=\"1\" /><path clip-path=\"url(#clip460)\" d=\"M990.49 1530.21 Q993.846 1530.93 995.721 1533.2 Q997.62 1535.47 997.62 1538.8 Q997.62 1543.92 994.101 1546.72 Q990.583 1549.52 984.101 1549.52 Q981.925 1549.52 979.61 1549.08 Q977.319 1548.66 974.865 1547.81 L974.865 1543.29 Q976.81 1544.43 979.124 1545.01 Q981.439 1545.58 983.962 1545.58 Q988.36 1545.58 990.652 1543.85 Q992.967 1542.11 992.967 1538.8 Q992.967 1535.75 990.814 1534.03 Q988.684 1532.3 984.865 1532.3 L980.837 1532.3 L980.837 1528.45 L985.05 1528.45 Q988.499 1528.45 990.328 1527.09 Q992.157 1525.7 992.157 1523.11 Q992.157 1520.45 990.259 1519.03 Q988.384 1517.6 984.865 1517.6 Q982.944 1517.6 980.745 1518.01 Q978.546 1518.43 975.907 1519.31 L975.907 1515.14 Q978.569 1514.4 980.884 1514.03 Q983.222 1513.66 985.282 1513.66 Q990.606 1513.66 993.708 1516.09 Q996.809 1518.5 996.809 1522.62 Q996.809 1525.49 995.166 1527.48 Q993.522 1529.45 990.49 1530.21 Z\" fill=\"#000000\" fill-rule=\"evenodd\" fill-opacity=\"1\" /><path clip-path=\"url(#clip460)\" d=\"M1006.62 1548.13 L1006.62 1543.87 Q1008.38 1544.7 1010.19 1545.14 Q1011.99 1545.58 1013.73 1545.58 Q1018.36 1545.58 1020.79 1542.48 Q1023.24 1539.36 1023.59 1533.01 Q1022.25 1535.01 1020.19 1536.07 Q1018.13 1537.13 1015.63 1537.13 Q1010.44 1537.13 1007.41 1534.01 Q1004.4 1530.86 1004.4 1525.42 Q1004.4 1520.1 1007.55 1516.88 Q1010.7 1513.66 1015.93 1513.66 Q1021.93 1513.66 1025.07 1518.27 Q1028.24 1522.85 1028.24 1531.6 Q1028.24 1539.77 1024.36 1544.66 Q1020.49 1549.52 1013.94 1549.52 Q1012.18 1549.52 1010.37 1549.17 Q1008.57 1548.82 1006.62 1548.13 M1015.93 1533.48 Q1019.08 1533.48 1020.91 1531.32 Q1022.76 1529.17 1022.76 1525.42 Q1022.76 1521.7 1020.91 1519.54 Q1019.08 1517.37 1015.93 1517.37 Q1012.78 1517.37 1010.93 1519.54 Q1009.1 1521.7 1009.1 1525.42 Q1009.1 1529.17 1010.93 1531.32 Q1012.78 1533.48 1015.93 1533.48 Z\" fill=\"#000000\" fill-rule=\"evenodd\" fill-opacity=\"1\" /><path clip-path=\"url(#clip460)\" d=\"M1270.17 1532.02 L1299.84 1532.02 L1299.84 1535.95 L1270.17 1535.95 L1270.17 1532.02 Z\" fill=\"#000000\" fill-rule=\"evenodd\" fill-opacity=\"1\" /><path clip-path=\"url(#clip460)\" d=\"M1319.93 1517.37 Q1316.32 1517.37 1314.49 1520.93 Q1312.69 1524.47 1312.69 1531.6 Q1312.69 1538.71 1314.49 1542.27 Q1316.32 1545.82 1319.93 1545.82 Q1323.57 1545.82 1325.37 1542.27 Q1327.2 1538.71 1327.2 1531.6 Q1327.2 1524.47 1325.37 1520.93 Q1323.57 1517.37 1319.93 1517.37 M1319.93 1513.66 Q1325.74 1513.66 1328.8 1518.27 Q1331.88 1522.85 1331.88 1531.6 Q1331.88 1540.33 1328.8 1544.94 Q1325.74 1549.52 1319.93 1549.52 Q1314.12 1549.52 1311.05 1544.94 Q1307.99 1540.33 1307.99 1531.6 Q1307.99 1522.85 1311.05 1518.27 Q1314.12 1513.66 1319.93 1513.66 Z\" fill=\"#000000\" fill-rule=\"evenodd\" fill-opacity=\"1\" /><path clip-path=\"url(#clip460)\" d=\"M1340.1 1542.97 L1344.98 1542.97 L1344.98 1548.85 L1340.1 1548.85 L1340.1 1542.97 Z\" fill=\"#000000\" fill-rule=\"evenodd\" fill-opacity=\"1\" /><path clip-path=\"url(#clip460)\" d=\"M1369.33 1530.21 Q1372.69 1530.93 1374.56 1533.2 Q1376.46 1535.47 1376.46 1538.8 Q1376.46 1543.92 1372.94 1546.72 Q1369.42 1549.52 1362.94 1549.52 Q1360.77 1549.52 1358.45 1549.08 Q1356.16 1548.66 1353.71 1547.81 L1353.71 1543.29 Q1355.65 1544.43 1357.97 1545.01 Q1360.28 1545.58 1362.8 1545.58 Q1367.2 1545.58 1369.49 1543.85 Q1371.81 1542.11 1371.81 1538.8 Q1371.81 1535.75 1369.66 1534.03 Q1367.53 1532.3 1363.71 1532.3 L1359.68 1532.3 L1359.68 1528.45 L1363.89 1528.45 Q1367.34 1528.45 1369.17 1527.09 Q1371 1525.7 1371 1523.11 Q1371 1520.45 1369.1 1519.03 Q1367.23 1517.6 1363.71 1517.6 Q1361.79 1517.6 1359.59 1518.01 Q1357.39 1518.43 1354.75 1519.31 L1354.75 1515.14 Q1357.41 1514.4 1359.73 1514.03 Q1362.06 1513.66 1364.12 1513.66 Q1369.45 1513.66 1372.55 1516.09 Q1375.65 1518.5 1375.65 1522.62 Q1375.65 1525.49 1374.01 1527.48 Q1372.36 1529.45 1369.33 1530.21 Z\" fill=\"#000000\" fill-rule=\"evenodd\" fill-opacity=\"1\" /><path clip-path=\"url(#clip460)\" d=\"M1395.91 1529.7 Q1392.76 1529.7 1390.91 1531.86 Q1389.08 1534.01 1389.08 1537.76 Q1389.08 1541.49 1390.91 1543.66 Q1392.76 1545.82 1395.91 1545.82 Q1399.05 1545.82 1400.88 1543.66 Q1402.73 1541.49 1402.73 1537.76 Q1402.73 1534.01 1400.88 1531.86 Q1399.05 1529.7 1395.91 1529.7 M1405.19 1515.05 L1405.19 1519.31 Q1403.43 1518.48 1401.62 1518.04 Q1399.84 1517.6 1398.08 1517.6 Q1393.45 1517.6 1391 1520.72 Q1388.57 1523.85 1388.22 1530.17 Q1389.59 1528.15 1391.65 1527.09 Q1393.71 1526 1396.18 1526 Q1401.39 1526 1404.4 1529.17 Q1407.43 1532.32 1407.43 1537.76 Q1407.43 1543.08 1404.29 1546.3 Q1401.14 1549.52 1395.91 1549.52 Q1389.91 1549.52 1386.74 1544.94 Q1383.57 1540.33 1383.57 1531.6 Q1383.57 1523.41 1387.46 1518.55 Q1391.35 1513.66 1397.9 1513.66 Q1399.66 1513.66 1401.44 1514.01 Q1403.24 1514.36 1405.19 1515.05 Z\" fill=\"#000000\" fill-rule=\"evenodd\" fill-opacity=\"1\" /><path clip-path=\"url(#clip460)\" d=\"M1649.59 1532.02 L1679.26 1532.02 L1679.26 1535.95 L1649.59 1535.95 L1649.59 1532.02 Z\" fill=\"#000000\" fill-rule=\"evenodd\" fill-opacity=\"1\" /><path clip-path=\"url(#clip460)\" d=\"M1699.36 1517.37 Q1695.74 1517.37 1693.92 1520.93 Q1692.11 1524.47 1692.11 1531.6 Q1692.11 1538.71 1693.92 1542.27 Q1695.74 1545.82 1699.36 1545.82 Q1702.99 1545.82 1704.8 1542.27 Q1706.62 1538.71 1706.62 1531.6 Q1706.62 1524.47 1704.8 1520.93 Q1702.99 1517.37 1699.36 1517.37 M1699.36 1513.66 Q1705.17 1513.66 1708.22 1518.27 Q1711.3 1522.85 1711.3 1531.6 Q1711.3 1540.33 1708.22 1544.94 Q1705.17 1549.52 1699.36 1549.52 Q1693.55 1549.52 1690.47 1544.94 Q1687.41 1540.33 1687.41 1531.6 Q1687.41 1522.85 1690.47 1518.27 Q1693.55 1513.66 1699.36 1513.66 Z\" fill=\"#000000\" fill-rule=\"evenodd\" fill-opacity=\"1\" /><path clip-path=\"url(#clip460)\" d=\"M1719.52 1542.97 L1724.4 1542.97 L1724.4 1548.85 L1719.52 1548.85 L1719.52 1542.97 Z\" fill=\"#000000\" fill-rule=\"evenodd\" fill-opacity=\"1\" /><path clip-path=\"url(#clip460)\" d=\"M1748.75 1530.21 Q1752.11 1530.93 1753.98 1533.2 Q1755.88 1535.47 1755.88 1538.8 Q1755.88 1543.92 1752.36 1546.72 Q1748.85 1549.52 1742.36 1549.52 Q1740.19 1549.52 1737.87 1549.08 Q1735.58 1548.66 1733.13 1547.81 L1733.13 1543.29 Q1735.07 1544.43 1737.39 1545.01 Q1739.7 1545.58 1742.23 1545.58 Q1746.62 1545.58 1748.92 1543.85 Q1751.23 1542.11 1751.23 1538.8 Q1751.23 1535.75 1749.08 1534.03 Q1746.95 1532.3 1743.13 1532.3 L1739.1 1532.3 L1739.1 1528.45 L1743.31 1528.45 Q1746.76 1528.45 1748.59 1527.09 Q1750.42 1525.7 1750.42 1523.11 Q1750.42 1520.45 1748.52 1519.03 Q1746.65 1517.6 1743.13 1517.6 Q1741.21 1517.6 1739.01 1518.01 Q1736.81 1518.43 1734.17 1519.31 L1734.17 1515.14 Q1736.83 1514.4 1739.15 1514.03 Q1741.48 1513.66 1743.54 1513.66 Q1748.87 1513.66 1751.97 1516.09 Q1755.07 1518.5 1755.07 1522.62 Q1755.07 1525.49 1753.43 1527.48 Q1751.79 1529.45 1748.75 1530.21 Z\" fill=\"#000000\" fill-rule=\"evenodd\" fill-opacity=\"1\" /><path clip-path=\"url(#clip460)\" d=\"M1778.92 1530.21 Q1782.27 1530.93 1784.15 1533.2 Q1786.04 1535.47 1786.04 1538.8 Q1786.04 1543.92 1782.53 1546.72 Q1779.01 1549.52 1772.53 1549.52 Q1770.35 1549.52 1768.04 1549.08 Q1765.74 1548.66 1763.29 1547.81 L1763.29 1543.29 Q1765.23 1544.43 1767.55 1545.01 Q1769.86 1545.58 1772.39 1545.58 Q1776.79 1545.58 1779.08 1543.85 Q1781.39 1542.11 1781.39 1538.8 Q1781.39 1535.75 1779.24 1534.03 Q1777.11 1532.3 1773.29 1532.3 L1769.26 1532.3 L1769.26 1528.45 L1773.48 1528.45 Q1776.92 1528.45 1778.75 1527.09 Q1780.58 1525.7 1780.58 1523.11 Q1780.58 1520.45 1778.68 1519.03 Q1776.81 1517.6 1773.29 1517.6 Q1771.37 1517.6 1769.17 1518.01 Q1766.97 1518.43 1764.33 1519.31 L1764.33 1515.14 Q1766.99 1514.4 1769.31 1514.03 Q1771.65 1513.66 1773.71 1513.66 Q1779.03 1513.66 1782.13 1516.09 Q1785.23 1518.5 1785.23 1522.62 Q1785.23 1525.49 1783.59 1527.48 Q1781.95 1529.45 1778.92 1530.21 Z\" fill=\"#000000\" fill-rule=\"evenodd\" fill-opacity=\"1\" /><path clip-path=\"url(#clip460)\" d=\"M2028.28 1532.02 L2057.95 1532.02 L2057.95 1535.95 L2028.28 1535.95 L2028.28 1532.02 Z\" fill=\"#000000\" fill-rule=\"evenodd\" fill-opacity=\"1\" /><path clip-path=\"url(#clip460)\" d=\"M2078.05 1517.37 Q2074.44 1517.37 2072.61 1520.93 Q2070.8 1524.47 2070.8 1531.6 Q2070.8 1538.71 2072.61 1542.27 Q2074.44 1545.82 2078.05 1545.82 Q2081.68 1545.82 2083.49 1542.27 Q2085.32 1538.71 2085.32 1531.6 Q2085.32 1524.47 2083.49 1520.93 Q2081.68 1517.37 2078.05 1517.37 M2078.05 1513.66 Q2083.86 1513.66 2086.91 1518.27 Q2089.99 1522.85 2089.99 1531.6 Q2089.99 1540.33 2086.91 1544.94 Q2083.86 1549.52 2078.05 1549.52 Q2072.24 1549.52 2069.16 1544.94 Q2066.1 1540.33 2066.1 1531.6 Q2066.1 1522.85 2069.16 1518.27 Q2072.24 1513.66 2078.05 1513.66 Z\" fill=\"#000000\" fill-rule=\"evenodd\" fill-opacity=\"1\" /><path clip-path=\"url(#clip460)\" d=\"M2098.21 1542.97 L2103.09 1542.97 L2103.09 1548.85 L2098.21 1548.85 L2098.21 1542.97 Z\" fill=\"#000000\" fill-rule=\"evenodd\" fill-opacity=\"1\" /><path clip-path=\"url(#clip460)\" d=\"M2127.44 1530.21 Q2130.8 1530.93 2132.68 1533.2 Q2134.57 1535.47 2134.57 1538.8 Q2134.57 1543.92 2131.06 1546.72 Q2127.54 1549.52 2121.06 1549.52 Q2118.88 1549.52 2116.57 1549.08 Q2114.27 1548.66 2111.82 1547.81 L2111.82 1543.29 Q2113.76 1544.43 2116.08 1545.01 Q2118.39 1545.58 2120.92 1545.58 Q2125.32 1545.58 2127.61 1543.85 Q2129.92 1542.11 2129.92 1538.8 Q2129.92 1535.75 2127.77 1534.03 Q2125.64 1532.3 2121.82 1532.3 L2117.79 1532.3 L2117.79 1528.45 L2122.01 1528.45 Q2125.45 1528.45 2127.28 1527.09 Q2129.11 1525.7 2129.11 1523.11 Q2129.11 1520.45 2127.21 1519.03 Q2125.34 1517.6 2121.82 1517.6 Q2119.9 1517.6 2117.7 1518.01 Q2115.5 1518.43 2112.86 1519.31 L2112.86 1515.14 Q2115.52 1514.4 2117.84 1514.03 Q2120.18 1513.66 2122.24 1513.66 Q2127.56 1513.66 2130.66 1516.09 Q2133.76 1518.5 2133.76 1522.62 Q2133.76 1525.49 2132.12 1527.48 Q2130.48 1529.45 2127.44 1530.21 Z\" fill=\"#000000\" fill-rule=\"evenodd\" fill-opacity=\"1\" /><path clip-path=\"url(#clip460)\" d=\"M2153.44 1517.37 Q2149.83 1517.37 2148 1520.93 Q2146.19 1524.47 2146.19 1531.6 Q2146.19 1538.71 2148 1542.27 Q2149.83 1545.82 2153.44 1545.82 Q2157.07 1545.82 2158.88 1542.27 Q2160.71 1538.71 2160.71 1531.6 Q2160.71 1524.47 2158.88 1520.93 Q2157.07 1517.37 2153.44 1517.37 M2153.44 1513.66 Q2159.25 1513.66 2162.31 1518.27 Q2165.38 1522.85 2165.38 1531.6 Q2165.38 1540.33 2162.31 1544.94 Q2159.25 1549.52 2153.44 1549.52 Q2147.63 1549.52 2144.55 1544.94 Q2141.5 1540.33 2141.5 1531.6 Q2141.5 1522.85 2144.55 1518.27 Q2147.63 1513.66 2153.44 1513.66 Z\" fill=\"#000000\" fill-rule=\"evenodd\" fill-opacity=\"1\" /><polyline clip-path=\"url(#clip462)\" style=\"stroke:#000000; stroke-linecap:round; stroke-linejoin:round; stroke-width:2; stroke-opacity:0.1; fill:none\" points=\"\n  224.098,1283.53 2352.76,1283.53 \n  \"/>\n<polyline clip-path=\"url(#clip462)\" style=\"stroke:#000000; stroke-linecap:round; stroke-linejoin:round; stroke-width:2; stroke-opacity:0.1; fill:none\" points=\"\n  224.098,1014.12 2352.76,1014.12 \n  \"/>\n<polyline clip-path=\"url(#clip462)\" style=\"stroke:#000000; stroke-linecap:round; stroke-linejoin:round; stroke-width:2; stroke-opacity:0.1; fill:none\" points=\"\n  224.098,744.714 2352.76,744.714 \n  \"/>\n<polyline clip-path=\"url(#clip462)\" style=\"stroke:#000000; stroke-linecap:round; stroke-linejoin:round; stroke-width:2; stroke-opacity:0.1; fill:none\" points=\"\n  224.098,475.309 2352.76,475.309 \n  \"/>\n<polyline clip-path=\"url(#clip462)\" style=\"stroke:#000000; stroke-linecap:round; stroke-linejoin:round; stroke-width:2; stroke-opacity:0.1; fill:none\" points=\"\n  224.098,205.903 2352.76,205.903 \n  \"/>\n<polyline clip-path=\"url(#clip460)\" style=\"stroke:#000000; stroke-linecap:round; stroke-linejoin:round; stroke-width:4; stroke-opacity:1; fill:none\" points=\"\n  224.098,1486.45 224.098,47.2441 \n  \"/>\n<polyline clip-path=\"url(#clip460)\" style=\"stroke:#000000; stroke-linecap:round; stroke-linejoin:round; stroke-width:4; stroke-opacity:1; fill:none\" points=\"\n  224.098,1283.53 242.996,1283.53 \n  \"/>\n<polyline clip-path=\"url(#clip460)\" style=\"stroke:#000000; stroke-linecap:round; stroke-linejoin:round; stroke-width:4; stroke-opacity:1; fill:none\" points=\"\n  224.098,1014.12 242.996,1014.12 \n  \"/>\n<polyline clip-path=\"url(#clip460)\" style=\"stroke:#000000; stroke-linecap:round; stroke-linejoin:round; stroke-width:4; stroke-opacity:1; fill:none\" points=\"\n  224.098,744.714 242.996,744.714 \n  \"/>\n<polyline clip-path=\"url(#clip460)\" style=\"stroke:#000000; stroke-linecap:round; stroke-linejoin:round; stroke-width:4; stroke-opacity:1; fill:none\" points=\"\n  224.098,475.309 242.996,475.309 \n  \"/>\n<polyline clip-path=\"url(#clip460)\" style=\"stroke:#000000; stroke-linecap:round; stroke-linejoin:round; stroke-width:4; stroke-opacity:1; fill:none\" points=\"\n  224.098,205.903 242.996,205.903 \n  \"/>\n<path clip-path=\"url(#clip460)\" d=\"M50.9921 1283.98 L80.6679 1283.98 L80.6679 1287.91 L50.9921 1287.91 L50.9921 1283.98 Z\" fill=\"#000000\" fill-rule=\"evenodd\" fill-opacity=\"1\" /><path clip-path=\"url(#clip460)\" d=\"M100.76 1269.32 Q97.1493 1269.32 95.3206 1272.89 Q93.515 1276.43 93.515 1283.56 Q93.515 1290.67 95.3206 1294.23 Q97.1493 1297.77 100.76 1297.77 Q104.395 1297.77 106.2 1294.23 Q108.029 1290.67 108.029 1283.56 Q108.029 1276.43 106.2 1272.89 Q104.395 1269.32 100.76 1269.32 M100.76 1265.62 Q106.571 1265.62 109.626 1270.23 Q112.705 1274.81 112.705 1283.56 Q112.705 1292.29 109.626 1296.89 Q106.571 1301.48 100.76 1301.48 Q94.9502 1301.48 91.8715 1296.89 Q88.816 1292.29 88.816 1283.56 Q88.816 1274.81 91.8715 1270.23 Q94.9502 1265.62 100.76 1265.62 Z\" fill=\"#000000\" fill-rule=\"evenodd\" fill-opacity=\"1\" /><path clip-path=\"url(#clip460)\" d=\"M120.922 1294.93 L125.807 1294.93 L125.807 1300.81 L120.922 1300.81 L120.922 1294.93 Z\" fill=\"#000000\" fill-rule=\"evenodd\" fill-opacity=\"1\" /><path clip-path=\"url(#clip460)\" d=\"M136.038 1266.25 L154.394 1266.25 L154.394 1270.18 L140.32 1270.18 L140.32 1278.65 Q141.339 1278.31 142.357 1278.14 Q143.376 1277.96 144.394 1277.96 Q150.181 1277.96 153.561 1281.13 Q156.941 1284.3 156.941 1289.72 Q156.941 1295.3 153.468 1298.4 Q149.996 1301.48 143.677 1301.48 Q141.501 1301.48 139.232 1301.11 Q136.987 1300.74 134.58 1300 L134.58 1295.3 Q136.663 1296.43 138.885 1296.99 Q141.107 1297.54 143.584 1297.54 Q147.589 1297.54 149.927 1295.44 Q152.265 1293.33 152.265 1289.72 Q152.265 1286.11 149.927 1284 Q147.589 1281.89 143.584 1281.89 Q141.709 1281.89 139.834 1282.31 Q137.982 1282.73 136.038 1283.61 L136.038 1266.25 Z\" fill=\"#000000\" fill-rule=\"evenodd\" fill-opacity=\"1\" /><path clip-path=\"url(#clip460)\" d=\"M176.153 1269.32 Q172.542 1269.32 170.714 1272.89 Q168.908 1276.43 168.908 1283.56 Q168.908 1290.67 170.714 1294.23 Q172.542 1297.77 176.153 1297.77 Q179.788 1297.77 181.593 1294.23 Q183.422 1290.67 183.422 1283.56 Q183.422 1276.43 181.593 1272.89 Q179.788 1269.32 176.153 1269.32 M176.153 1265.62 Q181.964 1265.62 185.019 1270.23 Q188.098 1274.81 188.098 1283.56 Q188.098 1292.29 185.019 1296.89 Q181.964 1301.48 176.153 1301.48 Q170.343 1301.48 167.265 1296.89 Q164.209 1292.29 164.209 1283.56 Q164.209 1274.81 167.265 1270.23 Q170.343 1265.62 176.153 1265.62 Z\" fill=\"#000000\" fill-rule=\"evenodd\" fill-opacity=\"1\" /><path clip-path=\"url(#clip460)\" d=\"M51.9875 1014.57 L81.6633 1014.57 L81.6633 1018.51 L51.9875 1018.51 L51.9875 1014.57 Z\" fill=\"#000000\" fill-rule=\"evenodd\" fill-opacity=\"1\" /><path clip-path=\"url(#clip460)\" d=\"M101.756 999.919 Q98.1447 999.919 96.316 1003.48 Q94.5104 1007.03 94.5104 1014.16 Q94.5104 1021.26 96.316 1024.83 Q98.1447 1028.37 101.756 1028.37 Q105.39 1028.37 107.196 1024.83 Q109.024 1021.26 109.024 1014.16 Q109.024 1007.03 107.196 1003.48 Q105.39 999.919 101.756 999.919 M101.756 996.215 Q107.566 996.215 110.621 1000.82 Q113.7 1005.41 113.7 1014.16 Q113.7 1022.88 110.621 1027.49 Q107.566 1032.07 101.756 1032.07 Q95.9456 1032.07 92.8669 1027.49 Q89.8114 1022.88 89.8114 1014.16 Q89.8114 1005.41 92.8669 1000.82 Q95.9456 996.215 101.756 996.215 Z\" fill=\"#000000\" fill-rule=\"evenodd\" fill-opacity=\"1\" /><path clip-path=\"url(#clip460)\" d=\"M121.918 1025.52 L126.802 1025.52 L126.802 1031.4 L121.918 1031.4 L121.918 1025.52 Z\" fill=\"#000000\" fill-rule=\"evenodd\" fill-opacity=\"1\" /><path clip-path=\"url(#clip460)\" d=\"M141.015 1027.47 L157.334 1027.47 L157.334 1031.4 L135.39 1031.4 L135.39 1027.47 Q138.052 1024.71 142.635 1020.08 Q147.242 1015.43 148.422 1014.09 Q150.668 1011.56 151.547 1009.83 Q152.45 1008.07 152.45 1006.38 Q152.45 1003.62 150.505 1001.89 Q148.584 1000.15 145.482 1000.15 Q143.283 1000.15 140.83 1000.91 Q138.399 1001.68 135.621 1003.23 L135.621 998.507 Q138.445 997.373 140.899 996.794 Q143.353 996.215 145.39 996.215 Q150.76 996.215 153.955 998.901 Q157.149 1001.59 157.149 1006.08 Q157.149 1008.21 156.339 1010.13 Q155.552 1012.03 153.445 1014.62 Q152.867 1015.29 149.765 1018.51 Q146.663 1021.7 141.015 1027.47 Z\" fill=\"#000000\" fill-rule=\"evenodd\" fill-opacity=\"1\" /><path clip-path=\"url(#clip460)\" d=\"M167.195 996.84 L185.552 996.84 L185.552 1000.78 L171.478 1000.78 L171.478 1009.25 Q172.496 1008.9 173.515 1008.74 Q174.533 1008.55 175.552 1008.55 Q181.339 1008.55 184.718 1011.72 Q188.098 1014.9 188.098 1020.31 Q188.098 1025.89 184.626 1028.99 Q181.153 1032.07 174.834 1032.07 Q172.658 1032.07 170.39 1031.7 Q168.144 1031.33 165.737 1030.59 L165.737 1025.89 Q167.82 1027.03 170.042 1027.58 Q172.265 1028.14 174.741 1028.14 Q178.746 1028.14 181.084 1026.03 Q183.422 1023.92 183.422 1020.31 Q183.422 1016.7 181.084 1014.59 Q178.746 1012.49 174.741 1012.49 Q172.866 1012.49 170.991 1012.91 Q169.14 1013.32 167.195 1014.2 L167.195 996.84 Z\" fill=\"#000000\" fill-rule=\"evenodd\" fill-opacity=\"1\" /><path clip-path=\"url(#clip460)\" d=\"M100.76 730.513 Q97.1493 730.513 95.3206 734.078 Q93.515 737.62 93.515 744.749 Q93.515 751.856 95.3206 755.42 Q97.1493 758.962 100.76 758.962 Q104.395 758.962 106.2 755.42 Q108.029 751.856 108.029 744.749 Q108.029 737.62 106.2 734.078 Q104.395 730.513 100.76 730.513 M100.76 726.809 Q106.571 726.809 109.626 731.416 Q112.705 735.999 112.705 744.749 Q112.705 753.476 109.626 758.082 Q106.571 762.666 100.76 762.666 Q94.9502 762.666 91.8715 758.082 Q88.816 753.476 88.816 744.749 Q88.816 735.999 91.8715 731.416 Q94.9502 726.809 100.76 726.809 Z\" fill=\"#000000\" fill-rule=\"evenodd\" fill-opacity=\"1\" /><path clip-path=\"url(#clip460)\" d=\"M120.922 756.115 L125.807 756.115 L125.807 761.994 L120.922 761.994 L120.922 756.115 Z\" fill=\"#000000\" fill-rule=\"evenodd\" fill-opacity=\"1\" /><path clip-path=\"url(#clip460)\" d=\"M145.992 730.513 Q142.381 730.513 140.552 734.078 Q138.746 737.62 138.746 744.749 Q138.746 751.856 140.552 755.42 Q142.381 758.962 145.992 758.962 Q149.626 758.962 151.431 755.42 Q153.26 751.856 153.26 744.749 Q153.26 737.62 151.431 734.078 Q149.626 730.513 145.992 730.513 M145.992 726.809 Q151.802 726.809 154.857 731.416 Q157.936 735.999 157.936 744.749 Q157.936 753.476 154.857 758.082 Q151.802 762.666 145.992 762.666 Q140.181 762.666 137.103 758.082 Q134.047 753.476 134.047 744.749 Q134.047 735.999 137.103 731.416 Q140.181 726.809 145.992 726.809 Z\" fill=\"#000000\" fill-rule=\"evenodd\" fill-opacity=\"1\" /><path clip-path=\"url(#clip460)\" d=\"M176.153 730.513 Q172.542 730.513 170.714 734.078 Q168.908 737.62 168.908 744.749 Q168.908 751.856 170.714 755.42 Q172.542 758.962 176.153 758.962 Q179.788 758.962 181.593 755.42 Q183.422 751.856 183.422 744.749 Q183.422 737.62 181.593 734.078 Q179.788 730.513 176.153 730.513 M176.153 726.809 Q181.964 726.809 185.019 731.416 Q188.098 735.999 188.098 744.749 Q188.098 753.476 185.019 758.082 Q181.964 762.666 176.153 762.666 Q170.343 762.666 167.265 758.082 Q164.209 753.476 164.209 744.749 Q164.209 735.999 167.265 731.416 Q170.343 726.809 176.153 726.809 Z\" fill=\"#000000\" fill-rule=\"evenodd\" fill-opacity=\"1\" /><path clip-path=\"url(#clip460)\" d=\"M101.756 461.107 Q98.1447 461.107 96.316 464.672 Q94.5104 468.214 94.5104 475.343 Q94.5104 482.45 96.316 486.015 Q98.1447 489.556 101.756 489.556 Q105.39 489.556 107.196 486.015 Q109.024 482.45 109.024 475.343 Q109.024 468.214 107.196 464.672 Q105.39 461.107 101.756 461.107 M101.756 457.404 Q107.566 457.404 110.621 462.01 Q113.7 466.593 113.7 475.343 Q113.7 484.07 110.621 488.677 Q107.566 493.26 101.756 493.26 Q95.9456 493.26 92.8669 488.677 Q89.8114 484.07 89.8114 475.343 Q89.8114 466.593 92.8669 462.01 Q95.9456 457.404 101.756 457.404 Z\" fill=\"#000000\" fill-rule=\"evenodd\" fill-opacity=\"1\" /><path clip-path=\"url(#clip460)\" d=\"M121.918 486.709 L126.802 486.709 L126.802 492.589 L121.918 492.589 L121.918 486.709 Z\" fill=\"#000000\" fill-rule=\"evenodd\" fill-opacity=\"1\" /><path clip-path=\"url(#clip460)\" d=\"M141.015 488.653 L157.334 488.653 L157.334 492.589 L135.39 492.589 L135.39 488.653 Q138.052 485.899 142.635 481.269 Q147.242 476.616 148.422 475.274 Q150.668 472.751 151.547 471.015 Q152.45 469.255 152.45 467.566 Q152.45 464.811 150.505 463.075 Q148.584 461.339 145.482 461.339 Q143.283 461.339 140.83 462.103 Q138.399 462.867 135.621 464.417 L135.621 459.695 Q138.445 458.561 140.899 457.982 Q143.353 457.404 145.39 457.404 Q150.76 457.404 153.955 460.089 Q157.149 462.774 157.149 467.265 Q157.149 469.394 156.339 471.316 Q155.552 473.214 153.445 475.806 Q152.867 476.478 149.765 479.695 Q146.663 482.89 141.015 488.653 Z\" fill=\"#000000\" fill-rule=\"evenodd\" fill-opacity=\"1\" /><path clip-path=\"url(#clip460)\" d=\"M167.195 458.029 L185.552 458.029 L185.552 461.964 L171.478 461.964 L171.478 470.436 Q172.496 470.089 173.515 469.927 Q174.533 469.741 175.552 469.741 Q181.339 469.741 184.718 472.913 Q188.098 476.084 188.098 481.501 Q188.098 487.079 184.626 490.181 Q181.153 493.26 174.834 493.26 Q172.658 493.26 170.39 492.89 Q168.144 492.519 165.737 491.778 L165.737 487.079 Q167.82 488.214 170.042 488.769 Q172.265 489.325 174.741 489.325 Q178.746 489.325 181.084 487.218 Q183.422 485.112 183.422 481.501 Q183.422 477.89 181.084 475.783 Q178.746 473.677 174.741 473.677 Q172.866 473.677 170.991 474.093 Q169.14 474.51 167.195 475.39 L167.195 458.029 Z\" fill=\"#000000\" fill-rule=\"evenodd\" fill-opacity=\"1\" /><path clip-path=\"url(#clip460)\" d=\"M100.76 191.701 Q97.1493 191.701 95.3206 195.266 Q93.515 198.808 93.515 205.937 Q93.515 213.044 95.3206 216.609 Q97.1493 220.15 100.76 220.15 Q104.395 220.15 106.2 216.609 Q108.029 213.044 108.029 205.937 Q108.029 198.808 106.2 195.266 Q104.395 191.701 100.76 191.701 M100.76 187.998 Q106.571 187.998 109.626 192.604 Q112.705 197.187 112.705 205.937 Q112.705 214.664 109.626 219.271 Q106.571 223.854 100.76 223.854 Q94.9502 223.854 91.8715 219.271 Q88.816 214.664 88.816 205.937 Q88.816 197.187 91.8715 192.604 Q94.9502 187.998 100.76 187.998 Z\" fill=\"#000000\" fill-rule=\"evenodd\" fill-opacity=\"1\" /><path clip-path=\"url(#clip460)\" d=\"M120.922 217.303 L125.807 217.303 L125.807 223.183 L120.922 223.183 L120.922 217.303 Z\" fill=\"#000000\" fill-rule=\"evenodd\" fill-opacity=\"1\" /><path clip-path=\"url(#clip460)\" d=\"M136.038 188.623 L154.394 188.623 L154.394 192.558 L140.32 192.558 L140.32 201.03 Q141.339 200.683 142.357 200.521 Q143.376 200.336 144.394 200.336 Q150.181 200.336 153.561 203.507 Q156.941 206.678 156.941 212.095 Q156.941 217.673 153.468 220.775 Q149.996 223.854 143.677 223.854 Q141.501 223.854 139.232 223.484 Q136.987 223.113 134.58 222.373 L134.58 217.673 Q136.663 218.808 138.885 219.363 Q141.107 219.919 143.584 219.919 Q147.589 219.919 149.927 217.812 Q152.265 215.706 152.265 212.095 Q152.265 208.484 149.927 206.377 Q147.589 204.271 143.584 204.271 Q141.709 204.271 139.834 204.687 Q137.982 205.104 136.038 205.984 L136.038 188.623 Z\" fill=\"#000000\" fill-rule=\"evenodd\" fill-opacity=\"1\" /><path clip-path=\"url(#clip460)\" d=\"M176.153 191.701 Q172.542 191.701 170.714 195.266 Q168.908 198.808 168.908 205.937 Q168.908 213.044 170.714 216.609 Q172.542 220.15 176.153 220.15 Q179.788 220.15 181.593 216.609 Q183.422 213.044 183.422 205.937 Q183.422 198.808 181.593 195.266 Q179.788 191.701 176.153 191.701 M176.153 187.998 Q181.964 187.998 185.019 192.604 Q188.098 197.187 188.098 205.937 Q188.098 214.664 185.019 219.271 Q181.964 223.854 176.153 223.854 Q170.343 223.854 167.265 219.271 Q164.209 214.664 164.209 205.937 Q164.209 197.187 167.265 192.604 Q170.343 187.998 176.153 187.998 Z\" fill=\"#000000\" fill-rule=\"evenodd\" fill-opacity=\"1\" /><circle clip-path=\"url(#clip462)\" cx=\"1986\" cy=\"87.9763\" r=\"14.4\" fill=\"#008000\" fill-rule=\"evenodd\" fill-opacity=\"1\" stroke=\"#000000\" stroke-opacity=\"1\" stroke-width=\"3.2\"/>\n<circle clip-path=\"url(#clip462)\" cx=\"871.829\" cy=\"497.88\" r=\"14.4\" fill=\"#ffa500\" fill-rule=\"evenodd\" fill-opacity=\"1\" stroke=\"#000000\" stroke-opacity=\"1\" stroke-width=\"3.2\"/>\n<circle clip-path=\"url(#clip462)\" cx=\"284.343\" cy=\"646.639\" r=\"14.4\" fill=\"#0000ff\" fill-rule=\"evenodd\" fill-opacity=\"1\" stroke=\"#000000\" stroke-opacity=\"1\" stroke-width=\"3.2\"/>\n<circle clip-path=\"url(#clip462)\" cx=\"746.856\" cy=\"1070.05\" r=\"14.4\" fill=\"#ff0000\" fill-rule=\"evenodd\" fill-opacity=\"1\" stroke=\"#000000\" stroke-opacity=\"1\" stroke-width=\"3.2\"/>\n<circle clip-path=\"url(#clip462)\" cx=\"293.45\" cy=\"848.782\" r=\"14.4\" fill=\"#ffff00\" fill-rule=\"evenodd\" fill-opacity=\"1\" stroke=\"#000000\" stroke-opacity=\"1\" stroke-width=\"3.2\"/>\n<circle clip-path=\"url(#clip462)\" cx=\"2292.51\" cy=\"518.115\" r=\"14.4\" fill=\"#800080\" fill-rule=\"evenodd\" fill-opacity=\"1\" stroke=\"#000000\" stroke-opacity=\"1\" stroke-width=\"3.2\"/>\n<circle clip-path=\"url(#clip462)\" cx=\"1736.53\" cy=\"1445.72\" r=\"14.4\" fill=\"#000000\" fill-rule=\"evenodd\" fill-opacity=\"1\" stroke=\"none\"/>\n<path clip-path=\"url(#clip460)\" d=\"\nM1758.2 509.938 L2281.8 509.938 L2281.8 95.2176 L1758.2 95.2176  Z\n  \" fill=\"#ffffff\" fill-rule=\"evenodd\" fill-opacity=\"1\"/>\n<polyline clip-path=\"url(#clip460)\" style=\"stroke:#000000; stroke-linecap:round; stroke-linejoin:round; stroke-width:4; stroke-opacity:1; fill:none\" points=\"\n  1758.2,509.938 2281.8,509.938 2281.8,95.2176 1758.2,95.2176 1758.2,509.938 \n  \"/>\n<circle clip-path=\"url(#clip460)\" cx=\"1852.81\" cy=\"147.058\" r=\"23.04\" fill=\"#008000\" fill-rule=\"evenodd\" fill-opacity=\"1\" stroke=\"#000000\" stroke-opacity=\"1\" stroke-width=\"5.12\"/>\n<path clip-path=\"url(#clip460)\" d=\"M1967.76 143.389 Q1969.36 140.518 1971.58 139.153 Q1973.8 137.787 1976.81 137.787 Q1980.86 137.787 1983.06 140.634 Q1985.26 143.458 1985.26 148.689 L1985.26 164.338 L1980.98 164.338 L1980.98 148.828 Q1980.98 145.102 1979.66 143.296 Q1978.34 141.49 1975.63 141.49 Q1972.32 141.49 1970.4 143.69 Q1968.48 145.889 1968.48 149.685 L1968.48 164.338 L1964.2 164.338 L1964.2 148.828 Q1964.2 145.078 1962.88 143.296 Q1961.56 141.49 1958.8 141.49 Q1955.54 141.49 1953.62 143.713 Q1951.7 145.912 1951.7 149.685 L1951.7 164.338 L1947.42 164.338 L1947.42 138.412 L1951.7 138.412 L1951.7 142.44 Q1953.16 140.055 1955.19 138.921 Q1957.23 137.787 1960.03 137.787 Q1962.86 137.787 1964.82 139.222 Q1966.81 140.657 1967.76 143.389 Z\" fill=\"#000000\" fill-rule=\"evenodd\" fill-opacity=\"1\" /><path clip-path=\"url(#clip460)\" d=\"M2005.54 151.305 Q2000.38 151.305 1998.39 152.486 Q1996.4 153.666 1996.4 156.514 Q1996.4 158.782 1997.88 160.125 Q1999.38 161.444 2001.95 161.444 Q2005.49 161.444 2007.62 158.944 Q2009.78 156.421 2009.78 152.254 L2009.78 151.305 L2005.54 151.305 M2014.04 149.546 L2014.04 164.338 L2009.78 164.338 L2009.78 160.402 Q2008.32 162.763 2006.14 163.898 Q2003.97 165.009 2000.82 165.009 Q1996.84 165.009 1994.48 162.787 Q1992.14 160.541 1992.14 156.791 Q1992.14 152.416 1995.05 150.194 Q1997.99 147.972 2003.8 147.972 L2009.78 147.972 L2009.78 147.555 Q2009.78 144.615 2007.83 143.018 Q2005.91 141.398 2002.42 141.398 Q2000.19 141.398 1998.09 141.93 Q1995.98 142.463 1994.04 143.527 L1994.04 139.592 Q1996.37 138.69 1998.57 138.25 Q2000.77 137.787 2002.85 137.787 Q2008.48 137.787 2011.26 140.703 Q2014.04 143.62 2014.04 149.546 Z\" fill=\"#000000\" fill-rule=\"evenodd\" fill-opacity=\"1\" /><path clip-path=\"url(#clip460)\" d=\"M2042.99 143.389 Q2044.59 140.518 2046.81 139.153 Q2049.04 137.787 2052.04 137.787 Q2056.1 137.787 2058.29 140.634 Q2060.49 143.458 2060.49 148.689 L2060.49 164.338 L2056.21 164.338 L2056.21 148.828 Q2056.21 145.102 2054.89 143.296 Q2053.57 141.49 2050.86 141.49 Q2047.55 141.49 2045.63 143.69 Q2043.71 145.889 2043.71 149.685 L2043.71 164.338 L2039.43 164.338 L2039.43 148.828 Q2039.43 145.078 2038.11 143.296 Q2036.79 141.49 2034.04 141.49 Q2030.77 141.49 2028.85 143.713 Q2026.93 145.912 2026.93 149.685 L2026.93 164.338 L2022.65 164.338 L2022.65 138.412 L2026.93 138.412 L2026.93 142.44 Q2028.39 140.055 2030.42 138.921 Q2032.46 137.787 2035.26 137.787 Q2038.09 137.787 2040.05 139.222 Q2042.04 140.657 2042.99 143.389 Z\" fill=\"#000000\" fill-rule=\"evenodd\" fill-opacity=\"1\" /><path clip-path=\"url(#clip460)\" d=\"M2089.17 143.389 Q2090.77 140.518 2092.99 139.153 Q2095.22 137.787 2098.22 137.787 Q2102.28 137.787 2104.47 140.634 Q2106.67 143.458 2106.67 148.689 L2106.67 164.338 L2102.39 164.338 L2102.39 148.828 Q2102.39 145.102 2101.07 143.296 Q2099.75 141.49 2097.04 141.49 Q2093.73 141.49 2091.81 143.69 Q2089.89 145.889 2089.89 149.685 L2089.89 164.338 L2085.61 164.338 L2085.61 148.828 Q2085.61 145.078 2084.29 143.296 Q2082.97 141.49 2080.22 141.49 Q2076.95 141.49 2075.03 143.713 Q2073.11 145.912 2073.11 149.685 L2073.11 164.338 L2068.83 164.338 L2068.83 138.412 L2073.11 138.412 L2073.11 142.44 Q2074.57 140.055 2076.6 138.921 Q2078.64 137.787 2081.44 137.787 Q2084.27 137.787 2086.23 139.222 Q2088.22 140.657 2089.17 143.389 Z\" fill=\"#000000\" fill-rule=\"evenodd\" fill-opacity=\"1\" /><path clip-path=\"url(#clip460)\" d=\"M2126.95 151.305 Q2121.79 151.305 2119.8 152.486 Q2117.81 153.666 2117.81 156.514 Q2117.81 158.782 2119.29 160.125 Q2120.79 161.444 2123.36 161.444 Q2126.91 161.444 2129.03 158.944 Q2131.19 156.421 2131.19 152.254 L2131.19 151.305 L2126.95 151.305 M2135.45 149.546 L2135.45 164.338 L2131.19 164.338 L2131.19 160.402 Q2129.73 162.763 2127.55 163.898 Q2125.38 165.009 2122.23 165.009 Q2118.25 165.009 2115.89 162.787 Q2113.55 160.541 2113.55 156.791 Q2113.55 152.416 2116.47 150.194 Q2119.41 147.972 2125.22 147.972 L2131.19 147.972 L2131.19 147.555 Q2131.19 144.615 2129.24 143.018 Q2127.32 141.398 2123.83 141.398 Q2121.6 141.398 2119.5 141.93 Q2117.39 142.463 2115.45 143.527 L2115.45 139.592 Q2117.78 138.69 2119.98 138.25 Q2122.18 137.787 2124.27 137.787 Q2129.89 137.787 2132.67 140.703 Q2135.45 143.62 2135.45 149.546 Z\" fill=\"#000000\" fill-rule=\"evenodd\" fill-opacity=\"1\" /><path clip-path=\"url(#clip460)\" d=\"M2144.22 128.319 L2148.48 128.319 L2148.48 164.338 L2144.22 164.338 L2144.22 128.319 Z\" fill=\"#000000\" fill-rule=\"evenodd\" fill-opacity=\"1\" /><circle clip-path=\"url(#clip460)\" cx=\"1852.81\" cy=\"198.898\" r=\"23.04\" fill=\"#ffa500\" fill-rule=\"evenodd\" fill-opacity=\"1\" stroke=\"#000000\" stroke-opacity=\"1\" stroke-width=\"5.12\"/>\n<path clip-path=\"url(#clip460)\" d=\"M1966.19 203.238 Q1966.19 198.539 1964.24 195.877 Q1962.32 193.192 1958.94 193.192 Q1955.56 193.192 1953.62 195.877 Q1951.7 198.539 1951.7 203.238 Q1951.7 207.937 1953.62 210.622 Q1955.56 213.284 1958.94 213.284 Q1962.32 213.284 1964.24 210.622 Q1966.19 207.937 1966.19 203.238 M1951.7 194.187 Q1953.04 191.872 1955.08 190.761 Q1957.14 189.627 1959.98 189.627 Q1964.71 189.627 1967.65 193.377 Q1970.61 197.127 1970.61 203.238 Q1970.61 209.349 1967.65 213.099 Q1964.71 216.849 1959.98 216.849 Q1957.14 216.849 1955.08 215.738 Q1953.04 214.603 1951.7 212.289 L1951.7 216.178 L1947.42 216.178 L1947.42 180.159 L1951.7 180.159 L1951.7 194.187 Z\" fill=\"#000000\" fill-rule=\"evenodd\" fill-opacity=\"1\" /><path clip-path=\"url(#clip460)\" d=\"M1977.67 190.252 L1981.93 190.252 L1981.93 216.178 L1977.67 216.178 L1977.67 190.252 M1977.67 180.159 L1981.93 180.159 L1981.93 185.553 L1977.67 185.553 L1977.67 180.159 Z\" fill=\"#000000\" fill-rule=\"evenodd\" fill-opacity=\"1\" /><path clip-path=\"url(#clip460)\" d=\"M2005.86 194.233 Q2005.15 193.817 2004.29 193.631 Q2003.46 193.423 2002.44 193.423 Q1998.83 193.423 1996.88 195.784 Q1994.96 198.122 1994.96 202.52 L1994.96 216.178 L1990.68 216.178 L1990.68 190.252 L1994.96 190.252 L1994.96 194.28 Q1996.3 191.918 1998.46 190.784 Q2000.61 189.627 2003.69 189.627 Q2004.13 189.627 2004.66 189.696 Q2005.19 189.743 2005.84 189.858 L2005.86 194.233 Z\" fill=\"#000000\" fill-rule=\"evenodd\" fill-opacity=\"1\" /><path clip-path=\"url(#clip460)\" d=\"M2026.56 194.187 L2026.56 180.159 L2030.82 180.159 L2030.82 216.178 L2026.56 216.178 L2026.56 212.289 Q2025.22 214.603 2023.16 215.738 Q2021.12 216.849 2018.25 216.849 Q2013.55 216.849 2010.59 213.099 Q2007.65 209.349 2007.65 203.238 Q2007.65 197.127 2010.59 193.377 Q2013.55 189.627 2018.25 189.627 Q2021.12 189.627 2023.16 190.761 Q2025.22 191.872 2026.56 194.187 M2012.04 203.238 Q2012.04 207.937 2013.97 210.622 Q2015.91 213.284 2019.29 213.284 Q2022.67 213.284 2024.61 210.622 Q2026.56 207.937 2026.56 203.238 Q2026.56 198.539 2024.61 195.877 Q2022.67 193.192 2019.29 193.192 Q2015.91 193.192 2013.97 195.877 Q2012.04 198.539 2012.04 203.238 Z\" fill=\"#000000\" fill-rule=\"evenodd\" fill-opacity=\"1\" /><circle clip-path=\"url(#clip460)\" cx=\"1852.81\" cy=\"250.738\" r=\"23.04\" fill=\"#0000ff\" fill-rule=\"evenodd\" fill-opacity=\"1\" stroke=\"#000000\" stroke-opacity=\"1\" stroke-width=\"5.12\"/>\n<path clip-path=\"url(#clip460)\" d=\"M1962.6 246.073 Q1961.88 245.657 1961.03 245.471 Q1960.19 245.263 1959.17 245.263 Q1955.56 245.263 1953.62 247.624 Q1951.7 249.962 1951.7 254.36 L1951.7 268.018 L1947.42 268.018 L1947.42 242.092 L1951.7 242.092 L1951.7 246.12 Q1953.04 243.758 1955.19 242.624 Q1957.35 241.467 1960.42 241.467 Q1960.86 241.467 1961.4 241.536 Q1961.93 241.583 1962.58 241.698 L1962.6 246.073 Z\" fill=\"#000000\" fill-rule=\"evenodd\" fill-opacity=\"1\" /><path clip-path=\"url(#clip460)\" d=\"M1988.2 253.99 L1988.2 256.073 L1968.62 256.073 Q1968.9 260.471 1971.26 262.786 Q1973.64 265.078 1977.88 265.078 Q1980.33 265.078 1982.62 264.476 Q1984.94 263.874 1987.21 262.67 L1987.21 266.698 Q1984.92 267.67 1982.51 268.18 Q1980.1 268.689 1977.62 268.689 Q1971.42 268.689 1967.79 265.078 Q1964.17 261.467 1964.17 255.309 Q1964.17 248.944 1967.6 245.217 Q1971.05 241.467 1976.88 241.467 Q1982.11 241.467 1985.15 244.846 Q1988.2 248.203 1988.2 253.99 M1983.94 252.74 Q1983.9 249.245 1981.98 247.161 Q1980.08 245.078 1976.93 245.078 Q1973.36 245.078 1971.21 247.092 Q1969.08 249.106 1968.76 252.763 L1983.94 252.74 Z\" fill=\"#000000\" fill-rule=\"evenodd\" fill-opacity=\"1\" /><path clip-path=\"url(#clip460)\" d=\"M1999.31 264.129 L1999.31 277.879 L1995.03 277.879 L1995.03 242.092 L1999.31 242.092 L1999.31 246.027 Q2000.66 243.712 2002.69 242.601 Q2004.75 241.467 2007.6 241.467 Q2012.32 241.467 2015.26 245.217 Q2018.23 248.967 2018.23 255.078 Q2018.23 261.189 2015.26 264.939 Q2012.32 268.689 2007.6 268.689 Q2004.75 268.689 2002.69 267.578 Q2000.66 266.443 1999.31 264.129 M2013.8 255.078 Q2013.8 250.379 2011.86 247.717 Q2009.94 245.032 2006.56 245.032 Q2003.18 245.032 2001.23 247.717 Q1999.31 250.379 1999.31 255.078 Q1999.31 259.777 2001.23 262.462 Q2003.18 265.124 2006.56 265.124 Q2009.94 265.124 2011.86 262.462 Q2013.8 259.777 2013.8 255.078 Z\" fill=\"#000000\" fill-rule=\"evenodd\" fill-opacity=\"1\" /><path clip-path=\"url(#clip460)\" d=\"M2029.5 234.731 L2029.5 242.092 L2038.27 242.092 L2038.27 245.402 L2029.5 245.402 L2029.5 259.476 Q2029.5 262.647 2030.35 263.55 Q2031.23 264.453 2033.9 264.453 L2038.27 264.453 L2038.27 268.018 L2033.9 268.018 Q2028.97 268.018 2027.09 266.189 Q2025.22 264.337 2025.22 259.476 L2025.22 245.402 L2022.09 245.402 L2022.09 242.092 L2025.22 242.092 L2025.22 234.731 L2029.5 234.731 Z\" fill=\"#000000\" fill-rule=\"evenodd\" fill-opacity=\"1\" /><path clip-path=\"url(#clip460)\" d=\"M2043.87 242.092 L2048.13 242.092 L2048.13 268.018 L2043.87 268.018 L2043.87 242.092 M2043.87 231.999 L2048.13 231.999 L2048.13 237.393 L2043.87 237.393 L2043.87 231.999 Z\" fill=\"#000000\" fill-rule=\"evenodd\" fill-opacity=\"1\" /><path clip-path=\"url(#clip460)\" d=\"M2057.04 231.999 L2061.3 231.999 L2061.3 268.018 L2057.04 268.018 L2057.04 231.999 Z\" fill=\"#000000\" fill-rule=\"evenodd\" fill-opacity=\"1\" /><path clip-path=\"url(#clip460)\" d=\"M2092.39 253.99 L2092.39 256.073 L2072.81 256.073 Q2073.09 260.471 2075.45 262.786 Q2077.83 265.078 2082.07 265.078 Q2084.52 265.078 2086.81 264.476 Q2089.13 263.874 2091.4 262.67 L2091.4 266.698 Q2089.1 267.67 2086.7 268.18 Q2084.29 268.689 2081.81 268.689 Q2075.61 268.689 2071.97 265.078 Q2068.36 261.467 2068.36 255.309 Q2068.36 248.944 2071.79 245.217 Q2075.24 241.467 2081.07 241.467 Q2086.3 241.467 2089.34 244.846 Q2092.39 248.203 2092.39 253.99 M2088.13 252.74 Q2088.09 249.245 2086.16 247.161 Q2084.27 245.078 2081.12 245.078 Q2077.55 245.078 2075.4 247.092 Q2073.27 249.106 2072.95 252.763 L2088.13 252.74 Z\" fill=\"#000000\" fill-rule=\"evenodd\" fill-opacity=\"1\" /><circle clip-path=\"url(#clip460)\" cx=\"1852.81\" cy=\"302.578\" r=\"23.04\" fill=\"#ff0000\" fill-rule=\"evenodd\" fill-opacity=\"1\" stroke=\"#000000\" stroke-opacity=\"1\" stroke-width=\"5.12\"/>\n<path clip-path=\"url(#clip460)\" d=\"M1963.92 283.839 L1963.92 287.381 L1959.85 287.381 Q1957.55 287.381 1956.65 288.307 Q1955.77 289.233 1955.77 291.64 L1955.77 293.932 L1962.79 293.932 L1962.79 297.242 L1955.77 297.242 L1955.77 319.858 L1951.49 319.858 L1951.49 297.242 L1947.42 297.242 L1947.42 293.932 L1951.49 293.932 L1951.49 292.126 Q1951.49 287.798 1953.5 285.83 Q1955.52 283.839 1959.89 283.839 L1963.92 283.839 Z\" fill=\"#000000\" fill-rule=\"evenodd\" fill-opacity=\"1\" /><path clip-path=\"url(#clip460)\" d=\"M1967.48 293.932 L1971.74 293.932 L1971.74 319.858 L1967.48 319.858 L1967.48 293.932 M1967.48 283.839 L1971.74 283.839 L1971.74 289.233 L1967.48 289.233 L1967.48 283.839 Z\" fill=\"#000000\" fill-rule=\"evenodd\" fill-opacity=\"1\" /><path clip-path=\"url(#clip460)\" d=\"M1997.18 294.696 L1997.18 298.723 Q1995.38 297.797 1993.43 297.335 Q1991.49 296.872 1989.41 296.872 Q1986.23 296.872 1984.64 297.844 Q1983.06 298.816 1983.06 300.76 Q1983.06 302.242 1984.2 303.098 Q1985.33 303.932 1988.76 304.696 L1990.22 305.02 Q1994.75 305.992 1996.65 307.774 Q1998.57 309.534 1998.57 312.705 Q1998.57 316.316 1995.7 318.422 Q1992.85 320.529 1987.85 320.529 Q1985.77 320.529 1983.5 320.112 Q1981.26 319.719 1978.76 318.908 L1978.76 314.51 Q1981.12 315.737 1983.41 316.362 Q1985.7 316.964 1987.95 316.964 Q1990.96 316.964 1992.58 315.946 Q1994.2 314.904 1994.2 313.029 Q1994.2 311.293 1993.02 310.367 Q1991.86 309.441 1987.9 308.584 L1986.42 308.237 Q1982.46 307.404 1980.7 305.691 Q1978.94 303.955 1978.94 300.946 Q1978.94 297.288 1981.54 295.298 Q1984.13 293.307 1988.9 293.307 Q1991.26 293.307 1993.34 293.654 Q1995.42 294.001 1997.18 294.696 Z\" fill=\"#000000\" fill-rule=\"evenodd\" fill-opacity=\"1\" /><path clip-path=\"url(#clip460)\" d=\"M2026.91 304.209 L2026.91 319.858 L2022.65 319.858 L2022.65 304.348 Q2022.65 300.668 2021.21 298.839 Q2019.78 297.01 2016.91 297.01 Q2013.46 297.01 2011.47 299.21 Q2009.48 301.409 2009.48 305.205 L2009.48 319.858 L2005.19 319.858 L2005.19 283.839 L2009.48 283.839 L2009.48 297.96 Q2011 295.622 2013.06 294.464 Q2015.15 293.307 2017.85 293.307 Q2022.32 293.307 2024.61 296.085 Q2026.91 298.839 2026.91 304.209 Z\" fill=\"#000000\" fill-rule=\"evenodd\" fill-opacity=\"1\" /><circle clip-path=\"url(#clip460)\" cx=\"1852.81\" cy=\"354.418\" r=\"23.04\" fill=\"#ffff00\" fill-rule=\"evenodd\" fill-opacity=\"1\" stroke=\"#000000\" stroke-opacity=\"1\" stroke-width=\"5.12\"/>\n<path clip-path=\"url(#clip460)\" d=\"M1960.82 358.665 Q1955.66 358.665 1953.67 359.846 Q1951.67 361.026 1951.67 363.874 Q1951.67 366.142 1953.16 367.485 Q1954.66 368.804 1957.23 368.804 Q1960.77 368.804 1962.9 366.304 Q1965.05 363.781 1965.05 359.614 L1965.05 358.665 L1960.82 358.665 M1969.31 356.906 L1969.31 371.698 L1965.05 371.698 L1965.05 367.762 Q1963.6 370.123 1961.42 371.258 Q1959.24 372.369 1956.1 372.369 Q1952.11 372.369 1949.75 370.147 Q1947.42 367.901 1947.42 364.151 Q1947.42 359.776 1950.33 357.554 Q1953.27 355.332 1959.08 355.332 L1965.05 355.332 L1965.05 354.915 Q1965.05 351.975 1963.11 350.378 Q1961.19 348.758 1957.69 348.758 Q1955.47 348.758 1953.36 349.29 Q1951.26 349.823 1949.31 350.887 L1949.31 346.952 Q1951.65 346.05 1953.85 345.61 Q1956.05 345.147 1958.13 345.147 Q1963.76 345.147 1966.54 348.063 Q1969.31 350.98 1969.31 356.906 Z\" fill=\"#000000\" fill-rule=\"evenodd\" fill-opacity=\"1\" /><path clip-path=\"url(#clip460)\" d=\"M1998.27 350.749 Q1999.87 347.878 2002.09 346.513 Q2004.31 345.147 2007.32 345.147 Q2011.37 345.147 2013.57 347.994 Q2015.77 350.818 2015.77 356.049 L2015.77 371.698 L2011.49 371.698 L2011.49 356.188 Q2011.49 352.462 2010.17 350.656 Q2008.85 348.85 2006.14 348.85 Q2002.83 348.85 2000.91 351.05 Q1998.99 353.249 1998.99 357.045 L1998.99 371.698 L1994.71 371.698 L1994.71 356.188 Q1994.71 352.438 1993.39 350.656 Q1992.07 348.85 1989.31 348.85 Q1986.05 348.85 1984.13 351.073 Q1982.21 353.272 1982.21 357.045 L1982.21 371.698 L1977.92 371.698 L1977.92 345.772 L1982.21 345.772 L1982.21 349.8 Q1983.67 347.415 1985.7 346.281 Q1987.74 345.147 1990.54 345.147 Q1993.36 345.147 1995.33 346.582 Q1997.32 348.017 1998.27 350.749 Z\" fill=\"#000000\" fill-rule=\"evenodd\" fill-opacity=\"1\" /><path clip-path=\"url(#clip460)\" d=\"M2028.39 367.809 L2028.39 381.559 L2024.1 381.559 L2024.1 345.772 L2028.39 345.772 L2028.39 349.707 Q2029.73 347.392 2031.77 346.281 Q2033.83 345.147 2036.67 345.147 Q2041.4 345.147 2044.34 348.897 Q2047.3 352.647 2047.3 358.758 Q2047.3 364.869 2044.34 368.619 Q2041.4 372.369 2036.67 372.369 Q2033.83 372.369 2031.77 371.258 Q2029.73 370.123 2028.39 367.809 M2042.88 358.758 Q2042.88 354.059 2040.93 351.397 Q2039.01 348.712 2035.63 348.712 Q2032.25 348.712 2030.31 351.397 Q2028.39 354.059 2028.39 358.758 Q2028.39 363.457 2030.31 366.142 Q2032.25 368.804 2035.63 368.804 Q2039.01 368.804 2040.93 366.142 Q2042.88 363.457 2042.88 358.758 Z\" fill=\"#000000\" fill-rule=\"evenodd\" fill-opacity=\"1\" /><path clip-path=\"url(#clip460)\" d=\"M2075.91 356.049 L2075.91 371.698 L2071.65 371.698 L2071.65 356.188 Q2071.65 352.508 2070.22 350.679 Q2068.78 348.85 2065.91 348.85 Q2062.46 348.85 2060.47 351.05 Q2058.48 353.249 2058.48 357.045 L2058.48 371.698 L2054.2 371.698 L2054.2 335.679 L2058.48 335.679 L2058.48 349.8 Q2060.01 347.462 2062.07 346.304 Q2064.15 345.147 2066.86 345.147 Q2071.33 345.147 2073.62 347.925 Q2075.91 350.679 2075.91 356.049 Z\" fill=\"#000000\" fill-rule=\"evenodd\" fill-opacity=\"1\" /><path clip-path=\"url(#clip460)\" d=\"M2084.41 345.772 L2088.66 345.772 L2088.66 371.698 L2084.41 371.698 L2084.41 345.772 M2084.41 335.679 L2088.66 335.679 L2088.66 341.073 L2084.41 341.073 L2084.41 335.679 Z\" fill=\"#000000\" fill-rule=\"evenodd\" fill-opacity=\"1\" /><path clip-path=\"url(#clip460)\" d=\"M2116.19 358.758 Q2116.19 354.059 2114.24 351.397 Q2112.32 348.712 2108.94 348.712 Q2105.56 348.712 2103.62 351.397 Q2101.7 354.059 2101.7 358.758 Q2101.7 363.457 2103.62 366.142 Q2105.56 368.804 2108.94 368.804 Q2112.32 368.804 2114.24 366.142 Q2116.19 363.457 2116.19 358.758 M2101.7 349.707 Q2103.04 347.392 2105.08 346.281 Q2107.14 345.147 2109.98 345.147 Q2114.71 345.147 2117.65 348.897 Q2120.61 352.647 2120.61 358.758 Q2120.61 364.869 2117.65 368.619 Q2114.71 372.369 2109.98 372.369 Q2107.14 372.369 2105.08 371.258 Q2103.04 370.123 2101.7 367.809 L2101.7 371.698 L2097.41 371.698 L2097.41 335.679 L2101.7 335.679 L2101.7 349.707 Z\" fill=\"#000000\" fill-rule=\"evenodd\" fill-opacity=\"1\" /><path clip-path=\"url(#clip460)\" d=\"M2127.67 345.772 L2131.93 345.772 L2131.93 371.698 L2127.67 371.698 L2127.67 345.772 M2127.67 335.679 L2131.93 335.679 L2131.93 341.073 L2127.67 341.073 L2127.67 335.679 Z\" fill=\"#000000\" fill-rule=\"evenodd\" fill-opacity=\"1\" /><path clip-path=\"url(#clip460)\" d=\"M2152.62 358.665 Q2147.46 358.665 2145.47 359.846 Q2143.48 361.026 2143.48 363.874 Q2143.48 366.142 2144.96 367.485 Q2146.47 368.804 2149.03 368.804 Q2152.58 368.804 2154.71 366.304 Q2156.86 363.781 2156.86 359.614 L2156.86 358.665 L2152.62 358.665 M2161.12 356.906 L2161.12 371.698 L2156.86 371.698 L2156.86 367.762 Q2155.4 370.123 2153.22 371.258 Q2151.05 372.369 2147.9 372.369 Q2143.92 372.369 2141.56 370.147 Q2139.22 367.901 2139.22 364.151 Q2139.22 359.776 2142.14 357.554 Q2145.08 355.332 2150.89 355.332 L2156.86 355.332 L2156.86 354.915 Q2156.86 351.975 2154.91 350.378 Q2152.99 348.758 2149.5 348.758 Q2147.28 348.758 2145.17 349.29 Q2143.06 349.823 2141.12 350.887 L2141.12 346.952 Q2143.46 346.05 2145.66 345.61 Q2147.85 345.147 2149.94 345.147 Q2155.56 345.147 2158.34 348.063 Q2161.12 350.98 2161.12 356.906 Z\" fill=\"#000000\" fill-rule=\"evenodd\" fill-opacity=\"1\" /><path clip-path=\"url(#clip460)\" d=\"M2191.44 356.049 L2191.44 371.698 L2187.18 371.698 L2187.18 356.188 Q2187.18 352.508 2185.75 350.679 Q2184.31 348.85 2181.44 348.85 Q2177.99 348.85 2176 351.05 Q2174.01 353.249 2174.01 357.045 L2174.01 371.698 L2169.73 371.698 L2169.73 345.772 L2174.01 345.772 L2174.01 349.8 Q2175.54 347.462 2177.6 346.304 Q2179.68 345.147 2182.39 345.147 Q2186.86 345.147 2189.15 347.925 Q2191.44 350.679 2191.44 356.049 Z\" fill=\"#000000\" fill-rule=\"evenodd\" fill-opacity=\"1\" /><circle clip-path=\"url(#clip460)\" cx=\"1852.81\" cy=\"406.258\" r=\"23.04\" fill=\"#800080\" fill-rule=\"evenodd\" fill-opacity=\"1\" stroke=\"#000000\" stroke-opacity=\"1\" stroke-width=\"5.12\"/>\n<path clip-path=\"url(#clip460)\" d=\"M1966.19 410.598 Q1966.19 405.899 1964.24 403.237 Q1962.32 400.552 1958.94 400.552 Q1955.56 400.552 1953.62 403.237 Q1951.7 405.899 1951.7 410.598 Q1951.7 415.297 1953.62 417.982 Q1955.56 420.644 1958.94 420.644 Q1962.32 420.644 1964.24 417.982 Q1966.19 415.297 1966.19 410.598 M1951.7 401.547 Q1953.04 399.232 1955.08 398.121 Q1957.14 396.987 1959.98 396.987 Q1964.71 396.987 1967.65 400.737 Q1970.61 404.487 1970.61 410.598 Q1970.61 416.709 1967.65 420.459 Q1964.71 424.209 1959.98 424.209 Q1957.14 424.209 1955.08 423.098 Q1953.04 421.963 1951.7 419.649 L1951.7 423.538 L1947.42 423.538 L1947.42 387.519 L1951.7 387.519 L1951.7 401.547 Z\" fill=\"#000000\" fill-rule=\"evenodd\" fill-opacity=\"1\" /><path clip-path=\"url(#clip460)\" d=\"M1977.23 413.306 L1977.23 397.612 L1981.49 397.612 L1981.49 413.144 Q1981.49 416.825 1982.92 418.676 Q1984.36 420.505 1987.23 420.505 Q1990.68 420.505 1992.67 418.306 Q1994.68 416.107 1994.68 412.311 L1994.68 397.612 L1998.94 397.612 L1998.94 423.538 L1994.68 423.538 L1994.68 419.556 Q1993.13 421.917 1991.07 423.075 Q1989.04 424.209 1986.33 424.209 Q1981.86 424.209 1979.54 421.431 Q1977.23 418.653 1977.23 413.306 M1987.95 396.987 L1987.95 396.987 Z\" fill=\"#000000\" fill-rule=\"evenodd\" fill-opacity=\"1\" /><path clip-path=\"url(#clip460)\" d=\"M2024.78 410.274 Q2024.78 405.644 2022.85 403.098 Q2020.96 400.552 2017.51 400.552 Q2014.08 400.552 2012.16 403.098 Q2010.26 405.644 2010.26 410.274 Q2010.26 414.88 2012.16 417.426 Q2014.08 419.973 2017.51 419.973 Q2020.96 419.973 2022.85 417.426 Q2024.78 414.88 2024.78 410.274 M2029.04 420.32 Q2029.04 426.94 2026.1 430.158 Q2023.16 433.399 2017.09 433.399 Q2014.85 433.399 2012.85 433.051 Q2010.86 432.727 2008.99 432.033 L2008.99 427.889 Q2010.86 428.908 2012.69 429.394 Q2014.52 429.88 2016.42 429.88 Q2020.61 429.88 2022.69 427.681 Q2024.78 425.505 2024.78 421.084 L2024.78 418.977 Q2023.46 421.269 2021.4 422.403 Q2019.34 423.538 2016.47 423.538 Q2011.7 423.538 2008.78 419.903 Q2005.86 416.269 2005.86 410.274 Q2005.86 404.255 2008.78 400.621 Q2011.7 396.987 2016.47 396.987 Q2019.34 396.987 2021.4 398.121 Q2023.46 399.255 2024.78 401.547 L2024.78 397.612 L2029.04 397.612 L2029.04 420.32 Z\" fill=\"#000000\" fill-rule=\"evenodd\" fill-opacity=\"1\" /><circle clip-path=\"url(#clip460)\" cx=\"1852.81\" cy=\"458.098\" r=\"23.04\" fill=\"#000000\" fill-rule=\"evenodd\" fill-opacity=\"1\" stroke=\"none\"/>\n<path clip-path=\"url(#clip460)\" d=\"M1947.42 449.452 L1951.67 449.452 L1951.67 475.378 L1947.42 475.378 L1947.42 449.452 M1947.42 439.359 L1951.67 439.359 L1951.67 444.753 L1947.42 444.753 L1947.42 439.359 Z\" fill=\"#000000\" fill-rule=\"evenodd\" fill-opacity=\"1\" /><path clip-path=\"url(#clip460)\" d=\"M1982.14 459.729 L1982.14 475.378 L1977.88 475.378 L1977.88 459.868 Q1977.88 456.188 1976.44 454.359 Q1975.01 452.53 1972.14 452.53 Q1968.69 452.53 1966.7 454.73 Q1964.71 456.929 1964.71 460.725 L1964.71 475.378 L1960.42 475.378 L1960.42 449.452 L1964.71 449.452 L1964.71 453.48 Q1966.23 451.142 1968.29 449.984 Q1970.38 448.827 1973.09 448.827 Q1977.55 448.827 1979.85 451.605 Q1982.14 454.359 1982.14 459.729 Z\" fill=\"#000000\" fill-rule=\"evenodd\" fill-opacity=\"1\" /><path clip-path=\"url(#clip460)\" d=\"M1987.58 449.452 L1992.09 449.452 L2000.19 471.211 L2008.29 449.452 L2012.81 449.452 L2003.09 475.378 L1997.3 475.378 L1987.58 449.452 Z\" fill=\"#000000\" fill-rule=\"evenodd\" fill-opacity=\"1\" /><path clip-path=\"url(#clip460)\" d=\"M2040.86 461.35 L2040.86 463.433 L2021.28 463.433 Q2021.56 467.831 2023.92 470.146 Q2026.3 472.438 2030.54 472.438 Q2032.99 472.438 2035.29 471.836 Q2037.6 471.234 2039.87 470.03 L2039.87 474.058 Q2037.58 475.03 2035.17 475.54 Q2032.76 476.049 2030.29 476.049 Q2024.08 476.049 2020.45 472.438 Q2016.84 468.827 2016.84 462.669 Q2016.84 456.304 2020.26 452.577 Q2023.71 448.827 2029.54 448.827 Q2034.78 448.827 2037.81 452.206 Q2040.86 455.563 2040.86 461.35 M2036.6 460.1 Q2036.56 456.605 2034.64 454.521 Q2032.74 452.438 2029.59 452.438 Q2026.03 452.438 2023.87 454.452 Q2021.74 456.466 2021.42 460.123 L2036.6 460.1 Z\" fill=\"#000000\" fill-rule=\"evenodd\" fill-opacity=\"1\" /><path clip-path=\"url(#clip460)\" d=\"M2062.88 453.433 Q2062.16 453.017 2061.3 452.831 Q2060.47 452.623 2059.45 452.623 Q2055.84 452.623 2053.9 454.984 Q2051.97 457.322 2051.97 461.72 L2051.97 475.378 L2047.69 475.378 L2047.69 449.452 L2051.97 449.452 L2051.97 453.48 Q2053.32 451.118 2055.47 449.984 Q2057.62 448.827 2060.7 448.827 Q2061.14 448.827 2061.67 448.896 Q2062.21 448.943 2062.85 449.058 L2062.88 453.433 Z\" fill=\"#000000\" fill-rule=\"evenodd\" fill-opacity=\"1\" /><path clip-path=\"url(#clip460)\" d=\"M2071.56 442.091 L2071.56 449.452 L2080.33 449.452 L2080.33 452.762 L2071.56 452.762 L2071.56 466.836 Q2071.56 470.007 2072.41 470.91 Q2073.29 471.813 2075.96 471.813 L2080.33 471.813 L2080.33 475.378 L2075.96 475.378 Q2071.03 475.378 2069.15 473.549 Q2067.28 471.697 2067.28 466.836 L2067.28 452.762 L2064.15 452.762 L2064.15 449.452 L2067.28 449.452 L2067.28 442.091 L2071.56 442.091 Z\" fill=\"#000000\" fill-rule=\"evenodd\" fill-opacity=\"1\" /><path clip-path=\"url(#clip460)\" d=\"M2108.11 461.35 L2108.11 463.433 L2088.53 463.433 Q2088.8 467.831 2091.16 470.146 Q2093.55 472.438 2097.78 472.438 Q2100.24 472.438 2102.53 471.836 Q2104.85 471.234 2107.11 470.03 L2107.11 474.058 Q2104.82 475.03 2102.41 475.54 Q2100.01 476.049 2097.53 476.049 Q2091.33 476.049 2087.69 472.438 Q2084.08 468.827 2084.08 462.669 Q2084.08 456.304 2087.51 452.577 Q2090.96 448.827 2096.79 448.827 Q2102.02 448.827 2105.05 452.206 Q2108.11 455.563 2108.11 461.35 M2103.85 460.1 Q2103.8 456.605 2101.88 454.521 Q2099.98 452.438 2096.84 452.438 Q2093.27 452.438 2091.12 454.452 Q2088.99 456.466 2088.66 460.123 L2103.85 460.1 Z\" fill=\"#000000\" fill-rule=\"evenodd\" fill-opacity=\"1\" /><path clip-path=\"url(#clip460)\" d=\"M2133.71 462.438 Q2133.71 457.739 2131.77 455.077 Q2129.84 452.392 2126.47 452.392 Q2123.09 452.392 2121.14 455.077 Q2119.22 457.739 2119.22 462.438 Q2119.22 467.137 2121.14 469.822 Q2123.09 472.484 2126.47 472.484 Q2129.84 472.484 2131.77 469.822 Q2133.71 467.137 2133.71 462.438 M2119.22 453.387 Q2120.56 451.072 2122.6 449.961 Q2124.66 448.827 2127.51 448.827 Q2132.23 448.827 2135.17 452.577 Q2138.13 456.327 2138.13 462.438 Q2138.13 468.549 2135.17 472.299 Q2132.23 476.049 2127.51 476.049 Q2124.66 476.049 2122.6 474.938 Q2120.56 473.803 2119.22 471.489 L2119.22 475.378 L2114.94 475.378 L2114.94 439.359 L2119.22 439.359 L2119.22 453.387 Z\" fill=\"#000000\" fill-rule=\"evenodd\" fill-opacity=\"1\" /><path clip-path=\"url(#clip460)\" d=\"M2160.22 453.433 Q2159.5 453.017 2158.64 452.831 Q2157.81 452.623 2156.79 452.623 Q2153.18 452.623 2151.23 454.984 Q2149.31 457.322 2149.31 461.72 L2149.31 475.378 L2145.03 475.378 L2145.03 449.452 L2149.31 449.452 L2149.31 453.48 Q2150.65 451.118 2152.81 449.984 Q2154.96 448.827 2158.04 448.827 Q2158.48 448.827 2159.01 448.896 Q2159.54 448.943 2160.19 449.058 L2160.22 453.433 Z\" fill=\"#000000\" fill-rule=\"evenodd\" fill-opacity=\"1\" /><path clip-path=\"url(#clip460)\" d=\"M2176.47 462.345 Q2171.3 462.345 2169.31 463.526 Q2167.32 464.706 2167.32 467.554 Q2167.32 469.822 2168.8 471.165 Q2170.31 472.484 2172.88 472.484 Q2176.42 472.484 2178.55 469.984 Q2180.7 467.461 2180.7 463.294 L2180.7 462.345 L2176.47 462.345 M2184.96 460.586 L2184.96 475.378 L2180.7 475.378 L2180.7 471.442 Q2179.24 473.803 2177.07 474.938 Q2174.89 476.049 2171.74 476.049 Q2167.76 476.049 2165.4 473.827 Q2163.06 471.581 2163.06 467.831 Q2163.06 463.456 2165.98 461.234 Q2168.92 459.012 2174.73 459.012 L2180.7 459.012 L2180.7 458.595 Q2180.7 455.655 2178.76 454.058 Q2176.84 452.438 2173.34 452.438 Q2171.12 452.438 2169.01 452.97 Q2166.9 453.503 2164.96 454.567 L2164.96 450.632 Q2167.3 449.73 2169.5 449.29 Q2171.7 448.827 2173.78 448.827 Q2179.4 448.827 2182.18 451.743 Q2184.96 454.66 2184.96 460.586 Z\" fill=\"#000000\" fill-rule=\"evenodd\" fill-opacity=\"1\" /><path clip-path=\"url(#clip460)\" d=\"M2197.95 442.091 L2197.95 449.452 L2206.72 449.452 L2206.72 452.762 L2197.95 452.762 L2197.95 466.836 Q2197.95 470.007 2198.8 470.91 Q2199.68 471.813 2202.34 471.813 L2206.72 471.813 L2206.72 475.378 L2202.34 475.378 Q2197.41 475.378 2195.54 473.549 Q2193.66 471.697 2193.66 466.836 L2193.66 452.762 L2190.54 452.762 L2190.54 449.452 L2193.66 449.452 L2193.66 442.091 L2197.95 442.091 Z\" fill=\"#000000\" fill-rule=\"evenodd\" fill-opacity=\"1\" /><path clip-path=\"url(#clip460)\" d=\"M2234.5 461.35 L2234.5 463.433 L2214.91 463.433 Q2215.19 467.831 2217.55 470.146 Q2219.94 472.438 2224.17 472.438 Q2226.63 472.438 2228.92 471.836 Q2231.23 471.234 2233.5 470.03 L2233.5 474.058 Q2231.21 475.03 2228.8 475.54 Q2226.4 476.049 2223.92 476.049 Q2217.71 476.049 2214.08 472.438 Q2210.47 468.827 2210.47 462.669 Q2210.47 456.304 2213.9 452.577 Q2217.34 448.827 2223.18 448.827 Q2228.41 448.827 2231.44 452.206 Q2234.5 455.563 2234.5 461.35 M2230.24 460.1 Q2230.19 456.605 2228.27 454.521 Q2226.37 452.438 2223.22 452.438 Q2219.66 452.438 2217.51 454.452 Q2215.38 456.466 2215.05 460.123 L2230.24 460.1 Z\" fill=\"#000000\" fill-rule=\"evenodd\" fill-opacity=\"1\" /></svg>\n"
     },
     "execution_count": 18,
     "metadata": {},
     "output_type": "execute_result"
    }
   ],
   "source": [
    "using Plots\n",
    "\n",
    "function plotter()\n",
    "    colors = [:green, :orange, :blue, :red, :yellow, :purple, :black]\n",
    "    labels = [\"mammal\", \"bird\", \"reptile\", \"fish\", \"amphibian\", \"bug\", \"invertebrate\"]\n",
    "    fig = Plots.plot()\n",
    "\n",
    "    for i in 1:7\n",
    "        scatter!(fig, (proj[i, 1], proj[i, 2]), label=labels[i], mc = colors[i])\n",
    "    end\n",
    "    return fig\n",
    "end\n",
    "\n",
    "plotter()"
   ]
  },
  {
   "cell_type": "markdown",
   "metadata": {},
   "source": [
    "This doesn't seem to make much sense at first. Mammals are apparently very similar to fish and birds to invertebrate. On top of that, only roughly 60 % of the variance in the data is explained by the two first principle components. Although it makes sense that reptiles and amphibians are relatively similar from an evolutionary standpoint. It is very likely however that this plot would look much better after implementing a higher variety of features into the data."
   ]
  },
  {
   "cell_type": "markdown",
   "metadata": {},
   "source": [
    "Now we will do an PCA analysis considering every animal seperately."
   ]
  },
  {
   "cell_type": "code",
   "execution_count": 19,
   "metadata": {},
   "outputs": [
    {
     "data": {
      "text/plain": [
       "PCA(indim = 101, outdim = 2, principalratio = 0.5163788062931387)\n",
       "\n",
       "Pattern matrix (unstandardized loadings):\n",
       "─────────────────────────\n",
       "          PC1         PC2\n",
       "─────────────────────────\n",
       "1    0.359635  -0.185543\n",
       "2    0.391726  -0.252687\n",
       "3    0.325923   0.199435\n",
       "4    0.359635  -0.185543\n",
       "5    0.375959  -0.161519\n",
       "6    0.391726  -0.252687\n",
       "7    0.337003  -0.199752\n",
       "8    0.282845   0.13477\n",
       "9    0.325923   0.199435\n",
       "10   0.265474  -0.177843\n",
       "11   0.371725  -0.168401\n",
       "12   0.292896   0.145175\n",
       "13   0.325923   0.199435\n",
       "14   0.136429   0.206852\n",
       "15   0.192619   0.300195\n",
       "16   0.192619   0.300195\n",
       "17   0.327196   0.195543\n",
       "18   0.391726  -0.252687\n",
       "19   0.313474   0.142418\n",
       "20   0.368547  -0.0159698\n",
       "21   0.292896   0.145175\n",
       "22   0.308223   0.202918\n",
       "23   0.391726  -0.252687\n",
       "24   0.318436   0.117378\n",
       "25   0.166718   0.134324\n",
       "26   0.299817   0.153803\n",
       "27   0.309754   0.163336\n",
       "28   0.346397  -0.157737\n",
       "29   0.391726  -0.252687\n",
       "30   0.314248  -0.158684\n",
       "31   0.196595   0.174808\n",
       "32   0.334938  -0.196671\n",
       "33   0.302798  -0.207198\n",
       "34   0.314056   0.20997\n",
       "35   0.270306   0.142355\n",
       "36   0.343511  -0.19229\n",
       "37   0.329087  -0.179172\n",
       "38   0.327196   0.195543\n",
       "39   0.325923   0.199435\n",
       "40   0.167642   0.0618584\n",
       "41   0.183942   0.0660068\n",
       "42   0.302199   0.159824\n",
       "43   0.195292   0.173646\n",
       "44   0.279609   0.149886\n",
       "45   0.369746  -0.169019\n",
       "46   0.371474  -0.165118\n",
       "47   0.192619   0.300195\n",
       "48   0.374778  -0.165375\n",
       "49   0.400837  -0.120765\n",
       "50   0.386713  -0.157947\n",
       "51   0.374379  -0.166877\n",
       "52   0.183806   0.0618395\n",
       "53   0.373003   0.163089\n",
       "54   0.18443    0.187995\n",
       "55   0.386713  -0.157947\n",
       "56   0.391726  -0.252687\n",
       "57   0.300043   0.0884715\n",
       "58   0.292896   0.145175\n",
       "59   0.327946   0.15968\n",
       "60   0.278588   0.149902\n",
       "61   0.313071   0.141807\n",
       "62   0.325923   0.199435\n",
       "63   0.343186   0.112746\n",
       "64   0.381055   0.0169722\n",
       "65   0.372074  -0.170054\n",
       "66   0.336774  -0.197857\n",
       "67   0.368547  -0.0159698\n",
       "68   0.373417  -0.168948\n",
       "69   0.385086  -0.176848\n",
       "70   0.372431  -0.168026\n",
       "71   0.337816  -0.202394\n",
       "72   0.345365   0.130034\n",
       "73   0.201982   0.0433428\n",
       "74   0.269883   0.143304\n",
       "75   0.344377  -0.0849313\n",
       "76   0.364718  -0.0768254\n",
       "77   0.263499   0.0722418\n",
       "78   0.148804   0.22346\n",
       "79   0.307391   0.216583\n",
       "80   0.311411   0.211332\n",
       "81   0.338425   0.104247\n",
       "82   0.162955   0.135624\n",
       "83   0.271474   0.142662\n",
       "84   0.275918   0.150214\n",
       "85   0.328469  -0.182275\n",
       "86   0.192619   0.300195\n",
       "87   0.317062   0.150235\n",
       "88   0.301762   0.149639\n",
       "89   0.168511   0.130035\n",
       "90   0.302202   0.136592\n",
       "91   0.334411   0.0696591\n",
       "92   0.335993   0.0995692\n",
       "93   0.311971   0.138681\n",
       "94   0.346397  -0.157737\n",
       "95   0.328275  -0.179172\n",
       "96   0.315409   0.140514\n",
       "97   0.391726  -0.252687\n",
       "98   0.190916   0.0795809\n",
       "99   0.372912  -0.166765\n",
       "100  0.173745   0.130487\n",
       "101  0.278757   0.145986\n",
       "─────────────────────────\n",
       "\n",
       "Importance of components:\n",
       "──────────────────────────────────────────────\n",
       "                                 PC1       PC2\n",
       "──────────────────────────────────────────────\n",
       "SS Loadings (Eigenvalues)  10.0158    3.02346\n",
       "Variance explained          0.396644  0.119735\n",
       "Cumulative variance         0.396644  0.516379\n",
       "Proportion explained        0.768126  0.231874\n",
       "Cumulative proportion       0.768126  1.0\n",
       "──────────────────────────────────────────────"
      ]
     },
     "execution_count": 19,
     "metadata": {},
     "output_type": "execute_result"
    }
   ],
   "source": [
    "matrix_species = permutedims(hcat(hdv...))\n",
    "\n",
    "S = fit(PCA, matrix_species ; maxoutdim=2)\n",
    "projS = projection(S)\n",
    "S"
   ]
  },
  {
   "cell_type": "code",
   "execution_count": 20,
   "metadata": {},
   "outputs": [
    {
     "data": {
      "image/svg+xml": "<?xml version=\"1.0\" encoding=\"utf-8\"?>\n<svg xmlns=\"http://www.w3.org/2000/svg\" xmlns:xlink=\"http://www.w3.org/1999/xlink\" width=\"600\" height=\"400\" viewBox=\"0 0 2400 1600\">\n<defs>\n  <clipPath id=\"clip500\">\n    <rect x=\"0\" y=\"0\" width=\"2400\" height=\"1600\"/>\n  </clipPath>\n</defs>\n<path clip-path=\"url(#clip500)\" d=\"\nM0 1600 L2400 1600 L2400 0 L0 0  Z\n  \" fill=\"#ffffff\" fill-rule=\"evenodd\" fill-opacity=\"1\"/>\n<defs>\n  <clipPath id=\"clip501\">\n    <rect x=\"480\" y=\"0\" width=\"1681\" height=\"1600\"/>\n  </clipPath>\n</defs>\n<path clip-path=\"url(#clip500)\" d=\"\nM224.098 1486.45 L2352.76 1486.45 L2352.76 47.2441 L224.098 47.2441  Z\n  \" fill=\"#ffffff\" fill-rule=\"evenodd\" fill-opacity=\"1\"/>\n<defs>\n  <clipPath id=\"clip502\">\n    <rect x=\"224\" y=\"47\" width=\"2130\" height=\"1440\"/>\n  </clipPath>\n</defs>\n<polyline clip-path=\"url(#clip502)\" style=\"stroke:#000000; stroke-linecap:round; stroke-linejoin:round; stroke-width:2; stroke-opacity:0.1; fill:none\" points=\"\n  444.325,1486.45 444.325,47.2441 \n  \"/>\n<polyline clip-path=\"url(#clip502)\" style=\"stroke:#000000; stroke-linecap:round; stroke-linejoin:round; stroke-width:2; stroke-opacity:0.1; fill:none\" points=\"\n  925.051,1486.45 925.051,47.2441 \n  \"/>\n<polyline clip-path=\"url(#clip502)\" style=\"stroke:#000000; stroke-linecap:round; stroke-linejoin:round; stroke-width:2; stroke-opacity:0.1; fill:none\" points=\"\n  1405.78,1486.45 1405.78,47.2441 \n  \"/>\n<polyline clip-path=\"url(#clip502)\" style=\"stroke:#000000; stroke-linecap:round; stroke-linejoin:round; stroke-width:2; stroke-opacity:0.1; fill:none\" points=\"\n  1886.5,1486.45 1886.5,47.2441 \n  \"/>\n<polyline clip-path=\"url(#clip500)\" style=\"stroke:#000000; stroke-linecap:round; stroke-linejoin:round; stroke-width:4; stroke-opacity:1; fill:none\" points=\"\n  224.098,1486.45 2352.76,1486.45 \n  \"/>\n<polyline clip-path=\"url(#clip500)\" style=\"stroke:#000000; stroke-linecap:round; stroke-linejoin:round; stroke-width:4; stroke-opacity:1; fill:none\" points=\"\n  444.325,1486.45 444.325,1467.55 \n  \"/>\n<polyline clip-path=\"url(#clip500)\" style=\"stroke:#000000; stroke-linecap:round; stroke-linejoin:round; stroke-width:4; stroke-opacity:1; fill:none\" points=\"\n  925.051,1486.45 925.051,1467.55 \n  \"/>\n<polyline clip-path=\"url(#clip500)\" style=\"stroke:#000000; stroke-linecap:round; stroke-linejoin:round; stroke-width:4; stroke-opacity:1; fill:none\" points=\"\n  1405.78,1486.45 1405.78,1467.55 \n  \"/>\n<polyline clip-path=\"url(#clip500)\" style=\"stroke:#000000; stroke-linecap:round; stroke-linejoin:round; stroke-width:4; stroke-opacity:1; fill:none\" points=\"\n  1886.5,1486.45 1886.5,1467.55 \n  \"/>\n<path clip-path=\"url(#clip500)\" d=\"M376.57 1532.02 L406.246 1532.02 L406.246 1535.95 L376.57 1535.95 L376.57 1532.02 Z\" fill=\"#000000\" fill-rule=\"evenodd\" fill-opacity=\"1\" /><path clip-path=\"url(#clip500)\" d=\"M426.339 1517.37 Q422.728 1517.37 420.899 1520.93 Q419.093 1524.47 419.093 1531.6 Q419.093 1538.71 420.899 1542.27 Q422.728 1545.82 426.339 1545.82 Q429.973 1545.82 431.778 1542.27 Q433.607 1538.71 433.607 1531.6 Q433.607 1524.47 431.778 1520.93 Q429.973 1517.37 426.339 1517.37 M426.339 1513.66 Q432.149 1513.66 435.204 1518.27 Q438.283 1522.85 438.283 1531.6 Q438.283 1540.33 435.204 1544.94 Q432.149 1549.52 426.339 1549.52 Q420.529 1549.52 417.45 1544.94 Q414.394 1540.33 414.394 1531.6 Q414.394 1522.85 417.45 1518.27 Q420.529 1513.66 426.339 1513.66 Z\" fill=\"#000000\" fill-rule=\"evenodd\" fill-opacity=\"1\" /><path clip-path=\"url(#clip500)\" d=\"M446.501 1542.97 L451.385 1542.97 L451.385 1548.85 L446.501 1548.85 L446.501 1542.97 Z\" fill=\"#000000\" fill-rule=\"evenodd\" fill-opacity=\"1\" /><path clip-path=\"url(#clip500)\" d=\"M462.38 1544.91 L470.019 1544.91 L470.019 1518.55 L461.709 1520.21 L461.709 1515.95 L469.973 1514.29 L474.649 1514.29 L474.649 1544.91 L482.287 1544.91 L482.287 1548.85 L462.38 1548.85 L462.38 1544.91 Z\" fill=\"#000000\" fill-rule=\"evenodd\" fill-opacity=\"1\" /><path clip-path=\"url(#clip500)\" d=\"M495.76 1544.91 L512.079 1544.91 L512.079 1548.85 L490.135 1548.85 L490.135 1544.91 Q492.797 1542.16 497.38 1537.53 Q501.986 1532.88 503.167 1531.53 Q505.412 1529.01 506.292 1527.27 Q507.195 1525.51 507.195 1523.82 Q507.195 1521.07 505.25 1519.33 Q503.329 1517.6 500.227 1517.6 Q498.028 1517.6 495.574 1518.36 Q493.144 1519.13 490.366 1520.68 L490.366 1515.95 Q493.19 1514.82 495.644 1514.24 Q498.098 1513.66 500.135 1513.66 Q505.505 1513.66 508.699 1516.35 Q511.894 1519.03 511.894 1523.52 Q511.894 1525.65 511.084 1527.57 Q510.297 1529.47 508.19 1532.07 Q507.611 1532.74 504.51 1535.95 Q501.408 1539.15 495.76 1544.91 Z\" fill=\"#000000\" fill-rule=\"evenodd\" fill-opacity=\"1\" /><path clip-path=\"url(#clip500)\" d=\"M856.498 1532.02 L886.174 1532.02 L886.174 1535.95 L856.498 1535.95 L856.498 1532.02 Z\" fill=\"#000000\" fill-rule=\"evenodd\" fill-opacity=\"1\" /><path clip-path=\"url(#clip500)\" d=\"M906.267 1517.37 Q902.656 1517.37 900.827 1520.93 Q899.021 1524.47 899.021 1531.6 Q899.021 1538.71 900.827 1542.27 Q902.656 1545.82 906.267 1545.82 Q909.901 1545.82 911.706 1542.27 Q913.535 1538.71 913.535 1531.6 Q913.535 1524.47 911.706 1520.93 Q909.901 1517.37 906.267 1517.37 M906.267 1513.66 Q912.077 1513.66 915.132 1518.27 Q918.211 1522.85 918.211 1531.6 Q918.211 1540.33 915.132 1544.94 Q912.077 1549.52 906.267 1549.52 Q900.456 1549.52 897.378 1544.94 Q894.322 1540.33 894.322 1531.6 Q894.322 1522.85 897.378 1518.27 Q900.456 1513.66 906.267 1513.66 Z\" fill=\"#000000\" fill-rule=\"evenodd\" fill-opacity=\"1\" /><path clip-path=\"url(#clip500)\" d=\"M926.429 1542.97 L931.313 1542.97 L931.313 1548.85 L926.429 1548.85 L926.429 1542.97 Z\" fill=\"#000000\" fill-rule=\"evenodd\" fill-opacity=\"1\" /><path clip-path=\"url(#clip500)\" d=\"M942.308 1544.91 L949.947 1544.91 L949.947 1518.55 L941.637 1520.21 L941.637 1515.95 L949.901 1514.29 L954.577 1514.29 L954.577 1544.91 L962.215 1544.91 L962.215 1548.85 L942.308 1548.85 L942.308 1544.91 Z\" fill=\"#000000\" fill-rule=\"evenodd\" fill-opacity=\"1\" /><path clip-path=\"url(#clip500)\" d=\"M981.66 1517.37 Q978.049 1517.37 976.22 1520.93 Q974.414 1524.47 974.414 1531.6 Q974.414 1538.71 976.22 1542.27 Q978.049 1545.82 981.66 1545.82 Q985.294 1545.82 987.1 1542.27 Q988.928 1538.71 988.928 1531.6 Q988.928 1524.47 987.1 1520.93 Q985.294 1517.37 981.66 1517.37 M981.66 1513.66 Q987.47 1513.66 990.525 1518.27 Q993.604 1522.85 993.604 1531.6 Q993.604 1540.33 990.525 1544.94 Q987.47 1549.52 981.66 1549.52 Q975.85 1549.52 972.771 1544.94 Q969.715 1540.33 969.715 1531.6 Q969.715 1522.85 972.771 1518.27 Q975.85 1513.66 981.66 1513.66 Z\" fill=\"#000000\" fill-rule=\"evenodd\" fill-opacity=\"1\" /><path clip-path=\"url(#clip500)\" d=\"M1337.27 1532.02 L1366.95 1532.02 L1366.95 1535.95 L1337.27 1535.95 L1337.27 1532.02 Z\" fill=\"#000000\" fill-rule=\"evenodd\" fill-opacity=\"1\" /><path clip-path=\"url(#clip500)\" d=\"M1387.04 1517.37 Q1383.43 1517.37 1381.6 1520.93 Q1379.79 1524.47 1379.79 1531.6 Q1379.79 1538.71 1381.6 1542.27 Q1383.43 1545.82 1387.04 1545.82 Q1390.67 1545.82 1392.48 1542.27 Q1394.31 1538.71 1394.31 1531.6 Q1394.31 1524.47 1392.48 1520.93 Q1390.67 1517.37 1387.04 1517.37 M1387.04 1513.66 Q1392.85 1513.66 1395.91 1518.27 Q1398.98 1522.85 1398.98 1531.6 Q1398.98 1540.33 1395.91 1544.94 Q1392.85 1549.52 1387.04 1549.52 Q1381.23 1549.52 1378.15 1544.94 Q1375.1 1540.33 1375.1 1531.6 Q1375.1 1522.85 1378.15 1518.27 Q1381.23 1513.66 1387.04 1513.66 Z\" fill=\"#000000\" fill-rule=\"evenodd\" fill-opacity=\"1\" /><path clip-path=\"url(#clip500)\" d=\"M1407.2 1542.97 L1412.09 1542.97 L1412.09 1548.85 L1407.2 1548.85 L1407.2 1542.97 Z\" fill=\"#000000\" fill-rule=\"evenodd\" fill-opacity=\"1\" /><path clip-path=\"url(#clip500)\" d=\"M1432.27 1517.37 Q1428.66 1517.37 1426.83 1520.93 Q1425.03 1524.47 1425.03 1531.6 Q1425.03 1538.71 1426.83 1542.27 Q1428.66 1545.82 1432.27 1545.82 Q1435.9 1545.82 1437.71 1542.27 Q1439.54 1538.71 1439.54 1531.6 Q1439.54 1524.47 1437.71 1520.93 Q1435.9 1517.37 1432.27 1517.37 M1432.27 1513.66 Q1438.08 1513.66 1441.14 1518.27 Q1444.22 1522.85 1444.22 1531.6 Q1444.22 1540.33 1441.14 1544.94 Q1438.08 1549.52 1432.27 1549.52 Q1426.46 1549.52 1423.38 1544.94 Q1420.33 1540.33 1420.33 1531.6 Q1420.33 1522.85 1423.38 1518.27 Q1426.46 1513.66 1432.27 1513.66 Z\" fill=\"#000000\" fill-rule=\"evenodd\" fill-opacity=\"1\" /><path clip-path=\"url(#clip500)\" d=\"M1462.43 1532.44 Q1459.1 1532.44 1457.18 1534.22 Q1455.28 1536 1455.28 1539.13 Q1455.28 1542.25 1457.18 1544.03 Q1459.1 1545.82 1462.43 1545.82 Q1465.77 1545.82 1467.69 1544.03 Q1469.61 1542.23 1469.61 1539.13 Q1469.61 1536 1467.69 1534.22 Q1465.79 1532.44 1462.43 1532.44 M1457.76 1530.45 Q1454.75 1529.7 1453.06 1527.64 Q1451.39 1525.58 1451.39 1522.62 Q1451.39 1518.48 1454.33 1516.07 Q1457.29 1513.66 1462.43 1513.66 Q1467.59 1513.66 1470.53 1516.07 Q1473.47 1518.48 1473.47 1522.62 Q1473.47 1525.58 1471.78 1527.64 Q1470.12 1529.7 1467.13 1530.45 Q1470.51 1531.23 1472.39 1533.52 Q1474.28 1535.82 1474.28 1539.13 Q1474.28 1544.15 1471.21 1546.83 Q1468.15 1549.52 1462.43 1549.52 Q1456.71 1549.52 1453.64 1546.83 Q1450.58 1544.15 1450.58 1539.13 Q1450.58 1535.82 1452.48 1533.52 Q1454.38 1531.23 1457.76 1530.45 M1456.04 1523.06 Q1456.04 1525.75 1457.71 1527.25 Q1459.4 1528.76 1462.43 1528.76 Q1465.44 1528.76 1467.13 1527.25 Q1468.84 1525.75 1468.84 1523.06 Q1468.84 1520.38 1467.13 1518.87 Q1465.44 1517.37 1462.43 1517.37 Q1459.4 1517.37 1457.71 1518.87 Q1456.04 1520.38 1456.04 1523.06 Z\" fill=\"#000000\" fill-rule=\"evenodd\" fill-opacity=\"1\" /><path clip-path=\"url(#clip500)\" d=\"M1817.87 1532.02 L1847.55 1532.02 L1847.55 1535.95 L1817.87 1535.95 L1817.87 1532.02 Z\" fill=\"#000000\" fill-rule=\"evenodd\" fill-opacity=\"1\" /><path clip-path=\"url(#clip500)\" d=\"M1867.64 1517.37 Q1864.03 1517.37 1862.2 1520.93 Q1860.39 1524.47 1860.39 1531.6 Q1860.39 1538.71 1862.2 1542.27 Q1864.03 1545.82 1867.64 1545.82 Q1871.27 1545.82 1873.08 1542.27 Q1874.91 1538.71 1874.91 1531.6 Q1874.91 1524.47 1873.08 1520.93 Q1871.27 1517.37 1867.64 1517.37 M1867.64 1513.66 Q1873.45 1513.66 1876.5 1518.27 Q1879.58 1522.85 1879.58 1531.6 Q1879.58 1540.33 1876.5 1544.94 Q1873.45 1549.52 1867.64 1549.52 Q1861.83 1549.52 1858.75 1544.94 Q1855.69 1540.33 1855.69 1531.6 Q1855.69 1522.85 1858.75 1518.27 Q1861.83 1513.66 1867.64 1513.66 Z\" fill=\"#000000\" fill-rule=\"evenodd\" fill-opacity=\"1\" /><path clip-path=\"url(#clip500)\" d=\"M1887.8 1542.97 L1892.68 1542.97 L1892.68 1548.85 L1887.8 1548.85 L1887.8 1542.97 Z\" fill=\"#000000\" fill-rule=\"evenodd\" fill-opacity=\"1\" /><path clip-path=\"url(#clip500)\" d=\"M1912.87 1517.37 Q1909.26 1517.37 1907.43 1520.93 Q1905.62 1524.47 1905.62 1531.6 Q1905.62 1538.71 1907.43 1542.27 Q1909.26 1545.82 1912.87 1545.82 Q1916.5 1545.82 1918.31 1542.27 Q1920.14 1538.71 1920.14 1531.6 Q1920.14 1524.47 1918.31 1520.93 Q1916.5 1517.37 1912.87 1517.37 M1912.87 1513.66 Q1918.68 1513.66 1921.74 1518.27 Q1924.81 1522.85 1924.81 1531.6 Q1924.81 1540.33 1921.74 1544.94 Q1918.68 1549.52 1912.87 1549.52 Q1907.06 1549.52 1903.98 1544.94 Q1900.93 1540.33 1900.93 1531.6 Q1900.93 1522.85 1903.98 1518.27 Q1907.06 1513.66 1912.87 1513.66 Z\" fill=\"#000000\" fill-rule=\"evenodd\" fill-opacity=\"1\" /><path clip-path=\"url(#clip500)\" d=\"M1943.61 1529.7 Q1940.46 1529.7 1938.61 1531.86 Q1936.78 1534.01 1936.78 1537.76 Q1936.78 1541.49 1938.61 1543.66 Q1940.46 1545.82 1943.61 1545.82 Q1946.76 1545.82 1948.59 1543.66 Q1950.44 1541.49 1950.44 1537.76 Q1950.44 1534.01 1948.59 1531.86 Q1946.76 1529.7 1943.61 1529.7 M1952.89 1515.05 L1952.89 1519.31 Q1951.13 1518.48 1949.33 1518.04 Q1947.55 1517.6 1945.79 1517.6 Q1941.16 1517.6 1938.7 1520.72 Q1936.27 1523.85 1935.93 1530.17 Q1937.29 1528.15 1939.35 1527.09 Q1941.41 1526 1943.89 1526 Q1949.1 1526 1952.11 1529.17 Q1955.14 1532.32 1955.14 1537.76 Q1955.14 1543.08 1951.99 1546.3 Q1948.84 1549.52 1943.61 1549.52 Q1937.62 1549.52 1934.44 1544.94 Q1931.27 1540.33 1931.27 1531.6 Q1931.27 1523.41 1935.16 1518.55 Q1939.05 1513.66 1945.6 1513.66 Q1947.36 1513.66 1949.14 1514.01 Q1950.95 1514.36 1952.89 1515.05 Z\" fill=\"#000000\" fill-rule=\"evenodd\" fill-opacity=\"1\" /><polyline clip-path=\"url(#clip502)\" style=\"stroke:#000000; stroke-linecap:round; stroke-linejoin:round; stroke-width:2; stroke-opacity:0.1; fill:none\" points=\"\n  224.098,1349.02 2352.76,1349.02 \n  \"/>\n<polyline clip-path=\"url(#clip502)\" style=\"stroke:#000000; stroke-linecap:round; stroke-linejoin:round; stroke-width:2; stroke-opacity:0.1; fill:none\" points=\"\n  224.098,1135.52 2352.76,1135.52 \n  \"/>\n<polyline clip-path=\"url(#clip502)\" style=\"stroke:#000000; stroke-linecap:round; stroke-linejoin:round; stroke-width:2; stroke-opacity:0.1; fill:none\" points=\"\n  224.098,922.016 2352.76,922.016 \n  \"/>\n<polyline clip-path=\"url(#clip502)\" style=\"stroke:#000000; stroke-linecap:round; stroke-linejoin:round; stroke-width:2; stroke-opacity:0.1; fill:none\" points=\"\n  224.098,708.512 2352.76,708.512 \n  \"/>\n<polyline clip-path=\"url(#clip502)\" style=\"stroke:#000000; stroke-linecap:round; stroke-linejoin:round; stroke-width:2; stroke-opacity:0.1; fill:none\" points=\"\n  224.098,495.008 2352.76,495.008 \n  \"/>\n<polyline clip-path=\"url(#clip502)\" style=\"stroke:#000000; stroke-linecap:round; stroke-linejoin:round; stroke-width:2; stroke-opacity:0.1; fill:none\" points=\"\n  224.098,281.504 2352.76,281.504 \n  \"/>\n<polyline clip-path=\"url(#clip502)\" style=\"stroke:#000000; stroke-linecap:round; stroke-linejoin:round; stroke-width:2; stroke-opacity:0.1; fill:none\" points=\"\n  224.098,67.9996 2352.76,67.9996 \n  \"/>\n<polyline clip-path=\"url(#clip500)\" style=\"stroke:#000000; stroke-linecap:round; stroke-linejoin:round; stroke-width:4; stroke-opacity:1; fill:none\" points=\"\n  224.098,1486.45 224.098,47.2441 \n  \"/>\n<polyline clip-path=\"url(#clip500)\" style=\"stroke:#000000; stroke-linecap:round; stroke-linejoin:round; stroke-width:4; stroke-opacity:1; fill:none\" points=\"\n  224.098,1349.02 242.996,1349.02 \n  \"/>\n<polyline clip-path=\"url(#clip500)\" style=\"stroke:#000000; stroke-linecap:round; stroke-linejoin:round; stroke-width:4; stroke-opacity:1; fill:none\" points=\"\n  224.098,1135.52 242.996,1135.52 \n  \"/>\n<polyline clip-path=\"url(#clip500)\" style=\"stroke:#000000; stroke-linecap:round; stroke-linejoin:round; stroke-width:4; stroke-opacity:1; fill:none\" points=\"\n  224.098,922.016 242.996,922.016 \n  \"/>\n<polyline clip-path=\"url(#clip500)\" style=\"stroke:#000000; stroke-linecap:round; stroke-linejoin:round; stroke-width:4; stroke-opacity:1; fill:none\" points=\"\n  224.098,708.512 242.996,708.512 \n  \"/>\n<polyline clip-path=\"url(#clip500)\" style=\"stroke:#000000; stroke-linecap:round; stroke-linejoin:round; stroke-width:4; stroke-opacity:1; fill:none\" points=\"\n  224.098,495.008 242.996,495.008 \n  \"/>\n<polyline clip-path=\"url(#clip500)\" style=\"stroke:#000000; stroke-linecap:round; stroke-linejoin:round; stroke-width:4; stroke-opacity:1; fill:none\" points=\"\n  224.098,281.504 242.996,281.504 \n  \"/>\n<polyline clip-path=\"url(#clip500)\" style=\"stroke:#000000; stroke-linecap:round; stroke-linejoin:round; stroke-width:4; stroke-opacity:1; fill:none\" points=\"\n  224.098,67.9996 242.996,67.9996 \n  \"/>\n<path clip-path=\"url(#clip500)\" d=\"M51.9875 1349.47 L81.6633 1349.47 L81.6633 1353.41 L51.9875 1353.41 L51.9875 1349.47 Z\" fill=\"#000000\" fill-rule=\"evenodd\" fill-opacity=\"1\" /><path clip-path=\"url(#clip500)\" d=\"M101.756 1334.82 Q98.1447 1334.82 96.316 1338.39 Q94.5104 1341.93 94.5104 1349.06 Q94.5104 1356.16 96.316 1359.73 Q98.1447 1363.27 101.756 1363.27 Q105.39 1363.27 107.196 1359.73 Q109.024 1356.16 109.024 1349.06 Q109.024 1341.93 107.196 1338.39 Q105.39 1334.82 101.756 1334.82 M101.756 1331.12 Q107.566 1331.12 110.621 1335.73 Q113.7 1340.31 113.7 1349.06 Q113.7 1357.79 110.621 1362.39 Q107.566 1366.97 101.756 1366.97 Q95.9456 1366.97 92.8669 1362.39 Q89.8114 1357.79 89.8114 1349.06 Q89.8114 1340.31 92.8669 1335.73 Q95.9456 1331.12 101.756 1331.12 Z\" fill=\"#000000\" fill-rule=\"evenodd\" fill-opacity=\"1\" /><path clip-path=\"url(#clip500)\" d=\"M121.918 1360.42 L126.802 1360.42 L126.802 1366.3 L121.918 1366.3 L121.918 1360.42 Z\" fill=\"#000000\" fill-rule=\"evenodd\" fill-opacity=\"1\" /><path clip-path=\"url(#clip500)\" d=\"M137.797 1362.37 L145.436 1362.37 L145.436 1336 L137.126 1337.67 L137.126 1333.41 L145.39 1331.74 L150.066 1331.74 L150.066 1362.37 L157.705 1362.37 L157.705 1366.3 L137.797 1366.3 L137.797 1362.37 Z\" fill=\"#000000\" fill-rule=\"evenodd\" fill-opacity=\"1\" /><path clip-path=\"url(#clip500)\" d=\"M167.195 1331.74 L185.552 1331.74 L185.552 1335.68 L171.478 1335.68 L171.478 1344.15 Q172.496 1343.8 173.515 1343.64 Q174.533 1343.46 175.552 1343.46 Q181.339 1343.46 184.718 1346.63 Q188.098 1349.8 188.098 1355.22 Q188.098 1360.79 184.626 1363.9 Q181.153 1366.97 174.834 1366.97 Q172.658 1366.97 170.39 1366.6 Q168.144 1366.23 165.737 1365.49 L165.737 1360.79 Q167.82 1361.93 170.042 1362.48 Q172.265 1363.04 174.741 1363.04 Q178.746 1363.04 181.084 1360.93 Q183.422 1358.83 183.422 1355.22 Q183.422 1351.6 181.084 1349.5 Q178.746 1347.39 174.741 1347.39 Q172.866 1347.39 170.991 1347.81 Q169.14 1348.22 167.195 1349.1 L167.195 1331.74 Z\" fill=\"#000000\" fill-rule=\"evenodd\" fill-opacity=\"1\" /><path clip-path=\"url(#clip500)\" d=\"M50.9921 1135.97 L80.6679 1135.97 L80.6679 1139.91 L50.9921 1139.91 L50.9921 1135.97 Z\" fill=\"#000000\" fill-rule=\"evenodd\" fill-opacity=\"1\" /><path clip-path=\"url(#clip500)\" d=\"M100.76 1121.32 Q97.1493 1121.32 95.3206 1124.88 Q93.515 1128.42 93.515 1135.55 Q93.515 1142.66 95.3206 1146.23 Q97.1493 1149.77 100.76 1149.77 Q104.395 1149.77 106.2 1146.23 Q108.029 1142.66 108.029 1135.55 Q108.029 1128.42 106.2 1124.88 Q104.395 1121.32 100.76 1121.32 M100.76 1117.61 Q106.571 1117.61 109.626 1122.22 Q112.705 1126.8 112.705 1135.55 Q112.705 1144.28 109.626 1148.89 Q106.571 1153.47 100.76 1153.47 Q94.9502 1153.47 91.8715 1148.89 Q88.816 1144.28 88.816 1135.55 Q88.816 1126.8 91.8715 1122.22 Q94.9502 1117.61 100.76 1117.61 Z\" fill=\"#000000\" fill-rule=\"evenodd\" fill-opacity=\"1\" /><path clip-path=\"url(#clip500)\" d=\"M120.922 1146.92 L125.807 1146.92 L125.807 1152.8 L120.922 1152.8 L120.922 1146.92 Z\" fill=\"#000000\" fill-rule=\"evenodd\" fill-opacity=\"1\" /><path clip-path=\"url(#clip500)\" d=\"M136.802 1148.86 L144.441 1148.86 L144.441 1122.5 L136.131 1124.17 L136.131 1119.91 L144.394 1118.24 L149.07 1118.24 L149.07 1148.86 L156.709 1148.86 L156.709 1152.8 L136.802 1152.8 L136.802 1148.86 Z\" fill=\"#000000\" fill-rule=\"evenodd\" fill-opacity=\"1\" /><path clip-path=\"url(#clip500)\" d=\"M176.153 1121.32 Q172.542 1121.32 170.714 1124.88 Q168.908 1128.42 168.908 1135.55 Q168.908 1142.66 170.714 1146.23 Q172.542 1149.77 176.153 1149.77 Q179.788 1149.77 181.593 1146.23 Q183.422 1142.66 183.422 1135.55 Q183.422 1128.42 181.593 1124.88 Q179.788 1121.32 176.153 1121.32 M176.153 1117.61 Q181.964 1117.61 185.019 1122.22 Q188.098 1126.8 188.098 1135.55 Q188.098 1144.28 185.019 1148.89 Q181.964 1153.47 176.153 1153.47 Q170.343 1153.47 167.265 1148.89 Q164.209 1144.28 164.209 1135.55 Q164.209 1126.8 167.265 1122.22 Q170.343 1117.61 176.153 1117.61 Z\" fill=\"#000000\" fill-rule=\"evenodd\" fill-opacity=\"1\" /><path clip-path=\"url(#clip500)\" d=\"M51.9875 922.467 L81.6633 922.467 L81.6633 926.402 L51.9875 926.402 L51.9875 922.467 Z\" fill=\"#000000\" fill-rule=\"evenodd\" fill-opacity=\"1\" /><path clip-path=\"url(#clip500)\" d=\"M101.756 907.814 Q98.1447 907.814 96.316 911.379 Q94.5104 914.921 94.5104 922.05 Q94.5104 929.157 96.316 932.722 Q98.1447 936.263 101.756 936.263 Q105.39 936.263 107.196 932.722 Q109.024 929.157 109.024 922.05 Q109.024 914.921 107.196 911.379 Q105.39 907.814 101.756 907.814 M101.756 904.111 Q107.566 904.111 110.621 908.717 Q113.7 913.3 113.7 922.05 Q113.7 930.777 110.621 935.384 Q107.566 939.967 101.756 939.967 Q95.9456 939.967 92.8669 935.384 Q89.8114 930.777 89.8114 922.05 Q89.8114 913.3 92.8669 908.717 Q95.9456 904.111 101.756 904.111 Z\" fill=\"#000000\" fill-rule=\"evenodd\" fill-opacity=\"1\" /><path clip-path=\"url(#clip500)\" d=\"M121.918 933.416 L126.802 933.416 L126.802 939.296 L121.918 939.296 L121.918 933.416 Z\" fill=\"#000000\" fill-rule=\"evenodd\" fill-opacity=\"1\" /><path clip-path=\"url(#clip500)\" d=\"M146.987 907.814 Q143.376 907.814 141.547 911.379 Q139.742 914.921 139.742 922.05 Q139.742 929.157 141.547 932.722 Q143.376 936.263 146.987 936.263 Q150.621 936.263 152.427 932.722 Q154.255 929.157 154.255 922.05 Q154.255 914.921 152.427 911.379 Q150.621 907.814 146.987 907.814 M146.987 904.111 Q152.797 904.111 155.853 908.717 Q158.931 913.3 158.931 922.05 Q158.931 930.777 155.853 935.384 Q152.797 939.967 146.987 939.967 Q141.177 939.967 138.098 935.384 Q135.043 930.777 135.043 922.05 Q135.043 913.3 138.098 908.717 Q141.177 904.111 146.987 904.111 Z\" fill=\"#000000\" fill-rule=\"evenodd\" fill-opacity=\"1\" /><path clip-path=\"url(#clip500)\" d=\"M167.195 904.736 L185.552 904.736 L185.552 908.671 L171.478 908.671 L171.478 917.143 Q172.496 916.796 173.515 916.634 Q174.533 916.448 175.552 916.448 Q181.339 916.448 184.718 919.62 Q188.098 922.791 188.098 928.208 Q188.098 933.786 184.626 936.888 Q181.153 939.967 174.834 939.967 Q172.658 939.967 170.39 939.597 Q168.144 939.226 165.737 938.485 L165.737 933.786 Q167.82 934.921 170.042 935.476 Q172.265 936.032 174.741 936.032 Q178.746 936.032 181.084 933.925 Q183.422 931.819 183.422 928.208 Q183.422 924.597 181.084 922.49 Q178.746 920.384 174.741 920.384 Q172.866 920.384 170.991 920.8 Q169.14 921.217 167.195 922.097 L167.195 904.736 Z\" fill=\"#000000\" fill-rule=\"evenodd\" fill-opacity=\"1\" /><path clip-path=\"url(#clip500)\" d=\"M100.76 694.31 Q97.1493 694.31 95.3206 697.875 Q93.515 701.417 93.515 708.546 Q93.515 715.653 95.3206 719.218 Q97.1493 722.759 100.76 722.759 Q104.395 722.759 106.2 719.218 Q108.029 715.653 108.029 708.546 Q108.029 701.417 106.2 697.875 Q104.395 694.31 100.76 694.31 M100.76 690.607 Q106.571 690.607 109.626 695.213 Q112.705 699.796 112.705 708.546 Q112.705 717.273 109.626 721.88 Q106.571 726.463 100.76 726.463 Q94.9502 726.463 91.8715 721.88 Q88.816 717.273 88.816 708.546 Q88.816 699.796 91.8715 695.213 Q94.9502 690.607 100.76 690.607 Z\" fill=\"#000000\" fill-rule=\"evenodd\" fill-opacity=\"1\" /><path clip-path=\"url(#clip500)\" d=\"M120.922 719.912 L125.807 719.912 L125.807 725.792 L120.922 725.792 L120.922 719.912 Z\" fill=\"#000000\" fill-rule=\"evenodd\" fill-opacity=\"1\" /><path clip-path=\"url(#clip500)\" d=\"M145.992 694.31 Q142.381 694.31 140.552 697.875 Q138.746 701.417 138.746 708.546 Q138.746 715.653 140.552 719.218 Q142.381 722.759 145.992 722.759 Q149.626 722.759 151.431 719.218 Q153.26 715.653 153.26 708.546 Q153.26 701.417 151.431 697.875 Q149.626 694.31 145.992 694.31 M145.992 690.607 Q151.802 690.607 154.857 695.213 Q157.936 699.796 157.936 708.546 Q157.936 717.273 154.857 721.88 Q151.802 726.463 145.992 726.463 Q140.181 726.463 137.103 721.88 Q134.047 717.273 134.047 708.546 Q134.047 699.796 137.103 695.213 Q140.181 690.607 145.992 690.607 Z\" fill=\"#000000\" fill-rule=\"evenodd\" fill-opacity=\"1\" /><path clip-path=\"url(#clip500)\" d=\"M176.153 694.31 Q172.542 694.31 170.714 697.875 Q168.908 701.417 168.908 708.546 Q168.908 715.653 170.714 719.218 Q172.542 722.759 176.153 722.759 Q179.788 722.759 181.593 719.218 Q183.422 715.653 183.422 708.546 Q183.422 701.417 181.593 697.875 Q179.788 694.31 176.153 694.31 M176.153 690.607 Q181.964 690.607 185.019 695.213 Q188.098 699.796 188.098 708.546 Q188.098 717.273 185.019 721.88 Q181.964 726.463 176.153 726.463 Q170.343 726.463 167.265 721.88 Q164.209 717.273 164.209 708.546 Q164.209 699.796 167.265 695.213 Q170.343 690.607 176.153 690.607 Z\" fill=\"#000000\" fill-rule=\"evenodd\" fill-opacity=\"1\" /><path clip-path=\"url(#clip500)\" d=\"M101.756 480.806 Q98.1447 480.806 96.316 484.371 Q94.5104 487.913 94.5104 495.042 Q94.5104 502.149 96.316 505.714 Q98.1447 509.255 101.756 509.255 Q105.39 509.255 107.196 505.714 Q109.024 502.149 109.024 495.042 Q109.024 487.913 107.196 484.371 Q105.39 480.806 101.756 480.806 M101.756 477.103 Q107.566 477.103 110.621 481.709 Q113.7 486.292 113.7 495.042 Q113.7 503.769 110.621 508.376 Q107.566 512.959 101.756 512.959 Q95.9456 512.959 92.8669 508.376 Q89.8114 503.769 89.8114 495.042 Q89.8114 486.292 92.8669 481.709 Q95.9456 477.103 101.756 477.103 Z\" fill=\"#000000\" fill-rule=\"evenodd\" fill-opacity=\"1\" /><path clip-path=\"url(#clip500)\" d=\"M121.918 506.408 L126.802 506.408 L126.802 512.288 L121.918 512.288 L121.918 506.408 Z\" fill=\"#000000\" fill-rule=\"evenodd\" fill-opacity=\"1\" /><path clip-path=\"url(#clip500)\" d=\"M146.987 480.806 Q143.376 480.806 141.547 484.371 Q139.742 487.913 139.742 495.042 Q139.742 502.149 141.547 505.714 Q143.376 509.255 146.987 509.255 Q150.621 509.255 152.427 505.714 Q154.255 502.149 154.255 495.042 Q154.255 487.913 152.427 484.371 Q150.621 480.806 146.987 480.806 M146.987 477.103 Q152.797 477.103 155.853 481.709 Q158.931 486.292 158.931 495.042 Q158.931 503.769 155.853 508.376 Q152.797 512.959 146.987 512.959 Q141.177 512.959 138.098 508.376 Q135.043 503.769 135.043 495.042 Q135.043 486.292 138.098 481.709 Q141.177 477.103 146.987 477.103 Z\" fill=\"#000000\" fill-rule=\"evenodd\" fill-opacity=\"1\" /><path clip-path=\"url(#clip500)\" d=\"M167.195 477.728 L185.552 477.728 L185.552 481.663 L171.478 481.663 L171.478 490.135 Q172.496 489.788 173.515 489.626 Q174.533 489.441 175.552 489.441 Q181.339 489.441 184.718 492.612 Q188.098 495.783 188.098 501.2 Q188.098 506.778 184.626 509.88 Q181.153 512.959 174.834 512.959 Q172.658 512.959 170.39 512.589 Q168.144 512.218 165.737 511.477 L165.737 506.778 Q167.82 507.913 170.042 508.468 Q172.265 509.024 174.741 509.024 Q178.746 509.024 181.084 506.917 Q183.422 504.811 183.422 501.2 Q183.422 497.589 181.084 495.482 Q178.746 493.376 174.741 493.376 Q172.866 493.376 170.991 493.792 Q169.14 494.209 167.195 495.089 L167.195 477.728 Z\" fill=\"#000000\" fill-rule=\"evenodd\" fill-opacity=\"1\" /><path clip-path=\"url(#clip500)\" d=\"M100.76 267.302 Q97.1493 267.302 95.3206 270.867 Q93.515 274.409 93.515 281.538 Q93.515 288.645 95.3206 292.21 Q97.1493 295.751 100.76 295.751 Q104.395 295.751 106.2 292.21 Q108.029 288.645 108.029 281.538 Q108.029 274.409 106.2 270.867 Q104.395 267.302 100.76 267.302 M100.76 263.599 Q106.571 263.599 109.626 268.205 Q112.705 272.788 112.705 281.538 Q112.705 290.265 109.626 294.872 Q106.571 299.455 100.76 299.455 Q94.9502 299.455 91.8715 294.872 Q88.816 290.265 88.816 281.538 Q88.816 272.788 91.8715 268.205 Q94.9502 263.599 100.76 263.599 Z\" fill=\"#000000\" fill-rule=\"evenodd\" fill-opacity=\"1\" /><path clip-path=\"url(#clip500)\" d=\"M120.922 292.904 L125.807 292.904 L125.807 298.784 L120.922 298.784 L120.922 292.904 Z\" fill=\"#000000\" fill-rule=\"evenodd\" fill-opacity=\"1\" /><path clip-path=\"url(#clip500)\" d=\"M136.802 294.848 L144.441 294.848 L144.441 268.483 L136.131 270.15 L136.131 265.89 L144.394 264.224 L149.07 264.224 L149.07 294.848 L156.709 294.848 L156.709 298.784 L136.802 298.784 L136.802 294.848 Z\" fill=\"#000000\" fill-rule=\"evenodd\" fill-opacity=\"1\" /><path clip-path=\"url(#clip500)\" d=\"M176.153 267.302 Q172.542 267.302 170.714 270.867 Q168.908 274.409 168.908 281.538 Q168.908 288.645 170.714 292.21 Q172.542 295.751 176.153 295.751 Q179.788 295.751 181.593 292.21 Q183.422 288.645 183.422 281.538 Q183.422 274.409 181.593 270.867 Q179.788 267.302 176.153 267.302 M176.153 263.599 Q181.964 263.599 185.019 268.205 Q188.098 272.788 188.098 281.538 Q188.098 290.265 185.019 294.872 Q181.964 299.455 176.153 299.455 Q170.343 299.455 167.265 294.872 Q164.209 290.265 164.209 281.538 Q164.209 272.788 167.265 268.205 Q170.343 263.599 176.153 263.599 Z\" fill=\"#000000\" fill-rule=\"evenodd\" fill-opacity=\"1\" /><path clip-path=\"url(#clip500)\" d=\"M101.756 53.7983 Q98.1447 53.7983 96.316 57.3631 Q94.5104 60.9048 94.5104 68.0344 Q94.5104 75.1408 96.316 78.7056 Q98.1447 82.2473 101.756 82.2473 Q105.39 82.2473 107.196 78.7056 Q109.024 75.1408 109.024 68.0344 Q109.024 60.9048 107.196 57.3631 Q105.39 53.7983 101.756 53.7983 M101.756 50.0946 Q107.566 50.0946 110.621 54.7011 Q113.7 59.2844 113.7 68.0344 Q113.7 76.7612 110.621 81.3676 Q107.566 85.9509 101.756 85.9509 Q95.9456 85.9509 92.8669 81.3676 Q89.8114 76.7612 89.8114 68.0344 Q89.8114 59.2844 92.8669 54.7011 Q95.9456 50.0946 101.756 50.0946 Z\" fill=\"#000000\" fill-rule=\"evenodd\" fill-opacity=\"1\" /><path clip-path=\"url(#clip500)\" d=\"M121.918 79.4 L126.802 79.4 L126.802 85.2796 L121.918 85.2796 L121.918 79.4 Z\" fill=\"#000000\" fill-rule=\"evenodd\" fill-opacity=\"1\" /><path clip-path=\"url(#clip500)\" d=\"M137.797 81.3445 L145.436 81.3445 L145.436 54.9789 L137.126 56.6455 L137.126 52.3863 L145.39 50.7196 L150.066 50.7196 L150.066 81.3445 L157.705 81.3445 L157.705 85.2796 L137.797 85.2796 L137.797 81.3445 Z\" fill=\"#000000\" fill-rule=\"evenodd\" fill-opacity=\"1\" /><path clip-path=\"url(#clip500)\" d=\"M167.195 50.7196 L185.552 50.7196 L185.552 54.6548 L171.478 54.6548 L171.478 63.127 Q172.496 62.7798 173.515 62.6177 Q174.533 62.4325 175.552 62.4325 Q181.339 62.4325 184.718 65.6038 Q188.098 68.7751 188.098 74.1917 Q188.098 79.7704 184.626 82.8722 Q181.153 85.9509 174.834 85.9509 Q172.658 85.9509 170.39 85.5806 Q168.144 85.2102 165.737 84.4695 L165.737 79.7704 Q167.82 80.9047 170.042 81.4602 Q172.265 82.0158 174.741 82.0158 Q178.746 82.0158 181.084 79.9093 Q183.422 77.8028 183.422 74.1917 Q183.422 70.5806 181.084 68.4742 Q178.746 66.3677 174.741 66.3677 Q172.866 66.3677 170.991 66.7844 Q169.14 67.201 167.195 68.0807 L167.195 50.7196 Z\" fill=\"#000000\" fill-rule=\"evenodd\" fill-opacity=\"1\" /><circle clip-path=\"url(#clip502)\" cx=\"597.269\" cy=\"252.865\" r=\"14.4\" fill=\"#008000\" fill-rule=\"evenodd\" fill-opacity=\"1\" stroke=\"#000000\" stroke-opacity=\"1\" stroke-width=\"3.2\"/>\n<circle clip-path=\"url(#clip502)\" cx=\"353.54\" cy=\"87.9763\" r=\"14.4\" fill=\"#008000\" fill-rule=\"evenodd\" fill-opacity=\"1\" stroke=\"#000000\" stroke-opacity=\"1\" stroke-width=\"3.2\"/>\n<circle clip-path=\"url(#clip502)\" cx=\"597.269\" cy=\"252.865\" r=\"14.4\" fill=\"#008000\" fill-rule=\"evenodd\" fill-opacity=\"1\" stroke=\"#000000\" stroke-opacity=\"1\" stroke-width=\"3.2\"/>\n<circle clip-path=\"url(#clip502)\" cx=\"473.291\" cy=\"311.862\" r=\"14.4\" fill=\"#008000\" fill-rule=\"evenodd\" fill-opacity=\"1\" stroke=\"#000000\" stroke-opacity=\"1\" stroke-width=\"3.2\"/>\n<circle clip-path=\"url(#clip502)\" cx=\"353.54\" cy=\"87.9763\" r=\"14.4\" fill=\"#008000\" fill-rule=\"evenodd\" fill-opacity=\"1\" stroke=\"#000000\" stroke-opacity=\"1\" stroke-width=\"3.2\"/>\n<circle clip-path=\"url(#clip502)\" cx=\"769.159\" cy=\"217.972\" r=\"14.4\" fill=\"#008000\" fill-rule=\"evenodd\" fill-opacity=\"1\" stroke=\"#000000\" stroke-opacity=\"1\" stroke-width=\"3.2\"/>\n<circle clip-path=\"url(#clip502)\" cx=\"1312.42\" cy=\"271.774\" r=\"14.4\" fill=\"#008000\" fill-rule=\"evenodd\" fill-opacity=\"1\" stroke=\"#000000\" stroke-opacity=\"1\" stroke-width=\"3.2\"/>\n<circle clip-path=\"url(#clip502)\" cx=\"505.446\" cy=\"294.962\" r=\"14.4\" fill=\"#008000\" fill-rule=\"evenodd\" fill-opacity=\"1\" stroke=\"#000000\" stroke-opacity=\"1\" stroke-width=\"3.2\"/>\n<circle clip-path=\"url(#clip502)\" cx=\"353.54\" cy=\"87.9763\" r=\"14.4\" fill=\"#008000\" fill-rule=\"evenodd\" fill-opacity=\"1\" stroke=\"#000000\" stroke-opacity=\"1\" stroke-width=\"3.2\"/>\n<circle clip-path=\"url(#clip502)\" cx=\"529.586\" cy=\"669.294\" r=\"14.4\" fill=\"#008000\" fill-rule=\"evenodd\" fill-opacity=\"1\" stroke=\"#000000\" stroke-opacity=\"1\" stroke-width=\"3.2\"/>\n<circle clip-path=\"url(#clip502)\" cx=\"353.54\" cy=\"87.9763\" r=\"14.4\" fill=\"#008000\" fill-rule=\"evenodd\" fill-opacity=\"1\" stroke=\"#000000\" stroke-opacity=\"1\" stroke-width=\"3.2\"/>\n<circle clip-path=\"url(#clip502)\" cx=\"697.813\" cy=\"321.15\" r=\"14.4\" fill=\"#008000\" fill-rule=\"evenodd\" fill-opacity=\"1\" stroke=\"#000000\" stroke-opacity=\"1\" stroke-width=\"3.2\"/>\n<circle clip-path=\"url(#clip502)\" cx=\"353.54\" cy=\"87.9763\" r=\"14.4\" fill=\"#008000\" fill-rule=\"evenodd\" fill-opacity=\"1\" stroke=\"#000000\" stroke-opacity=\"1\" stroke-width=\"3.2\"/>\n<circle clip-path=\"url(#clip502)\" cx=\"941.987\" cy=\"318.823\" r=\"14.4\" fill=\"#008000\" fill-rule=\"evenodd\" fill-opacity=\"1\" stroke=\"#000000\" stroke-opacity=\"1\" stroke-width=\"3.2\"/>\n<circle clip-path=\"url(#clip502)\" cx=\"784.845\" cy=\"225.537\" r=\"14.4\" fill=\"#008000\" fill-rule=\"evenodd\" fill-opacity=\"1\" stroke=\"#000000\" stroke-opacity=\"1\" stroke-width=\"3.2\"/>\n<circle clip-path=\"url(#clip502)\" cx=\"1028.95\" cy=\"199.686\" r=\"14.4\" fill=\"#008000\" fill-rule=\"evenodd\" fill-opacity=\"1\" stroke=\"#000000\" stroke-opacity=\"1\" stroke-width=\"3.2\"/>\n<circle clip-path=\"url(#clip502)\" cx=\"719.734\" cy=\"236.295\" r=\"14.4\" fill=\"#008000\" fill-rule=\"evenodd\" fill-opacity=\"1\" stroke=\"#000000\" stroke-opacity=\"1\" stroke-width=\"3.2\"/>\n<circle clip-path=\"url(#clip502)\" cx=\"829.283\" cy=\"268.51\" r=\"14.4\" fill=\"#008000\" fill-rule=\"evenodd\" fill-opacity=\"1\" stroke=\"#000000\" stroke-opacity=\"1\" stroke-width=\"3.2\"/>\n<circle clip-path=\"url(#clip502)\" cx=\"520.481\" cy=\"293.444\" r=\"14.4\" fill=\"#008000\" fill-rule=\"evenodd\" fill-opacity=\"1\" stroke=\"#000000\" stroke-opacity=\"1\" stroke-width=\"3.2\"/>\n<circle clip-path=\"url(#clip502)\" cx=\"507.357\" cy=\"303.025\" r=\"14.4\" fill=\"#008000\" fill-rule=\"evenodd\" fill-opacity=\"1\" stroke=\"#000000\" stroke-opacity=\"1\" stroke-width=\"3.2\"/>\n<circle clip-path=\"url(#clip502)\" cx=\"482.26\" cy=\"302.393\" r=\"14.4\" fill=\"#008000\" fill-rule=\"evenodd\" fill-opacity=\"1\" stroke=\"#000000\" stroke-opacity=\"1\" stroke-width=\"3.2\"/>\n<circle clip-path=\"url(#clip502)\" cx=\"284.343\" cy=\"411.943\" r=\"14.4\" fill=\"#008000\" fill-rule=\"evenodd\" fill-opacity=\"1\" stroke=\"#000000\" stroke-opacity=\"1\" stroke-width=\"3.2\"/>\n<circle clip-path=\"url(#clip502)\" cx=\"391.617\" cy=\"320.634\" r=\"14.4\" fill=\"#008000\" fill-rule=\"evenodd\" fill-opacity=\"1\" stroke=\"#000000\" stroke-opacity=\"1\" stroke-width=\"3.2\"/>\n<circle clip-path=\"url(#clip502)\" cx=\"485.291\" cy=\"298.705\" r=\"14.4\" fill=\"#008000\" fill-rule=\"evenodd\" fill-opacity=\"1\" stroke=\"#000000\" stroke-opacity=\"1\" stroke-width=\"3.2\"/>\n<circle clip-path=\"url(#clip502)\" cx=\"391.617\" cy=\"320.634\" r=\"14.4\" fill=\"#008000\" fill-rule=\"evenodd\" fill-opacity=\"1\" stroke=\"#000000\" stroke-opacity=\"1\" stroke-width=\"3.2\"/>\n<circle clip-path=\"url(#clip502)\" cx=\"353.54\" cy=\"87.9763\" r=\"14.4\" fill=\"#008000\" fill-rule=\"evenodd\" fill-opacity=\"1\" stroke=\"#000000\" stroke-opacity=\"1\" stroke-width=\"3.2\"/>\n<circle clip-path=\"url(#clip502)\" cx=\"434.587\" cy=\"750.191\" r=\"14.4\" fill=\"#008000\" fill-rule=\"evenodd\" fill-opacity=\"1\" stroke=\"#000000\" stroke-opacity=\"1\" stroke-width=\"3.2\"/>\n<circle clip-path=\"url(#clip502)\" cx=\"502.8\" cy=\"290.903\" r=\"14.4\" fill=\"#008000\" fill-rule=\"evenodd\" fill-opacity=\"1\" stroke=\"#000000\" stroke-opacity=\"1\" stroke-width=\"3.2\"/>\n<circle clip-path=\"url(#clip502)\" cx=\"770.897\" cy=\"222.624\" r=\"14.4\" fill=\"#008000\" fill-rule=\"evenodd\" fill-opacity=\"1\" stroke=\"#000000\" stroke-opacity=\"1\" stroke-width=\"3.2\"/>\n<circle clip-path=\"url(#clip502)\" cx=\"529.586\" cy=\"669.294\" r=\"14.4\" fill=\"#008000\" fill-rule=\"evenodd\" fill-opacity=\"1\" stroke=\"#000000\" stroke-opacity=\"1\" stroke-width=\"3.2\"/>\n<circle clip-path=\"url(#clip502)\" cx=\"492.598\" cy=\"293.618\" r=\"14.4\" fill=\"#008000\" fill-rule=\"evenodd\" fill-opacity=\"1\" stroke=\"#000000\" stroke-opacity=\"1\" stroke-width=\"3.2\"/>\n<circle clip-path=\"url(#clip502)\" cx=\"403.969\" cy=\"274.218\" r=\"14.4\" fill=\"#008000\" fill-rule=\"evenodd\" fill-opacity=\"1\" stroke=\"#000000\" stroke-opacity=\"1\" stroke-width=\"3.2\"/>\n<circle clip-path=\"url(#clip502)\" cx=\"500.083\" cy=\"295.882\" r=\"14.4\" fill=\"#008000\" fill-rule=\"evenodd\" fill-opacity=\"1\" stroke=\"#000000\" stroke-opacity=\"1\" stroke-width=\"3.2\"/>\n<circle clip-path=\"url(#clip502)\" cx=\"762.988\" cy=\"211.484\" r=\"14.4\" fill=\"#008000\" fill-rule=\"evenodd\" fill-opacity=\"1\" stroke=\"#000000\" stroke-opacity=\"1\" stroke-width=\"3.2\"/>\n<circle clip-path=\"url(#clip502)\" cx=\"713.153\" cy=\"499.942\" r=\"14.4\" fill=\"#008000\" fill-rule=\"evenodd\" fill-opacity=\"1\" stroke=\"#000000\" stroke-opacity=\"1\" stroke-width=\"3.2\"/>\n<circle clip-path=\"url(#clip502)\" cx=\"558.669\" cy=\"519.848\" r=\"14.4\" fill=\"#008000\" fill-rule=\"evenodd\" fill-opacity=\"1\" stroke=\"#000000\" stroke-opacity=\"1\" stroke-width=\"3.2\"/>\n<circle clip-path=\"url(#clip502)\" cx=\"833.98\" cy=\"260.891\" r=\"14.4\" fill=\"#008000\" fill-rule=\"evenodd\" fill-opacity=\"1\" stroke=\"#000000\" stroke-opacity=\"1\" stroke-width=\"3.2\"/>\n<circle clip-path=\"url(#clip502)\" cx=\"697.813\" cy=\"321.15\" r=\"14.4\" fill=\"#008000\" fill-rule=\"evenodd\" fill-opacity=\"1\" stroke=\"#000000\" stroke-opacity=\"1\" stroke-width=\"3.2\"/>\n<circle clip-path=\"url(#clip502)\" cx=\"835.45\" cy=\"268.509\" r=\"14.4\" fill=\"#008000\" fill-rule=\"evenodd\" fill-opacity=\"1\" stroke=\"#000000\" stroke-opacity=\"1\" stroke-width=\"3.2\"/>\n<circle clip-path=\"url(#clip502)\" cx=\"353.54\" cy=\"87.9763\" r=\"14.4\" fill=\"#008000\" fill-rule=\"evenodd\" fill-opacity=\"1\" stroke=\"#000000\" stroke-opacity=\"1\" stroke-width=\"3.2\"/>\n<circle clip-path=\"url(#clip502)\" cx=\"496.432\" cy=\"298.978\" r=\"14.4\" fill=\"#008000\" fill-rule=\"evenodd\" fill-opacity=\"1\" stroke=\"#000000\" stroke-opacity=\"1\" stroke-width=\"3.2\"/>\n<circle clip-path=\"url(#clip502)\" cx=\"1104.15\" cy=\"1065.02\" r=\"14.4\" fill=\"#ffa500\" fill-rule=\"evenodd\" fill-opacity=\"1\" stroke=\"#000000\" stroke-opacity=\"1\" stroke-width=\"3.2\"/>\n<circle clip-path=\"url(#clip502)\" cx=\"843.642\" cy=\"1188.72\" r=\"14.4\" fill=\"#ffa500\" fill-rule=\"evenodd\" fill-opacity=\"1\" stroke=\"#000000\" stroke-opacity=\"1\" stroke-width=\"3.2\"/>\n<circle clip-path=\"url(#clip502)\" cx=\"1104.15\" cy=\"1065.02\" r=\"14.4\" fill=\"#ffa500\" fill-rule=\"evenodd\" fill-opacity=\"1\" stroke=\"#000000\" stroke-opacity=\"1\" stroke-width=\"3.2\"/>\n<circle clip-path=\"url(#clip502)\" cx=\"987.742\" cy=\"1206.83\" r=\"14.4\" fill=\"#ffa500\" fill-rule=\"evenodd\" fill-opacity=\"1\" stroke=\"#000000\" stroke-opacity=\"1\" stroke-width=\"3.2\"/>\n<circle clip-path=\"url(#clip502)\" cx=\"910.176\" cy=\"996.762\" r=\"14.4\" fill=\"#ffa500\" fill-rule=\"evenodd\" fill-opacity=\"1\" stroke=\"#000000\" stroke-opacity=\"1\" stroke-width=\"3.2\"/>\n<circle clip-path=\"url(#clip502)\" cx=\"943.442\" cy=\"1224.15\" r=\"14.4\" fill=\"#ffa500\" fill-rule=\"evenodd\" fill-opacity=\"1\" stroke=\"#000000\" stroke-opacity=\"1\" stroke-width=\"3.2\"/>\n<circle clip-path=\"url(#clip502)\" cx=\"843.642\" cy=\"1188.72\" r=\"14.4\" fill=\"#ffa500\" fill-rule=\"evenodd\" fill-opacity=\"1\" stroke=\"#000000\" stroke-opacity=\"1\" stroke-width=\"3.2\"/>\n<circle clip-path=\"url(#clip502)\" cx=\"1033.49\" cy=\"1101\" r=\"14.4\" fill=\"#ffa500\" fill-rule=\"evenodd\" fill-opacity=\"1\" stroke=\"#000000\" stroke-opacity=\"1\" stroke-width=\"3.2\"/>\n<circle clip-path=\"url(#clip502)\" cx=\"1205.06\" cy=\"1076.59\" r=\"14.4\" fill=\"#ffa500\" fill-rule=\"evenodd\" fill-opacity=\"1\" stroke=\"#000000\" stroke-opacity=\"1\" stroke-width=\"3.2\"/>\n<circle clip-path=\"url(#clip502)\" cx=\"1049.87\" cy=\"925.775\" r=\"14.4\" fill=\"#ffa500\" fill-rule=\"evenodd\" fill-opacity=\"1\" stroke=\"#000000\" stroke-opacity=\"1\" stroke-width=\"3.2\"/>\n<circle clip-path=\"url(#clip502)\" cx=\"1104.15\" cy=\"1065.02\" r=\"14.4\" fill=\"#ffa500\" fill-rule=\"evenodd\" fill-opacity=\"1\" stroke=\"#000000\" stroke-opacity=\"1\" stroke-width=\"3.2\"/>\n<circle clip-path=\"url(#clip502)\" cx=\"837.946\" cy=\"1100.65\" r=\"14.4\" fill=\"#ffa500\" fill-rule=\"evenodd\" fill-opacity=\"1\" stroke=\"#000000\" stroke-opacity=\"1\" stroke-width=\"3.2\"/>\n<circle clip-path=\"url(#clip502)\" cx=\"1212.82\" cy=\"1076.63\" r=\"14.4\" fill=\"#ffa500\" fill-rule=\"evenodd\" fill-opacity=\"1\" stroke=\"#000000\" stroke-opacity=\"1\" stroke-width=\"3.2\"/>\n<circle clip-path=\"url(#clip502)\" cx=\"705.653\" cy=\"1027.84\" r=\"14.4\" fill=\"#ffa500\" fill-rule=\"evenodd\" fill-opacity=\"1\" stroke=\"#000000\" stroke-opacity=\"1\" stroke-width=\"3.2\"/>\n<circle clip-path=\"url(#clip502)\" cx=\"994.065\" cy=\"1240.38\" r=\"14.4\" fill=\"#ffa500\" fill-rule=\"evenodd\" fill-opacity=\"1\" stroke=\"#000000\" stroke-opacity=\"1\" stroke-width=\"3.2\"/>\n<circle clip-path=\"url(#clip502)\" cx=\"963.534\" cy=\"1227.49\" r=\"14.4\" fill=\"#ffa500\" fill-rule=\"evenodd\" fill-opacity=\"1\" stroke=\"#000000\" stroke-opacity=\"1\" stroke-width=\"3.2\"/>\n<circle clip-path=\"url(#clip502)\" cx=\"1233.1\" cy=\"1077.4\" r=\"14.4\" fill=\"#ffa500\" fill-rule=\"evenodd\" fill-opacity=\"1\" stroke=\"#000000\" stroke-opacity=\"1\" stroke-width=\"3.2\"/>\n<circle clip-path=\"url(#clip502)\" cx=\"1036.82\" cy=\"1075.99\" r=\"14.4\" fill=\"#ffa500\" fill-rule=\"evenodd\" fill-opacity=\"1\" stroke=\"#000000\" stroke-opacity=\"1\" stroke-width=\"3.2\"/>\n<circle clip-path=\"url(#clip502)\" cx=\"933.165\" cy=\"1053.58\" r=\"14.4\" fill=\"#ffa500\" fill-rule=\"evenodd\" fill-opacity=\"1\" stroke=\"#000000\" stroke-opacity=\"1\" stroke-width=\"3.2\"/>\n<circle clip-path=\"url(#clip502)\" cx=\"1211.54\" cy=\"1067.02\" r=\"14.4\" fill=\"#ffa500\" fill-rule=\"evenodd\" fill-opacity=\"1\" stroke=\"#000000\" stroke-opacity=\"1\" stroke-width=\"3.2\"/>\n<circle clip-path=\"url(#clip502)\" cx=\"722.204\" cy=\"985.388\" r=\"14.4\" fill=\"#0000ff\" fill-rule=\"evenodd\" fill-opacity=\"1\" stroke=\"#000000\" stroke-opacity=\"1\" stroke-width=\"3.2\"/>\n<circle clip-path=\"url(#clip502)\" cx=\"1327.42\" cy=\"885.919\" r=\"14.4\" fill=\"#0000ff\" fill-rule=\"evenodd\" fill-opacity=\"1\" stroke=\"#000000\" stroke-opacity=\"1\" stroke-width=\"3.2\"/>\n<circle clip-path=\"url(#clip502)\" cx=\"758.361\" cy=\"964.517\" r=\"14.4\" fill=\"#0000ff\" fill-rule=\"evenodd\" fill-opacity=\"1\" stroke=\"#000000\" stroke-opacity=\"1\" stroke-width=\"3.2\"/>\n<circle clip-path=\"url(#clip502)\" cx=\"788.847\" cy=\"879.577\" r=\"14.4\" fill=\"#0000ff\" fill-rule=\"evenodd\" fill-opacity=\"1\" stroke=\"#000000\" stroke-opacity=\"1\" stroke-width=\"3.2\"/>\n<circle clip-path=\"url(#clip502)\" cx=\"776.831\" cy=\"953.028\" r=\"14.4\" fill=\"#0000ff\" fill-rule=\"evenodd\" fill-opacity=\"1\" stroke=\"#000000\" stroke-opacity=\"1\" stroke-width=\"3.2\"/>\n<circle clip-path=\"url(#clip502)\" cx=\"853.317\" cy=\"1198.27\" r=\"14.4\" fill=\"#ff0000\" fill-rule=\"evenodd\" fill-opacity=\"1\" stroke=\"#000000\" stroke-opacity=\"1\" stroke-width=\"3.2\"/>\n<circle clip-path=\"url(#clip502)\" cx=\"1180.49\" cy=\"1039.47\" r=\"14.4\" fill=\"#ff0000\" fill-rule=\"evenodd\" fill-opacity=\"1\" stroke=\"#000000\" stroke-opacity=\"1\" stroke-width=\"3.2\"/>\n<circle clip-path=\"url(#clip502)\" cx=\"853.317\" cy=\"1198.27\" r=\"14.4\" fill=\"#ff0000\" fill-rule=\"evenodd\" fill-opacity=\"1\" stroke=\"#000000\" stroke-opacity=\"1\" stroke-width=\"3.2\"/>\n<circle clip-path=\"url(#clip502)\" cx=\"853.317\" cy=\"1198.27\" r=\"14.4\" fill=\"#ff0000\" fill-rule=\"evenodd\" fill-opacity=\"1\" stroke=\"#000000\" stroke-opacity=\"1\" stroke-width=\"3.2\"/>\n<circle clip-path=\"url(#clip502)\" cx=\"947.859\" cy=\"1058.25\" r=\"14.4\" fill=\"#ff0000\" fill-rule=\"evenodd\" fill-opacity=\"1\" stroke=\"#000000\" stroke-opacity=\"1\" stroke-width=\"3.2\"/>\n<circle clip-path=\"url(#clip502)\" cx=\"1275.72\" cy=\"1058.1\" r=\"14.4\" fill=\"#ff0000\" fill-rule=\"evenodd\" fill-opacity=\"1\" stroke=\"#000000\" stroke-opacity=\"1\" stroke-width=\"3.2\"/>\n<circle clip-path=\"url(#clip502)\" cx=\"853.317\" cy=\"1198.27\" r=\"14.4\" fill=\"#ff0000\" fill-rule=\"evenodd\" fill-opacity=\"1\" stroke=\"#000000\" stroke-opacity=\"1\" stroke-width=\"3.2\"/>\n<circle clip-path=\"url(#clip502)\" cx=\"950.921\" cy=\"1056.75\" r=\"14.4\" fill=\"#ff0000\" fill-rule=\"evenodd\" fill-opacity=\"1\" stroke=\"#000000\" stroke-opacity=\"1\" stroke-width=\"3.2\"/>\n<circle clip-path=\"url(#clip502)\" cx=\"853.317\" cy=\"1198.27\" r=\"14.4\" fill=\"#ff0000\" fill-rule=\"evenodd\" fill-opacity=\"1\" stroke=\"#000000\" stroke-opacity=\"1\" stroke-width=\"3.2\"/>\n<circle clip-path=\"url(#clip502)\" cx=\"1278.93\" cy=\"1060.43\" r=\"14.4\" fill=\"#ff0000\" fill-rule=\"evenodd\" fill-opacity=\"1\" stroke=\"#000000\" stroke-opacity=\"1\" stroke-width=\"3.2\"/>\n<circle clip-path=\"url(#clip502)\" cx=\"1266.85\" cy=\"1058.85\" r=\"14.4\" fill=\"#ff0000\" fill-rule=\"evenodd\" fill-opacity=\"1\" stroke=\"#000000\" stroke-opacity=\"1\" stroke-width=\"3.2\"/>\n<circle clip-path=\"url(#clip502)\" cx=\"920.608\" cy=\"1077.45\" r=\"14.4\" fill=\"#ff0000\" fill-rule=\"evenodd\" fill-opacity=\"1\" stroke=\"#000000\" stroke-opacity=\"1\" stroke-width=\"3.2\"/>\n<circle clip-path=\"url(#clip502)\" cx=\"959.276\" cy=\"1049.08\" r=\"14.4\" fill=\"#ff0000\" fill-rule=\"evenodd\" fill-opacity=\"1\" stroke=\"#000000\" stroke-opacity=\"1\" stroke-width=\"3.2\"/>\n<circle clip-path=\"url(#clip502)\" cx=\"1051.59\" cy=\"1086.21\" r=\"14.4\" fill=\"#ffff00\" fill-rule=\"evenodd\" fill-opacity=\"1\" stroke=\"#000000\" stroke-opacity=\"1\" stroke-width=\"3.2\"/>\n<circle clip-path=\"url(#clip502)\" cx=\"976.119\" cy=\"1109.62\" r=\"14.4\" fill=\"#ffff00\" fill-rule=\"evenodd\" fill-opacity=\"1\" stroke=\"#000000\" stroke-opacity=\"1\" stroke-width=\"3.2\"/>\n<circle clip-path=\"url(#clip502)\" cx=\"495.739\" cy=\"1109.02\" r=\"14.4\" fill=\"#ffff00\" fill-rule=\"evenodd\" fill-opacity=\"1\" stroke=\"#000000\" stroke-opacity=\"1\" stroke-width=\"3.2\"/>\n<circle clip-path=\"url(#clip502)\" cx=\"1033.47\" cy=\"1043.95\" r=\"14.4\" fill=\"#ffff00\" fill-rule=\"evenodd\" fill-opacity=\"1\" stroke=\"#000000\" stroke-opacity=\"1\" stroke-width=\"3.2\"/>\n<circle clip-path=\"url(#clip502)\" cx=\"2062.47\" cy=\"1038.38\" r=\"14.4\" fill=\"#800080\" fill-rule=\"evenodd\" fill-opacity=\"1\" stroke=\"#000000\" stroke-opacity=\"1\" stroke-width=\"3.2\"/>\n<circle clip-path=\"url(#clip502)\" cx=\"1835.55\" cy=\"1137.8\" r=\"14.4\" fill=\"#800080\" fill-rule=\"evenodd\" fill-opacity=\"1\" stroke=\"#000000\" stroke-opacity=\"1\" stroke-width=\"3.2\"/>\n<circle clip-path=\"url(#clip502)\" cx=\"2055.45\" cy=\"860.42\" r=\"14.4\" fill=\"#800080\" fill-rule=\"evenodd\" fill-opacity=\"1\" stroke=\"#000000\" stroke-opacity=\"1\" stroke-width=\"3.2\"/>\n<circle clip-path=\"url(#clip502)\" cx=\"1931.66\" cy=\"870.608\" r=\"14.4\" fill=\"#800080\" fill-rule=\"evenodd\" fill-opacity=\"1\" stroke=\"#000000\" stroke-opacity=\"1\" stroke-width=\"3.2\"/>\n<circle clip-path=\"url(#clip502)\" cx=\"1845.45\" cy=\"1134.94\" r=\"14.4\" fill=\"#800080\" fill-rule=\"evenodd\" fill-opacity=\"1\" stroke=\"#000000\" stroke-opacity=\"1\" stroke-width=\"3.2\"/>\n<circle clip-path=\"url(#clip502)\" cx=\"1932.69\" cy=\"860.374\" r=\"14.4\" fill=\"#800080\" fill-rule=\"evenodd\" fill-opacity=\"1\" stroke=\"#000000\" stroke-opacity=\"1\" stroke-width=\"3.2\"/>\n<circle clip-path=\"url(#clip502)\" cx=\"2048.85\" cy=\"1027.84\" r=\"14.4\" fill=\"#800080\" fill-rule=\"evenodd\" fill-opacity=\"1\" stroke=\"#000000\" stroke-opacity=\"1\" stroke-width=\"3.2\"/>\n<circle clip-path=\"url(#clip502)\" cx=\"1878.68\" cy=\"903.942\" r=\"14.4\" fill=\"#800080\" fill-rule=\"evenodd\" fill-opacity=\"1\" stroke=\"#000000\" stroke-opacity=\"1\" stroke-width=\"3.2\"/>\n<circle clip-path=\"url(#clip502)\" cx=\"2292.51\" cy=\"1216.49\" r=\"14.4\" fill=\"#000000\" fill-rule=\"evenodd\" fill-opacity=\"1\" stroke=\"none\"/>\n<circle clip-path=\"url(#clip502)\" cx=\"1865.75\" cy=\"1445.72\" r=\"14.4\" fill=\"#000000\" fill-rule=\"evenodd\" fill-opacity=\"1\" stroke=\"none\"/>\n<circle clip-path=\"url(#clip502)\" cx=\"1865.75\" cy=\"1445.72\" r=\"14.4\" fill=\"#000000\" fill-rule=\"evenodd\" fill-opacity=\"1\" stroke=\"none\"/>\n<circle clip-path=\"url(#clip502)\" cx=\"1865.75\" cy=\"1445.72\" r=\"14.4\" fill=\"#000000\" fill-rule=\"evenodd\" fill-opacity=\"1\" stroke=\"none\"/>\n<circle clip-path=\"url(#clip502)\" cx=\"1927.95\" cy=\"1170.18\" r=\"14.4\" fill=\"#000000\" fill-rule=\"evenodd\" fill-opacity=\"1\" stroke=\"none\"/>\n<circle clip-path=\"url(#clip502)\" cx=\"1794.64\" cy=\"814.95\" r=\"14.4\" fill=\"#000000\" fill-rule=\"evenodd\" fill-opacity=\"1\" stroke=\"none\"/>\n<circle clip-path=\"url(#clip502)\" cx=\"2198.52\" cy=\"1257.27\" r=\"14.4\" fill=\"#000000\" fill-rule=\"evenodd\" fill-opacity=\"1\" stroke=\"none\"/>\n<circle clip-path=\"url(#clip502)\" cx=\"2091.05\" cy=\"1041.57\" r=\"14.4\" fill=\"#000000\" fill-rule=\"evenodd\" fill-opacity=\"1\" stroke=\"none\"/>\n<circle clip-path=\"url(#clip502)\" cx=\"1865.75\" cy=\"1445.72\" r=\"14.4\" fill=\"#000000\" fill-rule=\"evenodd\" fill-opacity=\"1\" stroke=\"none\"/>\n<circle clip-path=\"url(#clip502)\" cx=\"2009.1\" cy=\"1028.95\" r=\"14.4\" fill=\"#000000\" fill-rule=\"evenodd\" fill-opacity=\"1\" stroke=\"none\"/>\n<path clip-path=\"url(#clip500)\" d=\"\nM1758.2 509.938 L2281.8 509.938 L2281.8 95.2176 L1758.2 95.2176  Z\n  \" fill=\"#ffffff\" fill-rule=\"evenodd\" fill-opacity=\"1\"/>\n<polyline clip-path=\"url(#clip500)\" style=\"stroke:#000000; stroke-linecap:round; stroke-linejoin:round; stroke-width:4; stroke-opacity:1; fill:none\" points=\"\n  1758.2,509.938 2281.8,509.938 2281.8,95.2176 1758.2,95.2176 1758.2,509.938 \n  \"/>\n<circle clip-path=\"url(#clip500)\" cx=\"1852.81\" cy=\"147.058\" r=\"23.04\" fill=\"#008000\" fill-rule=\"evenodd\" fill-opacity=\"1\" stroke=\"#000000\" stroke-opacity=\"1\" stroke-width=\"5.12\"/>\n<path clip-path=\"url(#clip500)\" d=\"M1967.76 143.389 Q1969.36 140.518 1971.58 139.153 Q1973.8 137.787 1976.81 137.787 Q1980.86 137.787 1983.06 140.634 Q1985.26 143.458 1985.26 148.689 L1985.26 164.338 L1980.98 164.338 L1980.98 148.828 Q1980.98 145.102 1979.66 143.296 Q1978.34 141.49 1975.63 141.49 Q1972.32 141.49 1970.4 143.69 Q1968.48 145.889 1968.48 149.685 L1968.48 164.338 L1964.2 164.338 L1964.2 148.828 Q1964.2 145.078 1962.88 143.296 Q1961.56 141.49 1958.8 141.49 Q1955.54 141.49 1953.62 143.713 Q1951.7 145.912 1951.7 149.685 L1951.7 164.338 L1947.42 164.338 L1947.42 138.412 L1951.7 138.412 L1951.7 142.44 Q1953.16 140.055 1955.19 138.921 Q1957.23 137.787 1960.03 137.787 Q1962.86 137.787 1964.82 139.222 Q1966.81 140.657 1967.76 143.389 Z\" fill=\"#000000\" fill-rule=\"evenodd\" fill-opacity=\"1\" /><path clip-path=\"url(#clip500)\" d=\"M2005.54 151.305 Q2000.38 151.305 1998.39 152.486 Q1996.4 153.666 1996.4 156.514 Q1996.4 158.782 1997.88 160.125 Q1999.38 161.444 2001.95 161.444 Q2005.49 161.444 2007.62 158.944 Q2009.78 156.421 2009.78 152.254 L2009.78 151.305 L2005.54 151.305 M2014.04 149.546 L2014.04 164.338 L2009.78 164.338 L2009.78 160.402 Q2008.32 162.763 2006.14 163.898 Q2003.97 165.009 2000.82 165.009 Q1996.84 165.009 1994.48 162.787 Q1992.14 160.541 1992.14 156.791 Q1992.14 152.416 1995.05 150.194 Q1997.99 147.972 2003.8 147.972 L2009.78 147.972 L2009.78 147.555 Q2009.78 144.615 2007.83 143.018 Q2005.91 141.398 2002.42 141.398 Q2000.19 141.398 1998.09 141.93 Q1995.98 142.463 1994.04 143.527 L1994.04 139.592 Q1996.37 138.69 1998.57 138.25 Q2000.77 137.787 2002.85 137.787 Q2008.48 137.787 2011.26 140.703 Q2014.04 143.62 2014.04 149.546 Z\" fill=\"#000000\" fill-rule=\"evenodd\" fill-opacity=\"1\" /><path clip-path=\"url(#clip500)\" d=\"M2042.99 143.389 Q2044.59 140.518 2046.81 139.153 Q2049.04 137.787 2052.04 137.787 Q2056.1 137.787 2058.29 140.634 Q2060.49 143.458 2060.49 148.689 L2060.49 164.338 L2056.21 164.338 L2056.21 148.828 Q2056.21 145.102 2054.89 143.296 Q2053.57 141.49 2050.86 141.49 Q2047.55 141.49 2045.63 143.69 Q2043.71 145.889 2043.71 149.685 L2043.71 164.338 L2039.43 164.338 L2039.43 148.828 Q2039.43 145.078 2038.11 143.296 Q2036.79 141.49 2034.04 141.49 Q2030.77 141.49 2028.85 143.713 Q2026.93 145.912 2026.93 149.685 L2026.93 164.338 L2022.65 164.338 L2022.65 138.412 L2026.93 138.412 L2026.93 142.44 Q2028.39 140.055 2030.42 138.921 Q2032.46 137.787 2035.26 137.787 Q2038.09 137.787 2040.05 139.222 Q2042.04 140.657 2042.99 143.389 Z\" fill=\"#000000\" fill-rule=\"evenodd\" fill-opacity=\"1\" /><path clip-path=\"url(#clip500)\" d=\"M2089.17 143.389 Q2090.77 140.518 2092.99 139.153 Q2095.22 137.787 2098.22 137.787 Q2102.28 137.787 2104.47 140.634 Q2106.67 143.458 2106.67 148.689 L2106.67 164.338 L2102.39 164.338 L2102.39 148.828 Q2102.39 145.102 2101.07 143.296 Q2099.75 141.49 2097.04 141.49 Q2093.73 141.49 2091.81 143.69 Q2089.89 145.889 2089.89 149.685 L2089.89 164.338 L2085.61 164.338 L2085.61 148.828 Q2085.61 145.078 2084.29 143.296 Q2082.97 141.49 2080.22 141.49 Q2076.95 141.49 2075.03 143.713 Q2073.11 145.912 2073.11 149.685 L2073.11 164.338 L2068.83 164.338 L2068.83 138.412 L2073.11 138.412 L2073.11 142.44 Q2074.57 140.055 2076.6 138.921 Q2078.64 137.787 2081.44 137.787 Q2084.27 137.787 2086.23 139.222 Q2088.22 140.657 2089.17 143.389 Z\" fill=\"#000000\" fill-rule=\"evenodd\" fill-opacity=\"1\" /><path clip-path=\"url(#clip500)\" d=\"M2126.95 151.305 Q2121.79 151.305 2119.8 152.486 Q2117.81 153.666 2117.81 156.514 Q2117.81 158.782 2119.29 160.125 Q2120.79 161.444 2123.36 161.444 Q2126.91 161.444 2129.03 158.944 Q2131.19 156.421 2131.19 152.254 L2131.19 151.305 L2126.95 151.305 M2135.45 149.546 L2135.45 164.338 L2131.19 164.338 L2131.19 160.402 Q2129.73 162.763 2127.55 163.898 Q2125.38 165.009 2122.23 165.009 Q2118.25 165.009 2115.89 162.787 Q2113.55 160.541 2113.55 156.791 Q2113.55 152.416 2116.47 150.194 Q2119.41 147.972 2125.22 147.972 L2131.19 147.972 L2131.19 147.555 Q2131.19 144.615 2129.24 143.018 Q2127.32 141.398 2123.83 141.398 Q2121.6 141.398 2119.5 141.93 Q2117.39 142.463 2115.45 143.527 L2115.45 139.592 Q2117.78 138.69 2119.98 138.25 Q2122.18 137.787 2124.27 137.787 Q2129.89 137.787 2132.67 140.703 Q2135.45 143.62 2135.45 149.546 Z\" fill=\"#000000\" fill-rule=\"evenodd\" fill-opacity=\"1\" /><path clip-path=\"url(#clip500)\" d=\"M2144.22 128.319 L2148.48 128.319 L2148.48 164.338 L2144.22 164.338 L2144.22 128.319 Z\" fill=\"#000000\" fill-rule=\"evenodd\" fill-opacity=\"1\" /><circle clip-path=\"url(#clip500)\" cx=\"1852.81\" cy=\"198.898\" r=\"23.04\" fill=\"#ffa500\" fill-rule=\"evenodd\" fill-opacity=\"1\" stroke=\"#000000\" stroke-opacity=\"1\" stroke-width=\"5.12\"/>\n<path clip-path=\"url(#clip500)\" d=\"M1966.19 203.238 Q1966.19 198.539 1964.24 195.877 Q1962.32 193.192 1958.94 193.192 Q1955.56 193.192 1953.62 195.877 Q1951.7 198.539 1951.7 203.238 Q1951.7 207.937 1953.62 210.622 Q1955.56 213.284 1958.94 213.284 Q1962.32 213.284 1964.24 210.622 Q1966.19 207.937 1966.19 203.238 M1951.7 194.187 Q1953.04 191.872 1955.08 190.761 Q1957.14 189.627 1959.98 189.627 Q1964.71 189.627 1967.65 193.377 Q1970.61 197.127 1970.61 203.238 Q1970.61 209.349 1967.65 213.099 Q1964.71 216.849 1959.98 216.849 Q1957.14 216.849 1955.08 215.738 Q1953.04 214.603 1951.7 212.289 L1951.7 216.178 L1947.42 216.178 L1947.42 180.159 L1951.7 180.159 L1951.7 194.187 Z\" fill=\"#000000\" fill-rule=\"evenodd\" fill-opacity=\"1\" /><path clip-path=\"url(#clip500)\" d=\"M1977.67 190.252 L1981.93 190.252 L1981.93 216.178 L1977.67 216.178 L1977.67 190.252 M1977.67 180.159 L1981.93 180.159 L1981.93 185.553 L1977.67 185.553 L1977.67 180.159 Z\" fill=\"#000000\" fill-rule=\"evenodd\" fill-opacity=\"1\" /><path clip-path=\"url(#clip500)\" d=\"M2005.86 194.233 Q2005.15 193.817 2004.29 193.631 Q2003.46 193.423 2002.44 193.423 Q1998.83 193.423 1996.88 195.784 Q1994.96 198.122 1994.96 202.52 L1994.96 216.178 L1990.68 216.178 L1990.68 190.252 L1994.96 190.252 L1994.96 194.28 Q1996.3 191.918 1998.46 190.784 Q2000.61 189.627 2003.69 189.627 Q2004.13 189.627 2004.66 189.696 Q2005.19 189.743 2005.84 189.858 L2005.86 194.233 Z\" fill=\"#000000\" fill-rule=\"evenodd\" fill-opacity=\"1\" /><path clip-path=\"url(#clip500)\" d=\"M2026.56 194.187 L2026.56 180.159 L2030.82 180.159 L2030.82 216.178 L2026.56 216.178 L2026.56 212.289 Q2025.22 214.603 2023.16 215.738 Q2021.12 216.849 2018.25 216.849 Q2013.55 216.849 2010.59 213.099 Q2007.65 209.349 2007.65 203.238 Q2007.65 197.127 2010.59 193.377 Q2013.55 189.627 2018.25 189.627 Q2021.12 189.627 2023.16 190.761 Q2025.22 191.872 2026.56 194.187 M2012.04 203.238 Q2012.04 207.937 2013.97 210.622 Q2015.91 213.284 2019.29 213.284 Q2022.67 213.284 2024.61 210.622 Q2026.56 207.937 2026.56 203.238 Q2026.56 198.539 2024.61 195.877 Q2022.67 193.192 2019.29 193.192 Q2015.91 193.192 2013.97 195.877 Q2012.04 198.539 2012.04 203.238 Z\" fill=\"#000000\" fill-rule=\"evenodd\" fill-opacity=\"1\" /><circle clip-path=\"url(#clip500)\" cx=\"1852.81\" cy=\"250.738\" r=\"23.04\" fill=\"#0000ff\" fill-rule=\"evenodd\" fill-opacity=\"1\" stroke=\"#000000\" stroke-opacity=\"1\" stroke-width=\"5.12\"/>\n<path clip-path=\"url(#clip500)\" d=\"M1962.6 246.073 Q1961.88 245.657 1961.03 245.471 Q1960.19 245.263 1959.17 245.263 Q1955.56 245.263 1953.62 247.624 Q1951.7 249.962 1951.7 254.36 L1951.7 268.018 L1947.42 268.018 L1947.42 242.092 L1951.7 242.092 L1951.7 246.12 Q1953.04 243.758 1955.19 242.624 Q1957.35 241.467 1960.42 241.467 Q1960.86 241.467 1961.4 241.536 Q1961.93 241.583 1962.58 241.698 L1962.6 246.073 Z\" fill=\"#000000\" fill-rule=\"evenodd\" fill-opacity=\"1\" /><path clip-path=\"url(#clip500)\" d=\"M1988.2 253.99 L1988.2 256.073 L1968.62 256.073 Q1968.9 260.471 1971.26 262.786 Q1973.64 265.078 1977.88 265.078 Q1980.33 265.078 1982.62 264.476 Q1984.94 263.874 1987.21 262.67 L1987.21 266.698 Q1984.92 267.67 1982.51 268.18 Q1980.1 268.689 1977.62 268.689 Q1971.42 268.689 1967.79 265.078 Q1964.17 261.467 1964.17 255.309 Q1964.17 248.944 1967.6 245.217 Q1971.05 241.467 1976.88 241.467 Q1982.11 241.467 1985.15 244.846 Q1988.2 248.203 1988.2 253.99 M1983.94 252.74 Q1983.9 249.245 1981.98 247.161 Q1980.08 245.078 1976.93 245.078 Q1973.36 245.078 1971.21 247.092 Q1969.08 249.106 1968.76 252.763 L1983.94 252.74 Z\" fill=\"#000000\" fill-rule=\"evenodd\" fill-opacity=\"1\" /><path clip-path=\"url(#clip500)\" d=\"M1999.31 264.129 L1999.31 277.879 L1995.03 277.879 L1995.03 242.092 L1999.31 242.092 L1999.31 246.027 Q2000.66 243.712 2002.69 242.601 Q2004.75 241.467 2007.6 241.467 Q2012.32 241.467 2015.26 245.217 Q2018.23 248.967 2018.23 255.078 Q2018.23 261.189 2015.26 264.939 Q2012.32 268.689 2007.6 268.689 Q2004.75 268.689 2002.69 267.578 Q2000.66 266.443 1999.31 264.129 M2013.8 255.078 Q2013.8 250.379 2011.86 247.717 Q2009.94 245.032 2006.56 245.032 Q2003.18 245.032 2001.23 247.717 Q1999.31 250.379 1999.31 255.078 Q1999.31 259.777 2001.23 262.462 Q2003.18 265.124 2006.56 265.124 Q2009.94 265.124 2011.86 262.462 Q2013.8 259.777 2013.8 255.078 Z\" fill=\"#000000\" fill-rule=\"evenodd\" fill-opacity=\"1\" /><path clip-path=\"url(#clip500)\" d=\"M2029.5 234.731 L2029.5 242.092 L2038.27 242.092 L2038.27 245.402 L2029.5 245.402 L2029.5 259.476 Q2029.5 262.647 2030.35 263.55 Q2031.23 264.453 2033.9 264.453 L2038.27 264.453 L2038.27 268.018 L2033.9 268.018 Q2028.97 268.018 2027.09 266.189 Q2025.22 264.337 2025.22 259.476 L2025.22 245.402 L2022.09 245.402 L2022.09 242.092 L2025.22 242.092 L2025.22 234.731 L2029.5 234.731 Z\" fill=\"#000000\" fill-rule=\"evenodd\" fill-opacity=\"1\" /><path clip-path=\"url(#clip500)\" d=\"M2043.87 242.092 L2048.13 242.092 L2048.13 268.018 L2043.87 268.018 L2043.87 242.092 M2043.87 231.999 L2048.13 231.999 L2048.13 237.393 L2043.87 237.393 L2043.87 231.999 Z\" fill=\"#000000\" fill-rule=\"evenodd\" fill-opacity=\"1\" /><path clip-path=\"url(#clip500)\" d=\"M2057.04 231.999 L2061.3 231.999 L2061.3 268.018 L2057.04 268.018 L2057.04 231.999 Z\" fill=\"#000000\" fill-rule=\"evenodd\" fill-opacity=\"1\" /><path clip-path=\"url(#clip500)\" d=\"M2092.39 253.99 L2092.39 256.073 L2072.81 256.073 Q2073.09 260.471 2075.45 262.786 Q2077.83 265.078 2082.07 265.078 Q2084.52 265.078 2086.81 264.476 Q2089.13 263.874 2091.4 262.67 L2091.4 266.698 Q2089.1 267.67 2086.7 268.18 Q2084.29 268.689 2081.81 268.689 Q2075.61 268.689 2071.97 265.078 Q2068.36 261.467 2068.36 255.309 Q2068.36 248.944 2071.79 245.217 Q2075.24 241.467 2081.07 241.467 Q2086.3 241.467 2089.34 244.846 Q2092.39 248.203 2092.39 253.99 M2088.13 252.74 Q2088.09 249.245 2086.16 247.161 Q2084.27 245.078 2081.12 245.078 Q2077.55 245.078 2075.4 247.092 Q2073.27 249.106 2072.95 252.763 L2088.13 252.74 Z\" fill=\"#000000\" fill-rule=\"evenodd\" fill-opacity=\"1\" /><circle clip-path=\"url(#clip500)\" cx=\"1852.81\" cy=\"302.578\" r=\"23.04\" fill=\"#ff0000\" fill-rule=\"evenodd\" fill-opacity=\"1\" stroke=\"#000000\" stroke-opacity=\"1\" stroke-width=\"5.12\"/>\n<path clip-path=\"url(#clip500)\" d=\"M1963.92 283.839 L1963.92 287.381 L1959.85 287.381 Q1957.55 287.381 1956.65 288.307 Q1955.77 289.233 1955.77 291.64 L1955.77 293.932 L1962.79 293.932 L1962.79 297.242 L1955.77 297.242 L1955.77 319.858 L1951.49 319.858 L1951.49 297.242 L1947.42 297.242 L1947.42 293.932 L1951.49 293.932 L1951.49 292.126 Q1951.49 287.798 1953.5 285.83 Q1955.52 283.839 1959.89 283.839 L1963.92 283.839 Z\" fill=\"#000000\" fill-rule=\"evenodd\" fill-opacity=\"1\" /><path clip-path=\"url(#clip500)\" d=\"M1967.48 293.932 L1971.74 293.932 L1971.74 319.858 L1967.48 319.858 L1967.48 293.932 M1967.48 283.839 L1971.74 283.839 L1971.74 289.233 L1967.48 289.233 L1967.48 283.839 Z\" fill=\"#000000\" fill-rule=\"evenodd\" fill-opacity=\"1\" /><path clip-path=\"url(#clip500)\" d=\"M1997.18 294.696 L1997.18 298.723 Q1995.38 297.797 1993.43 297.335 Q1991.49 296.872 1989.41 296.872 Q1986.23 296.872 1984.64 297.844 Q1983.06 298.816 1983.06 300.76 Q1983.06 302.242 1984.2 303.098 Q1985.33 303.932 1988.76 304.696 L1990.22 305.02 Q1994.75 305.992 1996.65 307.774 Q1998.57 309.534 1998.57 312.705 Q1998.57 316.316 1995.7 318.422 Q1992.85 320.529 1987.85 320.529 Q1985.77 320.529 1983.5 320.112 Q1981.26 319.719 1978.76 318.908 L1978.76 314.51 Q1981.12 315.737 1983.41 316.362 Q1985.7 316.964 1987.95 316.964 Q1990.96 316.964 1992.58 315.946 Q1994.2 314.904 1994.2 313.029 Q1994.2 311.293 1993.02 310.367 Q1991.86 309.441 1987.9 308.584 L1986.42 308.237 Q1982.46 307.404 1980.7 305.691 Q1978.94 303.955 1978.94 300.946 Q1978.94 297.288 1981.54 295.298 Q1984.13 293.307 1988.9 293.307 Q1991.26 293.307 1993.34 293.654 Q1995.42 294.001 1997.18 294.696 Z\" fill=\"#000000\" fill-rule=\"evenodd\" fill-opacity=\"1\" /><path clip-path=\"url(#clip500)\" d=\"M2026.91 304.209 L2026.91 319.858 L2022.65 319.858 L2022.65 304.348 Q2022.65 300.668 2021.21 298.839 Q2019.78 297.01 2016.91 297.01 Q2013.46 297.01 2011.47 299.21 Q2009.48 301.409 2009.48 305.205 L2009.48 319.858 L2005.19 319.858 L2005.19 283.839 L2009.48 283.839 L2009.48 297.96 Q2011 295.622 2013.06 294.464 Q2015.15 293.307 2017.85 293.307 Q2022.32 293.307 2024.61 296.085 Q2026.91 298.839 2026.91 304.209 Z\" fill=\"#000000\" fill-rule=\"evenodd\" fill-opacity=\"1\" /><circle clip-path=\"url(#clip500)\" cx=\"1852.81\" cy=\"354.418\" r=\"23.04\" fill=\"#ffff00\" fill-rule=\"evenodd\" fill-opacity=\"1\" stroke=\"#000000\" stroke-opacity=\"1\" stroke-width=\"5.12\"/>\n<path clip-path=\"url(#clip500)\" d=\"M1960.82 358.665 Q1955.66 358.665 1953.67 359.846 Q1951.67 361.026 1951.67 363.874 Q1951.67 366.142 1953.16 367.485 Q1954.66 368.804 1957.23 368.804 Q1960.77 368.804 1962.9 366.304 Q1965.05 363.781 1965.05 359.614 L1965.05 358.665 L1960.82 358.665 M1969.31 356.906 L1969.31 371.698 L1965.05 371.698 L1965.05 367.762 Q1963.6 370.123 1961.42 371.258 Q1959.24 372.369 1956.1 372.369 Q1952.11 372.369 1949.75 370.147 Q1947.42 367.901 1947.42 364.151 Q1947.42 359.776 1950.33 357.554 Q1953.27 355.332 1959.08 355.332 L1965.05 355.332 L1965.05 354.915 Q1965.05 351.975 1963.11 350.378 Q1961.19 348.758 1957.69 348.758 Q1955.47 348.758 1953.36 349.29 Q1951.26 349.823 1949.31 350.887 L1949.31 346.952 Q1951.65 346.05 1953.85 345.61 Q1956.05 345.147 1958.13 345.147 Q1963.76 345.147 1966.54 348.063 Q1969.31 350.98 1969.31 356.906 Z\" fill=\"#000000\" fill-rule=\"evenodd\" fill-opacity=\"1\" /><path clip-path=\"url(#clip500)\" d=\"M1998.27 350.749 Q1999.87 347.878 2002.09 346.513 Q2004.31 345.147 2007.32 345.147 Q2011.37 345.147 2013.57 347.994 Q2015.77 350.818 2015.77 356.049 L2015.77 371.698 L2011.49 371.698 L2011.49 356.188 Q2011.49 352.462 2010.17 350.656 Q2008.85 348.85 2006.14 348.85 Q2002.83 348.85 2000.91 351.05 Q1998.99 353.249 1998.99 357.045 L1998.99 371.698 L1994.71 371.698 L1994.71 356.188 Q1994.71 352.438 1993.39 350.656 Q1992.07 348.85 1989.31 348.85 Q1986.05 348.85 1984.13 351.073 Q1982.21 353.272 1982.21 357.045 L1982.21 371.698 L1977.92 371.698 L1977.92 345.772 L1982.21 345.772 L1982.21 349.8 Q1983.67 347.415 1985.7 346.281 Q1987.74 345.147 1990.54 345.147 Q1993.36 345.147 1995.33 346.582 Q1997.32 348.017 1998.27 350.749 Z\" fill=\"#000000\" fill-rule=\"evenodd\" fill-opacity=\"1\" /><path clip-path=\"url(#clip500)\" d=\"M2028.39 367.809 L2028.39 381.559 L2024.1 381.559 L2024.1 345.772 L2028.39 345.772 L2028.39 349.707 Q2029.73 347.392 2031.77 346.281 Q2033.83 345.147 2036.67 345.147 Q2041.4 345.147 2044.34 348.897 Q2047.3 352.647 2047.3 358.758 Q2047.3 364.869 2044.34 368.619 Q2041.4 372.369 2036.67 372.369 Q2033.83 372.369 2031.77 371.258 Q2029.73 370.123 2028.39 367.809 M2042.88 358.758 Q2042.88 354.059 2040.93 351.397 Q2039.01 348.712 2035.63 348.712 Q2032.25 348.712 2030.31 351.397 Q2028.39 354.059 2028.39 358.758 Q2028.39 363.457 2030.31 366.142 Q2032.25 368.804 2035.63 368.804 Q2039.01 368.804 2040.93 366.142 Q2042.88 363.457 2042.88 358.758 Z\" fill=\"#000000\" fill-rule=\"evenodd\" fill-opacity=\"1\" /><path clip-path=\"url(#clip500)\" d=\"M2075.91 356.049 L2075.91 371.698 L2071.65 371.698 L2071.65 356.188 Q2071.65 352.508 2070.22 350.679 Q2068.78 348.85 2065.91 348.85 Q2062.46 348.85 2060.47 351.05 Q2058.48 353.249 2058.48 357.045 L2058.48 371.698 L2054.2 371.698 L2054.2 335.679 L2058.48 335.679 L2058.48 349.8 Q2060.01 347.462 2062.07 346.304 Q2064.15 345.147 2066.86 345.147 Q2071.33 345.147 2073.62 347.925 Q2075.91 350.679 2075.91 356.049 Z\" fill=\"#000000\" fill-rule=\"evenodd\" fill-opacity=\"1\" /><path clip-path=\"url(#clip500)\" d=\"M2084.41 345.772 L2088.66 345.772 L2088.66 371.698 L2084.41 371.698 L2084.41 345.772 M2084.41 335.679 L2088.66 335.679 L2088.66 341.073 L2084.41 341.073 L2084.41 335.679 Z\" fill=\"#000000\" fill-rule=\"evenodd\" fill-opacity=\"1\" /><path clip-path=\"url(#clip500)\" d=\"M2116.19 358.758 Q2116.19 354.059 2114.24 351.397 Q2112.32 348.712 2108.94 348.712 Q2105.56 348.712 2103.62 351.397 Q2101.7 354.059 2101.7 358.758 Q2101.7 363.457 2103.62 366.142 Q2105.56 368.804 2108.94 368.804 Q2112.32 368.804 2114.24 366.142 Q2116.19 363.457 2116.19 358.758 M2101.7 349.707 Q2103.04 347.392 2105.08 346.281 Q2107.14 345.147 2109.98 345.147 Q2114.71 345.147 2117.65 348.897 Q2120.61 352.647 2120.61 358.758 Q2120.61 364.869 2117.65 368.619 Q2114.71 372.369 2109.98 372.369 Q2107.14 372.369 2105.08 371.258 Q2103.04 370.123 2101.7 367.809 L2101.7 371.698 L2097.41 371.698 L2097.41 335.679 L2101.7 335.679 L2101.7 349.707 Z\" fill=\"#000000\" fill-rule=\"evenodd\" fill-opacity=\"1\" /><path clip-path=\"url(#clip500)\" d=\"M2127.67 345.772 L2131.93 345.772 L2131.93 371.698 L2127.67 371.698 L2127.67 345.772 M2127.67 335.679 L2131.93 335.679 L2131.93 341.073 L2127.67 341.073 L2127.67 335.679 Z\" fill=\"#000000\" fill-rule=\"evenodd\" fill-opacity=\"1\" /><path clip-path=\"url(#clip500)\" d=\"M2152.62 358.665 Q2147.46 358.665 2145.47 359.846 Q2143.48 361.026 2143.48 363.874 Q2143.48 366.142 2144.96 367.485 Q2146.47 368.804 2149.03 368.804 Q2152.58 368.804 2154.71 366.304 Q2156.86 363.781 2156.86 359.614 L2156.86 358.665 L2152.62 358.665 M2161.12 356.906 L2161.12 371.698 L2156.86 371.698 L2156.86 367.762 Q2155.4 370.123 2153.22 371.258 Q2151.05 372.369 2147.9 372.369 Q2143.92 372.369 2141.56 370.147 Q2139.22 367.901 2139.22 364.151 Q2139.22 359.776 2142.14 357.554 Q2145.08 355.332 2150.89 355.332 L2156.86 355.332 L2156.86 354.915 Q2156.86 351.975 2154.91 350.378 Q2152.99 348.758 2149.5 348.758 Q2147.28 348.758 2145.17 349.29 Q2143.06 349.823 2141.12 350.887 L2141.12 346.952 Q2143.46 346.05 2145.66 345.61 Q2147.85 345.147 2149.94 345.147 Q2155.56 345.147 2158.34 348.063 Q2161.12 350.98 2161.12 356.906 Z\" fill=\"#000000\" fill-rule=\"evenodd\" fill-opacity=\"1\" /><path clip-path=\"url(#clip500)\" d=\"M2191.44 356.049 L2191.44 371.698 L2187.18 371.698 L2187.18 356.188 Q2187.18 352.508 2185.75 350.679 Q2184.31 348.85 2181.44 348.85 Q2177.99 348.85 2176 351.05 Q2174.01 353.249 2174.01 357.045 L2174.01 371.698 L2169.73 371.698 L2169.73 345.772 L2174.01 345.772 L2174.01 349.8 Q2175.54 347.462 2177.6 346.304 Q2179.68 345.147 2182.39 345.147 Q2186.86 345.147 2189.15 347.925 Q2191.44 350.679 2191.44 356.049 Z\" fill=\"#000000\" fill-rule=\"evenodd\" fill-opacity=\"1\" /><circle clip-path=\"url(#clip500)\" cx=\"1852.81\" cy=\"406.258\" r=\"23.04\" fill=\"#800080\" fill-rule=\"evenodd\" fill-opacity=\"1\" stroke=\"#000000\" stroke-opacity=\"1\" stroke-width=\"5.12\"/>\n<path clip-path=\"url(#clip500)\" d=\"M1966.19 410.598 Q1966.19 405.899 1964.24 403.237 Q1962.32 400.552 1958.94 400.552 Q1955.56 400.552 1953.62 403.237 Q1951.7 405.899 1951.7 410.598 Q1951.7 415.297 1953.62 417.982 Q1955.56 420.644 1958.94 420.644 Q1962.32 420.644 1964.24 417.982 Q1966.19 415.297 1966.19 410.598 M1951.7 401.547 Q1953.04 399.232 1955.08 398.121 Q1957.14 396.987 1959.98 396.987 Q1964.71 396.987 1967.65 400.737 Q1970.61 404.487 1970.61 410.598 Q1970.61 416.709 1967.65 420.459 Q1964.71 424.209 1959.98 424.209 Q1957.14 424.209 1955.08 423.098 Q1953.04 421.963 1951.7 419.649 L1951.7 423.538 L1947.42 423.538 L1947.42 387.519 L1951.7 387.519 L1951.7 401.547 Z\" fill=\"#000000\" fill-rule=\"evenodd\" fill-opacity=\"1\" /><path clip-path=\"url(#clip500)\" d=\"M1977.23 413.306 L1977.23 397.612 L1981.49 397.612 L1981.49 413.144 Q1981.49 416.825 1982.92 418.676 Q1984.36 420.505 1987.23 420.505 Q1990.68 420.505 1992.67 418.306 Q1994.68 416.107 1994.68 412.311 L1994.68 397.612 L1998.94 397.612 L1998.94 423.538 L1994.68 423.538 L1994.68 419.556 Q1993.13 421.917 1991.07 423.075 Q1989.04 424.209 1986.33 424.209 Q1981.86 424.209 1979.54 421.431 Q1977.23 418.653 1977.23 413.306 M1987.95 396.987 L1987.95 396.987 Z\" fill=\"#000000\" fill-rule=\"evenodd\" fill-opacity=\"1\" /><path clip-path=\"url(#clip500)\" d=\"M2024.78 410.274 Q2024.78 405.644 2022.85 403.098 Q2020.96 400.552 2017.51 400.552 Q2014.08 400.552 2012.16 403.098 Q2010.26 405.644 2010.26 410.274 Q2010.26 414.88 2012.16 417.426 Q2014.08 419.973 2017.51 419.973 Q2020.96 419.973 2022.85 417.426 Q2024.78 414.88 2024.78 410.274 M2029.04 420.32 Q2029.04 426.94 2026.1 430.158 Q2023.16 433.399 2017.09 433.399 Q2014.85 433.399 2012.85 433.051 Q2010.86 432.727 2008.99 432.033 L2008.99 427.889 Q2010.86 428.908 2012.69 429.394 Q2014.52 429.88 2016.42 429.88 Q2020.61 429.88 2022.69 427.681 Q2024.78 425.505 2024.78 421.084 L2024.78 418.977 Q2023.46 421.269 2021.4 422.403 Q2019.34 423.538 2016.47 423.538 Q2011.7 423.538 2008.78 419.903 Q2005.86 416.269 2005.86 410.274 Q2005.86 404.255 2008.78 400.621 Q2011.7 396.987 2016.47 396.987 Q2019.34 396.987 2021.4 398.121 Q2023.46 399.255 2024.78 401.547 L2024.78 397.612 L2029.04 397.612 L2029.04 420.32 Z\" fill=\"#000000\" fill-rule=\"evenodd\" fill-opacity=\"1\" /><circle clip-path=\"url(#clip500)\" cx=\"1852.81\" cy=\"458.098\" r=\"23.04\" fill=\"#000000\" fill-rule=\"evenodd\" fill-opacity=\"1\" stroke=\"none\"/>\n<path clip-path=\"url(#clip500)\" d=\"M1947.42 449.452 L1951.67 449.452 L1951.67 475.378 L1947.42 475.378 L1947.42 449.452 M1947.42 439.359 L1951.67 439.359 L1951.67 444.753 L1947.42 444.753 L1947.42 439.359 Z\" fill=\"#000000\" fill-rule=\"evenodd\" fill-opacity=\"1\" /><path clip-path=\"url(#clip500)\" d=\"M1982.14 459.729 L1982.14 475.378 L1977.88 475.378 L1977.88 459.868 Q1977.88 456.188 1976.44 454.359 Q1975.01 452.53 1972.14 452.53 Q1968.69 452.53 1966.7 454.73 Q1964.71 456.929 1964.71 460.725 L1964.71 475.378 L1960.42 475.378 L1960.42 449.452 L1964.71 449.452 L1964.71 453.48 Q1966.23 451.142 1968.29 449.984 Q1970.38 448.827 1973.09 448.827 Q1977.55 448.827 1979.85 451.605 Q1982.14 454.359 1982.14 459.729 Z\" fill=\"#000000\" fill-rule=\"evenodd\" fill-opacity=\"1\" /><path clip-path=\"url(#clip500)\" d=\"M1987.58 449.452 L1992.09 449.452 L2000.19 471.211 L2008.29 449.452 L2012.81 449.452 L2003.09 475.378 L1997.3 475.378 L1987.58 449.452 Z\" fill=\"#000000\" fill-rule=\"evenodd\" fill-opacity=\"1\" /><path clip-path=\"url(#clip500)\" d=\"M2040.86 461.35 L2040.86 463.433 L2021.28 463.433 Q2021.56 467.831 2023.92 470.146 Q2026.3 472.438 2030.54 472.438 Q2032.99 472.438 2035.29 471.836 Q2037.6 471.234 2039.87 470.03 L2039.87 474.058 Q2037.58 475.03 2035.17 475.54 Q2032.76 476.049 2030.29 476.049 Q2024.08 476.049 2020.45 472.438 Q2016.84 468.827 2016.84 462.669 Q2016.84 456.304 2020.26 452.577 Q2023.71 448.827 2029.54 448.827 Q2034.78 448.827 2037.81 452.206 Q2040.86 455.563 2040.86 461.35 M2036.6 460.1 Q2036.56 456.605 2034.64 454.521 Q2032.74 452.438 2029.59 452.438 Q2026.03 452.438 2023.87 454.452 Q2021.74 456.466 2021.42 460.123 L2036.6 460.1 Z\" fill=\"#000000\" fill-rule=\"evenodd\" fill-opacity=\"1\" /><path clip-path=\"url(#clip500)\" d=\"M2062.88 453.433 Q2062.16 453.017 2061.3 452.831 Q2060.47 452.623 2059.45 452.623 Q2055.84 452.623 2053.9 454.984 Q2051.97 457.322 2051.97 461.72 L2051.97 475.378 L2047.69 475.378 L2047.69 449.452 L2051.97 449.452 L2051.97 453.48 Q2053.32 451.118 2055.47 449.984 Q2057.62 448.827 2060.7 448.827 Q2061.14 448.827 2061.67 448.896 Q2062.21 448.943 2062.85 449.058 L2062.88 453.433 Z\" fill=\"#000000\" fill-rule=\"evenodd\" fill-opacity=\"1\" /><path clip-path=\"url(#clip500)\" d=\"M2071.56 442.091 L2071.56 449.452 L2080.33 449.452 L2080.33 452.762 L2071.56 452.762 L2071.56 466.836 Q2071.56 470.007 2072.41 470.91 Q2073.29 471.813 2075.96 471.813 L2080.33 471.813 L2080.33 475.378 L2075.96 475.378 Q2071.03 475.378 2069.15 473.549 Q2067.28 471.697 2067.28 466.836 L2067.28 452.762 L2064.15 452.762 L2064.15 449.452 L2067.28 449.452 L2067.28 442.091 L2071.56 442.091 Z\" fill=\"#000000\" fill-rule=\"evenodd\" fill-opacity=\"1\" /><path clip-path=\"url(#clip500)\" d=\"M2108.11 461.35 L2108.11 463.433 L2088.53 463.433 Q2088.8 467.831 2091.16 470.146 Q2093.55 472.438 2097.78 472.438 Q2100.24 472.438 2102.53 471.836 Q2104.85 471.234 2107.11 470.03 L2107.11 474.058 Q2104.82 475.03 2102.41 475.54 Q2100.01 476.049 2097.53 476.049 Q2091.33 476.049 2087.69 472.438 Q2084.08 468.827 2084.08 462.669 Q2084.08 456.304 2087.51 452.577 Q2090.96 448.827 2096.79 448.827 Q2102.02 448.827 2105.05 452.206 Q2108.11 455.563 2108.11 461.35 M2103.85 460.1 Q2103.8 456.605 2101.88 454.521 Q2099.98 452.438 2096.84 452.438 Q2093.27 452.438 2091.12 454.452 Q2088.99 456.466 2088.66 460.123 L2103.85 460.1 Z\" fill=\"#000000\" fill-rule=\"evenodd\" fill-opacity=\"1\" /><path clip-path=\"url(#clip500)\" d=\"M2133.71 462.438 Q2133.71 457.739 2131.77 455.077 Q2129.84 452.392 2126.47 452.392 Q2123.09 452.392 2121.14 455.077 Q2119.22 457.739 2119.22 462.438 Q2119.22 467.137 2121.14 469.822 Q2123.09 472.484 2126.47 472.484 Q2129.84 472.484 2131.77 469.822 Q2133.71 467.137 2133.71 462.438 M2119.22 453.387 Q2120.56 451.072 2122.6 449.961 Q2124.66 448.827 2127.51 448.827 Q2132.23 448.827 2135.17 452.577 Q2138.13 456.327 2138.13 462.438 Q2138.13 468.549 2135.17 472.299 Q2132.23 476.049 2127.51 476.049 Q2124.66 476.049 2122.6 474.938 Q2120.56 473.803 2119.22 471.489 L2119.22 475.378 L2114.94 475.378 L2114.94 439.359 L2119.22 439.359 L2119.22 453.387 Z\" fill=\"#000000\" fill-rule=\"evenodd\" fill-opacity=\"1\" /><path clip-path=\"url(#clip500)\" d=\"M2160.22 453.433 Q2159.5 453.017 2158.64 452.831 Q2157.81 452.623 2156.79 452.623 Q2153.18 452.623 2151.23 454.984 Q2149.31 457.322 2149.31 461.72 L2149.31 475.378 L2145.03 475.378 L2145.03 449.452 L2149.31 449.452 L2149.31 453.48 Q2150.65 451.118 2152.81 449.984 Q2154.96 448.827 2158.04 448.827 Q2158.48 448.827 2159.01 448.896 Q2159.54 448.943 2160.19 449.058 L2160.22 453.433 Z\" fill=\"#000000\" fill-rule=\"evenodd\" fill-opacity=\"1\" /><path clip-path=\"url(#clip500)\" d=\"M2176.47 462.345 Q2171.3 462.345 2169.31 463.526 Q2167.32 464.706 2167.32 467.554 Q2167.32 469.822 2168.8 471.165 Q2170.31 472.484 2172.88 472.484 Q2176.42 472.484 2178.55 469.984 Q2180.7 467.461 2180.7 463.294 L2180.7 462.345 L2176.47 462.345 M2184.96 460.586 L2184.96 475.378 L2180.7 475.378 L2180.7 471.442 Q2179.24 473.803 2177.07 474.938 Q2174.89 476.049 2171.74 476.049 Q2167.76 476.049 2165.4 473.827 Q2163.06 471.581 2163.06 467.831 Q2163.06 463.456 2165.98 461.234 Q2168.92 459.012 2174.73 459.012 L2180.7 459.012 L2180.7 458.595 Q2180.7 455.655 2178.76 454.058 Q2176.84 452.438 2173.34 452.438 Q2171.12 452.438 2169.01 452.97 Q2166.9 453.503 2164.96 454.567 L2164.96 450.632 Q2167.3 449.73 2169.5 449.29 Q2171.7 448.827 2173.78 448.827 Q2179.4 448.827 2182.18 451.743 Q2184.96 454.66 2184.96 460.586 Z\" fill=\"#000000\" fill-rule=\"evenodd\" fill-opacity=\"1\" /><path clip-path=\"url(#clip500)\" d=\"M2197.95 442.091 L2197.95 449.452 L2206.72 449.452 L2206.72 452.762 L2197.95 452.762 L2197.95 466.836 Q2197.95 470.007 2198.8 470.91 Q2199.68 471.813 2202.34 471.813 L2206.72 471.813 L2206.72 475.378 L2202.34 475.378 Q2197.41 475.378 2195.54 473.549 Q2193.66 471.697 2193.66 466.836 L2193.66 452.762 L2190.54 452.762 L2190.54 449.452 L2193.66 449.452 L2193.66 442.091 L2197.95 442.091 Z\" fill=\"#000000\" fill-rule=\"evenodd\" fill-opacity=\"1\" /><path clip-path=\"url(#clip500)\" d=\"M2234.5 461.35 L2234.5 463.433 L2214.91 463.433 Q2215.19 467.831 2217.55 470.146 Q2219.94 472.438 2224.17 472.438 Q2226.63 472.438 2228.92 471.836 Q2231.23 471.234 2233.5 470.03 L2233.5 474.058 Q2231.21 475.03 2228.8 475.54 Q2226.4 476.049 2223.92 476.049 Q2217.71 476.049 2214.08 472.438 Q2210.47 468.827 2210.47 462.669 Q2210.47 456.304 2213.9 452.577 Q2217.34 448.827 2223.18 448.827 Q2228.41 448.827 2231.44 452.206 Q2234.5 455.563 2234.5 461.35 M2230.24 460.1 Q2230.19 456.605 2228.27 454.521 Q2226.37 452.438 2223.22 452.438 Q2219.66 452.438 2217.51 454.452 Q2215.38 456.466 2215.05 460.123 L2230.24 460.1 Z\" fill=\"#000000\" fill-rule=\"evenodd\" fill-opacity=\"1\" /></svg>\n"
     },
     "execution_count": 20,
     "metadata": {},
     "output_type": "execute_result"
    }
   ],
   "source": [
    "using Plots\n",
    "\n",
    "function plotter()\n",
    "    colors = [:green, :orange, :blue, :red, :yellow, :purple, :black]\n",
    "    labels = [\"mammal\", \"bird\", \"reptile\", \"fish\", \"amphibian\", \"bug\", \"invertebrate\"]\n",
    "    fig = Plots.plot()\n",
    "\n",
    "    for i in 1:7\n",
    "        scatter!(fig, projS[indices[i], 1], projS[indices[i], 2], mc = colors[i], label=labels[i])\n",
    "    end\n",
    "    return fig\n",
    "end\n",
    "\n",
    "plotter()\n"
   ]
  },
  {
   "cell_type": "markdown",
   "metadata": {},
   "source": [
    "Even though only roughly half of the variance in the data is explained by the two first principle components, we have obtained a nicely clustered scatter plot considering the simplicity of our data set. It makes much sense on how the animals are seperated. With an higher variety of features, we could also improve the distinction between reptiles and amphibian and that of between bugs and invertebrate."
   ]
  },
  {
   "cell_type": "code",
   "execution_count": 21,
   "metadata": {},
   "outputs": [
    {
     "name": "stderr",
     "output_type": "stream",
     "text": [
      "WARNING: using StatsBase.predict in module Main conflicts with an existing identifier.\n"
     ]
    },
    {
     "data": {
      "text/plain": [
       "0.9405940594059405"
      ]
     },
     "execution_count": 21,
     "metadata": {},
     "output_type": "execute_result"
    }
   ],
   "source": [
    "function predict(animal)\n",
    "    y = [hamming(mammal_hdv, animal), hamming(bird_hdv, animal), hamming(reptile_hdv, animal), hamming(fish_hdv, animal), hamming(amphibian_hdv, animal), hamming(bug_hdv, animal), hamming(invertebrate_hdv, animal)]\n",
    "    return findmin(y)[2]\n",
    "end\n",
    "\n",
    "using StatsBase\n",
    "pred = [predict(i) for i in data.species_hdv]\n",
    "mean(classls .== pred)"
   ]
  }
 ],
 "metadata": {
  "kernelspec": {
   "display_name": "Julia 1.7.3",
   "language": "julia",
   "name": "julia-1.7"
  },
  "language_info": {
   "file_extension": ".jl",
   "mimetype": "application/julia",
   "name": "julia",
   "version": "1.7.3"
  },
  "orig_nbformat": 4,
  "vscode": {
   "interpreter": {
    "hash": "916dbcbb3f70747c44a77c7bcd40155683ae19c65e1c03b4aa3499c5328201f1"
   }
  }
 },
 "nbformat": 4,
 "nbformat_minor": 2
}

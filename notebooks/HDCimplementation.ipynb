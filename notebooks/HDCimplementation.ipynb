{
 "cells": [
  {
   "cell_type": "markdown",
   "metadata": {},
   "source": [
    "This example shows the simplicity and strengths of HDC on a simple [toy dataset](https://www.kaggle.com/datasets/uciml/zoo-animal-classification). The data contains 101 different animals with each 17 features such as if they are airborne, their amount of legs etc. We will demonstrate the power of HDC by making a simple classifier for this dataset.\n",
    "\n",
    "Let us first define the aforementioned operations that we can do with HDVs."
   ]
  },
  {
   "cell_type": "code",
   "execution_count": 1,
   "metadata": {},
   "outputs": [
    {
     "data": {
      "text/plain": [
       "hamming"
      ]
     },
     "execution_count": 1,
     "metadata": {},
     "output_type": "execute_result"
    }
   ],
   "source": [
    "using Random\n",
    "\n",
    "\"\"\"\n",
    "Construct a binary vector. By default 10000 elements long.\n",
    "\"\"\"\n",
    "bitHDV(N::Int=10000) = bitrand(N)\n",
    "\n",
    "\n",
    "\"\"\"\n",
    "Bundles binary hyperdimensional vectors based on the element-wise majority rule.\n",
    "\"\"\"\n",
    "function bitadd(vectors::BitVector ...)\n",
    "    v = reduce(.+, vectors)\n",
    "    n = length(vectors) / 2\n",
    "    x = [i > n ? 1 : i < n ? 0 : rand(0:1) for i in v]\n",
    "    return convert(BitVector, x)\n",
    "end\n",
    "\n",
    "\n",
    "\"\"\"\n",
    "Binds binary hyperdimensional vectors based on an element-wise XOR gate.\n",
    "\"\"\"\n",
    "bitbind(vectors::BitVector ...) =  reduce(.⊻, vectors)\n",
    "\n",
    "\n",
    "\"\"\"\n",
    "Permutes a binary hyperdimensional vector by an adjustable circular shift.\n",
    "\"\"\"\n",
    "bitperm(vector::BitVector, k::Int=1) = circshift(vector, k)\n",
    "\n",
    "\n",
    "\"\"\"\n",
    "Calculates the Hamming distance between two binary vectors.\n",
    "\"\"\"\n",
    "hamming(x::BitVector, y::BitVector) = sum(x .!= y)/length(x)"
   ]
  },
  {
   "cell_type": "markdown",
   "metadata": {},
   "source": [
    "Here we see the dataset."
   ]
  },
  {
   "cell_type": "code",
   "execution_count": 2,
   "metadata": {},
   "outputs": [
    {
     "data": {
      "text/html": [
       "<div class=\"data-frame\"><p>101 rows × 18 columns (omitted printing of 9 columns)</p><table class=\"data-frame\"><thead><tr><th></th><th>animal_name</th><th>hair</th><th>feathers</th><th>eggs</th><th>milk</th><th>airborne</th><th>aquatic</th><th>predator</th><th>toothed</th></tr><tr><th></th><th title=\"String15\">String15</th><th title=\"Int64\">Int64</th><th title=\"Int64\">Int64</th><th title=\"Int64\">Int64</th><th title=\"Int64\">Int64</th><th title=\"Int64\">Int64</th><th title=\"Int64\">Int64</th><th title=\"Int64\">Int64</th><th title=\"Int64\">Int64</th></tr></thead><tbody><tr><th>1</th><td>aardvark</td><td>1</td><td>0</td><td>0</td><td>1</td><td>0</td><td>0</td><td>1</td><td>1</td></tr><tr><th>2</th><td>antelope</td><td>1</td><td>0</td><td>0</td><td>1</td><td>0</td><td>0</td><td>0</td><td>1</td></tr><tr><th>3</th><td>bass</td><td>0</td><td>0</td><td>1</td><td>0</td><td>0</td><td>1</td><td>1</td><td>1</td></tr><tr><th>4</th><td>bear</td><td>1</td><td>0</td><td>0</td><td>1</td><td>0</td><td>0</td><td>1</td><td>1</td></tr><tr><th>5</th><td>boar</td><td>1</td><td>0</td><td>0</td><td>1</td><td>0</td><td>0</td><td>1</td><td>1</td></tr><tr><th>6</th><td>buffalo</td><td>1</td><td>0</td><td>0</td><td>1</td><td>0</td><td>0</td><td>0</td><td>1</td></tr><tr><th>7</th><td>calf</td><td>1</td><td>0</td><td>0</td><td>1</td><td>0</td><td>0</td><td>0</td><td>1</td></tr><tr><th>8</th><td>carp</td><td>0</td><td>0</td><td>1</td><td>0</td><td>0</td><td>1</td><td>0</td><td>1</td></tr><tr><th>9</th><td>catfish</td><td>0</td><td>0</td><td>1</td><td>0</td><td>0</td><td>1</td><td>1</td><td>1</td></tr><tr><th>10</th><td>cavy</td><td>1</td><td>0</td><td>0</td><td>1</td><td>0</td><td>0</td><td>0</td><td>1</td></tr><tr><th>11</th><td>cheetah</td><td>1</td><td>0</td><td>0</td><td>1</td><td>0</td><td>0</td><td>1</td><td>1</td></tr><tr><th>12</th><td>chicken</td><td>0</td><td>1</td><td>1</td><td>0</td><td>1</td><td>0</td><td>0</td><td>0</td></tr><tr><th>13</th><td>chub</td><td>0</td><td>0</td><td>1</td><td>0</td><td>0</td><td>1</td><td>1</td><td>1</td></tr><tr><th>14</th><td>clam</td><td>0</td><td>0</td><td>1</td><td>0</td><td>0</td><td>0</td><td>1</td><td>0</td></tr><tr><th>15</th><td>crab</td><td>0</td><td>0</td><td>1</td><td>0</td><td>0</td><td>1</td><td>1</td><td>0</td></tr><tr><th>16</th><td>crayfish</td><td>0</td><td>0</td><td>1</td><td>0</td><td>0</td><td>1</td><td>1</td><td>0</td></tr><tr><th>17</th><td>crow</td><td>0</td><td>1</td><td>1</td><td>0</td><td>1</td><td>0</td><td>1</td><td>0</td></tr><tr><th>18</th><td>deer</td><td>1</td><td>0</td><td>0</td><td>1</td><td>0</td><td>0</td><td>0</td><td>1</td></tr><tr><th>19</th><td>dogfish</td><td>0</td><td>0</td><td>1</td><td>0</td><td>0</td><td>1</td><td>1</td><td>1</td></tr><tr><th>20</th><td>dolphin</td><td>0</td><td>0</td><td>0</td><td>1</td><td>0</td><td>1</td><td>1</td><td>1</td></tr><tr><th>21</th><td>dove</td><td>0</td><td>1</td><td>1</td><td>0</td><td>1</td><td>0</td><td>0</td><td>0</td></tr><tr><th>22</th><td>duck</td><td>0</td><td>1</td><td>1</td><td>0</td><td>1</td><td>1</td><td>0</td><td>0</td></tr><tr><th>23</th><td>elephant</td><td>1</td><td>0</td><td>0</td><td>1</td><td>0</td><td>0</td><td>0</td><td>1</td></tr><tr><th>24</th><td>flamingo</td><td>0</td><td>1</td><td>1</td><td>0</td><td>1</td><td>0</td><td>0</td><td>0</td></tr><tr><th>25</th><td>flea</td><td>0</td><td>0</td><td>1</td><td>0</td><td>0</td><td>0</td><td>0</td><td>0</td></tr><tr><th>26</th><td>frog</td><td>0</td><td>0</td><td>1</td><td>0</td><td>0</td><td>1</td><td>1</td><td>1</td></tr><tr><th>27</th><td>frog</td><td>0</td><td>0</td><td>1</td><td>0</td><td>0</td><td>1</td><td>1</td><td>1</td></tr><tr><th>28</th><td>fruitbat</td><td>1</td><td>0</td><td>0</td><td>1</td><td>1</td><td>0</td><td>0</td><td>1</td></tr><tr><th>29</th><td>giraffe</td><td>1</td><td>0</td><td>0</td><td>1</td><td>0</td><td>0</td><td>0</td><td>1</td></tr><tr><th>30</th><td>girl</td><td>1</td><td>0</td><td>0</td><td>1</td><td>0</td><td>0</td><td>1</td><td>1</td></tr><tr><th>&vellip;</th><td>&vellip;</td><td>&vellip;</td><td>&vellip;</td><td>&vellip;</td><td>&vellip;</td><td>&vellip;</td><td>&vellip;</td><td>&vellip;</td><td>&vellip;</td></tr></tbody></table></div>"
      ],
      "text/latex": [
       "\\begin{tabular}{r|cccccccccc}\n",
       "\t& animal\\_name & hair & feathers & eggs & milk & airborne & aquatic & predator & toothed & \\\\\n",
       "\t\\hline\n",
       "\t& String15 & Int64 & Int64 & Int64 & Int64 & Int64 & Int64 & Int64 & Int64 & \\\\\n",
       "\t\\hline\n",
       "\t1 & aardvark & 1 & 0 & 0 & 1 & 0 & 0 & 1 & 1 & $\\dots$ \\\\\n",
       "\t2 & antelope & 1 & 0 & 0 & 1 & 0 & 0 & 0 & 1 & $\\dots$ \\\\\n",
       "\t3 & bass & 0 & 0 & 1 & 0 & 0 & 1 & 1 & 1 & $\\dots$ \\\\\n",
       "\t4 & bear & 1 & 0 & 0 & 1 & 0 & 0 & 1 & 1 & $\\dots$ \\\\\n",
       "\t5 & boar & 1 & 0 & 0 & 1 & 0 & 0 & 1 & 1 & $\\dots$ \\\\\n",
       "\t6 & buffalo & 1 & 0 & 0 & 1 & 0 & 0 & 0 & 1 & $\\dots$ \\\\\n",
       "\t7 & calf & 1 & 0 & 0 & 1 & 0 & 0 & 0 & 1 & $\\dots$ \\\\\n",
       "\t8 & carp & 0 & 0 & 1 & 0 & 0 & 1 & 0 & 1 & $\\dots$ \\\\\n",
       "\t9 & catfish & 0 & 0 & 1 & 0 & 0 & 1 & 1 & 1 & $\\dots$ \\\\\n",
       "\t10 & cavy & 1 & 0 & 0 & 1 & 0 & 0 & 0 & 1 & $\\dots$ \\\\\n",
       "\t11 & cheetah & 1 & 0 & 0 & 1 & 0 & 0 & 1 & 1 & $\\dots$ \\\\\n",
       "\t12 & chicken & 0 & 1 & 1 & 0 & 1 & 0 & 0 & 0 & $\\dots$ \\\\\n",
       "\t13 & chub & 0 & 0 & 1 & 0 & 0 & 1 & 1 & 1 & $\\dots$ \\\\\n",
       "\t14 & clam & 0 & 0 & 1 & 0 & 0 & 0 & 1 & 0 & $\\dots$ \\\\\n",
       "\t15 & crab & 0 & 0 & 1 & 0 & 0 & 1 & 1 & 0 & $\\dots$ \\\\\n",
       "\t16 & crayfish & 0 & 0 & 1 & 0 & 0 & 1 & 1 & 0 & $\\dots$ \\\\\n",
       "\t17 & crow & 0 & 1 & 1 & 0 & 1 & 0 & 1 & 0 & $\\dots$ \\\\\n",
       "\t18 & deer & 1 & 0 & 0 & 1 & 0 & 0 & 0 & 1 & $\\dots$ \\\\\n",
       "\t19 & dogfish & 0 & 0 & 1 & 0 & 0 & 1 & 1 & 1 & $\\dots$ \\\\\n",
       "\t20 & dolphin & 0 & 0 & 0 & 1 & 0 & 1 & 1 & 1 & $\\dots$ \\\\\n",
       "\t21 & dove & 0 & 1 & 1 & 0 & 1 & 0 & 0 & 0 & $\\dots$ \\\\\n",
       "\t22 & duck & 0 & 1 & 1 & 0 & 1 & 1 & 0 & 0 & $\\dots$ \\\\\n",
       "\t23 & elephant & 1 & 0 & 0 & 1 & 0 & 0 & 0 & 1 & $\\dots$ \\\\\n",
       "\t24 & flamingo & 0 & 1 & 1 & 0 & 1 & 0 & 0 & 0 & $\\dots$ \\\\\n",
       "\t25 & flea & 0 & 0 & 1 & 0 & 0 & 0 & 0 & 0 & $\\dots$ \\\\\n",
       "\t26 & frog & 0 & 0 & 1 & 0 & 0 & 1 & 1 & 1 & $\\dots$ \\\\\n",
       "\t27 & frog & 0 & 0 & 1 & 0 & 0 & 1 & 1 & 1 & $\\dots$ \\\\\n",
       "\t28 & fruitbat & 1 & 0 & 0 & 1 & 1 & 0 & 0 & 1 & $\\dots$ \\\\\n",
       "\t29 & giraffe & 1 & 0 & 0 & 1 & 0 & 0 & 0 & 1 & $\\dots$ \\\\\n",
       "\t30 & girl & 1 & 0 & 0 & 1 & 0 & 0 & 1 & 1 & $\\dots$ \\\\\n",
       "\t$\\dots$ & $\\dots$ & $\\dots$ & $\\dots$ & $\\dots$ & $\\dots$ & $\\dots$ & $\\dots$ & $\\dots$ & $\\dots$ &  \\\\\n",
       "\\end{tabular}\n"
      ],
      "text/plain": [
       "\u001b[1m101×18 DataFrame\u001b[0m\n",
       "\u001b[1m Row \u001b[0m│\u001b[1m animal_name \u001b[0m\u001b[1m hair  \u001b[0m\u001b[1m feathers \u001b[0m\u001b[1m eggs  \u001b[0m\u001b[1m milk  \u001b[0m\u001b[1m airborne \u001b[0m\u001b[1m aquatic \u001b[0m\u001b[1m predator\u001b[0m ⋯\n",
       "\u001b[1m     \u001b[0m│\u001b[90m String15    \u001b[0m\u001b[90m Int64 \u001b[0m\u001b[90m Int64    \u001b[0m\u001b[90m Int64 \u001b[0m\u001b[90m Int64 \u001b[0m\u001b[90m Int64    \u001b[0m\u001b[90m Int64   \u001b[0m\u001b[90m Int64   \u001b[0m ⋯\n",
       "─────┼──────────────────────────────────────────────────────────────────────────\n",
       "   1 │ aardvark         1         0      0      1         0        0         1 ⋯\n",
       "   2 │ antelope         1         0      0      1         0        0         0\n",
       "   3 │ bass             0         0      1      0         0        1         1\n",
       "   4 │ bear             1         0      0      1         0        0         1\n",
       "   5 │ boar             1         0      0      1         0        0         1 ⋯\n",
       "   6 │ buffalo          1         0      0      1         0        0         0\n",
       "   7 │ calf             1         0      0      1         0        0         0\n",
       "   8 │ carp             0         0      1      0         0        1         0\n",
       "   9 │ catfish          0         0      1      0         0        1         1 ⋯\n",
       "  10 │ cavy             1         0      0      1         0        0         0\n",
       "  11 │ cheetah          1         0      0      1         0        0         1\n",
       "  ⋮  │      ⋮         ⋮       ⋮        ⋮      ⋮       ⋮         ⋮        ⋮     ⋱\n",
       "  92 │ tuatara          0         0      1      0         0        0         1\n",
       "  93 │ tuna             0         0      1      0         0        1         1 ⋯\n",
       "  94 │ vampire          1         0      0      1         1        0         0\n",
       "  95 │ vole             1         0      0      1         0        0         0\n",
       "  96 │ vulture          0         1      1      0         1        0         1\n",
       "  97 │ wallaby          1         0      0      1         0        0         0 ⋯\n",
       "  98 │ wasp             1         0      1      0         1        0         0\n",
       "  99 │ wolf             1         0      0      1         0        0         1\n",
       " 100 │ worm             0         0      1      0         0        0         0\n",
       " 101 │ wren             0         1      1      0         1        0         0 ⋯\n",
       "\u001b[36m                                                  10 columns and 80 rows omitted\u001b[0m"
      ]
     },
     "execution_count": 2,
     "metadata": {},
     "output_type": "execute_result"
    }
   ],
   "source": [
    "using DataFrames, CSV\n",
    "data = CSV.read(\"zoodata/zoo.csv\", DataFrame)"
   ]
  },
  {
   "cell_type": "markdown",
   "metadata": {},
   "source": [
    "Let us extract the class type of every animal. The class of an animal can be mammal, bird, reptile, fish, amphibian, bug or invertebrate."
   ]
  },
  {
   "cell_type": "code",
   "execution_count": 3,
   "metadata": {},
   "outputs": [
    {
     "data": {
      "text/plain": [
       "101-element Vector{Int64}:\n",
       " 1\n",
       " 1\n",
       " 4\n",
       " 1\n",
       " 1\n",
       " 1\n",
       " 1\n",
       " 4\n",
       " 4\n",
       " 1\n",
       " 1\n",
       " 2\n",
       " 4\n",
       " ⋮\n",
       " 5\n",
       " 3\n",
       " 3\n",
       " 4\n",
       " 1\n",
       " 1\n",
       " 2\n",
       " 1\n",
       " 6\n",
       " 1\n",
       " 7\n",
       " 2"
      ]
     },
     "execution_count": 3,
     "metadata": {},
     "output_type": "execute_result"
    }
   ],
   "source": [
    "classls = data.class_type"
   ]
  },
  {
   "cell_type": "markdown",
   "metadata": {},
   "source": [
    "Here we collect the index of every animal in the dataset and store them seperated by class type to easily retreive them later."
   ]
  },
  {
   "cell_type": "code",
   "execution_count": 4,
   "metadata": {},
   "outputs": [
    {
     "data": {
      "text/plain": [
       "7-element Vector{Vector{Int64}}:\n",
       " [1, 2, 4, 5, 6, 7, 10, 11, 18, 20  …  69, 70, 71, 75, 76, 85, 94, 95, 97, 99]\n",
       " [12, 17, 21, 22, 24, 34, 38, 42, 44, 57, 58, 59, 60, 72, 79, 80, 84, 88, 96, 101]\n",
       " [63, 77, 81, 91, 92]\n",
       " [3, 8, 9, 13, 19, 35, 39, 61, 62, 74, 83, 87, 93]\n",
       " [26, 27, 53, 90]\n",
       " [25, 31, 40, 41, 43, 52, 89, 98]\n",
       " [14, 15, 16, 47, 54, 73, 78, 82, 86, 100]"
      ]
     },
     "execution_count": 4,
     "metadata": {},
     "output_type": "execute_result"
    }
   ],
   "source": [
    "mammal_idx = [i for i in 1:101 if data.class_type[i] == 1]\n",
    "bird_idx = [i for i in 1:101 if data.class_type[i] == 2]\n",
    "reptile_idx = [i for i in 1:101 if data.class_type[i] == 3]\n",
    "fish_idx = [i for i in 1:101 if data.class_type[i] == 4]\n",
    "amphibian_idx = [i for i in 1:101 if data.class_type[i] == 5]\n",
    "bug_idx = [i for i in 1:101 if data.class_type[i] == 6]\n",
    "invertebrate_idx = [i for i in 1:101 if data.class_type[i] == 7]\n",
    "\n",
    "indices = [mammal_idx, bird_idx, reptile_idx, fish_idx, amphibian_idx, bug_idx, invertebrate_idx]"
   ]
  },
  {
   "cell_type": "markdown",
   "metadata": {},
   "source": [
    "Because every feature is binary except for the amount of legs, we will rearrange the dataset to be easily manipulated later on."
   ]
  },
  {
   "cell_type": "code",
   "execution_count": 5,
   "metadata": {},
   "outputs": [
    {
     "data": {
      "text/plain": [
       "101-element Vector{Int64}:\n",
       " 0\n",
       " 0\n",
       " 0\n",
       " 0\n",
       " 0\n",
       " 0\n",
       " 0\n",
       " 0\n",
       " 0\n",
       " 0\n",
       " 0\n",
       " 0\n",
       " 0\n",
       " ⋮\n",
       " 0\n",
       " 0\n",
       " 0\n",
       " 0\n",
       " 0\n",
       " 0\n",
       " 0\n",
       " 0\n",
       " 0\n",
       " 0\n",
       " 0\n",
       " 0"
      ]
     },
     "execution_count": 5,
     "metadata": {},
     "output_type": "execute_result"
    }
   ],
   "source": [
    "legs0 = [i == 0 ? 1 : 0 for i in data.legs]\n",
    "legs2 = [i == 2 ? 1 : 0 for i in data.legs]\n",
    "legs4 = [i == 4 ? 1 : 0 for i in data.legs]\n",
    "legs5 = [i == 5 ? 1 : 0 for i in data.legs]\n",
    "legs6 = [i == 6 ? 1 : 0 for i in data.legs]\n",
    "legs8 = [i == 8 ? 1 : 0 for i in data.legs]\n",
    "\n",
    "select!(data, Not(:class_type))\n",
    "select!(data, Not(:legs))\n",
    "\n",
    "data[!, :legs0] = legs0\n",
    "data[!, :legs2] = legs2\n",
    "data[!, :legs4] = legs4\n",
    "data[!, :legs5] = legs5\n",
    "data[!, :legs6] = legs6\n",
    "data[!, :legs8] = legs8"
   ]
  },
  {
   "cell_type": "markdown",
   "metadata": {},
   "source": [
    "Representing a range of numbers by hyperdimensional vectors is also simple. We construct a random hyperdimensional vector representing the lower bound of the interval. Next, we replace a fraction of the vector by random bits which must represent the number in the next step. This assures us in this case that having 2 legs is more similar to having 4 legs than 8 legs.\n",
    "\n",
    "We also create random hyperdimensional vectors for every other feature and throw them together in a list."
   ]
  },
  {
   "cell_type": "code",
   "execution_count": 6,
   "metadata": {},
   "outputs": [
    {
     "data": {
      "text/plain": [
       "21-element Vector{BitVector}:\n",
       " [1, 1, 0, 1, 1, 0, 1, 0, 1, 0  …  1, 0, 1, 1, 0, 1, 1, 0, 0, 0]\n",
       " [0, 0, 1, 1, 0, 0, 1, 1, 0, 0  …  0, 0, 1, 1, 1, 0, 0, 1, 1, 1]\n",
       " [1, 0, 1, 1, 0, 1, 1, 0, 1, 1  …  1, 0, 0, 0, 0, 1, 0, 1, 1, 0]\n",
       " [0, 1, 1, 1, 1, 0, 1, 1, 0, 0  …  1, 1, 1, 1, 0, 1, 1, 1, 0, 0]\n",
       " [1, 1, 1, 1, 0, 0, 0, 1, 1, 0  …  1, 1, 0, 1, 1, 1, 0, 0, 0, 0]\n",
       " [1, 1, 1, 0, 0, 1, 1, 1, 1, 0  …  1, 1, 1, 0, 0, 1, 0, 0, 1, 1]\n",
       " [0, 1, 0, 0, 0, 0, 1, 1, 0, 0  …  0, 1, 1, 0, 0, 1, 0, 1, 1, 0]\n",
       " [1, 0, 0, 0, 0, 1, 1, 0, 0, 1  …  0, 0, 1, 0, 0, 0, 0, 0, 0, 0]\n",
       " [1, 1, 1, 1, 1, 1, 0, 0, 0, 0  …  0, 1, 1, 1, 0, 1, 0, 0, 1, 1]\n",
       " [0, 0, 0, 1, 0, 0, 1, 1, 1, 0  …  0, 0, 1, 1, 1, 1, 0, 0, 0, 1]\n",
       " [1, 0, 1, 0, 0, 1, 1, 1, 1, 0  …  0, 1, 0, 0, 1, 0, 1, 1, 1, 1]\n",
       " [1, 1, 0, 1, 1, 0, 0, 0, 0, 0  …  1, 0, 0, 1, 1, 0, 0, 0, 1, 1]\n",
       " [1, 0, 0, 0, 1, 1, 1, 0, 1, 1  …  1, 0, 0, 0, 1, 0, 0, 0, 1, 0]\n",
       " [1, 0, 0, 0, 0, 1, 1, 1, 0, 0  …  1, 1, 0, 0, 0, 1, 0, 1, 1, 1]\n",
       " [0, 1, 1, 0, 1, 0, 0, 0, 0, 0  …  0, 0, 0, 1, 1, 0, 1, 0, 0, 1]\n",
       " [0, 0, 0, 0, 0, 1, 0, 0, 1, 0  …  0, 0, 0, 1, 1, 0, 1, 1, 0, 1]\n",
       " [1, 0, 1, 0, 1, 0, 0, 0, 0, 0  …  0, 1, 1, 0, 1, 0, 1, 0, 1, 0]\n",
       " [1, 1, 0, 0, 0, 0, 0, 1, 1, 0  …  0, 1, 0, 1, 1, 0, 0, 0, 1, 0]\n",
       " [0, 0, 1, 1, 0, 1, 1, 0, 0, 0  …  0, 1, 0, 1, 0, 1, 0, 0, 0, 1]\n",
       " [1, 0, 0, 0, 0, 1, 0, 1, 1, 0  …  1, 1, 1, 1, 0, 1, 0, 0, 1, 1]\n",
       " [0, 1, 0, 1, 0, 1, 1, 1, 0, 1  …  0, 0, 0, 0, 0, 1, 0, 0, 0, 1]"
      ]
     },
     "execution_count": 6,
     "metadata": {},
     "output_type": "execute_result"
    }
   ],
   "source": [
    "\"\"\"\n",
    "Creates a list of binary hyperdimensional vectors representing an interval of numbers by constructing a random HDV representing the lower bound of the interval and replacing a fraction of the vector with random bits.\n",
    "\"\"\"\n",
    "function range_hdvs(steps)\n",
    "\tk = length(steps) - 1\n",
    "\tV = [bitHDV() for i in 1:k+1]\n",
    "\tfor i in 2:k+1\n",
    "\t\tfor j in 1:10000\n",
    "\t\t\tV[i][j] = rand(0:1)\n",
    "\t\tend\n",
    "\tend\n",
    "\treturn V\n",
    "end\n",
    "legs_steps = 0:1:8\n",
    "legs_hdvs = range_hdvs(legs_steps)\n",
    "\n",
    "feature_hdv=[bitHDV() for i in 1:15]\n",
    "append!(feature_hdv, [legs_hdvs[1], legs_hdvs[3], legs_hdvs[5], legs_hdvs[6], legs_hdvs[7], legs_hdvs[9]])"
   ]
  },
  {
   "cell_type": "markdown",
   "metadata": {},
   "source": [
    "To demonstrate the binding of HDVs, we can encode the types of feature into our feature set. For example, the 'milk, and 'egg' feature gives us information about the growth of the animal, so we will bind these features to an other vector representing the growth feature to obtain a more expanded model. This is also done for the skin protection features and for all the features considering the limbs."
   ]
  },
  {
   "cell_type": "code",
   "execution_count": 7,
   "metadata": {},
   "outputs": [],
   "source": [
    "growth_hdv = bitHDV()\n",
    "skin_protection = bitHDV()\n",
    "limbs = bitHDV()\n",
    "\n",
    "for i in 1:2\n",
    "    feature_hdv = replace!(feature_hdv, feature_hdv[i] => bitbind(feature_hdv[i], skin_protection))\n",
    "end\n",
    "\n",
    "for i in 3:4\n",
    "    feature_hdv = replace!(feature_hdv, feature_hdv[i] => bitbind(feature_hdv[i], growth_hdv))\n",
    "end\n",
    "\n",
    "for i in 13;16:21\n",
    "    feature_hdv = replace!(feature_hdv, feature_hdv[i] => bitbind(feature_hdv[i], limbs))\n",
    "end"
   ]
  },
  {
   "cell_type": "markdown",
   "metadata": {},
   "source": [
    "Now we can bundle every feature for an animal to obtain a hyperdimensional vectors representing the animal."
   ]
  },
  {
   "cell_type": "code",
   "execution_count": 8,
   "metadata": {},
   "outputs": [
    {
     "data": {
      "text/plain": [
       "101-element Vector{BitVector}:\n",
       " [0, 1, 1, 0, 0, 0, 1, 1, 0, 0  …  0, 1, 1, 1, 1, 0, 0, 0, 0, 0]\n",
       " [1, 1, 1, 1, 0, 0, 1, 0, 0, 0  …  0, 0, 0, 1, 1, 0, 0, 0, 0, 1]\n",
       " [1, 1, 0, 0, 0, 0, 1, 0, 0, 0  …  0, 1, 0, 0, 1, 0, 0, 0, 1, 1]\n",
       " [1, 1, 0, 0, 0, 0, 1, 1, 0, 0  …  0, 0, 1, 1, 1, 0, 0, 0, 0, 0]\n",
       " [1, 1, 0, 0, 0, 0, 1, 1, 0, 0  …  0, 0, 1, 1, 1, 0, 0, 0, 0, 0]\n",
       " [1, 1, 0, 0, 0, 0, 1, 0, 0, 0  …  0, 0, 1, 1, 1, 0, 0, 0, 0, 0]\n",
       " [1, 0, 0, 0, 0, 0, 1, 1, 0, 0  …  0, 0, 0, 1, 1, 0, 0, 0, 0, 1]\n",
       " [1, 0, 0, 0, 0, 1, 1, 0, 0, 0  …  0, 0, 0, 0, 0, 1, 0, 0, 1, 1]\n",
       " [1, 1, 0, 0, 0, 1, 1, 0, 0, 0  …  0, 0, 1, 0, 1, 1, 0, 0, 1, 0]\n",
       " [1, 0, 0, 1, 0, 1, 1, 1, 0, 0  …  0, 1, 1, 1, 1, 0, 0, 0, 0, 1]\n",
       " [1, 1, 0, 0, 0, 0, 1, 1, 0, 0  …  0, 0, 1, 1, 1, 0, 0, 0, 0, 0]\n",
       " [1, 0, 0, 1, 1, 0, 1, 0, 0, 0  …  0, 1, 0, 1, 1, 1, 0, 0, 1, 0]\n",
       " [1, 0, 0, 0, 0, 0, 1, 0, 0, 0  …  0, 0, 1, 0, 0, 1, 0, 1, 1, 0]\n",
       " ⋮\n",
       " [1, 1, 0, 1, 0, 0, 1, 0, 1, 0  …  0, 1, 1, 0, 0, 1, 0, 0, 1, 0]\n",
       " [1, 0, 1, 1, 0, 0, 1, 0, 1, 0  …  0, 1, 0, 1, 1, 1, 0, 0, 0, 0]\n",
       " [1, 0, 0, 0, 0, 0, 1, 0, 0, 0  …  0, 1, 1, 0, 1, 1, 0, 0, 1, 0]\n",
       " [1, 1, 0, 0, 0, 0, 1, 0, 0, 0  …  0, 0, 0, 0, 1, 0, 0, 0, 1, 1]\n",
       " [1, 0, 1, 1, 0, 0, 1, 0, 0, 0  …  0, 0, 1, 1, 1, 0, 0, 0, 0, 0]\n",
       " [1, 0, 0, 1, 0, 0, 1, 1, 0, 0  …  0, 0, 1, 1, 1, 0, 0, 0, 0, 0]\n",
       " [1, 1, 1, 1, 1, 0, 1, 0, 0, 0  …  0, 1, 0, 1, 1, 1, 0, 0, 1, 0]\n",
       " [1, 0, 1, 0, 1, 0, 1, 0, 0, 0  …  0, 0, 1, 1, 1, 0, 0, 0, 0, 1]\n",
       " [1, 0, 1, 1, 0, 0, 1, 1, 1, 0  …  0, 1, 0, 1, 1, 0, 0, 1, 1, 1]\n",
       " [1, 1, 0, 0, 0, 0, 1, 1, 0, 0  …  0, 0, 1, 1, 1, 0, 0, 0, 0, 0]\n",
       " [0, 0, 0, 1, 0, 0, 1, 0, 1, 0  …  0, 0, 0, 1, 1, 0, 0, 1, 0, 1]\n",
       " [1, 0, 1, 1, 1, 0, 1, 0, 0, 0  …  0, 1, 0, 1, 1, 1, 0, 0, 1, 0]"
      ]
     },
     "execution_count": 8,
     "metadata": {},
     "output_type": "execute_result"
    }
   ],
   "source": [
    "hdv = BitVector[]\n",
    "for i in 1:101\n",
    "    v = BitVector[]\n",
    "    for j in 2:22\n",
    "        if data[!, j][i] == 1\n",
    "            push!(v, feature_hdv[j-1])\n",
    "        end\n",
    "    end\n",
    "    x = bitadd(v...)\n",
    "    push!(hdv, x)\n",
    "end\n",
    "\n",
    "data[!, :species_hdv] = hdv\n"
   ]
  },
  {
   "cell_type": "markdown",
   "metadata": {},
   "source": [
    "Let's bundle all animals of a class into a HDV representing the class."
   ]
  },
  {
   "cell_type": "code",
   "execution_count": 9,
   "metadata": {},
   "outputs": [
    {
     "data": {
      "text/plain": [
       "10000-element BitVector:\n",
       " 0\n",
       " 0\n",
       " 0\n",
       " 0\n",
       " 0\n",
       " 0\n",
       " 1\n",
       " 1\n",
       " 1\n",
       " 0\n",
       " 1\n",
       " 1\n",
       " 1\n",
       " ⋮\n",
       " 0\n",
       " 0\n",
       " 0\n",
       " 1\n",
       " 0\n",
       " 0\n",
       " 1\n",
       " 1\n",
       " 0\n",
       " 1\n",
       " 1\n",
       " 1"
      ]
     },
     "execution_count": 9,
     "metadata": {},
     "output_type": "execute_result"
    }
   ],
   "source": [
    "function grouper(group::Int)\n",
    "    v = BitVector[]\n",
    "    for i in 1:length(indices[group])\n",
    "        push!(v, data.species_hdv[indices[group][i]])\n",
    "    end\n",
    "    x = bitadd(v...)\n",
    "    return x\n",
    "end\n",
    "\n",
    "mammal_hdv = grouper(1)\n",
    "bird_hdv = grouper(2)\n",
    "reptile_hdv = grouper(3)\n",
    "fish_hdv = grouper(4)\n",
    "amphibian_hdv = grouper(5)\n",
    "bug_hdv = grouper(6)\n",
    "invertebrate_hdv = grouper(7)"
   ]
  },
  {
   "cell_type": "markdown",
   "metadata": {},
   "source": [
    "Here we construct one large matrix containing the HDV of every class. This will be needed later for an PCA analysis."
   ]
  },
  {
   "cell_type": "code",
   "execution_count": 10,
   "metadata": {},
   "outputs": [
    {
     "data": {
      "text/plain": [
       "7×10000 BitMatrix:\n",
       " 1  1  0  0  0  0  1  1  0  0  0  1  1  …  1  0  0  0  1  1  1  0  0  0  0  0\n",
       " 1  0  1  1  1  0  1  0  0  0  1  0  1     1  0  0  1  0  1  1  1  0  0  1  0\n",
       " 1  0  0  0  0  0  1  0  0  0  0  1  1     1  0  0  1  1  0  1  1  0  1  1  0\n",
       " 1  1  0  0  0  0  1  0  0  0  0  1  1     1  0  0  0  0  0  1  0  0  0  1  1\n",
       " 1  0  0  0  0  0  1  1  1  0  1  0  1     1  0  0  1  1  0  1  1  0  0  1  0\n",
       " 1  0  1  1  0  0  1  1  1  0  0  1  1  …  1  0  0  1  0  1  1  1  0  0  1  1\n",
       " 0  0  0  0  0  0  1  1  1  0  1  1  1     0  0  0  1  0  0  1  1  0  1  1  1"
      ]
     },
     "execution_count": 10,
     "metadata": {},
     "output_type": "execute_result"
    }
   ],
   "source": [
    "list_group_hdvs = [mammal_hdv, bird_hdv, reptile_hdv, fish_hdv, amphibian_hdv, bug_hdv, invertebrate_hdv]\n",
    "matrix_groups = permutedims(hcat(list_group_hdvs...))"
   ]
  },
  {
   "cell_type": "markdown",
   "metadata": {},
   "source": [
    "Let's compare the HDV of the flamingo to the HDVs of every animal class to see which class it resembles the most by calculating the Hamming between the HDV of flamingo and the class in question."
   ]
  },
  {
   "cell_type": "code",
   "execution_count": 11,
   "metadata": {},
   "outputs": [
    {
     "name": "stdout",
     "output_type": "stream",
     "text": [
      "mammal 0.3443\n",
      "bird 0.1286\n",
      "reptile 0.3209\n",
      "amphibian 0.3608\n",
      "bug 0.3471\n",
      "fish 0.3624\n",
      "invertebrate 0.4012\n"
     ]
    }
   ],
   "source": [
    "println(\"mammal \",string(hamming(data.species_hdv[24], mammal_hdv)))\n",
    "println(\"bird \",string(hamming(data.species_hdv[24], bird_hdv)))\n",
    "println(\"reptile \",string(hamming(data.species_hdv[24], reptile_hdv)))\n",
    "println(\"amphibian \",string(hamming(data.species_hdv[24], amphibian_hdv)))\n",
    "println(\"bug \",string(hamming(data.species_hdv[24], bug_hdv)))\n",
    "println(\"fish \",string(hamming(data.species_hdv[24], fish_hdv)))\n",
    "println(\"invertebrate \",string(hamming(data.species_hdv[24], invertebrate_hdv)))"
   ]
  },
  {
   "cell_type": "markdown",
   "metadata": {},
   "source": [
    "Like expected, the flamingo shows most similarity to the bird group! Let's try the animal vampire since I'm not sure what's ment by this..."
   ]
  },
  {
   "cell_type": "code",
   "execution_count": 12,
   "metadata": {},
   "outputs": [
    {
     "name": "stdout",
     "output_type": "stream",
     "text": [
      "Similarity to mammal = 0.248\n",
      "Similarity to bird =0.2859\n",
      "Similarity to reptile =0.3258\n",
      "Similarity to amphibian =0.3693\n",
      "Similarity to bug =0.3678\n",
      "Similarity to fish =0.3863\n",
      "Similarity to invertebrate =0.4745\n"
     ]
    }
   ],
   "source": [
    "println(\"Similarity to mammal = \",string(hamming(data.species_hdv[94], mammal_hdv)))\n",
    "println(\"Similarity to bird =\",string(hamming(data.species_hdv[94], bird_hdv)))\n",
    "println(\"Similarity to reptile =\",string(hamming(data.species_hdv[94], reptile_hdv)))\n",
    "println(\"Similarity to amphibian =\",string(hamming(data.species_hdv[94], amphibian_hdv)))\n",
    "println(\"Similarity to bug =\",string(hamming(data.species_hdv[94], bug_hdv)))\n",
    "println(\"Similarity to fish =\",string(hamming(data.species_hdv[94], fish_hdv)))\n",
    "println(\"Similarity to invertebrate =\",string(hamming(data.species_hdv[94], invertebrate_hdv)))"
   ]
  },
  {
   "cell_type": "markdown",
   "metadata": {},
   "source": [
    "Let's try to determine the class of an animal not present in the dataset, such as the axolotl. First we have to define the features of the axolotl."
   ]
  },
  {
   "cell_type": "code",
   "execution_count": 13,
   "metadata": {},
   "outputs": [
    {
     "data": {
      "text/plain": [
       "21-element Vector{Int64}:\n",
       " 0\n",
       " 0\n",
       " 1\n",
       " 0\n",
       " 0\n",
       " 1\n",
       " 0\n",
       " 1\n",
       " 1\n",
       " 1\n",
       " 0\n",
       " 0\n",
       " 1\n",
       " 0\n",
       " 0\n",
       " 0\n",
       " 0\n",
       " 1\n",
       " 0\n",
       " 0\n",
       " 0"
      ]
     },
     "execution_count": 13,
     "metadata": {},
     "output_type": "execute_result"
    }
   ],
   "source": [
    "axolotl_features = [0, 0, 1, 0, 0, 1, 0, 1, 1, 1, 0, 0, 1, 0, 0, 0, 0, 1, 0, 0, 0]"
   ]
  },
  {
   "cell_type": "markdown",
   "metadata": {},
   "source": [
    "Let's construct the total HDV representing the axolotl"
   ]
  },
  {
   "cell_type": "code",
   "execution_count": 14,
   "metadata": {},
   "outputs": [
    {
     "data": {
      "text/plain": [
       "10000-element BitVector:\n",
       " 1\n",
       " 0\n",
       " 1\n",
       " 1\n",
       " 0\n",
       " 0\n",
       " 1\n",
       " 0\n",
       " 1\n",
       " 0\n",
       " 0\n",
       " 0\n",
       " 0\n",
       " ⋮\n",
       " 1\n",
       " 0\n",
       " 0\n",
       " 0\n",
       " 1\n",
       " 0\n",
       " 1\n",
       " 1\n",
       " 0\n",
       " 0\n",
       " 0\n",
       " 1"
      ]
     },
     "execution_count": 14,
     "metadata": {},
     "output_type": "execute_result"
    }
   ],
   "source": [
    "v = BitVector[]\n",
    "    for j in 1:16\n",
    "        if axolotl_features[j] == 1\n",
    "            push!(v, feature_hdv[j])\n",
    "        end\n",
    "    end\n",
    "    axolotl_hdv = bitadd(v...)"
   ]
  },
  {
   "cell_type": "markdown",
   "metadata": {},
   "source": [
    "Let's find out what kind of aninal an axolotl is..."
   ]
  },
  {
   "cell_type": "code",
   "execution_count": 15,
   "metadata": {},
   "outputs": [
    {
     "name": "stdout",
     "output_type": "stream",
     "text": [
      "mammal 0.3181\n",
      "bird 0.279\n",
      "reptile 0.2281\n",
      "amphibian 0.228\n",
      "bug 0.3689\n",
      "fish 0.2532\n",
      "invertebrate 0.347\n"
     ]
    }
   ],
   "source": [
    "println(\"mammal \",string(hamming(axolotl_hdv, mammal_hdv)))\n",
    "println(\"bird \",string(hamming(axolotl_hdv, bird_hdv)))\n",
    "println(\"reptile \",string(hamming(axolotl_hdv, reptile_hdv)))\n",
    "println(\"amphibian \",string(hamming(axolotl_hdv, amphibian_hdv)))\n",
    "println(\"bug \",string(hamming(axolotl_hdv, bug_hdv)))\n",
    "println(\"fish \",string(hamming(axolotl_hdv, fish_hdv)))\n",
    "println(\"invertebrate \",string(hamming(axolotl_hdv, invertebrate_hdv)))"
   ]
  },
  {
   "cell_type": "markdown",
   "metadata": {},
   "source": [
    "It seems to have a lot of similarities to fish, reptiles and amphibians due to it's unusual features but we're pretty close to amphibian considering the simplicity of this classifier!"
   ]
  },
  {
   "cell_type": "markdown",
   "metadata": {},
   "source": [
    "Now we will show how the HDVs of every class are seperated via an PCA analysis."
   ]
  },
  {
   "cell_type": "code",
   "execution_count": 16,
   "metadata": {},
   "outputs": [
    {
     "data": {
      "text/plain": [
       "PCA(indim = 7, outdim = 2, principalratio = 0.5939246794913502)\n",
       "\n",
       "Pattern matrix (unstandardized loadings):\n",
       "───────────────────────\n",
       "        PC1         PC2\n",
       "───────────────────────\n",
       "1  0.316758  -0.137955\n",
       "2  0.319936   0.114089\n",
       "3  0.411493  -0.0997263\n",
       "4  0.339323  -0.176154\n",
       "5  0.385501  -0.0628441\n",
       "6  0.248466   0.383701\n",
       "7  0.323326   0.114116\n",
       "───────────────────────\n",
       "\n",
       "Importance of components:\n",
       "─────────────────────────────────────────────\n",
       "                                PC1       PC2\n",
       "─────────────────────────────────────────────\n",
       "SS Loadings (Eigenvalues)  0.802046  0.237222\n",
       "Variance explained         0.458356  0.135568\n",
       "Cumulative variance        0.458356  0.593925\n",
       "Proportion explained       0.771742  0.228258\n",
       "Cumulative proportion      0.771742  1.0\n",
       "─────────────────────────────────────────────"
      ]
     },
     "execution_count": 16,
     "metadata": {},
     "output_type": "execute_result"
    }
   ],
   "source": [
    "using MultivariateStats\n",
    "\n",
    "M = fit(PCA, matrix_groups ; maxoutdim=2)\n",
    "proj = projection(M)\n",
    "M"
   ]
  },
  {
   "cell_type": "code",
   "execution_count": 17,
   "metadata": {},
   "outputs": [
    {
     "data": {
      "image/svg+xml": "<?xml version=\"1.0\" encoding=\"utf-8\"?>\n<svg xmlns=\"http://www.w3.org/2000/svg\" xmlns:xlink=\"http://www.w3.org/1999/xlink\" width=\"600\" height=\"400\" viewBox=\"0 0 2400 1600\">\n<defs>\n  <clipPath id=\"clip440\">\n    <rect x=\"0\" y=\"0\" width=\"2400\" height=\"1600\"/>\n  </clipPath>\n</defs>\n<path clip-path=\"url(#clip440)\" d=\"\nM0 1600 L2400 1600 L2400 0 L0 0  Z\n  \" fill=\"#ffffff\" fill-rule=\"evenodd\" fill-opacity=\"1\"/>\n<defs>\n  <clipPath id=\"clip441\">\n    <rect x=\"480\" y=\"0\" width=\"1681\" height=\"1600\"/>\n  </clipPath>\n</defs>\n<path clip-path=\"url(#clip440)\" d=\"\nM223.103 1486.45 L2352.76 1486.45 L2352.76 47.2441 L223.103 47.2441  Z\n  \" fill=\"#ffffff\" fill-rule=\"evenodd\" fill-opacity=\"1\"/>\n<defs>\n  <clipPath id=\"clip442\">\n    <rect x=\"223\" y=\"47\" width=\"2131\" height=\"1440\"/>\n  </clipPath>\n</defs>\n<polyline clip-path=\"url(#clip442)\" style=\"stroke:#000000; stroke-linecap:round; stroke-linejoin:round; stroke-width:2; stroke-opacity:0.1; fill:none\" points=\"\n  387.956,1486.45 387.956,47.2441 \n  \"/>\n<polyline clip-path=\"url(#clip442)\" style=\"stroke:#000000; stroke-linecap:round; stroke-linejoin:round; stroke-width:2; stroke-opacity:0.1; fill:none\" points=\"\n  939.795,1486.45 939.795,47.2441 \n  \"/>\n<polyline clip-path=\"url(#clip442)\" style=\"stroke:#000000; stroke-linecap:round; stroke-linejoin:round; stroke-width:2; stroke-opacity:0.1; fill:none\" points=\"\n  1491.64,1486.45 1491.64,47.2441 \n  \"/>\n<polyline clip-path=\"url(#clip442)\" style=\"stroke:#000000; stroke-linecap:round; stroke-linejoin:round; stroke-width:2; stroke-opacity:0.1; fill:none\" points=\"\n  2043.48,1486.45 2043.48,47.2441 \n  \"/>\n<polyline clip-path=\"url(#clip440)\" style=\"stroke:#000000; stroke-linecap:round; stroke-linejoin:round; stroke-width:4; stroke-opacity:1; fill:none\" points=\"\n  223.103,1486.45 2352.76,1486.45 \n  \"/>\n<polyline clip-path=\"url(#clip440)\" style=\"stroke:#000000; stroke-linecap:round; stroke-linejoin:round; stroke-width:4; stroke-opacity:1; fill:none\" points=\"\n  387.956,1486.45 387.956,1467.55 \n  \"/>\n<polyline clip-path=\"url(#clip440)\" style=\"stroke:#000000; stroke-linecap:round; stroke-linejoin:round; stroke-width:4; stroke-opacity:1; fill:none\" points=\"\n  939.795,1486.45 939.795,1467.55 \n  \"/>\n<polyline clip-path=\"url(#clip440)\" style=\"stroke:#000000; stroke-linecap:round; stroke-linejoin:round; stroke-width:4; stroke-opacity:1; fill:none\" points=\"\n  1491.64,1486.45 1491.64,1467.55 \n  \"/>\n<polyline clip-path=\"url(#clip440)\" style=\"stroke:#000000; stroke-linecap:round; stroke-linejoin:round; stroke-width:4; stroke-opacity:1; fill:none\" points=\"\n  2043.48,1486.45 2043.48,1467.55 \n  \"/>\n<path clip-path=\"url(#clip440)\" d=\"M319.9 1532.02 L349.576 1532.02 L349.576 1535.95 L319.9 1535.95 L319.9 1532.02 Z\" fill=\"#000000\" fill-rule=\"evenodd\" fill-opacity=\"1\" /><path clip-path=\"url(#clip440)\" d=\"M369.669 1517.37 Q366.058 1517.37 364.229 1520.93 Q362.423 1524.47 362.423 1531.6 Q362.423 1538.71 364.229 1542.27 Q366.058 1545.82 369.669 1545.82 Q373.303 1545.82 375.108 1542.27 Q376.937 1538.71 376.937 1531.6 Q376.937 1524.47 375.108 1520.93 Q373.303 1517.37 369.669 1517.37 M369.669 1513.66 Q375.479 1513.66 378.534 1518.27 Q381.613 1522.85 381.613 1531.6 Q381.613 1540.33 378.534 1544.94 Q375.479 1549.52 369.669 1549.52 Q363.859 1549.52 360.78 1544.94 Q357.724 1540.33 357.724 1531.6 Q357.724 1522.85 360.78 1518.27 Q363.859 1513.66 369.669 1513.66 Z\" fill=\"#000000\" fill-rule=\"evenodd\" fill-opacity=\"1\" /><path clip-path=\"url(#clip440)\" d=\"M389.831 1542.97 L394.715 1542.97 L394.715 1548.85 L389.831 1548.85 L389.831 1542.97 Z\" fill=\"#000000\" fill-rule=\"evenodd\" fill-opacity=\"1\" /><path clip-path=\"url(#clip440)\" d=\"M417.747 1518.36 L405.942 1536.81 L417.747 1536.81 L417.747 1518.36 M416.52 1514.29 L422.4 1514.29 L422.4 1536.81 L427.33 1536.81 L427.33 1540.7 L422.4 1540.7 L422.4 1548.85 L417.747 1548.85 L417.747 1540.7 L402.145 1540.7 L402.145 1536.19 L416.52 1514.29 Z\" fill=\"#000000\" fill-rule=\"evenodd\" fill-opacity=\"1\" /><path clip-path=\"url(#clip440)\" d=\"M435.108 1514.29 L453.465 1514.29 L453.465 1518.22 L439.391 1518.22 L439.391 1526.7 Q440.409 1526.35 441.428 1526.19 Q442.446 1526 443.465 1526 Q449.252 1526 452.631 1529.17 Q456.011 1532.34 456.011 1537.76 Q456.011 1543.34 452.539 1546.44 Q449.066 1549.52 442.747 1549.52 Q440.571 1549.52 438.303 1549.15 Q436.057 1548.78 433.65 1548.04 L433.65 1543.34 Q435.733 1544.47 437.955 1545.03 Q440.178 1545.58 442.654 1545.58 Q446.659 1545.58 448.997 1543.48 Q451.335 1541.37 451.335 1537.76 Q451.335 1534.15 448.997 1532.04 Q446.659 1529.94 442.654 1529.94 Q440.779 1529.94 438.904 1530.35 Q437.053 1530.77 435.108 1531.65 L435.108 1514.29 Z\" fill=\"#000000\" fill-rule=\"evenodd\" fill-opacity=\"1\" /><path clip-path=\"url(#clip440)\" d=\"M871.243 1532.02 L900.918 1532.02 L900.918 1535.95 L871.243 1535.95 L871.243 1532.02 Z\" fill=\"#000000\" fill-rule=\"evenodd\" fill-opacity=\"1\" /><path clip-path=\"url(#clip440)\" d=\"M921.011 1517.37 Q917.4 1517.37 915.571 1520.93 Q913.765 1524.47 913.765 1531.6 Q913.765 1538.71 915.571 1542.27 Q917.4 1545.82 921.011 1545.82 Q924.645 1545.82 926.451 1542.27 Q928.279 1538.71 928.279 1531.6 Q928.279 1524.47 926.451 1520.93 Q924.645 1517.37 921.011 1517.37 M921.011 1513.66 Q926.821 1513.66 929.877 1518.27 Q932.955 1522.85 932.955 1531.6 Q932.955 1540.33 929.877 1544.94 Q926.821 1549.52 921.011 1549.52 Q915.201 1549.52 912.122 1544.94 Q909.066 1540.33 909.066 1531.6 Q909.066 1522.85 912.122 1518.27 Q915.201 1513.66 921.011 1513.66 Z\" fill=\"#000000\" fill-rule=\"evenodd\" fill-opacity=\"1\" /><path clip-path=\"url(#clip440)\" d=\"M941.173 1542.97 L946.057 1542.97 L946.057 1548.85 L941.173 1548.85 L941.173 1542.97 Z\" fill=\"#000000\" fill-rule=\"evenodd\" fill-opacity=\"1\" /><path clip-path=\"url(#clip440)\" d=\"M969.089 1518.36 L957.284 1536.81 L969.089 1536.81 L969.089 1518.36 M967.862 1514.29 L973.742 1514.29 L973.742 1536.81 L978.673 1536.81 L978.673 1540.7 L973.742 1540.7 L973.742 1548.85 L969.089 1548.85 L969.089 1540.7 L953.488 1540.7 L953.488 1536.19 L967.862 1514.29 Z\" fill=\"#000000\" fill-rule=\"evenodd\" fill-opacity=\"1\" /><path clip-path=\"url(#clip440)\" d=\"M996.404 1517.37 Q992.793 1517.37 990.964 1520.93 Q989.159 1524.47 989.159 1531.6 Q989.159 1538.71 990.964 1542.27 Q992.793 1545.82 996.404 1545.82 Q1000.04 1545.82 1001.84 1542.27 Q1003.67 1538.71 1003.67 1531.6 Q1003.67 1524.47 1001.84 1520.93 Q1000.04 1517.37 996.404 1517.37 M996.404 1513.66 Q1002.21 1513.66 1005.27 1518.27 Q1008.35 1522.85 1008.35 1531.6 Q1008.35 1540.33 1005.27 1544.94 Q1002.21 1549.52 996.404 1549.52 Q990.594 1549.52 987.515 1544.94 Q984.46 1540.33 984.46 1531.6 Q984.46 1522.85 987.515 1518.27 Q990.594 1513.66 996.404 1513.66 Z\" fill=\"#000000\" fill-rule=\"evenodd\" fill-opacity=\"1\" /><path clip-path=\"url(#clip440)\" d=\"M1423.58 1532.02 L1453.26 1532.02 L1453.26 1535.95 L1423.58 1535.95 L1423.58 1532.02 Z\" fill=\"#000000\" fill-rule=\"evenodd\" fill-opacity=\"1\" /><path clip-path=\"url(#clip440)\" d=\"M1473.35 1517.37 Q1469.74 1517.37 1467.91 1520.93 Q1466.1 1524.47 1466.1 1531.6 Q1466.1 1538.71 1467.91 1542.27 Q1469.74 1545.82 1473.35 1545.82 Q1476.98 1545.82 1478.79 1542.27 Q1480.62 1538.71 1480.62 1531.6 Q1480.62 1524.47 1478.79 1520.93 Q1476.98 1517.37 1473.35 1517.37 M1473.35 1513.66 Q1479.16 1513.66 1482.21 1518.27 Q1485.29 1522.85 1485.29 1531.6 Q1485.29 1540.33 1482.21 1544.94 Q1479.16 1549.52 1473.35 1549.52 Q1467.54 1549.52 1464.46 1544.94 Q1461.4 1540.33 1461.4 1531.6 Q1461.4 1522.85 1464.46 1518.27 Q1467.54 1513.66 1473.35 1513.66 Z\" fill=\"#000000\" fill-rule=\"evenodd\" fill-opacity=\"1\" /><path clip-path=\"url(#clip440)\" d=\"M1493.51 1542.97 L1498.39 1542.97 L1498.39 1548.85 L1493.51 1548.85 L1493.51 1542.97 Z\" fill=\"#000000\" fill-rule=\"evenodd\" fill-opacity=\"1\" /><path clip-path=\"url(#clip440)\" d=\"M1522.75 1530.21 Q1526.1 1530.93 1527.98 1533.2 Q1529.88 1535.47 1529.88 1538.8 Q1529.88 1543.92 1526.36 1546.72 Q1522.84 1549.52 1516.36 1549.52 Q1514.18 1549.52 1511.87 1549.08 Q1509.57 1548.66 1507.12 1547.81 L1507.12 1543.29 Q1509.07 1544.43 1511.38 1545.01 Q1513.7 1545.58 1516.22 1545.58 Q1520.62 1545.58 1522.91 1543.85 Q1525.22 1542.11 1525.22 1538.8 Q1525.22 1535.75 1523.07 1534.03 Q1520.94 1532.3 1517.12 1532.3 L1513.09 1532.3 L1513.09 1528.45 L1517.31 1528.45 Q1520.76 1528.45 1522.58 1527.09 Q1524.41 1525.7 1524.41 1523.11 Q1524.41 1520.45 1522.51 1519.03 Q1520.64 1517.6 1517.12 1517.6 Q1515.2 1517.6 1513 1518.01 Q1510.8 1518.43 1508.16 1519.31 L1508.16 1515.14 Q1510.82 1514.4 1513.14 1514.03 Q1515.48 1513.66 1517.54 1513.66 Q1522.86 1513.66 1525.96 1516.09 Q1529.07 1518.5 1529.07 1522.62 Q1529.07 1525.49 1527.42 1527.48 Q1525.78 1529.45 1522.75 1530.21 Z\" fill=\"#000000\" fill-rule=\"evenodd\" fill-opacity=\"1\" /><path clip-path=\"url(#clip440)\" d=\"M1538.79 1514.29 L1557.14 1514.29 L1557.14 1518.22 L1543.07 1518.22 L1543.07 1526.7 Q1544.09 1526.35 1545.11 1526.19 Q1546.13 1526 1547.14 1526 Q1552.93 1526 1556.31 1529.17 Q1559.69 1532.34 1559.69 1537.76 Q1559.69 1543.34 1556.22 1546.44 Q1552.75 1549.52 1546.43 1549.52 Q1544.25 1549.52 1541.98 1549.15 Q1539.74 1548.78 1537.33 1548.04 L1537.33 1543.34 Q1539.41 1544.47 1541.63 1545.03 Q1543.86 1545.58 1546.33 1545.58 Q1550.34 1545.58 1552.68 1543.48 Q1555.01 1541.37 1555.01 1537.76 Q1555.01 1534.15 1552.68 1532.04 Q1550.34 1529.94 1546.33 1529.94 Q1544.46 1529.94 1542.58 1530.35 Q1540.73 1530.77 1538.79 1531.65 L1538.79 1514.29 Z\" fill=\"#000000\" fill-rule=\"evenodd\" fill-opacity=\"1\" /><path clip-path=\"url(#clip440)\" d=\"M1974.92 1532.02 L2004.6 1532.02 L2004.6 1535.95 L1974.92 1535.95 L1974.92 1532.02 Z\" fill=\"#000000\" fill-rule=\"evenodd\" fill-opacity=\"1\" /><path clip-path=\"url(#clip440)\" d=\"M2024.69 1517.37 Q2021.08 1517.37 2019.25 1520.93 Q2017.45 1524.47 2017.45 1531.6 Q2017.45 1538.71 2019.25 1542.27 Q2021.08 1545.82 2024.69 1545.82 Q2028.32 1545.82 2030.13 1542.27 Q2031.96 1538.71 2031.96 1531.6 Q2031.96 1524.47 2030.13 1520.93 Q2028.32 1517.37 2024.69 1517.37 M2024.69 1513.66 Q2030.5 1513.66 2033.56 1518.27 Q2036.63 1522.85 2036.63 1531.6 Q2036.63 1540.33 2033.56 1544.94 Q2030.5 1549.52 2024.69 1549.52 Q2018.88 1549.52 2015.8 1544.94 Q2012.75 1540.33 2012.75 1531.6 Q2012.75 1522.85 2015.8 1518.27 Q2018.88 1513.66 2024.69 1513.66 Z\" fill=\"#000000\" fill-rule=\"evenodd\" fill-opacity=\"1\" /><path clip-path=\"url(#clip440)\" d=\"M2044.85 1542.97 L2049.74 1542.97 L2049.74 1548.85 L2044.85 1548.85 L2044.85 1542.97 Z\" fill=\"#000000\" fill-rule=\"evenodd\" fill-opacity=\"1\" /><path clip-path=\"url(#clip440)\" d=\"M2074.09 1530.21 Q2077.44 1530.93 2079.32 1533.2 Q2081.22 1535.47 2081.22 1538.8 Q2081.22 1543.92 2077.7 1546.72 Q2074.18 1549.52 2067.7 1549.52 Q2065.52 1549.52 2063.21 1549.08 Q2060.92 1548.66 2058.46 1547.81 L2058.46 1543.29 Q2060.41 1544.43 2062.72 1545.01 Q2065.04 1545.58 2067.56 1545.58 Q2071.96 1545.58 2074.25 1543.85 Q2076.57 1542.11 2076.57 1538.8 Q2076.57 1535.75 2074.41 1534.03 Q2072.28 1532.3 2068.46 1532.3 L2064.44 1532.3 L2064.44 1528.45 L2068.65 1528.45 Q2072.1 1528.45 2073.93 1527.09 Q2075.75 1525.7 2075.75 1523.11 Q2075.75 1520.45 2073.86 1519.03 Q2071.98 1517.6 2068.46 1517.6 Q2066.54 1517.6 2064.34 1518.01 Q2062.14 1518.43 2059.51 1519.31 L2059.51 1515.14 Q2062.17 1514.4 2064.48 1514.03 Q2066.82 1513.66 2068.88 1513.66 Q2074.2 1513.66 2077.31 1516.09 Q2080.41 1518.5 2080.41 1522.62 Q2080.41 1525.49 2078.76 1527.48 Q2077.12 1529.45 2074.09 1530.21 Z\" fill=\"#000000\" fill-rule=\"evenodd\" fill-opacity=\"1\" /><path clip-path=\"url(#clip440)\" d=\"M2100.08 1517.37 Q2096.47 1517.37 2094.64 1520.93 Q2092.84 1524.47 2092.84 1531.6 Q2092.84 1538.71 2094.64 1542.27 Q2096.47 1545.82 2100.08 1545.82 Q2103.72 1545.82 2105.52 1542.27 Q2107.35 1538.71 2107.35 1531.6 Q2107.35 1524.47 2105.52 1520.93 Q2103.72 1517.37 2100.08 1517.37 M2100.08 1513.66 Q2105.89 1513.66 2108.95 1518.27 Q2112.03 1522.85 2112.03 1531.6 Q2112.03 1540.33 2108.95 1544.94 Q2105.89 1549.52 2100.08 1549.52 Q2094.27 1549.52 2091.19 1544.94 Q2088.14 1540.33 2088.14 1531.6 Q2088.14 1522.85 2091.19 1518.27 Q2094.27 1513.66 2100.08 1513.66 Z\" fill=\"#000000\" fill-rule=\"evenodd\" fill-opacity=\"1\" /><polyline clip-path=\"url(#clip442)\" style=\"stroke:#000000; stroke-linecap:round; stroke-linejoin:round; stroke-width:2; stroke-opacity:0.1; fill:none\" points=\"\n  223.103,1313.81 2352.76,1313.81 \n  \"/>\n<polyline clip-path=\"url(#clip442)\" style=\"stroke:#000000; stroke-linecap:round; stroke-linejoin:round; stroke-width:2; stroke-opacity:0.1; fill:none\" points=\"\n  223.103,1018.51 2352.76,1018.51 \n  \"/>\n<polyline clip-path=\"url(#clip442)\" style=\"stroke:#000000; stroke-linecap:round; stroke-linejoin:round; stroke-width:2; stroke-opacity:0.1; fill:none\" points=\"\n  223.103,723.218 2352.76,723.218 \n  \"/>\n<polyline clip-path=\"url(#clip442)\" style=\"stroke:#000000; stroke-linecap:round; stroke-linejoin:round; stroke-width:2; stroke-opacity:0.1; fill:none\" points=\"\n  223.103,427.921 2352.76,427.921 \n  \"/>\n<polyline clip-path=\"url(#clip442)\" style=\"stroke:#000000; stroke-linecap:round; stroke-linejoin:round; stroke-width:2; stroke-opacity:0.1; fill:none\" points=\"\n  223.103,132.625 2352.76,132.625 \n  \"/>\n<polyline clip-path=\"url(#clip440)\" style=\"stroke:#000000; stroke-linecap:round; stroke-linejoin:round; stroke-width:4; stroke-opacity:1; fill:none\" points=\"\n  223.103,1486.45 223.103,47.2441 \n  \"/>\n<polyline clip-path=\"url(#clip440)\" style=\"stroke:#000000; stroke-linecap:round; stroke-linejoin:round; stroke-width:4; stroke-opacity:1; fill:none\" points=\"\n  223.103,1313.81 242,1313.81 \n  \"/>\n<polyline clip-path=\"url(#clip440)\" style=\"stroke:#000000; stroke-linecap:round; stroke-linejoin:round; stroke-width:4; stroke-opacity:1; fill:none\" points=\"\n  223.103,1018.51 242,1018.51 \n  \"/>\n<polyline clip-path=\"url(#clip440)\" style=\"stroke:#000000; stroke-linecap:round; stroke-linejoin:round; stroke-width:4; stroke-opacity:1; fill:none\" points=\"\n  223.103,723.218 242,723.218 \n  \"/>\n<polyline clip-path=\"url(#clip440)\" style=\"stroke:#000000; stroke-linecap:round; stroke-linejoin:round; stroke-width:4; stroke-opacity:1; fill:none\" points=\"\n  223.103,427.921 242,427.921 \n  \"/>\n<polyline clip-path=\"url(#clip440)\" style=\"stroke:#000000; stroke-linecap:round; stroke-linejoin:round; stroke-width:4; stroke-opacity:1; fill:none\" points=\"\n  223.103,132.625 242,132.625 \n  \"/>\n<path clip-path=\"url(#clip440)\" d=\"M50.9921 1314.26 L80.6679 1314.26 L80.6679 1318.2 L50.9921 1318.2 L50.9921 1314.26 Z\" fill=\"#000000\" fill-rule=\"evenodd\" fill-opacity=\"1\" /><path clip-path=\"url(#clip440)\" d=\"M100.76 1299.61 Q97.1493 1299.61 95.3206 1303.17 Q93.515 1306.72 93.515 1313.84 Q93.515 1320.95 95.3206 1324.52 Q97.1493 1328.06 100.76 1328.06 Q104.395 1328.06 106.2 1324.52 Q108.029 1320.95 108.029 1313.84 Q108.029 1306.72 106.2 1303.17 Q104.395 1299.61 100.76 1299.61 M100.76 1295.91 Q106.571 1295.91 109.626 1300.51 Q112.705 1305.09 112.705 1313.84 Q112.705 1322.57 109.626 1327.18 Q106.571 1331.76 100.76 1331.76 Q94.9502 1331.76 91.8715 1327.18 Q88.816 1322.57 88.816 1313.84 Q88.816 1305.09 91.8715 1300.51 Q94.9502 1295.91 100.76 1295.91 Z\" fill=\"#000000\" fill-rule=\"evenodd\" fill-opacity=\"1\" /><path clip-path=\"url(#clip440)\" d=\"M120.922 1325.21 L125.807 1325.21 L125.807 1331.09 L120.922 1331.09 L120.922 1325.21 Z\" fill=\"#000000\" fill-rule=\"evenodd\" fill-opacity=\"1\" /><path clip-path=\"url(#clip440)\" d=\"M140.019 1327.16 L156.339 1327.16 L156.339 1331.09 L134.394 1331.09 L134.394 1327.16 Q137.056 1324.4 141.64 1319.77 Q146.246 1315.12 147.427 1313.78 Q149.672 1311.25 150.552 1309.52 Q151.455 1307.76 151.455 1306.07 Q151.455 1303.31 149.51 1301.58 Q147.589 1299.84 144.487 1299.84 Q142.288 1299.84 139.834 1300.6 Q137.404 1301.37 134.626 1302.92 L134.626 1298.2 Q137.45 1297.06 139.904 1296.48 Q142.357 1295.91 144.394 1295.91 Q149.765 1295.91 152.959 1298.59 Q156.154 1301.28 156.154 1305.77 Q156.154 1307.9 155.343 1309.82 Q154.556 1311.72 152.45 1314.31 Q151.871 1314.98 148.769 1318.2 Q145.668 1321.39 140.019 1327.16 Z\" fill=\"#000000\" fill-rule=\"evenodd\" fill-opacity=\"1\" /><path clip-path=\"url(#clip440)\" d=\"M166.2 1296.53 L184.556 1296.53 L184.556 1300.47 L170.482 1300.47 L170.482 1308.94 Q171.501 1308.59 172.519 1308.43 Q173.538 1308.24 174.556 1308.24 Q180.343 1308.24 183.723 1311.41 Q187.103 1314.59 187.103 1320 Q187.103 1325.58 183.63 1328.68 Q180.158 1331.76 173.839 1331.76 Q171.663 1331.76 169.394 1331.39 Q167.149 1331.02 164.742 1330.28 L164.742 1325.58 Q166.825 1326.72 169.047 1327.27 Q171.269 1327.83 173.746 1327.83 Q177.751 1327.83 180.089 1325.72 Q182.427 1323.61 182.427 1320 Q182.427 1316.39 180.089 1314.28 Q177.751 1312.18 173.746 1312.18 Q171.871 1312.18 169.996 1312.59 Q168.144 1313.01 166.2 1313.89 L166.2 1296.53 Z\" fill=\"#000000\" fill-rule=\"evenodd\" fill-opacity=\"1\" /><path clip-path=\"url(#clip440)\" d=\"M99.765 1004.31 Q96.1539 1004.31 94.3252 1007.88 Q92.5197 1011.42 92.5197 1018.55 Q92.5197 1025.66 94.3252 1029.22 Q96.1539 1032.76 99.765 1032.76 Q103.399 1032.76 105.205 1029.22 Q107.033 1025.66 107.033 1018.55 Q107.033 1011.42 105.205 1007.88 Q103.399 1004.31 99.765 1004.31 M99.765 1000.61 Q105.575 1000.61 108.631 1005.22 Q111.709 1009.8 111.709 1018.55 Q111.709 1027.28 108.631 1031.88 Q105.575 1036.47 99.765 1036.47 Q93.9549 1036.47 90.8762 1031.88 Q87.8206 1027.28 87.8206 1018.55 Q87.8206 1009.8 90.8762 1005.22 Q93.9549 1000.61 99.765 1000.61 Z\" fill=\"#000000\" fill-rule=\"evenodd\" fill-opacity=\"1\" /><path clip-path=\"url(#clip440)\" d=\"M119.927 1029.91 L124.811 1029.91 L124.811 1035.79 L119.927 1035.79 L119.927 1029.91 Z\" fill=\"#000000\" fill-rule=\"evenodd\" fill-opacity=\"1\" /><path clip-path=\"url(#clip440)\" d=\"M144.996 1004.31 Q141.385 1004.31 139.556 1007.88 Q137.751 1011.42 137.751 1018.55 Q137.751 1025.66 139.556 1029.22 Q141.385 1032.76 144.996 1032.76 Q148.63 1032.76 150.436 1029.22 Q152.265 1025.66 152.265 1018.55 Q152.265 1011.42 150.436 1007.88 Q148.63 1004.31 144.996 1004.31 M144.996 1000.61 Q150.806 1000.61 153.862 1005.22 Q156.941 1009.8 156.941 1018.55 Q156.941 1027.28 153.862 1031.88 Q150.806 1036.47 144.996 1036.47 Q139.186 1036.47 136.107 1031.88 Q133.052 1027.28 133.052 1018.55 Q133.052 1009.8 136.107 1005.22 Q139.186 1000.61 144.996 1000.61 Z\" fill=\"#000000\" fill-rule=\"evenodd\" fill-opacity=\"1\" /><path clip-path=\"url(#clip440)\" d=\"M175.158 1004.31 Q171.547 1004.31 169.718 1007.88 Q167.913 1011.42 167.913 1018.55 Q167.913 1025.66 169.718 1029.22 Q171.547 1032.76 175.158 1032.76 Q178.792 1032.76 180.598 1029.22 Q182.427 1025.66 182.427 1018.55 Q182.427 1011.42 180.598 1007.88 Q178.792 1004.31 175.158 1004.31 M175.158 1000.61 Q180.968 1000.61 184.024 1005.22 Q187.103 1009.8 187.103 1018.55 Q187.103 1027.28 184.024 1031.88 Q180.968 1036.47 175.158 1036.47 Q169.348 1036.47 166.269 1031.88 Q163.214 1027.28 163.214 1018.55 Q163.214 1009.8 166.269 1005.22 Q169.348 1000.61 175.158 1000.61 Z\" fill=\"#000000\" fill-rule=\"evenodd\" fill-opacity=\"1\" /><path clip-path=\"url(#clip440)\" d=\"M100.76 709.016 Q97.1493 709.016 95.3206 712.581 Q93.515 716.123 93.515 723.252 Q93.515 730.359 95.3206 733.924 Q97.1493 737.465 100.76 737.465 Q104.395 737.465 106.2 733.924 Q108.029 730.359 108.029 723.252 Q108.029 716.123 106.2 712.581 Q104.395 709.016 100.76 709.016 M100.76 705.313 Q106.571 705.313 109.626 709.919 Q112.705 714.502 112.705 723.252 Q112.705 731.979 109.626 736.586 Q106.571 741.169 100.76 741.169 Q94.9502 741.169 91.8715 736.586 Q88.816 731.979 88.816 723.252 Q88.816 714.502 91.8715 709.919 Q94.9502 705.313 100.76 705.313 Z\" fill=\"#000000\" fill-rule=\"evenodd\" fill-opacity=\"1\" /><path clip-path=\"url(#clip440)\" d=\"M120.922 734.618 L125.807 734.618 L125.807 740.498 L120.922 740.498 L120.922 734.618 Z\" fill=\"#000000\" fill-rule=\"evenodd\" fill-opacity=\"1\" /><path clip-path=\"url(#clip440)\" d=\"M140.019 736.562 L156.339 736.562 L156.339 740.498 L134.394 740.498 L134.394 736.562 Q137.056 733.808 141.64 729.178 Q146.246 724.525 147.427 723.183 Q149.672 720.66 150.552 718.924 Q151.455 717.164 151.455 715.475 Q151.455 712.72 149.51 710.984 Q147.589 709.248 144.487 709.248 Q142.288 709.248 139.834 710.012 Q137.404 710.776 134.626 712.326 L134.626 707.604 Q137.45 706.47 139.904 705.891 Q142.357 705.313 144.394 705.313 Q149.765 705.313 152.959 707.998 Q156.154 710.683 156.154 715.174 Q156.154 717.303 155.343 719.225 Q154.556 721.123 152.45 723.715 Q151.871 724.387 148.769 727.604 Q145.668 730.799 140.019 736.562 Z\" fill=\"#000000\" fill-rule=\"evenodd\" fill-opacity=\"1\" /><path clip-path=\"url(#clip440)\" d=\"M166.2 705.938 L184.556 705.938 L184.556 709.873 L170.482 709.873 L170.482 718.345 Q171.501 717.998 172.519 717.836 Q173.538 717.65 174.556 717.65 Q180.343 717.65 183.723 720.822 Q187.103 723.993 187.103 729.41 Q187.103 734.988 183.63 738.09 Q180.158 741.169 173.839 741.169 Q171.663 741.169 169.394 740.799 Q167.149 740.428 164.742 739.687 L164.742 734.988 Q166.825 736.123 169.047 736.678 Q171.269 737.234 173.746 737.234 Q177.751 737.234 180.089 735.127 Q182.427 733.021 182.427 729.41 Q182.427 725.799 180.089 723.692 Q177.751 721.586 173.746 721.586 Q171.871 721.586 169.996 722.002 Q168.144 722.419 166.2 723.299 L166.2 705.938 Z\" fill=\"#000000\" fill-rule=\"evenodd\" fill-opacity=\"1\" /><path clip-path=\"url(#clip440)\" d=\"M99.765 413.72 Q96.1539 413.72 94.3252 417.285 Q92.5197 420.826 92.5197 427.956 Q92.5197 435.062 94.3252 438.627 Q96.1539 442.169 99.765 442.169 Q103.399 442.169 105.205 438.627 Q107.033 435.062 107.033 427.956 Q107.033 420.826 105.205 417.285 Q103.399 413.72 99.765 413.72 M99.765 410.016 Q105.575 410.016 108.631 414.623 Q111.709 419.206 111.709 427.956 Q111.709 436.683 108.631 441.289 Q105.575 445.873 99.765 445.873 Q93.9549 445.873 90.8762 441.289 Q87.8206 436.683 87.8206 427.956 Q87.8206 419.206 90.8762 414.623 Q93.9549 410.016 99.765 410.016 Z\" fill=\"#000000\" fill-rule=\"evenodd\" fill-opacity=\"1\" /><path clip-path=\"url(#clip440)\" d=\"M119.927 439.322 L124.811 439.322 L124.811 445.201 L119.927 445.201 L119.927 439.322 Z\" fill=\"#000000\" fill-rule=\"evenodd\" fill-opacity=\"1\" /><path clip-path=\"url(#clip440)\" d=\"M135.043 410.641 L153.399 410.641 L153.399 414.576 L139.325 414.576 L139.325 423.049 Q140.343 422.701 141.362 422.539 Q142.381 422.354 143.399 422.354 Q149.186 422.354 152.566 425.525 Q155.945 428.697 155.945 434.113 Q155.945 439.692 152.473 442.794 Q149.001 445.873 142.681 445.873 Q140.506 445.873 138.237 445.502 Q135.992 445.132 133.584 444.391 L133.584 439.692 Q135.668 440.826 137.89 441.382 Q140.112 441.937 142.589 441.937 Q146.593 441.937 148.931 439.831 Q151.269 437.724 151.269 434.113 Q151.269 430.502 148.931 428.396 Q146.593 426.289 142.589 426.289 Q140.714 426.289 138.839 426.706 Q136.987 427.123 135.043 428.002 L135.043 410.641 Z\" fill=\"#000000\" fill-rule=\"evenodd\" fill-opacity=\"1\" /><path clip-path=\"url(#clip440)\" d=\"M175.158 413.72 Q171.547 413.72 169.718 417.285 Q167.913 420.826 167.913 427.956 Q167.913 435.062 169.718 438.627 Q171.547 442.169 175.158 442.169 Q178.792 442.169 180.598 438.627 Q182.427 435.062 182.427 427.956 Q182.427 420.826 180.598 417.285 Q178.792 413.72 175.158 413.72 M175.158 410.016 Q180.968 410.016 184.024 414.623 Q187.103 419.206 187.103 427.956 Q187.103 436.683 184.024 441.289 Q180.968 445.873 175.158 445.873 Q169.348 445.873 166.269 441.289 Q163.214 436.683 163.214 427.956 Q163.214 419.206 166.269 414.623 Q169.348 410.016 175.158 410.016 Z\" fill=\"#000000\" fill-rule=\"evenodd\" fill-opacity=\"1\" /><path clip-path=\"url(#clip440)\" d=\"M100.76 118.424 Q97.1493 118.424 95.3206 121.988 Q93.515 125.53 93.515 132.66 Q93.515 139.766 95.3206 143.331 Q97.1493 146.873 100.76 146.873 Q104.395 146.873 106.2 143.331 Q108.029 139.766 108.029 132.66 Q108.029 125.53 106.2 121.988 Q104.395 118.424 100.76 118.424 M100.76 114.72 Q106.571 114.72 109.626 119.326 Q112.705 123.91 112.705 132.66 Q112.705 141.386 109.626 145.993 Q106.571 150.576 100.76 150.576 Q94.9502 150.576 91.8715 145.993 Q88.816 141.386 88.816 132.66 Q88.816 123.91 91.8715 119.326 Q94.9502 114.72 100.76 114.72 Z\" fill=\"#000000\" fill-rule=\"evenodd\" fill-opacity=\"1\" /><path clip-path=\"url(#clip440)\" d=\"M120.922 144.025 L125.807 144.025 L125.807 149.905 L120.922 149.905 L120.922 144.025 Z\" fill=\"#000000\" fill-rule=\"evenodd\" fill-opacity=\"1\" /><path clip-path=\"url(#clip440)\" d=\"M134.811 115.345 L157.033 115.345 L157.033 117.336 L144.487 149.905 L139.603 149.905 L151.408 119.28 L134.811 119.28 L134.811 115.345 Z\" fill=\"#000000\" fill-rule=\"evenodd\" fill-opacity=\"1\" /><path clip-path=\"url(#clip440)\" d=\"M166.2 115.345 L184.556 115.345 L184.556 119.28 L170.482 119.28 L170.482 127.752 Q171.501 127.405 172.519 127.243 Q173.538 127.058 174.556 127.058 Q180.343 127.058 183.723 130.229 Q187.103 133.4 187.103 138.817 Q187.103 144.396 183.63 147.498 Q180.158 150.576 173.839 150.576 Q171.663 150.576 169.394 150.206 Q167.149 149.836 164.742 149.095 L164.742 144.396 Q166.825 145.53 169.047 146.086 Q171.269 146.641 173.746 146.641 Q177.751 146.641 180.089 144.535 Q182.427 142.428 182.427 138.817 Q182.427 135.206 180.089 133.099 Q177.751 130.993 173.746 130.993 Q171.871 130.993 169.996 131.41 Q168.144 131.826 166.2 132.706 L166.2 115.345 Z\" fill=\"#000000\" fill-rule=\"evenodd\" fill-opacity=\"1\" /><circle clip-path=\"url(#clip442)\" cx=\"1450.87\" cy=\"1353.08\" r=\"14.4\" fill=\"#008000\" fill-rule=\"evenodd\" fill-opacity=\"1\" stroke=\"#000000\" stroke-opacity=\"1\" stroke-width=\"3.2\"/>\n<circle clip-path=\"url(#clip442)\" cx=\"1411.69\" cy=\"741.829\" r=\"14.4\" fill=\"#ffa500\" fill-rule=\"evenodd\" fill-opacity=\"1\" stroke=\"#000000\" stroke-opacity=\"1\" stroke-width=\"3.2\"/>\n<circle clip-path=\"url(#clip442)\" cx=\"283.376\" cy=\"1260.37\" r=\"14.4\" fill=\"#0000ff\" fill-rule=\"evenodd\" fill-opacity=\"1\" stroke=\"#000000\" stroke-opacity=\"1\" stroke-width=\"3.2\"/>\n<circle clip-path=\"url(#clip442)\" cx=\"1172.78\" cy=\"1445.72\" r=\"14.4\" fill=\"#ff0000\" fill-rule=\"evenodd\" fill-opacity=\"1\" stroke=\"#000000\" stroke-opacity=\"1\" stroke-width=\"3.2\"/>\n<circle clip-path=\"url(#clip442)\" cx=\"603.696\" cy=\"1170.92\" r=\"14.4\" fill=\"#ffff00\" fill-rule=\"evenodd\" fill-opacity=\"1\" stroke=\"#000000\" stroke-opacity=\"1\" stroke-width=\"3.2\"/>\n<circle clip-path=\"url(#clip442)\" cx=\"2292.48\" cy=\"87.9763\" r=\"14.4\" fill=\"#800080\" fill-rule=\"evenodd\" fill-opacity=\"1\" stroke=\"#000000\" stroke-opacity=\"1\" stroke-width=\"3.2\"/>\n<circle clip-path=\"url(#clip442)\" cx=\"1369.93\" cy=\"741.765\" r=\"14.4\" fill=\"#000000\" fill-rule=\"evenodd\" fill-opacity=\"1\" stroke=\"none\"/>\n<path clip-path=\"url(#clip440)\" d=\"\nM1758.06 509.938 L2281.77 509.938 L2281.77 95.2176 L1758.06 95.2176  Z\n  \" fill=\"#ffffff\" fill-rule=\"evenodd\" fill-opacity=\"1\"/>\n<polyline clip-path=\"url(#clip440)\" style=\"stroke:#000000; stroke-linecap:round; stroke-linejoin:round; stroke-width:4; stroke-opacity:1; fill:none\" points=\"\n  1758.06,509.938 2281.77,509.938 2281.77,95.2176 1758.06,95.2176 1758.06,509.938 \n  \"/>\n<circle clip-path=\"url(#clip440)\" cx=\"1852.71\" cy=\"147.058\" r=\"23.04\" fill=\"#008000\" fill-rule=\"evenodd\" fill-opacity=\"1\" stroke=\"#000000\" stroke-opacity=\"1\" stroke-width=\"5.12\"/>\n<path clip-path=\"url(#clip440)\" d=\"M1967.71 143.389 Q1969.3 140.518 1971.53 139.153 Q1973.75 137.787 1976.76 137.787 Q1980.81 137.787 1983.01 140.634 Q1985.21 143.458 1985.21 148.689 L1985.21 164.338 L1980.92 164.338 L1980.92 148.828 Q1980.92 145.102 1979.61 143.296 Q1978.29 141.49 1975.58 141.49 Q1972.27 141.49 1970.35 143.69 Q1968.42 145.889 1968.42 149.685 L1968.42 164.338 L1964.14 164.338 L1964.14 148.828 Q1964.14 145.078 1962.82 143.296 Q1961.5 141.49 1958.75 141.49 Q1955.48 141.49 1953.56 143.713 Q1951.64 145.912 1951.64 149.685 L1951.64 164.338 L1947.36 164.338 L1947.36 138.412 L1951.64 138.412 L1951.64 142.44 Q1953.1 140.055 1955.14 138.921 Q1957.17 137.787 1959.98 137.787 Q1962.8 137.787 1964.77 139.222 Q1966.76 140.657 1967.71 143.389 Z\" fill=\"#000000\" fill-rule=\"evenodd\" fill-opacity=\"1\" /><path clip-path=\"url(#clip440)\" d=\"M2005.48 151.305 Q2000.32 151.305 1998.33 152.486 Q1996.34 153.666 1996.34 156.514 Q1996.34 158.782 1997.82 160.125 Q1999.33 161.444 2001.9 161.444 Q2005.44 161.444 2007.57 158.944 Q2009.72 156.421 2009.72 152.254 L2009.72 151.305 L2005.48 151.305 M2013.98 149.546 L2013.98 164.338 L2009.72 164.338 L2009.72 160.402 Q2008.26 162.763 2006.09 163.898 Q2003.91 165.009 2000.76 165.009 Q1996.78 165.009 1994.42 162.787 Q1992.08 160.541 1992.08 156.791 Q1992.08 152.416 1995 150.194 Q1997.94 147.972 2003.75 147.972 L2009.72 147.972 L2009.72 147.555 Q2009.72 144.615 2007.78 143.018 Q2005.86 141.398 2002.36 141.398 Q2000.14 141.398 1998.03 141.93 Q1995.92 142.463 1993.98 143.527 L1993.98 139.592 Q1996.32 138.69 1998.52 138.25 Q2000.72 137.787 2002.8 137.787 Q2008.42 137.787 2011.2 140.703 Q2013.98 143.62 2013.98 149.546 Z\" fill=\"#000000\" fill-rule=\"evenodd\" fill-opacity=\"1\" /><path clip-path=\"url(#clip440)\" d=\"M2042.94 143.389 Q2044.54 140.518 2046.76 139.153 Q2048.98 137.787 2051.99 137.787 Q2056.04 137.787 2058.24 140.634 Q2060.44 143.458 2060.44 148.689 L2060.44 164.338 L2056.16 164.338 L2056.16 148.828 Q2056.16 145.102 2054.84 143.296 Q2053.52 141.49 2050.81 141.49 Q2047.5 141.49 2045.58 143.69 Q2043.66 145.889 2043.66 149.685 L2043.66 164.338 L2039.37 164.338 L2039.37 148.828 Q2039.37 145.078 2038.05 143.296 Q2036.73 141.49 2033.98 141.49 Q2030.72 141.49 2028.79 143.713 Q2026.87 145.912 2026.87 149.685 L2026.87 164.338 L2022.59 164.338 L2022.59 138.412 L2026.87 138.412 L2026.87 142.44 Q2028.33 140.055 2030.37 138.921 Q2032.41 137.787 2035.21 137.787 Q2038.03 137.787 2040 139.222 Q2041.99 140.657 2042.94 143.389 Z\" fill=\"#000000\" fill-rule=\"evenodd\" fill-opacity=\"1\" /><path clip-path=\"url(#clip440)\" d=\"M2089.12 143.389 Q2090.72 140.518 2092.94 139.153 Q2095.16 137.787 2098.17 137.787 Q2102.22 137.787 2104.42 140.634 Q2106.62 143.458 2106.62 148.689 L2106.62 164.338 L2102.34 164.338 L2102.34 148.828 Q2102.34 145.102 2101.02 143.296 Q2099.7 141.49 2096.99 141.49 Q2093.68 141.49 2091.76 143.69 Q2089.84 145.889 2089.84 149.685 L2089.84 164.338 L2085.55 164.338 L2085.55 148.828 Q2085.55 145.078 2084.23 143.296 Q2082.91 141.49 2080.16 141.49 Q2076.9 141.49 2074.98 143.713 Q2073.05 145.912 2073.05 149.685 L2073.05 164.338 L2068.77 164.338 L2068.77 138.412 L2073.05 138.412 L2073.05 142.44 Q2074.51 140.055 2076.55 138.921 Q2078.59 137.787 2081.39 137.787 Q2084.21 137.787 2086.18 139.222 Q2088.17 140.657 2089.12 143.389 Z\" fill=\"#000000\" fill-rule=\"evenodd\" fill-opacity=\"1\" /><path clip-path=\"url(#clip440)\" d=\"M2126.9 151.305 Q2121.73 151.305 2119.74 152.486 Q2117.75 153.666 2117.75 156.514 Q2117.75 158.782 2119.23 160.125 Q2120.74 161.444 2123.31 161.444 Q2126.85 161.444 2128.98 158.944 Q2131.13 156.421 2131.13 152.254 L2131.13 151.305 L2126.9 151.305 M2135.39 149.546 L2135.39 164.338 L2131.13 164.338 L2131.13 160.402 Q2129.67 162.763 2127.5 163.898 Q2125.32 165.009 2122.17 165.009 Q2118.19 165.009 2115.83 162.787 Q2113.49 160.541 2113.49 156.791 Q2113.49 152.416 2116.41 150.194 Q2119.35 147.972 2125.16 147.972 L2131.13 147.972 L2131.13 147.555 Q2131.13 144.615 2129.19 143.018 Q2127.27 141.398 2123.77 141.398 Q2121.55 141.398 2119.44 141.93 Q2117.34 142.463 2115.39 143.527 L2115.39 139.592 Q2117.73 138.69 2119.93 138.25 Q2122.13 137.787 2124.21 137.787 Q2129.84 137.787 2132.61 140.703 Q2135.39 143.62 2135.39 149.546 Z\" fill=\"#000000\" fill-rule=\"evenodd\" fill-opacity=\"1\" /><path clip-path=\"url(#clip440)\" d=\"M2144.16 128.319 L2148.42 128.319 L2148.42 164.338 L2144.16 164.338 L2144.16 128.319 Z\" fill=\"#000000\" fill-rule=\"evenodd\" fill-opacity=\"1\" /><circle clip-path=\"url(#clip440)\" cx=\"1852.71\" cy=\"198.898\" r=\"23.04\" fill=\"#ffa500\" fill-rule=\"evenodd\" fill-opacity=\"1\" stroke=\"#000000\" stroke-opacity=\"1\" stroke-width=\"5.12\"/>\n<path clip-path=\"url(#clip440)\" d=\"M1966.13 203.238 Q1966.13 198.539 1964.19 195.877 Q1962.27 193.192 1958.89 193.192 Q1955.51 193.192 1953.56 195.877 Q1951.64 198.539 1951.64 203.238 Q1951.64 207.937 1953.56 210.622 Q1955.51 213.284 1958.89 213.284 Q1962.27 213.284 1964.19 210.622 Q1966.13 207.937 1966.13 203.238 M1951.64 194.187 Q1952.99 191.872 1955.02 190.761 Q1957.08 189.627 1959.93 189.627 Q1964.65 189.627 1967.59 193.377 Q1970.55 197.127 1970.55 203.238 Q1970.55 209.349 1967.59 213.099 Q1964.65 216.849 1959.93 216.849 Q1957.08 216.849 1955.02 215.738 Q1952.99 214.603 1951.64 212.289 L1951.64 216.178 L1947.36 216.178 L1947.36 180.159 L1951.64 180.159 L1951.64 194.187 Z\" fill=\"#000000\" fill-rule=\"evenodd\" fill-opacity=\"1\" /><path clip-path=\"url(#clip440)\" d=\"M1977.61 190.252 L1981.87 190.252 L1981.87 216.178 L1977.61 216.178 L1977.61 190.252 M1977.61 180.159 L1981.87 180.159 L1981.87 185.553 L1977.61 185.553 L1977.61 180.159 Z\" fill=\"#000000\" fill-rule=\"evenodd\" fill-opacity=\"1\" /><path clip-path=\"url(#clip440)\" d=\"M2005.81 194.233 Q2005.09 193.817 2004.23 193.631 Q2003.4 193.423 2002.38 193.423 Q1998.77 193.423 1996.83 195.784 Q1994.91 198.122 1994.91 202.52 L1994.91 216.178 L1990.62 216.178 L1990.62 190.252 L1994.91 190.252 L1994.91 194.28 Q1996.25 191.918 1998.4 190.784 Q2000.55 189.627 2003.63 189.627 Q2004.07 189.627 2004.61 189.696 Q2005.14 189.743 2005.79 189.858 L2005.81 194.233 Z\" fill=\"#000000\" fill-rule=\"evenodd\" fill-opacity=\"1\" /><path clip-path=\"url(#clip440)\" d=\"M2026.5 194.187 L2026.5 180.159 L2030.76 180.159 L2030.76 216.178 L2026.5 216.178 L2026.5 212.289 Q2025.16 214.603 2023.1 215.738 Q2021.06 216.849 2018.19 216.849 Q2013.49 216.849 2010.53 213.099 Q2007.59 209.349 2007.59 203.238 Q2007.59 197.127 2010.53 193.377 Q2013.49 189.627 2018.19 189.627 Q2021.06 189.627 2023.1 190.761 Q2025.16 191.872 2026.5 194.187 M2011.99 203.238 Q2011.99 207.937 2013.91 210.622 Q2015.86 213.284 2019.23 213.284 Q2022.61 213.284 2024.56 210.622 Q2026.5 207.937 2026.5 203.238 Q2026.5 198.539 2024.56 195.877 Q2022.61 193.192 2019.23 193.192 Q2015.86 193.192 2013.91 195.877 Q2011.99 198.539 2011.99 203.238 Z\" fill=\"#000000\" fill-rule=\"evenodd\" fill-opacity=\"1\" /><circle clip-path=\"url(#clip440)\" cx=\"1852.71\" cy=\"250.738\" r=\"23.04\" fill=\"#0000ff\" fill-rule=\"evenodd\" fill-opacity=\"1\" stroke=\"#000000\" stroke-opacity=\"1\" stroke-width=\"5.12\"/>\n<path clip-path=\"url(#clip440)\" d=\"M1962.55 246.073 Q1961.83 245.657 1960.97 245.471 Q1960.14 245.263 1959.12 245.263 Q1955.51 245.263 1953.56 247.624 Q1951.64 249.962 1951.64 254.36 L1951.64 268.018 L1947.36 268.018 L1947.36 242.092 L1951.64 242.092 L1951.64 246.12 Q1952.99 243.758 1955.14 242.624 Q1957.29 241.467 1960.37 241.467 Q1960.81 241.467 1961.34 241.536 Q1961.87 241.583 1962.52 241.698 L1962.55 246.073 Z\" fill=\"#000000\" fill-rule=\"evenodd\" fill-opacity=\"1\" /><path clip-path=\"url(#clip440)\" d=\"M1988.15 253.99 L1988.15 256.073 L1968.56 256.073 Q1968.84 260.471 1971.2 262.786 Q1973.59 265.078 1977.82 265.078 Q1980.28 265.078 1982.57 264.476 Q1984.88 263.874 1987.15 262.67 L1987.15 266.698 Q1984.86 267.67 1982.45 268.18 Q1980.05 268.689 1977.57 268.689 Q1971.36 268.689 1967.73 265.078 Q1964.12 261.467 1964.12 255.309 Q1964.12 248.944 1967.55 245.217 Q1970.99 241.467 1976.83 241.467 Q1982.06 241.467 1985.09 244.846 Q1988.15 248.203 1988.15 253.99 M1983.89 252.74 Q1983.84 249.245 1981.92 247.161 Q1980.02 245.078 1976.87 245.078 Q1973.31 245.078 1971.16 247.092 Q1969.03 249.106 1968.7 252.763 L1983.89 252.74 Z\" fill=\"#000000\" fill-rule=\"evenodd\" fill-opacity=\"1\" /><path clip-path=\"url(#clip440)\" d=\"M1999.26 264.129 L1999.26 277.879 L1994.98 277.879 L1994.98 242.092 L1999.26 242.092 L1999.26 246.027 Q2000.6 243.712 2002.64 242.601 Q2004.7 241.467 2007.54 241.467 Q2012.27 241.467 2015.21 245.217 Q2018.17 248.967 2018.17 255.078 Q2018.17 261.189 2015.21 264.939 Q2012.27 268.689 2007.54 268.689 Q2004.7 268.689 2002.64 267.578 Q2000.6 266.443 1999.26 264.129 M2013.75 255.078 Q2013.75 250.379 2011.8 247.717 Q2009.88 245.032 2006.5 245.032 Q2003.12 245.032 2001.18 247.717 Q1999.26 250.379 1999.26 255.078 Q1999.26 259.777 2001.18 262.462 Q2003.12 265.124 2006.5 265.124 Q2009.88 265.124 2011.8 262.462 Q2013.75 259.777 2013.75 255.078 Z\" fill=\"#000000\" fill-rule=\"evenodd\" fill-opacity=\"1\" /><path clip-path=\"url(#clip440)\" d=\"M2029.44 234.731 L2029.44 242.092 L2038.22 242.092 L2038.22 245.402 L2029.44 245.402 L2029.44 259.476 Q2029.44 262.647 2030.3 263.55 Q2031.18 264.453 2033.84 264.453 L2038.22 264.453 L2038.22 268.018 L2033.84 268.018 Q2028.91 268.018 2027.04 266.189 Q2025.16 264.337 2025.16 259.476 L2025.16 245.402 L2022.04 245.402 L2022.04 242.092 L2025.16 242.092 L2025.16 234.731 L2029.44 234.731 Z\" fill=\"#000000\" fill-rule=\"evenodd\" fill-opacity=\"1\" /><path clip-path=\"url(#clip440)\" d=\"M2043.82 242.092 L2048.08 242.092 L2048.08 268.018 L2043.82 268.018 L2043.82 242.092 M2043.82 231.999 L2048.08 231.999 L2048.08 237.393 L2043.82 237.393 L2043.82 231.999 Z\" fill=\"#000000\" fill-rule=\"evenodd\" fill-opacity=\"1\" /><path clip-path=\"url(#clip440)\" d=\"M2056.99 231.999 L2061.25 231.999 L2061.25 268.018 L2056.99 268.018 L2056.99 231.999 Z\" fill=\"#000000\" fill-rule=\"evenodd\" fill-opacity=\"1\" /><path clip-path=\"url(#clip440)\" d=\"M2092.34 253.99 L2092.34 256.073 L2072.75 256.073 Q2073.03 260.471 2075.39 262.786 Q2077.78 265.078 2082.01 265.078 Q2084.47 265.078 2086.76 264.476 Q2089.07 263.874 2091.34 262.67 L2091.34 266.698 Q2089.05 267.67 2086.64 268.18 Q2084.23 268.689 2081.76 268.689 Q2075.55 268.689 2071.92 265.078 Q2068.31 261.467 2068.31 255.309 Q2068.31 248.944 2071.73 245.217 Q2075.18 241.467 2081.02 241.467 Q2086.25 241.467 2089.28 244.846 Q2092.34 248.203 2092.34 253.99 M2088.08 252.74 Q2088.03 249.245 2086.11 247.161 Q2084.21 245.078 2081.06 245.078 Q2077.5 245.078 2075.35 247.092 Q2073.22 249.106 2072.89 252.763 L2088.08 252.74 Z\" fill=\"#000000\" fill-rule=\"evenodd\" fill-opacity=\"1\" /><circle clip-path=\"url(#clip440)\" cx=\"1852.71\" cy=\"302.578\" r=\"23.04\" fill=\"#ff0000\" fill-rule=\"evenodd\" fill-opacity=\"1\" stroke=\"#000000\" stroke-opacity=\"1\" stroke-width=\"5.12\"/>\n<path clip-path=\"url(#clip440)\" d=\"M1963.86 283.839 L1963.86 287.381 L1959.79 287.381 Q1957.5 287.381 1956.6 288.307 Q1955.72 289.233 1955.72 291.64 L1955.72 293.932 L1962.73 293.932 L1962.73 297.242 L1955.72 297.242 L1955.72 319.858 L1951.43 319.858 L1951.43 297.242 L1947.36 297.242 L1947.36 293.932 L1951.43 293.932 L1951.43 292.126 Q1951.43 287.798 1953.45 285.83 Q1955.46 283.839 1959.84 283.839 L1963.86 283.839 Z\" fill=\"#000000\" fill-rule=\"evenodd\" fill-opacity=\"1\" /><path clip-path=\"url(#clip440)\" d=\"M1967.43 293.932 L1971.69 293.932 L1971.69 319.858 L1967.43 319.858 L1967.43 293.932 M1967.43 283.839 L1971.69 283.839 L1971.69 289.233 L1967.43 289.233 L1967.43 283.839 Z\" fill=\"#000000\" fill-rule=\"evenodd\" fill-opacity=\"1\" /><path clip-path=\"url(#clip440)\" d=\"M1997.13 294.696 L1997.13 298.723 Q1995.32 297.797 1993.38 297.335 Q1991.43 296.872 1989.35 296.872 Q1986.18 296.872 1984.58 297.844 Q1983.01 298.816 1983.01 300.76 Q1983.01 302.242 1984.14 303.098 Q1985.28 303.932 1988.7 304.696 L1990.16 305.02 Q1994.7 305.992 1996.6 307.774 Q1998.52 309.534 1998.52 312.705 Q1998.52 316.316 1995.65 318.422 Q1992.8 320.529 1987.8 320.529 Q1985.72 320.529 1983.45 320.112 Q1981.2 319.719 1978.7 318.908 L1978.7 314.51 Q1981.06 315.737 1983.36 316.362 Q1985.65 316.964 1987.89 316.964 Q1990.9 316.964 1992.52 315.946 Q1994.14 314.904 1994.14 313.029 Q1994.14 311.293 1992.96 310.367 Q1991.8 309.441 1987.85 308.584 L1986.36 308.237 Q1982.41 307.404 1980.65 305.691 Q1978.89 303.955 1978.89 300.946 Q1978.89 297.288 1981.48 295.298 Q1984.07 293.307 1988.84 293.307 Q1991.2 293.307 1993.29 293.654 Q1995.37 294.001 1997.13 294.696 Z\" fill=\"#000000\" fill-rule=\"evenodd\" fill-opacity=\"1\" /><path clip-path=\"url(#clip440)\" d=\"M2026.85 304.209 L2026.85 319.858 L2022.59 319.858 L2022.59 304.348 Q2022.59 300.668 2021.16 298.839 Q2019.72 297.01 2016.85 297.01 Q2013.4 297.01 2011.41 299.21 Q2009.42 301.409 2009.42 305.205 L2009.42 319.858 L2005.14 319.858 L2005.14 283.839 L2009.42 283.839 L2009.42 297.96 Q2010.95 295.622 2013.01 294.464 Q2015.09 293.307 2017.8 293.307 Q2022.27 293.307 2024.56 296.085 Q2026.85 298.839 2026.85 304.209 Z\" fill=\"#000000\" fill-rule=\"evenodd\" fill-opacity=\"1\" /><circle clip-path=\"url(#clip440)\" cx=\"1852.71\" cy=\"354.418\" r=\"23.04\" fill=\"#ffff00\" fill-rule=\"evenodd\" fill-opacity=\"1\" stroke=\"#000000\" stroke-opacity=\"1\" stroke-width=\"5.12\"/>\n<path clip-path=\"url(#clip440)\" d=\"M1960.76 358.665 Q1955.6 358.665 1953.61 359.846 Q1951.62 361.026 1951.62 363.874 Q1951.62 366.142 1953.1 367.485 Q1954.61 368.804 1957.17 368.804 Q1960.72 368.804 1962.85 366.304 Q1965 363.781 1965 359.614 L1965 358.665 L1960.76 358.665 M1969.26 356.906 L1969.26 371.698 L1965 371.698 L1965 367.762 Q1963.54 370.123 1961.36 371.258 Q1959.19 372.369 1956.04 372.369 Q1952.06 372.369 1949.7 370.147 Q1947.36 367.901 1947.36 364.151 Q1947.36 359.776 1950.28 357.554 Q1953.22 355.332 1959.03 355.332 L1965 355.332 L1965 354.915 Q1965 351.975 1963.05 350.378 Q1961.13 348.758 1957.64 348.758 Q1955.42 348.758 1953.31 349.29 Q1951.2 349.823 1949.26 350.887 L1949.26 346.952 Q1951.6 346.05 1953.8 345.61 Q1955.99 345.147 1958.08 345.147 Q1963.7 345.147 1966.48 348.063 Q1969.26 350.98 1969.26 356.906 Z\" fill=\"#000000\" fill-rule=\"evenodd\" fill-opacity=\"1\" /><path clip-path=\"url(#clip440)\" d=\"M1998.22 350.749 Q1999.81 347.878 2002.04 346.513 Q2004.26 345.147 2007.27 345.147 Q2011.32 345.147 2013.52 347.994 Q2015.72 350.818 2015.72 356.049 L2015.72 371.698 L2011.43 371.698 L2011.43 356.188 Q2011.43 352.462 2010.11 350.656 Q2008.79 348.85 2006.09 348.85 Q2002.78 348.85 2000.86 351.05 Q1998.93 353.249 1998.93 357.045 L1998.93 371.698 L1994.65 371.698 L1994.65 356.188 Q1994.65 352.438 1993.33 350.656 Q1992.01 348.85 1989.26 348.85 Q1985.99 348.85 1984.07 351.073 Q1982.15 353.272 1982.15 357.045 L1982.15 371.698 L1977.87 371.698 L1977.87 345.772 L1982.15 345.772 L1982.15 349.8 Q1983.61 347.415 1985.65 346.281 Q1987.68 345.147 1990.48 345.147 Q1993.31 345.147 1995.28 346.582 Q1997.27 348.017 1998.22 350.749 Z\" fill=\"#000000\" fill-rule=\"evenodd\" fill-opacity=\"1\" /><path clip-path=\"url(#clip440)\" d=\"M2028.33 367.809 L2028.33 381.559 L2024.05 381.559 L2024.05 345.772 L2028.33 345.772 L2028.33 349.707 Q2029.67 347.392 2031.71 346.281 Q2033.77 345.147 2036.62 345.147 Q2041.34 345.147 2044.28 348.897 Q2047.24 352.647 2047.24 358.758 Q2047.24 364.869 2044.28 368.619 Q2041.34 372.369 2036.62 372.369 Q2033.77 372.369 2031.71 371.258 Q2029.67 370.123 2028.33 367.809 M2042.82 358.758 Q2042.82 354.059 2040.88 351.397 Q2038.96 348.712 2035.58 348.712 Q2032.2 348.712 2030.25 351.397 Q2028.33 354.059 2028.33 358.758 Q2028.33 363.457 2030.25 366.142 Q2032.2 368.804 2035.58 368.804 Q2038.96 368.804 2040.88 366.142 Q2042.82 363.457 2042.82 358.758 Z\" fill=\"#000000\" fill-rule=\"evenodd\" fill-opacity=\"1\" /><path clip-path=\"url(#clip440)\" d=\"M2075.85 356.049 L2075.85 371.698 L2071.6 371.698 L2071.6 356.188 Q2071.6 352.508 2070.16 350.679 Q2068.73 348.85 2065.85 348.85 Q2062.41 348.85 2060.41 351.05 Q2058.42 353.249 2058.42 357.045 L2058.42 371.698 L2054.14 371.698 L2054.14 335.679 L2058.42 335.679 L2058.42 349.8 Q2059.95 347.462 2062.01 346.304 Q2064.1 345.147 2066.8 345.147 Q2071.27 345.147 2073.56 347.925 Q2075.85 350.679 2075.85 356.049 Z\" fill=\"#000000\" fill-rule=\"evenodd\" fill-opacity=\"1\" /><path clip-path=\"url(#clip440)\" d=\"M2084.35 345.772 L2088.61 345.772 L2088.61 371.698 L2084.35 371.698 L2084.35 345.772 M2084.35 335.679 L2088.61 335.679 L2088.61 341.073 L2084.35 341.073 L2084.35 335.679 Z\" fill=\"#000000\" fill-rule=\"evenodd\" fill-opacity=\"1\" /><path clip-path=\"url(#clip440)\" d=\"M2116.13 358.758 Q2116.13 354.059 2114.19 351.397 Q2112.27 348.712 2108.89 348.712 Q2105.51 348.712 2103.56 351.397 Q2101.64 354.059 2101.64 358.758 Q2101.64 363.457 2103.56 366.142 Q2105.51 368.804 2108.89 368.804 Q2112.27 368.804 2114.19 366.142 Q2116.13 363.457 2116.13 358.758 M2101.64 349.707 Q2102.98 347.392 2105.02 346.281 Q2107.08 345.147 2109.93 345.147 Q2114.65 345.147 2117.59 348.897 Q2120.55 352.647 2120.55 358.758 Q2120.55 364.869 2117.59 368.619 Q2114.65 372.369 2109.93 372.369 Q2107.08 372.369 2105.02 371.258 Q2102.98 370.123 2101.64 367.809 L2101.64 371.698 L2097.36 371.698 L2097.36 335.679 L2101.64 335.679 L2101.64 349.707 Z\" fill=\"#000000\" fill-rule=\"evenodd\" fill-opacity=\"1\" /><path clip-path=\"url(#clip440)\" d=\"M2127.61 345.772 L2131.87 345.772 L2131.87 371.698 L2127.61 371.698 L2127.61 345.772 M2127.61 335.679 L2131.87 335.679 L2131.87 341.073 L2127.61 341.073 L2127.61 335.679 Z\" fill=\"#000000\" fill-rule=\"evenodd\" fill-opacity=\"1\" /><path clip-path=\"url(#clip440)\" d=\"M2152.57 358.665 Q2147.41 358.665 2145.41 359.846 Q2143.42 361.026 2143.42 363.874 Q2143.42 366.142 2144.91 367.485 Q2146.41 368.804 2148.98 368.804 Q2152.52 368.804 2154.65 366.304 Q2156.8 363.781 2156.8 359.614 L2156.8 358.665 L2152.57 358.665 M2161.06 356.906 L2161.06 371.698 L2156.8 371.698 L2156.8 367.762 Q2155.35 370.123 2153.17 371.258 Q2150.99 372.369 2147.85 372.369 Q2143.86 372.369 2141.5 370.147 Q2139.16 367.901 2139.16 364.151 Q2139.16 359.776 2142.08 357.554 Q2145.02 355.332 2150.83 355.332 L2156.8 355.332 L2156.8 354.915 Q2156.8 351.975 2154.86 350.378 Q2152.94 348.758 2149.44 348.758 Q2147.22 348.758 2145.11 349.29 Q2143.01 349.823 2141.06 350.887 L2141.06 346.952 Q2143.4 346.05 2145.6 345.61 Q2147.8 345.147 2149.88 345.147 Q2155.51 345.147 2158.28 348.063 Q2161.06 350.98 2161.06 356.906 Z\" fill=\"#000000\" fill-rule=\"evenodd\" fill-opacity=\"1\" /><path clip-path=\"url(#clip440)\" d=\"M2191.39 356.049 L2191.39 371.698 L2187.13 371.698 L2187.13 356.188 Q2187.13 352.508 2185.69 350.679 Q2184.26 348.85 2181.39 348.85 Q2177.94 348.85 2175.95 351.05 Q2173.96 353.249 2173.96 357.045 L2173.96 371.698 L2169.67 371.698 L2169.67 345.772 L2173.96 345.772 L2173.96 349.8 Q2175.48 347.462 2177.54 346.304 Q2179.63 345.147 2182.34 345.147 Q2186.8 345.147 2189.09 347.925 Q2191.39 350.679 2191.39 356.049 Z\" fill=\"#000000\" fill-rule=\"evenodd\" fill-opacity=\"1\" /><circle clip-path=\"url(#clip440)\" cx=\"1852.71\" cy=\"406.258\" r=\"23.04\" fill=\"#800080\" fill-rule=\"evenodd\" fill-opacity=\"1\" stroke=\"#000000\" stroke-opacity=\"1\" stroke-width=\"5.12\"/>\n<path clip-path=\"url(#clip440)\" d=\"M1966.13 410.598 Q1966.13 405.899 1964.19 403.237 Q1962.27 400.552 1958.89 400.552 Q1955.51 400.552 1953.56 403.237 Q1951.64 405.899 1951.64 410.598 Q1951.64 415.297 1953.56 417.982 Q1955.51 420.644 1958.89 420.644 Q1962.27 420.644 1964.19 417.982 Q1966.13 415.297 1966.13 410.598 M1951.64 401.547 Q1952.99 399.232 1955.02 398.121 Q1957.08 396.987 1959.93 396.987 Q1964.65 396.987 1967.59 400.737 Q1970.55 404.487 1970.55 410.598 Q1970.55 416.709 1967.59 420.459 Q1964.65 424.209 1959.93 424.209 Q1957.08 424.209 1955.02 423.098 Q1952.99 421.963 1951.64 419.649 L1951.64 423.538 L1947.36 423.538 L1947.36 387.519 L1951.64 387.519 L1951.64 401.547 Z\" fill=\"#000000\" fill-rule=\"evenodd\" fill-opacity=\"1\" /><path clip-path=\"url(#clip440)\" d=\"M1977.17 413.306 L1977.17 397.612 L1981.43 397.612 L1981.43 413.144 Q1981.43 416.825 1982.87 418.676 Q1984.3 420.505 1987.17 420.505 Q1990.62 420.505 1992.61 418.306 Q1994.63 416.107 1994.63 412.311 L1994.63 397.612 L1998.89 397.612 L1998.89 423.538 L1994.63 423.538 L1994.63 419.556 Q1993.08 421.917 1991.02 423.075 Q1988.98 424.209 1986.27 424.209 Q1981.8 424.209 1979.49 421.431 Q1977.17 418.653 1977.17 413.306 M1987.89 396.987 L1987.89 396.987 Z\" fill=\"#000000\" fill-rule=\"evenodd\" fill-opacity=\"1\" /><path clip-path=\"url(#clip440)\" d=\"M2024.72 410.274 Q2024.72 405.644 2022.8 403.098 Q2020.9 400.552 2017.45 400.552 Q2014.03 400.552 2012.11 403.098 Q2010.21 405.644 2010.21 410.274 Q2010.21 414.88 2012.11 417.426 Q2014.03 419.973 2017.45 419.973 Q2020.9 419.973 2022.8 417.426 Q2024.72 414.88 2024.72 410.274 M2028.98 420.32 Q2028.98 426.94 2026.04 430.158 Q2023.1 433.399 2017.04 433.399 Q2014.79 433.399 2012.8 433.051 Q2010.81 432.727 2008.93 432.033 L2008.93 427.889 Q2010.81 428.908 2012.64 429.394 Q2014.47 429.88 2016.36 429.88 Q2020.55 429.88 2022.64 427.681 Q2024.72 425.505 2024.72 421.084 L2024.72 418.977 Q2023.4 421.269 2021.34 422.403 Q2019.28 423.538 2016.41 423.538 Q2011.64 423.538 2008.73 419.903 Q2005.81 416.269 2005.81 410.274 Q2005.81 404.255 2008.73 400.621 Q2011.64 396.987 2016.41 396.987 Q2019.28 396.987 2021.34 398.121 Q2023.4 399.255 2024.72 401.547 L2024.72 397.612 L2028.98 397.612 L2028.98 420.32 Z\" fill=\"#000000\" fill-rule=\"evenodd\" fill-opacity=\"1\" /><circle clip-path=\"url(#clip440)\" cx=\"1852.71\" cy=\"458.098\" r=\"23.04\" fill=\"#000000\" fill-rule=\"evenodd\" fill-opacity=\"1\" stroke=\"none\"/>\n<path clip-path=\"url(#clip440)\" d=\"M1947.36 449.452 L1951.62 449.452 L1951.62 475.378 L1947.36 475.378 L1947.36 449.452 M1947.36 439.359 L1951.62 439.359 L1951.62 444.753 L1947.36 444.753 L1947.36 439.359 Z\" fill=\"#000000\" fill-rule=\"evenodd\" fill-opacity=\"1\" /><path clip-path=\"url(#clip440)\" d=\"M1982.08 459.729 L1982.08 475.378 L1977.82 475.378 L1977.82 459.868 Q1977.82 456.188 1976.39 454.359 Q1974.95 452.53 1972.08 452.53 Q1968.63 452.53 1966.64 454.73 Q1964.65 456.929 1964.65 460.725 L1964.65 475.378 L1960.37 475.378 L1960.37 449.452 L1964.65 449.452 L1964.65 453.48 Q1966.18 451.142 1968.24 449.984 Q1970.32 448.827 1973.03 448.827 Q1977.5 448.827 1979.79 451.605 Q1982.08 454.359 1982.08 459.729 Z\" fill=\"#000000\" fill-rule=\"evenodd\" fill-opacity=\"1\" /><path clip-path=\"url(#clip440)\" d=\"M1987.52 449.452 L1992.04 449.452 L2000.14 471.211 L2008.24 449.452 L2012.75 449.452 L2003.03 475.378 L1997.24 475.378 L1987.52 449.452 Z\" fill=\"#000000\" fill-rule=\"evenodd\" fill-opacity=\"1\" /><path clip-path=\"url(#clip440)\" d=\"M2040.81 461.35 L2040.81 463.433 L2021.23 463.433 Q2021.5 467.831 2023.86 470.146 Q2026.25 472.438 2030.48 472.438 Q2032.94 472.438 2035.23 471.836 Q2037.54 471.234 2039.81 470.03 L2039.81 474.058 Q2037.52 475.03 2035.11 475.54 Q2032.71 476.049 2030.23 476.049 Q2024.03 476.049 2020.39 472.438 Q2016.78 468.827 2016.78 462.669 Q2016.78 456.304 2020.21 452.577 Q2023.66 448.827 2029.49 448.827 Q2034.72 448.827 2037.75 452.206 Q2040.81 455.563 2040.81 461.35 M2036.55 460.1 Q2036.5 456.605 2034.58 454.521 Q2032.68 452.438 2029.54 452.438 Q2025.97 452.438 2023.82 454.452 Q2021.69 456.466 2021.36 460.123 L2036.55 460.1 Z\" fill=\"#000000\" fill-rule=\"evenodd\" fill-opacity=\"1\" /><path clip-path=\"url(#clip440)\" d=\"M2062.82 453.433 Q2062.1 453.017 2061.25 452.831 Q2060.41 452.623 2059.4 452.623 Q2055.79 452.623 2053.84 454.984 Q2051.92 457.322 2051.92 461.72 L2051.92 475.378 L2047.64 475.378 L2047.64 449.452 L2051.92 449.452 L2051.92 453.48 Q2053.26 451.118 2055.42 449.984 Q2057.57 448.827 2060.65 448.827 Q2061.09 448.827 2061.62 448.896 Q2062.15 448.943 2062.8 449.058 L2062.82 453.433 Z\" fill=\"#000000\" fill-rule=\"evenodd\" fill-opacity=\"1\" /><path clip-path=\"url(#clip440)\" d=\"M2071.5 442.091 L2071.5 449.452 L2080.28 449.452 L2080.28 452.762 L2071.5 452.762 L2071.5 466.836 Q2071.5 470.007 2072.36 470.91 Q2073.24 471.813 2075.9 471.813 L2080.28 471.813 L2080.28 475.378 L2075.9 475.378 Q2070.97 475.378 2069.1 473.549 Q2067.22 471.697 2067.22 466.836 L2067.22 452.762 L2064.1 452.762 L2064.1 449.452 L2067.22 449.452 L2067.22 442.091 L2071.5 442.091 Z\" fill=\"#000000\" fill-rule=\"evenodd\" fill-opacity=\"1\" /><path clip-path=\"url(#clip440)\" d=\"M2108.05 461.35 L2108.05 463.433 L2088.47 463.433 Q2088.75 467.831 2091.11 470.146 Q2093.49 472.438 2097.73 472.438 Q2100.18 472.438 2102.47 471.836 Q2104.79 471.234 2107.06 470.03 L2107.06 474.058 Q2104.77 475.03 2102.36 475.54 Q2099.95 476.049 2097.47 476.049 Q2091.27 476.049 2087.64 472.438 Q2084.03 468.827 2084.03 462.669 Q2084.03 456.304 2087.45 452.577 Q2090.9 448.827 2096.73 448.827 Q2101.97 448.827 2105 452.206 Q2108.05 455.563 2108.05 461.35 M2103.79 460.1 Q2103.75 456.605 2101.83 454.521 Q2099.93 452.438 2096.78 452.438 Q2093.22 452.438 2091.06 454.452 Q2088.93 456.466 2088.61 460.123 L2103.79 460.1 Z\" fill=\"#000000\" fill-rule=\"evenodd\" fill-opacity=\"1\" /><path clip-path=\"url(#clip440)\" d=\"M2133.66 462.438 Q2133.66 457.739 2131.71 455.077 Q2129.79 452.392 2126.41 452.392 Q2123.03 452.392 2121.09 455.077 Q2119.16 457.739 2119.16 462.438 Q2119.16 467.137 2121.09 469.822 Q2123.03 472.484 2126.41 472.484 Q2129.79 472.484 2131.71 469.822 Q2133.66 467.137 2133.66 462.438 M2119.16 453.387 Q2120.51 451.072 2122.54 449.961 Q2124.6 448.827 2127.45 448.827 Q2132.17 448.827 2135.11 452.577 Q2138.08 456.327 2138.08 462.438 Q2138.08 468.549 2135.11 472.299 Q2132.17 476.049 2127.45 476.049 Q2124.6 476.049 2122.54 474.938 Q2120.51 473.803 2119.16 471.489 L2119.16 475.378 L2114.88 475.378 L2114.88 439.359 L2119.16 439.359 L2119.16 453.387 Z\" fill=\"#000000\" fill-rule=\"evenodd\" fill-opacity=\"1\" /><path clip-path=\"url(#clip440)\" d=\"M2160.16 453.433 Q2159.44 453.017 2158.59 452.831 Q2157.75 452.623 2156.73 452.623 Q2153.12 452.623 2151.18 454.984 Q2149.26 457.322 2149.26 461.72 L2149.26 475.378 L2144.97 475.378 L2144.97 449.452 L2149.26 449.452 L2149.26 453.48 Q2150.6 451.118 2152.75 449.984 Q2154.91 448.827 2157.98 448.827 Q2158.42 448.827 2158.96 448.896 Q2159.49 448.943 2160.14 449.058 L2160.16 453.433 Z\" fill=\"#000000\" fill-rule=\"evenodd\" fill-opacity=\"1\" /><path clip-path=\"url(#clip440)\" d=\"M2176.41 462.345 Q2171.25 462.345 2169.26 463.526 Q2167.27 464.706 2167.27 467.554 Q2167.27 469.822 2168.75 471.165 Q2170.25 472.484 2172.82 472.484 Q2176.36 472.484 2178.49 469.984 Q2180.65 467.461 2180.65 463.294 L2180.65 462.345 L2176.41 462.345 M2184.91 460.586 L2184.91 475.378 L2180.65 475.378 L2180.65 471.442 Q2179.19 473.803 2177.01 474.938 Q2174.84 476.049 2171.69 476.049 Q2167.71 476.049 2165.34 473.827 Q2163.01 471.581 2163.01 467.831 Q2163.01 463.456 2165.92 461.234 Q2168.86 459.012 2174.67 459.012 L2180.65 459.012 L2180.65 458.595 Q2180.65 455.655 2178.7 454.058 Q2176.78 452.438 2173.28 452.438 Q2171.06 452.438 2168.96 452.97 Q2166.85 453.503 2164.91 454.567 L2164.91 450.632 Q2167.24 449.73 2169.44 449.29 Q2171.64 448.827 2173.72 448.827 Q2179.35 448.827 2182.13 451.743 Q2184.91 454.66 2184.91 460.586 Z\" fill=\"#000000\" fill-rule=\"evenodd\" fill-opacity=\"1\" /><path clip-path=\"url(#clip440)\" d=\"M2197.89 442.091 L2197.89 449.452 L2206.66 449.452 L2206.66 452.762 L2197.89 452.762 L2197.89 466.836 Q2197.89 470.007 2198.75 470.91 Q2199.63 471.813 2202.29 471.813 L2206.66 471.813 L2206.66 475.378 L2202.29 475.378 Q2197.36 475.378 2195.48 473.549 Q2193.61 471.697 2193.61 466.836 L2193.61 452.762 L2190.48 452.762 L2190.48 449.452 L2193.61 449.452 L2193.61 442.091 L2197.89 442.091 Z\" fill=\"#000000\" fill-rule=\"evenodd\" fill-opacity=\"1\" /><path clip-path=\"url(#clip440)\" d=\"M2234.44 461.35 L2234.44 463.433 L2214.86 463.433 Q2215.14 467.831 2217.5 470.146 Q2219.88 472.438 2224.12 472.438 Q2226.57 472.438 2228.86 471.836 Q2231.18 471.234 2233.45 470.03 L2233.45 474.058 Q2231.15 475.03 2228.75 475.54 Q2226.34 476.049 2223.86 476.049 Q2217.66 476.049 2214.03 472.438 Q2210.41 468.827 2210.41 462.669 Q2210.41 456.304 2213.84 452.577 Q2217.29 448.827 2223.12 448.827 Q2228.35 448.827 2231.39 452.206 Q2234.44 455.563 2234.44 461.35 M2230.18 460.1 Q2230.14 456.605 2228.22 454.521 Q2226.32 452.438 2223.17 452.438 Q2219.6 452.438 2217.45 454.452 Q2215.32 456.466 2215 460.123 L2230.18 460.1 Z\" fill=\"#000000\" fill-rule=\"evenodd\" fill-opacity=\"1\" /></svg>\n"
     },
     "execution_count": 17,
     "metadata": {},
     "output_type": "execute_result"
    }
   ],
   "source": [
    "using Plots\n",
    "\n",
    "function plotter()\n",
    "    colors = [:green, :orange, :blue, :red, :yellow, :purple, :black]\n",
    "    labels = [\"mammal\", \"bird\", \"reptile\", \"fish\", \"amphibian\", \"bug\", \"invertebrate\"]\n",
    "    fig = Plots.plot()\n",
    "\n",
    "    for i in 1:7\n",
    "        scatter!(fig, (proj[i, 1], proj[i, 2]), label=labels[i], mc = colors[i])\n",
    "    end\n",
    "    return fig\n",
    "end\n",
    "\n",
    "plotter()"
   ]
  },
  {
   "cell_type": "markdown",
   "metadata": {},
   "source": [
    "This doesn't seem to make much sense at first. Mammals are apparently very similar to fish and birds to invertebrate. On top of that, only roughly 60 % of the variance in the data is explained by the two first principle components. Although it makes sense that reptiles and amphibians are relatively similar from an evolutionary standpoint. It is very likely however that this plot would look much better after implementing a higher variety of features into the data."
   ]
  },
  {
   "cell_type": "markdown",
   "metadata": {},
   "source": [
    "Now we will do an PCA analysis considering every animal seperately."
   ]
  },
  {
   "cell_type": "code",
   "execution_count": 18,
   "metadata": {},
   "outputs": [
    {
     "data": {
      "text/plain": [
       "PCA(indim = 101, outdim = 2, principalratio = 0.4986661864105027)\n",
       "\n",
       "Pattern matrix (unstandardized loadings):\n",
       "──────────────────────────\n",
       "          PC1          PC2\n",
       "──────────────────────────\n",
       "1    0.334524  -0.188874\n",
       "2    0.354106  -0.199807\n",
       "3    0.272936   0.160797\n",
       "4    0.3306    -0.184847\n",
       "5    0.414769  -0.222574\n",
       "6    0.354912  -0.197792\n",
       "7    0.371457  -0.215149\n",
       "8    0.239544   0.139385\n",
       "9    0.273677   0.164692\n",
       "10   0.302305  -0.189634\n",
       "11   0.414769  -0.222574\n",
       "12   0.262178   0.193087\n",
       "13   0.270721   0.169005\n",
       "14   0.156904   0.199037\n",
       "15   0.164722   0.117277\n",
       "16   0.133293   0.177757\n",
       "17   0.287063   0.214003\n",
       "18   0.352688  -0.203902\n",
       "19   0.30671    0.144853\n",
       "20   0.325502   0.00852006\n",
       "21   0.260094   0.197483\n",
       "22   0.267713   0.243263\n",
       "23   0.35493   -0.200285\n",
       "24   0.282575   0.179618\n",
       "25   0.17205    0.164246\n",
       "26   0.321594   0.0779563\n",
       "27   0.278207   0.0716469\n",
       "28   0.303654  -0.0458663\n",
       "29   0.354337  -0.199486\n",
       "30   0.325119  -0.117479\n",
       "31   0.155821   0.169734\n",
       "32   0.371457  -0.215149\n",
       "33   0.315321  -0.13701\n",
       "34   0.311468   0.26577\n",
       "35   0.268186   0.170287\n",
       "36   0.317758  -0.168099\n",
       "37   0.369208  -0.203768\n",
       "38   0.286061   0.214587\n",
       "39   0.271516   0.162696\n",
       "40   0.167499   0.100953\n",
       "41   0.191279   0.119153\n",
       "42   0.310713   0.207984\n",
       "43   0.204851   0.17997\n",
       "44   0.294655   0.245402\n",
       "45   0.414769  -0.222574\n",
       "46   0.414769  -0.222574\n",
       "47   0.132492   0.182942\n",
       "48   0.414769  -0.222574\n",
       "49   0.373593  -0.141597\n",
       "50   0.356183  -0.152926\n",
       "51   0.414769  -0.222574\n",
       "52   0.191279   0.119153\n",
       "53   0.330986   0.07665\n",
       "54   0.168257   0.129713\n",
       "55   0.354599  -0.147001\n",
       "56   0.354143  -0.203006\n",
       "57   0.303268   0.162811\n",
       "58   0.257708   0.194212\n",
       "59   0.32523    0.191161\n",
       "60   0.294655   0.245402\n",
       "61   0.30671    0.144853\n",
       "62   0.269973   0.161758\n",
       "63   0.293189   0.116624\n",
       "64   0.351965  -0.0181078\n",
       "65   0.414769  -0.222574\n",
       "66   0.371457  -0.215149\n",
       "67   0.32432    0.00658736\n",
       "68   0.414769  -0.222574\n",
       "69   0.361311  -0.18218\n",
       "70   0.414769  -0.222574\n",
       "71   0.371457  -0.215149\n",
       "72   0.299101   0.153334\n",
       "73   0.199468   0.0408634\n",
       "74   0.268186   0.170287\n",
       "75   0.30635   -0.0511884\n",
       "76   0.361693  -0.0485105\n",
       "77   0.253635   0.0834158\n",
       "78   0.148282   0.205611\n",
       "79   0.311468   0.26577\n",
       "80   0.311468   0.26577\n",
       "81   0.340158   0.123307\n",
       "82   0.188628   0.183551\n",
       "83   0.268186   0.170287\n",
       "84   0.294655   0.245402\n",
       "85   0.338039  -0.10116\n",
       "86   0.121822   0.16946\n",
       "87   0.273212   0.131076\n",
       "88   0.300236   0.223701\n",
       "89   0.17205    0.164246\n",
       "90   0.268363   0.0631379\n",
       "91   0.295459   0.0311429\n",
       "92   0.360029   0.0426703\n",
       "93   0.30671    0.144853\n",
       "94   0.300575  -0.0452447\n",
       "95   0.369208  -0.203768\n",
       "96   0.321204   0.197323\n",
       "97   0.332261  -0.1207\n",
       "98   0.158412   0.0936932\n",
       "99   0.414769  -0.222574\n",
       "100  0.188628   0.183551\n",
       "101  0.294655   0.245402\n",
       "──────────────────────────\n",
       "\n",
       "Importance of components:\n",
       "─────────────────────────────────────────────\n",
       "                                PC1       PC2\n",
       "─────────────────────────────────────────────\n",
       "SS Loadings (Eigenvalues)  9.49937   3.09162\n",
       "Variance explained         0.376223  0.122444\n",
       "Cumulative variance        0.376223  0.498666\n",
       "Proportion explained       0.754458  0.245542\n",
       "Cumulative proportion      0.754458  1.0\n",
       "─────────────────────────────────────────────"
      ]
     },
     "execution_count": 18,
     "metadata": {},
     "output_type": "execute_result"
    }
   ],
   "source": [
    "matrix_species = permutedims(hcat(hdv...))\n",
    "\n",
    "S = fit(PCA, matrix_species ; maxoutdim=2)\n",
    "projS = projection(S)\n",
    "S"
   ]
  },
  {
   "cell_type": "code",
   "execution_count": 19,
   "metadata": {},
   "outputs": [
    {
     "data": {
      "image/svg+xml": "<?xml version=\"1.0\" encoding=\"utf-8\"?>\n<svg xmlns=\"http://www.w3.org/2000/svg\" xmlns:xlink=\"http://www.w3.org/1999/xlink\" width=\"600\" height=\"400\" viewBox=\"0 0 2400 1600\">\n<defs>\n  <clipPath id=\"clip480\">\n    <rect x=\"0\" y=\"0\" width=\"2400\" height=\"1600\"/>\n  </clipPath>\n</defs>\n<path clip-path=\"url(#clip480)\" d=\"\nM0 1600 L2400 1600 L2400 0 L0 0  Z\n  \" fill=\"#ffffff\" fill-rule=\"evenodd\" fill-opacity=\"1\"/>\n<defs>\n  <clipPath id=\"clip481\">\n    <rect x=\"480\" y=\"0\" width=\"1681\" height=\"1600\"/>\n  </clipPath>\n</defs>\n<path clip-path=\"url(#clip480)\" d=\"\nM224.098 1486.45 L2352.76 1486.45 L2352.76 47.2441 L224.098 47.2441  Z\n  \" fill=\"#ffffff\" fill-rule=\"evenodd\" fill-opacity=\"1\"/>\n<defs>\n  <clipPath id=\"clip482\">\n    <rect x=\"224\" y=\"47\" width=\"2130\" height=\"1440\"/>\n  </clipPath>\n</defs>\n<polyline clip-path=\"url(#clip482)\" style=\"stroke:#000000; stroke-linecap:round; stroke-linejoin:round; stroke-width:2; stroke-opacity:0.1; fill:none\" points=\"\n  592.245,1486.45 592.245,47.2441 \n  \"/>\n<polyline clip-path=\"url(#clip482)\" style=\"stroke:#000000; stroke-linecap:round; stroke-linejoin:round; stroke-width:2; stroke-opacity:0.1; fill:none\" points=\"\n  1014.81,1486.45 1014.81,47.2441 \n  \"/>\n<polyline clip-path=\"url(#clip482)\" style=\"stroke:#000000; stroke-linecap:round; stroke-linejoin:round; stroke-width:2; stroke-opacity:0.1; fill:none\" points=\"\n  1437.37,1486.45 1437.37,47.2441 \n  \"/>\n<polyline clip-path=\"url(#clip482)\" style=\"stroke:#000000; stroke-linecap:round; stroke-linejoin:round; stroke-width:2; stroke-opacity:0.1; fill:none\" points=\"\n  1859.93,1486.45 1859.93,47.2441 \n  \"/>\n<polyline clip-path=\"url(#clip482)\" style=\"stroke:#000000; stroke-linecap:round; stroke-linejoin:round; stroke-width:2; stroke-opacity:0.1; fill:none\" points=\"\n  2282.49,1486.45 2282.49,47.2441 \n  \"/>\n<polyline clip-path=\"url(#clip480)\" style=\"stroke:#000000; stroke-linecap:round; stroke-linejoin:round; stroke-width:4; stroke-opacity:1; fill:none\" points=\"\n  224.098,1486.45 2352.76,1486.45 \n  \"/>\n<polyline clip-path=\"url(#clip480)\" style=\"stroke:#000000; stroke-linecap:round; stroke-linejoin:round; stroke-width:4; stroke-opacity:1; fill:none\" points=\"\n  592.245,1486.45 592.245,1467.55 \n  \"/>\n<polyline clip-path=\"url(#clip480)\" style=\"stroke:#000000; stroke-linecap:round; stroke-linejoin:round; stroke-width:4; stroke-opacity:1; fill:none\" points=\"\n  1014.81,1486.45 1014.81,1467.55 \n  \"/>\n<polyline clip-path=\"url(#clip480)\" style=\"stroke:#000000; stroke-linecap:round; stroke-linejoin:round; stroke-width:4; stroke-opacity:1; fill:none\" points=\"\n  1437.37,1486.45 1437.37,1467.55 \n  \"/>\n<polyline clip-path=\"url(#clip480)\" style=\"stroke:#000000; stroke-linecap:round; stroke-linejoin:round; stroke-width:4; stroke-opacity:1; fill:none\" points=\"\n  1859.93,1486.45 1859.93,1467.55 \n  \"/>\n<polyline clip-path=\"url(#clip480)\" style=\"stroke:#000000; stroke-linecap:round; stroke-linejoin:round; stroke-width:4; stroke-opacity:1; fill:none\" points=\"\n  2282.49,1486.45 2282.49,1467.55 \n  \"/>\n<path clip-path=\"url(#clip480)\" d=\"M524.491 1532.02 L554.167 1532.02 L554.167 1535.95 L524.491 1535.95 L524.491 1532.02 Z\" fill=\"#000000\" fill-rule=\"evenodd\" fill-opacity=\"1\" /><path clip-path=\"url(#clip480)\" d=\"M574.259 1517.37 Q570.648 1517.37 568.82 1520.93 Q567.014 1524.47 567.014 1531.6 Q567.014 1538.71 568.82 1542.27 Q570.648 1545.82 574.259 1545.82 Q577.894 1545.82 579.699 1542.27 Q581.528 1538.71 581.528 1531.6 Q581.528 1524.47 579.699 1520.93 Q577.894 1517.37 574.259 1517.37 M574.259 1513.66 Q580.069 1513.66 583.125 1518.27 Q586.204 1522.85 586.204 1531.6 Q586.204 1540.33 583.125 1544.94 Q580.069 1549.52 574.259 1549.52 Q568.449 1549.52 565.37 1544.94 Q562.315 1540.33 562.315 1531.6 Q562.315 1522.85 565.37 1518.27 Q568.449 1513.66 574.259 1513.66 Z\" fill=\"#000000\" fill-rule=\"evenodd\" fill-opacity=\"1\" /><path clip-path=\"url(#clip480)\" d=\"M594.421 1542.97 L599.305 1542.97 L599.305 1548.85 L594.421 1548.85 L594.421 1542.97 Z\" fill=\"#000000\" fill-rule=\"evenodd\" fill-opacity=\"1\" /><path clip-path=\"url(#clip480)\" d=\"M610.301 1544.91 L617.94 1544.91 L617.94 1518.55 L609.629 1520.21 L609.629 1515.95 L617.893 1514.29 L622.569 1514.29 L622.569 1544.91 L630.208 1544.91 L630.208 1548.85 L610.301 1548.85 L610.301 1544.91 Z\" fill=\"#000000\" fill-rule=\"evenodd\" fill-opacity=\"1\" /><path clip-path=\"url(#clip480)\" d=\"M643.68 1544.91 L660 1544.91 L660 1548.85 L638.055 1548.85 L638.055 1544.91 Q640.717 1542.16 645.301 1537.53 Q649.907 1532.88 651.088 1531.53 Q653.333 1529.01 654.213 1527.27 Q655.115 1525.51 655.115 1523.82 Q655.115 1521.07 653.171 1519.33 Q651.25 1517.6 648.148 1517.6 Q645.949 1517.6 643.495 1518.36 Q641.065 1519.13 638.287 1520.68 L638.287 1515.95 Q641.111 1514.82 643.564 1514.24 Q646.018 1513.66 648.055 1513.66 Q653.426 1513.66 656.62 1516.35 Q659.814 1519.03 659.814 1523.52 Q659.814 1525.65 659.004 1527.57 Q658.217 1529.47 656.111 1532.07 Q655.532 1532.74 652.43 1535.95 Q649.328 1539.15 643.68 1544.91 Z\" fill=\"#000000\" fill-rule=\"evenodd\" fill-opacity=\"1\" /><path clip-path=\"url(#clip480)\" d=\"M946.254 1532.02 L975.93 1532.02 L975.93 1535.95 L946.254 1535.95 L946.254 1532.02 Z\" fill=\"#000000\" fill-rule=\"evenodd\" fill-opacity=\"1\" /><path clip-path=\"url(#clip480)\" d=\"M996.022 1517.37 Q992.411 1517.37 990.582 1520.93 Q988.777 1524.47 988.777 1531.6 Q988.777 1538.71 990.582 1542.27 Q992.411 1545.82 996.022 1545.82 Q999.656 1545.82 1001.46 1542.27 Q1003.29 1538.71 1003.29 1531.6 Q1003.29 1524.47 1001.46 1520.93 Q999.656 1517.37 996.022 1517.37 M996.022 1513.66 Q1001.83 1513.66 1004.89 1518.27 Q1007.97 1522.85 1007.97 1531.6 Q1007.97 1540.33 1004.89 1544.94 Q1001.83 1549.52 996.022 1549.52 Q990.212 1549.52 987.133 1544.94 Q984.078 1540.33 984.078 1531.6 Q984.078 1522.85 987.133 1518.27 Q990.212 1513.66 996.022 1513.66 Z\" fill=\"#000000\" fill-rule=\"evenodd\" fill-opacity=\"1\" /><path clip-path=\"url(#clip480)\" d=\"M1016.18 1542.97 L1021.07 1542.97 L1021.07 1548.85 L1016.18 1548.85 L1016.18 1542.97 Z\" fill=\"#000000\" fill-rule=\"evenodd\" fill-opacity=\"1\" /><path clip-path=\"url(#clip480)\" d=\"M1032.06 1544.91 L1039.7 1544.91 L1039.7 1518.55 L1031.39 1520.21 L1031.39 1515.95 L1039.66 1514.29 L1044.33 1514.29 L1044.33 1544.91 L1051.97 1544.91 L1051.97 1548.85 L1032.06 1548.85 L1032.06 1544.91 Z\" fill=\"#000000\" fill-rule=\"evenodd\" fill-opacity=\"1\" /><path clip-path=\"url(#clip480)\" d=\"M1071.42 1517.37 Q1067.8 1517.37 1065.98 1520.93 Q1064.17 1524.47 1064.17 1531.6 Q1064.17 1538.71 1065.98 1542.27 Q1067.8 1545.82 1071.42 1545.82 Q1075.05 1545.82 1076.85 1542.27 Q1078.68 1538.71 1078.68 1531.6 Q1078.68 1524.47 1076.85 1520.93 Q1075.05 1517.37 1071.42 1517.37 M1071.42 1513.66 Q1077.23 1513.66 1080.28 1518.27 Q1083.36 1522.85 1083.36 1531.6 Q1083.36 1540.33 1080.28 1544.94 Q1077.23 1549.52 1071.42 1549.52 Q1065.6 1549.52 1062.53 1544.94 Q1059.47 1540.33 1059.47 1531.6 Q1059.47 1522.85 1062.53 1518.27 Q1065.6 1513.66 1071.42 1513.66 Z\" fill=\"#000000\" fill-rule=\"evenodd\" fill-opacity=\"1\" /><path clip-path=\"url(#clip480)\" d=\"M1368.86 1532.02 L1398.54 1532.02 L1398.54 1535.95 L1368.86 1535.95 L1368.86 1532.02 Z\" fill=\"#000000\" fill-rule=\"evenodd\" fill-opacity=\"1\" /><path clip-path=\"url(#clip480)\" d=\"M1418.63 1517.37 Q1415.02 1517.37 1413.19 1520.93 Q1411.38 1524.47 1411.38 1531.6 Q1411.38 1538.71 1413.19 1542.27 Q1415.02 1545.82 1418.63 1545.82 Q1422.26 1545.82 1424.07 1542.27 Q1425.9 1538.71 1425.9 1531.6 Q1425.9 1524.47 1424.07 1520.93 Q1422.26 1517.37 1418.63 1517.37 M1418.63 1513.66 Q1424.44 1513.66 1427.5 1518.27 Q1430.57 1522.85 1430.57 1531.6 Q1430.57 1540.33 1427.5 1544.94 Q1424.44 1549.52 1418.63 1549.52 Q1412.82 1549.52 1409.74 1544.94 Q1406.69 1540.33 1406.69 1531.6 Q1406.69 1522.85 1409.74 1518.27 Q1412.82 1513.66 1418.63 1513.66 Z\" fill=\"#000000\" fill-rule=\"evenodd\" fill-opacity=\"1\" /><path clip-path=\"url(#clip480)\" d=\"M1438.79 1542.97 L1443.68 1542.97 L1443.68 1548.85 L1438.79 1548.85 L1438.79 1542.97 Z\" fill=\"#000000\" fill-rule=\"evenodd\" fill-opacity=\"1\" /><path clip-path=\"url(#clip480)\" d=\"M1463.86 1517.37 Q1460.25 1517.37 1458.42 1520.93 Q1456.62 1524.47 1456.62 1531.6 Q1456.62 1538.71 1458.42 1542.27 Q1460.25 1545.82 1463.86 1545.82 Q1467.5 1545.82 1469.3 1542.27 Q1471.13 1538.71 1471.13 1531.6 Q1471.13 1524.47 1469.3 1520.93 Q1467.5 1517.37 1463.86 1517.37 M1463.86 1513.66 Q1469.67 1513.66 1472.73 1518.27 Q1475.81 1522.85 1475.81 1531.6 Q1475.81 1540.33 1472.73 1544.94 Q1469.67 1549.52 1463.86 1549.52 Q1458.05 1549.52 1454.97 1544.94 Q1451.92 1540.33 1451.92 1531.6 Q1451.92 1522.85 1454.97 1518.27 Q1458.05 1513.66 1463.86 1513.66 Z\" fill=\"#000000\" fill-rule=\"evenodd\" fill-opacity=\"1\" /><path clip-path=\"url(#clip480)\" d=\"M1494.02 1532.44 Q1490.69 1532.44 1488.77 1534.22 Q1486.87 1536 1486.87 1539.13 Q1486.87 1542.25 1488.77 1544.03 Q1490.69 1545.82 1494.02 1545.82 Q1497.36 1545.82 1499.28 1544.03 Q1501.2 1542.23 1501.2 1539.13 Q1501.2 1536 1499.28 1534.22 Q1497.38 1532.44 1494.02 1532.44 M1489.35 1530.45 Q1486.34 1529.7 1484.65 1527.64 Q1482.98 1525.58 1482.98 1522.62 Q1482.98 1518.48 1485.92 1516.07 Q1488.88 1513.66 1494.02 1513.66 Q1499.18 1513.66 1502.12 1516.07 Q1505.06 1518.48 1505.06 1522.62 Q1505.06 1525.58 1503.37 1527.64 Q1501.71 1529.7 1498.72 1530.45 Q1502.1 1531.23 1503.98 1533.52 Q1505.87 1535.82 1505.87 1539.13 Q1505.87 1544.15 1502.8 1546.83 Q1499.74 1549.52 1494.02 1549.52 Q1488.31 1549.52 1485.23 1546.83 Q1482.17 1544.15 1482.17 1539.13 Q1482.17 1535.82 1484.07 1533.52 Q1485.97 1531.23 1489.35 1530.45 M1487.63 1523.06 Q1487.63 1525.75 1489.3 1527.25 Q1490.99 1528.76 1494.02 1528.76 Q1497.03 1528.76 1498.72 1527.25 Q1500.43 1525.75 1500.43 1523.06 Q1500.43 1520.38 1498.72 1518.87 Q1497.03 1517.37 1494.02 1517.37 Q1490.99 1517.37 1489.3 1518.87 Q1487.63 1520.38 1487.63 1523.06 Z\" fill=\"#000000\" fill-rule=\"evenodd\" fill-opacity=\"1\" /><path clip-path=\"url(#clip480)\" d=\"M1791.3 1532.02 L1820.97 1532.02 L1820.97 1535.95 L1791.3 1535.95 L1791.3 1532.02 Z\" fill=\"#000000\" fill-rule=\"evenodd\" fill-opacity=\"1\" /><path clip-path=\"url(#clip480)\" d=\"M1841.06 1517.37 Q1837.45 1517.37 1835.62 1520.93 Q1833.82 1524.47 1833.82 1531.6 Q1833.82 1538.71 1835.62 1542.27 Q1837.45 1545.82 1841.06 1545.82 Q1844.7 1545.82 1846.5 1542.27 Q1848.33 1538.71 1848.33 1531.6 Q1848.33 1524.47 1846.5 1520.93 Q1844.7 1517.37 1841.06 1517.37 M1841.06 1513.66 Q1846.87 1513.66 1849.93 1518.27 Q1853.01 1522.85 1853.01 1531.6 Q1853.01 1540.33 1849.93 1544.94 Q1846.87 1549.52 1841.06 1549.52 Q1835.25 1549.52 1832.17 1544.94 Q1829.12 1540.33 1829.12 1531.6 Q1829.12 1522.85 1832.17 1518.27 Q1835.25 1513.66 1841.06 1513.66 Z\" fill=\"#000000\" fill-rule=\"evenodd\" fill-opacity=\"1\" /><path clip-path=\"url(#clip480)\" d=\"M1861.23 1542.97 L1866.11 1542.97 L1866.11 1548.85 L1861.23 1548.85 L1861.23 1542.97 Z\" fill=\"#000000\" fill-rule=\"evenodd\" fill-opacity=\"1\" /><path clip-path=\"url(#clip480)\" d=\"M1886.29 1517.37 Q1882.68 1517.37 1880.86 1520.93 Q1879.05 1524.47 1879.05 1531.6 Q1879.05 1538.71 1880.86 1542.27 Q1882.68 1545.82 1886.29 1545.82 Q1889.93 1545.82 1891.73 1542.27 Q1893.56 1538.71 1893.56 1531.6 Q1893.56 1524.47 1891.73 1520.93 Q1889.93 1517.37 1886.29 1517.37 M1886.29 1513.66 Q1892.11 1513.66 1895.16 1518.27 Q1898.24 1522.85 1898.24 1531.6 Q1898.24 1540.33 1895.16 1544.94 Q1892.11 1549.52 1886.29 1549.52 Q1880.48 1549.52 1877.41 1544.94 Q1874.35 1540.33 1874.35 1531.6 Q1874.35 1522.85 1877.41 1518.27 Q1880.48 1513.66 1886.29 1513.66 Z\" fill=\"#000000\" fill-rule=\"evenodd\" fill-opacity=\"1\" /><path clip-path=\"url(#clip480)\" d=\"M1917.04 1529.7 Q1913.89 1529.7 1912.04 1531.86 Q1910.21 1534.01 1910.21 1537.76 Q1910.21 1541.49 1912.04 1543.66 Q1913.89 1545.82 1917.04 1545.82 Q1920.18 1545.82 1922.01 1543.66 Q1923.86 1541.49 1923.86 1537.76 Q1923.86 1534.01 1922.01 1531.86 Q1920.18 1529.7 1917.04 1529.7 M1926.32 1515.05 L1926.32 1519.31 Q1924.56 1518.48 1922.75 1518.04 Q1920.97 1517.6 1919.21 1517.6 Q1914.58 1517.6 1912.13 1520.72 Q1909.7 1523.85 1909.35 1530.17 Q1910.72 1528.15 1912.78 1527.09 Q1914.84 1526 1917.31 1526 Q1922.52 1526 1925.53 1529.17 Q1928.56 1532.32 1928.56 1537.76 Q1928.56 1543.08 1925.42 1546.3 Q1922.27 1549.52 1917.04 1549.52 Q1911.04 1549.52 1907.87 1544.94 Q1904.7 1540.33 1904.7 1531.6 Q1904.7 1523.41 1908.59 1518.55 Q1912.48 1513.66 1919.03 1513.66 Q1920.79 1513.66 1922.57 1514.01 Q1924.37 1514.36 1926.32 1515.05 Z\" fill=\"#000000\" fill-rule=\"evenodd\" fill-opacity=\"1\" /><path clip-path=\"url(#clip480)\" d=\"M2213.69 1532.02 L2243.37 1532.02 L2243.37 1535.95 L2213.69 1535.95 L2213.69 1532.02 Z\" fill=\"#000000\" fill-rule=\"evenodd\" fill-opacity=\"1\" /><path clip-path=\"url(#clip480)\" d=\"M2263.46 1517.37 Q2259.85 1517.37 2258.02 1520.93 Q2256.22 1524.47 2256.22 1531.6 Q2256.22 1538.71 2258.02 1542.27 Q2259.85 1545.82 2263.46 1545.82 Q2267.1 1545.82 2268.9 1542.27 Q2270.73 1538.71 2270.73 1531.6 Q2270.73 1524.47 2268.9 1520.93 Q2267.1 1517.37 2263.46 1517.37 M2263.46 1513.66 Q2269.27 1513.66 2272.33 1518.27 Q2275.41 1522.85 2275.41 1531.6 Q2275.41 1540.33 2272.33 1544.94 Q2269.27 1549.52 2263.46 1549.52 Q2257.65 1549.52 2254.57 1544.94 Q2251.52 1540.33 2251.52 1531.6 Q2251.52 1522.85 2254.57 1518.27 Q2257.65 1513.66 2263.46 1513.66 Z\" fill=\"#000000\" fill-rule=\"evenodd\" fill-opacity=\"1\" /><path clip-path=\"url(#clip480)\" d=\"M2283.62 1542.97 L2288.51 1542.97 L2288.51 1548.85 L2283.62 1548.85 L2283.62 1542.97 Z\" fill=\"#000000\" fill-rule=\"evenodd\" fill-opacity=\"1\" /><path clip-path=\"url(#clip480)\" d=\"M2308.69 1517.37 Q2305.08 1517.37 2303.25 1520.93 Q2301.45 1524.47 2301.45 1531.6 Q2301.45 1538.71 2303.25 1542.27 Q2305.08 1545.82 2308.69 1545.82 Q2312.33 1545.82 2314.13 1542.27 Q2315.96 1538.71 2315.96 1531.6 Q2315.96 1524.47 2314.13 1520.93 Q2312.33 1517.37 2308.69 1517.37 M2308.69 1513.66 Q2314.5 1513.66 2317.56 1518.27 Q2320.64 1522.85 2320.64 1531.6 Q2320.64 1540.33 2317.56 1544.94 Q2314.5 1549.52 2308.69 1549.52 Q2302.88 1549.52 2299.81 1544.94 Q2296.75 1540.33 2296.75 1531.6 Q2296.75 1522.85 2299.81 1518.27 Q2302.88 1513.66 2308.69 1513.66 Z\" fill=\"#000000\" fill-rule=\"evenodd\" fill-opacity=\"1\" /><path clip-path=\"url(#clip480)\" d=\"M2341.7 1518.36 L2329.9 1536.81 L2341.7 1536.81 L2341.7 1518.36 M2340.48 1514.29 L2346.36 1514.29 L2346.36 1536.81 L2351.29 1536.81 L2351.29 1540.7 L2346.36 1540.7 L2346.36 1548.85 L2341.7 1548.85 L2341.7 1540.7 L2326.1 1540.7 L2326.1 1536.19 L2340.48 1514.29 Z\" fill=\"#000000\" fill-rule=\"evenodd\" fill-opacity=\"1\" /><polyline clip-path=\"url(#clip482)\" style=\"stroke:#000000; stroke-linecap:round; stroke-linejoin:round; stroke-width:2; stroke-opacity:0.1; fill:none\" points=\"\n  224.098,1440.09 2352.76,1440.09 \n  \"/>\n<polyline clip-path=\"url(#clip482)\" style=\"stroke:#000000; stroke-linecap:round; stroke-linejoin:round; stroke-width:2; stroke-opacity:0.1; fill:none\" points=\"\n  224.098,1195.66 2352.76,1195.66 \n  \"/>\n<polyline clip-path=\"url(#clip482)\" style=\"stroke:#000000; stroke-linecap:round; stroke-linejoin:round; stroke-width:2; stroke-opacity:0.1; fill:none\" points=\"\n  224.098,951.226 2352.76,951.226 \n  \"/>\n<polyline clip-path=\"url(#clip482)\" style=\"stroke:#000000; stroke-linecap:round; stroke-linejoin:round; stroke-width:2; stroke-opacity:0.1; fill:none\" points=\"\n  224.098,706.797 2352.76,706.797 \n  \"/>\n<polyline clip-path=\"url(#clip482)\" style=\"stroke:#000000; stroke-linecap:round; stroke-linejoin:round; stroke-width:2; stroke-opacity:0.1; fill:none\" points=\"\n  224.098,462.368 2352.76,462.368 \n  \"/>\n<polyline clip-path=\"url(#clip482)\" style=\"stroke:#000000; stroke-linecap:round; stroke-linejoin:round; stroke-width:2; stroke-opacity:0.1; fill:none\" points=\"\n  224.098,217.938 2352.76,217.938 \n  \"/>\n<polyline clip-path=\"url(#clip480)\" style=\"stroke:#000000; stroke-linecap:round; stroke-linejoin:round; stroke-width:4; stroke-opacity:1; fill:none\" points=\"\n  224.098,1486.45 224.098,47.2441 \n  \"/>\n<polyline clip-path=\"url(#clip480)\" style=\"stroke:#000000; stroke-linecap:round; stroke-linejoin:round; stroke-width:4; stroke-opacity:1; fill:none\" points=\"\n  224.098,1440.09 242.996,1440.09 \n  \"/>\n<polyline clip-path=\"url(#clip480)\" style=\"stroke:#000000; stroke-linecap:round; stroke-linejoin:round; stroke-width:4; stroke-opacity:1; fill:none\" points=\"\n  224.098,1195.66 242.996,1195.66 \n  \"/>\n<polyline clip-path=\"url(#clip480)\" style=\"stroke:#000000; stroke-linecap:round; stroke-linejoin:round; stroke-width:4; stroke-opacity:1; fill:none\" points=\"\n  224.098,951.226 242.996,951.226 \n  \"/>\n<polyline clip-path=\"url(#clip480)\" style=\"stroke:#000000; stroke-linecap:round; stroke-linejoin:round; stroke-width:4; stroke-opacity:1; fill:none\" points=\"\n  224.098,706.797 242.996,706.797 \n  \"/>\n<polyline clip-path=\"url(#clip480)\" style=\"stroke:#000000; stroke-linecap:round; stroke-linejoin:round; stroke-width:4; stroke-opacity:1; fill:none\" points=\"\n  224.098,462.368 242.996,462.368 \n  \"/>\n<polyline clip-path=\"url(#clip480)\" style=\"stroke:#000000; stroke-linecap:round; stroke-linejoin:round; stroke-width:4; stroke-opacity:1; fill:none\" points=\"\n  224.098,217.938 242.996,217.938 \n  \"/>\n<path clip-path=\"url(#clip480)\" d=\"M51.9875 1440.54 L81.6633 1440.54 L81.6633 1444.47 L51.9875 1444.47 L51.9875 1440.54 Z\" fill=\"#000000\" fill-rule=\"evenodd\" fill-opacity=\"1\" /><path clip-path=\"url(#clip480)\" d=\"M101.756 1425.88 Q98.1447 1425.88 96.316 1429.45 Q94.5104 1432.99 94.5104 1440.12 Q94.5104 1447.23 96.316 1450.79 Q98.1447 1454.33 101.756 1454.33 Q105.39 1454.33 107.196 1450.79 Q109.024 1447.23 109.024 1440.12 Q109.024 1432.99 107.196 1429.45 Q105.39 1425.88 101.756 1425.88 M101.756 1422.18 Q107.566 1422.18 110.621 1426.79 Q113.7 1431.37 113.7 1440.12 Q113.7 1448.85 110.621 1453.45 Q107.566 1458.04 101.756 1458.04 Q95.9456 1458.04 92.8669 1453.45 Q89.8114 1448.85 89.8114 1440.12 Q89.8114 1431.37 92.8669 1426.79 Q95.9456 1422.18 101.756 1422.18 Z\" fill=\"#000000\" fill-rule=\"evenodd\" fill-opacity=\"1\" /><path clip-path=\"url(#clip480)\" d=\"M121.918 1451.49 L126.802 1451.49 L126.802 1457.37 L121.918 1457.37 L121.918 1451.49 Z\" fill=\"#000000\" fill-rule=\"evenodd\" fill-opacity=\"1\" /><path clip-path=\"url(#clip480)\" d=\"M137.797 1453.43 L145.436 1453.43 L145.436 1427.06 L137.126 1428.73 L137.126 1424.47 L145.39 1422.81 L150.066 1422.81 L150.066 1453.43 L157.705 1453.43 L157.705 1457.37 L137.797 1457.37 L137.797 1453.43 Z\" fill=\"#000000\" fill-rule=\"evenodd\" fill-opacity=\"1\" /><path clip-path=\"url(#clip480)\" d=\"M167.195 1422.81 L185.552 1422.81 L185.552 1426.74 L171.478 1426.74 L171.478 1435.21 Q172.496 1434.87 173.515 1434.7 Q174.533 1434.52 175.552 1434.52 Q181.339 1434.52 184.718 1437.69 Q188.098 1440.86 188.098 1446.28 Q188.098 1451.86 184.626 1454.96 Q181.153 1458.04 174.834 1458.04 Q172.658 1458.04 170.39 1457.67 Q168.144 1457.3 165.737 1456.56 L165.737 1451.86 Q167.82 1452.99 170.042 1453.55 Q172.265 1454.1 174.741 1454.1 Q178.746 1454.1 181.084 1451.99 Q183.422 1449.89 183.422 1446.28 Q183.422 1442.67 181.084 1440.56 Q178.746 1438.45 174.741 1438.45 Q172.866 1438.45 170.991 1438.87 Q169.14 1439.29 167.195 1440.17 L167.195 1422.81 Z\" fill=\"#000000\" fill-rule=\"evenodd\" fill-opacity=\"1\" /><path clip-path=\"url(#clip480)\" d=\"M50.9921 1196.11 L80.6679 1196.11 L80.6679 1200.04 L50.9921 1200.04 L50.9921 1196.11 Z\" fill=\"#000000\" fill-rule=\"evenodd\" fill-opacity=\"1\" /><path clip-path=\"url(#clip480)\" d=\"M100.76 1181.45 Q97.1493 1181.45 95.3206 1185.02 Q93.515 1188.56 93.515 1195.69 Q93.515 1202.8 95.3206 1206.36 Q97.1493 1209.9 100.76 1209.9 Q104.395 1209.9 106.2 1206.36 Q108.029 1202.8 108.029 1195.69 Q108.029 1188.56 106.2 1185.02 Q104.395 1181.45 100.76 1181.45 M100.76 1177.75 Q106.571 1177.75 109.626 1182.36 Q112.705 1186.94 112.705 1195.69 Q112.705 1204.42 109.626 1209.02 Q106.571 1213.61 100.76 1213.61 Q94.9502 1213.61 91.8715 1209.02 Q88.816 1204.42 88.816 1195.69 Q88.816 1186.94 91.8715 1182.36 Q94.9502 1177.75 100.76 1177.75 Z\" fill=\"#000000\" fill-rule=\"evenodd\" fill-opacity=\"1\" /><path clip-path=\"url(#clip480)\" d=\"M120.922 1207.06 L125.807 1207.06 L125.807 1212.94 L120.922 1212.94 L120.922 1207.06 Z\" fill=\"#000000\" fill-rule=\"evenodd\" fill-opacity=\"1\" /><path clip-path=\"url(#clip480)\" d=\"M136.802 1209 L144.441 1209 L144.441 1182.64 L136.131 1184.3 L136.131 1180.04 L144.394 1178.38 L149.07 1178.38 L149.07 1209 L156.709 1209 L156.709 1212.94 L136.802 1212.94 L136.802 1209 Z\" fill=\"#000000\" fill-rule=\"evenodd\" fill-opacity=\"1\" /><path clip-path=\"url(#clip480)\" d=\"M176.153 1181.45 Q172.542 1181.45 170.714 1185.02 Q168.908 1188.56 168.908 1195.69 Q168.908 1202.8 170.714 1206.36 Q172.542 1209.9 176.153 1209.9 Q179.788 1209.9 181.593 1206.36 Q183.422 1202.8 183.422 1195.69 Q183.422 1188.56 181.593 1185.02 Q179.788 1181.45 176.153 1181.45 M176.153 1177.75 Q181.964 1177.75 185.019 1182.36 Q188.098 1186.94 188.098 1195.69 Q188.098 1204.42 185.019 1209.02 Q181.964 1213.61 176.153 1213.61 Q170.343 1213.61 167.265 1209.02 Q164.209 1204.42 164.209 1195.69 Q164.209 1186.94 167.265 1182.36 Q170.343 1177.75 176.153 1177.75 Z\" fill=\"#000000\" fill-rule=\"evenodd\" fill-opacity=\"1\" /><path clip-path=\"url(#clip480)\" d=\"M51.9875 951.678 L81.6633 951.678 L81.6633 955.613 L51.9875 955.613 L51.9875 951.678 Z\" fill=\"#000000\" fill-rule=\"evenodd\" fill-opacity=\"1\" /><path clip-path=\"url(#clip480)\" d=\"M101.756 937.025 Q98.1447 937.025 96.316 940.59 Q94.5104 944.132 94.5104 951.261 Q94.5104 958.368 96.316 961.932 Q98.1447 965.474 101.756 965.474 Q105.39 965.474 107.196 961.932 Q109.024 958.368 109.024 951.261 Q109.024 944.132 107.196 940.59 Q105.39 937.025 101.756 937.025 M101.756 933.321 Q107.566 933.321 110.621 937.928 Q113.7 942.511 113.7 951.261 Q113.7 959.988 110.621 964.594 Q107.566 969.178 101.756 969.178 Q95.9456 969.178 92.8669 964.594 Q89.8114 959.988 89.8114 951.261 Q89.8114 942.511 92.8669 937.928 Q95.9456 933.321 101.756 933.321 Z\" fill=\"#000000\" fill-rule=\"evenodd\" fill-opacity=\"1\" /><path clip-path=\"url(#clip480)\" d=\"M121.918 962.627 L126.802 962.627 L126.802 968.506 L121.918 968.506 L121.918 962.627 Z\" fill=\"#000000\" fill-rule=\"evenodd\" fill-opacity=\"1\" /><path clip-path=\"url(#clip480)\" d=\"M146.987 937.025 Q143.376 937.025 141.547 940.59 Q139.742 944.132 139.742 951.261 Q139.742 958.368 141.547 961.932 Q143.376 965.474 146.987 965.474 Q150.621 965.474 152.427 961.932 Q154.255 958.368 154.255 951.261 Q154.255 944.132 152.427 940.59 Q150.621 937.025 146.987 937.025 M146.987 933.321 Q152.797 933.321 155.853 937.928 Q158.931 942.511 158.931 951.261 Q158.931 959.988 155.853 964.594 Q152.797 969.178 146.987 969.178 Q141.177 969.178 138.098 964.594 Q135.043 959.988 135.043 951.261 Q135.043 942.511 138.098 937.928 Q141.177 933.321 146.987 933.321 Z\" fill=\"#000000\" fill-rule=\"evenodd\" fill-opacity=\"1\" /><path clip-path=\"url(#clip480)\" d=\"M167.195 933.946 L185.552 933.946 L185.552 937.882 L171.478 937.882 L171.478 946.354 Q172.496 946.007 173.515 945.845 Q174.533 945.659 175.552 945.659 Q181.339 945.659 184.718 948.831 Q188.098 952.002 188.098 957.419 Q188.098 962.997 184.626 966.099 Q181.153 969.178 174.834 969.178 Q172.658 969.178 170.39 968.807 Q168.144 968.437 165.737 967.696 L165.737 962.997 Q167.82 964.131 170.042 964.687 Q172.265 965.243 174.741 965.243 Q178.746 965.243 181.084 963.136 Q183.422 961.03 183.422 957.419 Q183.422 953.807 181.084 951.701 Q178.746 949.595 174.741 949.595 Q172.866 949.595 170.991 950.011 Q169.14 950.428 167.195 951.307 L167.195 933.946 Z\" fill=\"#000000\" fill-rule=\"evenodd\" fill-opacity=\"1\" /><path clip-path=\"url(#clip480)\" d=\"M100.76 692.596 Q97.1493 692.596 95.3206 696.161 Q93.515 699.702 93.515 706.832 Q93.515 713.938 95.3206 717.503 Q97.1493 721.045 100.76 721.045 Q104.395 721.045 106.2 717.503 Q108.029 713.938 108.029 706.832 Q108.029 699.702 106.2 696.161 Q104.395 692.596 100.76 692.596 M100.76 688.892 Q106.571 688.892 109.626 693.499 Q112.705 698.082 112.705 706.832 Q112.705 715.559 109.626 720.165 Q106.571 724.748 100.76 724.748 Q94.9502 724.748 91.8715 720.165 Q88.816 715.559 88.816 706.832 Q88.816 698.082 91.8715 693.499 Q94.9502 688.892 100.76 688.892 Z\" fill=\"#000000\" fill-rule=\"evenodd\" fill-opacity=\"1\" /><path clip-path=\"url(#clip480)\" d=\"M120.922 718.197 L125.807 718.197 L125.807 724.077 L120.922 724.077 L120.922 718.197 Z\" fill=\"#000000\" fill-rule=\"evenodd\" fill-opacity=\"1\" /><path clip-path=\"url(#clip480)\" d=\"M145.992 692.596 Q142.381 692.596 140.552 696.161 Q138.746 699.702 138.746 706.832 Q138.746 713.938 140.552 717.503 Q142.381 721.045 145.992 721.045 Q149.626 721.045 151.431 717.503 Q153.26 713.938 153.26 706.832 Q153.26 699.702 151.431 696.161 Q149.626 692.596 145.992 692.596 M145.992 688.892 Q151.802 688.892 154.857 693.499 Q157.936 698.082 157.936 706.832 Q157.936 715.559 154.857 720.165 Q151.802 724.748 145.992 724.748 Q140.181 724.748 137.103 720.165 Q134.047 715.559 134.047 706.832 Q134.047 698.082 137.103 693.499 Q140.181 688.892 145.992 688.892 Z\" fill=\"#000000\" fill-rule=\"evenodd\" fill-opacity=\"1\" /><path clip-path=\"url(#clip480)\" d=\"M176.153 692.596 Q172.542 692.596 170.714 696.161 Q168.908 699.702 168.908 706.832 Q168.908 713.938 170.714 717.503 Q172.542 721.045 176.153 721.045 Q179.788 721.045 181.593 717.503 Q183.422 713.938 183.422 706.832 Q183.422 699.702 181.593 696.161 Q179.788 692.596 176.153 692.596 M176.153 688.892 Q181.964 688.892 185.019 693.499 Q188.098 698.082 188.098 706.832 Q188.098 715.559 185.019 720.165 Q181.964 724.748 176.153 724.748 Q170.343 724.748 167.265 720.165 Q164.209 715.559 164.209 706.832 Q164.209 698.082 167.265 693.499 Q170.343 688.892 176.153 688.892 Z\" fill=\"#000000\" fill-rule=\"evenodd\" fill-opacity=\"1\" /><path clip-path=\"url(#clip480)\" d=\"M101.756 448.166 Q98.1447 448.166 96.316 451.731 Q94.5104 455.273 94.5104 462.402 Q94.5104 469.509 96.316 473.074 Q98.1447 476.615 101.756 476.615 Q105.39 476.615 107.196 473.074 Q109.024 469.509 109.024 462.402 Q109.024 455.273 107.196 451.731 Q105.39 448.166 101.756 448.166 M101.756 444.463 Q107.566 444.463 110.621 449.069 Q113.7 453.652 113.7 462.402 Q113.7 471.129 110.621 475.736 Q107.566 480.319 101.756 480.319 Q95.9456 480.319 92.8669 475.736 Q89.8114 471.129 89.8114 462.402 Q89.8114 453.652 92.8669 449.069 Q95.9456 444.463 101.756 444.463 Z\" fill=\"#000000\" fill-rule=\"evenodd\" fill-opacity=\"1\" /><path clip-path=\"url(#clip480)\" d=\"M121.918 473.768 L126.802 473.768 L126.802 479.648 L121.918 479.648 L121.918 473.768 Z\" fill=\"#000000\" fill-rule=\"evenodd\" fill-opacity=\"1\" /><path clip-path=\"url(#clip480)\" d=\"M146.987 448.166 Q143.376 448.166 141.547 451.731 Q139.742 455.273 139.742 462.402 Q139.742 469.509 141.547 473.074 Q143.376 476.615 146.987 476.615 Q150.621 476.615 152.427 473.074 Q154.255 469.509 154.255 462.402 Q154.255 455.273 152.427 451.731 Q150.621 448.166 146.987 448.166 M146.987 444.463 Q152.797 444.463 155.853 449.069 Q158.931 453.652 158.931 462.402 Q158.931 471.129 155.853 475.736 Q152.797 480.319 146.987 480.319 Q141.177 480.319 138.098 475.736 Q135.043 471.129 135.043 462.402 Q135.043 453.652 138.098 449.069 Q141.177 444.463 146.987 444.463 Z\" fill=\"#000000\" fill-rule=\"evenodd\" fill-opacity=\"1\" /><path clip-path=\"url(#clip480)\" d=\"M167.195 445.088 L185.552 445.088 L185.552 449.023 L171.478 449.023 L171.478 457.495 Q172.496 457.148 173.515 456.986 Q174.533 456.801 175.552 456.801 Q181.339 456.801 184.718 459.972 Q188.098 463.143 188.098 468.56 Q188.098 474.138 184.626 477.24 Q181.153 480.319 174.834 480.319 Q172.658 480.319 170.39 479.949 Q168.144 479.578 165.737 478.837 L165.737 474.138 Q167.82 475.273 170.042 475.828 Q172.265 476.384 174.741 476.384 Q178.746 476.384 181.084 474.277 Q183.422 472.171 183.422 468.56 Q183.422 464.949 181.084 462.842 Q178.746 460.736 174.741 460.736 Q172.866 460.736 170.991 461.152 Q169.14 461.569 167.195 462.449 L167.195 445.088 Z\" fill=\"#000000\" fill-rule=\"evenodd\" fill-opacity=\"1\" /><path clip-path=\"url(#clip480)\" d=\"M100.76 203.737 Q97.1493 203.737 95.3206 207.302 Q93.515 210.843 93.515 217.973 Q93.515 225.079 95.3206 228.644 Q97.1493 232.186 100.76 232.186 Q104.395 232.186 106.2 228.644 Q108.029 225.079 108.029 217.973 Q108.029 210.843 106.2 207.302 Q104.395 203.737 100.76 203.737 M100.76 200.033 Q106.571 200.033 109.626 204.64 Q112.705 209.223 112.705 217.973 Q112.705 226.7 109.626 231.306 Q106.571 235.89 100.76 235.89 Q94.9502 235.89 91.8715 231.306 Q88.816 226.7 88.816 217.973 Q88.816 209.223 91.8715 204.64 Q94.9502 200.033 100.76 200.033 Z\" fill=\"#000000\" fill-rule=\"evenodd\" fill-opacity=\"1\" /><path clip-path=\"url(#clip480)\" d=\"M120.922 229.339 L125.807 229.339 L125.807 235.218 L120.922 235.218 L120.922 229.339 Z\" fill=\"#000000\" fill-rule=\"evenodd\" fill-opacity=\"1\" /><path clip-path=\"url(#clip480)\" d=\"M136.802 231.283 L144.441 231.283 L144.441 204.918 L136.131 206.584 L136.131 202.325 L144.394 200.658 L149.07 200.658 L149.07 231.283 L156.709 231.283 L156.709 235.218 L136.802 235.218 L136.802 231.283 Z\" fill=\"#000000\" fill-rule=\"evenodd\" fill-opacity=\"1\" /><path clip-path=\"url(#clip480)\" d=\"M176.153 203.737 Q172.542 203.737 170.714 207.302 Q168.908 210.843 168.908 217.973 Q168.908 225.079 170.714 228.644 Q172.542 232.186 176.153 232.186 Q179.788 232.186 181.593 228.644 Q183.422 225.079 183.422 217.973 Q183.422 210.843 181.593 207.302 Q179.788 203.737 176.153 203.737 M176.153 200.033 Q181.964 200.033 185.019 204.64 Q188.098 209.223 188.098 217.973 Q188.098 226.7 185.019 231.306 Q181.964 235.89 176.153 235.89 Q170.343 235.89 167.265 231.306 Q164.209 226.7 164.209 217.973 Q164.209 209.223 167.265 204.64 Q170.343 200.033 176.153 200.033 Z\" fill=\"#000000\" fill-rule=\"evenodd\" fill-opacity=\"1\" /><circle clip-path=\"url(#clip482)\" cx=\"834.425\" cy=\"181.671\" r=\"14.4\" fill=\"#008000\" fill-rule=\"evenodd\" fill-opacity=\"1\" stroke=\"#000000\" stroke-opacity=\"1\" stroke-width=\"3.2\"/>\n<circle clip-path=\"url(#clip482)\" cx=\"700.187\" cy=\"151.275\" r=\"14.4\" fill=\"#008000\" fill-rule=\"evenodd\" fill-opacity=\"1\" stroke=\"#000000\" stroke-opacity=\"1\" stroke-width=\"3.2\"/>\n<circle clip-path=\"url(#clip482)\" cx=\"861.322\" cy=\"192.868\" r=\"14.4\" fill=\"#008000\" fill-rule=\"evenodd\" fill-opacity=\"1\" stroke=\"#000000\" stroke-opacity=\"1\" stroke-width=\"3.2\"/>\n<circle clip-path=\"url(#clip482)\" cx=\"284.343\" cy=\"87.9763\" r=\"14.4\" fill=\"#008000\" fill-rule=\"evenodd\" fill-opacity=\"1\" stroke=\"#000000\" stroke-opacity=\"1\" stroke-width=\"3.2\"/>\n<circle clip-path=\"url(#clip482)\" cx=\"694.667\" cy=\"156.876\" r=\"14.4\" fill=\"#008000\" fill-rule=\"evenodd\" fill-opacity=\"1\" stroke=\"#000000\" stroke-opacity=\"1\" stroke-width=\"3.2\"/>\n<circle clip-path=\"url(#clip482)\" cx=\"581.246\" cy=\"108.619\" r=\"14.4\" fill=\"#008000\" fill-rule=\"evenodd\" fill-opacity=\"1\" stroke=\"#000000\" stroke-opacity=\"1\" stroke-width=\"3.2\"/>\n<circle clip-path=\"url(#clip482)\" cx=\"1055.29\" cy=\"179.56\" r=\"14.4\" fill=\"#008000\" fill-rule=\"evenodd\" fill-opacity=\"1\" stroke=\"#000000\" stroke-opacity=\"1\" stroke-width=\"3.2\"/>\n<circle clip-path=\"url(#clip482)\" cx=\"284.343\" cy=\"87.9763\" r=\"14.4\" fill=\"#008000\" fill-rule=\"evenodd\" fill-opacity=\"1\" stroke=\"#000000\" stroke-opacity=\"1\" stroke-width=\"3.2\"/>\n<circle clip-path=\"url(#clip482)\" cx=\"709.912\" cy=\"139.889\" r=\"14.4\" fill=\"#008000\" fill-rule=\"evenodd\" fill-opacity=\"1\" stroke=\"#000000\" stroke-opacity=\"1\" stroke-width=\"3.2\"/>\n<circle clip-path=\"url(#clip482)\" cx=\"896.274\" cy=\"730.485\" r=\"14.4\" fill=\"#008000\" fill-rule=\"evenodd\" fill-opacity=\"1\" stroke=\"#000000\" stroke-opacity=\"1\" stroke-width=\"3.2\"/>\n<circle clip-path=\"url(#clip482)\" cx=\"694.54\" cy=\"149.945\" r=\"14.4\" fill=\"#008000\" fill-rule=\"evenodd\" fill-opacity=\"1\" stroke=\"#000000\" stroke-opacity=\"1\" stroke-width=\"3.2\"/>\n<circle clip-path=\"url(#clip482)\" cx=\"1046.04\" cy=\"579.275\" r=\"14.4\" fill=\"#008000\" fill-rule=\"evenodd\" fill-opacity=\"1\" stroke=\"#000000\" stroke-opacity=\"1\" stroke-width=\"3.2\"/>\n<circle clip-path=\"url(#clip482)\" cx=\"698.608\" cy=\"152.169\" r=\"14.4\" fill=\"#008000\" fill-rule=\"evenodd\" fill-opacity=\"1\" stroke=\"#000000\" stroke-opacity=\"1\" stroke-width=\"3.2\"/>\n<circle clip-path=\"url(#clip482)\" cx=\"898.896\" cy=\"380.172\" r=\"14.4\" fill=\"#008000\" fill-rule=\"evenodd\" fill-opacity=\"1\" stroke=\"#000000\" stroke-opacity=\"1\" stroke-width=\"3.2\"/>\n<circle clip-path=\"url(#clip482)\" cx=\"581.246\" cy=\"108.619\" r=\"14.4\" fill=\"#008000\" fill-rule=\"evenodd\" fill-opacity=\"1\" stroke=\"#000000\" stroke-opacity=\"1\" stroke-width=\"3.2\"/>\n<circle clip-path=\"url(#clip482)\" cx=\"966.063\" cy=\"325.869\" r=\"14.4\" fill=\"#008000\" fill-rule=\"evenodd\" fill-opacity=\"1\" stroke=\"#000000\" stroke-opacity=\"1\" stroke-width=\"3.2\"/>\n<circle clip-path=\"url(#clip482)\" cx=\"949.36\" cy=\"239.432\" r=\"14.4\" fill=\"#008000\" fill-rule=\"evenodd\" fill-opacity=\"1\" stroke=\"#000000\" stroke-opacity=\"1\" stroke-width=\"3.2\"/>\n<circle clip-path=\"url(#clip482)\" cx=\"596.665\" cy=\"140.262\" r=\"14.4\" fill=\"#008000\" fill-rule=\"evenodd\" fill-opacity=\"1\" stroke=\"#000000\" stroke-opacity=\"1\" stroke-width=\"3.2\"/>\n<circle clip-path=\"url(#clip482)\" cx=\"284.343\" cy=\"87.9763\" r=\"14.4\" fill=\"#008000\" fill-rule=\"evenodd\" fill-opacity=\"1\" stroke=\"#000000\" stroke-opacity=\"1\" stroke-width=\"3.2\"/>\n<circle clip-path=\"url(#clip482)\" cx=\"284.343\" cy=\"87.9763\" r=\"14.4\" fill=\"#008000\" fill-rule=\"evenodd\" fill-opacity=\"1\" stroke=\"#000000\" stroke-opacity=\"1\" stroke-width=\"3.2\"/>\n<circle clip-path=\"url(#clip482)\" cx=\"284.343\" cy=\"87.9763\" r=\"14.4\" fill=\"#008000\" fill-rule=\"evenodd\" fill-opacity=\"1\" stroke=\"#000000\" stroke-opacity=\"1\" stroke-width=\"3.2\"/>\n<circle clip-path=\"url(#clip482)\" cx=\"566.607\" cy=\"313.117\" r=\"14.4\" fill=\"#008000\" fill-rule=\"evenodd\" fill-opacity=\"1\" stroke=\"#000000\" stroke-opacity=\"1\" stroke-width=\"3.2\"/>\n<circle clip-path=\"url(#clip482)\" cx=\"685.95\" cy=\"281.619\" r=\"14.4\" fill=\"#008000\" fill-rule=\"evenodd\" fill-opacity=\"1\" stroke=\"#000000\" stroke-opacity=\"1\" stroke-width=\"3.2\"/>\n<circle clip-path=\"url(#clip482)\" cx=\"284.343\" cy=\"87.9763\" r=\"14.4\" fill=\"#008000\" fill-rule=\"evenodd\" fill-opacity=\"1\" stroke=\"#000000\" stroke-opacity=\"1\" stroke-width=\"3.2\"/>\n<circle clip-path=\"url(#clip482)\" cx=\"696.81\" cy=\"298.092\" r=\"14.4\" fill=\"#008000\" fill-rule=\"evenodd\" fill-opacity=\"1\" stroke=\"#000000\" stroke-opacity=\"1\" stroke-width=\"3.2\"/>\n<circle clip-path=\"url(#clip482)\" cx=\"699.938\" cy=\"142.381\" r=\"14.4\" fill=\"#008000\" fill-rule=\"evenodd\" fill-opacity=\"1\" stroke=\"#000000\" stroke-opacity=\"1\" stroke-width=\"3.2\"/>\n<circle clip-path=\"url(#clip482)\" cx=\"714.869\" cy=\"656.452\" r=\"14.4\" fill=\"#008000\" fill-rule=\"evenodd\" fill-opacity=\"1\" stroke=\"#000000\" stroke-opacity=\"1\" stroke-width=\"3.2\"/>\n<circle clip-path=\"url(#clip482)\" cx=\"284.343\" cy=\"87.9763\" r=\"14.4\" fill=\"#008000\" fill-rule=\"evenodd\" fill-opacity=\"1\" stroke=\"#000000\" stroke-opacity=\"1\" stroke-width=\"3.2\"/>\n<circle clip-path=\"url(#clip482)\" cx=\"581.246\" cy=\"108.619\" r=\"14.4\" fill=\"#008000\" fill-rule=\"evenodd\" fill-opacity=\"1\" stroke=\"#000000\" stroke-opacity=\"1\" stroke-width=\"3.2\"/>\n<circle clip-path=\"url(#clip482)\" cx=\"904.377\" cy=\"725.112\" r=\"14.4\" fill=\"#008000\" fill-rule=\"evenodd\" fill-opacity=\"1\" stroke=\"#000000\" stroke-opacity=\"1\" stroke-width=\"3.2\"/>\n<circle clip-path=\"url(#clip482)\" cx=\"284.343\" cy=\"87.9763\" r=\"14.4\" fill=\"#008000\" fill-rule=\"evenodd\" fill-opacity=\"1\" stroke=\"#000000\" stroke-opacity=\"1\" stroke-width=\"3.2\"/>\n<circle clip-path=\"url(#clip482)\" cx=\"650.795\" cy=\"200.283\" r=\"14.4\" fill=\"#008000\" fill-rule=\"evenodd\" fill-opacity=\"1\" stroke=\"#000000\" stroke-opacity=\"1\" stroke-width=\"3.2\"/>\n<circle clip-path=\"url(#clip482)\" cx=\"284.343\" cy=\"87.9763\" r=\"14.4\" fill=\"#008000\" fill-rule=\"evenodd\" fill-opacity=\"1\" stroke=\"#000000\" stroke-opacity=\"1\" stroke-width=\"3.2\"/>\n<circle clip-path=\"url(#clip482)\" cx=\"581.246\" cy=\"108.619\" r=\"14.4\" fill=\"#008000\" fill-rule=\"evenodd\" fill-opacity=\"1\" stroke=\"#000000\" stroke-opacity=\"1\" stroke-width=\"3.2\"/>\n<circle clip-path=\"url(#clip482)\" cx=\"1027.56\" cy=\"564.478\" r=\"14.4\" fill=\"#008000\" fill-rule=\"evenodd\" fill-opacity=\"1\" stroke=\"#000000\" stroke-opacity=\"1\" stroke-width=\"3.2\"/>\n<circle clip-path=\"url(#clip482)\" cx=\"648.178\" cy=\"571.924\" r=\"14.4\" fill=\"#008000\" fill-rule=\"evenodd\" fill-opacity=\"1\" stroke=\"#000000\" stroke-opacity=\"1\" stroke-width=\"3.2\"/>\n<circle clip-path=\"url(#clip482)\" cx=\"810.331\" cy=\"425.542\" r=\"14.4\" fill=\"#008000\" fill-rule=\"evenodd\" fill-opacity=\"1\" stroke=\"#000000\" stroke-opacity=\"1\" stroke-width=\"3.2\"/>\n<circle clip-path=\"url(#clip482)\" cx=\"1067.15\" cy=\"581.004\" r=\"14.4\" fill=\"#008000\" fill-rule=\"evenodd\" fill-opacity=\"1\" stroke=\"#000000\" stroke-opacity=\"1\" stroke-width=\"3.2\"/>\n<circle clip-path=\"url(#clip482)\" cx=\"596.665\" cy=\"140.262\" r=\"14.4\" fill=\"#008000\" fill-rule=\"evenodd\" fill-opacity=\"1\" stroke=\"#000000\" stroke-opacity=\"1\" stroke-width=\"3.2\"/>\n<circle clip-path=\"url(#clip482)\" cx=\"849.939\" cy=\"371.215\" r=\"14.4\" fill=\"#008000\" fill-rule=\"evenodd\" fill-opacity=\"1\" stroke=\"#000000\" stroke-opacity=\"1\" stroke-width=\"3.2\"/>\n<circle clip-path=\"url(#clip482)\" cx=\"284.343\" cy=\"87.9763\" r=\"14.4\" fill=\"#008000\" fill-rule=\"evenodd\" fill-opacity=\"1\" stroke=\"#000000\" stroke-opacity=\"1\" stroke-width=\"3.2\"/>\n<circle clip-path=\"url(#clip482)\" cx=\"1330.36\" cy=\"1243.64\" r=\"14.4\" fill=\"#ffa500\" fill-rule=\"evenodd\" fill-opacity=\"1\" stroke=\"#000000\" stroke-opacity=\"1\" stroke-width=\"3.2\"/>\n<circle clip-path=\"url(#clip482)\" cx=\"1159.77\" cy=\"1301.79\" r=\"14.4\" fill=\"#ffa500\" fill-rule=\"evenodd\" fill-opacity=\"1\" stroke=\"#000000\" stroke-opacity=\"1\" stroke-width=\"3.2\"/>\n<circle clip-path=\"url(#clip482)\" cx=\"1344.65\" cy=\"1255.86\" r=\"14.4\" fill=\"#ffa500\" fill-rule=\"evenodd\" fill-opacity=\"1\" stroke=\"#000000\" stroke-opacity=\"1\" stroke-width=\"3.2\"/>\n<circle clip-path=\"url(#clip482)\" cx=\"1292.42\" cy=\"1383.14\" r=\"14.4\" fill=\"#ffa500\" fill-rule=\"evenodd\" fill-opacity=\"1\" stroke=\"#000000\" stroke-opacity=\"1\" stroke-width=\"3.2\"/>\n<circle clip-path=\"url(#clip482)\" cx=\"1190.54\" cy=\"1206.19\" r=\"14.4\" fill=\"#ffa500\" fill-rule=\"evenodd\" fill-opacity=\"1\" stroke=\"#000000\" stroke-opacity=\"1\" stroke-width=\"3.2\"/>\n<circle clip-path=\"url(#clip482)\" cx=\"992.473\" cy=\"1445.72\" r=\"14.4\" fill=\"#ffa500\" fill-rule=\"evenodd\" fill-opacity=\"1\" stroke=\"#000000\" stroke-opacity=\"1\" stroke-width=\"3.2\"/>\n<circle clip-path=\"url(#clip482)\" cx=\"1166.65\" cy=\"1303.41\" r=\"14.4\" fill=\"#ffa500\" fill-rule=\"evenodd\" fill-opacity=\"1\" stroke=\"#000000\" stroke-opacity=\"1\" stroke-width=\"3.2\"/>\n<circle clip-path=\"url(#clip482)\" cx=\"997.654\" cy=\"1285.05\" r=\"14.4\" fill=\"#ffa500\" fill-rule=\"evenodd\" fill-opacity=\"1\" stroke=\"#000000\" stroke-opacity=\"1\" stroke-width=\"3.2\"/>\n<circle clip-path=\"url(#clip482)\" cx=\"1107.73\" cy=\"1389.09\" r=\"14.4\" fill=\"#ffa500\" fill-rule=\"evenodd\" fill-opacity=\"1\" stroke=\"#000000\" stroke-opacity=\"1\" stroke-width=\"3.2\"/>\n<circle clip-path=\"url(#clip482)\" cx=\"1048.69\" cy=\"1159.46\" r=\"14.4\" fill=\"#ffa500\" fill-rule=\"evenodd\" fill-opacity=\"1\" stroke=\"#000000\" stroke-opacity=\"1\" stroke-width=\"3.2\"/>\n<circle clip-path=\"url(#clip482)\" cx=\"1361.01\" cy=\"1246.76\" r=\"14.4\" fill=\"#ffa500\" fill-rule=\"evenodd\" fill-opacity=\"1\" stroke=\"#000000\" stroke-opacity=\"1\" stroke-width=\"3.2\"/>\n<circle clip-path=\"url(#clip482)\" cx=\"898.14\" cy=\"1238.28\" r=\"14.4\" fill=\"#ffa500\" fill-rule=\"evenodd\" fill-opacity=\"1\" stroke=\"#000000\" stroke-opacity=\"1\" stroke-width=\"3.2\"/>\n<circle clip-path=\"url(#clip482)\" cx=\"1107.73\" cy=\"1389.09\" r=\"14.4\" fill=\"#ffa500\" fill-rule=\"evenodd\" fill-opacity=\"1\" stroke=\"#000000\" stroke-opacity=\"1\" stroke-width=\"3.2\"/>\n<circle clip-path=\"url(#clip482)\" cx=\"1077.25\" cy=\"1133.11\" r=\"14.4\" fill=\"#ffa500\" fill-rule=\"evenodd\" fill-opacity=\"1\" stroke=\"#000000\" stroke-opacity=\"1\" stroke-width=\"3.2\"/>\n<circle clip-path=\"url(#clip482)\" cx=\"992.473\" cy=\"1445.72\" r=\"14.4\" fill=\"#ffa500\" fill-rule=\"evenodd\" fill-opacity=\"1\" stroke=\"#000000\" stroke-opacity=\"1\" stroke-width=\"3.2\"/>\n<circle clip-path=\"url(#clip482)\" cx=\"992.473\" cy=\"1445.72\" r=\"14.4\" fill=\"#ffa500\" fill-rule=\"evenodd\" fill-opacity=\"1\" stroke=\"#000000\" stroke-opacity=\"1\" stroke-width=\"3.2\"/>\n<circle clip-path=\"url(#clip482)\" cx=\"1107.73\" cy=\"1389.09\" r=\"14.4\" fill=\"#ffa500\" fill-rule=\"evenodd\" fill-opacity=\"1\" stroke=\"#000000\" stroke-opacity=\"1\" stroke-width=\"3.2\"/>\n<circle clip-path=\"url(#clip482)\" cx=\"1069.47\" cy=\"1328.75\" r=\"14.4\" fill=\"#ffa500\" fill-rule=\"evenodd\" fill-opacity=\"1\" stroke=\"#000000\" stroke-opacity=\"1\" stroke-width=\"3.2\"/>\n<circle clip-path=\"url(#clip482)\" cx=\"925.737\" cy=\"1255.41\" r=\"14.4\" fill=\"#ffa500\" fill-rule=\"evenodd\" fill-opacity=\"1\" stroke=\"#000000\" stroke-opacity=\"1\" stroke-width=\"3.2\"/>\n<circle clip-path=\"url(#clip482)\" cx=\"1107.73\" cy=\"1389.09\" r=\"14.4\" fill=\"#ffa500\" fill-rule=\"evenodd\" fill-opacity=\"1\" stroke=\"#000000\" stroke-opacity=\"1\" stroke-width=\"3.2\"/>\n<circle clip-path=\"url(#clip482)\" cx=\"1117.78\" cy=\"1031.05\" r=\"14.4\" fill=\"#0000ff\" fill-rule=\"evenodd\" fill-opacity=\"1\" stroke=\"#000000\" stroke-opacity=\"1\" stroke-width=\"3.2\"/>\n<circle clip-path=\"url(#clip482)\" cx=\"1388.93\" cy=\"938.717\" r=\"14.4\" fill=\"#0000ff\" fill-rule=\"evenodd\" fill-opacity=\"1\" stroke=\"#000000\" stroke-opacity=\"1\" stroke-width=\"3.2\"/>\n<circle clip-path=\"url(#clip482)\" cx=\"795.803\" cy=\"1049.63\" r=\"14.4\" fill=\"#0000ff\" fill-rule=\"evenodd\" fill-opacity=\"1\" stroke=\"#000000\" stroke-opacity=\"1\" stroke-width=\"3.2\"/>\n<circle clip-path=\"url(#clip482)\" cx=\"1102.22\" cy=\"793.384\" r=\"14.4\" fill=\"#0000ff\" fill-rule=\"evenodd\" fill-opacity=\"1\" stroke=\"#000000\" stroke-opacity=\"1\" stroke-width=\"3.2\"/>\n<circle clip-path=\"url(#clip482)\" cx=\"659.588\" cy=\"825.433\" r=\"14.4\" fill=\"#0000ff\" fill-rule=\"evenodd\" fill-opacity=\"1\" stroke=\"#000000\" stroke-opacity=\"1\" stroke-width=\"3.2\"/>\n<circle clip-path=\"url(#clip482)\" cx=\"1256.62\" cy=\"1153.86\" r=\"14.4\" fill=\"#ff0000\" fill-rule=\"evenodd\" fill-opacity=\"1\" stroke=\"#000000\" stroke-opacity=\"1\" stroke-width=\"3.2\"/>\n<circle clip-path=\"url(#clip482)\" cx=\"1485.52\" cy=\"1094.33\" r=\"14.4\" fill=\"#ff0000\" fill-rule=\"evenodd\" fill-opacity=\"1\" stroke=\"#000000\" stroke-opacity=\"1\" stroke-width=\"3.2\"/>\n<circle clip-path=\"url(#clip482)\" cx=\"1251.54\" cy=\"1164.69\" r=\"14.4\" fill=\"#ff0000\" fill-rule=\"evenodd\" fill-opacity=\"1\" stroke=\"#000000\" stroke-opacity=\"1\" stroke-width=\"3.2\"/>\n<circle clip-path=\"url(#clip482)\" cx=\"1271.8\" cy=\"1176.68\" r=\"14.4\" fill=\"#ff0000\" fill-rule=\"evenodd\" fill-opacity=\"1\" stroke=\"#000000\" stroke-opacity=\"1\" stroke-width=\"3.2\"/>\n<circle clip-path=\"url(#clip482)\" cx=\"1025.09\" cy=\"1109.53\" r=\"14.4\" fill=\"#ff0000\" fill-rule=\"evenodd\" fill-opacity=\"1\" stroke=\"#000000\" stroke-opacity=\"1\" stroke-width=\"3.2\"/>\n<circle clip-path=\"url(#clip482)\" cx=\"1289.18\" cy=\"1180.24\" r=\"14.4\" fill=\"#ff0000\" fill-rule=\"evenodd\" fill-opacity=\"1\" stroke=\"#000000\" stroke-opacity=\"1\" stroke-width=\"3.2\"/>\n<circle clip-path=\"url(#clip482)\" cx=\"1266.35\" cy=\"1159.14\" r=\"14.4\" fill=\"#ff0000\" fill-rule=\"evenodd\" fill-opacity=\"1\" stroke=\"#000000\" stroke-opacity=\"1\" stroke-width=\"3.2\"/>\n<circle clip-path=\"url(#clip482)\" cx=\"1025.09\" cy=\"1109.53\" r=\"14.4\" fill=\"#ff0000\" fill-rule=\"evenodd\" fill-opacity=\"1\" stroke=\"#000000\" stroke-opacity=\"1\" stroke-width=\"3.2\"/>\n<circle clip-path=\"url(#clip482)\" cx=\"1276.93\" cy=\"1156.53\" r=\"14.4\" fill=\"#ff0000\" fill-rule=\"evenodd\" fill-opacity=\"1\" stroke=\"#000000\" stroke-opacity=\"1\" stroke-width=\"3.2\"/>\n<circle clip-path=\"url(#clip482)\" cx=\"1289.18\" cy=\"1180.24\" r=\"14.4\" fill=\"#ff0000\" fill-rule=\"evenodd\" fill-opacity=\"1\" stroke=\"#000000\" stroke-opacity=\"1\" stroke-width=\"3.2\"/>\n<circle clip-path=\"url(#clip482)\" cx=\"1289.18\" cy=\"1180.24\" r=\"14.4\" fill=\"#ff0000\" fill-rule=\"evenodd\" fill-opacity=\"1\" stroke=\"#000000\" stroke-opacity=\"1\" stroke-width=\"3.2\"/>\n<circle clip-path=\"url(#clip482)\" cx=\"1254.72\" cy=\"1071.23\" r=\"14.4\" fill=\"#ff0000\" fill-rule=\"evenodd\" fill-opacity=\"1\" stroke=\"#000000\" stroke-opacity=\"1\" stroke-width=\"3.2\"/>\n<circle clip-path=\"url(#clip482)\" cx=\"1025.09\" cy=\"1109.53\" r=\"14.4\" fill=\"#ff0000\" fill-rule=\"evenodd\" fill-opacity=\"1\" stroke=\"#000000\" stroke-opacity=\"1\" stroke-width=\"3.2\"/>\n<circle clip-path=\"url(#clip482)\" cx=\"923.061\" cy=\"923.538\" r=\"14.4\" fill=\"#ffff00\" fill-rule=\"evenodd\" fill-opacity=\"1\" stroke=\"#000000\" stroke-opacity=\"1\" stroke-width=\"3.2\"/>\n<circle clip-path=\"url(#clip482)\" cx=\"1220.48\" cy=\"905.997\" r=\"14.4\" fill=\"#ffff00\" fill-rule=\"evenodd\" fill-opacity=\"1\" stroke=\"#000000\" stroke-opacity=\"1\" stroke-width=\"3.2\"/>\n<circle clip-path=\"url(#clip482)\" cx=\"858.682\" cy=\"919.907\" r=\"14.4\" fill=\"#ffff00\" fill-rule=\"evenodd\" fill-opacity=\"1\" stroke=\"#000000\" stroke-opacity=\"1\" stroke-width=\"3.2\"/>\n<circle clip-path=\"url(#clip482)\" cx=\"1287.96\" cy=\"882.339\" r=\"14.4\" fill=\"#ffff00\" fill-rule=\"evenodd\" fill-opacity=\"1\" stroke=\"#000000\" stroke-opacity=\"1\" stroke-width=\"3.2\"/>\n<circle clip-path=\"url(#clip482)\" cx=\"1948.2\" cy=\"1163.45\" r=\"14.4\" fill=\"#800080\" fill-rule=\"evenodd\" fill-opacity=\"1\" stroke=\"#000000\" stroke-opacity=\"1\" stroke-width=\"3.2\"/>\n<circle clip-path=\"url(#clip482)\" cx=\"2059.45\" cy=\"1178.71\" r=\"14.4\" fill=\"#800080\" fill-rule=\"evenodd\" fill-opacity=\"1\" stroke=\"#000000\" stroke-opacity=\"1\" stroke-width=\"3.2\"/>\n<circle clip-path=\"url(#clip482)\" cx=\"1979.39\" cy=\"987.475\" r=\"14.4\" fill=\"#800080\" fill-rule=\"evenodd\" fill-opacity=\"1\" stroke=\"#000000\" stroke-opacity=\"1\" stroke-width=\"3.2\"/>\n<circle clip-path=\"url(#clip482)\" cx=\"1816.38\" cy=\"1038.08\" r=\"14.4\" fill=\"#800080\" fill-rule=\"evenodd\" fill-opacity=\"1\" stroke=\"#000000\" stroke-opacity=\"1\" stroke-width=\"3.2\"/>\n<circle clip-path=\"url(#clip482)\" cx=\"1723.35\" cy=\"1207.17\" r=\"14.4\" fill=\"#800080\" fill-rule=\"evenodd\" fill-opacity=\"1\" stroke=\"#000000\" stroke-opacity=\"1\" stroke-width=\"3.2\"/>\n<circle clip-path=\"url(#clip482)\" cx=\"1816.38\" cy=\"1038.08\" r=\"14.4\" fill=\"#800080\" fill-rule=\"evenodd\" fill-opacity=\"1\" stroke=\"#000000\" stroke-opacity=\"1\" stroke-width=\"3.2\"/>\n<circle clip-path=\"url(#clip482)\" cx=\"1948.2\" cy=\"1163.45\" r=\"14.4\" fill=\"#800080\" fill-rule=\"evenodd\" fill-opacity=\"1\" stroke=\"#000000\" stroke-opacity=\"1\" stroke-width=\"3.2\"/>\n<circle clip-path=\"url(#clip482)\" cx=\"2041.69\" cy=\"967.292\" r=\"14.4\" fill=\"#800080\" fill-rule=\"evenodd\" fill-opacity=\"1\" stroke=\"#000000\" stroke-opacity=\"1\" stroke-width=\"3.2\"/>\n<circle clip-path=\"url(#clip482)\" cx=\"2052.03\" cy=\"1260.18\" r=\"14.4\" fill=\"#000000\" fill-rule=\"evenodd\" fill-opacity=\"1\" stroke=\"none\"/>\n<circle clip-path=\"url(#clip482)\" cx=\"1998.43\" cy=\"1032.86\" r=\"14.4\" fill=\"#000000\" fill-rule=\"evenodd\" fill-opacity=\"1\" stroke=\"none\"/>\n<circle clip-path=\"url(#clip482)\" cx=\"2213.88\" cy=\"1201.01\" r=\"14.4\" fill=\"#000000\" fill-rule=\"evenodd\" fill-opacity=\"1\" stroke=\"none\"/>\n<circle clip-path=\"url(#clip482)\" cx=\"2219.37\" cy=\"1215.43\" r=\"14.4\" fill=\"#000000\" fill-rule=\"evenodd\" fill-opacity=\"1\" stroke=\"none\"/>\n<circle clip-path=\"url(#clip482)\" cx=\"1974.2\" cy=\"1067.44\" r=\"14.4\" fill=\"#000000\" fill-rule=\"evenodd\" fill-opacity=\"1\" stroke=\"none\"/>\n<circle clip-path=\"url(#clip482)\" cx=\"1760.25\" cy=\"820.409\" r=\"14.4\" fill=\"#000000\" fill-rule=\"evenodd\" fill-opacity=\"1\" stroke=\"none\"/>\n<circle clip-path=\"url(#clip482)\" cx=\"2111.13\" cy=\"1278.46\" r=\"14.4\" fill=\"#000000\" fill-rule=\"evenodd\" fill-opacity=\"1\" stroke=\"none\"/>\n<circle clip-path=\"url(#clip482)\" cx=\"1834.55\" cy=\"1217.12\" r=\"14.4\" fill=\"#000000\" fill-rule=\"evenodd\" fill-opacity=\"1\" stroke=\"none\"/>\n<circle clip-path=\"url(#clip482)\" cx=\"2292.51\" cy=\"1177.94\" r=\"14.4\" fill=\"#000000\" fill-rule=\"evenodd\" fill-opacity=\"1\" stroke=\"none\"/>\n<circle clip-path=\"url(#clip482)\" cx=\"1834.55\" cy=\"1217.12\" r=\"14.4\" fill=\"#000000\" fill-rule=\"evenodd\" fill-opacity=\"1\" stroke=\"none\"/>\n<path clip-path=\"url(#clip480)\" d=\"\nM1758.2 509.938 L2281.8 509.938 L2281.8 95.2176 L1758.2 95.2176  Z\n  \" fill=\"#ffffff\" fill-rule=\"evenodd\" fill-opacity=\"1\"/>\n<polyline clip-path=\"url(#clip480)\" style=\"stroke:#000000; stroke-linecap:round; stroke-linejoin:round; stroke-width:4; stroke-opacity:1; fill:none\" points=\"\n  1758.2,509.938 2281.8,509.938 2281.8,95.2176 1758.2,95.2176 1758.2,509.938 \n  \"/>\n<circle clip-path=\"url(#clip480)\" cx=\"1852.81\" cy=\"147.058\" r=\"23.04\" fill=\"#008000\" fill-rule=\"evenodd\" fill-opacity=\"1\" stroke=\"#000000\" stroke-opacity=\"1\" stroke-width=\"5.12\"/>\n<path clip-path=\"url(#clip480)\" d=\"M1967.76 143.389 Q1969.36 140.518 1971.58 139.153 Q1973.8 137.787 1976.81 137.787 Q1980.86 137.787 1983.06 140.634 Q1985.26 143.458 1985.26 148.689 L1985.26 164.338 L1980.98 164.338 L1980.98 148.828 Q1980.98 145.102 1979.66 143.296 Q1978.34 141.49 1975.63 141.49 Q1972.32 141.49 1970.4 143.69 Q1968.48 145.889 1968.48 149.685 L1968.48 164.338 L1964.2 164.338 L1964.2 148.828 Q1964.2 145.078 1962.88 143.296 Q1961.56 141.49 1958.8 141.49 Q1955.54 141.49 1953.62 143.713 Q1951.7 145.912 1951.7 149.685 L1951.7 164.338 L1947.42 164.338 L1947.42 138.412 L1951.7 138.412 L1951.7 142.44 Q1953.16 140.055 1955.19 138.921 Q1957.23 137.787 1960.03 137.787 Q1962.86 137.787 1964.82 139.222 Q1966.81 140.657 1967.76 143.389 Z\" fill=\"#000000\" fill-rule=\"evenodd\" fill-opacity=\"1\" /><path clip-path=\"url(#clip480)\" d=\"M2005.54 151.305 Q2000.38 151.305 1998.39 152.486 Q1996.4 153.666 1996.4 156.514 Q1996.4 158.782 1997.88 160.125 Q1999.38 161.444 2001.95 161.444 Q2005.49 161.444 2007.62 158.944 Q2009.78 156.421 2009.78 152.254 L2009.78 151.305 L2005.54 151.305 M2014.04 149.546 L2014.04 164.338 L2009.78 164.338 L2009.78 160.402 Q2008.32 162.763 2006.14 163.898 Q2003.97 165.009 2000.82 165.009 Q1996.84 165.009 1994.48 162.787 Q1992.14 160.541 1992.14 156.791 Q1992.14 152.416 1995.05 150.194 Q1997.99 147.972 2003.8 147.972 L2009.78 147.972 L2009.78 147.555 Q2009.78 144.615 2007.83 143.018 Q2005.91 141.398 2002.42 141.398 Q2000.19 141.398 1998.09 141.93 Q1995.98 142.463 1994.04 143.527 L1994.04 139.592 Q1996.37 138.69 1998.57 138.25 Q2000.77 137.787 2002.85 137.787 Q2008.48 137.787 2011.26 140.703 Q2014.04 143.62 2014.04 149.546 Z\" fill=\"#000000\" fill-rule=\"evenodd\" fill-opacity=\"1\" /><path clip-path=\"url(#clip480)\" d=\"M2042.99 143.389 Q2044.59 140.518 2046.81 139.153 Q2049.04 137.787 2052.04 137.787 Q2056.1 137.787 2058.29 140.634 Q2060.49 143.458 2060.49 148.689 L2060.49 164.338 L2056.21 164.338 L2056.21 148.828 Q2056.21 145.102 2054.89 143.296 Q2053.57 141.49 2050.86 141.49 Q2047.55 141.49 2045.63 143.69 Q2043.71 145.889 2043.71 149.685 L2043.71 164.338 L2039.43 164.338 L2039.43 148.828 Q2039.43 145.078 2038.11 143.296 Q2036.79 141.49 2034.04 141.49 Q2030.77 141.49 2028.85 143.713 Q2026.93 145.912 2026.93 149.685 L2026.93 164.338 L2022.65 164.338 L2022.65 138.412 L2026.93 138.412 L2026.93 142.44 Q2028.39 140.055 2030.42 138.921 Q2032.46 137.787 2035.26 137.787 Q2038.09 137.787 2040.05 139.222 Q2042.04 140.657 2042.99 143.389 Z\" fill=\"#000000\" fill-rule=\"evenodd\" fill-opacity=\"1\" /><path clip-path=\"url(#clip480)\" d=\"M2089.17 143.389 Q2090.77 140.518 2092.99 139.153 Q2095.22 137.787 2098.22 137.787 Q2102.28 137.787 2104.47 140.634 Q2106.67 143.458 2106.67 148.689 L2106.67 164.338 L2102.39 164.338 L2102.39 148.828 Q2102.39 145.102 2101.07 143.296 Q2099.75 141.49 2097.04 141.49 Q2093.73 141.49 2091.81 143.69 Q2089.89 145.889 2089.89 149.685 L2089.89 164.338 L2085.61 164.338 L2085.61 148.828 Q2085.61 145.078 2084.29 143.296 Q2082.97 141.49 2080.22 141.49 Q2076.95 141.49 2075.03 143.713 Q2073.11 145.912 2073.11 149.685 L2073.11 164.338 L2068.83 164.338 L2068.83 138.412 L2073.11 138.412 L2073.11 142.44 Q2074.57 140.055 2076.6 138.921 Q2078.64 137.787 2081.44 137.787 Q2084.27 137.787 2086.23 139.222 Q2088.22 140.657 2089.17 143.389 Z\" fill=\"#000000\" fill-rule=\"evenodd\" fill-opacity=\"1\" /><path clip-path=\"url(#clip480)\" d=\"M2126.95 151.305 Q2121.79 151.305 2119.8 152.486 Q2117.81 153.666 2117.81 156.514 Q2117.81 158.782 2119.29 160.125 Q2120.79 161.444 2123.36 161.444 Q2126.91 161.444 2129.03 158.944 Q2131.19 156.421 2131.19 152.254 L2131.19 151.305 L2126.95 151.305 M2135.45 149.546 L2135.45 164.338 L2131.19 164.338 L2131.19 160.402 Q2129.73 162.763 2127.55 163.898 Q2125.38 165.009 2122.23 165.009 Q2118.25 165.009 2115.89 162.787 Q2113.55 160.541 2113.55 156.791 Q2113.55 152.416 2116.47 150.194 Q2119.41 147.972 2125.22 147.972 L2131.19 147.972 L2131.19 147.555 Q2131.19 144.615 2129.24 143.018 Q2127.32 141.398 2123.83 141.398 Q2121.6 141.398 2119.5 141.93 Q2117.39 142.463 2115.45 143.527 L2115.45 139.592 Q2117.78 138.69 2119.98 138.25 Q2122.18 137.787 2124.27 137.787 Q2129.89 137.787 2132.67 140.703 Q2135.45 143.62 2135.45 149.546 Z\" fill=\"#000000\" fill-rule=\"evenodd\" fill-opacity=\"1\" /><path clip-path=\"url(#clip480)\" d=\"M2144.22 128.319 L2148.48 128.319 L2148.48 164.338 L2144.22 164.338 L2144.22 128.319 Z\" fill=\"#000000\" fill-rule=\"evenodd\" fill-opacity=\"1\" /><circle clip-path=\"url(#clip480)\" cx=\"1852.81\" cy=\"198.898\" r=\"23.04\" fill=\"#ffa500\" fill-rule=\"evenodd\" fill-opacity=\"1\" stroke=\"#000000\" stroke-opacity=\"1\" stroke-width=\"5.12\"/>\n<path clip-path=\"url(#clip480)\" d=\"M1966.19 203.238 Q1966.19 198.539 1964.24 195.877 Q1962.32 193.192 1958.94 193.192 Q1955.56 193.192 1953.62 195.877 Q1951.7 198.539 1951.7 203.238 Q1951.7 207.937 1953.62 210.622 Q1955.56 213.284 1958.94 213.284 Q1962.32 213.284 1964.24 210.622 Q1966.19 207.937 1966.19 203.238 M1951.7 194.187 Q1953.04 191.872 1955.08 190.761 Q1957.14 189.627 1959.98 189.627 Q1964.71 189.627 1967.65 193.377 Q1970.61 197.127 1970.61 203.238 Q1970.61 209.349 1967.65 213.099 Q1964.71 216.849 1959.98 216.849 Q1957.14 216.849 1955.08 215.738 Q1953.04 214.603 1951.7 212.289 L1951.7 216.178 L1947.42 216.178 L1947.42 180.159 L1951.7 180.159 L1951.7 194.187 Z\" fill=\"#000000\" fill-rule=\"evenodd\" fill-opacity=\"1\" /><path clip-path=\"url(#clip480)\" d=\"M1977.67 190.252 L1981.93 190.252 L1981.93 216.178 L1977.67 216.178 L1977.67 190.252 M1977.67 180.159 L1981.93 180.159 L1981.93 185.553 L1977.67 185.553 L1977.67 180.159 Z\" fill=\"#000000\" fill-rule=\"evenodd\" fill-opacity=\"1\" /><path clip-path=\"url(#clip480)\" d=\"M2005.86 194.233 Q2005.15 193.817 2004.29 193.631 Q2003.46 193.423 2002.44 193.423 Q1998.83 193.423 1996.88 195.784 Q1994.96 198.122 1994.96 202.52 L1994.96 216.178 L1990.68 216.178 L1990.68 190.252 L1994.96 190.252 L1994.96 194.28 Q1996.3 191.918 1998.46 190.784 Q2000.61 189.627 2003.69 189.627 Q2004.13 189.627 2004.66 189.696 Q2005.19 189.743 2005.84 189.858 L2005.86 194.233 Z\" fill=\"#000000\" fill-rule=\"evenodd\" fill-opacity=\"1\" /><path clip-path=\"url(#clip480)\" d=\"M2026.56 194.187 L2026.56 180.159 L2030.82 180.159 L2030.82 216.178 L2026.56 216.178 L2026.56 212.289 Q2025.22 214.603 2023.16 215.738 Q2021.12 216.849 2018.25 216.849 Q2013.55 216.849 2010.59 213.099 Q2007.65 209.349 2007.65 203.238 Q2007.65 197.127 2010.59 193.377 Q2013.55 189.627 2018.25 189.627 Q2021.12 189.627 2023.16 190.761 Q2025.22 191.872 2026.56 194.187 M2012.04 203.238 Q2012.04 207.937 2013.97 210.622 Q2015.91 213.284 2019.29 213.284 Q2022.67 213.284 2024.61 210.622 Q2026.56 207.937 2026.56 203.238 Q2026.56 198.539 2024.61 195.877 Q2022.67 193.192 2019.29 193.192 Q2015.91 193.192 2013.97 195.877 Q2012.04 198.539 2012.04 203.238 Z\" fill=\"#000000\" fill-rule=\"evenodd\" fill-opacity=\"1\" /><circle clip-path=\"url(#clip480)\" cx=\"1852.81\" cy=\"250.738\" r=\"23.04\" fill=\"#0000ff\" fill-rule=\"evenodd\" fill-opacity=\"1\" stroke=\"#000000\" stroke-opacity=\"1\" stroke-width=\"5.12\"/>\n<path clip-path=\"url(#clip480)\" d=\"M1962.6 246.073 Q1961.88 245.657 1961.03 245.471 Q1960.19 245.263 1959.17 245.263 Q1955.56 245.263 1953.62 247.624 Q1951.7 249.962 1951.7 254.36 L1951.7 268.018 L1947.42 268.018 L1947.42 242.092 L1951.7 242.092 L1951.7 246.12 Q1953.04 243.758 1955.19 242.624 Q1957.35 241.467 1960.42 241.467 Q1960.86 241.467 1961.4 241.536 Q1961.93 241.583 1962.58 241.698 L1962.6 246.073 Z\" fill=\"#000000\" fill-rule=\"evenodd\" fill-opacity=\"1\" /><path clip-path=\"url(#clip480)\" d=\"M1988.2 253.99 L1988.2 256.073 L1968.62 256.073 Q1968.9 260.471 1971.26 262.786 Q1973.64 265.078 1977.88 265.078 Q1980.33 265.078 1982.62 264.476 Q1984.94 263.874 1987.21 262.67 L1987.21 266.698 Q1984.92 267.67 1982.51 268.18 Q1980.1 268.689 1977.62 268.689 Q1971.42 268.689 1967.79 265.078 Q1964.17 261.467 1964.17 255.309 Q1964.17 248.944 1967.6 245.217 Q1971.05 241.467 1976.88 241.467 Q1982.11 241.467 1985.15 244.846 Q1988.2 248.203 1988.2 253.99 M1983.94 252.74 Q1983.9 249.245 1981.98 247.161 Q1980.08 245.078 1976.93 245.078 Q1973.36 245.078 1971.21 247.092 Q1969.08 249.106 1968.76 252.763 L1983.94 252.74 Z\" fill=\"#000000\" fill-rule=\"evenodd\" fill-opacity=\"1\" /><path clip-path=\"url(#clip480)\" d=\"M1999.31 264.129 L1999.31 277.879 L1995.03 277.879 L1995.03 242.092 L1999.31 242.092 L1999.31 246.027 Q2000.66 243.712 2002.69 242.601 Q2004.75 241.467 2007.6 241.467 Q2012.32 241.467 2015.26 245.217 Q2018.23 248.967 2018.23 255.078 Q2018.23 261.189 2015.26 264.939 Q2012.32 268.689 2007.6 268.689 Q2004.75 268.689 2002.69 267.578 Q2000.66 266.443 1999.31 264.129 M2013.8 255.078 Q2013.8 250.379 2011.86 247.717 Q2009.94 245.032 2006.56 245.032 Q2003.18 245.032 2001.23 247.717 Q1999.31 250.379 1999.31 255.078 Q1999.31 259.777 2001.23 262.462 Q2003.18 265.124 2006.56 265.124 Q2009.94 265.124 2011.86 262.462 Q2013.8 259.777 2013.8 255.078 Z\" fill=\"#000000\" fill-rule=\"evenodd\" fill-opacity=\"1\" /><path clip-path=\"url(#clip480)\" d=\"M2029.5 234.731 L2029.5 242.092 L2038.27 242.092 L2038.27 245.402 L2029.5 245.402 L2029.5 259.476 Q2029.5 262.647 2030.35 263.55 Q2031.23 264.453 2033.9 264.453 L2038.27 264.453 L2038.27 268.018 L2033.9 268.018 Q2028.97 268.018 2027.09 266.189 Q2025.22 264.337 2025.22 259.476 L2025.22 245.402 L2022.09 245.402 L2022.09 242.092 L2025.22 242.092 L2025.22 234.731 L2029.5 234.731 Z\" fill=\"#000000\" fill-rule=\"evenodd\" fill-opacity=\"1\" /><path clip-path=\"url(#clip480)\" d=\"M2043.87 242.092 L2048.13 242.092 L2048.13 268.018 L2043.87 268.018 L2043.87 242.092 M2043.87 231.999 L2048.13 231.999 L2048.13 237.393 L2043.87 237.393 L2043.87 231.999 Z\" fill=\"#000000\" fill-rule=\"evenodd\" fill-opacity=\"1\" /><path clip-path=\"url(#clip480)\" d=\"M2057.04 231.999 L2061.3 231.999 L2061.3 268.018 L2057.04 268.018 L2057.04 231.999 Z\" fill=\"#000000\" fill-rule=\"evenodd\" fill-opacity=\"1\" /><path clip-path=\"url(#clip480)\" d=\"M2092.39 253.99 L2092.39 256.073 L2072.81 256.073 Q2073.09 260.471 2075.45 262.786 Q2077.83 265.078 2082.07 265.078 Q2084.52 265.078 2086.81 264.476 Q2089.13 263.874 2091.4 262.67 L2091.4 266.698 Q2089.1 267.67 2086.7 268.18 Q2084.29 268.689 2081.81 268.689 Q2075.61 268.689 2071.97 265.078 Q2068.36 261.467 2068.36 255.309 Q2068.36 248.944 2071.79 245.217 Q2075.24 241.467 2081.07 241.467 Q2086.3 241.467 2089.34 244.846 Q2092.39 248.203 2092.39 253.99 M2088.13 252.74 Q2088.09 249.245 2086.16 247.161 Q2084.27 245.078 2081.12 245.078 Q2077.55 245.078 2075.4 247.092 Q2073.27 249.106 2072.95 252.763 L2088.13 252.74 Z\" fill=\"#000000\" fill-rule=\"evenodd\" fill-opacity=\"1\" /><circle clip-path=\"url(#clip480)\" cx=\"1852.81\" cy=\"302.578\" r=\"23.04\" fill=\"#ff0000\" fill-rule=\"evenodd\" fill-opacity=\"1\" stroke=\"#000000\" stroke-opacity=\"1\" stroke-width=\"5.12\"/>\n<path clip-path=\"url(#clip480)\" d=\"M1963.92 283.839 L1963.92 287.381 L1959.85 287.381 Q1957.55 287.381 1956.65 288.307 Q1955.77 289.233 1955.77 291.64 L1955.77 293.932 L1962.79 293.932 L1962.79 297.242 L1955.77 297.242 L1955.77 319.858 L1951.49 319.858 L1951.49 297.242 L1947.42 297.242 L1947.42 293.932 L1951.49 293.932 L1951.49 292.126 Q1951.49 287.798 1953.5 285.83 Q1955.52 283.839 1959.89 283.839 L1963.92 283.839 Z\" fill=\"#000000\" fill-rule=\"evenodd\" fill-opacity=\"1\" /><path clip-path=\"url(#clip480)\" d=\"M1967.48 293.932 L1971.74 293.932 L1971.74 319.858 L1967.48 319.858 L1967.48 293.932 M1967.48 283.839 L1971.74 283.839 L1971.74 289.233 L1967.48 289.233 L1967.48 283.839 Z\" fill=\"#000000\" fill-rule=\"evenodd\" fill-opacity=\"1\" /><path clip-path=\"url(#clip480)\" d=\"M1997.18 294.696 L1997.18 298.723 Q1995.38 297.797 1993.43 297.335 Q1991.49 296.872 1989.41 296.872 Q1986.23 296.872 1984.64 297.844 Q1983.06 298.816 1983.06 300.76 Q1983.06 302.242 1984.2 303.098 Q1985.33 303.932 1988.76 304.696 L1990.22 305.02 Q1994.75 305.992 1996.65 307.774 Q1998.57 309.534 1998.57 312.705 Q1998.57 316.316 1995.7 318.422 Q1992.85 320.529 1987.85 320.529 Q1985.77 320.529 1983.5 320.112 Q1981.26 319.719 1978.76 318.908 L1978.76 314.51 Q1981.12 315.737 1983.41 316.362 Q1985.7 316.964 1987.95 316.964 Q1990.96 316.964 1992.58 315.946 Q1994.2 314.904 1994.2 313.029 Q1994.2 311.293 1993.02 310.367 Q1991.86 309.441 1987.9 308.584 L1986.42 308.237 Q1982.46 307.404 1980.7 305.691 Q1978.94 303.955 1978.94 300.946 Q1978.94 297.288 1981.54 295.298 Q1984.13 293.307 1988.9 293.307 Q1991.26 293.307 1993.34 293.654 Q1995.42 294.001 1997.18 294.696 Z\" fill=\"#000000\" fill-rule=\"evenodd\" fill-opacity=\"1\" /><path clip-path=\"url(#clip480)\" d=\"M2026.91 304.209 L2026.91 319.858 L2022.65 319.858 L2022.65 304.348 Q2022.65 300.668 2021.21 298.839 Q2019.78 297.01 2016.91 297.01 Q2013.46 297.01 2011.47 299.21 Q2009.48 301.409 2009.48 305.205 L2009.48 319.858 L2005.19 319.858 L2005.19 283.839 L2009.48 283.839 L2009.48 297.96 Q2011 295.622 2013.06 294.464 Q2015.15 293.307 2017.85 293.307 Q2022.32 293.307 2024.61 296.085 Q2026.91 298.839 2026.91 304.209 Z\" fill=\"#000000\" fill-rule=\"evenodd\" fill-opacity=\"1\" /><circle clip-path=\"url(#clip480)\" cx=\"1852.81\" cy=\"354.418\" r=\"23.04\" fill=\"#ffff00\" fill-rule=\"evenodd\" fill-opacity=\"1\" stroke=\"#000000\" stroke-opacity=\"1\" stroke-width=\"5.12\"/>\n<path clip-path=\"url(#clip480)\" d=\"M1960.82 358.665 Q1955.66 358.665 1953.67 359.846 Q1951.67 361.026 1951.67 363.874 Q1951.67 366.142 1953.16 367.485 Q1954.66 368.804 1957.23 368.804 Q1960.77 368.804 1962.9 366.304 Q1965.05 363.781 1965.05 359.614 L1965.05 358.665 L1960.82 358.665 M1969.31 356.906 L1969.31 371.698 L1965.05 371.698 L1965.05 367.762 Q1963.6 370.123 1961.42 371.258 Q1959.24 372.369 1956.1 372.369 Q1952.11 372.369 1949.75 370.147 Q1947.42 367.901 1947.42 364.151 Q1947.42 359.776 1950.33 357.554 Q1953.27 355.332 1959.08 355.332 L1965.05 355.332 L1965.05 354.915 Q1965.05 351.975 1963.11 350.378 Q1961.19 348.758 1957.69 348.758 Q1955.47 348.758 1953.36 349.29 Q1951.26 349.823 1949.31 350.887 L1949.31 346.952 Q1951.65 346.05 1953.85 345.61 Q1956.05 345.147 1958.13 345.147 Q1963.76 345.147 1966.54 348.063 Q1969.31 350.98 1969.31 356.906 Z\" fill=\"#000000\" fill-rule=\"evenodd\" fill-opacity=\"1\" /><path clip-path=\"url(#clip480)\" d=\"M1998.27 350.749 Q1999.87 347.878 2002.09 346.513 Q2004.31 345.147 2007.32 345.147 Q2011.37 345.147 2013.57 347.994 Q2015.77 350.818 2015.77 356.049 L2015.77 371.698 L2011.49 371.698 L2011.49 356.188 Q2011.49 352.462 2010.17 350.656 Q2008.85 348.85 2006.14 348.85 Q2002.83 348.85 2000.91 351.05 Q1998.99 353.249 1998.99 357.045 L1998.99 371.698 L1994.71 371.698 L1994.71 356.188 Q1994.71 352.438 1993.39 350.656 Q1992.07 348.85 1989.31 348.85 Q1986.05 348.85 1984.13 351.073 Q1982.21 353.272 1982.21 357.045 L1982.21 371.698 L1977.92 371.698 L1977.92 345.772 L1982.21 345.772 L1982.21 349.8 Q1983.67 347.415 1985.7 346.281 Q1987.74 345.147 1990.54 345.147 Q1993.36 345.147 1995.33 346.582 Q1997.32 348.017 1998.27 350.749 Z\" fill=\"#000000\" fill-rule=\"evenodd\" fill-opacity=\"1\" /><path clip-path=\"url(#clip480)\" d=\"M2028.39 367.809 L2028.39 381.559 L2024.1 381.559 L2024.1 345.772 L2028.39 345.772 L2028.39 349.707 Q2029.73 347.392 2031.77 346.281 Q2033.83 345.147 2036.67 345.147 Q2041.4 345.147 2044.34 348.897 Q2047.3 352.647 2047.3 358.758 Q2047.3 364.869 2044.34 368.619 Q2041.4 372.369 2036.67 372.369 Q2033.83 372.369 2031.77 371.258 Q2029.73 370.123 2028.39 367.809 M2042.88 358.758 Q2042.88 354.059 2040.93 351.397 Q2039.01 348.712 2035.63 348.712 Q2032.25 348.712 2030.31 351.397 Q2028.39 354.059 2028.39 358.758 Q2028.39 363.457 2030.31 366.142 Q2032.25 368.804 2035.63 368.804 Q2039.01 368.804 2040.93 366.142 Q2042.88 363.457 2042.88 358.758 Z\" fill=\"#000000\" fill-rule=\"evenodd\" fill-opacity=\"1\" /><path clip-path=\"url(#clip480)\" d=\"M2075.91 356.049 L2075.91 371.698 L2071.65 371.698 L2071.65 356.188 Q2071.65 352.508 2070.22 350.679 Q2068.78 348.85 2065.91 348.85 Q2062.46 348.85 2060.47 351.05 Q2058.48 353.249 2058.48 357.045 L2058.48 371.698 L2054.2 371.698 L2054.2 335.679 L2058.48 335.679 L2058.48 349.8 Q2060.01 347.462 2062.07 346.304 Q2064.15 345.147 2066.86 345.147 Q2071.33 345.147 2073.62 347.925 Q2075.91 350.679 2075.91 356.049 Z\" fill=\"#000000\" fill-rule=\"evenodd\" fill-opacity=\"1\" /><path clip-path=\"url(#clip480)\" d=\"M2084.41 345.772 L2088.66 345.772 L2088.66 371.698 L2084.41 371.698 L2084.41 345.772 M2084.41 335.679 L2088.66 335.679 L2088.66 341.073 L2084.41 341.073 L2084.41 335.679 Z\" fill=\"#000000\" fill-rule=\"evenodd\" fill-opacity=\"1\" /><path clip-path=\"url(#clip480)\" d=\"M2116.19 358.758 Q2116.19 354.059 2114.24 351.397 Q2112.32 348.712 2108.94 348.712 Q2105.56 348.712 2103.62 351.397 Q2101.7 354.059 2101.7 358.758 Q2101.7 363.457 2103.62 366.142 Q2105.56 368.804 2108.94 368.804 Q2112.32 368.804 2114.24 366.142 Q2116.19 363.457 2116.19 358.758 M2101.7 349.707 Q2103.04 347.392 2105.08 346.281 Q2107.14 345.147 2109.98 345.147 Q2114.71 345.147 2117.65 348.897 Q2120.61 352.647 2120.61 358.758 Q2120.61 364.869 2117.65 368.619 Q2114.71 372.369 2109.98 372.369 Q2107.14 372.369 2105.08 371.258 Q2103.04 370.123 2101.7 367.809 L2101.7 371.698 L2097.41 371.698 L2097.41 335.679 L2101.7 335.679 L2101.7 349.707 Z\" fill=\"#000000\" fill-rule=\"evenodd\" fill-opacity=\"1\" /><path clip-path=\"url(#clip480)\" d=\"M2127.67 345.772 L2131.93 345.772 L2131.93 371.698 L2127.67 371.698 L2127.67 345.772 M2127.67 335.679 L2131.93 335.679 L2131.93 341.073 L2127.67 341.073 L2127.67 335.679 Z\" fill=\"#000000\" fill-rule=\"evenodd\" fill-opacity=\"1\" /><path clip-path=\"url(#clip480)\" d=\"M2152.62 358.665 Q2147.46 358.665 2145.47 359.846 Q2143.48 361.026 2143.48 363.874 Q2143.48 366.142 2144.96 367.485 Q2146.47 368.804 2149.03 368.804 Q2152.58 368.804 2154.71 366.304 Q2156.86 363.781 2156.86 359.614 L2156.86 358.665 L2152.62 358.665 M2161.12 356.906 L2161.12 371.698 L2156.86 371.698 L2156.86 367.762 Q2155.4 370.123 2153.22 371.258 Q2151.05 372.369 2147.9 372.369 Q2143.92 372.369 2141.56 370.147 Q2139.22 367.901 2139.22 364.151 Q2139.22 359.776 2142.14 357.554 Q2145.08 355.332 2150.89 355.332 L2156.86 355.332 L2156.86 354.915 Q2156.86 351.975 2154.91 350.378 Q2152.99 348.758 2149.5 348.758 Q2147.28 348.758 2145.17 349.29 Q2143.06 349.823 2141.12 350.887 L2141.12 346.952 Q2143.46 346.05 2145.66 345.61 Q2147.85 345.147 2149.94 345.147 Q2155.56 345.147 2158.34 348.063 Q2161.12 350.98 2161.12 356.906 Z\" fill=\"#000000\" fill-rule=\"evenodd\" fill-opacity=\"1\" /><path clip-path=\"url(#clip480)\" d=\"M2191.44 356.049 L2191.44 371.698 L2187.18 371.698 L2187.18 356.188 Q2187.18 352.508 2185.75 350.679 Q2184.31 348.85 2181.44 348.85 Q2177.99 348.85 2176 351.05 Q2174.01 353.249 2174.01 357.045 L2174.01 371.698 L2169.73 371.698 L2169.73 345.772 L2174.01 345.772 L2174.01 349.8 Q2175.54 347.462 2177.6 346.304 Q2179.68 345.147 2182.39 345.147 Q2186.86 345.147 2189.15 347.925 Q2191.44 350.679 2191.44 356.049 Z\" fill=\"#000000\" fill-rule=\"evenodd\" fill-opacity=\"1\" /><circle clip-path=\"url(#clip480)\" cx=\"1852.81\" cy=\"406.258\" r=\"23.04\" fill=\"#800080\" fill-rule=\"evenodd\" fill-opacity=\"1\" stroke=\"#000000\" stroke-opacity=\"1\" stroke-width=\"5.12\"/>\n<path clip-path=\"url(#clip480)\" d=\"M1966.19 410.598 Q1966.19 405.899 1964.24 403.237 Q1962.32 400.552 1958.94 400.552 Q1955.56 400.552 1953.62 403.237 Q1951.7 405.899 1951.7 410.598 Q1951.7 415.297 1953.62 417.982 Q1955.56 420.644 1958.94 420.644 Q1962.32 420.644 1964.24 417.982 Q1966.19 415.297 1966.19 410.598 M1951.7 401.547 Q1953.04 399.232 1955.08 398.121 Q1957.14 396.987 1959.98 396.987 Q1964.71 396.987 1967.65 400.737 Q1970.61 404.487 1970.61 410.598 Q1970.61 416.709 1967.65 420.459 Q1964.71 424.209 1959.98 424.209 Q1957.14 424.209 1955.08 423.098 Q1953.04 421.963 1951.7 419.649 L1951.7 423.538 L1947.42 423.538 L1947.42 387.519 L1951.7 387.519 L1951.7 401.547 Z\" fill=\"#000000\" fill-rule=\"evenodd\" fill-opacity=\"1\" /><path clip-path=\"url(#clip480)\" d=\"M1977.23 413.306 L1977.23 397.612 L1981.49 397.612 L1981.49 413.144 Q1981.49 416.825 1982.92 418.676 Q1984.36 420.505 1987.23 420.505 Q1990.68 420.505 1992.67 418.306 Q1994.68 416.107 1994.68 412.311 L1994.68 397.612 L1998.94 397.612 L1998.94 423.538 L1994.68 423.538 L1994.68 419.556 Q1993.13 421.917 1991.07 423.075 Q1989.04 424.209 1986.33 424.209 Q1981.86 424.209 1979.54 421.431 Q1977.23 418.653 1977.23 413.306 M1987.95 396.987 L1987.95 396.987 Z\" fill=\"#000000\" fill-rule=\"evenodd\" fill-opacity=\"1\" /><path clip-path=\"url(#clip480)\" d=\"M2024.78 410.274 Q2024.78 405.644 2022.85 403.098 Q2020.96 400.552 2017.51 400.552 Q2014.08 400.552 2012.16 403.098 Q2010.26 405.644 2010.26 410.274 Q2010.26 414.88 2012.16 417.426 Q2014.08 419.973 2017.51 419.973 Q2020.96 419.973 2022.85 417.426 Q2024.78 414.88 2024.78 410.274 M2029.04 420.32 Q2029.04 426.94 2026.1 430.158 Q2023.16 433.399 2017.09 433.399 Q2014.85 433.399 2012.85 433.051 Q2010.86 432.727 2008.99 432.033 L2008.99 427.889 Q2010.86 428.908 2012.69 429.394 Q2014.52 429.88 2016.42 429.88 Q2020.61 429.88 2022.69 427.681 Q2024.78 425.505 2024.78 421.084 L2024.78 418.977 Q2023.46 421.269 2021.4 422.403 Q2019.34 423.538 2016.47 423.538 Q2011.7 423.538 2008.78 419.903 Q2005.86 416.269 2005.86 410.274 Q2005.86 404.255 2008.78 400.621 Q2011.7 396.987 2016.47 396.987 Q2019.34 396.987 2021.4 398.121 Q2023.46 399.255 2024.78 401.547 L2024.78 397.612 L2029.04 397.612 L2029.04 420.32 Z\" fill=\"#000000\" fill-rule=\"evenodd\" fill-opacity=\"1\" /><circle clip-path=\"url(#clip480)\" cx=\"1852.81\" cy=\"458.098\" r=\"23.04\" fill=\"#000000\" fill-rule=\"evenodd\" fill-opacity=\"1\" stroke=\"none\"/>\n<path clip-path=\"url(#clip480)\" d=\"M1947.42 449.452 L1951.67 449.452 L1951.67 475.378 L1947.42 475.378 L1947.42 449.452 M1947.42 439.359 L1951.67 439.359 L1951.67 444.753 L1947.42 444.753 L1947.42 439.359 Z\" fill=\"#000000\" fill-rule=\"evenodd\" fill-opacity=\"1\" /><path clip-path=\"url(#clip480)\" d=\"M1982.14 459.729 L1982.14 475.378 L1977.88 475.378 L1977.88 459.868 Q1977.88 456.188 1976.44 454.359 Q1975.01 452.53 1972.14 452.53 Q1968.69 452.53 1966.7 454.73 Q1964.71 456.929 1964.71 460.725 L1964.71 475.378 L1960.42 475.378 L1960.42 449.452 L1964.71 449.452 L1964.71 453.48 Q1966.23 451.142 1968.29 449.984 Q1970.38 448.827 1973.09 448.827 Q1977.55 448.827 1979.85 451.605 Q1982.14 454.359 1982.14 459.729 Z\" fill=\"#000000\" fill-rule=\"evenodd\" fill-opacity=\"1\" /><path clip-path=\"url(#clip480)\" d=\"M1987.58 449.452 L1992.09 449.452 L2000.19 471.211 L2008.29 449.452 L2012.81 449.452 L2003.09 475.378 L1997.3 475.378 L1987.58 449.452 Z\" fill=\"#000000\" fill-rule=\"evenodd\" fill-opacity=\"1\" /><path clip-path=\"url(#clip480)\" d=\"M2040.86 461.35 L2040.86 463.433 L2021.28 463.433 Q2021.56 467.831 2023.92 470.146 Q2026.3 472.438 2030.54 472.438 Q2032.99 472.438 2035.29 471.836 Q2037.6 471.234 2039.87 470.03 L2039.87 474.058 Q2037.58 475.03 2035.17 475.54 Q2032.76 476.049 2030.29 476.049 Q2024.08 476.049 2020.45 472.438 Q2016.84 468.827 2016.84 462.669 Q2016.84 456.304 2020.26 452.577 Q2023.71 448.827 2029.54 448.827 Q2034.78 448.827 2037.81 452.206 Q2040.86 455.563 2040.86 461.35 M2036.6 460.1 Q2036.56 456.605 2034.64 454.521 Q2032.74 452.438 2029.59 452.438 Q2026.03 452.438 2023.87 454.452 Q2021.74 456.466 2021.42 460.123 L2036.6 460.1 Z\" fill=\"#000000\" fill-rule=\"evenodd\" fill-opacity=\"1\" /><path clip-path=\"url(#clip480)\" d=\"M2062.88 453.433 Q2062.16 453.017 2061.3 452.831 Q2060.47 452.623 2059.45 452.623 Q2055.84 452.623 2053.9 454.984 Q2051.97 457.322 2051.97 461.72 L2051.97 475.378 L2047.69 475.378 L2047.69 449.452 L2051.97 449.452 L2051.97 453.48 Q2053.32 451.118 2055.47 449.984 Q2057.62 448.827 2060.7 448.827 Q2061.14 448.827 2061.67 448.896 Q2062.21 448.943 2062.85 449.058 L2062.88 453.433 Z\" fill=\"#000000\" fill-rule=\"evenodd\" fill-opacity=\"1\" /><path clip-path=\"url(#clip480)\" d=\"M2071.56 442.091 L2071.56 449.452 L2080.33 449.452 L2080.33 452.762 L2071.56 452.762 L2071.56 466.836 Q2071.56 470.007 2072.41 470.91 Q2073.29 471.813 2075.96 471.813 L2080.33 471.813 L2080.33 475.378 L2075.96 475.378 Q2071.03 475.378 2069.15 473.549 Q2067.28 471.697 2067.28 466.836 L2067.28 452.762 L2064.15 452.762 L2064.15 449.452 L2067.28 449.452 L2067.28 442.091 L2071.56 442.091 Z\" fill=\"#000000\" fill-rule=\"evenodd\" fill-opacity=\"1\" /><path clip-path=\"url(#clip480)\" d=\"M2108.11 461.35 L2108.11 463.433 L2088.53 463.433 Q2088.8 467.831 2091.16 470.146 Q2093.55 472.438 2097.78 472.438 Q2100.24 472.438 2102.53 471.836 Q2104.85 471.234 2107.11 470.03 L2107.11 474.058 Q2104.82 475.03 2102.41 475.54 Q2100.01 476.049 2097.53 476.049 Q2091.33 476.049 2087.69 472.438 Q2084.08 468.827 2084.08 462.669 Q2084.08 456.304 2087.51 452.577 Q2090.96 448.827 2096.79 448.827 Q2102.02 448.827 2105.05 452.206 Q2108.11 455.563 2108.11 461.35 M2103.85 460.1 Q2103.8 456.605 2101.88 454.521 Q2099.98 452.438 2096.84 452.438 Q2093.27 452.438 2091.12 454.452 Q2088.99 456.466 2088.66 460.123 L2103.85 460.1 Z\" fill=\"#000000\" fill-rule=\"evenodd\" fill-opacity=\"1\" /><path clip-path=\"url(#clip480)\" d=\"M2133.71 462.438 Q2133.71 457.739 2131.77 455.077 Q2129.84 452.392 2126.47 452.392 Q2123.09 452.392 2121.14 455.077 Q2119.22 457.739 2119.22 462.438 Q2119.22 467.137 2121.14 469.822 Q2123.09 472.484 2126.47 472.484 Q2129.84 472.484 2131.77 469.822 Q2133.71 467.137 2133.71 462.438 M2119.22 453.387 Q2120.56 451.072 2122.6 449.961 Q2124.66 448.827 2127.51 448.827 Q2132.23 448.827 2135.17 452.577 Q2138.13 456.327 2138.13 462.438 Q2138.13 468.549 2135.17 472.299 Q2132.23 476.049 2127.51 476.049 Q2124.66 476.049 2122.6 474.938 Q2120.56 473.803 2119.22 471.489 L2119.22 475.378 L2114.94 475.378 L2114.94 439.359 L2119.22 439.359 L2119.22 453.387 Z\" fill=\"#000000\" fill-rule=\"evenodd\" fill-opacity=\"1\" /><path clip-path=\"url(#clip480)\" d=\"M2160.22 453.433 Q2159.5 453.017 2158.64 452.831 Q2157.81 452.623 2156.79 452.623 Q2153.18 452.623 2151.23 454.984 Q2149.31 457.322 2149.31 461.72 L2149.31 475.378 L2145.03 475.378 L2145.03 449.452 L2149.31 449.452 L2149.31 453.48 Q2150.65 451.118 2152.81 449.984 Q2154.96 448.827 2158.04 448.827 Q2158.48 448.827 2159.01 448.896 Q2159.54 448.943 2160.19 449.058 L2160.22 453.433 Z\" fill=\"#000000\" fill-rule=\"evenodd\" fill-opacity=\"1\" /><path clip-path=\"url(#clip480)\" d=\"M2176.47 462.345 Q2171.3 462.345 2169.31 463.526 Q2167.32 464.706 2167.32 467.554 Q2167.32 469.822 2168.8 471.165 Q2170.31 472.484 2172.88 472.484 Q2176.42 472.484 2178.55 469.984 Q2180.7 467.461 2180.7 463.294 L2180.7 462.345 L2176.47 462.345 M2184.96 460.586 L2184.96 475.378 L2180.7 475.378 L2180.7 471.442 Q2179.24 473.803 2177.07 474.938 Q2174.89 476.049 2171.74 476.049 Q2167.76 476.049 2165.4 473.827 Q2163.06 471.581 2163.06 467.831 Q2163.06 463.456 2165.98 461.234 Q2168.92 459.012 2174.73 459.012 L2180.7 459.012 L2180.7 458.595 Q2180.7 455.655 2178.76 454.058 Q2176.84 452.438 2173.34 452.438 Q2171.12 452.438 2169.01 452.97 Q2166.9 453.503 2164.96 454.567 L2164.96 450.632 Q2167.3 449.73 2169.5 449.29 Q2171.7 448.827 2173.78 448.827 Q2179.4 448.827 2182.18 451.743 Q2184.96 454.66 2184.96 460.586 Z\" fill=\"#000000\" fill-rule=\"evenodd\" fill-opacity=\"1\" /><path clip-path=\"url(#clip480)\" d=\"M2197.95 442.091 L2197.95 449.452 L2206.72 449.452 L2206.72 452.762 L2197.95 452.762 L2197.95 466.836 Q2197.95 470.007 2198.8 470.91 Q2199.68 471.813 2202.34 471.813 L2206.72 471.813 L2206.72 475.378 L2202.34 475.378 Q2197.41 475.378 2195.54 473.549 Q2193.66 471.697 2193.66 466.836 L2193.66 452.762 L2190.54 452.762 L2190.54 449.452 L2193.66 449.452 L2193.66 442.091 L2197.95 442.091 Z\" fill=\"#000000\" fill-rule=\"evenodd\" fill-opacity=\"1\" /><path clip-path=\"url(#clip480)\" d=\"M2234.5 461.35 L2234.5 463.433 L2214.91 463.433 Q2215.19 467.831 2217.55 470.146 Q2219.94 472.438 2224.17 472.438 Q2226.63 472.438 2228.92 471.836 Q2231.23 471.234 2233.5 470.03 L2233.5 474.058 Q2231.21 475.03 2228.8 475.54 Q2226.4 476.049 2223.92 476.049 Q2217.71 476.049 2214.08 472.438 Q2210.47 468.827 2210.47 462.669 Q2210.47 456.304 2213.9 452.577 Q2217.34 448.827 2223.18 448.827 Q2228.41 448.827 2231.44 452.206 Q2234.5 455.563 2234.5 461.35 M2230.24 460.1 Q2230.19 456.605 2228.27 454.521 Q2226.37 452.438 2223.22 452.438 Q2219.66 452.438 2217.51 454.452 Q2215.38 456.466 2215.05 460.123 L2230.24 460.1 Z\" fill=\"#000000\" fill-rule=\"evenodd\" fill-opacity=\"1\" /></svg>\n"
     },
     "execution_count": 19,
     "metadata": {},
     "output_type": "execute_result"
    }
   ],
   "source": [
    "using Plots\n",
    "\n",
    "function plotter()\n",
    "    colors = [:green, :orange, :blue, :red, :yellow, :purple, :black]\n",
    "    labels = [\"mammal\", \"bird\", \"reptile\", \"fish\", \"amphibian\", \"bug\", \"invertebrate\"]\n",
    "    fig = Plots.plot()\n",
    "\n",
    "    for i in 1:7\n",
    "        scatter!(fig, projS[indices[i], 1], projS[indices[i], 2], mc = colors[i], label=labels[i])\n",
    "    end\n",
    "    return fig\n",
    "end\n",
    "\n",
    "plotter()\n"
   ]
  },
  {
   "cell_type": "markdown",
   "metadata": {},
   "source": [
    "Even though only roughly half of the variance in the data is explained by the two first principle components, we have obtained a nicely clustered scatter plot considering the simplicity of our data set. It makes much sense on how the animals are seperated. With an higher variety of features, we could also improve the distinction between reptiles and amphibian and that of between bugs and invertebrate."
   ]
  }
 ],
 "metadata": {
  "kernelspec": {
   "display_name": "Julia 1.7.3",
   "language": "julia",
   "name": "julia-1.7"
  },
  "language_info": {
   "file_extension": ".jl",
   "mimetype": "application/julia",
   "name": "julia",
   "version": "1.7.3"
  },
  "orig_nbformat": 4,
  "vscode": {
   "interpreter": {
    "hash": "916dbcbb3f70747c44a77c7bcd40155683ae19c65e1c03b4aa3499c5328201f1"
   }
  }
 },
 "nbformat": 4,
 "nbformat_minor": 2
}

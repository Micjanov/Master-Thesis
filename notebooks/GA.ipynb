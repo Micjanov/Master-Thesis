{
 "cells": [
  {
   "cell_type": "code",
   "execution_count": 1,
   "metadata": {},
   "outputs": [],
   "source": [
    "\n",
    "include(\"../src/math.jl\")\n",
    "include(\"../src/experimental.jl\")\n",
    "using MLJ\n",
    "using MLDataPattern\n",
    "using DataFrames\n",
    "using XGBoost\n",
    "using MLJXGBoostInterface\n",
    "using Plots\n",
    "using MultivariateStats\n",
    "using MLJBase\n",
    "using Printf\n",
    "using UMAP\n",
    "using ThreadSafeDicts\n",
    "using MLJ\n",
    "using Printf\n",
    "using CategoricalArrays\n",
    "using BioAlignments\n",
    "using CSV"
   ]
  },
  {
   "cell_type": "code",
   "execution_count": 25,
   "metadata": {},
   "outputs": [
    {
     "data": {
      "text/plain": [
       "\"/home/mfat/Master-Thesis/thesis/Fig/seqs.png\""
      ]
     },
     "metadata": {},
     "output_type": "display_data"
    }
   ],
   "source": [
    "df = DataFrame(CSV.File(\"../data/pdb.csv\"))\n",
    "\n",
    "delete!(df, 13)\n",
    "p = bar(df.Year, [df.pdb,df.seq], label = [\"PDB entries\" \"Number of Uniprot entries added\"],  xlabel = \"Year\", ylabel = \"Entries\")\n",
    "savefig(p, \"../thesis/Fig/seqs.png\")"
   ]
  },
  {
   "cell_type": "code",
   "execution_count": 18,
   "metadata": {},
   "outputs": [
    {
     "name": "stderr",
     "output_type": "stream",
     "text": [
      "\u001b[32m\u001b[1m   Resolving\u001b[22m\u001b[39m package versions...\n"
     ]
    },
    {
     "ename": "Pkg.Resolve.ResolverError",
     "evalue": "Unsatisfiable requirements detected for package \u001b[38;5;11mStatPlots [60ddc479]\u001b[39m:\n \u001b[38;5;11mStatPlots [60ddc479]\u001b[39m log:\n ├─possible versions are: \u001b[38;5;11m0.8.0-0.9.2\u001b[39m or uninstalled\n ├─restricted to versions \u001b[38;5;11m*\u001b[39m by an explicit requirement, leaving only versions: \u001b[38;5;11m0.8.0-0.9.2\u001b[39m\n └─restricted by julia compatibility requirements to versions: uninstalled — no versions left",
     "output_type": "error",
     "traceback": [
      "Unsatisfiable requirements detected for package \u001b[38;5;11mStatPlots [60ddc479]\u001b[39m:\n",
      " \u001b[38;5;11mStatPlots [60ddc479]\u001b[39m log:\n",
      " ├─possible versions are: \u001b[38;5;11m0.8.0-0.9.2\u001b[39m or uninstalled\n",
      " ├─restricted to versions \u001b[38;5;11m*\u001b[39m by an explicit requirement, leaving only versions: \u001b[38;5;11m0.8.0-0.9.2\u001b[39m\n",
      " └─restricted by julia compatibility requirements to versions: uninstalled — no versions left\n",
      "\n",
      "Stacktrace:\n",
      "  [1] propagate_constraints!(graph::Pkg.Resolve.Graph, sources::Set{Int64}; log_events::Bool)\n",
      "    @ Pkg.Resolve ~/.julia/juliaup/julia-1.9.0+0.x64.linux.gnu/share/julia/stdlib/v1.9/Pkg/src/Resolve/graphtype.jl:1072\n",
      "  [2] propagate_constraints! (repeats 2 times)\n",
      "    @ ~/.julia/juliaup/julia-1.9.0+0.x64.linux.gnu/share/julia/stdlib/v1.9/Pkg/src/Resolve/graphtype.jl:1008 [inlined]\n",
      "  [3] simplify_graph!(graph::Pkg.Resolve.Graph, sources::Set{Int64}; clean_graph::Bool)\n",
      "    @ Pkg.Resolve ~/.julia/juliaup/julia-1.9.0+0.x64.linux.gnu/share/julia/stdlib/v1.9/Pkg/src/Resolve/graphtype.jl:1533\n",
      "  [4] simplify_graph! (repeats 2 times)\n",
      "    @ ~/.julia/juliaup/julia-1.9.0+0.x64.linux.gnu/share/julia/stdlib/v1.9/Pkg/src/Resolve/graphtype.jl:1532 [inlined]\n",
      "  [5] resolve_versions!(env::Pkg.Types.EnvCache, registries::Vector{Pkg.Registry.RegistryInstance}, pkgs::Vector{Pkg.Types.PackageSpec}, julia_version::VersionNumber, installed_only::Bool)\n",
      "    @ Pkg.Operations ~/.julia/juliaup/julia-1.9.0+0.x64.linux.gnu/share/julia/stdlib/v1.9/Pkg/src/Operations.jl:408\n",
      "  [6] targeted_resolve(env::Pkg.Types.EnvCache, registries::Vector{Pkg.Registry.RegistryInstance}, pkgs::Vector{Pkg.Types.PackageSpec}, preserve::Pkg.Types.PreserveLevel, julia_version::VersionNumber)\n",
      "    @ Pkg.Operations ~/.julia/juliaup/julia-1.9.0+0.x64.linux.gnu/share/julia/stdlib/v1.9/Pkg/src/Operations.jl:1356\n",
      "  [7] tiered_resolve(env::Pkg.Types.EnvCache, registries::Vector{Pkg.Registry.RegistryInstance}, pkgs::Vector{Pkg.Types.PackageSpec}, julia_version::VersionNumber, try_all_installed::Bool)\n",
      "    @ Pkg.Operations ~/.julia/juliaup/julia-1.9.0+0.x64.linux.gnu/share/julia/stdlib/v1.9/Pkg/src/Operations.jl:1345\n",
      "  [8] _resolve(io::VSCodeServer.IJuliaCore.IJuliaStdio{Base.PipeEndpoint, typeof(VSCodeServer.io_send_callback)}, env::Pkg.Types.EnvCache, registries::Vector{Pkg.Registry.RegistryInstance}, pkgs::Vector{Pkg.Types.PackageSpec}, preserve::Pkg.Types.PreserveLevel, julia_version::VersionNumber)\n",
      "    @ Pkg.Operations ~/.julia/juliaup/julia-1.9.0+0.x64.linux.gnu/share/julia/stdlib/v1.9/Pkg/src/Operations.jl:1366\n",
      "  [9] add(ctx::Pkg.Types.Context, pkgs::Vector{Pkg.Types.PackageSpec}, new_git::Set{Base.UUID}; preserve::Pkg.Types.PreserveLevel, platform::Base.BinaryPlatforms.Platform)\n",
      "    @ Pkg.Operations ~/.julia/juliaup/julia-1.9.0+0.x64.linux.gnu/share/julia/stdlib/v1.9/Pkg/src/Operations.jl:1383\n",
      " [10] add\n",
      "    @ ~/.julia/juliaup/julia-1.9.0+0.x64.linux.gnu/share/julia/stdlib/v1.9/Pkg/src/Operations.jl:1372 [inlined]\n",
      " [11] add(ctx::Pkg.Types.Context, pkgs::Vector{Pkg.Types.PackageSpec}; preserve::Pkg.Types.PreserveLevel, platform::Base.BinaryPlatforms.Platform, kwargs::Base.Pairs{Symbol, VSCodeServer.IJuliaCore.IJuliaStdio{Base.PipeEndpoint, typeof(VSCodeServer.io_send_callback)}, Tuple{Symbol}, NamedTuple{(:io,), Tuple{VSCodeServer.IJuliaCore.IJuliaStdio{Base.PipeEndpoint, typeof(VSCodeServer.io_send_callback)}}}})\n",
      "    @ Pkg.API ~/.julia/juliaup/julia-1.9.0+0.x64.linux.gnu/share/julia/stdlib/v1.9/Pkg/src/API.jl:275\n",
      " [12] add(pkgs::Vector{Pkg.Types.PackageSpec}; io::VSCodeServer.IJuliaCore.IJuliaStdio{Base.PipeEndpoint, typeof(VSCodeServer.io_send_callback)}, kwargs::Base.Pairs{Symbol, Union{}, Tuple{}, NamedTuple{(), Tuple{}}})\n",
      "    @ Pkg.API ~/.julia/juliaup/julia-1.9.0+0.x64.linux.gnu/share/julia/stdlib/v1.9/Pkg/src/API.jl:156\n",
      " [13] add(pkgs::Vector{Pkg.Types.PackageSpec})\n",
      "    @ Pkg.API ~/.julia/juliaup/julia-1.9.0+0.x64.linux.gnu/share/julia/stdlib/v1.9/Pkg/src/API.jl:145\n",
      " [14] #add#25\n",
      "    @ ~/.julia/juliaup/julia-1.9.0+0.x64.linux.gnu/share/julia/stdlib/v1.9/Pkg/src/API.jl:144 [inlined]\n",
      " [15] add\n",
      "    @ ~/.julia/juliaup/julia-1.9.0+0.x64.linux.gnu/share/julia/stdlib/v1.9/Pkg/src/API.jl:144 [inlined]\n",
      " [16] #add#24\n",
      "    @ ~/.julia/juliaup/julia-1.9.0+0.x64.linux.gnu/share/julia/stdlib/v1.9/Pkg/src/API.jl:143 [inlined]\n",
      " [17] add(pkg::String)\n",
      "    @ Pkg.API ~/.julia/juliaup/julia-1.9.0+0.x64.linux.gnu/share/julia/stdlib/v1.9/Pkg/src/API.jl:143\n",
      " [18] top-level scope\n",
      "    @ ~/Master-Thesis/notebooks/GA.ipynb:1"
     ]
    }
   ],
   "source": [
    "import Pkg; Pkg.add(\"StatPlots\")"
   ]
  },
  {
   "cell_type": "code",
   "execution_count": 32,
   "metadata": {},
   "outputs": [
    {
     "data": {
      "text/plain": [
       "\"/home/mfat/Master-Thesis/thesis/Fig/combined_plot_lines.png\""
      ]
     },
     "metadata": {},
     "output_type": "display_data"
    }
   ],
   "source": [
    "using DataFrames\n",
    "using CSV\n",
    "using Plots\n",
    "\n",
    "# Load the data from a CSV file\n",
    "df = DataFrame(CSV.File(\"../data/pdb.csv\"))\n",
    "xtick = minimum(df.Year):2:maximum(df.Year)\n",
    "# Create a plot\n",
    "p = plot(df.Year, df.pdb, linecolor = :blue, linewidth = 2, xticks=xtick, xlabel = \"Year\", label = \"PDB entries\", legend = :topleft, ylabel = \"PDB Entries\", dpi = 300, title = \"Number of PDB and UniParc entries\")\n",
    "\n",
    "# Create a new plot with a shared x-axis and independent y-axis\n",
    "plot!(twinx(), df.Year, df.seq, linecolor = :red, linewidth = 2, label = \"UniParc entries\", legend = :bottomright, ylabel = \"UniParc Entries\")\n",
    "\n",
    "# Save the combined plot to a file\n",
    "savefig(\"../thesis/Fig/combined_plot_lines.png\")\n"
   ]
  },
  {
   "cell_type": "code",
   "execution_count": 4,
   "metadata": {},
   "outputs": [
    {
     "data": {
      "text/plain": [
       "\"/home/mfat/Master-Thesis/thesis/Fig/combined_plots.png\""
      ]
     },
     "metadata": {},
     "output_type": "display_data"
    }
   ],
   "source": [
    "using DataFrames\n",
    "using CSV\n",
    "using Plots\n",
    "\n",
    "# Load the data from a CSV file\n",
    "df = DataFrame(CSV.File(\"../data/pdb.csv\"))\n",
    "\n",
    "# Create a plot with two subplots\n",
    "p = plot(layout = (2, 1), size = (800, 600))\n",
    "\n",
    "# Add the first subplot (PDB entries)\n",
    "bar!(p[1], df.Year, df.pdb, xlabel = \"Year\", ylabel = \"Entries\", yformatter = :plain, xticks = minimum(df.Year):maximum(df.Year), color=:blue, title=\"Number of PDB entries (a)\")\n",
    "\n",
    "# Add the second subplot (Number of Uniprot entries added)\n",
    "bar!(p[2], df.Year, df.seq, xlabel = \"Year\", ylabel = \"Entries\", yformatter = :plain, xticks = minimum(df.Year):maximum(df.Year), color=:red, title=\"Number of UniParc entries (b)\")\n",
    "\n",
    "# Save the combined plot to a file\n",
    "savefig(p, \"../thesis/Fig/combined_plots.png\")"
   ]
  },
  {
   "cell_type": "code",
   "execution_count": 12,
   "metadata": {},
   "outputs": [
    {
     "data": {
      "text/plain": [
       "\"/home/mfat/Master-Thesis/thesis/Fig/blosumtarget.png\""
      ]
     },
     "metadata": {},
     "output_type": "display_data"
    }
   ],
   "source": [
    "AA_list = ['A','C','D','E','F','G','H','I','K','L','M','N','P','Q','R','S','T','V','W','Y']\n",
    "b = [0.0 0.479 0.4995 0.4855 0.498 0.5063 0.4905 0.4929 0.496 0.4935 0.4867 0.4884 0.488 0.4937 0.4977 0.495 0.4859 0.4878 0.4803 0.4855; 0.479 0.0 0.4881 0.4897 0.4972 0.4905 0.4907 0.4877 0.4936 0.4921 0.4881 0.486 0.488 0.4949 0.4941 0.4928 0.4869 0.4888 0.4953 0.4899; 0.4995 0.4881 0.0 0.4884 0.4873 0.4912 0.486 0.4962 0.4929 0.4894 0.4928 0.4919 0.4957 0.4894 0.491 0.4855 0.4964 0.4913 0.4912 0.4902; 0.4855 0.4897 0.4884 0.0 0.4937 0.482 0.4982 0.4824 0.4879 0.4956 0.4924 0.4807 0.4957 0.494 0.4876 0.4981 0.4934 0.4853 0.4976 0.4814; 0.498 0.4972 0.4873 0.4937 0.0 0.4825 0.4965 0.4821 0.4944 0.5023 0.4855 0.4908 0.4788 0.4819 0.4867 0.4928 0.4939 0.4916 0.4895 0.4903; 0.5063 0.4905 0.4912 0.482 0.4825 0.0 0.4946 0.4898 0.4933 0.4888 0.492 0.4911 0.4991 0.4854 0.4914 0.4875 0.4872 0.4893 0.493 0.4814; 0.4905 0.4907 0.486 0.4982 0.4965 0.4946 0.0 0.4914 0.4981 0.4922 0.4948 0.4813 0.4949 0.5032 0.4892 0.4959 0.4976 0.4839 0.4834 0.486; 0.4929 0.4877 0.4962 0.4824 0.4821 0.4898 0.4914 0.0 0.4923 0.4926 0.4914 0.4859 0.4869 0.4904 0.5002 0.4921 0.4946 0.4909 0.4942 0.4878; 0.496 0.4936 0.4929 0.4879 0.4944 0.4933 0.4981 0.4923 0.0 0.4913 0.4903 0.4936 0.496 0.4931 0.4937 0.5014 0.4939 0.4956 0.4971 0.4889; 0.4935 0.4921 0.4894 0.4956 0.5023 0.4888 0.4922 0.4926 0.4913 0.0 0.489 0.5023 0.4885 0.4864 0.4936 0.4937 0.4944 0.4879 0.5002 0.4868; 0.4867 0.4881 0.4928 0.4924 0.4855 0.492 0.4948 0.4914 0.4903 0.489 0.0 0.4897 0.4921 0.4932 0.4942 0.4883 0.4936 0.4923 0.494 0.4984; 0.4884 0.486 0.4919 0.4807 0.4908 0.4911 0.4813 0.4859 0.4936 0.5023 0.4897 0.0 0.4894 0.4881 0.4887 0.4938 0.4893 0.4868 0.4933 0.4817; 0.488 0.488 0.4957 0.4957 0.4788 0.4991 0.4949 0.4869 0.496 0.4885 0.4921 0.4894 0.0 0.5035 0.4873 0.491 0.4875 0.4886 0.4843 0.4893; 0.4937 0.4949 0.4894 0.494 0.4819 0.4854 0.5032 0.4904 0.4931 0.4864 0.4932 0.4881 0.5035 0.0 0.4812 0.4919 0.4904 0.4887 0.492 0.4956; 0.4977 0.4941 0.491 0.4876 0.4867 0.4914 0.4892 0.5002 0.4937 0.4936 0.4942 0.4887 0.4873 0.4812 0.0 0.4985 0.4862 0.4901 0.4974 0.487; 0.495 0.4928 0.4855 0.4981 0.4928 0.4875 0.4959 0.4921 0.5014 0.4937 0.4883 0.4938 0.491 0.4919 0.4985 0.0 0.4853 0.488 0.4915 0.4847; 0.4859 0.4869 0.4964 0.4934 0.4939 0.4872 0.4976 0.4946 0.4939 0.4944 0.4936 0.4893 0.4875 0.4904 0.4862 0.4853 0.0 0.4949 0.4964 0.4904; 0.4878 0.4888 0.4913 0.4853 0.4916 0.4893 0.4839 0.4909 0.4956 0.4879 0.4923 0.4868 0.4886 0.4887 0.4901 0.488 0.4949 0.0 0.4943 0.4881; 0.4803 0.4953 0.4912 0.4976 0.4895 0.493 0.4834 0.4942 0.4971 0.5002 0.494 0.4933 0.4843 0.492 0.4974 0.4915 0.4964 0.4943 0.0 0.4874; 0.4855 0.4899 0.4902 0.4814 0.4903 0.4814 0.486 0.4878 0.4889 0.4868 0.4984 0.4817 0.4893 0.4956 0.487 0.4847 0.4904 0.4881 0.4874 0.0]\n",
    "\n",
    "\n",
    "\n",
    "heatmap(norm_blosum, title=\"Target BLOSUM62 distances\", xticks = (1:20, AA_list), yticks =  (1:20, AA_list), clims=(0.0,1.0), dpi = 300)\n",
    "savefig(\"../thesis/Fig/blosumtarget.png\")\n"
   ]
  },
  {
   "cell_type": "code",
   "execution_count": 2,
   "metadata": {},
   "outputs": [
    {
     "data": {
      "text/plain": [
       "SubstitutionMatrix{BioSymbols.AminoAcid, Int64}:\n",
       "             A      R      N      D      C      Q      E      G      H      I      L      K      M      F      P      S      T      W      Y      V      O      U      B      J      Z      X      *\n",
       "      A      0    112    111    126    195     91    107     60     86     94     96    106     84    113     27     99     58    148    112     64    1̲0̲0̲    1̲0̲0̲    1̲0̲0̲    1̲0̲0̲    1̲0̲0̲    1̲0̲0̲    1̲0̲0̲\n",
       "      R    112      0     86     96    180     43     54    125     29     97    102     26     91     97    103    110     71    101     77     96    1̲0̲0̲    1̲0̲0̲    1̲0̲0̲    1̲0̲0̲    1̲0̲0̲    1̲0̲0̲    1̲0̲0̲\n",
       "      N    111     86      0     23    139     46     42     80     68    149    153     94    142    158     91     46     65    174    143    133    1̲0̲0̲    1̲0̲0̲    1̲0̲0̲    1̲0̲0̲    1̲0̲0̲    1̲0̲0̲    1̲0̲0̲\n",
       "      D    126     96     23      0    154     61     45     94     81    168    172    101    160    177    108     65     85    181    160    152    1̲0̲0̲    1̲0̲0̲    1̲0̲0̲    1̲0̲0̲    1̲0̲0̲    1̲0̲0̲    1̲0̲0̲\n",
       "      C    195    180    139    154      0    154    170    159    174    198    198    202    196    205    169    112    149    215    194    192    1̲0̲0̲    1̲0̲0̲    1̲0̲0̲    1̲0̲0̲    1̲0̲0̲    1̲0̲0̲    1̲0̲0̲\n",
       "      Q     91     43     46     61    154      0     29     87     24    109    113     53    101    116     76     68     42    130     99     96    1̲0̲0̲    1̲0̲0̲    1̲0̲0̲    1̲0̲0̲    1̲0̲0̲    1̲0̲0̲    1̲0̲0̲\n",
       "      E    107     54     42     45    170     29      0     98     40    134    138     56    126    140     93     80     65    152    122    121    1̲0̲0̲    1̲0̲0̲    1̲0̲0̲    1̲0̲0̲    1̲0̲0̲    1̲0̲0̲    1̲0̲0̲\n",
       "      G     60    125     80     94    159     87     98      0     98    135    138    127    127    153     42     56     59    184    147    109    1̲0̲0̲    1̲0̲0̲    1̲0̲0̲    1̲0̲0̲    1̲0̲0̲    1̲0̲0̲    1̲0̲0̲\n",
       "      H     86     29     68     81    174     24     40     98      0     94     99     32     87    100     77     89     47    115     83     84    1̲0̲0̲    1̲0̲0̲    1̲0̲0̲    1̲0̲0̲    1̲0̲0̲    1̲0̲0̲    1̲0̲0̲\n",
       "      I     94     97    149    168    198    109    134    135     94      0      5    102     10     21     95    142     89     61     33     29    1̲0̲0̲    1̲0̲0̲    1̲0̲0̲    1̲0̲0̲    1̲0̲0̲    1̲0̲0̲    1̲0̲0̲\n",
       "      L     96    102    153    172    198    113    138    138     99      5      0    107     15     22     98    145     92     61     36     32    1̲0̲0̲    1̲0̲0̲    1̲0̲0̲    1̲0̲0̲    1̲0̲0̲    1̲0̲0̲    1̲0̲0̲\n",
       "      K    106     26     94    101    202     53     56    127     32    102    107      0     95    102    103    121     78    110     85     97    1̲0̲0̲    1̲0̲0̲    1̲0̲0̲    1̲0̲0̲    1̲0̲0̲    1̲0̲0̲    1̲0̲0̲\n",
       "      M     84     91    142    160    196    101    126    127     87     10     15     95      0     28     87    135     81     67     36     21    1̲0̲0̲    1̲0̲0̲    1̲0̲0̲    1̲0̲0̲    1̲0̲0̲    1̲0̲0̲    1̲0̲0̲\n",
       "      F    113     97    158    177    205    116    140    153    100     21     22    102     28      0    114    155    103     40     22     50    1̲0̲0̲    1̲0̲0̲    1̲0̲0̲    1̲0̲0̲    1̲0̲0̲    1̲0̲0̲    1̲0̲0̲\n",
       "      P     27    103     91    108    169     76     93     42     77     95     98    103     87    114      0     74     38    147    110     68    1̲0̲0̲    1̲0̲0̲    1̲0̲0̲    1̲0̲0̲    1̲0̲0̲    1̲0̲0̲    1̲0̲0̲\n",
       "      S     99    110     46     65    112     68     80     56     89    142    145    121    135    155     74      0     58    177    144    124    1̲0̲0̲    1̲0̲0̲    1̲0̲0̲    1̲0̲0̲    1̲0̲0̲    1̲0̲0̲    1̲0̲0̲\n",
       "      T     58     71     65     85    149     42     65     59     47     89     92     78     81    103     38     58      0    128     92     69    1̲0̲0̲    1̲0̲0̲    1̲0̲0̲    1̲0̲0̲    1̲0̲0̲    1̲0̲0̲    1̲0̲0̲\n",
       "      W    148    101    174    181    215    130    152    184    115     61     61    110     67     40    147    177    128      0     37     88    1̲0̲0̲    1̲0̲0̲    1̲0̲0̲    1̲0̲0̲    1̲0̲0̲    1̲0̲0̲    1̲0̲0̲\n",
       "      Y    112     77    143    160    194     99    122    147     83     33     36     85     36     22    110    144     92     37      0     55    1̲0̲0̲    1̲0̲0̲    1̲0̲0̲    1̲0̲0̲    1̲0̲0̲    1̲0̲0̲    1̲0̲0̲\n",
       "      V     64     96    133    152    192     96    121    109     84     29     32     97     21     50     68    124     69     88     55      0    1̲0̲0̲    1̲0̲0̲    1̲0̲0̲    1̲0̲0̲    1̲0̲0̲    1̲0̲0̲    1̲0̲0̲\n",
       "      O    1̲0̲0̲    1̲0̲0̲    1̲0̲0̲    1̲0̲0̲    1̲0̲0̲    1̲0̲0̲    1̲0̲0̲    1̲0̲0̲    1̲0̲0̲    1̲0̲0̲    1̲0̲0̲    1̲0̲0̲    1̲0̲0̲    1̲0̲0̲    1̲0̲0̲    1̲0̲0̲    1̲0̲0̲    1̲0̲0̲    1̲0̲0̲    1̲0̲0̲      0̲    1̲0̲0̲    1̲0̲0̲    1̲0̲0̲    1̲0̲0̲    1̲0̲0̲    1̲0̲0̲\n",
       "      U    1̲0̲0̲    1̲0̲0̲    1̲0̲0̲    1̲0̲0̲    1̲0̲0̲    1̲0̲0̲    1̲0̲0̲    1̲0̲0̲    1̲0̲0̲    1̲0̲0̲    1̲0̲0̲    1̲0̲0̲    1̲0̲0̲    1̲0̲0̲    1̲0̲0̲    1̲0̲0̲    1̲0̲0̲    1̲0̲0̲    1̲0̲0̲    1̲0̲0̲    1̲0̲0̲      0̲    1̲0̲0̲    1̲0̲0̲    1̲0̲0̲    1̲0̲0̲    1̲0̲0̲\n",
       "      B    1̲0̲0̲    1̲0̲0̲    1̲0̲0̲    1̲0̲0̲    1̲0̲0̲    1̲0̲0̲    1̲0̲0̲    1̲0̲0̲    1̲0̲0̲    1̲0̲0̲    1̲0̲0̲    1̲0̲0̲    1̲0̲0̲    1̲0̲0̲    1̲0̲0̲    1̲0̲0̲    1̲0̲0̲    1̲0̲0̲    1̲0̲0̲    1̲0̲0̲    1̲0̲0̲    1̲0̲0̲      0̲    1̲0̲0̲    1̲0̲0̲    1̲0̲0̲    1̲0̲0̲\n",
       "      J    1̲0̲0̲    1̲0̲0̲    1̲0̲0̲    1̲0̲0̲    1̲0̲0̲    1̲0̲0̲    1̲0̲0̲    1̲0̲0̲    1̲0̲0̲    1̲0̲0̲    1̲0̲0̲    1̲0̲0̲    1̲0̲0̲    1̲0̲0̲    1̲0̲0̲    1̲0̲0̲    1̲0̲0̲    1̲0̲0̲    1̲0̲0̲    1̲0̲0̲    1̲0̲0̲    1̲0̲0̲    1̲0̲0̲      0̲    1̲0̲0̲    1̲0̲0̲    1̲0̲0̲\n",
       "      Z    1̲0̲0̲    1̲0̲0̲    1̲0̲0̲    1̲0̲0̲    1̲0̲0̲    1̲0̲0̲    1̲0̲0̲    1̲0̲0̲    1̲0̲0̲    1̲0̲0̲    1̲0̲0̲    1̲0̲0̲    1̲0̲0̲    1̲0̲0̲    1̲0̲0̲    1̲0̲0̲    1̲0̲0̲    1̲0̲0̲    1̲0̲0̲    1̲0̲0̲    1̲0̲0̲    1̲0̲0̲    1̲0̲0̲    1̲0̲0̲      0̲    1̲0̲0̲    1̲0̲0̲\n",
       "      X    1̲0̲0̲    1̲0̲0̲    1̲0̲0̲    1̲0̲0̲    1̲0̲0̲    1̲0̲0̲    1̲0̲0̲    1̲0̲0̲    1̲0̲0̲    1̲0̲0̲    1̲0̲0̲    1̲0̲0̲    1̲0̲0̲    1̲0̲0̲    1̲0̲0̲    1̲0̲0̲    1̲0̲0̲    1̲0̲0̲    1̲0̲0̲    1̲0̲0̲    1̲0̲0̲    1̲0̲0̲    1̲0̲0̲    1̲0̲0̲    1̲0̲0̲      0̲    1̲0̲0̲\n",
       "      *    1̲0̲0̲    1̲0̲0̲    1̲0̲0̲    1̲0̲0̲    1̲0̲0̲    1̲0̲0̲    1̲0̲0̲    1̲0̲0̲    1̲0̲0̲    1̲0̲0̲    1̲0̲0̲    1̲0̲0̲    1̲0̲0̲    1̲0̲0̲    1̲0̲0̲    1̲0̲0̲    1̲0̲0̲    1̲0̲0̲    1̲0̲0̲    1̲0̲0̲    1̲0̲0̲    1̲0̲0̲    1̲0̲0̲    1̲0̲0̲    1̲0̲0̲    1̲0̲0̲      0̲\n",
       "(underlined values are default ones)"
      ]
     },
     "metadata": {},
     "output_type": "display_data"
    }
   ],
   "source": [
    "GRANTHAM1974"
   ]
  },
  {
   "cell_type": "code",
   "execution_count": 7,
   "metadata": {},
   "outputs": [
    {
     "data": {
      "text/plain": [
       "20×20 Matrix{Float64}:\n",
       " 0.0       0.906977  0.586047  0.497674  …  0.297674   0.688372  0.52093\n",
       " 0.906977  0.0       0.716279  0.790698     0.893023   1.0       0.902326\n",
       " 0.586047  0.716279  0.0       0.209302     0.706977   0.84186   0.744186\n",
       " 0.497674  0.790698  0.209302  0.0          0.562791   0.706977  0.567442\n",
       " 0.525581  0.953488  0.823256  0.651163     0.232558   0.186047  0.102326\n",
       " 0.27907   0.739535  0.437209  0.455814  …  0.506977   0.855814  0.683721\n",
       " 0.4       0.809302  0.376744  0.186047     0.390698   0.534884  0.386047\n",
       " 0.437209  0.92093   0.781395  0.623256     0.134884   0.283721  0.153488\n",
       " 0.493023  0.939535  0.469767  0.260465     0.451163   0.511628  0.395349\n",
       " 0.446512  0.92093   0.8       0.64186      0.148837   0.283721  0.167442\n",
       " 0.390698  0.911628  0.744186  0.586047  …  0.0976744  0.311628  0.167442\n",
       " 0.516279  0.646512  0.106977  0.195349     0.618605   0.809302  0.665116\n",
       " 0.125581  0.786047  0.502326  0.432558     0.316279   0.683721  0.511628\n",
       " 0.423256  0.716279  0.283721  0.134884     0.446512   0.604651  0.460465\n",
       " 0.52093   0.837209  0.446512  0.251163     0.446512   0.469767  0.35814\n",
       " 0.460465  0.52093   0.302326  0.372093  …  0.576744   0.823256  0.669767\n",
       " 0.269767  0.693023  0.395349  0.302326     0.32093    0.595349  0.427907\n",
       " 0.297674  0.893023  0.706977  0.562791     0.0        0.409302  0.255814\n",
       " 0.688372  1.0       0.84186   0.706977     0.409302   0.0       0.172093\n",
       " 0.52093   0.902326  0.744186  0.567442     0.255814   0.172093  0.0"
      ]
     },
     "metadata": {},
     "output_type": "display_data"
    }
   ],
   "source": [
    "AA_list = ['A','C','D','E','F','G','H','I','K','L','M','N','P','Q','R','S','T','V','W','Y']\n",
    "\n",
    "simmat = copy(GRANTHAM1974)\n",
    "simmatblo = copy(BLOSUM62)\n",
    "\n",
    "grantham = [[simmat[i, j] for i in AA_list] for j in AA_list]\n",
    "grantham = hcat(grantham...)\n",
    "\n",
    "blosum = [[simmatblo[i, j] for i in AA_list] for j in AA_list]\n",
    "blosum = hcat(blosum...)\n",
    "\n",
    "function norm_mat(matrix, zero=false)\n",
    "    if zero == true\n",
    "        min_value = 0\n",
    "    else \n",
    "        min_value = minimum(matrix)\n",
    "    end\n",
    "    \n",
    "    max_value = maximum(matrix)\n",
    "\n",
    "    normalized_matrix = (matrix .- min_value) ./ (max_value - min_value)\n",
    "    return normalized_matrix\n",
    "end\n",
    "\n",
    "norm_blosum = broadcast(abs, norm_mat(blosum) .-1)\n",
    "setindex!.(Ref(norm_blosum), 0.0, 1:20, 1:20)\n",
    "norm_grant = norm_mat(grantham, true)"
   ]
  },
  {
   "cell_type": "code",
   "execution_count": 15,
   "metadata": {},
   "outputs": [
    {
     "data": {
      "text/plain": [
       "20×20 Matrix{Float64}:\n",
       " 0.0       0.733333  0.866667  0.8       …  0.733333  0.933333  0.866667\n",
       " 0.733333  0.0       0.933333  1.0          0.8       0.866667  0.866667\n",
       " 0.866667  0.933333  0.0       0.6          0.933333  1.0       0.933333\n",
       " 0.8       1.0       0.6       0.0          0.866667  0.933333  0.866667\n",
       " 0.866667  0.866667  0.933333  0.933333     0.8       0.666667  0.533333\n",
       " 0.733333  0.933333  0.8       0.866667  …  0.933333  0.866667  0.933333\n",
       " 0.866667  0.933333  0.8       0.733333     0.933333  0.866667  0.6\n",
       " 0.8       0.8       0.933333  0.933333     0.533333  0.933333  0.8\n",
       " 0.8       0.933333  0.8       0.666667     0.866667  0.933333  0.866667\n",
       " 0.8       0.8       1.0       0.933333     0.666667  0.866667  0.8\n",
       " 0.8       0.8       0.933333  0.866667  …  0.666667  0.8       0.8\n",
       " 0.866667  0.933333  0.666667  0.733333     0.933333  1.0       0.866667\n",
       " 0.8       0.933333  0.8       0.8          0.866667  1.0       0.933333\n",
       " 0.8       0.933333  0.733333  0.6          0.866667  0.866667  0.8\n",
       " 0.8       0.933333  0.866667  0.733333     0.933333  0.933333  0.866667\n",
       " 0.666667  0.8       0.733333  0.733333  …  0.866667  0.933333  0.866667\n",
       " 0.733333  0.8       0.8       0.8          0.733333  0.866667  0.866667\n",
       " 0.733333  0.8       0.933333  0.866667     0.0       0.933333  0.8\n",
       " 0.933333  0.866667  1.0       0.933333     0.933333  0.0       0.6\n",
       " 0.866667  0.866667  0.933333  0.866667     0.8       0.6       0.0"
      ]
     },
     "metadata": {},
     "output_type": "display_data"
    }
   ],
   "source": [
    "norm_blosum"
   ]
  },
  {
   "cell_type": "code",
   "execution_count": 2,
   "metadata": {},
   "outputs": [
    {
     "name": "stderr",
     "output_type": "stream",
     "text": [
      "┌ Info:  started timer at: 2023-05-23T15:15:37.953\n",
      "└ @ TickTock /home/mfat/.julia/packages/TickTock/fGILW/src/TickTock.jl:54\n"
     ]
    },
    {
     "name": "stdout",
     "output_type": "stream",
     "text": [
      "Iter     Function value\n",
      "     0   873648.7288888888\n",
      " * time: 5.602836608886719e-5\n"
     ]
    },
    {
     "name": "stdout",
     "output_type": "stream",
     "text": [
      "     1   871801.3955555554\n",
      " * time: 0.8819601535797119\n"
     ]
    },
    {
     "name": "stdout",
     "output_type": "stream",
     "text": [
      "     2   872779.2622222223\n",
      " * time: 1.688621997833252\n"
     ]
    },
    {
     "name": "stdout",
     "output_type": "stream",
     "text": [
      "     3   868736.462222222\n",
      " * time: 2.465327024459839\n"
     ]
    },
    {
     "name": "stdout",
     "output_type": "stream",
     "text": [
      "     4   863886.7288888888\n",
      " * time: 3.238050937652588\n"
     ]
    },
    {
     "name": "stdout",
     "output_type": "stream",
     "text": [
      "     5   862910.9955555557\n",
      " * time: 4.043997049331665\n"
     ]
    },
    {
     "name": "stdout",
     "output_type": "stream",
     "text": [
      "     6   865099.1288888888\n",
      " * time: 4.808752059936523\n"
     ]
    },
    {
     "name": "stdout",
     "output_type": "stream",
     "text": [
      "     7   861603.528888889\n",
      " * time: 5.598088979721069\n"
     ]
    },
    {
     "name": "stdout",
     "output_type": "stream",
     "text": [
      "     8   848284.5955555557\n",
      " * time: 6.414781093597412\n"
     ]
    },
    {
     "name": "stdout",
     "output_type": "stream",
     "text": [
      "     9   846739.9288888889\n",
      " * time: 7.226863145828247\n"
     ]
    },
    {
     "name": "stdout",
     "output_type": "stream",
     "text": [
      "    10   851018.9955555553\n",
      " * time: 8.067708015441895\n"
     ]
    },
    {
     "name": "stdout",
     "output_type": "stream",
     "text": [
      "    11   847839.3955555557\n",
      " * time: 8.861979007720947\n"
     ]
    },
    {
     "name": "stdout",
     "output_type": "stream",
     "text": [
      "    12   847839.3955555557\n",
      " * time: 9.673841953277588\n"
     ]
    },
    {
     "name": "stdout",
     "output_type": "stream",
     "text": [
      "    13   840289.5288888888\n",
      " * time: 10.48692512512207\n"
     ]
    },
    {
     "name": "stdout",
     "output_type": "stream",
     "text": [
      "    14   846968.1955555554\n",
      " * time: 11.31204104423523\n"
     ]
    },
    {
     "name": "stdout",
     "output_type": "stream",
     "text": [
      "    15   846968.1955555554\n",
      " * time: 12.113584041595459\n"
     ]
    },
    {
     "name": "stdout",
     "output_type": "stream",
     "text": [
      "    16   838952.9955555553\n",
      " * time: 12.914817094802856\n"
     ]
    },
    {
     "name": "stdout",
     "output_type": "stream",
     "text": [
      "    17   840630.0622222223\n",
      " * time: 13.687530040740967\n"
     ]
    },
    {
     "name": "stdout",
     "output_type": "stream",
     "text": [
      "    18   834235.2622222224\n",
      " * time: 14.454477071762085\n"
     ]
    },
    {
     "name": "stdout",
     "output_type": "stream",
     "text": [
      "    19   846940.3288888888\n",
      " * time: 15.271867990493774\n"
     ]
    },
    {
     "name": "stdout",
     "output_type": "stream",
     "text": [
      "    20   841885.9288888888\n",
      " * time: 16.075228929519653\n"
     ]
    },
    {
     "name": "stdout",
     "output_type": "stream",
     "text": [
      "    21   841592.4622222222\n",
      " * time: 16.91486096382141\n"
     ]
    },
    {
     "name": "stdout",
     "output_type": "stream",
     "text": [
      "    22   841592.4622222222\n",
      " * time: 17.755156993865967\n"
     ]
    },
    {
     "name": "stdout",
     "output_type": "stream",
     "text": [
      "    23   834042.5955555554\n",
      " * time: 18.557382106781006\n"
     ]
    },
    {
     "name": "stdout",
     "output_type": "stream",
     "text": [
      "    24   834042.5955555554\n",
      " * time: 19.35677409172058\n"
     ]
    },
    {
     "name": "stdout",
     "output_type": "stream",
     "text": [
      "    25   836824.7288888891\n",
      " * time: 20.1628839969635\n"
     ]
    },
    {
     "name": "stdout",
     "output_type": "stream",
     "text": [
      "    26   825752.7288888888\n",
      " * time: 20.921393156051636\n"
     ]
    },
    {
     "name": "stdout",
     "output_type": "stream",
     "text": [
      "    27   825752.7288888888\n",
      " * time: 21.694891929626465\n"
     ]
    },
    {
     "name": "stdout",
     "output_type": "stream",
     "text": [
      "    28   827646.9955555554\n",
      " * time: 22.462981939315796\n"
     ]
    },
    {
     "name": "stdout",
     "output_type": "stream",
     "text": [
      "    29   827646.9955555554\n",
      " * time: 23.252640962600708\n"
     ]
    },
    {
     "name": "stdout",
     "output_type": "stream",
     "text": [
      "    30   822169.6622222222\n",
      " * time: 24.016875982284546\n"
     ]
    },
    {
     "name": "stdout",
     "output_type": "stream",
     "text": [
      "    31   822169.6622222222\n",
      " * time: 24.782264947891235\n"
     ]
    },
    {
     "name": "stdout",
     "output_type": "stream",
     "text": [
      "    32   822169.6622222222\n",
      " * time: 25.553182125091553\n"
     ]
    },
    {
     "name": "stdout",
     "output_type": "stream",
     "text": [
      "    33   810598.8622222219\n",
      " * time: 26.309184074401855\n"
     ]
    },
    {
     "name": "stdout",
     "output_type": "stream",
     "text": [
      "    34   810598.8622222219\n",
      " * time: 27.114503145217896\n"
     ]
    },
    {
     "name": "stdout",
     "output_type": "stream",
     "text": [
      "    35   810598.8622222219\n",
      " * time: 27.92470407485962\n"
     ]
    },
    {
     "name": "stdout",
     "output_type": "stream",
     "text": [
      "    36   824889.6622222221\n",
      " * time: 28.74364399909973\n"
     ]
    },
    {
     "name": "stdout",
     "output_type": "stream",
     "text": [
      "    37   816514.5955555557\n",
      " * time: 29.597487926483154\n"
     ]
    },
    {
     "name": "stdout",
     "output_type": "stream",
     "text": [
      "    38   816514.5955555557\n",
      " * time: 30.411352157592773\n"
     ]
    },
    {
     "name": "stdout",
     "output_type": "stream",
     "text": [
      "    39   812265.7955555555\n",
      " * time: 31.27767300605774\n"
     ]
    },
    {
     "name": "stdout",
     "output_type": "stream",
     "text": [
      "    40   807485.9288888886\n",
      " * time: 32.2221519947052\n"
     ]
    },
    {
     "name": "stdout",
     "output_type": "stream",
     "text": [
      "    41   804306.9955555554\n",
      " * time: 33.22756004333496\n"
     ]
    },
    {
     "name": "stdout",
     "output_type": "stream",
     "text": [
      "    42   801660.1955555555\n",
      " * time: 34.25215196609497\n"
     ]
    },
    {
     "name": "stdout",
     "output_type": "stream",
     "text": [
      "    43   804308.9955555553\n",
      " * time: 35.213916063308716\n"
     ]
    },
    {
     "name": "stdout",
     "output_type": "stream",
     "text": [
      "    44   793685.2622222219\n",
      " * time: 36.12728500366211\n"
     ]
    },
    {
     "name": "stdout",
     "output_type": "stream",
     "text": [
      "    45   781586.5955555553\n",
      " * time: 37.0219931602478\n"
     ]
    },
    {
     "name": "stdout",
     "output_type": "stream",
     "text": [
      "    46   788384.1955555556\n",
      " * time: 37.9535710811615\n"
     ]
    },
    {
     "name": "stdout",
     "output_type": "stream",
     "text": [
      "    47   785196.1955555558\n",
      " * time: 38.87220597267151\n"
     ]
    },
    {
     "name": "stdout",
     "output_type": "stream",
     "text": [
      "    48   778122.0622222221\n",
      " * time: 39.79106593132019\n"
     ]
    },
    {
     "name": "stdout",
     "output_type": "stream",
     "text": [
      "    49   780946.9955555556\n",
      " * time: 40.71507501602173\n"
     ]
    },
    {
     "name": "stdout",
     "output_type": "stream",
     "text": [
      "    50   777828.4622222222\n",
      " * time: 41.60323405265808\n"
     ]
    },
    {
     "name": "stdout",
     "output_type": "stream",
     "text": [
      "    51   778532.5955555557\n",
      " * time: 42.531599044799805\n"
     ]
    },
    {
     "name": "stdout",
     "output_type": "stream",
     "text": [
      "    52   762936.5955555555\n",
      " * time: 43.553192138671875\n"
     ]
    },
    {
     "name": "stdout",
     "output_type": "stream",
     "text": [
      "    53   759890.5955555555\n",
      " * time: 44.483978033065796\n"
     ]
    },
    {
     "name": "stdout",
     "output_type": "stream",
     "text": [
      "    54   762936.5955555555\n",
      " * time: 45.42174506187439\n"
     ]
    },
    {
     "name": "stdout",
     "output_type": "stream",
     "text": [
      "    55   759723.9288888888\n",
      " * time: 46.391860008239746\n"
     ]
    },
    {
     "name": "stdout",
     "output_type": "stream",
     "text": [
      "    56   750820.9955555558\n",
      " * time: 47.38995099067688\n"
     ]
    },
    {
     "name": "stdout",
     "output_type": "stream",
     "text": [
      "    57   750820.9955555558\n",
      " * time: 48.3390851020813\n"
     ]
    },
    {
     "name": "stdout",
     "output_type": "stream",
     "text": [
      "    58   744754.7288888888\n",
      " * time: 49.312763929367065\n"
     ]
    },
    {
     "name": "stdout",
     "output_type": "stream",
     "text": [
      "    59   747303.7955555556\n",
      " * time: 50.27241110801697\n"
     ]
    },
    {
     "name": "stdout",
     "output_type": "stream",
     "text": [
      "    60   741116.3288888889\n",
      " * time: 51.227627992630005\n"
     ]
    },
    {
     "name": "stdout",
     "output_type": "stream",
     "text": [
      "    61   732817.7955555555\n",
      " * time: 52.14722204208374\n"
     ]
    },
    {
     "name": "stdout",
     "output_type": "stream",
     "text": [
      "    62   738312.728888889\n",
      " * time: 53.038954973220825\n"
     ]
    },
    {
     "name": "stdout",
     "output_type": "stream",
     "text": [
      "    63   730802.5955555555\n",
      " * time: 53.90408706665039\n"
     ]
    },
    {
     "name": "stdout",
     "output_type": "stream",
     "text": [
      "    64   730802.5955555555\n",
      " * time: 54.782745122909546\n"
     ]
    },
    {
     "name": "stdout",
     "output_type": "stream",
     "text": [
      "    65   726375.3955555555\n",
      " * time: 55.67623209953308\n"
     ]
    },
    {
     "name": "stdout",
     "output_type": "stream",
     "text": [
      "    66   719159.7955555554\n",
      " * time: 56.610448122024536\n"
     ]
    },
    {
     "name": "stdout",
     "output_type": "stream",
     "text": [
      "    67   717669.6622222223\n",
      " * time: 57.553627014160156\n"
     ]
    },
    {
     "name": "stdout",
     "output_type": "stream",
     "text": [
      "    68   713587.5288888887\n",
      " * time: 58.45918011665344\n"
     ]
    },
    {
     "name": "stdout",
     "output_type": "stream",
     "text": [
      "    69   705372.728888889\n",
      " * time: 59.34207797050476\n"
     ]
    },
    {
     "name": "stdout",
     "output_type": "stream",
     "text": [
      "    70   698152.3288888888\n",
      " * time: 60.19062900543213\n"
     ]
    },
    {
     "name": "stdout",
     "output_type": "stream",
     "text": [
      "    71   703778.7288888888\n",
      " * time: 61.06738495826721\n"
     ]
    },
    {
     "name": "stdout",
     "output_type": "stream",
     "text": [
      "    72   694989.9288888889\n",
      " * time: 61.95986795425415\n"
     ]
    },
    {
     "name": "stdout",
     "output_type": "stream",
     "text": [
      "    73   688538.328888889\n",
      " * time: 62.810904026031494\n"
     ]
    },
    {
     "name": "stdout",
     "output_type": "stream",
     "text": [
      "    74   683570.9955555556\n",
      " * time: 63.6564040184021\n"
     ]
    },
    {
     "name": "stdout",
     "output_type": "stream",
     "text": [
      "    75   685129.1288888891\n",
      " * time: 64.51893711090088\n"
     ]
    },
    {
     "name": "stdout",
     "output_type": "stream",
     "text": [
      "    76   675645.528888889\n",
      " * time: 65.37487506866455\n"
     ]
    },
    {
     "name": "stdout",
     "output_type": "stream",
     "text": [
      "    77   667096.4622222224\n",
      " * time: 66.23243999481201\n"
     ]
    },
    {
     "name": "stdout",
     "output_type": "stream",
     "text": [
      "    78   672951.928888889\n",
      " * time: 67.10752511024475\n"
     ]
    },
    {
     "name": "stdout",
     "output_type": "stream",
     "text": [
      "    79   669071.2622222223\n",
      " * time: 67.96476411819458\n"
     ]
    },
    {
     "name": "stdout",
     "output_type": "stream",
     "text": [
      "    80   662126.8622222223\n",
      " * time: 68.8625340461731\n"
     ]
    },
    {
     "name": "stdout",
     "output_type": "stream",
     "text": [
      "    81   658050.3288888889\n",
      " * time: 69.71801996231079\n"
     ]
    },
    {
     "name": "stdout",
     "output_type": "stream",
     "text": [
      "    82   654267.2622222223\n",
      " * time: 70.6746780872345\n"
     ]
    },
    {
     "name": "stdout",
     "output_type": "stream",
     "text": [
      "    83   653951.9288888888\n",
      " * time: 71.59681701660156\n"
     ]
    },
    {
     "name": "stdout",
     "output_type": "stream",
     "text": [
      "    84   645552.4622222221\n",
      " * time: 72.5610990524292\n"
     ]
    },
    {
     "name": "stdout",
     "output_type": "stream",
     "text": [
      "    85   641364.3288888888\n",
      " * time: 73.46884894371033\n"
     ]
    },
    {
     "name": "stdout",
     "output_type": "stream",
     "text": [
      "    86   641626.728888889\n",
      " * time: 74.39945197105408\n"
     ]
    },
    {
     "name": "stdout",
     "output_type": "stream",
     "text": [
      "    87   636550.4622222222\n",
      " * time: 75.33802008628845\n"
     ]
    },
    {
     "name": "stdout",
     "output_type": "stream",
     "text": [
      "    88   631758.5955555557\n",
      " * time: 76.2600679397583\n"
     ]
    },
    {
     "name": "stdout",
     "output_type": "stream",
     "text": [
      "    89   629687.7955555558\n",
      " * time: 77.23135614395142\n"
     ]
    },
    {
     "name": "stdout",
     "output_type": "stream",
     "text": [
      "    90   617580.7288888888\n",
      " * time: 78.15335893630981\n"
     ]
    },
    {
     "name": "stdout",
     "output_type": "stream",
     "text": [
      "    91   617580.7288888888\n",
      " * time: 79.01549005508423\n"
     ]
    },
    {
     "name": "stdout",
     "output_type": "stream",
     "text": [
      "    92   616159.7955555556\n",
      " * time: 79.9235291481018\n"
     ]
    },
    {
     "name": "stdout",
     "output_type": "stream",
     "text": [
      "    93   611106.8622222223\n",
      " * time: 80.90551209449768\n"
     ]
    },
    {
     "name": "stdout",
     "output_type": "stream",
     "text": [
      "    94   609749.6622222224\n",
      " * time: 81.84446096420288\n"
     ]
    },
    {
     "name": "stdout",
     "output_type": "stream",
     "text": [
      "    95   604048.1955555558\n",
      " * time: 82.77853202819824\n"
     ]
    },
    {
     "name": "stdout",
     "output_type": "stream",
     "text": [
      "    96   601280.328888889\n",
      " * time: 83.68539714813232\n"
     ]
    },
    {
     "name": "stdout",
     "output_type": "stream",
     "text": [
      "    97   599763.7955555555\n",
      " * time: 84.73626899719238\n"
     ]
    },
    {
     "name": "stdout",
     "output_type": "stream",
     "text": [
      "    98   596726.5955555557\n",
      " * time: 85.68251299858093\n"
     ]
    },
    {
     "name": "stdout",
     "output_type": "stream",
     "text": [
      "    99   591174.1955555556\n",
      " * time: 86.65124011039734\n"
     ]
    },
    {
     "name": "stdout",
     "output_type": "stream",
     "text": [
      "   100   588855.5288888889\n",
      " * time: 87.55794405937195\n"
     ]
    },
    {
     "name": "stdout",
     "output_type": "stream",
     "text": [
      "   101   587555.6622222221\n",
      " * time: 88.52259111404419\n"
     ]
    },
    {
     "name": "stdout",
     "output_type": "stream",
     "text": [
      "   102   578314.3288888889\n",
      " * time: 89.49767804145813\n"
     ]
    },
    {
     "name": "stdout",
     "output_type": "stream",
     "text": [
      "   103   578314.3288888889\n",
      " * time: 90.49938011169434\n"
     ]
    },
    {
     "name": "stdout",
     "output_type": "stream",
     "text": [
      "   104   577745.6622222221\n",
      " * time: 91.50763297080994\n"
     ]
    },
    {
     "name": "stdout",
     "output_type": "stream",
     "text": [
      "   105   574266.5955555555\n",
      " * time: 92.48892593383789\n"
     ]
    },
    {
     "name": "stdout",
     "output_type": "stream",
     "text": [
      "   106   567143.7955555555\n",
      " * time: 93.44425511360168\n"
     ]
    },
    {
     "name": "stdout",
     "output_type": "stream",
     "text": [
      "   107   564822.5955555555\n",
      " * time: 94.41330909729004\n"
     ]
    },
    {
     "name": "stdout",
     "output_type": "stream",
     "text": [
      "   108   564563.3955555555\n",
      " * time: 95.34018802642822\n"
     ]
    },
    {
     "name": "stdout",
     "output_type": "stream",
     "text": [
      "   109   562535.6622222223\n",
      " * time: 96.29009199142456\n"
     ]
    },
    {
     "name": "stdout",
     "output_type": "stream",
     "text": [
      "   110   554834.8622222223\n",
      " * time: 97.26010203361511\n"
     ]
    },
    {
     "name": "stdout",
     "output_type": "stream",
     "text": [
      "   111   554834.8622222223\n",
      " * time: 98.21562194824219\n"
     ]
    },
    {
     "name": "stdout",
     "output_type": "stream",
     "text": [
      "   112   550204.4622222222\n",
      " * time: 99.10705709457397\n"
     ]
    },
    {
     "name": "stdout",
     "output_type": "stream",
     "text": [
      "   113   547986.3288888888\n",
      " * time: 100.01301908493042\n"
     ]
    },
    {
     "name": "stdout",
     "output_type": "stream",
     "text": [
      "   114   545735.9288888889\n",
      " * time: 100.99201107025146\n"
     ]
    },
    {
     "name": "stdout",
     "output_type": "stream",
     "text": [
      "   115   543132.3288888889\n",
      " * time: 102.0017249584198\n"
     ]
    },
    {
     "name": "stdout",
     "output_type": "stream",
     "text": [
      "   116   541273.3955555556\n",
      " * time: 102.95738792419434\n"
     ]
    },
    {
     "name": "stdout",
     "output_type": "stream",
     "text": [
      "   117   536843.928888889\n",
      " * time: 103.86777806282043\n"
     ]
    },
    {
     "name": "stdout",
     "output_type": "stream",
     "text": [
      "   118   536843.928888889\n",
      " * time: 104.75539994239807\n"
     ]
    },
    {
     "name": "stdout",
     "output_type": "stream",
     "text": [
      "   119   532456.5955555557\n",
      " * time: 105.65285110473633\n"
     ]
    },
    {
     "name": "stdout",
     "output_type": "stream",
     "text": [
      "   120   531701.9288888889\n",
      " * time: 106.54830813407898\n"
     ]
    },
    {
     "name": "stdout",
     "output_type": "stream",
     "text": [
      "   121   531095.7955555555\n",
      " * time: 107.40949201583862\n"
     ]
    },
    {
     "name": "stdout",
     "output_type": "stream",
     "text": [
      "   122   526405.6622222223\n",
      " * time: 108.26964998245239\n"
     ]
    },
    {
     "name": "stdout",
     "output_type": "stream",
     "text": [
      "   123   523875.66222222225\n",
      " * time: 109.17342114448547\n"
     ]
    },
    {
     "name": "stdout",
     "output_type": "stream",
     "text": [
      "   124   522325.1288888889\n",
      " * time: 110.02928495407104\n"
     ]
    },
    {
     "name": "stdout",
     "output_type": "stream",
     "text": [
      "   125   522147.7955555556\n",
      " * time: 110.88071608543396\n"
     ]
    },
    {
     "name": "stdout",
     "output_type": "stream",
     "text": [
      "   126   518193.2622222221\n",
      " * time: 111.7382459640503\n"
     ]
    },
    {
     "name": "stdout",
     "output_type": "stream",
     "text": [
      "   127   515812.46222222224\n",
      " * time: 112.58394694328308\n"
     ]
    },
    {
     "name": "stdout",
     "output_type": "stream",
     "text": [
      "   128   514133.52888888895\n",
      " * time: 113.41556310653687\n"
     ]
    },
    {
     "name": "stdout",
     "output_type": "stream",
     "text": [
      "   129   510573.3955555556\n",
      " * time: 114.22722315788269\n"
     ]
    },
    {
     "name": "stdout",
     "output_type": "stream",
     "text": [
      "   130   510687.128888889\n",
      " * time: 115.07965803146362\n"
     ]
    },
    {
     "name": "stdout",
     "output_type": "stream",
     "text": [
      "   131   505440.99555555556\n",
      " * time: 115.95176601409912\n"
     ]
    },
    {
     "name": "stdout",
     "output_type": "stream",
     "text": [
      "   132   504401.7955555556\n",
      " * time: 116.86743211746216\n"
     ]
    },
    {
     "name": "stdout",
     "output_type": "stream",
     "text": [
      "   133   502931.26222222234\n",
      " * time: 117.70976209640503\n"
     ]
    },
    {
     "name": "stdout",
     "output_type": "stream",
     "text": [
      "   134   501303.9288888889\n",
      " * time: 118.58019495010376\n"
     ]
    },
    {
     "name": "stdout",
     "output_type": "stream",
     "text": [
      "   135   497077.1288888888\n",
      " * time: 119.50226497650146\n"
     ]
    },
    {
     "name": "stdout",
     "output_type": "stream",
     "text": [
      "   136   496847.1288888889\n",
      " * time: 120.47551393508911\n"
     ]
    },
    {
     "name": "stdout",
     "output_type": "stream",
     "text": [
      "   137   494933.3955555556\n",
      " * time: 121.35348415374756\n"
     ]
    },
    {
     "name": "stdout",
     "output_type": "stream",
     "text": [
      "   138   493026.8622222222\n",
      " * time: 122.25993204116821\n"
     ]
    },
    {
     "name": "stdout",
     "output_type": "stream",
     "text": [
      "   139   491208.06222222216\n",
      " * time: 123.14890909194946\n"
     ]
    },
    {
     "name": "stdout",
     "output_type": "stream",
     "text": [
      "   140   488676.99555555545\n",
      " * time: 124.07619500160217\n"
     ]
    },
    {
     "name": "stdout",
     "output_type": "stream",
     "text": [
      "   141   487202.1955555556\n",
      " * time: 124.98788809776306\n"
     ]
    },
    {
     "name": "stdout",
     "output_type": "stream",
     "text": [
      "   142   485559.39555555553\n",
      " * time: 125.85549592971802\n"
     ]
    },
    {
     "name": "stdout",
     "output_type": "stream",
     "text": [
      "   143   482097.39555555565\n",
      " * time: 126.69200801849365\n"
     ]
    },
    {
     "name": "stdout",
     "output_type": "stream",
     "text": [
      "   144   480913.39555555565\n",
      " * time: 127.57447695732117\n"
     ]
    },
    {
     "name": "stdout",
     "output_type": "stream",
     "text": [
      "   145   479122.32888888876\n",
      " * time: 128.47170209884644\n"
     ]
    },
    {
     "name": "stdout",
     "output_type": "stream",
     "text": [
      "   146   473923.7955555555\n",
      " * time: 129.35438704490662\n"
     ]
    },
    {
     "name": "stdout",
     "output_type": "stream",
     "text": [
      "   147   473923.7955555555\n",
      " * time: 130.193608045578\n"
     ]
    },
    {
     "name": "stdout",
     "output_type": "stream",
     "text": [
      "   148   467568.72888888896\n",
      " * time: 131.04815912246704\n"
     ]
    },
    {
     "name": "stdout",
     "output_type": "stream",
     "text": [
      "   149   467568.72888888896\n",
      " * time: 131.88872003555298\n"
     ]
    },
    {
     "name": "stdout",
     "output_type": "stream",
     "text": [
      "   150   467568.72888888896\n",
      " * time: 132.73168206214905\n"
     ]
    },
    {
     "name": "stdout",
     "output_type": "stream",
     "text": [
      "   151   466936.9955555555\n",
      " * time: 133.56232500076294\n"
     ]
    },
    {
     "name": "stdout",
     "output_type": "stream",
     "text": [
      "   152   465287.39555555553\n",
      " * time: 134.43496012687683\n"
     ]
    },
    {
     "name": "stdout",
     "output_type": "stream",
     "text": [
      "   153   463411.52888888895\n",
      " * time: 135.30517601966858\n"
     ]
    },
    {
     "name": "stdout",
     "output_type": "stream",
     "text": [
      "   154   459742.9955555557\n",
      " * time: 136.2005820274353\n"
     ]
    },
    {
     "name": "stdout",
     "output_type": "stream",
     "text": [
      "   155   457750.4622222223\n",
      " * time: 137.18031811714172\n"
     ]
    },
    {
     "name": "stdout",
     "output_type": "stream",
     "text": [
      "   156   455586.19555555563\n",
      " * time: 138.10121393203735\n"
     ]
    },
    {
     "name": "stdout",
     "output_type": "stream",
     "text": [
      "   157   453407.928888889\n",
      " * time: 139.02607798576355\n"
     ]
    },
    {
     "name": "stdout",
     "output_type": "stream",
     "text": [
      "   158   450005.52888888895\n",
      " * time: 139.93864512443542\n"
     ]
    },
    {
     "name": "stdout",
     "output_type": "stream",
     "text": [
      "   159   448846.19555555563\n",
      " * time: 140.86916208267212\n"
     ]
    },
    {
     "name": "stdout",
     "output_type": "stream",
     "text": [
      "   160   445411.39555555553\n",
      " * time: 141.75724601745605\n"
     ]
    },
    {
     "name": "stdout",
     "output_type": "stream",
     "text": [
      "   161   442070.59555555554\n",
      " * time: 142.58509397506714\n"
     ]
    },
    {
     "name": "stdout",
     "output_type": "stream",
     "text": [
      "   162   443072.9955555556\n",
      " * time: 143.42501711845398\n"
     ]
    },
    {
     "name": "stdout",
     "output_type": "stream",
     "text": [
      "   163   438536.86222222226\n",
      " * time: 144.26073908805847\n"
     ]
    },
    {
     "name": "stdout",
     "output_type": "stream",
     "text": [
      "   164   437621.26222222234\n",
      " * time: 145.09362506866455\n"
     ]
    },
    {
     "name": "stdout",
     "output_type": "stream",
     "text": [
      "   165   434261.2622222223\n",
      " * time: 145.9146249294281\n"
     ]
    },
    {
     "name": "stdout",
     "output_type": "stream",
     "text": [
      "   166   434317.66222222225\n",
      " * time: 146.7602550983429\n"
     ]
    },
    {
     "name": "stdout",
     "output_type": "stream",
     "text": [
      "   167   432575.6622222223\n",
      " * time: 147.5809941291809\n"
     ]
    },
    {
     "name": "stdout",
     "output_type": "stream",
     "text": [
      "   168   431304.328888889\n",
      " * time: 148.47915601730347\n"
     ]
    },
    {
     "name": "stdout",
     "output_type": "stream",
     "text": [
      "   169   427767.52888888895\n",
      " * time: 149.325336933136\n"
     ]
    },
    {
     "name": "stdout",
     "output_type": "stream",
     "text": [
      "   170   426288.19555555563\n",
      " * time: 150.14532709121704\n"
     ]
    },
    {
     "name": "stdout",
     "output_type": "stream",
     "text": [
      "   171   422940.0622222223\n",
      " * time: 150.9663679599762\n"
     ]
    },
    {
     "name": "stdout",
     "output_type": "stream",
     "text": [
      "   172   418925.6622222223\n",
      " * time: 151.78072810173035\n"
     ]
    },
    {
     "name": "stdout",
     "output_type": "stream",
     "text": [
      "   173   418925.6622222223\n",
      " * time: 152.61466002464294\n"
     ]
    },
    {
     "name": "stdout",
     "output_type": "stream",
     "text": [
      "   174   420614.8622222224\n",
      " * time: 153.43866395950317\n"
     ]
    },
    {
     "name": "stdout",
     "output_type": "stream",
     "text": [
      "   175   415064.328888889\n",
      " * time: 154.29910898208618\n"
     ]
    },
    {
     "name": "stdout",
     "output_type": "stream",
     "text": [
      "   176   414281.2622222222\n",
      " * time: 155.14499711990356\n"
     ]
    },
    {
     "name": "stdout",
     "output_type": "stream",
     "text": [
      "   177   414281.2622222222\n",
      " * time: 155.95299100875854\n"
     ]
    },
    {
     "name": "stdout",
     "output_type": "stream",
     "text": [
      "   178   410269.528888889\n",
      " * time: 156.7843849658966\n"
     ]
    },
    {
     "name": "stdout",
     "output_type": "stream",
     "text": [
      "   179   410269.528888889\n",
      " * time: 157.61724495887756\n"
     ]
    },
    {
     "name": "stdout",
     "output_type": "stream",
     "text": [
      "   180   410349.39555555565\n",
      " * time: 158.45364999771118\n"
     ]
    },
    {
     "name": "stdout",
     "output_type": "stream",
     "text": [
      "   181   406414.4622222223\n",
      " * time: 159.2729411125183\n"
     ]
    },
    {
     "name": "stdout",
     "output_type": "stream",
     "text": [
      "   182   405124.328888889\n",
      " * time: 160.10813999176025\n"
     ]
    },
    {
     "name": "stdout",
     "output_type": "stream",
     "text": [
      "   183   405124.328888889\n",
      " * time: 160.97926211357117\n"
     ]
    },
    {
     "name": "stdout",
     "output_type": "stream",
     "text": [
      "   184   405235.92888888903\n",
      " * time: 161.79759097099304\n"
     ]
    },
    {
     "name": "stdout",
     "output_type": "stream",
     "text": [
      "   185   403265.2622222224\n",
      " * time: 162.61003994941711\n"
     ]
    },
    {
     "name": "stdout",
     "output_type": "stream",
     "text": [
      "   186   401152.4622222223\n",
      " * time: 163.42848205566406\n"
     ]
    },
    {
     "name": "stdout",
     "output_type": "stream",
     "text": [
      "   187   400918.4622222223\n",
      " * time: 164.24987196922302\n"
     ]
    },
    {
     "name": "stdout",
     "output_type": "stream",
     "text": [
      "   188   396840.32888888894\n",
      " * time: 165.11774110794067\n"
     ]
    },
    {
     "name": "stdout",
     "output_type": "stream",
     "text": [
      "   189   396840.32888888894\n",
      " * time: 166.0564889907837\n"
     ]
    },
    {
     "name": "stdout",
     "output_type": "stream",
     "text": [
      "   190   395786.19555555563\n",
      " * time: 166.92931604385376\n"
     ]
    },
    {
     "name": "stdout",
     "output_type": "stream",
     "text": [
      "   191   394570.86222222226\n",
      " * time: 167.753515958786\n"
     ]
    },
    {
     "name": "stdout",
     "output_type": "stream",
     "text": [
      "   192   393065.39555555553\n",
      " * time: 168.60562801361084\n"
     ]
    },
    {
     "name": "stdout",
     "output_type": "stream",
     "text": [
      "   193   391763.7955555556\n",
      " * time: 169.44435596466064\n"
     ]
    },
    {
     "name": "stdout",
     "output_type": "stream",
     "text": [
      "   194   390309.6622222223\n",
      " * time: 170.25691413879395\n"
     ]
    },
    {
     "name": "stdout",
     "output_type": "stream",
     "text": [
      "   195   388813.5288888889\n",
      " * time: 171.11963200569153\n"
     ]
    },
    {
     "name": "stdout",
     "output_type": "stream",
     "text": [
      "   196   386417.79555555555\n",
      " * time: 171.95660710334778\n"
     ]
    },
    {
     "name": "stdout",
     "output_type": "stream",
     "text": [
      "   197   386417.79555555555\n",
      " * time: 172.79771208763123\n"
     ]
    },
    {
     "name": "stdout",
     "output_type": "stream",
     "text": [
      "   198   382893.66222222225\n",
      " * time: 173.63552808761597\n"
     ]
    },
    {
     "name": "stdout",
     "output_type": "stream",
     "text": [
      "   199   382403.5288888889\n",
      " * time: 174.52487802505493\n"
     ]
    },
    {
     "name": "stdout",
     "output_type": "stream",
     "text": [
      "   200   382311.928888889\n",
      " * time: 175.44456911087036\n"
     ]
    },
    {
     "name": "stdout",
     "output_type": "stream",
     "text": [
      "Desired pairwise similarities:\n",
      "[0.0 0.7333333333333334 0.8666666666666667 0.8 0.8666666666666667 0.7333333333333334 0.8666666666666667 0.8 0.8 0.8 0.8 0.8666666666666667 0.8 0.8 0.8 0.6666666666666667 0.7333333333333334 0.7333333333333334 0.9333333333333333 0.8666666666666667; 0.7333333333333334 0.0 0.9333333333333333 1.0 0.8666666666666667 0.9333333333333333 0.9333333333333333 0.8 0.9333333333333333 0.8 0.8 0.9333333333333333 0.9333333333333333 0.9333333333333333 0.9333333333333333 0.8 0.8 0.8 0.8666666666666667 0.8666666666666667; 0.8666666666666667 0.9333333333333333 0.0 0.6 0.9333333333333333 0.8 0.8 0.9333333333333333 0.8 1.0 0.9333333333333333 0.6666666666666667 0.8 0.7333333333333334 0.8666666666666667 0.7333333333333334 0.8 0.9333333333333333 1.0 0.9333333333333333; 0.8 1.0 0.6 0.0 0.9333333333333333 0.8666666666666667 0.7333333333333334 0.9333333333333333 0.6666666666666667 0.9333333333333333 0.8666666666666667 0.7333333333333334 0.8 0.6 0.7333333333333334 0.7333333333333334 0.8 0.8666666666666667 0.9333333333333333 0.8666666666666667; 0.8666666666666667 0.8666666666666667 0.9333333333333333 0.9333333333333333 0.0 0.9333333333333333 0.8 0.7333333333333334 0.9333333333333333 0.7333333333333334 0.7333333333333334 0.9333333333333333 1.0 0.9333333333333333 0.9333333333333333 0.8666666666666667 0.8666666666666667 0.8 0.6666666666666667 0.5333333333333333; 0.7333333333333334 0.9333333333333333 0.8 0.8666666666666667 0.9333333333333333 0.0 0.8666666666666667 1.0 0.8666666666666667 1.0 0.9333333333333333 0.7333333333333334 0.8666666666666667 0.8666666666666667 0.8666666666666667 0.7333333333333334 0.8666666666666667 0.9333333333333333 0.8666666666666667 0.9333333333333333; 0.8666666666666667 0.9333333333333333 0.8 0.7333333333333334 0.8 0.8666666666666667 0.0 0.9333333333333333 0.8 0.9333333333333333 0.8666666666666667 0.6666666666666667 0.8666666666666667 0.7333333333333334 0.7333333333333334 0.8 0.8666666666666667 0.9333333333333333 0.8666666666666667 0.6; 0.8 0.8 0.9333333333333333 0.9333333333333333 0.7333333333333334 1.0 0.9333333333333333 0.0 0.9333333333333333 0.6 0.6666666666666667 0.9333333333333333 0.9333333333333333 0.9333333333333333 0.9333333333333333 0.8666666666666667 0.8 0.5333333333333333 0.9333333333333333 0.8; 0.8 0.9333333333333333 0.8 0.6666666666666667 0.9333333333333333 0.8666666666666667 0.8 0.9333333333333333 0.0 0.8666666666666667 0.8 0.7333333333333334 0.8 0.6666666666666667 0.6 0.7333333333333334 0.8 0.8666666666666667 0.9333333333333333 0.8666666666666667; 0.8 0.8 1.0 0.9333333333333333 0.7333333333333334 1.0 0.9333333333333333 0.6 0.8666666666666667 0.0 0.6 0.9333333333333333 0.9333333333333333 0.8666666666666667 0.8666666666666667 0.8666666666666667 0.8 0.6666666666666667 0.8666666666666667 0.8; 0.8 0.8 0.9333333333333333 0.8666666666666667 0.7333333333333334 0.9333333333333333 0.8666666666666667 0.6666666666666667 0.8 0.6 0.0 0.8666666666666667 0.8666666666666667 0.7333333333333334 0.8 0.8 0.8 0.6666666666666667 0.8 0.8; 0.8666666666666667 0.9333333333333333 0.6666666666666667 0.7333333333333334 0.9333333333333333 0.7333333333333334 0.6666666666666667 0.9333333333333333 0.7333333333333334 0.9333333333333333 0.8666666666666667 0.0 0.8666666666666667 0.7333333333333334 0.7333333333333334 0.6666666666666667 0.7333333333333334 0.9333333333333333 1.0 0.8666666666666667; 0.8 0.9333333333333333 0.8 0.8 1.0 0.8666666666666667 0.8666666666666667 0.9333333333333333 0.8 0.9333333333333333 0.8666666666666667 0.8666666666666667 0.0 0.8 0.8666666666666667 0.8 0.8 0.8666666666666667 1.0 0.9333333333333333; 0.8 0.9333333333333333 0.7333333333333334 0.6 0.9333333333333333 0.8666666666666667 0.7333333333333334 0.9333333333333333 0.6666666666666667 0.8666666666666667 0.7333333333333334 0.7333333333333334 0.8 0.0 0.6666666666666667 0.7333333333333334 0.8 0.8666666666666667 0.8666666666666667 0.8; 0.8 0.9333333333333333 0.8666666666666667 0.7333333333333334 0.9333333333333333 0.8666666666666667 0.7333333333333334 0.9333333333333333 0.6 0.8666666666666667 0.8 0.7333333333333334 0.8666666666666667 0.6666666666666667 0.0 0.8 0.8 0.9333333333333333 0.9333333333333333 0.8666666666666667; 0.6666666666666667 0.8 0.7333333333333334 0.7333333333333334 0.8666666666666667 0.7333333333333334 0.8 0.8666666666666667 0.7333333333333334 0.8666666666666667 0.8 0.6666666666666667 0.8 0.7333333333333334 0.8 0.0 0.6666666666666667 0.8666666666666667 0.9333333333333333 0.8666666666666667; 0.7333333333333334 0.8 0.8 0.8 0.8666666666666667 0.8666666666666667 0.8666666666666667 0.8 0.8 0.8 0.8 0.7333333333333334 0.8 0.8 0.8 0.6666666666666667 0.0 0.7333333333333334 0.8666666666666667 0.8666666666666667; 0.7333333333333334 0.8 0.9333333333333333 0.8666666666666667 0.8 0.9333333333333333 0.9333333333333333 0.5333333333333333 0.8666666666666667 0.6666666666666667 0.6666666666666667 0.9333333333333333 0.8666666666666667 0.8666666666666667 0.9333333333333333 0.8666666666666667 0.7333333333333334 0.0 0.9333333333333333 0.8; 0.9333333333333333 0.8666666666666667 1.0 0.9333333333333333 0.6666666666666667 0.8666666666666667 0.8666666666666667 0.9333333333333333 0.9333333333333333 0.8666666666666667 0.8 1.0 1.0 0.8666666666666667 0.9333333333333333 0.9333333333333333 0.8666666666666667 0.9333333333333333 0.0 0.6; 0.8666666666666667 0.8666666666666667 0.9333333333333333 0.8666666666666667 0.5333333333333333 0.9333333333333333 0.6 0.8 0.8666666666666667 0.8 0.8 0.8666666666666667 0.9333333333333333 0.8 0.8666666666666667 0.8666666666666667 0.8666666666666667 0.8 0.6 0.0]\n",
      "\n",
      "Best calculated pairwise similarities:\n",
      "[0.0 0.29 0.31 0.4 0.36 0.29 0.3 0.3 0.36 0.31 0.33 0.27 0.3 0.35 0.25 0.31 0.31 0.27 0.26 0.24; 0.29 0.0 0.32 0.29 0.33 0.28 0.29 0.25 0.39 0.32 0.38 0.3 0.31 0.3 0.34 0.36 0.3 0.26 0.35 0.25; 0.31 0.32 0.0 0.33 0.39 0.26 0.25 0.33 0.29 0.34 0.3 0.3 0.37 0.38 0.36 0.34 0.34 0.34 0.35 0.31; 0.4 0.29 0.33 0.0 0.34 0.29 0.36 0.28 0.36 0.35 0.25 0.33 0.32 0.33 0.37 0.37 0.37 0.31 0.36 0.32; 0.36 0.33 0.39 0.34 0.0 0.29 0.32 0.34 0.36 0.31 0.35 0.35 0.3 0.35 0.41 0.27 0.33 0.29 0.38 0.32; 0.29 0.28 0.26 0.29 0.29 0.0 0.31 0.33 0.33 0.34 0.34 0.3 0.33 0.34 0.4 0.28 0.34 0.28 0.37 0.25; 0.3 0.29 0.25 0.36 0.32 0.31 0.0 0.34 0.36 0.37 0.35 0.33 0.34 0.39 0.33 0.31 0.33 0.27 0.32 0.32; 0.3 0.25 0.33 0.28 0.34 0.33 0.34 0.0 0.28 0.27 0.35 0.25 0.32 0.33 0.31 0.31 0.35 0.35 0.32 0.24; 0.36 0.39 0.29 0.36 0.36 0.33 0.36 0.28 0.0 0.31 0.31 0.29 0.32 0.31 0.35 0.33 0.35 0.33 0.36 0.3; 0.31 0.32 0.34 0.35 0.31 0.34 0.37 0.27 0.31 0.0 0.36 0.28 0.31 0.34 0.32 0.36 0.34 0.3 0.35 0.23; 0.33 0.38 0.3 0.25 0.35 0.34 0.35 0.35 0.31 0.36 0.0 0.34 0.31 0.28 0.38 0.3 0.34 0.3 0.31 0.33; 0.27 0.3 0.3 0.33 0.35 0.3 0.33 0.25 0.29 0.28 0.34 0.0 0.35 0.3 0.34 0.3 0.38 0.32 0.35 0.31; 0.3 0.31 0.37 0.32 0.3 0.33 0.34 0.32 0.32 0.31 0.31 0.35 0.0 0.31 0.33 0.33 0.33 0.29 0.34 0.26; 0.35 0.3 0.38 0.33 0.35 0.34 0.39 0.33 0.31 0.34 0.28 0.3 0.31 0.0 0.36 0.3 0.42 0.34 0.41 0.29; 0.25 0.34 0.36 0.37 0.41 0.4 0.33 0.31 0.35 0.32 0.38 0.34 0.33 0.36 0.0 0.36 0.36 0.32 0.37 0.31; 0.31 0.36 0.34 0.37 0.27 0.28 0.31 0.31 0.33 0.36 0.3 0.3 0.33 0.3 0.36 0.0 0.36 0.36 0.39 0.35; 0.31 0.3 0.34 0.37 0.33 0.34 0.33 0.35 0.35 0.34 0.34 0.38 0.33 0.42 0.36 0.36 0.0 0.28 0.37 0.29; 0.27 0.26 0.34 0.31 0.29 0.28 0.27 0.35 0.33 0.3 0.3 0.32 0.29 0.34 0.32 0.36 0.28 0.0 0.29 0.23; 0.26 0.35 0.35 0.36 0.38 0.37 0.32 0.32 0.36 0.35 0.31 0.35 0.34 0.41 0.37 0.39 0.37 0.29 0.0 0.3; 0.24 0.25 0.31 0.32 0.32 0.25 0.32 0.24 0.3 0.23 0.33 0.31 0.26 0.29 0.31 0.35 0.29 0.23 0.3 0.0]\n",
      "\n",
      "Best error: 101.407889"
     ]
    }
   ],
   "source": [
    "using JLD\n",
    "using Evolutionary\n",
    "using Distances\n",
    "using Random\n",
    "using BioAlignments\n",
    "using TickTock\n",
    "\n",
    "function fitness_func(individual, distance_matrix, dim)\n",
    "    num_vectors = size(distance_matrix, 1)\n",
    "    binary_vectors = transpose(reshape(individual, (dim, num_vectors)))\n",
    "    distances = zeros((num_vectors, num_vectors))\n",
    "    \n",
    "    Threads.@threads for i in 1:num_vectors\n",
    "        for j in 1:num_vectors\n",
    "            if i != j\n",
    "                distances[i, j] = Distances.hamming(Vector{Int}(binary_vectors[i, :]), Vector{Int}(binary_vectors[j, :]))\n",
    "            end\n",
    "        end\n",
    "    end\n",
    "    \n",
    "    return sum((distances - distance_matrix).^2)\n",
    "end\n",
    "\n",
    "function generate_initial_population(population_size, dim, num_vectors)\n",
    "    return [bitrand(dim*num_vectors) for i in 1:population_size]\n",
    "end\n",
    "\n",
    "function generate_binary_vectors(dim, num_vectors, distance_matrix, max_generations=300, population_size=100, mutation_rate = 0.05)\n",
    "\n",
    "    opts = Evolutionary.Options(iterations=max_generations, parallelization=:thread, show_trace=true)\n",
    "\n",
    "    ga = GA(\n",
    "        populationSize=population_size,\n",
    "        crossoverRate=0.8,\n",
    "        mutationRate=mutation_rate,\n",
    "        crossover=SPX,\n",
    "        mutation=flip\n",
    "    )\n",
    "    \n",
    "    objective = individual -> fitness_func(individual, distance_matrix, dim)\n",
    "\n",
    "    initial_population = generate_initial_population(population_size, dim, num_vectors)\n",
    "\n",
    "    result = Evolutionary.optimize(objective, initial_population, ga, opts)\n",
    "    best_individual = result.minimizer\n",
    "    best_solution = reshape(best_individual, (dim, num_vectors))\n",
    "\n",
    "    return transpose(best_solution)\n",
    "end\n",
    "\n",
    "using Printf\n",
    "\n",
    "function similarity_error(desired_distance_matrix, calculated_distance_matrix)\n",
    "    return sum((calculated_distance_matrix .- desired_distance_matrix).^2)\n",
    "end\n",
    "\n",
    "function find_best_binary_vectors(dim, num_vectors, distance_matrix, num_trials, max_generations=300, population_size=100, mutation_rate = 0.15)\n",
    "    best_error = Inf\n",
    "    best_vectors = nothing\n",
    "    best_calculated_distance_matrix = nothing\n",
    "\n",
    "    for trial in 1:num_trials\n",
    "        binary_vectors = generate_binary_vectors(dim, num_vectors, distance_matrix, max_generations, population_size, mutation_rate)\n",
    "        calculated_distance_matrix = zeros((num_vectors, num_vectors))\n",
    "\n",
    "        for i in 1:num_vectors\n",
    "            for j in 1:num_vectors\n",
    "                if i != j\n",
    "                    hamming_distance = hamming(Vector{Int}(binary_vectors[i, :]), Vector{Int}(binary_vectors[j, :]))\n",
    "                    calculated_distance_matrix[i, j] = hamming_distance / dim\n",
    "                end\n",
    "            end\n",
    "        end\n",
    "\n",
    "        error = similarity_error(distance_matrix, calculated_distance_matrix)\n",
    "\n",
    "        if error < best_error\n",
    "            best_error = error\n",
    "            best_vectors = binary_vectors\n",
    "            best_calculated_distance_matrix = calculated_distance_matrix\n",
    "        end\n",
    "    end\n",
    "\n",
    "    return best_vectors, best_calculated_distance_matrix, best_error\n",
    "end\n",
    "\n",
    "AA_list = ['A','C','D','E','F','G','H','I','K','L','M','N','P','Q','R','S','T','V','W','Y']\n",
    "\n",
    "simmat = copy(GRANTHAM1974)\n",
    "simmatblo = copy(BLOSUM62)\n",
    "\n",
    "grantham = [[simmat[i, j] for i in AA_list] for j in AA_list]\n",
    "grantham = hcat(grantham...)\n",
    "\n",
    "blosum = [[simmatblo[i, j] for i in AA_list] for j in AA_list]\n",
    "blosum = hcat(blosum...)\n",
    "\n",
    "function norm_mat(matrix, zero=false)\n",
    "    if zero == true\n",
    "        min_value = 0\n",
    "    else \n",
    "        min_value = minimum(matrix)\n",
    "    end\n",
    "    \n",
    "    max_value = maximum(matrix)\n",
    "\n",
    "    normalized_matrix = (matrix .- min_value) ./ (max_value - min_value)\n",
    "    return normalized_matrix\n",
    "end\n",
    "\n",
    "norm_blosum = broadcast(abs, norm_mat(blosum) .-1)\n",
    "setindex!.(Ref(norm_blosum), 0.0, 1:20, 1:20)\n",
    "norm_grant = norm_mat(grantham, true)\n",
    "\n",
    "# Generate binary vectors using the desired pairwise similarities\n",
    "distance_matrix = norm_blosum\n",
    "dim = 100\n",
    "num_vectors = 20\n",
    "num_trials = 1\n",
    "population_size = 2000\n",
    "max_generations = 200\n",
    "tick()\n",
    "best_vectors, best_calculated_distance_matrix, best_error = find_best_binary_vectors(dim, num_vectors, distance_matrix, num_trials, max_generations, population_size)\n",
    "\n",
    "println(\"Desired pairwise similarities:\")\n",
    "println(norm_blosum)\n",
    "\n",
    "println(\"\\nBest calculated pairwise similarities:\")\n",
    "println(best_calculated_distance_matrix)\n",
    "\n",
    "@printf(\"\\nBest error: %f\", best_error)"
   ]
  }
 ],
 "metadata": {
  "kernelspec": {
   "display_name": "Julia 1.9.0",
   "language": "julia",
   "name": "julia-1.9"
  },
  "language_info": {
   "file_extension": ".jl",
   "mimetype": "application/julia",
   "name": "julia",
   "version": "1.9.0"
  },
  "orig_nbformat": 4
 },
 "nbformat": 4,
 "nbformat_minor": 2
}

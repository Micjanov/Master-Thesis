{
 "cells": [
  {
   "attachments": {},
   "cell_type": "markdown",
   "metadata": {},
   "source": [
    "# PhaLP"
   ]
  },
  {
   "cell_type": "code",
   "execution_count": 54,
   "metadata": {},
   "outputs": [
    {
     "data": {
      "text/plain": [
       "MySQL.Connection(host=\"127.0.0.1\", user=\"root\", port=\"3306\", db=\"PhaLP\")"
      ]
     },
     "metadata": {},
     "output_type": "display_data"
    }
   ],
   "source": [
    "using MySQL\n",
    "conn = DBInterface.connect(MySQL.Connection, \"127.0.0.1\", \"root\", \"DB_Pw123\", db = \"PhaLP\")"
   ]
  },
  {
   "attachments": {},
   "cell_type": "markdown",
   "metadata": {},
   "source": [
    "## A look at the data"
   ]
  },
  {
   "cell_type": "code",
   "execution_count": 55,
   "metadata": {},
   "outputs": [
    {
     "data": {
      "text/html": [
       "<div><div style = \"float: left;\"><span>14×1 DataFrame</span></div><div style = \"clear: both;\"></div></div><div class = \"data-frame\" style = \"overflow-x: scroll;\"><table class = \"data-frame\" style = \"margin-bottom: 6px;\"><thead><tr class = \"header\"><th class = \"rowNumber\" style = \"font-weight: bold; text-align: right;\">Row</th><th style = \"text-align: left;\">Tables_in_PhaLP</th></tr><tr class = \"subheader headerLastRow\"><th class = \"rowNumber\" style = \"font-weight: bold; text-align: right;\"></th><th title = \"String\" style = \"text-align: left;\">String</th></tr></thead><tbody><tr><td class = \"rowNumber\" style = \"font-weight: bold; text-align: right;\">1</td><td style = \"text-align: left;\">CDSs</td></tr><tr><td class = \"rowNumber\" style = \"font-weight: bold; text-align: right;\">2</td><td style = \"text-align: left;\">EC</td></tr><tr><td class = \"rowNumber\" style = \"font-weight: bold; text-align: right;\">3</td><td style = \"text-align: left;\">UniParc</td></tr><tr><td class = \"rowNumber\" style = \"font-weight: bold; text-align: right;\">4</td><td style = \"text-align: left;\">UniProt</td></tr><tr><td class = \"rowNumber\" style = \"font-weight: bold; text-align: right;\">5</td><td style = \"text-align: left;\">domains</td></tr><tr><td class = \"rowNumber\" style = \"font-weight: bold; text-align: right;\">6</td><td style = \"text-align: left;\">experimental_evidence</td></tr><tr><td class = \"rowNumber\" style = \"font-weight: bold; text-align: right;\">7</td><td style = \"text-align: left;\">gene_ontologies</td></tr><tr><td class = \"rowNumber\" style = \"font-weight: bold; text-align: right;\">8</td><td style = \"text-align: left;\">hosts</td></tr><tr><td class = \"rowNumber\" style = \"font-weight: bold; text-align: right;\">9</td><td style = \"text-align: left;\">link_EC_UniProt</td></tr><tr><td class = \"rowNumber\" style = \"font-weight: bold; text-align: right;\">10</td><td style = \"text-align: left;\">link_UniParc_domains</td></tr><tr><td class = \"rowNumber\" style = \"font-weight: bold; text-align: right;\">11</td><td style = \"text-align: left;\">link_phage_host</td></tr><tr><td class = \"rowNumber\" style = \"font-weight: bold; text-align: right;\">12</td><td style = \"text-align: left;\">phages</td></tr><tr><td class = \"rowNumber\" style = \"font-weight: bold; text-align: right;\">13</td><td style = \"text-align: left;\">sequence_conflicts</td></tr><tr><td class = \"rowNumber\" style = \"font-weight: bold; text-align: right;\">14</td><td style = \"text-align: left;\">tertiary_structures</td></tr></tbody></table></div>"
      ],
      "text/latex": [
       "\\begin{tabular}{r|c}\n",
       "\t& Tables\\_in\\_PhaLP\\\\\n",
       "\t\\hline\n",
       "\t& String\\\\\n",
       "\t\\hline\n",
       "\t1 & CDSs \\\\\n",
       "\t2 & EC \\\\\n",
       "\t3 & UniParc \\\\\n",
       "\t4 & UniProt \\\\\n",
       "\t5 & domains \\\\\n",
       "\t6 & experimental\\_evidence \\\\\n",
       "\t7 & gene\\_ontologies \\\\\n",
       "\t8 & hosts \\\\\n",
       "\t9 & link\\_EC\\_UniProt \\\\\n",
       "\t10 & link\\_UniParc\\_domains \\\\\n",
       "\t11 & link\\_phage\\_host \\\\\n",
       "\t12 & phages \\\\\n",
       "\t13 & sequence\\_conflicts \\\\\n",
       "\t14 & tertiary\\_structures \\\\\n",
       "\\end{tabular}\n"
      ],
      "text/plain": [
       "\u001b[1m14×1 DataFrame\u001b[0m\n",
       "\u001b[1m Row \u001b[0m│\u001b[1m Tables_in_PhaLP       \u001b[0m\n",
       "     │\u001b[90m String                \u001b[0m\n",
       "─────┼───────────────────────\n",
       "   1 │ CDSs\n",
       "   2 │ EC\n",
       "   3 │ UniParc\n",
       "   4 │ UniProt\n",
       "   5 │ domains\n",
       "   6 │ experimental_evidence\n",
       "   7 │ gene_ontologies\n",
       "   8 │ hosts\n",
       "   9 │ link_EC_UniProt\n",
       "  10 │ link_UniParc_domains\n",
       "  11 │ link_phage_host\n",
       "  12 │ phages\n",
       "  13 │ sequence_conflicts\n",
       "  14 │ tertiary_structures"
      ]
     },
     "metadata": {},
     "output_type": "display_data"
    }
   ],
   "source": [
    "using DataFrames\n",
    "tables = DataFrame(DBInterface.execute(conn, \"SHOW TABLES;\"))"
   ]
  },
  {
   "attachments": {},
   "cell_type": "markdown",
   "metadata": {},
   "source": [
    "## Make dictionaries to map UniProt accessions to their Uniparc ID (UPI) and the other way around\n"
   ]
  },
  {
   "cell_type": "code",
   "execution_count": 56,
   "metadata": {},
   "outputs": [
    {
     "data": {
      "text/html": [
       "<div><div style = \"float: left;\"><span>17356×9 DataFrame</span></div><div style = \"float: right;\"><span style = \"font-style: italic;\">17331 rows omitted</span></div><div style = \"clear: both;\"></div></div><div class = \"data-frame\" style = \"overflow-x: scroll;\"><table class = \"data-frame\" style = \"margin-bottom: 6px;\"><thead><tr class = \"header\"><th class = \"rowNumber\" style = \"font-weight: bold; text-align: right;\">Row</th><th style = \"text-align: left;\">UniProt_ID</th><th style = \"text-align: left;\">name</th><th style = \"text-align: left;\">type</th><th style = \"text-align: left;\">type_evidence</th><th style = \"text-align: left;\">type_probability</th><th style = \"text-align: left;\">UniParc_ID</th><th style = \"text-align: left;\">phages_ID</th><th style = \"text-align: left;\">date_created</th><th style = \"text-align: left;\">date_last_updated</th></tr><tr class = \"subheader headerLastRow\"><th class = \"rowNumber\" style = \"font-weight: bold; text-align: right;\"></th><th title = \"String\" style = \"text-align: left;\">String</th><th title = \"String\" style = \"text-align: left;\">String</th><th title = \"Union{Missing, String}\" style = \"text-align: left;\">String?</th><th title = \"Union{Missing, String}\" style = \"text-align: left;\">String?</th><th title = \"Union{Missing, Int8}\" style = \"text-align: left;\">Int8?</th><th title = \"String\" style = \"text-align: left;\">String</th><th title = \"String\" style = \"text-align: left;\">String</th><th title = \"Union{Missing, Dates.Date}\" style = \"text-align: left;\">Date</th><th title = \"Union{Missing, Dates.Date}\" style = \"text-align: left;\">Date</th></tr></thead><tbody><tr><td class = \"rowNumber\" style = \"font-weight: bold; text-align: right;\">1</td><td style = \"text-align: left;\">A0A023J3R2</td><td style = \"text-align: left;\">Lysin</td><td style = \"text-align: left;\">endolysin</td><td style = \"text-align: left;\">ML prediction</td><td style = \"text-align: right;\">95</td><td style = \"text-align: left;\">UPI000009B5E8</td><td style = \"text-align: left;\">1414741</td><td style = \"text-align: left;\">2014-07-09</td><td style = \"text-align: left;\">2020-10-07</td></tr><tr><td class = \"rowNumber\" style = \"font-weight: bold; text-align: right;\">2</td><td style = \"text-align: left;\">A0A023MHA8</td><td style = \"text-align: left;\">Endolysin</td><td style = \"text-align: left;\">endolysin</td><td style = \"text-align: left;\">GO annotation</td><td style = \"text-align: right;\">99</td><td style = \"text-align: left;\">UPI000358374C</td><td style = \"text-align: left;\">1446490</td><td style = \"text-align: left;\">2014-07-09</td><td style = \"text-align: left;\">2021-09-29</td></tr><tr><td class = \"rowNumber\" style = \"font-weight: bold; text-align: right;\">3</td><td style = \"text-align: left;\">A0A023MHL5</td><td style = \"text-align: left;\">Lysozyme</td><td style = \"text-align: left;\">endolysin</td><td style = \"text-align: left;\">Protein name annotation</td><td style = \"text-align: right;\">98</td><td style = \"text-align: left;\">UPI00025EA4B0</td><td style = \"text-align: left;\">1446489</td><td style = \"text-align: left;\">2014-07-09</td><td style = \"text-align: left;\">2021-09-29</td></tr><tr><td class = \"rowNumber\" style = \"font-weight: bold; text-align: right;\">4</td><td style = \"text-align: left;\">A0A023NGE0</td><td style = \"text-align: left;\">Glyco_hydro_19_cat domain-containing protein</td><td style = \"text-align: left;\">endolysin</td><td style = \"text-align: left;\">ML prediction</td><td style = \"text-align: right;\">95</td><td style = \"text-align: left;\">UPI000444C4BC</td><td style = \"text-align: left;\">1472912</td><td style = \"text-align: left;\">2014-07-09</td><td style = \"text-align: left;\">2020-10-07</td></tr><tr><td class = \"rowNumber\" style = \"font-weight: bold; text-align: right;\">5</td><td style = \"text-align: left;\">A0A023NGU6</td><td style = \"text-align: left;\">Putative tail structure protein</td><td style = \"text-align: left;\">VAL</td><td style = \"text-align: left;\">ML prediction</td><td style = \"text-align: right;\">55</td><td style = \"text-align: left;\">UPI000444E028</td><td style = \"text-align: left;\">1472912</td><td style = \"text-align: left;\">2014-07-09</td><td style = \"text-align: left;\">2021-09-29</td></tr><tr><td class = \"rowNumber\" style = \"font-weight: bold; text-align: right;\">6</td><td style = \"text-align: left;\">A0A023VTC7</td><td style = \"text-align: left;\">Endolysin</td><td style = \"text-align: left;\">endolysin</td><td style = \"text-align: left;\">GO annotation</td><td style = \"text-align: right;\">98</td><td style = \"text-align: left;\">UPI000456C488</td><td style = \"text-align: left;\">1492784</td><td style = \"text-align: left;\">2014-07-09</td><td style = \"text-align: left;\">2021-09-29</td></tr><tr><td class = \"rowNumber\" style = \"font-weight: bold; text-align: right;\">7</td><td style = \"text-align: left;\">A0A023W6J3</td><td style = \"text-align: left;\">SLT domain-containing protein</td><td style = \"text-align: left;\">endolysin</td><td style = \"text-align: left;\">ML prediction</td><td style = \"text-align: right;\">61</td><td style = \"text-align: left;\">UPI000456AE9B</td><td style = \"text-align: left;\">1481112</td><td style = \"text-align: left;\">2014-07-09</td><td style = \"text-align: left;\">2020-08-12</td></tr><tr><td class = \"rowNumber\" style = \"font-weight: bold; text-align: right;\">8</td><td style = \"text-align: left;\">A0A023W6J8</td><td style = \"text-align: left;\">Lysozyme</td><td style = \"text-align: left;\">endolysin</td><td style = \"text-align: left;\">ML prediction</td><td style = \"text-align: right;\">88</td><td style = \"text-align: left;\">UPI000456A579</td><td style = \"text-align: left;\">1481112</td><td style = \"text-align: left;\">2014-07-09</td><td style = \"text-align: left;\">2021-09-29</td></tr><tr><td class = \"rowNumber\" style = \"font-weight: bold; text-align: right;\">9</td><td style = \"text-align: left;\">A0A023W6M9</td><td style = \"text-align: left;\">Lysozyme</td><td style = \"text-align: left;\">VAL</td><td style = \"text-align: left;\">InterPro domain annotation</td><td style = \"text-align: right;\">90</td><td style = \"text-align: left;\">UPI000456BD43</td><td style = \"text-align: left;\">1481112</td><td style = \"text-align: left;\">2014-07-09</td><td style = \"text-align: left;\">2021-09-29</td></tr><tr><td class = \"rowNumber\" style = \"font-weight: bold; text-align: right;\">10</td><td style = \"text-align: left;\">A0A023W6P1</td><td style = \"text-align: left;\">Lysin A</td><td style = \"text-align: left;\">endolysin</td><td style = \"text-align: left;\">Protein name annotation</td><td style = \"text-align: right;\">100</td><td style = \"text-align: left;\">UPI0003E3877A</td><td style = \"text-align: left;\">1486425</td><td style = \"text-align: left;\">2014-07-09</td><td style = \"text-align: left;\">2021-09-29</td></tr><tr><td class = \"rowNumber\" style = \"font-weight: bold; text-align: right;\">11</td><td style = \"text-align: left;\">A0A023W6V3</td><td style = \"text-align: left;\">Lysin A, protease C39 domain</td><td style = \"text-align: left;\">endolysin</td><td style = \"text-align: left;\">Protein name annotation</td><td style = \"text-align: right;\">95</td><td style = \"text-align: left;\">UPI00045687F8</td><td style = \"text-align: left;\">1486427</td><td style = \"text-align: left;\">2014-07-09</td><td style = \"text-align: left;\">2021-09-29</td></tr><tr><td class = \"rowNumber\" style = \"font-weight: bold; text-align: right;\">12</td><td style = \"text-align: left;\">A0A023W7B9</td><td style = \"text-align: left;\">Tape measure protein</td><td style = \"text-align: left;\">VAL</td><td style = \"text-align: left;\">Protein name annotation</td><td style = \"text-align: right;\">90</td><td style = \"text-align: left;\">UPI000456B366</td><td style = \"text-align: left;\">1486424</td><td style = \"text-align: left;\">2014-07-09</td><td style = \"text-align: left;\">2021-06-02</td></tr><tr><td class = \"rowNumber\" style = \"font-weight: bold; text-align: right;\">13</td><td style = \"text-align: left;\">A0A023W7C5</td><td style = \"text-align: left;\">Lysin A</td><td style = \"text-align: left;\">endolysin</td><td style = \"text-align: left;\">Protein name annotation</td><td style = \"text-align: right;\">100</td><td style = \"text-align: left;\">UPI000456ED39</td><td style = \"text-align: left;\">1486426</td><td style = \"text-align: left;\">2014-07-09</td><td style = \"text-align: left;\">2020-08-12</td></tr><tr><td style = \"text-align: right;\">&vellip;</td><td style = \"text-align: right;\">&vellip;</td><td style = \"text-align: right;\">&vellip;</td><td style = \"text-align: right;\">&vellip;</td><td style = \"text-align: right;\">&vellip;</td><td style = \"text-align: right;\">&vellip;</td><td style = \"text-align: right;\">&vellip;</td><td style = \"text-align: right;\">&vellip;</td><td style = \"text-align: right;\">&vellip;</td><td style = \"text-align: right;\">&vellip;</td></tr><tr><td class = \"rowNumber\" style = \"font-weight: bold; text-align: right;\">17345</td><td style = \"text-align: left;\">X4YDL4</td><td style = \"text-align: left;\">Base plate hub subunit and tail lysozyme protein</td><td style = \"text-align: left;\">VAL</td><td style = \"text-align: left;\">InterPro domain annotation</td><td style = \"text-align: right;\">97</td><td style = \"text-align: left;\">UPI00043AE3FF</td><td style = \"text-align: left;\">1446492</td><td style = \"text-align: left;\">2014-06-11</td><td style = \"text-align: left;\">2021-06-02</td></tr><tr><td class = \"rowNumber\" style = \"font-weight: bold; text-align: right;\">17346</td><td style = \"text-align: left;\">X4YES5</td><td style = \"text-align: left;\">Cell wall-associated hydrolase</td><td style = \"text-align: left;\">endolysin</td><td style = \"text-align: left;\">ML prediction</td><td style = \"text-align: right;\">97</td><td style = \"text-align: left;\">UPI00043AD062</td><td style = \"text-align: left;\">1476889</td><td style = \"text-align: left;\">2014-06-11</td><td style = \"text-align: left;\">2021-09-29</td></tr><tr><td class = \"rowNumber\" style = \"font-weight: bold; text-align: right;\">17347</td><td style = \"text-align: left;\">X4YGT6</td><td style = \"text-align: left;\">Cell wall-associated hydrolase</td><td style = \"text-align: left;\">endolysin</td><td style = \"text-align: left;\">ML prediction</td><td style = \"text-align: right;\">97</td><td style = \"text-align: left;\">UPI00043B026E</td><td style = \"text-align: left;\">1476887</td><td style = \"text-align: left;\">2014-06-11</td><td style = \"text-align: left;\">2021-04-07</td></tr><tr><td class = \"rowNumber\" style = \"font-weight: bold; text-align: right;\">17348</td><td style = \"text-align: left;\">X4YH20</td><td style = \"text-align: left;\">Lysin</td><td style = \"text-align: left;\">endolysin</td><td style = \"text-align: left;\">ML prediction</td><td style = \"text-align: right;\">94</td><td style = \"text-align: left;\">UPI00043B0FEE</td><td style = \"text-align: left;\">1476888</td><td style = \"text-align: left;\">2014-06-11</td><td style = \"text-align: left;\">2021-09-29</td></tr><tr><td class = \"rowNumber\" style = \"font-weight: bold; text-align: right;\">17349</td><td style = \"text-align: left;\">X4YTU0</td><td style = \"text-align: left;\">Putative peptidoglycan binding protein</td><td style = \"text-align: left;\">endolysin</td><td style = \"text-align: left;\">Protein name annotation</td><td style = \"text-align: right;\">96</td><td style = \"text-align: left;\">UPI00022901FF</td><td style = \"text-align: left;\">1446492</td><td style = \"text-align: left;\">2014-06-11</td><td style = \"text-align: left;\">2020-10-07</td></tr><tr><td class = \"rowNumber\" style = \"font-weight: bold; text-align: right;\">17350</td><td style = \"text-align: left;\">X4YU71</td><td style = \"text-align: left;\">SLT domain-containing protein</td><td style = \"text-align: left;\">endolysin</td><td style = \"text-align: left;\">ML prediction</td><td style = \"text-align: right;\">92</td><td style = \"text-align: left;\">UPI00028B7B43</td><td style = \"text-align: left;\">1446492</td><td style = \"text-align: left;\">2014-06-11</td><td style = \"text-align: left;\">2020-08-12</td></tr><tr><td class = \"rowNumber\" style = \"font-weight: bold; text-align: right;\">17351</td><td style = \"text-align: left;\">X4YVN8</td><td style = \"text-align: left;\">Lysin A</td><td style = \"text-align: left;\">endolysin</td><td style = \"text-align: left;\">Protein name annotation</td><td style = \"text-align: right;\">100</td><td style = \"text-align: left;\">UPI0001814A13</td><td style = \"text-align: left;\">1458715</td><td style = \"text-align: left;\">2014-06-11</td><td style = \"text-align: left;\">2021-09-29</td></tr><tr><td class = \"rowNumber\" style = \"font-weight: bold; text-align: right;\">17352</td><td style = \"text-align: left;\">X4YWB9</td><td style = \"text-align: left;\">Lysin</td><td style = \"text-align: left;\">endolysin</td><td style = \"text-align: left;\">ML prediction</td><td style = \"text-align: right;\">96</td><td style = \"text-align: left;\">UPI00043AEBD7</td><td style = \"text-align: left;\">1476886</td><td style = \"text-align: left;\">2014-06-11</td><td style = \"text-align: left;\">2021-06-02</td></tr><tr><td class = \"rowNumber\" style = \"font-weight: bold; text-align: right;\">17353</td><td style = \"text-align: left;\">X5IEK4</td><td style = \"text-align: left;\">Putative endolysin</td><td style = \"text-align: left;\">endolysin</td><td style = \"text-align: left;\">ML prediction</td><td style = \"text-align: right;\">95</td><td style = \"text-align: left;\">UPI00043B1A6F</td><td style = \"text-align: left;\">1462608</td><td style = \"text-align: left;\">2014-06-11</td><td style = \"text-align: left;\">2020-08-12</td></tr><tr><td class = \"rowNumber\" style = \"font-weight: bold; text-align: right;\">17354</td><td style = \"text-align: left;\">X5JAJ3</td><td style = \"text-align: left;\">Putative cell wall hydrolase protein</td><td style = \"text-align: left;\">VAL</td><td style = \"text-align: left;\">InterPro domain annotation</td><td style = \"text-align: right;\">78</td><td style = \"text-align: left;\">UPI0004377EE2</td><td style = \"text-align: left;\">1411095</td><td style = \"text-align: left;\">2014-06-11</td><td style = \"text-align: left;\">2021-09-29</td></tr><tr><td class = \"rowNumber\" style = \"font-weight: bold; text-align: right;\">17355</td><td style = \"text-align: left;\">X5JAJ5</td><td style = \"text-align: left;\">Putative endolysin protein</td><td style = \"text-align: left;\">endolysin</td><td style = \"text-align: left;\">ML prediction</td><td style = \"text-align: right;\">90</td><td style = \"text-align: left;\">UPI000437800A</td><td style = \"text-align: left;\">1411095</td><td style = \"text-align: left;\">2014-06-11</td><td style = \"text-align: left;\">2020-12-02</td></tr><tr><td class = \"rowNumber\" style = \"font-weight: bold; text-align: right;\">17356</td><td style = \"text-align: left;\">X5JZD7</td><td style = \"text-align: left;\">Lysozyme</td><td style = \"text-align: left;\">endolysin</td><td style = \"text-align: left;\">ML prediction</td><td style = \"text-align: right;\">99</td><td style = \"text-align: left;\">UPI000437885A</td><td style = \"text-align: left;\">1465613</td><td style = \"text-align: left;\">2014-06-11</td><td style = \"text-align: left;\">2021-09-29</td></tr></tbody></table></div>"
      ],
      "text/latex": [
       "\\begin{tabular}{r|ccccc}\n",
       "\t& UniProt\\_ID & name & type & type\\_evidence & \\\\\n",
       "\t\\hline\n",
       "\t& String & String & String? & String? & \\\\\n",
       "\t\\hline\n",
       "\t1 & A0A023J3R2 & Lysin & endolysin & ML prediction & $\\dots$ \\\\\n",
       "\t2 & A0A023MHA8 & Endolysin & endolysin & GO annotation & $\\dots$ \\\\\n",
       "\t3 & A0A023MHL5 & Lysozyme & endolysin & Protein name annotation & $\\dots$ \\\\\n",
       "\t4 & A0A023NGE0 & Glyco\\_hydro\\_19\\_cat domain-containing protein & endolysin & ML prediction & $\\dots$ \\\\\n",
       "\t5 & A0A023NGU6 & Putative tail structure protein & VAL & ML prediction & $\\dots$ \\\\\n",
       "\t6 & A0A023VTC7 & Endolysin & endolysin & GO annotation & $\\dots$ \\\\\n",
       "\t7 & A0A023W6J3 & SLT domain-containing protein & endolysin & ML prediction & $\\dots$ \\\\\n",
       "\t8 & A0A023W6J8 & Lysozyme & endolysin & ML prediction & $\\dots$ \\\\\n",
       "\t9 & A0A023W6M9 & Lysozyme & VAL & InterPro domain annotation & $\\dots$ \\\\\n",
       "\t10 & A0A023W6P1 & Lysin A & endolysin & Protein name annotation & $\\dots$ \\\\\n",
       "\t11 & A0A023W6V3 & Lysin A, protease C39 domain & endolysin & Protein name annotation & $\\dots$ \\\\\n",
       "\t12 & A0A023W7B9 & Tape measure protein & VAL & Protein name annotation & $\\dots$ \\\\\n",
       "\t13 & A0A023W7C5 & Lysin A & endolysin & Protein name annotation & $\\dots$ \\\\\n",
       "\t14 & A0A023ZSL0 & Putative muramidase & endolysin & ML prediction & $\\dots$ \\\\\n",
       "\t15 & A0A023ZSL4 & Putative muramidase & endolysin & ML prediction & $\\dots$ \\\\\n",
       "\t16 & A0A023ZSM0 & Putative muramidase & endolysin & ML prediction & $\\dots$ \\\\\n",
       "\t17 & A0A023ZSM6 & Putative muramidase & endolysin & ML prediction & $\\dots$ \\\\\n",
       "\t18 & A0A023ZSN1 & Putative muramidase & endolysin & ML prediction & $\\dots$ \\\\\n",
       "\t19 & A0A023ZSN7 & Putative muramidase & endolysin & ML prediction & $\\dots$ \\\\\n",
       "\t20 & A0A023ZSP3 & Putative muramidase & endolysin & ML prediction & $\\dots$ \\\\\n",
       "\t21 & A0A023ZSP9 & Putative muramidase & endolysin & ML prediction & $\\dots$ \\\\\n",
       "\t22 & A0A023ZSQ3 & Putative muramidase & endolysin & ML prediction & $\\dots$ \\\\\n",
       "\t23 & A0A023ZSQ9 & Putative muramidase & endolysin & ML prediction & $\\dots$ \\\\\n",
       "\t24 & A0A023ZSY8 & Putative muramidase & endolysin & ML prediction & $\\dots$ \\\\\n",
       "\t$\\dots$ & $\\dots$ & $\\dots$ & $\\dots$ & $\\dots$ &  \\\\\n",
       "\\end{tabular}\n"
      ],
      "text/plain": [
       "\u001b[1m17356×9 DataFrame\u001b[0m\n",
       "\u001b[1m   Row \u001b[0m│\u001b[1m UniProt_ID \u001b[0m\u001b[1m name                              \u001b[0m\u001b[1m type      \u001b[0m\u001b[1m type_eviden\u001b[0m ⋯\n",
       "       │\u001b[90m String     \u001b[0m\u001b[90m String                            \u001b[0m\u001b[90m String?   \u001b[0m\u001b[90m String?    \u001b[0m ⋯\n",
       "───────┼────────────────────────────────────────────────────────────────────────\n",
       "     1 │ A0A023J3R2  Lysin                              endolysin  ML predicti ⋯\n",
       "     2 │ A0A023MHA8  Endolysin                          endolysin  GO annotati\n",
       "     3 │ A0A023MHL5  Lysozyme                           endolysin  Protein nam\n",
       "     4 │ A0A023NGE0  Glyco_hydro_19_cat domain-contai…  endolysin  ML predicti\n",
       "     5 │ A0A023NGU6  Putative tail structure protein    VAL        ML predicti ⋯\n",
       "     6 │ A0A023VTC7  Endolysin                          endolysin  GO annotati\n",
       "     7 │ A0A023W6J3  SLT domain-containing protein      endolysin  ML predicti\n",
       "     8 │ A0A023W6J8  Lysozyme                           endolysin  ML predicti\n",
       "   ⋮   │     ⋮                       ⋮                      ⋮                  ⋱\n",
       " 17350 │ X4YU71      SLT domain-containing protein      endolysin  ML predicti ⋯\n",
       " 17351 │ X4YVN8      Lysin A                            endolysin  Protein nam\n",
       " 17352 │ X4YWB9      Lysin                              endolysin  ML predicti\n",
       " 17353 │ X5IEK4      Putative endolysin                 endolysin  ML predicti\n",
       " 17354 │ X5JAJ3      Putative cell wall hydrolase pro…  VAL        InterPro do ⋯\n",
       " 17355 │ X5JAJ5      Putative endolysin protein         endolysin  ML predicti\n",
       " 17356 │ X5JZD7      Lysozyme                           endolysin  ML predicti\n",
       "\u001b[36m                                                6 columns and 17341 rows omitted\u001b[0m"
      ]
     },
     "metadata": {},
     "output_type": "display_data"
    }
   ],
   "source": [
    "using DataFrames\n",
    "acc2upi = Dict()\n",
    "upi2acc = Dict()\n",
    "\n",
    "data = DataFrame(DBInterface.execute(conn, \"SELECT * FROM PhaLP.UniProt;\"))"
   ]
  },
  {
   "cell_type": "code",
   "execution_count": 57,
   "metadata": {},
   "outputs": [
    {
     "data": {
      "text/plain": [
       "Dict{String, Union{Missing, String}} with 17356 entries:\n",
       "  \"A0A7G9VVR8\" => \"endolysin\"\n",
       "  \"A0A2H4YFQ7\" => \"endolysin\"\n",
       "  \"A0A2S1GLL8\" => \"endolysin\"\n",
       "  \"A0A7R8MRQ0\" => \"endolysin\"\n",
       "  \"A0A482MER4\" => \"endolysin\"\n",
       "  \"A0A7S5QZ98\" => \"endolysin\"\n",
       "  \"A0A0N6WMR3\" => \"endolysin\"\n",
       "  \"A0A2H4P6Z6\" => \"VAL\"\n",
       "  \"A0A649VC87\" => \"endolysin\"\n",
       "  \"I6QAD5\"     => \"VAL\"\n",
       "  \"A0A0P0HS42\" => \"endolysin\"\n",
       "  \"A0A1Z1LYD6\" => \"VAL\"\n",
       "  \"A0A5J6CUF4\" => \"VAL\"\n",
       "  \"A0A0B5A6U7\" => \"endolysin\"\n",
       "  \"A0A514A7X8\" => \"VAL\"\n",
       "  \"P19897\"     => \"VAL\"\n",
       "  \"A0A097J3G5\" => \"endolysin\"\n",
       "  \"A0A345L2B1\" => \"VAL\"\n",
       "  \"A0A3S5H0L0\" => \"VAL\"\n",
       "  ⋮            => ⋮"
      ]
     },
     "metadata": {},
     "output_type": "display_data"
    }
   ],
   "source": [
    "s = size(data,1)\n",
    "for row in 1:s\n",
    "    acc2upi[data[row, 1]]=data[row, 6]\n",
    "    if data[row, 6] ∉ collect(keys(upi2acc))\n",
    "        upi2acc[data[row, 6]]=[]\n",
    "    end\n",
    "    push!(upi2acc[data[row, 6]], data[row, 1])\n",
    "end\n",
    "UP2type = Dict(zip(data[:, 1], data[:, 3]))"
   ]
  },
  {
   "cell_type": "code",
   "execution_count": 58,
   "metadata": {},
   "outputs": [],
   "source": [
    "domacc2domname = Dict()\n",
    "using CSV\n",
    "\n",
    "CSV.write(\"t.csv\", DBInterface.execute(conn,\"SELECT * FROM `PhaLP`.`link_UniParc_domains` as l join `PhaLP`.`domains` as d where d.`domains_ID` = l.`domains_ID`;\"))\n",
    "data = CSV.read(\"t.csv\", DataFrame)\n",
    "upi2doms = Dict()\n",
    "\n",
    "s = size(data,1)\n",
    "for row in 1:s\n",
    "    if data[row,1] ∉ collect(keys(domacc2domname))\n",
    "         domacc2domname[data[row,1]]=  data[row,8]\n",
    "    end\n",
    "    if data[row,2] ∉ collect(keys(upi2doms))\n",
    "        upi2doms[data[row,2]] = []\n",
    "    end\n",
    "    push!(upi2doms[data[row,2]], data[row,1])\n",
    "end"
   ]
  },
  {
   "cell_type": "code",
   "execution_count": 59,
   "metadata": {},
   "outputs": [
    {
     "data": {
      "text/plain": [
       "Dict{String, Vector{UInt8}} with 11549 entries:\n",
       "  \"UPI000178DD30\" => [0x4d, 0x41, 0x4b, 0x56, 0x51, 0x46, 0x54, 0x4b, 0x52, 0x5…\n",
       "  \"UPI0013EFDC93\" => [0x4d, 0x47, 0x59, 0x4d, 0x59, 0x50, 0x56, 0x50, 0x4b, 0x4…\n",
       "  \"UPI000172D062\" => [0x4d, 0x56, 0x49, 0x4d, 0x53, 0x45, 0x46, 0x56, 0x57, 0x4…\n",
       "  \"UPI001463ABBB\" => [0x4d, 0x4e, 0x4c, 0x53, 0x41, 0x4e, 0x46, 0x53, 0x4c, 0x4…\n",
       "  \"UPI000232F56D\" => [0x4d, 0x41, 0x4c, 0x47, 0x41, 0x50, 0x4d, 0x45, 0x4e, 0x4…\n",
       "  \"UPI0011625D30\" => [0x4d, 0x45, 0x47, 0x47, 0x44, 0x4b, 0x4c, 0x51, 0x47, 0x4…\n",
       "  \"UPI0009882324\" => [0x4d, 0x44, 0x49, 0x44, 0x52, 0x4e, 0x52, 0x4c, 0x52, 0x5…\n",
       "  \"UPI000CA1D611\" => [0x4d, 0x4b, 0x51, 0x41, 0x41, 0x59, 0x47, 0x53, 0x4c, 0x5…\n",
       "  \"UPI0006BC2F8A\" => [0x4d, 0x53, 0x46, 0x4b, 0x4d, 0x4b, 0x59, 0x50, 0x49, 0x4…\n",
       "  \"UPI000BBF7878\" => [0x4d, 0x54, 0x45, 0x52, 0x56, 0x4c, 0x52, 0x59, 0x44, 0x4…\n",
       "  \"UPI00138B2696\" => [0x4d, 0x51, 0x4c, 0x53, 0x52, 0x4b, 0x47, 0x4c, 0x44, 0x4…\n",
       "  \"UPI00025D6AED\" => [0x4d, 0x53, 0x4e, 0x52, 0x4e, 0x49, 0x53, 0x4e, 0x4e, 0x4…\n",
       "  \"UPI00022BD3A3\" => [0x4d, 0x54, 0x4c, 0x50, 0x56, 0x41, 0x4c, 0x54, 0x56, 0x5…\n",
       "  \"UPI000D22144F\" => [0x4d, 0x41, 0x4b, 0x49, 0x51, 0x41, 0x54, 0x4d, 0x53, 0x5…\n",
       "  \"UPI0010C2D3EE\" => [0x4d, 0x45, 0x56, 0x41, 0x47, 0x53, 0x50, 0x59, 0x47, 0x4…\n",
       "  \"UPI00080F0655\" => [0x4d, 0x47, 0x48, 0x49, 0x56, 0x44, 0x49, 0x53, 0x4b, 0x5…\n",
       "  \"UPI0018623B24\" => [0x4d, 0x47, 0x4b, 0x48, 0x4c, 0x56, 0x49, 0x43, 0x47, 0x4…\n",
       "  \"UPI0008093543\" => [0x4d, 0x50, 0x53, 0x49, 0x45, 0x4e, 0x4d, 0x49, 0x41, 0x5…\n",
       "  \"UPI0014638858\" => [0x4d, 0x4b, 0x50, 0x41, 0x53, 0x41, 0x59, 0x47, 0x44, 0x4…\n",
       "  ⋮               => ⋮"
      ]
     },
     "metadata": {},
     "output_type": "display_data"
    }
   ],
   "source": [
    "data = DataFrame(DBInterface.execute(conn,\"SELECT * FROM PhaLP.UniParc;\"))\n",
    "seq = Dict(zip(data[:, 1],data[:,2]))\n",
    "\n"
   ]
  }
 ],
 "metadata": {
  "kernelspec": {
   "display_name": "Julia 1.8.0",
   "language": "julia",
   "name": "julia-1.8"
  },
  "language_info": {
   "file_extension": ".jl",
   "mimetype": "application/julia",
   "name": "julia",
   "version": "1.8.0"
  },
  "orig_nbformat": 4,
  "vscode": {
   "interpreter": {
    "hash": "e7370f93d1d0cde622a1f8e1c04877d8463912d04d973331ad4851f04de6915a"
   }
  }
 },
 "nbformat": 4,
 "nbformat_minor": 2
}

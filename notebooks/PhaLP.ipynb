{
 "cells": [
  {
   "attachments": {},
   "cell_type": "markdown",
   "metadata": {},
   "source": [
    "# PhaLP"
   ]
  },
  {
   "cell_type": "code",
   "execution_count": 12,
   "metadata": {},
   "outputs": [
    {
     "data": {
      "text/plain": [
       "MySQL.Connection(host=\"127.0.0.1\", user=\"root\", port=\"3306\", db=\"PhaLP\")"
      ]
     },
     "metadata": {},
     "output_type": "display_data"
    }
   ],
   "source": [
    "using MySQL\n",
    "conn = DBInterface.connect(MySQL.Connection, \"127.0.0.1\", \"root\", \"DB_Pw123\", db = \"PhaLP\")"
   ]
  },
  {
   "attachments": {},
   "cell_type": "markdown",
   "metadata": {},
   "source": [
    "## A look at the data"
   ]
  },
  {
   "cell_type": "code",
   "execution_count": 13,
   "metadata": {},
   "outputs": [
    {
     "data": {
      "text/html": [
       "<div><div style = \"float: left;\"><span>14×1 DataFrame</span></div><div style = \"clear: both;\"></div></div><div class = \"data-frame\" style = \"overflow-x: scroll;\"><table class = \"data-frame\" style = \"margin-bottom: 6px;\"><thead><tr class = \"header\"><th class = \"rowNumber\" style = \"font-weight: bold; text-align: right;\">Row</th><th style = \"text-align: left;\">Tables_in_PhaLP</th></tr><tr class = \"subheader headerLastRow\"><th class = \"rowNumber\" style = \"font-weight: bold; text-align: right;\"></th><th title = \"String\" style = \"text-align: left;\">String</th></tr></thead><tbody><tr><td class = \"rowNumber\" style = \"font-weight: bold; text-align: right;\">1</td><td style = \"text-align: left;\">CDSs</td></tr><tr><td class = \"rowNumber\" style = \"font-weight: bold; text-align: right;\">2</td><td style = \"text-align: left;\">EC</td></tr><tr><td class = \"rowNumber\" style = \"font-weight: bold; text-align: right;\">3</td><td style = \"text-align: left;\">UniParc</td></tr><tr><td class = \"rowNumber\" style = \"font-weight: bold; text-align: right;\">4</td><td style = \"text-align: left;\">UniProt</td></tr><tr><td class = \"rowNumber\" style = \"font-weight: bold; text-align: right;\">5</td><td style = \"text-align: left;\">domains</td></tr><tr><td class = \"rowNumber\" style = \"font-weight: bold; text-align: right;\">6</td><td style = \"text-align: left;\">experimental_evidence</td></tr><tr><td class = \"rowNumber\" style = \"font-weight: bold; text-align: right;\">7</td><td style = \"text-align: left;\">gene_ontologies</td></tr><tr><td class = \"rowNumber\" style = \"font-weight: bold; text-align: right;\">8</td><td style = \"text-align: left;\">hosts</td></tr><tr><td class = \"rowNumber\" style = \"font-weight: bold; text-align: right;\">9</td><td style = \"text-align: left;\">link_EC_UniProt</td></tr><tr><td class = \"rowNumber\" style = \"font-weight: bold; text-align: right;\">10</td><td style = \"text-align: left;\">link_UniParc_domains</td></tr><tr><td class = \"rowNumber\" style = \"font-weight: bold; text-align: right;\">11</td><td style = \"text-align: left;\">link_phage_host</td></tr><tr><td class = \"rowNumber\" style = \"font-weight: bold; text-align: right;\">12</td><td style = \"text-align: left;\">phages</td></tr><tr><td class = \"rowNumber\" style = \"font-weight: bold; text-align: right;\">13</td><td style = \"text-align: left;\">sequence_conflicts</td></tr><tr><td class = \"rowNumber\" style = \"font-weight: bold; text-align: right;\">14</td><td style = \"text-align: left;\">tertiary_structures</td></tr></tbody></table></div>"
      ],
      "text/latex": [
       "\\begin{tabular}{r|c}\n",
       "\t& Tables\\_in\\_PhaLP\\\\\n",
       "\t\\hline\n",
       "\t& String\\\\\n",
       "\t\\hline\n",
       "\t1 & CDSs \\\\\n",
       "\t2 & EC \\\\\n",
       "\t3 & UniParc \\\\\n",
       "\t4 & UniProt \\\\\n",
       "\t5 & domains \\\\\n",
       "\t6 & experimental\\_evidence \\\\\n",
       "\t7 & gene\\_ontologies \\\\\n",
       "\t8 & hosts \\\\\n",
       "\t9 & link\\_EC\\_UniProt \\\\\n",
       "\t10 & link\\_UniParc\\_domains \\\\\n",
       "\t11 & link\\_phage\\_host \\\\\n",
       "\t12 & phages \\\\\n",
       "\t13 & sequence\\_conflicts \\\\\n",
       "\t14 & tertiary\\_structures \\\\\n",
       "\\end{tabular}\n"
      ],
      "text/plain": [
       "\u001b[1m14×1 DataFrame\u001b[0m\n",
       "\u001b[1m Row \u001b[0m│\u001b[1m Tables_in_PhaLP       \u001b[0m\n",
       "     │\u001b[90m String                \u001b[0m\n",
       "─────┼───────────────────────\n",
       "   1 │ CDSs\n",
       "   2 │ EC\n",
       "   3 │ UniParc\n",
       "   4 │ UniProt\n",
       "   5 │ domains\n",
       "   6 │ experimental_evidence\n",
       "   7 │ gene_ontologies\n",
       "   8 │ hosts\n",
       "   9 │ link_EC_UniProt\n",
       "  10 │ link_UniParc_domains\n",
       "  11 │ link_phage_host\n",
       "  12 │ phages\n",
       "  13 │ sequence_conflicts\n",
       "  14 │ tertiary_structures"
      ]
     },
     "metadata": {},
     "output_type": "display_data"
    }
   ],
   "source": [
    "using DataFrames\n",
    "tables = DataFrame(DBInterface.execute(conn, \"SHOW TABLES;\"))"
   ]
  },
  {
   "attachments": {},
   "cell_type": "markdown",
   "metadata": {},
   "source": [
    "## Make dictionaries to map UniProt accessions to their Uniparc ID (UPI) and the other way around\n"
   ]
  },
  {
   "cell_type": "code",
   "execution_count": 14,
   "metadata": {},
   "outputs": [
    {
     "data": {
      "text/html": [
       "<div><div style = \"float: left;\"><span>17356×9 DataFrame</span></div><div style = \"float: right;\"><span style = \"font-style: italic;\">17331 rows omitted</span></div><div style = \"clear: both;\"></div></div><div class = \"data-frame\" style = \"overflow-x: scroll;\"><table class = \"data-frame\" style = \"margin-bottom: 6px;\"><thead><tr class = \"header\"><th class = \"rowNumber\" style = \"font-weight: bold; text-align: right;\">Row</th><th style = \"text-align: left;\">UniProt_ID</th><th style = \"text-align: left;\">name</th><th style = \"text-align: left;\">type</th><th style = \"text-align: left;\">type_evidence</th><th style = \"text-align: left;\">type_probability</th><th style = \"text-align: left;\">UniParc_ID</th><th style = \"text-align: left;\">phages_ID</th><th style = \"text-align: left;\">date_created</th><th style = \"text-align: left;\">date_last_updated</th></tr><tr class = \"subheader headerLastRow\"><th class = \"rowNumber\" style = \"font-weight: bold; text-align: right;\"></th><th title = \"String\" style = \"text-align: left;\">String</th><th title = \"String\" style = \"text-align: left;\">String</th><th title = \"Union{Missing, String}\" style = \"text-align: left;\">String?</th><th title = \"Union{Missing, String}\" style = \"text-align: left;\">String?</th><th title = \"Union{Missing, Int8}\" style = \"text-align: left;\">Int8?</th><th title = \"String\" style = \"text-align: left;\">String</th><th title = \"String\" style = \"text-align: left;\">String</th><th title = \"Union{Missing, Dates.Date}\" style = \"text-align: left;\">Date</th><th title = \"Union{Missing, Dates.Date}\" style = \"text-align: left;\">Date</th></tr></thead><tbody><tr><td class = \"rowNumber\" style = \"font-weight: bold; text-align: right;\">1</td><td style = \"text-align: left;\">A0A023J3R2</td><td style = \"text-align: left;\">Lysin</td><td style = \"text-align: left;\">endolysin</td><td style = \"text-align: left;\">ML prediction</td><td style = \"text-align: right;\">95</td><td style = \"text-align: left;\">UPI000009B5E8</td><td style = \"text-align: left;\">1414741</td><td style = \"text-align: left;\">2014-07-09</td><td style = \"text-align: left;\">2020-10-07</td></tr><tr><td class = \"rowNumber\" style = \"font-weight: bold; text-align: right;\">2</td><td style = \"text-align: left;\">A0A023MHA8</td><td style = \"text-align: left;\">Endolysin</td><td style = \"text-align: left;\">endolysin</td><td style = \"text-align: left;\">GO annotation</td><td style = \"text-align: right;\">99</td><td style = \"text-align: left;\">UPI000358374C</td><td style = \"text-align: left;\">1446490</td><td style = \"text-align: left;\">2014-07-09</td><td style = \"text-align: left;\">2021-09-29</td></tr><tr><td class = \"rowNumber\" style = \"font-weight: bold; text-align: right;\">3</td><td style = \"text-align: left;\">A0A023MHL5</td><td style = \"text-align: left;\">Lysozyme</td><td style = \"text-align: left;\">endolysin</td><td style = \"text-align: left;\">Protein name annotation</td><td style = \"text-align: right;\">98</td><td style = \"text-align: left;\">UPI00025EA4B0</td><td style = \"text-align: left;\">1446489</td><td style = \"text-align: left;\">2014-07-09</td><td style = \"text-align: left;\">2021-09-29</td></tr><tr><td class = \"rowNumber\" style = \"font-weight: bold; text-align: right;\">4</td><td style = \"text-align: left;\">A0A023NGE0</td><td style = \"text-align: left;\">Glyco_hydro_19_cat domain-containing protein</td><td style = \"text-align: left;\">endolysin</td><td style = \"text-align: left;\">ML prediction</td><td style = \"text-align: right;\">95</td><td style = \"text-align: left;\">UPI000444C4BC</td><td style = \"text-align: left;\">1472912</td><td style = \"text-align: left;\">2014-07-09</td><td style = \"text-align: left;\">2020-10-07</td></tr><tr><td class = \"rowNumber\" style = \"font-weight: bold; text-align: right;\">5</td><td style = \"text-align: left;\">A0A023NGU6</td><td style = \"text-align: left;\">Putative tail structure protein</td><td style = \"text-align: left;\">VAL</td><td style = \"text-align: left;\">ML prediction</td><td style = \"text-align: right;\">55</td><td style = \"text-align: left;\">UPI000444E028</td><td style = \"text-align: left;\">1472912</td><td style = \"text-align: left;\">2014-07-09</td><td style = \"text-align: left;\">2021-09-29</td></tr><tr><td class = \"rowNumber\" style = \"font-weight: bold; text-align: right;\">6</td><td style = \"text-align: left;\">A0A023VTC7</td><td style = \"text-align: left;\">Endolysin</td><td style = \"text-align: left;\">endolysin</td><td style = \"text-align: left;\">GO annotation</td><td style = \"text-align: right;\">98</td><td style = \"text-align: left;\">UPI000456C488</td><td style = \"text-align: left;\">1492784</td><td style = \"text-align: left;\">2014-07-09</td><td style = \"text-align: left;\">2021-09-29</td></tr><tr><td class = \"rowNumber\" style = \"font-weight: bold; text-align: right;\">7</td><td style = \"text-align: left;\">A0A023W6J3</td><td style = \"text-align: left;\">SLT domain-containing protein</td><td style = \"text-align: left;\">endolysin</td><td style = \"text-align: left;\">ML prediction</td><td style = \"text-align: right;\">61</td><td style = \"text-align: left;\">UPI000456AE9B</td><td style = \"text-align: left;\">1481112</td><td style = \"text-align: left;\">2014-07-09</td><td style = \"text-align: left;\">2020-08-12</td></tr><tr><td class = \"rowNumber\" style = \"font-weight: bold; text-align: right;\">8</td><td style = \"text-align: left;\">A0A023W6J8</td><td style = \"text-align: left;\">Lysozyme</td><td style = \"text-align: left;\">endolysin</td><td style = \"text-align: left;\">ML prediction</td><td style = \"text-align: right;\">88</td><td style = \"text-align: left;\">UPI000456A579</td><td style = \"text-align: left;\">1481112</td><td style = \"text-align: left;\">2014-07-09</td><td style = \"text-align: left;\">2021-09-29</td></tr><tr><td class = \"rowNumber\" style = \"font-weight: bold; text-align: right;\">9</td><td style = \"text-align: left;\">A0A023W6M9</td><td style = \"text-align: left;\">Lysozyme</td><td style = \"text-align: left;\">VAL</td><td style = \"text-align: left;\">InterPro domain annotation</td><td style = \"text-align: right;\">90</td><td style = \"text-align: left;\">UPI000456BD43</td><td style = \"text-align: left;\">1481112</td><td style = \"text-align: left;\">2014-07-09</td><td style = \"text-align: left;\">2021-09-29</td></tr><tr><td class = \"rowNumber\" style = \"font-weight: bold; text-align: right;\">10</td><td style = \"text-align: left;\">A0A023W6P1</td><td style = \"text-align: left;\">Lysin A</td><td style = \"text-align: left;\">endolysin</td><td style = \"text-align: left;\">Protein name annotation</td><td style = \"text-align: right;\">100</td><td style = \"text-align: left;\">UPI0003E3877A</td><td style = \"text-align: left;\">1486425</td><td style = \"text-align: left;\">2014-07-09</td><td style = \"text-align: left;\">2021-09-29</td></tr><tr><td class = \"rowNumber\" style = \"font-weight: bold; text-align: right;\">11</td><td style = \"text-align: left;\">A0A023W6V3</td><td style = \"text-align: left;\">Lysin A, protease C39 domain</td><td style = \"text-align: left;\">endolysin</td><td style = \"text-align: left;\">Protein name annotation</td><td style = \"text-align: right;\">95</td><td style = \"text-align: left;\">UPI00045687F8</td><td style = \"text-align: left;\">1486427</td><td style = \"text-align: left;\">2014-07-09</td><td style = \"text-align: left;\">2021-09-29</td></tr><tr><td class = \"rowNumber\" style = \"font-weight: bold; text-align: right;\">12</td><td style = \"text-align: left;\">A0A023W7B9</td><td style = \"text-align: left;\">Tape measure protein</td><td style = \"text-align: left;\">VAL</td><td style = \"text-align: left;\">Protein name annotation</td><td style = \"text-align: right;\">90</td><td style = \"text-align: left;\">UPI000456B366</td><td style = \"text-align: left;\">1486424</td><td style = \"text-align: left;\">2014-07-09</td><td style = \"text-align: left;\">2021-06-02</td></tr><tr><td class = \"rowNumber\" style = \"font-weight: bold; text-align: right;\">13</td><td style = \"text-align: left;\">A0A023W7C5</td><td style = \"text-align: left;\">Lysin A</td><td style = \"text-align: left;\">endolysin</td><td style = \"text-align: left;\">Protein name annotation</td><td style = \"text-align: right;\">100</td><td style = \"text-align: left;\">UPI000456ED39</td><td style = \"text-align: left;\">1486426</td><td style = \"text-align: left;\">2014-07-09</td><td style = \"text-align: left;\">2020-08-12</td></tr><tr><td style = \"text-align: right;\">&vellip;</td><td style = \"text-align: right;\">&vellip;</td><td style = \"text-align: right;\">&vellip;</td><td style = \"text-align: right;\">&vellip;</td><td style = \"text-align: right;\">&vellip;</td><td style = \"text-align: right;\">&vellip;</td><td style = \"text-align: right;\">&vellip;</td><td style = \"text-align: right;\">&vellip;</td><td style = \"text-align: right;\">&vellip;</td><td style = \"text-align: right;\">&vellip;</td></tr><tr><td class = \"rowNumber\" style = \"font-weight: bold; text-align: right;\">17345</td><td style = \"text-align: left;\">X4YDL4</td><td style = \"text-align: left;\">Base plate hub subunit and tail lysozyme protein</td><td style = \"text-align: left;\">VAL</td><td style = \"text-align: left;\">InterPro domain annotation</td><td style = \"text-align: right;\">97</td><td style = \"text-align: left;\">UPI00043AE3FF</td><td style = \"text-align: left;\">1446492</td><td style = \"text-align: left;\">2014-06-11</td><td style = \"text-align: left;\">2021-06-02</td></tr><tr><td class = \"rowNumber\" style = \"font-weight: bold; text-align: right;\">17346</td><td style = \"text-align: left;\">X4YES5</td><td style = \"text-align: left;\">Cell wall-associated hydrolase</td><td style = \"text-align: left;\">endolysin</td><td style = \"text-align: left;\">ML prediction</td><td style = \"text-align: right;\">97</td><td style = \"text-align: left;\">UPI00043AD062</td><td style = \"text-align: left;\">1476889</td><td style = \"text-align: left;\">2014-06-11</td><td style = \"text-align: left;\">2021-09-29</td></tr><tr><td class = \"rowNumber\" style = \"font-weight: bold; text-align: right;\">17347</td><td style = \"text-align: left;\">X4YGT6</td><td style = \"text-align: left;\">Cell wall-associated hydrolase</td><td style = \"text-align: left;\">endolysin</td><td style = \"text-align: left;\">ML prediction</td><td style = \"text-align: right;\">97</td><td style = \"text-align: left;\">UPI00043B026E</td><td style = \"text-align: left;\">1476887</td><td style = \"text-align: left;\">2014-06-11</td><td style = \"text-align: left;\">2021-04-07</td></tr><tr><td class = \"rowNumber\" style = \"font-weight: bold; text-align: right;\">17348</td><td style = \"text-align: left;\">X4YH20</td><td style = \"text-align: left;\">Lysin</td><td style = \"text-align: left;\">endolysin</td><td style = \"text-align: left;\">ML prediction</td><td style = \"text-align: right;\">94</td><td style = \"text-align: left;\">UPI00043B0FEE</td><td style = \"text-align: left;\">1476888</td><td style = \"text-align: left;\">2014-06-11</td><td style = \"text-align: left;\">2021-09-29</td></tr><tr><td class = \"rowNumber\" style = \"font-weight: bold; text-align: right;\">17349</td><td style = \"text-align: left;\">X4YTU0</td><td style = \"text-align: left;\">Putative peptidoglycan binding protein</td><td style = \"text-align: left;\">endolysin</td><td style = \"text-align: left;\">Protein name annotation</td><td style = \"text-align: right;\">96</td><td style = \"text-align: left;\">UPI00022901FF</td><td style = \"text-align: left;\">1446492</td><td style = \"text-align: left;\">2014-06-11</td><td style = \"text-align: left;\">2020-10-07</td></tr><tr><td class = \"rowNumber\" style = \"font-weight: bold; text-align: right;\">17350</td><td style = \"text-align: left;\">X4YU71</td><td style = \"text-align: left;\">SLT domain-containing protein</td><td style = \"text-align: left;\">endolysin</td><td style = \"text-align: left;\">ML prediction</td><td style = \"text-align: right;\">92</td><td style = \"text-align: left;\">UPI00028B7B43</td><td style = \"text-align: left;\">1446492</td><td style = \"text-align: left;\">2014-06-11</td><td style = \"text-align: left;\">2020-08-12</td></tr><tr><td class = \"rowNumber\" style = \"font-weight: bold; text-align: right;\">17351</td><td style = \"text-align: left;\">X4YVN8</td><td style = \"text-align: left;\">Lysin A</td><td style = \"text-align: left;\">endolysin</td><td style = \"text-align: left;\">Protein name annotation</td><td style = \"text-align: right;\">100</td><td style = \"text-align: left;\">UPI0001814A13</td><td style = \"text-align: left;\">1458715</td><td style = \"text-align: left;\">2014-06-11</td><td style = \"text-align: left;\">2021-09-29</td></tr><tr><td class = \"rowNumber\" style = \"font-weight: bold; text-align: right;\">17352</td><td style = \"text-align: left;\">X4YWB9</td><td style = \"text-align: left;\">Lysin</td><td style = \"text-align: left;\">endolysin</td><td style = \"text-align: left;\">ML prediction</td><td style = \"text-align: right;\">96</td><td style = \"text-align: left;\">UPI00043AEBD7</td><td style = \"text-align: left;\">1476886</td><td style = \"text-align: left;\">2014-06-11</td><td style = \"text-align: left;\">2021-06-02</td></tr><tr><td class = \"rowNumber\" style = \"font-weight: bold; text-align: right;\">17353</td><td style = \"text-align: left;\">X5IEK4</td><td style = \"text-align: left;\">Putative endolysin</td><td style = \"text-align: left;\">endolysin</td><td style = \"text-align: left;\">ML prediction</td><td style = \"text-align: right;\">95</td><td style = \"text-align: left;\">UPI00043B1A6F</td><td style = \"text-align: left;\">1462608</td><td style = \"text-align: left;\">2014-06-11</td><td style = \"text-align: left;\">2020-08-12</td></tr><tr><td class = \"rowNumber\" style = \"font-weight: bold; text-align: right;\">17354</td><td style = \"text-align: left;\">X5JAJ3</td><td style = \"text-align: left;\">Putative cell wall hydrolase protein</td><td style = \"text-align: left;\">VAL</td><td style = \"text-align: left;\">InterPro domain annotation</td><td style = \"text-align: right;\">78</td><td style = \"text-align: left;\">UPI0004377EE2</td><td style = \"text-align: left;\">1411095</td><td style = \"text-align: left;\">2014-06-11</td><td style = \"text-align: left;\">2021-09-29</td></tr><tr><td class = \"rowNumber\" style = \"font-weight: bold; text-align: right;\">17355</td><td style = \"text-align: left;\">X5JAJ5</td><td style = \"text-align: left;\">Putative endolysin protein</td><td style = \"text-align: left;\">endolysin</td><td style = \"text-align: left;\">ML prediction</td><td style = \"text-align: right;\">90</td><td style = \"text-align: left;\">UPI000437800A</td><td style = \"text-align: left;\">1411095</td><td style = \"text-align: left;\">2014-06-11</td><td style = \"text-align: left;\">2020-12-02</td></tr><tr><td class = \"rowNumber\" style = \"font-weight: bold; text-align: right;\">17356</td><td style = \"text-align: left;\">X5JZD7</td><td style = \"text-align: left;\">Lysozyme</td><td style = \"text-align: left;\">endolysin</td><td style = \"text-align: left;\">ML prediction</td><td style = \"text-align: right;\">99</td><td style = \"text-align: left;\">UPI000437885A</td><td style = \"text-align: left;\">1465613</td><td style = \"text-align: left;\">2014-06-11</td><td style = \"text-align: left;\">2021-09-29</td></tr></tbody></table></div>"
      ],
      "text/latex": [
       "\\begin{tabular}{r|ccccc}\n",
       "\t& UniProt\\_ID & name & type & type\\_evidence & \\\\\n",
       "\t\\hline\n",
       "\t& String & String & String? & String? & \\\\\n",
       "\t\\hline\n",
       "\t1 & A0A023J3R2 & Lysin & endolysin & ML prediction & $\\dots$ \\\\\n",
       "\t2 & A0A023MHA8 & Endolysin & endolysin & GO annotation & $\\dots$ \\\\\n",
       "\t3 & A0A023MHL5 & Lysozyme & endolysin & Protein name annotation & $\\dots$ \\\\\n",
       "\t4 & A0A023NGE0 & Glyco\\_hydro\\_19\\_cat domain-containing protein & endolysin & ML prediction & $\\dots$ \\\\\n",
       "\t5 & A0A023NGU6 & Putative tail structure protein & VAL & ML prediction & $\\dots$ \\\\\n",
       "\t6 & A0A023VTC7 & Endolysin & endolysin & GO annotation & $\\dots$ \\\\\n",
       "\t7 & A0A023W6J3 & SLT domain-containing protein & endolysin & ML prediction & $\\dots$ \\\\\n",
       "\t8 & A0A023W6J8 & Lysozyme & endolysin & ML prediction & $\\dots$ \\\\\n",
       "\t9 & A0A023W6M9 & Lysozyme & VAL & InterPro domain annotation & $\\dots$ \\\\\n",
       "\t10 & A0A023W6P1 & Lysin A & endolysin & Protein name annotation & $\\dots$ \\\\\n",
       "\t11 & A0A023W6V3 & Lysin A, protease C39 domain & endolysin & Protein name annotation & $\\dots$ \\\\\n",
       "\t12 & A0A023W7B9 & Tape measure protein & VAL & Protein name annotation & $\\dots$ \\\\\n",
       "\t13 & A0A023W7C5 & Lysin A & endolysin & Protein name annotation & $\\dots$ \\\\\n",
       "\t14 & A0A023ZSL0 & Putative muramidase & endolysin & ML prediction & $\\dots$ \\\\\n",
       "\t15 & A0A023ZSL4 & Putative muramidase & endolysin & ML prediction & $\\dots$ \\\\\n",
       "\t16 & A0A023ZSM0 & Putative muramidase & endolysin & ML prediction & $\\dots$ \\\\\n",
       "\t17 & A0A023ZSM6 & Putative muramidase & endolysin & ML prediction & $\\dots$ \\\\\n",
       "\t18 & A0A023ZSN1 & Putative muramidase & endolysin & ML prediction & $\\dots$ \\\\\n",
       "\t19 & A0A023ZSN7 & Putative muramidase & endolysin & ML prediction & $\\dots$ \\\\\n",
       "\t20 & A0A023ZSP3 & Putative muramidase & endolysin & ML prediction & $\\dots$ \\\\\n",
       "\t21 & A0A023ZSP9 & Putative muramidase & endolysin & ML prediction & $\\dots$ \\\\\n",
       "\t22 & A0A023ZSQ3 & Putative muramidase & endolysin & ML prediction & $\\dots$ \\\\\n",
       "\t23 & A0A023ZSQ9 & Putative muramidase & endolysin & ML prediction & $\\dots$ \\\\\n",
       "\t24 & A0A023ZSY8 & Putative muramidase & endolysin & ML prediction & $\\dots$ \\\\\n",
       "\t$\\dots$ & $\\dots$ & $\\dots$ & $\\dots$ & $\\dots$ &  \\\\\n",
       "\\end{tabular}\n"
      ],
      "text/plain": [
       "\u001b[1m17356×9 DataFrame\u001b[0m\n",
       "\u001b[1m   Row \u001b[0m│\u001b[1m UniProt_ID \u001b[0m\u001b[1m name                              \u001b[0m\u001b[1m type      \u001b[0m\u001b[1m type_eviden\u001b[0m ⋯\n",
       "       │\u001b[90m String     \u001b[0m\u001b[90m String                            \u001b[0m\u001b[90m String?   \u001b[0m\u001b[90m String?    \u001b[0m ⋯\n",
       "───────┼────────────────────────────────────────────────────────────────────────\n",
       "     1 │ A0A023J3R2  Lysin                              endolysin  ML predicti ⋯\n",
       "     2 │ A0A023MHA8  Endolysin                          endolysin  GO annotati\n",
       "     3 │ A0A023MHL5  Lysozyme                           endolysin  Protein nam\n",
       "     4 │ A0A023NGE0  Glyco_hydro_19_cat domain-contai…  endolysin  ML predicti\n",
       "     5 │ A0A023NGU6  Putative tail structure protein    VAL        ML predicti ⋯\n",
       "     6 │ A0A023VTC7  Endolysin                          endolysin  GO annotati\n",
       "     7 │ A0A023W6J3  SLT domain-containing protein      endolysin  ML predicti\n",
       "     8 │ A0A023W6J8  Lysozyme                           endolysin  ML predicti\n",
       "   ⋮   │     ⋮                       ⋮                      ⋮                  ⋱\n",
       " 17350 │ X4YU71      SLT domain-containing protein      endolysin  ML predicti ⋯\n",
       " 17351 │ X4YVN8      Lysin A                            endolysin  Protein nam\n",
       " 17352 │ X4YWB9      Lysin                              endolysin  ML predicti\n",
       " 17353 │ X5IEK4      Putative endolysin                 endolysin  ML predicti\n",
       " 17354 │ X5JAJ3      Putative cell wall hydrolase pro…  VAL        InterPro do ⋯\n",
       " 17355 │ X5JAJ5      Putative endolysin protein         endolysin  ML predicti\n",
       " 17356 │ X5JZD7      Lysozyme                           endolysin  ML predicti\n",
       "\u001b[36m                                                6 columns and 17341 rows omitted\u001b[0m"
      ]
     },
     "metadata": {},
     "output_type": "display_data"
    }
   ],
   "source": [
    "using DataFrames\n",
    "acc2upi = Dict()\n",
    "upi2acc = Dict()\n",
    "\n",
    "data = DataFrame(DBInterface.execute(conn, \"SELECT * FROM PhaLP.UniProt;\"))"
   ]
  },
  {
   "cell_type": "code",
   "execution_count": 16,
   "metadata": {},
   "outputs": [
    {
     "data": {
      "text/plain": [
       "Dict{String, Union{Missing, String}} with 11549 entries:\n",
       "  \"UPI000178DD30\" => \"endolysin\"\n",
       "  \"UPI0013EFDC93\" => \"endolysin\"\n",
       "  \"UPI000172D062\" => \"VAL\"\n",
       "  \"UPI001463ABBB\" => \"endolysin\"\n",
       "  \"UPI000232F56D\" => \"endolysin\"\n",
       "  \"UPI0011625D30\" => \"VAL\"\n",
       "  \"UPI0009882324\" => \"endolysin\"\n",
       "  \"UPI000CA1D611\" => \"VAL\"\n",
       "  \"UPI0006BC2F8A\" => \"endolysin\"\n",
       "  \"UPI000BBF7878\" => \"endolysin\"\n",
       "  \"UPI00138B2696\" => \"endolysin\"\n",
       "  \"UPI00025D6AED\" => \"endolysin\"\n",
       "  \"UPI0010C2D3EE\" => \"endolysin\"\n",
       "  \"UPI000D22144F\" => \"VAL\"\n",
       "  \"UPI0018623B24\" => \"endolysin\"\n",
       "  \"UPI00080F0655\" => \"endolysin\"\n",
       "  \"UPI00022BD3A3\" => \"endolysin\"\n",
       "  \"UPI0008093543\" => \"endolysin\"\n",
       "  \"UPI001463E938\" => \"VAL\"\n",
       "  ⋮               => ⋮"
      ]
     },
     "metadata": {},
     "output_type": "display_data"
    }
   ],
   "source": [
    "s = size(data,1)\n",
    "for row in 1:s\n",
    "    acc2upi[data[row, 1]]=data[row, 6]\n",
    "    if data[row, 6] ∉ collect(keys(upi2acc))\n",
    "        upi2acc[data[row, 6]]=[]\n",
    "    end\n",
    "    push!(upi2acc[data[row, 6]], data[row, 1])\n",
    "end\n",
    "UP2type = Dict(zip(data[:, 6], data[:, 3]))"
   ]
  },
  {
   "cell_type": "code",
   "execution_count": 17,
   "metadata": {},
   "outputs": [
    {
     "data": {
      "text/plain": [
       "Dict{Any, Any} with 482 entries:\n",
       "  \"SM00490\"             => \"helicase superfamily c-terminal domain\"\n",
       "  \"cd08010\"             => \"proteins similar to Escherichia coli YceG/mltG may …\n",
       "  \"PF13354\"             => \"Beta-lactamase enzyme family\"\n",
       "  \"PS51724\"             => \"SPOR domain profile\"\n",
       "  \"PTHR43343\"           => \"PEPTIDASE S12\"\n",
       "  \"PF08460\"             => \"Bacterial SH3 domain\"\n",
       "  \"PS51781\"             => \"SH3b domain profile\"\n",
       "  \"PS51186\"             => \"Gcn5-related N-acetyltransferase (GNAT) domain prof…\n",
       "  \"PTHR47053:SF2\"       => \"ENDOPEPTIDASE YDDH-RELATED\"\n",
       "  \"G3DSA:4.10.80.30\"    => \"DNA polymerase; domain 6\"\n",
       "  \"SSF50685\"            => \"Barwin-like endoglucanases\"\n",
       "  \"PTHR48125:SF4\"       => \"LP07818P1\"\n",
       "  \"G3DSA:3.10.450.190\"  => missing\n",
       "  \"PF01520\"             => \"N-acetylmuramoyl-L-alanine amidase\"\n",
       "  \"SSF53955\"            => \"Lysozyme-like\"\n",
       "  \"PF02557\"             => \"D-alanyl-D-alanine carboxypeptidase\"\n",
       "  \"PF03330\"             => \"Lytic transglycolase\"\n",
       "  \"G3DSA:6.10.250.3380\" => missing\n",
       "  \"G3DSA:6.10.250.960\"  => missing\n",
       "  ⋮                     => ⋮"
      ]
     },
     "metadata": {},
     "output_type": "display_data"
    }
   ],
   "source": [
    "domacc2domname = Dict()\n",
    "using CSV\n",
    "\n",
    "CSV.write(\"t.csv\", DBInterface.execute(conn,\"SELECT * FROM `PhaLP`.`link_UniParc_domains` as l join `PhaLP`.`domains` as d where d.`domains_ID` = l.`domains_ID`;\"))\n",
    "data = CSV.read(\"t.csv\", DataFrame)\n",
    "upi2doms = Dict()\n",
    "\n",
    "s = size(data,1)\n",
    "for row in 1:s\n",
    "    if data[row,1] ∉ collect(keys(domacc2domname))\n",
    "        domacc2domname[String(data[row,1])]= data[row,8]\n",
    "    end\n",
    "    if data[row,2] ∉ collect(keys(upi2doms))\n",
    "        upi2doms[String(data[row,2])] = []\n",
    "    end\n",
    "    push!(upi2doms[String(data[row,2])], data[row,1])\n",
    "end\n",
    "domacc2domname"
   ]
  },
  {
   "cell_type": "code",
   "execution_count": 18,
   "metadata": {},
   "outputs": [
    {
     "data": {
      "text/plain": [
       "Dict{Any, Any} with 11540 entries:\n",
       "  \"UPI000178DD30\" => Any[String31(\"cd06583\"), String31(\"G3DSA:3.40.80.10\"), Str…\n",
       "  \"UPI0013EFDC93\" => Any[String31(\"cd06583\"), String31(\"G3DSA:2.70.70.10\"), Str…\n",
       "  \"UPI000172D062\" => Any[String31(\"G3DSA:2.70.70.10\"), String31(\"G3DSA:6.20.110…\n",
       "  \"UPI0011625D30\" => Any[String31(\"cd13402\"), String31(\"G3DSA:1.20.120.20\"), St…\n",
       "  \"UPI0009882324\" => Any[String31(\"cd06583\"), String31(\"G3DSA:2.10.270.10\"), St…\n",
       "  \"UPI0006BC2F8A\" => Any[String31(\"cd06583\"), String31(\"G3DSA:3.40.80.10\"), Str…\n",
       "  \"UPI00025D6AED\" => Any[String31(\"cd00737\"), String31(\"G3DSA:1.10.530.40\"), St…\n",
       "  \"UPI000D22144F\" => Any[String31(\"cd13402\"), String31(\"G3DSA:1.10.287.1490\"), …\n",
       "  \"UPI0008093543\" => Any[String31(\"G3DSA:3.90.1720.10\"), String31(\"PF05382\"), S…\n",
       "  \"UPI0014638858\" => Any[String31(\"G3DSA:3.30.1380.10\"), String31(\"PF13539\"), S…\n",
       "  \"UPI0004593892\" => Any[String31(\"G3DSA:1.10.530.10\"), String31(\"PF01832\"), St…\n",
       "  \"UPI000178C353\" => Any[String31(\"cd00736\"), String31(\"G3DSA:1.10.530.10\"), St…\n",
       "  \"UPI001861D802\" => Any[String31(\"cd06583\"), String31(\"G3DSA:3.40.80.10\"), Str…\n",
       "  \"UPI000F6BA7D8\" => Any[String31(\"cd06583\"), String31(\"G3DSA:3.40.80.10\"), Str…\n",
       "  \"UPI0013204365\" => Any[String31(\"cd13925\"), String31(\"G3DSA:1.10.530.10\"), St…\n",
       "  \"UPI000CA37F0C\" => Any[String31(\"G3DSA:3.90.70.10\"), String31(\"PF13529\")]\n",
       "  \"UPI001462B1DA\" => Any[String31(\"SSF53955\")]\n",
       "  \"UPI0010B2E61D\" => Any[String31(\"G3DSA:1.10.530.10\"), String31(\"SSF53955\")]\n",
       "  \"UPI0015F22725\" => Any[String31(\"cd06583\"), String31(\"G3DSA:3.40.80.10\"), Str…\n",
       "  ⋮               => ⋮"
      ]
     },
     "metadata": {},
     "output_type": "display_data"
    }
   ],
   "source": [
    "upi2doms"
   ]
  },
  {
   "cell_type": "code",
   "execution_count": 6,
   "metadata": {},
   "outputs": [],
   "source": [
    "using JLD\n",
    "@save \"../data/phalp_domacc2domname.jld\" domacc2domname\n",
    "@save \"../data/phalp_upi2doms.jld\" upi2doms "
   ]
  },
  {
   "cell_type": "code",
   "execution_count": 8,
   "metadata": {},
   "outputs": [
    {
     "data": {
      "text/plain": [
       "Dict{String, Vector{UInt8}} with 11549 entries:\n",
       "  \"UPI000178DD30\" => [0x4d, 0x41, 0x4b, 0x56, 0x51, 0x46, 0x54, 0x4b, 0x52, 0x5…\n",
       "  \"UPI0013EFDC93\" => [0x4d, 0x47, 0x59, 0x4d, 0x59, 0x50, 0x56, 0x50, 0x4b, 0x4…\n",
       "  \"UPI000172D062\" => [0x4d, 0x56, 0x49, 0x4d, 0x53, 0x45, 0x46, 0x56, 0x57, 0x4…\n",
       "  \"UPI001463ABBB\" => [0x4d, 0x4e, 0x4c, 0x53, 0x41, 0x4e, 0x46, 0x53, 0x4c, 0x4…\n",
       "  \"UPI000232F56D\" => [0x4d, 0x41, 0x4c, 0x47, 0x41, 0x50, 0x4d, 0x45, 0x4e, 0x4…\n",
       "  \"UPI0011625D30\" => [0x4d, 0x45, 0x47, 0x47, 0x44, 0x4b, 0x4c, 0x51, 0x47, 0x4…\n",
       "  \"UPI0009882324\" => [0x4d, 0x44, 0x49, 0x44, 0x52, 0x4e, 0x52, 0x4c, 0x52, 0x5…\n",
       "  \"UPI000CA1D611\" => [0x4d, 0x4b, 0x51, 0x41, 0x41, 0x59, 0x47, 0x53, 0x4c, 0x5…\n",
       "  \"UPI0006BC2F8A\" => [0x4d, 0x53, 0x46, 0x4b, 0x4d, 0x4b, 0x59, 0x50, 0x49, 0x4…\n",
       "  \"UPI000BBF7878\" => [0x4d, 0x54, 0x45, 0x52, 0x56, 0x4c, 0x52, 0x59, 0x44, 0x4…\n",
       "  \"UPI00138B2696\" => [0x4d, 0x51, 0x4c, 0x53, 0x52, 0x4b, 0x47, 0x4c, 0x44, 0x4…\n",
       "  \"UPI00025D6AED\" => [0x4d, 0x53, 0x4e, 0x52, 0x4e, 0x49, 0x53, 0x4e, 0x4e, 0x4…\n",
       "  \"UPI00022BD3A3\" => [0x4d, 0x54, 0x4c, 0x50, 0x56, 0x41, 0x4c, 0x54, 0x56, 0x5…\n",
       "  \"UPI000D22144F\" => [0x4d, 0x41, 0x4b, 0x49, 0x51, 0x41, 0x54, 0x4d, 0x53, 0x5…\n",
       "  \"UPI0010C2D3EE\" => [0x4d, 0x45, 0x56, 0x41, 0x47, 0x53, 0x50, 0x59, 0x47, 0x4…\n",
       "  \"UPI00080F0655\" => [0x4d, 0x47, 0x48, 0x49, 0x56, 0x44, 0x49, 0x53, 0x4b, 0x5…\n",
       "  \"UPI0018623B24\" => [0x4d, 0x47, 0x4b, 0x48, 0x4c, 0x56, 0x49, 0x43, 0x47, 0x4…\n",
       "  \"UPI0008093543\" => [0x4d, 0x50, 0x53, 0x49, 0x45, 0x4e, 0x4d, 0x49, 0x41, 0x5…\n",
       "  \"UPI0014638858\" => [0x4d, 0x4b, 0x50, 0x41, 0x53, 0x41, 0x59, 0x47, 0x44, 0x4…\n",
       "  ⋮               => ⋮"
      ]
     },
     "metadata": {},
     "output_type": "display_data"
    }
   ],
   "source": [
    "data = DataFrame(DBInterface.execute(conn,\"SELECT * FROM PhaLP.UniParc;\"))\n",
    "seq = Dict(zip(data[:, 1],data[:,2]))"
   ]
  },
  {
   "attachments": {},
   "cell_type": "markdown",
   "metadata": {},
   "source": [
    "## Embed sequences"
   ]
  },
  {
   "attachments": {},
   "cell_type": "markdown",
   "metadata": {},
   "source": [
    "### Bag of trimers embeddings with ESM AA"
   ]
  },
  {
   "cell_type": "code",
   "execution_count": 9,
   "metadata": {},
   "outputs": [
    {
     "data": {
      "text/plain": [
       "Dict{Char, BitVector} with 21 entries:\n",
       "  'P' => [1, 0, 0, 0, 1, 0, 0, 1, 1, 1  …  1, 1, 0, 1, 1, 0, 0, 1, 0, 0]\n",
       "  'K' => [1, 1, 0, 1, 1, 0, 1, 0, 0, 0  …  1, 0, 1, 1, 1, 0, 1, 1, 1, 1]\n",
       "  'M' => [1, 1, 1, 0, 1, 0, 0, 0, 0, 0  …  0, 0, 1, 1, 1, 0, 1, 0, 0, 1]\n",
       "  'F' => [1, 1, 0, 1, 1, 0, 0, 0, 0, 1  …  0, 1, 1, 1, 1, 1, 1, 0, 0, 1]\n",
       "  'I' => [1, 1, 0, 1, 1, 0, 1, 0, 0, 0  …  1, 1, 1, 1, 0, 1, 1, 0, 0, 1]\n",
       "  'H' => [1, 0, 1, 1, 0, 0, 0, 0, 0, 1  …  0, 1, 0, 0, 0, 1, 1, 1, 0, 1]\n",
       "  'E' => [0, 1, 1, 1, 0, 1, 1, 0, 0, 1  …  1, 0, 0, 0, 0, 0, 1, 1, 1, 0]\n",
       "  'W' => [1, 0, 0, 0, 1, 0, 0, 0, 1, 0  …  0, 1, 0, 0, 1, 1, 1, 1, 0, 1]\n",
       "  'S' => [1, 1, 1, 1, 1, 1, 0, 0, 0, 0  …  0, 0, 1, 0, 0, 1, 0, 0, 0, 0]\n",
       "  'T' => [1, 0, 0, 0, 1, 0, 0, 0, 1, 1  …  1, 1, 0, 0, 0, 1, 0, 1, 0, 0]\n",
       "  'C' => [0, 1, 1, 0, 0, 0, 0, 1, 1, 1  …  0, 0, 1, 0, 0, 0, 1, 0, 0, 0]\n",
       "  'X' => [1, 1, 0, 0, 1, 0, 0, 0, 1, 0  …  0, 1, 0, 1, 1, 0, 1, 0, 0, 0]\n",
       "  'D' => [1, 1, 0, 1, 1, 1, 1, 0, 1, 0  …  0, 1, 1, 0, 1, 0, 1, 0, 1, 0]\n",
       "  'A' => [0, 1, 1, 0, 1, 1, 1, 1, 1, 1  …  0, 1, 0, 0, 0, 1, 1, 0, 0, 1]\n",
       "  'L' => [1, 0, 1, 0, 1, 1, 0, 0, 1, 1  …  1, 0, 0, 1, 0, 1, 1, 1, 1, 1]\n",
       "  'Y' => [1, 1, 0, 0, 0, 0, 0, 0, 0, 0  …  0, 0, 1, 1, 0, 1, 1, 0, 0, 0]\n",
       "  'V' => [0, 1, 1, 0, 1, 0, 1, 0, 1, 0  …  0, 1, 0, 0, 0, 1, 0, 0, 1, 0]\n",
       "  'R' => [1, 0, 0, 0, 1, 1, 1, 0, 1, 1  …  1, 1, 0, 1, 1, 0, 1, 0, 0, 1]\n",
       "  'G' => [1, 0, 0, 0, 0, 1, 1, 0, 1, 0  …  1, 1, 1, 0, 0, 1, 0, 0, 0, 1]\n",
       "  ⋮   => ⋮"
      ]
     },
     "metadata": {},
     "output_type": "display_data"
    }
   ],
   "source": [
    "include(\"../src/HDC.jl\")\n",
    "include(\"../src/math.jl\")\n",
    "include(\"../src/experimental.jl\")\n",
    "aa_embeddings = DataFrame(CSV.File(\"../data/amino_acid_embeddings.csv\"))\n",
    "amino_acids_esm = [only(i) for i in aa_embeddings.protein_ID]\n",
    "aa_emb = Matrix(aa_embeddings[:, 2:end])\n",
    "# Create HDVs\n",
    "HDV_mat_bit = nested_arrays2mat([bithdv() for i in 1:size(aa_emb)[2]], true)\n",
    "\n",
    "# Extend embeddings into hyperdimensional space\n",
    "AA_bit_esm = permutedims(mat_scaler(aa_emb * HDV_mat_bit, 0, 1, 2) .|> round)\n",
    "\n",
    "AA_dict = Dict(zip(amino_acids_esm, [convert(BitVector,AA_bit_esm[:, i]) for i in 1:21]))"
   ]
  },
  {
   "cell_type": "code",
   "execution_count": 10,
   "metadata": {},
   "outputs": [
    {
     "data": {
      "text/plain": [
       "Dict{String, BitVector} with 9261 entries:\n",
       "  \"HTY\" => [1, 1, 0, 0, 0, 1, 0, 0, 0, 0  …  1, 0, 1, 0, 1, 0, 0, 0, 0, 1]\n",
       "  \"DRR\" => [0, 1, 1, 1, 1, 0, 1, 0, 0, 1  …  0, 1, 1, 1, 0, 0, 0, 1, 0, 0]\n",
       "  \"QAM\" => [0, 0, 1, 0, 0, 0, 0, 1, 0, 0  …  1, 0, 0, 0, 0, 1, 1, 1, 1, 0]\n",
       "  \"WNG\" => [0, 0, 0, 0, 0, 1, 0, 0, 0, 1  …  1, 1, 1, 0, 0, 0, 0, 0, 1, 1]\n",
       "  \"PPV\" => [0, 1, 0, 1, 0, 1, 1, 1, 1, 0  …  1, 0, 1, 0, 0, 1, 0, 0, 1, 0]\n",
       "  \"WMA\" => [0, 0, 1, 0, 0, 1, 1, 1, 0, 1  …  0, 1, 0, 0, 0, 0, 1, 1, 1, 1]\n",
       "  \"TKL\" => [1, 0, 0, 0, 1, 1, 1, 0, 1, 1  …  1, 0, 1, 1, 1, 1, 0, 1, 0, 0]\n",
       "  \"MSW\" => [1, 1, 1, 1, 0, 1, 0, 0, 0, 0  …  1, 1, 1, 1, 1, 0, 1, 1, 1, 0]\n",
       "  \"XTY\" => [1, 0, 1, 1, 1, 1, 0, 0, 1, 1  …  1, 0, 1, 1, 0, 1, 0, 1, 0, 0]\n",
       "  \"ETI\" => [0, 1, 0, 0, 0, 1, 0, 0, 1, 0  …  0, 1, 0, 1, 1, 1, 0, 0, 1, 0]\n",
       "  \"KLF\" => [0, 1, 1, 1, 1, 0, 1, 0, 0, 1  …  1, 1, 1, 0, 1, 1, 1, 1, 1, 0]\n",
       "  \"AGI\" => [1, 1, 0, 1, 1, 0, 1, 0, 0, 0  …  1, 0, 0, 0, 1, 0, 0, 1, 1, 1]\n",
       "  \"NMD\" => [1, 0, 0, 1, 1, 0, 0, 1, 0, 0  …  1, 1, 1, 0, 1, 0, 1, 0, 1, 1]\n",
       "  \"YMQ\" => [0, 0, 0, 0, 1, 1, 1, 1, 0, 0  …  0, 1, 0, 1, 0, 0, 0, 1, 1, 0]\n",
       "  \"XAX\" => [0, 1, 0, 0, 1, 1, 0, 1, 0, 1  …  1, 0, 1, 0, 1, 1, 1, 1, 1, 0]\n",
       "  \"ETP\" => [0, 0, 0, 1, 0, 0, 0, 0, 0, 1  …  1, 0, 0, 1, 0, 1, 1, 1, 0, 1]\n",
       "  \"FMK\" => [1, 1, 0, 1, 1, 0, 1, 0, 1, 1  …  0, 0, 0, 0, 1, 1, 0, 1, 1, 0]\n",
       "  \"IMW\" => [0, 1, 0, 0, 1, 1, 0, 0, 0, 0  …  0, 0, 1, 1, 1, 0, 0, 0, 1, 0]\n",
       "  \"PRD\" => [1, 1, 1, 1, 1, 0, 0, 1, 0, 0  …  1, 1, 1, 0, 1, 1, 1, 0, 1, 0]\n",
       "  ⋮     => ⋮"
      ]
     },
     "metadata": {},
     "output_type": "display_data"
    }
   ],
   "source": [
    "trimer_hdvs = Dict(aa1 * aa2 * aa3 => \n",
    "bitbind(AA_dict[aa1], circshift(AA_dict[aa2], 1), circshift(AA_dict[aa3], 2)) \n",
    "for aa1 in amino_acids_esm for aa2 in amino_acids_esm  for aa3 in amino_acids_esm)"
   ]
  },
  {
   "cell_type": "code",
   "execution_count": 5,
   "metadata": {},
   "outputs": [
    {
     "data": {
      "text/plain": [
       "bow_embedder (generic function with 1 method)"
      ]
     },
     "metadata": {},
     "output_type": "display_data"
    }
   ],
   "source": [
    "function bow_embedder(sequence)\n",
    "    l = [trimer_hdvs[sequence[i:i+2]] for i in 1:length(sequence)-2]\n",
    "    v = bitadd(hcat(l)...)\n",
    "    return v\n",
    "end"
   ]
  },
  {
   "cell_type": "code",
   "execution_count": 12,
   "metadata": {},
   "outputs": [],
   "source": [
    "data = DataFrame(DBInterface.execute(conn,\"SELECT * FROM PhaLP.UniParc;\"))\n",
    "seq = Dict(zip(data[:, 1],data[:,2]))\n",
    "\n",
    "embedded_bow_esm = Dict()\n",
    "k = collect(keys(seq))\n",
    "Threads.@threads for i in k\n",
    "    sequence = String(seq[i])\n",
    "    new_seq = bow_embedder(sequence)\n",
    "    embedded_bow_esm[i] = new_seq\n",
    "end\n",
    "\n",
    "using JLD\n",
    "@save \"../data/phalp_bow_esm.jld\" embedded_bow_esm"
   ]
  },
  {
   "attachments": {},
   "cell_type": "markdown",
   "metadata": {},
   "source": [
    "### Convolutional ESM embeddings"
   ]
  },
  {
   "cell_type": "code",
   "execution_count": 13,
   "metadata": {},
   "outputs": [],
   "source": [
    "include(\"../src/HDC.jl\")\n",
    "include(\"../src/math.jl\")\n",
    "include(\"../src/experimental.jl\")\n",
    "\n",
    "data = DataFrame(DBInterface.execute(conn,\"SELECT * FROM PhaLP.UniParc;\"))\n",
    "seq = Dict(zip(data[:, 1],data[:,2]))\n",
    "AA_dict = Dict(zip(amino_acids_esm, [convert(BitVector,AA_bit_esm[:, i]) for i in 1:21]))\n",
    "\n",
    "embedded_CNN_esm = Dict()\n",
    "k = collect(keys(seq))\n",
    "Threads.@threads for i in k\n",
    "    sequence = String(seq[i])\n",
    "    new_seq = convolved_embedding(sequence, AA_dict)\n",
    "    embedded_CNN_esm[i] = new_seq\n",
    "end\n",
    "\n",
    "@save \"../data/phalp_CNN_esm.jld\" embedded_CNN_esm"
   ]
  },
  {
   "attachments": {},
   "cell_type": "markdown",
   "metadata": {},
   "source": [
    "### random AA bow"
   ]
  },
  {
   "cell_type": "code",
   "execution_count": 14,
   "metadata": {},
   "outputs": [],
   "source": [
    "data = DataFrame(DBInterface.execute(conn,\"SELECT * FROM PhaLP.UniParc;\"))\n",
    "seq = Dict(zip(data[:, 1],data[:,2]))\n",
    "\n",
    "rand_bit = nested_arrays2mat([bithdv() for i in 1:21])\n",
    "AA_list = ['A','C','D','E','F','G','H','I','K','L','M','N','P','Q','R','S','T','V','W','Y', 'X']\n",
    "AA_dict = Dict(zip(AA_list, [convert(BitVector, rand_bit[:, i]) for i in 1:21]))\n",
    "\n",
    "trimer_hdvs = Dict(aa1 * aa2 * aa3 => \n",
    "bitbind(AA_dict[aa1], circshift(AA_dict[aa2], 1), circshift(AA_dict[aa3], 2)) \n",
    "for aa1 in AA_list for aa2 in AA_list for aa3 in AA_list)\n",
    "\n",
    "embedded_rand_bow = Dict()\n",
    "k = collect(keys(seq))\n",
    "Threads.@threads for i in k\n",
    "    sequence = String(seq[i])\n",
    "    new_seq = bow_embedder(sequence)\n",
    "    embedded_rand_bow[i] = new_seq\n",
    "end\n",
    "\n",
    "@save \"../data/phalp_bow_rand.jld\" embedded_rand_bow"
   ]
  },
  {
   "attachments": {},
   "cell_type": "markdown",
   "metadata": {},
   "source": [
    "### Random AA CNN embedding"
   ]
  },
  {
   "cell_type": "code",
   "execution_count": 15,
   "metadata": {},
   "outputs": [],
   "source": [
    "data = DataFrame(DBInterface.execute(conn,\"SELECT * FROM PhaLP.UniParc;\"))\n",
    "seq = Dict(zip(data[:, 1],data[:,2]))\n",
    "\n",
    "rand_bit = nested_arrays2mat([bithdv() for i in 1:21])\n",
    "AA_list = ['A','C','D','E','F','G','H','I','K','L','M','N','P','Q','R','S','T','V','W','Y', 'X']\n",
    "AA_dict = Dict(zip(AA_list, [convert(BitVector, rand_bit[:, i]) for i in 1:21]))\n",
    "\n",
    "embedded_rand_CNN = Dict()\n",
    "k = collect(keys(seq))\n",
    "Threads.@threads for i in k\n",
    "    sequence = String(seq[i])\n",
    "    new_seq = convolved_embedding(sequence, AA_dict)\n",
    "    embedded_rand_CNN[i] = new_seq\n",
    "end\n",
    "\n",
    "@save \"../data/phalp_cnn_rand.jld\" embedded_rand_CNN"
   ]
  },
  {
   "attachments": {},
   "cell_type": "markdown",
   "metadata": {},
   "source": [
    "### 100K embeddings"
   ]
  },
  {
   "cell_type": "code",
   "execution_count": 6,
   "metadata": {},
   "outputs": [
    {
     "ename": "TaskFailedException",
     "evalue": "TaskFailedException\n\n    nested task error: InterruptException:\n    Stacktrace:\n      [1] Array\n        @ ./boot.jl:459 [inlined]\n      [2] Array\n        @ ./boot.jl:468 [inlined]\n      [3] Array\n        @ ./boot.jl:476 [inlined]\n      [4] similar\n        @ ./abstractarray.jl:841 [inlined]\n      [5] similar\n        @ ./abstractarray.jl:840 [inlined]\n      [6] similar\n        @ ./broadcast.jl:212 [inlined]\n      [7] similar\n        @ ./broadcast.jl:211 [inlined]\n      [8] copy\n        @ ./broadcast.jl:885 [inlined]\n      [9] materialize\n        @ ./broadcast.jl:860 [inlined]\n     [10] #_#43\n        @ ./broadcast.jl:1338 [inlined]\n     [11] BroadcastFunction\n        @ ./broadcast.jl:1338 [inlined]\n     [12] BottomRF\n        @ ./reduce.jl:81 [inlined]\n     [13] afoldl(::Base.BottomRF{Base.Broadcast.BroadcastFunction{typeof(+)}}, ::Base._InitialValue, ::BitVector, ::BitVector, ::BitVector, ::BitVector, ::BitVector, ::BitVector, ::BitVector, ::BitVector, ::BitVector, ::BitVector, ::BitVector, ::BitVector, ::BitVector, ::BitVector, ::BitVector, ::BitVector, ::BitVector, ::BitVector, ::BitVector, ::BitVector, ::BitVector, ::BitVector, ::BitVector, ::BitVector, ::BitVector, ::BitVector, ::BitVector, ::BitVector, ::BitVector, ::BitVector, ::BitVector, ::BitVector, ::Vararg{BitVector})\n        @ Base ./operators.jl:580\n     [14] _foldl_impl\n        @ ./tuple.jl:277 [inlined]\n     [15] foldl_impl\n        @ ./reduce.jl:48 [inlined]\n     [16] mapfoldl_impl(f::typeof(identity), op::Base.Broadcast.BroadcastFunction{typeof(+)}, nt::Base._InitialValue, itr::NTuple{1391, BitVector})\n        @ Base ./reduce.jl:44\n     [17] mapfoldl(f::Function, op::Function, itr::NTuple{1391, BitVector}; init::Base._InitialValue)\n        @ Base ./reduce.jl:162\n     [18] mapfoldl\n        @ ./reduce.jl:162 [inlined]\n     [19] #mapreduce#262\n        @ ./reduce.jl:294 [inlined]\n     [20] mapreduce\n        @ ./reduce.jl:294 [inlined]\n     [21] #reduce#264\n        @ ./reduce.jl:475 [inlined]\n     [22] reduce(op::Function, itr::NTuple{1391, BitVector})\n        @ Base ./reduce.jl:475\n     [23] bitadd(::BitVector, ::Vararg{BitVector})\n        @ Main ~/Master-Thesis/src/HDC.jl:11\n     [24] bow_embedder(sequence::String)\n        @ Main ~/Master-Thesis/notebooks/PhaLP.ipynb:3\n     [25] macro expansion\n        @ ~/Master-Thesis/notebooks/PhaLP.ipynb:27 [inlined]\n     [26] (::var\"#95#threadsfor_fun#71\"{var\"#95#threadsfor_fun#70#72\"{Vector{String}}})(tid::Int64; onethread::Bool)\n        @ Main ./threadingconstructs.jl:84\n     [27] #95#threadsfor_fun\n        @ ./threadingconstructs.jl:51 [inlined]\n     [28] (::Base.Threads.var\"#1#2\"{var\"#95#threadsfor_fun#71\"{var\"#95#threadsfor_fun#70#72\"{Vector{String}}}, Int64})()\n        @ Base.Threads ./threadingconstructs.jl:30",
     "output_type": "error",
     "traceback": [
      "TaskFailedException\n",
      "\n",
      "    nested task error: InterruptException:\n",
      "    Stacktrace:\n",
      "      [1] Array\n",
      "        @ ./boot.jl:459 [inlined]\n",
      "      [2] Array\n",
      "        @ ./boot.jl:468 [inlined]\n",
      "      [3] Array\n",
      "        @ ./boot.jl:476 [inlined]\n",
      "      [4] similar\n",
      "        @ ./abstractarray.jl:841 [inlined]\n",
      "      [5] similar\n",
      "        @ ./abstractarray.jl:840 [inlined]\n",
      "      [6] similar\n",
      "        @ ./broadcast.jl:212 [inlined]\n",
      "      [7] similar\n",
      "        @ ./broadcast.jl:211 [inlined]\n",
      "      [8] copy\n",
      "        @ ./broadcast.jl:885 [inlined]\n",
      "      [9] materialize\n",
      "        @ ./broadcast.jl:860 [inlined]\n",
      "     [10] #_#43\n",
      "        @ ./broadcast.jl:1338 [inlined]\n",
      "     [11] BroadcastFunction\n",
      "        @ ./broadcast.jl:1338 [inlined]\n",
      "     [12] BottomRF\n",
      "        @ ./reduce.jl:81 [inlined]\n",
      "     [13] afoldl(::Base.BottomRF{Base.Broadcast.BroadcastFunction{typeof(+)}}, ::Base._InitialValue, ::BitVector, ::BitVector, ::BitVector, ::BitVector, ::BitVector, ::BitVector, ::BitVector, ::BitVector, ::BitVector, ::BitVector, ::BitVector, ::BitVector, ::BitVector, ::BitVector, ::BitVector, ::BitVector, ::BitVector, ::BitVector, ::BitVector, ::BitVector, ::BitVector, ::BitVector, ::BitVector, ::BitVector, ::BitVector, ::BitVector, ::BitVector, ::BitVector, ::BitVector, ::BitVector, ::BitVector, ::BitVector, ::Vararg{BitVector})\n",
      "        @ Base ./operators.jl:580\n",
      "     [14] _foldl_impl\n",
      "        @ ./tuple.jl:277 [inlined]\n",
      "     [15] foldl_impl\n",
      "        @ ./reduce.jl:48 [inlined]\n",
      "     [16] mapfoldl_impl(f::typeof(identity), op::Base.Broadcast.BroadcastFunction{typeof(+)}, nt::Base._InitialValue, itr::NTuple{1391, BitVector})\n",
      "        @ Base ./reduce.jl:44\n",
      "     [17] mapfoldl(f::Function, op::Function, itr::NTuple{1391, BitVector}; init::Base._InitialValue)\n",
      "        @ Base ./reduce.jl:162\n",
      "     [18] mapfoldl\n",
      "        @ ./reduce.jl:162 [inlined]\n",
      "     [19] #mapreduce#262\n",
      "        @ ./reduce.jl:294 [inlined]\n",
      "     [20] mapreduce\n",
      "        @ ./reduce.jl:294 [inlined]\n",
      "     [21] #reduce#264\n",
      "        @ ./reduce.jl:475 [inlined]\n",
      "     [22] reduce(op::Function, itr::NTuple{1391, BitVector})\n",
      "        @ Base ./reduce.jl:475\n",
      "     [23] bitadd(::BitVector, ::Vararg{BitVector})\n",
      "        @ Main ~/Master-Thesis/src/HDC.jl:11\n",
      "     [24] bow_embedder(sequence::String)\n",
      "        @ Main ~/Master-Thesis/notebooks/PhaLP.ipynb:3\n",
      "     [25] macro expansion\n",
      "        @ ~/Master-Thesis/notebooks/PhaLP.ipynb:27 [inlined]\n",
      "     [26] (::var\"#95#threadsfor_fun#71\"{var\"#95#threadsfor_fun#70#72\"{Vector{String}}})(tid::Int64; onethread::Bool)\n",
      "        @ Main ./threadingconstructs.jl:84\n",
      "     [27] #95#threadsfor_fun\n",
      "        @ ./threadingconstructs.jl:51 [inlined]\n",
      "     [28] (::Base.Threads.var\"#1#2\"{var\"#95#threadsfor_fun#71\"{var\"#95#threadsfor_fun#70#72\"{Vector{String}}}, Int64})()\n",
      "        @ Base.Threads ./threadingconstructs.jl:30\n",
      "\n",
      "Stacktrace:\n",
      " [1] wait\n",
      "   @ ./task.jl:345 [inlined]\n",
      " [2] threading_run(fun::var\"#95#threadsfor_fun#71\"{var\"#95#threadsfor_fun#70#72\"{Vector{String}}}, static::Bool)\n",
      "   @ Base.Threads ./threadingconstructs.jl:38\n",
      " [3] top-level scope\n",
      "   @ ./threadingconstructs.jl:89"
     ]
    }
   ],
   "source": [
    "using CSV\n",
    "include(\"../src/HDC.jl\")\n",
    "include(\"../src/math.jl\")\n",
    "include(\"../src/experimental.jl\")\n",
    "aa_embeddings = DataFrame(CSV.File(\"../data/amino_acid_embeddings.csv\"))\n",
    "amino_acids_esm = [only(i) for i in aa_embeddings.protein_ID]\n",
    "aa_emb = Matrix(aa_embeddings[:, 2:end])\n",
    "# Create HDVs\n",
    "HDV_mat_bit = nested_arrays2mat([bithdv(1000000) for i in 1:size(aa_emb)[2]], true)\n",
    "\n",
    "# Extend embeddings into hyperdimensional space\n",
    "AA_bit_esm = permutedims(mat_scaler(aa_emb * HDV_mat_bit, 0, 1, 2) .|> round)\n",
    "\n",
    "AA_dict = Dict(zip(amino_acids_esm, [convert(BitVector,AA_bit_esm[:, i]) for i in 1:21]))\n",
    "\n",
    "trimer_hdvs = Dict(aa1 * aa2 * aa3 => \n",
    "bitbind(AA_dict[aa1], circshift(AA_dict[aa2], 1), circshift(AA_dict[aa3], 2)) \n",
    "for aa1 in amino_acids_esm for aa2 in amino_acids_esm  for aa3 in amino_acids_esm)\n",
    "\n",
    "data = DataFrame(DBInterface.execute(conn,\"SELECT * FROM PhaLP.UniParc;\"))\n",
    "seq = Dict(zip(data[:, 1],data[:,2]))\n",
    "\n",
    "embedded_bow_esm_big = Dict()\n",
    "k = collect(keys(seq))\n",
    "Threads.@threads for i in k\n",
    "    sequence = String(seq[i])\n",
    "    new_seq = bow_embedder(sequence)\n",
    "    embedded_bow_esm_big[i] = new_seq\n",
    "end\n",
    "\n",
    "using JLD\n",
    "@save \"../data/phalp_bow_esm_big.jld\" embedded_bow_esm_big"
   ]
  }
 ],
 "metadata": {
  "kernelspec": {
   "display_name": "Julia 1.8.0",
   "language": "julia",
   "name": "julia-1.8"
  },
  "language_info": {
   "file_extension": ".jl",
   "mimetype": "application/julia",
   "name": "julia",
   "version": "1.8.0"
  },
  "orig_nbformat": 4,
  "vscode": {
   "interpreter": {
    "hash": "e7370f93d1d0cde622a1f8e1c04877d8463912d04d973331ad4851f04de6915a"
   }
  }
 },
 "nbformat": 4,
 "nbformat_minor": 2
}

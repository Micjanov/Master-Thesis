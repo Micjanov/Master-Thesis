{
 "cells": [
  {
   "attachments": {},
   "cell_type": "markdown",
   "metadata": {},
   "source": [
    "# PhaLP"
   ]
  },
  {
   "cell_type": "code",
   "execution_count": 20,
   "metadata": {},
   "outputs": [
    {
     "data": {
      "text/plain": [
       "MySQL.Connection(host=\"127.0.0.1\", user=\"root\", port=\"3306\", db=\"PhaLP\")"
      ]
     },
     "metadata": {},
     "output_type": "display_data"
    }
   ],
   "source": [
    "conn = DBInterface.connect(MySQL.Connection, \"127.0.0.1\", \"root\", \"123\", db = \"PhaLP\")"
   ]
  },
  {
   "attachments": {},
   "cell_type": "markdown",
   "metadata": {},
   "source": [
    "## Look at the data"
   ]
  },
  {
   "cell_type": "code",
   "execution_count": 27,
   "metadata": {},
   "outputs": [
    {
     "data": {
      "text/html": [
       "<div><div style = \"float: left;\"><span>14×1 DataFrame</span></div><div style = \"clear: both;\"></div></div><div class = \"data-frame\" style = \"overflow-x: scroll;\"><table class = \"data-frame\" style = \"margin-bottom: 6px;\"><thead><tr class = \"header\"><th class = \"rowNumber\" style = \"font-weight: bold; text-align: right;\">Row</th><th style = \"text-align: left;\">Tables_in_PhaLP</th></tr><tr class = \"subheader headerLastRow\"><th class = \"rowNumber\" style = \"font-weight: bold; text-align: right;\"></th><th title = \"String\" style = \"text-align: left;\">String</th></tr></thead><tbody><tr><td class = \"rowNumber\" style = \"font-weight: bold; text-align: right;\">1</td><td style = \"text-align: left;\">CDSs</td></tr><tr><td class = \"rowNumber\" style = \"font-weight: bold; text-align: right;\">2</td><td style = \"text-align: left;\">EC</td></tr><tr><td class = \"rowNumber\" style = \"font-weight: bold; text-align: right;\">3</td><td style = \"text-align: left;\">UniParc</td></tr><tr><td class = \"rowNumber\" style = \"font-weight: bold; text-align: right;\">4</td><td style = \"text-align: left;\">UniProt</td></tr><tr><td class = \"rowNumber\" style = \"font-weight: bold; text-align: right;\">5</td><td style = \"text-align: left;\">domains</td></tr><tr><td class = \"rowNumber\" style = \"font-weight: bold; text-align: right;\">6</td><td style = \"text-align: left;\">experimental_evidence</td></tr><tr><td class = \"rowNumber\" style = \"font-weight: bold; text-align: right;\">7</td><td style = \"text-align: left;\">gene_ontologies</td></tr><tr><td class = \"rowNumber\" style = \"font-weight: bold; text-align: right;\">8</td><td style = \"text-align: left;\">hosts</td></tr><tr><td class = \"rowNumber\" style = \"font-weight: bold; text-align: right;\">9</td><td style = \"text-align: left;\">link_EC_UniProt</td></tr><tr><td class = \"rowNumber\" style = \"font-weight: bold; text-align: right;\">10</td><td style = \"text-align: left;\">link_UniParc_domains</td></tr><tr><td class = \"rowNumber\" style = \"font-weight: bold; text-align: right;\">11</td><td style = \"text-align: left;\">link_phage_host</td></tr><tr><td class = \"rowNumber\" style = \"font-weight: bold; text-align: right;\">12</td><td style = \"text-align: left;\">phages</td></tr><tr><td class = \"rowNumber\" style = \"font-weight: bold; text-align: right;\">13</td><td style = \"text-align: left;\">sequence_conflicts</td></tr><tr><td class = \"rowNumber\" style = \"font-weight: bold; text-align: right;\">14</td><td style = \"text-align: left;\">tertiary_structures</td></tr></tbody></table></div>"
      ],
      "text/latex": [
       "\\begin{tabular}{r|c}\n",
       "\t& Tables\\_in\\_PhaLP\\\\\n",
       "\t\\hline\n",
       "\t& String\\\\\n",
       "\t\\hline\n",
       "\t1 & CDSs \\\\\n",
       "\t2 & EC \\\\\n",
       "\t3 & UniParc \\\\\n",
       "\t4 & UniProt \\\\\n",
       "\t5 & domains \\\\\n",
       "\t6 & experimental\\_evidence \\\\\n",
       "\t7 & gene\\_ontologies \\\\\n",
       "\t8 & hosts \\\\\n",
       "\t9 & link\\_EC\\_UniProt \\\\\n",
       "\t10 & link\\_UniParc\\_domains \\\\\n",
       "\t11 & link\\_phage\\_host \\\\\n",
       "\t12 & phages \\\\\n",
       "\t13 & sequence\\_conflicts \\\\\n",
       "\t14 & tertiary\\_structures \\\\\n",
       "\\end{tabular}\n"
      ],
      "text/plain": [
       "\u001b[1m14×1 DataFrame\u001b[0m\n",
       "\u001b[1m Row \u001b[0m│\u001b[1m Tables_in_PhaLP       \u001b[0m\n",
       "     │\u001b[90m String                \u001b[0m\n",
       "─────┼───────────────────────\n",
       "   1 │ CDSs\n",
       "   2 │ EC\n",
       "   3 │ UniParc\n",
       "   4 │ UniProt\n",
       "   5 │ domains\n",
       "   6 │ experimental_evidence\n",
       "   7 │ gene_ontologies\n",
       "   8 │ hosts\n",
       "   9 │ link_EC_UniProt\n",
       "  10 │ link_UniParc_domains\n",
       "  11 │ link_phage_host\n",
       "  12 │ phages\n",
       "  13 │ sequence_conflicts\n",
       "  14 │ tertiary_structures"
      ]
     },
     "metadata": {},
     "output_type": "display_data"
    }
   ],
   "source": [
    "using DataFrames\n",
    "tables = DataFrame(DBInterface.execute(conn, \"SHOW TABLES;\"))"
   ]
  }
 ],
 "metadata": {
  "kernelspec": {
   "display_name": "Julia 1.8.0",
   "language": "julia",
   "name": "julia-1.8"
  },
  "language_info": {
   "file_extension": ".jl",
   "mimetype": "application/julia",
   "name": "julia",
   "version": "1.8.0"
  },
  "orig_nbformat": 4,
  "vscode": {
   "interpreter": {
    "hash": "e7370f93d1d0cde622a1f8e1c04877d8463912d04d973331ad4851f04de6915a"
   }
  }
 },
 "nbformat": 4,
 "nbformat_minor": 2
}

{
 "cells": [
  {
   "cell_type": "markdown",
   "metadata": {},
   "source": [
    "# Showcase of the basics on Hyperdimensional Computing\n",
    "## What is it and why?\n",
    "Hyperdimensional computing is a relatively new paradigm of computing that tries to mimick the workings of a (human) brain (Kanerva). The brain has a massive amount of circuits made of neurons synapses which might suggest that our brains operate on very high dimensional vectors (HDV) of let's say of 10000 of even more bits. This is radically different from the typical modern computer architectures which operate on vectors of 8 to 64 bits. This becomes clear when we compare how easy it is for a human to learn a language compared to computers, which require a large and complecated set of arithmetic operations in the form of machine learning models or deep learning networks together with a large amount of data to try to come close mastering a language whilst a human can recognize other languages relatively easy when they don't even speak it! Likewise languages, we can very easily memorize and compare other intrisically complex and contextual concepts such as images. A computer would have a hard time finding similarity between a set of images and faces because this requires very complex man-made models.\n",
    "\n",
    "When computing with hyperdimensional vectors, we only use a set of a few simple arithmetic operations which will all be explained later on in more detail. A HDV can represent anything from a word or a concept. This vector is initially made up of totally random bits, but with the simple set of rules, we can use other vectors to combine some concepts into new similar or dissimilar concepts. For example, we would not say that an table is similar to a brocolli but we could say that we can trace back the concept of table to the concept of meal, which in turn can be traced back to 'food' which has in some form similarity with 'brocolli'\n",
    "\n",
    "This holistic representation of a concept smeared out over a vector consisting of thousands of bits gives rise to interesting properties of this paradigm. It is very tolerant to failure of bits which makes it very robust to noise. This is becaue one bit in a HDV plays a very minimal role and may even be redundant for the represented concept, unlike in modern computer architectures where every bit in a 64 bit vector counts and cannot be changed."
   ]
  },
  {
   "cell_type": "markdown",
   "metadata": {},
   "source": [
    "## Generating HDVs\n",
    "First we should create functions that lets us construct HDVs. An initial HDV is constructed totally random. We can opt for binary, bipolar vectors or even vectors containing real numbers. The nature of the vectors does not matter that much result-wise but using these operations on bipolar vectors will make it more understandable and is easier to implement since we will then use simple algebraic concepts. The choice of the nature of the vectors would also change the nature of the operations as we could use highly efficient bit-operations with binary bits but this heavily restricts the amount of information we can store in the vector as we explain later.(??) The elements of the vectors will still be referred to as 'bits'."
   ]
  },
  {
   "cell_type": "markdown",
   "metadata": {},
   "source": [
    "With n corresponding to the amount of vectors and N the length of the vectors."
   ]
  },
  {
   "cell_type": "code",
   "execution_count": 2,
   "metadata": {},
   "outputs": [
    {
     "data": {
      "text/plain": [
       "hdv (generic function with 3 methods)"
      ]
     },
     "execution_count": 2,
     "metadata": {},
     "output_type": "execute_result"
    }
   ],
   "source": [
    "using LinearAlgebra\n",
    "hdv(n::Int=1, N::Int=10000) = rand((-1,1), n, N)"
   ]
  },
  {
   "cell_type": "code",
   "execution_count": 3,
   "metadata": {},
   "outputs": [
    {
     "data": {
      "text/plain": [
       "1×10000 Matrix{Int64}:\n",
       " -1  -1  1  1  1  1  1  -1  1  1  1  1  …  1  -1  1  -1  -1  1  -1  1  -1  1"
      ]
     },
     "execution_count": 3,
     "metadata": {},
     "output_type": "execute_result"
    }
   ],
   "source": [
    "x = hdv()"
   ]
  },
  {
   "cell_type": "code",
   "execution_count": 4,
   "metadata": {},
   "outputs": [
    {
     "data": {
      "text/plain": [
       "1×10000 Matrix{Int64}:\n",
       " -1  1  1  1  1  1  -1  1  -1  -1  -1  …  1  1  1  1  -1  -1  1  -1  -1  -1"
      ]
     },
     "execution_count": 4,
     "metadata": {},
     "output_type": "execute_result"
    }
   ],
   "source": [
    "y = hdv()"
   ]
  },
  {
   "cell_type": "markdown",
   "metadata": {},
   "source": [
    "## Operations on HDVs\n",
    "In this part we will try to explain the different operations we could perform on HDVs which we could use for further modeling.\n",
    "### Adding (bundling)\n",
    "The element-wise addition of two of these kind of vectors result in a vector that is the most similar to both vectors. This result should also be normalized and and can be thus considered as a mean vector of the bundled vectors.(Kanerva)??? We can choose how far we want to go with this. If we allow zeros in our 'bipolar' vectors, we can easily see the disagreement of the corresponding elements of the strictly bipolar parent vectors. This also means that no information is lost if we don't restrict the resulting vectors to a strict bipolar nature."
   ]
  },
  {
   "cell_type": "code",
   "execution_count": 5,
   "metadata": {},
   "outputs": [
    {
     "data": {
      "text/plain": [
       "add (generic function with 1 method)"
      ]
     },
     "execution_count": 5,
     "metadata": {},
     "output_type": "execute_result"
    }
   ],
   "source": [
    "add(vectors::Matrix{Int}...) = reduce(.+, vectors) .|> sign"
   ]
  },
  {
   "cell_type": "code",
   "execution_count": 6,
   "metadata": {},
   "outputs": [
    {
     "data": {
      "text/plain": [
       "1×10000 Matrix{Int64}:\n",
       " -1  0  1  1  1  1  0  0  0  0  0  1  0  …  0  1  0  1  0  -1  0  0  0  -1  0"
      ]
     },
     "execution_count": 6,
     "metadata": {},
     "output_type": "execute_result"
    }
   ],
   "source": [
    "add(x,y)"
   ]
  },
  {
   "cell_type": "code",
   "execution_count": 7,
   "metadata": {},
   "outputs": [
    {
     "data": {
      "text/plain": [
       "1×10000 Matrix{Int64}:\n",
       " 1  -1  1  1  1  -1  -1  -1  1  1  1  …  -1  1  -1  -1  -1  -1  1  1  1  1"
      ]
     },
     "execution_count": 7,
     "metadata": {},
     "output_type": "execute_result"
    }
   ],
   "source": [
    "z = hdv()"
   ]
  },
  {
   "cell_type": "code",
   "execution_count": 8,
   "metadata": {},
   "outputs": [
    {
     "data": {
      "text/plain": [
       "1×10000 Matrix{Int64}:\n",
       " -1  -1  1  1  1  1  -1  -1  1  1  1  …  1  1  1  1  -1  -1  -1  1  1  -1  1"
      ]
     },
     "execution_count": 8,
     "metadata": {},
     "output_type": "execute_result"
    }
   ],
   "source": [
    "add(x,y,z)"
   ]
  },
  {
   "cell_type": "markdown",
   "metadata": {},
   "source": [
    "### Multiplying (binding)\n",
    "This operation encodes the interaction between two vectors and thus creates a vector dissimilar to the two parent vectors. For bipolar parent vectors, element-wise multiplication suffices. For strictly bipolar vectors, this also implies we can reverse the binding operation by doing the same operation again thus recovering the data. For binary vectors, this operation corresponds to a logical XOR gate."
   ]
  },
  {
   "cell_type": "code",
   "execution_count": 9,
   "metadata": {},
   "outputs": [
    {
     "data": {
      "text/plain": [
       "multiply (generic function with 1 method)"
      ]
     },
     "execution_count": 9,
     "metadata": {},
     "output_type": "execute_result"
    }
   ],
   "source": [
    "multiply(vectors::Matrix{Int}...) = reduce(.*, vectors)"
   ]
  },
  {
   "cell_type": "code",
   "execution_count": 10,
   "metadata": {},
   "outputs": [
    {
     "data": {
      "text/plain": [
       "1×10000 Matrix{Int64}:\n",
       " 1  -1  1  1  1  1  -1  -1  -1  -1  -1  …  1  -1  1  -1  1  -1  -1  -1  1  -1"
      ]
     },
     "execution_count": 10,
     "metadata": {},
     "output_type": "execute_result"
    }
   ],
   "source": [
    "multiply(x, y)"
   ]
  },
  {
   "cell_type": "code",
   "execution_count": 11,
   "metadata": {},
   "outputs": [
    {
     "data": {
      "text/plain": [
       "1×10000 Matrix{Int64}:\n",
       " 1  1  1  1  1  -1  1  1  -1  -1  -1  …  -1  -1  -1  1  -1  1  -1  -1  1  -1"
      ]
     },
     "execution_count": 11,
     "metadata": {},
     "output_type": "execute_result"
    }
   ],
   "source": [
    "multiply(x, y, z)"
   ]
  },
  {
   "cell_type": "markdown",
   "metadata": {},
   "source": [
    "### Permutation (shifting)\n",
    "We can also include positional information, for example a sequence of letters. This is possible by a cyclic permutation by shifting every element to the right."
   ]
  },
  {
   "cell_type": "code",
   "execution_count": 12,
   "metadata": {},
   "outputs": [
    {
     "data": {
      "text/plain": [
       "perm (generic function with 2 methods)"
      ]
     },
     "execution_count": 12,
     "metadata": {},
     "output_type": "execute_result"
    }
   ],
   "source": [
    "perm(vector::Matrix, k::Int=1) = circshift(vector, (0, k))"
   ]
  },
  {
   "cell_type": "code",
   "execution_count": 13,
   "metadata": {},
   "outputs": [
    {
     "data": {
      "text/plain": [
       "5026"
      ]
     },
     "execution_count": 13,
     "metadata": {},
     "output_type": "execute_result"
    }
   ],
   "source": [
    "sum(x.==perm(x))"
   ]
  },
  {
   "cell_type": "code",
   "execution_count": 14,
   "metadata": {},
   "outputs": [
    {
     "data": {
      "text/plain": [
       "1×10000 Matrix{Int64}:\n",
       " -1  -1  1  1  1  1  1  -1  1  1  1  1  …  1  -1  1  -1  -1  1  -1  1  -1  1"
      ]
     },
     "execution_count": 14,
     "metadata": {},
     "output_type": "execute_result"
    }
   ],
   "source": [
    "circshift(x, 1)"
   ]
  },
  {
   "cell_type": "markdown",
   "metadata": {},
   "source": [
    "Let's say we want to encode the sequence of letters 'xyz' into one vector, we can bind the vectors of each letter but shift the vectors according to their index."
   ]
  },
  {
   "cell_type": "code",
   "execution_count": 15,
   "metadata": {},
   "outputs": [
    {
     "data": {
      "text/plain": [
       "1×10000 Matrix{Int64}:\n",
       " 1  1  1  -1  1  1  1  -1  -1  1  -1  …  1  -1  -1  -1  1  1  -1  -1  1  -1"
      ]
     },
     "execution_count": 15,
     "metadata": {},
     "output_type": "execute_result"
    }
   ],
   "source": [
    "xyz = multiply(x, perm(y), perm(z, 2))"
   ]
  },
  {
   "cell_type": "markdown",
   "metadata": {},
   "source": [
    "### Similarity measurement\n"
   ]
  },
  {
   "cell_type": "markdown",
   "metadata": {},
   "source": [
    "To quantify the similarity between two HDVs, we can tackle it in numerous ways depending on the nature of the vectors. For bipolar vectors, a cosine similarity measure fits our needs. \n",
    "$$\\cos(\\mathbf{x}, \\mathbf{y}) = \\frac{\\mathbf{x} \\cdot \\mathbf{y}}{||\\mathbf{x}||\\, ||\\mathbf{y}||}\\,.$$\n",
    "If the cosine similairty is equal to -1, the two vectors are totally opposite to eachother. If it's equal to 1, the vectors are equal and if the cosine similarity equals to 0, the vectors are orthogonal to eachother."
   ]
  },
  {
   "cell_type": "code",
   "execution_count": 16,
   "metadata": {},
   "outputs": [
    {
     "data": {
      "text/plain": [
       "cosine (generic function with 1 method)"
      ]
     },
     "execution_count": 16,
     "metadata": {},
     "output_type": "execute_result"
    }
   ],
   "source": [
    "cosine(x::Matrix{Int}, y::Matrix{Int}) = dot(x, y) / (norm(x) * norm(y))"
   ]
  },
  {
   "cell_type": "markdown",
   "metadata": {},
   "source": [
    "As we can see and expect, 2 unrelated random vectors are close to being orthogonal."
   ]
  },
  {
   "cell_type": "code",
   "execution_count": 17,
   "metadata": {},
   "outputs": [
    {
     "data": {
      "text/plain": [
       "0.0064"
      ]
     },
     "execution_count": 17,
     "metadata": {},
     "output_type": "execute_result"
    }
   ],
   "source": [
    "cosine(x, y)"
   ]
  },
  {
   "cell_type": "markdown",
   "metadata": {},
   "source": [
    "## Operations on binary HDV"
   ]
  },
  {
   "cell_type": "code",
   "execution_count": 18,
   "metadata": {},
   "outputs": [
    {
     "data": {
      "text/plain": [
       "bitHDV (generic function with 2 methods)"
      ]
     },
     "execution_count": 18,
     "metadata": {},
     "output_type": "execute_result"
    }
   ],
   "source": [
    "using Random\n",
    "bitHDV(N::Int=10000) = bitrand(N)"
   ]
  },
  {
   "cell_type": "code",
   "execution_count": 19,
   "metadata": {},
   "outputs": [
    {
     "data": {
      "text/plain": [
       "10000-element BitVector:\n",
       " 1\n",
       " 1\n",
       " 0\n",
       " 1\n",
       " 1\n",
       " 1\n",
       " 0\n",
       " 0\n",
       " 1\n",
       " 0\n",
       " 1\n",
       " 1\n",
       " 0\n",
       " ⋮\n",
       " 0\n",
       " 1\n",
       " 1\n",
       " 0\n",
       " 0\n",
       " 1\n",
       " 0\n",
       " 0\n",
       " 1\n",
       " 1\n",
       " 0\n",
       " 1"
      ]
     },
     "execution_count": 19,
     "metadata": {},
     "output_type": "execute_result"
    }
   ],
   "source": [
    "r = bitHDV()"
   ]
  },
  {
   "cell_type": "code",
   "execution_count": 20,
   "metadata": {},
   "outputs": [
    {
     "data": {
      "text/plain": [
       "10000-element BitVector:\n",
       " 0\n",
       " 0\n",
       " 1\n",
       " 1\n",
       " 1\n",
       " 0\n",
       " 1\n",
       " 1\n",
       " 0\n",
       " 0\n",
       " 1\n",
       " 0\n",
       " 0\n",
       " ⋮\n",
       " 0\n",
       " 0\n",
       " 0\n",
       " 0\n",
       " 1\n",
       " 0\n",
       " 0\n",
       " 1\n",
       " 1\n",
       " 0\n",
       " 1\n",
       " 1"
      ]
     },
     "execution_count": 20,
     "metadata": {},
     "output_type": "execute_result"
    }
   ],
   "source": [
    "s = bitHDV()"
   ]
  },
  {
   "cell_type": "code",
   "execution_count": 21,
   "metadata": {},
   "outputs": [
    {
     "data": {
      "text/plain": [
       "10000-element BitVector:\n",
       " 1\n",
       " 1\n",
       " 1\n",
       " 0\n",
       " 0\n",
       " 0\n",
       " 0\n",
       " 0\n",
       " 0\n",
       " 0\n",
       " 0\n",
       " 1\n",
       " 1\n",
       " ⋮\n",
       " 0\n",
       " 1\n",
       " 0\n",
       " 1\n",
       " 0\n",
       " 0\n",
       " 0\n",
       " 0\n",
       " 0\n",
       " 1\n",
       " 1\n",
       " 0"
      ]
     },
     "execution_count": 21,
     "metadata": {},
     "output_type": "execute_result"
    }
   ],
   "source": [
    "t = bitHDV()"
   ]
  },
  {
   "cell_type": "markdown",
   "metadata": {},
   "source": [
    "### Addition\n",
    "To bundle multiple binary vectors, we can do an element-wise addition. The resulting vector is binarized based on the majority element. For an odd amount of vectors to bundle, this is no problem and we would see no ambiguity but for an even amount vectors we have to imply a bias (choose 0 or 1) if there would be no majority element. Of course, this would lead to a loss of accuracy, but working with binary vectors may lead to an increase in speed (should test this). This bias can be reduced by adding a random vector (apparently, looking into this).\n",
    "There is no easy function implemented in Julia that can do this, so this may be not the most optimal algorithm."
   ]
  },
  {
   "cell_type": "code",
   "execution_count": 22,
   "metadata": {},
   "outputs": [],
   "source": [
    "using StatsBase\n",
    "using DataStructures"
   ]
  },
  {
   "cell_type": "markdown",
   "metadata": {},
   "source": [
    "For the function bitadd in case of no majority element, we will assume that picking the first element is random enough. For this implementation, it will also be the fastest."
   ]
  },
  {
   "cell_type": "code",
   "execution_count": 23,
   "metadata": {},
   "outputs": [
    {
     "data": {
      "text/plain": [
       "bitadd (generic function with 1 method)"
      ]
     },
     "execution_count": 23,
     "metadata": {},
     "output_type": "execute_result"
    }
   ],
   "source": [
    "function bitadd(vectors::BitVector ...)\n",
    "    n = length(vectors)\n",
    "    N = length(vectors[1])\n",
    "    x = [mode([j[i] for j in vectors]) for i =1:N]\n",
    "    return convert(BitVector, x)\n",
    "end"
   ]
  },
  {
   "cell_type": "code",
   "execution_count": 24,
   "metadata": {},
   "outputs": [
    {
     "data": {
      "text/plain": [
       "10000-element BitVector:\n",
       " 0\n",
       " 0\n",
       " 1\n",
       " 1\n",
       " 1\n",
       " 0\n",
       " 1\n",
       " 1\n",
       " 0\n",
       " 0\n",
       " 1\n",
       " 0\n",
       " 0\n",
       " ⋮\n",
       " 0\n",
       " 0\n",
       " 0\n",
       " 0\n",
       " 1\n",
       " 0\n",
       " 0\n",
       " 1\n",
       " 1\n",
       " 0\n",
       " 1\n",
       " 1"
      ]
     },
     "execution_count": 24,
     "metadata": {},
     "output_type": "execute_result"
    }
   ],
   "source": [
    "bitadd(s,t)"
   ]
  },
  {
   "cell_type": "code",
   "execution_count": 25,
   "metadata": {},
   "outputs": [
    {
     "data": {
      "text/plain": [
       "10000-element BitVector:\n",
       " 1\n",
       " 1\n",
       " 1\n",
       " 1\n",
       " 1\n",
       " 0\n",
       " 0\n",
       " 0\n",
       " 0\n",
       " 0\n",
       " 1\n",
       " 1\n",
       " 0\n",
       " ⋮\n",
       " 0\n",
       " 1\n",
       " 0\n",
       " 0\n",
       " 0\n",
       " 0\n",
       " 0\n",
       " 0\n",
       " 1\n",
       " 1\n",
       " 1\n",
       " 1"
      ]
     },
     "execution_count": 25,
     "metadata": {},
     "output_type": "execute_result"
    }
   ],
   "source": [
    "bitadd(r, s, t)"
   ]
  },
  {
   "cell_type": "markdown",
   "metadata": {},
   "source": [
    "### Multiplication\n",
    "Binding binary vectors is represented by an bitwise XOR operation."
   ]
  },
  {
   "cell_type": "code",
   "execution_count": 26,
   "metadata": {},
   "outputs": [
    {
     "data": {
      "text/plain": [
       "bitbind (generic function with 1 method)"
      ]
     },
     "execution_count": 26,
     "metadata": {},
     "output_type": "execute_result"
    }
   ],
   "source": [
    "bitbind(vectors::BitVector ...) =  reduce(.⊻, vectors)"
   ]
  },
  {
   "cell_type": "code",
   "execution_count": 27,
   "metadata": {},
   "outputs": [
    {
     "data": {
      "text/plain": [
       "10000-element BitVector:\n",
       " 0\n",
       " 0\n",
       " 0\n",
       " 0\n",
       " 0\n",
       " 1\n",
       " 1\n",
       " 1\n",
       " 1\n",
       " 0\n",
       " 0\n",
       " 0\n",
       " 1\n",
       " ⋮\n",
       " 0\n",
       " 0\n",
       " 1\n",
       " 1\n",
       " 1\n",
       " 1\n",
       " 0\n",
       " 1\n",
       " 0\n",
       " 0\n",
       " 0\n",
       " 0"
      ]
     },
     "execution_count": 27,
     "metadata": {},
     "output_type": "execute_result"
    }
   ],
   "source": [
    "bitbind(r,s,t)"
   ]
  },
  {
   "cell_type": "markdown",
   "metadata": {},
   "source": [
    "### Permutation\n",
    "This operation is the same for binary vectors as for bipolar vectors"
   ]
  },
  {
   "cell_type": "code",
   "execution_count": 28,
   "metadata": {},
   "outputs": [
    {
     "data": {
      "text/plain": [
       "bitperm (generic function with 2 methods)"
      ]
     },
     "execution_count": 28,
     "metadata": {},
     "output_type": "execute_result"
    }
   ],
   "source": [
    "bitperm(vector::BitVector, k::Int=1) = circshift(vector, k)"
   ]
  },
  {
   "cell_type": "code",
   "execution_count": 29,
   "metadata": {},
   "outputs": [
    {
     "data": {
      "text/plain": [
       "10000-element BitVector:\n",
       " 1\n",
       " 1\n",
       " 1\n",
       " 0\n",
       " 1\n",
       " 1\n",
       " 1\n",
       " 0\n",
       " 0\n",
       " 1\n",
       " 0\n",
       " 1\n",
       " 1\n",
       " ⋮\n",
       " 1\n",
       " 0\n",
       " 1\n",
       " 1\n",
       " 0\n",
       " 0\n",
       " 1\n",
       " 0\n",
       " 0\n",
       " 1\n",
       " 1\n",
       " 0"
      ]
     },
     "execution_count": 29,
     "metadata": {},
     "output_type": "execute_result"
    }
   ],
   "source": [
    "bitperm(r)"
   ]
  },
  {
   "cell_type": "markdown",
   "metadata": {},
   "source": [
    "### Similarity measurement\n",
    "The equivalent of a cosine similarity for binary vectors could be the Hamming distance. A Hamming distance of 0 between two vectors means that they are equal, 1 would mean that they are totally opposite and 0.5 would mean that they are orthogonal."
   ]
  },
  {
   "cell_type": "code",
   "execution_count": 30,
   "metadata": {},
   "outputs": [
    {
     "data": {
      "text/plain": [
       "hamming (generic function with 1 method)"
      ]
     },
     "execution_count": 30,
     "metadata": {},
     "output_type": "execute_result"
    }
   ],
   "source": [
    "hamming(x::BitVector, y::BitVector) = sum(x .!= y)/length(x)"
   ]
  },
  {
   "cell_type": "code",
   "execution_count": 31,
   "metadata": {},
   "outputs": [
    {
     "data": {
      "text/plain": [
       "0.5015"
      ]
     },
     "execution_count": 31,
     "metadata": {},
     "output_type": "execute_result"
    }
   ],
   "source": [
    "hamming(r,s)"
   ]
  },
  {
   "cell_type": "markdown",
   "metadata": {},
   "source": [
    "## Examples"
   ]
  },
  {
   "cell_type": "code",
   "execution_count": 46,
   "metadata": {},
   "outputs": [],
   "source": [
    "v = Vector()\n",
    "for i in 1:10000\n",
    "    a, b, c, x, y, z = hdv(), hdv(), hdv(), hdv(), hdv(), hdv()\n",
    "    d = add(multiply(a, x), multiply(b, y), multiply(c, z))\n",
    "    ap = multiply(x, d)\n",
    "    score = cosine(ap, a)\n",
    "    append!(v, score)\n",
    "end"
   ]
  },
  {
   "cell_type": "code",
   "execution_count": 47,
   "metadata": {},
   "outputs": [
    {
     "data": {
      "image/svg+xml": "<?xml version=\"1.0\" encoding=\"utf-8\"?>\n<svg xmlns=\"http://www.w3.org/2000/svg\" xmlns:xlink=\"http://www.w3.org/1999/xlink\" width=\"600\" height=\"400\" viewBox=\"0 0 2400 1600\">\n<defs>\n  <clipPath id=\"clip890\">\n    <rect x=\"0\" y=\"0\" width=\"2400\" height=\"1600\"/>\n  </clipPath>\n</defs>\n<path clip-path=\"url(#clip890)\" d=\"\nM0 1600 L2400 1600 L2400 0 L0 0  Z\n  \" fill=\"#ffffff\" fill-rule=\"evenodd\" fill-opacity=\"1\"/>\n<defs>\n  <clipPath id=\"clip891\">\n    <rect x=\"480\" y=\"0\" width=\"1681\" height=\"1600\"/>\n  </clipPath>\n</defs>\n<path clip-path=\"url(#clip890)\" d=\"\nM172.015 1423.18 L2352.76 1423.18 L2352.76 47.2441 L172.015 47.2441  Z\n  \" fill=\"#ffffff\" fill-rule=\"evenodd\" fill-opacity=\"1\"/>\n<defs>\n  <clipPath id=\"clip892\">\n    <rect x=\"172\" y=\"47\" width=\"2182\" height=\"1377\"/>\n  </clipPath>\n</defs>\n<polyline clip-path=\"url(#clip892)\" style=\"stroke:#000000; stroke-linecap:butt; stroke-linejoin:round; stroke-width:2; stroke-opacity:0.1; fill:none\" points=\"\n  172.015,1423.18 172.015,47.2441 \n  \"/>\n<polyline clip-path=\"url(#clip892)\" style=\"stroke:#000000; stroke-linecap:butt; stroke-linejoin:round; stroke-width:2; stroke-opacity:0.1; fill:none\" points=\"\n  717.2,1423.18 717.2,47.2441 \n  \"/>\n<polyline clip-path=\"url(#clip892)\" style=\"stroke:#000000; stroke-linecap:butt; stroke-linejoin:round; stroke-width:2; stroke-opacity:0.1; fill:none\" points=\"\n  1262.39,1423.18 1262.39,47.2441 \n  \"/>\n<polyline clip-path=\"url(#clip892)\" style=\"stroke:#000000; stroke-linecap:butt; stroke-linejoin:round; stroke-width:2; stroke-opacity:0.1; fill:none\" points=\"\n  1807.57,1423.18 1807.57,47.2441 \n  \"/>\n<polyline clip-path=\"url(#clip892)\" style=\"stroke:#000000; stroke-linecap:butt; stroke-linejoin:round; stroke-width:2; stroke-opacity:0.1; fill:none\" points=\"\n  2352.76,1423.18 2352.76,47.2441 \n  \"/>\n<polyline clip-path=\"url(#clip890)\" style=\"stroke:#000000; stroke-linecap:butt; stroke-linejoin:round; stroke-width:4; stroke-opacity:1; fill:none\" points=\"\n  172.015,1423.18 2352.76,1423.18 \n  \"/>\n<polyline clip-path=\"url(#clip890)\" style=\"stroke:#000000; stroke-linecap:butt; stroke-linejoin:round; stroke-width:4; stroke-opacity:1; fill:none\" points=\"\n  172.015,1423.18 172.015,1404.28 \n  \"/>\n<polyline clip-path=\"url(#clip890)\" style=\"stroke:#000000; stroke-linecap:butt; stroke-linejoin:round; stroke-width:4; stroke-opacity:1; fill:none\" points=\"\n  717.2,1423.18 717.2,1404.28 \n  \"/>\n<polyline clip-path=\"url(#clip890)\" style=\"stroke:#000000; stroke-linecap:butt; stroke-linejoin:round; stroke-width:4; stroke-opacity:1; fill:none\" points=\"\n  1262.39,1423.18 1262.39,1404.28 \n  \"/>\n<polyline clip-path=\"url(#clip890)\" style=\"stroke:#000000; stroke-linecap:butt; stroke-linejoin:round; stroke-width:4; stroke-opacity:1; fill:none\" points=\"\n  1807.57,1423.18 1807.57,1404.28 \n  \"/>\n<polyline clip-path=\"url(#clip890)\" style=\"stroke:#000000; stroke-linecap:butt; stroke-linejoin:round; stroke-width:4; stroke-opacity:1; fill:none\" points=\"\n  2352.76,1423.18 2352.76,1404.28 \n  \"/>\n<path clip-path=\"url(#clip890)\" d=\"M118.543 1468.75 L148.219 1468.75 L148.219 1472.69 L118.543 1472.69 L118.543 1468.75 Z\" fill=\"#000000\" fill-rule=\"evenodd\" fill-opacity=\"1\" /><path clip-path=\"url(#clip890)\" d=\"M159.121 1481.64 L166.76 1481.64 L166.76 1455.28 L158.45 1456.95 L158.45 1452.69 L166.714 1451.02 L171.39 1451.02 L171.39 1481.64 L179.029 1481.64 L179.029 1485.58 L159.121 1485.58 L159.121 1481.64 Z\" fill=\"#000000\" fill-rule=\"evenodd\" fill-opacity=\"1\" /><path clip-path=\"url(#clip890)\" d=\"M188.473 1479.7 L193.357 1479.7 L193.357 1485.58 L188.473 1485.58 L188.473 1479.7 Z\" fill=\"#000000\" fill-rule=\"evenodd\" fill-opacity=\"1\" /><path clip-path=\"url(#clip890)\" d=\"M213.542 1454.1 Q209.931 1454.1 208.103 1457.66 Q206.297 1461.2 206.297 1468.33 Q206.297 1475.44 208.103 1479.01 Q209.931 1482.55 213.542 1482.55 Q217.177 1482.55 218.982 1479.01 Q220.811 1475.44 220.811 1468.33 Q220.811 1461.2 218.982 1457.66 Q217.177 1454.1 213.542 1454.1 M213.542 1450.39 Q219.353 1450.39 222.408 1455 Q225.487 1459.58 225.487 1468.33 Q225.487 1477.06 222.408 1481.67 Q219.353 1486.25 213.542 1486.25 Q207.732 1486.25 204.654 1481.67 Q201.598 1477.06 201.598 1468.33 Q201.598 1459.58 204.654 1455 Q207.732 1450.39 213.542 1450.39 Z\" fill=\"#000000\" fill-rule=\"evenodd\" fill-opacity=\"1\" /><path clip-path=\"url(#clip890)\" d=\"M664.226 1468.75 L693.902 1468.75 L693.902 1472.69 L664.226 1472.69 L664.226 1468.75 Z\" fill=\"#000000\" fill-rule=\"evenodd\" fill-opacity=\"1\" /><path clip-path=\"url(#clip890)\" d=\"M713.994 1454.1 Q710.383 1454.1 708.554 1457.66 Q706.749 1461.2 706.749 1468.33 Q706.749 1475.44 708.554 1479.01 Q710.383 1482.55 713.994 1482.55 Q717.628 1482.55 719.434 1479.01 Q721.263 1475.44 721.263 1468.33 Q721.263 1461.2 719.434 1457.66 Q717.628 1454.1 713.994 1454.1 M713.994 1450.39 Q719.804 1450.39 722.86 1455 Q725.938 1459.58 725.938 1468.33 Q725.938 1477.06 722.86 1481.67 Q719.804 1486.25 713.994 1486.25 Q708.184 1486.25 705.105 1481.67 Q702.05 1477.06 702.05 1468.33 Q702.05 1459.58 705.105 1455 Q708.184 1450.39 713.994 1450.39 Z\" fill=\"#000000\" fill-rule=\"evenodd\" fill-opacity=\"1\" /><path clip-path=\"url(#clip890)\" d=\"M734.156 1479.7 L739.04 1479.7 L739.04 1485.58 L734.156 1485.58 L734.156 1479.7 Z\" fill=\"#000000\" fill-rule=\"evenodd\" fill-opacity=\"1\" /><path clip-path=\"url(#clip890)\" d=\"M749.272 1451.02 L767.628 1451.02 L767.628 1454.96 L753.554 1454.96 L753.554 1463.43 Q754.573 1463.08 755.591 1462.92 Q756.61 1462.73 757.628 1462.73 Q763.415 1462.73 766.795 1465.9 Q770.174 1469.08 770.174 1474.49 Q770.174 1480.07 766.702 1483.17 Q763.23 1486.25 756.911 1486.25 Q754.735 1486.25 752.466 1485.88 Q750.221 1485.51 747.813 1484.77 L747.813 1480.07 Q749.897 1481.2 752.119 1481.76 Q754.341 1482.32 756.818 1482.32 Q760.823 1482.32 763.16 1480.21 Q765.498 1478.1 765.498 1474.49 Q765.498 1470.88 763.16 1468.77 Q760.823 1466.67 756.818 1466.67 Q754.943 1466.67 753.068 1467.08 Q751.216 1467.5 749.272 1468.38 L749.272 1451.02 Z\" fill=\"#000000\" fill-rule=\"evenodd\" fill-opacity=\"1\" /><path clip-path=\"url(#clip890)\" d=\"M1239.77 1454.1 Q1236.16 1454.1 1234.33 1457.66 Q1232.52 1461.2 1232.52 1468.33 Q1232.52 1475.44 1234.33 1479.01 Q1236.16 1482.55 1239.77 1482.55 Q1243.4 1482.55 1245.21 1479.01 Q1247.04 1475.44 1247.04 1468.33 Q1247.04 1461.2 1245.21 1457.66 Q1243.4 1454.1 1239.77 1454.1 M1239.77 1450.39 Q1245.58 1450.39 1248.64 1455 Q1251.71 1459.58 1251.71 1468.33 Q1251.71 1477.06 1248.64 1481.67 Q1245.58 1486.25 1239.77 1486.25 Q1233.96 1486.25 1230.88 1481.67 Q1227.83 1477.06 1227.83 1468.33 Q1227.83 1459.58 1230.88 1455 Q1233.96 1450.39 1239.77 1450.39 Z\" fill=\"#000000\" fill-rule=\"evenodd\" fill-opacity=\"1\" /><path clip-path=\"url(#clip890)\" d=\"M1259.93 1479.7 L1264.82 1479.7 L1264.82 1485.58 L1259.93 1485.58 L1259.93 1479.7 Z\" fill=\"#000000\" fill-rule=\"evenodd\" fill-opacity=\"1\" /><path clip-path=\"url(#clip890)\" d=\"M1285 1454.1 Q1281.39 1454.1 1279.56 1457.66 Q1277.76 1461.2 1277.76 1468.33 Q1277.76 1475.44 1279.56 1479.01 Q1281.39 1482.55 1285 1482.55 Q1288.64 1482.55 1290.44 1479.01 Q1292.27 1475.44 1292.27 1468.33 Q1292.27 1461.2 1290.44 1457.66 Q1288.64 1454.1 1285 1454.1 M1285 1450.39 Q1290.81 1450.39 1293.87 1455 Q1296.95 1459.58 1296.95 1468.33 Q1296.95 1477.06 1293.87 1481.67 Q1290.81 1486.25 1285 1486.25 Q1279.19 1486.25 1276.11 1481.67 Q1273.06 1477.06 1273.06 1468.33 Q1273.06 1459.58 1276.11 1455 Q1279.19 1450.39 1285 1450.39 Z\" fill=\"#000000\" fill-rule=\"evenodd\" fill-opacity=\"1\" /><path clip-path=\"url(#clip890)\" d=\"M1785.45 1454.1 Q1781.84 1454.1 1780.01 1457.66 Q1778.21 1461.2 1778.21 1468.33 Q1778.21 1475.44 1780.01 1479.01 Q1781.84 1482.55 1785.45 1482.55 Q1789.09 1482.55 1790.89 1479.01 Q1792.72 1475.44 1792.72 1468.33 Q1792.72 1461.2 1790.89 1457.66 Q1789.09 1454.1 1785.45 1454.1 M1785.45 1450.39 Q1791.26 1450.39 1794.32 1455 Q1797.4 1459.58 1797.4 1468.33 Q1797.4 1477.06 1794.32 1481.67 Q1791.26 1486.25 1785.45 1486.25 Q1779.64 1486.25 1776.56 1481.67 Q1773.51 1477.06 1773.51 1468.33 Q1773.51 1459.58 1776.56 1455 Q1779.64 1450.39 1785.45 1450.39 Z\" fill=\"#000000\" fill-rule=\"evenodd\" fill-opacity=\"1\" /><path clip-path=\"url(#clip890)\" d=\"M1805.61 1479.7 L1810.5 1479.7 L1810.5 1485.58 L1805.61 1485.58 L1805.61 1479.7 Z\" fill=\"#000000\" fill-rule=\"evenodd\" fill-opacity=\"1\" /><path clip-path=\"url(#clip890)\" d=\"M1820.73 1451.02 L1839.09 1451.02 L1839.09 1454.96 L1825.01 1454.96 L1825.01 1463.43 Q1826.03 1463.08 1827.05 1462.92 Q1828.07 1462.73 1829.09 1462.73 Q1834.87 1462.73 1838.25 1465.9 Q1841.63 1469.08 1841.63 1474.49 Q1841.63 1480.07 1838.16 1483.17 Q1834.69 1486.25 1828.37 1486.25 Q1826.19 1486.25 1823.92 1485.88 Q1821.68 1485.51 1819.27 1484.77 L1819.27 1480.07 Q1821.36 1481.2 1823.58 1481.76 Q1825.8 1482.32 1828.28 1482.32 Q1832.28 1482.32 1834.62 1480.21 Q1836.96 1478.1 1836.96 1474.49 Q1836.96 1470.88 1834.62 1468.77 Q1832.28 1466.67 1828.28 1466.67 Q1826.4 1466.67 1824.53 1467.08 Q1822.67 1467.5 1820.73 1468.38 L1820.73 1451.02 Z\" fill=\"#000000\" fill-rule=\"evenodd\" fill-opacity=\"1\" /><path clip-path=\"url(#clip890)\" d=\"M2319.91 1481.64 L2327.55 1481.64 L2327.55 1455.28 L2319.24 1456.95 L2319.24 1452.69 L2327.5 1451.02 L2332.18 1451.02 L2332.18 1481.64 L2339.82 1481.64 L2339.82 1485.58 L2319.91 1485.58 L2319.91 1481.64 Z\" fill=\"#000000\" fill-rule=\"evenodd\" fill-opacity=\"1\" /><path clip-path=\"url(#clip890)\" d=\"M2349.26 1479.7 L2354.14 1479.7 L2354.14 1485.58 L2349.26 1485.58 L2349.26 1479.7 Z\" fill=\"#000000\" fill-rule=\"evenodd\" fill-opacity=\"1\" /><path clip-path=\"url(#clip890)\" d=\"M2374.33 1454.1 Q2370.72 1454.1 2368.89 1457.66 Q2367.08 1461.2 2367.08 1468.33 Q2367.08 1475.44 2368.89 1479.01 Q2370.72 1482.55 2374.33 1482.55 Q2377.96 1482.55 2379.77 1479.01 Q2381.6 1475.44 2381.6 1468.33 Q2381.6 1461.2 2379.77 1457.66 Q2377.96 1454.1 2374.33 1454.1 M2374.33 1450.39 Q2380.14 1450.39 2383.2 1455 Q2386.27 1459.58 2386.27 1468.33 Q2386.27 1477.06 2383.2 1481.67 Q2380.14 1486.25 2374.33 1486.25 Q2368.52 1486.25 2365.44 1481.67 Q2362.39 1477.06 2362.39 1468.33 Q2362.39 1459.58 2365.44 1455 Q2368.52 1450.39 2374.33 1450.39 Z\" fill=\"#000000\" fill-rule=\"evenodd\" fill-opacity=\"1\" /><path clip-path=\"url(#clip890)\" d=\"M1033.32 1524.18 L1033.32 1530.96 Q1030.07 1527.94 1026.38 1526.44 Q1022.72 1524.95 1018.58 1524.95 Q1010.43 1524.95 1006.1 1529.95 Q1001.77 1534.91 1001.77 1544.33 Q1001.77 1553.72 1006.1 1558.72 Q1010.43 1563.68 1018.58 1563.68 Q1022.72 1563.68 1026.38 1562.19 Q1030.07 1560.69 1033.32 1557.67 L1033.32 1564.38 Q1029.94 1566.68 1026.15 1567.82 Q1022.4 1568.97 1018.2 1568.97 Q1007.41 1568.97 1001.2 1562.38 Q994.994 1555.76 994.994 1544.33 Q994.994 1532.87 1001.2 1526.28 Q1007.41 1519.66 1018.2 1519.66 Q1022.46 1519.66 1026.22 1520.81 Q1030.01 1521.92 1033.32 1524.18 Z\" fill=\"#000000\" fill-rule=\"evenodd\" fill-opacity=\"1\" /><path clip-path=\"url(#clip890)\" d=\"M1056.8 1536.5 Q1052.09 1536.5 1049.36 1540.19 Q1046.62 1543.85 1046.62 1550.25 Q1046.62 1556.65 1049.33 1560.34 Q1052.06 1564 1056.8 1564 Q1061.48 1564 1064.22 1560.31 Q1066.96 1556.62 1066.96 1550.25 Q1066.96 1543.92 1064.22 1540.23 Q1061.48 1536.5 1056.8 1536.5 M1056.8 1531.54 Q1064.44 1531.54 1068.8 1536.5 Q1073.16 1541.47 1073.16 1550.25 Q1073.16 1559 1068.8 1564 Q1064.44 1568.97 1056.8 1568.97 Q1049.13 1568.97 1044.77 1564 Q1040.45 1559 1040.45 1550.25 Q1040.45 1541.47 1044.77 1536.5 Q1049.13 1531.54 1056.8 1531.54 Z\" fill=\"#000000\" fill-rule=\"evenodd\" fill-opacity=\"1\" /><path clip-path=\"url(#clip890)\" d=\"M1105.6 1533.45 L1105.6 1538.98 Q1103.12 1537.71 1100.44 1537.07 Q1097.77 1536.44 1094.9 1536.44 Q1090.54 1536.44 1088.35 1537.77 Q1086.18 1539.11 1086.18 1541.79 Q1086.18 1543.82 1087.74 1545 Q1089.3 1546.15 1094.01 1547.2 L1096.02 1547.64 Q1102.26 1548.98 1104.87 1551.43 Q1107.51 1553.85 1107.51 1558.21 Q1107.51 1563.17 1103.56 1566.07 Q1099.65 1568.97 1092.77 1568.97 Q1089.91 1568.97 1086.79 1568.39 Q1083.7 1567.85 1080.26 1566.74 L1080.26 1560.69 Q1083.51 1562.38 1086.66 1563.24 Q1089.81 1564.07 1092.9 1564.07 Q1097.04 1564.07 1099.26 1562.66 Q1101.49 1561.23 1101.49 1558.65 Q1101.49 1556.27 1099.87 1554.99 Q1098.28 1553.72 1092.83 1552.54 L1090.8 1552.07 Q1085.36 1550.92 1082.94 1548.56 Q1080.52 1546.18 1080.52 1542.04 Q1080.52 1537.01 1084.08 1534.27 Q1087.65 1531.54 1094.2 1531.54 Q1097.45 1531.54 1100.31 1532.01 Q1103.18 1532.49 1105.6 1533.45 Z\" fill=\"#000000\" fill-rule=\"evenodd\" fill-opacity=\"1\" /><path clip-path=\"url(#clip890)\" d=\"M1116.83 1532.4 L1122.69 1532.4 L1122.69 1568.04 L1116.83 1568.04 L1116.83 1532.4 M1116.83 1518.52 L1122.69 1518.52 L1122.69 1525.93 L1116.83 1525.93 L1116.83 1518.52 Z\" fill=\"#000000\" fill-rule=\"evenodd\" fill-opacity=\"1\" /><path clip-path=\"url(#clip890)\" d=\"M1164.58 1546.53 L1164.58 1568.04 L1158.72 1568.04 L1158.72 1546.72 Q1158.72 1541.66 1156.75 1539.14 Q1154.77 1536.63 1150.83 1536.63 Q1146.08 1536.63 1143.35 1539.65 Q1140.61 1542.68 1140.61 1547.9 L1140.61 1568.04 L1134.72 1568.04 L1134.72 1532.4 L1140.61 1532.4 L1140.61 1537.93 Q1142.71 1534.72 1145.54 1533.13 Q1148.41 1531.54 1152.13 1531.54 Q1158.27 1531.54 1161.43 1535.36 Q1164.58 1539.14 1164.58 1546.53 Z\" fill=\"#000000\" fill-rule=\"evenodd\" fill-opacity=\"1\" /><path clip-path=\"url(#clip890)\" d=\"M1206.75 1548.76 L1206.75 1551.62 L1179.82 1551.62 Q1180.2 1557.67 1183.45 1560.85 Q1186.73 1564 1192.55 1564 Q1195.93 1564 1199.08 1563.17 Q1202.26 1562.35 1205.38 1560.69 L1205.38 1566.23 Q1202.23 1567.57 1198.92 1568.27 Q1195.61 1568.97 1192.2 1568.97 Q1183.67 1568.97 1178.68 1564 Q1173.71 1559.04 1173.71 1550.57 Q1173.71 1541.82 1178.42 1536.69 Q1183.16 1531.54 1191.18 1531.54 Q1198.38 1531.54 1202.55 1536.18 Q1206.75 1540.8 1206.75 1548.76 M1200.89 1547.04 Q1200.83 1542.23 1198.19 1539.37 Q1195.58 1536.5 1191.25 1536.5 Q1186.35 1536.5 1183.39 1539.27 Q1180.46 1542.04 1180.01 1547.07 L1200.89 1547.04 Z\" fill=\"#000000\" fill-rule=\"evenodd\" fill-opacity=\"1\" /><path clip-path=\"url(#clip890)\" d=\"M1259.81 1533.45 L1259.81 1538.98 Q1257.32 1537.71 1254.65 1537.07 Q1251.98 1536.44 1249.11 1536.44 Q1244.75 1536.44 1242.56 1537.77 Q1240.39 1539.11 1240.39 1541.79 Q1240.39 1543.82 1241.95 1545 Q1243.51 1546.15 1248.22 1547.2 L1250.23 1547.64 Q1256.47 1548.98 1259.08 1551.43 Q1261.72 1553.85 1261.72 1558.21 Q1261.72 1563.17 1257.77 1566.07 Q1253.86 1568.97 1246.98 1568.97 Q1244.12 1568.97 1241 1568.39 Q1237.91 1567.85 1234.47 1566.74 L1234.47 1560.69 Q1237.72 1562.38 1240.87 1563.24 Q1244.02 1564.07 1247.11 1564.07 Q1251.25 1564.07 1253.47 1562.66 Q1255.7 1561.23 1255.7 1558.65 Q1255.7 1556.27 1254.08 1554.99 Q1252.49 1553.72 1247.04 1552.54 L1245.01 1552.07 Q1239.56 1550.92 1237.15 1548.56 Q1234.73 1546.18 1234.73 1542.04 Q1234.73 1537.01 1238.29 1534.27 Q1241.86 1531.54 1248.41 1531.54 Q1251.66 1531.54 1254.52 1532.01 Q1257.39 1532.49 1259.81 1533.45 Z\" fill=\"#000000\" fill-rule=\"evenodd\" fill-opacity=\"1\" /><path clip-path=\"url(#clip890)\" d=\"M1271.04 1532.4 L1276.9 1532.4 L1276.9 1568.04 L1271.04 1568.04 L1271.04 1532.4 M1271.04 1518.52 L1276.9 1518.52 L1276.9 1525.93 L1271.04 1525.93 L1271.04 1518.52 Z\" fill=\"#000000\" fill-rule=\"evenodd\" fill-opacity=\"1\" /><path clip-path=\"url(#clip890)\" d=\"M1316.91 1539.24 Q1319.1 1535.29 1322.16 1533.41 Q1325.21 1531.54 1329.35 1531.54 Q1334.92 1531.54 1337.95 1535.45 Q1340.97 1539.33 1340.97 1546.53 L1340.97 1568.04 L1335.08 1568.04 L1335.08 1546.72 Q1335.08 1541.59 1333.27 1539.11 Q1331.45 1536.63 1327.73 1536.63 Q1323.18 1536.63 1320.54 1539.65 Q1317.89 1542.68 1317.89 1547.9 L1317.89 1568.04 L1312.01 1568.04 L1312.01 1546.72 Q1312.01 1541.56 1310.19 1539.11 Q1308.38 1536.63 1304.59 1536.63 Q1300.1 1536.63 1297.46 1539.68 Q1294.82 1542.71 1294.82 1547.9 L1294.82 1568.04 L1288.93 1568.04 L1288.93 1532.4 L1294.82 1532.4 L1294.82 1537.93 Q1296.82 1534.66 1299.62 1533.1 Q1302.43 1531.54 1306.28 1531.54 Q1310.16 1531.54 1312.87 1533.51 Q1315.6 1535.48 1316.91 1539.24 Z\" fill=\"#000000\" fill-rule=\"evenodd\" fill-opacity=\"1\" /><path clip-path=\"url(#clip890)\" d=\"M1352.65 1532.4 L1358.51 1532.4 L1358.51 1568.04 L1352.65 1568.04 L1352.65 1532.4 M1352.65 1518.52 L1358.51 1518.52 L1358.51 1525.93 L1352.65 1525.93 L1352.65 1518.52 Z\" fill=\"#000000\" fill-rule=\"evenodd\" fill-opacity=\"1\" /><path clip-path=\"url(#clip890)\" d=\"M1370.76 1518.52 L1376.62 1518.52 L1376.62 1568.04 L1370.76 1568.04 L1370.76 1518.52 Z\" fill=\"#000000\" fill-rule=\"evenodd\" fill-opacity=\"1\" /><path clip-path=\"url(#clip890)\" d=\"M1405.07 1550.12 Q1397.97 1550.12 1395.24 1551.75 Q1392.5 1553.37 1392.5 1557.29 Q1392.5 1560.4 1394.54 1562.25 Q1396.61 1564.07 1400.14 1564.07 Q1405.01 1564.07 1407.94 1560.63 Q1410.9 1557.16 1410.9 1551.43 L1410.9 1550.12 L1405.07 1550.12 M1416.75 1547.71 L1416.75 1568.04 L1410.9 1568.04 L1410.9 1562.63 Q1408.89 1565.88 1405.9 1567.44 Q1402.91 1568.97 1398.58 1568.97 Q1393.11 1568.97 1389.86 1565.91 Q1386.64 1562.82 1386.64 1557.67 Q1386.64 1551.65 1390.65 1548.6 Q1394.7 1545.54 1402.69 1545.54 L1410.9 1545.54 L1410.9 1544.97 Q1410.9 1540.93 1408.22 1538.73 Q1405.58 1536.5 1400.78 1536.5 Q1397.72 1536.5 1394.82 1537.23 Q1391.93 1537.97 1389.25 1539.43 L1389.25 1534.02 Q1392.47 1532.78 1395.49 1532.17 Q1398.52 1531.54 1401.38 1531.54 Q1409.11 1531.54 1412.93 1535.55 Q1416.75 1539.56 1416.75 1547.71 Z\" fill=\"#000000\" fill-rule=\"evenodd\" fill-opacity=\"1\" /><path clip-path=\"url(#clip890)\" d=\"M1428.82 1532.4 L1434.67 1532.4 L1434.67 1568.04 L1428.82 1568.04 L1428.82 1532.4 M1428.82 1518.52 L1434.67 1518.52 L1434.67 1525.93 L1428.82 1525.93 L1428.82 1518.52 Z\" fill=\"#000000\" fill-rule=\"evenodd\" fill-opacity=\"1\" /><path clip-path=\"url(#clip890)\" d=\"M1467.58 1537.87 Q1466.6 1537.3 1465.42 1537.04 Q1464.27 1536.76 1462.87 1536.76 Q1457.91 1536.76 1455.23 1540 Q1452.59 1543.22 1452.59 1549.27 L1452.59 1568.04 L1446.7 1568.04 L1446.7 1532.4 L1452.59 1532.4 L1452.59 1537.93 Q1454.44 1534.69 1457.4 1533.13 Q1460.36 1531.54 1464.59 1531.54 Q1465.2 1531.54 1465.93 1531.63 Q1466.66 1531.7 1467.55 1531.85 L1467.58 1537.87 Z\" fill=\"#000000\" fill-rule=\"evenodd\" fill-opacity=\"1\" /><path clip-path=\"url(#clip890)\" d=\"M1479.52 1522.27 L1479.52 1532.4 L1491.58 1532.4 L1491.58 1536.95 L1479.52 1536.95 L1479.52 1556.3 Q1479.52 1560.66 1480.7 1561.9 Q1481.91 1563.14 1485.57 1563.14 L1491.58 1563.14 L1491.58 1568.04 L1485.57 1568.04 Q1478.79 1568.04 1476.21 1565.53 Q1473.63 1562.98 1473.63 1556.3 L1473.63 1536.95 L1469.33 1536.95 L1469.33 1532.4 L1473.63 1532.4 L1473.63 1522.27 L1479.52 1522.27 Z\" fill=\"#000000\" fill-rule=\"evenodd\" fill-opacity=\"1\" /><path clip-path=\"url(#clip890)\" d=\"M1514.12 1571.35 Q1511.63 1577.72 1509.28 1579.66 Q1506.92 1581.6 1502.98 1581.6 L1498.3 1581.6 L1498.3 1576.7 L1501.74 1576.7 Q1504.15 1576.7 1505.49 1575.56 Q1506.83 1574.41 1508.45 1570.14 L1509.5 1567.47 L1495.08 1532.4 L1501.29 1532.4 L1512.43 1560.28 L1523.57 1532.4 L1529.78 1532.4 L1514.12 1571.35 Z\" fill=\"#000000\" fill-rule=\"evenodd\" fill-opacity=\"1\" /><polyline clip-path=\"url(#clip892)\" style=\"stroke:#000000; stroke-linecap:butt; stroke-linejoin:round; stroke-width:2; stroke-opacity:0.1; fill:none\" points=\"\n  172.015,1384.24 2352.76,1384.24 \n  \"/>\n<polyline clip-path=\"url(#clip892)\" style=\"stroke:#000000; stroke-linecap:butt; stroke-linejoin:round; stroke-width:2; stroke-opacity:0.1; fill:none\" points=\"\n  172.015,1110.96 2352.76,1110.96 \n  \"/>\n<polyline clip-path=\"url(#clip892)\" style=\"stroke:#000000; stroke-linecap:butt; stroke-linejoin:round; stroke-width:2; stroke-opacity:0.1; fill:none\" points=\"\n  172.015,837.69 2352.76,837.69 \n  \"/>\n<polyline clip-path=\"url(#clip892)\" style=\"stroke:#000000; stroke-linecap:butt; stroke-linejoin:round; stroke-width:2; stroke-opacity:0.1; fill:none\" points=\"\n  172.015,564.416 2352.76,564.416 \n  \"/>\n<polyline clip-path=\"url(#clip892)\" style=\"stroke:#000000; stroke-linecap:butt; stroke-linejoin:round; stroke-width:2; stroke-opacity:0.1; fill:none\" points=\"\n  172.015,291.141 2352.76,291.141 \n  \"/>\n<polyline clip-path=\"url(#clip890)\" style=\"stroke:#000000; stroke-linecap:butt; stroke-linejoin:round; stroke-width:4; stroke-opacity:1; fill:none\" points=\"\n  172.015,1423.18 172.015,47.2441 \n  \"/>\n<polyline clip-path=\"url(#clip890)\" style=\"stroke:#000000; stroke-linecap:butt; stroke-linejoin:round; stroke-width:4; stroke-opacity:1; fill:none\" points=\"\n  172.015,1384.24 190.912,1384.24 \n  \"/>\n<polyline clip-path=\"url(#clip890)\" style=\"stroke:#000000; stroke-linecap:butt; stroke-linejoin:round; stroke-width:4; stroke-opacity:1; fill:none\" points=\"\n  172.015,1110.96 190.912,1110.96 \n  \"/>\n<polyline clip-path=\"url(#clip890)\" style=\"stroke:#000000; stroke-linecap:butt; stroke-linejoin:round; stroke-width:4; stroke-opacity:1; fill:none\" points=\"\n  172.015,837.69 190.912,837.69 \n  \"/>\n<polyline clip-path=\"url(#clip890)\" style=\"stroke:#000000; stroke-linecap:butt; stroke-linejoin:round; stroke-width:4; stroke-opacity:1; fill:none\" points=\"\n  172.015,564.416 190.912,564.416 \n  \"/>\n<polyline clip-path=\"url(#clip890)\" style=\"stroke:#000000; stroke-linecap:butt; stroke-linejoin:round; stroke-width:4; stroke-opacity:1; fill:none\" points=\"\n  172.015,291.141 190.912,291.141 \n  \"/>\n<path clip-path=\"url(#clip890)\" d=\"M124.07 1370.04 Q120.459 1370.04 118.631 1373.6 Q116.825 1377.14 116.825 1384.27 Q116.825 1391.38 118.631 1394.94 Q120.459 1398.49 124.07 1398.49 Q127.705 1398.49 129.51 1394.94 Q131.339 1391.38 131.339 1384.27 Q131.339 1377.14 129.51 1373.6 Q127.705 1370.04 124.07 1370.04 M124.07 1366.33 Q129.881 1366.33 132.936 1370.94 Q136.015 1375.52 136.015 1384.27 Q136.015 1393 132.936 1397.61 Q129.881 1402.19 124.07 1402.19 Q118.26 1402.19 115.182 1397.61 Q112.126 1393 112.126 1384.27 Q112.126 1375.52 115.182 1370.94 Q118.26 1366.33 124.07 1366.33 Z\" fill=\"#000000\" fill-rule=\"evenodd\" fill-opacity=\"1\" /><path clip-path=\"url(#clip890)\" d=\"M54.5569 1124.31 L62.1958 1124.31 L62.1958 1097.94 L53.8856 1099.61 L53.8856 1095.35 L62.1495 1093.68 L66.8254 1093.68 L66.8254 1124.31 L74.4642 1124.31 L74.4642 1128.24 L54.5569 1128.24 L54.5569 1124.31 Z\" fill=\"#000000\" fill-rule=\"evenodd\" fill-opacity=\"1\" /><path clip-path=\"url(#clip890)\" d=\"M93.9086 1096.76 Q90.2975 1096.76 88.4688 1100.33 Q86.6632 1103.87 86.6632 1111 Q86.6632 1118.11 88.4688 1121.67 Q90.2975 1125.21 93.9086 1125.21 Q97.5428 1125.21 99.3483 1121.67 Q101.177 1118.11 101.177 1111 Q101.177 1103.87 99.3483 1100.33 Q97.5428 1096.76 93.9086 1096.76 M93.9086 1093.06 Q99.7187 1093.06 102.774 1097.67 Q105.853 1102.25 105.853 1111 Q105.853 1119.73 102.774 1124.33 Q99.7187 1128.92 93.9086 1128.92 Q88.0984 1128.92 85.0197 1124.33 Q81.9642 1119.73 81.9642 1111 Q81.9642 1102.25 85.0197 1097.67 Q88.0984 1093.06 93.9086 1093.06 Z\" fill=\"#000000\" fill-rule=\"evenodd\" fill-opacity=\"1\" /><path clip-path=\"url(#clip890)\" d=\"M124.07 1096.76 Q120.459 1096.76 118.631 1100.33 Q116.825 1103.87 116.825 1111 Q116.825 1118.11 118.631 1121.67 Q120.459 1125.21 124.07 1125.21 Q127.705 1125.21 129.51 1121.67 Q131.339 1118.11 131.339 1111 Q131.339 1103.87 129.51 1100.33 Q127.705 1096.76 124.07 1096.76 M124.07 1093.06 Q129.881 1093.06 132.936 1097.67 Q136.015 1102.25 136.015 1111 Q136.015 1119.73 132.936 1124.33 Q129.881 1128.92 124.07 1128.92 Q118.26 1128.92 115.182 1124.33 Q112.126 1119.73 112.126 1111 Q112.126 1102.25 115.182 1097.67 Q118.26 1093.06 124.07 1093.06 Z\" fill=\"#000000\" fill-rule=\"evenodd\" fill-opacity=\"1\" /><path clip-path=\"url(#clip890)\" d=\"M57.7745 851.035 L74.0939 851.035 L74.0939 854.97 L52.1495 854.97 L52.1495 851.035 Q54.8115 848.28 59.3949 843.65 Q64.0013 838.998 65.1819 837.655 Q67.4272 835.132 68.3068 833.396 Q69.2096 831.637 69.2096 829.947 Q69.2096 827.192 67.2652 825.456 Q65.3439 823.72 62.2421 823.72 Q60.043 823.72 57.5893 824.484 Q55.1588 825.248 52.381 826.799 L52.381 822.076 Q55.2051 820.942 57.6588 820.364 Q60.1124 819.785 62.1495 819.785 Q67.5198 819.785 70.7142 822.47 Q73.9087 825.155 73.9087 829.646 Q73.9087 831.775 73.0985 833.697 Q72.3115 835.595 70.205 838.187 Q69.6263 838.859 66.5245 842.076 Q63.4226 845.271 57.7745 851.035 Z\" fill=\"#000000\" fill-rule=\"evenodd\" fill-opacity=\"1\" /><path clip-path=\"url(#clip890)\" d=\"M93.9086 823.488 Q90.2975 823.488 88.4688 827.053 Q86.6632 830.595 86.6632 837.725 Q86.6632 844.831 88.4688 848.396 Q90.2975 851.937 93.9086 851.937 Q97.5428 851.937 99.3483 848.396 Q101.177 844.831 101.177 837.725 Q101.177 830.595 99.3483 827.053 Q97.5428 823.488 93.9086 823.488 M93.9086 819.785 Q99.7187 819.785 102.774 824.391 Q105.853 828.975 105.853 837.725 Q105.853 846.451 102.774 851.058 Q99.7187 855.641 93.9086 855.641 Q88.0984 855.641 85.0197 851.058 Q81.9642 846.451 81.9642 837.725 Q81.9642 828.975 85.0197 824.391 Q88.0984 819.785 93.9086 819.785 Z\" fill=\"#000000\" fill-rule=\"evenodd\" fill-opacity=\"1\" /><path clip-path=\"url(#clip890)\" d=\"M124.07 823.488 Q120.459 823.488 118.631 827.053 Q116.825 830.595 116.825 837.725 Q116.825 844.831 118.631 848.396 Q120.459 851.937 124.07 851.937 Q127.705 851.937 129.51 848.396 Q131.339 844.831 131.339 837.725 Q131.339 830.595 129.51 827.053 Q127.705 823.488 124.07 823.488 M124.07 819.785 Q129.881 819.785 132.936 824.391 Q136.015 828.975 136.015 837.725 Q136.015 846.451 132.936 851.058 Q129.881 855.641 124.07 855.641 Q118.26 855.641 115.182 851.058 Q112.126 846.451 112.126 837.725 Q112.126 828.975 115.182 824.391 Q118.26 819.785 124.07 819.785 Z\" fill=\"#000000\" fill-rule=\"evenodd\" fill-opacity=\"1\" /><path clip-path=\"url(#clip890)\" d=\"M67.9133 563.061 Q71.2698 563.779 73.1448 566.048 Q75.0429 568.316 75.0429 571.649 Q75.0429 576.765 71.5244 579.566 Q68.0059 582.367 61.5245 582.367 Q59.3486 582.367 57.0338 581.927 Q54.7421 581.51 52.2884 580.654 L52.2884 576.14 Q54.2328 577.274 56.5477 577.853 Q58.8625 578.432 61.3856 578.432 Q65.7837 578.432 68.0754 576.696 Q70.3902 574.959 70.3902 571.649 Q70.3902 568.594 68.2374 566.881 Q66.1078 565.145 62.2884 565.145 L58.2606 565.145 L58.2606 561.302 L62.4735 561.302 Q65.9226 561.302 67.7513 559.936 Q69.58 558.548 69.58 555.955 Q69.58 553.293 67.6819 551.881 Q65.8069 550.446 62.2884 550.446 Q60.3671 550.446 58.168 550.862 Q55.969 551.279 53.3301 552.159 L53.3301 547.992 Q55.9921 547.251 58.3069 546.881 Q60.6449 546.511 62.705 546.511 Q68.0291 546.511 71.1309 548.941 Q74.2327 551.349 74.2327 555.469 Q74.2327 558.339 72.5892 560.33 Q70.9457 562.298 67.9133 563.061 Z\" fill=\"#000000\" fill-rule=\"evenodd\" fill-opacity=\"1\" /><path clip-path=\"url(#clip890)\" d=\"M93.9086 550.214 Q90.2975 550.214 88.4688 553.779 Q86.6632 557.321 86.6632 564.45 Q86.6632 571.557 88.4688 575.122 Q90.2975 578.663 93.9086 578.663 Q97.5428 578.663 99.3483 575.122 Q101.177 571.557 101.177 564.45 Q101.177 557.321 99.3483 553.779 Q97.5428 550.214 93.9086 550.214 M93.9086 546.511 Q99.7187 546.511 102.774 551.117 Q105.853 555.7 105.853 564.45 Q105.853 573.177 102.774 577.784 Q99.7187 582.367 93.9086 582.367 Q88.0984 582.367 85.0197 577.784 Q81.9642 573.177 81.9642 564.45 Q81.9642 555.7 85.0197 551.117 Q88.0984 546.511 93.9086 546.511 Z\" fill=\"#000000\" fill-rule=\"evenodd\" fill-opacity=\"1\" /><path clip-path=\"url(#clip890)\" d=\"M124.07 550.214 Q120.459 550.214 118.631 553.779 Q116.825 557.321 116.825 564.45 Q116.825 571.557 118.631 575.122 Q120.459 578.663 124.07 578.663 Q127.705 578.663 129.51 575.122 Q131.339 571.557 131.339 564.45 Q131.339 557.321 129.51 553.779 Q127.705 550.214 124.07 550.214 M124.07 546.511 Q129.881 546.511 132.936 551.117 Q136.015 555.7 136.015 564.45 Q136.015 573.177 132.936 577.784 Q129.881 582.367 124.07 582.367 Q118.26 582.367 115.182 577.784 Q112.126 573.177 112.126 564.45 Q112.126 555.7 115.182 551.117 Q118.26 546.511 124.07 546.511 Z\" fill=\"#000000\" fill-rule=\"evenodd\" fill-opacity=\"1\" /><path clip-path=\"url(#clip890)\" d=\"M66.5939 277.935 L54.7884 296.384 L66.5939 296.384 L66.5939 277.935 M65.367 273.861 L71.2466 273.861 L71.2466 296.384 L76.1772 296.384 L76.1772 300.273 L71.2466 300.273 L71.2466 308.421 L66.5939 308.421 L66.5939 300.273 L50.9921 300.273 L50.9921 295.759 L65.367 273.861 Z\" fill=\"#000000\" fill-rule=\"evenodd\" fill-opacity=\"1\" /><path clip-path=\"url(#clip890)\" d=\"M93.9086 276.94 Q90.2975 276.94 88.4688 280.505 Q86.6632 284.046 86.6632 291.176 Q86.6632 298.283 88.4688 301.847 Q90.2975 305.389 93.9086 305.389 Q97.5428 305.389 99.3483 301.847 Q101.177 298.283 101.177 291.176 Q101.177 284.046 99.3483 280.505 Q97.5428 276.94 93.9086 276.94 M93.9086 273.236 Q99.7187 273.236 102.774 277.843 Q105.853 282.426 105.853 291.176 Q105.853 299.903 102.774 304.509 Q99.7187 309.093 93.9086 309.093 Q88.0984 309.093 85.0197 304.509 Q81.9642 299.903 81.9642 291.176 Q81.9642 282.426 85.0197 277.843 Q88.0984 273.236 93.9086 273.236 Z\" fill=\"#000000\" fill-rule=\"evenodd\" fill-opacity=\"1\" /><path clip-path=\"url(#clip890)\" d=\"M124.07 276.94 Q120.459 276.94 118.631 280.505 Q116.825 284.046 116.825 291.176 Q116.825 298.283 118.631 301.847 Q120.459 305.389 124.07 305.389 Q127.705 305.389 129.51 301.847 Q131.339 298.283 131.339 291.176 Q131.339 284.046 129.51 280.505 Q127.705 276.94 124.07 276.94 M124.07 273.236 Q129.881 273.236 132.936 277.843 Q136.015 282.426 136.015 291.176 Q136.015 299.903 132.936 304.509 Q129.881 309.093 124.07 309.093 Q118.26 309.093 115.182 304.509 Q112.126 299.903 112.126 291.176 Q112.126 282.426 115.182 277.843 Q118.26 273.236 124.07 273.236 Z\" fill=\"#000000\" fill-rule=\"evenodd\" fill-opacity=\"1\" /><path clip-path=\"url(#clip892)\" d=\"\nM1773.77 1381.51 L1773.77 1384.24 L1774.86 1384.24 L1774.86 1381.51 L1773.77 1381.51 L1773.77 1381.51  Z\n  \" fill=\"#009af9\" fill-rule=\"evenodd\" fill-opacity=\"1\"/>\n<polyline clip-path=\"url(#clip892)\" style=\"stroke:#000000; stroke-linecap:butt; stroke-linejoin:round; stroke-width:4; stroke-opacity:1; fill:none\" points=\"\n  1773.77,1381.51 1773.77,1384.24 1774.86,1384.24 1774.86,1381.51 1773.77,1381.51 \n  \"/>\n<path clip-path=\"url(#clip892)\" d=\"\nM1774.86 1384.24 L1774.86 1384.24 L1775.95 1384.24 L1775.95 1384.24 L1774.86 1384.24 L1774.86 1384.24  Z\n  \" fill=\"#009af9\" fill-rule=\"evenodd\" fill-opacity=\"1\"/>\n<polyline clip-path=\"url(#clip892)\" style=\"stroke:#000000; stroke-linecap:butt; stroke-linejoin:round; stroke-width:4; stroke-opacity:1; fill:none\" points=\"\n  1774.86,1384.24 1774.86,1384.24 1775.95,1384.24 1774.86,1384.24 \n  \"/>\n<path clip-path=\"url(#clip892)\" d=\"\nM1775.95 1370.57 L1775.95 1384.24 L1777.04 1384.24 L1777.04 1370.57 L1775.95 1370.57 L1775.95 1370.57  Z\n  \" fill=\"#009af9\" fill-rule=\"evenodd\" fill-opacity=\"1\"/>\n<polyline clip-path=\"url(#clip892)\" style=\"stroke:#000000; stroke-linecap:butt; stroke-linejoin:round; stroke-width:4; stroke-opacity:1; fill:none\" points=\"\n  1775.95,1370.57 1775.95,1384.24 1777.04,1384.24 1777.04,1370.57 1775.95,1370.57 \n  \"/>\n<path clip-path=\"url(#clip892)\" d=\"\nM1777.04 1373.31 L1777.04 1384.24 L1778.13 1384.24 L1778.13 1373.31 L1777.04 1373.31 L1777.04 1373.31  Z\n  \" fill=\"#009af9\" fill-rule=\"evenodd\" fill-opacity=\"1\"/>\n<polyline clip-path=\"url(#clip892)\" style=\"stroke:#000000; stroke-linecap:butt; stroke-linejoin:round; stroke-width:4; stroke-opacity:1; fill:none\" points=\"\n  1777.04,1373.31 1777.04,1384.24 1778.13,1384.24 1778.13,1373.31 1777.04,1373.31 \n  \"/>\n<path clip-path=\"url(#clip892)\" d=\"\nM1778.13 1381.51 L1778.13 1384.24 L1779.22 1384.24 L1779.22 1381.51 L1778.13 1381.51 L1778.13 1381.51  Z\n  \" fill=\"#009af9\" fill-rule=\"evenodd\" fill-opacity=\"1\"/>\n<polyline clip-path=\"url(#clip892)\" style=\"stroke:#000000; stroke-linecap:butt; stroke-linejoin:round; stroke-width:4; stroke-opacity:1; fill:none\" points=\"\n  1778.13,1381.51 1778.13,1384.24 1779.22,1384.24 1779.22,1381.51 1778.13,1381.51 \n  \"/>\n<path clip-path=\"url(#clip892)\" d=\"\nM1779.22 1367.84 L1779.22 1384.24 L1780.31 1384.24 L1780.31 1367.84 L1779.22 1367.84 L1779.22 1367.84  Z\n  \" fill=\"#009af9\" fill-rule=\"evenodd\" fill-opacity=\"1\"/>\n<polyline clip-path=\"url(#clip892)\" style=\"stroke:#000000; stroke-linecap:butt; stroke-linejoin:round; stroke-width:4; stroke-opacity:1; fill:none\" points=\"\n  1779.22,1367.84 1779.22,1384.24 1780.31,1384.24 1780.31,1367.84 1779.22,1367.84 \n  \"/>\n<path clip-path=\"url(#clip892)\" d=\"\nM1780.31 1356.91 L1780.31 1384.24 L1781.4 1384.24 L1781.4 1356.91 L1780.31 1356.91 L1780.31 1356.91  Z\n  \" fill=\"#009af9\" fill-rule=\"evenodd\" fill-opacity=\"1\"/>\n<polyline clip-path=\"url(#clip892)\" style=\"stroke:#000000; stroke-linecap:butt; stroke-linejoin:round; stroke-width:4; stroke-opacity:1; fill:none\" points=\"\n  1780.31,1356.91 1780.31,1384.24 1781.4,1384.24 1781.4,1356.91 1780.31,1356.91 \n  \"/>\n<path clip-path=\"url(#clip892)\" d=\"\nM1781.4 1359.64 L1781.4 1384.24 L1782.49 1384.24 L1782.49 1359.64 L1781.4 1359.64 L1781.4 1359.64  Z\n  \" fill=\"#009af9\" fill-rule=\"evenodd\" fill-opacity=\"1\"/>\n<polyline clip-path=\"url(#clip892)\" style=\"stroke:#000000; stroke-linecap:butt; stroke-linejoin:round; stroke-width:4; stroke-opacity:1; fill:none\" points=\"\n  1781.4,1359.64 1781.4,1384.24 1782.49,1384.24 1782.49,1359.64 1781.4,1359.64 \n  \"/>\n<path clip-path=\"url(#clip892)\" d=\"\nM1782.49 1345.98 L1782.49 1384.24 L1783.58 1384.24 L1783.58 1345.98 L1782.49 1345.98 L1782.49 1345.98  Z\n  \" fill=\"#009af9\" fill-rule=\"evenodd\" fill-opacity=\"1\"/>\n<polyline clip-path=\"url(#clip892)\" style=\"stroke:#000000; stroke-linecap:butt; stroke-linejoin:round; stroke-width:4; stroke-opacity:1; fill:none\" points=\"\n  1782.49,1345.98 1782.49,1384.24 1783.58,1384.24 1783.58,1345.98 1782.49,1345.98 \n  \"/>\n<path clip-path=\"url(#clip892)\" d=\"\nM1783.58 1321.39 L1783.58 1384.24 L1784.67 1384.24 L1784.67 1321.39 L1783.58 1321.39 L1783.58 1321.39  Z\n  \" fill=\"#009af9\" fill-rule=\"evenodd\" fill-opacity=\"1\"/>\n<polyline clip-path=\"url(#clip892)\" style=\"stroke:#000000; stroke-linecap:butt; stroke-linejoin:round; stroke-width:4; stroke-opacity:1; fill:none\" points=\"\n  1783.58,1321.39 1783.58,1384.24 1784.67,1384.24 1784.67,1321.39 1783.58,1321.39 \n  \"/>\n<path clip-path=\"url(#clip892)\" d=\"\nM1784.67 1307.72 L1784.67 1384.24 L1785.76 1384.24 L1785.76 1307.72 L1784.67 1307.72 L1784.67 1307.72  Z\n  \" fill=\"#009af9\" fill-rule=\"evenodd\" fill-opacity=\"1\"/>\n<polyline clip-path=\"url(#clip892)\" style=\"stroke:#000000; stroke-linecap:butt; stroke-linejoin:round; stroke-width:4; stroke-opacity:1; fill:none\" points=\"\n  1784.67,1307.72 1784.67,1384.24 1785.76,1384.24 1785.76,1307.72 1784.67,1307.72 \n  \"/>\n<path clip-path=\"url(#clip892)\" d=\"\nM1785.76 1310.45 L1785.76 1384.24 L1786.85 1384.24 L1786.85 1310.45 L1785.76 1310.45 L1785.76 1310.45  Z\n  \" fill=\"#009af9\" fill-rule=\"evenodd\" fill-opacity=\"1\"/>\n<polyline clip-path=\"url(#clip892)\" style=\"stroke:#000000; stroke-linecap:butt; stroke-linejoin:round; stroke-width:4; stroke-opacity:1; fill:none\" points=\"\n  1785.76,1310.45 1785.76,1384.24 1786.85,1384.24 1786.85,1310.45 1785.76,1310.45 \n  \"/>\n<path clip-path=\"url(#clip892)\" d=\"\nM1786.85 1250.33 L1786.85 1384.24 L1787.94 1384.24 L1787.94 1250.33 L1786.85 1250.33 L1786.85 1250.33  Z\n  \" fill=\"#009af9\" fill-rule=\"evenodd\" fill-opacity=\"1\"/>\n<polyline clip-path=\"url(#clip892)\" style=\"stroke:#000000; stroke-linecap:butt; stroke-linejoin:round; stroke-width:4; stroke-opacity:1; fill:none\" points=\"\n  1786.85,1250.33 1786.85,1384.24 1787.94,1384.24 1787.94,1250.33 1786.85,1250.33 \n  \"/>\n<path clip-path=\"url(#clip892)\" d=\"\nM1787.94 1206.61 L1787.94 1384.24 L1789.03 1384.24 L1789.03 1206.61 L1787.94 1206.61 L1787.94 1206.61  Z\n  \" fill=\"#009af9\" fill-rule=\"evenodd\" fill-opacity=\"1\"/>\n<polyline clip-path=\"url(#clip892)\" style=\"stroke:#000000; stroke-linecap:butt; stroke-linejoin:round; stroke-width:4; stroke-opacity:1; fill:none\" points=\"\n  1787.94,1206.61 1787.94,1384.24 1789.03,1384.24 1789.03,1206.61 1787.94,1206.61 \n  \"/>\n<path clip-path=\"url(#clip892)\" d=\"\nM1789.03 1141.02 L1789.03 1384.24 L1790.12 1384.24 L1790.12 1141.02 L1789.03 1141.02 L1789.03 1141.02  Z\n  \" fill=\"#009af9\" fill-rule=\"evenodd\" fill-opacity=\"1\"/>\n<polyline clip-path=\"url(#clip892)\" style=\"stroke:#000000; stroke-linecap:butt; stroke-linejoin:round; stroke-width:4; stroke-opacity:1; fill:none\" points=\"\n  1789.03,1141.02 1789.03,1384.24 1790.12,1384.24 1790.12,1141.02 1789.03,1141.02 \n  \"/>\n<path clip-path=\"url(#clip892)\" d=\"\nM1790.12 1130.09 L1790.12 1384.24 L1791.22 1384.24 L1791.22 1130.09 L1790.12 1130.09 L1790.12 1130.09  Z\n  \" fill=\"#009af9\" fill-rule=\"evenodd\" fill-opacity=\"1\"/>\n<polyline clip-path=\"url(#clip892)\" style=\"stroke:#000000; stroke-linecap:butt; stroke-linejoin:round; stroke-width:4; stroke-opacity:1; fill:none\" points=\"\n  1790.12,1130.09 1790.12,1384.24 1791.22,1384.24 1791.22,1130.09 1790.12,1130.09 \n  \"/>\n<path clip-path=\"url(#clip892)\" d=\"\nM1791.22 1110.96 L1791.22 1384.24 L1792.31 1384.24 L1792.31 1110.96 L1791.22 1110.96 L1791.22 1110.96  Z\n  \" fill=\"#009af9\" fill-rule=\"evenodd\" fill-opacity=\"1\"/>\n<polyline clip-path=\"url(#clip892)\" style=\"stroke:#000000; stroke-linecap:butt; stroke-linejoin:round; stroke-width:4; stroke-opacity:1; fill:none\" points=\"\n  1791.22,1110.96 1791.22,1384.24 1792.31,1384.24 1792.31,1110.96 1791.22,1110.96 \n  \"/>\n<path clip-path=\"url(#clip892)\" d=\"\nM1792.31 1009.85 L1792.31 1384.24 L1793.4 1384.24 L1793.4 1009.85 L1792.31 1009.85 L1792.31 1009.85  Z\n  \" fill=\"#009af9\" fill-rule=\"evenodd\" fill-opacity=\"1\"/>\n<polyline clip-path=\"url(#clip892)\" style=\"stroke:#000000; stroke-linecap:butt; stroke-linejoin:round; stroke-width:4; stroke-opacity:1; fill:none\" points=\"\n  1792.31,1009.85 1792.31,1384.24 1793.4,1384.24 1793.4,1009.85 1792.31,1009.85 \n  \"/>\n<path clip-path=\"url(#clip892)\" d=\"\nM1793.4 977.06 L1793.4 1384.24 L1794.49 1384.24 L1794.49 977.06 L1793.4 977.06 L1793.4 977.06  Z\n  \" fill=\"#009af9\" fill-rule=\"evenodd\" fill-opacity=\"1\"/>\n<polyline clip-path=\"url(#clip892)\" style=\"stroke:#000000; stroke-linecap:butt; stroke-linejoin:round; stroke-width:4; stroke-opacity:1; fill:none\" points=\"\n  1793.4,977.06 1793.4,1384.24 1794.49,1384.24 1794.49,977.06 1793.4,977.06 \n  \"/>\n<path clip-path=\"url(#clip892)\" d=\"\nM1794.49 925.138 L1794.49 1384.24 L1795.58 1384.24 L1795.58 925.138 L1794.49 925.138 L1794.49 925.138  Z\n  \" fill=\"#009af9\" fill-rule=\"evenodd\" fill-opacity=\"1\"/>\n<polyline clip-path=\"url(#clip892)\" style=\"stroke:#000000; stroke-linecap:butt; stroke-linejoin:round; stroke-width:4; stroke-opacity:1; fill:none\" points=\"\n  1794.49,925.138 1794.49,1384.24 1795.58,1384.24 1795.58,925.138 1794.49,925.138 \n  \"/>\n<path clip-path=\"url(#clip892)\" d=\"\nM1795.58 799.431 L1795.58 1384.24 L1796.67 1384.24 L1796.67 799.431 L1795.58 799.431 L1795.58 799.431  Z\n  \" fill=\"#009af9\" fill-rule=\"evenodd\" fill-opacity=\"1\"/>\n<polyline clip-path=\"url(#clip892)\" style=\"stroke:#000000; stroke-linecap:butt; stroke-linejoin:round; stroke-width:4; stroke-opacity:1; fill:none\" points=\"\n  1795.58,799.431 1795.58,1384.24 1796.67,1384.24 1796.67,799.431 1795.58,799.431 \n  \"/>\n<path clip-path=\"url(#clip892)\" d=\"\nM1796.67 687.389 L1796.67 1384.24 L1797.76 1384.24 L1797.76 687.389 L1796.67 687.389 L1796.67 687.389  Z\n  \" fill=\"#009af9\" fill-rule=\"evenodd\" fill-opacity=\"1\"/>\n<polyline clip-path=\"url(#clip892)\" style=\"stroke:#000000; stroke-linecap:butt; stroke-linejoin:round; stroke-width:4; stroke-opacity:1; fill:none\" points=\"\n  1796.67,687.389 1796.67,1384.24 1797.76,1384.24 1797.76,687.389 1796.67,687.389 \n  \"/>\n<path clip-path=\"url(#clip892)\" d=\"\nM1797.76 673.725 L1797.76 1384.24 L1798.85 1384.24 L1798.85 673.725 L1797.76 673.725 L1797.76 673.725  Z\n  \" fill=\"#009af9\" fill-rule=\"evenodd\" fill-opacity=\"1\"/>\n<polyline clip-path=\"url(#clip892)\" style=\"stroke:#000000; stroke-linecap:butt; stroke-linejoin:round; stroke-width:4; stroke-opacity:1; fill:none\" points=\"\n  1797.76,673.725 1797.76,1384.24 1798.85,1384.24 1798.85,673.725 1797.76,673.725 \n  \"/>\n<path clip-path=\"url(#clip892)\" d=\"\nM1798.85 504.295 L1798.85 1384.24 L1799.94 1384.24 L1799.94 504.295 L1798.85 504.295 L1798.85 504.295  Z\n  \" fill=\"#009af9\" fill-rule=\"evenodd\" fill-opacity=\"1\"/>\n<polyline clip-path=\"url(#clip892)\" style=\"stroke:#000000; stroke-linecap:butt; stroke-linejoin:round; stroke-width:4; stroke-opacity:1; fill:none\" points=\"\n  1798.85,504.295 1798.85,1384.24 1799.94,1384.24 1799.94,504.295 1798.85,504.295 \n  \"/>\n<path clip-path=\"url(#clip892)\" d=\"\nM1799.94 474.235 L1799.94 1384.24 L1801.03 1384.24 L1801.03 474.235 L1799.94 474.235 L1799.94 474.235  Z\n  \" fill=\"#009af9\" fill-rule=\"evenodd\" fill-opacity=\"1\"/>\n<polyline clip-path=\"url(#clip892)\" style=\"stroke:#000000; stroke-linecap:butt; stroke-linejoin:round; stroke-width:4; stroke-opacity:1; fill:none\" points=\"\n  1799.94,474.235 1799.94,1384.24 1801.03,1384.24 1801.03,474.235 1799.94,474.235 \n  \"/>\n<path clip-path=\"url(#clip892)\" d=\"\nM1801.03 356.727 L1801.03 1384.24 L1802.12 1384.24 L1802.12 356.727 L1801.03 356.727 L1801.03 356.727  Z\n  \" fill=\"#009af9\" fill-rule=\"evenodd\" fill-opacity=\"1\"/>\n<polyline clip-path=\"url(#clip892)\" style=\"stroke:#000000; stroke-linecap:butt; stroke-linejoin:round; stroke-width:4; stroke-opacity:1; fill:none\" points=\"\n  1801.03,356.727 1801.03,1384.24 1802.12,1384.24 1802.12,356.727 1801.03,356.727 \n  \"/>\n<path clip-path=\"url(#clip892)\" d=\"\nM1802.12 340.331 L1802.12 1384.24 L1803.21 1384.24 L1803.21 340.331 L1802.12 340.331 L1802.12 340.331  Z\n  \" fill=\"#009af9\" fill-rule=\"evenodd\" fill-opacity=\"1\"/>\n<polyline clip-path=\"url(#clip892)\" style=\"stroke:#000000; stroke-linecap:butt; stroke-linejoin:round; stroke-width:4; stroke-opacity:1; fill:none\" points=\"\n  1802.12,340.331 1802.12,1384.24 1803.21,1384.24 1803.21,340.331 1802.12,340.331 \n  \"/>\n<path clip-path=\"url(#clip892)\" d=\"\nM1803.21 274.745 L1803.21 1384.24 L1804.3 1384.24 L1804.3 274.745 L1803.21 274.745 L1803.21 274.745  Z\n  \" fill=\"#009af9\" fill-rule=\"evenodd\" fill-opacity=\"1\"/>\n<polyline clip-path=\"url(#clip892)\" style=\"stroke:#000000; stroke-linecap:butt; stroke-linejoin:round; stroke-width:4; stroke-opacity:1; fill:none\" points=\"\n  1803.21,274.745 1803.21,1384.24 1804.3,1384.24 1804.3,274.745 1803.21,274.745 \n  \"/>\n<path clip-path=\"url(#clip892)\" d=\"\nM1804.3 132.642 L1804.3 1384.24 L1805.39 1384.24 L1805.39 132.642 L1804.3 132.642 L1804.3 132.642  Z\n  \" fill=\"#009af9\" fill-rule=\"evenodd\" fill-opacity=\"1\"/>\n<polyline clip-path=\"url(#clip892)\" style=\"stroke:#000000; stroke-linecap:butt; stroke-linejoin:round; stroke-width:4; stroke-opacity:1; fill:none\" points=\"\n  1804.3,132.642 1804.3,1384.24 1805.39,1384.24 1805.39,132.642 1804.3,132.642 \n  \"/>\n<path clip-path=\"url(#clip892)\" d=\"\nM1805.39 143.573 L1805.39 1384.24 L1806.48 1384.24 L1806.48 143.573 L1805.39 143.573 L1805.39 143.573  Z\n  \" fill=\"#009af9\" fill-rule=\"evenodd\" fill-opacity=\"1\"/>\n<polyline clip-path=\"url(#clip892)\" style=\"stroke:#000000; stroke-linecap:butt; stroke-linejoin:round; stroke-width:4; stroke-opacity:1; fill:none\" points=\"\n  1805.39,143.573 1805.39,1384.24 1806.48,1384.24 1806.48,143.573 1805.39,143.573 \n  \"/>\n<path clip-path=\"url(#clip892)\" d=\"\nM1806.48 135.375 L1806.48 1384.24 L1807.57 1384.24 L1807.57 135.375 L1806.48 135.375 L1806.48 135.375  Z\n  \" fill=\"#009af9\" fill-rule=\"evenodd\" fill-opacity=\"1\"/>\n<polyline clip-path=\"url(#clip892)\" style=\"stroke:#000000; stroke-linecap:butt; stroke-linejoin:round; stroke-width:4; stroke-opacity:1; fill:none\" points=\"\n  1806.48,135.375 1806.48,1384.24 1807.57,1384.24 1807.57,135.375 1806.48,135.375 \n  \"/>\n<path clip-path=\"url(#clip892)\" d=\"\nM1807.57 159.97 L1807.57 1384.24 L1808.66 1384.24 L1808.66 159.97 L1807.57 159.97 L1807.57 159.97  Z\n  \" fill=\"#009af9\" fill-rule=\"evenodd\" fill-opacity=\"1\"/>\n<polyline clip-path=\"url(#clip892)\" style=\"stroke:#000000; stroke-linecap:butt; stroke-linejoin:round; stroke-width:4; stroke-opacity:1; fill:none\" points=\"\n  1807.57,159.97 1807.57,1384.24 1808.66,1384.24 1808.66,159.97 1807.57,159.97 \n  \"/>\n<path clip-path=\"url(#clip892)\" d=\"\nM1808.66 86.1857 L1808.66 1384.24 L1809.75 1384.24 L1809.75 86.1857 L1808.66 86.1857 L1808.66 86.1857  Z\n  \" fill=\"#009af9\" fill-rule=\"evenodd\" fill-opacity=\"1\"/>\n<polyline clip-path=\"url(#clip892)\" style=\"stroke:#000000; stroke-linecap:butt; stroke-linejoin:round; stroke-width:4; stroke-opacity:1; fill:none\" points=\"\n  1808.66,86.1857 1808.66,1384.24 1809.75,1384.24 1809.75,86.1857 1808.66,86.1857 \n  \"/>\n<path clip-path=\"url(#clip892)\" d=\"\nM1809.75 168.168 L1809.75 1384.24 L1810.84 1384.24 L1810.84 168.168 L1809.75 168.168 L1809.75 168.168  Z\n  \" fill=\"#009af9\" fill-rule=\"evenodd\" fill-opacity=\"1\"/>\n<polyline clip-path=\"url(#clip892)\" style=\"stroke:#000000; stroke-linecap:butt; stroke-linejoin:round; stroke-width:4; stroke-opacity:1; fill:none\" points=\"\n  1809.75,168.168 1809.75,1384.24 1810.84,1384.24 1810.84,168.168 1809.75,168.168 \n  \"/>\n<path clip-path=\"url(#clip892)\" d=\"\nM1810.84 179.099 L1810.84 1384.24 L1811.93 1384.24 L1811.93 179.099 L1810.84 179.099 L1810.84 179.099  Z\n  \" fill=\"#009af9\" fill-rule=\"evenodd\" fill-opacity=\"1\"/>\n<polyline clip-path=\"url(#clip892)\" style=\"stroke:#000000; stroke-linecap:butt; stroke-linejoin:round; stroke-width:4; stroke-opacity:1; fill:none\" points=\"\n  1810.84,179.099 1810.84,1384.24 1811.93,1384.24 1811.93,179.099 1810.84,179.099 \n  \"/>\n<path clip-path=\"url(#clip892)\" d=\"\nM1811.93 302.072 L1811.93 1384.24 L1813.02 1384.24 L1813.02 302.072 L1811.93 302.072 L1811.93 302.072  Z\n  \" fill=\"#009af9\" fill-rule=\"evenodd\" fill-opacity=\"1\"/>\n<polyline clip-path=\"url(#clip892)\" style=\"stroke:#000000; stroke-linecap:butt; stroke-linejoin:round; stroke-width:4; stroke-opacity:1; fill:none\" points=\"\n  1811.93,302.072 1811.93,1384.24 1813.02,1384.24 1813.02,302.072 1811.93,302.072 \n  \"/>\n<path clip-path=\"url(#clip892)\" d=\"\nM1813.02 362.193 L1813.02 1384.24 L1814.11 1384.24 L1814.11 362.193 L1813.02 362.193 L1813.02 362.193  Z\n  \" fill=\"#009af9\" fill-rule=\"evenodd\" fill-opacity=\"1\"/>\n<polyline clip-path=\"url(#clip892)\" style=\"stroke:#000000; stroke-linecap:butt; stroke-linejoin:round; stroke-width:4; stroke-opacity:1; fill:none\" points=\"\n  1813.02,362.193 1813.02,1384.24 1814.11,1384.24 1814.11,362.193 1813.02,362.193 \n  \"/>\n<path clip-path=\"url(#clip892)\" d=\"\nM1814.11 446.908 L1814.11 1384.24 L1815.2 1384.24 L1815.2 446.908 L1814.11 446.908 L1814.11 446.908  Z\n  \" fill=\"#009af9\" fill-rule=\"evenodd\" fill-opacity=\"1\"/>\n<polyline clip-path=\"url(#clip892)\" style=\"stroke:#000000; stroke-linecap:butt; stroke-linejoin:round; stroke-width:4; stroke-opacity:1; fill:none\" points=\"\n  1814.11,446.908 1814.11,1384.24 1815.2,1384.24 1815.2,446.908 1814.11,446.908 \n  \"/>\n<path clip-path=\"url(#clip892)\" d=\"\nM1815.2 504.295 L1815.2 1384.24 L1816.29 1384.24 L1816.29 504.295 L1815.2 504.295 L1815.2 504.295  Z\n  \" fill=\"#009af9\" fill-rule=\"evenodd\" fill-opacity=\"1\"/>\n<polyline clip-path=\"url(#clip892)\" style=\"stroke:#000000; stroke-linecap:butt; stroke-linejoin:round; stroke-width:4; stroke-opacity:1; fill:none\" points=\"\n  1815.2,504.295 1815.2,1384.24 1816.29,1384.24 1816.29,504.295 1815.2,504.295 \n  \"/>\n<path clip-path=\"url(#clip892)\" d=\"\nM1816.29 528.89 L1816.29 1384.24 L1817.38 1384.24 L1817.38 528.89 L1816.29 528.89 L1816.29 528.89  Z\n  \" fill=\"#009af9\" fill-rule=\"evenodd\" fill-opacity=\"1\"/>\n<polyline clip-path=\"url(#clip892)\" style=\"stroke:#000000; stroke-linecap:butt; stroke-linejoin:round; stroke-width:4; stroke-opacity:1; fill:none\" points=\"\n  1816.29,528.89 1816.29,1384.24 1817.38,1384.24 1817.38,528.89 1816.29,528.89 \n  \"/>\n<path clip-path=\"url(#clip892)\" d=\"\nM1817.38 640.932 L1817.38 1384.24 L1818.47 1384.24 L1818.47 640.932 L1817.38 640.932 L1817.38 640.932  Z\n  \" fill=\"#009af9\" fill-rule=\"evenodd\" fill-opacity=\"1\"/>\n<polyline clip-path=\"url(#clip892)\" style=\"stroke:#000000; stroke-linecap:butt; stroke-linejoin:round; stroke-width:4; stroke-opacity:1; fill:none\" points=\"\n  1817.38,640.932 1817.38,1384.24 1818.47,1384.24 1818.47,640.932 1817.38,640.932 \n  \"/>\n<path clip-path=\"url(#clip892)\" d=\"\nM1818.47 772.104 L1818.47 1384.24 L1819.56 1384.24 L1819.56 772.104 L1818.47 772.104 L1818.47 772.104  Z\n  \" fill=\"#009af9\" fill-rule=\"evenodd\" fill-opacity=\"1\"/>\n<polyline clip-path=\"url(#clip892)\" style=\"stroke:#000000; stroke-linecap:butt; stroke-linejoin:round; stroke-width:4; stroke-opacity:1; fill:none\" points=\"\n  1818.47,772.104 1818.47,1384.24 1819.56,1384.24 1819.56,772.104 1818.47,772.104 \n  \"/>\n<path clip-path=\"url(#clip892)\" d=\"\nM1819.56 793.966 L1819.56 1384.24 L1820.66 1384.24 L1820.66 793.966 L1819.56 793.966 L1819.56 793.966  Z\n  \" fill=\"#009af9\" fill-rule=\"evenodd\" fill-opacity=\"1\"/>\n<polyline clip-path=\"url(#clip892)\" style=\"stroke:#000000; stroke-linecap:butt; stroke-linejoin:round; stroke-width:4; stroke-opacity:1; fill:none\" points=\"\n  1819.56,793.966 1819.56,1384.24 1820.66,1384.24 1820.66,793.966 1819.56,793.966 \n  \"/>\n<path clip-path=\"url(#clip892)\" d=\"\nM1820.66 925.138 L1820.66 1384.24 L1821.75 1384.24 L1821.75 925.138 L1820.66 925.138 L1820.66 925.138  Z\n  \" fill=\"#009af9\" fill-rule=\"evenodd\" fill-opacity=\"1\"/>\n<polyline clip-path=\"url(#clip892)\" style=\"stroke:#000000; stroke-linecap:butt; stroke-linejoin:round; stroke-width:4; stroke-opacity:1; fill:none\" points=\"\n  1820.66,925.138 1820.66,1384.24 1821.75,1384.24 1821.75,925.138 1820.66,925.138 \n  \"/>\n<path clip-path=\"url(#clip892)\" d=\"\nM1821.75 982.525 L1821.75 1384.24 L1822.84 1384.24 L1822.84 982.525 L1821.75 982.525 L1821.75 982.525  Z\n  \" fill=\"#009af9\" fill-rule=\"evenodd\" fill-opacity=\"1\"/>\n<polyline clip-path=\"url(#clip892)\" style=\"stroke:#000000; stroke-linecap:butt; stroke-linejoin:round; stroke-width:4; stroke-opacity:1; fill:none\" points=\"\n  1821.75,982.525 1821.75,1384.24 1822.84,1384.24 1822.84,982.525 1821.75,982.525 \n  \"/>\n<path clip-path=\"url(#clip892)\" d=\"\nM1822.84 1100.03 L1822.84 1384.24 L1823.93 1384.24 L1823.93 1100.03 L1822.84 1100.03 L1822.84 1100.03  Z\n  \" fill=\"#009af9\" fill-rule=\"evenodd\" fill-opacity=\"1\"/>\n<polyline clip-path=\"url(#clip892)\" style=\"stroke:#000000; stroke-linecap:butt; stroke-linejoin:round; stroke-width:4; stroke-opacity:1; fill:none\" points=\"\n  1822.84,1100.03 1822.84,1384.24 1823.93,1384.24 1823.93,1100.03 1822.84,1100.03 \n  \"/>\n<path clip-path=\"url(#clip892)\" d=\"\nM1823.93 1151.96 L1823.93 1384.24 L1825.02 1384.24 L1825.02 1151.96 L1823.93 1151.96 L1823.93 1151.96  Z\n  \" fill=\"#009af9\" fill-rule=\"evenodd\" fill-opacity=\"1\"/>\n<polyline clip-path=\"url(#clip892)\" style=\"stroke:#000000; stroke-linecap:butt; stroke-linejoin:round; stroke-width:4; stroke-opacity:1; fill:none\" points=\"\n  1823.93,1151.96 1823.93,1384.24 1825.02,1384.24 1825.02,1151.96 1823.93,1151.96 \n  \"/>\n<path clip-path=\"url(#clip892)\" d=\"\nM1825.02 1119.16 L1825.02 1384.24 L1826.11 1384.24 L1826.11 1119.16 L1825.02 1119.16 L1825.02 1119.16  Z\n  \" fill=\"#009af9\" fill-rule=\"evenodd\" fill-opacity=\"1\"/>\n<polyline clip-path=\"url(#clip892)\" style=\"stroke:#000000; stroke-linecap:butt; stroke-linejoin:round; stroke-width:4; stroke-opacity:1; fill:none\" points=\"\n  1825.02,1119.16 1825.02,1384.24 1826.11,1384.24 1826.11,1119.16 1825.02,1119.16 \n  \"/>\n<path clip-path=\"url(#clip892)\" d=\"\nM1826.11 1228.47 L1826.11 1384.24 L1827.2 1384.24 L1827.2 1228.47 L1826.11 1228.47 L1826.11 1228.47  Z\n  \" fill=\"#009af9\" fill-rule=\"evenodd\" fill-opacity=\"1\"/>\n<polyline clip-path=\"url(#clip892)\" style=\"stroke:#000000; stroke-linecap:butt; stroke-linejoin:round; stroke-width:4; stroke-opacity:1; fill:none\" points=\"\n  1826.11,1228.47 1826.11,1384.24 1827.2,1384.24 1827.2,1228.47 1826.11,1228.47 \n  \"/>\n<path clip-path=\"url(#clip892)\" d=\"\nM1827.2 1255.8 L1827.2 1384.24 L1828.29 1384.24 L1828.29 1255.8 L1827.2 1255.8 L1827.2 1255.8  Z\n  \" fill=\"#009af9\" fill-rule=\"evenodd\" fill-opacity=\"1\"/>\n<polyline clip-path=\"url(#clip892)\" style=\"stroke:#000000; stroke-linecap:butt; stroke-linejoin:round; stroke-width:4; stroke-opacity:1; fill:none\" points=\"\n  1827.2,1255.8 1827.2,1384.24 1828.29,1384.24 1828.29,1255.8 1827.2,1255.8 \n  \"/>\n<path clip-path=\"url(#clip892)\" d=\"\nM1828.29 1283.13 L1828.29 1384.24 L1829.38 1384.24 L1829.38 1283.13 L1828.29 1283.13 L1828.29 1283.13  Z\n  \" fill=\"#009af9\" fill-rule=\"evenodd\" fill-opacity=\"1\"/>\n<polyline clip-path=\"url(#clip892)\" style=\"stroke:#000000; stroke-linecap:butt; stroke-linejoin:round; stroke-width:4; stroke-opacity:1; fill:none\" points=\"\n  1828.29,1283.13 1828.29,1384.24 1829.38,1384.24 1829.38,1283.13 1828.29,1283.13 \n  \"/>\n<path clip-path=\"url(#clip892)\" d=\"\nM1829.38 1324.12 L1829.38 1384.24 L1830.47 1384.24 L1830.47 1324.12 L1829.38 1324.12 L1829.38 1324.12  Z\n  \" fill=\"#009af9\" fill-rule=\"evenodd\" fill-opacity=\"1\"/>\n<polyline clip-path=\"url(#clip892)\" style=\"stroke:#000000; stroke-linecap:butt; stroke-linejoin:round; stroke-width:4; stroke-opacity:1; fill:none\" points=\"\n  1829.38,1324.12 1829.38,1384.24 1830.47,1384.24 1830.47,1324.12 1829.38,1324.12 \n  \"/>\n<path clip-path=\"url(#clip892)\" d=\"\nM1830.47 1321.39 L1830.47 1384.24 L1831.56 1384.24 L1831.56 1321.39 L1830.47 1321.39 L1830.47 1321.39  Z\n  \" fill=\"#009af9\" fill-rule=\"evenodd\" fill-opacity=\"1\"/>\n<polyline clip-path=\"url(#clip892)\" style=\"stroke:#000000; stroke-linecap:butt; stroke-linejoin:round; stroke-width:4; stroke-opacity:1; fill:none\" points=\"\n  1830.47,1321.39 1830.47,1384.24 1831.56,1384.24 1831.56,1321.39 1830.47,1321.39 \n  \"/>\n<path clip-path=\"url(#clip892)\" d=\"\nM1831.56 1348.71 L1831.56 1384.24 L1832.65 1384.24 L1832.65 1348.71 L1831.56 1348.71 L1831.56 1348.71  Z\n  \" fill=\"#009af9\" fill-rule=\"evenodd\" fill-opacity=\"1\"/>\n<polyline clip-path=\"url(#clip892)\" style=\"stroke:#000000; stroke-linecap:butt; stroke-linejoin:round; stroke-width:4; stroke-opacity:1; fill:none\" points=\"\n  1831.56,1348.71 1831.56,1384.24 1832.65,1384.24 1832.65,1348.71 1831.56,1348.71 \n  \"/>\n<path clip-path=\"url(#clip892)\" d=\"\nM1832.65 1351.45 L1832.65 1384.24 L1833.74 1384.24 L1833.74 1351.45 L1832.65 1351.45 L1832.65 1351.45  Z\n  \" fill=\"#009af9\" fill-rule=\"evenodd\" fill-opacity=\"1\"/>\n<polyline clip-path=\"url(#clip892)\" style=\"stroke:#000000; stroke-linecap:butt; stroke-linejoin:round; stroke-width:4; stroke-opacity:1; fill:none\" points=\"\n  1832.65,1351.45 1832.65,1384.24 1833.74,1384.24 1833.74,1351.45 1832.65,1351.45 \n  \"/>\n<path clip-path=\"url(#clip892)\" d=\"\nM1833.74 1370.57 L1833.74 1384.24 L1834.83 1384.24 L1834.83 1370.57 L1833.74 1370.57 L1833.74 1370.57  Z\n  \" fill=\"#009af9\" fill-rule=\"evenodd\" fill-opacity=\"1\"/>\n<polyline clip-path=\"url(#clip892)\" style=\"stroke:#000000; stroke-linecap:butt; stroke-linejoin:round; stroke-width:4; stroke-opacity:1; fill:none\" points=\"\n  1833.74,1370.57 1833.74,1384.24 1834.83,1384.24 1834.83,1370.57 1833.74,1370.57 \n  \"/>\n<path clip-path=\"url(#clip892)\" d=\"\nM1834.83 1367.84 L1834.83 1384.24 L1835.92 1384.24 L1835.92 1367.84 L1834.83 1367.84 L1834.83 1367.84  Z\n  \" fill=\"#009af9\" fill-rule=\"evenodd\" fill-opacity=\"1\"/>\n<polyline clip-path=\"url(#clip892)\" style=\"stroke:#000000; stroke-linecap:butt; stroke-linejoin:round; stroke-width:4; stroke-opacity:1; fill:none\" points=\"\n  1834.83,1367.84 1834.83,1384.24 1835.92,1384.24 1835.92,1367.84 1834.83,1367.84 \n  \"/>\n<path clip-path=\"url(#clip892)\" d=\"\nM1835.92 1370.57 L1835.92 1384.24 L1837.01 1384.24 L1837.01 1370.57 L1835.92 1370.57 L1835.92 1370.57  Z\n  \" fill=\"#009af9\" fill-rule=\"evenodd\" fill-opacity=\"1\"/>\n<polyline clip-path=\"url(#clip892)\" style=\"stroke:#000000; stroke-linecap:butt; stroke-linejoin:round; stroke-width:4; stroke-opacity:1; fill:none\" points=\"\n  1835.92,1370.57 1835.92,1384.24 1837.01,1384.24 1837.01,1370.57 1835.92,1370.57 \n  \"/>\n<path clip-path=\"url(#clip892)\" d=\"\nM1837.01 1373.31 L1837.01 1384.24 L1838.1 1384.24 L1838.1 1373.31 L1837.01 1373.31 L1837.01 1373.31  Z\n  \" fill=\"#009af9\" fill-rule=\"evenodd\" fill-opacity=\"1\"/>\n<polyline clip-path=\"url(#clip892)\" style=\"stroke:#000000; stroke-linecap:butt; stroke-linejoin:round; stroke-width:4; stroke-opacity:1; fill:none\" points=\"\n  1837.01,1373.31 1837.01,1384.24 1838.1,1384.24 1838.1,1373.31 1837.01,1373.31 \n  \"/>\n<path clip-path=\"url(#clip892)\" d=\"\nM1838.1 1378.77 L1838.1 1384.24 L1839.19 1384.24 L1839.19 1378.77 L1838.1 1378.77 L1838.1 1378.77  Z\n  \" fill=\"#009af9\" fill-rule=\"evenodd\" fill-opacity=\"1\"/>\n<polyline clip-path=\"url(#clip892)\" style=\"stroke:#000000; stroke-linecap:butt; stroke-linejoin:round; stroke-width:4; stroke-opacity:1; fill:none\" points=\"\n  1838.1,1378.77 1838.1,1384.24 1839.19,1384.24 1839.19,1378.77 1838.1,1378.77 \n  \"/>\n<path clip-path=\"url(#clip892)\" d=\"\nM1839.19 1384.24 L1839.19 1384.24 L1840.28 1384.24 L1840.28 1384.24 L1839.19 1384.24 L1839.19 1384.24  Z\n  \" fill=\"#009af9\" fill-rule=\"evenodd\" fill-opacity=\"1\"/>\n<polyline clip-path=\"url(#clip892)\" style=\"stroke:#000000; stroke-linecap:butt; stroke-linejoin:round; stroke-width:4; stroke-opacity:1; fill:none\" points=\"\n  1839.19,1384.24 1839.19,1384.24 1840.28,1384.24 1839.19,1384.24 \n  \"/>\n<path clip-path=\"url(#clip892)\" d=\"\nM1840.28 1381.51 L1840.28 1384.24 L1841.37 1384.24 L1841.37 1381.51 L1840.28 1381.51 L1840.28 1381.51  Z\n  \" fill=\"#009af9\" fill-rule=\"evenodd\" fill-opacity=\"1\"/>\n<polyline clip-path=\"url(#clip892)\" style=\"stroke:#000000; stroke-linecap:butt; stroke-linejoin:round; stroke-width:4; stroke-opacity:1; fill:none\" points=\"\n  1840.28,1381.51 1840.28,1384.24 1841.37,1384.24 1841.37,1381.51 1840.28,1381.51 \n  \"/>\n<path clip-path=\"url(#clip892)\" d=\"\nM1841.37 1384.24 L1841.37 1384.24 L1842.46 1384.24 L1842.46 1384.24 L1841.37 1384.24 L1841.37 1384.24  Z\n  \" fill=\"#009af9\" fill-rule=\"evenodd\" fill-opacity=\"1\"/>\n<polyline clip-path=\"url(#clip892)\" style=\"stroke:#000000; stroke-linecap:butt; stroke-linejoin:round; stroke-width:4; stroke-opacity:1; fill:none\" points=\"\n  1841.37,1384.24 1841.37,1384.24 1842.46,1384.24 1841.37,1384.24 \n  \"/>\n<path clip-path=\"url(#clip892)\" d=\"\nM1842.46 1384.24 L1842.46 1384.24 L1843.55 1384.24 L1843.55 1384.24 L1842.46 1384.24 L1842.46 1384.24  Z\n  \" fill=\"#009af9\" fill-rule=\"evenodd\" fill-opacity=\"1\"/>\n<polyline clip-path=\"url(#clip892)\" style=\"stroke:#000000; stroke-linecap:butt; stroke-linejoin:round; stroke-width:4; stroke-opacity:1; fill:none\" points=\"\n  1842.46,1384.24 1842.46,1384.24 1843.55,1384.24 1842.46,1384.24 \n  \"/>\n<path clip-path=\"url(#clip892)\" d=\"\nM1843.55 1381.51 L1843.55 1384.24 L1844.64 1384.24 L1844.64 1381.51 L1843.55 1381.51 L1843.55 1381.51  Z\n  \" fill=\"#009af9\" fill-rule=\"evenodd\" fill-opacity=\"1\"/>\n<polyline clip-path=\"url(#clip892)\" style=\"stroke:#000000; stroke-linecap:butt; stroke-linejoin:round; stroke-width:4; stroke-opacity:1; fill:none\" points=\"\n  1843.55,1381.51 1843.55,1384.24 1844.64,1384.24 1844.64,1381.51 1843.55,1381.51 \n  \"/>\n<circle clip-path=\"url(#clip892)\" style=\"fill:#009af9; stroke:none; fill-opacity:0\" cx=\"1774.31\" cy=\"1381.51\" r=\"2\"/>\n<circle clip-path=\"url(#clip892)\" style=\"fill:#009af9; stroke:none; fill-opacity:0\" cx=\"1775.4\" cy=\"1384.24\" r=\"2\"/>\n<circle clip-path=\"url(#clip892)\" style=\"fill:#009af9; stroke:none; fill-opacity:0\" cx=\"1776.5\" cy=\"1370.57\" r=\"2\"/>\n<circle clip-path=\"url(#clip892)\" style=\"fill:#009af9; stroke:none; fill-opacity:0\" cx=\"1777.59\" cy=\"1373.31\" r=\"2\"/>\n<circle clip-path=\"url(#clip892)\" style=\"fill:#009af9; stroke:none; fill-opacity:0\" cx=\"1778.68\" cy=\"1381.51\" r=\"2\"/>\n<circle clip-path=\"url(#clip892)\" style=\"fill:#009af9; stroke:none; fill-opacity:0\" cx=\"1779.77\" cy=\"1367.84\" r=\"2\"/>\n<circle clip-path=\"url(#clip892)\" style=\"fill:#009af9; stroke:none; fill-opacity:0\" cx=\"1780.86\" cy=\"1356.91\" r=\"2\"/>\n<circle clip-path=\"url(#clip892)\" style=\"fill:#009af9; stroke:none; fill-opacity:0\" cx=\"1781.95\" cy=\"1359.64\" r=\"2\"/>\n<circle clip-path=\"url(#clip892)\" style=\"fill:#009af9; stroke:none; fill-opacity:0\" cx=\"1783.04\" cy=\"1345.98\" r=\"2\"/>\n<circle clip-path=\"url(#clip892)\" style=\"fill:#009af9; stroke:none; fill-opacity:0\" cx=\"1784.13\" cy=\"1321.39\" r=\"2\"/>\n<circle clip-path=\"url(#clip892)\" style=\"fill:#009af9; stroke:none; fill-opacity:0\" cx=\"1785.22\" cy=\"1307.72\" r=\"2\"/>\n<circle clip-path=\"url(#clip892)\" style=\"fill:#009af9; stroke:none; fill-opacity:0\" cx=\"1786.31\" cy=\"1310.45\" r=\"2\"/>\n<circle clip-path=\"url(#clip892)\" style=\"fill:#009af9; stroke:none; fill-opacity:0\" cx=\"1787.4\" cy=\"1250.33\" r=\"2\"/>\n<circle clip-path=\"url(#clip892)\" style=\"fill:#009af9; stroke:none; fill-opacity:0\" cx=\"1788.49\" cy=\"1206.61\" r=\"2\"/>\n<circle clip-path=\"url(#clip892)\" style=\"fill:#009af9; stroke:none; fill-opacity:0\" cx=\"1789.58\" cy=\"1141.02\" r=\"2\"/>\n<circle clip-path=\"url(#clip892)\" style=\"fill:#009af9; stroke:none; fill-opacity:0\" cx=\"1790.67\" cy=\"1130.09\" r=\"2\"/>\n<circle clip-path=\"url(#clip892)\" style=\"fill:#009af9; stroke:none; fill-opacity:0\" cx=\"1791.76\" cy=\"1110.96\" r=\"2\"/>\n<circle clip-path=\"url(#clip892)\" style=\"fill:#009af9; stroke:none; fill-opacity:0\" cx=\"1792.85\" cy=\"1009.85\" r=\"2\"/>\n<circle clip-path=\"url(#clip892)\" style=\"fill:#009af9; stroke:none; fill-opacity:0\" cx=\"1793.94\" cy=\"977.06\" r=\"2\"/>\n<circle clip-path=\"url(#clip892)\" style=\"fill:#009af9; stroke:none; fill-opacity:0\" cx=\"1795.03\" cy=\"925.138\" r=\"2\"/>\n<circle clip-path=\"url(#clip892)\" style=\"fill:#009af9; stroke:none; fill-opacity:0\" cx=\"1796.12\" cy=\"799.431\" r=\"2\"/>\n<circle clip-path=\"url(#clip892)\" style=\"fill:#009af9; stroke:none; fill-opacity:0\" cx=\"1797.21\" cy=\"687.389\" r=\"2\"/>\n<circle clip-path=\"url(#clip892)\" style=\"fill:#009af9; stroke:none; fill-opacity:0\" cx=\"1798.3\" cy=\"673.725\" r=\"2\"/>\n<circle clip-path=\"url(#clip892)\" style=\"fill:#009af9; stroke:none; fill-opacity:0\" cx=\"1799.39\" cy=\"504.295\" r=\"2\"/>\n<circle clip-path=\"url(#clip892)\" style=\"fill:#009af9; stroke:none; fill-opacity:0\" cx=\"1800.48\" cy=\"474.235\" r=\"2\"/>\n<circle clip-path=\"url(#clip892)\" style=\"fill:#009af9; stroke:none; fill-opacity:0\" cx=\"1801.57\" cy=\"356.727\" r=\"2\"/>\n<circle clip-path=\"url(#clip892)\" style=\"fill:#009af9; stroke:none; fill-opacity:0\" cx=\"1802.66\" cy=\"340.331\" r=\"2\"/>\n<circle clip-path=\"url(#clip892)\" style=\"fill:#009af9; stroke:none; fill-opacity:0\" cx=\"1803.75\" cy=\"274.745\" r=\"2\"/>\n<circle clip-path=\"url(#clip892)\" style=\"fill:#009af9; stroke:none; fill-opacity:0\" cx=\"1804.84\" cy=\"132.642\" r=\"2\"/>\n<circle clip-path=\"url(#clip892)\" style=\"fill:#009af9; stroke:none; fill-opacity:0\" cx=\"1805.94\" cy=\"143.573\" r=\"2\"/>\n<circle clip-path=\"url(#clip892)\" style=\"fill:#009af9; stroke:none; fill-opacity:0\" cx=\"1807.03\" cy=\"135.375\" r=\"2\"/>\n<circle clip-path=\"url(#clip892)\" style=\"fill:#009af9; stroke:none; fill-opacity:0\" cx=\"1808.12\" cy=\"159.97\" r=\"2\"/>\n<circle clip-path=\"url(#clip892)\" style=\"fill:#009af9; stroke:none; fill-opacity:0\" cx=\"1809.21\" cy=\"86.1857\" r=\"2\"/>\n<circle clip-path=\"url(#clip892)\" style=\"fill:#009af9; stroke:none; fill-opacity:0\" cx=\"1810.3\" cy=\"168.168\" r=\"2\"/>\n<circle clip-path=\"url(#clip892)\" style=\"fill:#009af9; stroke:none; fill-opacity:0\" cx=\"1811.39\" cy=\"179.099\" r=\"2\"/>\n<circle clip-path=\"url(#clip892)\" style=\"fill:#009af9; stroke:none; fill-opacity:0\" cx=\"1812.48\" cy=\"302.072\" r=\"2\"/>\n<circle clip-path=\"url(#clip892)\" style=\"fill:#009af9; stroke:none; fill-opacity:0\" cx=\"1813.57\" cy=\"362.193\" r=\"2\"/>\n<circle clip-path=\"url(#clip892)\" style=\"fill:#009af9; stroke:none; fill-opacity:0\" cx=\"1814.66\" cy=\"446.908\" r=\"2\"/>\n<circle clip-path=\"url(#clip892)\" style=\"fill:#009af9; stroke:none; fill-opacity:0\" cx=\"1815.75\" cy=\"504.295\" r=\"2\"/>\n<circle clip-path=\"url(#clip892)\" style=\"fill:#009af9; stroke:none; fill-opacity:0\" cx=\"1816.84\" cy=\"528.89\" r=\"2\"/>\n<circle clip-path=\"url(#clip892)\" style=\"fill:#009af9; stroke:none; fill-opacity:0\" cx=\"1817.93\" cy=\"640.932\" r=\"2\"/>\n<circle clip-path=\"url(#clip892)\" style=\"fill:#009af9; stroke:none; fill-opacity:0\" cx=\"1819.02\" cy=\"772.104\" r=\"2\"/>\n<circle clip-path=\"url(#clip892)\" style=\"fill:#009af9; stroke:none; fill-opacity:0\" cx=\"1820.11\" cy=\"793.966\" r=\"2\"/>\n<circle clip-path=\"url(#clip892)\" style=\"fill:#009af9; stroke:none; fill-opacity:0\" cx=\"1821.2\" cy=\"925.138\" r=\"2\"/>\n<circle clip-path=\"url(#clip892)\" style=\"fill:#009af9; stroke:none; fill-opacity:0\" cx=\"1822.29\" cy=\"982.525\" r=\"2\"/>\n<circle clip-path=\"url(#clip892)\" style=\"fill:#009af9; stroke:none; fill-opacity:0\" cx=\"1823.38\" cy=\"1100.03\" r=\"2\"/>\n<circle clip-path=\"url(#clip892)\" style=\"fill:#009af9; stroke:none; fill-opacity:0\" cx=\"1824.47\" cy=\"1151.96\" r=\"2\"/>\n<circle clip-path=\"url(#clip892)\" style=\"fill:#009af9; stroke:none; fill-opacity:0\" cx=\"1825.56\" cy=\"1119.16\" r=\"2\"/>\n<circle clip-path=\"url(#clip892)\" style=\"fill:#009af9; stroke:none; fill-opacity:0\" cx=\"1826.65\" cy=\"1228.47\" r=\"2\"/>\n<circle clip-path=\"url(#clip892)\" style=\"fill:#009af9; stroke:none; fill-opacity:0\" cx=\"1827.74\" cy=\"1255.8\" r=\"2\"/>\n<circle clip-path=\"url(#clip892)\" style=\"fill:#009af9; stroke:none; fill-opacity:0\" cx=\"1828.83\" cy=\"1283.13\" r=\"2\"/>\n<circle clip-path=\"url(#clip892)\" style=\"fill:#009af9; stroke:none; fill-opacity:0\" cx=\"1829.92\" cy=\"1324.12\" r=\"2\"/>\n<circle clip-path=\"url(#clip892)\" style=\"fill:#009af9; stroke:none; fill-opacity:0\" cx=\"1831.01\" cy=\"1321.39\" r=\"2\"/>\n<circle clip-path=\"url(#clip892)\" style=\"fill:#009af9; stroke:none; fill-opacity:0\" cx=\"1832.1\" cy=\"1348.71\" r=\"2\"/>\n<circle clip-path=\"url(#clip892)\" style=\"fill:#009af9; stroke:none; fill-opacity:0\" cx=\"1833.19\" cy=\"1351.45\" r=\"2\"/>\n<circle clip-path=\"url(#clip892)\" style=\"fill:#009af9; stroke:none; fill-opacity:0\" cx=\"1834.28\" cy=\"1370.57\" r=\"2\"/>\n<circle clip-path=\"url(#clip892)\" style=\"fill:#009af9; stroke:none; fill-opacity:0\" cx=\"1835.38\" cy=\"1367.84\" r=\"2\"/>\n<circle clip-path=\"url(#clip892)\" style=\"fill:#009af9; stroke:none; fill-opacity:0\" cx=\"1836.47\" cy=\"1370.57\" r=\"2\"/>\n<circle clip-path=\"url(#clip892)\" style=\"fill:#009af9; stroke:none; fill-opacity:0\" cx=\"1837.56\" cy=\"1373.31\" r=\"2\"/>\n<circle clip-path=\"url(#clip892)\" style=\"fill:#009af9; stroke:none; fill-opacity:0\" cx=\"1838.65\" cy=\"1378.77\" r=\"2\"/>\n<circle clip-path=\"url(#clip892)\" style=\"fill:#009af9; stroke:none; fill-opacity:0\" cx=\"1839.74\" cy=\"1384.24\" r=\"2\"/>\n<circle clip-path=\"url(#clip892)\" style=\"fill:#009af9; stroke:none; fill-opacity:0\" cx=\"1840.83\" cy=\"1381.51\" r=\"2\"/>\n<circle clip-path=\"url(#clip892)\" style=\"fill:#009af9; stroke:none; fill-opacity:0\" cx=\"1841.92\" cy=\"1384.24\" r=\"2\"/>\n<circle clip-path=\"url(#clip892)\" style=\"fill:#009af9; stroke:none; fill-opacity:0\" cx=\"1843.01\" cy=\"1384.24\" r=\"2\"/>\n<circle clip-path=\"url(#clip892)\" style=\"fill:#009af9; stroke:none; fill-opacity:0\" cx=\"1844.1\" cy=\"1381.51\" r=\"2\"/>\n</svg>\n"
     },
     "execution_count": 47,
     "metadata": {},
     "output_type": "execute_result"
    }
   ],
   "source": [
    "using Plots\n",
    "let\n",
    "\tp = histogram(v, xlims=(-1,1), label=\"\", xlabel=\"Cosine similairty\")\n",
    "end"
   ]
  }
 ],
 "metadata": {
  "kernelspec": {
   "display_name": "Julia 1.7.3",
   "language": "julia",
   "name": "julia-1.7"
  },
  "language_info": {
   "file_extension": ".jl",
   "mimetype": "application/julia",
   "name": "julia",
   "version": "1.7.3"
  },
  "orig_nbformat": 4
 },
 "nbformat": 4,
 "nbformat_minor": 2
}

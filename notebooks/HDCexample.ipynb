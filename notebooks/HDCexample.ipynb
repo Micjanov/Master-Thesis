{
 "cells": [
  {
   "cell_type": "markdown",
   "metadata": {},
   "source": [
    "# Showcase of the basics on Hyperdimensional Computing\n",
    "## What is it and why?\n",
    "Hyperdimensional computing is a relatively new paradigm of computing that tries to mimick the workings of a (human) brain (Kanerva). The brain has a massive amount of circuits made of neurons synapses which might suggest that our brains operate on very high dimensional vectors (HDV) of let's say of 10000 of even more bits. This is radically different from the typical modern computer architectures which operate on vectors of 8 to 64 bits. This becomes clear when we compare how easy it is for a human to learn a language compared to computers, which require a large and complecated set of arithmetic operations in the form of machine learning models or deep learning networks together with a large amount of data to try to come close mastering a language whilst a human can recognize other languages relatively easy when they don't even speak it! Likewise languages, we can very easily memorize and compare other intrisically complex and contextual concepts such as images. A computer would have a hard time finding similarity between a set of images and faces because this requires very complex man-made models.\n",
    "\n",
    "When computing with hyperdimensional vectors, we only use a set of a few simple arithmetic operations which will all be explained later on in more detail. A HDV can represent anything from a word or a concept. This vector is initially made up of totally random bits, but with the simple set of rules, we can use other vectors to combine some concepts into new similar or dissimilar concepts. For example, we would not say that an table is similar to a brocolli but we could say that we can trace back the concept of table to the concept of meal, which in turn can be traced back to 'food' which has in some form similarity with 'brocolli'\n",
    "\n",
    "This holistic representation of a concept smeared out over a vector consisting of thousands of bits gives rise to interesting properties of this paradigm. It is very tolerant to failure of bits which makes it very robust to noise. This is becaue one bit in a HDV plays a very minimal role and may even be redundant for the represented concept, unlike in modern computer architectures where every bit in a 64 bit vector counts and cannot be changed."
   ]
  },
  {
   "cell_type": "markdown",
   "metadata": {},
   "source": [
    "## Generating HDVs\n",
    "First we should create functions that lets us construct HDVs. An initial HDV is constructed totally random. We can opt for binary, bipolar vectors or even vectors containing real numbers. The nature of the vectors does not matter that much result-wise but using these operations on bipolar vectors will make it more understandable and is easier to implement since we will then use simple algebraic concepts. The choice of the nature of the vectors would also change the nature of the operations as we could use highly efficient bit-operations with binary bits but this heavily restricts the amount of information we can store in the vector as we explain later.(??) The elements of the vectors will still be referred to as 'bits'."
   ]
  },
  {
   "cell_type": "markdown",
   "metadata": {},
   "source": [
    "With n corresponding to the amount of vectors and N the length of the vectors."
   ]
  },
  {
   "cell_type": "code",
   "execution_count": 1,
   "metadata": {},
   "outputs": [
    {
     "data": {
      "text/plain": [
       "hdv (generic function with 3 methods)"
      ]
     },
     "execution_count": 1,
     "metadata": {},
     "output_type": "execute_result"
    }
   ],
   "source": [
    "using LinearAlgebra\n",
    "hdv(n::Int=1, N::Int=10000) = rand((-1,1), n, N)"
   ]
  },
  {
   "cell_type": "code",
   "execution_count": 2,
   "metadata": {},
   "outputs": [
    {
     "data": {
      "text/plain": [
       "1×10000 Matrix{Int64}:\n",
       " -1  1  1  -1  -1  -1  1  1  1  1  1  …  -1  -1  -1  -1  -1  1  -1  -1  -1"
      ]
     },
     "execution_count": 2,
     "metadata": {},
     "output_type": "execute_result"
    }
   ],
   "source": [
    "x = hdv()"
   ]
  },
  {
   "cell_type": "code",
   "execution_count": 3,
   "metadata": {},
   "outputs": [
    {
     "data": {
      "text/plain": [
       "1×10000 Matrix{Int64}:\n",
       " -1  1  -1  -1  -1  -1  -1  -1  1  1  …  -1  -1  1  -1  -1  1  1  -1  1  -1"
      ]
     },
     "execution_count": 3,
     "metadata": {},
     "output_type": "execute_result"
    }
   ],
   "source": [
    "y = hdv()"
   ]
  },
  {
   "cell_type": "markdown",
   "metadata": {},
   "source": [
    "## Operations on HDVs\n",
    "In this part we will try to explain the different operations we could perform on HDVs which we could use for further modeling.\n",
    "### Adding (bundling)\n",
    "The element-wise addition of two of these kind of vectors result in a vector that is the most similar to both vectors. This result should also be normalized and and can be thus considered as a mean vector of the bundled vectors.(Kanerva)??? We can choose how far we want to go with this. If we allow zeros in our 'bipolar' vectors, we can easily see the disagreement of the corresponding elements of the strictly bipolar parent vectors. This also means that no information is lost if we don't restrict the resulting vectors to a strict bipolar nature."
   ]
  },
  {
   "cell_type": "code",
   "execution_count": 4,
   "metadata": {},
   "outputs": [
    {
     "data": {
      "text/plain": [
       "add (generic function with 1 method)"
      ]
     },
     "execution_count": 4,
     "metadata": {},
     "output_type": "execute_result"
    }
   ],
   "source": [
    "add(vectors::Matrix{Int}...) = reduce(.+, vectors) .|> sign"
   ]
  },
  {
   "cell_type": "code",
   "execution_count": 5,
   "metadata": {},
   "outputs": [
    {
     "data": {
      "text/plain": [
       "1×10000 Matrix{Int64}:\n",
       " -1  1  0  -1  -1  -1  0  0  1  1  1  0  …  0  -1  0  -1  -1  0  1  -1  0  -1"
      ]
     },
     "execution_count": 5,
     "metadata": {},
     "output_type": "execute_result"
    }
   ],
   "source": [
    "add(x,y)"
   ]
  },
  {
   "cell_type": "code",
   "execution_count": 6,
   "metadata": {},
   "outputs": [
    {
     "data": {
      "text/plain": [
       "1×10000 Matrix{Int64}:\n",
       " 1  1  -1  1  -1  -1  1  -1  -1  1  -1  …  -1  -1  1  -1  1  1  -1  1  -1  -1"
      ]
     },
     "execution_count": 6,
     "metadata": {},
     "output_type": "execute_result"
    }
   ],
   "source": [
    "z = hdv()"
   ]
  },
  {
   "cell_type": "code",
   "execution_count": 7,
   "metadata": {},
   "outputs": [
    {
     "data": {
      "text/plain": [
       "1×10000 Matrix{Int64}:\n",
       " -1  1  -1  -1  -1  -1  1  -1  1  1  …  -1  -1  1  -1  -1  1  1  -1  -1  -1"
      ]
     },
     "execution_count": 7,
     "metadata": {},
     "output_type": "execute_result"
    }
   ],
   "source": [
    "add(x,y,z)"
   ]
  },
  {
   "cell_type": "markdown",
   "metadata": {},
   "source": [
    "### Multiplying (binding)\n",
    "This operation encodes the interaction between two vectors and thus creates a vector dissimilar to the two parent vectors. For bipolar parent vectors, element-wise multiplication suffices. For strictly bipolar vectors, this also implies we can reverse the binding operation by doing the same operation again thus recovering the data. For binary vectors, this operation corresponds to a logical XOR gate."
   ]
  },
  {
   "cell_type": "code",
   "execution_count": 8,
   "metadata": {},
   "outputs": [
    {
     "data": {
      "text/plain": [
       "multiply (generic function with 1 method)"
      ]
     },
     "execution_count": 8,
     "metadata": {},
     "output_type": "execute_result"
    }
   ],
   "source": [
    "multiply(vectors::Matrix{Int}...) = reduce(.*, vectors)"
   ]
  },
  {
   "cell_type": "code",
   "execution_count": 9,
   "metadata": {},
   "outputs": [
    {
     "data": {
      "text/plain": [
       "1×10000 Matrix{Int64}:\n",
       " 1  1  -1  1  1  1  -1  -1  1  1  1  …  1  -1  1  -1  1  1  -1  1  1  -1  1"
      ]
     },
     "execution_count": 9,
     "metadata": {},
     "output_type": "execute_result"
    }
   ],
   "source": [
    "multiply(x, y)"
   ]
  },
  {
   "cell_type": "code",
   "execution_count": 10,
   "metadata": {},
   "outputs": [
    {
     "data": {
      "text/plain": [
       "1×10000 Matrix{Int64}:\n",
       " 1  1  1  1  -1  -1  -1  1  -1  1  -1  …  1  -1  -1  -1  1  -1  -1  1  1  -1"
      ]
     },
     "execution_count": 10,
     "metadata": {},
     "output_type": "execute_result"
    }
   ],
   "source": [
    "multiply(x, y, z)"
   ]
  },
  {
   "cell_type": "markdown",
   "metadata": {},
   "source": [
    "### Permutation (shifting)\n",
    "We can also include positional information, for example a sequence of letters. This is possible by a cyclic permutation by shifting every element to the right."
   ]
  },
  {
   "cell_type": "code",
   "execution_count": 11,
   "metadata": {},
   "outputs": [
    {
     "data": {
      "text/plain": [
       "perm (generic function with 2 methods)"
      ]
     },
     "execution_count": 11,
     "metadata": {},
     "output_type": "execute_result"
    }
   ],
   "source": [
    "perm(vector::Matrix, k::Int=1) = circshift(vector, (0, k))"
   ]
  },
  {
   "cell_type": "code",
   "execution_count": 12,
   "metadata": {},
   "outputs": [
    {
     "data": {
      "text/plain": [
       "4972"
      ]
     },
     "execution_count": 12,
     "metadata": {},
     "output_type": "execute_result"
    }
   ],
   "source": [
    "sum(x.==perm(x))"
   ]
  },
  {
   "cell_type": "code",
   "execution_count": 13,
   "metadata": {},
   "outputs": [
    {
     "data": {
      "text/plain": [
       "1×10000 Matrix{Int64}:\n",
       " -1  1  1  -1  -1  -1  1  1  1  1  1  …  -1  -1  -1  -1  -1  1  -1  -1  -1"
      ]
     },
     "execution_count": 13,
     "metadata": {},
     "output_type": "execute_result"
    }
   ],
   "source": [
    "circshift(x, 1)"
   ]
  },
  {
   "cell_type": "markdown",
   "metadata": {},
   "source": [
    "Let's say we want to encode the sequence of letters 'xyz' into one vector, we can bind the vectors of each letter but shift the vectors according to their index."
   ]
  },
  {
   "cell_type": "code",
   "execution_count": 14,
   "metadata": {},
   "outputs": [
    {
     "data": {
      "text/plain": [
       "1×10000 Matrix{Int64}:\n",
       " -1  1  1  1  -1  1  1  1  -1  -1  -1  …  1  -1  -1  1  1  -1  1  -1  -1  -1"
      ]
     },
     "execution_count": 14,
     "metadata": {},
     "output_type": "execute_result"
    }
   ],
   "source": [
    "xyz = multiply(x, perm(y), perm(z, 2))"
   ]
  },
  {
   "cell_type": "markdown",
   "metadata": {},
   "source": [
    "### Similarity measurement\n"
   ]
  },
  {
   "cell_type": "markdown",
   "metadata": {},
   "source": [
    "To quantify the similarity between two HDVs, we can tackle it in numerous ways depending on the nature of the vectors. For bipolar vectors, a cosine similarity measure fits our needs. \n",
    "$$\\cos(\\mathbf{x}, \\mathbf{y}) = \\frac{\\mathbf{x} \\cdot \\mathbf{y}}{||\\mathbf{x}||\\, ||\\mathbf{y}||}\\,.$$\n",
    "If the cosine similairty is equal to -1, the two vectors are totally opposite to eachother. If it's equal to 1, the vectors are equal and if the cosine similarity equals to 0, the vectors are orthogonal to eachother."
   ]
  },
  {
   "cell_type": "code",
   "execution_count": 15,
   "metadata": {},
   "outputs": [
    {
     "data": {
      "text/plain": [
       "cosine (generic function with 1 method)"
      ]
     },
     "execution_count": 15,
     "metadata": {},
     "output_type": "execute_result"
    }
   ],
   "source": [
    "cosine(x::Matrix{Int}, y::Matrix{Int}) = dot(x, y) / (norm(x) * norm(y))"
   ]
  },
  {
   "cell_type": "markdown",
   "metadata": {},
   "source": [
    "As we can see and expect, 2 unrelated random vectors are close to being orthogonal."
   ]
  },
  {
   "cell_type": "code",
   "execution_count": 16,
   "metadata": {},
   "outputs": [
    {
     "data": {
      "text/plain": [
       "0.0004"
      ]
     },
     "execution_count": 16,
     "metadata": {},
     "output_type": "execute_result"
    }
   ],
   "source": [
    "cosine(x, y)"
   ]
  },
  {
   "cell_type": "markdown",
   "metadata": {},
   "source": [
    "## Operations on binary HDV"
   ]
  },
  {
   "cell_type": "code",
   "execution_count": 17,
   "metadata": {},
   "outputs": [
    {
     "data": {
      "text/plain": [
       "bitHDV (generic function with 2 methods)"
      ]
     },
     "execution_count": 17,
     "metadata": {},
     "output_type": "execute_result"
    }
   ],
   "source": [
    "using Random\n",
    "bitHDV(N::Int=10000) = bitrand(N)"
   ]
  },
  {
   "cell_type": "code",
   "execution_count": 18,
   "metadata": {},
   "outputs": [
    {
     "data": {
      "text/plain": [
       "10000-element BitVector:\n",
       " 0\n",
       " 1\n",
       " 0\n",
       " 0\n",
       " 1\n",
       " 1\n",
       " 0\n",
       " 0\n",
       " 1\n",
       " 1\n",
       " 0\n",
       " 1\n",
       " 1\n",
       " ⋮\n",
       " 0\n",
       " 0\n",
       " 1\n",
       " 1\n",
       " 0\n",
       " 1\n",
       " 0\n",
       " 0\n",
       " 1\n",
       " 0\n",
       " 1\n",
       " 0"
      ]
     },
     "execution_count": 18,
     "metadata": {},
     "output_type": "execute_result"
    }
   ],
   "source": [
    "r = bitHDV()"
   ]
  },
  {
   "cell_type": "code",
   "execution_count": 19,
   "metadata": {},
   "outputs": [
    {
     "data": {
      "text/plain": [
       "10000-element BitVector:\n",
       " 0\n",
       " 0\n",
       " 1\n",
       " 1\n",
       " 1\n",
       " 0\n",
       " 1\n",
       " 1\n",
       " 0\n",
       " 1\n",
       " 0\n",
       " 0\n",
       " 0\n",
       " ⋮\n",
       " 0\n",
       " 0\n",
       " 1\n",
       " 0\n",
       " 0\n",
       " 1\n",
       " 0\n",
       " 0\n",
       " 0\n",
       " 1\n",
       " 1\n",
       " 0"
      ]
     },
     "execution_count": 19,
     "metadata": {},
     "output_type": "execute_result"
    }
   ],
   "source": [
    "s = bitHDV()"
   ]
  },
  {
   "cell_type": "code",
   "execution_count": 20,
   "metadata": {},
   "outputs": [
    {
     "data": {
      "text/plain": [
       "10000-element BitVector:\n",
       " 0\n",
       " 0\n",
       " 1\n",
       " 1\n",
       " 1\n",
       " 1\n",
       " 0\n",
       " 1\n",
       " 1\n",
       " 0\n",
       " 1\n",
       " 0\n",
       " 0\n",
       " ⋮\n",
       " 1\n",
       " 0\n",
       " 1\n",
       " 1\n",
       " 0\n",
       " 0\n",
       " 1\n",
       " 0\n",
       " 1\n",
       " 0\n",
       " 1\n",
       " 1"
      ]
     },
     "execution_count": 20,
     "metadata": {},
     "output_type": "execute_result"
    }
   ],
   "source": [
    "t = bitHDV()"
   ]
  },
  {
   "cell_type": "markdown",
   "metadata": {},
   "source": [
    "### Addition\n",
    "To bundle multiple binary vectors, we can do an element-wise addition. The resulting vector is binarized based on the majority element. For an odd amount of vectors to bundle, this is no problem and we would see no ambiguity but for an even amount vectors we have to imply a bias (choose 0 or 1) if there would be no majority element. Of course, this would lead to a loss of accuracy, but working with binary vectors may lead to an increase in speed (should test this). This bias can be reduced by adding a random vector (apparently, looking into this).\n",
    "There is no easy function implemented in Julia that can do this, so this may be not the most optimal algorithm."
   ]
  },
  {
   "cell_type": "code",
   "execution_count": 21,
   "metadata": {},
   "outputs": [
    {
     "data": {
      "text/plain": [
       "bitadd (generic function with 1 method)"
      ]
     },
     "execution_count": 21,
     "metadata": {},
     "output_type": "execute_result"
    }
   ],
   "source": [
    "function bitadd(vectors::BitVector ...)\n",
    "    v = reduce(.+, vectors)\n",
    "    n = length(vectors) / 2\n",
    "    x = [i > n ? 1 : i < n ? 0 : rand(0:1) for i in v]\n",
    "    return convert(BitVector, x)\n",
    "end"
   ]
  },
  {
   "cell_type": "code",
   "execution_count": 22,
   "metadata": {},
   "outputs": [
    {
     "data": {
      "text/plain": [
       "10000-element BitVector:\n",
       " 0\n",
       " 0\n",
       " 1\n",
       " 1\n",
       " 1\n",
       " 1\n",
       " 0\n",
       " 1\n",
       " 0\n",
       " 0\n",
       " 0\n",
       " 0\n",
       " 0\n",
       " ⋮\n",
       " 1\n",
       " 0\n",
       " 1\n",
       " 0\n",
       " 0\n",
       " 1\n",
       " 1\n",
       " 0\n",
       " 1\n",
       " 0\n",
       " 1\n",
       " 1"
      ]
     },
     "execution_count": 22,
     "metadata": {},
     "output_type": "execute_result"
    }
   ],
   "source": [
    "bitadd(s,t)"
   ]
  },
  {
   "cell_type": "code",
   "execution_count": 23,
   "metadata": {},
   "outputs": [
    {
     "data": {
      "text/plain": [
       "10000-element BitVector:\n",
       " 0\n",
       " 0\n",
       " 1\n",
       " 1\n",
       " 1\n",
       " 1\n",
       " 0\n",
       " 1\n",
       " 1\n",
       " 1\n",
       " 0\n",
       " 0\n",
       " 0\n",
       " ⋮\n",
       " 0\n",
       " 0\n",
       " 1\n",
       " 1\n",
       " 0\n",
       " 1\n",
       " 0\n",
       " 0\n",
       " 1\n",
       " 0\n",
       " 1\n",
       " 0"
      ]
     },
     "execution_count": 23,
     "metadata": {},
     "output_type": "execute_result"
    }
   ],
   "source": [
    "bitadd(r, s, t)"
   ]
  },
  {
   "cell_type": "markdown",
   "metadata": {},
   "source": [
    "### Multiplication\n",
    "Binding binary vectors is represented by an bitwise XOR operation."
   ]
  },
  {
   "cell_type": "code",
   "execution_count": 24,
   "metadata": {},
   "outputs": [
    {
     "data": {
      "text/plain": [
       "bitbind (generic function with 1 method)"
      ]
     },
     "execution_count": 24,
     "metadata": {},
     "output_type": "execute_result"
    }
   ],
   "source": [
    "bitbind(vectors::BitVector ...) =  reduce(.⊻, vectors)"
   ]
  },
  {
   "cell_type": "code",
   "execution_count": 25,
   "metadata": {},
   "outputs": [
    {
     "data": {
      "text/plain": [
       "10000-element BitVector:\n",
       " 0\n",
       " 1\n",
       " 0\n",
       " 0\n",
       " 1\n",
       " 0\n",
       " 1\n",
       " 0\n",
       " 0\n",
       " 0\n",
       " 1\n",
       " 1\n",
       " 1\n",
       " ⋮\n",
       " 1\n",
       " 0\n",
       " 1\n",
       " 0\n",
       " 0\n",
       " 0\n",
       " 1\n",
       " 0\n",
       " 0\n",
       " 1\n",
       " 1\n",
       " 1"
      ]
     },
     "execution_count": 25,
     "metadata": {},
     "output_type": "execute_result"
    }
   ],
   "source": [
    "bitbind(r,s,t)"
   ]
  },
  {
   "cell_type": "markdown",
   "metadata": {},
   "source": [
    "### Permutation\n",
    "This operation is the same for binary vectors as for bipolar vectors"
   ]
  },
  {
   "cell_type": "code",
   "execution_count": 26,
   "metadata": {},
   "outputs": [
    {
     "data": {
      "text/plain": [
       "bitperm (generic function with 2 methods)"
      ]
     },
     "execution_count": 26,
     "metadata": {},
     "output_type": "execute_result"
    }
   ],
   "source": [
    "bitperm(vector::BitVector, k::Int=1) = circshift(vector, k)"
   ]
  },
  {
   "cell_type": "code",
   "execution_count": 27,
   "metadata": {},
   "outputs": [
    {
     "data": {
      "text/plain": [
       "10000-element BitVector:\n",
       " 0\n",
       " 0\n",
       " 1\n",
       " 0\n",
       " 0\n",
       " 1\n",
       " 1\n",
       " 0\n",
       " 0\n",
       " 1\n",
       " 1\n",
       " 0\n",
       " 1\n",
       " ⋮\n",
       " 0\n",
       " 0\n",
       " 0\n",
       " 1\n",
       " 1\n",
       " 0\n",
       " 1\n",
       " 0\n",
       " 0\n",
       " 1\n",
       " 0\n",
       " 1"
      ]
     },
     "execution_count": 27,
     "metadata": {},
     "output_type": "execute_result"
    }
   ],
   "source": [
    "bitperm(r)"
   ]
  },
  {
   "cell_type": "markdown",
   "metadata": {},
   "source": [
    "### Similarity measurement\n",
    "The equivalent of a cosine similarity for binary vectors could be the Hamming distance. A Hamming distance of 0 between two vectors means that they are equal, 1 would mean that they are totally opposite and 0.5 would mean that they are orthogonal."
   ]
  },
  {
   "cell_type": "code",
   "execution_count": 28,
   "metadata": {},
   "outputs": [
    {
     "data": {
      "text/plain": [
       "hamming (generic function with 1 method)"
      ]
     },
     "execution_count": 28,
     "metadata": {},
     "output_type": "execute_result"
    }
   ],
   "source": [
    "hamming(x::BitVector, y::BitVector) = sum(x .!= y)/length(x)"
   ]
  },
  {
   "cell_type": "code",
   "execution_count": 29,
   "metadata": {},
   "outputs": [
    {
     "data": {
      "text/plain": [
       "0.5048"
      ]
     },
     "execution_count": 29,
     "metadata": {},
     "output_type": "execute_result"
    }
   ],
   "source": [
    "hamming(r,s)"
   ]
  },
  {
   "cell_type": "markdown",
   "metadata": {},
   "source": [
    "## Examples"
   ]
  },
  {
   "cell_type": "markdown",
   "metadata": {},
   "source": [
    "See example 1 in thesis. Results in acceptable 0.5 cosine similairty. (So 75% accuracy?)"
   ]
  },
  {
   "cell_type": "code",
   "execution_count": 30,
   "metadata": {},
   "outputs": [],
   "source": [
    "v = Vector()\n",
    "for i in 1:10000\n",
    "    a, b, c, x, y, z =  hdv(), hdv(), hdv(), hdv(), hdv(), hdv() \n",
    "    d = add(multiply(a, x), multiply(b, y), multiply(c, z)) \n",
    "    ap = multiply(x, d) \n",
    "    score = cosine(ap, a)\n",
    "    append!(v, score)\n",
    "end"
   ]
  },
  {
   "cell_type": "code",
   "execution_count": 31,
   "metadata": {},
   "outputs": [
    {
     "data": {
      "image/svg+xml": "<?xml version=\"1.0\" encoding=\"utf-8\"?>\n<svg xmlns=\"http://www.w3.org/2000/svg\" xmlns:xlink=\"http://www.w3.org/1999/xlink\" width=\"600\" height=\"400\" viewBox=\"0 0 2400 1600\">\n<defs>\n  <clipPath id=\"clip350\">\n    <rect x=\"0\" y=\"0\" width=\"2400\" height=\"1600\"/>\n  </clipPath>\n</defs>\n<path clip-path=\"url(#clip350)\" d=\"\nM0 1600 L2400 1600 L2400 0 L0 0  Z\n  \" fill=\"#ffffff\" fill-rule=\"evenodd\" fill-opacity=\"1\"/>\n<defs>\n  <clipPath id=\"clip351\">\n    <rect x=\"480\" y=\"0\" width=\"1681\" height=\"1600\"/>\n  </clipPath>\n</defs>\n<path clip-path=\"url(#clip350)\" d=\"\nM172.015 1423.18 L2352.76 1423.18 L2352.76 47.2441 L172.015 47.2441  Z\n  \" fill=\"#ffffff\" fill-rule=\"evenodd\" fill-opacity=\"1\"/>\n<defs>\n  <clipPath id=\"clip352\">\n    <rect x=\"172\" y=\"47\" width=\"2182\" height=\"1377\"/>\n  </clipPath>\n</defs>\n<polyline clip-path=\"url(#clip352)\" style=\"stroke:#000000; stroke-linecap:butt; stroke-linejoin:round; stroke-width:2; stroke-opacity:0.1; fill:none\" points=\"\n  172.015,1423.18 172.015,47.2441 \n  \"/>\n<polyline clip-path=\"url(#clip352)\" style=\"stroke:#000000; stroke-linecap:butt; stroke-linejoin:round; stroke-width:2; stroke-opacity:0.1; fill:none\" points=\"\n  717.2,1423.18 717.2,47.2441 \n  \"/>\n<polyline clip-path=\"url(#clip352)\" style=\"stroke:#000000; stroke-linecap:butt; stroke-linejoin:round; stroke-width:2; stroke-opacity:0.1; fill:none\" points=\"\n  1262.39,1423.18 1262.39,47.2441 \n  \"/>\n<polyline clip-path=\"url(#clip352)\" style=\"stroke:#000000; stroke-linecap:butt; stroke-linejoin:round; stroke-width:2; stroke-opacity:0.1; fill:none\" points=\"\n  1807.57,1423.18 1807.57,47.2441 \n  \"/>\n<polyline clip-path=\"url(#clip352)\" style=\"stroke:#000000; stroke-linecap:butt; stroke-linejoin:round; stroke-width:2; stroke-opacity:0.1; fill:none\" points=\"\n  2352.76,1423.18 2352.76,47.2441 \n  \"/>\n<polyline clip-path=\"url(#clip350)\" style=\"stroke:#000000; stroke-linecap:butt; stroke-linejoin:round; stroke-width:4; stroke-opacity:1; fill:none\" points=\"\n  172.015,1423.18 2352.76,1423.18 \n  \"/>\n<polyline clip-path=\"url(#clip350)\" style=\"stroke:#000000; stroke-linecap:butt; stroke-linejoin:round; stroke-width:4; stroke-opacity:1; fill:none\" points=\"\n  172.015,1423.18 172.015,1404.28 \n  \"/>\n<polyline clip-path=\"url(#clip350)\" style=\"stroke:#000000; stroke-linecap:butt; stroke-linejoin:round; stroke-width:4; stroke-opacity:1; fill:none\" points=\"\n  717.2,1423.18 717.2,1404.28 \n  \"/>\n<polyline clip-path=\"url(#clip350)\" style=\"stroke:#000000; stroke-linecap:butt; stroke-linejoin:round; stroke-width:4; stroke-opacity:1; fill:none\" points=\"\n  1262.39,1423.18 1262.39,1404.28 \n  \"/>\n<polyline clip-path=\"url(#clip350)\" style=\"stroke:#000000; stroke-linecap:butt; stroke-linejoin:round; stroke-width:4; stroke-opacity:1; fill:none\" points=\"\n  1807.57,1423.18 1807.57,1404.28 \n  \"/>\n<polyline clip-path=\"url(#clip350)\" style=\"stroke:#000000; stroke-linecap:butt; stroke-linejoin:round; stroke-width:4; stroke-opacity:1; fill:none\" points=\"\n  2352.76,1423.18 2352.76,1404.28 \n  \"/>\n<path clip-path=\"url(#clip350)\" d=\"M118.543 1468.75 L148.219 1468.75 L148.219 1472.69 L118.543 1472.69 L118.543 1468.75 Z\" fill=\"#000000\" fill-rule=\"evenodd\" fill-opacity=\"1\" /><path clip-path=\"url(#clip350)\" d=\"M159.121 1481.64 L166.76 1481.64 L166.76 1455.28 L158.45 1456.95 L158.45 1452.69 L166.714 1451.02 L171.39 1451.02 L171.39 1481.64 L179.029 1481.64 L179.029 1485.58 L159.121 1485.58 L159.121 1481.64 Z\" fill=\"#000000\" fill-rule=\"evenodd\" fill-opacity=\"1\" /><path clip-path=\"url(#clip350)\" d=\"M188.473 1479.7 L193.357 1479.7 L193.357 1485.58 L188.473 1485.58 L188.473 1479.7 Z\" fill=\"#000000\" fill-rule=\"evenodd\" fill-opacity=\"1\" /><path clip-path=\"url(#clip350)\" d=\"M213.542 1454.1 Q209.931 1454.1 208.103 1457.66 Q206.297 1461.2 206.297 1468.33 Q206.297 1475.44 208.103 1479.01 Q209.931 1482.55 213.542 1482.55 Q217.177 1482.55 218.982 1479.01 Q220.811 1475.44 220.811 1468.33 Q220.811 1461.2 218.982 1457.66 Q217.177 1454.1 213.542 1454.1 M213.542 1450.39 Q219.353 1450.39 222.408 1455 Q225.487 1459.58 225.487 1468.33 Q225.487 1477.06 222.408 1481.67 Q219.353 1486.25 213.542 1486.25 Q207.732 1486.25 204.654 1481.67 Q201.598 1477.06 201.598 1468.33 Q201.598 1459.58 204.654 1455 Q207.732 1450.39 213.542 1450.39 Z\" fill=\"#000000\" fill-rule=\"evenodd\" fill-opacity=\"1\" /><path clip-path=\"url(#clip350)\" d=\"M664.226 1468.75 L693.902 1468.75 L693.902 1472.69 L664.226 1472.69 L664.226 1468.75 Z\" fill=\"#000000\" fill-rule=\"evenodd\" fill-opacity=\"1\" /><path clip-path=\"url(#clip350)\" d=\"M713.994 1454.1 Q710.383 1454.1 708.554 1457.66 Q706.749 1461.2 706.749 1468.33 Q706.749 1475.44 708.554 1479.01 Q710.383 1482.55 713.994 1482.55 Q717.628 1482.55 719.434 1479.01 Q721.263 1475.44 721.263 1468.33 Q721.263 1461.2 719.434 1457.66 Q717.628 1454.1 713.994 1454.1 M713.994 1450.39 Q719.804 1450.39 722.86 1455 Q725.938 1459.58 725.938 1468.33 Q725.938 1477.06 722.86 1481.67 Q719.804 1486.25 713.994 1486.25 Q708.184 1486.25 705.105 1481.67 Q702.05 1477.06 702.05 1468.33 Q702.05 1459.58 705.105 1455 Q708.184 1450.39 713.994 1450.39 Z\" fill=\"#000000\" fill-rule=\"evenodd\" fill-opacity=\"1\" /><path clip-path=\"url(#clip350)\" d=\"M734.156 1479.7 L739.04 1479.7 L739.04 1485.58 L734.156 1485.58 L734.156 1479.7 Z\" fill=\"#000000\" fill-rule=\"evenodd\" fill-opacity=\"1\" /><path clip-path=\"url(#clip350)\" d=\"M749.272 1451.02 L767.628 1451.02 L767.628 1454.96 L753.554 1454.96 L753.554 1463.43 Q754.573 1463.08 755.591 1462.92 Q756.61 1462.73 757.628 1462.73 Q763.415 1462.73 766.795 1465.9 Q770.174 1469.08 770.174 1474.49 Q770.174 1480.07 766.702 1483.17 Q763.23 1486.25 756.911 1486.25 Q754.735 1486.25 752.466 1485.88 Q750.221 1485.51 747.813 1484.77 L747.813 1480.07 Q749.897 1481.2 752.119 1481.76 Q754.341 1482.32 756.818 1482.32 Q760.823 1482.32 763.16 1480.21 Q765.498 1478.1 765.498 1474.49 Q765.498 1470.88 763.16 1468.77 Q760.823 1466.67 756.818 1466.67 Q754.943 1466.67 753.068 1467.08 Q751.216 1467.5 749.272 1468.38 L749.272 1451.02 Z\" fill=\"#000000\" fill-rule=\"evenodd\" fill-opacity=\"1\" /><path clip-path=\"url(#clip350)\" d=\"M1239.77 1454.1 Q1236.16 1454.1 1234.33 1457.66 Q1232.52 1461.2 1232.52 1468.33 Q1232.52 1475.44 1234.33 1479.01 Q1236.16 1482.55 1239.77 1482.55 Q1243.4 1482.55 1245.21 1479.01 Q1247.04 1475.44 1247.04 1468.33 Q1247.04 1461.2 1245.21 1457.66 Q1243.4 1454.1 1239.77 1454.1 M1239.77 1450.39 Q1245.58 1450.39 1248.64 1455 Q1251.71 1459.58 1251.71 1468.33 Q1251.71 1477.06 1248.64 1481.67 Q1245.58 1486.25 1239.77 1486.25 Q1233.96 1486.25 1230.88 1481.67 Q1227.83 1477.06 1227.83 1468.33 Q1227.83 1459.58 1230.88 1455 Q1233.96 1450.39 1239.77 1450.39 Z\" fill=\"#000000\" fill-rule=\"evenodd\" fill-opacity=\"1\" /><path clip-path=\"url(#clip350)\" d=\"M1259.93 1479.7 L1264.82 1479.7 L1264.82 1485.58 L1259.93 1485.58 L1259.93 1479.7 Z\" fill=\"#000000\" fill-rule=\"evenodd\" fill-opacity=\"1\" /><path clip-path=\"url(#clip350)\" d=\"M1285 1454.1 Q1281.39 1454.1 1279.56 1457.66 Q1277.76 1461.2 1277.76 1468.33 Q1277.76 1475.44 1279.56 1479.01 Q1281.39 1482.55 1285 1482.55 Q1288.64 1482.55 1290.44 1479.01 Q1292.27 1475.44 1292.27 1468.33 Q1292.27 1461.2 1290.44 1457.66 Q1288.64 1454.1 1285 1454.1 M1285 1450.39 Q1290.81 1450.39 1293.87 1455 Q1296.95 1459.58 1296.95 1468.33 Q1296.95 1477.06 1293.87 1481.67 Q1290.81 1486.25 1285 1486.25 Q1279.19 1486.25 1276.11 1481.67 Q1273.06 1477.06 1273.06 1468.33 Q1273.06 1459.58 1276.11 1455 Q1279.19 1450.39 1285 1450.39 Z\" fill=\"#000000\" fill-rule=\"evenodd\" fill-opacity=\"1\" /><path clip-path=\"url(#clip350)\" d=\"M1785.45 1454.1 Q1781.84 1454.1 1780.01 1457.66 Q1778.21 1461.2 1778.21 1468.33 Q1778.21 1475.44 1780.01 1479.01 Q1781.84 1482.55 1785.45 1482.55 Q1789.09 1482.55 1790.89 1479.01 Q1792.72 1475.44 1792.72 1468.33 Q1792.72 1461.2 1790.89 1457.66 Q1789.09 1454.1 1785.45 1454.1 M1785.45 1450.39 Q1791.26 1450.39 1794.32 1455 Q1797.4 1459.58 1797.4 1468.33 Q1797.4 1477.06 1794.32 1481.67 Q1791.26 1486.25 1785.45 1486.25 Q1779.64 1486.25 1776.56 1481.67 Q1773.51 1477.06 1773.51 1468.33 Q1773.51 1459.58 1776.56 1455 Q1779.64 1450.39 1785.45 1450.39 Z\" fill=\"#000000\" fill-rule=\"evenodd\" fill-opacity=\"1\" /><path clip-path=\"url(#clip350)\" d=\"M1805.61 1479.7 L1810.5 1479.7 L1810.5 1485.58 L1805.61 1485.58 L1805.61 1479.7 Z\" fill=\"#000000\" fill-rule=\"evenodd\" fill-opacity=\"1\" /><path clip-path=\"url(#clip350)\" d=\"M1820.73 1451.02 L1839.09 1451.02 L1839.09 1454.96 L1825.01 1454.96 L1825.01 1463.43 Q1826.03 1463.08 1827.05 1462.92 Q1828.07 1462.73 1829.09 1462.73 Q1834.87 1462.73 1838.25 1465.9 Q1841.63 1469.08 1841.63 1474.49 Q1841.63 1480.07 1838.16 1483.17 Q1834.69 1486.25 1828.37 1486.25 Q1826.19 1486.25 1823.92 1485.88 Q1821.68 1485.51 1819.27 1484.77 L1819.27 1480.07 Q1821.36 1481.2 1823.58 1481.76 Q1825.8 1482.32 1828.28 1482.32 Q1832.28 1482.32 1834.62 1480.21 Q1836.96 1478.1 1836.96 1474.49 Q1836.96 1470.88 1834.62 1468.77 Q1832.28 1466.67 1828.28 1466.67 Q1826.4 1466.67 1824.53 1467.08 Q1822.67 1467.5 1820.73 1468.38 L1820.73 1451.02 Z\" fill=\"#000000\" fill-rule=\"evenodd\" fill-opacity=\"1\" /><path clip-path=\"url(#clip350)\" d=\"M2319.91 1481.64 L2327.55 1481.64 L2327.55 1455.28 L2319.24 1456.95 L2319.24 1452.69 L2327.5 1451.02 L2332.18 1451.02 L2332.18 1481.64 L2339.82 1481.64 L2339.82 1485.58 L2319.91 1485.58 L2319.91 1481.64 Z\" fill=\"#000000\" fill-rule=\"evenodd\" fill-opacity=\"1\" /><path clip-path=\"url(#clip350)\" d=\"M2349.26 1479.7 L2354.14 1479.7 L2354.14 1485.58 L2349.26 1485.58 L2349.26 1479.7 Z\" fill=\"#000000\" fill-rule=\"evenodd\" fill-opacity=\"1\" /><path clip-path=\"url(#clip350)\" d=\"M2374.33 1454.1 Q2370.72 1454.1 2368.89 1457.66 Q2367.08 1461.2 2367.08 1468.33 Q2367.08 1475.44 2368.89 1479.01 Q2370.72 1482.55 2374.33 1482.55 Q2377.96 1482.55 2379.77 1479.01 Q2381.6 1475.44 2381.6 1468.33 Q2381.6 1461.2 2379.77 1457.66 Q2377.96 1454.1 2374.33 1454.1 M2374.33 1450.39 Q2380.14 1450.39 2383.2 1455 Q2386.27 1459.58 2386.27 1468.33 Q2386.27 1477.06 2383.2 1481.67 Q2380.14 1486.25 2374.33 1486.25 Q2368.52 1486.25 2365.44 1481.67 Q2362.39 1477.06 2362.39 1468.33 Q2362.39 1459.58 2365.44 1455 Q2368.52 1450.39 2374.33 1450.39 Z\" fill=\"#000000\" fill-rule=\"evenodd\" fill-opacity=\"1\" /><path clip-path=\"url(#clip350)\" d=\"M1033.32 1524.18 L1033.32 1530.96 Q1030.07 1527.94 1026.38 1526.44 Q1022.72 1524.95 1018.58 1524.95 Q1010.43 1524.95 1006.1 1529.95 Q1001.77 1534.91 1001.77 1544.33 Q1001.77 1553.72 1006.1 1558.72 Q1010.43 1563.68 1018.58 1563.68 Q1022.72 1563.68 1026.38 1562.19 Q1030.07 1560.69 1033.32 1557.67 L1033.32 1564.38 Q1029.94 1566.68 1026.15 1567.82 Q1022.4 1568.97 1018.2 1568.97 Q1007.41 1568.97 1001.2 1562.38 Q994.994 1555.76 994.994 1544.33 Q994.994 1532.87 1001.2 1526.28 Q1007.41 1519.66 1018.2 1519.66 Q1022.46 1519.66 1026.22 1520.81 Q1030.01 1521.92 1033.32 1524.18 Z\" fill=\"#000000\" fill-rule=\"evenodd\" fill-opacity=\"1\" /><path clip-path=\"url(#clip350)\" d=\"M1056.8 1536.5 Q1052.09 1536.5 1049.36 1540.19 Q1046.62 1543.85 1046.62 1550.25 Q1046.62 1556.65 1049.33 1560.34 Q1052.06 1564 1056.8 1564 Q1061.48 1564 1064.22 1560.31 Q1066.96 1556.62 1066.96 1550.25 Q1066.96 1543.92 1064.22 1540.23 Q1061.48 1536.5 1056.8 1536.5 M1056.8 1531.54 Q1064.44 1531.54 1068.8 1536.5 Q1073.16 1541.47 1073.16 1550.25 Q1073.16 1559 1068.8 1564 Q1064.44 1568.97 1056.8 1568.97 Q1049.13 1568.97 1044.77 1564 Q1040.45 1559 1040.45 1550.25 Q1040.45 1541.47 1044.77 1536.5 Q1049.13 1531.54 1056.8 1531.54 Z\" fill=\"#000000\" fill-rule=\"evenodd\" fill-opacity=\"1\" /><path clip-path=\"url(#clip350)\" d=\"M1105.6 1533.45 L1105.6 1538.98 Q1103.12 1537.71 1100.44 1537.07 Q1097.77 1536.44 1094.9 1536.44 Q1090.54 1536.44 1088.35 1537.77 Q1086.18 1539.11 1086.18 1541.79 Q1086.18 1543.82 1087.74 1545 Q1089.3 1546.15 1094.01 1547.2 L1096.02 1547.64 Q1102.26 1548.98 1104.87 1551.43 Q1107.51 1553.85 1107.51 1558.21 Q1107.51 1563.17 1103.56 1566.07 Q1099.65 1568.97 1092.77 1568.97 Q1089.91 1568.97 1086.79 1568.39 Q1083.7 1567.85 1080.26 1566.74 L1080.26 1560.69 Q1083.51 1562.38 1086.66 1563.24 Q1089.81 1564.07 1092.9 1564.07 Q1097.04 1564.07 1099.26 1562.66 Q1101.49 1561.23 1101.49 1558.65 Q1101.49 1556.27 1099.87 1554.99 Q1098.28 1553.72 1092.83 1552.54 L1090.8 1552.07 Q1085.36 1550.92 1082.94 1548.56 Q1080.52 1546.18 1080.52 1542.04 Q1080.52 1537.01 1084.08 1534.27 Q1087.65 1531.54 1094.2 1531.54 Q1097.45 1531.54 1100.31 1532.01 Q1103.18 1532.49 1105.6 1533.45 Z\" fill=\"#000000\" fill-rule=\"evenodd\" fill-opacity=\"1\" /><path clip-path=\"url(#clip350)\" d=\"M1116.83 1532.4 L1122.69 1532.4 L1122.69 1568.04 L1116.83 1568.04 L1116.83 1532.4 M1116.83 1518.52 L1122.69 1518.52 L1122.69 1525.93 L1116.83 1525.93 L1116.83 1518.52 Z\" fill=\"#000000\" fill-rule=\"evenodd\" fill-opacity=\"1\" /><path clip-path=\"url(#clip350)\" d=\"M1164.58 1546.53 L1164.58 1568.04 L1158.72 1568.04 L1158.72 1546.72 Q1158.72 1541.66 1156.75 1539.14 Q1154.77 1536.63 1150.83 1536.63 Q1146.08 1536.63 1143.35 1539.65 Q1140.61 1542.68 1140.61 1547.9 L1140.61 1568.04 L1134.72 1568.04 L1134.72 1532.4 L1140.61 1532.4 L1140.61 1537.93 Q1142.71 1534.72 1145.54 1533.13 Q1148.41 1531.54 1152.13 1531.54 Q1158.27 1531.54 1161.43 1535.36 Q1164.58 1539.14 1164.58 1546.53 Z\" fill=\"#000000\" fill-rule=\"evenodd\" fill-opacity=\"1\" /><path clip-path=\"url(#clip350)\" d=\"M1206.75 1548.76 L1206.75 1551.62 L1179.82 1551.62 Q1180.2 1557.67 1183.45 1560.85 Q1186.73 1564 1192.55 1564 Q1195.93 1564 1199.08 1563.17 Q1202.26 1562.35 1205.38 1560.69 L1205.38 1566.23 Q1202.23 1567.57 1198.92 1568.27 Q1195.61 1568.97 1192.2 1568.97 Q1183.67 1568.97 1178.68 1564 Q1173.71 1559.04 1173.71 1550.57 Q1173.71 1541.82 1178.42 1536.69 Q1183.16 1531.54 1191.18 1531.54 Q1198.38 1531.54 1202.55 1536.18 Q1206.75 1540.8 1206.75 1548.76 M1200.89 1547.04 Q1200.83 1542.23 1198.19 1539.37 Q1195.58 1536.5 1191.25 1536.5 Q1186.35 1536.5 1183.39 1539.27 Q1180.46 1542.04 1180.01 1547.07 L1200.89 1547.04 Z\" fill=\"#000000\" fill-rule=\"evenodd\" fill-opacity=\"1\" /><path clip-path=\"url(#clip350)\" d=\"M1259.81 1533.45 L1259.81 1538.98 Q1257.32 1537.71 1254.65 1537.07 Q1251.98 1536.44 1249.11 1536.44 Q1244.75 1536.44 1242.56 1537.77 Q1240.39 1539.11 1240.39 1541.79 Q1240.39 1543.82 1241.95 1545 Q1243.51 1546.15 1248.22 1547.2 L1250.23 1547.64 Q1256.47 1548.98 1259.08 1551.43 Q1261.72 1553.85 1261.72 1558.21 Q1261.72 1563.17 1257.77 1566.07 Q1253.86 1568.97 1246.98 1568.97 Q1244.12 1568.97 1241 1568.39 Q1237.91 1567.85 1234.47 1566.74 L1234.47 1560.69 Q1237.72 1562.38 1240.87 1563.24 Q1244.02 1564.07 1247.11 1564.07 Q1251.25 1564.07 1253.47 1562.66 Q1255.7 1561.23 1255.7 1558.65 Q1255.7 1556.27 1254.08 1554.99 Q1252.49 1553.72 1247.04 1552.54 L1245.01 1552.07 Q1239.56 1550.92 1237.15 1548.56 Q1234.73 1546.18 1234.73 1542.04 Q1234.73 1537.01 1238.29 1534.27 Q1241.86 1531.54 1248.41 1531.54 Q1251.66 1531.54 1254.52 1532.01 Q1257.39 1532.49 1259.81 1533.45 Z\" fill=\"#000000\" fill-rule=\"evenodd\" fill-opacity=\"1\" /><path clip-path=\"url(#clip350)\" d=\"M1271.04 1532.4 L1276.9 1532.4 L1276.9 1568.04 L1271.04 1568.04 L1271.04 1532.4 M1271.04 1518.52 L1276.9 1518.52 L1276.9 1525.93 L1271.04 1525.93 L1271.04 1518.52 Z\" fill=\"#000000\" fill-rule=\"evenodd\" fill-opacity=\"1\" /><path clip-path=\"url(#clip350)\" d=\"M1316.91 1539.24 Q1319.1 1535.29 1322.16 1533.41 Q1325.21 1531.54 1329.35 1531.54 Q1334.92 1531.54 1337.95 1535.45 Q1340.97 1539.33 1340.97 1546.53 L1340.97 1568.04 L1335.08 1568.04 L1335.08 1546.72 Q1335.08 1541.59 1333.27 1539.11 Q1331.45 1536.63 1327.73 1536.63 Q1323.18 1536.63 1320.54 1539.65 Q1317.89 1542.68 1317.89 1547.9 L1317.89 1568.04 L1312.01 1568.04 L1312.01 1546.72 Q1312.01 1541.56 1310.19 1539.11 Q1308.38 1536.63 1304.59 1536.63 Q1300.1 1536.63 1297.46 1539.68 Q1294.82 1542.71 1294.82 1547.9 L1294.82 1568.04 L1288.93 1568.04 L1288.93 1532.4 L1294.82 1532.4 L1294.82 1537.93 Q1296.82 1534.66 1299.62 1533.1 Q1302.43 1531.54 1306.28 1531.54 Q1310.16 1531.54 1312.87 1533.51 Q1315.6 1535.48 1316.91 1539.24 Z\" fill=\"#000000\" fill-rule=\"evenodd\" fill-opacity=\"1\" /><path clip-path=\"url(#clip350)\" d=\"M1352.65 1532.4 L1358.51 1532.4 L1358.51 1568.04 L1352.65 1568.04 L1352.65 1532.4 M1352.65 1518.52 L1358.51 1518.52 L1358.51 1525.93 L1352.65 1525.93 L1352.65 1518.52 Z\" fill=\"#000000\" fill-rule=\"evenodd\" fill-opacity=\"1\" /><path clip-path=\"url(#clip350)\" d=\"M1370.76 1518.52 L1376.62 1518.52 L1376.62 1568.04 L1370.76 1568.04 L1370.76 1518.52 Z\" fill=\"#000000\" fill-rule=\"evenodd\" fill-opacity=\"1\" /><path clip-path=\"url(#clip350)\" d=\"M1405.07 1550.12 Q1397.97 1550.12 1395.24 1551.75 Q1392.5 1553.37 1392.5 1557.29 Q1392.5 1560.4 1394.54 1562.25 Q1396.61 1564.07 1400.14 1564.07 Q1405.01 1564.07 1407.94 1560.63 Q1410.9 1557.16 1410.9 1551.43 L1410.9 1550.12 L1405.07 1550.12 M1416.75 1547.71 L1416.75 1568.04 L1410.9 1568.04 L1410.9 1562.63 Q1408.89 1565.88 1405.9 1567.44 Q1402.91 1568.97 1398.58 1568.97 Q1393.11 1568.97 1389.86 1565.91 Q1386.64 1562.82 1386.64 1557.67 Q1386.64 1551.65 1390.65 1548.6 Q1394.7 1545.54 1402.69 1545.54 L1410.9 1545.54 L1410.9 1544.97 Q1410.9 1540.93 1408.22 1538.73 Q1405.58 1536.5 1400.78 1536.5 Q1397.72 1536.5 1394.82 1537.23 Q1391.93 1537.97 1389.25 1539.43 L1389.25 1534.02 Q1392.47 1532.78 1395.49 1532.17 Q1398.52 1531.54 1401.38 1531.54 Q1409.11 1531.54 1412.93 1535.55 Q1416.75 1539.56 1416.75 1547.71 Z\" fill=\"#000000\" fill-rule=\"evenodd\" fill-opacity=\"1\" /><path clip-path=\"url(#clip350)\" d=\"M1428.82 1532.4 L1434.67 1532.4 L1434.67 1568.04 L1428.82 1568.04 L1428.82 1532.4 M1428.82 1518.52 L1434.67 1518.52 L1434.67 1525.93 L1428.82 1525.93 L1428.82 1518.52 Z\" fill=\"#000000\" fill-rule=\"evenodd\" fill-opacity=\"1\" /><path clip-path=\"url(#clip350)\" d=\"M1467.58 1537.87 Q1466.6 1537.3 1465.42 1537.04 Q1464.27 1536.76 1462.87 1536.76 Q1457.91 1536.76 1455.23 1540 Q1452.59 1543.22 1452.59 1549.27 L1452.59 1568.04 L1446.7 1568.04 L1446.7 1532.4 L1452.59 1532.4 L1452.59 1537.93 Q1454.44 1534.69 1457.4 1533.13 Q1460.36 1531.54 1464.59 1531.54 Q1465.2 1531.54 1465.93 1531.63 Q1466.66 1531.7 1467.55 1531.85 L1467.58 1537.87 Z\" fill=\"#000000\" fill-rule=\"evenodd\" fill-opacity=\"1\" /><path clip-path=\"url(#clip350)\" d=\"M1479.52 1522.27 L1479.52 1532.4 L1491.58 1532.4 L1491.58 1536.95 L1479.52 1536.95 L1479.52 1556.3 Q1479.52 1560.66 1480.7 1561.9 Q1481.91 1563.14 1485.57 1563.14 L1491.58 1563.14 L1491.58 1568.04 L1485.57 1568.04 Q1478.79 1568.04 1476.21 1565.53 Q1473.63 1562.98 1473.63 1556.3 L1473.63 1536.95 L1469.33 1536.95 L1469.33 1532.4 L1473.63 1532.4 L1473.63 1522.27 L1479.52 1522.27 Z\" fill=\"#000000\" fill-rule=\"evenodd\" fill-opacity=\"1\" /><path clip-path=\"url(#clip350)\" d=\"M1514.12 1571.35 Q1511.63 1577.72 1509.28 1579.66 Q1506.92 1581.6 1502.98 1581.6 L1498.3 1581.6 L1498.3 1576.7 L1501.74 1576.7 Q1504.15 1576.7 1505.49 1575.56 Q1506.83 1574.41 1508.45 1570.14 L1509.5 1567.47 L1495.08 1532.4 L1501.29 1532.4 L1512.43 1560.28 L1523.57 1532.4 L1529.78 1532.4 L1514.12 1571.35 Z\" fill=\"#000000\" fill-rule=\"evenodd\" fill-opacity=\"1\" /><polyline clip-path=\"url(#clip352)\" style=\"stroke:#000000; stroke-linecap:butt; stroke-linejoin:round; stroke-width:2; stroke-opacity:0.1; fill:none\" points=\"\n  172.015,1384.24 2352.76,1384.24 \n  \"/>\n<polyline clip-path=\"url(#clip352)\" style=\"stroke:#000000; stroke-linecap:butt; stroke-linejoin:round; stroke-width:2; stroke-opacity:0.1; fill:none\" points=\"\n  172.015,1111.54 2352.76,1111.54 \n  \"/>\n<polyline clip-path=\"url(#clip352)\" style=\"stroke:#000000; stroke-linecap:butt; stroke-linejoin:round; stroke-width:2; stroke-opacity:0.1; fill:none\" points=\"\n  172.015,838.838 2352.76,838.838 \n  \"/>\n<polyline clip-path=\"url(#clip352)\" style=\"stroke:#000000; stroke-linecap:butt; stroke-linejoin:round; stroke-width:2; stroke-opacity:0.1; fill:none\" points=\"\n  172.015,566.138 2352.76,566.138 \n  \"/>\n<polyline clip-path=\"url(#clip352)\" style=\"stroke:#000000; stroke-linecap:butt; stroke-linejoin:round; stroke-width:2; stroke-opacity:0.1; fill:none\" points=\"\n  172.015,293.438 2352.76,293.438 \n  \"/>\n<polyline clip-path=\"url(#clip350)\" style=\"stroke:#000000; stroke-linecap:butt; stroke-linejoin:round; stroke-width:4; stroke-opacity:1; fill:none\" points=\"\n  172.015,1423.18 172.015,47.2441 \n  \"/>\n<polyline clip-path=\"url(#clip350)\" style=\"stroke:#000000; stroke-linecap:butt; stroke-linejoin:round; stroke-width:4; stroke-opacity:1; fill:none\" points=\"\n  172.015,1384.24 190.912,1384.24 \n  \"/>\n<polyline clip-path=\"url(#clip350)\" style=\"stroke:#000000; stroke-linecap:butt; stroke-linejoin:round; stroke-width:4; stroke-opacity:1; fill:none\" points=\"\n  172.015,1111.54 190.912,1111.54 \n  \"/>\n<polyline clip-path=\"url(#clip350)\" style=\"stroke:#000000; stroke-linecap:butt; stroke-linejoin:round; stroke-width:4; stroke-opacity:1; fill:none\" points=\"\n  172.015,838.838 190.912,838.838 \n  \"/>\n<polyline clip-path=\"url(#clip350)\" style=\"stroke:#000000; stroke-linecap:butt; stroke-linejoin:round; stroke-width:4; stroke-opacity:1; fill:none\" points=\"\n  172.015,566.138 190.912,566.138 \n  \"/>\n<polyline clip-path=\"url(#clip350)\" style=\"stroke:#000000; stroke-linecap:butt; stroke-linejoin:round; stroke-width:4; stroke-opacity:1; fill:none\" points=\"\n  172.015,293.438 190.912,293.438 \n  \"/>\n<path clip-path=\"url(#clip350)\" d=\"M124.07 1370.04 Q120.459 1370.04 118.631 1373.6 Q116.825 1377.14 116.825 1384.27 Q116.825 1391.38 118.631 1394.94 Q120.459 1398.49 124.07 1398.49 Q127.705 1398.49 129.51 1394.94 Q131.339 1391.38 131.339 1384.27 Q131.339 1377.14 129.51 1373.6 Q127.705 1370.04 124.07 1370.04 M124.07 1366.33 Q129.881 1366.33 132.936 1370.94 Q136.015 1375.52 136.015 1384.27 Q136.015 1393 132.936 1397.61 Q129.881 1402.19 124.07 1402.19 Q118.26 1402.19 115.182 1397.61 Q112.126 1393 112.126 1384.27 Q112.126 1375.52 115.182 1370.94 Q118.26 1366.33 124.07 1366.33 Z\" fill=\"#000000\" fill-rule=\"evenodd\" fill-opacity=\"1\" /><path clip-path=\"url(#clip350)\" d=\"M54.5569 1124.88 L62.1958 1124.88 L62.1958 1098.52 L53.8856 1100.18 L53.8856 1095.92 L62.1495 1094.26 L66.8254 1094.26 L66.8254 1124.88 L74.4642 1124.88 L74.4642 1128.82 L54.5569 1128.82 L54.5569 1124.88 Z\" fill=\"#000000\" fill-rule=\"evenodd\" fill-opacity=\"1\" /><path clip-path=\"url(#clip350)\" d=\"M93.9086 1097.34 Q90.2975 1097.34 88.4688 1100.9 Q86.6632 1104.44 86.6632 1111.57 Q86.6632 1118.68 88.4688 1122.24 Q90.2975 1125.79 93.9086 1125.79 Q97.5428 1125.79 99.3483 1122.24 Q101.177 1118.68 101.177 1111.57 Q101.177 1104.44 99.3483 1100.9 Q97.5428 1097.34 93.9086 1097.34 M93.9086 1093.63 Q99.7187 1093.63 102.774 1098.24 Q105.853 1102.82 105.853 1111.57 Q105.853 1120.3 102.774 1124.91 Q99.7187 1129.49 93.9086 1129.49 Q88.0984 1129.49 85.0197 1124.91 Q81.9642 1120.3 81.9642 1111.57 Q81.9642 1102.82 85.0197 1098.24 Q88.0984 1093.63 93.9086 1093.63 Z\" fill=\"#000000\" fill-rule=\"evenodd\" fill-opacity=\"1\" /><path clip-path=\"url(#clip350)\" d=\"M124.07 1097.34 Q120.459 1097.34 118.631 1100.9 Q116.825 1104.44 116.825 1111.57 Q116.825 1118.68 118.631 1122.24 Q120.459 1125.79 124.07 1125.79 Q127.705 1125.79 129.51 1122.24 Q131.339 1118.68 131.339 1111.57 Q131.339 1104.44 129.51 1100.9 Q127.705 1097.34 124.07 1097.34 M124.07 1093.63 Q129.881 1093.63 132.936 1098.24 Q136.015 1102.82 136.015 1111.57 Q136.015 1120.3 132.936 1124.91 Q129.881 1129.49 124.07 1129.49 Q118.26 1129.49 115.182 1124.91 Q112.126 1120.3 112.126 1111.57 Q112.126 1102.82 115.182 1098.24 Q118.26 1093.63 124.07 1093.63 Z\" fill=\"#000000\" fill-rule=\"evenodd\" fill-opacity=\"1\" /><path clip-path=\"url(#clip350)\" d=\"M57.7745 852.183 L74.0939 852.183 L74.0939 856.118 L52.1495 856.118 L52.1495 852.183 Q54.8115 849.428 59.3949 844.799 Q64.0013 840.146 65.1819 838.803 Q67.4272 836.28 68.3068 834.544 Q69.2096 832.785 69.2096 831.095 Q69.2096 828.34 67.2652 826.604 Q65.3439 824.868 62.2421 824.868 Q60.043 824.868 57.5893 825.632 Q55.1588 826.396 52.381 827.947 L52.381 823.225 Q55.2051 822.09 57.6588 821.512 Q60.1124 820.933 62.1495 820.933 Q67.5198 820.933 70.7142 823.618 Q73.9087 826.303 73.9087 830.794 Q73.9087 832.924 73.0985 834.845 Q72.3115 836.743 70.205 839.336 Q69.6263 840.007 66.5245 843.225 Q63.4226 846.419 57.7745 852.183 Z\" fill=\"#000000\" fill-rule=\"evenodd\" fill-opacity=\"1\" /><path clip-path=\"url(#clip350)\" d=\"M93.9086 824.637 Q90.2975 824.637 88.4688 828.201 Q86.6632 831.743 86.6632 838.873 Q86.6632 845.979 88.4688 849.544 Q90.2975 853.086 93.9086 853.086 Q97.5428 853.086 99.3483 849.544 Q101.177 845.979 101.177 838.873 Q101.177 831.743 99.3483 828.201 Q97.5428 824.637 93.9086 824.637 M93.9086 820.933 Q99.7187 820.933 102.774 825.539 Q105.853 830.123 105.853 838.873 Q105.853 847.6 102.774 852.206 Q99.7187 856.789 93.9086 856.789 Q88.0984 856.789 85.0197 852.206 Q81.9642 847.6 81.9642 838.873 Q81.9642 830.123 85.0197 825.539 Q88.0984 820.933 93.9086 820.933 Z\" fill=\"#000000\" fill-rule=\"evenodd\" fill-opacity=\"1\" /><path clip-path=\"url(#clip350)\" d=\"M124.07 824.637 Q120.459 824.637 118.631 828.201 Q116.825 831.743 116.825 838.873 Q116.825 845.979 118.631 849.544 Q120.459 853.086 124.07 853.086 Q127.705 853.086 129.51 849.544 Q131.339 845.979 131.339 838.873 Q131.339 831.743 129.51 828.201 Q127.705 824.637 124.07 824.637 M124.07 820.933 Q129.881 820.933 132.936 825.539 Q136.015 830.123 136.015 838.873 Q136.015 847.6 132.936 852.206 Q129.881 856.789 124.07 856.789 Q118.26 856.789 115.182 852.206 Q112.126 847.6 112.126 838.873 Q112.126 830.123 115.182 825.539 Q118.26 820.933 124.07 820.933 Z\" fill=\"#000000\" fill-rule=\"evenodd\" fill-opacity=\"1\" /><path clip-path=\"url(#clip350)\" d=\"M67.9133 564.784 Q71.2698 565.501 73.1448 567.77 Q75.0429 570.038 75.0429 573.372 Q75.0429 578.487 71.5244 581.288 Q68.0059 584.089 61.5245 584.089 Q59.3486 584.089 57.0338 583.649 Q54.7421 583.233 52.2884 582.376 L52.2884 577.862 Q54.2328 578.997 56.5477 579.575 Q58.8625 580.154 61.3856 580.154 Q65.7837 580.154 68.0754 578.418 Q70.3902 576.682 70.3902 573.372 Q70.3902 570.316 68.2374 568.603 Q66.1078 566.867 62.2884 566.867 L58.2606 566.867 L58.2606 563.024 L62.4735 563.024 Q65.9226 563.024 67.7513 561.659 Q69.58 560.27 69.58 557.677 Q69.58 555.015 67.6819 553.603 Q65.8069 552.168 62.2884 552.168 Q60.3671 552.168 58.168 552.585 Q55.969 553.001 53.3301 553.881 L53.3301 549.714 Q55.9921 548.974 58.3069 548.603 Q60.6449 548.233 62.705 548.233 Q68.0291 548.233 71.1309 550.663 Q74.2327 553.071 74.2327 557.191 Q74.2327 560.062 72.5892 562.052 Q70.9457 564.02 67.9133 564.784 Z\" fill=\"#000000\" fill-rule=\"evenodd\" fill-opacity=\"1\" /><path clip-path=\"url(#clip350)\" d=\"M93.9086 551.937 Q90.2975 551.937 88.4688 555.501 Q86.6632 559.043 86.6632 566.173 Q86.6632 573.279 88.4688 576.844 Q90.2975 580.386 93.9086 580.386 Q97.5428 580.386 99.3483 576.844 Q101.177 573.279 101.177 566.173 Q101.177 559.043 99.3483 555.501 Q97.5428 551.937 93.9086 551.937 M93.9086 548.233 Q99.7187 548.233 102.774 552.839 Q105.853 557.423 105.853 566.173 Q105.853 574.899 102.774 579.506 Q99.7187 584.089 93.9086 584.089 Q88.0984 584.089 85.0197 579.506 Q81.9642 574.899 81.9642 566.173 Q81.9642 557.423 85.0197 552.839 Q88.0984 548.233 93.9086 548.233 Z\" fill=\"#000000\" fill-rule=\"evenodd\" fill-opacity=\"1\" /><path clip-path=\"url(#clip350)\" d=\"M124.07 551.937 Q120.459 551.937 118.631 555.501 Q116.825 559.043 116.825 566.173 Q116.825 573.279 118.631 576.844 Q120.459 580.386 124.07 580.386 Q127.705 580.386 129.51 576.844 Q131.339 573.279 131.339 566.173 Q131.339 559.043 129.51 555.501 Q127.705 551.937 124.07 551.937 M124.07 548.233 Q129.881 548.233 132.936 552.839 Q136.015 557.423 136.015 566.173 Q136.015 574.899 132.936 579.506 Q129.881 584.089 124.07 584.089 Q118.26 584.089 115.182 579.506 Q112.126 574.899 112.126 566.173 Q112.126 557.423 115.182 552.839 Q118.26 548.233 124.07 548.233 Z\" fill=\"#000000\" fill-rule=\"evenodd\" fill-opacity=\"1\" /><path clip-path=\"url(#clip350)\" d=\"M66.5939 280.232 L54.7884 298.681 L66.5939 298.681 L66.5939 280.232 M65.367 276.158 L71.2466 276.158 L71.2466 298.681 L76.1772 298.681 L76.1772 302.57 L71.2466 302.57 L71.2466 310.718 L66.5939 310.718 L66.5939 302.57 L50.9921 302.57 L50.9921 298.056 L65.367 276.158 Z\" fill=\"#000000\" fill-rule=\"evenodd\" fill-opacity=\"1\" /><path clip-path=\"url(#clip350)\" d=\"M93.9086 279.236 Q90.2975 279.236 88.4688 282.801 Q86.6632 286.343 86.6632 293.472 Q86.6632 300.579 88.4688 304.144 Q90.2975 307.685 93.9086 307.685 Q97.5428 307.685 99.3483 304.144 Q101.177 300.579 101.177 293.472 Q101.177 286.343 99.3483 282.801 Q97.5428 279.236 93.9086 279.236 M93.9086 275.533 Q99.7187 275.533 102.774 280.139 Q105.853 284.723 105.853 293.472 Q105.853 302.199 102.774 306.806 Q99.7187 311.389 93.9086 311.389 Q88.0984 311.389 85.0197 306.806 Q81.9642 302.199 81.9642 293.472 Q81.9642 284.723 85.0197 280.139 Q88.0984 275.533 93.9086 275.533 Z\" fill=\"#000000\" fill-rule=\"evenodd\" fill-opacity=\"1\" /><path clip-path=\"url(#clip350)\" d=\"M124.07 279.236 Q120.459 279.236 118.631 282.801 Q116.825 286.343 116.825 293.472 Q116.825 300.579 118.631 304.144 Q120.459 307.685 124.07 307.685 Q127.705 307.685 129.51 304.144 Q131.339 300.579 131.339 293.472 Q131.339 286.343 129.51 282.801 Q127.705 279.236 124.07 279.236 M124.07 275.533 Q129.881 275.533 132.936 280.139 Q136.015 284.723 136.015 293.472 Q136.015 302.199 132.936 306.806 Q129.881 311.389 124.07 311.389 Q118.26 311.389 115.182 306.806 Q112.126 302.199 112.126 293.472 Q112.126 284.723 115.182 280.139 Q118.26 275.533 124.07 275.533 Z\" fill=\"#000000\" fill-rule=\"evenodd\" fill-opacity=\"1\" /><path clip-path=\"url(#clip352)\" d=\"\nM1775.95 1378.78 L1775.95 1384.24 L1777.04 1384.24 L1777.04 1378.78 L1775.95 1378.78 L1775.95 1378.78  Z\n  \" fill=\"#009af9\" fill-rule=\"evenodd\" fill-opacity=\"1\"/>\n<polyline clip-path=\"url(#clip352)\" style=\"stroke:#000000; stroke-linecap:butt; stroke-linejoin:round; stroke-width:4; stroke-opacity:1; fill:none\" points=\"\n  1775.95,1378.78 1775.95,1384.24 1777.04,1384.24 1777.04,1378.78 1775.95,1378.78 \n  \"/>\n<path clip-path=\"url(#clip352)\" d=\"\nM1777.04 1367.88 L1777.04 1384.24 L1778.13 1384.24 L1778.13 1367.88 L1777.04 1367.88 L1777.04 1367.88  Z\n  \" fill=\"#009af9\" fill-rule=\"evenodd\" fill-opacity=\"1\"/>\n<polyline clip-path=\"url(#clip352)\" style=\"stroke:#000000; stroke-linecap:butt; stroke-linejoin:round; stroke-width:4; stroke-opacity:1; fill:none\" points=\"\n  1777.04,1367.88 1777.04,1384.24 1778.13,1384.24 1778.13,1367.88 1777.04,1367.88 \n  \"/>\n<path clip-path=\"url(#clip352)\" d=\"\nM1778.13 1376.06 L1778.13 1384.24 L1779.22 1384.24 L1779.22 1376.06 L1778.13 1376.06 L1778.13 1376.06  Z\n  \" fill=\"#009af9\" fill-rule=\"evenodd\" fill-opacity=\"1\"/>\n<polyline clip-path=\"url(#clip352)\" style=\"stroke:#000000; stroke-linecap:butt; stroke-linejoin:round; stroke-width:4; stroke-opacity:1; fill:none\" points=\"\n  1778.13,1376.06 1778.13,1384.24 1779.22,1384.24 1779.22,1376.06 1778.13,1376.06 \n  \"/>\n<path clip-path=\"url(#clip352)\" d=\"\nM1779.22 1367.88 L1779.22 1384.24 L1780.31 1384.24 L1780.31 1367.88 L1779.22 1367.88 L1779.22 1367.88  Z\n  \" fill=\"#009af9\" fill-rule=\"evenodd\" fill-opacity=\"1\"/>\n<polyline clip-path=\"url(#clip352)\" style=\"stroke:#000000; stroke-linecap:butt; stroke-linejoin:round; stroke-width:4; stroke-opacity:1; fill:none\" points=\"\n  1779.22,1367.88 1779.22,1384.24 1780.31,1384.24 1780.31,1367.88 1779.22,1367.88 \n  \"/>\n<path clip-path=\"url(#clip352)\" d=\"\nM1780.31 1370.6 L1780.31 1384.24 L1781.4 1384.24 L1781.4 1370.6 L1780.31 1370.6 L1780.31 1370.6  Z\n  \" fill=\"#009af9\" fill-rule=\"evenodd\" fill-opacity=\"1\"/>\n<polyline clip-path=\"url(#clip352)\" style=\"stroke:#000000; stroke-linecap:butt; stroke-linejoin:round; stroke-width:4; stroke-opacity:1; fill:none\" points=\"\n  1780.31,1370.6 1780.31,1384.24 1781.4,1384.24 1781.4,1370.6 1780.31,1370.6 \n  \"/>\n<path clip-path=\"url(#clip352)\" d=\"\nM1781.4 1365.15 L1781.4 1384.24 L1782.49 1384.24 L1782.49 1365.15 L1781.4 1365.15 L1781.4 1365.15  Z\n  \" fill=\"#009af9\" fill-rule=\"evenodd\" fill-opacity=\"1\"/>\n<polyline clip-path=\"url(#clip352)\" style=\"stroke:#000000; stroke-linecap:butt; stroke-linejoin:round; stroke-width:4; stroke-opacity:1; fill:none\" points=\"\n  1781.4,1365.15 1781.4,1384.24 1782.49,1384.24 1782.49,1365.15 1781.4,1365.15 \n  \"/>\n<path clip-path=\"url(#clip352)\" d=\"\nM1782.49 1354.24 L1782.49 1384.24 L1783.58 1384.24 L1783.58 1354.24 L1782.49 1354.24 L1782.49 1354.24  Z\n  \" fill=\"#009af9\" fill-rule=\"evenodd\" fill-opacity=\"1\"/>\n<polyline clip-path=\"url(#clip352)\" style=\"stroke:#000000; stroke-linecap:butt; stroke-linejoin:round; stroke-width:4; stroke-opacity:1; fill:none\" points=\"\n  1782.49,1354.24 1782.49,1384.24 1783.58,1384.24 1783.58,1354.24 1782.49,1354.24 \n  \"/>\n<path clip-path=\"url(#clip352)\" d=\"\nM1783.58 1337.88 L1783.58 1384.24 L1784.67 1384.24 L1784.67 1337.88 L1783.58 1337.88 L1783.58 1337.88  Z\n  \" fill=\"#009af9\" fill-rule=\"evenodd\" fill-opacity=\"1\"/>\n<polyline clip-path=\"url(#clip352)\" style=\"stroke:#000000; stroke-linecap:butt; stroke-linejoin:round; stroke-width:4; stroke-opacity:1; fill:none\" points=\"\n  1783.58,1337.88 1783.58,1384.24 1784.67,1384.24 1784.67,1337.88 1783.58,1337.88 \n  \"/>\n<path clip-path=\"url(#clip352)\" d=\"\nM1784.67 1307.88 L1784.67 1384.24 L1785.76 1384.24 L1785.76 1307.88 L1784.67 1307.88 L1784.67 1307.88  Z\n  \" fill=\"#009af9\" fill-rule=\"evenodd\" fill-opacity=\"1\"/>\n<polyline clip-path=\"url(#clip352)\" style=\"stroke:#000000; stroke-linecap:butt; stroke-linejoin:round; stroke-width:4; stroke-opacity:1; fill:none\" points=\"\n  1784.67,1307.88 1784.67,1384.24 1785.76,1384.24 1785.76,1307.88 1784.67,1307.88 \n  \"/>\n<path clip-path=\"url(#clip352)\" d=\"\nM1785.76 1316.06 L1785.76 1384.24 L1786.85 1384.24 L1786.85 1316.06 L1785.76 1316.06 L1785.76 1316.06  Z\n  \" fill=\"#009af9\" fill-rule=\"evenodd\" fill-opacity=\"1\"/>\n<polyline clip-path=\"url(#clip352)\" style=\"stroke:#000000; stroke-linecap:butt; stroke-linejoin:round; stroke-width:4; stroke-opacity:1; fill:none\" points=\"\n  1785.76,1316.06 1785.76,1384.24 1786.85,1384.24 1786.85,1316.06 1785.76,1316.06 \n  \"/>\n<path clip-path=\"url(#clip352)\" d=\"\nM1786.85 1299.7 L1786.85 1384.24 L1787.94 1384.24 L1787.94 1299.7 L1786.85 1299.7 L1786.85 1299.7  Z\n  \" fill=\"#009af9\" fill-rule=\"evenodd\" fill-opacity=\"1\"/>\n<polyline clip-path=\"url(#clip352)\" style=\"stroke:#000000; stroke-linecap:butt; stroke-linejoin:round; stroke-width:4; stroke-opacity:1; fill:none\" points=\"\n  1786.85,1299.7 1786.85,1384.24 1787.94,1384.24 1787.94,1299.7 1786.85,1299.7 \n  \"/>\n<path clip-path=\"url(#clip352)\" d=\"\nM1787.94 1245.16 L1787.94 1384.24 L1789.03 1384.24 L1789.03 1245.16 L1787.94 1245.16 L1787.94 1245.16  Z\n  \" fill=\"#009af9\" fill-rule=\"evenodd\" fill-opacity=\"1\"/>\n<polyline clip-path=\"url(#clip352)\" style=\"stroke:#000000; stroke-linecap:butt; stroke-linejoin:round; stroke-width:4; stroke-opacity:1; fill:none\" points=\"\n  1787.94,1245.16 1787.94,1384.24 1789.03,1384.24 1789.03,1245.16 1787.94,1245.16 \n  \"/>\n<path clip-path=\"url(#clip352)\" d=\"\nM1789.03 1171.53 L1789.03 1384.24 L1790.12 1384.24 L1790.12 1171.53 L1789.03 1171.53 L1789.03 1171.53  Z\n  \" fill=\"#009af9\" fill-rule=\"evenodd\" fill-opacity=\"1\"/>\n<polyline clip-path=\"url(#clip352)\" style=\"stroke:#000000; stroke-linecap:butt; stroke-linejoin:round; stroke-width:4; stroke-opacity:1; fill:none\" points=\"\n  1789.03,1171.53 1789.03,1384.24 1790.12,1384.24 1790.12,1171.53 1789.03,1171.53 \n  \"/>\n<path clip-path=\"url(#clip352)\" d=\"\nM1790.12 1138.81 L1790.12 1384.24 L1791.22 1384.24 L1791.22 1138.81 L1790.12 1138.81 L1790.12 1138.81  Z\n  \" fill=\"#009af9\" fill-rule=\"evenodd\" fill-opacity=\"1\"/>\n<polyline clip-path=\"url(#clip352)\" style=\"stroke:#000000; stroke-linecap:butt; stroke-linejoin:round; stroke-width:4; stroke-opacity:1; fill:none\" points=\"\n  1790.12,1138.81 1790.12,1384.24 1791.22,1384.24 1791.22,1138.81 1790.12,1138.81 \n  \"/>\n<path clip-path=\"url(#clip352)\" d=\"\nM1791.22 1062.45 L1791.22 1384.24 L1792.31 1384.24 L1792.31 1062.45 L1791.22 1062.45 L1791.22 1062.45  Z\n  \" fill=\"#009af9\" fill-rule=\"evenodd\" fill-opacity=\"1\"/>\n<polyline clip-path=\"url(#clip352)\" style=\"stroke:#000000; stroke-linecap:butt; stroke-linejoin:round; stroke-width:4; stroke-opacity:1; fill:none\" points=\"\n  1791.22,1062.45 1791.22,1384.24 1792.31,1384.24 1792.31,1062.45 1791.22,1062.45 \n  \"/>\n<path clip-path=\"url(#clip352)\" d=\"\nM1792.31 980.642 L1792.31 1384.24 L1793.4 1384.24 L1793.4 980.642 L1792.31 980.642 L1792.31 980.642  Z\n  \" fill=\"#009af9\" fill-rule=\"evenodd\" fill-opacity=\"1\"/>\n<polyline clip-path=\"url(#clip352)\" style=\"stroke:#000000; stroke-linecap:butt; stroke-linejoin:round; stroke-width:4; stroke-opacity:1; fill:none\" points=\"\n  1792.31,980.642 1792.31,1384.24 1793.4,1384.24 1793.4,980.642 1792.31,980.642 \n  \"/>\n<path clip-path=\"url(#clip352)\" d=\"\nM1793.4 972.461 L1793.4 1384.24 L1794.49 1384.24 L1794.49 972.461 L1793.4 972.461 L1793.4 972.461  Z\n  \" fill=\"#009af9\" fill-rule=\"evenodd\" fill-opacity=\"1\"/>\n<polyline clip-path=\"url(#clip352)\" style=\"stroke:#000000; stroke-linecap:butt; stroke-linejoin:round; stroke-width:4; stroke-opacity:1; fill:none\" points=\"\n  1793.4,972.461 1793.4,1384.24 1794.49,1384.24 1794.49,972.461 1793.4,972.461 \n  \"/>\n<path clip-path=\"url(#clip352)\" d=\"\nM1794.49 866.108 L1794.49 1384.24 L1795.58 1384.24 L1795.58 866.108 L1794.49 866.108 L1794.49 866.108  Z\n  \" fill=\"#009af9\" fill-rule=\"evenodd\" fill-opacity=\"1\"/>\n<polyline clip-path=\"url(#clip352)\" style=\"stroke:#000000; stroke-linecap:butt; stroke-linejoin:round; stroke-width:4; stroke-opacity:1; fill:none\" points=\"\n  1794.49,866.108 1794.49,1384.24 1795.58,1384.24 1795.58,866.108 1794.49,866.108 \n  \"/>\n<path clip-path=\"url(#clip352)\" d=\"\nM1795.58 817.022 L1795.58 1384.24 L1796.67 1384.24 L1796.67 817.022 L1795.58 817.022 L1795.58 817.022  Z\n  \" fill=\"#009af9\" fill-rule=\"evenodd\" fill-opacity=\"1\"/>\n<polyline clip-path=\"url(#clip352)\" style=\"stroke:#000000; stroke-linecap:butt; stroke-linejoin:round; stroke-width:4; stroke-opacity:1; fill:none\" points=\"\n  1795.58,817.022 1795.58,1384.24 1796.67,1384.24 1796.67,817.022 1795.58,817.022 \n  \"/>\n<path clip-path=\"url(#clip352)\" d=\"\nM1796.67 683.399 L1796.67 1384.24 L1797.76 1384.24 L1797.76 683.399 L1796.67 683.399 L1796.67 683.399  Z\n  \" fill=\"#009af9\" fill-rule=\"evenodd\" fill-opacity=\"1\"/>\n<polyline clip-path=\"url(#clip352)\" style=\"stroke:#000000; stroke-linecap:butt; stroke-linejoin:round; stroke-width:4; stroke-opacity:1; fill:none\" points=\"\n  1796.67,683.399 1796.67,1384.24 1797.76,1384.24 1797.76,683.399 1796.67,683.399 \n  \"/>\n<path clip-path=\"url(#clip352)\" d=\"\nM1797.76 707.942 L1797.76 1384.24 L1798.85 1384.24 L1798.85 707.942 L1797.76 707.942 L1797.76 707.942  Z\n  \" fill=\"#009af9\" fill-rule=\"evenodd\" fill-opacity=\"1\"/>\n<polyline clip-path=\"url(#clip352)\" style=\"stroke:#000000; stroke-linecap:butt; stroke-linejoin:round; stroke-width:4; stroke-opacity:1; fill:none\" points=\"\n  1797.76,707.942 1797.76,1384.24 1798.85,1384.24 1798.85,707.942 1797.76,707.942 \n  \"/>\n<path clip-path=\"url(#clip352)\" d=\"\nM1798.85 601.589 L1798.85 1384.24 L1799.94 1384.24 L1799.94 601.589 L1798.85 601.589 L1798.85 601.589  Z\n  \" fill=\"#009af9\" fill-rule=\"evenodd\" fill-opacity=\"1\"/>\n<polyline clip-path=\"url(#clip352)\" style=\"stroke:#000000; stroke-linecap:butt; stroke-linejoin:round; stroke-width:4; stroke-opacity:1; fill:none\" points=\"\n  1798.85,601.589 1798.85,1384.24 1799.94,1384.24 1799.94,601.589 1798.85,601.589 \n  \"/>\n<path clip-path=\"url(#clip352)\" d=\"\nM1799.94 484.328 L1799.94 1384.24 L1801.03 1384.24 L1801.03 484.328 L1799.94 484.328 L1799.94 484.328  Z\n  \" fill=\"#009af9\" fill-rule=\"evenodd\" fill-opacity=\"1\"/>\n<polyline clip-path=\"url(#clip352)\" style=\"stroke:#000000; stroke-linecap:butt; stroke-linejoin:round; stroke-width:4; stroke-opacity:1; fill:none\" points=\"\n  1799.94,484.328 1799.94,1384.24 1801.03,1384.24 1801.03,484.328 1799.94,484.328 \n  \"/>\n<path clip-path=\"url(#clip352)\" d=\"\nM1801.03 391.61 L1801.03 1384.24 L1802.12 1384.24 L1802.12 391.61 L1801.03 391.61 L1801.03 391.61  Z\n  \" fill=\"#009af9\" fill-rule=\"evenodd\" fill-opacity=\"1\"/>\n<polyline clip-path=\"url(#clip352)\" style=\"stroke:#000000; stroke-linecap:butt; stroke-linejoin:round; stroke-width:4; stroke-opacity:1; fill:none\" points=\"\n  1801.03,391.61 1801.03,1384.24 1802.12,1384.24 1802.12,391.61 1801.03,391.61 \n  \"/>\n<path clip-path=\"url(#clip352)\" d=\"\nM1802.12 197.993 L1802.12 1384.24 L1803.21 1384.24 L1803.21 197.993 L1802.12 197.993 L1802.12 197.993  Z\n  \" fill=\"#009af9\" fill-rule=\"evenodd\" fill-opacity=\"1\"/>\n<polyline clip-path=\"url(#clip352)\" style=\"stroke:#000000; stroke-linecap:butt; stroke-linejoin:round; stroke-width:4; stroke-opacity:1; fill:none\" points=\"\n  1802.12,197.993 1802.12,1384.24 1803.21,1384.24 1803.21,197.993 1802.12,197.993 \n  \"/>\n<path clip-path=\"url(#clip352)\" d=\"\nM1803.21 187.085 L1803.21 1384.24 L1804.3 1384.24 L1804.3 187.085 L1803.21 187.085 L1803.21 187.085  Z\n  \" fill=\"#009af9\" fill-rule=\"evenodd\" fill-opacity=\"1\"/>\n<polyline clip-path=\"url(#clip352)\" style=\"stroke:#000000; stroke-linecap:butt; stroke-linejoin:round; stroke-width:4; stroke-opacity:1; fill:none\" points=\"\n  1803.21,187.085 1803.21,1384.24 1804.3,1384.24 1804.3,187.085 1803.21,187.085 \n  \"/>\n<path clip-path=\"url(#clip352)\" d=\"\nM1804.3 129.818 L1804.3 1384.24 L1805.39 1384.24 L1805.39 129.818 L1804.3 129.818 L1804.3 129.818  Z\n  \" fill=\"#009af9\" fill-rule=\"evenodd\" fill-opacity=\"1\"/>\n<polyline clip-path=\"url(#clip352)\" style=\"stroke:#000000; stroke-linecap:butt; stroke-linejoin:round; stroke-width:4; stroke-opacity:1; fill:none\" points=\"\n  1804.3,129.818 1804.3,1384.24 1805.39,1384.24 1805.39,129.818 1804.3,129.818 \n  \"/>\n<path clip-path=\"url(#clip352)\" d=\"\nM1805.39 140.726 L1805.39 1384.24 L1806.48 1384.24 L1806.48 140.726 L1805.39 140.726 L1805.39 140.726  Z\n  \" fill=\"#009af9\" fill-rule=\"evenodd\" fill-opacity=\"1\"/>\n<polyline clip-path=\"url(#clip352)\" style=\"stroke:#000000; stroke-linecap:butt; stroke-linejoin:round; stroke-width:4; stroke-opacity:1; fill:none\" points=\"\n  1805.39,140.726 1805.39,1384.24 1806.48,1384.24 1806.48,140.726 1805.39,140.726 \n  \"/>\n<path clip-path=\"url(#clip352)\" d=\"\nM1806.48 148.907 L1806.48 1384.24 L1807.57 1384.24 L1807.57 148.907 L1806.48 148.907 L1806.48 148.907  Z\n  \" fill=\"#009af9\" fill-rule=\"evenodd\" fill-opacity=\"1\"/>\n<polyline clip-path=\"url(#clip352)\" style=\"stroke:#000000; stroke-linecap:butt; stroke-linejoin:round; stroke-width:4; stroke-opacity:1; fill:none\" points=\"\n  1806.48,148.907 1806.48,1384.24 1807.57,1384.24 1807.57,148.907 1806.48,148.907 \n  \"/>\n<path clip-path=\"url(#clip352)\" d=\"\nM1807.57 113.456 L1807.57 1384.24 L1808.66 1384.24 L1808.66 113.456 L1807.57 113.456 L1807.57 113.456  Z\n  \" fill=\"#009af9\" fill-rule=\"evenodd\" fill-opacity=\"1\"/>\n<polyline clip-path=\"url(#clip352)\" style=\"stroke:#000000; stroke-linecap:butt; stroke-linejoin:round; stroke-width:4; stroke-opacity:1; fill:none\" points=\"\n  1807.57,113.456 1807.57,1384.24 1808.66,1384.24 1808.66,113.456 1807.57,113.456 \n  \"/>\n<path clip-path=\"url(#clip352)\" d=\"\nM1808.66 285.257 L1808.66 1384.24 L1809.75 1384.24 L1809.75 285.257 L1808.66 285.257 L1808.66 285.257  Z\n  \" fill=\"#009af9\" fill-rule=\"evenodd\" fill-opacity=\"1\"/>\n<polyline clip-path=\"url(#clip352)\" style=\"stroke:#000000; stroke-linecap:butt; stroke-linejoin:round; stroke-width:4; stroke-opacity:1; fill:none\" points=\"\n  1808.66,285.257 1808.66,1384.24 1809.75,1384.24 1809.75,285.257 1808.66,285.257 \n  \"/>\n<path clip-path=\"url(#clip352)\" d=\"\nM1809.75 304.346 L1809.75 1384.24 L1810.84 1384.24 L1810.84 304.346 L1809.75 304.346 L1809.75 304.346  Z\n  \" fill=\"#009af9\" fill-rule=\"evenodd\" fill-opacity=\"1\"/>\n<polyline clip-path=\"url(#clip352)\" style=\"stroke:#000000; stroke-linecap:butt; stroke-linejoin:round; stroke-width:4; stroke-opacity:1; fill:none\" points=\"\n  1809.75,304.346 1809.75,1384.24 1810.84,1384.24 1810.84,304.346 1809.75,304.346 \n  \"/>\n<path clip-path=\"url(#clip352)\" d=\"\nM1810.84 86.1857 L1810.84 1384.24 L1811.93 1384.24 L1811.93 86.1857 L1810.84 86.1857 L1810.84 86.1857  Z\n  \" fill=\"#009af9\" fill-rule=\"evenodd\" fill-opacity=\"1\"/>\n<polyline clip-path=\"url(#clip352)\" style=\"stroke:#000000; stroke-linecap:butt; stroke-linejoin:round; stroke-width:4; stroke-opacity:1; fill:none\" points=\"\n  1810.84,86.1857 1810.84,1384.24 1811.93,1384.24 1811.93,86.1857 1810.84,86.1857 \n  \"/>\n<path clip-path=\"url(#clip352)\" d=\"\nM1811.93 260.714 L1811.93 1384.24 L1813.02 1384.24 L1813.02 260.714 L1811.93 260.714 L1811.93 260.714  Z\n  \" fill=\"#009af9\" fill-rule=\"evenodd\" fill-opacity=\"1\"/>\n<polyline clip-path=\"url(#clip352)\" style=\"stroke:#000000; stroke-linecap:butt; stroke-linejoin:round; stroke-width:4; stroke-opacity:1; fill:none\" points=\"\n  1811.93,260.714 1811.93,1384.24 1813.02,1384.24 1813.02,260.714 1811.93,260.714 \n  \"/>\n<path clip-path=\"url(#clip352)\" d=\"\nM1813.02 320.708 L1813.02 1384.24 L1814.11 1384.24 L1814.11 320.708 L1813.02 320.708 L1813.02 320.708  Z\n  \" fill=\"#009af9\" fill-rule=\"evenodd\" fill-opacity=\"1\"/>\n<polyline clip-path=\"url(#clip352)\" style=\"stroke:#000000; stroke-linecap:butt; stroke-linejoin:round; stroke-width:4; stroke-opacity:1; fill:none\" points=\"\n  1813.02,320.708 1813.02,1384.24 1814.11,1384.24 1814.11,320.708 1813.02,320.708 \n  \"/>\n<path clip-path=\"url(#clip352)\" d=\"\nM1814.11 429.788 L1814.11 1384.24 L1815.2 1384.24 L1815.2 429.788 L1814.11 429.788 L1814.11 429.788  Z\n  \" fill=\"#009af9\" fill-rule=\"evenodd\" fill-opacity=\"1\"/>\n<polyline clip-path=\"url(#clip352)\" style=\"stroke:#000000; stroke-linecap:butt; stroke-linejoin:round; stroke-width:4; stroke-opacity:1; fill:none\" points=\"\n  1814.11,429.788 1814.11,1384.24 1815.2,1384.24 1815.2,429.788 1814.11,429.788 \n  \"/>\n<path clip-path=\"url(#clip352)\" d=\"\nM1815.2 448.877 L1815.2 1384.24 L1816.29 1384.24 L1816.29 448.877 L1815.2 448.877 L1815.2 448.877  Z\n  \" fill=\"#009af9\" fill-rule=\"evenodd\" fill-opacity=\"1\"/>\n<polyline clip-path=\"url(#clip352)\" style=\"stroke:#000000; stroke-linecap:butt; stroke-linejoin:round; stroke-width:4; stroke-opacity:1; fill:none\" points=\"\n  1815.2,448.877 1815.2,1384.24 1816.29,1384.24 1816.29,448.877 1815.2,448.877 \n  \"/>\n<path clip-path=\"url(#clip352)\" d=\"\nM1816.29 623.405 L1816.29 1384.24 L1817.38 1384.24 L1817.38 623.405 L1816.29 623.405 L1816.29 623.405  Z\n  \" fill=\"#009af9\" fill-rule=\"evenodd\" fill-opacity=\"1\"/>\n<polyline clip-path=\"url(#clip352)\" style=\"stroke:#000000; stroke-linecap:butt; stroke-linejoin:round; stroke-width:4; stroke-opacity:1; fill:none\" points=\"\n  1816.29,623.405 1816.29,1384.24 1817.38,1384.24 1817.38,623.405 1816.29,623.405 \n  \"/>\n<path clip-path=\"url(#clip352)\" d=\"\nM1817.38 593.408 L1817.38 1384.24 L1818.47 1384.24 L1818.47 593.408 L1817.38 593.408 L1817.38 593.408  Z\n  \" fill=\"#009af9\" fill-rule=\"evenodd\" fill-opacity=\"1\"/>\n<polyline clip-path=\"url(#clip352)\" style=\"stroke:#000000; stroke-linecap:butt; stroke-linejoin:round; stroke-width:4; stroke-opacity:1; fill:none\" points=\"\n  1817.38,593.408 1817.38,1384.24 1818.47,1384.24 1818.47,593.408 1817.38,593.408 \n  \"/>\n<path clip-path=\"url(#clip352)\" d=\"\nM1818.47 825.203 L1818.47 1384.24 L1819.56 1384.24 L1819.56 825.203 L1818.47 825.203 L1818.47 825.203  Z\n  \" fill=\"#009af9\" fill-rule=\"evenodd\" fill-opacity=\"1\"/>\n<polyline clip-path=\"url(#clip352)\" style=\"stroke:#000000; stroke-linecap:butt; stroke-linejoin:round; stroke-width:4; stroke-opacity:1; fill:none\" points=\"\n  1818.47,825.203 1818.47,1384.24 1819.56,1384.24 1819.56,825.203 1818.47,825.203 \n  \"/>\n<path clip-path=\"url(#clip352)\" d=\"\nM1819.56 787.025 L1819.56 1384.24 L1820.66 1384.24 L1820.66 787.025 L1819.56 787.025 L1819.56 787.025  Z\n  \" fill=\"#009af9\" fill-rule=\"evenodd\" fill-opacity=\"1\"/>\n<polyline clip-path=\"url(#clip352)\" style=\"stroke:#000000; stroke-linecap:butt; stroke-linejoin:round; stroke-width:4; stroke-opacity:1; fill:none\" points=\"\n  1819.56,787.025 1819.56,1384.24 1820.66,1384.24 1820.66,787.025 1819.56,787.025 \n  \"/>\n<path clip-path=\"url(#clip352)\" d=\"\nM1820.66 923.375 L1820.66 1384.24 L1821.75 1384.24 L1821.75 923.375 L1820.66 923.375 L1820.66 923.375  Z\n  \" fill=\"#009af9\" fill-rule=\"evenodd\" fill-opacity=\"1\"/>\n<polyline clip-path=\"url(#clip352)\" style=\"stroke:#000000; stroke-linecap:butt; stroke-linejoin:round; stroke-width:4; stroke-opacity:1; fill:none\" points=\"\n  1820.66,923.375 1820.66,1384.24 1821.75,1384.24 1821.75,923.375 1820.66,923.375 \n  \"/>\n<path clip-path=\"url(#clip352)\" d=\"\nM1821.75 1035.18 L1821.75 1384.24 L1822.84 1384.24 L1822.84 1035.18 L1821.75 1035.18 L1821.75 1035.18  Z\n  \" fill=\"#009af9\" fill-rule=\"evenodd\" fill-opacity=\"1\"/>\n<polyline clip-path=\"url(#clip352)\" style=\"stroke:#000000; stroke-linecap:butt; stroke-linejoin:round; stroke-width:4; stroke-opacity:1; fill:none\" points=\"\n  1821.75,1035.18 1821.75,1384.24 1822.84,1384.24 1822.84,1035.18 1821.75,1035.18 \n  \"/>\n<path clip-path=\"url(#clip352)\" d=\"\nM1822.84 1073.36 L1822.84 1384.24 L1823.93 1384.24 L1823.93 1073.36 L1822.84 1073.36 L1822.84 1073.36  Z\n  \" fill=\"#009af9\" fill-rule=\"evenodd\" fill-opacity=\"1\"/>\n<polyline clip-path=\"url(#clip352)\" style=\"stroke:#000000; stroke-linecap:butt; stroke-linejoin:round; stroke-width:4; stroke-opacity:1; fill:none\" points=\"\n  1822.84,1073.36 1822.84,1384.24 1823.93,1384.24 1823.93,1073.36 1822.84,1073.36 \n  \"/>\n<path clip-path=\"url(#clip352)\" d=\"\nM1823.93 1136.08 L1823.93 1384.24 L1825.02 1384.24 L1825.02 1136.08 L1823.93 1136.08 L1823.93 1136.08  Z\n  \" fill=\"#009af9\" fill-rule=\"evenodd\" fill-opacity=\"1\"/>\n<polyline clip-path=\"url(#clip352)\" style=\"stroke:#000000; stroke-linecap:butt; stroke-linejoin:round; stroke-width:4; stroke-opacity:1; fill:none\" points=\"\n  1823.93,1136.08 1823.93,1384.24 1825.02,1384.24 1825.02,1136.08 1823.93,1136.08 \n  \"/>\n<path clip-path=\"url(#clip352)\" d=\"\nM1825.02 1187.89 L1825.02 1384.24 L1826.11 1384.24 L1826.11 1187.89 L1825.02 1187.89 L1825.02 1187.89  Z\n  \" fill=\"#009af9\" fill-rule=\"evenodd\" fill-opacity=\"1\"/>\n<polyline clip-path=\"url(#clip352)\" style=\"stroke:#000000; stroke-linecap:butt; stroke-linejoin:round; stroke-width:4; stroke-opacity:1; fill:none\" points=\"\n  1825.02,1187.89 1825.02,1384.24 1826.11,1384.24 1826.11,1187.89 1825.02,1187.89 \n  \"/>\n<path clip-path=\"url(#clip352)\" d=\"\nM1826.11 1168.81 L1826.11 1384.24 L1827.2 1384.24 L1827.2 1168.81 L1826.11 1168.81 L1826.11 1168.81  Z\n  \" fill=\"#009af9\" fill-rule=\"evenodd\" fill-opacity=\"1\"/>\n<polyline clip-path=\"url(#clip352)\" style=\"stroke:#000000; stroke-linecap:butt; stroke-linejoin:round; stroke-width:4; stroke-opacity:1; fill:none\" points=\"\n  1826.11,1168.81 1826.11,1384.24 1827.2,1384.24 1827.2,1168.81 1826.11,1168.81 \n  \"/>\n<path clip-path=\"url(#clip352)\" d=\"\nM1827.2 1242.43 L1827.2 1384.24 L1828.29 1384.24 L1828.29 1242.43 L1827.2 1242.43 L1827.2 1242.43  Z\n  \" fill=\"#009af9\" fill-rule=\"evenodd\" fill-opacity=\"1\"/>\n<polyline clip-path=\"url(#clip352)\" style=\"stroke:#000000; stroke-linecap:butt; stroke-linejoin:round; stroke-width:4; stroke-opacity:1; fill:none\" points=\"\n  1827.2,1242.43 1827.2,1384.24 1828.29,1384.24 1828.29,1242.43 1827.2,1242.43 \n  \"/>\n<path clip-path=\"url(#clip352)\" d=\"\nM1828.29 1277.89 L1828.29 1384.24 L1829.38 1384.24 L1829.38 1277.89 L1828.29 1277.89 L1828.29 1277.89  Z\n  \" fill=\"#009af9\" fill-rule=\"evenodd\" fill-opacity=\"1\"/>\n<polyline clip-path=\"url(#clip352)\" style=\"stroke:#000000; stroke-linecap:butt; stroke-linejoin:round; stroke-width:4; stroke-opacity:1; fill:none\" points=\"\n  1828.29,1277.89 1828.29,1384.24 1829.38,1384.24 1829.38,1277.89 1828.29,1277.89 \n  \"/>\n<path clip-path=\"url(#clip352)\" d=\"\nM1829.38 1326.97 L1829.38 1384.24 L1830.47 1384.24 L1830.47 1326.97 L1829.38 1326.97 L1829.38 1326.97  Z\n  \" fill=\"#009af9\" fill-rule=\"evenodd\" fill-opacity=\"1\"/>\n<polyline clip-path=\"url(#clip352)\" style=\"stroke:#000000; stroke-linecap:butt; stroke-linejoin:round; stroke-width:4; stroke-opacity:1; fill:none\" points=\"\n  1829.38,1326.97 1829.38,1384.24 1830.47,1384.24 1830.47,1326.97 1829.38,1326.97 \n  \"/>\n<path clip-path=\"url(#clip352)\" d=\"\nM1830.47 1310.61 L1830.47 1384.24 L1831.56 1384.24 L1831.56 1310.61 L1830.47 1310.61 L1830.47 1310.61  Z\n  \" fill=\"#009af9\" fill-rule=\"evenodd\" fill-opacity=\"1\"/>\n<polyline clip-path=\"url(#clip352)\" style=\"stroke:#000000; stroke-linecap:butt; stroke-linejoin:round; stroke-width:4; stroke-opacity:1; fill:none\" points=\"\n  1830.47,1310.61 1830.47,1384.24 1831.56,1384.24 1831.56,1310.61 1830.47,1310.61 \n  \"/>\n<path clip-path=\"url(#clip352)\" d=\"\nM1831.56 1335.15 L1831.56 1384.24 L1832.65 1384.24 L1832.65 1335.15 L1831.56 1335.15 L1831.56 1335.15  Z\n  \" fill=\"#009af9\" fill-rule=\"evenodd\" fill-opacity=\"1\"/>\n<polyline clip-path=\"url(#clip352)\" style=\"stroke:#000000; stroke-linecap:butt; stroke-linejoin:round; stroke-width:4; stroke-opacity:1; fill:none\" points=\"\n  1831.56,1335.15 1831.56,1384.24 1832.65,1384.24 1832.65,1335.15 1831.56,1335.15 \n  \"/>\n<path clip-path=\"url(#clip352)\" d=\"\nM1832.65 1335.15 L1832.65 1384.24 L1833.74 1384.24 L1833.74 1335.15 L1832.65 1335.15 L1832.65 1335.15  Z\n  \" fill=\"#009af9\" fill-rule=\"evenodd\" fill-opacity=\"1\"/>\n<polyline clip-path=\"url(#clip352)\" style=\"stroke:#000000; stroke-linecap:butt; stroke-linejoin:round; stroke-width:4; stroke-opacity:1; fill:none\" points=\"\n  1832.65,1335.15 1832.65,1384.24 1833.74,1384.24 1833.74,1335.15 1832.65,1335.15 \n  \"/>\n<path clip-path=\"url(#clip352)\" d=\"\nM1833.74 1348.79 L1833.74 1384.24 L1834.83 1384.24 L1834.83 1348.79 L1833.74 1348.79 L1833.74 1348.79  Z\n  \" fill=\"#009af9\" fill-rule=\"evenodd\" fill-opacity=\"1\"/>\n<polyline clip-path=\"url(#clip352)\" style=\"stroke:#000000; stroke-linecap:butt; stroke-linejoin:round; stroke-width:4; stroke-opacity:1; fill:none\" points=\"\n  1833.74,1348.79 1833.74,1384.24 1834.83,1384.24 1834.83,1348.79 1833.74,1348.79 \n  \"/>\n<path clip-path=\"url(#clip352)\" d=\"\nM1834.83 1359.7 L1834.83 1384.24 L1835.92 1384.24 L1835.92 1359.7 L1834.83 1359.7 L1834.83 1359.7  Z\n  \" fill=\"#009af9\" fill-rule=\"evenodd\" fill-opacity=\"1\"/>\n<polyline clip-path=\"url(#clip352)\" style=\"stroke:#000000; stroke-linecap:butt; stroke-linejoin:round; stroke-width:4; stroke-opacity:1; fill:none\" points=\"\n  1834.83,1359.7 1834.83,1384.24 1835.92,1384.24 1835.92,1359.7 1834.83,1359.7 \n  \"/>\n<path clip-path=\"url(#clip352)\" d=\"\nM1835.92 1370.6 L1835.92 1384.24 L1837.01 1384.24 L1837.01 1370.6 L1835.92 1370.6 L1835.92 1370.6  Z\n  \" fill=\"#009af9\" fill-rule=\"evenodd\" fill-opacity=\"1\"/>\n<polyline clip-path=\"url(#clip352)\" style=\"stroke:#000000; stroke-linecap:butt; stroke-linejoin:round; stroke-width:4; stroke-opacity:1; fill:none\" points=\"\n  1835.92,1370.6 1835.92,1384.24 1837.01,1384.24 1837.01,1370.6 1835.92,1370.6 \n  \"/>\n<path clip-path=\"url(#clip352)\" d=\"\nM1837.01 1373.33 L1837.01 1384.24 L1838.1 1384.24 L1838.1 1373.33 L1837.01 1373.33 L1837.01 1373.33  Z\n  \" fill=\"#009af9\" fill-rule=\"evenodd\" fill-opacity=\"1\"/>\n<polyline clip-path=\"url(#clip352)\" style=\"stroke:#000000; stroke-linecap:butt; stroke-linejoin:round; stroke-width:4; stroke-opacity:1; fill:none\" points=\"\n  1837.01,1373.33 1837.01,1384.24 1838.1,1384.24 1838.1,1373.33 1837.01,1373.33 \n  \"/>\n<path clip-path=\"url(#clip352)\" d=\"\nM1838.1 1373.33 L1838.1 1384.24 L1839.19 1384.24 L1839.19 1373.33 L1838.1 1373.33 L1838.1 1373.33  Z\n  \" fill=\"#009af9\" fill-rule=\"evenodd\" fill-opacity=\"1\"/>\n<polyline clip-path=\"url(#clip352)\" style=\"stroke:#000000; stroke-linecap:butt; stroke-linejoin:round; stroke-width:4; stroke-opacity:1; fill:none\" points=\"\n  1838.1,1373.33 1838.1,1384.24 1839.19,1384.24 1839.19,1373.33 1838.1,1373.33 \n  \"/>\n<path clip-path=\"url(#clip352)\" d=\"\nM1839.19 1376.06 L1839.19 1384.24 L1840.28 1384.24 L1840.28 1376.06 L1839.19 1376.06 L1839.19 1376.06  Z\n  \" fill=\"#009af9\" fill-rule=\"evenodd\" fill-opacity=\"1\"/>\n<polyline clip-path=\"url(#clip352)\" style=\"stroke:#000000; stroke-linecap:butt; stroke-linejoin:round; stroke-width:4; stroke-opacity:1; fill:none\" points=\"\n  1839.19,1376.06 1839.19,1384.24 1840.28,1384.24 1840.28,1376.06 1839.19,1376.06 \n  \"/>\n<path clip-path=\"url(#clip352)\" d=\"\nM1840.28 1384.24 L1840.28 1384.24 L1841.37 1384.24 L1841.37 1384.24 L1840.28 1384.24 L1840.28 1384.24  Z\n  \" fill=\"#009af9\" fill-rule=\"evenodd\" fill-opacity=\"1\"/>\n<polyline clip-path=\"url(#clip352)\" style=\"stroke:#000000; stroke-linecap:butt; stroke-linejoin:round; stroke-width:4; stroke-opacity:1; fill:none\" points=\"\n  1840.28,1384.24 1840.28,1384.24 1841.37,1384.24 1840.28,1384.24 \n  \"/>\n<path clip-path=\"url(#clip352)\" d=\"\nM1841.37 1381.51 L1841.37 1384.24 L1842.46 1384.24 L1842.46 1381.51 L1841.37 1381.51 L1841.37 1381.51  Z\n  \" fill=\"#009af9\" fill-rule=\"evenodd\" fill-opacity=\"1\"/>\n<polyline clip-path=\"url(#clip352)\" style=\"stroke:#000000; stroke-linecap:butt; stroke-linejoin:round; stroke-width:4; stroke-opacity:1; fill:none\" points=\"\n  1841.37,1381.51 1841.37,1384.24 1842.46,1384.24 1842.46,1381.51 1841.37,1381.51 \n  \"/>\n<circle clip-path=\"url(#clip352)\" style=\"fill:#009af9; stroke:none; fill-opacity:0\" cx=\"1776.5\" cy=\"1378.78\" r=\"2\"/>\n<circle clip-path=\"url(#clip352)\" style=\"fill:#009af9; stroke:none; fill-opacity:0\" cx=\"1777.59\" cy=\"1367.88\" r=\"2\"/>\n<circle clip-path=\"url(#clip352)\" style=\"fill:#009af9; stroke:none; fill-opacity:0\" cx=\"1778.68\" cy=\"1376.06\" r=\"2\"/>\n<circle clip-path=\"url(#clip352)\" style=\"fill:#009af9; stroke:none; fill-opacity:0\" cx=\"1779.77\" cy=\"1367.88\" r=\"2\"/>\n<circle clip-path=\"url(#clip352)\" style=\"fill:#009af9; stroke:none; fill-opacity:0\" cx=\"1780.86\" cy=\"1370.6\" r=\"2\"/>\n<circle clip-path=\"url(#clip352)\" style=\"fill:#009af9; stroke:none; fill-opacity:0\" cx=\"1781.95\" cy=\"1365.15\" r=\"2\"/>\n<circle clip-path=\"url(#clip352)\" style=\"fill:#009af9; stroke:none; fill-opacity:0\" cx=\"1783.04\" cy=\"1354.24\" r=\"2\"/>\n<circle clip-path=\"url(#clip352)\" style=\"fill:#009af9; stroke:none; fill-opacity:0\" cx=\"1784.13\" cy=\"1337.88\" r=\"2\"/>\n<circle clip-path=\"url(#clip352)\" style=\"fill:#009af9; stroke:none; fill-opacity:0\" cx=\"1785.22\" cy=\"1307.88\" r=\"2\"/>\n<circle clip-path=\"url(#clip352)\" style=\"fill:#009af9; stroke:none; fill-opacity:0\" cx=\"1786.31\" cy=\"1316.06\" r=\"2\"/>\n<circle clip-path=\"url(#clip352)\" style=\"fill:#009af9; stroke:none; fill-opacity:0\" cx=\"1787.4\" cy=\"1299.7\" r=\"2\"/>\n<circle clip-path=\"url(#clip352)\" style=\"fill:#009af9; stroke:none; fill-opacity:0\" cx=\"1788.49\" cy=\"1245.16\" r=\"2\"/>\n<circle clip-path=\"url(#clip352)\" style=\"fill:#009af9; stroke:none; fill-opacity:0\" cx=\"1789.58\" cy=\"1171.53\" r=\"2\"/>\n<circle clip-path=\"url(#clip352)\" style=\"fill:#009af9; stroke:none; fill-opacity:0\" cx=\"1790.67\" cy=\"1138.81\" r=\"2\"/>\n<circle clip-path=\"url(#clip352)\" style=\"fill:#009af9; stroke:none; fill-opacity:0\" cx=\"1791.76\" cy=\"1062.45\" r=\"2\"/>\n<circle clip-path=\"url(#clip352)\" style=\"fill:#009af9; stroke:none; fill-opacity:0\" cx=\"1792.85\" cy=\"980.642\" r=\"2\"/>\n<circle clip-path=\"url(#clip352)\" style=\"fill:#009af9; stroke:none; fill-opacity:0\" cx=\"1793.94\" cy=\"972.461\" r=\"2\"/>\n<circle clip-path=\"url(#clip352)\" style=\"fill:#009af9; stroke:none; fill-opacity:0\" cx=\"1795.03\" cy=\"866.108\" r=\"2\"/>\n<circle clip-path=\"url(#clip352)\" style=\"fill:#009af9; stroke:none; fill-opacity:0\" cx=\"1796.12\" cy=\"817.022\" r=\"2\"/>\n<circle clip-path=\"url(#clip352)\" style=\"fill:#009af9; stroke:none; fill-opacity:0\" cx=\"1797.21\" cy=\"683.399\" r=\"2\"/>\n<circle clip-path=\"url(#clip352)\" style=\"fill:#009af9; stroke:none; fill-opacity:0\" cx=\"1798.3\" cy=\"707.942\" r=\"2\"/>\n<circle clip-path=\"url(#clip352)\" style=\"fill:#009af9; stroke:none; fill-opacity:0\" cx=\"1799.39\" cy=\"601.589\" r=\"2\"/>\n<circle clip-path=\"url(#clip352)\" style=\"fill:#009af9; stroke:none; fill-opacity:0\" cx=\"1800.48\" cy=\"484.328\" r=\"2\"/>\n<circle clip-path=\"url(#clip352)\" style=\"fill:#009af9; stroke:none; fill-opacity:0\" cx=\"1801.57\" cy=\"391.61\" r=\"2\"/>\n<circle clip-path=\"url(#clip352)\" style=\"fill:#009af9; stroke:none; fill-opacity:0\" cx=\"1802.66\" cy=\"197.993\" r=\"2\"/>\n<circle clip-path=\"url(#clip352)\" style=\"fill:#009af9; stroke:none; fill-opacity:0\" cx=\"1803.75\" cy=\"187.085\" r=\"2\"/>\n<circle clip-path=\"url(#clip352)\" style=\"fill:#009af9; stroke:none; fill-opacity:0\" cx=\"1804.84\" cy=\"129.818\" r=\"2\"/>\n<circle clip-path=\"url(#clip352)\" style=\"fill:#009af9; stroke:none; fill-opacity:0\" cx=\"1805.94\" cy=\"140.726\" r=\"2\"/>\n<circle clip-path=\"url(#clip352)\" style=\"fill:#009af9; stroke:none; fill-opacity:0\" cx=\"1807.03\" cy=\"148.907\" r=\"2\"/>\n<circle clip-path=\"url(#clip352)\" style=\"fill:#009af9; stroke:none; fill-opacity:0\" cx=\"1808.12\" cy=\"113.456\" r=\"2\"/>\n<circle clip-path=\"url(#clip352)\" style=\"fill:#009af9; stroke:none; fill-opacity:0\" cx=\"1809.21\" cy=\"285.257\" r=\"2\"/>\n<circle clip-path=\"url(#clip352)\" style=\"fill:#009af9; stroke:none; fill-opacity:0\" cx=\"1810.3\" cy=\"304.346\" r=\"2\"/>\n<circle clip-path=\"url(#clip352)\" style=\"fill:#009af9; stroke:none; fill-opacity:0\" cx=\"1811.39\" cy=\"86.1857\" r=\"2\"/>\n<circle clip-path=\"url(#clip352)\" style=\"fill:#009af9; stroke:none; fill-opacity:0\" cx=\"1812.48\" cy=\"260.714\" r=\"2\"/>\n<circle clip-path=\"url(#clip352)\" style=\"fill:#009af9; stroke:none; fill-opacity:0\" cx=\"1813.57\" cy=\"320.708\" r=\"2\"/>\n<circle clip-path=\"url(#clip352)\" style=\"fill:#009af9; stroke:none; fill-opacity:0\" cx=\"1814.66\" cy=\"429.788\" r=\"2\"/>\n<circle clip-path=\"url(#clip352)\" style=\"fill:#009af9; stroke:none; fill-opacity:0\" cx=\"1815.75\" cy=\"448.877\" r=\"2\"/>\n<circle clip-path=\"url(#clip352)\" style=\"fill:#009af9; stroke:none; fill-opacity:0\" cx=\"1816.84\" cy=\"623.405\" r=\"2\"/>\n<circle clip-path=\"url(#clip352)\" style=\"fill:#009af9; stroke:none; fill-opacity:0\" cx=\"1817.93\" cy=\"593.408\" r=\"2\"/>\n<circle clip-path=\"url(#clip352)\" style=\"fill:#009af9; stroke:none; fill-opacity:0\" cx=\"1819.02\" cy=\"825.203\" r=\"2\"/>\n<circle clip-path=\"url(#clip352)\" style=\"fill:#009af9; stroke:none; fill-opacity:0\" cx=\"1820.11\" cy=\"787.025\" r=\"2\"/>\n<circle clip-path=\"url(#clip352)\" style=\"fill:#009af9; stroke:none; fill-opacity:0\" cx=\"1821.2\" cy=\"923.375\" r=\"2\"/>\n<circle clip-path=\"url(#clip352)\" style=\"fill:#009af9; stroke:none; fill-opacity:0\" cx=\"1822.29\" cy=\"1035.18\" r=\"2\"/>\n<circle clip-path=\"url(#clip352)\" style=\"fill:#009af9; stroke:none; fill-opacity:0\" cx=\"1823.38\" cy=\"1073.36\" r=\"2\"/>\n<circle clip-path=\"url(#clip352)\" style=\"fill:#009af9; stroke:none; fill-opacity:0\" cx=\"1824.47\" cy=\"1136.08\" r=\"2\"/>\n<circle clip-path=\"url(#clip352)\" style=\"fill:#009af9; stroke:none; fill-opacity:0\" cx=\"1825.56\" cy=\"1187.89\" r=\"2\"/>\n<circle clip-path=\"url(#clip352)\" style=\"fill:#009af9; stroke:none; fill-opacity:0\" cx=\"1826.65\" cy=\"1168.81\" r=\"2\"/>\n<circle clip-path=\"url(#clip352)\" style=\"fill:#009af9; stroke:none; fill-opacity:0\" cx=\"1827.74\" cy=\"1242.43\" r=\"2\"/>\n<circle clip-path=\"url(#clip352)\" style=\"fill:#009af9; stroke:none; fill-opacity:0\" cx=\"1828.83\" cy=\"1277.89\" r=\"2\"/>\n<circle clip-path=\"url(#clip352)\" style=\"fill:#009af9; stroke:none; fill-opacity:0\" cx=\"1829.92\" cy=\"1326.97\" r=\"2\"/>\n<circle clip-path=\"url(#clip352)\" style=\"fill:#009af9; stroke:none; fill-opacity:0\" cx=\"1831.01\" cy=\"1310.61\" r=\"2\"/>\n<circle clip-path=\"url(#clip352)\" style=\"fill:#009af9; stroke:none; fill-opacity:0\" cx=\"1832.1\" cy=\"1335.15\" r=\"2\"/>\n<circle clip-path=\"url(#clip352)\" style=\"fill:#009af9; stroke:none; fill-opacity:0\" cx=\"1833.19\" cy=\"1335.15\" r=\"2\"/>\n<circle clip-path=\"url(#clip352)\" style=\"fill:#009af9; stroke:none; fill-opacity:0\" cx=\"1834.28\" cy=\"1348.79\" r=\"2\"/>\n<circle clip-path=\"url(#clip352)\" style=\"fill:#009af9; stroke:none; fill-opacity:0\" cx=\"1835.38\" cy=\"1359.7\" r=\"2\"/>\n<circle clip-path=\"url(#clip352)\" style=\"fill:#009af9; stroke:none; fill-opacity:0\" cx=\"1836.47\" cy=\"1370.6\" r=\"2\"/>\n<circle clip-path=\"url(#clip352)\" style=\"fill:#009af9; stroke:none; fill-opacity:0\" cx=\"1837.56\" cy=\"1373.33\" r=\"2\"/>\n<circle clip-path=\"url(#clip352)\" style=\"fill:#009af9; stroke:none; fill-opacity:0\" cx=\"1838.65\" cy=\"1373.33\" r=\"2\"/>\n<circle clip-path=\"url(#clip352)\" style=\"fill:#009af9; stroke:none; fill-opacity:0\" cx=\"1839.74\" cy=\"1376.06\" r=\"2\"/>\n<circle clip-path=\"url(#clip352)\" style=\"fill:#009af9; stroke:none; fill-opacity:0\" cx=\"1840.83\" cy=\"1384.24\" r=\"2\"/>\n<circle clip-path=\"url(#clip352)\" style=\"fill:#009af9; stroke:none; fill-opacity:0\" cx=\"1841.92\" cy=\"1381.51\" r=\"2\"/>\n</svg>\n"
     },
     "execution_count": 31,
     "metadata": {},
     "output_type": "execute_result"
    }
   ],
   "source": [
    "using Plots\n",
    "let\n",
    "\tp = histogram(v, xlims=(-1,1), label=\"\", xlabel=\"Cosine similairty\")\n",
    "end"
   ]
  },
  {
   "cell_type": "markdown",
   "metadata": {},
   "source": [
    "The same as above has been done for binary vectors, around 0.25 so also 75%?"
   ]
  },
  {
   "cell_type": "code",
   "execution_count": 32,
   "metadata": {},
   "outputs": [],
   "source": [
    "v = Vector()\n",
    "for i in 1:10000\n",
    "    a, b, c, x, y, z = bitHDV(), bitHDV(), bitHDV(), bitHDV(), bitHDV(), bitHDV()\n",
    "    d = bitadd(bitbind(a, x), bitbind(b, y), bitbind(c, z))\n",
    "    ap = bitbind(x, d)\n",
    "    score = hamming(ap, a)\n",
    "    append!(v, score)\n",
    "end"
   ]
  },
  {
   "cell_type": "code",
   "execution_count": 33,
   "metadata": {},
   "outputs": [
    {
     "data": {
      "image/svg+xml": "<?xml version=\"1.0\" encoding=\"utf-8\"?>\n<svg xmlns=\"http://www.w3.org/2000/svg\" xmlns:xlink=\"http://www.w3.org/1999/xlink\" width=\"600\" height=\"400\" viewBox=\"0 0 2400 1600\">\n<defs>\n  <clipPath id=\"clip390\">\n    <rect x=\"0\" y=\"0\" width=\"2400\" height=\"1600\"/>\n  </clipPath>\n</defs>\n<path clip-path=\"url(#clip390)\" d=\"\nM0 1600 L2400 1600 L2400 0 L0 0  Z\n  \" fill=\"#ffffff\" fill-rule=\"evenodd\" fill-opacity=\"1\"/>\n<defs>\n  <clipPath id=\"clip391\">\n    <rect x=\"480\" y=\"0\" width=\"1681\" height=\"1600\"/>\n  </clipPath>\n</defs>\n<path clip-path=\"url(#clip390)\" d=\"\nM172.015 1423.18 L2352.76 1423.18 L2352.76 47.2441 L172.015 47.2441  Z\n  \" fill=\"#ffffff\" fill-rule=\"evenodd\" fill-opacity=\"1\"/>\n<defs>\n  <clipPath id=\"clip392\">\n    <rect x=\"172\" y=\"47\" width=\"2182\" height=\"1377\"/>\n  </clipPath>\n</defs>\n<polyline clip-path=\"url(#clip392)\" style=\"stroke:#000000; stroke-linecap:butt; stroke-linejoin:round; stroke-width:2; stroke-opacity:0.1; fill:none\" points=\"\n  172.015,1423.18 172.015,47.2441 \n  \"/>\n<polyline clip-path=\"url(#clip392)\" style=\"stroke:#000000; stroke-linecap:butt; stroke-linejoin:round; stroke-width:2; stroke-opacity:0.1; fill:none\" points=\"\n  608.163,1423.18 608.163,47.2441 \n  \"/>\n<polyline clip-path=\"url(#clip392)\" style=\"stroke:#000000; stroke-linecap:butt; stroke-linejoin:round; stroke-width:2; stroke-opacity:0.1; fill:none\" points=\"\n  1044.31,1423.18 1044.31,47.2441 \n  \"/>\n<polyline clip-path=\"url(#clip392)\" style=\"stroke:#000000; stroke-linecap:butt; stroke-linejoin:round; stroke-width:2; stroke-opacity:0.1; fill:none\" points=\"\n  1480.46,1423.18 1480.46,47.2441 \n  \"/>\n<polyline clip-path=\"url(#clip392)\" style=\"stroke:#000000; stroke-linecap:butt; stroke-linejoin:round; stroke-width:2; stroke-opacity:0.1; fill:none\" points=\"\n  1916.61,1423.18 1916.61,47.2441 \n  \"/>\n<polyline clip-path=\"url(#clip392)\" style=\"stroke:#000000; stroke-linecap:butt; stroke-linejoin:round; stroke-width:2; stroke-opacity:0.1; fill:none\" points=\"\n  2352.76,1423.18 2352.76,47.2441 \n  \"/>\n<polyline clip-path=\"url(#clip390)\" style=\"stroke:#000000; stroke-linecap:butt; stroke-linejoin:round; stroke-width:4; stroke-opacity:1; fill:none\" points=\"\n  172.015,1423.18 2352.76,1423.18 \n  \"/>\n<polyline clip-path=\"url(#clip390)\" style=\"stroke:#000000; stroke-linecap:butt; stroke-linejoin:round; stroke-width:4; stroke-opacity:1; fill:none\" points=\"\n  172.015,1423.18 172.015,1404.28 \n  \"/>\n<polyline clip-path=\"url(#clip390)\" style=\"stroke:#000000; stroke-linecap:butt; stroke-linejoin:round; stroke-width:4; stroke-opacity:1; fill:none\" points=\"\n  608.163,1423.18 608.163,1404.28 \n  \"/>\n<polyline clip-path=\"url(#clip390)\" style=\"stroke:#000000; stroke-linecap:butt; stroke-linejoin:round; stroke-width:4; stroke-opacity:1; fill:none\" points=\"\n  1044.31,1423.18 1044.31,1404.28 \n  \"/>\n<polyline clip-path=\"url(#clip390)\" style=\"stroke:#000000; stroke-linecap:butt; stroke-linejoin:round; stroke-width:4; stroke-opacity:1; fill:none\" points=\"\n  1480.46,1423.18 1480.46,1404.28 \n  \"/>\n<polyline clip-path=\"url(#clip390)\" style=\"stroke:#000000; stroke-linecap:butt; stroke-linejoin:round; stroke-width:4; stroke-opacity:1; fill:none\" points=\"\n  1916.61,1423.18 1916.61,1404.28 \n  \"/>\n<polyline clip-path=\"url(#clip390)\" style=\"stroke:#000000; stroke-linecap:butt; stroke-linejoin:round; stroke-width:4; stroke-opacity:1; fill:none\" points=\"\n  2352.76,1423.18 2352.76,1404.28 \n  \"/>\n<path clip-path=\"url(#clip390)\" d=\"M149.399 1454.1 Q145.788 1454.1 143.959 1457.66 Q142.154 1461.2 142.154 1468.33 Q142.154 1475.44 143.959 1479.01 Q145.788 1482.55 149.399 1482.55 Q153.033 1482.55 154.839 1479.01 Q156.668 1475.44 156.668 1468.33 Q156.668 1461.2 154.839 1457.66 Q153.033 1454.1 149.399 1454.1 M149.399 1450.39 Q155.209 1450.39 158.265 1455 Q161.344 1459.58 161.344 1468.33 Q161.344 1477.06 158.265 1481.67 Q155.209 1486.25 149.399 1486.25 Q143.589 1486.25 140.51 1481.67 Q137.455 1477.06 137.455 1468.33 Q137.455 1459.58 140.51 1455 Q143.589 1450.39 149.399 1450.39 Z\" fill=\"#000000\" fill-rule=\"evenodd\" fill-opacity=\"1\" /><path clip-path=\"url(#clip390)\" d=\"M169.561 1479.7 L174.445 1479.7 L174.445 1485.58 L169.561 1485.58 L169.561 1479.7 Z\" fill=\"#000000\" fill-rule=\"evenodd\" fill-opacity=\"1\" /><path clip-path=\"url(#clip390)\" d=\"M194.63 1454.1 Q191.019 1454.1 189.191 1457.66 Q187.385 1461.2 187.385 1468.33 Q187.385 1475.44 189.191 1479.01 Q191.019 1482.55 194.63 1482.55 Q198.265 1482.55 200.07 1479.01 Q201.899 1475.44 201.899 1468.33 Q201.899 1461.2 200.07 1457.66 Q198.265 1454.1 194.63 1454.1 M194.63 1450.39 Q200.441 1450.39 203.496 1455 Q206.575 1459.58 206.575 1468.33 Q206.575 1477.06 203.496 1481.67 Q200.441 1486.25 194.63 1486.25 Q188.82 1486.25 185.742 1481.67 Q182.686 1477.06 182.686 1468.33 Q182.686 1459.58 185.742 1455 Q188.82 1450.39 194.63 1450.39 Z\" fill=\"#000000\" fill-rule=\"evenodd\" fill-opacity=\"1\" /><path clip-path=\"url(#clip390)\" d=\"M586.346 1454.1 Q582.735 1454.1 580.906 1457.66 Q579.101 1461.2 579.101 1468.33 Q579.101 1475.44 580.906 1479.01 Q582.735 1482.55 586.346 1482.55 Q589.98 1482.55 591.786 1479.01 Q593.615 1475.44 593.615 1468.33 Q593.615 1461.2 591.786 1457.66 Q589.98 1454.1 586.346 1454.1 M586.346 1450.39 Q592.156 1450.39 595.212 1455 Q598.29 1459.58 598.29 1468.33 Q598.29 1477.06 595.212 1481.67 Q592.156 1486.25 586.346 1486.25 Q580.536 1486.25 577.457 1481.67 Q574.402 1477.06 574.402 1468.33 Q574.402 1459.58 577.457 1455 Q580.536 1450.39 586.346 1450.39 Z\" fill=\"#000000\" fill-rule=\"evenodd\" fill-opacity=\"1\" /><path clip-path=\"url(#clip390)\" d=\"M606.508 1479.7 L611.392 1479.7 L611.392 1485.58 L606.508 1485.58 L606.508 1479.7 Z\" fill=\"#000000\" fill-rule=\"evenodd\" fill-opacity=\"1\" /><path clip-path=\"url(#clip390)\" d=\"M625.605 1481.64 L641.924 1481.64 L641.924 1485.58 L619.98 1485.58 L619.98 1481.64 Q622.642 1478.89 627.225 1474.26 Q631.832 1469.61 633.012 1468.27 Q635.258 1465.74 636.137 1464.01 Q637.04 1462.25 637.04 1460.56 Q637.04 1457.8 635.096 1456.07 Q633.174 1454.33 630.073 1454.33 Q627.874 1454.33 625.42 1455.09 Q622.989 1455.86 620.212 1457.41 L620.212 1452.69 Q623.036 1451.55 625.489 1450.97 Q627.943 1450.39 629.98 1450.39 Q635.35 1450.39 638.545 1453.08 Q641.739 1455.77 641.739 1460.26 Q641.739 1462.39 640.929 1464.31 Q640.142 1466.2 638.036 1468.8 Q637.457 1469.47 634.355 1472.69 Q631.253 1475.88 625.605 1481.64 Z\" fill=\"#000000\" fill-rule=\"evenodd\" fill-opacity=\"1\" /><path clip-path=\"url(#clip390)\" d=\"M1021.45 1454.1 Q1017.84 1454.1 1016.01 1457.66 Q1014.21 1461.2 1014.21 1468.33 Q1014.21 1475.44 1016.01 1479.01 Q1017.84 1482.55 1021.45 1482.55 Q1025.09 1482.55 1026.89 1479.01 Q1028.72 1475.44 1028.72 1468.33 Q1028.72 1461.2 1026.89 1457.66 Q1025.09 1454.1 1021.45 1454.1 M1021.45 1450.39 Q1027.26 1450.39 1030.32 1455 Q1033.4 1459.58 1033.4 1468.33 Q1033.4 1477.06 1030.32 1481.67 Q1027.26 1486.25 1021.45 1486.25 Q1015.64 1486.25 1012.56 1481.67 Q1009.51 1477.06 1009.51 1468.33 Q1009.51 1459.58 1012.56 1455 Q1015.64 1450.39 1021.45 1450.39 Z\" fill=\"#000000\" fill-rule=\"evenodd\" fill-opacity=\"1\" /><path clip-path=\"url(#clip390)\" d=\"M1041.61 1479.7 L1046.5 1479.7 L1046.5 1485.58 L1041.61 1485.58 L1041.61 1479.7 Z\" fill=\"#000000\" fill-rule=\"evenodd\" fill-opacity=\"1\" /><path clip-path=\"url(#clip390)\" d=\"M1069.53 1455.09 L1057.73 1473.54 L1069.53 1473.54 L1069.53 1455.09 M1068.3 1451.02 L1074.18 1451.02 L1074.18 1473.54 L1079.11 1473.54 L1079.11 1477.43 L1074.18 1477.43 L1074.18 1485.58 L1069.53 1485.58 L1069.53 1477.43 L1053.93 1477.43 L1053.93 1472.92 L1068.3 1451.02 Z\" fill=\"#000000\" fill-rule=\"evenodd\" fill-opacity=\"1\" /><path clip-path=\"url(#clip390)\" d=\"M1457.76 1454.1 Q1454.15 1454.1 1452.32 1457.66 Q1450.52 1461.2 1450.52 1468.33 Q1450.52 1475.44 1452.32 1479.01 Q1454.15 1482.55 1457.76 1482.55 Q1461.4 1482.55 1463.2 1479.01 Q1465.03 1475.44 1465.03 1468.33 Q1465.03 1461.2 1463.2 1457.66 Q1461.4 1454.1 1457.76 1454.1 M1457.76 1450.39 Q1463.57 1450.39 1466.63 1455 Q1469.71 1459.58 1469.71 1468.33 Q1469.71 1477.06 1466.63 1481.67 Q1463.57 1486.25 1457.76 1486.25 Q1451.95 1486.25 1448.87 1481.67 Q1445.82 1477.06 1445.82 1468.33 Q1445.82 1459.58 1448.87 1455 Q1451.95 1450.39 1457.76 1450.39 Z\" fill=\"#000000\" fill-rule=\"evenodd\" fill-opacity=\"1\" /><path clip-path=\"url(#clip390)\" d=\"M1477.92 1479.7 L1482.81 1479.7 L1482.81 1485.58 L1477.92 1485.58 L1477.92 1479.7 Z\" fill=\"#000000\" fill-rule=\"evenodd\" fill-opacity=\"1\" /><path clip-path=\"url(#clip390)\" d=\"M1503.57 1466.44 Q1500.42 1466.44 1498.57 1468.59 Q1496.74 1470.74 1496.74 1474.49 Q1496.74 1478.22 1498.57 1480.39 Q1500.42 1482.55 1503.57 1482.55 Q1506.72 1482.55 1508.55 1480.39 Q1510.4 1478.22 1510.4 1474.49 Q1510.4 1470.74 1508.55 1468.59 Q1506.72 1466.44 1503.57 1466.44 M1512.86 1451.78 L1512.86 1456.04 Q1511.1 1455.21 1509.29 1454.77 Q1507.51 1454.33 1505.75 1454.33 Q1501.12 1454.33 1498.67 1457.45 Q1496.23 1460.58 1495.89 1466.9 Q1497.25 1464.89 1499.31 1463.82 Q1501.37 1462.73 1503.85 1462.73 Q1509.06 1462.73 1512.07 1465.9 Q1515.1 1469.05 1515.1 1474.49 Q1515.1 1479.82 1511.95 1483.03 Q1508.8 1486.25 1503.57 1486.25 Q1497.58 1486.25 1494.41 1481.67 Q1491.23 1477.06 1491.23 1468.33 Q1491.23 1460.14 1495.12 1455.28 Q1499.01 1450.39 1505.56 1450.39 Q1507.32 1450.39 1509.11 1450.74 Q1510.91 1451.09 1512.86 1451.78 Z\" fill=\"#000000\" fill-rule=\"evenodd\" fill-opacity=\"1\" /><path clip-path=\"url(#clip390)\" d=\"M1894.04 1454.1 Q1890.43 1454.1 1888.6 1457.66 Q1886.79 1461.2 1886.79 1468.33 Q1886.79 1475.44 1888.6 1479.01 Q1890.43 1482.55 1894.04 1482.55 Q1897.67 1482.55 1899.48 1479.01 Q1901.31 1475.44 1901.31 1468.33 Q1901.31 1461.2 1899.48 1457.66 Q1897.67 1454.1 1894.04 1454.1 M1894.04 1450.39 Q1899.85 1450.39 1902.9 1455 Q1905.98 1459.58 1905.98 1468.33 Q1905.98 1477.06 1902.9 1481.67 Q1899.85 1486.25 1894.04 1486.25 Q1888.23 1486.25 1885.15 1481.67 Q1882.09 1477.06 1882.09 1468.33 Q1882.09 1459.58 1885.15 1455 Q1888.23 1450.39 1894.04 1450.39 Z\" fill=\"#000000\" fill-rule=\"evenodd\" fill-opacity=\"1\" /><path clip-path=\"url(#clip390)\" d=\"M1914.2 1479.7 L1919.08 1479.7 L1919.08 1485.58 L1914.2 1485.58 L1914.2 1479.7 Z\" fill=\"#000000\" fill-rule=\"evenodd\" fill-opacity=\"1\" /><path clip-path=\"url(#clip390)\" d=\"M1939.27 1469.17 Q1935.94 1469.17 1934.02 1470.95 Q1932.12 1472.73 1932.12 1475.86 Q1932.12 1478.98 1934.02 1480.77 Q1935.94 1482.55 1939.27 1482.55 Q1942.6 1482.55 1944.52 1480.77 Q1946.45 1478.96 1946.45 1475.86 Q1946.45 1472.73 1944.52 1470.95 Q1942.63 1469.17 1939.27 1469.17 M1934.59 1467.18 Q1931.58 1466.44 1929.89 1464.38 Q1928.23 1462.32 1928.23 1459.35 Q1928.23 1455.21 1931.17 1452.8 Q1934.13 1450.39 1939.27 1450.39 Q1944.43 1450.39 1947.37 1452.8 Q1950.31 1455.21 1950.31 1459.35 Q1950.31 1462.32 1948.62 1464.38 Q1946.95 1466.44 1943.97 1467.18 Q1947.35 1467.96 1949.22 1470.26 Q1951.12 1472.55 1951.12 1475.86 Q1951.12 1480.88 1948.04 1483.57 Q1944.99 1486.25 1939.27 1486.25 Q1933.55 1486.25 1930.47 1483.57 Q1927.42 1480.88 1927.42 1475.86 Q1927.42 1472.55 1929.32 1470.26 Q1931.21 1467.96 1934.59 1467.18 M1932.88 1459.79 Q1932.88 1462.48 1934.55 1463.98 Q1936.24 1465.49 1939.27 1465.49 Q1942.28 1465.49 1943.97 1463.98 Q1945.68 1462.48 1945.68 1459.79 Q1945.68 1457.11 1943.97 1455.6 Q1942.28 1454.1 1939.27 1454.1 Q1936.24 1454.1 1934.55 1455.6 Q1932.88 1457.11 1932.88 1459.79 Z\" fill=\"#000000\" fill-rule=\"evenodd\" fill-opacity=\"1\" /><path clip-path=\"url(#clip390)\" d=\"M2319.91 1481.64 L2327.55 1481.64 L2327.55 1455.28 L2319.24 1456.95 L2319.24 1452.69 L2327.5 1451.02 L2332.18 1451.02 L2332.18 1481.64 L2339.82 1481.64 L2339.82 1485.58 L2319.91 1485.58 L2319.91 1481.64 Z\" fill=\"#000000\" fill-rule=\"evenodd\" fill-opacity=\"1\" /><path clip-path=\"url(#clip390)\" d=\"M2349.26 1479.7 L2354.14 1479.7 L2354.14 1485.58 L2349.26 1485.58 L2349.26 1479.7 Z\" fill=\"#000000\" fill-rule=\"evenodd\" fill-opacity=\"1\" /><path clip-path=\"url(#clip390)\" d=\"M2374.33 1454.1 Q2370.72 1454.1 2368.89 1457.66 Q2367.08 1461.2 2367.08 1468.33 Q2367.08 1475.44 2368.89 1479.01 Q2370.72 1482.55 2374.33 1482.55 Q2377.96 1482.55 2379.77 1479.01 Q2381.6 1475.44 2381.6 1468.33 Q2381.6 1461.2 2379.77 1457.66 Q2377.96 1454.1 2374.33 1454.1 M2374.33 1450.39 Q2380.14 1450.39 2383.2 1455 Q2386.27 1459.58 2386.27 1468.33 Q2386.27 1477.06 2383.2 1481.67 Q2380.14 1486.25 2374.33 1486.25 Q2368.52 1486.25 2365.44 1481.67 Q2362.39 1477.06 2362.39 1468.33 Q2362.39 1459.58 2365.44 1455 Q2368.52 1450.39 2374.33 1450.39 Z\" fill=\"#000000\" fill-rule=\"evenodd\" fill-opacity=\"1\" /><path clip-path=\"url(#clip390)\" d=\"M960.476 1520.52 L966.905 1520.52 L966.905 1540 L990.267 1540 L990.267 1520.52 L996.697 1520.52 L996.697 1568.04 L990.267 1568.04 L990.267 1545.41 L966.905 1545.41 L966.905 1568.04 L960.476 1568.04 L960.476 1520.52 Z\" fill=\"#000000\" fill-rule=\"evenodd\" fill-opacity=\"1\" /><path clip-path=\"url(#clip390)\" d=\"M1025.44 1550.12 Q1018.34 1550.12 1015.6 1551.75 Q1012.87 1553.37 1012.87 1557.29 Q1012.87 1560.4 1014.9 1562.25 Q1016.97 1564.07 1020.5 1564.07 Q1025.37 1564.07 1028.3 1560.63 Q1031.26 1557.16 1031.26 1551.43 L1031.26 1550.12 L1025.44 1550.12 M1037.12 1547.71 L1037.12 1568.04 L1031.26 1568.04 L1031.26 1562.63 Q1029.26 1565.88 1026.27 1567.44 Q1023.27 1568.97 1018.94 1568.97 Q1013.47 1568.97 1010.22 1565.91 Q1007.01 1562.82 1007.01 1557.67 Q1007.01 1551.65 1011.02 1548.6 Q1015.06 1545.54 1023.05 1545.54 L1031.26 1545.54 L1031.26 1544.97 Q1031.26 1540.93 1028.59 1538.73 Q1025.95 1536.5 1021.14 1536.5 Q1018.09 1536.5 1015.19 1537.23 Q1012.29 1537.97 1009.62 1539.43 L1009.62 1534.02 Q1012.83 1532.78 1015.86 1532.17 Q1018.88 1531.54 1021.75 1531.54 Q1029.48 1531.54 1033.3 1535.55 Q1037.12 1539.56 1037.12 1547.71 Z\" fill=\"#000000\" fill-rule=\"evenodd\" fill-opacity=\"1\" /><path clip-path=\"url(#clip390)\" d=\"M1076.94 1539.24 Q1079.13 1535.29 1082.19 1533.41 Q1085.24 1531.54 1089.38 1531.54 Q1094.95 1531.54 1097.98 1535.45 Q1101 1539.33 1101 1546.53 L1101 1568.04 L1095.11 1568.04 L1095.11 1546.72 Q1095.11 1541.59 1093.3 1539.11 Q1091.48 1536.63 1087.76 1536.63 Q1083.21 1536.63 1080.56 1539.65 Q1077.92 1542.68 1077.92 1547.9 L1077.92 1568.04 L1072.03 1568.04 L1072.03 1546.72 Q1072.03 1541.56 1070.22 1539.11 Q1068.41 1536.63 1064.62 1536.63 Q1060.13 1536.63 1057.49 1539.68 Q1054.85 1542.71 1054.85 1547.9 L1054.85 1568.04 L1048.96 1568.04 L1048.96 1532.4 L1054.85 1532.4 L1054.85 1537.93 Q1056.85 1534.66 1059.65 1533.1 Q1062.45 1531.54 1066.31 1531.54 Q1070.19 1531.54 1072.89 1533.51 Q1075.63 1535.48 1076.94 1539.24 Z\" fill=\"#000000\" fill-rule=\"evenodd\" fill-opacity=\"1\" /><path clip-path=\"url(#clip390)\" d=\"M1140.43 1539.24 Q1142.63 1535.29 1145.69 1533.41 Q1148.74 1531.54 1152.88 1531.54 Q1158.45 1531.54 1161.47 1535.45 Q1164.5 1539.33 1164.5 1546.53 L1164.5 1568.04 L1158.61 1568.04 L1158.61 1546.72 Q1158.61 1541.59 1156.79 1539.11 Q1154.98 1536.63 1151.26 1536.63 Q1146.7 1536.63 1144.06 1539.65 Q1141.42 1542.68 1141.42 1547.9 L1141.42 1568.04 L1135.53 1568.04 L1135.53 1546.72 Q1135.53 1541.56 1133.72 1539.11 Q1131.9 1536.63 1128.12 1536.63 Q1123.63 1536.63 1120.99 1539.68 Q1118.35 1542.71 1118.35 1547.9 L1118.35 1568.04 L1112.46 1568.04 L1112.46 1532.4 L1118.35 1532.4 L1118.35 1537.93 Q1120.35 1534.66 1123.15 1533.1 Q1125.95 1531.54 1129.8 1531.54 Q1133.69 1531.54 1136.39 1533.51 Q1139.13 1535.48 1140.43 1539.24 Z\" fill=\"#000000\" fill-rule=\"evenodd\" fill-opacity=\"1\" /><path clip-path=\"url(#clip390)\" d=\"M1176.18 1532.4 L1182.03 1532.4 L1182.03 1568.04 L1176.18 1568.04 L1176.18 1532.4 M1176.18 1518.52 L1182.03 1518.52 L1182.03 1525.93 L1176.18 1525.93 L1176.18 1518.52 Z\" fill=\"#000000\" fill-rule=\"evenodd\" fill-opacity=\"1\" /><path clip-path=\"url(#clip390)\" d=\"M1223.92 1546.53 L1223.92 1568.04 L1218.06 1568.04 L1218.06 1546.72 Q1218.06 1541.66 1216.09 1539.14 Q1214.12 1536.63 1210.17 1536.63 Q1205.43 1536.63 1202.69 1539.65 Q1199.95 1542.68 1199.95 1547.9 L1199.95 1568.04 L1194.07 1568.04 L1194.07 1532.4 L1199.95 1532.4 L1199.95 1537.93 Q1202.05 1534.72 1204.89 1533.13 Q1207.75 1531.54 1211.48 1531.54 Q1217.62 1531.54 1220.77 1535.36 Q1223.92 1539.14 1223.92 1546.53 Z\" fill=\"#000000\" fill-rule=\"evenodd\" fill-opacity=\"1\" /><path clip-path=\"url(#clip390)\" d=\"M1259.06 1549.81 Q1259.06 1543.44 1256.42 1539.94 Q1253.81 1536.44 1249.07 1536.44 Q1244.35 1536.44 1241.71 1539.94 Q1239.1 1543.44 1239.1 1549.81 Q1239.1 1556.14 1241.71 1559.64 Q1244.35 1563.14 1249.07 1563.14 Q1253.81 1563.14 1256.42 1559.64 Q1259.06 1556.14 1259.06 1549.81 M1264.92 1563.62 Q1264.92 1572.72 1260.87 1577.15 Q1256.83 1581.6 1248.49 1581.6 Q1245.4 1581.6 1242.67 1581.13 Q1239.93 1580.68 1237.35 1579.72 L1237.35 1574.03 Q1239.93 1575.43 1242.44 1576.1 Q1244.96 1576.76 1247.57 1576.76 Q1253.33 1576.76 1256.19 1573.74 Q1259.06 1570.75 1259.06 1564.67 L1259.06 1561.77 Q1257.25 1564.92 1254.41 1566.48 Q1251.58 1568.04 1247.63 1568.04 Q1241.08 1568.04 1237.07 1563.05 Q1233.06 1558.05 1233.06 1549.81 Q1233.06 1541.53 1237.07 1536.53 Q1241.08 1531.54 1247.63 1531.54 Q1251.58 1531.54 1254.41 1533.1 Q1257.25 1534.66 1259.06 1537.81 L1259.06 1532.4 L1264.92 1532.4 L1264.92 1563.62 Z\" fill=\"#000000\" fill-rule=\"evenodd\" fill-opacity=\"1\" /><path clip-path=\"url(#clip390)\" d=\"M1321.16 1537.81 L1321.16 1518.52 L1327.01 1518.52 L1327.01 1568.04 L1321.16 1568.04 L1321.16 1562.7 Q1319.31 1565.88 1316.48 1567.44 Q1313.68 1568.97 1309.73 1568.97 Q1303.27 1568.97 1299.2 1563.81 Q1295.15 1558.65 1295.15 1550.25 Q1295.15 1541.85 1299.2 1536.69 Q1303.27 1531.54 1309.73 1531.54 Q1313.68 1531.54 1316.48 1533.1 Q1319.31 1534.62 1321.16 1537.81 M1301.2 1550.25 Q1301.2 1556.71 1303.84 1560.4 Q1306.52 1564.07 1311.16 1564.07 Q1315.81 1564.07 1318.48 1560.4 Q1321.16 1556.71 1321.16 1550.25 Q1321.16 1543.79 1318.48 1540.13 Q1315.81 1536.44 1311.16 1536.44 Q1306.52 1536.44 1303.84 1540.13 Q1301.2 1543.79 1301.2 1550.25 Z\" fill=\"#000000\" fill-rule=\"evenodd\" fill-opacity=\"1\" /><path clip-path=\"url(#clip390)\" d=\"M1339.08 1532.4 L1344.93 1532.4 L1344.93 1568.04 L1339.08 1568.04 L1339.08 1532.4 M1339.08 1518.52 L1344.93 1518.52 L1344.93 1525.93 L1339.08 1525.93 L1339.08 1518.52 Z\" fill=\"#000000\" fill-rule=\"evenodd\" fill-opacity=\"1\" /><path clip-path=\"url(#clip390)\" d=\"M1379.91 1533.45 L1379.91 1538.98 Q1377.43 1537.71 1374.76 1537.07 Q1372.08 1536.44 1369.22 1536.44 Q1364.86 1536.44 1362.66 1537.77 Q1360.5 1539.11 1360.5 1541.79 Q1360.5 1543.82 1362.06 1545 Q1363.62 1546.15 1368.33 1547.2 L1370.33 1547.64 Q1376.57 1548.98 1379.18 1551.43 Q1381.82 1553.85 1381.82 1558.21 Q1381.82 1563.17 1377.88 1566.07 Q1373.96 1568.97 1367.09 1568.97 Q1364.22 1568.97 1361.1 1568.39 Q1358.01 1567.85 1354.58 1566.74 L1354.58 1560.69 Q1357.82 1562.38 1360.97 1563.24 Q1364.13 1564.07 1367.21 1564.07 Q1371.35 1564.07 1373.58 1562.66 Q1375.81 1561.23 1375.81 1558.65 Q1375.81 1556.27 1374.18 1554.99 Q1372.59 1553.72 1367.15 1552.54 L1365.11 1552.07 Q1359.67 1550.92 1357.25 1548.56 Q1354.83 1546.18 1354.83 1542.04 Q1354.83 1537.01 1358.4 1534.27 Q1361.96 1531.54 1368.52 1531.54 Q1371.76 1531.54 1374.63 1532.01 Q1377.49 1532.49 1379.91 1533.45 Z\" fill=\"#000000\" fill-rule=\"evenodd\" fill-opacity=\"1\" /><path clip-path=\"url(#clip390)\" d=\"M1396.94 1522.27 L1396.94 1532.4 L1409 1532.4 L1409 1536.95 L1396.94 1536.95 L1396.94 1556.3 Q1396.94 1560.66 1398.12 1561.9 Q1399.33 1563.14 1402.99 1563.14 L1409 1563.14 L1409 1568.04 L1402.99 1568.04 Q1396.21 1568.04 1393.63 1565.53 Q1391.05 1562.98 1391.05 1556.3 L1391.05 1536.95 L1386.76 1536.95 L1386.76 1532.4 L1391.05 1532.4 L1391.05 1522.27 L1396.94 1522.27 Z\" fill=\"#000000\" fill-rule=\"evenodd\" fill-opacity=\"1\" /><path clip-path=\"url(#clip390)\" d=\"M1432.91 1550.12 Q1425.81 1550.12 1423.07 1551.75 Q1420.33 1553.37 1420.33 1557.29 Q1420.33 1560.4 1422.37 1562.25 Q1424.44 1564.07 1427.97 1564.07 Q1432.84 1564.07 1435.77 1560.63 Q1438.73 1557.16 1438.73 1551.43 L1438.73 1550.12 L1432.91 1550.12 M1444.59 1547.71 L1444.59 1568.04 L1438.73 1568.04 L1438.73 1562.63 Q1436.73 1565.88 1433.73 1567.44 Q1430.74 1568.97 1426.41 1568.97 Q1420.94 1568.97 1417.69 1565.91 Q1414.48 1562.82 1414.48 1557.67 Q1414.48 1551.65 1418.49 1548.6 Q1422.53 1545.54 1430.52 1545.54 L1438.73 1545.54 L1438.73 1544.97 Q1438.73 1540.93 1436.06 1538.73 Q1433.42 1536.5 1428.61 1536.5 Q1425.55 1536.5 1422.66 1537.23 Q1419.76 1537.97 1417.09 1539.43 L1417.09 1534.02 Q1420.3 1532.78 1423.33 1532.17 Q1426.35 1531.54 1429.21 1531.54 Q1436.95 1531.54 1440.77 1535.55 Q1444.59 1539.56 1444.59 1547.71 Z\" fill=\"#000000\" fill-rule=\"evenodd\" fill-opacity=\"1\" /><path clip-path=\"url(#clip390)\" d=\"M1486.28 1546.53 L1486.28 1568.04 L1480.43 1568.04 L1480.43 1546.72 Q1480.43 1541.66 1478.45 1539.14 Q1476.48 1536.63 1472.53 1536.63 Q1467.79 1536.63 1465.05 1539.65 Q1462.32 1542.68 1462.32 1547.9 L1462.32 1568.04 L1456.43 1568.04 L1456.43 1532.4 L1462.32 1532.4 L1462.32 1537.93 Q1464.42 1534.72 1467.25 1533.13 Q1470.11 1531.54 1473.84 1531.54 Q1479.98 1531.54 1483.13 1535.36 Q1486.28 1539.14 1486.28 1546.53 Z\" fill=\"#000000\" fill-rule=\"evenodd\" fill-opacity=\"1\" /><path clip-path=\"url(#clip390)\" d=\"M1523.62 1533.76 L1523.62 1539.24 Q1521.14 1537.87 1518.62 1537.2 Q1516.14 1536.5 1513.59 1536.5 Q1507.89 1536.5 1504.74 1540.13 Q1501.59 1543.73 1501.59 1550.25 Q1501.59 1556.78 1504.74 1560.4 Q1507.89 1564 1513.59 1564 Q1516.14 1564 1518.62 1563.33 Q1521.14 1562.63 1523.62 1561.26 L1523.62 1566.68 Q1521.17 1567.82 1518.53 1568.39 Q1515.92 1568.97 1512.96 1568.97 Q1504.9 1568.97 1500.16 1563.91 Q1495.42 1558.85 1495.42 1550.25 Q1495.42 1541.53 1500.19 1536.53 Q1505 1531.54 1513.34 1531.54 Q1516.04 1531.54 1518.62 1532.11 Q1521.2 1532.65 1523.62 1533.76 Z\" fill=\"#000000\" fill-rule=\"evenodd\" fill-opacity=\"1\" /><path clip-path=\"url(#clip390)\" d=\"M1564.29 1548.76 L1564.29 1551.62 L1537.37 1551.62 Q1537.75 1557.67 1541 1560.85 Q1544.27 1564 1550.1 1564 Q1553.47 1564 1556.62 1563.17 Q1559.81 1562.35 1562.93 1560.69 L1562.93 1566.23 Q1559.78 1567.57 1556.47 1568.27 Q1553.15 1568.97 1549.75 1568.97 Q1541.22 1568.97 1536.22 1564 Q1531.26 1559.04 1531.26 1550.57 Q1531.26 1541.82 1535.97 1536.69 Q1540.71 1531.54 1548.73 1531.54 Q1555.92 1531.54 1560.09 1536.18 Q1564.29 1540.8 1564.29 1548.76 M1558.44 1547.04 Q1558.37 1542.23 1555.73 1539.37 Q1553.12 1536.5 1548.79 1536.5 Q1543.89 1536.5 1540.93 1539.27 Q1538 1542.04 1537.56 1547.07 L1558.44 1547.04 Z\" fill=\"#000000\" fill-rule=\"evenodd\" fill-opacity=\"1\" /><polyline clip-path=\"url(#clip392)\" style=\"stroke:#000000; stroke-linecap:butt; stroke-linejoin:round; stroke-width:2; stroke-opacity:0.1; fill:none\" points=\"\n  172.015,1384.24 2352.76,1384.24 \n  \"/>\n<polyline clip-path=\"url(#clip392)\" style=\"stroke:#000000; stroke-linecap:butt; stroke-linejoin:round; stroke-width:2; stroke-opacity:0.1; fill:none\" points=\"\n  172.015,1114.93 2352.76,1114.93 \n  \"/>\n<polyline clip-path=\"url(#clip392)\" style=\"stroke:#000000; stroke-linecap:butt; stroke-linejoin:round; stroke-width:2; stroke-opacity:0.1; fill:none\" points=\"\n  172.015,845.627 2352.76,845.627 \n  \"/>\n<polyline clip-path=\"url(#clip392)\" style=\"stroke:#000000; stroke-linecap:butt; stroke-linejoin:round; stroke-width:2; stroke-opacity:0.1; fill:none\" points=\"\n  172.015,576.322 2352.76,576.322 \n  \"/>\n<polyline clip-path=\"url(#clip392)\" style=\"stroke:#000000; stroke-linecap:butt; stroke-linejoin:round; stroke-width:2; stroke-opacity:0.1; fill:none\" points=\"\n  172.015,307.016 2352.76,307.016 \n  \"/>\n<polyline clip-path=\"url(#clip390)\" style=\"stroke:#000000; stroke-linecap:butt; stroke-linejoin:round; stroke-width:4; stroke-opacity:1; fill:none\" points=\"\n  172.015,1423.18 172.015,47.2441 \n  \"/>\n<polyline clip-path=\"url(#clip390)\" style=\"stroke:#000000; stroke-linecap:butt; stroke-linejoin:round; stroke-width:4; stroke-opacity:1; fill:none\" points=\"\n  172.015,1384.24 190.912,1384.24 \n  \"/>\n<polyline clip-path=\"url(#clip390)\" style=\"stroke:#000000; stroke-linecap:butt; stroke-linejoin:round; stroke-width:4; stroke-opacity:1; fill:none\" points=\"\n  172.015,1114.93 190.912,1114.93 \n  \"/>\n<polyline clip-path=\"url(#clip390)\" style=\"stroke:#000000; stroke-linecap:butt; stroke-linejoin:round; stroke-width:4; stroke-opacity:1; fill:none\" points=\"\n  172.015,845.627 190.912,845.627 \n  \"/>\n<polyline clip-path=\"url(#clip390)\" style=\"stroke:#000000; stroke-linecap:butt; stroke-linejoin:round; stroke-width:4; stroke-opacity:1; fill:none\" points=\"\n  172.015,576.322 190.912,576.322 \n  \"/>\n<polyline clip-path=\"url(#clip390)\" style=\"stroke:#000000; stroke-linecap:butt; stroke-linejoin:round; stroke-width:4; stroke-opacity:1; fill:none\" points=\"\n  172.015,307.016 190.912,307.016 \n  \"/>\n<path clip-path=\"url(#clip390)\" d=\"M124.07 1370.04 Q120.459 1370.04 118.631 1373.6 Q116.825 1377.14 116.825 1384.27 Q116.825 1391.38 118.631 1394.94 Q120.459 1398.49 124.07 1398.49 Q127.705 1398.49 129.51 1394.94 Q131.339 1391.38 131.339 1384.27 Q131.339 1377.14 129.51 1373.6 Q127.705 1370.04 124.07 1370.04 M124.07 1366.33 Q129.881 1366.33 132.936 1370.94 Q136.015 1375.52 136.015 1384.27 Q136.015 1393 132.936 1397.61 Q129.881 1402.19 124.07 1402.19 Q118.26 1402.19 115.182 1397.61 Q112.126 1393 112.126 1384.27 Q112.126 1375.52 115.182 1370.94 Q118.26 1366.33 124.07 1366.33 Z\" fill=\"#000000\" fill-rule=\"evenodd\" fill-opacity=\"1\" /><path clip-path=\"url(#clip390)\" d=\"M54.5569 1128.28 L62.1958 1128.28 L62.1958 1101.91 L53.8856 1103.58 L53.8856 1099.32 L62.1495 1097.65 L66.8254 1097.65 L66.8254 1128.28 L74.4642 1128.28 L74.4642 1132.21 L54.5569 1132.21 L54.5569 1128.28 Z\" fill=\"#000000\" fill-rule=\"evenodd\" fill-opacity=\"1\" /><path clip-path=\"url(#clip390)\" d=\"M93.9086 1100.73 Q90.2975 1100.73 88.4688 1104.3 Q86.6632 1107.84 86.6632 1114.97 Q86.6632 1122.07 88.4688 1125.64 Q90.2975 1129.18 93.9086 1129.18 Q97.5428 1129.18 99.3483 1125.64 Q101.177 1122.07 101.177 1114.97 Q101.177 1107.84 99.3483 1104.3 Q97.5428 1100.73 93.9086 1100.73 M93.9086 1097.03 Q99.7187 1097.03 102.774 1101.63 Q105.853 1106.22 105.853 1114.97 Q105.853 1123.69 102.774 1128.3 Q99.7187 1132.88 93.9086 1132.88 Q88.0984 1132.88 85.0197 1128.3 Q81.9642 1123.69 81.9642 1114.97 Q81.9642 1106.22 85.0197 1101.63 Q88.0984 1097.03 93.9086 1097.03 Z\" fill=\"#000000\" fill-rule=\"evenodd\" fill-opacity=\"1\" /><path clip-path=\"url(#clip390)\" d=\"M124.07 1100.73 Q120.459 1100.73 118.631 1104.3 Q116.825 1107.84 116.825 1114.97 Q116.825 1122.07 118.631 1125.64 Q120.459 1129.18 124.07 1129.18 Q127.705 1129.18 129.51 1125.64 Q131.339 1122.07 131.339 1114.97 Q131.339 1107.84 129.51 1104.3 Q127.705 1100.73 124.07 1100.73 M124.07 1097.03 Q129.881 1097.03 132.936 1101.63 Q136.015 1106.22 136.015 1114.97 Q136.015 1123.69 132.936 1128.3 Q129.881 1132.88 124.07 1132.88 Q118.26 1132.88 115.182 1128.3 Q112.126 1123.69 112.126 1114.97 Q112.126 1106.22 115.182 1101.63 Q118.26 1097.03 124.07 1097.03 Z\" fill=\"#000000\" fill-rule=\"evenodd\" fill-opacity=\"1\" /><path clip-path=\"url(#clip390)\" d=\"M57.7745 858.972 L74.0939 858.972 L74.0939 862.907 L52.1495 862.907 L52.1495 858.972 Q54.8115 856.217 59.3949 851.588 Q64.0013 846.935 65.1819 845.593 Q67.4272 843.069 68.3068 841.333 Q69.2096 839.574 69.2096 837.884 Q69.2096 835.13 67.2652 833.393 Q65.3439 831.657 62.2421 831.657 Q60.043 831.657 57.5893 832.421 Q55.1588 833.185 52.381 834.736 L52.381 830.014 Q55.2051 828.88 57.6588 828.301 Q60.1124 827.722 62.1495 827.722 Q67.5198 827.722 70.7142 830.407 Q73.9087 833.093 73.9087 837.583 Q73.9087 839.713 73.0985 841.634 Q72.3115 843.532 70.205 846.125 Q69.6263 846.796 66.5245 850.014 Q63.4226 853.208 57.7745 858.972 Z\" fill=\"#000000\" fill-rule=\"evenodd\" fill-opacity=\"1\" /><path clip-path=\"url(#clip390)\" d=\"M93.9086 831.426 Q90.2975 831.426 88.4688 834.991 Q86.6632 838.532 86.6632 845.662 Q86.6632 852.768 88.4688 856.333 Q90.2975 859.875 93.9086 859.875 Q97.5428 859.875 99.3483 856.333 Q101.177 852.768 101.177 845.662 Q101.177 838.532 99.3483 834.991 Q97.5428 831.426 93.9086 831.426 M93.9086 827.722 Q99.7187 827.722 102.774 832.329 Q105.853 836.912 105.853 845.662 Q105.853 854.389 102.774 858.995 Q99.7187 863.579 93.9086 863.579 Q88.0984 863.579 85.0197 858.995 Q81.9642 854.389 81.9642 845.662 Q81.9642 836.912 85.0197 832.329 Q88.0984 827.722 93.9086 827.722 Z\" fill=\"#000000\" fill-rule=\"evenodd\" fill-opacity=\"1\" /><path clip-path=\"url(#clip390)\" d=\"M124.07 831.426 Q120.459 831.426 118.631 834.991 Q116.825 838.532 116.825 845.662 Q116.825 852.768 118.631 856.333 Q120.459 859.875 124.07 859.875 Q127.705 859.875 129.51 856.333 Q131.339 852.768 131.339 845.662 Q131.339 838.532 129.51 834.991 Q127.705 831.426 124.07 831.426 M124.07 827.722 Q129.881 827.722 132.936 832.329 Q136.015 836.912 136.015 845.662 Q136.015 854.389 132.936 858.995 Q129.881 863.579 124.07 863.579 Q118.26 863.579 115.182 858.995 Q112.126 854.389 112.126 845.662 Q112.126 836.912 115.182 832.329 Q118.26 827.722 124.07 827.722 Z\" fill=\"#000000\" fill-rule=\"evenodd\" fill-opacity=\"1\" /><path clip-path=\"url(#clip390)\" d=\"M67.9133 574.968 Q71.2698 575.685 73.1448 577.954 Q75.0429 580.222 75.0429 583.555 Q75.0429 588.671 71.5244 591.472 Q68.0059 594.273 61.5245 594.273 Q59.3486 594.273 57.0338 593.833 Q54.7421 593.417 52.2884 592.56 L52.2884 588.046 Q54.2328 589.18 56.5477 589.759 Q58.8625 590.338 61.3856 590.338 Q65.7837 590.338 68.0754 588.602 Q70.3902 586.866 70.3902 583.555 Q70.3902 580.5 68.2374 578.787 Q66.1078 577.051 62.2884 577.051 L58.2606 577.051 L58.2606 573.208 L62.4735 573.208 Q65.9226 573.208 67.7513 571.843 Q69.58 570.454 69.58 567.861 Q69.58 565.199 67.6819 563.787 Q65.8069 562.352 62.2884 562.352 Q60.3671 562.352 58.168 562.769 Q55.969 563.185 53.3301 564.065 L53.3301 559.898 Q55.9921 559.157 58.3069 558.787 Q60.6449 558.417 62.705 558.417 Q68.0291 558.417 71.1309 560.847 Q74.2327 563.255 74.2327 567.375 Q74.2327 570.245 72.5892 572.236 Q70.9457 574.204 67.9133 574.968 Z\" fill=\"#000000\" fill-rule=\"evenodd\" fill-opacity=\"1\" /><path clip-path=\"url(#clip390)\" d=\"M93.9086 562.12 Q90.2975 562.12 88.4688 565.685 Q86.6632 569.227 86.6632 576.356 Q86.6632 583.463 88.4688 587.028 Q90.2975 590.569 93.9086 590.569 Q97.5428 590.569 99.3483 587.028 Q101.177 583.463 101.177 576.356 Q101.177 569.227 99.3483 565.685 Q97.5428 562.12 93.9086 562.12 M93.9086 558.417 Q99.7187 558.417 102.774 563.023 Q105.853 567.606 105.853 576.356 Q105.853 585.083 102.774 589.69 Q99.7187 594.273 93.9086 594.273 Q88.0984 594.273 85.0197 589.69 Q81.9642 585.083 81.9642 576.356 Q81.9642 567.606 85.0197 563.023 Q88.0984 558.417 93.9086 558.417 Z\" fill=\"#000000\" fill-rule=\"evenodd\" fill-opacity=\"1\" /><path clip-path=\"url(#clip390)\" d=\"M124.07 562.12 Q120.459 562.12 118.631 565.685 Q116.825 569.227 116.825 576.356 Q116.825 583.463 118.631 587.028 Q120.459 590.569 124.07 590.569 Q127.705 590.569 129.51 587.028 Q131.339 583.463 131.339 576.356 Q131.339 569.227 129.51 565.685 Q127.705 562.12 124.07 562.12 M124.07 558.417 Q129.881 558.417 132.936 563.023 Q136.015 567.606 136.015 576.356 Q136.015 585.083 132.936 589.69 Q129.881 594.273 124.07 594.273 Q118.26 594.273 115.182 589.69 Q112.126 585.083 112.126 576.356 Q112.126 567.606 115.182 563.023 Q118.26 558.417 124.07 558.417 Z\" fill=\"#000000\" fill-rule=\"evenodd\" fill-opacity=\"1\" /><path clip-path=\"url(#clip390)\" d=\"M66.5939 293.81 L54.7884 312.259 L66.5939 312.259 L66.5939 293.81 M65.367 289.736 L71.2466 289.736 L71.2466 312.259 L76.1772 312.259 L76.1772 316.148 L71.2466 316.148 L71.2466 324.296 L66.5939 324.296 L66.5939 316.148 L50.9921 316.148 L50.9921 311.634 L65.367 289.736 Z\" fill=\"#000000\" fill-rule=\"evenodd\" fill-opacity=\"1\" /><path clip-path=\"url(#clip390)\" d=\"M93.9086 292.815 Q90.2975 292.815 88.4688 296.38 Q86.6632 299.921 86.6632 307.051 Q86.6632 314.157 88.4688 317.722 Q90.2975 321.264 93.9086 321.264 Q97.5428 321.264 99.3483 317.722 Q101.177 314.157 101.177 307.051 Q101.177 299.921 99.3483 296.38 Q97.5428 292.815 93.9086 292.815 M93.9086 289.111 Q99.7187 289.111 102.774 293.718 Q105.853 298.301 105.853 307.051 Q105.853 315.778 102.774 320.384 Q99.7187 324.967 93.9086 324.967 Q88.0984 324.967 85.0197 320.384 Q81.9642 315.778 81.9642 307.051 Q81.9642 298.301 85.0197 293.718 Q88.0984 289.111 93.9086 289.111 Z\" fill=\"#000000\" fill-rule=\"evenodd\" fill-opacity=\"1\" /><path clip-path=\"url(#clip390)\" d=\"M124.07 292.815 Q120.459 292.815 118.631 296.38 Q116.825 299.921 116.825 307.051 Q116.825 314.157 118.631 317.722 Q120.459 321.264 124.07 321.264 Q127.705 321.264 129.51 317.722 Q131.339 314.157 131.339 307.051 Q131.339 299.921 129.51 296.38 Q127.705 292.815 124.07 292.815 M124.07 289.111 Q129.881 289.111 132.936 293.718 Q136.015 298.301 136.015 307.051 Q136.015 315.778 132.936 320.384 Q129.881 324.967 124.07 324.967 Q118.26 324.967 115.182 320.384 Q112.126 315.778 112.126 307.051 Q112.126 298.301 115.182 293.718 Q118.26 289.111 124.07 289.111 Z\" fill=\"#000000\" fill-rule=\"evenodd\" fill-opacity=\"1\" /><path clip-path=\"url(#clip392)\" d=\"\nM677.947 1381.55 L677.947 1384.24 L679.037 1384.24 L679.037 1381.55 L677.947 1381.55 L677.947 1381.55  Z\n  \" fill=\"#009af9\" fill-rule=\"evenodd\" fill-opacity=\"1\"/>\n<polyline clip-path=\"url(#clip392)\" style=\"stroke:#000000; stroke-linecap:butt; stroke-linejoin:round; stroke-width:4; stroke-opacity:1; fill:none\" points=\"\n  677.947,1381.55 677.947,1384.24 679.037,1384.24 679.037,1381.55 677.947,1381.55 \n  \"/>\n<path clip-path=\"url(#clip392)\" d=\"\nM679.037 1384.24 L679.037 1384.24 L680.127 1384.24 L680.127 1384.24 L679.037 1384.24 L679.037 1384.24  Z\n  \" fill=\"#009af9\" fill-rule=\"evenodd\" fill-opacity=\"1\"/>\n<polyline clip-path=\"url(#clip392)\" style=\"stroke:#000000; stroke-linecap:butt; stroke-linejoin:round; stroke-width:4; stroke-opacity:1; fill:none\" points=\"\n  679.037,1384.24 679.037,1384.24 680.127,1384.24 679.037,1384.24 \n  \"/>\n<path clip-path=\"url(#clip392)\" d=\"\nM680.127 1384.24 L680.127 1384.24 L681.218 1384.24 L681.218 1384.24 L680.127 1384.24 L680.127 1384.24  Z\n  \" fill=\"#009af9\" fill-rule=\"evenodd\" fill-opacity=\"1\"/>\n<polyline clip-path=\"url(#clip392)\" style=\"stroke:#000000; stroke-linecap:butt; stroke-linejoin:round; stroke-width:4; stroke-opacity:1; fill:none\" points=\"\n  680.127,1384.24 680.127,1384.24 681.218,1384.24 680.127,1384.24 \n  \"/>\n<path clip-path=\"url(#clip392)\" d=\"\nM681.218 1384.24 L681.218 1384.24 L682.308 1384.24 L682.308 1384.24 L681.218 1384.24 L681.218 1384.24  Z\n  \" fill=\"#009af9\" fill-rule=\"evenodd\" fill-opacity=\"1\"/>\n<polyline clip-path=\"url(#clip392)\" style=\"stroke:#000000; stroke-linecap:butt; stroke-linejoin:round; stroke-width:4; stroke-opacity:1; fill:none\" points=\"\n  681.218,1384.24 681.218,1384.24 682.308,1384.24 681.218,1384.24 \n  \"/>\n<path clip-path=\"url(#clip392)\" d=\"\nM682.308 1384.24 L682.308 1384.24 L683.399 1384.24 L683.399 1384.24 L682.308 1384.24 L682.308 1384.24  Z\n  \" fill=\"#009af9\" fill-rule=\"evenodd\" fill-opacity=\"1\"/>\n<polyline clip-path=\"url(#clip392)\" style=\"stroke:#000000; stroke-linecap:butt; stroke-linejoin:round; stroke-width:4; stroke-opacity:1; fill:none\" points=\"\n  682.308,1384.24 682.308,1384.24 683.399,1384.24 682.308,1384.24 \n  \"/>\n<path clip-path=\"url(#clip392)\" d=\"\nM683.399 1373.47 L683.399 1384.24 L684.489 1384.24 L684.489 1373.47 L683.399 1373.47 L683.399 1373.47  Z\n  \" fill=\"#009af9\" fill-rule=\"evenodd\" fill-opacity=\"1\"/>\n<polyline clip-path=\"url(#clip392)\" style=\"stroke:#000000; stroke-linecap:butt; stroke-linejoin:round; stroke-width:4; stroke-opacity:1; fill:none\" points=\"\n  683.399,1373.47 683.399,1384.24 684.489,1384.24 684.489,1373.47 683.399,1373.47 \n  \"/>\n<path clip-path=\"url(#clip392)\" d=\"\nM684.489 1378.85 L684.489 1384.24 L685.579 1384.24 L685.579 1378.85 L684.489 1378.85 L684.489 1378.85  Z\n  \" fill=\"#009af9\" fill-rule=\"evenodd\" fill-opacity=\"1\"/>\n<polyline clip-path=\"url(#clip392)\" style=\"stroke:#000000; stroke-linecap:butt; stroke-linejoin:round; stroke-width:4; stroke-opacity:1; fill:none\" points=\"\n  684.489,1378.85 684.489,1384.24 685.579,1384.24 685.579,1378.85 684.489,1378.85 \n  \"/>\n<path clip-path=\"url(#clip392)\" d=\"\nM685.579 1378.85 L685.579 1384.24 L686.67 1384.24 L686.67 1378.85 L685.579 1378.85 L685.579 1378.85  Z\n  \" fill=\"#009af9\" fill-rule=\"evenodd\" fill-opacity=\"1\"/>\n<polyline clip-path=\"url(#clip392)\" style=\"stroke:#000000; stroke-linecap:butt; stroke-linejoin:round; stroke-width:4; stroke-opacity:1; fill:none\" points=\"\n  685.579,1378.85 685.579,1384.24 686.67,1384.24 686.67,1378.85 685.579,1378.85 \n  \"/>\n<path clip-path=\"url(#clip392)\" d=\"\nM686.67 1381.55 L686.67 1384.24 L687.76 1384.24 L687.76 1381.55 L686.67 1381.55 L686.67 1381.55  Z\n  \" fill=\"#009af9\" fill-rule=\"evenodd\" fill-opacity=\"1\"/>\n<polyline clip-path=\"url(#clip392)\" style=\"stroke:#000000; stroke-linecap:butt; stroke-linejoin:round; stroke-width:4; stroke-opacity:1; fill:none\" points=\"\n  686.67,1381.55 686.67,1384.24 687.76,1384.24 687.76,1381.55 686.67,1381.55 \n  \"/>\n<path clip-path=\"url(#clip392)\" d=\"\nM687.76 1378.85 L687.76 1384.24 L688.85 1384.24 L688.85 1378.85 L687.76 1378.85 L687.76 1378.85  Z\n  \" fill=\"#009af9\" fill-rule=\"evenodd\" fill-opacity=\"1\"/>\n<polyline clip-path=\"url(#clip392)\" style=\"stroke:#000000; stroke-linecap:butt; stroke-linejoin:round; stroke-width:4; stroke-opacity:1; fill:none\" points=\"\n  687.76,1378.85 687.76,1384.24 688.85,1384.24 688.85,1378.85 687.76,1378.85 \n  \"/>\n<path clip-path=\"url(#clip392)\" d=\"\nM688.85 1365.39 L688.85 1384.24 L689.941 1384.24 L689.941 1365.39 L688.85 1365.39 L688.85 1365.39  Z\n  \" fill=\"#009af9\" fill-rule=\"evenodd\" fill-opacity=\"1\"/>\n<polyline clip-path=\"url(#clip392)\" style=\"stroke:#000000; stroke-linecap:butt; stroke-linejoin:round; stroke-width:4; stroke-opacity:1; fill:none\" points=\"\n  688.85,1365.39 688.85,1384.24 689.941,1384.24 689.941,1365.39 688.85,1365.39 \n  \"/>\n<path clip-path=\"url(#clip392)\" d=\"\nM689.941 1368.08 L689.941 1384.24 L691.031 1384.24 L691.031 1368.08 L689.941 1368.08 L689.941 1368.08  Z\n  \" fill=\"#009af9\" fill-rule=\"evenodd\" fill-opacity=\"1\"/>\n<polyline clip-path=\"url(#clip392)\" style=\"stroke:#000000; stroke-linecap:butt; stroke-linejoin:round; stroke-width:4; stroke-opacity:1; fill:none\" points=\"\n  689.941,1368.08 689.941,1384.24 691.031,1384.24 691.031,1368.08 689.941,1368.08 \n  \"/>\n<path clip-path=\"url(#clip392)\" d=\"\nM691.031 1357.31 L691.031 1384.24 L692.122 1384.24 L692.122 1357.31 L691.031 1357.31 L691.031 1357.31  Z\n  \" fill=\"#009af9\" fill-rule=\"evenodd\" fill-opacity=\"1\"/>\n<polyline clip-path=\"url(#clip392)\" style=\"stroke:#000000; stroke-linecap:butt; stroke-linejoin:round; stroke-width:4; stroke-opacity:1; fill:none\" points=\"\n  691.031,1357.31 691.031,1384.24 692.122,1384.24 692.122,1357.31 691.031,1357.31 \n  \"/>\n<path clip-path=\"url(#clip392)\" d=\"\nM692.122 1343.84 L692.122 1384.24 L693.212 1384.24 L693.212 1343.84 L692.122 1343.84 L692.122 1343.84  Z\n  \" fill=\"#009af9\" fill-rule=\"evenodd\" fill-opacity=\"1\"/>\n<polyline clip-path=\"url(#clip392)\" style=\"stroke:#000000; stroke-linecap:butt; stroke-linejoin:round; stroke-width:4; stroke-opacity:1; fill:none\" points=\"\n  692.122,1343.84 692.122,1384.24 693.212,1384.24 693.212,1343.84 692.122,1343.84 \n  \"/>\n<path clip-path=\"url(#clip392)\" d=\"\nM693.212 1319.6 L693.212 1384.24 L694.302 1384.24 L694.302 1319.6 L693.212 1319.6 L693.212 1319.6  Z\n  \" fill=\"#009af9\" fill-rule=\"evenodd\" fill-opacity=\"1\"/>\n<polyline clip-path=\"url(#clip392)\" style=\"stroke:#000000; stroke-linecap:butt; stroke-linejoin:round; stroke-width:4; stroke-opacity:1; fill:none\" points=\"\n  693.212,1319.6 693.212,1384.24 694.302,1384.24 694.302,1319.6 693.212,1319.6 \n  \"/>\n<path clip-path=\"url(#clip392)\" d=\"\nM694.302 1319.6 L694.302 1384.24 L695.393 1384.24 L695.393 1319.6 L694.302 1319.6 L694.302 1319.6  Z\n  \" fill=\"#009af9\" fill-rule=\"evenodd\" fill-opacity=\"1\"/>\n<polyline clip-path=\"url(#clip392)\" style=\"stroke:#000000; stroke-linecap:butt; stroke-linejoin:round; stroke-width:4; stroke-opacity:1; fill:none\" points=\"\n  694.302,1319.6 694.302,1384.24 695.393,1384.24 695.393,1319.6 694.302,1319.6 \n  \"/>\n<path clip-path=\"url(#clip392)\" d=\"\nM695.393 1279.21 L695.393 1384.24 L696.483 1384.24 L696.483 1279.21 L695.393 1279.21 L695.393 1279.21  Z\n  \" fill=\"#009af9\" fill-rule=\"evenodd\" fill-opacity=\"1\"/>\n<polyline clip-path=\"url(#clip392)\" style=\"stroke:#000000; stroke-linecap:butt; stroke-linejoin:round; stroke-width:4; stroke-opacity:1; fill:none\" points=\"\n  695.393,1279.21 695.393,1384.24 696.483,1384.24 696.483,1279.21 695.393,1279.21 \n  \"/>\n<path clip-path=\"url(#clip392)\" d=\"\nM696.483 1228.04 L696.483 1384.24 L697.573 1384.24 L697.573 1228.04 L696.483 1228.04 L696.483 1228.04  Z\n  \" fill=\"#009af9\" fill-rule=\"evenodd\" fill-opacity=\"1\"/>\n<polyline clip-path=\"url(#clip392)\" style=\"stroke:#000000; stroke-linecap:butt; stroke-linejoin:round; stroke-width:4; stroke-opacity:1; fill:none\" points=\"\n  696.483,1228.04 696.483,1384.24 697.573,1384.24 697.573,1228.04 696.483,1228.04 \n  \"/>\n<path clip-path=\"url(#clip392)\" d=\"\nM697.573 1228.04 L697.573 1384.24 L698.664 1384.24 L698.664 1228.04 L697.573 1228.04 L697.573 1228.04  Z\n  \" fill=\"#009af9\" fill-rule=\"evenodd\" fill-opacity=\"1\"/>\n<polyline clip-path=\"url(#clip392)\" style=\"stroke:#000000; stroke-linecap:butt; stroke-linejoin:round; stroke-width:4; stroke-opacity:1; fill:none\" points=\"\n  697.573,1228.04 697.573,1384.24 698.664,1384.24 698.664,1228.04 697.573,1228.04 \n  \"/>\n<path clip-path=\"url(#clip392)\" d=\"\nM698.664 1222.65 L698.664 1384.24 L699.754 1384.24 L699.754 1222.65 L698.664 1222.65 L698.664 1222.65  Z\n  \" fill=\"#009af9\" fill-rule=\"evenodd\" fill-opacity=\"1\"/>\n<polyline clip-path=\"url(#clip392)\" style=\"stroke:#000000; stroke-linecap:butt; stroke-linejoin:round; stroke-width:4; stroke-opacity:1; fill:none\" points=\"\n  698.664,1222.65 698.664,1384.24 699.754,1384.24 699.754,1222.65 698.664,1222.65 \n  \"/>\n<path clip-path=\"url(#clip392)\" d=\"\nM699.754 1166.1 L699.754 1384.24 L700.845 1384.24 L700.845 1166.1 L699.754 1166.1 L699.754 1166.1  Z\n  \" fill=\"#009af9\" fill-rule=\"evenodd\" fill-opacity=\"1\"/>\n<polyline clip-path=\"url(#clip392)\" style=\"stroke:#000000; stroke-linecap:butt; stroke-linejoin:round; stroke-width:4; stroke-opacity:1; fill:none\" points=\"\n  699.754,1166.1 699.754,1384.24 700.845,1384.24 700.845,1166.1 699.754,1166.1 \n  \"/>\n<path clip-path=\"url(#clip392)\" d=\"\nM700.845 1069.15 L700.845 1384.24 L701.935 1384.24 L701.935 1069.15 L700.845 1069.15 L700.845 1069.15  Z\n  \" fill=\"#009af9\" fill-rule=\"evenodd\" fill-opacity=\"1\"/>\n<polyline clip-path=\"url(#clip392)\" style=\"stroke:#000000; stroke-linecap:butt; stroke-linejoin:round; stroke-width:4; stroke-opacity:1; fill:none\" points=\"\n  700.845,1069.15 700.845,1384.24 701.935,1384.24 701.935,1069.15 700.845,1069.15 \n  \"/>\n<path clip-path=\"url(#clip392)\" d=\"\nM701.935 974.894 L701.935 1384.24 L703.025 1384.24 L703.025 974.894 L701.935 974.894 L701.935 974.894  Z\n  \" fill=\"#009af9\" fill-rule=\"evenodd\" fill-opacity=\"1\"/>\n<polyline clip-path=\"url(#clip392)\" style=\"stroke:#000000; stroke-linecap:butt; stroke-linejoin:round; stroke-width:4; stroke-opacity:1; fill:none\" points=\"\n  701.935,974.894 701.935,1384.24 703.025,1384.24 703.025,974.894 701.935,974.894 \n  \"/>\n<path clip-path=\"url(#clip392)\" d=\"\nM703.025 899.488 L703.025 1384.24 L704.116 1384.24 L704.116 899.488 L703.025 899.488 L703.025 899.488  Z\n  \" fill=\"#009af9\" fill-rule=\"evenodd\" fill-opacity=\"1\"/>\n<polyline clip-path=\"url(#clip392)\" style=\"stroke:#000000; stroke-linecap:butt; stroke-linejoin:round; stroke-width:4; stroke-opacity:1; fill:none\" points=\"\n  703.025,899.488 703.025,1384.24 704.116,1384.24 704.116,899.488 703.025,899.488 \n  \"/>\n<path clip-path=\"url(#clip392)\" d=\"\nM704.116 883.33 L704.116 1384.24 L705.206 1384.24 L705.206 883.33 L704.116 883.33 L704.116 883.33  Z\n  \" fill=\"#009af9\" fill-rule=\"evenodd\" fill-opacity=\"1\"/>\n<polyline clip-path=\"url(#clip392)\" style=\"stroke:#000000; stroke-linecap:butt; stroke-linejoin:round; stroke-width:4; stroke-opacity:1; fill:none\" points=\"\n  704.116,883.33 704.116,1384.24 705.206,1384.24 705.206,883.33 704.116,883.33 \n  \"/>\n<path clip-path=\"url(#clip392)\" d=\"\nM705.206 791.766 L705.206 1384.24 L706.296 1384.24 L706.296 791.766 L705.206 791.766 L705.206 791.766  Z\n  \" fill=\"#009af9\" fill-rule=\"evenodd\" fill-opacity=\"1\"/>\n<polyline clip-path=\"url(#clip392)\" style=\"stroke:#000000; stroke-linecap:butt; stroke-linejoin:round; stroke-width:4; stroke-opacity:1; fill:none\" points=\"\n  705.206,791.766 705.206,1384.24 706.296,1384.24 706.296,791.766 705.206,791.766 \n  \"/>\n<path clip-path=\"url(#clip392)\" d=\"\nM706.296 745.984 L706.296 1384.24 L707.387 1384.24 L707.387 745.984 L706.296 745.984 L706.296 745.984  Z\n  \" fill=\"#009af9\" fill-rule=\"evenodd\" fill-opacity=\"1\"/>\n<polyline clip-path=\"url(#clip392)\" style=\"stroke:#000000; stroke-linecap:butt; stroke-linejoin:round; stroke-width:4; stroke-opacity:1; fill:none\" points=\"\n  706.296,745.984 706.296,1384.24 707.387,1384.24 707.387,745.984 706.296,745.984 \n  \"/>\n<path clip-path=\"url(#clip392)\" d=\"\nM707.387 651.727 L707.387 1384.24 L708.477 1384.24 L708.477 651.727 L707.387 651.727 L707.387 651.727  Z\n  \" fill=\"#009af9\" fill-rule=\"evenodd\" fill-opacity=\"1\"/>\n<polyline clip-path=\"url(#clip392)\" style=\"stroke:#000000; stroke-linecap:butt; stroke-linejoin:round; stroke-width:4; stroke-opacity:1; fill:none\" points=\"\n  707.387,651.727 707.387,1384.24 708.477,1384.24 708.477,651.727 707.387,651.727 \n  \"/>\n<path clip-path=\"url(#clip392)\" d=\"\nM708.477 597.866 L708.477 1384.24 L709.567 1384.24 L709.567 597.866 L708.477 597.866 L708.477 597.866  Z\n  \" fill=\"#009af9\" fill-rule=\"evenodd\" fill-opacity=\"1\"/>\n<polyline clip-path=\"url(#clip392)\" style=\"stroke:#000000; stroke-linecap:butt; stroke-linejoin:round; stroke-width:4; stroke-opacity:1; fill:none\" points=\"\n  708.477,597.866 708.477,1384.24 709.567,1384.24 709.567,597.866 708.477,597.866 \n  \"/>\n<path clip-path=\"url(#clip392)\" d=\"\nM709.567 403.966 L709.567 1384.24 L710.658 1384.24 L710.658 403.966 L709.567 403.966 L709.567 403.966  Z\n  \" fill=\"#009af9\" fill-rule=\"evenodd\" fill-opacity=\"1\"/>\n<polyline clip-path=\"url(#clip392)\" style=\"stroke:#000000; stroke-linecap:butt; stroke-linejoin:round; stroke-width:4; stroke-opacity:1; fill:none\" points=\"\n  709.567,403.966 709.567,1384.24 710.658,1384.24 710.658,403.966 709.567,403.966 \n  \"/>\n<path clip-path=\"url(#clip392)\" d=\"\nM710.658 282.779 L710.658 1384.24 L711.748 1384.24 L711.748 282.779 L710.658 282.779 L710.658 282.779  Z\n  \" fill=\"#009af9\" fill-rule=\"evenodd\" fill-opacity=\"1\"/>\n<polyline clip-path=\"url(#clip392)\" style=\"stroke:#000000; stroke-linecap:butt; stroke-linejoin:round; stroke-width:4; stroke-opacity:1; fill:none\" points=\"\n  710.658,282.779 710.658,1384.24 711.748,1384.24 711.748,282.779 710.658,282.779 \n  \"/>\n<path clip-path=\"url(#clip392)\" d=\"\nM711.748 304.323 L711.748 1384.24 L712.839 1384.24 L712.839 304.323 L711.748 304.323 L711.748 304.323  Z\n  \" fill=\"#009af9\" fill-rule=\"evenodd\" fill-opacity=\"1\"/>\n<polyline clip-path=\"url(#clip392)\" style=\"stroke:#000000; stroke-linecap:butt; stroke-linejoin:round; stroke-width:4; stroke-opacity:1; fill:none\" points=\"\n  711.748,304.323 711.748,1384.24 712.839,1384.24 712.839,304.323 711.748,304.323 \n  \"/>\n<path clip-path=\"url(#clip392)\" d=\"\nM712.839 218.145 L712.839 1384.24 L713.929 1384.24 L713.929 218.145 L712.839 218.145 L712.839 218.145  Z\n  \" fill=\"#009af9\" fill-rule=\"evenodd\" fill-opacity=\"1\"/>\n<polyline clip-path=\"url(#clip392)\" style=\"stroke:#000000; stroke-linecap:butt; stroke-linejoin:round; stroke-width:4; stroke-opacity:1; fill:none\" points=\"\n  712.839,218.145 712.839,1384.24 713.929,1384.24 713.929,218.145 712.839,218.145 \n  \"/>\n<path clip-path=\"url(#clip392)\" d=\"\nM713.929 86.1857 L713.929 1384.24 L715.019 1384.24 L715.019 86.1857 L713.929 86.1857 L713.929 86.1857  Z\n  \" fill=\"#009af9\" fill-rule=\"evenodd\" fill-opacity=\"1\"/>\n<polyline clip-path=\"url(#clip392)\" style=\"stroke:#000000; stroke-linecap:butt; stroke-linejoin:round; stroke-width:4; stroke-opacity:1; fill:none\" points=\"\n  713.929,86.1857 713.929,1384.24 715.019,1384.24 715.019,86.1857 713.929,86.1857 \n  \"/>\n<path clip-path=\"url(#clip392)\" d=\"\nM715.019 121.195 L715.019 1384.24 L716.11 1384.24 L716.11 121.195 L715.019 121.195 L715.019 121.195  Z\n  \" fill=\"#009af9\" fill-rule=\"evenodd\" fill-opacity=\"1\"/>\n<polyline clip-path=\"url(#clip392)\" style=\"stroke:#000000; stroke-linecap:butt; stroke-linejoin:round; stroke-width:4; stroke-opacity:1; fill:none\" points=\"\n  715.019,121.195 715.019,1384.24 716.11,1384.24 716.11,121.195 715.019,121.195 \n  \"/>\n<path clip-path=\"url(#clip392)\" d=\"\nM716.11 207.373 L716.11 1384.24 L717.2 1384.24 L717.2 207.373 L716.11 207.373 L716.11 207.373  Z\n  \" fill=\"#009af9\" fill-rule=\"evenodd\" fill-opacity=\"1\"/>\n<polyline clip-path=\"url(#clip392)\" style=\"stroke:#000000; stroke-linecap:butt; stroke-linejoin:round; stroke-width:4; stroke-opacity:1; fill:none\" points=\"\n  716.11,207.373 716.11,1384.24 717.2,1384.24 717.2,207.373 716.11,207.373 \n  \"/>\n<path clip-path=\"url(#clip392)\" d=\"\nM717.2 177.75 L717.2 1384.24 L718.29 1384.24 L718.29 177.75 L717.2 177.75 L717.2 177.75  Z\n  \" fill=\"#009af9\" fill-rule=\"evenodd\" fill-opacity=\"1\"/>\n<polyline clip-path=\"url(#clip392)\" style=\"stroke:#000000; stroke-linecap:butt; stroke-linejoin:round; stroke-width:4; stroke-opacity:1; fill:none\" points=\"\n  717.2,177.75 717.2,1384.24 718.29,1384.24 718.29,177.75 717.2,177.75 \n  \"/>\n<path clip-path=\"url(#clip392)\" d=\"\nM718.29 253.155 L718.29 1384.24 L719.381 1384.24 L719.381 253.155 L718.29 253.155 L718.29 253.155  Z\n  \" fill=\"#009af9\" fill-rule=\"evenodd\" fill-opacity=\"1\"/>\n<polyline clip-path=\"url(#clip392)\" style=\"stroke:#000000; stroke-linecap:butt; stroke-linejoin:round; stroke-width:4; stroke-opacity:1; fill:none\" points=\"\n  718.29,253.155 718.29,1384.24 719.381,1384.24 719.381,253.155 718.29,253.155 \n  \"/>\n<path clip-path=\"url(#clip392)\" d=\"\nM719.381 153.512 L719.381 1384.24 L720.471 1384.24 L720.471 153.512 L719.381 153.512 L719.381 153.512  Z\n  \" fill=\"#009af9\" fill-rule=\"evenodd\" fill-opacity=\"1\"/>\n<polyline clip-path=\"url(#clip392)\" style=\"stroke:#000000; stroke-linecap:butt; stroke-linejoin:round; stroke-width:4; stroke-opacity:1; fill:none\" points=\"\n  719.381,153.512 719.381,1384.24 720.471,1384.24 720.471,153.512 719.381,153.512 \n  \"/>\n<path clip-path=\"url(#clip392)\" d=\"\nM720.471 269.313 L720.471 1384.24 L721.562 1384.24 L721.562 269.313 L720.471 269.313 L720.471 269.313  Z\n  \" fill=\"#009af9\" fill-rule=\"evenodd\" fill-opacity=\"1\"/>\n<polyline clip-path=\"url(#clip392)\" style=\"stroke:#000000; stroke-linecap:butt; stroke-linejoin:round; stroke-width:4; stroke-opacity:1; fill:none\" points=\"\n  720.471,269.313 720.471,1384.24 721.562,1384.24 721.562,269.313 720.471,269.313 \n  \"/>\n<path clip-path=\"url(#clip392)\" d=\"\nM721.562 336.64 L721.562 1384.24 L722.652 1384.24 L722.652 336.64 L721.562 336.64 L721.562 336.64  Z\n  \" fill=\"#009af9\" fill-rule=\"evenodd\" fill-opacity=\"1\"/>\n<polyline clip-path=\"url(#clip392)\" style=\"stroke:#000000; stroke-linecap:butt; stroke-linejoin:round; stroke-width:4; stroke-opacity:1; fill:none\" points=\"\n  721.562,336.64 721.562,1384.24 722.652,1384.24 722.652,336.64 721.562,336.64 \n  \"/>\n<path clip-path=\"url(#clip392)\" d=\"\nM722.652 277.393 L722.652 1384.24 L723.742 1384.24 L723.742 277.393 L722.652 277.393 L722.652 277.393  Z\n  \" fill=\"#009af9\" fill-rule=\"evenodd\" fill-opacity=\"1\"/>\n<polyline clip-path=\"url(#clip392)\" style=\"stroke:#000000; stroke-linecap:butt; stroke-linejoin:round; stroke-width:4; stroke-opacity:1; fill:none\" points=\"\n  722.652,277.393 722.652,1384.24 723.742,1384.24 723.742,277.393 722.652,277.393 \n  \"/>\n<path clip-path=\"url(#clip392)\" d=\"\nM723.742 460.52 L723.742 1384.24 L724.833 1384.24 L724.833 460.52 L723.742 460.52 L723.742 460.52  Z\n  \" fill=\"#009af9\" fill-rule=\"evenodd\" fill-opacity=\"1\"/>\n<polyline clip-path=\"url(#clip392)\" style=\"stroke:#000000; stroke-linecap:butt; stroke-linejoin:round; stroke-width:4; stroke-opacity:1; fill:none\" points=\"\n  723.742,460.52 723.742,1384.24 724.833,1384.24 724.833,460.52 723.742,460.52 \n  \"/>\n<path clip-path=\"url(#clip392)\" d=\"\nM724.833 503.609 L724.833 1384.24 L725.923 1384.24 L725.923 503.609 L724.833 503.609 L724.833 503.609  Z\n  \" fill=\"#009af9\" fill-rule=\"evenodd\" fill-opacity=\"1\"/>\n<polyline clip-path=\"url(#clip392)\" style=\"stroke:#000000; stroke-linecap:butt; stroke-linejoin:round; stroke-width:4; stroke-opacity:1; fill:none\" points=\"\n  724.833,503.609 724.833,1384.24 725.923,1384.24 725.923,503.609 724.833,503.609 \n  \"/>\n<path clip-path=\"url(#clip392)\" d=\"\nM725.923 614.024 L725.923 1384.24 L727.013 1384.24 L727.013 614.024 L725.923 614.024 L725.923 614.024  Z\n  \" fill=\"#009af9\" fill-rule=\"evenodd\" fill-opacity=\"1\"/>\n<polyline clip-path=\"url(#clip392)\" style=\"stroke:#000000; stroke-linecap:butt; stroke-linejoin:round; stroke-width:4; stroke-opacity:1; fill:none\" points=\"\n  725.923,614.024 725.923,1384.24 727.013,1384.24 727.013,614.024 725.923,614.024 \n  \"/>\n<path clip-path=\"url(#clip392)\" d=\"\nM727.013 713.668 L727.013 1384.24 L728.104 1384.24 L728.104 713.668 L727.013 713.668 L727.013 713.668  Z\n  \" fill=\"#009af9\" fill-rule=\"evenodd\" fill-opacity=\"1\"/>\n<polyline clip-path=\"url(#clip392)\" style=\"stroke:#000000; stroke-linecap:butt; stroke-linejoin:round; stroke-width:4; stroke-opacity:1; fill:none\" points=\"\n  727.013,713.668 727.013,1384.24 728.104,1384.24 728.104,713.668 727.013,713.668 \n  \"/>\n<path clip-path=\"url(#clip392)\" d=\"\nM728.104 840.241 L728.104 1384.24 L729.194 1384.24 L729.194 840.241 L728.104 840.241 L728.104 840.241  Z\n  \" fill=\"#009af9\" fill-rule=\"evenodd\" fill-opacity=\"1\"/>\n<polyline clip-path=\"url(#clip392)\" style=\"stroke:#000000; stroke-linecap:butt; stroke-linejoin:round; stroke-width:4; stroke-opacity:1; fill:none\" points=\"\n  728.104,840.241 728.104,1384.24 729.194,1384.24 729.194,840.241 728.104,840.241 \n  \"/>\n<path clip-path=\"url(#clip392)\" d=\"\nM729.194 842.934 L729.194 1384.24 L730.285 1384.24 L730.285 842.934 L729.194 842.934 L729.194 842.934  Z\n  \" fill=\"#009af9\" fill-rule=\"evenodd\" fill-opacity=\"1\"/>\n<polyline clip-path=\"url(#clip392)\" style=\"stroke:#000000; stroke-linecap:butt; stroke-linejoin:round; stroke-width:4; stroke-opacity:1; fill:none\" points=\"\n  729.194,842.934 729.194,1384.24 730.285,1384.24 730.285,842.934 729.194,842.934 \n  \"/>\n<path clip-path=\"url(#clip392)\" d=\"\nM730.285 977.587 L730.285 1384.24 L731.375 1384.24 L731.375 977.587 L730.285 977.587 L730.285 977.587  Z\n  \" fill=\"#009af9\" fill-rule=\"evenodd\" fill-opacity=\"1\"/>\n<polyline clip-path=\"url(#clip392)\" style=\"stroke:#000000; stroke-linecap:butt; stroke-linejoin:round; stroke-width:4; stroke-opacity:1; fill:none\" points=\"\n  730.285,977.587 730.285,1384.24 731.375,1384.24 731.375,977.587 730.285,977.587 \n  \"/>\n<path clip-path=\"url(#clip392)\" d=\"\nM731.375 1036.83 L731.375 1384.24 L732.465 1384.24 L732.465 1036.83 L731.375 1036.83 L731.375 1036.83  Z\n  \" fill=\"#009af9\" fill-rule=\"evenodd\" fill-opacity=\"1\"/>\n<polyline clip-path=\"url(#clip392)\" style=\"stroke:#000000; stroke-linecap:butt; stroke-linejoin:round; stroke-width:4; stroke-opacity:1; fill:none\" points=\"\n  731.375,1036.83 731.375,1384.24 732.465,1384.24 732.465,1036.83 731.375,1036.83 \n  \"/>\n<path clip-path=\"url(#clip392)\" d=\"\nM732.465 1052.99 L732.465 1384.24 L733.556 1384.24 L733.556 1052.99 L732.465 1052.99 L732.465 1052.99  Z\n  \" fill=\"#009af9\" fill-rule=\"evenodd\" fill-opacity=\"1\"/>\n<polyline clip-path=\"url(#clip392)\" style=\"stroke:#000000; stroke-linecap:butt; stroke-linejoin:round; stroke-width:4; stroke-opacity:1; fill:none\" points=\"\n  732.465,1052.99 732.465,1384.24 733.556,1384.24 733.556,1052.99 732.465,1052.99 \n  \"/>\n<path clip-path=\"url(#clip392)\" d=\"\nM733.556 1133.78 L733.556 1384.24 L734.646 1384.24 L734.646 1133.78 L733.556 1133.78 L733.556 1133.78  Z\n  \" fill=\"#009af9\" fill-rule=\"evenodd\" fill-opacity=\"1\"/>\n<polyline clip-path=\"url(#clip392)\" style=\"stroke:#000000; stroke-linecap:butt; stroke-linejoin:round; stroke-width:4; stroke-opacity:1; fill:none\" points=\"\n  733.556,1133.78 733.556,1384.24 734.646,1384.24 734.646,1133.78 733.556,1133.78 \n  \"/>\n<path clip-path=\"url(#clip392)\" d=\"\nM734.646 1187.65 L734.646 1384.24 L735.736 1384.24 L735.736 1187.65 L734.646 1187.65 L734.646 1187.65  Z\n  \" fill=\"#009af9\" fill-rule=\"evenodd\" fill-opacity=\"1\"/>\n<polyline clip-path=\"url(#clip392)\" style=\"stroke:#000000; stroke-linecap:butt; stroke-linejoin:round; stroke-width:4; stroke-opacity:1; fill:none\" points=\"\n  734.646,1187.65 734.646,1384.24 735.736,1384.24 735.736,1187.65 734.646,1187.65 \n  \"/>\n<path clip-path=\"url(#clip392)\" d=\"\nM735.736 1254.97 L735.736 1384.24 L736.827 1384.24 L736.827 1254.97 L735.736 1254.97 L735.736 1254.97  Z\n  \" fill=\"#009af9\" fill-rule=\"evenodd\" fill-opacity=\"1\"/>\n<polyline clip-path=\"url(#clip392)\" style=\"stroke:#000000; stroke-linecap:butt; stroke-linejoin:round; stroke-width:4; stroke-opacity:1; fill:none\" points=\"\n  735.736,1254.97 735.736,1384.24 736.827,1384.24 736.827,1254.97 735.736,1254.97 \n  \"/>\n<path clip-path=\"url(#clip392)\" d=\"\nM736.827 1236.12 L736.827 1384.24 L737.917 1384.24 L737.917 1236.12 L736.827 1236.12 L736.827 1236.12  Z\n  \" fill=\"#009af9\" fill-rule=\"evenodd\" fill-opacity=\"1\"/>\n<polyline clip-path=\"url(#clip392)\" style=\"stroke:#000000; stroke-linecap:butt; stroke-linejoin:round; stroke-width:4; stroke-opacity:1; fill:none\" points=\"\n  736.827,1236.12 736.827,1384.24 737.917,1384.24 737.917,1236.12 736.827,1236.12 \n  \"/>\n<path clip-path=\"url(#clip392)\" d=\"\nM737.917 1279.21 L737.917 1384.24 L739.008 1384.24 L739.008 1279.21 L737.917 1279.21 L737.917 1279.21  Z\n  \" fill=\"#009af9\" fill-rule=\"evenodd\" fill-opacity=\"1\"/>\n<polyline clip-path=\"url(#clip392)\" style=\"stroke:#000000; stroke-linecap:butt; stroke-linejoin:round; stroke-width:4; stroke-opacity:1; fill:none\" points=\"\n  737.917,1279.21 737.917,1384.24 739.008,1384.24 739.008,1279.21 737.917,1279.21 \n  \"/>\n<path clip-path=\"url(#clip392)\" d=\"\nM739.008 1303.45 L739.008 1384.24 L740.098 1384.24 L740.098 1303.45 L739.008 1303.45 L739.008 1303.45  Z\n  \" fill=\"#009af9\" fill-rule=\"evenodd\" fill-opacity=\"1\"/>\n<polyline clip-path=\"url(#clip392)\" style=\"stroke:#000000; stroke-linecap:butt; stroke-linejoin:round; stroke-width:4; stroke-opacity:1; fill:none\" points=\"\n  739.008,1303.45 739.008,1384.24 740.098,1384.24 740.098,1303.45 739.008,1303.45 \n  \"/>\n<path clip-path=\"url(#clip392)\" d=\"\nM740.098 1343.84 L740.098 1384.24 L741.188 1384.24 L741.188 1343.84 L740.098 1343.84 L740.098 1343.84  Z\n  \" fill=\"#009af9\" fill-rule=\"evenodd\" fill-opacity=\"1\"/>\n<polyline clip-path=\"url(#clip392)\" style=\"stroke:#000000; stroke-linecap:butt; stroke-linejoin:round; stroke-width:4; stroke-opacity:1; fill:none\" points=\"\n  740.098,1343.84 740.098,1384.24 741.188,1384.24 741.188,1343.84 740.098,1343.84 \n  \"/>\n<path clip-path=\"url(#clip392)\" d=\"\nM741.188 1327.68 L741.188 1384.24 L742.279 1384.24 L742.279 1327.68 L741.188 1327.68 L741.188 1327.68  Z\n  \" fill=\"#009af9\" fill-rule=\"evenodd\" fill-opacity=\"1\"/>\n<polyline clip-path=\"url(#clip392)\" style=\"stroke:#000000; stroke-linecap:butt; stroke-linejoin:round; stroke-width:4; stroke-opacity:1; fill:none\" points=\"\n  741.188,1327.68 741.188,1384.24 742.279,1384.24 742.279,1327.68 741.188,1327.68 \n  \"/>\n<path clip-path=\"url(#clip392)\" d=\"\nM742.279 1360 L742.279 1384.24 L743.369 1384.24 L743.369 1360 L742.279 1360 L742.279 1360  Z\n  \" fill=\"#009af9\" fill-rule=\"evenodd\" fill-opacity=\"1\"/>\n<polyline clip-path=\"url(#clip392)\" style=\"stroke:#000000; stroke-linecap:butt; stroke-linejoin:round; stroke-width:4; stroke-opacity:1; fill:none\" points=\"\n  742.279,1360 742.279,1384.24 743.369,1384.24 743.369,1360 742.279,1360 \n  \"/>\n<path clip-path=\"url(#clip392)\" d=\"\nM743.369 1368.08 L743.369 1384.24 L744.459 1384.24 L744.459 1368.08 L743.369 1368.08 L743.369 1368.08  Z\n  \" fill=\"#009af9\" fill-rule=\"evenodd\" fill-opacity=\"1\"/>\n<polyline clip-path=\"url(#clip392)\" style=\"stroke:#000000; stroke-linecap:butt; stroke-linejoin:round; stroke-width:4; stroke-opacity:1; fill:none\" points=\"\n  743.369,1368.08 743.369,1384.24 744.459,1384.24 744.459,1368.08 743.369,1368.08 \n  \"/>\n<path clip-path=\"url(#clip392)\" d=\"\nM744.459 1373.47 L744.459 1384.24 L745.55 1384.24 L745.55 1373.47 L744.459 1373.47 L744.459 1373.47  Z\n  \" fill=\"#009af9\" fill-rule=\"evenodd\" fill-opacity=\"1\"/>\n<polyline clip-path=\"url(#clip392)\" style=\"stroke:#000000; stroke-linecap:butt; stroke-linejoin:round; stroke-width:4; stroke-opacity:1; fill:none\" points=\"\n  744.459,1373.47 744.459,1384.24 745.55,1384.24 745.55,1373.47 744.459,1373.47 \n  \"/>\n<path clip-path=\"url(#clip392)\" d=\"\nM745.55 1370.77 L745.55 1384.24 L746.64 1384.24 L746.64 1370.77 L745.55 1370.77 L745.55 1370.77  Z\n  \" fill=\"#009af9\" fill-rule=\"evenodd\" fill-opacity=\"1\"/>\n<polyline clip-path=\"url(#clip392)\" style=\"stroke:#000000; stroke-linecap:butt; stroke-linejoin:round; stroke-width:4; stroke-opacity:1; fill:none\" points=\"\n  745.55,1370.77 745.55,1384.24 746.64,1384.24 746.64,1370.77 745.55,1370.77 \n  \"/>\n<path clip-path=\"url(#clip392)\" d=\"\nM746.64 1378.85 L746.64 1384.24 L747.73 1384.24 L747.73 1378.85 L746.64 1378.85 L746.64 1378.85  Z\n  \" fill=\"#009af9\" fill-rule=\"evenodd\" fill-opacity=\"1\"/>\n<polyline clip-path=\"url(#clip392)\" style=\"stroke:#000000; stroke-linecap:butt; stroke-linejoin:round; stroke-width:4; stroke-opacity:1; fill:none\" points=\"\n  746.64,1378.85 746.64,1384.24 747.73,1384.24 747.73,1378.85 746.64,1378.85 \n  \"/>\n<path clip-path=\"url(#clip392)\" d=\"\nM747.73 1381.55 L747.73 1384.24 L748.821 1384.24 L748.821 1381.55 L747.73 1381.55 L747.73 1381.55  Z\n  \" fill=\"#009af9\" fill-rule=\"evenodd\" fill-opacity=\"1\"/>\n<polyline clip-path=\"url(#clip392)\" style=\"stroke:#000000; stroke-linecap:butt; stroke-linejoin:round; stroke-width:4; stroke-opacity:1; fill:none\" points=\"\n  747.73,1381.55 747.73,1384.24 748.821,1384.24 748.821,1381.55 747.73,1381.55 \n  \"/>\n<path clip-path=\"url(#clip392)\" d=\"\nM748.821 1378.85 L748.821 1384.24 L749.911 1384.24 L749.911 1378.85 L748.821 1378.85 L748.821 1378.85  Z\n  \" fill=\"#009af9\" fill-rule=\"evenodd\" fill-opacity=\"1\"/>\n<polyline clip-path=\"url(#clip392)\" style=\"stroke:#000000; stroke-linecap:butt; stroke-linejoin:round; stroke-width:4; stroke-opacity:1; fill:none\" points=\"\n  748.821,1378.85 748.821,1384.24 749.911,1384.24 749.911,1378.85 748.821,1378.85 \n  \"/>\n<path clip-path=\"url(#clip392)\" d=\"\nM749.911 1381.55 L749.911 1384.24 L751.002 1384.24 L751.002 1381.55 L749.911 1381.55 L749.911 1381.55  Z\n  \" fill=\"#009af9\" fill-rule=\"evenodd\" fill-opacity=\"1\"/>\n<polyline clip-path=\"url(#clip392)\" style=\"stroke:#000000; stroke-linecap:butt; stroke-linejoin:round; stroke-width:4; stroke-opacity:1; fill:none\" points=\"\n  749.911,1381.55 749.911,1384.24 751.002,1384.24 751.002,1381.55 749.911,1381.55 \n  \"/>\n<path clip-path=\"url(#clip392)\" d=\"\nM751.002 1384.24 L751.002 1384.24 L752.092 1384.24 L752.092 1384.24 L751.002 1384.24 L751.002 1384.24  Z\n  \" fill=\"#009af9\" fill-rule=\"evenodd\" fill-opacity=\"1\"/>\n<polyline clip-path=\"url(#clip392)\" style=\"stroke:#000000; stroke-linecap:butt; stroke-linejoin:round; stroke-width:4; stroke-opacity:1; fill:none\" points=\"\n  751.002,1384.24 751.002,1384.24 752.092,1384.24 751.002,1384.24 \n  \"/>\n<path clip-path=\"url(#clip392)\" d=\"\nM752.092 1381.55 L752.092 1384.24 L753.182 1384.24 L753.182 1381.55 L752.092 1381.55 L752.092 1381.55  Z\n  \" fill=\"#009af9\" fill-rule=\"evenodd\" fill-opacity=\"1\"/>\n<polyline clip-path=\"url(#clip392)\" style=\"stroke:#000000; stroke-linecap:butt; stroke-linejoin:round; stroke-width:4; stroke-opacity:1; fill:none\" points=\"\n  752.092,1381.55 752.092,1384.24 753.182,1384.24 753.182,1381.55 752.092,1381.55 \n  \"/>\n<circle clip-path=\"url(#clip392)\" style=\"fill:#009af9; stroke:none; fill-opacity:0\" cx=\"678.492\" cy=\"1381.55\" r=\"2\"/>\n<circle clip-path=\"url(#clip392)\" style=\"fill:#009af9; stroke:none; fill-opacity:0\" cx=\"679.582\" cy=\"1384.24\" r=\"2\"/>\n<circle clip-path=\"url(#clip392)\" style=\"fill:#009af9; stroke:none; fill-opacity:0\" cx=\"680.673\" cy=\"1384.24\" r=\"2\"/>\n<circle clip-path=\"url(#clip392)\" style=\"fill:#009af9; stroke:none; fill-opacity:0\" cx=\"681.763\" cy=\"1384.24\" r=\"2\"/>\n<circle clip-path=\"url(#clip392)\" style=\"fill:#009af9; stroke:none; fill-opacity:0\" cx=\"682.853\" cy=\"1384.24\" r=\"2\"/>\n<circle clip-path=\"url(#clip392)\" style=\"fill:#009af9; stroke:none; fill-opacity:0\" cx=\"683.944\" cy=\"1373.47\" r=\"2\"/>\n<circle clip-path=\"url(#clip392)\" style=\"fill:#009af9; stroke:none; fill-opacity:0\" cx=\"685.034\" cy=\"1378.85\" r=\"2\"/>\n<circle clip-path=\"url(#clip392)\" style=\"fill:#009af9; stroke:none; fill-opacity:0\" cx=\"686.125\" cy=\"1378.85\" r=\"2\"/>\n<circle clip-path=\"url(#clip392)\" style=\"fill:#009af9; stroke:none; fill-opacity:0\" cx=\"687.215\" cy=\"1381.55\" r=\"2\"/>\n<circle clip-path=\"url(#clip392)\" style=\"fill:#009af9; stroke:none; fill-opacity:0\" cx=\"688.305\" cy=\"1378.85\" r=\"2\"/>\n<circle clip-path=\"url(#clip392)\" style=\"fill:#009af9; stroke:none; fill-opacity:0\" cx=\"689.396\" cy=\"1365.39\" r=\"2\"/>\n<circle clip-path=\"url(#clip392)\" style=\"fill:#009af9; stroke:none; fill-opacity:0\" cx=\"690.486\" cy=\"1368.08\" r=\"2\"/>\n<circle clip-path=\"url(#clip392)\" style=\"fill:#009af9; stroke:none; fill-opacity:0\" cx=\"691.576\" cy=\"1357.31\" r=\"2\"/>\n<circle clip-path=\"url(#clip392)\" style=\"fill:#009af9; stroke:none; fill-opacity:0\" cx=\"692.667\" cy=\"1343.84\" r=\"2\"/>\n<circle clip-path=\"url(#clip392)\" style=\"fill:#009af9; stroke:none; fill-opacity:0\" cx=\"693.757\" cy=\"1319.6\" r=\"2\"/>\n<circle clip-path=\"url(#clip392)\" style=\"fill:#009af9; stroke:none; fill-opacity:0\" cx=\"694.847\" cy=\"1319.6\" r=\"2\"/>\n<circle clip-path=\"url(#clip392)\" style=\"fill:#009af9; stroke:none; fill-opacity:0\" cx=\"695.938\" cy=\"1279.21\" r=\"2\"/>\n<circle clip-path=\"url(#clip392)\" style=\"fill:#009af9; stroke:none; fill-opacity:0\" cx=\"697.028\" cy=\"1228.04\" r=\"2\"/>\n<circle clip-path=\"url(#clip392)\" style=\"fill:#009af9; stroke:none; fill-opacity:0\" cx=\"698.119\" cy=\"1228.04\" r=\"2\"/>\n<circle clip-path=\"url(#clip392)\" style=\"fill:#009af9; stroke:none; fill-opacity:0\" cx=\"699.209\" cy=\"1222.65\" r=\"2\"/>\n<circle clip-path=\"url(#clip392)\" style=\"fill:#009af9; stroke:none; fill-opacity:0\" cx=\"700.299\" cy=\"1166.1\" r=\"2\"/>\n<circle clip-path=\"url(#clip392)\" style=\"fill:#009af9; stroke:none; fill-opacity:0\" cx=\"701.39\" cy=\"1069.15\" r=\"2\"/>\n<circle clip-path=\"url(#clip392)\" style=\"fill:#009af9; stroke:none; fill-opacity:0\" cx=\"702.48\" cy=\"974.894\" r=\"2\"/>\n<circle clip-path=\"url(#clip392)\" style=\"fill:#009af9; stroke:none; fill-opacity:0\" cx=\"703.57\" cy=\"899.488\" r=\"2\"/>\n<circle clip-path=\"url(#clip392)\" style=\"fill:#009af9; stroke:none; fill-opacity:0\" cx=\"704.661\" cy=\"883.33\" r=\"2\"/>\n<circle clip-path=\"url(#clip392)\" style=\"fill:#009af9; stroke:none; fill-opacity:0\" cx=\"705.751\" cy=\"791.766\" r=\"2\"/>\n<circle clip-path=\"url(#clip392)\" style=\"fill:#009af9; stroke:none; fill-opacity:0\" cx=\"706.842\" cy=\"745.984\" r=\"2\"/>\n<circle clip-path=\"url(#clip392)\" style=\"fill:#009af9; stroke:none; fill-opacity:0\" cx=\"707.932\" cy=\"651.727\" r=\"2\"/>\n<circle clip-path=\"url(#clip392)\" style=\"fill:#009af9; stroke:none; fill-opacity:0\" cx=\"709.022\" cy=\"597.866\" r=\"2\"/>\n<circle clip-path=\"url(#clip392)\" style=\"fill:#009af9; stroke:none; fill-opacity:0\" cx=\"710.113\" cy=\"403.966\" r=\"2\"/>\n<circle clip-path=\"url(#clip392)\" style=\"fill:#009af9; stroke:none; fill-opacity:0\" cx=\"711.203\" cy=\"282.779\" r=\"2\"/>\n<circle clip-path=\"url(#clip392)\" style=\"fill:#009af9; stroke:none; fill-opacity:0\" cx=\"712.293\" cy=\"304.323\" r=\"2\"/>\n<circle clip-path=\"url(#clip392)\" style=\"fill:#009af9; stroke:none; fill-opacity:0\" cx=\"713.384\" cy=\"218.145\" r=\"2\"/>\n<circle clip-path=\"url(#clip392)\" style=\"fill:#009af9; stroke:none; fill-opacity:0\" cx=\"714.474\" cy=\"86.1857\" r=\"2\"/>\n<circle clip-path=\"url(#clip392)\" style=\"fill:#009af9; stroke:none; fill-opacity:0\" cx=\"715.565\" cy=\"121.195\" r=\"2\"/>\n<circle clip-path=\"url(#clip392)\" style=\"fill:#009af9; stroke:none; fill-opacity:0\" cx=\"716.655\" cy=\"207.373\" r=\"2\"/>\n<circle clip-path=\"url(#clip392)\" style=\"fill:#009af9; stroke:none; fill-opacity:0\" cx=\"717.745\" cy=\"177.75\" r=\"2\"/>\n<circle clip-path=\"url(#clip392)\" style=\"fill:#009af9; stroke:none; fill-opacity:0\" cx=\"718.836\" cy=\"253.155\" r=\"2\"/>\n<circle clip-path=\"url(#clip392)\" style=\"fill:#009af9; stroke:none; fill-opacity:0\" cx=\"719.926\" cy=\"153.512\" r=\"2\"/>\n<circle clip-path=\"url(#clip392)\" style=\"fill:#009af9; stroke:none; fill-opacity:0\" cx=\"721.016\" cy=\"269.313\" r=\"2\"/>\n<circle clip-path=\"url(#clip392)\" style=\"fill:#009af9; stroke:none; fill-opacity:0\" cx=\"722.107\" cy=\"336.64\" r=\"2\"/>\n<circle clip-path=\"url(#clip392)\" style=\"fill:#009af9; stroke:none; fill-opacity:0\" cx=\"723.197\" cy=\"277.393\" r=\"2\"/>\n<circle clip-path=\"url(#clip392)\" style=\"fill:#009af9; stroke:none; fill-opacity:0\" cx=\"724.287\" cy=\"460.52\" r=\"2\"/>\n<circle clip-path=\"url(#clip392)\" style=\"fill:#009af9; stroke:none; fill-opacity:0\" cx=\"725.378\" cy=\"503.609\" r=\"2\"/>\n<circle clip-path=\"url(#clip392)\" style=\"fill:#009af9; stroke:none; fill-opacity:0\" cx=\"726.468\" cy=\"614.024\" r=\"2\"/>\n<circle clip-path=\"url(#clip392)\" style=\"fill:#009af9; stroke:none; fill-opacity:0\" cx=\"727.559\" cy=\"713.668\" r=\"2\"/>\n<circle clip-path=\"url(#clip392)\" style=\"fill:#009af9; stroke:none; fill-opacity:0\" cx=\"728.649\" cy=\"840.241\" r=\"2\"/>\n<circle clip-path=\"url(#clip392)\" style=\"fill:#009af9; stroke:none; fill-opacity:0\" cx=\"729.739\" cy=\"842.934\" r=\"2\"/>\n<circle clip-path=\"url(#clip392)\" style=\"fill:#009af9; stroke:none; fill-opacity:0\" cx=\"730.83\" cy=\"977.587\" r=\"2\"/>\n<circle clip-path=\"url(#clip392)\" style=\"fill:#009af9; stroke:none; fill-opacity:0\" cx=\"731.92\" cy=\"1036.83\" r=\"2\"/>\n<circle clip-path=\"url(#clip392)\" style=\"fill:#009af9; stroke:none; fill-opacity:0\" cx=\"733.01\" cy=\"1052.99\" r=\"2\"/>\n<circle clip-path=\"url(#clip392)\" style=\"fill:#009af9; stroke:none; fill-opacity:0\" cx=\"734.101\" cy=\"1133.78\" r=\"2\"/>\n<circle clip-path=\"url(#clip392)\" style=\"fill:#009af9; stroke:none; fill-opacity:0\" cx=\"735.191\" cy=\"1187.65\" r=\"2\"/>\n<circle clip-path=\"url(#clip392)\" style=\"fill:#009af9; stroke:none; fill-opacity:0\" cx=\"736.282\" cy=\"1254.97\" r=\"2\"/>\n<circle clip-path=\"url(#clip392)\" style=\"fill:#009af9; stroke:none; fill-opacity:0\" cx=\"737.372\" cy=\"1236.12\" r=\"2\"/>\n<circle clip-path=\"url(#clip392)\" style=\"fill:#009af9; stroke:none; fill-opacity:0\" cx=\"738.462\" cy=\"1279.21\" r=\"2\"/>\n<circle clip-path=\"url(#clip392)\" style=\"fill:#009af9; stroke:none; fill-opacity:0\" cx=\"739.553\" cy=\"1303.45\" r=\"2\"/>\n<circle clip-path=\"url(#clip392)\" style=\"fill:#009af9; stroke:none; fill-opacity:0\" cx=\"740.643\" cy=\"1343.84\" r=\"2\"/>\n<circle clip-path=\"url(#clip392)\" style=\"fill:#009af9; stroke:none; fill-opacity:0\" cx=\"741.733\" cy=\"1327.68\" r=\"2\"/>\n<circle clip-path=\"url(#clip392)\" style=\"fill:#009af9; stroke:none; fill-opacity:0\" cx=\"742.824\" cy=\"1360\" r=\"2\"/>\n<circle clip-path=\"url(#clip392)\" style=\"fill:#009af9; stroke:none; fill-opacity:0\" cx=\"743.914\" cy=\"1368.08\" r=\"2\"/>\n<circle clip-path=\"url(#clip392)\" style=\"fill:#009af9; stroke:none; fill-opacity:0\" cx=\"745.005\" cy=\"1373.47\" r=\"2\"/>\n<circle clip-path=\"url(#clip392)\" style=\"fill:#009af9; stroke:none; fill-opacity:0\" cx=\"746.095\" cy=\"1370.77\" r=\"2\"/>\n<circle clip-path=\"url(#clip392)\" style=\"fill:#009af9; stroke:none; fill-opacity:0\" cx=\"747.185\" cy=\"1378.85\" r=\"2\"/>\n<circle clip-path=\"url(#clip392)\" style=\"fill:#009af9; stroke:none; fill-opacity:0\" cx=\"748.276\" cy=\"1381.55\" r=\"2\"/>\n<circle clip-path=\"url(#clip392)\" style=\"fill:#009af9; stroke:none; fill-opacity:0\" cx=\"749.366\" cy=\"1378.85\" r=\"2\"/>\n<circle clip-path=\"url(#clip392)\" style=\"fill:#009af9; stroke:none; fill-opacity:0\" cx=\"750.456\" cy=\"1381.55\" r=\"2\"/>\n<circle clip-path=\"url(#clip392)\" style=\"fill:#009af9; stroke:none; fill-opacity:0\" cx=\"751.547\" cy=\"1384.24\" r=\"2\"/>\n<circle clip-path=\"url(#clip392)\" style=\"fill:#009af9; stroke:none; fill-opacity:0\" cx=\"752.637\" cy=\"1381.55\" r=\"2\"/>\n</svg>\n"
     },
     "execution_count": 33,
     "metadata": {},
     "output_type": "execute_result"
    }
   ],
   "source": [
    "using Plots\n",
    "let\n",
    "\tp = histogram(v, xlims=(0,1), label=\"\", xlabel=\"Hamming distance\")\n",
    "end"
   ]
  }
 ],
 "metadata": {
  "kernelspec": {
   "display_name": "Julia 1.7.3",
   "language": "julia",
   "name": "julia-1.7"
  },
  "language_info": {
   "file_extension": ".jl",
   "mimetype": "application/julia",
   "name": "julia",
   "version": "1.7.3"
  },
  "orig_nbformat": 4
 },
 "nbformat": 4,
 "nbformat_minor": 2
}

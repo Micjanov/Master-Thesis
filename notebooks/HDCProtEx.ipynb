{
 "cells": [
  {
   "cell_type": "markdown",
   "metadata": {},
   "source": [
    "https://www.kaggle.com/datasets/anuragupadhyaya/anticancer-peptides-data-set"
   ]
  },
  {
   "cell_type": "code",
   "execution_count": 1,
   "metadata": {},
   "outputs": [
    {
     "data": {
      "text/plain": [
       "hamming"
      ]
     },
     "execution_count": 1,
     "metadata": {},
     "output_type": "execute_result"
    }
   ],
   "source": [
    "using Random\n",
    "\n",
    "\"\"\"\n",
    "Construct a binary vector. By default 10000 elements long.\n",
    "\"\"\"\n",
    "bitHDV(N::Int=10000) = bitrand(N)\n",
    "\n",
    "\n",
    "\"\"\"\n",
    "Bundles binary hyperdimensional vectors based on the element-wise majority rule.\n",
    "\"\"\"\n",
    "function bitadd(vectors::BitVector ...)\n",
    "    v = reduce(.+, vectors)\n",
    "    n = length(vectors) / 2\n",
    "    x = [i > n ? 1 : i < n ? 0 : rand(0:1) for i in v]\n",
    "    return convert(BitVector, x)\n",
    "end\n",
    "\n",
    "\n",
    "\"\"\"\n",
    "Binds binary hyperdimensional vectors based on an element-wise XOR gate.\n",
    "\"\"\"\n",
    "bitbind(vectors::BitVector ...) =  reduce(.⊻, vectors)\n",
    "\n",
    "\n",
    "\"\"\"\n",
    "Permutes a binary hyperdimensional vector by an adjustable circular shift.\n",
    "\"\"\"\n",
    "bitperm(vector::BitVector, k::Int=1) = circshift(vector, k)\n",
    "\n",
    "\n",
    "\"\"\"\n",
    "Calculates the Hamming distance between two binary vectors.\n",
    "\"\"\"\n",
    "hamming(x::BitVector, y::BitVector) = sum(x .!= y)/length(x)"
   ]
  },
  {
   "cell_type": "code",
   "execution_count": 3,
   "metadata": {},
   "outputs": [
    {
     "data": {
      "text/html": [
       "<div class=\"data-frame\"><p>949 rows × 3 columns</p><table class=\"data-frame\"><thead><tr><th></th><th>ID</th><th>sequence</th><th>class</th></tr><tr><th></th><th title=\"Int64\">Int64</th><th title=\"String\">String</th><th title=\"String31\">String31</th></tr></thead><tbody><tr><th>1</th><td>1</td><td>AAWKWAWAKKWAKAKKWAKAA</td><td>mod. active</td></tr><tr><th>2</th><td>2</td><td>AIGKFLHSAKKFGKAFVGEIMNS</td><td>mod. active</td></tr><tr><th>3</th><td>3</td><td>AWKKWAKAWKWAKAKWWAKAA</td><td>mod. active</td></tr><tr><th>4</th><td>4</td><td>ESFSDWWKLLAE</td><td>mod. active</td></tr><tr><th>5</th><td>5</td><td>ETFADWWKLLAE</td><td>mod. active</td></tr><tr><th>6</th><td>6</td><td>ETFSDWWKLLAE</td><td>mod. active</td></tr><tr><th>7</th><td>7</td><td>FAKALAKLAKKLL</td><td>mod. active</td></tr><tr><th>8</th><td>8</td><td>FAKALKALLKALKAL</td><td>inactive - exp</td></tr><tr><th>9</th><td>9</td><td>FAKFLAKFLKKAL</td><td>mod. active</td></tr><tr><th>10</th><td>10</td><td>FAKIIAKIAKIAKKIL</td><td>inactive - exp</td></tr><tr><th>11</th><td>11</td><td>FAKKALKALKKL</td><td>inactive - exp</td></tr><tr><th>12</th><td>12</td><td>FAKKFAKKFKKFAKKFAKFAFAF</td><td>mod. active</td></tr><tr><th>13</th><td>13</td><td>FAKKLAKKLAKAAL</td><td>inactive - exp</td></tr><tr><th>14</th><td>14</td><td>FAKKLAKKLAKAL</td><td>inactive - exp</td></tr><tr><th>15</th><td>15</td><td>FAKKLAKKLAKLAL</td><td>inactive - exp</td></tr><tr><th>16</th><td>16</td><td>FAKKLAKKLAKLL</td><td>mod. active</td></tr><tr><th>17</th><td>17</td><td>FAKKLAKKLKKLAKKLAK</td><td>inactive - exp</td></tr><tr><th>18</th><td>18</td><td>FAKKLAKKLKKLAKKLAKKWKL</td><td>mod. active</td></tr><tr><th>19</th><td>19</td><td>FAKKLAKKLKKLAKKLAKLAKKL</td><td>mod. active</td></tr><tr><th>20</th><td>20</td><td>FAKKLAKKLKKLAKKLAKLALALKALALKAL</td><td>mod. active</td></tr><tr><th>21</th><td>21</td><td>FAKKLAKKLKKLAKKLIGAVLKV</td><td>mod. active</td></tr><tr><th>22</th><td>22</td><td>FAKKLAKKLKKLAKLALAK</td><td>mod. active</td></tr><tr><th>23</th><td>23</td><td>FAKKLAKKLKKLAKLALAL</td><td>inactive - exp</td></tr><tr><th>24</th><td>24</td><td>FAKKLAKKLL</td><td>mod. active</td></tr><tr><th>25</th><td>25</td><td>FAKKLAKLAKKALAL</td><td>inactive - exp</td></tr><tr><th>26</th><td>26</td><td>FAKKLAKLAKKL</td><td>inactive - exp</td></tr><tr><th>27</th><td>27</td><td>FAKKLAKLAKKLAKLAL</td><td>very active</td></tr><tr><th>28</th><td>28</td><td>FAKKLAKLAKKLAKLALAL</td><td>very active</td></tr><tr><th>29</th><td>29</td><td>FAKKLAKLAKKLLAL</td><td>mod. active</td></tr><tr><th>30</th><td>30</td><td>FAKKLAKLALKLAKL</td><td>inactive - exp</td></tr><tr><th>&vellip;</th><td>&vellip;</td><td>&vellip;</td><td>&vellip;</td></tr></tbody></table></div>"
      ],
      "text/latex": [
       "\\begin{tabular}{r|ccc}\n",
       "\t& ID & sequence & class\\\\\n",
       "\t\\hline\n",
       "\t& Int64 & String & String31\\\\\n",
       "\t\\hline\n",
       "\t1 & 1 & AAWKWAWAKKWAKAKKWAKAA & mod. active \\\\\n",
       "\t2 & 2 & AIGKFLHSAKKFGKAFVGEIMNS & mod. active \\\\\n",
       "\t3 & 3 & AWKKWAKAWKWAKAKWWAKAA & mod. active \\\\\n",
       "\t4 & 4 & ESFSDWWKLLAE & mod. active \\\\\n",
       "\t5 & 5 & ETFADWWKLLAE & mod. active \\\\\n",
       "\t6 & 6 & ETFSDWWKLLAE & mod. active \\\\\n",
       "\t7 & 7 & FAKALAKLAKKLL & mod. active \\\\\n",
       "\t8 & 8 & FAKALKALLKALKAL & inactive - exp \\\\\n",
       "\t9 & 9 & FAKFLAKFLKKAL & mod. active \\\\\n",
       "\t10 & 10 & FAKIIAKIAKIAKKIL & inactive - exp \\\\\n",
       "\t11 & 11 & FAKKALKALKKL & inactive - exp \\\\\n",
       "\t12 & 12 & FAKKFAKKFKKFAKKFAKFAFAF & mod. active \\\\\n",
       "\t13 & 13 & FAKKLAKKLAKAAL & inactive - exp \\\\\n",
       "\t14 & 14 & FAKKLAKKLAKAL & inactive - exp \\\\\n",
       "\t15 & 15 & FAKKLAKKLAKLAL & inactive - exp \\\\\n",
       "\t16 & 16 & FAKKLAKKLAKLL & mod. active \\\\\n",
       "\t17 & 17 & FAKKLAKKLKKLAKKLAK & inactive - exp \\\\\n",
       "\t18 & 18 & FAKKLAKKLKKLAKKLAKKWKL & mod. active \\\\\n",
       "\t19 & 19 & FAKKLAKKLKKLAKKLAKLAKKL & mod. active \\\\\n",
       "\t20 & 20 & FAKKLAKKLKKLAKKLAKLALALKALALKAL & mod. active \\\\\n",
       "\t21 & 21 & FAKKLAKKLKKLAKKLIGAVLKV & mod. active \\\\\n",
       "\t22 & 22 & FAKKLAKKLKKLAKLALAK & mod. active \\\\\n",
       "\t23 & 23 & FAKKLAKKLKKLAKLALAL & inactive - exp \\\\\n",
       "\t24 & 24 & FAKKLAKKLL & mod. active \\\\\n",
       "\t25 & 25 & FAKKLAKLAKKALAL & inactive - exp \\\\\n",
       "\t26 & 26 & FAKKLAKLAKKL & inactive - exp \\\\\n",
       "\t27 & 27 & FAKKLAKLAKKLAKLAL & very active \\\\\n",
       "\t28 & 28 & FAKKLAKLAKKLAKLALAL & very active \\\\\n",
       "\t29 & 29 & FAKKLAKLAKKLLAL & mod. active \\\\\n",
       "\t30 & 30 & FAKKLAKLALKLAKL & inactive - exp \\\\\n",
       "\t$\\dots$ & $\\dots$ & $\\dots$ & $\\dots$ \\\\\n",
       "\\end{tabular}\n"
      ],
      "text/plain": [
       "\u001b[1m949×3 DataFrame\u001b[0m\n",
       "\u001b[1m Row \u001b[0m│\u001b[1m ID    \u001b[0m\u001b[1m sequence                 \u001b[0m\u001b[1m class              \u001b[0m\n",
       "\u001b[1m     \u001b[0m│\u001b[90m Int64 \u001b[0m\u001b[90m String                   \u001b[0m\u001b[90m String31           \u001b[0m\n",
       "─────┼─────────────────────────────────────────────────────\n",
       "   1 │     1  AAWKWAWAKKWAKAKKWAKAA     mod. active\n",
       "   2 │     2  AIGKFLHSAKKFGKAFVGEIMNS   mod. active\n",
       "   3 │     3  AWKKWAKAWKWAKAKWWAKAA     mod. active\n",
       "   4 │     4  ESFSDWWKLLAE              mod. active\n",
       "   5 │     5  ETFADWWKLLAE              mod. active\n",
       "   6 │     6  ETFSDWWKLLAE              mod. active\n",
       "   7 │     7  FAKALAKLAKKLL             mod. active\n",
       "   8 │     8  FAKALKALLKALKAL           inactive - exp\n",
       "   9 │     9  FAKFLAKFLKKAL             mod. active\n",
       "  10 │    10  FAKIIAKIAKIAKKIL          inactive - exp\n",
       "  11 │    11  FAKKALKALKKL              inactive - exp\n",
       "  ⋮  │   ⋮               ⋮                      ⋮\n",
       " 940 │   940  YFSKGIPNVLRR              inactive - virtual\n",
       " 941 │   941  YGSIGLTNFGYLDKE           inactive - virtual\n",
       " 942 │   942  YKEPLKAVVKKLLEKE          inactive - virtual\n",
       " 943 │   943  YKKFRQLIQVN               inactive - virtual\n",
       " 944 │   944  YLADLFLAPQIHGAINRFQ       inactive - virtual\n",
       " 945 │   945  YLDKEVKLIKKMGNHLTNLRRVA   inactive - virtual\n",
       " 946 │   946  YLSESVETIKKLGDHITSLKKLW   inactive - virtual\n",
       " 947 │   947  YPIVDAAMRQLTETG           inactive - virtual\n",
       " 948 │   948  YQNIVKAVQYAARKLQ          inactive - virtual\n",
       " 949 │   949  YQQQKKYLGRMTE             inactive - virtual\n",
       "\u001b[36m                                           928 rows omitted\u001b[0m"
      ]
     },
     "execution_count": 3,
     "metadata": {},
     "output_type": "execute_result"
    }
   ],
   "source": [
    "using DataFrames, CSV\n",
    "data = CSV.read(\"ProtExdata/ACPs_Breast_cancer.csv\", DataFrame)"
   ]
  }
 ],
 "metadata": {
  "kernelspec": {
   "display_name": "Julia 1.7.3",
   "language": "julia",
   "name": "julia-1.7"
  },
  "language_info": {
   "file_extension": ".jl",
   "mimetype": "application/julia",
   "name": "julia",
   "version": "1.7.3"
  },
  "orig_nbformat": 4
 },
 "nbformat": 4,
 "nbformat_minor": 2
}

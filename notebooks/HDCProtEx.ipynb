{
 "cells": [
  {
   "cell_type": "markdown",
   "metadata": {},
   "source": [
    "https://www.kaggle.com/datasets/anuragupadhyaya/anticancer-peptides-data-set"
   ]
  },
  {
   "cell_type": "code",
   "execution_count": 42,
   "metadata": {},
   "outputs": [
    {
     "data": {
      "text/plain": [
       "hamming"
      ]
     },
     "execution_count": 42,
     "metadata": {},
     "output_type": "execute_result"
    }
   ],
   "source": [
    "using Random\n",
    "\n",
    "\"\"\"\n",
    "Construct a binary vector. By default 10000 elements long.\n",
    "\"\"\"\n",
    "bitHDV(N::Int=10000) = bitrand(N)\n",
    "\n",
    "\n",
    "\"\"\"\n",
    "Bundles binary hyperdimensional vectors based on the element-wise majority rule.\n",
    "\"\"\"\n",
    "function bitadd(vectors::BitVector ...)\n",
    "    v = reduce(.+, vectors)\n",
    "    n = length(vectors) / 2\n",
    "    x = [i > n ? 1 : i < n ? 0 : rand(0:1) for i in v]\n",
    "    return convert(BitVector, x)\n",
    "end\n",
    "\n",
    "\n",
    "\"\"\"\n",
    "Binds binary hyperdimensional vectors based on an element-wise XOR gate.\n",
    "\"\"\"\n",
    "bitbind(vectors::BitVector ...) =  reduce(.⊻, vectors)\n",
    "\n",
    "\n",
    "\"\"\"\n",
    "Permutes a binary hyperdimensional vector by an adjustable circular shift.\n",
    "\"\"\"\n",
    "bitperm(vector::BitVector, k::Int=1) = circshift(vector, k)\n",
    "\n",
    "\n",
    "\"\"\"\n",
    "Calculates the Hamming distance between two binary vectors.\n",
    "\"\"\"\n",
    "hamming(x::BitVector, y::BitVector) = sum(x .!= y)/length(x)"
   ]
  },
  {
   "cell_type": "code",
   "execution_count": 43,
   "metadata": {},
   "outputs": [
    {
     "data": {
      "text/html": [
       "<div class=\"data-frame\"><p>947 rows × 3 columns</p><table class=\"data-frame\"><thead><tr><th></th><th>ID</th><th>sequence</th><th>class</th></tr><tr><th></th><th title=\"Int64\">Int64</th><th title=\"String\">String</th><th title=\"String31\">String31</th></tr></thead><tbody><tr><th>1</th><td>1</td><td>AAWKWAWAKKWAKAKKWAKAA</td><td>mod. active</td></tr><tr><th>2</th><td>2</td><td>AIGKFLHSAKKFGKAFVGEIMNS</td><td>mod. active</td></tr><tr><th>3</th><td>3</td><td>AWKKWAKAWKWAKAKWWAKAA</td><td>mod. active</td></tr><tr><th>4</th><td>4</td><td>ESFSDWWKLLAE</td><td>mod. active</td></tr><tr><th>5</th><td>5</td><td>ETFADWWKLLAE</td><td>mod. active</td></tr><tr><th>6</th><td>6</td><td>ETFSDWWKLLAE</td><td>mod. active</td></tr><tr><th>7</th><td>7</td><td>FAKALAKLAKKLL</td><td>mod. active</td></tr><tr><th>8</th><td>8</td><td>FAKALKALLKALKAL</td><td>inactive - exp</td></tr><tr><th>9</th><td>9</td><td>FAKFLAKFLKKAL</td><td>mod. active</td></tr><tr><th>10</th><td>10</td><td>FAKIIAKIAKIAKKIL</td><td>inactive - exp</td></tr><tr><th>11</th><td>11</td><td>FAKKALKALKKL</td><td>inactive - exp</td></tr><tr><th>12</th><td>12</td><td>FAKKFAKKFKKFAKKFAKFAFAF</td><td>mod. active</td></tr><tr><th>13</th><td>13</td><td>FAKKLAKKLAKAAL</td><td>inactive - exp</td></tr><tr><th>14</th><td>14</td><td>FAKKLAKKLAKAL</td><td>inactive - exp</td></tr><tr><th>15</th><td>15</td><td>FAKKLAKKLAKLAL</td><td>inactive - exp</td></tr><tr><th>16</th><td>16</td><td>FAKKLAKKLAKLL</td><td>mod. active</td></tr><tr><th>17</th><td>17</td><td>FAKKLAKKLKKLAKKLAK</td><td>inactive - exp</td></tr><tr><th>18</th><td>18</td><td>FAKKLAKKLKKLAKKLAKKWKL</td><td>mod. active</td></tr><tr><th>19</th><td>19</td><td>FAKKLAKKLKKLAKKLAKLAKKL</td><td>mod. active</td></tr><tr><th>20</th><td>20</td><td>FAKKLAKKLKKLAKKLAKLALALKALALKAL</td><td>mod. active</td></tr><tr><th>21</th><td>21</td><td>FAKKLAKKLKKLAKKLIGAVLKV</td><td>mod. active</td></tr><tr><th>22</th><td>22</td><td>FAKKLAKKLKKLAKLALAK</td><td>mod. active</td></tr><tr><th>23</th><td>23</td><td>FAKKLAKKLKKLAKLALAL</td><td>inactive - exp</td></tr><tr><th>24</th><td>24</td><td>FAKKLAKKLL</td><td>mod. active</td></tr><tr><th>25</th><td>25</td><td>FAKKLAKLAKKALAL</td><td>inactive - exp</td></tr><tr><th>26</th><td>26</td><td>FAKKLAKLAKKL</td><td>inactive - exp</td></tr><tr><th>27</th><td>27</td><td>FAKKLAKLAKKLAKLAL</td><td>very active</td></tr><tr><th>28</th><td>28</td><td>FAKKLAKLAKKLAKLALAL</td><td>very active</td></tr><tr><th>29</th><td>29</td><td>FAKKLAKLAKKLLAL</td><td>mod. active</td></tr><tr><th>30</th><td>30</td><td>FAKKLAKLALKLAKL</td><td>inactive - exp</td></tr><tr><th>&vellip;</th><td>&vellip;</td><td>&vellip;</td><td>&vellip;</td></tr></tbody></table></div>"
      ],
      "text/latex": [
       "\\begin{tabular}{r|ccc}\n",
       "\t& ID & sequence & class\\\\\n",
       "\t\\hline\n",
       "\t& Int64 & String & String31\\\\\n",
       "\t\\hline\n",
       "\t1 & 1 & AAWKWAWAKKWAKAKKWAKAA & mod. active \\\\\n",
       "\t2 & 2 & AIGKFLHSAKKFGKAFVGEIMNS & mod. active \\\\\n",
       "\t3 & 3 & AWKKWAKAWKWAKAKWWAKAA & mod. active \\\\\n",
       "\t4 & 4 & ESFSDWWKLLAE & mod. active \\\\\n",
       "\t5 & 5 & ETFADWWKLLAE & mod. active \\\\\n",
       "\t6 & 6 & ETFSDWWKLLAE & mod. active \\\\\n",
       "\t7 & 7 & FAKALAKLAKKLL & mod. active \\\\\n",
       "\t8 & 8 & FAKALKALLKALKAL & inactive - exp \\\\\n",
       "\t9 & 9 & FAKFLAKFLKKAL & mod. active \\\\\n",
       "\t10 & 10 & FAKIIAKIAKIAKKIL & inactive - exp \\\\\n",
       "\t11 & 11 & FAKKALKALKKL & inactive - exp \\\\\n",
       "\t12 & 12 & FAKKFAKKFKKFAKKFAKFAFAF & mod. active \\\\\n",
       "\t13 & 13 & FAKKLAKKLAKAAL & inactive - exp \\\\\n",
       "\t14 & 14 & FAKKLAKKLAKAL & inactive - exp \\\\\n",
       "\t15 & 15 & FAKKLAKKLAKLAL & inactive - exp \\\\\n",
       "\t16 & 16 & FAKKLAKKLAKLL & mod. active \\\\\n",
       "\t17 & 17 & FAKKLAKKLKKLAKKLAK & inactive - exp \\\\\n",
       "\t18 & 18 & FAKKLAKKLKKLAKKLAKKWKL & mod. active \\\\\n",
       "\t19 & 19 & FAKKLAKKLKKLAKKLAKLAKKL & mod. active \\\\\n",
       "\t20 & 20 & FAKKLAKKLKKLAKKLAKLALALKALALKAL & mod. active \\\\\n",
       "\t21 & 21 & FAKKLAKKLKKLAKKLIGAVLKV & mod. active \\\\\n",
       "\t22 & 22 & FAKKLAKKLKKLAKLALAK & mod. active \\\\\n",
       "\t23 & 23 & FAKKLAKKLKKLAKLALAL & inactive - exp \\\\\n",
       "\t24 & 24 & FAKKLAKKLL & mod. active \\\\\n",
       "\t25 & 25 & FAKKLAKLAKKALAL & inactive - exp \\\\\n",
       "\t26 & 26 & FAKKLAKLAKKL & inactive - exp \\\\\n",
       "\t27 & 27 & FAKKLAKLAKKLAKLAL & very active \\\\\n",
       "\t28 & 28 & FAKKLAKLAKKLAKLALAL & very active \\\\\n",
       "\t29 & 29 & FAKKLAKLAKKLLAL & mod. active \\\\\n",
       "\t30 & 30 & FAKKLAKLALKLAKL & inactive - exp \\\\\n",
       "\t$\\dots$ & $\\dots$ & $\\dots$ & $\\dots$ \\\\\n",
       "\\end{tabular}\n"
      ],
      "text/plain": [
       "\u001b[1m947×3 DataFrame\u001b[0m\n",
       "\u001b[1m Row \u001b[0m│\u001b[1m ID    \u001b[0m\u001b[1m sequence                 \u001b[0m\u001b[1m class              \u001b[0m\n",
       "\u001b[1m     \u001b[0m│\u001b[90m Int64 \u001b[0m\u001b[90m String                   \u001b[0m\u001b[90m String31           \u001b[0m\n",
       "─────┼─────────────────────────────────────────────────────\n",
       "   1 │     1  AAWKWAWAKKWAKAKKWAKAA     mod. active\n",
       "   2 │     2  AIGKFLHSAKKFGKAFVGEIMNS   mod. active\n",
       "   3 │     3  AWKKWAKAWKWAKAKWWAKAA     mod. active\n",
       "   4 │     4  ESFSDWWKLLAE              mod. active\n",
       "   5 │     5  ETFADWWKLLAE              mod. active\n",
       "   6 │     6  ETFSDWWKLLAE              mod. active\n",
       "   7 │     7  FAKALAKLAKKLL             mod. active\n",
       "   8 │     8  FAKALKALLKALKAL           inactive - exp\n",
       "   9 │     9  FAKFLAKFLKKAL             mod. active\n",
       "  10 │    10  FAKIIAKIAKIAKKIL          inactive - exp\n",
       "  11 │    11  FAKKALKALKKL              inactive - exp\n",
       "  ⋮  │   ⋮               ⋮                      ⋮\n",
       " 938 │   940  YFSKGIPNVLRR              inactive - virtual\n",
       " 939 │   941  YGSIGLTNFGYLDKE           inactive - virtual\n",
       " 940 │   942  YKEPLKAVVKKLLEKE          inactive - virtual\n",
       " 941 │   943  YKKFRQLIQVN               inactive - virtual\n",
       " 942 │   944  YLADLFLAPQIHGAINRFQ       inactive - virtual\n",
       " 943 │   945  YLDKEVKLIKKMGNHLTNLRRVA   inactive - virtual\n",
       " 944 │   946  YLSESVETIKKLGDHITSLKKLW   inactive - virtual\n",
       " 945 │   947  YPIVDAAMRQLTETG           inactive - virtual\n",
       " 946 │   948  YQNIVKAVQYAARKLQ          inactive - virtual\n",
       " 947 │   949  YQQQKKYLGRMTE             inactive - virtual\n",
       "\u001b[36m                                           926 rows omitted\u001b[0m"
      ]
     },
     "execution_count": 43,
     "metadata": {},
     "output_type": "execute_result"
    }
   ],
   "source": [
    "using DataFrames, CSV\n",
    "data = CSV.read(\"ProtExdata/ACPs_Breast_cancer.csv\", DataFrame)"
   ]
  },
  {
   "cell_type": "code",
   "execution_count": 44,
   "metadata": {},
   "outputs": [
    {
     "data": {
      "text/plain": [
       "947-element Vector{Int64}:\n",
       " 2\n",
       " 2\n",
       " 2\n",
       " 2\n",
       " 2\n",
       " 2\n",
       " 2\n",
       " 3\n",
       " 2\n",
       " 3\n",
       " 3\n",
       " 2\n",
       " 3\n",
       " ⋮\n",
       " 4\n",
       " 4\n",
       " 4\n",
       " 4\n",
       " 4\n",
       " 4\n",
       " 4\n",
       " 4\n",
       " 4\n",
       " 4\n",
       " 4\n",
       " 4"
      ]
     },
     "execution_count": 44,
     "metadata": {},
     "output_type": "execute_result"
    }
   ],
   "source": [
    "unique(data.class)\n",
    "class_num = [i == \"very active\" ? 1 : i == \"mod. active\" ? 2 : i == \"inactive - exp\" ? 3 : 4 for i in data.class]\n",
    "data[!, :class_num] = class_num"
   ]
  },
  {
   "cell_type": "code",
   "execution_count": 52,
   "metadata": {},
   "outputs": [
    {
     "data": {
      "text/plain": [
       "Dict{Char, BitVector} with 26 entries:\n",
       "  'E' => [1, 1, 1, 1, 0, 0, 0, 0, 1, 1  …  1, 0, 0, 0, 0, 1, 1, 0, 1, 0]\n",
       "  'Z' => [0, 1, 0, 1, 1, 0, 1, 0, 1, 0  …  1, 1, 1, 0, 0, 1, 0, 1, 1, 0]\n",
       "  'X' => [1, 0, 1, 0, 1, 1, 0, 1, 1, 0  …  1, 0, 1, 0, 1, 0, 1, 1, 0, 0]\n",
       "  'C' => [0, 0, 1, 1, 1, 0, 1, 1, 1, 0  …  1, 1, 0, 1, 0, 0, 1, 1, 0, 1]\n",
       "  'B' => [1, 1, 1, 1, 1, 0, 0, 1, 0, 1  …  0, 0, 0, 1, 0, 0, 0, 0, 0, 0]\n",
       "  'D' => [1, 1, 1, 1, 0, 1, 1, 0, 1, 1  …  1, 1, 0, 1, 0, 1, 0, 0, 1, 0]\n",
       "  'A' => [0, 1, 0, 1, 0, 0, 1, 0, 0, 1  …  1, 1, 0, 0, 1, 1, 0, 1, 1, 1]\n",
       "  'R' => [0, 0, 0, 0, 0, 1, 0, 1, 0, 0  …  1, 0, 1, 0, 0, 1, 0, 0, 1, 1]\n",
       "  'G' => [1, 0, 1, 0, 0, 0, 0, 1, 0, 1  …  1, 1, 1, 1, 1, 0, 0, 0, 1, 0]\n",
       "  'N' => [1, 1, 1, 1, 0, 0, 0, 1, 1, 1  …  1, 1, 0, 1, 1, 0, 0, 1, 0, 0]\n",
       "  'Q' => [1, 0, 1, 1, 1, 0, 0, 1, 1, 1  …  0, 1, 1, 0, 1, 0, 1, 1, 1, 1]\n",
       "  'M' => [1, 0, 1, 0, 1, 0, 0, 0, 0, 0  …  1, 1, 1, 0, 0, 1, 1, 1, 1, 1]\n",
       "  'K' => [0, 1, 0, 0, 0, 0, 1, 1, 1, 1  …  0, 1, 0, 0, 0, 0, 1, 0, 1, 0]\n",
       "  'F' => [1, 0, 0, 0, 1, 1, 0, 1, 1, 0  …  0, 1, 0, 0, 1, 0, 1, 1, 0, 0]\n",
       "  'P' => [0, 1, 0, 0, 1, 1, 0, 1, 1, 0  …  1, 1, 1, 1, 0, 0, 1, 0, 1, 1]\n",
       "  'I' => [0, 0, 1, 0, 1, 0, 1, 1, 0, 0  …  1, 0, 0, 0, 0, 1, 1, 1, 0, 0]\n",
       "  'O' => [1, 1, 1, 1, 0, 1, 0, 1, 1, 0  …  1, 0, 0, 1, 0, 1, 0, 0, 1, 0]\n",
       "  'H' => [1, 1, 1, 1, 1, 0, 1, 0, 0, 1  …  0, 0, 1, 1, 0, 0, 1, 0, 0, 0]\n",
       "  'J' => [1, 1, 0, 0, 0, 1, 0, 0, 1, 0  …  0, 0, 1, 0, 0, 0, 1, 1, 1, 1]\n",
       "  'W' => [1, 1, 1, 0, 1, 1, 0, 0, 0, 1  …  1, 1, 1, 0, 0, 0, 1, 0, 1, 1]\n",
       "  'S' => [0, 1, 1, 0, 1, 0, 1, 0, 0, 0  …  1, 0, 0, 0, 1, 1, 1, 0, 0, 1]\n",
       "  'T' => [0, 1, 0, 1, 1, 1, 0, 1, 1, 1  …  1, 0, 0, 0, 1, 1, 0, 1, 0, 0]\n",
       "  'U' => [0, 1, 0, 1, 0, 0, 0, 1, 0, 1  …  1, 0, 1, 1, 0, 1, 0, 1, 0, 0]\n",
       "  'L' => [1, 0, 1, 1, 0, 0, 1, 1, 0, 0  …  1, 1, 0, 0, 0, 1, 1, 0, 0, 0]\n",
       "  'Y' => [1, 1, 1, 0, 1, 0, 0, 0, 0, 0  …  0, 1, 1, 1, 0, 0, 1, 1, 0, 0]\n",
       "  'V' => [1, 0, 1, 1, 1, 0, 1, 0, 0, 0  …  1, 1, 1, 0, 0, 0, 0, 0, 0, 1]"
      ]
     },
     "execution_count": 52,
     "metadata": {},
     "output_type": "execute_result"
    }
   ],
   "source": [
    "AA_list = ['A', 'R', 'N', 'D', 'C', 'Q', 'E', 'G', 'H', 'I', 'L', 'K', 'M', 'F', 'P', 'S', 'T', 'W', 'Y', 'V', 'O', 'U', 'B', 'J', 'Z', 'X']\n",
    "AA_hdv = [bitHDV() for i in AA_list]\n",
    "AA_dict = Dict(zip(AA_list, AA_hdv))"
   ]
  },
  {
   "cell_type": "code",
   "execution_count": 55,
   "metadata": {},
   "outputs": [
    {
     "data": {
      "text/plain": [
       "Dict{String, BitVector} with 17576 entries:\n",
       "  \"HTY\" => [1, 1, 1, 0, 1, 1, 1, 0, 1, 0  …  0, 0, 1, 0, 1, 0, 0, 0, 0, 1]\n",
       "  \"HBJ\" => [0, 1, 1, 1, 0, 1, 1, 1, 1, 1  …  1, 1, 1, 1, 0, 0, 1, 0, 1, 1]\n",
       "  \"MSW\" => [1, 1, 1, 0, 0, 1, 1, 0, 0, 0  …  0, 0, 0, 1, 1, 0, 0, 0, 0, 1]\n",
       "  \"BKI\" => [1, 1, 0, 1, 0, 0, 1, 0, 0, 1  …  1, 0, 0, 1, 0, 0, 0, 0, 1, 0]\n",
       "  \"ETI\" => [1, 1, 0, 1, 0, 1, 0, 0, 1, 1  …  0, 1, 1, 0, 0, 0, 0, 1, 1, 1]\n",
       "  \"OLQ\" => [0, 1, 0, 0, 0, 0, 1, 0, 0, 1  …  0, 0, 1, 0, 1, 1, 0, 1, 0, 1]\n",
       "  \"NMD\" => [1, 0, 0, 1, 1, 0, 0, 0, 0, 1  …  1, 1, 0, 1, 1, 1, 1, 1, 1, 1]\n",
       "  \"YVC\" => [0, 1, 1, 1, 1, 0, 1, 1, 1, 1  …  0, 0, 1, 1, 0, 1, 1, 1, 1, 1]\n",
       "  \"QPE\" => [1, 0, 1, 0, 0, 0, 1, 1, 0, 0  …  1, 1, 1, 1, 0, 0, 1, 1, 0, 0]\n",
       "  \"KIW\" => [1, 0, 1, 0, 1, 1, 0, 1, 0, 1  …  0, 0, 1, 1, 1, 0, 0, 1, 1, 0]\n",
       "  \"BPX\" => [0, 1, 1, 1, 0, 1, 0, 0, 1, 1  …  1, 0, 0, 0, 0, 0, 1, 1, 1, 0]\n",
       "  \"NLG\" => [0, 0, 0, 0, 0, 0, 0, 0, 0, 0  …  0, 1, 0, 0, 0, 1, 0, 0, 0, 0]\n",
       "  \"YWG\" => [1, 0, 1, 1, 0, 1, 1, 0, 0, 1  …  1, 1, 1, 1, 1, 1, 0, 0, 0, 1]\n",
       "  \"XAB\" => [0, 0, 1, 1, 1, 0, 1, 0, 1, 1  …  0, 1, 0, 0, 1, 0, 0, 1, 1, 1]\n",
       "  \"KHW\" => [1, 1, 0, 0, 0, 1, 0, 1, 1, 1  …  1, 1, 1, 0, 0, 0, 1, 1, 0, 0]\n",
       "  \"YNB\" => [1, 0, 1, 0, 1, 1, 1, 0, 1, 0  …  1, 0, 0, 1, 1, 0, 1, 1, 1, 0]\n",
       "  \"CSW\" => [0, 1, 1, 1, 0, 1, 0, 1, 1, 0  …  0, 0, 1, 0, 1, 1, 0, 0, 1, 1]\n",
       "  \"HID\" => [0, 1, 0, 1, 0, 0, 1, 0, 0, 1  …  1, 0, 0, 0, 0, 1, 0, 0, 1, 0]\n",
       "  \"MIH\" => [1, 0, 0, 0, 0, 0, 1, 1, 0, 0  …  0, 1, 1, 0, 1, 0, 0, 0, 1, 1]\n",
       "  \"ZWA\" => [0, 1, 1, 1, 1, 0, 0, 0, 0, 0  …  0, 0, 1, 0, 0, 1, 1, 1, 1, 0]\n",
       "  \"XOI\" => [1, 1, 0, 1, 1, 1, 0, 1, 1, 0  …  1, 1, 0, 0, 0, 0, 0, 0, 1, 0]\n",
       "  \"EVV\" => [0, 1, 0, 0, 0, 0, 1, 1, 0, 1  …  0, 0, 0, 0, 1, 1, 1, 0, 1, 0]\n",
       "  \"LHM\" => [0, 0, 1, 0, 0, 1, 0, 0, 0, 0  …  0, 0, 1, 0, 0, 1, 1, 0, 1, 1]\n",
       "  \"AVA\" => [0, 1, 0, 1, 1, 0, 1, 1, 1, 1  …  1, 0, 0, 0, 1, 1, 1, 0, 1, 0]\n",
       "  \"JBU\" => [1, 0, 1, 0, 1, 1, 0, 0, 0, 1  …  0, 1, 0, 0, 0, 1, 1, 0, 1, 0]\n",
       "  ⋮     => ⋮"
      ]
     },
     "execution_count": 55,
     "metadata": {},
     "output_type": "execute_result"
    }
   ],
   "source": [
    "trimer_hdvs = Dict(aa1 * aa2 * aa3 => bitbind(AA_dict[aa1], bitperm(AA_dict[aa2]), bitperm(AA_dict[aa3], 2)) for aa1 in AA_list for aa2 in AA_list for aa3 in AA_list)"
   ]
  }
 ],
 "metadata": {
  "kernelspec": {
   "display_name": "Julia 1.7.3",
   "language": "julia",
   "name": "julia-1.7"
  },
  "language_info": {
   "file_extension": ".jl",
   "mimetype": "application/julia",
   "name": "julia",
   "version": "1.7.3"
  },
  "orig_nbformat": 4
 },
 "nbformat": 4,
 "nbformat_minor": 2
}

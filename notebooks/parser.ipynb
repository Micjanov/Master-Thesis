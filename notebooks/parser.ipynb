{
 "cells": [
  {
   "cell_type": "code",
   "execution_count": 13,
   "metadata": {},
   "outputs": [
    {
     "data": {
      "text/plain": [
       "parse_textfile (generic function with 1 method)"
      ]
     },
     "metadata": {},
     "output_type": "display_data"
    }
   ],
   "source": [
    "using CSV\n",
    "using DataFrames\n",
    "using Plots\n",
    "\n",
    "function parse_textfile(file_path)\n",
    "    epochs = Int[]\n",
    "    train_losses = Float64[]\n",
    "    accuracies = Float64[]\n",
    "    f1_scores = Float64[]\n",
    "\n",
    "    open(file_path, \"r\") do file\n",
    "        for line in eachline(file)\n",
    "            if occursin(\"Epoch\", line)\n",
    "                fields = split(line, r\"[,=:]\")\n",
    "                epoch = parse(Int, split(split(fields[1], r\" \")[2], r\"/\")[1])\n",
    "                train_loss = parse(Float64, fields[3])\n",
    "                acc = parse(Float64, fields[5])\n",
    "                f1 = parse(Float64, fields[7])\n",
    "                push!(epochs, epoch)\n",
    "                push!(train_losses, train_loss)\n",
    "                push!(accuracies, acc)\n",
    "                push!(f1_scores, f1)\n",
    "            end\n",
    "        end\n",
    "    end\n",
    "\n",
    "    return epochs, train_losses, accuracies, f1_scores\n",
    "end"
   ]
  },
  {
   "cell_type": "code",
   "execution_count": 12,
   "metadata": {},
   "outputs": [
    {
     "data": {
      "text/plain": [
       "7-element Vector{SubString{String}}:\n",
       " \"Epoch 96/100\"\n",
       " \" train_loss\"\n",
       " \"24.0433\"\n",
       " \" acc\"\n",
       " \"0.5047\"\n",
       " \" f1\"\n",
       " \"0.4443\""
      ]
     },
     "metadata": {},
     "output_type": "display_data"
    }
   ],
   "source": [
    "line = \"Epoch 96/100: train_loss=24.0433, acc=0.5047, f1=0.4443\"\n",
    "split(line, r\"[,=:]\")"
   ]
  },
  {
   "cell_type": "code",
   "execution_count": 25,
   "metadata": {},
   "outputs": [
    {
     "data": {
      "text/plain": [
       "\"/home/mfat/Master-Thesis/thesis/Fig/slp_k100_dssp3_loss.png\""
      ]
     },
     "metadata": {},
     "output_type": "display_data"
    }
   ],
   "source": [
    "file_path = \"/home/mfat/Master-Thesis/data/SLP_GPU_lr3e-2_bs100_ep100_p0.5_dssp3_k100.o40326703\"  # Replace with the path to your text file\n",
    "epochs, train_losses, accuracies, f1_scores = parse_textfile(file_path)\n",
    "\n",
    "# Create a DataFrame\n",
    "df = DataFrame(Epoch=epochs, TrainLoss=train_losses, Accuracy=accuracies, F1Score=f1_scores)\n",
    "\n",
    "# Plot the data\n",
    "# Plot accuracy and f1_score\n",
    "accuracy_f1_plot = plot(df.Epoch, [df.Accuracy, df.F1Score],\n",
    "    label=[\"Accuracy\" \"F1 Score\"],\n",
    "    xlabel=\"Epoch\",\n",
    "    ylabel=\"Value\",\n",
    "    title=\"SLP-k100-dssp3: Accuracy & F1 Score\",\n",
    "    lw=2, dpi = 300, tickfont=font(14), guidefont=font(13))\n",
    "savefig(\"../thesis/Fig/slp_k100_dssp3_score.png\")\n",
    "\n",
    "# Plot train_loss\n",
    "train_loss_plot = plot(df.Epoch, df.TrainLoss,\n",
    "    label=\"Train Loss\",\n",
    "    xlabel=\"Epoch\",\n",
    "    ylabel=\"Value\",\n",
    "    title=\"SLP-k100-dssp3: Train Loss\",\n",
    "    lw=2, dpi = 300, tickfont=font(14), guidefont=font(13))\n",
    "    savefig(\"../thesis/Fig/slp_k100_dssp3_loss.png\")"
   ]
  }
 ],
 "metadata": {
  "kernelspec": {
   "display_name": "Julia 1.8.5",
   "language": "julia",
   "name": "julia-1.8"
  },
  "language_info": {
   "file_extension": ".jl",
   "mimetype": "application/julia",
   "name": "julia",
   "version": "1.8.5"
  },
  "orig_nbformat": 4
 },
 "nbformat": 4,
 "nbformat_minor": 2
}

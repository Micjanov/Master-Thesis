{
 "cells": [
  {
   "cell_type": "code",
   "execution_count": 3,
   "metadata": {},
   "outputs": [
    {
     "data": {
      "text/plain": [
       "parse_textfile (generic function with 1 method)"
      ]
     },
     "metadata": {},
     "output_type": "display_data"
    }
   ],
   "source": [
    "using CSV\n",
    "using DataFrames\n",
    "using Plots\n",
    "\n",
    "function parse_textfile(file_path)\n",
    "    epochs = Int[]\n",
    "    train_losses = Float64[]\n",
    "    accuracies = Float64[]\n",
    "    f1_scores = Float64[]\n",
    "\n",
    "    open(file_path, \"r\") do file\n",
    "        for line in eachline(file)\n",
    "            if occursin(\"Epoch\", line)\n",
    "                fields = split(line, r\"[,=:]\")\n",
    "                epoch = parse(Int, split(split(fields[1], r\" \")[2], r\"/\")[1])\n",
    "                train_loss = parse(Float64, fields[3])\n",
    "                acc = parse(Float64, fields[5])\n",
    "                f1 = parse(Float64, fields[7])\n",
    "                push!(epochs, epoch)\n",
    "                push!(train_losses, train_loss)\n",
    "                push!(accuracies, acc)\n",
    "                push!(f1_scores, f1)\n",
    "            end\n",
    "        end\n",
    "    end\n",
    "\n",
    "    return epochs, train_losses, accuracies, f1_scores\n",
    "end"
   ]
  },
  {
   "cell_type": "code",
   "execution_count": 12,
   "metadata": {},
   "outputs": [
    {
     "data": {
      "text/plain": [
       "7-element Vector{SubString{String}}:\n",
       " \"Epoch 96/100\"\n",
       " \" train_loss\"\n",
       " \"24.0433\"\n",
       " \" acc\"\n",
       " \"0.5047\"\n",
       " \" f1\"\n",
       " \"0.4443\""
      ]
     },
     "metadata": {},
     "output_type": "display_data"
    }
   ],
   "source": [
    "line = \"Epoch 96/100: train_loss=24.0433, acc=0.5047, f1=0.4443\"\n",
    "split(line, r\"[,=:]\")"
   ]
  },
  {
   "cell_type": "code",
   "execution_count": 7,
   "metadata": {},
   "outputs": [
    {
     "data": {
      "text/plain": [
       "\"/home/mfat/Master-Thesis/notebooks/f1_plot_100_8.png\""
      ]
     },
     "metadata": {},
     "output_type": "display_data"
    }
   ],
   "source": [
    "slp_25_3 = \"../data/SLP_GPU_lr3e-2_bs100_ep100_p0.5_dssp3_k25.o40326700\"\n",
    "slp_100_3 = \"../data/SLP_GPU_lr3e-2_bs100_ep100_p0.5_dssp3_k100.o40326703\"\n",
    "slp_25_8 = \"../data/SLP_GPU_lr3e-2_bs100_ep100_p0.5_dssp8_k25.o40326701\"\n",
    "slp_100_8 = \"../data/SLP_GPU_lr3e-2_bs100_ep100_p0.5_dssp8_k100.o40326702\"\n",
    "\n",
    "mlp_25_3 = \"../data/MLP_GPU_lr3e-3_bs128_ep50_p0.2_dssp3_k25_hl500.o15073249\"\n",
    "mlp_100_3 = \"../data/MLP_GPU_lr3e-3_bs128_ep50_p0.2_dssp3_k100_hl500.o15073238\"\n",
    "mlp_25_8 = \"../data/MLP_GPU_lr3e-3_bs128_ep50_p0.2_dssp8_k25_hl500.o15073250\"\n",
    "mlp_100_8 = \"../data/MLP_GPU_lr3e-3_bs128_ep50_p0.2_dssp8_k100_hl500.o15073237\"\n",
    "\n",
    "mlp10_25_3 = \"../data/MLP_GPU_lr1e-4_bs128_ep200_p0.6_dssp3_k25.o40326956\"\n",
    "mlp10_100_3 = \"../data/MLP_GPU_lr1e-4_bs128_ep200_p0.6_dssp3_k100.o40326954\"\n",
    "mlp10_25_8 = \"../data/MLP_GPU_lr1e-4_bs128_ep200_p0.6_dssp8_k25.o40326955\"\n",
    "mlp10_100_8 = \"../data/MLP_GPU_lr1e-4_bs128_ep200_p0.6_dssp8_k100.o40327006\"\n",
    "\n",
    "using Plots\n",
    "\n",
    "# Function to plot the losses, accuracies, and f1 scores\n",
    "function plot_metrics(slp_file, mlp_file, mlp10_file, title_suffix)\n",
    "    # Parse the files\n",
    "    slp_data = parse_textfile(slp_file)\n",
    "    mlp_data = parse_textfile(mlp_file)\n",
    "    mlp10_data = parse_textfile(mlp10_file)\n",
    "\n",
    "    # Plot losses\n",
    "    p1 = plot(slp_data[1], slp_data[2], label=\"SLP\", dpi = 300, ylabel = \"Loss\", xlabel = \"Epochs\")\n",
    "    plot!(p1, mlp_data[1], mlp_data[2], label=\"MLP\")\n",
    "    plot!(p1, mlp10_data[1], mlp10_data[2], label=\"MLP10\")\n",
    "    savefig(p1, \"loss_plot_$title_suffix.png\")\n",
    "\n",
    "    # Plot accuracies\n",
    "    p2 = plot(slp_data[1], slp_data[3], label=\"SLP\", dpi = 300, ylabel = \"Accuracy\", xlabel = \"Epochs\")\n",
    "    plot!(p2, mlp_data[1], mlp_data[3], label=\"MLP\")\n",
    "    plot!(p2, mlp10_data[1], mlp10_data[3], label=\"MLP10\")\n",
    "    savefig(p2, \"accuracy_plot_$title_suffix.png\")\n",
    "\n",
    "    # Plot F1 scores\n",
    "    p3 = plot(slp_data[1], slp_data[4], label=\"SLP\", dpi = 300, ylabel = \"F1-Score\", xlabel = \"Epochs\")\n",
    "    plot!(p3, mlp_data[1], mlp_data[4], label=\"MLP\")\n",
    "    plot!(p3, mlp10_data[1], mlp10_data[4], label=\"MLP10\")\n",
    "    savefig(p3, \"f1_plot_$title_suffix.png\")\n",
    "end\n",
    "\n",
    "# Generate the plots\n",
    "plot_metrics(slp_25_3, mlp_25_3, mlp10_25_3, \"25_3\")\n",
    "plot_metrics(slp_100_3, mlp_100_3, mlp10_100_3, \"100_3\")\n",
    "plot_metrics(slp_25_8, mlp_25_8, mlp10_25_8, \"25_8\")\n",
    "plot_metrics(slp_100_8, mlp_100_8, mlp10_100_8, \"100_8\")"
   ]
  }
 ],
 "metadata": {
  "kernelspec": {
   "display_name": "Julia 1.9.0",
   "language": "julia",
   "name": "julia-1.9"
  },
  "language_info": {
   "file_extension": ".jl",
   "mimetype": "application/julia",
   "name": "julia",
   "version": "1.9.0"
  },
  "orig_nbformat": 4
 },
 "nbformat": 4,
 "nbformat_minor": 2
}
